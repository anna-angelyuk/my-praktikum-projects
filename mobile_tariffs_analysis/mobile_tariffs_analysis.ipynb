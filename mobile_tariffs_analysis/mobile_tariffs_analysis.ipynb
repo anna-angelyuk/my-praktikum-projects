{
 "cells": [
  {
   "cell_type": "markdown",
   "metadata": {},
   "source": [
    "# Определение перспективного тарифа для телеком-компании\n",
    "\n",
    "Описание тарифов\n",
    "\n",
    "Тариф «Смарт»\n",
    "\n",
    " - Ежемесячная плата: 550 рублей\n",
    " - Включено 500 минут разговора, 50 сообщений и 15 Гб интернет-трафика\n",
    " - Стоимость услуг сверх тарифного пакета: \n",
    "     - минута разговора: 3 рубля\n",
    "     - сообщение: 3 рубля\n",
    "     - 1 Гб интернет-трафика: 200 рублей\n",
    "\n",
    "Тариф «Ультра»\n",
    "\n",
    " - Ежемесячная плата: 1950 рублей\n",
    " - Включено 3000 минут разговора, 1000 сообщений и 30 Гб интернет-трафика\n",
    " - Стоимость услуг сверх тарифного пакета:\n",
    "      - минута разговора: 1 рубль\n",
    "      - сообщение: 1 рубль\n",
    "      - 1 Гб интернет-трафика: 150 рублей\n",
    "      \n",
    "      Примечание:\n",
    "      \n",
    "- «Мегалайн» всегда округляет секунды до минут, а мегабайты — до гигабайт. Каждый звонок округляется отдельно: даже если он длился всего 1 секунду, будет засчитан как 1 минута.\n",
    "- Для веб-трафика отдельные сессии не считаются. Вместо этого общая сумма за месяц округляется в бо́льшую сторону. Если абонент использует 1025 мегабайт в этом месяце, с него возьмут плату за 2 гигабайта."
   ]
  },
  {
   "cell_type": "markdown",
   "metadata": {},
   "source": [
    "## Изучение данных из файлов"
   ]
  },
  {
   "cell_type": "code",
   "execution_count": 1,
   "metadata": {},
   "outputs": [],
   "source": [
    "import pandas as pd\n",
    "import numpy as np\n",
    "import matplotlib.pyplot as plt\n",
    "from scipy import stats as st"
   ]
  },
  {
   "cell_type": "code",
   "execution_count": 2,
   "metadata": {},
   "outputs": [],
   "source": [
    "users = pd.read_csv('/datasets/users.csv')\n",
    "tariffs = pd.read_csv('/datasets/tariffs.csv')\n",
    "messages = pd.read_csv('/datasets/messages.csv') \n",
    "internet = pd.read_csv('/datasets/internet.csv', index_col=0) \n",
    "calls = pd.read_csv('/datasets/calls.csv') "
   ]
  },
  {
   "cell_type": "markdown",
   "metadata": {},
   "source": [
    "### Вывод users"
   ]
  },
  {
   "cell_type": "code",
   "execution_count": 3,
   "metadata": {},
   "outputs": [
    {
     "data": {
      "text/html": [
       "<div>\n",
       "<style scoped>\n",
       "    .dataframe tbody tr th:only-of-type {\n",
       "        vertical-align: middle;\n",
       "    }\n",
       "\n",
       "    .dataframe tbody tr th {\n",
       "        vertical-align: top;\n",
       "    }\n",
       "\n",
       "    .dataframe thead th {\n",
       "        text-align: right;\n",
       "    }\n",
       "</style>\n",
       "<table border=\"1\" class=\"dataframe\">\n",
       "  <thead>\n",
       "    <tr style=\"text-align: right;\">\n",
       "      <th></th>\n",
       "      <th>user_id</th>\n",
       "      <th>age</th>\n",
       "      <th>churn_date</th>\n",
       "      <th>city</th>\n",
       "      <th>first_name</th>\n",
       "      <th>last_name</th>\n",
       "      <th>reg_date</th>\n",
       "      <th>tariff</th>\n",
       "    </tr>\n",
       "  </thead>\n",
       "  <tbody>\n",
       "    <tr>\n",
       "      <th>0</th>\n",
       "      <td>1000</td>\n",
       "      <td>52</td>\n",
       "      <td>NaN</td>\n",
       "      <td>Краснодар</td>\n",
       "      <td>Рафаил</td>\n",
       "      <td>Верещагин</td>\n",
       "      <td>2018-05-25</td>\n",
       "      <td>ultra</td>\n",
       "    </tr>\n",
       "    <tr>\n",
       "      <th>1</th>\n",
       "      <td>1001</td>\n",
       "      <td>41</td>\n",
       "      <td>NaN</td>\n",
       "      <td>Москва</td>\n",
       "      <td>Иван</td>\n",
       "      <td>Ежов</td>\n",
       "      <td>2018-11-01</td>\n",
       "      <td>smart</td>\n",
       "    </tr>\n",
       "    <tr>\n",
       "      <th>2</th>\n",
       "      <td>1002</td>\n",
       "      <td>59</td>\n",
       "      <td>NaN</td>\n",
       "      <td>Стерлитамак</td>\n",
       "      <td>Евгений</td>\n",
       "      <td>Абрамович</td>\n",
       "      <td>2018-06-17</td>\n",
       "      <td>smart</td>\n",
       "    </tr>\n",
       "    <tr>\n",
       "      <th>3</th>\n",
       "      <td>1003</td>\n",
       "      <td>23</td>\n",
       "      <td>NaN</td>\n",
       "      <td>Москва</td>\n",
       "      <td>Белла</td>\n",
       "      <td>Белякова</td>\n",
       "      <td>2018-08-17</td>\n",
       "      <td>ultra</td>\n",
       "    </tr>\n",
       "    <tr>\n",
       "      <th>4</th>\n",
       "      <td>1004</td>\n",
       "      <td>68</td>\n",
       "      <td>NaN</td>\n",
       "      <td>Новокузнецк</td>\n",
       "      <td>Татьяна</td>\n",
       "      <td>Авдеенко</td>\n",
       "      <td>2018-05-14</td>\n",
       "      <td>ultra</td>\n",
       "    </tr>\n",
       "  </tbody>\n",
       "</table>\n",
       "</div>"
      ],
      "text/plain": [
       "   user_id  age churn_date         city first_name  last_name    reg_date  \\\n",
       "0     1000   52        NaN    Краснодар     Рафаил  Верещагин  2018-05-25   \n",
       "1     1001   41        NaN       Москва       Иван       Ежов  2018-11-01   \n",
       "2     1002   59        NaN  Стерлитамак    Евгений  Абрамович  2018-06-17   \n",
       "3     1003   23        NaN       Москва      Белла   Белякова  2018-08-17   \n",
       "4     1004   68        NaN  Новокузнецк    Татьяна   Авдеенко  2018-05-14   \n",
       "\n",
       "  tariff  \n",
       "0  ultra  \n",
       "1  smart  \n",
       "2  smart  \n",
       "3  ultra  \n",
       "4  ultra  "
      ]
     },
     "execution_count": 3,
     "metadata": {},
     "output_type": "execute_result"
    }
   ],
   "source": [
    "users.head()"
   ]
  },
  {
   "cell_type": "code",
   "execution_count": 4,
   "metadata": {},
   "outputs": [
    {
     "name": "stdout",
     "output_type": "stream",
     "text": [
      "<class 'pandas.core.frame.DataFrame'>\n",
      "RangeIndex: 500 entries, 0 to 499\n",
      "Data columns (total 8 columns):\n",
      " #   Column      Non-Null Count  Dtype \n",
      "---  ------      --------------  ----- \n",
      " 0   user_id     500 non-null    int64 \n",
      " 1   age         500 non-null    int64 \n",
      " 2   churn_date  38 non-null     object\n",
      " 3   city        500 non-null    object\n",
      " 4   first_name  500 non-null    object\n",
      " 5   last_name   500 non-null    object\n",
      " 6   reg_date    500 non-null    object\n",
      " 7   tariff      500 non-null    object\n",
      "dtypes: int64(2), object(6)\n",
      "memory usage: 31.4+ KB\n"
     ]
    }
   ],
   "source": [
    "users.info()"
   ]
  },
  {
   "cell_type": "markdown",
   "metadata": {},
   "source": [
    "Тип данных - в порядке. Только 38 пользователей прекратили пользоваться тарифом. "
   ]
  },
  {
   "cell_type": "markdown",
   "metadata": {},
   "source": [
    "Описание данных Таблицы users:\n",
    "\n",
    "- user_id — уникальный идентификатор пользователя\n",
    "- first_name — имя пользователя\n",
    "- last_name — фамилия пользователя\n",
    "- age — возраст пользователя (годы)\n",
    "- reg_date — дата подключения тарифа (день, месяц, год)\n",
    "- churn_date — дата прекращения пользования тарифом (если значение пропущено, то тариф ещё действовал на момент выгрузки данных)\n",
    "- city — город проживания пользователя\n",
    "- tariff — название тарифного плана"
   ]
  },
  {
   "cell_type": "code",
   "execution_count": 5,
   "metadata": {},
   "outputs": [
    {
     "data": {
      "text/plain": [
       "smart    351\n",
       "ultra    149\n",
       "Name: tariff, dtype: int64"
      ]
     },
     "execution_count": 5,
     "metadata": {},
     "output_type": "execute_result"
    }
   ],
   "source": [
    "users['tariff'].value_counts() # количество пользователей по тарифам для информации"
   ]
  },
  {
   "cell_type": "markdown",
   "metadata": {},
   "source": [
    " ### Вывод tariffs"
   ]
  },
  {
   "cell_type": "code",
   "execution_count": 6,
   "metadata": {},
   "outputs": [
    {
     "data": {
      "text/html": [
       "<div>\n",
       "<style scoped>\n",
       "    .dataframe tbody tr th:only-of-type {\n",
       "        vertical-align: middle;\n",
       "    }\n",
       "\n",
       "    .dataframe tbody tr th {\n",
       "        vertical-align: top;\n",
       "    }\n",
       "\n",
       "    .dataframe thead th {\n",
       "        text-align: right;\n",
       "    }\n",
       "</style>\n",
       "<table border=\"1\" class=\"dataframe\">\n",
       "  <thead>\n",
       "    <tr style=\"text-align: right;\">\n",
       "      <th></th>\n",
       "      <th>messages_included</th>\n",
       "      <th>mb_per_month_included</th>\n",
       "      <th>minutes_included</th>\n",
       "      <th>rub_monthly_fee</th>\n",
       "      <th>rub_per_gb</th>\n",
       "      <th>rub_per_message</th>\n",
       "      <th>rub_per_minute</th>\n",
       "      <th>tariff_name</th>\n",
       "    </tr>\n",
       "  </thead>\n",
       "  <tbody>\n",
       "    <tr>\n",
       "      <th>0</th>\n",
       "      <td>50</td>\n",
       "      <td>15360</td>\n",
       "      <td>500</td>\n",
       "      <td>550</td>\n",
       "      <td>200</td>\n",
       "      <td>3</td>\n",
       "      <td>3</td>\n",
       "      <td>smart</td>\n",
       "    </tr>\n",
       "    <tr>\n",
       "      <th>1</th>\n",
       "      <td>1000</td>\n",
       "      <td>30720</td>\n",
       "      <td>3000</td>\n",
       "      <td>1950</td>\n",
       "      <td>150</td>\n",
       "      <td>1</td>\n",
       "      <td>1</td>\n",
       "      <td>ultra</td>\n",
       "    </tr>\n",
       "  </tbody>\n",
       "</table>\n",
       "</div>"
      ],
      "text/plain": [
       "   messages_included  mb_per_month_included  minutes_included  \\\n",
       "0                 50                  15360               500   \n",
       "1               1000                  30720              3000   \n",
       "\n",
       "   rub_monthly_fee  rub_per_gb  rub_per_message  rub_per_minute tariff_name  \n",
       "0              550         200                3               3       smart  \n",
       "1             1950         150                1               1       ultra  "
      ]
     },
     "execution_count": 6,
     "metadata": {},
     "output_type": "execute_result"
    }
   ],
   "source": [
    "tariffs.head()"
   ]
  },
  {
   "cell_type": "code",
   "execution_count": 7,
   "metadata": {},
   "outputs": [
    {
     "name": "stdout",
     "output_type": "stream",
     "text": [
      "<class 'pandas.core.frame.DataFrame'>\n",
      "RangeIndex: 2 entries, 0 to 1\n",
      "Data columns (total 8 columns):\n",
      " #   Column                 Non-Null Count  Dtype \n",
      "---  ------                 --------------  ----- \n",
      " 0   messages_included      2 non-null      int64 \n",
      " 1   mb_per_month_included  2 non-null      int64 \n",
      " 2   minutes_included       2 non-null      int64 \n",
      " 3   rub_monthly_fee        2 non-null      int64 \n",
      " 4   rub_per_gb             2 non-null      int64 \n",
      " 5   rub_per_message        2 non-null      int64 \n",
      " 6   rub_per_minute         2 non-null      int64 \n",
      " 7   tariff_name            2 non-null      object\n",
      "dtypes: int64(7), object(1)\n",
      "memory usage: 256.0+ bytes\n"
     ]
    }
   ],
   "source": [
    "tariffs.info()"
   ]
  },
  {
   "cell_type": "code",
   "execution_count": 8,
   "metadata": {},
   "outputs": [
    {
     "data": {
      "text/html": [
       "<div>\n",
       "<style scoped>\n",
       "    .dataframe tbody tr th:only-of-type {\n",
       "        vertical-align: middle;\n",
       "    }\n",
       "\n",
       "    .dataframe tbody tr th {\n",
       "        vertical-align: top;\n",
       "    }\n",
       "\n",
       "    .dataframe thead th {\n",
       "        text-align: right;\n",
       "    }\n",
       "</style>\n",
       "<table border=\"1\" class=\"dataframe\">\n",
       "  <thead>\n",
       "    <tr style=\"text-align: right;\">\n",
       "      <th></th>\n",
       "      <th>messages_included</th>\n",
       "      <th>mb_per_month_included</th>\n",
       "      <th>minutes_included</th>\n",
       "      <th>rub_monthly_fee</th>\n",
       "      <th>rub_per_gb</th>\n",
       "      <th>rub_per_message</th>\n",
       "      <th>rub_per_minute</th>\n",
       "      <th>tariff</th>\n",
       "      <th>gb_per_month_included</th>\n",
       "    </tr>\n",
       "  </thead>\n",
       "  <tbody>\n",
       "    <tr>\n",
       "      <th>0</th>\n",
       "      <td>50</td>\n",
       "      <td>15360</td>\n",
       "      <td>500</td>\n",
       "      <td>550</td>\n",
       "      <td>200</td>\n",
       "      <td>3</td>\n",
       "      <td>3</td>\n",
       "      <td>smart</td>\n",
       "      <td>15</td>\n",
       "    </tr>\n",
       "    <tr>\n",
       "      <th>1</th>\n",
       "      <td>1000</td>\n",
       "      <td>30720</td>\n",
       "      <td>3000</td>\n",
       "      <td>1950</td>\n",
       "      <td>150</td>\n",
       "      <td>1</td>\n",
       "      <td>1</td>\n",
       "      <td>ultra</td>\n",
       "      <td>30</td>\n",
       "    </tr>\n",
       "  </tbody>\n",
       "</table>\n",
       "</div>"
      ],
      "text/plain": [
       "   messages_included  mb_per_month_included  minutes_included  \\\n",
       "0                 50                  15360               500   \n",
       "1               1000                  30720              3000   \n",
       "\n",
       "   rub_monthly_fee  rub_per_gb  rub_per_message  rub_per_minute tariff  \\\n",
       "0              550         200                3               3  smart   \n",
       "1             1950         150                1               1  ultra   \n",
       "\n",
       "   gb_per_month_included  \n",
       "0                     15  \n",
       "1                     30  "
      ]
     },
     "execution_count": 8,
     "metadata": {},
     "output_type": "execute_result"
    }
   ],
   "source": [
    "tariffs = tariffs.rename(columns= {'tariff_name': 'tariff'})\n",
    "tariffs['gb_per_month_included'] = (tariffs['mb_per_month_included'] / 1024).astype(int) # переведем мб в гб\n",
    "tariffs.head()"
   ]
  },
  {
   "cell_type": "markdown",
   "metadata": {},
   "source": [
    "Здесь параметры тарифов smart и ultra. Заменила сразу название колонки tariff и перевела мб в гб"
   ]
  },
  {
   "cell_type": "markdown",
   "metadata": {},
   "source": [
    " ### Вывод messages"
   ]
  },
  {
   "cell_type": "code",
   "execution_count": 9,
   "metadata": {},
   "outputs": [
    {
     "data": {
      "text/html": [
       "<div>\n",
       "<style scoped>\n",
       "    .dataframe tbody tr th:only-of-type {\n",
       "        vertical-align: middle;\n",
       "    }\n",
       "\n",
       "    .dataframe tbody tr th {\n",
       "        vertical-align: top;\n",
       "    }\n",
       "\n",
       "    .dataframe thead th {\n",
       "        text-align: right;\n",
       "    }\n",
       "</style>\n",
       "<table border=\"1\" class=\"dataframe\">\n",
       "  <thead>\n",
       "    <tr style=\"text-align: right;\">\n",
       "      <th></th>\n",
       "      <th>id</th>\n",
       "      <th>message_date</th>\n",
       "      <th>user_id</th>\n",
       "    </tr>\n",
       "  </thead>\n",
       "  <tbody>\n",
       "    <tr>\n",
       "      <th>0</th>\n",
       "      <td>1000_0</td>\n",
       "      <td>2018-06-27</td>\n",
       "      <td>1000</td>\n",
       "    </tr>\n",
       "    <tr>\n",
       "      <th>1</th>\n",
       "      <td>1000_1</td>\n",
       "      <td>2018-10-08</td>\n",
       "      <td>1000</td>\n",
       "    </tr>\n",
       "    <tr>\n",
       "      <th>2</th>\n",
       "      <td>1000_2</td>\n",
       "      <td>2018-08-04</td>\n",
       "      <td>1000</td>\n",
       "    </tr>\n",
       "    <tr>\n",
       "      <th>3</th>\n",
       "      <td>1000_3</td>\n",
       "      <td>2018-06-16</td>\n",
       "      <td>1000</td>\n",
       "    </tr>\n",
       "    <tr>\n",
       "      <th>4</th>\n",
       "      <td>1000_4</td>\n",
       "      <td>2018-12-05</td>\n",
       "      <td>1000</td>\n",
       "    </tr>\n",
       "  </tbody>\n",
       "</table>\n",
       "</div>"
      ],
      "text/plain": [
       "       id message_date  user_id\n",
       "0  1000_0   2018-06-27     1000\n",
       "1  1000_1   2018-10-08     1000\n",
       "2  1000_2   2018-08-04     1000\n",
       "3  1000_3   2018-06-16     1000\n",
       "4  1000_4   2018-12-05     1000"
      ]
     },
     "execution_count": 9,
     "metadata": {},
     "output_type": "execute_result"
    }
   ],
   "source": [
    "messages.head()"
   ]
  },
  {
   "cell_type": "code",
   "execution_count": 10,
   "metadata": {},
   "outputs": [
    {
     "name": "stdout",
     "output_type": "stream",
     "text": [
      "<class 'pandas.core.frame.DataFrame'>\n",
      "RangeIndex: 123036 entries, 0 to 123035\n",
      "Data columns (total 3 columns):\n",
      " #   Column        Non-Null Count   Dtype \n",
      "---  ------        --------------   ----- \n",
      " 0   id            123036 non-null  object\n",
      " 1   message_date  123036 non-null  object\n",
      " 2   user_id       123036 non-null  int64 \n",
      "dtypes: int64(1), object(2)\n",
      "memory usage: 2.8+ MB\n"
     ]
    }
   ],
   "source": [
    "messages.info()"
   ]
  },
  {
   "cell_type": "markdown",
   "metadata": {},
   "source": [
    "В данных messages указаны id сообщений пользователей с датой сообщения. \n",
    "\n",
    "Всего было 123 036 сообщения за период"
   ]
  },
  {
   "cell_type": "markdown",
   "metadata": {},
   "source": [
    "### Вывод internet"
   ]
  },
  {
   "cell_type": "code",
   "execution_count": 11,
   "metadata": {},
   "outputs": [
    {
     "data": {
      "text/html": [
       "<div>\n",
       "<style scoped>\n",
       "    .dataframe tbody tr th:only-of-type {\n",
       "        vertical-align: middle;\n",
       "    }\n",
       "\n",
       "    .dataframe tbody tr th {\n",
       "        vertical-align: top;\n",
       "    }\n",
       "\n",
       "    .dataframe thead th {\n",
       "        text-align: right;\n",
       "    }\n",
       "</style>\n",
       "<table border=\"1\" class=\"dataframe\">\n",
       "  <thead>\n",
       "    <tr style=\"text-align: right;\">\n",
       "      <th></th>\n",
       "      <th>id</th>\n",
       "      <th>mb_used</th>\n",
       "      <th>session_date</th>\n",
       "      <th>user_id</th>\n",
       "    </tr>\n",
       "  </thead>\n",
       "  <tbody>\n",
       "    <tr>\n",
       "      <th>0</th>\n",
       "      <td>1000_0</td>\n",
       "      <td>112.95</td>\n",
       "      <td>2018-11-25</td>\n",
       "      <td>1000</td>\n",
       "    </tr>\n",
       "    <tr>\n",
       "      <th>1</th>\n",
       "      <td>1000_1</td>\n",
       "      <td>1052.81</td>\n",
       "      <td>2018-09-07</td>\n",
       "      <td>1000</td>\n",
       "    </tr>\n",
       "    <tr>\n",
       "      <th>2</th>\n",
       "      <td>1000_2</td>\n",
       "      <td>1197.26</td>\n",
       "      <td>2018-06-25</td>\n",
       "      <td>1000</td>\n",
       "    </tr>\n",
       "    <tr>\n",
       "      <th>3</th>\n",
       "      <td>1000_3</td>\n",
       "      <td>550.27</td>\n",
       "      <td>2018-08-22</td>\n",
       "      <td>1000</td>\n",
       "    </tr>\n",
       "    <tr>\n",
       "      <th>4</th>\n",
       "      <td>1000_4</td>\n",
       "      <td>302.56</td>\n",
       "      <td>2018-09-24</td>\n",
       "      <td>1000</td>\n",
       "    </tr>\n",
       "  </tbody>\n",
       "</table>\n",
       "</div>"
      ],
      "text/plain": [
       "       id  mb_used session_date  user_id\n",
       "0  1000_0   112.95   2018-11-25     1000\n",
       "1  1000_1  1052.81   2018-09-07     1000\n",
       "2  1000_2  1197.26   2018-06-25     1000\n",
       "3  1000_3   550.27   2018-08-22     1000\n",
       "4  1000_4   302.56   2018-09-24     1000"
      ]
     },
     "execution_count": 11,
     "metadata": {},
     "output_type": "execute_result"
    }
   ],
   "source": [
    "internet.head()"
   ]
  },
  {
   "cell_type": "code",
   "execution_count": 12,
   "metadata": {},
   "outputs": [
    {
     "name": "stdout",
     "output_type": "stream",
     "text": [
      "<class 'pandas.core.frame.DataFrame'>\n",
      "Int64Index: 149396 entries, 0 to 149395\n",
      "Data columns (total 4 columns):\n",
      " #   Column        Non-Null Count   Dtype  \n",
      "---  ------        --------------   -----  \n",
      " 0   id            149396 non-null  object \n",
      " 1   mb_used       149396 non-null  float64\n",
      " 2   session_date  149396 non-null  object \n",
      " 3   user_id       149396 non-null  int64  \n",
      "dtypes: float64(1), int64(1), object(2)\n",
      "memory usage: 5.7+ MB\n"
     ]
    }
   ],
   "source": [
    "internet.info()"
   ]
  },
  {
   "cell_type": "markdown",
   "metadata": {},
   "source": [
    "В таблице internet объем мегабайт, потраченного за каждую сессию user_id с датой\n",
    "- id — уникальный номер сессии\n",
    "- mb_used — объём потраченного за сессию интернет-трафика (в мегабайтах)\n",
    "- session_date — дата интернет-сессии\n",
    "- user_id — идентификатор пользователя\n",
    "\n",
    "Всего сессий было 149396."
   ]
  },
  {
   "cell_type": "markdown",
   "metadata": {},
   "source": [
    "###  Вывод calls"
   ]
  },
  {
   "cell_type": "code",
   "execution_count": 13,
   "metadata": {},
   "outputs": [
    {
     "data": {
      "text/html": [
       "<div>\n",
       "<style scoped>\n",
       "    .dataframe tbody tr th:only-of-type {\n",
       "        vertical-align: middle;\n",
       "    }\n",
       "\n",
       "    .dataframe tbody tr th {\n",
       "        vertical-align: top;\n",
       "    }\n",
       "\n",
       "    .dataframe thead th {\n",
       "        text-align: right;\n",
       "    }\n",
       "</style>\n",
       "<table border=\"1\" class=\"dataframe\">\n",
       "  <thead>\n",
       "    <tr style=\"text-align: right;\">\n",
       "      <th></th>\n",
       "      <th>id</th>\n",
       "      <th>call_date</th>\n",
       "      <th>duration</th>\n",
       "      <th>user_id</th>\n",
       "    </tr>\n",
       "  </thead>\n",
       "  <tbody>\n",
       "    <tr>\n",
       "      <th>0</th>\n",
       "      <td>1000_0</td>\n",
       "      <td>2018-07-25</td>\n",
       "      <td>0.00</td>\n",
       "      <td>1000</td>\n",
       "    </tr>\n",
       "    <tr>\n",
       "      <th>1</th>\n",
       "      <td>1000_1</td>\n",
       "      <td>2018-08-17</td>\n",
       "      <td>0.00</td>\n",
       "      <td>1000</td>\n",
       "    </tr>\n",
       "    <tr>\n",
       "      <th>2</th>\n",
       "      <td>1000_2</td>\n",
       "      <td>2018-06-11</td>\n",
       "      <td>2.85</td>\n",
       "      <td>1000</td>\n",
       "    </tr>\n",
       "    <tr>\n",
       "      <th>3</th>\n",
       "      <td>1000_3</td>\n",
       "      <td>2018-09-21</td>\n",
       "      <td>13.80</td>\n",
       "      <td>1000</td>\n",
       "    </tr>\n",
       "    <tr>\n",
       "      <th>4</th>\n",
       "      <td>1000_4</td>\n",
       "      <td>2018-12-15</td>\n",
       "      <td>5.18</td>\n",
       "      <td>1000</td>\n",
       "    </tr>\n",
       "  </tbody>\n",
       "</table>\n",
       "</div>"
      ],
      "text/plain": [
       "       id   call_date  duration  user_id\n",
       "0  1000_0  2018-07-25      0.00     1000\n",
       "1  1000_1  2018-08-17      0.00     1000\n",
       "2  1000_2  2018-06-11      2.85     1000\n",
       "3  1000_3  2018-09-21     13.80     1000\n",
       "4  1000_4  2018-12-15      5.18     1000"
      ]
     },
     "execution_count": 13,
     "metadata": {},
     "output_type": "execute_result"
    }
   ],
   "source": [
    "calls.head()"
   ]
  },
  {
   "cell_type": "code",
   "execution_count": 14,
   "metadata": {},
   "outputs": [
    {
     "name": "stdout",
     "output_type": "stream",
     "text": [
      "<class 'pandas.core.frame.DataFrame'>\n",
      "RangeIndex: 202607 entries, 0 to 202606\n",
      "Data columns (total 4 columns):\n",
      " #   Column     Non-Null Count   Dtype  \n",
      "---  ------     --------------   -----  \n",
      " 0   id         202607 non-null  object \n",
      " 1   call_date  202607 non-null  object \n",
      " 2   duration   202607 non-null  float64\n",
      " 3   user_id    202607 non-null  int64  \n",
      "dtypes: float64(1), int64(1), object(2)\n",
      "memory usage: 6.2+ MB\n"
     ]
    }
   ],
   "source": [
    "calls.info()"
   ]
  },
  {
   "cell_type": "markdown",
   "metadata": {},
   "source": [
    "В таблице calls уникальные звонки user_id с длительностью в минутах."
   ]
  },
  {
   "cell_type": "code",
   "execution_count": 15,
   "metadata": {},
   "outputs": [
    {
     "data": {
      "text/html": [
       "<div>\n",
       "<style scoped>\n",
       "    .dataframe tbody tr th:only-of-type {\n",
       "        vertical-align: middle;\n",
       "    }\n",
       "\n",
       "    .dataframe tbody tr th {\n",
       "        vertical-align: top;\n",
       "    }\n",
       "\n",
       "    .dataframe thead th {\n",
       "        text-align: right;\n",
       "    }\n",
       "</style>\n",
       "<table border=\"1\" class=\"dataframe\">\n",
       "  <thead>\n",
       "    <tr style=\"text-align: right;\">\n",
       "      <th></th>\n",
       "      <th>duration</th>\n",
       "      <th>user_id</th>\n",
       "    </tr>\n",
       "  </thead>\n",
       "  <tbody>\n",
       "    <tr>\n",
       "      <th>count</th>\n",
       "      <td>202607.000000</td>\n",
       "      <td>202607.000000</td>\n",
       "    </tr>\n",
       "    <tr>\n",
       "      <th>mean</th>\n",
       "      <td>6.755887</td>\n",
       "      <td>1253.940619</td>\n",
       "    </tr>\n",
       "    <tr>\n",
       "      <th>std</th>\n",
       "      <td>5.843365</td>\n",
       "      <td>144.722751</td>\n",
       "    </tr>\n",
       "    <tr>\n",
       "      <th>min</th>\n",
       "      <td>0.000000</td>\n",
       "      <td>1000.000000</td>\n",
       "    </tr>\n",
       "    <tr>\n",
       "      <th>25%</th>\n",
       "      <td>1.300000</td>\n",
       "      <td>1126.000000</td>\n",
       "    </tr>\n",
       "    <tr>\n",
       "      <th>50%</th>\n",
       "      <td>6.000000</td>\n",
       "      <td>1260.000000</td>\n",
       "    </tr>\n",
       "    <tr>\n",
       "      <th>75%</th>\n",
       "      <td>10.700000</td>\n",
       "      <td>1379.000000</td>\n",
       "    </tr>\n",
       "    <tr>\n",
       "      <th>max</th>\n",
       "      <td>38.000000</td>\n",
       "      <td>1499.000000</td>\n",
       "    </tr>\n",
       "  </tbody>\n",
       "</table>\n",
       "</div>"
      ],
      "text/plain": [
       "            duration        user_id\n",
       "count  202607.000000  202607.000000\n",
       "mean        6.755887    1253.940619\n",
       "std         5.843365     144.722751\n",
       "min         0.000000    1000.000000\n",
       "25%         1.300000    1126.000000\n",
       "50%         6.000000    1260.000000\n",
       "75%        10.700000    1379.000000\n",
       "max        38.000000    1499.000000"
      ]
     },
     "execution_count": 15,
     "metadata": {},
     "output_type": "execute_result"
    }
   ],
   "source": [
    "calls.describe()"
   ]
  },
  {
   "cell_type": "markdown",
   "metadata": {},
   "source": [
    "## Подготовка данных"
   ]
  },
  {
   "cell_type": "markdown",
   "metadata": {},
   "source": [
    "### Определение количества звонков и израсходованных минут разговора по месяцам"
   ]
  },
  {
   "cell_type": "markdown",
   "metadata": {},
   "source": [
    "Каждый звонок округляется отдельно до минуты. Добавим колонку в минутах в таблице calls"
   ]
  },
  {
   "cell_type": "code",
   "execution_count": 16,
   "metadata": {},
   "outputs": [],
   "source": [
    "calls['duration_minutes'] = np.ceil(calls['duration']).astype('int') # добавим колонку минуты с округлением в большую сторону\n",
    "calls['call_month'] = calls['call_date'].astype('datetime64[M]') # добавим месяц"
   ]
  },
  {
   "cell_type": "code",
   "execution_count": 17,
   "metadata": {},
   "outputs": [
    {
     "data": {
      "text/html": [
       "<div>\n",
       "<style scoped>\n",
       "    .dataframe tbody tr th:only-of-type {\n",
       "        vertical-align: middle;\n",
       "    }\n",
       "\n",
       "    .dataframe tbody tr th {\n",
       "        vertical-align: top;\n",
       "    }\n",
       "\n",
       "    .dataframe thead th {\n",
       "        text-align: right;\n",
       "    }\n",
       "</style>\n",
       "<table border=\"1\" class=\"dataframe\">\n",
       "  <thead>\n",
       "    <tr style=\"text-align: right;\">\n",
       "      <th></th>\n",
       "      <th>id</th>\n",
       "      <th>call_date</th>\n",
       "      <th>duration</th>\n",
       "      <th>user_id</th>\n",
       "      <th>duration_minutes</th>\n",
       "      <th>call_month</th>\n",
       "    </tr>\n",
       "  </thead>\n",
       "  <tbody>\n",
       "    <tr>\n",
       "      <th>0</th>\n",
       "      <td>1000_0</td>\n",
       "      <td>2018-07-25</td>\n",
       "      <td>0.00</td>\n",
       "      <td>1000</td>\n",
       "      <td>0</td>\n",
       "      <td>2018-07-01</td>\n",
       "    </tr>\n",
       "    <tr>\n",
       "      <th>1</th>\n",
       "      <td>1000_1</td>\n",
       "      <td>2018-08-17</td>\n",
       "      <td>0.00</td>\n",
       "      <td>1000</td>\n",
       "      <td>0</td>\n",
       "      <td>2018-08-01</td>\n",
       "    </tr>\n",
       "    <tr>\n",
       "      <th>2</th>\n",
       "      <td>1000_2</td>\n",
       "      <td>2018-06-11</td>\n",
       "      <td>2.85</td>\n",
       "      <td>1000</td>\n",
       "      <td>3</td>\n",
       "      <td>2018-06-01</td>\n",
       "    </tr>\n",
       "    <tr>\n",
       "      <th>3</th>\n",
       "      <td>1000_3</td>\n",
       "      <td>2018-09-21</td>\n",
       "      <td>13.80</td>\n",
       "      <td>1000</td>\n",
       "      <td>14</td>\n",
       "      <td>2018-09-01</td>\n",
       "    </tr>\n",
       "    <tr>\n",
       "      <th>4</th>\n",
       "      <td>1000_4</td>\n",
       "      <td>2018-12-15</td>\n",
       "      <td>5.18</td>\n",
       "      <td>1000</td>\n",
       "      <td>6</td>\n",
       "      <td>2018-12-01</td>\n",
       "    </tr>\n",
       "    <tr>\n",
       "      <th>...</th>\n",
       "      <td>...</td>\n",
       "      <td>...</td>\n",
       "      <td>...</td>\n",
       "      <td>...</td>\n",
       "      <td>...</td>\n",
       "      <td>...</td>\n",
       "    </tr>\n",
       "    <tr>\n",
       "      <th>202602</th>\n",
       "      <td>1499_215</td>\n",
       "      <td>2018-12-26</td>\n",
       "      <td>0.76</td>\n",
       "      <td>1499</td>\n",
       "      <td>1</td>\n",
       "      <td>2018-12-01</td>\n",
       "    </tr>\n",
       "    <tr>\n",
       "      <th>202603</th>\n",
       "      <td>1499_216</td>\n",
       "      <td>2018-10-18</td>\n",
       "      <td>18.83</td>\n",
       "      <td>1499</td>\n",
       "      <td>19</td>\n",
       "      <td>2018-10-01</td>\n",
       "    </tr>\n",
       "    <tr>\n",
       "      <th>202604</th>\n",
       "      <td>1499_217</td>\n",
       "      <td>2018-11-10</td>\n",
       "      <td>10.81</td>\n",
       "      <td>1499</td>\n",
       "      <td>11</td>\n",
       "      <td>2018-11-01</td>\n",
       "    </tr>\n",
       "    <tr>\n",
       "      <th>202605</th>\n",
       "      <td>1499_218</td>\n",
       "      <td>2018-10-06</td>\n",
       "      <td>4.27</td>\n",
       "      <td>1499</td>\n",
       "      <td>5</td>\n",
       "      <td>2018-10-01</td>\n",
       "    </tr>\n",
       "    <tr>\n",
       "      <th>202606</th>\n",
       "      <td>1499_219</td>\n",
       "      <td>2018-12-14</td>\n",
       "      <td>19.62</td>\n",
       "      <td>1499</td>\n",
       "      <td>20</td>\n",
       "      <td>2018-12-01</td>\n",
       "    </tr>\n",
       "  </tbody>\n",
       "</table>\n",
       "<p>202607 rows × 6 columns</p>\n",
       "</div>"
      ],
      "text/plain": [
       "              id   call_date  duration  user_id  duration_minutes call_month\n",
       "0         1000_0  2018-07-25      0.00     1000                 0 2018-07-01\n",
       "1         1000_1  2018-08-17      0.00     1000                 0 2018-08-01\n",
       "2         1000_2  2018-06-11      2.85     1000                 3 2018-06-01\n",
       "3         1000_3  2018-09-21     13.80     1000                14 2018-09-01\n",
       "4         1000_4  2018-12-15      5.18     1000                 6 2018-12-01\n",
       "...          ...         ...       ...      ...               ...        ...\n",
       "202602  1499_215  2018-12-26      0.76     1499                 1 2018-12-01\n",
       "202603  1499_216  2018-10-18     18.83     1499                19 2018-10-01\n",
       "202604  1499_217  2018-11-10     10.81     1499                11 2018-11-01\n",
       "202605  1499_218  2018-10-06      4.27     1499                 5 2018-10-01\n",
       "202606  1499_219  2018-12-14     19.62     1499                20 2018-12-01\n",
       "\n",
       "[202607 rows x 6 columns]"
      ]
     },
     "execution_count": 17,
     "metadata": {},
     "output_type": "execute_result"
    }
   ],
   "source": [
    "calls"
   ]
  },
  {
   "cell_type": "code",
   "execution_count": 18,
   "metadata": {},
   "outputs": [
    {
     "name": "stdout",
     "output_type": "stream",
     "text": [
      "<class 'pandas.core.frame.DataFrame'>\n",
      "RangeIndex: 202607 entries, 0 to 202606\n",
      "Data columns (total 6 columns):\n",
      " #   Column            Non-Null Count   Dtype         \n",
      "---  ------            --------------   -----         \n",
      " 0   id                202607 non-null  object        \n",
      " 1   call_date         202607 non-null  object        \n",
      " 2   duration          202607 non-null  float64       \n",
      " 3   user_id           202607 non-null  int64         \n",
      " 4   duration_minutes  202607 non-null  int64         \n",
      " 5   call_month        202607 non-null  datetime64[ns]\n",
      "dtypes: datetime64[ns](1), float64(1), int64(2), object(2)\n",
      "memory usage: 9.3+ MB\n"
     ]
    }
   ],
   "source": [
    "calls.info()"
   ]
  },
  {
   "cell_type": "code",
   "execution_count": 19,
   "metadata": {},
   "outputs": [
    {
     "data": {
      "text/html": [
       "<div>\n",
       "<style scoped>\n",
       "    .dataframe tbody tr th:only-of-type {\n",
       "        vertical-align: middle;\n",
       "    }\n",
       "\n",
       "    .dataframe tbody tr th {\n",
       "        vertical-align: top;\n",
       "    }\n",
       "\n",
       "    .dataframe thead th {\n",
       "        text-align: right;\n",
       "    }\n",
       "</style>\n",
       "<table border=\"1\" class=\"dataframe\">\n",
       "  <thead>\n",
       "    <tr style=\"text-align: right;\">\n",
       "      <th></th>\n",
       "      <th>user_id</th>\n",
       "      <th>month</th>\n",
       "      <th>count_calls</th>\n",
       "      <th>sum_duration_minutes</th>\n",
       "    </tr>\n",
       "  </thead>\n",
       "  <tbody>\n",
       "    <tr>\n",
       "      <th>0</th>\n",
       "      <td>1000</td>\n",
       "      <td>2018-05-01</td>\n",
       "      <td>22</td>\n",
       "      <td>159</td>\n",
       "    </tr>\n",
       "    <tr>\n",
       "      <th>1</th>\n",
       "      <td>1000</td>\n",
       "      <td>2018-06-01</td>\n",
       "      <td>43</td>\n",
       "      <td>172</td>\n",
       "    </tr>\n",
       "    <tr>\n",
       "      <th>2</th>\n",
       "      <td>1000</td>\n",
       "      <td>2018-07-01</td>\n",
       "      <td>47</td>\n",
       "      <td>340</td>\n",
       "    </tr>\n",
       "    <tr>\n",
       "      <th>3</th>\n",
       "      <td>1000</td>\n",
       "      <td>2018-08-01</td>\n",
       "      <td>52</td>\n",
       "      <td>408</td>\n",
       "    </tr>\n",
       "    <tr>\n",
       "      <th>4</th>\n",
       "      <td>1000</td>\n",
       "      <td>2018-09-01</td>\n",
       "      <td>58</td>\n",
       "      <td>466</td>\n",
       "    </tr>\n",
       "    <tr>\n",
       "      <th>...</th>\n",
       "      <td>...</td>\n",
       "      <td>...</td>\n",
       "      <td>...</td>\n",
       "      <td>...</td>\n",
       "    </tr>\n",
       "    <tr>\n",
       "      <th>3169</th>\n",
       "      <td>1498</td>\n",
       "      <td>2018-10-01</td>\n",
       "      <td>41</td>\n",
       "      <td>247</td>\n",
       "    </tr>\n",
       "    <tr>\n",
       "      <th>3170</th>\n",
       "      <td>1499</td>\n",
       "      <td>2018-09-01</td>\n",
       "      <td>9</td>\n",
       "      <td>70</td>\n",
       "    </tr>\n",
       "    <tr>\n",
       "      <th>3171</th>\n",
       "      <td>1499</td>\n",
       "      <td>2018-10-01</td>\n",
       "      <td>68</td>\n",
       "      <td>449</td>\n",
       "    </tr>\n",
       "    <tr>\n",
       "      <th>3172</th>\n",
       "      <td>1499</td>\n",
       "      <td>2018-11-01</td>\n",
       "      <td>74</td>\n",
       "      <td>612</td>\n",
       "    </tr>\n",
       "    <tr>\n",
       "      <th>3173</th>\n",
       "      <td>1499</td>\n",
       "      <td>2018-12-01</td>\n",
       "      <td>69</td>\n",
       "      <td>492</td>\n",
       "    </tr>\n",
       "  </tbody>\n",
       "</table>\n",
       "<p>3174 rows × 4 columns</p>\n",
       "</div>"
      ],
      "text/plain": [
       "      user_id      month  count_calls  sum_duration_minutes\n",
       "0        1000 2018-05-01           22                   159\n",
       "1        1000 2018-06-01           43                   172\n",
       "2        1000 2018-07-01           47                   340\n",
       "3        1000 2018-08-01           52                   408\n",
       "4        1000 2018-09-01           58                   466\n",
       "...       ...        ...          ...                   ...\n",
       "3169     1498 2018-10-01           41                   247\n",
       "3170     1499 2018-09-01            9                    70\n",
       "3171     1499 2018-10-01           68                   449\n",
       "3172     1499 2018-11-01           74                   612\n",
       "3173     1499 2018-12-01           69                   492\n",
       "\n",
       "[3174 rows x 4 columns]"
      ]
     },
     "metadata": {},
     "output_type": "display_data"
    }
   ],
   "source": [
    "calls_pivot_count = calls.pivot_table(\n",
    "    index=['user_id', 'call_month'], values='duration_minutes', aggfunc=['count', 'sum']).reset_index() \n",
    "calls_pivot_count.columns = ['user_id', 'month', 'count_calls', 'sum_duration_minutes']\n",
    "display(calls_pivot_count)\n",
    "# добавим сводную по месяцам с количеством звонков и суммой минут пользователей"
   ]
  },
  {
   "cell_type": "markdown",
   "metadata": {},
   "source": [
    "###  Определение количества отправленных сообщений"
   ]
  },
  {
   "cell_type": "code",
   "execution_count": 20,
   "metadata": {},
   "outputs": [],
   "source": [
    "messages['message_month'] = messages['message_date'].astype('datetime64[M]') # добавим месяц"
   ]
  },
  {
   "cell_type": "code",
   "execution_count": 21,
   "metadata": {},
   "outputs": [
    {
     "data": {
      "text/html": [
       "<div>\n",
       "<style scoped>\n",
       "    .dataframe tbody tr th:only-of-type {\n",
       "        vertical-align: middle;\n",
       "    }\n",
       "\n",
       "    .dataframe tbody tr th {\n",
       "        vertical-align: top;\n",
       "    }\n",
       "\n",
       "    .dataframe thead th {\n",
       "        text-align: right;\n",
       "    }\n",
       "</style>\n",
       "<table border=\"1\" class=\"dataframe\">\n",
       "  <thead>\n",
       "    <tr style=\"text-align: right;\">\n",
       "      <th></th>\n",
       "      <th>id</th>\n",
       "      <th>message_date</th>\n",
       "      <th>user_id</th>\n",
       "      <th>message_month</th>\n",
       "    </tr>\n",
       "  </thead>\n",
       "  <tbody>\n",
       "    <tr>\n",
       "      <th>0</th>\n",
       "      <td>1000_0</td>\n",
       "      <td>2018-06-27</td>\n",
       "      <td>1000</td>\n",
       "      <td>2018-06-01</td>\n",
       "    </tr>\n",
       "    <tr>\n",
       "      <th>1</th>\n",
       "      <td>1000_1</td>\n",
       "      <td>2018-10-08</td>\n",
       "      <td>1000</td>\n",
       "      <td>2018-10-01</td>\n",
       "    </tr>\n",
       "    <tr>\n",
       "      <th>2</th>\n",
       "      <td>1000_2</td>\n",
       "      <td>2018-08-04</td>\n",
       "      <td>1000</td>\n",
       "      <td>2018-08-01</td>\n",
       "    </tr>\n",
       "    <tr>\n",
       "      <th>3</th>\n",
       "      <td>1000_3</td>\n",
       "      <td>2018-06-16</td>\n",
       "      <td>1000</td>\n",
       "      <td>2018-06-01</td>\n",
       "    </tr>\n",
       "    <tr>\n",
       "      <th>4</th>\n",
       "      <td>1000_4</td>\n",
       "      <td>2018-12-05</td>\n",
       "      <td>1000</td>\n",
       "      <td>2018-12-01</td>\n",
       "    </tr>\n",
       "  </tbody>\n",
       "</table>\n",
       "</div>"
      ],
      "text/plain": [
       "       id message_date  user_id message_month\n",
       "0  1000_0   2018-06-27     1000    2018-06-01\n",
       "1  1000_1   2018-10-08     1000    2018-10-01\n",
       "2  1000_2   2018-08-04     1000    2018-08-01\n",
       "3  1000_3   2018-06-16     1000    2018-06-01\n",
       "4  1000_4   2018-12-05     1000    2018-12-01"
      ]
     },
     "execution_count": 21,
     "metadata": {},
     "output_type": "execute_result"
    }
   ],
   "source": [
    "messages.head()"
   ]
  },
  {
   "cell_type": "code",
   "execution_count": 22,
   "metadata": {},
   "outputs": [
    {
     "data": {
      "text/html": [
       "<div>\n",
       "<style scoped>\n",
       "    .dataframe tbody tr th:only-of-type {\n",
       "        vertical-align: middle;\n",
       "    }\n",
       "\n",
       "    .dataframe tbody tr th {\n",
       "        vertical-align: top;\n",
       "    }\n",
       "\n",
       "    .dataframe thead th {\n",
       "        text-align: right;\n",
       "    }\n",
       "</style>\n",
       "<table border=\"1\" class=\"dataframe\">\n",
       "  <thead>\n",
       "    <tr style=\"text-align: right;\">\n",
       "      <th></th>\n",
       "      <th>user_id</th>\n",
       "      <th>month</th>\n",
       "      <th>count_message_month</th>\n",
       "    </tr>\n",
       "  </thead>\n",
       "  <tbody>\n",
       "    <tr>\n",
       "      <th>0</th>\n",
       "      <td>1000</td>\n",
       "      <td>2018-05-01</td>\n",
       "      <td>22</td>\n",
       "    </tr>\n",
       "    <tr>\n",
       "      <th>1</th>\n",
       "      <td>1000</td>\n",
       "      <td>2018-06-01</td>\n",
       "      <td>60</td>\n",
       "    </tr>\n",
       "    <tr>\n",
       "      <th>2</th>\n",
       "      <td>1000</td>\n",
       "      <td>2018-07-01</td>\n",
       "      <td>75</td>\n",
       "    </tr>\n",
       "    <tr>\n",
       "      <th>3</th>\n",
       "      <td>1000</td>\n",
       "      <td>2018-08-01</td>\n",
       "      <td>81</td>\n",
       "    </tr>\n",
       "    <tr>\n",
       "      <th>4</th>\n",
       "      <td>1000</td>\n",
       "      <td>2018-09-01</td>\n",
       "      <td>57</td>\n",
       "    </tr>\n",
       "    <tr>\n",
       "      <th>...</th>\n",
       "      <td>...</td>\n",
       "      <td>...</td>\n",
       "      <td>...</td>\n",
       "    </tr>\n",
       "    <tr>\n",
       "      <th>2712</th>\n",
       "      <td>1498</td>\n",
       "      <td>2018-10-01</td>\n",
       "      <td>42</td>\n",
       "    </tr>\n",
       "    <tr>\n",
       "      <th>2713</th>\n",
       "      <td>1499</td>\n",
       "      <td>2018-09-01</td>\n",
       "      <td>11</td>\n",
       "    </tr>\n",
       "    <tr>\n",
       "      <th>2714</th>\n",
       "      <td>1499</td>\n",
       "      <td>2018-10-01</td>\n",
       "      <td>48</td>\n",
       "    </tr>\n",
       "    <tr>\n",
       "      <th>2715</th>\n",
       "      <td>1499</td>\n",
       "      <td>2018-11-01</td>\n",
       "      <td>59</td>\n",
       "    </tr>\n",
       "    <tr>\n",
       "      <th>2716</th>\n",
       "      <td>1499</td>\n",
       "      <td>2018-12-01</td>\n",
       "      <td>66</td>\n",
       "    </tr>\n",
       "  </tbody>\n",
       "</table>\n",
       "<p>2717 rows × 3 columns</p>\n",
       "</div>"
      ],
      "text/plain": [
       "      user_id      month  count_message_month\n",
       "0        1000 2018-05-01                   22\n",
       "1        1000 2018-06-01                   60\n",
       "2        1000 2018-07-01                   75\n",
       "3        1000 2018-08-01                   81\n",
       "4        1000 2018-09-01                   57\n",
       "...       ...        ...                  ...\n",
       "2712     1498 2018-10-01                   42\n",
       "2713     1499 2018-09-01                   11\n",
       "2714     1499 2018-10-01                   48\n",
       "2715     1499 2018-11-01                   59\n",
       "2716     1499 2018-12-01                   66\n",
       "\n",
       "[2717 rows x 3 columns]"
      ]
     },
     "execution_count": 22,
     "metadata": {},
     "output_type": "execute_result"
    }
   ],
   "source": [
    "messages_pivot_count = messages.pivot_table(index=['user_id', 'message_month'], values='id', aggfunc='count').reset_index()\n",
    "messages_pivot_count.columns = ['user_id', 'month', 'count_message_month']\n",
    "messages_pivot_count\n",
    "# сводная по количеству сообщений в месяц каждого пользователя"
   ]
  },
  {
   "cell_type": "markdown",
   "metadata": {},
   "source": [
    "### Определение объема израсходованного интернет-трафика по месяцам"
   ]
  },
  {
   "cell_type": "code",
   "execution_count": 23,
   "metadata": {},
   "outputs": [
    {
     "data": {
      "text/html": [
       "<div>\n",
       "<style scoped>\n",
       "    .dataframe tbody tr th:only-of-type {\n",
       "        vertical-align: middle;\n",
       "    }\n",
       "\n",
       "    .dataframe tbody tr th {\n",
       "        vertical-align: top;\n",
       "    }\n",
       "\n",
       "    .dataframe thead th {\n",
       "        text-align: right;\n",
       "    }\n",
       "</style>\n",
       "<table border=\"1\" class=\"dataframe\">\n",
       "  <thead>\n",
       "    <tr style=\"text-align: right;\">\n",
       "      <th></th>\n",
       "      <th>id</th>\n",
       "      <th>mb_used</th>\n",
       "      <th>session_date</th>\n",
       "      <th>user_id</th>\n",
       "      <th>internet_month</th>\n",
       "    </tr>\n",
       "  </thead>\n",
       "  <tbody>\n",
       "    <tr>\n",
       "      <th>0</th>\n",
       "      <td>1000_0</td>\n",
       "      <td>112.95</td>\n",
       "      <td>2018-11-25</td>\n",
       "      <td>1000</td>\n",
       "      <td>2018-11-01</td>\n",
       "    </tr>\n",
       "    <tr>\n",
       "      <th>1</th>\n",
       "      <td>1000_1</td>\n",
       "      <td>1052.81</td>\n",
       "      <td>2018-09-07</td>\n",
       "      <td>1000</td>\n",
       "      <td>2018-09-01</td>\n",
       "    </tr>\n",
       "    <tr>\n",
       "      <th>2</th>\n",
       "      <td>1000_2</td>\n",
       "      <td>1197.26</td>\n",
       "      <td>2018-06-25</td>\n",
       "      <td>1000</td>\n",
       "      <td>2018-06-01</td>\n",
       "    </tr>\n",
       "    <tr>\n",
       "      <th>3</th>\n",
       "      <td>1000_3</td>\n",
       "      <td>550.27</td>\n",
       "      <td>2018-08-22</td>\n",
       "      <td>1000</td>\n",
       "      <td>2018-08-01</td>\n",
       "    </tr>\n",
       "    <tr>\n",
       "      <th>4</th>\n",
       "      <td>1000_4</td>\n",
       "      <td>302.56</td>\n",
       "      <td>2018-09-24</td>\n",
       "      <td>1000</td>\n",
       "      <td>2018-09-01</td>\n",
       "    </tr>\n",
       "  </tbody>\n",
       "</table>\n",
       "</div>"
      ],
      "text/plain": [
       "       id  mb_used session_date  user_id internet_month\n",
       "0  1000_0   112.95   2018-11-25     1000     2018-11-01\n",
       "1  1000_1  1052.81   2018-09-07     1000     2018-09-01\n",
       "2  1000_2  1197.26   2018-06-25     1000     2018-06-01\n",
       "3  1000_3   550.27   2018-08-22     1000     2018-08-01\n",
       "4  1000_4   302.56   2018-09-24     1000     2018-09-01"
      ]
     },
     "execution_count": 23,
     "metadata": {},
     "output_type": "execute_result"
    }
   ],
   "source": [
    "internet['internet_month'] = internet['session_date'].astype('datetime64[M]')\n",
    "internet.head()"
   ]
  },
  {
   "cell_type": "markdown",
   "metadata": {},
   "source": [
    "Так как, для веб-трафика отдельные сессии не считаются. Вместо этого общая сумма за месяц округляется в бо́льшую сторону. Определим объем мегабайт в месяц для каждого пользователя и переведем их в гигабайты (в большую сторону)"
   ]
  },
  {
   "cell_type": "code",
   "execution_count": 24,
   "metadata": {},
   "outputs": [
    {
     "data": {
      "text/html": [
       "<div>\n",
       "<style scoped>\n",
       "    .dataframe tbody tr th:only-of-type {\n",
       "        vertical-align: middle;\n",
       "    }\n",
       "\n",
       "    .dataframe tbody tr th {\n",
       "        vertical-align: top;\n",
       "    }\n",
       "\n",
       "    .dataframe thead th {\n",
       "        text-align: right;\n",
       "    }\n",
       "</style>\n",
       "<table border=\"1\" class=\"dataframe\">\n",
       "  <thead>\n",
       "    <tr style=\"text-align: right;\">\n",
       "      <th></th>\n",
       "      <th>user_id</th>\n",
       "      <th>month</th>\n",
       "      <th>mb_used_month</th>\n",
       "      <th>gb_used_month</th>\n",
       "    </tr>\n",
       "  </thead>\n",
       "  <tbody>\n",
       "    <tr>\n",
       "      <th>0</th>\n",
       "      <td>1000</td>\n",
       "      <td>2018-05-01</td>\n",
       "      <td>2253.49</td>\n",
       "      <td>3</td>\n",
       "    </tr>\n",
       "    <tr>\n",
       "      <th>1</th>\n",
       "      <td>1000</td>\n",
       "      <td>2018-06-01</td>\n",
       "      <td>23233.77</td>\n",
       "      <td>23</td>\n",
       "    </tr>\n",
       "    <tr>\n",
       "      <th>2</th>\n",
       "      <td>1000</td>\n",
       "      <td>2018-07-01</td>\n",
       "      <td>14003.64</td>\n",
       "      <td>14</td>\n",
       "    </tr>\n",
       "    <tr>\n",
       "      <th>3</th>\n",
       "      <td>1000</td>\n",
       "      <td>2018-08-01</td>\n",
       "      <td>14055.93</td>\n",
       "      <td>14</td>\n",
       "    </tr>\n",
       "    <tr>\n",
       "      <th>4</th>\n",
       "      <td>1000</td>\n",
       "      <td>2018-09-01</td>\n",
       "      <td>14568.91</td>\n",
       "      <td>15</td>\n",
       "    </tr>\n",
       "    <tr>\n",
       "      <th>...</th>\n",
       "      <td>...</td>\n",
       "      <td>...</td>\n",
       "      <td>...</td>\n",
       "      <td>...</td>\n",
       "    </tr>\n",
       "    <tr>\n",
       "      <th>3198</th>\n",
       "      <td>1498</td>\n",
       "      <td>2018-10-01</td>\n",
       "      <td>20579.36</td>\n",
       "      <td>21</td>\n",
       "    </tr>\n",
       "    <tr>\n",
       "      <th>3199</th>\n",
       "      <td>1499</td>\n",
       "      <td>2018-09-01</td>\n",
       "      <td>1845.75</td>\n",
       "      <td>2</td>\n",
       "    </tr>\n",
       "    <tr>\n",
       "      <th>3200</th>\n",
       "      <td>1499</td>\n",
       "      <td>2018-10-01</td>\n",
       "      <td>17788.51</td>\n",
       "      <td>18</td>\n",
       "    </tr>\n",
       "    <tr>\n",
       "      <th>3201</th>\n",
       "      <td>1499</td>\n",
       "      <td>2018-11-01</td>\n",
       "      <td>17963.31</td>\n",
       "      <td>18</td>\n",
       "    </tr>\n",
       "    <tr>\n",
       "      <th>3202</th>\n",
       "      <td>1499</td>\n",
       "      <td>2018-12-01</td>\n",
       "      <td>13055.58</td>\n",
       "      <td>13</td>\n",
       "    </tr>\n",
       "  </tbody>\n",
       "</table>\n",
       "<p>3203 rows × 4 columns</p>\n",
       "</div>"
      ],
      "text/plain": [
       "      user_id      month  mb_used_month  gb_used_month\n",
       "0        1000 2018-05-01        2253.49              3\n",
       "1        1000 2018-06-01       23233.77             23\n",
       "2        1000 2018-07-01       14003.64             14\n",
       "3        1000 2018-08-01       14055.93             14\n",
       "4        1000 2018-09-01       14568.91             15\n",
       "...       ...        ...            ...            ...\n",
       "3198     1498 2018-10-01       20579.36             21\n",
       "3199     1499 2018-09-01        1845.75              2\n",
       "3200     1499 2018-10-01       17788.51             18\n",
       "3201     1499 2018-11-01       17963.31             18\n",
       "3202     1499 2018-12-01       13055.58             13\n",
       "\n",
       "[3203 rows x 4 columns]"
      ]
     },
     "execution_count": 24,
     "metadata": {},
     "output_type": "execute_result"
    }
   ],
   "source": [
    "internet_pivot_count = internet.pivot_table(index=['user_id', 'internet_month'], values='mb_used', aggfunc='sum').reset_index()\n",
    "internet_pivot_count['gb_used'] = np.ceil(internet_pivot_count['mb_used']/1024).astype(int)\n",
    "internet_pivot_count.columns = ['user_id', 'month', 'mb_used_month', 'gb_used_month']\n",
    "internet_pivot_count"
   ]
  },
  {
   "cell_type": "code",
   "execution_count": 25,
   "metadata": {},
   "outputs": [
    {
     "data": {
      "text/html": [
       "<div>\n",
       "<style scoped>\n",
       "    .dataframe tbody tr th:only-of-type {\n",
       "        vertical-align: middle;\n",
       "    }\n",
       "\n",
       "    .dataframe tbody tr th {\n",
       "        vertical-align: top;\n",
       "    }\n",
       "\n",
       "    .dataframe thead th {\n",
       "        text-align: right;\n",
       "    }\n",
       "</style>\n",
       "<table border=\"1\" class=\"dataframe\">\n",
       "  <thead>\n",
       "    <tr style=\"text-align: right;\">\n",
       "      <th></th>\n",
       "      <th>user_id</th>\n",
       "      <th>month</th>\n",
       "      <th>mb_used_month</th>\n",
       "      <th>gb_used_month</th>\n",
       "    </tr>\n",
       "  </thead>\n",
       "  <tbody>\n",
       "  </tbody>\n",
       "</table>\n",
       "</div>"
      ],
      "text/plain": [
       "Empty DataFrame\n",
       "Columns: [user_id, month, mb_used_month, gb_used_month]\n",
       "Index: []"
      ]
     },
     "execution_count": 25,
     "metadata": {},
     "output_type": "execute_result"
    }
   ],
   "source": [
    "# проверим на пропуски полученные сводные \n",
    "internet_pivot_count[internet_pivot_count['mb_used_month'].isna()]"
   ]
  },
  {
   "cell_type": "markdown",
   "metadata": {},
   "source": [
    "### Сбор всех данные по звонкам, сообщениям и интернету в одну таблицу"
   ]
  },
  {
   "cell_type": "markdown",
   "metadata": {},
   "source": [
    "Соберем в одну таблицу данные по звонкам, сообщениям и интернету"
   ]
  },
  {
   "cell_type": "code",
   "execution_count": 26,
   "metadata": {},
   "outputs": [
    {
     "data": {
      "text/html": [
       "<div>\n",
       "<style scoped>\n",
       "    .dataframe tbody tr th:only-of-type {\n",
       "        vertical-align: middle;\n",
       "    }\n",
       "\n",
       "    .dataframe tbody tr th {\n",
       "        vertical-align: top;\n",
       "    }\n",
       "\n",
       "    .dataframe thead th {\n",
       "        text-align: right;\n",
       "    }\n",
       "</style>\n",
       "<table border=\"1\" class=\"dataframe\">\n",
       "  <thead>\n",
       "    <tr style=\"text-align: right;\">\n",
       "      <th></th>\n",
       "      <th>user_id</th>\n",
       "      <th>month</th>\n",
       "      <th>count_calls</th>\n",
       "      <th>sum_duration_minutes</th>\n",
       "      <th>count_message_month</th>\n",
       "      <th>gb_used_month</th>\n",
       "      <th>city</th>\n",
       "      <th>tariff</th>\n",
       "    </tr>\n",
       "  </thead>\n",
       "  <tbody>\n",
       "    <tr>\n",
       "      <th>0</th>\n",
       "      <td>1000</td>\n",
       "      <td>2018-05-01</td>\n",
       "      <td>22.0</td>\n",
       "      <td>159.0</td>\n",
       "      <td>22.0</td>\n",
       "      <td>3.0</td>\n",
       "      <td>Краснодар</td>\n",
       "      <td>ultra</td>\n",
       "    </tr>\n",
       "    <tr>\n",
       "      <th>1</th>\n",
       "      <td>1000</td>\n",
       "      <td>2018-06-01</td>\n",
       "      <td>43.0</td>\n",
       "      <td>172.0</td>\n",
       "      <td>60.0</td>\n",
       "      <td>23.0</td>\n",
       "      <td>Краснодар</td>\n",
       "      <td>ultra</td>\n",
       "    </tr>\n",
       "    <tr>\n",
       "      <th>2</th>\n",
       "      <td>1000</td>\n",
       "      <td>2018-07-01</td>\n",
       "      <td>47.0</td>\n",
       "      <td>340.0</td>\n",
       "      <td>75.0</td>\n",
       "      <td>14.0</td>\n",
       "      <td>Краснодар</td>\n",
       "      <td>ultra</td>\n",
       "    </tr>\n",
       "    <tr>\n",
       "      <th>3</th>\n",
       "      <td>1000</td>\n",
       "      <td>2018-08-01</td>\n",
       "      <td>52.0</td>\n",
       "      <td>408.0</td>\n",
       "      <td>81.0</td>\n",
       "      <td>14.0</td>\n",
       "      <td>Краснодар</td>\n",
       "      <td>ultra</td>\n",
       "    </tr>\n",
       "    <tr>\n",
       "      <th>4</th>\n",
       "      <td>1000</td>\n",
       "      <td>2018-09-01</td>\n",
       "      <td>58.0</td>\n",
       "      <td>466.0</td>\n",
       "      <td>57.0</td>\n",
       "      <td>15.0</td>\n",
       "      <td>Краснодар</td>\n",
       "      <td>ultra</td>\n",
       "    </tr>\n",
       "    <tr>\n",
       "      <th>...</th>\n",
       "      <td>...</td>\n",
       "      <td>...</td>\n",
       "      <td>...</td>\n",
       "      <td>...</td>\n",
       "      <td>...</td>\n",
       "      <td>...</td>\n",
       "      <td>...</td>\n",
       "      <td>...</td>\n",
       "    </tr>\n",
       "    <tr>\n",
       "      <th>3209</th>\n",
       "      <td>1489</td>\n",
       "      <td>2018-09-01</td>\n",
       "      <td>NaN</td>\n",
       "      <td>NaN</td>\n",
       "      <td>32.0</td>\n",
       "      <td>17.0</td>\n",
       "      <td>Санкт-Петербург</td>\n",
       "      <td>smart</td>\n",
       "    </tr>\n",
       "    <tr>\n",
       "      <th>3210</th>\n",
       "      <td>1489</td>\n",
       "      <td>2018-10-01</td>\n",
       "      <td>NaN</td>\n",
       "      <td>NaN</td>\n",
       "      <td>21.0</td>\n",
       "      <td>20.0</td>\n",
       "      <td>Санкт-Петербург</td>\n",
       "      <td>smart</td>\n",
       "    </tr>\n",
       "    <tr>\n",
       "      <th>3211</th>\n",
       "      <td>1489</td>\n",
       "      <td>2018-11-01</td>\n",
       "      <td>NaN</td>\n",
       "      <td>NaN</td>\n",
       "      <td>20.0</td>\n",
       "      <td>18.0</td>\n",
       "      <td>Санкт-Петербург</td>\n",
       "      <td>smart</td>\n",
       "    </tr>\n",
       "    <tr>\n",
       "      <th>3212</th>\n",
       "      <td>1489</td>\n",
       "      <td>2018-12-01</td>\n",
       "      <td>NaN</td>\n",
       "      <td>NaN</td>\n",
       "      <td>35.0</td>\n",
       "      <td>17.0</td>\n",
       "      <td>Санкт-Петербург</td>\n",
       "      <td>smart</td>\n",
       "    </tr>\n",
       "    <tr>\n",
       "      <th>3213</th>\n",
       "      <td>1476</td>\n",
       "      <td>2018-04-01</td>\n",
       "      <td>NaN</td>\n",
       "      <td>NaN</td>\n",
       "      <td>NaN</td>\n",
       "      <td>1.0</td>\n",
       "      <td>Москва</td>\n",
       "      <td>ultra</td>\n",
       "    </tr>\n",
       "  </tbody>\n",
       "</table>\n",
       "<p>3214 rows × 8 columns</p>\n",
       "</div>"
      ],
      "text/plain": [
       "      user_id      month  count_calls  sum_duration_minutes  \\\n",
       "0        1000 2018-05-01         22.0                 159.0   \n",
       "1        1000 2018-06-01         43.0                 172.0   \n",
       "2        1000 2018-07-01         47.0                 340.0   \n",
       "3        1000 2018-08-01         52.0                 408.0   \n",
       "4        1000 2018-09-01         58.0                 466.0   \n",
       "...       ...        ...          ...                   ...   \n",
       "3209     1489 2018-09-01          NaN                   NaN   \n",
       "3210     1489 2018-10-01          NaN                   NaN   \n",
       "3211     1489 2018-11-01          NaN                   NaN   \n",
       "3212     1489 2018-12-01          NaN                   NaN   \n",
       "3213     1476 2018-04-01          NaN                   NaN   \n",
       "\n",
       "      count_message_month  gb_used_month             city tariff  \n",
       "0                    22.0            3.0        Краснодар  ultra  \n",
       "1                    60.0           23.0        Краснодар  ultra  \n",
       "2                    75.0           14.0        Краснодар  ultra  \n",
       "3                    81.0           14.0        Краснодар  ultra  \n",
       "4                    57.0           15.0        Краснодар  ultra  \n",
       "...                   ...            ...              ...    ...  \n",
       "3209                 32.0           17.0  Санкт-Петербург  smart  \n",
       "3210                 21.0           20.0  Санкт-Петербург  smart  \n",
       "3211                 20.0           18.0  Санкт-Петербург  smart  \n",
       "3212                 35.0           17.0  Санкт-Петербург  smart  \n",
       "3213                  NaN            1.0           Москва  ultra  \n",
       "\n",
       "[3214 rows x 8 columns]"
      ]
     },
     "metadata": {},
     "output_type": "display_data"
    }
   ],
   "source": [
    "data = calls_pivot_count.merge(messages_pivot_count, on=['user_id', 'month'], how='outer')\n",
    "data = data.merge(internet_pivot_count[['user_id', 'month', 'gb_used_month']], on=['user_id', 'month'], how='outer')\n",
    "data = data.merge(users[['user_id', 'city', 'tariff']], on='user_id', how='left')\n",
    "display(data)\n",
    "# методом merge собраны все данные по звонкам, смс, интернету и пользователям"
   ]
  },
  {
   "cell_type": "code",
   "execution_count": 27,
   "metadata": {},
   "outputs": [
    {
     "name": "stdout",
     "output_type": "stream",
     "text": [
      "<class 'pandas.core.frame.DataFrame'>\n",
      "Int64Index: 3214 entries, 0 to 3213\n",
      "Data columns (total 8 columns):\n",
      " #   Column                Non-Null Count  Dtype         \n",
      "---  ------                --------------  -----         \n",
      " 0   user_id               3214 non-null   int64         \n",
      " 1   month                 3214 non-null   datetime64[ns]\n",
      " 2   count_calls           3174 non-null   float64       \n",
      " 3   sum_duration_minutes  3174 non-null   float64       \n",
      " 4   count_message_month   2717 non-null   float64       \n",
      " 5   gb_used_month         3203 non-null   float64       \n",
      " 6   city                  3214 non-null   object        \n",
      " 7   tariff                3214 non-null   object        \n",
      "dtypes: datetime64[ns](1), float64(4), int64(1), object(2)\n",
      "memory usage: 226.0+ KB\n"
     ]
    }
   ],
   "source": [
    "data.info() # посмотрим на количество строк после объединения и пропуски"
   ]
  },
  {
   "cell_type": "markdown",
   "metadata": {},
   "source": [
    "Добавим информацию по тарифам"
   ]
  },
  {
   "cell_type": "code",
   "execution_count": 28,
   "metadata": {},
   "outputs": [
    {
     "data": {
      "text/html": [
       "<div>\n",
       "<style scoped>\n",
       "    .dataframe tbody tr th:only-of-type {\n",
       "        vertical-align: middle;\n",
       "    }\n",
       "\n",
       "    .dataframe tbody tr th {\n",
       "        vertical-align: top;\n",
       "    }\n",
       "\n",
       "    .dataframe thead th {\n",
       "        text-align: right;\n",
       "    }\n",
       "</style>\n",
       "<table border=\"1\" class=\"dataframe\">\n",
       "  <thead>\n",
       "    <tr style=\"text-align: right;\">\n",
       "      <th></th>\n",
       "      <th>user_id</th>\n",
       "      <th>month</th>\n",
       "      <th>count_calls</th>\n",
       "      <th>sum_duration_minutes</th>\n",
       "      <th>count_message_month</th>\n",
       "      <th>gb_used_month</th>\n",
       "      <th>city</th>\n",
       "      <th>tariff</th>\n",
       "      <th>messages_included</th>\n",
       "      <th>mb_per_month_included</th>\n",
       "      <th>minutes_included</th>\n",
       "      <th>rub_monthly_fee</th>\n",
       "      <th>rub_per_gb</th>\n",
       "      <th>rub_per_message</th>\n",
       "      <th>rub_per_minute</th>\n",
       "      <th>gb_per_month_included</th>\n",
       "    </tr>\n",
       "  </thead>\n",
       "  <tbody>\n",
       "    <tr>\n",
       "      <th>0</th>\n",
       "      <td>1000</td>\n",
       "      <td>2018-05-01</td>\n",
       "      <td>22.0</td>\n",
       "      <td>159.0</td>\n",
       "      <td>22.0</td>\n",
       "      <td>3.0</td>\n",
       "      <td>Краснодар</td>\n",
       "      <td>ultra</td>\n",
       "      <td>1000</td>\n",
       "      <td>30720</td>\n",
       "      <td>3000</td>\n",
       "      <td>1950</td>\n",
       "      <td>150</td>\n",
       "      <td>1</td>\n",
       "      <td>1</td>\n",
       "      <td>30</td>\n",
       "    </tr>\n",
       "    <tr>\n",
       "      <th>1</th>\n",
       "      <td>1000</td>\n",
       "      <td>2018-06-01</td>\n",
       "      <td>43.0</td>\n",
       "      <td>172.0</td>\n",
       "      <td>60.0</td>\n",
       "      <td>23.0</td>\n",
       "      <td>Краснодар</td>\n",
       "      <td>ultra</td>\n",
       "      <td>1000</td>\n",
       "      <td>30720</td>\n",
       "      <td>3000</td>\n",
       "      <td>1950</td>\n",
       "      <td>150</td>\n",
       "      <td>1</td>\n",
       "      <td>1</td>\n",
       "      <td>30</td>\n",
       "    </tr>\n",
       "    <tr>\n",
       "      <th>2</th>\n",
       "      <td>1000</td>\n",
       "      <td>2018-07-01</td>\n",
       "      <td>47.0</td>\n",
       "      <td>340.0</td>\n",
       "      <td>75.0</td>\n",
       "      <td>14.0</td>\n",
       "      <td>Краснодар</td>\n",
       "      <td>ultra</td>\n",
       "      <td>1000</td>\n",
       "      <td>30720</td>\n",
       "      <td>3000</td>\n",
       "      <td>1950</td>\n",
       "      <td>150</td>\n",
       "      <td>1</td>\n",
       "      <td>1</td>\n",
       "      <td>30</td>\n",
       "    </tr>\n",
       "    <tr>\n",
       "      <th>3</th>\n",
       "      <td>1000</td>\n",
       "      <td>2018-08-01</td>\n",
       "      <td>52.0</td>\n",
       "      <td>408.0</td>\n",
       "      <td>81.0</td>\n",
       "      <td>14.0</td>\n",
       "      <td>Краснодар</td>\n",
       "      <td>ultra</td>\n",
       "      <td>1000</td>\n",
       "      <td>30720</td>\n",
       "      <td>3000</td>\n",
       "      <td>1950</td>\n",
       "      <td>150</td>\n",
       "      <td>1</td>\n",
       "      <td>1</td>\n",
       "      <td>30</td>\n",
       "    </tr>\n",
       "    <tr>\n",
       "      <th>4</th>\n",
       "      <td>1000</td>\n",
       "      <td>2018-09-01</td>\n",
       "      <td>58.0</td>\n",
       "      <td>466.0</td>\n",
       "      <td>57.0</td>\n",
       "      <td>15.0</td>\n",
       "      <td>Краснодар</td>\n",
       "      <td>ultra</td>\n",
       "      <td>1000</td>\n",
       "      <td>30720</td>\n",
       "      <td>3000</td>\n",
       "      <td>1950</td>\n",
       "      <td>150</td>\n",
       "      <td>1</td>\n",
       "      <td>1</td>\n",
       "      <td>30</td>\n",
       "    </tr>\n",
       "    <tr>\n",
       "      <th>5</th>\n",
       "      <td>1000</td>\n",
       "      <td>2018-10-01</td>\n",
       "      <td>57.0</td>\n",
       "      <td>350.0</td>\n",
       "      <td>73.0</td>\n",
       "      <td>15.0</td>\n",
       "      <td>Краснодар</td>\n",
       "      <td>ultra</td>\n",
       "      <td>1000</td>\n",
       "      <td>30720</td>\n",
       "      <td>3000</td>\n",
       "      <td>1950</td>\n",
       "      <td>150</td>\n",
       "      <td>1</td>\n",
       "      <td>1</td>\n",
       "      <td>30</td>\n",
       "    </tr>\n",
       "    <tr>\n",
       "      <th>6</th>\n",
       "      <td>1000</td>\n",
       "      <td>2018-11-01</td>\n",
       "      <td>43.0</td>\n",
       "      <td>338.0</td>\n",
       "      <td>58.0</td>\n",
       "      <td>15.0</td>\n",
       "      <td>Краснодар</td>\n",
       "      <td>ultra</td>\n",
       "      <td>1000</td>\n",
       "      <td>30720</td>\n",
       "      <td>3000</td>\n",
       "      <td>1950</td>\n",
       "      <td>150</td>\n",
       "      <td>1</td>\n",
       "      <td>1</td>\n",
       "      <td>30</td>\n",
       "    </tr>\n",
       "    <tr>\n",
       "      <th>7</th>\n",
       "      <td>1000</td>\n",
       "      <td>2018-12-01</td>\n",
       "      <td>46.0</td>\n",
       "      <td>333.0</td>\n",
       "      <td>70.0</td>\n",
       "      <td>10.0</td>\n",
       "      <td>Краснодар</td>\n",
       "      <td>ultra</td>\n",
       "      <td>1000</td>\n",
       "      <td>30720</td>\n",
       "      <td>3000</td>\n",
       "      <td>1950</td>\n",
       "      <td>150</td>\n",
       "      <td>1</td>\n",
       "      <td>1</td>\n",
       "      <td>30</td>\n",
       "    </tr>\n",
       "    <tr>\n",
       "      <th>8</th>\n",
       "      <td>1001</td>\n",
       "      <td>2018-11-01</td>\n",
       "      <td>59.0</td>\n",
       "      <td>430.0</td>\n",
       "      <td>NaN</td>\n",
       "      <td>18.0</td>\n",
       "      <td>Москва</td>\n",
       "      <td>smart</td>\n",
       "      <td>50</td>\n",
       "      <td>15360</td>\n",
       "      <td>500</td>\n",
       "      <td>550</td>\n",
       "      <td>200</td>\n",
       "      <td>3</td>\n",
       "      <td>3</td>\n",
       "      <td>15</td>\n",
       "    </tr>\n",
       "    <tr>\n",
       "      <th>9</th>\n",
       "      <td>1001</td>\n",
       "      <td>2018-12-01</td>\n",
       "      <td>63.0</td>\n",
       "      <td>414.0</td>\n",
       "      <td>NaN</td>\n",
       "      <td>14.0</td>\n",
       "      <td>Москва</td>\n",
       "      <td>smart</td>\n",
       "      <td>50</td>\n",
       "      <td>15360</td>\n",
       "      <td>500</td>\n",
       "      <td>550</td>\n",
       "      <td>200</td>\n",
       "      <td>3</td>\n",
       "      <td>3</td>\n",
       "      <td>15</td>\n",
       "    </tr>\n",
       "  </tbody>\n",
       "</table>\n",
       "</div>"
      ],
      "text/plain": [
       "   user_id      month  count_calls  sum_duration_minutes  count_message_month  \\\n",
       "0     1000 2018-05-01         22.0                 159.0                 22.0   \n",
       "1     1000 2018-06-01         43.0                 172.0                 60.0   \n",
       "2     1000 2018-07-01         47.0                 340.0                 75.0   \n",
       "3     1000 2018-08-01         52.0                 408.0                 81.0   \n",
       "4     1000 2018-09-01         58.0                 466.0                 57.0   \n",
       "5     1000 2018-10-01         57.0                 350.0                 73.0   \n",
       "6     1000 2018-11-01         43.0                 338.0                 58.0   \n",
       "7     1000 2018-12-01         46.0                 333.0                 70.0   \n",
       "8     1001 2018-11-01         59.0                 430.0                  NaN   \n",
       "9     1001 2018-12-01         63.0                 414.0                  NaN   \n",
       "\n",
       "   gb_used_month       city tariff  messages_included  mb_per_month_included  \\\n",
       "0            3.0  Краснодар  ultra               1000                  30720   \n",
       "1           23.0  Краснодар  ultra               1000                  30720   \n",
       "2           14.0  Краснодар  ultra               1000                  30720   \n",
       "3           14.0  Краснодар  ultra               1000                  30720   \n",
       "4           15.0  Краснодар  ultra               1000                  30720   \n",
       "5           15.0  Краснодар  ultra               1000                  30720   \n",
       "6           15.0  Краснодар  ultra               1000                  30720   \n",
       "7           10.0  Краснодар  ultra               1000                  30720   \n",
       "8           18.0     Москва  smart                 50                  15360   \n",
       "9           14.0     Москва  smart                 50                  15360   \n",
       "\n",
       "   minutes_included  rub_monthly_fee  rub_per_gb  rub_per_message  \\\n",
       "0              3000             1950         150                1   \n",
       "1              3000             1950         150                1   \n",
       "2              3000             1950         150                1   \n",
       "3              3000             1950         150                1   \n",
       "4              3000             1950         150                1   \n",
       "5              3000             1950         150                1   \n",
       "6              3000             1950         150                1   \n",
       "7              3000             1950         150                1   \n",
       "8               500              550         200                3   \n",
       "9               500              550         200                3   \n",
       "\n",
       "   rub_per_minute  gb_per_month_included  \n",
       "0               1                     30  \n",
       "1               1                     30  \n",
       "2               1                     30  \n",
       "3               1                     30  \n",
       "4               1                     30  \n",
       "5               1                     30  \n",
       "6               1                     30  \n",
       "7               1                     30  \n",
       "8               3                     15  \n",
       "9               3                     15  "
      ]
     },
     "execution_count": 28,
     "metadata": {},
     "output_type": "execute_result"
    }
   ],
   "source": [
    "data = data.merge(tariffs, on='tariff', how='left')\n",
    "data.head(10)"
   ]
  },
  {
   "cell_type": "markdown",
   "metadata": {},
   "source": [
    "Заменим NaN на 0"
   ]
  },
  {
   "cell_type": "code",
   "execution_count": 29,
   "metadata": {},
   "outputs": [
    {
     "name": "stdout",
     "output_type": "stream",
     "text": [
      "<class 'pandas.core.frame.DataFrame'>\n",
      "Int64Index: 3214 entries, 0 to 3213\n",
      "Data columns (total 16 columns):\n",
      " #   Column                 Non-Null Count  Dtype         \n",
      "---  ------                 --------------  -----         \n",
      " 0   user_id                3214 non-null   int64         \n",
      " 1   month                  3214 non-null   datetime64[ns]\n",
      " 2   count_calls            3214 non-null   float64       \n",
      " 3   sum_duration_minutes   3214 non-null   float64       \n",
      " 4   count_message_month    3214 non-null   float64       \n",
      " 5   gb_used_month          3214 non-null   float64       \n",
      " 6   city                   3214 non-null   object        \n",
      " 7   tariff                 3214 non-null   object        \n",
      " 8   messages_included      3214 non-null   int64         \n",
      " 9   mb_per_month_included  3214 non-null   int64         \n",
      " 10  minutes_included       3214 non-null   int64         \n",
      " 11  rub_monthly_fee        3214 non-null   int64         \n",
      " 12  rub_per_gb             3214 non-null   int64         \n",
      " 13  rub_per_message        3214 non-null   int64         \n",
      " 14  rub_per_minute         3214 non-null   int64         \n",
      " 15  gb_per_month_included  3214 non-null   int64         \n",
      "dtypes: datetime64[ns](1), float64(4), int64(9), object(2)\n",
      "memory usage: 426.9+ KB\n"
     ]
    }
   ],
   "source": [
    "data = data.fillna(0)\n",
    "data.info() # заменили, пропусков нет"
   ]
  },
  {
   "cell_type": "markdown",
   "metadata": {},
   "source": [
    "Вычисляем помесячную выручку каждого пользователям с учетом звонков, сообщений и интернет-трафика сверх лимита"
   ]
  },
  {
   "cell_type": "code",
   "execution_count": 30,
   "metadata": {},
   "outputs": [
    {
     "data": {
      "text/html": [
       "<div>\n",
       "<style scoped>\n",
       "    .dataframe tbody tr th:only-of-type {\n",
       "        vertical-align: middle;\n",
       "    }\n",
       "\n",
       "    .dataframe tbody tr th {\n",
       "        vertical-align: top;\n",
       "    }\n",
       "\n",
       "    .dataframe thead th {\n",
       "        text-align: right;\n",
       "    }\n",
       "</style>\n",
       "<table border=\"1\" class=\"dataframe\">\n",
       "  <thead>\n",
       "    <tr style=\"text-align: right;\">\n",
       "      <th></th>\n",
       "      <th>user_id</th>\n",
       "      <th>month</th>\n",
       "      <th>count_calls</th>\n",
       "      <th>sum_duration_minutes</th>\n",
       "      <th>count_message_month</th>\n",
       "      <th>gb_used_month</th>\n",
       "      <th>city</th>\n",
       "      <th>tariff</th>\n",
       "      <th>messages_included</th>\n",
       "      <th>mb_per_month_included</th>\n",
       "      <th>minutes_included</th>\n",
       "      <th>rub_monthly_fee</th>\n",
       "      <th>rub_per_gb</th>\n",
       "      <th>rub_per_message</th>\n",
       "      <th>rub_per_minute</th>\n",
       "      <th>gb_per_month_included</th>\n",
       "      <th>diff_calls</th>\n",
       "      <th>diff_messages</th>\n",
       "      <th>diff_gb</th>\n",
       "      <th>profit</th>\n",
       "    </tr>\n",
       "  </thead>\n",
       "  <tbody>\n",
       "    <tr>\n",
       "      <th>0</th>\n",
       "      <td>1000</td>\n",
       "      <td>2018-05-01</td>\n",
       "      <td>22.0</td>\n",
       "      <td>159.0</td>\n",
       "      <td>22.0</td>\n",
       "      <td>3.0</td>\n",
       "      <td>Краснодар</td>\n",
       "      <td>ultra</td>\n",
       "      <td>1000</td>\n",
       "      <td>30720</td>\n",
       "      <td>3000</td>\n",
       "      <td>1950</td>\n",
       "      <td>150</td>\n",
       "      <td>1</td>\n",
       "      <td>1</td>\n",
       "      <td>30</td>\n",
       "      <td>0.0</td>\n",
       "      <td>0.0</td>\n",
       "      <td>0.0</td>\n",
       "      <td>1950.0</td>\n",
       "    </tr>\n",
       "    <tr>\n",
       "      <th>1</th>\n",
       "      <td>1000</td>\n",
       "      <td>2018-06-01</td>\n",
       "      <td>43.0</td>\n",
       "      <td>172.0</td>\n",
       "      <td>60.0</td>\n",
       "      <td>23.0</td>\n",
       "      <td>Краснодар</td>\n",
       "      <td>ultra</td>\n",
       "      <td>1000</td>\n",
       "      <td>30720</td>\n",
       "      <td>3000</td>\n",
       "      <td>1950</td>\n",
       "      <td>150</td>\n",
       "      <td>1</td>\n",
       "      <td>1</td>\n",
       "      <td>30</td>\n",
       "      <td>0.0</td>\n",
       "      <td>0.0</td>\n",
       "      <td>0.0</td>\n",
       "      <td>1950.0</td>\n",
       "    </tr>\n",
       "    <tr>\n",
       "      <th>2</th>\n",
       "      <td>1000</td>\n",
       "      <td>2018-07-01</td>\n",
       "      <td>47.0</td>\n",
       "      <td>340.0</td>\n",
       "      <td>75.0</td>\n",
       "      <td>14.0</td>\n",
       "      <td>Краснодар</td>\n",
       "      <td>ultra</td>\n",
       "      <td>1000</td>\n",
       "      <td>30720</td>\n",
       "      <td>3000</td>\n",
       "      <td>1950</td>\n",
       "      <td>150</td>\n",
       "      <td>1</td>\n",
       "      <td>1</td>\n",
       "      <td>30</td>\n",
       "      <td>0.0</td>\n",
       "      <td>0.0</td>\n",
       "      <td>0.0</td>\n",
       "      <td>1950.0</td>\n",
       "    </tr>\n",
       "    <tr>\n",
       "      <th>3</th>\n",
       "      <td>1000</td>\n",
       "      <td>2018-08-01</td>\n",
       "      <td>52.0</td>\n",
       "      <td>408.0</td>\n",
       "      <td>81.0</td>\n",
       "      <td>14.0</td>\n",
       "      <td>Краснодар</td>\n",
       "      <td>ultra</td>\n",
       "      <td>1000</td>\n",
       "      <td>30720</td>\n",
       "      <td>3000</td>\n",
       "      <td>1950</td>\n",
       "      <td>150</td>\n",
       "      <td>1</td>\n",
       "      <td>1</td>\n",
       "      <td>30</td>\n",
       "      <td>0.0</td>\n",
       "      <td>0.0</td>\n",
       "      <td>0.0</td>\n",
       "      <td>1950.0</td>\n",
       "    </tr>\n",
       "    <tr>\n",
       "      <th>4</th>\n",
       "      <td>1000</td>\n",
       "      <td>2018-09-01</td>\n",
       "      <td>58.0</td>\n",
       "      <td>466.0</td>\n",
       "      <td>57.0</td>\n",
       "      <td>15.0</td>\n",
       "      <td>Краснодар</td>\n",
       "      <td>ultra</td>\n",
       "      <td>1000</td>\n",
       "      <td>30720</td>\n",
       "      <td>3000</td>\n",
       "      <td>1950</td>\n",
       "      <td>150</td>\n",
       "      <td>1</td>\n",
       "      <td>1</td>\n",
       "      <td>30</td>\n",
       "      <td>0.0</td>\n",
       "      <td>0.0</td>\n",
       "      <td>0.0</td>\n",
       "      <td>1950.0</td>\n",
       "    </tr>\n",
       "  </tbody>\n",
       "</table>\n",
       "</div>"
      ],
      "text/plain": [
       "   user_id      month  count_calls  sum_duration_minutes  count_message_month  \\\n",
       "0     1000 2018-05-01         22.0                 159.0                 22.0   \n",
       "1     1000 2018-06-01         43.0                 172.0                 60.0   \n",
       "2     1000 2018-07-01         47.0                 340.0                 75.0   \n",
       "3     1000 2018-08-01         52.0                 408.0                 81.0   \n",
       "4     1000 2018-09-01         58.0                 466.0                 57.0   \n",
       "\n",
       "   gb_used_month       city tariff  messages_included  mb_per_month_included  \\\n",
       "0            3.0  Краснодар  ultra               1000                  30720   \n",
       "1           23.0  Краснодар  ultra               1000                  30720   \n",
       "2           14.0  Краснодар  ultra               1000                  30720   \n",
       "3           14.0  Краснодар  ultra               1000                  30720   \n",
       "4           15.0  Краснодар  ultra               1000                  30720   \n",
       "\n",
       "   minutes_included  rub_monthly_fee  rub_per_gb  rub_per_message  \\\n",
       "0              3000             1950         150                1   \n",
       "1              3000             1950         150                1   \n",
       "2              3000             1950         150                1   \n",
       "3              3000             1950         150                1   \n",
       "4              3000             1950         150                1   \n",
       "\n",
       "   rub_per_minute  gb_per_month_included  diff_calls  diff_messages  diff_gb  \\\n",
       "0               1                     30         0.0            0.0      0.0   \n",
       "1               1                     30         0.0            0.0      0.0   \n",
       "2               1                     30         0.0            0.0      0.0   \n",
       "3               1                     30         0.0            0.0      0.0   \n",
       "4               1                     30         0.0            0.0      0.0   \n",
       "\n",
       "   profit  \n",
       "0  1950.0  \n",
       "1  1950.0  \n",
       "2  1950.0  \n",
       "3  1950.0  \n",
       "4  1950.0  "
      ]
     },
     "execution_count": 30,
     "metadata": {},
     "output_type": "execute_result"
    }
   ],
   "source": [
    "# создадим несколько функций  \n",
    "def profit_1(row):\n",
    "    if row['sum_duration_minutes'] > row['minutes_included']:\n",
    "        return (row['sum_duration_minutes'] - row['minutes_included']) * row['rub_per_minute']\n",
    "    return 0\n",
    "data['diff_calls'] = data.apply(profit_1, axis=1)\n",
    "\n",
    "def profit_2(row):\n",
    "    if row['count_message_month'] > row['messages_included']:\n",
    "        return (row['count_message_month'] - row['messages_included']) * row['rub_per_message']\n",
    "    return 0     \n",
    "data['diff_messages'] = data.apply(profit_2, axis=1)\n",
    "\n",
    "def profit_3(row):\n",
    "    if row['gb_used_month'] > row['gb_per_month_included']:\n",
    "        return (row['gb_used_month'] - row['gb_per_month_included']) * row['rub_per_gb']\n",
    "    return 0     \n",
    "data['diff_gb'] = data.apply(profit_3, axis=1)\n",
    "data['profit'] = data['diff_calls'] + data['diff_messages'] + data['diff_gb'] + data['rub_monthly_fee']\n",
    "data.head()\n"
   ]
  },
  {
   "cell_type": "markdown",
   "metadata": {},
   "source": [
    "Получили выручку по каждому месяцу для каждого клиента"
   ]
  },
  {
   "cell_type": "markdown",
   "metadata": {},
   "source": [
    "## Анализ данных"
   ]
  },
  {
   "cell_type": "markdown",
   "metadata": {},
   "source": [
    "По каждому тарифу определим среднее, дисперсию и стандартное отклонение выручки за каждый месяц"
   ]
  },
  {
   "cell_type": "code",
   "execution_count": 31,
   "metadata": {},
   "outputs": [
    {
     "data": {
      "text/html": [
       "<div>\n",
       "<style scoped>\n",
       "    .dataframe tbody tr th:only-of-type {\n",
       "        vertical-align: middle;\n",
       "    }\n",
       "\n",
       "    .dataframe tbody tr th {\n",
       "        vertical-align: top;\n",
       "    }\n",
       "\n",
       "    .dataframe thead tr th {\n",
       "        text-align: left;\n",
       "    }\n",
       "\n",
       "    .dataframe thead tr:last-of-type th {\n",
       "        text-align: right;\n",
       "    }\n",
       "</style>\n",
       "<table border=\"1\" class=\"dataframe\">\n",
       "  <thead>\n",
       "    <tr>\n",
       "      <th></th>\n",
       "      <th>sum</th>\n",
       "      <th>count</th>\n",
       "      <th>mean</th>\n",
       "      <th>median</th>\n",
       "      <th>var</th>\n",
       "      <th>std</th>\n",
       "    </tr>\n",
       "    <tr>\n",
       "      <th></th>\n",
       "      <th>profit</th>\n",
       "      <th>profit</th>\n",
       "      <th>profit</th>\n",
       "      <th>profit</th>\n",
       "      <th>profit</th>\n",
       "      <th>profit</th>\n",
       "    </tr>\n",
       "    <tr>\n",
       "      <th>tariff</th>\n",
       "      <th></th>\n",
       "      <th></th>\n",
       "      <th></th>\n",
       "      <th></th>\n",
       "      <th></th>\n",
       "      <th></th>\n",
       "    </tr>\n",
       "  </thead>\n",
       "  <tbody>\n",
       "    <tr>\n",
       "      <th>smart</th>\n",
       "      <td>2875351.0</td>\n",
       "      <td>2229</td>\n",
       "      <td>1289.973531</td>\n",
       "      <td>1023.0</td>\n",
       "      <td>669785.708006</td>\n",
       "      <td>818.404367</td>\n",
       "    </tr>\n",
       "    <tr>\n",
       "      <th>ultra</th>\n",
       "      <td>2039100.0</td>\n",
       "      <td>985</td>\n",
       "      <td>2070.152284</td>\n",
       "      <td>1950.0</td>\n",
       "      <td>141516.745079</td>\n",
       "      <td>376.187114</td>\n",
       "    </tr>\n",
       "    <tr>\n",
       "      <th>All</th>\n",
       "      <td>4914451.0</td>\n",
       "      <td>3214</td>\n",
       "      <td>1529.076229</td>\n",
       "      <td>1653.5</td>\n",
       "      <td>637204.804334</td>\n",
       "      <td>798.251091</td>\n",
       "    </tr>\n",
       "  </tbody>\n",
       "</table>\n",
       "</div>"
      ],
      "text/plain": [
       "              sum  count         mean  median            var         std\n",
       "           profit profit       profit  profit         profit      profit\n",
       "tariff                                                                  \n",
       "smart   2875351.0   2229  1289.973531  1023.0  669785.708006  818.404367\n",
       "ultra   2039100.0    985  2070.152284  1950.0  141516.745079  376.187114\n",
       "All     4914451.0   3214  1529.076229  1653.5  637204.804334  798.251091"
      ]
     },
     "execution_count": 31,
     "metadata": {},
     "output_type": "execute_result"
    }
   ],
   "source": [
    "data.pivot_table(index='tariff', values='profit', aggfunc=['sum', 'count', 'mean', 'median', 'var', 'std'], margins=True)"
   ]
  },
  {
   "cell_type": "markdown",
   "metadata": {},
   "source": [
    "Тариф Smart приносит оператору больше денег - 2.87 млн.руб. Тариф Ultra - 2.04 млн.руб.\n",
    "\n",
    "Но, любопытно, что медианное значение тарифа Smart больше почти на 500 руб. (1023), чем тарифная плата (550 руб.). А таблица describe ниже показывает, что в 75 % случаев пользователи smart достаточно много платят сверх тарифного плана.\n",
    "И среднее значение ежемесячной выручки выше в 2 раза, чем фиксированная тарифная плата (550 руб).\n",
    "\n",
    "Медианное значение тарифа Ultra соответствует тарифной стоимости 1950. И только в 25 %  месячных периодов клиентам не хватает стандартных опций, включенных в тариф.\n",
    "\n",
    "Дисперсия - это средний квадрат расстояния между значениями датасета и средним значением.\n",
    "Разброс значений выручки от среднего по тарифу ultra меньше, чем у smart. Следовательно, стандартное отклонение также меньше, чем smart.\n",
    "\n",
    "Можно сделать вывод, что у оператора бедность линеек тарифных планов. Как минимум нужен еще один промежуточный тариф между 550 и 1950, и теряется значительный сегмент рынка. Клиенты, которые умеют считать, скорей всего у другого оператора.\n",
    "\n",
    "Посмотрим что получается отдельно по звонкам, сообщений и интернет-трафику внутри каждого тарифа."
   ]
  },
  {
   "cell_type": "code",
   "execution_count": 32,
   "metadata": {},
   "outputs": [],
   "source": [
    "# выделим выборки отдельно по тарифам\n",
    "data_smart = data.query('tariff == \"smart\"')\n",
    "data_ultra = data.query('tariff == \"ultra\"')"
   ]
  },
  {
   "cell_type": "code",
   "execution_count": 33,
   "metadata": {},
   "outputs": [
    {
     "data": {
      "text/html": [
       "<div>\n",
       "<style scoped>\n",
       "    .dataframe tbody tr th:only-of-type {\n",
       "        vertical-align: middle;\n",
       "    }\n",
       "\n",
       "    .dataframe tbody tr th {\n",
       "        vertical-align: top;\n",
       "    }\n",
       "\n",
       "    .dataframe thead th {\n",
       "        text-align: right;\n",
       "    }\n",
       "</style>\n",
       "<table border=\"1\" class=\"dataframe\">\n",
       "  <thead>\n",
       "    <tr style=\"text-align: right;\">\n",
       "      <th></th>\n",
       "      <th>sum_duration_minutes</th>\n",
       "      <th>count_message_month</th>\n",
       "      <th>gb_used_month</th>\n",
       "      <th>profit</th>\n",
       "    </tr>\n",
       "  </thead>\n",
       "  <tbody>\n",
       "    <tr>\n",
       "      <th>count</th>\n",
       "      <td>2229.000000</td>\n",
       "      <td>2229.000000</td>\n",
       "      <td>2229.000000</td>\n",
       "      <td>2229.000000</td>\n",
       "    </tr>\n",
       "    <tr>\n",
       "      <th>mean</th>\n",
       "      <td>417.934948</td>\n",
       "      <td>33.384029</td>\n",
       "      <td>16.328847</td>\n",
       "      <td>1289.973531</td>\n",
       "    </tr>\n",
       "    <tr>\n",
       "      <th>std</th>\n",
       "      <td>190.313730</td>\n",
       "      <td>28.227876</td>\n",
       "      <td>5.747061</td>\n",
       "      <td>818.404367</td>\n",
       "    </tr>\n",
       "    <tr>\n",
       "      <th>min</th>\n",
       "      <td>0.000000</td>\n",
       "      <td>0.000000</td>\n",
       "      <td>0.000000</td>\n",
       "      <td>550.000000</td>\n",
       "    </tr>\n",
       "    <tr>\n",
       "      <th>25%</th>\n",
       "      <td>282.000000</td>\n",
       "      <td>10.000000</td>\n",
       "      <td>13.000000</td>\n",
       "      <td>550.000000</td>\n",
       "    </tr>\n",
       "    <tr>\n",
       "      <th>50%</th>\n",
       "      <td>422.000000</td>\n",
       "      <td>28.000000</td>\n",
       "      <td>17.000000</td>\n",
       "      <td>1023.000000</td>\n",
       "    </tr>\n",
       "    <tr>\n",
       "      <th>75%</th>\n",
       "      <td>545.000000</td>\n",
       "      <td>51.000000</td>\n",
       "      <td>20.000000</td>\n",
       "      <td>1750.000000</td>\n",
       "    </tr>\n",
       "    <tr>\n",
       "      <th>max</th>\n",
       "      <td>1435.000000</td>\n",
       "      <td>143.000000</td>\n",
       "      <td>38.000000</td>\n",
       "      <td>6770.000000</td>\n",
       "    </tr>\n",
       "  </tbody>\n",
       "</table>\n",
       "</div>"
      ],
      "text/plain": [
       "       sum_duration_minutes  count_message_month  gb_used_month       profit\n",
       "count           2229.000000          2229.000000    2229.000000  2229.000000\n",
       "mean             417.934948            33.384029      16.328847  1289.973531\n",
       "std              190.313730            28.227876       5.747061   818.404367\n",
       "min                0.000000             0.000000       0.000000   550.000000\n",
       "25%              282.000000            10.000000      13.000000   550.000000\n",
       "50%              422.000000            28.000000      17.000000  1023.000000\n",
       "75%              545.000000            51.000000      20.000000  1750.000000\n",
       "max             1435.000000           143.000000      38.000000  6770.000000"
      ]
     },
     "execution_count": 33,
     "metadata": {},
     "output_type": "execute_result"
    }
   ],
   "source": [
    "data_smart[['sum_duration_minutes', 'count_message_month', 'gb_used_month', 'profit']].describe()"
   ]
  },
  {
   "cell_type": "code",
   "execution_count": 34,
   "metadata": {
    "scrolled": true
   },
   "outputs": [
    {
     "data": {
      "text/html": [
       "<div>\n",
       "<style scoped>\n",
       "    .dataframe tbody tr th:only-of-type {\n",
       "        vertical-align: middle;\n",
       "    }\n",
       "\n",
       "    .dataframe tbody tr th {\n",
       "        vertical-align: top;\n",
       "    }\n",
       "\n",
       "    .dataframe thead th {\n",
       "        text-align: right;\n",
       "    }\n",
       "</style>\n",
       "<table border=\"1\" class=\"dataframe\">\n",
       "  <thead>\n",
       "    <tr style=\"text-align: right;\">\n",
       "      <th></th>\n",
       "      <th>sum_duration_minutes</th>\n",
       "      <th>count_message_month</th>\n",
       "      <th>gb_used_month</th>\n",
       "      <th>profit</th>\n",
       "    </tr>\n",
       "  </thead>\n",
       "  <tbody>\n",
       "    <tr>\n",
       "      <th>count</th>\n",
       "      <td>985.000000</td>\n",
       "      <td>985.000000</td>\n",
       "      <td>985.000000</td>\n",
       "      <td>985.000000</td>\n",
       "    </tr>\n",
       "    <tr>\n",
       "      <th>mean</th>\n",
       "      <td>526.623350</td>\n",
       "      <td>49.363452</td>\n",
       "      <td>19.494416</td>\n",
       "      <td>2070.152284</td>\n",
       "    </tr>\n",
       "    <tr>\n",
       "      <th>std</th>\n",
       "      <td>317.606098</td>\n",
       "      <td>47.804457</td>\n",
       "      <td>9.853511</td>\n",
       "      <td>376.187114</td>\n",
       "    </tr>\n",
       "    <tr>\n",
       "      <th>min</th>\n",
       "      <td>0.000000</td>\n",
       "      <td>0.000000</td>\n",
       "      <td>0.000000</td>\n",
       "      <td>1950.000000</td>\n",
       "    </tr>\n",
       "    <tr>\n",
       "      <th>25%</th>\n",
       "      <td>284.000000</td>\n",
       "      <td>6.000000</td>\n",
       "      <td>12.000000</td>\n",
       "      <td>1950.000000</td>\n",
       "    </tr>\n",
       "    <tr>\n",
       "      <th>50%</th>\n",
       "      <td>518.000000</td>\n",
       "      <td>38.000000</td>\n",
       "      <td>19.000000</td>\n",
       "      <td>1950.000000</td>\n",
       "    </tr>\n",
       "    <tr>\n",
       "      <th>75%</th>\n",
       "      <td>752.000000</td>\n",
       "      <td>79.000000</td>\n",
       "      <td>27.000000</td>\n",
       "      <td>1950.000000</td>\n",
       "    </tr>\n",
       "    <tr>\n",
       "      <th>max</th>\n",
       "      <td>1673.000000</td>\n",
       "      <td>224.000000</td>\n",
       "      <td>49.000000</td>\n",
       "      <td>4800.000000</td>\n",
       "    </tr>\n",
       "  </tbody>\n",
       "</table>\n",
       "</div>"
      ],
      "text/plain": [
       "       sum_duration_minutes  count_message_month  gb_used_month       profit\n",
       "count            985.000000           985.000000     985.000000   985.000000\n",
       "mean             526.623350            49.363452      19.494416  2070.152284\n",
       "std              317.606098            47.804457       9.853511   376.187114\n",
       "min                0.000000             0.000000       0.000000  1950.000000\n",
       "25%              284.000000             6.000000      12.000000  1950.000000\n",
       "50%              518.000000            38.000000      19.000000  1950.000000\n",
       "75%              752.000000            79.000000      27.000000  1950.000000\n",
       "max             1673.000000           224.000000      49.000000  4800.000000"
      ]
     },
     "execution_count": 34,
     "metadata": {},
     "output_type": "execute_result"
    }
   ],
   "source": [
    "data_ultra[['sum_duration_minutes', 'count_message_month', 'gb_used_month', 'profit']].describe()"
   ]
  },
  {
   "cell_type": "code",
   "execution_count": 35,
   "metadata": {},
   "outputs": [
    {
     "data": {
      "text/html": [
       "<div>\n",
       "<style scoped>\n",
       "    .dataframe tbody tr th:only-of-type {\n",
       "        vertical-align: middle;\n",
       "    }\n",
       "\n",
       "    .dataframe tbody tr th {\n",
       "        vertical-align: top;\n",
       "    }\n",
       "\n",
       "    .dataframe thead tr th {\n",
       "        text-align: left;\n",
       "    }\n",
       "\n",
       "    .dataframe thead tr:last-of-type th {\n",
       "        text-align: right;\n",
       "    }\n",
       "</style>\n",
       "<table border=\"1\" class=\"dataframe\">\n",
       "  <thead>\n",
       "    <tr>\n",
       "      <th></th>\n",
       "      <th colspan=\"3\" halign=\"left\">var</th>\n",
       "      <th colspan=\"3\" halign=\"left\">std</th>\n",
       "    </tr>\n",
       "    <tr>\n",
       "      <th></th>\n",
       "      <th>count_message_month</th>\n",
       "      <th>gb_used_month</th>\n",
       "      <th>sum_duration_minutes</th>\n",
       "      <th>count_message_month</th>\n",
       "      <th>gb_used_month</th>\n",
       "      <th>sum_duration_minutes</th>\n",
       "    </tr>\n",
       "    <tr>\n",
       "      <th>tariff</th>\n",
       "      <th></th>\n",
       "      <th></th>\n",
       "      <th></th>\n",
       "      <th></th>\n",
       "      <th></th>\n",
       "      <th></th>\n",
       "    </tr>\n",
       "  </thead>\n",
       "  <tbody>\n",
       "    <tr>\n",
       "      <th>smart</th>\n",
       "      <td>796.812958</td>\n",
       "      <td>33.028705</td>\n",
       "      <td>36219.315784</td>\n",
       "      <td>28.227876</td>\n",
       "      <td>5.747061</td>\n",
       "      <td>190.313730</td>\n",
       "    </tr>\n",
       "    <tr>\n",
       "      <th>ultra</th>\n",
       "      <td>2285.266143</td>\n",
       "      <td>97.091686</td>\n",
       "      <td>100873.633397</td>\n",
       "      <td>47.804457</td>\n",
       "      <td>9.853511</td>\n",
       "      <td>317.606098</td>\n",
       "    </tr>\n",
       "    <tr>\n",
       "      <th>All</th>\n",
       "      <td>1306.701442</td>\n",
       "      <td>54.768645</td>\n",
       "      <td>58520.437688</td>\n",
       "      <td>36.148326</td>\n",
       "      <td>7.400584</td>\n",
       "      <td>241.909978</td>\n",
       "    </tr>\n",
       "  </tbody>\n",
       "</table>\n",
       "</div>"
      ],
      "text/plain": [
       "                       var                                     \\\n",
       "       count_message_month gb_used_month sum_duration_minutes   \n",
       "tariff                                                          \n",
       "smart           796.812958     33.028705         36219.315784   \n",
       "ultra          2285.266143     97.091686        100873.633397   \n",
       "All            1306.701442     54.768645         58520.437688   \n",
       "\n",
       "                       std                                     \n",
       "       count_message_month gb_used_month sum_duration_minutes  \n",
       "tariff                                                         \n",
       "smart            28.227876      5.747061           190.313730  \n",
       "ultra            47.804457      9.853511           317.606098  \n",
       "All              36.148326      7.400584           241.909978  "
      ]
     },
     "execution_count": 35,
     "metadata": {},
     "output_type": "execute_result"
    }
   ],
   "source": [
    "data.pivot_table(index='tariff', values=['sum_duration_minutes', 'count_message_month', 'gb_used_month'], aggfunc=['var', 'std'], margins=True)"
   ]
  },
  {
   "cell_type": "markdown",
   "metadata": {},
   "source": [
    "Дисперсия - средний квадрат расстояния между значениями датасета и характеризует меру разброса данных вокруг среднего значения. Разброс значений звонков, сообщений и gb от среднего по тарифу ultra больше, чем у smart. Следовательно, стандартные отклонения также больше, чем у smart. \n",
    "\n",
    "Это объясняется большими возможностями тарифа ultra и включенными в тариф достаточным количеством опций.  \n"
   ]
  },
  {
   "cell_type": "markdown",
   "metadata": {},
   "source": [
    " ### Сколько сообщений"
   ]
  },
  {
   "cell_type": "code",
   "execution_count": 36,
   "metadata": {},
   "outputs": [
    {
     "data": {
      "image/png": "[encoded data removed]",
      "text/plain": [
       "<Figure size 432x288 with 1 Axes>"
      ]
     },
     "metadata": {
      "needs_background": "light"
     },
     "output_type": "display_data"
    }
   ],
   "source": [
    "data_smart['count_message_month'].hist(bins=150).set_xlabel('количество сообщений')\n",
    "data_ultra['count_message_month'].hist(bins=150)\n",
    "plt.legend(['smart', 'ultra']);"
   ]
  },
  {
   "cell_type": "markdown",
   "metadata": {},
   "source": [
    "Обычно большинство пользователей ежемесячно укладываются во включенный в тариф лимит сообщений. \n",
    "Распределение по количеству сообщений является нормальным скошенным вправо.\n",
    "\n",
    "Велико количество вариантов, когда не пользуются сообщениями, их заменили мессенджеры. "
   ]
  },
  {
   "cell_type": "markdown",
   "metadata": {},
   "source": [
    " ### Сколько минут"
   ]
  },
  {
   "cell_type": "code",
   "execution_count": 37,
   "metadata": {},
   "outputs": [
    {
     "data": {
      "image/png": "[encoded data removed]",
      "text/plain": [
       "<Figure size 432x288 with 1 Axes>"
      ]
     },
     "metadata": {
      "needs_background": "light"
     },
     "output_type": "display_data"
    }
   ],
   "source": [
    "data_smart['sum_duration_minutes'].hist(bins=300).set_xlabel('количество минут тарифа smart');"
   ]
  },
  {
   "cell_type": "markdown",
   "metadata": {},
   "source": [
    "Здесь видим Нормальное распределение со средним значением 417 минут разговора и медианой 422. \n",
    "Мы видим, что чуть меньше половина данных не укладывается в лимит тарифного плана 500 минут разговора.   "
   ]
  },
  {
   "cell_type": "code",
   "execution_count": 38,
   "metadata": {},
   "outputs": [
    {
     "data": {
      "image/png": "[encoded data removed]",
      "text/plain": [
       "<Figure size 432x288 with 1 Axes>"
      ]
     },
     "metadata": {
      "needs_background": "light"
     },
     "output_type": "display_data"
    }
   ],
   "source": [
    "data_ultra['sum_duration_minutes'].hist(bins=300).set_xlabel('количество минут тарифа ultra');"
   ]
  },
  {
   "cell_type": "markdown",
   "metadata": {},
   "source": [
    "Тариф ultra также имеет нормальное распределение.\n",
    "Среднее 526 минут. Т.к. в тариф входит 3000 минут, то все клиенты всегда укладываются в лимит тарифа."
   ]
  },
  {
   "cell_type": "markdown",
   "metadata": {},
   "source": [
    "### Сколько интернета"
   ]
  },
  {
   "cell_type": "code",
   "execution_count": 39,
   "metadata": {},
   "outputs": [
    {
     "data": {
      "image/png": "[encoded data removed]",
      "text/plain": [
       "<Figure size 864x432 with 1 Axes>"
      ]
     },
     "metadata": {
      "needs_background": "light"
     },
     "output_type": "display_data"
    }
   ],
   "source": [
    "data_smart['gb_used_month'].plot(kind='hist', bins=20, alpha=0.7, figsize=(12,6))\n",
    "data_ultra['gb_used_month'].plot(kind='hist', bins=20, alpha=0.5, figsize=(12,6))\n",
    "plt.title('Гистограммы распределения использованных gb')\n",
    "plt.xlabel('gb')\n",
    "plt.legend(['smart', 'ultra'])\n",
    "plt.show()"
   ]
  },
  {
   "cell_type": "markdown",
   "metadata": {},
   "source": [
    "15 гб и 30 гб включенны в тарифы smart и ultra, соответственно.\n",
    "Среднее значение требуемого количества интернета 16 и 19 гб, соответственно у тарифов smart и ultra.\n",
    "\n",
    "Оба распределения нормальные. Тариф smart имеет два пика 15 и 20 гб. В большинстве случаев (более 50 %) клиенты smart выходят за лимит в 15 gb. В тарифе ultra около в 75 % данных клиенты укладываются в предоставляемый лимит 30 гб."
   ]
  },
  {
   "cell_type": "markdown",
   "metadata": {},
   "source": [
    "## Проверка гипотез"
   ]
  },
  {
   "cell_type": "markdown",
   "metadata": {},
   "source": [
    "### Гипотеза равенства средних выручек тарифов"
   ]
  },
  {
   "cell_type": "markdown",
   "metadata": {},
   "source": [
    "Проверим различается ли средняя выручка пользователей тарифов «Ультра» и «Смарт» с помощью ttest \n",
    "\n",
    "scipy.stats.ttest_ind - специальный метод, который используется для проверки гипотезы о равенстве среднего двух генеральных совокупностей\n",
    "\n",
    "Нулевая гипотеза - средняя выручка пользователей тарифов «Ультра» и «Смарт» равна.\n",
    "\n",
    "Альтернативая гипотеза - средняя выручка пользователей тарифов «Ультра» и «Смарт» не равна."
   ]
  },
  {
   "cell_type": "code",
   "execution_count": 40,
   "metadata": {},
   "outputs": [
    {
     "name": "stdout",
     "output_type": "stream",
     "text": [
      "p-значение: 1.4229814360764067e-160\n",
      "Отвергаем нулевую гипотезу: средняя выручка пользователей тарифов «Ультра» и «Смарт» не равны\n"
     ]
    }
   ],
   "source": [
    "array_1 = data_smart['profit']\n",
    "array_2 = data_ultra['profit']\n",
    " \n",
    "alpha = .05    #критический уровень статистической значимости, возьмем общепринятое пороговые значения — 5%\n",
    " \n",
    "results = st.ttest_ind(array_1, array_2)\n",
    " \n",
    "print('p-значение:', results.pvalue)\n",
    " \n",
    "if results.pvalue < alpha:\n",
    "    print(\"Отвергаем нулевую гипотезу: средняя выручка пользователей тарифов «Ультра» и «Смарт» не равны\")\n",
    "else:\n",
    "    print(\"Не получилось отвергнуть нулевую гипотезу\")"
   ]
  },
  {
   "cell_type": "markdown",
   "metadata": {},
   "source": [
    "В гипотезе выдается очень маленькое значение вероятности равенства, поэтому нулевая гипотеза отвергается."
   ]
  },
  {
   "cell_type": "markdown",
   "metadata": {},
   "source": [
    "### Гипотеза равенства средней выручки пользователей из Москвы и из других регионов"
   ]
  },
  {
   "cell_type": "markdown",
   "metadata": {},
   "source": [
    "H₀: средняя выручка пользователей из Москвы равна выручке пользователей из других регионов\n",
    "\n",
    "H₁: средняя выручка пользователей из Москвы не равна выручке пользователей из других регионов"
   ]
  },
  {
   "cell_type": "code",
   "execution_count": 41,
   "metadata": {},
   "outputs": [
    {
     "name": "stdout",
     "output_type": "stream",
     "text": [
      "p-значение: 0.5440152911670224\n",
      "Не получилось отвергнуть гипотезу\n"
     ]
    }
   ],
   "source": [
    "array_1 = data[data['city'] == 'Москва']['profit']\n",
    "array_2 = data[data['city'] != 'Москва']['profit']\n",
    "\n",
    "alpha = .05   #критический уровень статистической значимости\n",
    " \n",
    "results = st.ttest_ind(array_1, array_2)\n",
    " \n",
    "print('p-значение:', results.pvalue)\n",
    " \n",
    "if results.pvalue < alpha:\n",
    "    print(\"Отвергаем гипотезу\")\n",
    "else:\n",
    "    print(\"Не получилось отвергнуть гипотезу\")"
   ]
  },
  {
   "cell_type": "markdown",
   "metadata": {},
   "source": [
    "Вероятность получить равенство средних высоко, поэтому гипотезу не отвергаем."
   ]
  },
  {
   "cell_type": "markdown",
   "metadata": {},
   "source": [
    "## Напишите общий вывод"
   ]
  },
  {
   "cell_type": "markdown",
   "metadata": {},
   "source": [
    "Можно сделать вывод, что тариф smart с позиции оператора более интересен и приносит больше денег за исследуемый период (2,63 млн.), т.к. клиенты чаще переплачивают сверх лимита за звонки и интернет-трафик.\n",
    "\n",
    "Но лучше развивать и рекламировать сейчас тариф ultra, он более сбалансированный по опциям. С позиции клиента, нет ощущения \"обманутости\", когда уже заплатил и потом еще нужно доплачивать, как в тарифе smart.\n",
    "\n",
    "Cреднее значение выручки у ultra больше (2070 руб.), и разрыв между общими выручками по двум тарифам небольшой. Выгоднее привлечь сейчас новых клиентов ultra, и тариф ultra будет приносить больше денег.\n",
    "\n",
    "### Итоговый вывод \n",
    "Перспективным тарифом для оператора является тариф ultra, именно в его пользу нужно скорректировать рекламный бюджет"
   ]
  }
 ],
 "metadata": {
  "ExecuteTimeLog": [
   {
    "duration": 55,
    "start_time": "2022-03-18T14:51:13.307Z"
   },
   {
    "duration": 417,
    "start_time": "2022-03-18T14:51:25.015Z"
   },
   {
    "duration": 16,
    "start_time": "2022-03-18T14:51:25.434Z"
   },
   {
    "duration": 14,
    "start_time": "2022-03-18T14:51:25.452Z"
   },
   {
    "duration": 18,
    "start_time": "2022-03-18T14:51:43.101Z"
   },
   {
    "duration": 16,
    "start_time": "2022-03-18T14:52:15.961Z"
   },
   {
    "duration": 20,
    "start_time": "2022-03-18T14:52:22.159Z"
   },
   {
    "duration": 12,
    "start_time": "2022-03-18T14:56:02.515Z"
   },
   {
    "duration": 384,
    "start_time": "2022-03-18T14:56:10.445Z"
   },
   {
    "duration": 18,
    "start_time": "2022-03-18T14:56:10.831Z"
   },
   {
    "duration": 20,
    "start_time": "2022-03-18T14:56:10.850Z"
   },
   {
    "duration": 13,
    "start_time": "2022-03-18T14:56:38.499Z"
   },
   {
    "duration": 46,
    "start_time": "2022-03-18T20:18:31.820Z"
   },
   {
    "duration": 400,
    "start_time": "2022-03-18T20:18:38.382Z"
   },
   {
    "duration": 22,
    "start_time": "2022-03-18T20:18:38.784Z"
   },
   {
    "duration": 22,
    "start_time": "2022-03-18T20:18:38.808Z"
   },
   {
    "duration": 19,
    "start_time": "2022-03-18T20:18:38.832Z"
   },
   {
    "duration": 9,
    "start_time": "2022-03-18T21:07:06.675Z"
   },
   {
    "duration": 15,
    "start_time": "2022-03-18T21:10:34.323Z"
   },
   {
    "duration": 64,
    "start_time": "2022-03-18T21:11:10.044Z"
   },
   {
    "duration": 411,
    "start_time": "2022-03-18T21:11:17.656Z"
   },
   {
    "duration": 18,
    "start_time": "2022-03-18T21:11:18.069Z"
   },
   {
    "duration": 17,
    "start_time": "2022-03-18T21:11:18.089Z"
   },
   {
    "duration": 72,
    "start_time": "2022-03-18T21:11:18.107Z"
   },
   {
    "duration": 0,
    "start_time": "2022-03-18T21:11:18.181Z"
   },
   {
    "duration": 0,
    "start_time": "2022-03-18T21:11:18.182Z"
   },
   {
    "duration": 7,
    "start_time": "2022-03-18T21:11:33.766Z"
   },
   {
    "duration": 26,
    "start_time": "2022-03-18T21:11:54.916Z"
   },
   {
    "duration": 8,
    "start_time": "2022-03-18T21:12:03.279Z"
   },
   {
    "duration": 388,
    "start_time": "2022-03-18T21:20:43.458Z"
   },
   {
    "duration": 12,
    "start_time": "2022-03-18T21:21:01.189Z"
   },
   {
    "duration": 7,
    "start_time": "2022-03-18T21:22:39.144Z"
   },
   {
    "duration": 8,
    "start_time": "2022-03-18T21:22:57.747Z"
   },
   {
    "duration": 11,
    "start_time": "2022-03-18T21:23:09.879Z"
   },
   {
    "duration": 8,
    "start_time": "2022-03-18T21:23:26.125Z"
   },
   {
    "duration": 9,
    "start_time": "2022-03-18T21:25:33.202Z"
   },
   {
    "duration": 14,
    "start_time": "2022-03-18T21:26:13.395Z"
   },
   {
    "duration": 13,
    "start_time": "2022-03-18T21:26:23.904Z"
   },
   {
    "duration": 9,
    "start_time": "2022-03-18T21:26:34.466Z"
   },
   {
    "duration": 423,
    "start_time": "2022-03-18T21:45:06.046Z"
   },
   {
    "duration": 406,
    "start_time": "2022-03-18T21:45:06.471Z"
   },
   {
    "duration": 17,
    "start_time": "2022-03-18T21:45:06.879Z"
   },
   {
    "duration": 16,
    "start_time": "2022-03-18T21:45:06.897Z"
   },
   {
    "duration": 25,
    "start_time": "2022-03-18T21:45:06.915Z"
   },
   {
    "duration": 24,
    "start_time": "2022-03-18T21:45:06.941Z"
   },
   {
    "duration": 29,
    "start_time": "2022-03-18T21:45:06.966Z"
   },
   {
    "duration": 21,
    "start_time": "2022-03-18T21:46:19.123Z"
   },
   {
    "duration": 20,
    "start_time": "2022-03-18T21:46:33.322Z"
   },
   {
    "duration": 387,
    "start_time": "2022-03-18T21:46:46.611Z"
   },
   {
    "duration": 421,
    "start_time": "2022-03-18T21:46:47.000Z"
   },
   {
    "duration": 18,
    "start_time": "2022-03-18T21:46:47.423Z"
   },
   {
    "duration": 86,
    "start_time": "2022-03-18T21:46:47.444Z"
   },
   {
    "duration": 9,
    "start_time": "2022-03-18T21:46:47.532Z"
   },
   {
    "duration": 9,
    "start_time": "2022-03-18T21:46:47.543Z"
   },
   {
    "duration": 25,
    "start_time": "2022-03-18T21:46:47.554Z"
   },
   {
    "duration": 11,
    "start_time": "2022-03-18T21:46:47.581Z"
   },
   {
    "duration": 23,
    "start_time": "2022-03-18T21:54:20.695Z"
   },
   {
    "duration": 9,
    "start_time": "2022-03-18T21:54:37.850Z"
   },
   {
    "duration": 9,
    "start_time": "2022-03-18T22:22:43.378Z"
   },
   {
    "duration": 26,
    "start_time": "2022-03-18T22:23:08.454Z"
   },
   {
    "duration": 63,
    "start_time": "2022-03-18T22:46:07.460Z"
   },
   {
    "duration": 8,
    "start_time": "2022-03-18T22:46:50.291Z"
   },
   {
    "duration": 439,
    "start_time": "2022-03-18T23:09:29.539Z"
   },
   {
    "duration": 445,
    "start_time": "2022-03-18T23:09:29.981Z"
   },
   {
    "duration": 19,
    "start_time": "2022-03-18T23:09:30.428Z"
   },
   {
    "duration": 18,
    "start_time": "2022-03-18T23:09:30.449Z"
   },
   {
    "duration": 26,
    "start_time": "2022-03-18T23:09:30.469Z"
   },
   {
    "duration": 10,
    "start_time": "2022-03-18T23:09:30.497Z"
   },
   {
    "duration": 31,
    "start_time": "2022-03-18T23:09:30.509Z"
   },
   {
    "duration": 11,
    "start_time": "2022-03-18T23:09:30.542Z"
   },
   {
    "duration": 29,
    "start_time": "2022-03-18T23:09:30.562Z"
   },
   {
    "duration": 9,
    "start_time": "2022-03-18T23:09:30.594Z"
   },
   {
    "duration": 28,
    "start_time": "2022-03-18T23:09:30.604Z"
   },
   {
    "duration": 7,
    "start_time": "2022-03-18T23:09:30.634Z"
   },
   {
    "duration": 9,
    "start_time": "2022-03-18T23:10:32.567Z"
   },
   {
    "duration": 423,
    "start_time": "2022-03-19T19:21:02.650Z"
   },
   {
    "duration": 391,
    "start_time": "2022-03-19T19:21:03.075Z"
   },
   {
    "duration": 15,
    "start_time": "2022-03-19T19:21:03.468Z"
   },
   {
    "duration": 12,
    "start_time": "2022-03-19T19:21:03.485Z"
   },
   {
    "duration": 10,
    "start_time": "2022-03-19T19:21:03.500Z"
   },
   {
    "duration": 10,
    "start_time": "2022-03-19T19:21:03.511Z"
   },
   {
    "duration": 45,
    "start_time": "2022-03-19T19:21:03.522Z"
   },
   {
    "duration": 9,
    "start_time": "2022-03-19T19:21:03.568Z"
   },
   {
    "duration": 28,
    "start_time": "2022-03-19T19:21:03.579Z"
   },
   {
    "duration": 7,
    "start_time": "2022-03-19T19:21:03.609Z"
   },
   {
    "duration": 45,
    "start_time": "2022-03-19T19:21:03.618Z"
   },
   {
    "duration": 5,
    "start_time": "2022-03-19T19:21:03.665Z"
   },
   {
    "duration": 10,
    "start_time": "2022-03-19T19:21:03.671Z"
   },
   {
    "duration": 26,
    "start_time": "2022-03-19T19:21:03.683Z"
   },
   {
    "duration": 393,
    "start_time": "2022-03-19T19:21:18.907Z"
   },
   {
    "duration": 407,
    "start_time": "2022-03-19T19:21:19.302Z"
   },
   {
    "duration": 17,
    "start_time": "2022-03-19T19:21:19.711Z"
   },
   {
    "duration": 11,
    "start_time": "2022-03-19T19:21:19.729Z"
   },
   {
    "duration": 25,
    "start_time": "2022-03-19T19:21:19.742Z"
   },
   {
    "duration": 14,
    "start_time": "2022-03-19T19:21:19.769Z"
   },
   {
    "duration": 21,
    "start_time": "2022-03-19T19:21:19.784Z"
   },
   {
    "duration": 9,
    "start_time": "2022-03-19T19:21:19.806Z"
   },
   {
    "duration": 46,
    "start_time": "2022-03-19T19:21:19.818Z"
   },
   {
    "duration": 8,
    "start_time": "2022-03-19T19:21:19.866Z"
   },
   {
    "duration": 30,
    "start_time": "2022-03-19T19:21:19.875Z"
   },
   {
    "duration": 5,
    "start_time": "2022-03-19T19:21:19.907Z"
   },
   {
    "duration": 13,
    "start_time": "2022-03-19T19:21:19.914Z"
   },
   {
    "duration": 49,
    "start_time": "2022-03-19T19:21:19.930Z"
   },
   {
    "duration": 79,
    "start_time": "2022-03-19T19:21:35.847Z"
   },
   {
    "duration": 21,
    "start_time": "2022-03-19T19:21:52.115Z"
   },
   {
    "duration": 3,
    "start_time": "2022-03-19T19:47:34.852Z"
   },
   {
    "duration": 40,
    "start_time": "2022-03-19T19:47:41.627Z"
   },
   {
    "duration": 34,
    "start_time": "2022-03-19T20:11:23.020Z"
   },
   {
    "duration": 28,
    "start_time": "2022-03-19T20:16:48.469Z"
   },
   {
    "duration": 21,
    "start_time": "2022-03-19T20:20:36.687Z"
   },
   {
    "duration": 44,
    "start_time": "2022-03-19T20:21:13.235Z"
   },
   {
    "duration": 3,
    "start_time": "2022-03-19T20:22:51.235Z"
   },
   {
    "duration": 8,
    "start_time": "2022-03-19T20:23:01.022Z"
   },
   {
    "duration": 29,
    "start_time": "2022-03-19T20:23:09.461Z"
   },
   {
    "duration": 47,
    "start_time": "2022-03-19T20:23:14.848Z"
   },
   {
    "duration": 8,
    "start_time": "2022-03-19T20:23:49.262Z"
   },
   {
    "duration": 36,
    "start_time": "2022-03-19T20:24:04.034Z"
   },
   {
    "duration": 427,
    "start_time": "2022-03-19T20:24:24.028Z"
   },
   {
    "duration": 385,
    "start_time": "2022-03-19T20:24:24.456Z"
   },
   {
    "duration": 16,
    "start_time": "2022-03-19T20:24:24.842Z"
   },
   {
    "duration": 11,
    "start_time": "2022-03-19T20:24:24.862Z"
   },
   {
    "duration": 9,
    "start_time": "2022-03-19T20:24:24.875Z"
   },
   {
    "duration": 9,
    "start_time": "2022-03-19T20:24:24.886Z"
   },
   {
    "duration": 24,
    "start_time": "2022-03-19T20:24:24.896Z"
   },
   {
    "duration": 10,
    "start_time": "2022-03-19T20:24:24.921Z"
   },
   {
    "duration": 42,
    "start_time": "2022-03-19T20:24:24.932Z"
   },
   {
    "duration": 7,
    "start_time": "2022-03-19T20:24:24.975Z"
   },
   {
    "duration": 27,
    "start_time": "2022-03-19T20:24:24.983Z"
   },
   {
    "duration": 5,
    "start_time": "2022-03-19T20:24:25.012Z"
   },
   {
    "duration": 11,
    "start_time": "2022-03-19T20:24:25.019Z"
   },
   {
    "duration": 67,
    "start_time": "2022-03-19T20:24:25.032Z"
   },
   {
    "duration": 29,
    "start_time": "2022-03-19T20:24:25.100Z"
   },
   {
    "duration": 7,
    "start_time": "2022-03-19T20:24:25.131Z"
   },
   {
    "duration": 53,
    "start_time": "2022-03-19T20:24:25.140Z"
   },
   {
    "duration": 489,
    "start_time": "2022-03-19T20:25:23.875Z"
   },
   {
    "duration": 34,
    "start_time": "2022-03-19T20:26:14.932Z"
   },
   {
    "duration": 110,
    "start_time": "2022-03-19T20:27:20.231Z"
   },
   {
    "duration": 40,
    "start_time": "2022-03-19T20:27:32.621Z"
   },
   {
    "duration": 40,
    "start_time": "2022-03-19T20:28:13.158Z"
   },
   {
    "duration": 10,
    "start_time": "2022-03-19T20:29:08.259Z"
   },
   {
    "duration": 401,
    "start_time": "2022-03-19T20:29:20.905Z"
   },
   {
    "duration": 379,
    "start_time": "2022-03-19T20:29:21.308Z"
   },
   {
    "duration": 16,
    "start_time": "2022-03-19T20:29:21.689Z"
   },
   {
    "duration": 11,
    "start_time": "2022-03-19T20:29:21.706Z"
   },
   {
    "duration": 10,
    "start_time": "2022-03-19T20:29:21.720Z"
   },
   {
    "duration": 33,
    "start_time": "2022-03-19T20:29:21.731Z"
   },
   {
    "duration": 19,
    "start_time": "2022-03-19T20:29:21.765Z"
   },
   {
    "duration": 8,
    "start_time": "2022-03-19T20:29:21.786Z"
   },
   {
    "duration": 24,
    "start_time": "2022-03-19T20:29:21.796Z"
   },
   {
    "duration": 8,
    "start_time": "2022-03-19T20:29:21.821Z"
   },
   {
    "duration": 50,
    "start_time": "2022-03-19T20:29:21.830Z"
   },
   {
    "duration": 1859,
    "start_time": "2022-03-19T20:29:21.881Z"
   },
   {
    "duration": 0,
    "start_time": "2022-03-19T20:29:23.742Z"
   },
   {
    "duration": 0,
    "start_time": "2022-03-19T20:29:23.744Z"
   },
   {
    "duration": 0,
    "start_time": "2022-03-19T20:29:23.745Z"
   },
   {
    "duration": 0,
    "start_time": "2022-03-19T20:29:23.747Z"
   },
   {
    "duration": 0,
    "start_time": "2022-03-19T20:29:23.748Z"
   },
   {
    "duration": 469,
    "start_time": "2022-03-19T20:30:21.188Z"
   },
   {
    "duration": 543,
    "start_time": "2022-03-19T20:30:21.660Z"
   },
   {
    "duration": 22,
    "start_time": "2022-03-19T20:30:22.205Z"
   },
   {
    "duration": 12,
    "start_time": "2022-03-19T20:30:22.229Z"
   },
   {
    "duration": 9,
    "start_time": "2022-03-19T20:30:22.262Z"
   },
   {
    "duration": 8,
    "start_time": "2022-03-19T20:30:22.273Z"
   },
   {
    "duration": 20,
    "start_time": "2022-03-19T20:30:22.283Z"
   },
   {
    "duration": 8,
    "start_time": "2022-03-19T20:30:22.305Z"
   },
   {
    "duration": 52,
    "start_time": "2022-03-19T20:30:22.315Z"
   },
   {
    "duration": 8,
    "start_time": "2022-03-19T20:30:22.369Z"
   },
   {
    "duration": 26,
    "start_time": "2022-03-19T20:30:22.378Z"
   },
   {
    "duration": 87,
    "start_time": "2022-03-19T20:30:22.406Z"
   },
   {
    "duration": 0,
    "start_time": "2022-03-19T20:30:22.494Z"
   },
   {
    "duration": 1,
    "start_time": "2022-03-19T20:30:22.495Z"
   },
   {
    "duration": 0,
    "start_time": "2022-03-19T20:30:22.497Z"
   },
   {
    "duration": 0,
    "start_time": "2022-03-19T20:30:22.498Z"
   },
   {
    "duration": 0,
    "start_time": "2022-03-19T20:30:22.499Z"
   },
   {
    "duration": 438,
    "start_time": "2022-03-19T20:32:06.849Z"
   },
   {
    "duration": 378,
    "start_time": "2022-03-19T20:32:07.289Z"
   },
   {
    "duration": 17,
    "start_time": "2022-03-19T20:32:07.668Z"
   },
   {
    "duration": 10,
    "start_time": "2022-03-19T20:32:07.687Z"
   },
   {
    "duration": 8,
    "start_time": "2022-03-19T20:32:07.699Z"
   },
   {
    "duration": 8,
    "start_time": "2022-03-19T20:32:07.708Z"
   },
   {
    "duration": 46,
    "start_time": "2022-03-19T20:32:07.717Z"
   },
   {
    "duration": 9,
    "start_time": "2022-03-19T20:32:07.765Z"
   },
   {
    "duration": 22,
    "start_time": "2022-03-19T20:32:07.775Z"
   },
   {
    "duration": 10,
    "start_time": "2022-03-19T20:32:07.799Z"
   },
   {
    "duration": 27,
    "start_time": "2022-03-19T20:32:07.811Z"
   },
   {
    "duration": 48,
    "start_time": "2022-03-19T20:32:07.862Z"
   },
   {
    "duration": 9,
    "start_time": "2022-03-19T20:32:07.911Z"
   },
   {
    "duration": 57,
    "start_time": "2022-03-19T20:32:07.922Z"
   },
   {
    "duration": 28,
    "start_time": "2022-03-19T20:32:07.981Z"
   },
   {
    "duration": 9,
    "start_time": "2022-03-19T20:32:08.010Z"
   },
   {
    "duration": 61,
    "start_time": "2022-03-19T20:32:08.021Z"
   },
   {
    "duration": 445,
    "start_time": "2022-03-19T20:33:31.577Z"
   },
   {
    "duration": 369,
    "start_time": "2022-03-19T20:33:32.024Z"
   },
   {
    "duration": 16,
    "start_time": "2022-03-19T20:33:32.395Z"
   },
   {
    "duration": 27,
    "start_time": "2022-03-19T20:33:32.412Z"
   },
   {
    "duration": 10,
    "start_time": "2022-03-19T20:33:32.441Z"
   },
   {
    "duration": 24,
    "start_time": "2022-03-19T20:33:32.452Z"
   },
   {
    "duration": 26,
    "start_time": "2022-03-19T20:33:32.478Z"
   },
   {
    "duration": 11,
    "start_time": "2022-03-19T20:33:32.505Z"
   },
   {
    "duration": 24,
    "start_time": "2022-03-19T20:33:32.518Z"
   },
   {
    "duration": 8,
    "start_time": "2022-03-19T20:33:32.544Z"
   },
   {
    "duration": 39,
    "start_time": "2022-03-19T20:33:32.553Z"
   },
   {
    "duration": 48,
    "start_time": "2022-03-19T20:33:32.594Z"
   },
   {
    "duration": 10,
    "start_time": "2022-03-19T20:33:32.644Z"
   },
   {
    "duration": 108,
    "start_time": "2022-03-19T20:33:32.664Z"
   },
   {
    "duration": 0,
    "start_time": "2022-03-19T20:33:32.773Z"
   },
   {
    "duration": 0,
    "start_time": "2022-03-19T20:33:32.775Z"
   },
   {
    "duration": 0,
    "start_time": "2022-03-19T20:33:32.776Z"
   },
   {
    "duration": 391,
    "start_time": "2022-03-19T20:33:43.486Z"
   },
   {
    "duration": 370,
    "start_time": "2022-03-19T20:33:43.879Z"
   },
   {
    "duration": 17,
    "start_time": "2022-03-19T20:33:44.251Z"
   },
   {
    "duration": 10,
    "start_time": "2022-03-19T20:33:44.270Z"
   },
   {
    "duration": 10,
    "start_time": "2022-03-19T20:33:44.282Z"
   },
   {
    "duration": 10,
    "start_time": "2022-03-19T20:33:44.293Z"
   },
   {
    "duration": 19,
    "start_time": "2022-03-19T20:33:44.305Z"
   },
   {
    "duration": 10,
    "start_time": "2022-03-19T20:33:44.326Z"
   },
   {
    "duration": 24,
    "start_time": "2022-03-19T20:33:44.363Z"
   },
   {
    "duration": 8,
    "start_time": "2022-03-19T20:33:44.391Z"
   },
   {
    "duration": 29,
    "start_time": "2022-03-19T20:33:44.401Z"
   },
   {
    "duration": 80,
    "start_time": "2022-03-19T20:33:44.432Z"
   },
   {
    "duration": 10,
    "start_time": "2022-03-19T20:33:44.513Z"
   },
   {
    "duration": 109,
    "start_time": "2022-03-19T20:33:44.524Z"
   },
   {
    "duration": 39,
    "start_time": "2022-03-19T20:33:44.635Z"
   },
   {
    "duration": 9,
    "start_time": "2022-03-19T20:33:44.676Z"
   },
   {
    "duration": 40,
    "start_time": "2022-03-19T20:33:44.687Z"
   },
   {
    "duration": 37,
    "start_time": "2022-03-19T20:37:52.569Z"
   },
   {
    "duration": 8,
    "start_time": "2022-03-19T20:38:51.991Z"
   },
   {
    "duration": 1952,
    "start_time": "2022-03-19T20:39:24.034Z"
   },
   {
    "duration": 43,
    "start_time": "2022-03-19T20:39:46.564Z"
   },
   {
    "duration": 329,
    "start_time": "2022-03-19T21:18:07.101Z"
   },
   {
    "duration": 17,
    "start_time": "2022-03-19T21:18:30.537Z"
   },
   {
    "duration": 33,
    "start_time": "2022-03-19T21:19:43.284Z"
   },
   {
    "duration": 478,
    "start_time": "2022-03-19T21:30:17.701Z"
   },
   {
    "duration": 495,
    "start_time": "2022-03-19T21:30:18.182Z"
   },
   {
    "duration": 18,
    "start_time": "2022-03-19T21:30:18.679Z"
   },
   {
    "duration": 14,
    "start_time": "2022-03-19T21:30:18.700Z"
   },
   {
    "duration": 14,
    "start_time": "2022-03-19T21:30:18.716Z"
   },
   {
    "duration": 37,
    "start_time": "2022-03-19T21:30:18.732Z"
   },
   {
    "duration": 28,
    "start_time": "2022-03-19T21:30:18.770Z"
   },
   {
    "duration": 10,
    "start_time": "2022-03-19T21:30:18.799Z"
   },
   {
    "duration": 25,
    "start_time": "2022-03-19T21:30:18.811Z"
   },
   {
    "duration": 26,
    "start_time": "2022-03-19T21:30:18.839Z"
   },
   {
    "duration": 30,
    "start_time": "2022-03-19T21:30:18.866Z"
   },
   {
    "duration": 98,
    "start_time": "2022-03-19T21:30:18.899Z"
   },
   {
    "duration": 13,
    "start_time": "2022-03-19T21:30:18.999Z"
   },
   {
    "duration": 93,
    "start_time": "2022-03-19T21:30:19.014Z"
   },
   {
    "duration": 30,
    "start_time": "2022-03-19T21:30:19.108Z"
   },
   {
    "duration": 9,
    "start_time": "2022-03-19T21:30:19.140Z"
   },
   {
    "duration": 648,
    "start_time": "2022-03-19T21:30:19.163Z"
   },
   {
    "duration": 0,
    "start_time": "2022-03-19T21:30:19.813Z"
   },
   {
    "duration": 0,
    "start_time": "2022-03-19T21:30:19.815Z"
   },
   {
    "duration": 0,
    "start_time": "2022-03-19T21:30:19.816Z"
   },
   {
    "duration": 430,
    "start_time": "2022-03-19T21:31:05.876Z"
   },
   {
    "duration": 566,
    "start_time": "2022-03-19T21:31:06.308Z"
   },
   {
    "duration": 24,
    "start_time": "2022-03-19T21:31:06.877Z"
   },
   {
    "duration": 25,
    "start_time": "2022-03-19T21:31:06.904Z"
   },
   {
    "duration": 40,
    "start_time": "2022-03-19T21:31:06.931Z"
   },
   {
    "duration": 20,
    "start_time": "2022-03-19T21:31:06.972Z"
   },
   {
    "duration": 34,
    "start_time": "2022-03-19T21:31:06.995Z"
   },
   {
    "duration": 18,
    "start_time": "2022-03-19T21:31:07.031Z"
   },
   {
    "duration": 25,
    "start_time": "2022-03-19T21:31:07.051Z"
   },
   {
    "duration": 9,
    "start_time": "2022-03-19T21:31:07.078Z"
   },
   {
    "duration": 29,
    "start_time": "2022-03-19T21:31:07.089Z"
   },
   {
    "duration": 67,
    "start_time": "2022-03-19T21:31:07.120Z"
   },
   {
    "duration": 11,
    "start_time": "2022-03-19T21:31:07.189Z"
   },
   {
    "duration": 97,
    "start_time": "2022-03-19T21:31:07.201Z"
   },
   {
    "duration": 31,
    "start_time": "2022-03-19T21:31:07.300Z"
   },
   {
    "duration": 9,
    "start_time": "2022-03-19T21:31:07.332Z"
   },
   {
    "duration": 111,
    "start_time": "2022-03-19T21:31:07.342Z"
   },
   {
    "duration": 0,
    "start_time": "2022-03-19T21:31:07.462Z"
   },
   {
    "duration": 0,
    "start_time": "2022-03-19T21:31:07.464Z"
   },
   {
    "duration": 0,
    "start_time": "2022-03-19T21:31:07.465Z"
   },
   {
    "duration": 52,
    "start_time": "2022-03-19T21:37:58.112Z"
   },
   {
    "duration": 594,
    "start_time": "2022-03-19T21:39:30.392Z"
   },
   {
    "duration": 39,
    "start_time": "2022-03-19T21:40:05.912Z"
   },
   {
    "duration": 43,
    "start_time": "2022-03-19T21:40:17.391Z"
   },
   {
    "duration": 39,
    "start_time": "2022-03-19T21:40:33.368Z"
   },
   {
    "duration": 38,
    "start_time": "2022-03-19T21:42:45.221Z"
   },
   {
    "duration": 38,
    "start_time": "2022-03-19T21:43:03.922Z"
   },
   {
    "duration": 538,
    "start_time": "2022-03-19T21:44:03.335Z"
   },
   {
    "duration": 94,
    "start_time": "2022-03-19T21:44:15.330Z"
   },
   {
    "duration": 88,
    "start_time": "2022-03-19T21:44:36.122Z"
   },
   {
    "duration": 74,
    "start_time": "2022-03-19T21:45:10.293Z"
   },
   {
    "duration": 16,
    "start_time": "2022-03-19T21:45:58.785Z"
   },
   {
    "duration": 9,
    "start_time": "2022-03-19T21:46:13.476Z"
   },
   {
    "duration": 434,
    "start_time": "2022-03-19T21:46:29.829Z"
   },
   {
    "duration": 450,
    "start_time": "2022-03-19T21:46:30.265Z"
   },
   {
    "duration": 19,
    "start_time": "2022-03-19T21:46:30.720Z"
   },
   {
    "duration": 27,
    "start_time": "2022-03-19T21:46:30.741Z"
   },
   {
    "duration": 16,
    "start_time": "2022-03-19T21:46:30.770Z"
   },
   {
    "duration": 18,
    "start_time": "2022-03-19T21:46:30.788Z"
   },
   {
    "duration": 26,
    "start_time": "2022-03-19T21:46:30.808Z"
   },
   {
    "duration": 11,
    "start_time": "2022-03-19T21:46:30.836Z"
   },
   {
    "duration": 38,
    "start_time": "2022-03-19T21:46:30.850Z"
   },
   {
    "duration": 8,
    "start_time": "2022-03-19T21:46:30.890Z"
   },
   {
    "duration": 27,
    "start_time": "2022-03-19T21:46:30.899Z"
   },
   {
    "duration": 72,
    "start_time": "2022-03-19T21:46:30.928Z"
   },
   {
    "duration": 11,
    "start_time": "2022-03-19T21:46:31.002Z"
   },
   {
    "duration": 100,
    "start_time": "2022-03-19T21:46:31.015Z"
   },
   {
    "duration": 31,
    "start_time": "2022-03-19T21:46:31.117Z"
   },
   {
    "duration": 18,
    "start_time": "2022-03-19T21:46:31.149Z"
   },
   {
    "duration": 41,
    "start_time": "2022-03-19T21:46:31.169Z"
   },
   {
    "duration": 9,
    "start_time": "2022-03-19T21:46:31.212Z"
   },
   {
    "duration": 79,
    "start_time": "2022-03-19T21:46:31.222Z"
   },
   {
    "duration": 37,
    "start_time": "2022-03-19T21:46:31.303Z"
   },
   {
    "duration": 34,
    "start_time": "2022-03-19T21:48:55.899Z"
   },
   {
    "duration": 38,
    "start_time": "2022-03-19T21:49:04.043Z"
   },
   {
    "duration": 38,
    "start_time": "2022-03-19T21:51:02.009Z"
   },
   {
    "duration": 479,
    "start_time": "2022-03-20T14:52:04.487Z"
   },
   {
    "duration": 558,
    "start_time": "2022-03-20T14:52:04.968Z"
   },
   {
    "duration": 27,
    "start_time": "2022-03-20T14:52:05.528Z"
   },
   {
    "duration": 16,
    "start_time": "2022-03-20T14:52:05.557Z"
   },
   {
    "duration": 15,
    "start_time": "2022-03-20T14:52:05.575Z"
   },
   {
    "duration": 12,
    "start_time": "2022-03-20T14:52:05.592Z"
   },
   {
    "duration": 27,
    "start_time": "2022-03-20T14:52:05.644Z"
   },
   {
    "duration": 23,
    "start_time": "2022-03-20T14:52:05.673Z"
   },
   {
    "duration": 62,
    "start_time": "2022-03-20T14:52:05.698Z"
   },
   {
    "duration": 13,
    "start_time": "2022-03-20T14:52:05.763Z"
   },
   {
    "duration": 38,
    "start_time": "2022-03-20T14:52:05.778Z"
   },
   {
    "duration": 100,
    "start_time": "2022-03-20T14:52:05.819Z"
   },
   {
    "duration": 28,
    "start_time": "2022-03-20T14:52:05.921Z"
   },
   {
    "duration": 115,
    "start_time": "2022-03-20T14:52:05.952Z"
   },
   {
    "duration": 46,
    "start_time": "2022-03-20T14:52:06.069Z"
   },
   {
    "duration": 30,
    "start_time": "2022-03-20T14:52:06.117Z"
   },
   {
    "duration": 57,
    "start_time": "2022-03-20T14:52:06.149Z"
   },
   {
    "duration": 85,
    "start_time": "2022-03-20T14:52:06.208Z"
   },
   {
    "duration": 74,
    "start_time": "2022-03-20T14:52:06.296Z"
   },
   {
    "duration": 12,
    "start_time": "2022-03-20T14:52:06.373Z"
   },
   {
    "duration": 3,
    "start_time": "2022-03-20T14:52:06.388Z"
   },
   {
    "duration": 34,
    "start_time": "2022-03-20T15:01:46.225Z"
   },
   {
    "duration": 36,
    "start_time": "2022-03-20T15:03:30.378Z"
   },
   {
    "duration": 22,
    "start_time": "2022-03-20T15:04:41.906Z"
   },
   {
    "duration": 530,
    "start_time": "2022-03-20T15:09:20.101Z"
   },
   {
    "duration": 527,
    "start_time": "2022-03-20T15:09:20.633Z"
   },
   {
    "duration": 26,
    "start_time": "2022-03-20T15:09:21.162Z"
   },
   {
    "duration": 16,
    "start_time": "2022-03-20T15:09:21.191Z"
   },
   {
    "duration": 42,
    "start_time": "2022-03-20T15:09:21.209Z"
   },
   {
    "duration": 12,
    "start_time": "2022-03-20T15:09:21.253Z"
   },
   {
    "duration": 26,
    "start_time": "2022-03-20T15:09:21.268Z"
   },
   {
    "duration": 15,
    "start_time": "2022-03-20T15:09:21.296Z"
   },
   {
    "duration": 57,
    "start_time": "2022-03-20T15:09:21.314Z"
   },
   {
    "duration": 12,
    "start_time": "2022-03-20T15:09:21.376Z"
   },
   {
    "duration": 68,
    "start_time": "2022-03-20T15:09:21.390Z"
   },
   {
    "duration": 82,
    "start_time": "2022-03-20T15:09:21.461Z"
   },
   {
    "duration": 14,
    "start_time": "2022-03-20T15:09:21.545Z"
   },
   {
    "duration": 112,
    "start_time": "2022-03-20T15:09:21.561Z"
   },
   {
    "duration": 44,
    "start_time": "2022-03-20T15:09:21.675Z"
   },
   {
    "duration": 28,
    "start_time": "2022-03-20T15:09:21.721Z"
   },
   {
    "duration": 51,
    "start_time": "2022-03-20T15:09:21.751Z"
   },
   {
    "duration": 88,
    "start_time": "2022-03-20T15:09:21.805Z"
   },
   {
    "duration": 67,
    "start_time": "2022-03-20T15:09:21.896Z"
   },
   {
    "duration": 33,
    "start_time": "2022-03-20T15:09:21.965Z"
   },
   {
    "duration": 3,
    "start_time": "2022-03-20T15:09:22.000Z"
   },
   {
    "duration": 109,
    "start_time": "2022-03-20T15:12:47.835Z"
   },
   {
    "duration": 40,
    "start_time": "2022-03-20T15:12:54.372Z"
   },
   {
    "duration": 20,
    "start_time": "2022-03-20T15:18:26.407Z"
   },
   {
    "duration": 28,
    "start_time": "2022-03-20T15:18:35.302Z"
   },
   {
    "duration": 36,
    "start_time": "2022-03-20T15:19:37.971Z"
   },
   {
    "duration": 18,
    "start_time": "2022-03-20T15:24:02.986Z"
   },
   {
    "duration": 24,
    "start_time": "2022-03-20T15:24:46.403Z"
   },
   {
    "duration": 28,
    "start_time": "2022-03-20T15:25:01.622Z"
   },
   {
    "duration": 25,
    "start_time": "2022-03-20T15:25:37.573Z"
   },
   {
    "duration": 25,
    "start_time": "2022-03-20T15:26:18.004Z"
   },
   {
    "duration": 17,
    "start_time": "2022-03-20T15:30:27.159Z"
   },
   {
    "duration": 20,
    "start_time": "2022-03-20T15:30:36.293Z"
   },
   {
    "duration": 36,
    "start_time": "2022-03-20T15:45:24.790Z"
   },
   {
    "duration": 23,
    "start_time": "2022-03-20T15:46:08.299Z"
   },
   {
    "duration": 50,
    "start_time": "2022-03-20T15:46:16.306Z"
   },
   {
    "duration": 13,
    "start_time": "2022-03-20T15:59:34.060Z"
   },
   {
    "duration": 18,
    "start_time": "2022-03-20T16:11:11.470Z"
   },
   {
    "duration": 5,
    "start_time": "2022-03-20T16:14:16.704Z"
   },
   {
    "duration": 13,
    "start_time": "2022-03-20T16:14:30.656Z"
   },
   {
    "duration": 11,
    "start_time": "2022-03-20T16:14:50.305Z"
   },
   {
    "duration": 76,
    "start_time": "2022-03-20T16:14:59.912Z"
   },
   {
    "duration": 36,
    "start_time": "2022-03-20T16:15:34.890Z"
   },
   {
    "duration": 517,
    "start_time": "2022-03-20T16:17:38.633Z"
   },
   {
    "duration": 623,
    "start_time": "2022-03-20T16:17:39.153Z"
   },
   {
    "duration": 27,
    "start_time": "2022-03-20T16:17:39.778Z"
   },
   {
    "duration": 37,
    "start_time": "2022-03-20T16:17:39.809Z"
   },
   {
    "duration": 13,
    "start_time": "2022-03-20T16:17:39.848Z"
   },
   {
    "duration": 11,
    "start_time": "2022-03-20T16:17:39.863Z"
   },
   {
    "duration": 26,
    "start_time": "2022-03-20T16:17:39.876Z"
   },
   {
    "duration": 46,
    "start_time": "2022-03-20T16:17:39.904Z"
   },
   {
    "duration": 31,
    "start_time": "2022-03-20T16:17:39.953Z"
   },
   {
    "duration": 12,
    "start_time": "2022-03-20T16:17:39.989Z"
   },
   {
    "duration": 68,
    "start_time": "2022-03-20T16:17:40.003Z"
   },
   {
    "duration": 92,
    "start_time": "2022-03-20T16:17:40.073Z"
   },
   {
    "duration": 13,
    "start_time": "2022-03-20T16:17:40.167Z"
   },
   {
    "duration": 115,
    "start_time": "2022-03-20T16:17:40.183Z"
   },
   {
    "duration": 55,
    "start_time": "2022-03-20T16:17:40.300Z"
   },
   {
    "duration": 12,
    "start_time": "2022-03-20T16:17:40.357Z"
   },
   {
    "duration": 52,
    "start_time": "2022-03-20T16:17:40.371Z"
   },
   {
    "duration": 67,
    "start_time": "2022-03-20T16:17:40.442Z"
   },
   {
    "duration": 69,
    "start_time": "2022-03-20T16:17:40.512Z"
   },
   {
    "duration": 61,
    "start_time": "2022-03-20T16:17:40.583Z"
   },
   {
    "duration": 13,
    "start_time": "2022-03-20T16:17:40.647Z"
   },
   {
    "duration": 37,
    "start_time": "2022-03-20T16:17:40.663Z"
   },
   {
    "duration": 123,
    "start_time": "2022-03-20T16:17:40.702Z"
   },
   {
    "duration": 0,
    "start_time": "2022-03-20T16:17:40.828Z"
   },
   {
    "duration": 6,
    "start_time": "2022-03-20T16:28:25.902Z"
   },
   {
    "duration": 33,
    "start_time": "2022-03-20T16:28:35.450Z"
   },
   {
    "duration": 54,
    "start_time": "2022-03-20T16:29:22.181Z"
   },
   {
    "duration": 164,
    "start_time": "2022-03-20T16:33:53.010Z"
   },
   {
    "duration": 191,
    "start_time": "2022-03-20T16:33:58.744Z"
   },
   {
    "duration": 20,
    "start_time": "2022-03-20T16:34:13.695Z"
   },
   {
    "duration": 21,
    "start_time": "2022-03-20T16:34:48.682Z"
   },
   {
    "duration": 188,
    "start_time": "2022-03-20T16:36:55.970Z"
   },
   {
    "duration": 197,
    "start_time": "2022-03-20T16:37:39.775Z"
   },
   {
    "duration": 181,
    "start_time": "2022-03-20T16:52:36.511Z"
   },
   {
    "duration": 180,
    "start_time": "2022-03-20T16:52:48.711Z"
   },
   {
    "duration": 174,
    "start_time": "2022-03-20T16:53:10.408Z"
   },
   {
    "duration": 11,
    "start_time": "2022-03-20T16:53:14.804Z"
   },
   {
    "duration": 2242,
    "start_time": "2022-03-20T16:54:11.719Z"
   },
   {
    "duration": 2330,
    "start_time": "2022-03-20T16:55:30.612Z"
   },
   {
    "duration": 2401,
    "start_time": "2022-03-20T16:57:36.924Z"
   },
   {
    "duration": 21,
    "start_time": "2022-03-20T16:57:57.891Z"
   },
   {
    "duration": 476,
    "start_time": "2022-03-20T17:04:30.185Z"
   },
   {
    "duration": 606,
    "start_time": "2022-03-20T17:04:30.664Z"
   },
   {
    "duration": 26,
    "start_time": "2022-03-20T17:04:31.273Z"
   },
   {
    "duration": 41,
    "start_time": "2022-03-20T17:04:31.301Z"
   },
   {
    "duration": 18,
    "start_time": "2022-03-20T17:04:31.345Z"
   },
   {
    "duration": 20,
    "start_time": "2022-03-20T17:04:31.366Z"
   },
   {
    "duration": 31,
    "start_time": "2022-03-20T17:04:31.388Z"
   },
   {
    "duration": 28,
    "start_time": "2022-03-20T17:04:31.421Z"
   },
   {
    "duration": 34,
    "start_time": "2022-03-20T17:04:31.451Z"
   },
   {
    "duration": 12,
    "start_time": "2022-03-20T17:04:31.488Z"
   },
   {
    "duration": 73,
    "start_time": "2022-03-20T17:04:31.502Z"
   },
   {
    "duration": 91,
    "start_time": "2022-03-20T17:04:31.577Z"
   },
   {
    "duration": 15,
    "start_time": "2022-03-20T17:04:31.670Z"
   },
   {
    "duration": 128,
    "start_time": "2022-03-20T17:04:31.690Z"
   },
   {
    "duration": 53,
    "start_time": "2022-03-20T17:04:31.821Z"
   },
   {
    "duration": 12,
    "start_time": "2022-03-20T17:04:31.876Z"
   },
   {
    "duration": 73,
    "start_time": "2022-03-20T17:04:31.890Z"
   },
   {
    "duration": 87,
    "start_time": "2022-03-20T17:04:31.965Z"
   },
   {
    "duration": 55,
    "start_time": "2022-03-20T17:04:32.054Z"
   },
   {
    "duration": 73,
    "start_time": "2022-03-20T17:04:32.111Z"
   },
   {
    "duration": 13,
    "start_time": "2022-03-20T17:04:32.187Z"
   },
   {
    "duration": 55,
    "start_time": "2022-03-20T17:04:32.203Z"
   },
   {
    "duration": 2881,
    "start_time": "2022-03-20T17:04:32.260Z"
   },
   {
    "duration": 0,
    "start_time": "2022-03-20T17:04:35.143Z"
   },
   {
    "duration": 191,
    "start_time": "2022-03-20T17:07:46.032Z"
   },
   {
    "duration": 11,
    "start_time": "2022-03-20T17:07:51.655Z"
   },
   {
    "duration": 22,
    "start_time": "2022-03-20T17:08:03.266Z"
   },
   {
    "duration": 2893,
    "start_time": "2022-03-20T17:12:35.960Z"
   },
   {
    "duration": 36,
    "start_time": "2022-03-20T17:17:00.017Z"
   },
   {
    "duration": 17,
    "start_time": "2022-03-20T17:17:23.676Z"
   },
   {
    "duration": 493,
    "start_time": "2022-03-20T17:18:52.388Z"
   },
   {
    "duration": 560,
    "start_time": "2022-03-20T17:18:52.884Z"
   },
   {
    "duration": 28,
    "start_time": "2022-03-20T17:18:53.446Z"
   },
   {
    "duration": 17,
    "start_time": "2022-03-20T17:18:53.477Z"
   },
   {
    "duration": 20,
    "start_time": "2022-03-20T17:18:53.496Z"
   },
   {
    "duration": 15,
    "start_time": "2022-03-20T17:18:53.543Z"
   },
   {
    "duration": 13,
    "start_time": "2022-03-20T17:18:53.560Z"
   },
   {
    "duration": 29,
    "start_time": "2022-03-20T17:18:53.575Z"
   },
   {
    "duration": 39,
    "start_time": "2022-03-20T17:18:53.606Z"
   },
   {
    "duration": 32,
    "start_time": "2022-03-20T17:18:53.649Z"
   },
   {
    "duration": 13,
    "start_time": "2022-03-20T17:18:53.683Z"
   },
   {
    "duration": 72,
    "start_time": "2022-03-20T17:18:53.699Z"
   },
   {
    "duration": 92,
    "start_time": "2022-03-20T17:18:53.773Z"
   },
   {
    "duration": 14,
    "start_time": "2022-03-20T17:18:53.867Z"
   },
   {
    "duration": 35,
    "start_time": "2022-03-20T17:18:53.884Z"
   },
   {
    "duration": 134,
    "start_time": "2022-03-20T17:18:53.942Z"
   },
   {
    "duration": 47,
    "start_time": "2022-03-20T17:18:54.078Z"
   },
   {
    "duration": 26,
    "start_time": "2022-03-20T17:18:54.128Z"
   },
   {
    "duration": 54,
    "start_time": "2022-03-20T17:18:54.156Z"
   },
   {
    "duration": 101,
    "start_time": "2022-03-20T17:18:54.213Z"
   },
   {
    "duration": 67,
    "start_time": "2022-03-20T17:18:54.317Z"
   },
   {
    "duration": 69,
    "start_time": "2022-03-20T17:18:54.387Z"
   },
   {
    "duration": 13,
    "start_time": "2022-03-20T17:18:54.458Z"
   },
   {
    "duration": 50,
    "start_time": "2022-03-20T17:18:54.474Z"
   },
   {
    "duration": 2487,
    "start_time": "2022-03-20T17:18:54.543Z"
   },
   {
    "duration": 0,
    "start_time": "2022-03-20T17:18:57.033Z"
   },
   {
    "duration": 174,
    "start_time": "2022-03-20T17:19:47.089Z"
   },
   {
    "duration": 2916,
    "start_time": "2022-03-20T17:19:54.056Z"
   },
   {
    "duration": 2390,
    "start_time": "2022-03-20T17:22:15.214Z"
   },
   {
    "duration": 2384,
    "start_time": "2022-03-20T17:24:29.850Z"
   },
   {
    "duration": 2317,
    "start_time": "2022-03-20T17:30:09.966Z"
   },
   {
    "duration": 29,
    "start_time": "2022-03-20T18:09:10.009Z"
   },
   {
    "duration": 35,
    "start_time": "2022-03-20T18:09:39.542Z"
   },
   {
    "duration": 43,
    "start_time": "2022-03-20T18:11:09.930Z"
   },
   {
    "duration": 482,
    "start_time": "2022-03-20T18:13:02.673Z"
   },
   {
    "duration": 616,
    "start_time": "2022-03-20T18:13:03.158Z"
   },
   {
    "duration": 26,
    "start_time": "2022-03-20T18:13:03.776Z"
   },
   {
    "duration": 16,
    "start_time": "2022-03-20T18:13:03.806Z"
   },
   {
    "duration": 20,
    "start_time": "2022-03-20T18:13:03.844Z"
   },
   {
    "duration": 17,
    "start_time": "2022-03-20T18:13:03.867Z"
   },
   {
    "duration": 14,
    "start_time": "2022-03-20T18:13:03.886Z"
   },
   {
    "duration": 56,
    "start_time": "2022-03-20T18:13:03.902Z"
   },
   {
    "duration": 14,
    "start_time": "2022-03-20T18:13:03.961Z"
   },
   {
    "duration": 33,
    "start_time": "2022-03-20T18:13:03.979Z"
   },
   {
    "duration": 37,
    "start_time": "2022-03-20T18:13:04.015Z"
   },
   {
    "duration": 40,
    "start_time": "2022-03-20T18:13:04.054Z"
   },
   {
    "duration": 107,
    "start_time": "2022-03-20T18:13:04.096Z"
   },
   {
    "duration": 15,
    "start_time": "2022-03-20T18:13:04.205Z"
   },
   {
    "duration": 58,
    "start_time": "2022-03-20T18:13:04.223Z"
   },
   {
    "duration": 121,
    "start_time": "2022-03-20T18:13:04.284Z"
   },
   {
    "duration": 58,
    "start_time": "2022-03-20T18:13:04.407Z"
   },
   {
    "duration": 12,
    "start_time": "2022-03-20T18:13:04.467Z"
   },
   {
    "duration": 80,
    "start_time": "2022-03-20T18:13:04.481Z"
   },
   {
    "duration": 67,
    "start_time": "2022-03-20T18:13:04.563Z"
   },
   {
    "duration": 65,
    "start_time": "2022-03-20T18:13:04.632Z"
   },
   {
    "duration": 67,
    "start_time": "2022-03-20T18:13:04.699Z"
   },
   {
    "duration": 13,
    "start_time": "2022-03-20T18:13:04.768Z"
   },
   {
    "duration": 37,
    "start_time": "2022-03-20T18:13:04.783Z"
   },
   {
    "duration": 2458,
    "start_time": "2022-03-20T18:13:04.822Z"
   },
   {
    "duration": 0,
    "start_time": "2022-03-20T18:13:07.284Z"
   },
   {
    "duration": 2433,
    "start_time": "2022-03-20T18:22:32.039Z"
   },
   {
    "duration": 2427,
    "start_time": "2022-03-20T18:22:58.605Z"
   },
   {
    "duration": 2290,
    "start_time": "2022-03-20T18:26:51.511Z"
   },
   {
    "duration": 90,
    "start_time": "2022-03-20T18:27:29.926Z"
   },
   {
    "duration": 110,
    "start_time": "2022-03-20T18:28:45.899Z"
   },
   {
    "duration": 374,
    "start_time": "2022-03-20T18:32:23.809Z"
   },
   {
    "duration": 184,
    "start_time": "2022-03-20T18:34:11.035Z"
   },
   {
    "duration": 261,
    "start_time": "2022-03-20T18:36:32.684Z"
   },
   {
    "duration": 180,
    "start_time": "2022-03-20T18:44:00.094Z"
   },
   {
    "duration": 2146,
    "start_time": "2022-03-20T18:44:26.913Z"
   },
   {
    "duration": 2560,
    "start_time": "2022-03-20T18:44:37.233Z"
   },
   {
    "duration": 2519,
    "start_time": "2022-03-20T18:44:48.291Z"
   },
   {
    "duration": 46,
    "start_time": "2022-03-20T18:45:56.548Z"
   },
   {
    "duration": 42,
    "start_time": "2022-03-20T18:46:53.461Z"
   },
   {
    "duration": 64,
    "start_time": "2022-03-20T18:46:59.229Z"
   },
   {
    "duration": 15,
    "start_time": "2022-03-20T18:47:45.940Z"
   },
   {
    "duration": 17,
    "start_time": "2022-03-20T18:47:51.121Z"
   },
   {
    "duration": 19,
    "start_time": "2022-03-20T18:48:00.216Z"
   },
   {
    "duration": 20,
    "start_time": "2022-03-20T18:48:12.803Z"
   },
   {
    "duration": 18,
    "start_time": "2022-03-20T18:48:22.920Z"
   },
   {
    "duration": 18,
    "start_time": "2022-03-20T18:48:28.118Z"
   },
   {
    "duration": 18,
    "start_time": "2022-03-20T18:48:31.083Z"
   },
   {
    "duration": 18,
    "start_time": "2022-03-20T18:48:33.967Z"
   },
   {
    "duration": 19,
    "start_time": "2022-03-20T18:48:38.623Z"
   },
   {
    "duration": 18,
    "start_time": "2022-03-20T18:48:41.373Z"
   },
   {
    "duration": 18,
    "start_time": "2022-03-20T18:48:44.515Z"
   },
   {
    "duration": 21,
    "start_time": "2022-03-20T18:48:47.102Z"
   },
   {
    "duration": 16,
    "start_time": "2022-03-20T18:48:50.091Z"
   },
   {
    "duration": 16,
    "start_time": "2022-03-20T18:48:55.781Z"
   },
   {
    "duration": 18,
    "start_time": "2022-03-20T18:49:01.877Z"
   },
   {
    "duration": 19,
    "start_time": "2022-03-20T18:49:05.078Z"
   },
   {
    "duration": 12,
    "start_time": "2022-03-20T18:49:11.428Z"
   },
   {
    "duration": 45,
    "start_time": "2022-03-20T18:52:19.208Z"
   },
   {
    "duration": 533,
    "start_time": "2022-03-20T18:52:26.003Z"
   },
   {
    "duration": 536,
    "start_time": "2022-03-20T18:52:26.539Z"
   },
   {
    "duration": 26,
    "start_time": "2022-03-20T18:52:27.077Z"
   },
   {
    "duration": 16,
    "start_time": "2022-03-20T18:52:27.105Z"
   },
   {
    "duration": 12,
    "start_time": "2022-03-20T18:52:27.142Z"
   },
   {
    "duration": 17,
    "start_time": "2022-03-20T18:52:27.156Z"
   },
   {
    "duration": 11,
    "start_time": "2022-03-20T18:52:27.175Z"
   },
   {
    "duration": 57,
    "start_time": "2022-03-20T18:52:27.189Z"
   },
   {
    "duration": 14,
    "start_time": "2022-03-20T18:52:27.248Z"
   },
   {
    "duration": 29,
    "start_time": "2022-03-20T18:52:27.265Z"
   },
   {
    "duration": 12,
    "start_time": "2022-03-20T18:52:27.296Z"
   },
   {
    "duration": 35,
    "start_time": "2022-03-20T18:52:27.342Z"
   },
   {
    "duration": 96,
    "start_time": "2022-03-20T18:52:27.380Z"
   },
   {
    "duration": 15,
    "start_time": "2022-03-20T18:52:27.478Z"
   },
   {
    "duration": 58,
    "start_time": "2022-03-20T18:52:27.495Z"
   },
   {
    "duration": 110,
    "start_time": "2022-03-20T18:52:27.555Z"
   },
   {
    "duration": 44,
    "start_time": "2022-03-20T18:52:27.667Z"
   },
   {
    "duration": 30,
    "start_time": "2022-03-20T18:52:27.713Z"
   },
   {
    "duration": 50,
    "start_time": "2022-03-20T18:52:27.745Z"
   },
   {
    "duration": 91,
    "start_time": "2022-03-20T18:52:27.797Z"
   },
   {
    "duration": 73,
    "start_time": "2022-03-20T18:52:27.890Z"
   },
   {
    "duration": 47,
    "start_time": "2022-03-20T18:52:27.966Z"
   },
   {
    "duration": 30,
    "start_time": "2022-03-20T18:52:28.016Z"
   },
   {
    "duration": 30,
    "start_time": "2022-03-20T18:52:28.049Z"
   },
   {
    "duration": 2706,
    "start_time": "2022-03-20T18:52:28.081Z"
   },
   {
    "duration": 3,
    "start_time": "2022-03-20T18:52:30.789Z"
   },
   {
    "duration": 532,
    "start_time": "2022-03-20T18:53:51.126Z"
   },
   {
    "duration": 573,
    "start_time": "2022-03-20T18:53:51.660Z"
   },
   {
    "duration": 31,
    "start_time": "2022-03-20T18:53:52.235Z"
   },
   {
    "duration": 19,
    "start_time": "2022-03-20T18:53:52.269Z"
   },
   {
    "duration": 13,
    "start_time": "2022-03-20T18:53:52.290Z"
   },
   {
    "duration": 50,
    "start_time": "2022-03-20T18:53:52.305Z"
   },
   {
    "duration": 16,
    "start_time": "2022-03-20T18:53:52.358Z"
   },
   {
    "duration": 34,
    "start_time": "2022-03-20T18:53:52.377Z"
   },
   {
    "duration": 31,
    "start_time": "2022-03-20T18:53:52.413Z"
   },
   {
    "duration": 31,
    "start_time": "2022-03-20T18:53:52.449Z"
   },
   {
    "duration": 12,
    "start_time": "2022-03-20T18:53:52.482Z"
   },
   {
    "duration": 82,
    "start_time": "2022-03-20T18:53:52.496Z"
   },
   {
    "duration": 95,
    "start_time": "2022-03-20T18:53:52.581Z"
   },
   {
    "duration": 15,
    "start_time": "2022-03-20T18:53:52.679Z"
   },
   {
    "duration": 54,
    "start_time": "2022-03-20T18:53:52.697Z"
   },
   {
    "duration": 120,
    "start_time": "2022-03-20T18:53:52.755Z"
   },
   {
    "duration": 46,
    "start_time": "2022-03-20T18:53:52.877Z"
   },
   {
    "duration": 25,
    "start_time": "2022-03-20T18:53:52.925Z"
   },
   {
    "duration": 55,
    "start_time": "2022-03-20T18:53:52.952Z"
   },
   {
    "duration": 81,
    "start_time": "2022-03-20T18:53:53.009Z"
   },
   {
    "duration": 76,
    "start_time": "2022-03-20T18:53:53.092Z"
   },
   {
    "duration": 42,
    "start_time": "2022-03-20T18:53:53.170Z"
   },
   {
    "duration": 34,
    "start_time": "2022-03-20T18:53:53.214Z"
   },
   {
    "duration": 35,
    "start_time": "2022-03-20T18:53:53.250Z"
   },
   {
    "duration": 2837,
    "start_time": "2022-03-20T18:53:53.288Z"
   },
   {
    "duration": 4,
    "start_time": "2022-03-20T18:53:56.127Z"
   },
   {
    "duration": 98,
    "start_time": "2022-03-20T18:56:43.734Z"
   },
   {
    "duration": 19,
    "start_time": "2022-03-20T18:57:22.126Z"
   },
   {
    "duration": 14,
    "start_time": "2022-03-20T18:57:29.648Z"
   },
   {
    "duration": 48,
    "start_time": "2022-03-20T19:02:32.939Z"
   },
   {
    "duration": 51,
    "start_time": "2022-03-20T19:03:09.734Z"
   },
   {
    "duration": 504,
    "start_time": "2022-03-20T19:03:58.447Z"
   },
   {
    "duration": 547,
    "start_time": "2022-03-20T19:03:58.955Z"
   },
   {
    "duration": 39,
    "start_time": "2022-03-20T19:03:59.505Z"
   },
   {
    "duration": 17,
    "start_time": "2022-03-20T19:03:59.547Z"
   },
   {
    "duration": 13,
    "start_time": "2022-03-20T19:03:59.566Z"
   },
   {
    "duration": 16,
    "start_time": "2022-03-20T19:03:59.581Z"
   },
   {
    "duration": 12,
    "start_time": "2022-03-20T19:03:59.642Z"
   },
   {
    "duration": 33,
    "start_time": "2022-03-20T19:03:59.657Z"
   },
   {
    "duration": 56,
    "start_time": "2022-03-20T19:03:59.693Z"
   },
   {
    "duration": 30,
    "start_time": "2022-03-20T19:03:59.754Z"
   },
   {
    "duration": 12,
    "start_time": "2022-03-20T19:03:59.786Z"
   },
   {
    "duration": 78,
    "start_time": "2022-03-20T19:03:59.801Z"
   },
   {
    "duration": 104,
    "start_time": "2022-03-20T19:03:59.882Z"
   },
   {
    "duration": 15,
    "start_time": "2022-03-20T19:03:59.989Z"
   },
   {
    "duration": 60,
    "start_time": "2022-03-20T19:04:00.008Z"
   },
   {
    "duration": 125,
    "start_time": "2022-03-20T19:04:00.071Z"
   },
   {
    "duration": 63,
    "start_time": "2022-03-20T19:04:00.198Z"
   },
   {
    "duration": 12,
    "start_time": "2022-03-20T19:04:00.263Z"
   },
   {
    "duration": 93,
    "start_time": "2022-03-20T19:04:00.278Z"
   },
   {
    "duration": 79,
    "start_time": "2022-03-20T19:04:00.373Z"
   },
   {
    "duration": 62,
    "start_time": "2022-03-20T19:04:00.454Z"
   },
   {
    "duration": 70,
    "start_time": "2022-03-20T19:04:00.519Z"
   },
   {
    "duration": 13,
    "start_time": "2022-03-20T19:04:00.591Z"
   },
   {
    "duration": 65,
    "start_time": "2022-03-20T19:04:00.607Z"
   },
   {
    "duration": 2611,
    "start_time": "2022-03-20T19:04:00.674Z"
   },
   {
    "duration": 3,
    "start_time": "2022-03-20T19:04:03.287Z"
   },
   {
    "duration": 2786,
    "start_time": "2022-03-20T19:05:58.767Z"
   },
   {
    "duration": 16,
    "start_time": "2022-03-20T19:22:43.414Z"
   },
   {
    "duration": 659,
    "start_time": "2022-03-20T19:23:19.618Z"
   },
   {
    "duration": 580,
    "start_time": "2022-03-20T19:23:20.281Z"
   },
   {
    "duration": 24,
    "start_time": "2022-03-20T19:23:20.863Z"
   },
   {
    "duration": 16,
    "start_time": "2022-03-20T19:23:20.890Z"
   },
   {
    "duration": 42,
    "start_time": "2022-03-20T19:23:20.908Z"
   },
   {
    "duration": 15,
    "start_time": "2022-03-20T19:23:20.953Z"
   },
   {
    "duration": 14,
    "start_time": "2022-03-20T19:23:20.970Z"
   },
   {
    "duration": 80,
    "start_time": "2022-03-20T19:23:20.986Z"
   },
   {
    "duration": 15,
    "start_time": "2022-03-20T19:23:21.068Z"
   },
   {
    "duration": 57,
    "start_time": "2022-03-20T19:23:21.086Z"
   },
   {
    "duration": 12,
    "start_time": "2022-03-20T19:23:21.145Z"
   },
   {
    "duration": 39,
    "start_time": "2022-03-20T19:23:21.159Z"
   },
   {
    "duration": 116,
    "start_time": "2022-03-20T19:23:21.200Z"
   },
   {
    "duration": 26,
    "start_time": "2022-03-20T19:23:21.320Z"
   },
   {
    "duration": 39,
    "start_time": "2022-03-20T19:23:21.350Z"
   },
   {
    "duration": 173,
    "start_time": "2022-03-20T19:23:21.391Z"
   },
   {
    "duration": 81,
    "start_time": "2022-03-20T19:23:21.566Z"
   },
   {
    "duration": 15,
    "start_time": "2022-03-20T19:23:21.650Z"
   },
   {
    "duration": 50,
    "start_time": "2022-03-20T19:23:21.667Z"
   },
   {
    "duration": 61,
    "start_time": "2022-03-20T19:23:21.744Z"
   },
   {
    "duration": 72,
    "start_time": "2022-03-20T19:23:21.807Z"
   },
   {
    "duration": 76,
    "start_time": "2022-03-20T19:23:21.882Z"
   },
   {
    "duration": 17,
    "start_time": "2022-03-20T19:23:21.960Z"
   },
   {
    "duration": 70,
    "start_time": "2022-03-20T19:23:21.979Z"
   },
   {
    "duration": 2726,
    "start_time": "2022-03-20T19:23:22.052Z"
   },
   {
    "duration": 3,
    "start_time": "2022-03-20T19:23:24.781Z"
   },
   {
    "duration": 2855,
    "start_time": "2022-03-20T19:24:36.307Z"
   },
   {
    "duration": 2738,
    "start_time": "2022-03-20T19:25:24.061Z"
   },
   {
    "duration": 3433,
    "start_time": "2022-03-20T19:27:10.591Z"
   },
   {
    "duration": 2643,
    "start_time": "2022-03-20T19:33:31.650Z"
   },
   {
    "duration": 1597,
    "start_time": "2022-03-20T19:36:33.324Z"
   },
   {
    "duration": 471,
    "start_time": "2022-03-20T19:36:58.372Z"
   },
   {
    "duration": 554,
    "start_time": "2022-03-20T19:36:58.845Z"
   },
   {
    "duration": 26,
    "start_time": "2022-03-20T19:36:59.401Z"
   },
   {
    "duration": 17,
    "start_time": "2022-03-20T19:36:59.442Z"
   },
   {
    "duration": 20,
    "start_time": "2022-03-20T19:36:59.462Z"
   },
   {
    "duration": 18,
    "start_time": "2022-03-20T19:36:59.484Z"
   },
   {
    "duration": 11,
    "start_time": "2022-03-20T19:36:59.543Z"
   },
   {
    "duration": 28,
    "start_time": "2022-03-20T19:36:59.557Z"
   },
   {
    "duration": 14,
    "start_time": "2022-03-20T19:36:59.587Z"
   },
   {
    "duration": 46,
    "start_time": "2022-03-20T19:36:59.646Z"
   },
   {
    "duration": 13,
    "start_time": "2022-03-20T19:36:59.694Z"
   },
   {
    "duration": 61,
    "start_time": "2022-03-20T19:36:59.709Z"
   },
   {
    "duration": 113,
    "start_time": "2022-03-20T19:36:59.773Z"
   },
   {
    "duration": 15,
    "start_time": "2022-03-20T19:36:59.889Z"
   },
   {
    "duration": 66,
    "start_time": "2022-03-20T19:36:59.906Z"
   },
   {
    "duration": 163,
    "start_time": "2022-03-20T19:36:59.974Z"
   },
   {
    "duration": 47,
    "start_time": "2022-03-20T19:37:00.143Z"
   },
   {
    "duration": 13,
    "start_time": "2022-03-20T19:37:00.193Z"
   },
   {
    "duration": 82,
    "start_time": "2022-03-20T19:37:00.208Z"
   },
   {
    "duration": 97,
    "start_time": "2022-03-20T19:37:00.292Z"
   },
   {
    "duration": 75,
    "start_time": "2022-03-20T19:37:00.391Z"
   },
   {
    "duration": 50,
    "start_time": "2022-03-20T19:37:00.468Z"
   },
   {
    "duration": 39,
    "start_time": "2022-03-20T19:37:00.520Z"
   },
   {
    "duration": 39,
    "start_time": "2022-03-20T19:37:00.561Z"
   },
   {
    "duration": 1813,
    "start_time": "2022-03-20T19:37:00.603Z"
   },
   {
    "duration": 3,
    "start_time": "2022-03-20T19:37:02.419Z"
   },
   {
    "duration": 4,
    "start_time": "2022-03-20T19:39:20.468Z"
   },
   {
    "duration": 695,
    "start_time": "2022-03-20T19:42:03.726Z"
   },
   {
    "duration": 772,
    "start_time": "2022-03-20T19:42:04.425Z"
   },
   {
    "duration": 43,
    "start_time": "2022-03-20T19:42:05.200Z"
   },
   {
    "duration": 17,
    "start_time": "2022-03-20T19:42:05.247Z"
   },
   {
    "duration": 22,
    "start_time": "2022-03-20T19:42:05.267Z"
   },
   {
    "duration": 57,
    "start_time": "2022-03-20T19:42:05.292Z"
   },
   {
    "duration": 15,
    "start_time": "2022-03-20T19:42:05.352Z"
   },
   {
    "duration": 43,
    "start_time": "2022-03-20T19:42:05.369Z"
   },
   {
    "duration": 21,
    "start_time": "2022-03-20T19:42:05.442Z"
   },
   {
    "duration": 82,
    "start_time": "2022-03-20T19:42:05.469Z"
   },
   {
    "duration": 17,
    "start_time": "2022-03-20T19:42:05.553Z"
   },
   {
    "duration": 35,
    "start_time": "2022-03-20T19:42:05.573Z"
   },
   {
    "duration": 75,
    "start_time": "2022-03-20T19:42:05.642Z"
   },
   {
    "duration": 31,
    "start_time": "2022-03-20T19:42:05.719Z"
   },
   {
    "duration": 62,
    "start_time": "2022-03-20T19:42:05.752Z"
   },
   {
    "duration": 120,
    "start_time": "2022-03-20T19:42:05.844Z"
   },
   {
    "duration": 81,
    "start_time": "2022-03-20T19:42:05.967Z"
   },
   {
    "duration": 17,
    "start_time": "2022-03-20T19:42:06.051Z"
   },
   {
    "duration": 76,
    "start_time": "2022-03-20T19:42:06.070Z"
   },
   {
    "duration": 63,
    "start_time": "2022-03-20T19:42:06.148Z"
   },
   {
    "duration": 77,
    "start_time": "2022-03-20T19:42:06.213Z"
   },
   {
    "duration": 69,
    "start_time": "2022-03-20T19:42:06.293Z"
   },
   {
    "duration": 17,
    "start_time": "2022-03-20T19:42:06.365Z"
   },
   {
    "duration": 65,
    "start_time": "2022-03-20T19:42:06.384Z"
   },
   {
    "duration": 2779,
    "start_time": "2022-03-20T19:42:06.451Z"
   },
   {
    "duration": 137,
    "start_time": "2022-03-20T19:42:09.232Z"
   },
   {
    "duration": 23,
    "start_time": "2022-03-20T19:43:44.750Z"
   },
   {
    "duration": 8,
    "start_time": "2022-03-20T19:44:19.893Z"
   },
   {
    "duration": 19,
    "start_time": "2022-03-20T19:44:29.832Z"
   },
   {
    "duration": 17,
    "start_time": "2022-03-20T19:45:28.926Z"
   },
   {
    "duration": 545,
    "start_time": "2022-03-20T19:46:02.024Z"
   },
   {
    "duration": 584,
    "start_time": "2022-03-20T19:46:02.572Z"
   },
   {
    "duration": 27,
    "start_time": "2022-03-20T19:46:03.159Z"
   },
   {
    "duration": 54,
    "start_time": "2022-03-20T19:46:03.189Z"
   },
   {
    "duration": 18,
    "start_time": "2022-03-20T19:46:03.246Z"
   },
   {
    "duration": 20,
    "start_time": "2022-03-20T19:46:03.267Z"
   },
   {
    "duration": 15,
    "start_time": "2022-03-20T19:46:03.289Z"
   },
   {
    "duration": 30,
    "start_time": "2022-03-20T19:46:03.343Z"
   },
   {
    "duration": 16,
    "start_time": "2022-03-20T19:46:03.375Z"
   },
   {
    "duration": 63,
    "start_time": "2022-03-20T19:46:03.396Z"
   },
   {
    "duration": 15,
    "start_time": "2022-03-20T19:46:03.462Z"
   },
   {
    "duration": 64,
    "start_time": "2022-03-20T19:46:03.479Z"
   },
   {
    "duration": 100,
    "start_time": "2022-03-20T19:46:03.546Z"
   },
   {
    "duration": 15,
    "start_time": "2022-03-20T19:46:03.648Z"
   },
   {
    "duration": 43,
    "start_time": "2022-03-20T19:46:03.665Z"
   },
   {
    "duration": 149,
    "start_time": "2022-03-20T19:46:03.711Z"
   },
   {
    "duration": 44,
    "start_time": "2022-03-20T19:46:03.862Z"
   },
   {
    "duration": 11,
    "start_time": "2022-03-20T19:46:03.909Z"
   },
   {
    "duration": 53,
    "start_time": "2022-03-20T19:46:03.944Z"
   },
   {
    "duration": 97,
    "start_time": "2022-03-20T19:46:03.999Z"
   },
   {
    "duration": 75,
    "start_time": "2022-03-20T19:46:04.099Z"
   },
   {
    "duration": 72,
    "start_time": "2022-03-20T19:46:04.176Z"
   },
   {
    "duration": 21,
    "start_time": "2022-03-20T19:46:04.251Z"
   },
   {
    "duration": 82,
    "start_time": "2022-03-20T19:46:04.275Z"
   },
   {
    "duration": 3796,
    "start_time": "2022-03-20T19:46:04.359Z"
   },
   {
    "duration": 29,
    "start_time": "2022-03-20T19:46:08.157Z"
   },
   {
    "duration": 233,
    "start_time": "2022-03-20T19:46:08.189Z"
   },
   {
    "duration": 2759,
    "start_time": "2022-03-20T19:47:13.338Z"
   },
   {
    "duration": 1291,
    "start_time": "2022-03-20T19:50:01.318Z"
   },
   {
    "duration": 24,
    "start_time": "2022-03-20T19:53:51.335Z"
   },
   {
    "duration": 71,
    "start_time": "2022-03-20T19:53:58.699Z"
   },
   {
    "duration": 63,
    "start_time": "2022-03-20T19:54:05.367Z"
   },
   {
    "duration": 65,
    "start_time": "2022-03-20T19:54:14.645Z"
   },
   {
    "duration": 66,
    "start_time": "2022-03-20T19:54:45.621Z"
   },
   {
    "duration": 21,
    "start_time": "2022-03-20T19:55:59.854Z"
   },
   {
    "duration": 28,
    "start_time": "2022-03-20T19:56:09.429Z"
   },
   {
    "duration": 12,
    "start_time": "2022-03-20T19:57:33.319Z"
   },
   {
    "duration": 13,
    "start_time": "2022-03-20T19:57:43.533Z"
   },
   {
    "duration": 12,
    "start_time": "2022-03-20T19:57:51.424Z"
   },
   {
    "duration": 12,
    "start_time": "2022-03-20T19:57:58.719Z"
   },
   {
    "duration": 12,
    "start_time": "2022-03-20T19:58:07.825Z"
   },
   {
    "duration": 13,
    "start_time": "2022-03-20T19:58:13.520Z"
   },
   {
    "duration": 9,
    "start_time": "2022-03-20T19:58:48.208Z"
   },
   {
    "duration": 11,
    "start_time": "2022-03-20T19:58:56.095Z"
   },
   {
    "duration": 9,
    "start_time": "2022-03-20T19:59:05.117Z"
   },
   {
    "duration": 11,
    "start_time": "2022-03-20T19:59:50.447Z"
   },
   {
    "duration": 8,
    "start_time": "2022-03-20T20:00:06.554Z"
   },
   {
    "duration": 514,
    "start_time": "2022-03-20T20:00:21.543Z"
   },
   {
    "duration": 566,
    "start_time": "2022-03-20T20:00:22.060Z"
   },
   {
    "duration": 28,
    "start_time": "2022-03-20T20:00:22.628Z"
   },
   {
    "duration": 17,
    "start_time": "2022-03-20T20:00:22.660Z"
   },
   {
    "duration": 16,
    "start_time": "2022-03-20T20:00:22.680Z"
   },
   {
    "duration": 55,
    "start_time": "2022-03-20T20:00:22.698Z"
   },
   {
    "duration": 16,
    "start_time": "2022-03-20T20:00:22.755Z"
   },
   {
    "duration": 44,
    "start_time": "2022-03-20T20:00:22.774Z"
   },
   {
    "duration": 16,
    "start_time": "2022-03-20T20:00:22.844Z"
   },
   {
    "duration": 41,
    "start_time": "2022-03-20T20:00:22.864Z"
   },
   {
    "duration": 37,
    "start_time": "2022-03-20T20:00:22.907Z"
   },
   {
    "duration": 34,
    "start_time": "2022-03-20T20:00:22.946Z"
   },
   {
    "duration": 111,
    "start_time": "2022-03-20T20:00:22.983Z"
   },
   {
    "duration": 15,
    "start_time": "2022-03-20T20:00:23.097Z"
   },
   {
    "duration": 51,
    "start_time": "2022-03-20T20:00:23.115Z"
   },
   {
    "duration": 135,
    "start_time": "2022-03-20T20:00:23.169Z"
   },
   {
    "duration": 64,
    "start_time": "2022-03-20T20:00:23.307Z"
   },
   {
    "duration": 11,
    "start_time": "2022-03-20T20:00:23.374Z"
   },
   {
    "duration": 72,
    "start_time": "2022-03-20T20:00:23.388Z"
   },
   {
    "duration": 63,
    "start_time": "2022-03-20T20:00:23.462Z"
   },
   {
    "duration": 71,
    "start_time": "2022-03-20T20:00:23.544Z"
   },
   {
    "duration": 86,
    "start_time": "2022-03-20T20:00:23.618Z"
   },
   {
    "duration": 38,
    "start_time": "2022-03-20T20:00:23.706Z"
   },
   {
    "duration": 48,
    "start_time": "2022-03-20T20:00:23.746Z"
   },
   {
    "duration": 3866,
    "start_time": "2022-03-20T20:00:23.796Z"
   },
   {
    "duration": 19,
    "start_time": "2022-03-20T20:00:27.665Z"
   },
   {
    "duration": 146,
    "start_time": "2022-03-20T20:00:27.686Z"
   },
   {
    "duration": 515,
    "start_time": "2022-03-20T20:02:57.444Z"
   },
   {
    "duration": 553,
    "start_time": "2022-03-20T20:02:57.963Z"
   },
   {
    "duration": 34,
    "start_time": "2022-03-20T20:02:58.519Z"
   },
   {
    "duration": 21,
    "start_time": "2022-03-20T20:02:58.555Z"
   },
   {
    "duration": 18,
    "start_time": "2022-03-20T20:02:58.578Z"
   },
   {
    "duration": 52,
    "start_time": "2022-03-20T20:02:58.598Z"
   },
   {
    "duration": 15,
    "start_time": "2022-03-20T20:02:58.653Z"
   },
   {
    "duration": 31,
    "start_time": "2022-03-20T20:02:58.670Z"
   },
   {
    "duration": 48,
    "start_time": "2022-03-20T20:02:58.704Z"
   },
   {
    "duration": 37,
    "start_time": "2022-03-20T20:02:58.756Z"
   },
   {
    "duration": 12,
    "start_time": "2022-03-20T20:02:58.795Z"
   },
   {
    "duration": 66,
    "start_time": "2022-03-20T20:02:58.810Z"
   },
   {
    "duration": 106,
    "start_time": "2022-03-20T20:02:58.878Z"
   },
   {
    "duration": 14,
    "start_time": "2022-03-20T20:02:58.987Z"
   },
   {
    "duration": 59,
    "start_time": "2022-03-20T20:02:59.004Z"
   },
   {
    "duration": 123,
    "start_time": "2022-03-20T20:02:59.065Z"
   },
   {
    "duration": 60,
    "start_time": "2022-03-20T20:02:59.190Z"
   },
   {
    "duration": 13,
    "start_time": "2022-03-20T20:02:59.252Z"
   },
   {
    "duration": 80,
    "start_time": "2022-03-20T20:02:59.267Z"
   },
   {
    "duration": 65,
    "start_time": "2022-03-20T20:02:59.351Z"
   },
   {
    "duration": 75,
    "start_time": "2022-03-20T20:02:59.418Z"
   },
   {
    "duration": 98,
    "start_time": "2022-03-20T20:02:59.495Z"
   },
   {
    "duration": 16,
    "start_time": "2022-03-20T20:02:59.596Z"
   },
   {
    "duration": 54,
    "start_time": "2022-03-20T20:02:59.615Z"
   },
   {
    "duration": 1432,
    "start_time": "2022-03-20T20:02:59.672Z"
   },
   {
    "duration": 0,
    "start_time": "2022-03-20T20:03:01.106Z"
   },
   {
    "duration": 0,
    "start_time": "2022-03-20T20:03:01.109Z"
   },
   {
    "duration": 2648,
    "start_time": "2022-03-20T20:03:26.812Z"
   },
   {
    "duration": 494,
    "start_time": "2022-03-20T20:03:51.552Z"
   },
   {
    "duration": 676,
    "start_time": "2022-03-20T20:03:52.048Z"
   },
   {
    "duration": 42,
    "start_time": "2022-03-20T20:03:52.726Z"
   },
   {
    "duration": 18,
    "start_time": "2022-03-20T20:03:52.771Z"
   },
   {
    "duration": 12,
    "start_time": "2022-03-20T20:03:52.792Z"
   },
   {
    "duration": 49,
    "start_time": "2022-03-20T20:03:52.807Z"
   },
   {
    "duration": 12,
    "start_time": "2022-03-20T20:03:52.858Z"
   },
   {
    "duration": 26,
    "start_time": "2022-03-20T20:03:52.872Z"
   },
   {
    "duration": 14,
    "start_time": "2022-03-20T20:03:52.943Z"
   },
   {
    "duration": 29,
    "start_time": "2022-03-20T20:03:52.961Z"
   },
   {
    "duration": 60,
    "start_time": "2022-03-20T20:03:52.992Z"
   },
   {
    "duration": 35,
    "start_time": "2022-03-20T20:03:53.054Z"
   },
   {
    "duration": 113,
    "start_time": "2022-03-20T20:03:53.092Z"
   },
   {
    "duration": 14,
    "start_time": "2022-03-20T20:03:53.207Z"
   },
   {
    "duration": 48,
    "start_time": "2022-03-20T20:03:53.224Z"
   },
   {
    "duration": 127,
    "start_time": "2022-03-20T20:03:53.274Z"
   },
   {
    "duration": 55,
    "start_time": "2022-03-20T20:03:53.403Z"
   },
   {
    "duration": 12,
    "start_time": "2022-03-20T20:03:53.459Z"
   },
   {
    "duration": 70,
    "start_time": "2022-03-20T20:03:53.473Z"
   },
   {
    "duration": 62,
    "start_time": "2022-03-20T20:03:53.546Z"
   },
   {
    "duration": 73,
    "start_time": "2022-03-20T20:03:53.610Z"
   },
   {
    "duration": 74,
    "start_time": "2022-03-20T20:03:53.685Z"
   },
   {
    "duration": 19,
    "start_time": "2022-03-20T20:03:53.761Z"
   },
   {
    "duration": 70,
    "start_time": "2022-03-20T20:03:53.783Z"
   },
   {
    "duration": 2826,
    "start_time": "2022-03-20T20:03:53.855Z"
   },
   {
    "duration": 22,
    "start_time": "2022-03-20T20:03:56.684Z"
   },
   {
    "duration": 157,
    "start_time": "2022-03-20T20:03:56.709Z"
   },
   {
    "duration": 2403,
    "start_time": "2022-03-20T20:10:41.969Z"
   },
   {
    "duration": 2600,
    "start_time": "2022-03-20T20:12:22.093Z"
   },
   {
    "duration": 681,
    "start_time": "2022-03-20T20:12:42.097Z"
   },
   {
    "duration": 715,
    "start_time": "2022-03-20T20:12:42.781Z"
   },
   {
    "duration": 45,
    "start_time": "2022-03-20T20:12:43.499Z"
   },
   {
    "duration": 21,
    "start_time": "2022-03-20T20:12:43.548Z"
   },
   {
    "duration": 13,
    "start_time": "2022-03-20T20:12:43.571Z"
   },
   {
    "duration": 16,
    "start_time": "2022-03-20T20:12:43.586Z"
   },
   {
    "duration": 47,
    "start_time": "2022-03-20T20:12:43.604Z"
   },
   {
    "duration": 31,
    "start_time": "2022-03-20T20:12:43.654Z"
   },
   {
    "duration": 12,
    "start_time": "2022-03-20T20:12:43.688Z"
   },
   {
    "duration": 30,
    "start_time": "2022-03-20T20:12:43.742Z"
   },
   {
    "duration": 12,
    "start_time": "2022-03-20T20:12:43.774Z"
   },
   {
    "duration": 72,
    "start_time": "2022-03-20T20:12:43.788Z"
   },
   {
    "duration": 91,
    "start_time": "2022-03-20T20:12:43.863Z"
   },
   {
    "duration": 14,
    "start_time": "2022-03-20T20:12:43.956Z"
   },
   {
    "duration": 36,
    "start_time": "2022-03-20T20:12:43.972Z"
   },
   {
    "duration": 145,
    "start_time": "2022-03-20T20:12:44.043Z"
   },
   {
    "duration": 59,
    "start_time": "2022-03-20T20:12:44.191Z"
   },
   {
    "duration": 12,
    "start_time": "2022-03-20T20:12:44.252Z"
   },
   {
    "duration": 50,
    "start_time": "2022-03-20T20:12:44.266Z"
   },
   {
    "duration": 81,
    "start_time": "2022-03-20T20:12:44.318Z"
   },
   {
    "duration": 77,
    "start_time": "2022-03-20T20:12:44.401Z"
   },
   {
    "duration": 64,
    "start_time": "2022-03-20T20:12:44.480Z"
   },
   {
    "duration": 15,
    "start_time": "2022-03-20T20:12:44.546Z"
   },
   {
    "duration": 31,
    "start_time": "2022-03-20T20:12:44.563Z"
   },
   {
    "duration": 2659,
    "start_time": "2022-03-20T20:12:44.596Z"
   },
   {
    "duration": 19,
    "start_time": "2022-03-20T20:12:47.257Z"
   },
   {
    "duration": 136,
    "start_time": "2022-03-20T20:12:47.278Z"
   },
   {
    "duration": 526,
    "start_time": "2022-03-20T20:14:19.065Z"
   },
   {
    "duration": 561,
    "start_time": "2022-03-20T20:14:19.594Z"
   },
   {
    "duration": 26,
    "start_time": "2022-03-20T20:14:20.157Z"
   },
   {
    "duration": 17,
    "start_time": "2022-03-20T20:14:20.186Z"
   },
   {
    "duration": 38,
    "start_time": "2022-03-20T20:14:20.206Z"
   },
   {
    "duration": 15,
    "start_time": "2022-03-20T20:14:20.247Z"
   },
   {
    "duration": 11,
    "start_time": "2022-03-20T20:14:20.264Z"
   },
   {
    "duration": 68,
    "start_time": "2022-03-20T20:14:20.277Z"
   },
   {
    "duration": 13,
    "start_time": "2022-03-20T20:14:20.347Z"
   },
   {
    "duration": 32,
    "start_time": "2022-03-20T20:14:20.364Z"
   },
   {
    "duration": 46,
    "start_time": "2022-03-20T20:14:20.398Z"
   },
   {
    "duration": 39,
    "start_time": "2022-03-20T20:14:20.447Z"
   },
   {
    "duration": 101,
    "start_time": "2022-03-20T20:14:20.488Z"
   },
   {
    "duration": 13,
    "start_time": "2022-03-20T20:14:20.592Z"
   },
   {
    "duration": 56,
    "start_time": "2022-03-20T20:14:20.607Z"
   },
   {
    "duration": 130,
    "start_time": "2022-03-20T20:14:20.665Z"
   },
   {
    "duration": 60,
    "start_time": "2022-03-20T20:14:20.798Z"
   },
   {
    "duration": 12,
    "start_time": "2022-03-20T20:14:20.861Z"
   },
   {
    "duration": 74,
    "start_time": "2022-03-20T20:14:20.875Z"
   },
   {
    "duration": 62,
    "start_time": "2022-03-20T20:14:20.952Z"
   },
   {
    "duration": 75,
    "start_time": "2022-03-20T20:14:21.016Z"
   },
   {
    "duration": 70,
    "start_time": "2022-03-20T20:14:21.094Z"
   },
   {
    "duration": 15,
    "start_time": "2022-03-20T20:14:21.166Z"
   },
   {
    "duration": 31,
    "start_time": "2022-03-20T20:14:21.184Z"
   },
   {
    "duration": 1710,
    "start_time": "2022-03-20T20:14:21.217Z"
   },
   {
    "duration": 1114,
    "start_time": "2022-03-20T20:14:22.929Z"
   },
   {
    "duration": 27,
    "start_time": "2022-03-20T20:14:24.046Z"
   },
   {
    "duration": 155,
    "start_time": "2022-03-20T20:14:24.079Z"
   },
   {
    "duration": 37,
    "start_time": "2022-03-20T20:15:43.884Z"
   },
   {
    "duration": 510,
    "start_time": "2022-03-20T20:20:08.233Z"
   },
   {
    "duration": 591,
    "start_time": "2022-03-20T20:20:08.746Z"
   },
   {
    "duration": 28,
    "start_time": "2022-03-20T20:20:09.339Z"
   },
   {
    "duration": 17,
    "start_time": "2022-03-20T20:20:09.370Z"
   },
   {
    "duration": 11,
    "start_time": "2022-03-20T20:20:09.391Z"
   },
   {
    "duration": 15,
    "start_time": "2022-03-20T20:20:09.444Z"
   },
   {
    "duration": 15,
    "start_time": "2022-03-20T20:20:09.461Z"
   },
   {
    "duration": 67,
    "start_time": "2022-03-20T20:20:09.478Z"
   },
   {
    "duration": 16,
    "start_time": "2022-03-20T20:20:09.547Z"
   },
   {
    "duration": 31,
    "start_time": "2022-03-20T20:20:09.565Z"
   },
   {
    "duration": 47,
    "start_time": "2022-03-20T20:20:09.598Z"
   },
   {
    "duration": 34,
    "start_time": "2022-03-20T20:20:09.648Z"
   },
   {
    "duration": 114,
    "start_time": "2022-03-20T20:20:09.684Z"
   },
   {
    "duration": 14,
    "start_time": "2022-03-20T20:20:09.802Z"
   },
   {
    "duration": 50,
    "start_time": "2022-03-20T20:20:09.819Z"
   },
   {
    "duration": 135,
    "start_time": "2022-03-20T20:20:09.871Z"
   },
   {
    "duration": 61,
    "start_time": "2022-03-20T20:20:10.009Z"
   },
   {
    "duration": 13,
    "start_time": "2022-03-20T20:20:10.073Z"
   },
   {
    "duration": 84,
    "start_time": "2022-03-20T20:20:10.088Z"
   },
   {
    "duration": 86,
    "start_time": "2022-03-20T20:20:10.175Z"
   },
   {
    "duration": 54,
    "start_time": "2022-03-20T20:20:10.264Z"
   },
   {
    "duration": 65,
    "start_time": "2022-03-20T20:20:10.320Z"
   },
   {
    "duration": 15,
    "start_time": "2022-03-20T20:20:10.387Z"
   },
   {
    "duration": 64,
    "start_time": "2022-03-20T20:20:10.405Z"
   },
   {
    "duration": 2728,
    "start_time": "2022-03-20T20:20:10.471Z"
   },
   {
    "duration": 899,
    "start_time": "2022-03-20T20:20:13.202Z"
   },
   {
    "duration": 19,
    "start_time": "2022-03-20T20:20:14.104Z"
   },
   {
    "duration": 134,
    "start_time": "2022-03-20T20:20:14.126Z"
   },
   {
    "duration": 533,
    "start_time": "2022-03-20T20:20:40.806Z"
   },
   {
    "duration": 551,
    "start_time": "2022-03-20T20:20:41.344Z"
   },
   {
    "duration": 27,
    "start_time": "2022-03-20T20:20:41.897Z"
   },
   {
    "duration": 29,
    "start_time": "2022-03-20T20:20:41.927Z"
   },
   {
    "duration": 12,
    "start_time": "2022-03-20T20:20:41.958Z"
   },
   {
    "duration": 15,
    "start_time": "2022-03-20T20:20:41.973Z"
   },
   {
    "duration": 54,
    "start_time": "2022-03-20T20:20:41.990Z"
   },
   {
    "duration": 26,
    "start_time": "2022-03-20T20:20:42.046Z"
   },
   {
    "duration": 12,
    "start_time": "2022-03-20T20:20:42.074Z"
   },
   {
    "duration": 67,
    "start_time": "2022-03-20T20:20:42.091Z"
   },
   {
    "duration": 13,
    "start_time": "2022-03-20T20:20:42.161Z"
   },
   {
    "duration": 78,
    "start_time": "2022-03-20T20:20:42.177Z"
   },
   {
    "duration": 97,
    "start_time": "2022-03-20T20:20:42.259Z"
   },
   {
    "duration": 15,
    "start_time": "2022-03-20T20:20:42.359Z"
   },
   {
    "duration": 72,
    "start_time": "2022-03-20T20:20:42.377Z"
   },
   {
    "duration": 119,
    "start_time": "2022-03-20T20:20:42.452Z"
   },
   {
    "duration": 70,
    "start_time": "2022-03-20T20:20:42.574Z"
   },
   {
    "duration": 12,
    "start_time": "2022-03-20T20:20:42.646Z"
   },
   {
    "duration": 65,
    "start_time": "2022-03-20T20:20:42.660Z"
   },
   {
    "duration": 68,
    "start_time": "2022-03-20T20:20:42.742Z"
   },
   {
    "duration": 67,
    "start_time": "2022-03-20T20:20:42.812Z"
   },
   {
    "duration": 72,
    "start_time": "2022-03-20T20:20:42.882Z"
   },
   {
    "duration": 16,
    "start_time": "2022-03-20T20:20:42.956Z"
   },
   {
    "duration": 39,
    "start_time": "2022-03-20T20:20:42.974Z"
   },
   {
    "duration": 2584,
    "start_time": "2022-03-20T20:20:43.016Z"
   },
   {
    "duration": 884,
    "start_time": "2022-03-20T20:20:45.602Z"
   },
   {
    "duration": 21,
    "start_time": "2022-03-20T20:20:46.488Z"
   },
   {
    "duration": 160,
    "start_time": "2022-03-20T20:20:46.516Z"
   },
   {
    "duration": 2413,
    "start_time": "2022-03-20T20:24:03.180Z"
   },
   {
    "duration": 534,
    "start_time": "2022-03-20T20:24:32.010Z"
   },
   {
    "duration": 562,
    "start_time": "2022-03-20T20:24:32.548Z"
   },
   {
    "duration": 34,
    "start_time": "2022-03-20T20:24:33.112Z"
   },
   {
    "duration": 15,
    "start_time": "2022-03-20T20:24:33.149Z"
   },
   {
    "duration": 11,
    "start_time": "2022-03-20T20:24:33.167Z"
   },
   {
    "duration": 15,
    "start_time": "2022-03-20T20:24:33.180Z"
   },
   {
    "duration": 53,
    "start_time": "2022-03-20T20:24:33.198Z"
   },
   {
    "duration": 27,
    "start_time": "2022-03-20T20:24:33.254Z"
   },
   {
    "duration": 12,
    "start_time": "2022-03-20T20:24:33.283Z"
   },
   {
    "duration": 72,
    "start_time": "2022-03-20T20:24:33.300Z"
   },
   {
    "duration": 11,
    "start_time": "2022-03-20T20:24:33.374Z"
   },
   {
    "duration": 72,
    "start_time": "2022-03-20T20:24:33.387Z"
   },
   {
    "duration": 88,
    "start_time": "2022-03-20T20:24:33.461Z"
   },
   {
    "duration": 15,
    "start_time": "2022-03-20T20:24:33.551Z"
   },
   {
    "duration": 36,
    "start_time": "2022-03-20T20:24:33.569Z"
   },
   {
    "duration": 181,
    "start_time": "2022-03-20T20:24:33.608Z"
   },
   {
    "duration": 76,
    "start_time": "2022-03-20T20:24:33.791Z"
   },
   {
    "duration": 15,
    "start_time": "2022-03-20T20:24:33.870Z"
   },
   {
    "duration": 91,
    "start_time": "2022-03-20T20:24:33.888Z"
   },
   {
    "duration": 111,
    "start_time": "2022-03-20T20:24:33.982Z"
   },
   {
    "duration": 83,
    "start_time": "2022-03-20T20:24:34.096Z"
   },
   {
    "duration": 66,
    "start_time": "2022-03-20T20:24:34.182Z"
   },
   {
    "duration": 16,
    "start_time": "2022-03-20T20:24:34.250Z"
   },
   {
    "duration": 32,
    "start_time": "2022-03-20T20:24:34.268Z"
   },
   {
    "duration": 2665,
    "start_time": "2022-03-20T20:24:34.302Z"
   },
   {
    "duration": 917,
    "start_time": "2022-03-20T20:24:36.970Z"
   },
   {
    "duration": 20,
    "start_time": "2022-03-20T20:24:37.889Z"
   },
   {
    "duration": 146,
    "start_time": "2022-03-20T20:24:37.914Z"
   },
   {
    "duration": 71,
    "start_time": "2022-03-21T11:12:56.996Z"
   },
   {
    "duration": 519,
    "start_time": "2022-03-21T11:13:05.286Z"
   },
   {
    "duration": 563,
    "start_time": "2022-03-21T11:13:05.807Z"
   },
   {
    "duration": 27,
    "start_time": "2022-03-21T11:13:06.372Z"
   },
   {
    "duration": 43,
    "start_time": "2022-03-21T11:13:06.402Z"
   },
   {
    "duration": 32,
    "start_time": "2022-03-21T11:13:06.447Z"
   },
   {
    "duration": 36,
    "start_time": "2022-03-21T11:13:06.481Z"
   },
   {
    "duration": 40,
    "start_time": "2022-03-21T11:13:06.519Z"
   },
   {
    "duration": 37,
    "start_time": "2022-03-21T11:13:06.562Z"
   },
   {
    "duration": 24,
    "start_time": "2022-03-21T11:13:06.601Z"
   },
   {
    "duration": 45,
    "start_time": "2022-03-21T11:13:06.629Z"
   },
   {
    "duration": 25,
    "start_time": "2022-03-21T11:13:06.676Z"
   },
   {
    "duration": 41,
    "start_time": "2022-03-21T11:13:06.703Z"
   },
   {
    "duration": 88,
    "start_time": "2022-03-21T11:13:06.747Z"
   },
   {
    "duration": 14,
    "start_time": "2022-03-21T11:13:06.837Z"
   },
   {
    "duration": 59,
    "start_time": "2022-03-21T11:13:06.853Z"
   },
   {
    "duration": 128,
    "start_time": "2022-03-21T11:13:06.915Z"
   },
   {
    "duration": 56,
    "start_time": "2022-03-21T11:13:07.045Z"
   },
   {
    "duration": 13,
    "start_time": "2022-03-21T11:13:07.103Z"
   },
   {
    "duration": 71,
    "start_time": "2022-03-21T11:13:07.118Z"
   },
   {
    "duration": 65,
    "start_time": "2022-03-21T11:13:07.192Z"
   },
   {
    "duration": 74,
    "start_time": "2022-03-21T11:13:07.259Z"
   },
   {
    "duration": 18,
    "start_time": "2022-03-21T11:13:07.335Z"
   },
   {
    "duration": 71,
    "start_time": "2022-03-21T11:13:07.355Z"
   },
   {
    "duration": 15,
    "start_time": "2022-03-21T11:13:07.428Z"
   },
   {
    "duration": 51,
    "start_time": "2022-03-21T11:13:07.445Z"
   },
   {
    "duration": 2587,
    "start_time": "2022-03-21T11:13:07.498Z"
   },
   {
    "duration": 897,
    "start_time": "2022-03-21T11:13:10.088Z"
   },
   {
    "duration": 19,
    "start_time": "2022-03-21T11:13:10.989Z"
   },
   {
    "duration": 133,
    "start_time": "2022-03-21T11:13:11.011Z"
   },
   {
    "duration": 9,
    "start_time": "2022-03-21T11:14:30.611Z"
   },
   {
    "duration": 11,
    "start_time": "2022-03-21T11:17:21.880Z"
   },
   {
    "duration": 10,
    "start_time": "2022-03-21T11:18:03.417Z"
   },
   {
    "duration": 499,
    "start_time": "2022-03-21T11:18:45.800Z"
   },
   {
    "duration": 537,
    "start_time": "2022-03-21T11:18:46.302Z"
   },
   {
    "duration": 25,
    "start_time": "2022-03-21T11:18:46.842Z"
   },
   {
    "duration": 17,
    "start_time": "2022-03-21T11:18:46.883Z"
   },
   {
    "duration": 15,
    "start_time": "2022-03-21T11:18:46.902Z"
   },
   {
    "duration": 18,
    "start_time": "2022-03-21T11:18:46.919Z"
   },
   {
    "duration": 45,
    "start_time": "2022-03-21T11:18:46.940Z"
   },
   {
    "duration": 31,
    "start_time": "2022-03-21T11:18:46.988Z"
   },
   {
    "duration": 14,
    "start_time": "2022-03-21T11:18:47.022Z"
   },
   {
    "duration": 60,
    "start_time": "2022-03-21T11:18:47.039Z"
   },
   {
    "duration": 12,
    "start_time": "2022-03-21T11:18:47.101Z"
   },
   {
    "duration": 37,
    "start_time": "2022-03-21T11:18:47.115Z"
   },
   {
    "duration": 104,
    "start_time": "2022-03-21T11:18:47.154Z"
   },
   {
    "duration": 26,
    "start_time": "2022-03-21T11:18:47.260Z"
   },
   {
    "duration": 39,
    "start_time": "2022-03-21T11:18:47.288Z"
   },
   {
    "duration": 136,
    "start_time": "2022-03-21T11:18:47.329Z"
   },
   {
    "duration": 45,
    "start_time": "2022-03-21T11:18:47.468Z"
   },
   {
    "duration": 12,
    "start_time": "2022-03-21T11:18:47.516Z"
   },
   {
    "duration": 77,
    "start_time": "2022-03-21T11:18:47.530Z"
   },
   {
    "duration": 76,
    "start_time": "2022-03-21T11:18:47.609Z"
   },
   {
    "duration": 54,
    "start_time": "2022-03-21T11:18:47.688Z"
   },
   {
    "duration": 40,
    "start_time": "2022-03-21T11:18:47.745Z"
   },
   {
    "duration": 59,
    "start_time": "2022-03-21T11:18:47.788Z"
   },
   {
    "duration": 16,
    "start_time": "2022-03-21T11:18:47.849Z"
   },
   {
    "duration": 47,
    "start_time": "2022-03-21T11:18:47.868Z"
   },
   {
    "duration": 2754,
    "start_time": "2022-03-21T11:18:47.917Z"
   },
   {
    "duration": 931,
    "start_time": "2022-03-21T11:18:50.674Z"
   },
   {
    "duration": 19,
    "start_time": "2022-03-21T11:18:51.610Z"
   },
   {
    "duration": 128,
    "start_time": "2022-03-21T11:18:51.632Z"
   },
   {
    "duration": 94,
    "start_time": "2022-03-21T11:19:26.798Z"
   },
   {
    "duration": 116,
    "start_time": "2022-03-21T11:22:24.366Z"
   },
   {
    "duration": 129,
    "start_time": "2022-03-21T11:22:41.881Z"
   },
   {
    "duration": 85,
    "start_time": "2022-03-21T11:22:55.180Z"
   },
   {
    "duration": 37,
    "start_time": "2022-03-21T11:23:11.062Z"
   },
   {
    "duration": 36,
    "start_time": "2022-03-21T11:23:26.948Z"
   },
   {
    "duration": 37,
    "start_time": "2022-03-21T11:23:50.825Z"
   },
   {
    "duration": 41,
    "start_time": "2022-03-21T11:24:06.033Z"
   },
   {
    "duration": 5,
    "start_time": "2022-03-21T11:25:52.194Z"
   },
   {
    "duration": 5,
    "start_time": "2022-03-21T11:26:10.504Z"
   },
   {
    "duration": 8,
    "start_time": "2022-03-21T11:26:51.564Z"
   },
   {
    "duration": 8,
    "start_time": "2022-03-21T11:27:15.469Z"
   },
   {
    "duration": 46,
    "start_time": "2022-03-21T11:27:59.993Z"
   },
   {
    "duration": 34,
    "start_time": "2022-03-21T11:28:38.403Z"
   },
   {
    "duration": 1923,
    "start_time": "2022-03-21T11:28:50.750Z"
   },
   {
    "duration": 1798,
    "start_time": "2022-03-21T11:28:56.769Z"
   },
   {
    "duration": 18,
    "start_time": "2022-03-21T11:29:21.363Z"
   },
   {
    "duration": 9,
    "start_time": "2022-03-21T11:31:06.569Z"
   },
   {
    "duration": 572,
    "start_time": "2022-03-21T11:31:33.751Z"
   },
   {
    "duration": 541,
    "start_time": "2022-03-21T11:31:34.325Z"
   },
   {
    "duration": 41,
    "start_time": "2022-03-21T11:31:34.869Z"
   },
   {
    "duration": 19,
    "start_time": "2022-03-21T11:31:34.914Z"
   },
   {
    "duration": 19,
    "start_time": "2022-03-21T11:31:34.936Z"
   },
   {
    "duration": 43,
    "start_time": "2022-03-21T11:31:34.957Z"
   },
   {
    "duration": 26,
    "start_time": "2022-03-21T11:31:35.003Z"
   },
   {
    "duration": 32,
    "start_time": "2022-03-21T11:31:35.032Z"
   },
   {
    "duration": 28,
    "start_time": "2022-03-21T11:31:35.086Z"
   },
   {
    "duration": 71,
    "start_time": "2022-03-21T11:31:35.119Z"
   },
   {
    "duration": 33,
    "start_time": "2022-03-21T11:31:35.193Z"
   },
   {
    "duration": 56,
    "start_time": "2022-03-21T11:31:35.228Z"
   },
   {
    "duration": 81,
    "start_time": "2022-03-21T11:31:35.288Z"
   },
   {
    "duration": 23,
    "start_time": "2022-03-21T11:31:35.371Z"
   },
   {
    "duration": 63,
    "start_time": "2022-03-21T11:31:35.397Z"
   },
   {
    "duration": 112,
    "start_time": "2022-03-21T11:31:35.463Z"
   },
   {
    "duration": 62,
    "start_time": "2022-03-21T11:31:35.578Z"
   },
   {
    "duration": 12,
    "start_time": "2022-03-21T11:31:35.642Z"
   },
   {
    "duration": 86,
    "start_time": "2022-03-21T11:31:35.657Z"
   },
   {
    "duration": 85,
    "start_time": "2022-03-21T11:31:35.745Z"
   },
   {
    "duration": 75,
    "start_time": "2022-03-21T11:31:35.833Z"
   },
   {
    "duration": 10,
    "start_time": "2022-03-21T11:31:35.910Z"
   },
   {
    "duration": 67,
    "start_time": "2022-03-21T11:31:35.923Z"
   },
   {
    "duration": 11,
    "start_time": "2022-03-21T11:31:35.993Z"
   },
   {
    "duration": 37,
    "start_time": "2022-03-21T11:31:36.007Z"
   },
   {
    "duration": 38,
    "start_time": "2022-03-21T11:31:36.046Z"
   },
   {
    "duration": 66,
    "start_time": "2022-03-21T11:31:36.087Z"
   },
   {
    "duration": 5199,
    "start_time": "2022-03-21T11:31:36.158Z"
   },
   {
    "duration": 0,
    "start_time": "2022-03-21T11:31:41.360Z"
   },
   {
    "duration": 0,
    "start_time": "2022-03-21T11:31:41.362Z"
   },
   {
    "duration": 0,
    "start_time": "2022-03-21T11:31:41.365Z"
   },
   {
    "duration": 499,
    "start_time": "2022-03-21T11:33:15.200Z"
   },
   {
    "duration": 528,
    "start_time": "2022-03-21T11:33:15.702Z"
   },
   {
    "duration": 25,
    "start_time": "2022-03-21T11:33:16.233Z"
   },
   {
    "duration": 36,
    "start_time": "2022-03-21T11:33:16.261Z"
   },
   {
    "duration": 14,
    "start_time": "2022-03-21T11:33:16.300Z"
   },
   {
    "duration": 17,
    "start_time": "2022-03-21T11:33:16.316Z"
   },
   {
    "duration": 15,
    "start_time": "2022-03-21T11:33:16.336Z"
   },
   {
    "duration": 27,
    "start_time": "2022-03-21T11:33:16.384Z"
   },
   {
    "duration": 13,
    "start_time": "2022-03-21T11:33:16.413Z"
   },
   {
    "duration": 62,
    "start_time": "2022-03-21T11:33:16.432Z"
   },
   {
    "duration": 12,
    "start_time": "2022-03-21T11:33:16.497Z"
   },
   {
    "duration": 37,
    "start_time": "2022-03-21T11:33:16.511Z"
   },
   {
    "duration": 102,
    "start_time": "2022-03-21T11:33:16.550Z"
   },
   {
    "duration": 14,
    "start_time": "2022-03-21T11:33:16.654Z"
   },
   {
    "duration": 48,
    "start_time": "2022-03-21T11:33:16.670Z"
   },
   {
    "duration": 127,
    "start_time": "2022-03-21T11:33:16.720Z"
   },
   {
    "duration": 56,
    "start_time": "2022-03-21T11:33:16.849Z"
   },
   {
    "duration": 11,
    "start_time": "2022-03-21T11:33:16.907Z"
   },
   {
    "duration": 69,
    "start_time": "2022-03-21T11:33:16.921Z"
   },
   {
    "duration": 63,
    "start_time": "2022-03-21T11:33:16.993Z"
   },
   {
    "duration": 75,
    "start_time": "2022-03-21T11:33:17.059Z"
   },
   {
    "duration": 11,
    "start_time": "2022-03-21T11:33:17.136Z"
   },
   {
    "duration": 73,
    "start_time": "2022-03-21T11:33:17.149Z"
   },
   {
    "duration": 9,
    "start_time": "2022-03-21T11:33:17.225Z"
   },
   {
    "duration": 23,
    "start_time": "2022-03-21T11:33:17.237Z"
   },
   {
    "duration": 33,
    "start_time": "2022-03-21T11:33:17.262Z"
   },
   {
    "duration": 30,
    "start_time": "2022-03-21T11:33:17.297Z"
   },
   {
    "duration": 5057,
    "start_time": "2022-03-21T11:33:17.332Z"
   },
   {
    "duration": 0,
    "start_time": "2022-03-21T11:33:22.392Z"
   },
   {
    "duration": 0,
    "start_time": "2022-03-21T11:33:22.394Z"
   },
   {
    "duration": 0,
    "start_time": "2022-03-21T11:33:22.395Z"
   },
   {
    "duration": 485,
    "start_time": "2022-03-21T11:34:36.916Z"
   },
   {
    "duration": 548,
    "start_time": "2022-03-21T11:34:37.404Z"
   },
   {
    "duration": 30,
    "start_time": "2022-03-21T11:34:37.954Z"
   },
   {
    "duration": 18,
    "start_time": "2022-03-21T11:34:37.986Z"
   },
   {
    "duration": 18,
    "start_time": "2022-03-21T11:34:38.007Z"
   },
   {
    "duration": 22,
    "start_time": "2022-03-21T11:34:38.027Z"
   },
   {
    "duration": 39,
    "start_time": "2022-03-21T11:34:38.052Z"
   },
   {
    "duration": 36,
    "start_time": "2022-03-21T11:34:38.093Z"
   },
   {
    "duration": 15,
    "start_time": "2022-03-21T11:34:38.133Z"
   },
   {
    "duration": 50,
    "start_time": "2022-03-21T11:34:38.152Z"
   },
   {
    "duration": 12,
    "start_time": "2022-03-21T11:34:38.204Z"
   },
   {
    "duration": 40,
    "start_time": "2022-03-21T11:34:38.218Z"
   },
   {
    "duration": 96,
    "start_time": "2022-03-21T11:34:38.260Z"
   },
   {
    "duration": 26,
    "start_time": "2022-03-21T11:34:38.358Z"
   },
   {
    "duration": 41,
    "start_time": "2022-03-21T11:34:38.387Z"
   },
   {
    "duration": 133,
    "start_time": "2022-03-21T11:34:38.430Z"
   },
   {
    "duration": 50,
    "start_time": "2022-03-21T11:34:38.565Z"
   },
   {
    "duration": 13,
    "start_time": "2022-03-21T11:34:38.617Z"
   },
   {
    "duration": 71,
    "start_time": "2022-03-21T11:34:38.632Z"
   },
   {
    "duration": 79,
    "start_time": "2022-03-21T11:34:38.705Z"
   },
   {
    "duration": 56,
    "start_time": "2022-03-21T11:34:38.787Z"
   },
   {
    "duration": 39,
    "start_time": "2022-03-21T11:34:38.845Z"
   },
   {
    "duration": 51,
    "start_time": "2022-03-21T11:34:38.886Z"
   },
   {
    "duration": 10,
    "start_time": "2022-03-21T11:34:38.939Z"
   },
   {
    "duration": 44,
    "start_time": "2022-03-21T11:34:38.951Z"
   },
   {
    "duration": 22,
    "start_time": "2022-03-21T11:34:38.997Z"
   },
   {
    "duration": 31,
    "start_time": "2022-03-21T11:34:39.021Z"
   },
   {
    "duration": 4846,
    "start_time": "2022-03-21T11:34:39.057Z"
   },
   {
    "duration": 0,
    "start_time": "2022-03-21T11:34:43.905Z"
   },
   {
    "duration": 0,
    "start_time": "2022-03-21T11:34:43.907Z"
   },
   {
    "duration": 0,
    "start_time": "2022-03-21T11:34:43.908Z"
   },
   {
    "duration": 4937,
    "start_time": "2022-03-21T11:35:38.047Z"
   },
   {
    "duration": 28,
    "start_time": "2022-03-21T11:56:44.425Z"
   },
   {
    "duration": 550,
    "start_time": "2022-03-21T11:57:05.865Z"
   },
   {
    "duration": 557,
    "start_time": "2022-03-21T11:57:06.419Z"
   },
   {
    "duration": 31,
    "start_time": "2022-03-21T11:57:06.978Z"
   },
   {
    "duration": 17,
    "start_time": "2022-03-21T11:57:07.012Z"
   },
   {
    "duration": 23,
    "start_time": "2022-03-21T11:57:07.032Z"
   },
   {
    "duration": 35,
    "start_time": "2022-03-21T11:57:07.057Z"
   },
   {
    "duration": 17,
    "start_time": "2022-03-21T11:57:07.094Z"
   },
   {
    "duration": 29,
    "start_time": "2022-03-21T11:57:07.113Z"
   },
   {
    "duration": 43,
    "start_time": "2022-03-21T11:57:07.144Z"
   },
   {
    "duration": 30,
    "start_time": "2022-03-21T11:57:07.192Z"
   },
   {
    "duration": 12,
    "start_time": "2022-03-21T11:57:07.224Z"
   },
   {
    "duration": 66,
    "start_time": "2022-03-21T11:57:07.238Z"
   },
   {
    "duration": 89,
    "start_time": "2022-03-21T11:57:07.306Z"
   },
   {
    "duration": 14,
    "start_time": "2022-03-21T11:57:07.397Z"
   },
   {
    "duration": 38,
    "start_time": "2022-03-21T11:57:07.413Z"
   },
   {
    "duration": 130,
    "start_time": "2022-03-21T11:57:07.454Z"
   },
   {
    "duration": 43,
    "start_time": "2022-03-21T11:57:07.586Z"
   },
   {
    "duration": 13,
    "start_time": "2022-03-21T11:57:07.631Z"
   },
   {
    "duration": 82,
    "start_time": "2022-03-21T11:57:07.646Z"
   },
   {
    "duration": 75,
    "start_time": "2022-03-21T11:57:07.731Z"
   },
   {
    "duration": 54,
    "start_time": "2022-03-21T11:57:07.808Z"
   },
   {
    "duration": 13,
    "start_time": "2022-03-21T11:57:07.883Z"
   },
   {
    "duration": 51,
    "start_time": "2022-03-21T11:57:07.898Z"
   },
   {
    "duration": 33,
    "start_time": "2022-03-21T11:57:07.951Z"
   },
   {
    "duration": 47,
    "start_time": "2022-03-21T11:57:07.986Z"
   },
   {
    "duration": 21,
    "start_time": "2022-03-21T11:57:08.035Z"
   },
   {
    "duration": 34,
    "start_time": "2022-03-21T11:57:08.058Z"
   },
   {
    "duration": 5880,
    "start_time": "2022-03-21T11:57:08.096Z"
   },
   {
    "duration": 0,
    "start_time": "2022-03-21T11:57:13.979Z"
   },
   {
    "duration": 0,
    "start_time": "2022-03-21T11:57:13.980Z"
   },
   {
    "duration": 0,
    "start_time": "2022-03-21T11:57:13.982Z"
   },
   {
    "duration": 497,
    "start_time": "2022-03-21T12:00:07.093Z"
   },
   {
    "duration": 534,
    "start_time": "2022-03-21T12:00:07.593Z"
   },
   {
    "duration": 26,
    "start_time": "2022-03-21T12:00:08.129Z"
   },
   {
    "duration": 31,
    "start_time": "2022-03-21T12:00:08.158Z"
   },
   {
    "duration": 27,
    "start_time": "2022-03-21T12:00:08.192Z"
   },
   {
    "duration": 24,
    "start_time": "2022-03-21T12:00:08.222Z"
   },
   {
    "duration": 30,
    "start_time": "2022-03-21T12:00:08.249Z"
   },
   {
    "duration": 35,
    "start_time": "2022-03-21T12:00:08.282Z"
   },
   {
    "duration": 13,
    "start_time": "2022-03-21T12:00:08.319Z"
   },
   {
    "duration": 33,
    "start_time": "2022-03-21T12:00:08.337Z"
   },
   {
    "duration": 11,
    "start_time": "2022-03-21T12:00:08.385Z"
   },
   {
    "duration": 46,
    "start_time": "2022-03-21T12:00:08.398Z"
   },
   {
    "duration": 115,
    "start_time": "2022-03-21T12:00:08.446Z"
   },
   {
    "duration": 21,
    "start_time": "2022-03-21T12:00:08.564Z"
   },
   {
    "duration": 45,
    "start_time": "2022-03-21T12:00:08.587Z"
   },
   {
    "duration": 121,
    "start_time": "2022-03-21T12:00:08.634Z"
   },
   {
    "duration": 53,
    "start_time": "2022-03-21T12:00:08.757Z"
   },
   {
    "duration": 12,
    "start_time": "2022-03-21T12:00:08.813Z"
   },
   {
    "duration": 70,
    "start_time": "2022-03-21T12:00:08.827Z"
   },
   {
    "duration": 63,
    "start_time": "2022-03-21T12:00:08.899Z"
   },
   {
    "duration": 71,
    "start_time": "2022-03-21T12:00:08.964Z"
   },
   {
    "duration": 11,
    "start_time": "2022-03-21T12:00:09.037Z"
   },
   {
    "duration": 76,
    "start_time": "2022-03-21T12:00:09.050Z"
   },
   {
    "duration": 2793,
    "start_time": "2022-03-21T12:00:09.128Z"
   },
   {
    "duration": 0,
    "start_time": "2022-03-21T12:00:11.923Z"
   },
   {
    "duration": 0,
    "start_time": "2022-03-21T12:00:11.925Z"
   },
   {
    "duration": 0,
    "start_time": "2022-03-21T12:00:11.926Z"
   },
   {
    "duration": 0,
    "start_time": "2022-03-21T12:00:11.928Z"
   },
   {
    "duration": 0,
    "start_time": "2022-03-21T12:00:11.929Z"
   },
   {
    "duration": 0,
    "start_time": "2022-03-21T12:00:11.930Z"
   },
   {
    "duration": 1,
    "start_time": "2022-03-21T12:00:11.931Z"
   },
   {
    "duration": 519,
    "start_time": "2022-03-21T12:01:34.272Z"
   },
   {
    "duration": 548,
    "start_time": "2022-03-21T12:01:34.794Z"
   },
   {
    "duration": 26,
    "start_time": "2022-03-21T12:01:35.344Z"
   },
   {
    "duration": 17,
    "start_time": "2022-03-21T12:01:35.384Z"
   },
   {
    "duration": 17,
    "start_time": "2022-03-21T12:01:35.403Z"
   },
   {
    "duration": 22,
    "start_time": "2022-03-21T12:01:35.422Z"
   },
   {
    "duration": 39,
    "start_time": "2022-03-21T12:01:35.447Z"
   },
   {
    "duration": 33,
    "start_time": "2022-03-21T12:01:35.488Z"
   },
   {
    "duration": 14,
    "start_time": "2022-03-21T12:01:35.524Z"
   },
   {
    "duration": 54,
    "start_time": "2022-03-21T12:01:35.542Z"
   },
   {
    "duration": 12,
    "start_time": "2022-03-21T12:01:35.598Z"
   },
   {
    "duration": 42,
    "start_time": "2022-03-21T12:01:35.612Z"
   },
   {
    "duration": 98,
    "start_time": "2022-03-21T12:01:35.656Z"
   },
   {
    "duration": 15,
    "start_time": "2022-03-21T12:01:35.756Z"
   },
   {
    "duration": 35,
    "start_time": "2022-03-21T12:01:35.784Z"
   },
   {
    "duration": 125,
    "start_time": "2022-03-21T12:01:35.821Z"
   },
   {
    "duration": 56,
    "start_time": "2022-03-21T12:01:35.948Z"
   },
   {
    "duration": 13,
    "start_time": "2022-03-21T12:01:36.007Z"
   },
   {
    "duration": 67,
    "start_time": "2022-03-21T12:01:36.022Z"
   },
   {
    "duration": 65,
    "start_time": "2022-03-21T12:01:36.091Z"
   },
   {
    "duration": 92,
    "start_time": "2022-03-21T12:01:36.158Z"
   },
   {
    "duration": 32,
    "start_time": "2022-03-21T12:01:36.253Z"
   },
   {
    "duration": 48,
    "start_time": "2022-03-21T12:01:36.288Z"
   },
   {
    "duration": 9,
    "start_time": "2022-03-21T12:01:36.338Z"
   },
   {
    "duration": 47,
    "start_time": "2022-03-21T12:01:36.349Z"
   },
   {
    "duration": 16,
    "start_time": "2022-03-21T12:01:36.398Z"
   },
   {
    "duration": 26,
    "start_time": "2022-03-21T12:01:36.416Z"
   },
   {
    "duration": 1885,
    "start_time": "2022-03-21T12:01:36.447Z"
   },
   {
    "duration": 141,
    "start_time": "2022-03-21T12:01:38.335Z"
   },
   {
    "duration": 0,
    "start_time": "2022-03-21T12:01:38.478Z"
   },
   {
    "duration": 0,
    "start_time": "2022-03-21T12:01:38.484Z"
   },
   {
    "duration": 1523,
    "start_time": "2022-03-21T12:02:16.648Z"
   },
   {
    "duration": 1503,
    "start_time": "2022-03-21T12:03:06.512Z"
   },
   {
    "duration": 507,
    "start_time": "2022-03-21T12:03:29.793Z"
   },
   {
    "duration": 539,
    "start_time": "2022-03-21T12:03:30.302Z"
   },
   {
    "duration": 27,
    "start_time": "2022-03-21T12:03:30.843Z"
   },
   {
    "duration": 27,
    "start_time": "2022-03-21T12:03:30.873Z"
   },
   {
    "duration": 14,
    "start_time": "2022-03-21T12:03:30.902Z"
   },
   {
    "duration": 21,
    "start_time": "2022-03-21T12:03:30.918Z"
   },
   {
    "duration": 45,
    "start_time": "2022-03-21T12:03:30.941Z"
   },
   {
    "duration": 32,
    "start_time": "2022-03-21T12:03:30.988Z"
   },
   {
    "duration": 15,
    "start_time": "2022-03-21T12:03:31.022Z"
   },
   {
    "duration": 55,
    "start_time": "2022-03-21T12:03:31.041Z"
   },
   {
    "duration": 12,
    "start_time": "2022-03-21T12:03:31.098Z"
   },
   {
    "duration": 47,
    "start_time": "2022-03-21T12:03:31.112Z"
   },
   {
    "duration": 89,
    "start_time": "2022-03-21T12:03:31.161Z"
   },
   {
    "duration": 14,
    "start_time": "2022-03-21T12:03:31.252Z"
   },
   {
    "duration": 35,
    "start_time": "2022-03-21T12:03:31.284Z"
   },
   {
    "duration": 124,
    "start_time": "2022-03-21T12:03:31.321Z"
   },
   {
    "duration": 53,
    "start_time": "2022-03-21T12:03:31.447Z"
   },
   {
    "duration": 11,
    "start_time": "2022-03-21T12:03:31.503Z"
   },
   {
    "duration": 72,
    "start_time": "2022-03-21T12:03:31.516Z"
   },
   {
    "duration": 64,
    "start_time": "2022-03-21T12:03:31.591Z"
   },
   {
    "duration": 70,
    "start_time": "2022-03-21T12:03:31.657Z"
   },
   {
    "duration": 10,
    "start_time": "2022-03-21T12:03:31.730Z"
   },
   {
    "duration": 82,
    "start_time": "2022-03-21T12:03:31.743Z"
   },
   {
    "duration": 9,
    "start_time": "2022-03-21T12:03:31.827Z"
   },
   {
    "duration": 24,
    "start_time": "2022-03-21T12:03:31.838Z"
   },
   {
    "duration": 34,
    "start_time": "2022-03-21T12:03:31.865Z"
   },
   {
    "duration": 35,
    "start_time": "2022-03-21T12:03:31.902Z"
   },
   {
    "duration": 1591,
    "start_time": "2022-03-21T12:03:31.944Z"
   },
   {
    "duration": 1235,
    "start_time": "2022-03-21T12:03:33.538Z"
   },
   {
    "duration": 24,
    "start_time": "2022-03-21T12:03:34.776Z"
   },
   {
    "duration": 3,
    "start_time": "2022-03-21T12:03:34.802Z"
   },
   {
    "duration": 42,
    "start_time": "2022-03-21T12:04:44.384Z"
   },
   {
    "duration": 495,
    "start_time": "2022-03-21T12:05:23.427Z"
   },
   {
    "duration": 535,
    "start_time": "2022-03-21T12:05:23.925Z"
   },
   {
    "duration": 34,
    "start_time": "2022-03-21T12:05:24.463Z"
   },
   {
    "duration": 18,
    "start_time": "2022-03-21T12:05:24.501Z"
   },
   {
    "duration": 26,
    "start_time": "2022-03-21T12:05:24.521Z"
   },
   {
    "duration": 36,
    "start_time": "2022-03-21T12:05:24.549Z"
   },
   {
    "duration": 39,
    "start_time": "2022-03-21T12:05:24.587Z"
   },
   {
    "duration": 44,
    "start_time": "2022-03-21T12:05:24.629Z"
   },
   {
    "duration": 14,
    "start_time": "2022-03-21T12:05:24.676Z"
   },
   {
    "duration": 52,
    "start_time": "2022-03-21T12:05:24.697Z"
   },
   {
    "duration": 37,
    "start_time": "2022-03-21T12:05:24.752Z"
   },
   {
    "duration": 72,
    "start_time": "2022-03-21T12:05:24.792Z"
   },
   {
    "duration": 106,
    "start_time": "2022-03-21T12:05:24.867Z"
   },
   {
    "duration": 20,
    "start_time": "2022-03-21T12:05:24.975Z"
   },
   {
    "duration": 59,
    "start_time": "2022-03-21T12:05:24.998Z"
   },
   {
    "duration": 131,
    "start_time": "2022-03-21T12:05:25.060Z"
   },
   {
    "duration": 45,
    "start_time": "2022-03-21T12:05:25.193Z"
   },
   {
    "duration": 12,
    "start_time": "2022-03-21T12:05:25.240Z"
   },
   {
    "duration": 75,
    "start_time": "2022-03-21T12:05:25.254Z"
   },
   {
    "duration": 77,
    "start_time": "2022-03-21T12:05:25.331Z"
   },
   {
    "duration": 73,
    "start_time": "2022-03-21T12:05:25.411Z"
   },
   {
    "duration": 12,
    "start_time": "2022-03-21T12:05:25.487Z"
   },
   {
    "duration": 55,
    "start_time": "2022-03-21T12:05:25.502Z"
   },
   {
    "duration": 28,
    "start_time": "2022-03-21T12:05:25.560Z"
   },
   {
    "duration": 40,
    "start_time": "2022-03-21T12:05:25.591Z"
   },
   {
    "duration": 30,
    "start_time": "2022-03-21T12:05:25.633Z"
   },
   {
    "duration": 65,
    "start_time": "2022-03-21T12:05:25.666Z"
   },
   {
    "duration": 1562,
    "start_time": "2022-03-21T12:05:25.736Z"
   },
   {
    "duration": 1075,
    "start_time": "2022-03-21T12:05:27.301Z"
   },
   {
    "duration": 19,
    "start_time": "2022-03-21T12:05:28.383Z"
   },
   {
    "duration": 33,
    "start_time": "2022-03-21T12:05:28.404Z"
   },
   {
    "duration": 516,
    "start_time": "2022-03-21T12:07:16.000Z"
   },
   {
    "duration": 548,
    "start_time": "2022-03-21T12:07:16.519Z"
   },
   {
    "duration": 30,
    "start_time": "2022-03-21T12:07:17.069Z"
   },
   {
    "duration": 18,
    "start_time": "2022-03-21T12:07:17.101Z"
   },
   {
    "duration": 14,
    "start_time": "2022-03-21T12:07:17.123Z"
   },
   {
    "duration": 46,
    "start_time": "2022-03-21T12:07:17.139Z"
   },
   {
    "duration": 15,
    "start_time": "2022-03-21T12:07:17.187Z"
   },
   {
    "duration": 29,
    "start_time": "2022-03-21T12:07:17.205Z"
   },
   {
    "duration": 13,
    "start_time": "2022-03-21T12:07:17.236Z"
   },
   {
    "duration": 62,
    "start_time": "2022-03-21T12:07:17.252Z"
   },
   {
    "duration": 12,
    "start_time": "2022-03-21T12:07:17.316Z"
   },
   {
    "duration": 65,
    "start_time": "2022-03-21T12:07:17.332Z"
   },
   {
    "duration": 97,
    "start_time": "2022-03-21T12:07:17.399Z"
   },
   {
    "duration": 13,
    "start_time": "2022-03-21T12:07:17.502Z"
   },
   {
    "duration": 42,
    "start_time": "2022-03-21T12:07:17.517Z"
   },
   {
    "duration": 138,
    "start_time": "2022-03-21T12:07:17.561Z"
   },
   {
    "duration": 51,
    "start_time": "2022-03-21T12:07:17.701Z"
   },
   {
    "duration": 31,
    "start_time": "2022-03-21T12:07:17.755Z"
   },
   {
    "duration": 53,
    "start_time": "2022-03-21T12:07:17.789Z"
   },
   {
    "duration": 88,
    "start_time": "2022-03-21T12:07:17.845Z"
   },
   {
    "duration": 70,
    "start_time": "2022-03-21T12:07:17.936Z"
   },
   {
    "duration": 11,
    "start_time": "2022-03-21T12:07:18.009Z"
   },
   {
    "duration": 69,
    "start_time": "2022-03-21T12:07:18.022Z"
   },
   {
    "duration": 9,
    "start_time": "2022-03-21T12:07:18.094Z"
   },
   {
    "duration": 21,
    "start_time": "2022-03-21T12:07:18.105Z"
   },
   {
    "duration": 20,
    "start_time": "2022-03-21T12:07:18.129Z"
   },
   {
    "duration": 50,
    "start_time": "2022-03-21T12:07:18.151Z"
   },
   {
    "duration": 1675,
    "start_time": "2022-03-21T12:07:18.204Z"
   },
   {
    "duration": 1232,
    "start_time": "2022-03-21T12:07:19.881Z"
   },
   {
    "duration": 21,
    "start_time": "2022-03-21T12:07:21.115Z"
   },
   {
    "duration": 15,
    "start_time": "2022-03-21T12:07:21.140Z"
   },
   {
    "duration": 24,
    "start_time": "2022-03-21T12:09:13.936Z"
   },
   {
    "duration": 44,
    "start_time": "2022-03-21T12:09:24.376Z"
   },
   {
    "duration": 46,
    "start_time": "2022-03-21T12:09:34.110Z"
   },
   {
    "duration": 5,
    "start_time": "2022-03-21T12:09:42.830Z"
   },
   {
    "duration": 23,
    "start_time": "2022-03-21T12:09:49.917Z"
   },
   {
    "duration": 489,
    "start_time": "2022-03-21T12:11:14.711Z"
   },
   {
    "duration": 533,
    "start_time": "2022-03-21T12:11:15.202Z"
   },
   {
    "duration": 26,
    "start_time": "2022-03-21T12:11:15.738Z"
   },
   {
    "duration": 27,
    "start_time": "2022-03-21T12:11:15.767Z"
   },
   {
    "duration": 13,
    "start_time": "2022-03-21T12:11:15.796Z"
   },
   {
    "duration": 20,
    "start_time": "2022-03-21T12:11:15.811Z"
   },
   {
    "duration": 17,
    "start_time": "2022-03-21T12:11:15.833Z"
   },
   {
    "duration": 27,
    "start_time": "2022-03-21T12:11:15.885Z"
   },
   {
    "duration": 14,
    "start_time": "2022-03-21T12:11:15.915Z"
   },
   {
    "duration": 59,
    "start_time": "2022-03-21T12:11:15.933Z"
   },
   {
    "duration": 13,
    "start_time": "2022-03-21T12:11:15.994Z"
   },
   {
    "duration": 38,
    "start_time": "2022-03-21T12:11:16.009Z"
   },
   {
    "duration": 104,
    "start_time": "2022-03-21T12:11:16.049Z"
   },
   {
    "duration": 14,
    "start_time": "2022-03-21T12:11:16.156Z"
   },
   {
    "duration": 46,
    "start_time": "2022-03-21T12:11:16.184Z"
   },
   {
    "duration": 121,
    "start_time": "2022-03-21T12:11:16.232Z"
   },
   {
    "duration": 53,
    "start_time": "2022-03-21T12:11:16.355Z"
   },
   {
    "duration": 11,
    "start_time": "2022-03-21T12:11:16.411Z"
   },
   {
    "duration": 70,
    "start_time": "2022-03-21T12:11:16.424Z"
   },
   {
    "duration": 67,
    "start_time": "2022-03-21T12:11:16.496Z"
   },
   {
    "duration": 72,
    "start_time": "2022-03-21T12:11:16.566Z"
   },
   {
    "duration": 10,
    "start_time": "2022-03-21T12:11:16.640Z"
   },
   {
    "duration": 76,
    "start_time": "2022-03-21T12:11:16.652Z"
   },
   {
    "duration": 9,
    "start_time": "2022-03-21T12:11:16.730Z"
   },
   {
    "duration": 19,
    "start_time": "2022-03-21T12:11:16.741Z"
   },
   {
    "duration": 16,
    "start_time": "2022-03-21T12:11:16.783Z"
   },
   {
    "duration": 14,
    "start_time": "2022-03-21T12:11:16.801Z"
   },
   {
    "duration": 25,
    "start_time": "2022-03-21T12:11:16.820Z"
   },
   {
    "duration": 1608,
    "start_time": "2022-03-21T12:11:16.847Z"
   },
   {
    "duration": 3,
    "start_time": "2022-03-21T12:11:18.458Z"
   },
   {
    "duration": 33,
    "start_time": "2022-03-21T12:11:18.463Z"
   },
   {
    "duration": 5,
    "start_time": "2022-03-21T12:11:18.498Z"
   },
   {
    "duration": 15,
    "start_time": "2022-03-21T12:12:53.656Z"
   },
   {
    "duration": 13,
    "start_time": "2022-03-21T12:13:02.683Z"
   },
   {
    "duration": 14,
    "start_time": "2022-03-21T12:13:37.564Z"
   },
   {
    "duration": 15,
    "start_time": "2022-03-21T12:13:46.638Z"
   },
   {
    "duration": 14,
    "start_time": "2022-03-21T12:13:55.515Z"
   },
   {
    "duration": 13,
    "start_time": "2022-03-21T12:14:04.619Z"
   },
   {
    "duration": 13,
    "start_time": "2022-03-21T12:14:14.669Z"
   },
   {
    "duration": 14,
    "start_time": "2022-03-21T12:14:24.533Z"
   },
   {
    "duration": 14,
    "start_time": "2022-03-21T12:14:32.471Z"
   },
   {
    "duration": 15,
    "start_time": "2022-03-21T12:14:41.259Z"
   },
   {
    "duration": 14,
    "start_time": "2022-03-21T12:14:55.889Z"
   },
   {
    "duration": 14,
    "start_time": "2022-03-21T12:15:07.552Z"
   },
   {
    "duration": 14,
    "start_time": "2022-03-21T12:15:16.078Z"
   },
   {
    "duration": 15,
    "start_time": "2022-03-21T12:15:22.936Z"
   },
   {
    "duration": 14,
    "start_time": "2022-03-21T12:15:30.594Z"
   },
   {
    "duration": 14,
    "start_time": "2022-03-21T12:15:38.195Z"
   },
   {
    "duration": 14,
    "start_time": "2022-03-21T12:15:45.705Z"
   },
   {
    "duration": 14,
    "start_time": "2022-03-21T12:15:56.979Z"
   },
   {
    "duration": 589,
    "start_time": "2022-03-21T12:16:18.166Z"
   },
   {
    "duration": 542,
    "start_time": "2022-03-21T12:16:18.758Z"
   },
   {
    "duration": 25,
    "start_time": "2022-03-21T12:16:19.302Z"
   },
   {
    "duration": 16,
    "start_time": "2022-03-21T12:16:19.331Z"
   },
   {
    "duration": 41,
    "start_time": "2022-03-21T12:16:19.349Z"
   },
   {
    "duration": 18,
    "start_time": "2022-03-21T12:16:19.392Z"
   },
   {
    "duration": 15,
    "start_time": "2022-03-21T12:16:19.412Z"
   },
   {
    "duration": 54,
    "start_time": "2022-03-21T12:16:19.429Z"
   },
   {
    "duration": 15,
    "start_time": "2022-03-21T12:16:19.486Z"
   },
   {
    "duration": 32,
    "start_time": "2022-03-21T12:16:19.505Z"
   },
   {
    "duration": 13,
    "start_time": "2022-03-21T12:16:19.539Z"
   },
   {
    "duration": 36,
    "start_time": "2022-03-21T12:16:19.585Z"
   },
   {
    "duration": 105,
    "start_time": "2022-03-21T12:16:19.624Z"
   },
   {
    "duration": 16,
    "start_time": "2022-03-21T12:16:19.732Z"
   },
   {
    "duration": 54,
    "start_time": "2022-03-21T12:16:19.750Z"
   },
   {
    "duration": 120,
    "start_time": "2022-03-21T12:16:19.806Z"
   },
   {
    "duration": 57,
    "start_time": "2022-03-21T12:16:19.929Z"
   },
   {
    "duration": 12,
    "start_time": "2022-03-21T12:16:19.989Z"
   },
   {
    "duration": 55,
    "start_time": "2022-03-21T12:16:20.004Z"
   },
   {
    "duration": 87,
    "start_time": "2022-03-21T12:16:20.061Z"
   },
   {
    "duration": 75,
    "start_time": "2022-03-21T12:16:20.150Z"
   },
   {
    "duration": 11,
    "start_time": "2022-03-21T12:16:20.228Z"
   },
   {
    "duration": 73,
    "start_time": "2022-03-21T12:16:20.243Z"
   },
   {
    "duration": 10,
    "start_time": "2022-03-21T12:16:20.318Z"
   },
   {
    "duration": 35,
    "start_time": "2022-03-21T12:16:20.330Z"
   },
   {
    "duration": 34,
    "start_time": "2022-03-21T12:16:20.368Z"
   },
   {
    "duration": 20,
    "start_time": "2022-03-21T12:16:20.405Z"
   },
   {
    "duration": 3,
    "start_time": "2022-03-21T12:16:20.430Z"
   },
   {
    "duration": 31,
    "start_time": "2022-03-21T12:16:20.435Z"
   },
   {
    "duration": 1593,
    "start_time": "2022-03-21T12:16:20.468Z"
   },
   {
    "duration": 4,
    "start_time": "2022-03-21T12:16:22.063Z"
   },
   {
    "duration": 16,
    "start_time": "2022-03-21T12:16:22.085Z"
   },
   {
    "duration": 11,
    "start_time": "2022-03-21T12:16:22.103Z"
   },
   {
    "duration": 493,
    "start_time": "2022-03-21T12:18:23.007Z"
   },
   {
    "duration": 538,
    "start_time": "2022-03-21T12:18:23.503Z"
   },
   {
    "duration": 25,
    "start_time": "2022-03-21T12:18:24.043Z"
   },
   {
    "duration": 18,
    "start_time": "2022-03-21T12:18:24.084Z"
   },
   {
    "duration": 35,
    "start_time": "2022-03-21T12:18:24.104Z"
   },
   {
    "duration": 39,
    "start_time": "2022-03-21T12:18:24.142Z"
   },
   {
    "duration": 19,
    "start_time": "2022-03-21T12:18:24.184Z"
   },
   {
    "duration": 48,
    "start_time": "2022-03-21T12:18:24.205Z"
   },
   {
    "duration": 12,
    "start_time": "2022-03-21T12:18:24.256Z"
   },
   {
    "duration": 43,
    "start_time": "2022-03-21T12:18:24.273Z"
   },
   {
    "duration": 33,
    "start_time": "2022-03-21T12:18:24.318Z"
   },
   {
    "duration": 44,
    "start_time": "2022-03-21T12:18:24.353Z"
   },
   {
    "duration": 85,
    "start_time": "2022-03-21T12:18:24.399Z"
   },
   {
    "duration": 14,
    "start_time": "2022-03-21T12:18:24.486Z"
   },
   {
    "duration": 56,
    "start_time": "2022-03-21T12:18:24.502Z"
   },
   {
    "duration": 114,
    "start_time": "2022-03-21T12:18:24.561Z"
   },
   {
    "duration": 49,
    "start_time": "2022-03-21T12:18:24.678Z"
   },
   {
    "duration": 12,
    "start_time": "2022-03-21T12:18:24.729Z"
   },
   {
    "duration": 77,
    "start_time": "2022-03-21T12:18:24.744Z"
   },
   {
    "duration": 75,
    "start_time": "2022-03-21T12:18:24.823Z"
   },
   {
    "duration": 56,
    "start_time": "2022-03-21T12:18:24.900Z"
   },
   {
    "duration": 28,
    "start_time": "2022-03-21T12:18:24.959Z"
   },
   {
    "duration": 84,
    "start_time": "2022-03-21T12:18:24.989Z"
   },
   {
    "duration": 10,
    "start_time": "2022-03-21T12:18:25.075Z"
   },
   {
    "duration": 28,
    "start_time": "2022-03-21T12:18:25.087Z"
   },
   {
    "duration": 28,
    "start_time": "2022-03-21T12:18:25.117Z"
   },
   {
    "duration": 21,
    "start_time": "2022-03-21T12:18:25.148Z"
   },
   {
    "duration": 3,
    "start_time": "2022-03-21T12:18:25.175Z"
   },
   {
    "duration": 26,
    "start_time": "2022-03-21T12:18:25.184Z"
   },
   {
    "duration": 1705,
    "start_time": "2022-03-21T12:18:25.213Z"
   },
   {
    "duration": 7,
    "start_time": "2022-03-21T12:18:26.921Z"
   },
   {
    "duration": 21,
    "start_time": "2022-03-21T12:18:26.930Z"
   },
   {
    "duration": 3,
    "start_time": "2022-03-21T12:18:26.954Z"
   },
   {
    "duration": 1693,
    "start_time": "2022-03-21T12:19:48.058Z"
   },
   {
    "duration": 569,
    "start_time": "2022-03-21T12:19:58.026Z"
   },
   {
    "duration": 547,
    "start_time": "2022-03-21T12:19:58.598Z"
   },
   {
    "duration": 40,
    "start_time": "2022-03-21T12:19:59.147Z"
   },
   {
    "duration": 19,
    "start_time": "2022-03-21T12:19:59.191Z"
   },
   {
    "duration": 30,
    "start_time": "2022-03-21T12:19:59.212Z"
   },
   {
    "duration": 33,
    "start_time": "2022-03-21T12:19:59.245Z"
   },
   {
    "duration": 47,
    "start_time": "2022-03-21T12:19:59.280Z"
   },
   {
    "duration": 50,
    "start_time": "2022-03-21T12:19:59.330Z"
   },
   {
    "duration": 29,
    "start_time": "2022-03-21T12:19:59.383Z"
   },
   {
    "duration": 53,
    "start_time": "2022-03-21T12:19:59.417Z"
   },
   {
    "duration": 19,
    "start_time": "2022-03-21T12:19:59.472Z"
   },
   {
    "duration": 57,
    "start_time": "2022-03-21T12:19:59.493Z"
   },
   {
    "duration": 81,
    "start_time": "2022-03-21T12:19:59.552Z"
   },
   {
    "duration": 14,
    "start_time": "2022-03-21T12:19:59.635Z"
   },
   {
    "duration": 65,
    "start_time": "2022-03-21T12:19:59.652Z"
   },
   {
    "duration": 118,
    "start_time": "2022-03-21T12:19:59.720Z"
   },
   {
    "duration": 61,
    "start_time": "2022-03-21T12:19:59.841Z"
   },
   {
    "duration": 13,
    "start_time": "2022-03-21T12:19:59.905Z"
   },
   {
    "duration": 75,
    "start_time": "2022-03-21T12:19:59.921Z"
   },
   {
    "duration": 68,
    "start_time": "2022-03-21T12:19:59.999Z"
   },
   {
    "duration": 58,
    "start_time": "2022-03-21T12:20:00.085Z"
   },
   {
    "duration": 39,
    "start_time": "2022-03-21T12:20:00.146Z"
   },
   {
    "duration": 58,
    "start_time": "2022-03-21T12:20:00.188Z"
   },
   {
    "duration": 11,
    "start_time": "2022-03-21T12:20:00.249Z"
   },
   {
    "duration": 37,
    "start_time": "2022-03-21T12:20:00.263Z"
   },
   {
    "duration": 45,
    "start_time": "2022-03-21T12:20:00.303Z"
   },
   {
    "duration": 23,
    "start_time": "2022-03-21T12:20:00.350Z"
   },
   {
    "duration": 6,
    "start_time": "2022-03-21T12:20:00.378Z"
   },
   {
    "duration": 48,
    "start_time": "2022-03-21T12:20:00.386Z"
   },
   {
    "duration": 1613,
    "start_time": "2022-03-21T12:20:00.436Z"
   },
   {
    "duration": 7,
    "start_time": "2022-03-21T12:20:02.052Z"
   },
   {
    "duration": 63,
    "start_time": "2022-03-21T12:20:02.062Z"
   },
   {
    "duration": 26,
    "start_time": "2022-03-21T12:20:02.128Z"
   },
   {
    "duration": 1493,
    "start_time": "2022-03-21T12:20:12.671Z"
   },
   {
    "duration": 551,
    "start_time": "2022-03-21T12:22:05.691Z"
   },
   {
    "duration": 554,
    "start_time": "2022-03-21T12:22:06.245Z"
   },
   {
    "duration": 25,
    "start_time": "2022-03-21T12:22:06.802Z"
   },
   {
    "duration": 31,
    "start_time": "2022-03-21T12:22:06.830Z"
   },
   {
    "duration": 25,
    "start_time": "2022-03-21T12:22:06.863Z"
   },
   {
    "duration": 30,
    "start_time": "2022-03-21T12:22:06.890Z"
   },
   {
    "duration": 33,
    "start_time": "2022-03-21T12:22:06.923Z"
   },
   {
    "duration": 32,
    "start_time": "2022-03-21T12:22:06.959Z"
   },
   {
    "duration": 16,
    "start_time": "2022-03-21T12:22:06.994Z"
   },
   {
    "duration": 56,
    "start_time": "2022-03-21T12:22:07.016Z"
   },
   {
    "duration": 13,
    "start_time": "2022-03-21T12:22:07.074Z"
   },
   {
    "duration": 41,
    "start_time": "2022-03-21T12:22:07.089Z"
   },
   {
    "duration": 95,
    "start_time": "2022-03-21T12:22:07.133Z"
   },
   {
    "duration": 14,
    "start_time": "2022-03-21T12:22:07.230Z"
   },
   {
    "duration": 59,
    "start_time": "2022-03-21T12:22:07.246Z"
   },
   {
    "duration": 124,
    "start_time": "2022-03-21T12:22:07.307Z"
   },
   {
    "duration": 58,
    "start_time": "2022-03-21T12:22:07.433Z"
   },
   {
    "duration": 12,
    "start_time": "2022-03-21T12:22:07.494Z"
   },
   {
    "duration": 65,
    "start_time": "2022-03-21T12:22:07.508Z"
   },
   {
    "duration": 64,
    "start_time": "2022-03-21T12:22:07.584Z"
   },
   {
    "duration": 74,
    "start_time": "2022-03-21T12:22:07.651Z"
   },
   {
    "duration": 10,
    "start_time": "2022-03-21T12:22:07.728Z"
   },
   {
    "duration": 77,
    "start_time": "2022-03-21T12:22:07.740Z"
   },
   {
    "duration": 10,
    "start_time": "2022-03-21T12:22:07.819Z"
   },
   {
    "duration": 58,
    "start_time": "2022-03-21T12:22:07.831Z"
   },
   {
    "duration": 44,
    "start_time": "2022-03-21T12:22:07.891Z"
   },
   {
    "duration": 30,
    "start_time": "2022-03-21T12:22:07.937Z"
   },
   {
    "duration": 33,
    "start_time": "2022-03-21T12:22:07.972Z"
   },
   {
    "duration": 47,
    "start_time": "2022-03-21T12:22:08.007Z"
   },
   {
    "duration": 2706,
    "start_time": "2022-03-21T12:22:08.056Z"
   },
   {
    "duration": 6,
    "start_time": "2022-03-21T12:22:10.765Z"
   },
   {
    "duration": 26,
    "start_time": "2022-03-21T12:22:10.784Z"
   },
   {
    "duration": 39,
    "start_time": "2022-03-21T12:22:10.813Z"
   },
   {
    "duration": 559,
    "start_time": "2022-03-21T12:44:13.541Z"
   },
   {
    "duration": 2056,
    "start_time": "2022-03-21T12:44:14.103Z"
   },
   {
    "duration": 39,
    "start_time": "2022-03-21T12:44:16.161Z"
   },
   {
    "duration": 17,
    "start_time": "2022-03-21T12:44:16.203Z"
   },
   {
    "duration": 14,
    "start_time": "2022-03-21T12:44:16.222Z"
   },
   {
    "duration": 15,
    "start_time": "2022-03-21T12:44:16.238Z"
   },
   {
    "duration": 20,
    "start_time": "2022-03-21T12:44:16.284Z"
   },
   {
    "duration": 10,
    "start_time": "2022-03-21T12:44:16.307Z"
   },
   {
    "duration": 28,
    "start_time": "2022-03-21T12:44:16.318Z"
   },
   {
    "duration": 38,
    "start_time": "2022-03-21T12:44:16.351Z"
   },
   {
    "duration": 32,
    "start_time": "2022-03-21T12:44:16.391Z"
   },
   {
    "duration": 12,
    "start_time": "2022-03-21T12:44:16.425Z"
   },
   {
    "duration": 68,
    "start_time": "2022-03-21T12:44:16.440Z"
   },
   {
    "duration": 88,
    "start_time": "2022-03-21T12:44:16.511Z"
   },
   {
    "duration": 14,
    "start_time": "2022-03-21T12:44:16.601Z"
   },
   {
    "duration": 42,
    "start_time": "2022-03-21T12:44:16.617Z"
   },
   {
    "duration": 127,
    "start_time": "2022-03-21T12:44:16.661Z"
   },
   {
    "duration": 47,
    "start_time": "2022-03-21T12:44:16.790Z"
   },
   {
    "duration": 12,
    "start_time": "2022-03-21T12:44:16.839Z"
   },
   {
    "duration": 74,
    "start_time": "2022-03-21T12:44:16.854Z"
   },
   {
    "duration": 82,
    "start_time": "2022-03-21T12:44:16.930Z"
   },
   {
    "duration": 54,
    "start_time": "2022-03-21T12:44:17.014Z"
   },
   {
    "duration": 10,
    "start_time": "2022-03-21T12:44:17.085Z"
   },
   {
    "duration": 52,
    "start_time": "2022-03-21T12:44:17.098Z"
   },
   {
    "duration": 32,
    "start_time": "2022-03-21T12:44:17.152Z"
   },
   {
    "duration": 18,
    "start_time": "2022-03-21T12:44:17.187Z"
   },
   {
    "duration": 11,
    "start_time": "2022-03-21T12:44:17.208Z"
   },
   {
    "duration": 3,
    "start_time": "2022-03-21T12:44:17.224Z"
   },
   {
    "duration": 59,
    "start_time": "2022-03-21T12:44:17.229Z"
   },
   {
    "duration": 2715,
    "start_time": "2022-03-21T12:44:17.291Z"
   },
   {
    "duration": 6,
    "start_time": "2022-03-21T12:44:20.008Z"
   },
   {
    "duration": 292,
    "start_time": "2022-03-21T12:44:20.017Z"
   },
   {
    "duration": 11,
    "start_time": "2022-03-21T12:44:20.311Z"
   },
   {
    "duration": 547,
    "start_time": "2022-03-21T12:50:10.854Z"
   },
   {
    "duration": 551,
    "start_time": "2022-03-21T12:50:11.404Z"
   },
   {
    "duration": 29,
    "start_time": "2022-03-21T12:50:11.958Z"
   },
   {
    "duration": 16,
    "start_time": "2022-03-21T12:50:11.990Z"
   },
   {
    "duration": 16,
    "start_time": "2022-03-21T12:50:12.009Z"
   },
   {
    "duration": 15,
    "start_time": "2022-03-21T12:50:12.028Z"
   },
   {
    "duration": 54,
    "start_time": "2022-03-21T12:50:12.045Z"
   },
   {
    "duration": 12,
    "start_time": "2022-03-21T12:50:12.100Z"
   },
   {
    "duration": 30,
    "start_time": "2022-03-21T12:50:12.113Z"
   },
   {
    "duration": 40,
    "start_time": "2022-03-21T12:50:12.147Z"
   },
   {
    "duration": 33,
    "start_time": "2022-03-21T12:50:12.189Z"
   },
   {
    "duration": 12,
    "start_time": "2022-03-21T12:50:12.224Z"
   },
   {
    "duration": 68,
    "start_time": "2022-03-21T12:50:12.238Z"
   },
   {
    "duration": 91,
    "start_time": "2022-03-21T12:50:12.308Z"
   },
   {
    "duration": 14,
    "start_time": "2022-03-21T12:50:12.401Z"
   },
   {
    "duration": 37,
    "start_time": "2022-03-21T12:50:12.417Z"
   },
   {
    "duration": 131,
    "start_time": "2022-03-21T12:50:12.456Z"
   },
   {
    "duration": 43,
    "start_time": "2022-03-21T12:50:12.589Z"
   },
   {
    "duration": 12,
    "start_time": "2022-03-21T12:50:12.635Z"
   },
   {
    "duration": 77,
    "start_time": "2022-03-21T12:50:12.649Z"
   },
   {
    "duration": 81,
    "start_time": "2022-03-21T12:50:12.729Z"
   },
   {
    "duration": 55,
    "start_time": "2022-03-21T12:50:12.812Z"
   },
   {
    "duration": 25,
    "start_time": "2022-03-21T12:50:12.869Z"
   },
   {
    "duration": 48,
    "start_time": "2022-03-21T12:50:12.896Z"
   },
   {
    "duration": 54,
    "start_time": "2022-03-21T12:50:12.946Z"
   },
   {
    "duration": 11,
    "start_time": "2022-03-21T12:50:13.002Z"
   },
   {
    "duration": 13,
    "start_time": "2022-03-21T12:50:13.016Z"
   },
   {
    "duration": 4,
    "start_time": "2022-03-21T12:50:13.033Z"
   },
   {
    "duration": 62,
    "start_time": "2022-03-21T12:50:13.039Z"
   },
   {
    "duration": 2612,
    "start_time": "2022-03-21T12:50:13.103Z"
   },
   {
    "duration": 6,
    "start_time": "2022-03-21T12:50:15.717Z"
   },
   {
    "duration": 34,
    "start_time": "2022-03-21T12:50:15.725Z"
   },
   {
    "duration": 11,
    "start_time": "2022-03-21T12:50:15.762Z"
   },
   {
    "duration": 481,
    "start_time": "2022-03-21T12:52:26.317Z"
   },
   {
    "duration": 545,
    "start_time": "2022-03-21T12:52:26.800Z"
   },
   {
    "duration": 26,
    "start_time": "2022-03-21T12:52:27.347Z"
   },
   {
    "duration": 21,
    "start_time": "2022-03-21T12:52:27.376Z"
   },
   {
    "duration": 37,
    "start_time": "2022-03-21T12:52:27.400Z"
   },
   {
    "duration": 41,
    "start_time": "2022-03-21T12:52:27.439Z"
   },
   {
    "duration": 40,
    "start_time": "2022-03-21T12:52:27.482Z"
   },
   {
    "duration": 14,
    "start_time": "2022-03-21T12:52:27.524Z"
   },
   {
    "duration": 49,
    "start_time": "2022-03-21T12:52:27.541Z"
   },
   {
    "duration": 14,
    "start_time": "2022-03-21T12:52:27.594Z"
   },
   {
    "duration": 30,
    "start_time": "2022-03-21T12:52:27.610Z"
   },
   {
    "duration": 13,
    "start_time": "2022-03-21T12:52:27.642Z"
   },
   {
    "duration": 58,
    "start_time": "2022-03-21T12:52:27.657Z"
   },
   {
    "duration": 97,
    "start_time": "2022-03-21T12:52:27.718Z"
   },
   {
    "duration": 14,
    "start_time": "2022-03-21T12:52:27.818Z"
   },
   {
    "duration": 56,
    "start_time": "2022-03-21T12:52:27.834Z"
   },
   {
    "duration": 120,
    "start_time": "2022-03-21T12:52:27.892Z"
   },
   {
    "duration": 44,
    "start_time": "2022-03-21T12:52:28.014Z"
   },
   {
    "duration": 25,
    "start_time": "2022-03-21T12:52:28.061Z"
   },
   {
    "duration": 50,
    "start_time": "2022-03-21T12:52:28.088Z"
   },
   {
    "duration": 88,
    "start_time": "2022-03-21T12:52:28.140Z"
   },
   {
    "duration": 67,
    "start_time": "2022-03-21T12:52:28.230Z"
   },
   {
    "duration": 10,
    "start_time": "2022-03-21T12:52:28.299Z"
   },
   {
    "duration": 48,
    "start_time": "2022-03-21T12:52:28.311Z"
   },
   {
    "duration": 18,
    "start_time": "2022-03-21T12:52:28.385Z"
   },
   {
    "duration": 7,
    "start_time": "2022-03-21T12:52:28.406Z"
   },
   {
    "duration": 21,
    "start_time": "2022-03-21T12:52:28.415Z"
   },
   {
    "duration": 3,
    "start_time": "2022-03-21T12:52:28.441Z"
   },
   {
    "duration": 27,
    "start_time": "2022-03-21T12:52:28.483Z"
   },
   {
    "duration": 2650,
    "start_time": "2022-03-21T12:52:28.513Z"
   },
   {
    "duration": 18,
    "start_time": "2022-03-21T12:52:31.166Z"
   },
   {
    "duration": 21,
    "start_time": "2022-03-21T12:52:31.187Z"
   },
   {
    "duration": 4,
    "start_time": "2022-03-21T12:52:31.211Z"
   },
   {
    "duration": 502,
    "start_time": "2022-03-21T12:53:34.729Z"
   },
   {
    "duration": 555,
    "start_time": "2022-03-21T12:53:35.234Z"
   },
   {
    "duration": 28,
    "start_time": "2022-03-21T12:53:35.791Z"
   },
   {
    "duration": 18,
    "start_time": "2022-03-21T12:53:35.822Z"
   },
   {
    "duration": 42,
    "start_time": "2022-03-21T12:53:35.842Z"
   },
   {
    "duration": 16,
    "start_time": "2022-03-21T12:53:35.886Z"
   },
   {
    "duration": 29,
    "start_time": "2022-03-21T12:53:35.905Z"
   },
   {
    "duration": 10,
    "start_time": "2022-03-21T12:53:35.936Z"
   },
   {
    "duration": 58,
    "start_time": "2022-03-21T12:53:35.948Z"
   },
   {
    "duration": 14,
    "start_time": "2022-03-21T12:53:36.010Z"
   },
   {
    "duration": 38,
    "start_time": "2022-03-21T12:53:36.026Z"
   },
   {
    "duration": 29,
    "start_time": "2022-03-21T12:53:36.066Z"
   },
   {
    "duration": 38,
    "start_time": "2022-03-21T12:53:36.097Z"
   },
   {
    "duration": 106,
    "start_time": "2022-03-21T12:53:36.137Z"
   },
   {
    "duration": 15,
    "start_time": "2022-03-21T12:53:36.245Z"
   },
   {
    "duration": 51,
    "start_time": "2022-03-21T12:53:36.262Z"
   },
   {
    "duration": 129,
    "start_time": "2022-03-21T12:53:36.315Z"
   },
   {
    "duration": 59,
    "start_time": "2022-03-21T12:53:36.447Z"
   },
   {
    "duration": 11,
    "start_time": "2022-03-21T12:53:36.508Z"
   },
   {
    "duration": 73,
    "start_time": "2022-03-21T12:53:36.522Z"
   },
   {
    "duration": 67,
    "start_time": "2022-03-21T12:53:36.597Z"
   },
   {
    "duration": 68,
    "start_time": "2022-03-21T12:53:36.666Z"
   },
   {
    "duration": 13,
    "start_time": "2022-03-21T12:53:36.736Z"
   },
   {
    "duration": 77,
    "start_time": "2022-03-21T12:53:36.753Z"
   },
   {
    "duration": 18,
    "start_time": "2022-03-21T12:53:36.833Z"
   },
   {
    "duration": 36,
    "start_time": "2022-03-21T12:53:36.853Z"
   },
   {
    "duration": 25,
    "start_time": "2022-03-21T12:53:36.891Z"
   },
   {
    "duration": 3,
    "start_time": "2022-03-21T12:53:36.920Z"
   },
   {
    "duration": 30,
    "start_time": "2022-03-21T12:53:36.926Z"
   },
   {
    "duration": 2706,
    "start_time": "2022-03-21T12:53:36.958Z"
   },
   {
    "duration": 3,
    "start_time": "2022-03-21T12:53:39.666Z"
   },
   {
    "duration": 33,
    "start_time": "2022-03-21T12:53:39.671Z"
   },
   {
    "duration": 3,
    "start_time": "2022-03-21T12:53:39.707Z"
   },
   {
    "duration": 139,
    "start_time": "2022-03-21T12:59:30.737Z"
   },
   {
    "duration": 133,
    "start_time": "2022-03-21T12:59:35.375Z"
   },
   {
    "duration": 170,
    "start_time": "2022-03-21T12:59:52.803Z"
   },
   {
    "duration": 93,
    "start_time": "2022-03-21T13:00:18.614Z"
   },
   {
    "duration": 7,
    "start_time": "2022-03-21T13:02:10.904Z"
   },
   {
    "duration": 534,
    "start_time": "2022-03-21T13:02:44.036Z"
   },
   {
    "duration": 563,
    "start_time": "2022-03-21T13:02:44.573Z"
   },
   {
    "duration": 29,
    "start_time": "2022-03-21T13:02:45.138Z"
   },
   {
    "duration": 18,
    "start_time": "2022-03-21T13:02:45.185Z"
   },
   {
    "duration": 15,
    "start_time": "2022-03-21T13:02:45.205Z"
   },
   {
    "duration": 23,
    "start_time": "2022-03-21T13:02:45.223Z"
   },
   {
    "duration": 48,
    "start_time": "2022-03-21T13:02:45.248Z"
   },
   {
    "duration": 14,
    "start_time": "2022-03-21T13:02:45.298Z"
   },
   {
    "duration": 35,
    "start_time": "2022-03-21T13:02:45.315Z"
   },
   {
    "duration": 31,
    "start_time": "2022-03-21T13:02:45.355Z"
   },
   {
    "duration": 37,
    "start_time": "2022-03-21T13:02:45.388Z"
   },
   {
    "duration": 12,
    "start_time": "2022-03-21T13:02:45.428Z"
   },
   {
    "duration": 65,
    "start_time": "2022-03-21T13:02:45.442Z"
   },
   {
    "duration": 92,
    "start_time": "2022-03-21T13:02:45.509Z"
   },
   {
    "duration": 15,
    "start_time": "2022-03-21T13:02:45.604Z"
   },
   {
    "duration": 44,
    "start_time": "2022-03-21T13:02:45.621Z"
   },
   {
    "duration": 127,
    "start_time": "2022-03-21T13:02:45.667Z"
   },
   {
    "duration": 45,
    "start_time": "2022-03-21T13:02:45.797Z"
   },
   {
    "duration": 13,
    "start_time": "2022-03-21T13:02:45.844Z"
   },
   {
    "duration": 72,
    "start_time": "2022-03-21T13:02:45.859Z"
   },
   {
    "duration": 92,
    "start_time": "2022-03-21T13:02:45.934Z"
   },
   {
    "duration": 71,
    "start_time": "2022-03-21T13:02:46.029Z"
   },
   {
    "duration": 11,
    "start_time": "2022-03-21T13:02:46.102Z"
   },
   {
    "duration": 68,
    "start_time": "2022-03-21T13:02:46.115Z"
   },
   {
    "duration": 17,
    "start_time": "2022-03-21T13:02:46.186Z"
   },
   {
    "duration": 17,
    "start_time": "2022-03-21T13:02:46.205Z"
   },
   {
    "duration": 11,
    "start_time": "2022-03-21T13:02:46.224Z"
   },
   {
    "duration": 17,
    "start_time": "2022-03-21T13:02:46.240Z"
   },
   {
    "duration": 4,
    "start_time": "2022-03-21T13:02:46.284Z"
   },
   {
    "duration": 27,
    "start_time": "2022-03-21T13:02:46.290Z"
   },
   {
    "duration": 3220,
    "start_time": "2022-03-21T13:02:46.320Z"
   },
   {
    "duration": 3,
    "start_time": "2022-03-21T13:02:49.543Z"
   },
   {
    "duration": 24,
    "start_time": "2022-03-21T13:02:49.548Z"
   },
   {
    "duration": 4,
    "start_time": "2022-03-21T13:02:49.585Z"
   },
   {
    "duration": 499,
    "start_time": "2022-03-21T13:04:03.421Z"
   },
   {
    "duration": 541,
    "start_time": "2022-03-21T13:04:03.923Z"
   },
   {
    "duration": 27,
    "start_time": "2022-03-21T13:04:04.466Z"
   },
   {
    "duration": 17,
    "start_time": "2022-03-21T13:04:04.496Z"
   },
   {
    "duration": 38,
    "start_time": "2022-03-21T13:04:04.516Z"
   },
   {
    "duration": 31,
    "start_time": "2022-03-21T13:04:04.556Z"
   },
   {
    "duration": 37,
    "start_time": "2022-03-21T13:04:04.589Z"
   },
   {
    "duration": 31,
    "start_time": "2022-03-21T13:04:04.628Z"
   },
   {
    "duration": 102,
    "start_time": "2022-03-21T13:04:04.661Z"
   },
   {
    "duration": 17,
    "start_time": "2022-03-21T13:04:04.769Z"
   },
   {
    "duration": 42,
    "start_time": "2022-03-21T13:04:04.789Z"
   },
   {
    "duration": 22,
    "start_time": "2022-03-21T13:04:04.833Z"
   },
   {
    "duration": 52,
    "start_time": "2022-03-21T13:04:04.857Z"
   },
   {
    "duration": 87,
    "start_time": "2022-03-21T13:04:04.911Z"
   },
   {
    "duration": 15,
    "start_time": "2022-03-21T13:04:05.000Z"
   },
   {
    "duration": 44,
    "start_time": "2022-03-21T13:04:05.018Z"
   },
   {
    "duration": 138,
    "start_time": "2022-03-21T13:04:05.065Z"
   },
   {
    "duration": 47,
    "start_time": "2022-03-21T13:04:05.206Z"
   },
   {
    "duration": 32,
    "start_time": "2022-03-21T13:04:05.255Z"
   },
   {
    "duration": 72,
    "start_time": "2022-03-21T13:04:05.289Z"
   },
   {
    "duration": 70,
    "start_time": "2022-03-21T13:04:05.363Z"
   },
   {
    "duration": 77,
    "start_time": "2022-03-21T13:04:05.436Z"
   },
   {
    "duration": 11,
    "start_time": "2022-03-21T13:04:05.515Z"
   },
   {
    "duration": 71,
    "start_time": "2022-03-21T13:04:05.528Z"
   },
   {
    "duration": 18,
    "start_time": "2022-03-21T13:04:05.602Z"
   },
   {
    "duration": 25,
    "start_time": "2022-03-21T13:04:05.623Z"
   },
   {
    "duration": 38,
    "start_time": "2022-03-21T13:04:05.651Z"
   },
   {
    "duration": 32,
    "start_time": "2022-03-21T13:04:05.693Z"
   },
   {
    "duration": 33,
    "start_time": "2022-03-21T13:04:05.727Z"
   },
   {
    "duration": 18,
    "start_time": "2022-03-21T13:04:05.763Z"
   },
   {
    "duration": 63,
    "start_time": "2022-03-21T13:04:05.783Z"
   },
   {
    "duration": 2668,
    "start_time": "2022-03-21T13:04:05.848Z"
   },
   {
    "duration": 3,
    "start_time": "2022-03-21T13:04:08.519Z"
   },
   {
    "duration": 28,
    "start_time": "2022-03-21T13:04:08.524Z"
   },
   {
    "duration": 4,
    "start_time": "2022-03-21T13:04:08.554Z"
   },
   {
    "duration": 513,
    "start_time": "2022-03-21T13:06:10.292Z"
   },
   {
    "duration": 553,
    "start_time": "2022-03-21T13:06:10.808Z"
   },
   {
    "duration": 29,
    "start_time": "2022-03-21T13:06:11.363Z"
   },
   {
    "duration": 17,
    "start_time": "2022-03-21T13:06:11.395Z"
   },
   {
    "duration": 14,
    "start_time": "2022-03-21T13:06:11.414Z"
   },
   {
    "duration": 18,
    "start_time": "2022-03-21T13:06:11.431Z"
   },
   {
    "duration": 51,
    "start_time": "2022-03-21T13:06:11.451Z"
   },
   {
    "duration": 11,
    "start_time": "2022-03-21T13:06:11.505Z"
   },
   {
    "duration": 36,
    "start_time": "2022-03-21T13:06:11.518Z"
   },
   {
    "duration": 38,
    "start_time": "2022-03-21T13:06:11.558Z"
   },
   {
    "duration": 31,
    "start_time": "2022-03-21T13:06:11.599Z"
   },
   {
    "duration": 13,
    "start_time": "2022-03-21T13:06:11.632Z"
   },
   {
    "duration": 65,
    "start_time": "2022-03-21T13:06:11.648Z"
   },
   {
    "duration": 101,
    "start_time": "2022-03-21T13:06:11.716Z"
   },
   {
    "duration": 15,
    "start_time": "2022-03-21T13:06:11.820Z"
   },
   {
    "duration": 53,
    "start_time": "2022-03-21T13:06:11.838Z"
   },
   {
    "duration": 116,
    "start_time": "2022-03-21T13:06:11.893Z"
   },
   {
    "duration": 45,
    "start_time": "2022-03-21T13:06:12.012Z"
   },
   {
    "duration": 26,
    "start_time": "2022-03-21T13:06:12.059Z"
   },
   {
    "duration": 51,
    "start_time": "2022-03-21T13:06:12.088Z"
   },
   {
    "duration": 85,
    "start_time": "2022-03-21T13:06:12.141Z"
   },
   {
    "duration": 76,
    "start_time": "2022-03-21T13:06:12.229Z"
   },
   {
    "duration": 10,
    "start_time": "2022-03-21T13:06:12.307Z"
   },
   {
    "duration": 67,
    "start_time": "2022-03-21T13:06:12.320Z"
   },
   {
    "duration": 18,
    "start_time": "2022-03-21T13:06:12.389Z"
   },
   {
    "duration": 9,
    "start_time": "2022-03-21T13:06:12.409Z"
   },
   {
    "duration": 11,
    "start_time": "2022-03-21T13:06:12.420Z"
   },
   {
    "duration": 7,
    "start_time": "2022-03-21T13:06:12.436Z"
   },
   {
    "duration": 58,
    "start_time": "2022-03-21T13:06:12.445Z"
   },
   {
    "duration": 15,
    "start_time": "2022-03-21T13:06:12.505Z"
   },
   {
    "duration": 26,
    "start_time": "2022-03-21T13:06:12.522Z"
   },
   {
    "duration": 2707,
    "start_time": "2022-03-21T13:06:12.550Z"
   },
   {
    "duration": 3,
    "start_time": "2022-03-21T13:06:15.259Z"
   },
   {
    "duration": 34,
    "start_time": "2022-03-21T13:06:15.264Z"
   },
   {
    "duration": 4,
    "start_time": "2022-03-21T13:06:15.302Z"
   },
   {
    "duration": 378,
    "start_time": "2022-03-21T19:37:05.154Z"
   },
   {
    "duration": 386,
    "start_time": "2022-03-21T19:37:05.534Z"
   },
   {
    "duration": 21,
    "start_time": "2022-03-21T19:37:05.921Z"
   },
   {
    "duration": 10,
    "start_time": "2022-03-21T19:37:05.943Z"
   },
   {
    "duration": 10,
    "start_time": "2022-03-21T19:37:05.955Z"
   },
   {
    "duration": 10,
    "start_time": "2022-03-21T19:37:05.966Z"
   },
   {
    "duration": 10,
    "start_time": "2022-03-21T19:37:05.978Z"
   },
   {
    "duration": 6,
    "start_time": "2022-03-21T19:37:05.990Z"
   },
   {
    "duration": 48,
    "start_time": "2022-03-21T19:37:05.998Z"
   },
   {
    "duration": 8,
    "start_time": "2022-03-21T19:37:06.048Z"
   },
   {
    "duration": 22,
    "start_time": "2022-03-21T19:37:06.057Z"
   },
   {
    "duration": 8,
    "start_time": "2022-03-21T19:37:06.081Z"
   },
   {
    "duration": 50,
    "start_time": "2022-03-21T19:37:06.090Z"
   },
   {
    "duration": 52,
    "start_time": "2022-03-21T19:37:06.143Z"
   },
   {
    "duration": 9,
    "start_time": "2022-03-21T19:37:06.197Z"
   },
   {
    "duration": 42,
    "start_time": "2022-03-21T19:37:06.208Z"
   },
   {
    "duration": 83,
    "start_time": "2022-03-21T19:37:06.252Z"
   },
   {
    "duration": 29,
    "start_time": "2022-03-21T19:37:06.337Z"
   },
   {
    "duration": 8,
    "start_time": "2022-03-21T19:37:06.368Z"
   },
   {
    "duration": 60,
    "start_time": "2022-03-21T19:37:06.378Z"
   },
   {
    "duration": 42,
    "start_time": "2022-03-21T19:37:06.439Z"
   },
   {
    "duration": 35,
    "start_time": "2022-03-21T19:37:06.482Z"
   },
   {
    "duration": 7,
    "start_time": "2022-03-21T19:37:06.533Z"
   },
   {
    "duration": 29,
    "start_time": "2022-03-21T19:37:06.541Z"
   },
   {
    "duration": 11,
    "start_time": "2022-03-21T19:37:06.572Z"
   },
   {
    "duration": 6,
    "start_time": "2022-03-21T19:37:06.585Z"
   },
   {
    "duration": 7,
    "start_time": "2022-03-21T19:37:06.592Z"
   },
   {
    "duration": 33,
    "start_time": "2022-03-21T19:37:06.601Z"
   },
   {
    "duration": 12,
    "start_time": "2022-03-21T19:37:06.635Z"
   },
   {
    "duration": 9,
    "start_time": "2022-03-21T19:37:06.648Z"
   },
   {
    "duration": 19,
    "start_time": "2022-03-21T19:37:06.658Z"
   },
   {
    "duration": 9,
    "start_time": "2022-03-21T19:37:06.679Z"
   },
   {
    "duration": 1549,
    "start_time": "2022-03-21T19:37:06.690Z"
   },
   {
    "duration": 2,
    "start_time": "2022-03-21T19:37:08.241Z"
   },
   {
    "duration": 17,
    "start_time": "2022-03-21T19:37:08.245Z"
   },
   {
    "duration": 7,
    "start_time": "2022-03-21T19:37:08.264Z"
   },
   {
    "duration": 427,
    "start_time": "2022-03-21T19:43:19.805Z"
   },
   {
    "duration": 436,
    "start_time": "2022-03-21T19:43:20.234Z"
   },
   {
    "duration": 15,
    "start_time": "2022-03-21T19:43:20.672Z"
   },
   {
    "duration": 11,
    "start_time": "2022-03-21T19:43:20.689Z"
   },
   {
    "duration": 14,
    "start_time": "2022-03-21T19:43:20.702Z"
   },
   {
    "duration": 10,
    "start_time": "2022-03-21T19:43:20.734Z"
   },
   {
    "duration": 15,
    "start_time": "2022-03-21T19:43:20.746Z"
   },
   {
    "duration": 9,
    "start_time": "2022-03-21T19:43:20.762Z"
   },
   {
    "duration": 30,
    "start_time": "2022-03-21T19:43:20.773Z"
   },
   {
    "duration": 31,
    "start_time": "2022-03-21T19:43:20.805Z"
   },
   {
    "duration": 34,
    "start_time": "2022-03-21T19:43:20.838Z"
   },
   {
    "duration": 9,
    "start_time": "2022-03-21T19:43:20.874Z"
   },
   {
    "duration": 60,
    "start_time": "2022-03-21T19:43:20.885Z"
   },
   {
    "duration": 85,
    "start_time": "2022-03-21T19:43:20.949Z"
   },
   {
    "duration": 12,
    "start_time": "2022-03-21T19:43:21.036Z"
   },
   {
    "duration": 34,
    "start_time": "2022-03-21T19:43:21.049Z"
   },
   {
    "duration": 99,
    "start_time": "2022-03-21T19:43:21.084Z"
   },
   {
    "duration": 31,
    "start_time": "2022-03-21T19:43:21.185Z"
   },
   {
    "duration": 21,
    "start_time": "2022-03-21T19:43:21.218Z"
   },
   {
    "duration": 41,
    "start_time": "2022-03-21T19:43:21.241Z"
   },
   {
    "duration": 65,
    "start_time": "2022-03-21T19:43:21.284Z"
   },
   {
    "duration": 37,
    "start_time": "2022-03-21T19:43:21.352Z"
   },
   {
    "duration": 8,
    "start_time": "2022-03-21T19:43:21.391Z"
   },
   {
    "duration": 55,
    "start_time": "2022-03-21T19:43:21.401Z"
   },
   {
    "duration": 12,
    "start_time": "2022-03-21T19:43:21.457Z"
   },
   {
    "duration": 7,
    "start_time": "2022-03-21T19:43:21.470Z"
   },
   {
    "duration": 7,
    "start_time": "2022-03-21T19:43:21.478Z"
   },
   {
    "duration": 6,
    "start_time": "2022-03-21T19:43:21.487Z"
   },
   {
    "duration": 38,
    "start_time": "2022-03-21T19:43:21.495Z"
   },
   {
    "duration": 7,
    "start_time": "2022-03-21T19:43:21.535Z"
   },
   {
    "duration": 15,
    "start_time": "2022-03-21T19:43:21.544Z"
   },
   {
    "duration": 12,
    "start_time": "2022-03-21T19:43:21.561Z"
   },
   {
    "duration": 1611,
    "start_time": "2022-03-21T19:43:21.574Z"
   },
   {
    "duration": 460,
    "start_time": "2022-03-21T19:43:23.187Z"
   },
   {
    "duration": 13,
    "start_time": "2022-03-21T19:43:23.649Z"
   },
   {
    "duration": 2,
    "start_time": "2022-03-21T19:43:23.664Z"
   },
   {
    "duration": 386,
    "start_time": "2022-03-21T20:15:09.593Z"
   },
   {
    "duration": 387,
    "start_time": "2022-03-21T20:15:09.981Z"
   },
   {
    "duration": 16,
    "start_time": "2022-03-21T20:15:10.369Z"
   },
   {
    "duration": 11,
    "start_time": "2022-03-21T20:15:10.387Z"
   },
   {
    "duration": 11,
    "start_time": "2022-03-21T20:15:10.399Z"
   },
   {
    "duration": 28,
    "start_time": "2022-03-21T20:15:10.411Z"
   },
   {
    "duration": 14,
    "start_time": "2022-03-21T20:15:10.441Z"
   },
   {
    "duration": 7,
    "start_time": "2022-03-21T20:15:10.456Z"
   },
   {
    "duration": 25,
    "start_time": "2022-03-21T20:15:10.464Z"
   },
   {
    "duration": 8,
    "start_time": "2022-03-21T20:15:10.491Z"
   },
   {
    "duration": 44,
    "start_time": "2022-03-21T20:15:10.501Z"
   },
   {
    "duration": 9,
    "start_time": "2022-03-21T20:15:10.546Z"
   },
   {
    "duration": 28,
    "start_time": "2022-03-21T20:15:10.556Z"
   },
   {
    "duration": 74,
    "start_time": "2022-03-21T20:15:10.585Z"
   },
   {
    "duration": 14,
    "start_time": "2022-03-21T20:15:10.661Z"
   },
   {
    "duration": 29,
    "start_time": "2022-03-21T20:15:10.676Z"
   },
   {
    "duration": 89,
    "start_time": "2022-03-21T20:15:10.707Z"
   },
   {
    "duration": 40,
    "start_time": "2022-03-21T20:15:10.798Z"
   },
   {
    "duration": 8,
    "start_time": "2022-03-21T20:15:10.840Z"
   },
   {
    "duration": 35,
    "start_time": "2022-03-21T20:15:10.850Z"
   },
   {
    "duration": 70,
    "start_time": "2022-03-21T20:15:10.887Z"
   },
   {
    "duration": 36,
    "start_time": "2022-03-21T20:15:10.959Z"
   },
   {
    "duration": 7,
    "start_time": "2022-03-21T20:15:10.996Z"
   },
   {
    "duration": 54,
    "start_time": "2022-03-21T20:15:11.005Z"
   },
   {
    "duration": 12,
    "start_time": "2022-03-21T20:15:11.061Z"
   },
   {
    "duration": 5,
    "start_time": "2022-03-21T20:15:11.075Z"
   },
   {
    "duration": 8,
    "start_time": "2022-03-21T20:15:11.081Z"
   },
   {
    "duration": 6,
    "start_time": "2022-03-21T20:15:11.093Z"
   },
   {
    "duration": 42,
    "start_time": "2022-03-21T20:15:11.101Z"
   },
   {
    "duration": 8,
    "start_time": "2022-03-21T20:15:11.145Z"
   },
   {
    "duration": 21,
    "start_time": "2022-03-21T20:15:11.155Z"
   },
   {
    "duration": 13,
    "start_time": "2022-03-21T20:15:11.178Z"
   },
   {
    "duration": 2521,
    "start_time": "2022-03-21T20:15:11.193Z"
   },
   {
    "duration": 773,
    "start_time": "2022-03-21T20:15:13.716Z"
   },
   {
    "duration": 17,
    "start_time": "2022-03-21T20:15:14.491Z"
   },
   {
    "duration": 2,
    "start_time": "2022-03-21T20:15:14.510Z"
   },
   {
    "duration": 11,
    "start_time": "2022-03-21T20:15:31.922Z"
   },
   {
    "duration": 39,
    "start_time": "2022-03-21T20:15:43.006Z"
   },
   {
    "duration": 376,
    "start_time": "2022-03-21T20:32:57.461Z"
   },
   {
    "duration": 394,
    "start_time": "2022-03-21T20:32:57.839Z"
   },
   {
    "duration": 16,
    "start_time": "2022-03-21T20:32:58.235Z"
   },
   {
    "duration": 12,
    "start_time": "2022-03-21T20:32:58.253Z"
   },
   {
    "duration": 9,
    "start_time": "2022-03-21T20:32:58.266Z"
   },
   {
    "duration": 10,
    "start_time": "2022-03-21T20:32:58.277Z"
   },
   {
    "duration": 45,
    "start_time": "2022-03-21T20:32:58.289Z"
   },
   {
    "duration": 10,
    "start_time": "2022-03-21T20:32:58.336Z"
   },
   {
    "duration": 31,
    "start_time": "2022-03-21T20:32:58.348Z"
   },
   {
    "duration": 11,
    "start_time": "2022-03-21T20:32:58.383Z"
   },
   {
    "duration": 57,
    "start_time": "2022-03-21T20:32:58.396Z"
   },
   {
    "duration": 11,
    "start_time": "2022-03-21T20:32:58.455Z"
   },
   {
    "duration": 27,
    "start_time": "2022-03-21T20:32:58.468Z"
   },
   {
    "duration": 68,
    "start_time": "2022-03-21T20:32:58.496Z"
   },
   {
    "duration": 9,
    "start_time": "2022-03-21T20:32:58.566Z"
   },
   {
    "duration": 27,
    "start_time": "2022-03-21T20:32:58.577Z"
   },
   {
    "duration": 94,
    "start_time": "2022-03-21T20:32:58.606Z"
   },
   {
    "duration": 37,
    "start_time": "2022-03-21T20:32:58.701Z"
   },
   {
    "duration": 8,
    "start_time": "2022-03-21T20:32:58.739Z"
   },
   {
    "duration": 39,
    "start_time": "2022-03-21T20:32:58.748Z"
   },
   {
    "duration": 60,
    "start_time": "2022-03-21T20:32:58.788Z"
   },
   {
    "duration": 37,
    "start_time": "2022-03-21T20:32:58.850Z"
   },
   {
    "duration": 8,
    "start_time": "2022-03-21T20:32:58.889Z"
   },
   {
    "duration": 50,
    "start_time": "2022-03-21T20:32:58.898Z"
   },
   {
    "duration": 11,
    "start_time": "2022-03-21T20:32:58.950Z"
   },
   {
    "duration": 8,
    "start_time": "2022-03-21T20:32:58.963Z"
   },
   {
    "duration": 10,
    "start_time": "2022-03-21T20:32:58.973Z"
   },
   {
    "duration": 10,
    "start_time": "2022-03-21T20:32:58.987Z"
   },
   {
    "duration": 36,
    "start_time": "2022-03-21T20:32:58.999Z"
   },
   {
    "duration": 9,
    "start_time": "2022-03-21T20:32:59.037Z"
   },
   {
    "duration": 21,
    "start_time": "2022-03-21T20:32:59.048Z"
   },
   {
    "duration": 30,
    "start_time": "2022-03-21T20:32:59.071Z"
   },
   {
    "duration": 1580,
    "start_time": "2022-03-21T20:32:59.103Z"
   },
   {
    "duration": 465,
    "start_time": "2022-03-21T20:33:00.684Z"
   },
   {
    "duration": 12,
    "start_time": "2022-03-21T20:33:01.151Z"
   },
   {
    "duration": 6,
    "start_time": "2022-03-21T20:33:01.165Z"
   },
   {
    "duration": 411,
    "start_time": "2022-03-21T20:33:32.908Z"
   },
   {
    "duration": 418,
    "start_time": "2022-03-21T20:33:33.321Z"
   },
   {
    "duration": 21,
    "start_time": "2022-03-21T20:33:33.741Z"
   },
   {
    "duration": 15,
    "start_time": "2022-03-21T20:33:33.765Z"
   },
   {
    "duration": 10,
    "start_time": "2022-03-21T20:33:33.782Z"
   },
   {
    "duration": 10,
    "start_time": "2022-03-21T20:33:33.794Z"
   },
   {
    "duration": 37,
    "start_time": "2022-03-21T20:33:33.806Z"
   },
   {
    "duration": 8,
    "start_time": "2022-03-21T20:33:33.845Z"
   },
   {
    "duration": 20,
    "start_time": "2022-03-21T20:33:33.855Z"
   },
   {
    "duration": 8,
    "start_time": "2022-03-21T20:33:33.878Z"
   },
   {
    "duration": 49,
    "start_time": "2022-03-21T20:33:33.888Z"
   },
   {
    "duration": 8,
    "start_time": "2022-03-21T20:33:33.938Z"
   },
   {
    "duration": 26,
    "start_time": "2022-03-21T20:33:33.947Z"
   },
   {
    "duration": 70,
    "start_time": "2022-03-21T20:33:33.975Z"
   },
   {
    "duration": 10,
    "start_time": "2022-03-21T20:33:34.047Z"
   },
   {
    "duration": 31,
    "start_time": "2022-03-21T20:33:34.058Z"
   },
   {
    "duration": 91,
    "start_time": "2022-03-21T20:33:34.091Z"
   },
   {
    "duration": 28,
    "start_time": "2022-03-21T20:33:34.183Z"
   },
   {
    "duration": 8,
    "start_time": "2022-03-21T20:33:34.213Z"
   },
   {
    "duration": 35,
    "start_time": "2022-03-21T20:33:34.233Z"
   },
   {
    "duration": 41,
    "start_time": "2022-03-21T20:33:34.269Z"
   },
   {
    "duration": 54,
    "start_time": "2022-03-21T20:33:34.312Z"
   },
   {
    "duration": 7,
    "start_time": "2022-03-21T20:33:34.368Z"
   },
   {
    "duration": 30,
    "start_time": "2022-03-21T20:33:34.376Z"
   },
   {
    "duration": 34,
    "start_time": "2022-03-21T20:33:34.407Z"
   },
   {
    "duration": 9,
    "start_time": "2022-03-21T20:33:34.443Z"
   },
   {
    "duration": 9,
    "start_time": "2022-03-21T20:33:34.454Z"
   },
   {
    "duration": 6,
    "start_time": "2022-03-21T20:33:34.466Z"
   },
   {
    "duration": 13,
    "start_time": "2022-03-21T20:33:34.473Z"
   },
   {
    "duration": 7,
    "start_time": "2022-03-21T20:33:34.488Z"
   },
   {
    "duration": 41,
    "start_time": "2022-03-21T20:33:34.496Z"
   },
   {
    "duration": 22,
    "start_time": "2022-03-21T20:33:34.539Z"
   },
   {
    "duration": 1634,
    "start_time": "2022-03-21T20:33:34.563Z"
   },
   {
    "duration": 494,
    "start_time": "2022-03-21T20:33:36.201Z"
   },
   {
    "duration": 12,
    "start_time": "2022-03-21T20:33:36.697Z"
   },
   {
    "duration": 2,
    "start_time": "2022-03-21T20:33:36.711Z"
   },
   {
    "duration": 376,
    "start_time": "2022-03-21T20:34:06.264Z"
   },
   {
    "duration": 390,
    "start_time": "2022-03-21T20:34:06.642Z"
   },
   {
    "duration": 18,
    "start_time": "2022-03-21T20:34:07.034Z"
   },
   {
    "duration": 11,
    "start_time": "2022-03-21T20:34:07.054Z"
   },
   {
    "duration": 14,
    "start_time": "2022-03-21T20:34:07.067Z"
   },
   {
    "duration": 13,
    "start_time": "2022-03-21T20:34:07.083Z"
   },
   {
    "duration": 15,
    "start_time": "2022-03-21T20:34:07.097Z"
   },
   {
    "duration": 9,
    "start_time": "2022-03-21T20:34:07.133Z"
   },
   {
    "duration": 25,
    "start_time": "2022-03-21T20:34:07.143Z"
   },
   {
    "duration": 10,
    "start_time": "2022-03-21T20:34:07.170Z"
   },
   {
    "duration": 26,
    "start_time": "2022-03-21T20:34:07.181Z"
   },
   {
    "duration": 29,
    "start_time": "2022-03-21T20:34:07.209Z"
   },
   {
    "duration": 30,
    "start_time": "2022-03-21T20:34:07.240Z"
   },
   {
    "duration": 67,
    "start_time": "2022-03-21T20:34:07.272Z"
   },
   {
    "duration": 9,
    "start_time": "2022-03-21T20:34:07.341Z"
   },
   {
    "duration": 29,
    "start_time": "2022-03-21T20:34:07.351Z"
   },
   {
    "duration": 90,
    "start_time": "2022-03-21T20:34:07.382Z"
   },
   {
    "duration": 29,
    "start_time": "2022-03-21T20:34:07.473Z"
   },
   {
    "duration": 7,
    "start_time": "2022-03-21T20:34:07.504Z"
   },
   {
    "duration": 48,
    "start_time": "2022-03-21T20:34:07.513Z"
   },
   {
    "duration": 41,
    "start_time": "2022-03-21T20:34:07.562Z"
   },
   {
    "duration": 57,
    "start_time": "2022-03-21T20:34:07.605Z"
   },
   {
    "duration": 7,
    "start_time": "2022-03-21T20:34:07.663Z"
   },
   {
    "duration": 30,
    "start_time": "2022-03-21T20:34:07.672Z"
   },
   {
    "duration": 32,
    "start_time": "2022-03-21T20:34:07.704Z"
   },
   {
    "duration": 8,
    "start_time": "2022-03-21T20:34:07.737Z"
   },
   {
    "duration": 8,
    "start_time": "2022-03-21T20:34:07.747Z"
   },
   {
    "duration": 5,
    "start_time": "2022-03-21T20:34:07.758Z"
   },
   {
    "duration": 15,
    "start_time": "2022-03-21T20:34:07.764Z"
   },
   {
    "duration": 6,
    "start_time": "2022-03-21T20:34:07.780Z"
   },
   {
    "duration": 16,
    "start_time": "2022-03-21T20:34:07.788Z"
   },
   {
    "duration": 47,
    "start_time": "2022-03-21T20:34:07.805Z"
   },
   {
    "duration": 1579,
    "start_time": "2022-03-21T20:34:07.854Z"
   },
   {
    "duration": 465,
    "start_time": "2022-03-21T20:34:09.435Z"
   },
   {
    "duration": 14,
    "start_time": "2022-03-21T20:34:09.902Z"
   },
   {
    "duration": 15,
    "start_time": "2022-03-21T20:34:09.918Z"
   },
   {
    "duration": 424,
    "start_time": "2022-03-21T20:46:47.222Z"
   },
   {
    "duration": 396,
    "start_time": "2022-03-21T20:46:47.648Z"
   },
   {
    "duration": 17,
    "start_time": "2022-03-21T20:46:48.045Z"
   },
   {
    "duration": 11,
    "start_time": "2022-03-21T20:46:48.064Z"
   },
   {
    "duration": 10,
    "start_time": "2022-03-21T20:46:48.077Z"
   },
   {
    "duration": 15,
    "start_time": "2022-03-21T20:46:48.089Z"
   },
   {
    "duration": 38,
    "start_time": "2022-03-21T20:46:48.106Z"
   },
   {
    "duration": 8,
    "start_time": "2022-03-21T20:46:48.145Z"
   },
   {
    "duration": 20,
    "start_time": "2022-03-21T20:46:48.154Z"
   },
   {
    "duration": 8,
    "start_time": "2022-03-21T20:46:48.178Z"
   },
   {
    "duration": 54,
    "start_time": "2022-03-21T20:46:48.188Z"
   },
   {
    "duration": 8,
    "start_time": "2022-03-21T20:46:48.244Z"
   },
   {
    "duration": 25,
    "start_time": "2022-03-21T20:46:48.254Z"
   },
   {
    "duration": 73,
    "start_time": "2022-03-21T20:46:48.281Z"
   },
   {
    "duration": 9,
    "start_time": "2022-03-21T20:46:48.356Z"
   },
   {
    "duration": 27,
    "start_time": "2022-03-21T20:46:48.367Z"
   },
   {
    "duration": 90,
    "start_time": "2022-03-21T20:46:48.396Z"
   },
   {
    "duration": 29,
    "start_time": "2022-03-21T20:46:48.487Z"
   },
   {
    "duration": 21,
    "start_time": "2022-03-21T20:46:48.517Z"
   },
   {
    "duration": 36,
    "start_time": "2022-03-21T20:46:48.539Z"
   },
   {
    "duration": 59,
    "start_time": "2022-03-21T20:46:48.577Z"
   },
   {
    "duration": 52,
    "start_time": "2022-03-21T20:46:48.638Z"
   },
   {
    "duration": 26,
    "start_time": "2022-03-21T20:46:48.692Z"
   },
   {
    "duration": 45,
    "start_time": "2022-03-21T20:46:48.719Z"
   },
   {
    "duration": 12,
    "start_time": "2022-03-21T20:46:48.766Z"
   },
   {
    "duration": 9,
    "start_time": "2022-03-21T20:46:48.780Z"
   },
   {
    "duration": 8,
    "start_time": "2022-03-21T20:46:48.791Z"
   },
   {
    "duration": 31,
    "start_time": "2022-03-21T20:46:48.802Z"
   },
   {
    "duration": 14,
    "start_time": "2022-03-21T20:46:48.834Z"
   },
   {
    "duration": 6,
    "start_time": "2022-03-21T20:46:48.850Z"
   },
   {
    "duration": 19,
    "start_time": "2022-03-21T20:46:48.858Z"
   },
   {
    "duration": 57,
    "start_time": "2022-03-21T20:46:48.880Z"
   },
   {
    "duration": 2651,
    "start_time": "2022-03-21T20:46:48.939Z"
   },
   {
    "duration": 836,
    "start_time": "2022-03-21T20:46:51.592Z"
   },
   {
    "duration": 17,
    "start_time": "2022-03-21T20:46:52.433Z"
   },
   {
    "duration": 3,
    "start_time": "2022-03-21T20:46:52.452Z"
   },
   {
    "duration": 1385,
    "start_time": "2022-03-21T20:47:10.473Z"
   },
   {
    "duration": 365,
    "start_time": "2022-03-21T20:49:34.084Z"
   },
   {
    "duration": 391,
    "start_time": "2022-03-21T20:49:34.450Z"
   },
   {
    "duration": 18,
    "start_time": "2022-03-21T20:49:34.842Z"
   },
   {
    "duration": 11,
    "start_time": "2022-03-21T20:49:34.861Z"
   },
   {
    "duration": 12,
    "start_time": "2022-03-21T20:49:34.874Z"
   },
   {
    "duration": 13,
    "start_time": "2022-03-21T20:49:34.888Z"
   },
   {
    "duration": 38,
    "start_time": "2022-03-21T20:49:34.902Z"
   },
   {
    "duration": 7,
    "start_time": "2022-03-21T20:49:34.942Z"
   },
   {
    "duration": 19,
    "start_time": "2022-03-21T20:49:34.951Z"
   },
   {
    "duration": 10,
    "start_time": "2022-03-21T20:49:34.972Z"
   },
   {
    "duration": 48,
    "start_time": "2022-03-21T20:49:34.984Z"
   },
   {
    "duration": 9,
    "start_time": "2022-03-21T20:49:35.034Z"
   },
   {
    "duration": 42,
    "start_time": "2022-03-21T20:49:35.045Z"
   },
   {
    "duration": 55,
    "start_time": "2022-03-21T20:49:35.090Z"
   },
   {
    "duration": 9,
    "start_time": "2022-03-21T20:49:35.147Z"
   },
   {
    "duration": 34,
    "start_time": "2022-03-21T20:49:35.158Z"
   },
   {
    "duration": 86,
    "start_time": "2022-03-21T20:49:35.194Z"
   },
   {
    "duration": 28,
    "start_time": "2022-03-21T20:49:35.282Z"
   },
   {
    "duration": 8,
    "start_time": "2022-03-21T20:49:35.311Z"
   },
   {
    "duration": 46,
    "start_time": "2022-03-21T20:49:35.321Z"
   },
   {
    "duration": 42,
    "start_time": "2022-03-21T20:49:35.369Z"
   },
   {
    "duration": 39,
    "start_time": "2022-03-21T20:49:35.433Z"
   },
   {
    "duration": 8,
    "start_time": "2022-03-21T20:49:35.474Z"
   },
   {
    "duration": 51,
    "start_time": "2022-03-21T20:49:35.484Z"
   },
   {
    "duration": 12,
    "start_time": "2022-03-21T20:49:35.537Z"
   },
   {
    "duration": 17,
    "start_time": "2022-03-21T20:49:35.550Z"
   },
   {
    "duration": 21,
    "start_time": "2022-03-21T20:49:35.569Z"
   },
   {
    "duration": 13,
    "start_time": "2022-03-21T20:49:35.591Z"
   },
   {
    "duration": 15,
    "start_time": "2022-03-21T20:49:35.606Z"
   },
   {
    "duration": 10,
    "start_time": "2022-03-21T20:49:35.623Z"
   },
   {
    "duration": 21,
    "start_time": "2022-03-21T20:49:35.635Z"
   },
   {
    "duration": 18,
    "start_time": "2022-03-21T20:49:35.658Z"
   },
   {
    "duration": 1699,
    "start_time": "2022-03-21T20:49:35.678Z"
   },
   {
    "duration": 482,
    "start_time": "2022-03-21T20:49:37.379Z"
   },
   {
    "duration": 13,
    "start_time": "2022-03-21T20:49:37.863Z"
   },
   {
    "duration": 5,
    "start_time": "2022-03-21T20:49:37.877Z"
   },
   {
    "duration": 427,
    "start_time": "2022-03-21T20:50:46.899Z"
   },
   {
    "duration": 393,
    "start_time": "2022-03-21T20:50:47.328Z"
   },
   {
    "duration": 24,
    "start_time": "2022-03-21T20:50:47.723Z"
   },
   {
    "duration": 10,
    "start_time": "2022-03-21T20:50:47.749Z"
   },
   {
    "duration": 10,
    "start_time": "2022-03-21T20:50:47.761Z"
   },
   {
    "duration": 12,
    "start_time": "2022-03-21T20:50:47.772Z"
   },
   {
    "duration": 13,
    "start_time": "2022-03-21T20:50:47.785Z"
   },
   {
    "duration": 36,
    "start_time": "2022-03-21T20:50:47.799Z"
   },
   {
    "duration": 20,
    "start_time": "2022-03-21T20:50:47.837Z"
   },
   {
    "duration": 9,
    "start_time": "2022-03-21T20:50:47.861Z"
   },
   {
    "duration": 23,
    "start_time": "2022-03-21T20:50:47.872Z"
   },
   {
    "duration": 41,
    "start_time": "2022-03-21T20:50:47.898Z"
   },
   {
    "duration": 27,
    "start_time": "2022-03-21T20:50:47.940Z"
   },
   {
    "duration": 63,
    "start_time": "2022-03-21T20:50:47.970Z"
   },
   {
    "duration": 10,
    "start_time": "2022-03-21T20:50:48.034Z"
   },
   {
    "duration": 26,
    "start_time": "2022-03-21T20:50:48.046Z"
   },
   {
    "duration": 98,
    "start_time": "2022-03-21T20:50:48.074Z"
   },
   {
    "duration": 30,
    "start_time": "2022-03-21T20:50:48.173Z"
   },
   {
    "duration": 9,
    "start_time": "2022-03-21T20:50:48.204Z"
   },
   {
    "duration": 47,
    "start_time": "2022-03-21T20:50:48.214Z"
   },
   {
    "duration": 42,
    "start_time": "2022-03-21T20:50:48.263Z"
   },
   {
    "duration": 57,
    "start_time": "2022-03-21T20:50:48.306Z"
   },
   {
    "duration": 9,
    "start_time": "2022-03-21T20:50:48.365Z"
   },
   {
    "duration": 58,
    "start_time": "2022-03-21T20:50:48.376Z"
   },
   {
    "duration": 16,
    "start_time": "2022-03-21T20:50:48.436Z"
   },
   {
    "duration": 14,
    "start_time": "2022-03-21T20:50:48.455Z"
   },
   {
    "duration": 10,
    "start_time": "2022-03-21T20:50:48.471Z"
   },
   {
    "duration": 6,
    "start_time": "2022-03-21T20:50:48.484Z"
   },
   {
    "duration": 12,
    "start_time": "2022-03-21T20:50:48.491Z"
   },
   {
    "duration": 30,
    "start_time": "2022-03-21T20:50:48.505Z"
   },
   {
    "duration": 22,
    "start_time": "2022-03-21T20:50:48.536Z"
   },
   {
    "duration": 26,
    "start_time": "2022-03-21T20:50:48.560Z"
   },
   {
    "duration": 2506,
    "start_time": "2022-03-21T20:50:48.588Z"
   },
   {
    "duration": 869,
    "start_time": "2022-03-21T20:50:51.096Z"
   },
   {
    "duration": 16,
    "start_time": "2022-03-21T20:50:51.967Z"
   },
   {
    "duration": 3,
    "start_time": "2022-03-21T20:50:51.985Z"
   },
   {
    "duration": 501,
    "start_time": "2022-03-22T06:14:52.629Z"
   },
   {
    "duration": 498,
    "start_time": "2022-03-22T06:14:53.133Z"
   },
   {
    "duration": 26,
    "start_time": "2022-03-22T06:14:53.633Z"
   },
   {
    "duration": 33,
    "start_time": "2022-03-22T06:14:53.662Z"
   },
   {
    "duration": 15,
    "start_time": "2022-03-22T06:14:53.697Z"
   },
   {
    "duration": 17,
    "start_time": "2022-03-22T06:14:53.714Z"
   },
   {
    "duration": 56,
    "start_time": "2022-03-22T06:14:53.733Z"
   },
   {
    "duration": 15,
    "start_time": "2022-03-22T06:14:53.792Z"
   },
   {
    "duration": 28,
    "start_time": "2022-03-22T06:14:53.809Z"
   },
   {
    "duration": 38,
    "start_time": "2022-03-22T06:14:53.844Z"
   },
   {
    "duration": 43,
    "start_time": "2022-03-22T06:14:53.884Z"
   },
   {
    "duration": 15,
    "start_time": "2022-03-22T06:14:53.930Z"
   },
   {
    "duration": 63,
    "start_time": "2022-03-22T06:14:53.947Z"
   },
   {
    "duration": 99,
    "start_time": "2022-03-22T06:14:54.012Z"
   },
   {
    "duration": 15,
    "start_time": "2022-03-22T06:14:54.113Z"
   },
   {
    "duration": 40,
    "start_time": "2022-03-22T06:14:54.130Z"
   },
   {
    "duration": 106,
    "start_time": "2022-03-22T06:14:54.183Z"
   },
   {
    "duration": 42,
    "start_time": "2022-03-22T06:14:54.292Z"
   },
   {
    "duration": 11,
    "start_time": "2022-03-22T06:14:54.337Z"
   },
   {
    "duration": 72,
    "start_time": "2022-03-22T06:14:54.351Z"
   },
   {
    "duration": 72,
    "start_time": "2022-03-22T06:14:54.425Z"
   },
   {
    "duration": 59,
    "start_time": "2022-03-22T06:14:54.499Z"
   },
   {
    "duration": 27,
    "start_time": "2022-03-22T06:14:54.560Z"
   },
   {
    "duration": 47,
    "start_time": "2022-03-22T06:14:54.589Z"
   },
   {
    "duration": 17,
    "start_time": "2022-03-22T06:14:54.639Z"
   },
   {
    "duration": 7,
    "start_time": "2022-03-22T06:14:54.683Z"
   },
   {
    "duration": 32,
    "start_time": "2022-03-22T06:14:54.692Z"
   },
   {
    "duration": 12,
    "start_time": "2022-03-22T06:14:54.730Z"
   },
   {
    "duration": 48,
    "start_time": "2022-03-22T06:14:54.744Z"
   },
   {
    "duration": 8,
    "start_time": "2022-03-22T06:14:54.794Z"
   },
   {
    "duration": 29,
    "start_time": "2022-03-22T06:14:54.804Z"
   },
   {
    "duration": 51,
    "start_time": "2022-03-22T06:14:54.835Z"
   },
   {
    "duration": 2573,
    "start_time": "2022-03-22T06:14:54.888Z"
   },
   {
    "duration": 1010,
    "start_time": "2022-03-22T06:14:57.463Z"
   },
   {
    "duration": 19,
    "start_time": "2022-03-22T06:14:58.476Z"
   },
   {
    "duration": 8,
    "start_time": "2022-03-22T06:14:58.498Z"
   },
   {
    "duration": 502,
    "start_time": "2022-03-22T06:17:02.466Z"
   },
   {
    "duration": 482,
    "start_time": "2022-03-22T06:17:02.970Z"
   },
   {
    "duration": 38,
    "start_time": "2022-03-22T06:17:03.455Z"
   },
   {
    "duration": 30,
    "start_time": "2022-03-22T06:17:03.497Z"
   },
   {
    "duration": 57,
    "start_time": "2022-03-22T06:17:03.529Z"
   },
   {
    "duration": 50,
    "start_time": "2022-03-22T06:17:03.588Z"
   },
   {
    "duration": 68,
    "start_time": "2022-03-22T06:17:03.640Z"
   },
   {
    "duration": 22,
    "start_time": "2022-03-22T06:17:03.712Z"
   },
   {
    "duration": 52,
    "start_time": "2022-03-22T06:17:03.736Z"
   },
   {
    "duration": 18,
    "start_time": "2022-03-22T06:17:03.792Z"
   },
   {
    "duration": 55,
    "start_time": "2022-03-22T06:17:03.813Z"
   },
   {
    "duration": 12,
    "start_time": "2022-03-22T06:17:03.870Z"
   },
   {
    "duration": 55,
    "start_time": "2022-03-22T06:17:03.884Z"
   },
   {
    "duration": 74,
    "start_time": "2022-03-22T06:17:03.941Z"
   },
   {
    "duration": 14,
    "start_time": "2022-03-22T06:17:04.017Z"
   },
   {
    "duration": 70,
    "start_time": "2022-03-22T06:17:04.033Z"
   },
   {
    "duration": 118,
    "start_time": "2022-03-22T06:17:04.106Z"
   },
   {
    "duration": 55,
    "start_time": "2022-03-22T06:17:04.227Z"
   },
   {
    "duration": 33,
    "start_time": "2022-03-22T06:17:04.285Z"
   },
   {
    "duration": 113,
    "start_time": "2022-03-22T06:17:04.320Z"
   },
   {
    "duration": 101,
    "start_time": "2022-03-22T06:17:04.436Z"
   },
   {
    "duration": 74,
    "start_time": "2022-03-22T06:17:04.539Z"
   },
   {
    "duration": 15,
    "start_time": "2022-03-22T06:17:04.616Z"
   },
   {
    "duration": 96,
    "start_time": "2022-03-22T06:17:04.633Z"
   },
   {
    "duration": 18,
    "start_time": "2022-03-22T06:17:04.732Z"
   },
   {
    "duration": 29,
    "start_time": "2022-03-22T06:17:04.754Z"
   },
   {
    "duration": 32,
    "start_time": "2022-03-22T06:17:04.785Z"
   },
   {
    "duration": 20,
    "start_time": "2022-03-22T06:17:04.821Z"
   },
   {
    "duration": 39,
    "start_time": "2022-03-22T06:17:04.844Z"
   },
   {
    "duration": 51,
    "start_time": "2022-03-22T06:17:04.886Z"
   },
   {
    "duration": 43,
    "start_time": "2022-03-22T06:17:04.939Z"
   },
   {
    "duration": 2744,
    "start_time": "2022-03-22T06:17:04.984Z"
   },
   {
    "duration": 939,
    "start_time": "2022-03-22T06:17:07.731Z"
   },
   {
    "duration": 27,
    "start_time": "2022-03-22T06:17:08.672Z"
   },
   {
    "duration": 3,
    "start_time": "2022-03-22T06:17:08.701Z"
   },
   {
    "duration": 493,
    "start_time": "2022-03-22T07:27:42.331Z"
   },
   {
    "duration": 670,
    "start_time": "2022-03-22T07:27:42.827Z"
   },
   {
    "duration": 37,
    "start_time": "2022-03-22T07:27:43.500Z"
   },
   {
    "duration": 17,
    "start_time": "2022-03-22T07:27:43.541Z"
   },
   {
    "duration": 33,
    "start_time": "2022-03-22T07:27:43.560Z"
   },
   {
    "duration": 22,
    "start_time": "2022-03-22T07:27:43.594Z"
   },
   {
    "duration": 22,
    "start_time": "2022-03-22T07:27:43.619Z"
   },
   {
    "duration": 40,
    "start_time": "2022-03-22T07:27:43.644Z"
   },
   {
    "duration": 36,
    "start_time": "2022-03-22T07:27:43.686Z"
   },
   {
    "duration": 12,
    "start_time": "2022-03-22T07:27:43.728Z"
   },
   {
    "duration": 51,
    "start_time": "2022-03-22T07:27:43.743Z"
   },
   {
    "duration": 11,
    "start_time": "2022-03-22T07:27:43.796Z"
   },
   {
    "duration": 36,
    "start_time": "2022-03-22T07:27:43.810Z"
   },
   {
    "duration": 98,
    "start_time": "2022-03-22T07:27:43.848Z"
   },
   {
    "duration": 13,
    "start_time": "2022-03-22T07:27:43.948Z"
   },
   {
    "duration": 48,
    "start_time": "2022-03-22T07:27:43.964Z"
   },
   {
    "duration": 123,
    "start_time": "2022-03-22T07:27:44.014Z"
   },
   {
    "duration": 56,
    "start_time": "2022-03-22T07:27:44.140Z"
   },
   {
    "duration": 12,
    "start_time": "2022-03-22T07:27:44.198Z"
   },
   {
    "duration": 51,
    "start_time": "2022-03-22T07:27:44.212Z"
   },
   {
    "duration": 65,
    "start_time": "2022-03-22T07:27:44.281Z"
   },
   {
    "duration": 69,
    "start_time": "2022-03-22T07:27:44.348Z"
   },
   {
    "duration": 13,
    "start_time": "2022-03-22T07:27:44.420Z"
   },
   {
    "duration": 76,
    "start_time": "2022-03-22T07:27:44.436Z"
   },
   {
    "duration": 19,
    "start_time": "2022-03-22T07:27:44.515Z"
   },
   {
    "duration": 8,
    "start_time": "2022-03-22T07:27:44.536Z"
   },
   {
    "duration": 45,
    "start_time": "2022-03-22T07:27:44.547Z"
   },
   {
    "duration": 4,
    "start_time": "2022-03-22T07:27:44.597Z"
   },
   {
    "duration": 26,
    "start_time": "2022-03-22T07:27:44.603Z"
   },
   {
    "duration": 29,
    "start_time": "2022-03-22T07:27:44.631Z"
   },
   {
    "duration": 50,
    "start_time": "2022-03-22T07:27:44.663Z"
   },
   {
    "duration": 2620,
    "start_time": "2022-03-22T07:27:44.716Z"
   },
   {
    "duration": 947,
    "start_time": "2022-03-22T07:27:47.339Z"
   },
   {
    "duration": 23,
    "start_time": "2022-03-22T07:27:48.288Z"
   },
   {
    "duration": 4,
    "start_time": "2022-03-22T07:27:48.314Z"
   },
   {
    "duration": 684,
    "start_time": "2022-03-22T07:37:49.129Z"
   },
   {
    "duration": 494,
    "start_time": "2022-03-22T07:37:49.816Z"
   },
   {
    "duration": 27,
    "start_time": "2022-03-22T07:37:50.312Z"
   },
   {
    "duration": 47,
    "start_time": "2022-03-22T07:37:50.344Z"
   },
   {
    "duration": 16,
    "start_time": "2022-03-22T07:37:50.395Z"
   },
   {
    "duration": 17,
    "start_time": "2022-03-22T07:37:50.414Z"
   },
   {
    "duration": 48,
    "start_time": "2022-03-22T07:37:50.434Z"
   },
   {
    "duration": 12,
    "start_time": "2022-03-22T07:37:50.485Z"
   },
   {
    "duration": 39,
    "start_time": "2022-03-22T07:37:50.500Z"
   },
   {
    "duration": 35,
    "start_time": "2022-03-22T07:37:50.547Z"
   },
   {
    "duration": 28,
    "start_time": "2022-03-22T07:37:50.585Z"
   },
   {
    "duration": 14,
    "start_time": "2022-03-22T07:37:50.616Z"
   },
   {
    "duration": 65,
    "start_time": "2022-03-22T07:37:50.632Z"
   },
   {
    "duration": 95,
    "start_time": "2022-03-22T07:37:50.700Z"
   },
   {
    "duration": 13,
    "start_time": "2022-03-22T07:37:50.798Z"
   },
   {
    "duration": 53,
    "start_time": "2022-03-22T07:37:50.814Z"
   },
   {
    "duration": 117,
    "start_time": "2022-03-22T07:37:50.869Z"
   },
   {
    "duration": 43,
    "start_time": "2022-03-22T07:37:50.988Z"
   },
   {
    "duration": 11,
    "start_time": "2022-03-22T07:37:51.034Z"
   },
   {
    "duration": 86,
    "start_time": "2022-03-22T07:37:51.048Z"
   },
   {
    "duration": 89,
    "start_time": "2022-03-22T07:37:51.136Z"
   },
   {
    "duration": 68,
    "start_time": "2022-03-22T07:37:51.227Z"
   },
   {
    "duration": 11,
    "start_time": "2022-03-22T07:37:51.297Z"
   },
   {
    "duration": 72,
    "start_time": "2022-03-22T07:37:51.310Z"
   },
   {
    "duration": 18,
    "start_time": "2022-03-22T07:37:51.385Z"
   },
   {
    "duration": 21,
    "start_time": "2022-03-22T07:37:51.405Z"
   },
   {
    "duration": 28,
    "start_time": "2022-03-22T07:37:51.428Z"
   },
   {
    "duration": 22,
    "start_time": "2022-03-22T07:37:51.461Z"
   },
   {
    "duration": 47,
    "start_time": "2022-03-22T07:37:51.485Z"
   },
   {
    "duration": 41,
    "start_time": "2022-03-22T07:37:51.535Z"
   },
   {
    "duration": 40,
    "start_time": "2022-03-22T07:37:51.578Z"
   },
   {
    "duration": 2670,
    "start_time": "2022-03-22T07:37:51.621Z"
   },
   {
    "duration": 901,
    "start_time": "2022-03-22T07:37:54.294Z"
   },
   {
    "duration": 21,
    "start_time": "2022-03-22T07:37:55.198Z"
   },
   {
    "duration": 8,
    "start_time": "2022-03-22T07:37:55.221Z"
   },
   {
    "duration": 477,
    "start_time": "2022-03-22T07:42:47.331Z"
   },
   {
    "duration": 472,
    "start_time": "2022-03-22T07:42:47.811Z"
   },
   {
    "duration": 26,
    "start_time": "2022-03-22T07:42:48.285Z"
   },
   {
    "duration": 16,
    "start_time": "2022-03-22T07:42:48.314Z"
   },
   {
    "duration": 18,
    "start_time": "2022-03-22T07:42:48.332Z"
   },
   {
    "duration": 42,
    "start_time": "2022-03-22T07:42:48.352Z"
   },
   {
    "duration": 20,
    "start_time": "2022-03-22T07:42:48.397Z"
   },
   {
    "duration": 9,
    "start_time": "2022-03-22T07:42:48.420Z"
   },
   {
    "duration": 55,
    "start_time": "2022-03-22T07:42:48.431Z"
   },
   {
    "duration": 12,
    "start_time": "2022-03-22T07:42:48.491Z"
   },
   {
    "duration": 31,
    "start_time": "2022-03-22T07:42:48.505Z"
   },
   {
    "duration": 10,
    "start_time": "2022-03-22T07:42:48.538Z"
   },
   {
    "duration": 34,
    "start_time": "2022-03-22T07:42:48.581Z"
   },
   {
    "duration": 87,
    "start_time": "2022-03-22T07:42:48.617Z"
   },
   {
    "duration": 13,
    "start_time": "2022-03-22T07:42:48.707Z"
   },
   {
    "duration": 36,
    "start_time": "2022-03-22T07:42:48.722Z"
   },
   {
    "duration": 127,
    "start_time": "2022-03-22T07:42:48.760Z"
   },
   {
    "duration": 44,
    "start_time": "2022-03-22T07:42:48.890Z"
   },
   {
    "duration": 12,
    "start_time": "2022-03-22T07:42:48.936Z"
   },
   {
    "duration": 75,
    "start_time": "2022-03-22T07:42:48.950Z"
   },
   {
    "duration": 73,
    "start_time": "2022-03-22T07:42:49.027Z"
   },
   {
    "duration": 49,
    "start_time": "2022-03-22T07:42:49.103Z"
   },
   {
    "duration": 31,
    "start_time": "2022-03-22T07:42:49.154Z"
   },
   {
    "duration": 45,
    "start_time": "2022-03-22T07:42:49.187Z"
   },
   {
    "duration": 16,
    "start_time": "2022-03-22T07:42:49.234Z"
   },
   {
    "duration": 34,
    "start_time": "2022-03-22T07:42:49.252Z"
   },
   {
    "duration": 17,
    "start_time": "2022-03-22T07:42:49.289Z"
   },
   {
    "duration": 4,
    "start_time": "2022-03-22T07:42:49.311Z"
   },
   {
    "duration": 19,
    "start_time": "2022-03-22T07:42:49.318Z"
   },
   {
    "duration": 62,
    "start_time": "2022-03-22T07:42:49.340Z"
   },
   {
    "duration": 33,
    "start_time": "2022-03-22T07:42:49.405Z"
   },
   {
    "duration": 2593,
    "start_time": "2022-03-22T07:42:49.441Z"
   },
   {
    "duration": 889,
    "start_time": "2022-03-22T07:42:52.036Z"
   },
   {
    "duration": 20,
    "start_time": "2022-03-22T07:42:52.927Z"
   },
   {
    "duration": 6,
    "start_time": "2022-03-22T07:42:52.949Z"
   },
   {
    "duration": 528,
    "start_time": "2022-03-22T07:44:25.658Z"
   },
   {
    "duration": 505,
    "start_time": "2022-03-22T07:44:26.189Z"
   },
   {
    "duration": 33,
    "start_time": "2022-03-22T07:44:26.697Z"
   },
   {
    "duration": 18,
    "start_time": "2022-03-22T07:44:26.732Z"
   },
   {
    "duration": 37,
    "start_time": "2022-03-22T07:44:26.753Z"
   },
   {
    "duration": 16,
    "start_time": "2022-03-22T07:44:26.792Z"
   },
   {
    "duration": 20,
    "start_time": "2022-03-22T07:44:26.811Z"
   },
   {
    "duration": 28,
    "start_time": "2022-03-22T07:44:26.833Z"
   },
   {
    "duration": 27,
    "start_time": "2022-03-22T07:44:26.883Z"
   },
   {
    "duration": 13,
    "start_time": "2022-03-22T07:44:26.913Z"
   },
   {
    "duration": 62,
    "start_time": "2022-03-22T07:44:26.928Z"
   },
   {
    "duration": 13,
    "start_time": "2022-03-22T07:44:26.993Z"
   },
   {
    "duration": 53,
    "start_time": "2022-03-22T07:44:27.008Z"
   },
   {
    "duration": 76,
    "start_time": "2022-03-22T07:44:27.082Z"
   },
   {
    "duration": 25,
    "start_time": "2022-03-22T07:44:27.160Z"
   },
   {
    "duration": 38,
    "start_time": "2022-03-22T07:44:27.188Z"
   },
   {
    "duration": 122,
    "start_time": "2022-03-22T07:44:27.229Z"
   },
   {
    "duration": 55,
    "start_time": "2022-03-22T07:44:27.354Z"
   },
   {
    "duration": 13,
    "start_time": "2022-03-22T07:44:27.412Z"
   },
   {
    "duration": 65,
    "start_time": "2022-03-22T07:44:27.428Z"
   },
   {
    "duration": 59,
    "start_time": "2022-03-22T07:44:27.496Z"
   },
   {
    "duration": 79,
    "start_time": "2022-03-22T07:44:27.557Z"
   },
   {
    "duration": 12,
    "start_time": "2022-03-22T07:44:27.639Z"
   },
   {
    "duration": 72,
    "start_time": "2022-03-22T07:44:27.653Z"
   },
   {
    "duration": 19,
    "start_time": "2022-03-22T07:44:27.728Z"
   },
   {
    "duration": 32,
    "start_time": "2022-03-22T07:44:27.750Z"
   },
   {
    "duration": 18,
    "start_time": "2022-03-22T07:44:27.786Z"
   },
   {
    "duration": 20,
    "start_time": "2022-03-22T07:44:27.807Z"
   },
   {
    "duration": 60,
    "start_time": "2022-03-22T07:44:27.829Z"
   },
   {
    "duration": 9,
    "start_time": "2022-03-22T07:44:27.892Z"
   },
   {
    "duration": 40,
    "start_time": "2022-03-22T07:44:27.904Z"
   },
   {
    "duration": 2793,
    "start_time": "2022-03-22T07:44:27.947Z"
   },
   {
    "duration": 967,
    "start_time": "2022-03-22T07:44:30.743Z"
   },
   {
    "duration": 19,
    "start_time": "2022-03-22T07:44:31.712Z"
   },
   {
    "duration": 14,
    "start_time": "2022-03-22T07:44:31.733Z"
   },
   {
    "duration": 506,
    "start_time": "2022-03-22T07:47:17.763Z"
   },
   {
    "duration": 466,
    "start_time": "2022-03-22T07:47:18.272Z"
   },
   {
    "duration": 25,
    "start_time": "2022-03-22T07:47:18.740Z"
   },
   {
    "duration": 33,
    "start_time": "2022-03-22T07:47:18.767Z"
   },
   {
    "duration": 43,
    "start_time": "2022-03-22T07:47:18.802Z"
   },
   {
    "duration": 40,
    "start_time": "2022-03-22T07:47:18.847Z"
   },
   {
    "duration": 34,
    "start_time": "2022-03-22T07:47:18.889Z"
   },
   {
    "duration": 22,
    "start_time": "2022-03-22T07:47:18.925Z"
   },
   {
    "duration": 49,
    "start_time": "2022-03-22T07:47:18.949Z"
   },
   {
    "duration": 25,
    "start_time": "2022-03-22T07:47:19.001Z"
   },
   {
    "duration": 51,
    "start_time": "2022-03-22T07:47:19.028Z"
   },
   {
    "duration": 12,
    "start_time": "2022-03-22T07:47:19.081Z"
   },
   {
    "duration": 45,
    "start_time": "2022-03-22T07:47:19.095Z"
   },
   {
    "duration": 80,
    "start_time": "2022-03-22T07:47:19.143Z"
   },
   {
    "duration": 13,
    "start_time": "2022-03-22T07:47:19.225Z"
   },
   {
    "duration": 52,
    "start_time": "2022-03-22T07:47:19.240Z"
   },
   {
    "duration": 105,
    "start_time": "2022-03-22T07:47:19.294Z"
   },
   {
    "duration": 42,
    "start_time": "2022-03-22T07:47:19.401Z"
   },
   {
    "duration": 35,
    "start_time": "2022-03-22T07:47:19.446Z"
   },
   {
    "duration": 47,
    "start_time": "2022-03-22T07:47:19.483Z"
   },
   {
    "duration": 79,
    "start_time": "2022-03-22T07:47:19.533Z"
   },
   {
    "duration": 49,
    "start_time": "2022-03-22T07:47:19.614Z"
   },
   {
    "duration": 10,
    "start_time": "2022-03-22T07:47:19.682Z"
   },
   {
    "duration": 60,
    "start_time": "2022-03-22T07:47:19.694Z"
   },
   {
    "duration": 30,
    "start_time": "2022-03-22T07:47:19.756Z"
   },
   {
    "duration": 19,
    "start_time": "2022-03-22T07:47:19.788Z"
   },
   {
    "duration": 46,
    "start_time": "2022-03-22T07:47:19.809Z"
   },
   {
    "duration": 38,
    "start_time": "2022-03-22T07:47:19.860Z"
   },
   {
    "duration": 14,
    "start_time": "2022-03-22T07:47:19.900Z"
   },
   {
    "duration": 48,
    "start_time": "2022-03-22T07:47:19.916Z"
   },
   {
    "duration": 21,
    "start_time": "2022-03-22T07:47:19.967Z"
   },
   {
    "duration": 2539,
    "start_time": "2022-03-22T07:47:19.990Z"
   },
   {
    "duration": 943,
    "start_time": "2022-03-22T07:47:22.531Z"
   },
   {
    "duration": 23,
    "start_time": "2022-03-22T07:47:23.476Z"
   },
   {
    "duration": 34,
    "start_time": "2022-03-22T07:47:23.501Z"
   },
   {
    "duration": 430,
    "start_time": "2022-03-22T10:58:11.010Z"
   },
   {
    "duration": 376,
    "start_time": "2022-03-22T10:58:11.442Z"
   },
   {
    "duration": 15,
    "start_time": "2022-03-22T10:58:11.820Z"
   },
   {
    "duration": 11,
    "start_time": "2022-03-22T10:58:11.838Z"
   },
   {
    "duration": 10,
    "start_time": "2022-03-22T10:58:11.851Z"
   },
   {
    "duration": 11,
    "start_time": "2022-03-22T10:58:11.862Z"
   },
   {
    "duration": 13,
    "start_time": "2022-03-22T10:58:11.874Z"
   },
   {
    "duration": 8,
    "start_time": "2022-03-22T10:58:11.889Z"
   },
   {
    "duration": 46,
    "start_time": "2022-03-22T10:58:11.899Z"
   },
   {
    "duration": 32,
    "start_time": "2022-03-22T10:58:11.948Z"
   },
   {
    "duration": 22,
    "start_time": "2022-03-22T10:58:11.982Z"
   },
   {
    "duration": 8,
    "start_time": "2022-03-22T10:58:12.005Z"
   },
   {
    "duration": 31,
    "start_time": "2022-03-22T10:58:12.015Z"
   },
   {
    "duration": 52,
    "start_time": "2022-03-22T10:58:12.047Z"
   },
   {
    "duration": 10,
    "start_time": "2022-03-22T10:58:12.100Z"
   },
   {
    "duration": 44,
    "start_time": "2022-03-22T10:58:12.112Z"
   },
   {
    "duration": 81,
    "start_time": "2022-03-22T10:58:12.157Z"
   },
   {
    "duration": 29,
    "start_time": "2022-03-22T10:58:12.240Z"
   },
   {
    "duration": 8,
    "start_time": "2022-03-22T10:58:12.271Z"
   },
   {
    "duration": 39,
    "start_time": "2022-03-22T10:58:12.281Z"
   },
   {
    "duration": 44,
    "start_time": "2022-03-22T10:58:12.338Z"
   },
   {
    "duration": 56,
    "start_time": "2022-03-22T10:58:12.383Z"
   },
   {
    "duration": 8,
    "start_time": "2022-03-22T10:58:12.440Z"
   },
   {
    "duration": 32,
    "start_time": "2022-03-22T10:58:12.449Z"
   },
   {
    "duration": 11,
    "start_time": "2022-03-22T10:58:12.483Z"
   },
   {
    "duration": 7,
    "start_time": "2022-03-22T10:58:12.496Z"
   },
   {
    "duration": 33,
    "start_time": "2022-03-22T10:58:12.505Z"
   },
   {
    "duration": 16,
    "start_time": "2022-03-22T10:58:12.542Z"
   },
   {
    "duration": 8,
    "start_time": "2022-03-22T10:58:12.560Z"
   },
   {
    "duration": 18,
    "start_time": "2022-03-22T10:58:12.569Z"
   },
   {
    "duration": 3,
    "start_time": "2022-03-22T10:58:12.588Z"
   },
   {
    "duration": 320,
    "start_time": "2022-03-22T10:58:12.592Z"
   },
   {
    "duration": 7635,
    "start_time": "2022-03-22T10:58:12.914Z"
   },
   {
    "duration": 0,
    "start_time": "2022-03-22T10:58:20.552Z"
   },
   {
    "duration": 0,
    "start_time": "2022-03-22T10:58:20.554Z"
   },
   {
    "duration": 412,
    "start_time": "2022-03-22T10:58:56.344Z"
   },
   {
    "duration": 389,
    "start_time": "2022-03-22T10:58:56.758Z"
   },
   {
    "duration": 17,
    "start_time": "2022-03-22T10:58:57.149Z"
   },
   {
    "duration": 11,
    "start_time": "2022-03-22T10:58:57.168Z"
   },
   {
    "duration": 12,
    "start_time": "2022-03-22T10:58:57.180Z"
   },
   {
    "duration": 11,
    "start_time": "2022-03-22T10:58:57.194Z"
   },
   {
    "duration": 33,
    "start_time": "2022-03-22T10:58:57.207Z"
   },
   {
    "duration": 7,
    "start_time": "2022-03-22T10:58:57.242Z"
   },
   {
    "duration": 23,
    "start_time": "2022-03-22T10:58:57.251Z"
   },
   {
    "duration": 8,
    "start_time": "2022-03-22T10:58:57.278Z"
   },
   {
    "duration": 24,
    "start_time": "2022-03-22T10:58:57.288Z"
   },
   {
    "duration": 29,
    "start_time": "2022-03-22T10:58:57.313Z"
   },
   {
    "duration": 29,
    "start_time": "2022-03-22T10:58:57.344Z"
   },
   {
    "duration": 70,
    "start_time": "2022-03-22T10:58:57.374Z"
   },
   {
    "duration": 10,
    "start_time": "2022-03-22T10:58:57.446Z"
   },
   {
    "duration": 29,
    "start_time": "2022-03-22T10:58:57.458Z"
   },
   {
    "duration": 94,
    "start_time": "2022-03-22T10:58:57.488Z"
   },
   {
    "duration": 31,
    "start_time": "2022-03-22T10:58:57.583Z"
   },
   {
    "duration": 23,
    "start_time": "2022-03-22T10:58:57.616Z"
   },
   {
    "duration": 37,
    "start_time": "2022-03-22T10:58:57.641Z"
   },
   {
    "duration": 67,
    "start_time": "2022-03-22T10:58:57.679Z"
   },
   {
    "duration": 36,
    "start_time": "2022-03-22T10:58:57.749Z"
   },
   {
    "duration": 7,
    "start_time": "2022-03-22T10:58:57.787Z"
   },
   {
    "duration": 51,
    "start_time": "2022-03-22T10:58:57.796Z"
   },
   {
    "duration": 12,
    "start_time": "2022-03-22T10:58:57.848Z"
   },
   {
    "duration": 4,
    "start_time": "2022-03-22T10:58:57.862Z"
   },
   {
    "duration": 13,
    "start_time": "2022-03-22T10:58:57.868Z"
   },
   {
    "duration": 15,
    "start_time": "2022-03-22T10:58:57.883Z"
   },
   {
    "duration": 6,
    "start_time": "2022-03-22T10:58:57.899Z"
   },
   {
    "duration": 40,
    "start_time": "2022-03-22T10:58:57.906Z"
   },
   {
    "duration": 3,
    "start_time": "2022-03-22T10:58:57.947Z"
   },
   {
    "duration": 322,
    "start_time": "2022-03-22T10:58:57.951Z"
   },
   {
    "duration": 2,
    "start_time": "2022-03-22T10:58:58.274Z"
   },
   {
    "duration": 24,
    "start_time": "2022-03-22T10:58:58.278Z"
   },
   {
    "duration": 4,
    "start_time": "2022-03-22T10:58:58.304Z"
   },
   {
    "duration": 429,
    "start_time": "2022-03-22T11:00:06.159Z"
   },
   {
    "duration": 435,
    "start_time": "2022-03-22T11:00:06.590Z"
   },
   {
    "duration": 26,
    "start_time": "2022-03-22T11:00:07.027Z"
   },
   {
    "duration": 20,
    "start_time": "2022-03-22T11:00:07.056Z"
   },
   {
    "duration": 18,
    "start_time": "2022-03-22T11:00:07.078Z"
   },
   {
    "duration": 24,
    "start_time": "2022-03-22T11:00:07.098Z"
   },
   {
    "duration": 25,
    "start_time": "2022-03-22T11:00:07.124Z"
   },
   {
    "duration": 12,
    "start_time": "2022-03-22T11:00:07.151Z"
   },
   {
    "duration": 36,
    "start_time": "2022-03-22T11:00:07.164Z"
   },
   {
    "duration": 11,
    "start_time": "2022-03-22T11:00:07.203Z"
   },
   {
    "duration": 26,
    "start_time": "2022-03-22T11:00:07.216Z"
   },
   {
    "duration": 9,
    "start_time": "2022-03-22T11:00:07.244Z"
   },
   {
    "duration": 35,
    "start_time": "2022-03-22T11:00:07.254Z"
   },
   {
    "duration": 67,
    "start_time": "2022-03-22T11:00:07.291Z"
   },
   {
    "duration": 10,
    "start_time": "2022-03-22T11:00:07.360Z"
   },
   {
    "duration": 33,
    "start_time": "2022-03-22T11:00:07.371Z"
   },
   {
    "duration": 95,
    "start_time": "2022-03-22T11:00:07.405Z"
   },
   {
    "duration": 36,
    "start_time": "2022-03-22T11:00:07.502Z"
   },
   {
    "duration": 12,
    "start_time": "2022-03-22T11:00:07.541Z"
   },
   {
    "duration": 46,
    "start_time": "2022-03-22T11:00:07.555Z"
   },
   {
    "duration": 56,
    "start_time": "2022-03-22T11:00:07.603Z"
   },
   {
    "duration": 40,
    "start_time": "2022-03-22T11:00:07.661Z"
   },
   {
    "duration": 10,
    "start_time": "2022-03-22T11:00:07.703Z"
   },
   {
    "duration": 45,
    "start_time": "2022-03-22T11:00:07.737Z"
   },
   {
    "duration": 12,
    "start_time": "2022-03-22T11:00:07.784Z"
   },
   {
    "duration": 21,
    "start_time": "2022-03-22T11:00:07.798Z"
   },
   {
    "duration": 25,
    "start_time": "2022-03-22T11:00:07.821Z"
   },
   {
    "duration": 27,
    "start_time": "2022-03-22T11:00:07.850Z"
   },
   {
    "duration": 10,
    "start_time": "2022-03-22T11:00:07.879Z"
   },
   {
    "duration": 21,
    "start_time": "2022-03-22T11:00:07.891Z"
   },
   {
    "duration": 80,
    "start_time": "2022-03-22T11:00:07.914Z"
   },
   {
    "duration": 331,
    "start_time": "2022-03-22T11:00:07.995Z"
   },
   {
    "duration": 2,
    "start_time": "2022-03-22T11:00:08.328Z"
   },
   {
    "duration": 24,
    "start_time": "2022-03-22T11:00:08.332Z"
   },
   {
    "duration": 9,
    "start_time": "2022-03-22T11:00:08.358Z"
   },
   {
    "duration": 26,
    "start_time": "2022-03-22T11:01:01.039Z"
   },
   {
    "duration": 379,
    "start_time": "2022-03-22T11:01:16.896Z"
   },
   {
    "duration": 384,
    "start_time": "2022-03-22T11:01:17.277Z"
   },
   {
    "duration": 18,
    "start_time": "2022-03-22T11:01:17.663Z"
   },
   {
    "duration": 31,
    "start_time": "2022-03-22T11:01:17.683Z"
   },
   {
    "duration": 38,
    "start_time": "2022-03-22T11:01:17.716Z"
   },
   {
    "duration": 43,
    "start_time": "2022-03-22T11:01:17.756Z"
   },
   {
    "duration": 30,
    "start_time": "2022-03-22T11:01:17.801Z"
   },
   {
    "duration": 30,
    "start_time": "2022-03-22T11:01:17.833Z"
   },
   {
    "duration": 40,
    "start_time": "2022-03-22T11:01:17.865Z"
   },
   {
    "duration": 23,
    "start_time": "2022-03-22T11:01:17.909Z"
   },
   {
    "duration": 52,
    "start_time": "2022-03-22T11:01:17.934Z"
   },
   {
    "duration": 20,
    "start_time": "2022-03-22T11:01:17.988Z"
   },
   {
    "duration": 42,
    "start_time": "2022-03-22T11:01:18.010Z"
   },
   {
    "duration": 54,
    "start_time": "2022-03-22T11:01:18.054Z"
   },
   {
    "duration": 10,
    "start_time": "2022-03-22T11:01:18.110Z"
   },
   {
    "duration": 44,
    "start_time": "2022-03-22T11:01:18.121Z"
   },
   {
    "duration": 87,
    "start_time": "2022-03-22T11:01:18.168Z"
   },
   {
    "duration": 30,
    "start_time": "2022-03-22T11:01:18.258Z"
   },
   {
    "duration": 9,
    "start_time": "2022-03-22T11:01:18.290Z"
   },
   {
    "duration": 59,
    "start_time": "2022-03-22T11:01:18.300Z"
   },
   {
    "duration": 43,
    "start_time": "2022-03-22T11:01:18.361Z"
   },
   {
    "duration": 54,
    "start_time": "2022-03-22T11:01:18.405Z"
   },
   {
    "duration": 7,
    "start_time": "2022-03-22T11:01:18.461Z"
   },
   {
    "duration": 33,
    "start_time": "2022-03-22T11:01:18.470Z"
   },
   {
    "duration": 10,
    "start_time": "2022-03-22T11:01:18.504Z"
   },
   {
    "duration": 2,
    "start_time": "2022-03-22T11:01:18.537Z"
   },
   {
    "duration": 24,
    "start_time": "2022-03-22T11:01:18.541Z"
   },
   {
    "duration": 20,
    "start_time": "2022-03-22T11:01:18.568Z"
   },
   {
    "duration": 7,
    "start_time": "2022-03-22T11:01:18.589Z"
   },
   {
    "duration": 12,
    "start_time": "2022-03-22T11:01:18.598Z"
   },
   {
    "duration": 8,
    "start_time": "2022-03-22T11:01:18.612Z"
   },
   {
    "duration": 300,
    "start_time": "2022-03-22T11:01:18.622Z"
   },
   {
    "duration": 3,
    "start_time": "2022-03-22T11:01:18.924Z"
   },
   {
    "duration": 19,
    "start_time": "2022-03-22T11:01:18.929Z"
   },
   {
    "duration": 3,
    "start_time": "2022-03-22T11:01:18.950Z"
   },
   {
    "duration": 439,
    "start_time": "2022-03-22T11:06:12.916Z"
   },
   {
    "duration": 397,
    "start_time": "2022-03-22T11:06:13.357Z"
   },
   {
    "duration": 18,
    "start_time": "2022-03-22T11:06:13.759Z"
   },
   {
    "duration": 37,
    "start_time": "2022-03-22T11:06:13.778Z"
   },
   {
    "duration": 57,
    "start_time": "2022-03-22T11:06:13.817Z"
   },
   {
    "duration": 55,
    "start_time": "2022-03-22T11:06:13.876Z"
   },
   {
    "duration": 43,
    "start_time": "2022-03-22T11:06:13.933Z"
   },
   {
    "duration": 31,
    "start_time": "2022-03-22T11:06:13.977Z"
   },
   {
    "duration": 46,
    "start_time": "2022-03-22T11:06:14.011Z"
   },
   {
    "duration": 49,
    "start_time": "2022-03-22T11:06:14.059Z"
   },
   {
    "duration": 42,
    "start_time": "2022-03-22T11:06:14.110Z"
   },
   {
    "duration": 30,
    "start_time": "2022-03-22T11:06:14.154Z"
   },
   {
    "duration": 28,
    "start_time": "2022-03-22T11:06:14.185Z"
   },
   {
    "duration": 53,
    "start_time": "2022-03-22T11:06:14.215Z"
   },
   {
    "duration": 9,
    "start_time": "2022-03-22T11:06:14.270Z"
   },
   {
    "duration": 28,
    "start_time": "2022-03-22T11:06:14.281Z"
   },
   {
    "duration": 84,
    "start_time": "2022-03-22T11:06:14.311Z"
   },
   {
    "duration": 29,
    "start_time": "2022-03-22T11:06:14.397Z"
   },
   {
    "duration": 8,
    "start_time": "2022-03-22T11:06:14.438Z"
   },
   {
    "duration": 38,
    "start_time": "2022-03-22T11:06:14.448Z"
   },
   {
    "duration": 62,
    "start_time": "2022-03-22T11:06:14.488Z"
   },
   {
    "duration": 40,
    "start_time": "2022-03-22T11:06:14.552Z"
   },
   {
    "duration": 6,
    "start_time": "2022-03-22T11:06:14.594Z"
   },
   {
    "duration": 54,
    "start_time": "2022-03-22T11:06:14.602Z"
   },
   {
    "duration": 12,
    "start_time": "2022-03-22T11:06:14.658Z"
   },
   {
    "duration": 2,
    "start_time": "2022-03-22T11:06:14.672Z"
   },
   {
    "duration": 14,
    "start_time": "2022-03-22T11:06:14.677Z"
   },
   {
    "duration": 20,
    "start_time": "2022-03-22T11:06:14.693Z"
   },
   {
    "duration": 8,
    "start_time": "2022-03-22T11:06:14.738Z"
   },
   {
    "duration": 5,
    "start_time": "2022-03-22T11:06:14.747Z"
   },
   {
    "duration": 6,
    "start_time": "2022-03-22T11:06:14.754Z"
   },
   {
    "duration": 358,
    "start_time": "2022-03-22T11:06:14.762Z"
   },
   {
    "duration": 3,
    "start_time": "2022-03-22T11:06:15.122Z"
   },
   {
    "duration": 30,
    "start_time": "2022-03-22T11:06:15.126Z"
   },
   {
    "duration": 21,
    "start_time": "2022-03-22T11:06:15.158Z"
   },
   {
    "duration": 385,
    "start_time": "2022-03-22T11:08:17.065Z"
   },
   {
    "duration": 400,
    "start_time": "2022-03-22T11:08:17.452Z"
   },
   {
    "duration": 17,
    "start_time": "2022-03-22T11:08:17.853Z"
   },
   {
    "duration": 11,
    "start_time": "2022-03-22T11:08:17.872Z"
   },
   {
    "duration": 9,
    "start_time": "2022-03-22T11:08:17.885Z"
   },
   {
    "duration": 13,
    "start_time": "2022-03-22T11:08:17.895Z"
   },
   {
    "duration": 35,
    "start_time": "2022-03-22T11:08:17.911Z"
   },
   {
    "duration": 8,
    "start_time": "2022-03-22T11:08:17.947Z"
   },
   {
    "duration": 21,
    "start_time": "2022-03-22T11:08:17.957Z"
   },
   {
    "duration": 9,
    "start_time": "2022-03-22T11:08:17.980Z"
   },
   {
    "duration": 25,
    "start_time": "2022-03-22T11:08:17.990Z"
   },
   {
    "duration": 8,
    "start_time": "2022-03-22T11:08:18.038Z"
   },
   {
    "duration": 30,
    "start_time": "2022-03-22T11:08:18.048Z"
   },
   {
    "duration": 67,
    "start_time": "2022-03-22T11:08:18.080Z"
   },
   {
    "duration": 10,
    "start_time": "2022-03-22T11:08:18.148Z"
   },
   {
    "duration": 30,
    "start_time": "2022-03-22T11:08:18.159Z"
   },
   {
    "duration": 95,
    "start_time": "2022-03-22T11:08:18.191Z"
   },
   {
    "duration": 29,
    "start_time": "2022-03-22T11:08:18.287Z"
   },
   {
    "duration": 24,
    "start_time": "2022-03-22T11:08:18.318Z"
   },
   {
    "duration": 38,
    "start_time": "2022-03-22T11:08:18.344Z"
   },
   {
    "duration": 55,
    "start_time": "2022-03-22T11:08:18.384Z"
   },
   {
    "duration": 38,
    "start_time": "2022-03-22T11:08:18.440Z"
   },
   {
    "duration": 7,
    "start_time": "2022-03-22T11:08:18.480Z"
   },
   {
    "duration": 49,
    "start_time": "2022-03-22T11:08:18.488Z"
   },
   {
    "duration": 11,
    "start_time": "2022-03-22T11:08:18.539Z"
   },
   {
    "duration": 6,
    "start_time": "2022-03-22T11:08:18.552Z"
   },
   {
    "duration": 13,
    "start_time": "2022-03-22T11:08:18.559Z"
   },
   {
    "duration": 18,
    "start_time": "2022-03-22T11:08:18.575Z"
   },
   {
    "duration": 6,
    "start_time": "2022-03-22T11:08:18.595Z"
   },
   {
    "duration": 5,
    "start_time": "2022-03-22T11:08:18.602Z"
   },
   {
    "duration": 29,
    "start_time": "2022-03-22T11:08:18.609Z"
   },
   {
    "duration": 307,
    "start_time": "2022-03-22T11:08:18.640Z"
   },
   {
    "duration": 3,
    "start_time": "2022-03-22T11:08:18.949Z"
   },
   {
    "duration": 17,
    "start_time": "2022-03-22T11:08:18.953Z"
   },
   {
    "duration": 3,
    "start_time": "2022-03-22T11:08:18.971Z"
   },
   {
    "duration": 362,
    "start_time": "2022-03-22T11:11:48.582Z"
   },
   {
    "duration": 383,
    "start_time": "2022-03-22T11:11:48.946Z"
   },
   {
    "duration": 16,
    "start_time": "2022-03-22T11:11:49.331Z"
   },
   {
    "duration": 11,
    "start_time": "2022-03-22T11:11:49.349Z"
   },
   {
    "duration": 14,
    "start_time": "2022-03-22T11:11:49.361Z"
   },
   {
    "duration": 12,
    "start_time": "2022-03-22T11:11:49.376Z"
   },
   {
    "duration": 12,
    "start_time": "2022-03-22T11:11:49.389Z"
   },
   {
    "duration": 7,
    "start_time": "2022-03-22T11:11:49.402Z"
   },
   {
    "duration": 43,
    "start_time": "2022-03-22T11:11:49.411Z"
   },
   {
    "duration": 8,
    "start_time": "2022-03-22T11:11:49.458Z"
   },
   {
    "duration": 23,
    "start_time": "2022-03-22T11:11:49.468Z"
   },
   {
    "duration": 8,
    "start_time": "2022-03-22T11:11:49.492Z"
   },
   {
    "duration": 54,
    "start_time": "2022-03-22T11:11:49.501Z"
   },
   {
    "duration": 51,
    "start_time": "2022-03-22T11:11:49.556Z"
   },
   {
    "duration": 9,
    "start_time": "2022-03-22T11:11:49.609Z"
   },
   {
    "duration": 43,
    "start_time": "2022-03-22T11:11:49.619Z"
   },
   {
    "duration": 82,
    "start_time": "2022-03-22T11:11:49.663Z"
   },
   {
    "duration": 28,
    "start_time": "2022-03-22T11:11:49.747Z"
   },
   {
    "duration": 8,
    "start_time": "2022-03-22T11:11:49.777Z"
   },
   {
    "duration": 56,
    "start_time": "2022-03-22T11:11:49.786Z"
   },
   {
    "duration": 43,
    "start_time": "2022-03-22T11:11:49.844Z"
   },
   {
    "duration": 54,
    "start_time": "2022-03-22T11:11:49.888Z"
   },
   {
    "duration": 7,
    "start_time": "2022-03-22T11:11:49.943Z"
   },
   {
    "duration": 31,
    "start_time": "2022-03-22T11:11:49.951Z"
   },
   {
    "duration": 11,
    "start_time": "2022-03-22T11:11:49.983Z"
   },
   {
    "duration": 5,
    "start_time": "2022-03-22T11:11:49.995Z"
   },
   {
    "duration": 36,
    "start_time": "2022-03-22T11:11:50.002Z"
   },
   {
    "duration": 20,
    "start_time": "2022-03-22T11:11:50.042Z"
   },
   {
    "duration": 7,
    "start_time": "2022-03-22T11:11:50.063Z"
   },
   {
    "duration": 10,
    "start_time": "2022-03-22T11:11:50.071Z"
   },
   {
    "duration": 5,
    "start_time": "2022-03-22T11:11:50.083Z"
   },
   {
    "duration": 4004,
    "start_time": "2022-03-22T11:11:50.089Z"
   },
   {
    "duration": 0,
    "start_time": "2022-03-22T11:11:54.095Z"
   },
   {
    "duration": 0,
    "start_time": "2022-03-22T11:11:54.096Z"
   },
   {
    "duration": 0,
    "start_time": "2022-03-22T11:11:54.096Z"
   },
   {
    "duration": 2477,
    "start_time": "2022-03-22T11:12:17.733Z"
   },
   {
    "duration": 421,
    "start_time": "2022-03-22T11:12:48.718Z"
   },
   {
    "duration": 406,
    "start_time": "2022-03-22T11:12:49.141Z"
   },
   {
    "duration": 18,
    "start_time": "2022-03-22T11:12:49.548Z"
   },
   {
    "duration": 35,
    "start_time": "2022-03-22T11:12:49.568Z"
   },
   {
    "duration": 28,
    "start_time": "2022-03-22T11:12:49.605Z"
   },
   {
    "duration": 19,
    "start_time": "2022-03-22T11:12:49.634Z"
   },
   {
    "duration": 30,
    "start_time": "2022-03-22T11:12:49.655Z"
   },
   {
    "duration": 7,
    "start_time": "2022-03-22T11:12:49.687Z"
   },
   {
    "duration": 24,
    "start_time": "2022-03-22T11:12:49.696Z"
   },
   {
    "duration": 9,
    "start_time": "2022-03-22T11:12:49.723Z"
   },
   {
    "duration": 27,
    "start_time": "2022-03-22T11:12:49.734Z"
   },
   {
    "duration": 8,
    "start_time": "2022-03-22T11:12:49.763Z"
   },
   {
    "duration": 29,
    "start_time": "2022-03-22T11:12:49.773Z"
   },
   {
    "duration": 69,
    "start_time": "2022-03-22T11:12:49.804Z"
   },
   {
    "duration": 9,
    "start_time": "2022-03-22T11:12:49.875Z"
   },
   {
    "duration": 34,
    "start_time": "2022-03-22T11:12:49.886Z"
   },
   {
    "duration": 90,
    "start_time": "2022-03-22T11:12:49.921Z"
   },
   {
    "duration": 45,
    "start_time": "2022-03-22T11:12:50.014Z"
   },
   {
    "duration": 8,
    "start_time": "2022-03-22T11:12:50.061Z"
   },
   {
    "duration": 49,
    "start_time": "2022-03-22T11:12:50.070Z"
   },
   {
    "duration": 51,
    "start_time": "2022-03-22T11:12:50.121Z"
   },
   {
    "duration": 38,
    "start_time": "2022-03-22T11:12:50.174Z"
   },
   {
    "duration": 24,
    "start_time": "2022-03-22T11:12:50.214Z"
   },
   {
    "duration": 30,
    "start_time": "2022-03-22T11:12:50.240Z"
   },
   {
    "duration": 11,
    "start_time": "2022-03-22T11:12:50.272Z"
   },
   {
    "duration": 18,
    "start_time": "2022-03-22T11:12:50.286Z"
   },
   {
    "duration": 21,
    "start_time": "2022-03-22T11:12:50.306Z"
   },
   {
    "duration": 53,
    "start_time": "2022-03-22T11:12:50.337Z"
   },
   {
    "duration": 8,
    "start_time": "2022-03-22T11:12:50.392Z"
   },
   {
    "duration": 5,
    "start_time": "2022-03-22T11:12:50.401Z"
   },
   {
    "duration": 9,
    "start_time": "2022-03-22T11:12:50.408Z"
   },
   {
    "duration": 2980,
    "start_time": "2022-03-22T11:12:50.419Z"
   },
   {
    "duration": 0,
    "start_time": "2022-03-22T11:12:53.400Z"
   },
   {
    "duration": 0,
    "start_time": "2022-03-22T11:12:53.402Z"
   },
   {
    "duration": 0,
    "start_time": "2022-03-22T11:12:53.403Z"
   },
   {
    "duration": 0,
    "start_time": "2022-03-22T11:12:53.403Z"
   },
   {
    "duration": 408,
    "start_time": "2022-03-22T11:14:03.380Z"
   },
   {
    "duration": 400,
    "start_time": "2022-03-22T11:14:03.790Z"
   },
   {
    "duration": 16,
    "start_time": "2022-03-22T11:14:04.191Z"
   },
   {
    "duration": 13,
    "start_time": "2022-03-22T11:14:04.210Z"
   },
   {
    "duration": 10,
    "start_time": "2022-03-22T11:14:04.238Z"
   },
   {
    "duration": 14,
    "start_time": "2022-03-22T11:14:04.250Z"
   },
   {
    "duration": 19,
    "start_time": "2022-03-22T11:14:04.266Z"
   },
   {
    "duration": 9,
    "start_time": "2022-03-22T11:14:04.287Z"
   },
   {
    "duration": 52,
    "start_time": "2022-03-22T11:14:04.298Z"
   },
   {
    "duration": 13,
    "start_time": "2022-03-22T11:14:04.354Z"
   },
   {
    "duration": 35,
    "start_time": "2022-03-22T11:14:04.369Z"
   },
   {
    "duration": 8,
    "start_time": "2022-03-22T11:14:04.406Z"
   },
   {
    "duration": 26,
    "start_time": "2022-03-22T11:14:04.437Z"
   },
   {
    "duration": 51,
    "start_time": "2022-03-22T11:14:04.465Z"
   },
   {
    "duration": 22,
    "start_time": "2022-03-22T11:14:04.518Z"
   },
   {
    "duration": 36,
    "start_time": "2022-03-22T11:14:04.542Z"
   },
   {
    "duration": 89,
    "start_time": "2022-03-22T11:14:04.579Z"
   },
   {
    "duration": 28,
    "start_time": "2022-03-22T11:14:04.670Z"
   },
   {
    "duration": 7,
    "start_time": "2022-03-22T11:14:04.700Z"
   },
   {
    "duration": 62,
    "start_time": "2022-03-22T11:14:04.709Z"
   },
   {
    "duration": 41,
    "start_time": "2022-03-22T11:14:04.772Z"
   },
   {
    "duration": 53,
    "start_time": "2022-03-22T11:14:04.815Z"
   },
   {
    "duration": 7,
    "start_time": "2022-03-22T11:14:04.869Z"
   },
   {
    "duration": 31,
    "start_time": "2022-03-22T11:14:04.877Z"
   },
   {
    "duration": 36,
    "start_time": "2022-03-22T11:14:04.909Z"
   },
   {
    "duration": 4,
    "start_time": "2022-03-22T11:14:04.947Z"
   },
   {
    "duration": 13,
    "start_time": "2022-03-22T11:14:04.953Z"
   },
   {
    "duration": 19,
    "start_time": "2022-03-22T11:14:04.969Z"
   },
   {
    "duration": 6,
    "start_time": "2022-03-22T11:14:04.989Z"
   },
   {
    "duration": 6,
    "start_time": "2022-03-22T11:14:04.997Z"
   },
   {
    "duration": 33,
    "start_time": "2022-03-22T11:14:05.005Z"
   },
   {
    "duration": 314,
    "start_time": "2022-03-22T11:14:05.040Z"
   },
   {
    "duration": 2211,
    "start_time": "2022-03-22T11:14:05.355Z"
   },
   {
    "duration": 0,
    "start_time": "2022-03-22T11:14:07.568Z"
   },
   {
    "duration": 0,
    "start_time": "2022-03-22T11:14:07.569Z"
   },
   {
    "duration": 0,
    "start_time": "2022-03-22T11:14:07.571Z"
   },
   {
    "duration": 377,
    "start_time": "2022-03-22T11:15:04.376Z"
   },
   {
    "duration": 391,
    "start_time": "2022-03-22T11:15:04.755Z"
   },
   {
    "duration": 16,
    "start_time": "2022-03-22T11:15:05.147Z"
   },
   {
    "duration": 27,
    "start_time": "2022-03-22T11:15:05.165Z"
   },
   {
    "duration": 27,
    "start_time": "2022-03-22T11:15:05.194Z"
   },
   {
    "duration": 20,
    "start_time": "2022-03-22T11:15:05.223Z"
   },
   {
    "duration": 36,
    "start_time": "2022-03-22T11:15:05.245Z"
   },
   {
    "duration": 23,
    "start_time": "2022-03-22T11:15:05.283Z"
   },
   {
    "duration": 37,
    "start_time": "2022-03-22T11:15:05.307Z"
   },
   {
    "duration": 20,
    "start_time": "2022-03-22T11:15:05.348Z"
   },
   {
    "duration": 31,
    "start_time": "2022-03-22T11:15:05.370Z"
   },
   {
    "duration": 8,
    "start_time": "2022-03-22T11:15:05.403Z"
   },
   {
    "duration": 49,
    "start_time": "2022-03-22T11:15:05.412Z"
   },
   {
    "duration": 55,
    "start_time": "2022-03-22T11:15:05.463Z"
   },
   {
    "duration": 20,
    "start_time": "2022-03-22T11:15:05.520Z"
   },
   {
    "duration": 53,
    "start_time": "2022-03-22T11:15:05.541Z"
   },
   {
    "duration": 78,
    "start_time": "2022-03-22T11:15:05.596Z"
   },
   {
    "duration": 27,
    "start_time": "2022-03-22T11:15:05.676Z"
   },
   {
    "duration": 8,
    "start_time": "2022-03-22T11:15:05.705Z"
   },
   {
    "duration": 59,
    "start_time": "2022-03-22T11:15:05.714Z"
   },
   {
    "duration": 42,
    "start_time": "2022-03-22T11:15:05.774Z"
   },
   {
    "duration": 52,
    "start_time": "2022-03-22T11:15:05.817Z"
   },
   {
    "duration": 7,
    "start_time": "2022-03-22T11:15:05.870Z"
   },
   {
    "duration": 40,
    "start_time": "2022-03-22T11:15:05.879Z"
   },
   {
    "duration": 26,
    "start_time": "2022-03-22T11:15:05.920Z"
   },
   {
    "duration": 3,
    "start_time": "2022-03-22T11:15:05.947Z"
   },
   {
    "duration": 30,
    "start_time": "2022-03-22T11:15:05.951Z"
   },
   {
    "duration": 28,
    "start_time": "2022-03-22T11:15:05.984Z"
   },
   {
    "duration": 11,
    "start_time": "2022-03-22T11:15:06.013Z"
   },
   {
    "duration": 16,
    "start_time": "2022-03-22T11:15:06.025Z"
   },
   {
    "duration": 18,
    "start_time": "2022-03-22T11:15:06.043Z"
   },
   {
    "duration": 312,
    "start_time": "2022-03-22T11:15:06.063Z"
   },
   {
    "duration": 428,
    "start_time": "2022-03-22T11:15:56.513Z"
   },
   {
    "duration": 403,
    "start_time": "2022-03-22T11:15:56.943Z"
   },
   {
    "duration": 17,
    "start_time": "2022-03-22T11:15:57.347Z"
   },
   {
    "duration": 27,
    "start_time": "2022-03-22T11:15:57.366Z"
   },
   {
    "duration": 32,
    "start_time": "2022-03-22T11:15:57.394Z"
   },
   {
    "duration": 20,
    "start_time": "2022-03-22T11:15:57.427Z"
   },
   {
    "duration": 28,
    "start_time": "2022-03-22T11:15:57.448Z"
   },
   {
    "duration": 29,
    "start_time": "2022-03-22T11:15:57.478Z"
   },
   {
    "duration": 33,
    "start_time": "2022-03-22T11:15:57.508Z"
   },
   {
    "duration": 16,
    "start_time": "2022-03-22T11:15:57.543Z"
   },
   {
    "duration": 38,
    "start_time": "2022-03-22T11:15:57.561Z"
   },
   {
    "duration": 8,
    "start_time": "2022-03-22T11:15:57.601Z"
   },
   {
    "duration": 44,
    "start_time": "2022-03-22T11:15:57.610Z"
   },
   {
    "duration": 55,
    "start_time": "2022-03-22T11:15:57.656Z"
   },
   {
    "duration": 24,
    "start_time": "2022-03-22T11:15:57.713Z"
   },
   {
    "duration": 28,
    "start_time": "2022-03-22T11:15:57.740Z"
   },
   {
    "duration": 98,
    "start_time": "2022-03-22T11:15:57.770Z"
   },
   {
    "duration": 29,
    "start_time": "2022-03-22T11:15:57.870Z"
   },
   {
    "duration": 8,
    "start_time": "2022-03-22T11:15:57.900Z"
   },
   {
    "duration": 55,
    "start_time": "2022-03-22T11:15:57.910Z"
   },
   {
    "duration": 42,
    "start_time": "2022-03-22T11:15:57.967Z"
   },
   {
    "duration": 56,
    "start_time": "2022-03-22T11:15:58.011Z"
   },
   {
    "duration": 7,
    "start_time": "2022-03-22T11:15:58.069Z"
   },
   {
    "duration": 32,
    "start_time": "2022-03-22T11:15:58.077Z"
   },
   {
    "duration": 33,
    "start_time": "2022-03-22T11:15:58.111Z"
   },
   {
    "duration": 13,
    "start_time": "2022-03-22T11:15:58.146Z"
   },
   {
    "duration": 19,
    "start_time": "2022-03-22T11:15:58.161Z"
   },
   {
    "duration": 19,
    "start_time": "2022-03-22T11:15:58.183Z"
   },
   {
    "duration": 6,
    "start_time": "2022-03-22T11:15:58.203Z"
   },
   {
    "duration": 6,
    "start_time": "2022-03-22T11:15:58.211Z"
   },
   {
    "duration": 20,
    "start_time": "2022-03-22T11:15:58.219Z"
   },
   {
    "duration": 319,
    "start_time": "2022-03-22T11:15:58.240Z"
   },
   {
    "duration": 56568,
    "start_time": "2022-03-22T11:15:58.561Z"
   },
   {
    "duration": 2,
    "start_time": "2022-03-22T11:16:55.131Z"
   },
   {
    "duration": 18,
    "start_time": "2022-03-22T11:16:55.135Z"
   },
   {
    "duration": 9,
    "start_time": "2022-03-22T11:16:55.155Z"
   },
   {
    "duration": 394,
    "start_time": "2022-03-22T11:16:57.461Z"
   },
   {
    "duration": 414,
    "start_time": "2022-03-22T11:16:57.856Z"
   },
   {
    "duration": 16,
    "start_time": "2022-03-22T11:16:58.272Z"
   },
   {
    "duration": 13,
    "start_time": "2022-03-22T11:16:58.290Z"
   },
   {
    "duration": 15,
    "start_time": "2022-03-22T11:16:58.305Z"
   },
   {
    "duration": 20,
    "start_time": "2022-03-22T11:16:58.322Z"
   },
   {
    "duration": 16,
    "start_time": "2022-03-22T11:16:58.344Z"
   },
   {
    "duration": 8,
    "start_time": "2022-03-22T11:16:58.362Z"
   },
   {
    "duration": 27,
    "start_time": "2022-03-22T11:16:58.372Z"
   },
   {
    "duration": 35,
    "start_time": "2022-03-22T11:16:58.404Z"
   },
   {
    "duration": 23,
    "start_time": "2022-03-22T11:16:58.441Z"
   },
   {
    "duration": 9,
    "start_time": "2022-03-22T11:16:58.466Z"
   },
   {
    "duration": 30,
    "start_time": "2022-03-22T11:16:58.477Z"
   },
   {
    "duration": 77,
    "start_time": "2022-03-22T11:16:58.509Z"
   },
   {
    "duration": 10,
    "start_time": "2022-03-22T11:16:58.588Z"
   },
   {
    "duration": 48,
    "start_time": "2022-03-22T11:16:58.599Z"
   },
   {
    "duration": 78,
    "start_time": "2022-03-22T11:16:58.648Z"
   },
   {
    "duration": 38,
    "start_time": "2022-03-22T11:16:58.728Z"
   },
   {
    "duration": 8,
    "start_time": "2022-03-22T11:16:58.767Z"
   },
   {
    "duration": 63,
    "start_time": "2022-03-22T11:16:58.777Z"
   },
   {
    "duration": 43,
    "start_time": "2022-03-22T11:16:58.841Z"
   },
   {
    "duration": 38,
    "start_time": "2022-03-22T11:16:58.886Z"
   },
   {
    "duration": 7,
    "start_time": "2022-03-22T11:16:58.938Z"
   },
   {
    "duration": 36,
    "start_time": "2022-03-22T11:16:58.947Z"
   },
   {
    "duration": 16,
    "start_time": "2022-03-22T11:16:58.984Z"
   },
   {
    "duration": 23,
    "start_time": "2022-03-22T11:16:59.001Z"
   },
   {
    "duration": 23,
    "start_time": "2022-03-22T11:16:59.026Z"
   },
   {
    "duration": 44,
    "start_time": "2022-03-22T11:16:59.052Z"
   },
   {
    "duration": 18,
    "start_time": "2022-03-22T11:16:59.098Z"
   },
   {
    "duration": 13,
    "start_time": "2022-03-22T11:16:59.117Z"
   },
   {
    "duration": 25,
    "start_time": "2022-03-22T11:16:59.132Z"
   },
   {
    "duration": 323,
    "start_time": "2022-03-22T11:16:59.158Z"
   },
   {
    "duration": 56576,
    "start_time": "2022-03-22T11:16:59.483Z"
   },
   {
    "duration": 2,
    "start_time": "2022-03-22T11:17:56.061Z"
   },
   {
    "duration": 44,
    "start_time": "2022-03-22T11:17:56.065Z"
   },
   {
    "duration": 31,
    "start_time": "2022-03-22T11:17:56.111Z"
   },
   {
    "duration": 421,
    "start_time": "2022-03-22T11:26:35.621Z"
   },
   {
    "duration": 390,
    "start_time": "2022-03-22T11:26:36.044Z"
   },
   {
    "duration": 17,
    "start_time": "2022-03-22T11:26:36.435Z"
   },
   {
    "duration": 29,
    "start_time": "2022-03-22T11:26:36.454Z"
   },
   {
    "duration": 39,
    "start_time": "2022-03-22T11:26:36.484Z"
   },
   {
    "duration": 36,
    "start_time": "2022-03-22T11:26:36.525Z"
   },
   {
    "duration": 33,
    "start_time": "2022-03-22T11:26:36.562Z"
   },
   {
    "duration": 19,
    "start_time": "2022-03-22T11:26:36.598Z"
   },
   {
    "duration": 39,
    "start_time": "2022-03-22T11:26:36.619Z"
   },
   {
    "duration": 17,
    "start_time": "2022-03-22T11:26:36.661Z"
   },
   {
    "duration": 67,
    "start_time": "2022-03-22T11:26:36.680Z"
   },
   {
    "duration": 13,
    "start_time": "2022-03-22T11:26:36.749Z"
   },
   {
    "duration": 38,
    "start_time": "2022-03-22T11:26:36.763Z"
   },
   {
    "duration": 53,
    "start_time": "2022-03-22T11:26:36.802Z"
   },
   {
    "duration": 9,
    "start_time": "2022-03-22T11:26:36.857Z"
   },
   {
    "duration": 29,
    "start_time": "2022-03-22T11:26:36.867Z"
   },
   {
    "duration": 88,
    "start_time": "2022-03-22T11:26:36.898Z"
   },
   {
    "duration": 31,
    "start_time": "2022-03-22T11:26:36.987Z"
   },
   {
    "duration": 20,
    "start_time": "2022-03-22T11:26:37.019Z"
   },
   {
    "duration": 42,
    "start_time": "2022-03-22T11:26:37.041Z"
   },
   {
    "duration": 60,
    "start_time": "2022-03-22T11:26:37.084Z"
   },
   {
    "duration": 37,
    "start_time": "2022-03-22T11:26:37.145Z"
   },
   {
    "duration": 7,
    "start_time": "2022-03-22T11:26:37.183Z"
   },
   {
    "duration": 49,
    "start_time": "2022-03-22T11:26:37.192Z"
   },
   {
    "duration": 12,
    "start_time": "2022-03-22T11:26:37.243Z"
   },
   {
    "duration": 8,
    "start_time": "2022-03-22T11:26:37.257Z"
   },
   {
    "duration": 15,
    "start_time": "2022-03-22T11:26:37.267Z"
   },
   {
    "duration": 20,
    "start_time": "2022-03-22T11:26:37.285Z"
   },
   {
    "duration": 6,
    "start_time": "2022-03-22T11:26:37.306Z"
   },
   {
    "duration": 3,
    "start_time": "2022-03-22T11:26:37.337Z"
   },
   {
    "duration": 7,
    "start_time": "2022-03-22T11:26:37.342Z"
   },
   {
    "duration": 68,
    "start_time": "2022-03-22T11:26:37.350Z"
   },
   {
    "duration": 0,
    "start_time": "2022-03-22T11:26:37.420Z"
   },
   {
    "duration": 0,
    "start_time": "2022-03-22T11:26:37.421Z"
   },
   {
    "duration": 0,
    "start_time": "2022-03-22T11:26:37.422Z"
   },
   {
    "duration": 0,
    "start_time": "2022-03-22T11:26:37.437Z"
   },
   {
    "duration": 362,
    "start_time": "2022-03-22T11:29:06.394Z"
   },
   {
    "duration": 394,
    "start_time": "2022-03-22T11:29:06.758Z"
   },
   {
    "duration": 17,
    "start_time": "2022-03-22T11:29:07.154Z"
   },
   {
    "duration": 10,
    "start_time": "2022-03-22T11:29:07.173Z"
   },
   {
    "duration": 11,
    "start_time": "2022-03-22T11:29:07.185Z"
   },
   {
    "duration": 15,
    "start_time": "2022-03-22T11:29:07.198Z"
   },
   {
    "duration": 31,
    "start_time": "2022-03-22T11:29:07.214Z"
   },
   {
    "duration": 8,
    "start_time": "2022-03-22T11:29:07.246Z"
   },
   {
    "duration": 26,
    "start_time": "2022-03-22T11:29:07.256Z"
   },
   {
    "duration": 8,
    "start_time": "2022-03-22T11:29:07.285Z"
   },
   {
    "duration": 25,
    "start_time": "2022-03-22T11:29:07.294Z"
   },
   {
    "duration": 8,
    "start_time": "2022-03-22T11:29:07.338Z"
   },
   {
    "duration": 32,
    "start_time": "2022-03-22T11:29:07.347Z"
   },
   {
    "duration": 65,
    "start_time": "2022-03-22T11:29:07.381Z"
   },
   {
    "duration": 10,
    "start_time": "2022-03-22T11:29:07.448Z"
   },
   {
    "duration": 30,
    "start_time": "2022-03-22T11:29:07.460Z"
   },
   {
    "duration": 94,
    "start_time": "2022-03-22T11:29:07.492Z"
   },
   {
    "duration": 29,
    "start_time": "2022-03-22T11:29:07.588Z"
   },
   {
    "duration": 21,
    "start_time": "2022-03-22T11:29:07.618Z"
   },
   {
    "duration": 41,
    "start_time": "2022-03-22T11:29:07.640Z"
   },
   {
    "duration": 59,
    "start_time": "2022-03-22T11:29:07.682Z"
   },
   {
    "duration": 36,
    "start_time": "2022-03-22T11:29:07.743Z"
   },
   {
    "duration": 9,
    "start_time": "2022-03-22T11:29:07.781Z"
   },
   {
    "duration": 58,
    "start_time": "2022-03-22T11:29:07.791Z"
   },
   {
    "duration": 12,
    "start_time": "2022-03-22T11:29:07.851Z"
   },
   {
    "duration": 6,
    "start_time": "2022-03-22T11:29:07.864Z"
   },
   {
    "duration": 13,
    "start_time": "2022-03-22T11:29:07.872Z"
   },
   {
    "duration": 19,
    "start_time": "2022-03-22T11:29:07.889Z"
   },
   {
    "duration": 30,
    "start_time": "2022-03-22T11:29:07.910Z"
   },
   {
    "duration": 6,
    "start_time": "2022-03-22T11:29:07.942Z"
   },
   {
    "duration": 5,
    "start_time": "2022-03-22T11:29:07.949Z"
   },
   {
    "duration": 321,
    "start_time": "2022-03-22T11:29:07.956Z"
   },
   {
    "duration": 0,
    "start_time": "2022-03-22T11:29:08.278Z"
   },
   {
    "duration": 0,
    "start_time": "2022-03-22T11:29:08.280Z"
   },
   {
    "duration": 0,
    "start_time": "2022-03-22T11:29:08.281Z"
   },
   {
    "duration": 0,
    "start_time": "2022-03-22T11:29:08.282Z"
   },
   {
    "duration": 376,
    "start_time": "2022-03-22T11:29:44.799Z"
   },
   {
    "duration": 397,
    "start_time": "2022-03-22T11:29:45.177Z"
   },
   {
    "duration": 17,
    "start_time": "2022-03-22T11:29:45.576Z"
   },
   {
    "duration": 14,
    "start_time": "2022-03-22T11:29:45.594Z"
   },
   {
    "duration": 14,
    "start_time": "2022-03-22T11:29:45.611Z"
   },
   {
    "duration": 11,
    "start_time": "2022-03-22T11:29:45.637Z"
   },
   {
    "duration": 16,
    "start_time": "2022-03-22T11:29:45.650Z"
   },
   {
    "duration": 7,
    "start_time": "2022-03-22T11:29:45.668Z"
   },
   {
    "duration": 20,
    "start_time": "2022-03-22T11:29:45.677Z"
   },
   {
    "duration": 9,
    "start_time": "2022-03-22T11:29:45.699Z"
   },
   {
    "duration": 49,
    "start_time": "2022-03-22T11:29:45.709Z"
   },
   {
    "duration": 8,
    "start_time": "2022-03-22T11:29:45.760Z"
   },
   {
    "duration": 26,
    "start_time": "2022-03-22T11:29:45.770Z"
   },
   {
    "duration": 74,
    "start_time": "2022-03-22T11:29:45.800Z"
   },
   {
    "duration": 11,
    "start_time": "2022-03-22T11:29:45.875Z"
   },
   {
    "duration": 27,
    "start_time": "2022-03-22T11:29:45.887Z"
   },
   {
    "duration": 89,
    "start_time": "2022-03-22T11:29:45.916Z"
   },
   {
    "duration": 42,
    "start_time": "2022-03-22T11:29:46.007Z"
   },
   {
    "duration": 9,
    "start_time": "2022-03-22T11:29:46.051Z"
   },
   {
    "duration": 41,
    "start_time": "2022-03-22T11:29:46.061Z"
   },
   {
    "duration": 58,
    "start_time": "2022-03-22T11:29:46.104Z"
   },
   {
    "duration": 35,
    "start_time": "2022-03-22T11:29:46.163Z"
   },
   {
    "duration": 7,
    "start_time": "2022-03-22T11:29:46.200Z"
   },
   {
    "duration": 53,
    "start_time": "2022-03-22T11:29:46.209Z"
   },
   {
    "duration": 11,
    "start_time": "2022-03-22T11:29:46.264Z"
   },
   {
    "duration": 2,
    "start_time": "2022-03-22T11:29:46.278Z"
   },
   {
    "duration": 13,
    "start_time": "2022-03-22T11:29:46.281Z"
   },
   {
    "duration": 43,
    "start_time": "2022-03-22T11:29:46.296Z"
   },
   {
    "duration": 7,
    "start_time": "2022-03-22T11:29:46.340Z"
   },
   {
    "duration": 5,
    "start_time": "2022-03-22T11:29:46.348Z"
   },
   {
    "duration": 5,
    "start_time": "2022-03-22T11:29:46.355Z"
   },
   {
    "duration": 200,
    "start_time": "2022-03-22T11:29:46.361Z"
   },
   {
    "duration": 0,
    "start_time": "2022-03-22T11:29:46.562Z"
   },
   {
    "duration": 0,
    "start_time": "2022-03-22T11:29:46.564Z"
   },
   {
    "duration": 0,
    "start_time": "2022-03-22T11:29:46.565Z"
   },
   {
    "duration": 0,
    "start_time": "2022-03-22T11:29:46.566Z"
   },
   {
    "duration": 392,
    "start_time": "2022-03-22T11:32:37.348Z"
   },
   {
    "duration": 389,
    "start_time": "2022-03-22T11:32:37.741Z"
   },
   {
    "duration": 16,
    "start_time": "2022-03-22T11:32:38.132Z"
   },
   {
    "duration": 10,
    "start_time": "2022-03-22T11:32:38.150Z"
   },
   {
    "duration": 10,
    "start_time": "2022-03-22T11:32:38.162Z"
   },
   {
    "duration": 17,
    "start_time": "2022-03-22T11:32:38.173Z"
   },
   {
    "duration": 14,
    "start_time": "2022-03-22T11:32:38.192Z"
   },
   {
    "duration": 6,
    "start_time": "2022-03-22T11:32:38.207Z"
   },
   {
    "duration": 41,
    "start_time": "2022-03-22T11:32:38.214Z"
   },
   {
    "duration": 8,
    "start_time": "2022-03-22T11:32:38.258Z"
   },
   {
    "duration": 22,
    "start_time": "2022-03-22T11:32:38.267Z"
   },
   {
    "duration": 8,
    "start_time": "2022-03-22T11:32:38.291Z"
   },
   {
    "duration": 45,
    "start_time": "2022-03-22T11:32:38.300Z"
   },
   {
    "duration": 50,
    "start_time": "2022-03-22T11:32:38.347Z"
   },
   {
    "duration": 10,
    "start_time": "2022-03-22T11:32:38.398Z"
   },
   {
    "duration": 44,
    "start_time": "2022-03-22T11:32:38.409Z"
   },
   {
    "duration": 86,
    "start_time": "2022-03-22T11:32:38.454Z"
   },
   {
    "duration": 28,
    "start_time": "2022-03-22T11:32:38.542Z"
   },
   {
    "duration": 8,
    "start_time": "2022-03-22T11:32:38.571Z"
   },
   {
    "duration": 37,
    "start_time": "2022-03-22T11:32:38.581Z"
   },
   {
    "duration": 42,
    "start_time": "2022-03-22T11:32:38.637Z"
   },
   {
    "duration": 36,
    "start_time": "2022-03-22T11:32:38.681Z"
   },
   {
    "duration": 24,
    "start_time": "2022-03-22T11:32:38.719Z"
   },
   {
    "duration": 30,
    "start_time": "2022-03-22T11:32:38.745Z"
   },
   {
    "duration": 12,
    "start_time": "2022-03-22T11:32:38.777Z"
   },
   {
    "duration": 5,
    "start_time": "2022-03-22T11:32:38.791Z"
   },
   {
    "duration": 13,
    "start_time": "2022-03-22T11:32:38.798Z"
   },
   {
    "duration": 20,
    "start_time": "2022-03-22T11:32:38.837Z"
   },
   {
    "duration": 8,
    "start_time": "2022-03-22T11:32:38.859Z"
   },
   {
    "duration": 5,
    "start_time": "2022-03-22T11:32:38.869Z"
   },
   {
    "duration": 5,
    "start_time": "2022-03-22T11:32:38.876Z"
   },
   {
    "duration": 12,
    "start_time": "2022-03-22T11:32:38.882Z"
   },
   {
    "duration": 0,
    "start_time": "2022-03-22T11:32:38.896Z"
   },
   {
    "duration": 0,
    "start_time": "2022-03-22T11:32:38.897Z"
   },
   {
    "duration": 0,
    "start_time": "2022-03-22T11:32:38.898Z"
   },
   {
    "duration": 0,
    "start_time": "2022-03-22T11:32:38.899Z"
   },
   {
    "duration": 429,
    "start_time": "2022-03-22T11:33:06.522Z"
   },
   {
    "duration": 401,
    "start_time": "2022-03-22T11:33:06.953Z"
   },
   {
    "duration": 17,
    "start_time": "2022-03-22T11:33:07.355Z"
   },
   {
    "duration": 12,
    "start_time": "2022-03-22T11:33:07.374Z"
   },
   {
    "duration": 12,
    "start_time": "2022-03-22T11:33:07.387Z"
   },
   {
    "duration": 15,
    "start_time": "2022-03-22T11:33:07.401Z"
   },
   {
    "duration": 29,
    "start_time": "2022-03-22T11:33:07.417Z"
   },
   {
    "duration": 7,
    "start_time": "2022-03-22T11:33:07.448Z"
   },
   {
    "duration": 24,
    "start_time": "2022-03-22T11:33:07.456Z"
   },
   {
    "duration": 9,
    "start_time": "2022-03-22T11:33:07.482Z"
   },
   {
    "duration": 24,
    "start_time": "2022-03-22T11:33:07.492Z"
   },
   {
    "duration": 9,
    "start_time": "2022-03-22T11:33:07.538Z"
   },
   {
    "duration": 32,
    "start_time": "2022-03-22T11:33:07.548Z"
   },
   {
    "duration": 67,
    "start_time": "2022-03-22T11:33:07.582Z"
   },
   {
    "duration": 9,
    "start_time": "2022-03-22T11:33:07.651Z"
   },
   {
    "duration": 29,
    "start_time": "2022-03-22T11:33:07.662Z"
   },
   {
    "duration": 90,
    "start_time": "2022-03-22T11:33:07.693Z"
   },
   {
    "duration": 29,
    "start_time": "2022-03-22T11:33:07.785Z"
   },
   {
    "duration": 23,
    "start_time": "2022-03-22T11:33:07.816Z"
   },
   {
    "duration": 38,
    "start_time": "2022-03-22T11:33:07.841Z"
   },
   {
    "duration": 56,
    "start_time": "2022-03-22T11:33:07.881Z"
   },
   {
    "duration": 37,
    "start_time": "2022-03-22T11:33:07.939Z"
   },
   {
    "duration": 7,
    "start_time": "2022-03-22T11:33:07.977Z"
   },
   {
    "duration": 31,
    "start_time": "2022-03-22T11:33:07.985Z"
   },
   {
    "duration": 28,
    "start_time": "2022-03-22T11:33:08.017Z"
   },
   {
    "duration": 6,
    "start_time": "2022-03-22T11:33:08.047Z"
   },
   {
    "duration": 13,
    "start_time": "2022-03-22T11:33:08.055Z"
   },
   {
    "duration": 19,
    "start_time": "2022-03-22T11:33:08.071Z"
   },
   {
    "duration": 6,
    "start_time": "2022-03-22T11:33:08.092Z"
   },
   {
    "duration": 8,
    "start_time": "2022-03-22T11:33:08.099Z"
   },
   {
    "duration": 30,
    "start_time": "2022-03-22T11:33:08.108Z"
   },
   {
    "duration": 14,
    "start_time": "2022-03-22T11:33:08.139Z"
   },
   {
    "duration": 4477,
    "start_time": "2022-03-22T11:33:08.154Z"
   },
   {
    "duration": 0,
    "start_time": "2022-03-22T11:33:12.633Z"
   },
   {
    "duration": 0,
    "start_time": "2022-03-22T11:33:12.634Z"
   },
   {
    "duration": 0,
    "start_time": "2022-03-22T11:33:12.635Z"
   },
   {
    "duration": 426,
    "start_time": "2022-03-22T11:33:44.014Z"
   },
   {
    "duration": 397,
    "start_time": "2022-03-22T11:33:44.442Z"
   },
   {
    "duration": 21,
    "start_time": "2022-03-22T11:33:44.841Z"
   },
   {
    "duration": 15,
    "start_time": "2022-03-22T11:33:44.865Z"
   },
   {
    "duration": 13,
    "start_time": "2022-03-22T11:33:44.882Z"
   },
   {
    "duration": 24,
    "start_time": "2022-03-22T11:33:44.898Z"
   },
   {
    "duration": 15,
    "start_time": "2022-03-22T11:33:44.938Z"
   },
   {
    "duration": 9,
    "start_time": "2022-03-22T11:33:44.955Z"
   },
   {
    "duration": 34,
    "start_time": "2022-03-22T11:33:44.965Z"
   },
   {
    "duration": 11,
    "start_time": "2022-03-22T11:33:45.003Z"
   },
   {
    "duration": 23,
    "start_time": "2022-03-22T11:33:45.037Z"
   },
   {
    "duration": 8,
    "start_time": "2022-03-22T11:33:45.062Z"
   },
   {
    "duration": 28,
    "start_time": "2022-03-22T11:33:45.072Z"
   },
   {
    "duration": 79,
    "start_time": "2022-03-22T11:33:45.102Z"
   },
   {
    "duration": 9,
    "start_time": "2022-03-22T11:33:45.183Z"
   },
   {
    "duration": 28,
    "start_time": "2022-03-22T11:33:45.194Z"
   },
   {
    "duration": 86,
    "start_time": "2022-03-22T11:33:45.224Z"
   },
   {
    "duration": 43,
    "start_time": "2022-03-22T11:33:45.312Z"
   },
   {
    "duration": 8,
    "start_time": "2022-03-22T11:33:45.357Z"
   },
   {
    "duration": 38,
    "start_time": "2022-03-22T11:33:45.366Z"
   },
   {
    "duration": 62,
    "start_time": "2022-03-22T11:33:45.405Z"
   },
   {
    "duration": 36,
    "start_time": "2022-03-22T11:33:45.469Z"
   },
   {
    "duration": 27,
    "start_time": "2022-03-22T11:33:45.507Z"
   },
   {
    "duration": 44,
    "start_time": "2022-03-22T11:33:45.537Z"
   },
   {
    "duration": 11,
    "start_time": "2022-03-22T11:33:45.582Z"
   },
   {
    "duration": 6,
    "start_time": "2022-03-22T11:33:45.594Z"
   },
   {
    "duration": 13,
    "start_time": "2022-03-22T11:33:45.601Z"
   },
   {
    "duration": 27,
    "start_time": "2022-03-22T11:33:45.617Z"
   },
   {
    "duration": 7,
    "start_time": "2022-03-22T11:33:45.646Z"
   },
   {
    "duration": 5,
    "start_time": "2022-03-22T11:33:45.654Z"
   },
   {
    "duration": 9,
    "start_time": "2022-03-22T11:33:45.660Z"
   },
   {
    "duration": 318,
    "start_time": "2022-03-22T11:33:45.670Z"
   },
   {
    "duration": 421,
    "start_time": "2022-03-22T11:34:23.021Z"
   },
   {
    "duration": 381,
    "start_time": "2022-03-22T11:34:23.444Z"
   },
   {
    "duration": 17,
    "start_time": "2022-03-22T11:34:23.827Z"
   },
   {
    "duration": 11,
    "start_time": "2022-03-22T11:34:23.846Z"
   },
   {
    "duration": 10,
    "start_time": "2022-03-22T11:34:23.858Z"
   },
   {
    "duration": 13,
    "start_time": "2022-03-22T11:34:23.869Z"
   },
   {
    "duration": 12,
    "start_time": "2022-03-22T11:34:23.884Z"
   },
   {
    "duration": 6,
    "start_time": "2022-03-22T11:34:23.897Z"
   },
   {
    "duration": 49,
    "start_time": "2022-03-22T11:34:23.905Z"
   },
   {
    "duration": 8,
    "start_time": "2022-03-22T11:34:23.957Z"
   },
   {
    "duration": 24,
    "start_time": "2022-03-22T11:34:23.967Z"
   },
   {
    "duration": 9,
    "start_time": "2022-03-22T11:34:23.993Z"
   },
   {
    "duration": 47,
    "start_time": "2022-03-22T11:34:24.004Z"
   },
   {
    "duration": 52,
    "start_time": "2022-03-22T11:34:24.053Z"
   },
   {
    "duration": 9,
    "start_time": "2022-03-22T11:34:24.107Z"
   },
   {
    "duration": 41,
    "start_time": "2022-03-22T11:34:24.117Z"
   },
   {
    "duration": 91,
    "start_time": "2022-03-22T11:34:24.159Z"
   },
   {
    "duration": 28,
    "start_time": "2022-03-22T11:34:24.252Z"
   },
   {
    "duration": 8,
    "start_time": "2022-03-22T11:34:24.281Z"
   },
   {
    "duration": 55,
    "start_time": "2022-03-22T11:34:24.290Z"
   },
   {
    "duration": 41,
    "start_time": "2022-03-22T11:34:24.346Z"
   },
   {
    "duration": 52,
    "start_time": "2022-03-22T11:34:24.389Z"
   },
   {
    "duration": 7,
    "start_time": "2022-03-22T11:34:24.443Z"
   },
   {
    "duration": 30,
    "start_time": "2022-03-22T11:34:24.452Z"
   },
   {
    "duration": 11,
    "start_time": "2022-03-22T11:34:24.483Z"
   },
   {
    "duration": 6,
    "start_time": "2022-03-22T11:34:24.495Z"
   },
   {
    "duration": 13,
    "start_time": "2022-03-22T11:34:24.503Z"
   },
   {
    "duration": 37,
    "start_time": "2022-03-22T11:34:24.519Z"
   },
   {
    "duration": 6,
    "start_time": "2022-03-22T11:34:24.557Z"
   },
   {
    "duration": 5,
    "start_time": "2022-03-22T11:34:24.565Z"
   },
   {
    "duration": 4,
    "start_time": "2022-03-22T11:34:24.572Z"
   },
   {
    "duration": 316,
    "start_time": "2022-03-22T11:34:24.577Z"
   },
   {
    "duration": 70,
    "start_time": "2022-03-22T11:34:24.894Z"
   },
   {
    "duration": 0,
    "start_time": "2022-03-22T11:34:24.966Z"
   },
   {
    "duration": 0,
    "start_time": "2022-03-22T11:34:24.967Z"
   },
   {
    "duration": 0,
    "start_time": "2022-03-22T11:34:24.967Z"
   },
   {
    "duration": 3167,
    "start_time": "2022-03-22T11:38:56.727Z"
   },
   {
    "duration": 400,
    "start_time": "2022-03-22T11:39:56.446Z"
   },
   {
    "duration": 393,
    "start_time": "2022-03-22T11:39:56.848Z"
   },
   {
    "duration": 16,
    "start_time": "2022-03-22T11:39:57.243Z"
   },
   {
    "duration": 37,
    "start_time": "2022-03-22T11:39:57.261Z"
   },
   {
    "duration": 38,
    "start_time": "2022-03-22T11:39:57.299Z"
   },
   {
    "duration": 45,
    "start_time": "2022-03-22T11:39:57.339Z"
   },
   {
    "duration": 43,
    "start_time": "2022-03-22T11:39:57.386Z"
   },
   {
    "duration": 42,
    "start_time": "2022-03-22T11:39:57.431Z"
   },
   {
    "duration": 50,
    "start_time": "2022-03-22T11:39:57.475Z"
   },
   {
    "duration": 35,
    "start_time": "2022-03-22T11:39:57.527Z"
   },
   {
    "duration": 47,
    "start_time": "2022-03-22T11:39:57.564Z"
   },
   {
    "duration": 17,
    "start_time": "2022-03-22T11:39:57.612Z"
   },
   {
    "duration": 59,
    "start_time": "2022-03-22T11:39:57.631Z"
   },
   {
    "duration": 52,
    "start_time": "2022-03-22T11:39:57.692Z"
   },
   {
    "duration": 10,
    "start_time": "2022-03-22T11:39:57.746Z"
   },
   {
    "duration": 55,
    "start_time": "2022-03-22T11:39:57.757Z"
   },
   {
    "duration": 80,
    "start_time": "2022-03-22T11:39:57.814Z"
   },
   {
    "duration": 31,
    "start_time": "2022-03-22T11:39:57.896Z"
   },
   {
    "duration": 15,
    "start_time": "2022-03-22T11:39:57.929Z"
   },
   {
    "duration": 58,
    "start_time": "2022-03-22T11:39:57.946Z"
   },
   {
    "duration": 61,
    "start_time": "2022-03-22T11:39:58.006Z"
   },
   {
    "duration": 39,
    "start_time": "2022-03-22T11:39:58.069Z"
   },
   {
    "duration": 14,
    "start_time": "2022-03-22T11:39:58.110Z"
   },
   {
    "duration": 47,
    "start_time": "2022-03-22T11:39:58.126Z"
   },
   {
    "duration": 35,
    "start_time": "2022-03-22T11:39:58.175Z"
   },
   {
    "duration": 34,
    "start_time": "2022-03-22T11:39:58.212Z"
   },
   {
    "duration": 33,
    "start_time": "2022-03-22T11:39:58.248Z"
   },
   {
    "duration": 40,
    "start_time": "2022-03-22T11:39:58.285Z"
   },
   {
    "duration": 27,
    "start_time": "2022-03-22T11:39:58.326Z"
   },
   {
    "duration": 28,
    "start_time": "2022-03-22T11:39:58.355Z"
   },
   {
    "duration": 42,
    "start_time": "2022-03-22T11:39:58.384Z"
   },
   {
    "duration": 333,
    "start_time": "2022-03-22T11:39:58.427Z"
   },
   {
    "duration": 1495,
    "start_time": "2022-03-22T11:39:58.762Z"
   },
   {
    "duration": 0,
    "start_time": "2022-03-22T11:40:00.259Z"
   },
   {
    "duration": 0,
    "start_time": "2022-03-22T11:40:00.260Z"
   },
   {
    "duration": 0,
    "start_time": "2022-03-22T11:40:00.261Z"
   },
   {
    "duration": 149,
    "start_time": "2022-03-22T11:55:42.429Z"
   },
   {
    "duration": 140,
    "start_time": "2022-03-22T11:55:54.350Z"
   },
   {
    "duration": 148,
    "start_time": "2022-03-22T11:56:05.112Z"
   },
   {
    "duration": 378,
    "start_time": "2022-03-22T11:56:45.082Z"
   },
   {
    "duration": 410,
    "start_time": "2022-03-22T11:56:45.463Z"
   },
   {
    "duration": 18,
    "start_time": "2022-03-22T11:56:45.875Z"
   },
   {
    "duration": 11,
    "start_time": "2022-03-22T11:56:45.895Z"
   },
   {
    "duration": 9,
    "start_time": "2022-03-22T11:56:45.907Z"
   },
   {
    "duration": 11,
    "start_time": "2022-03-22T11:56:45.937Z"
   },
   {
    "duration": 14,
    "start_time": "2022-03-22T11:56:45.950Z"
   },
   {
    "duration": 7,
    "start_time": "2022-03-22T11:56:45.966Z"
   },
   {
    "duration": 23,
    "start_time": "2022-03-22T11:56:45.974Z"
   },
   {
    "duration": 37,
    "start_time": "2022-03-22T11:56:46.001Z"
   },
   {
    "duration": 24,
    "start_time": "2022-03-22T11:56:46.040Z"
   },
   {
    "duration": 9,
    "start_time": "2022-03-22T11:56:46.066Z"
   },
   {
    "duration": 32,
    "start_time": "2022-03-22T11:56:46.076Z"
   },
   {
    "duration": 78,
    "start_time": "2022-03-22T11:56:46.109Z"
   },
   {
    "duration": 9,
    "start_time": "2022-03-22T11:56:46.189Z"
   },
   {
    "duration": 43,
    "start_time": "2022-03-22T11:56:46.200Z"
   },
   {
    "duration": 81,
    "start_time": "2022-03-22T11:56:46.245Z"
   },
   {
    "duration": 38,
    "start_time": "2022-03-22T11:56:46.328Z"
   },
   {
    "duration": 8,
    "start_time": "2022-03-22T11:56:46.368Z"
   },
   {
    "duration": 60,
    "start_time": "2022-03-22T11:56:46.378Z"
   },
   {
    "duration": 43,
    "start_time": "2022-03-22T11:56:46.440Z"
   },
   {
    "duration": 54,
    "start_time": "2022-03-22T11:56:46.485Z"
   },
   {
    "duration": 8,
    "start_time": "2022-03-22T11:56:46.540Z"
   },
   {
    "duration": 33,
    "start_time": "2022-03-22T11:56:46.550Z"
   },
   {
    "duration": 12,
    "start_time": "2022-03-22T11:56:46.585Z"
   },
   {
    "duration": 3,
    "start_time": "2022-03-22T11:56:46.598Z"
   },
   {
    "duration": 42,
    "start_time": "2022-03-22T11:56:46.602Z"
   },
   {
    "duration": 22,
    "start_time": "2022-03-22T11:56:46.648Z"
   },
   {
    "duration": 9,
    "start_time": "2022-03-22T11:56:46.671Z"
   },
   {
    "duration": 9,
    "start_time": "2022-03-22T11:56:46.681Z"
   },
   {
    "duration": 214,
    "start_time": "2022-03-22T11:56:46.692Z"
   },
   {
    "duration": 3,
    "start_time": "2022-03-22T11:56:46.907Z"
   },
   {
    "duration": 11,
    "start_time": "2022-03-22T11:56:46.911Z"
   },
   {
    "duration": 16,
    "start_time": "2022-03-22T11:57:05.738Z"
   },
   {
    "duration": 4,
    "start_time": "2022-03-22T12:13:54.139Z"
   },
   {
    "duration": 26,
    "start_time": "2022-03-22T12:14:03.410Z"
   },
   {
    "duration": 293,
    "start_time": "2022-03-22T12:25:48.656Z"
   },
   {
    "duration": 231,
    "start_time": "2022-03-22T12:25:53.539Z"
   },
   {
    "duration": 84,
    "start_time": "2022-03-22T12:27:36.642Z"
   },
   {
    "duration": 27,
    "start_time": "2022-03-22T12:28:32.632Z"
   },
   {
    "duration": 27,
    "start_time": "2022-03-22T12:29:02.515Z"
   },
   {
    "duration": 432,
    "start_time": "2022-03-22T12:29:15.219Z"
   },
   {
    "duration": 416,
    "start_time": "2022-03-22T12:29:15.654Z"
   },
   {
    "duration": 18,
    "start_time": "2022-03-22T12:29:16.071Z"
   },
   {
    "duration": 25,
    "start_time": "2022-03-22T12:29:16.091Z"
   },
   {
    "duration": 30,
    "start_time": "2022-03-22T12:29:16.118Z"
   },
   {
    "duration": 27,
    "start_time": "2022-03-22T12:29:16.150Z"
   },
   {
    "duration": 24,
    "start_time": "2022-03-22T12:29:16.179Z"
   },
   {
    "duration": 20,
    "start_time": "2022-03-22T12:29:16.205Z"
   },
   {
    "duration": 45,
    "start_time": "2022-03-22T12:29:16.227Z"
   },
   {
    "duration": 20,
    "start_time": "2022-03-22T12:29:16.275Z"
   },
   {
    "duration": 40,
    "start_time": "2022-03-22T12:29:16.297Z"
   },
   {
    "duration": 12,
    "start_time": "2022-03-22T12:29:16.339Z"
   },
   {
    "duration": 38,
    "start_time": "2022-03-22T12:29:16.352Z"
   },
   {
    "duration": 60,
    "start_time": "2022-03-22T12:29:16.392Z"
   },
   {
    "duration": 10,
    "start_time": "2022-03-22T12:29:16.454Z"
   },
   {
    "duration": 49,
    "start_time": "2022-03-22T12:29:16.466Z"
   },
   {
    "duration": 85,
    "start_time": "2022-03-22T12:29:16.516Z"
   },
   {
    "duration": 35,
    "start_time": "2022-03-22T12:29:16.603Z"
   },
   {
    "duration": 10,
    "start_time": "2022-03-22T12:29:16.640Z"
   },
   {
    "duration": 60,
    "start_time": "2022-03-22T12:29:16.651Z"
   },
   {
    "duration": 47,
    "start_time": "2022-03-22T12:29:16.712Z"
   },
   {
    "duration": 38,
    "start_time": "2022-03-22T12:29:16.761Z"
   },
   {
    "duration": 7,
    "start_time": "2022-03-22T12:29:16.801Z"
   },
   {
    "duration": 56,
    "start_time": "2022-03-22T12:29:16.810Z"
   },
   {
    "duration": 11,
    "start_time": "2022-03-22T12:29:16.868Z"
   },
   {
    "duration": 14,
    "start_time": "2022-03-22T12:29:16.881Z"
   },
   {
    "duration": 28,
    "start_time": "2022-03-22T12:29:16.897Z"
   },
   {
    "duration": 56,
    "start_time": "2022-03-22T12:29:16.929Z"
   },
   {
    "duration": 15,
    "start_time": "2022-03-22T12:29:16.987Z"
   },
   {
    "duration": 26,
    "start_time": "2022-03-22T12:29:17.003Z"
   },
   {
    "duration": 217,
    "start_time": "2022-03-22T12:29:17.031Z"
   },
   {
    "duration": 2,
    "start_time": "2022-03-22T12:29:17.250Z"
   },
   {
    "duration": 63,
    "start_time": "2022-03-22T12:29:17.253Z"
   },
   {
    "duration": 93,
    "start_time": "2022-03-22T12:29:17.318Z"
   },
   {
    "duration": 0,
    "start_time": "2022-03-22T12:29:17.413Z"
   },
   {
    "duration": 28,
    "start_time": "2022-03-22T12:31:06.441Z"
   },
   {
    "duration": 669,
    "start_time": "2022-03-22T12:31:35.226Z"
   },
   {
    "duration": 317,
    "start_time": "2022-03-22T12:31:45.015Z"
   },
   {
    "duration": 182,
    "start_time": "2022-03-22T12:31:55.785Z"
   },
   {
    "duration": 182,
    "start_time": "2022-03-22T12:37:44.626Z"
   },
   {
    "duration": 249,
    "start_time": "2022-03-22T12:37:55.106Z"
   },
   {
    "duration": 409,
    "start_time": "2022-03-22T12:38:15.068Z"
   },
   {
    "duration": 421,
    "start_time": "2022-03-22T12:38:15.479Z"
   },
   {
    "duration": 17,
    "start_time": "2022-03-22T12:38:15.902Z"
   },
   {
    "duration": 17,
    "start_time": "2022-03-22T12:38:15.921Z"
   },
   {
    "duration": 17,
    "start_time": "2022-03-22T12:38:15.940Z"
   },
   {
    "duration": 13,
    "start_time": "2022-03-22T12:38:15.958Z"
   },
   {
    "duration": 14,
    "start_time": "2022-03-22T12:38:15.973Z"
   },
   {
    "duration": 8,
    "start_time": "2022-03-22T12:38:15.988Z"
   },
   {
    "duration": 68,
    "start_time": "2022-03-22T12:38:15.999Z"
   },
   {
    "duration": 14,
    "start_time": "2022-03-22T12:38:16.073Z"
   },
   {
    "duration": 26,
    "start_time": "2022-03-22T12:38:16.089Z"
   },
   {
    "duration": 23,
    "start_time": "2022-03-22T12:38:16.117Z"
   },
   {
    "duration": 32,
    "start_time": "2022-03-22T12:38:16.141Z"
   },
   {
    "duration": 68,
    "start_time": "2022-03-22T12:38:16.175Z"
   },
   {
    "duration": 10,
    "start_time": "2022-03-22T12:38:16.245Z"
   },
   {
    "duration": 32,
    "start_time": "2022-03-22T12:38:16.257Z"
   },
   {
    "duration": 100,
    "start_time": "2022-03-22T12:38:16.290Z"
   },
   {
    "duration": 31,
    "start_time": "2022-03-22T12:38:16.392Z"
   },
   {
    "duration": 18,
    "start_time": "2022-03-22T12:38:16.425Z"
   },
   {
    "duration": 42,
    "start_time": "2022-03-22T12:38:16.445Z"
   },
   {
    "duration": 61,
    "start_time": "2022-03-22T12:38:16.488Z"
   },
   {
    "duration": 39,
    "start_time": "2022-03-22T12:38:16.550Z"
   },
   {
    "duration": 7,
    "start_time": "2022-03-22T12:38:16.591Z"
   },
   {
    "duration": 51,
    "start_time": "2022-03-22T12:38:16.599Z"
   },
   {
    "duration": 12,
    "start_time": "2022-03-22T12:38:16.652Z"
   },
   {
    "duration": 23,
    "start_time": "2022-03-22T12:38:16.666Z"
   },
   {
    "duration": 15,
    "start_time": "2022-03-22T12:38:16.691Z"
   },
   {
    "duration": 31,
    "start_time": "2022-03-22T12:38:16.709Z"
   },
   {
    "duration": 8,
    "start_time": "2022-03-22T12:38:16.742Z"
   },
   {
    "duration": 5,
    "start_time": "2022-03-22T12:38:16.751Z"
   },
   {
    "duration": 212,
    "start_time": "2022-03-22T12:38:16.758Z"
   },
   {
    "duration": 2,
    "start_time": "2022-03-22T12:38:16.972Z"
   },
   {
    "duration": 33,
    "start_time": "2022-03-22T12:38:16.976Z"
   },
   {
    "duration": 6,
    "start_time": "2022-03-22T12:38:17.011Z"
   },
   {
    "duration": 494,
    "start_time": "2022-03-22T12:38:17.019Z"
   },
   {
    "duration": 3,
    "start_time": "2022-03-22T12:38:17.515Z"
   },
   {
    "duration": 197,
    "start_time": "2022-03-22T12:38:34.266Z"
   },
   {
    "duration": 81,
    "start_time": "2022-03-22T12:40:08.758Z"
   },
   {
    "duration": 373,
    "start_time": "2022-03-22T12:40:13.679Z"
   },
   {
    "duration": 411,
    "start_time": "2022-03-22T12:40:14.054Z"
   },
   {
    "duration": 16,
    "start_time": "2022-03-22T12:40:14.467Z"
   },
   {
    "duration": 11,
    "start_time": "2022-03-22T12:40:14.486Z"
   },
   {
    "duration": 10,
    "start_time": "2022-03-22T12:40:14.499Z"
   },
   {
    "duration": 37,
    "start_time": "2022-03-22T12:40:14.510Z"
   },
   {
    "duration": 16,
    "start_time": "2022-03-22T12:40:14.549Z"
   },
   {
    "duration": 7,
    "start_time": "2022-03-22T12:40:14.567Z"
   },
   {
    "duration": 24,
    "start_time": "2022-03-22T12:40:14.576Z"
   },
   {
    "duration": 10,
    "start_time": "2022-03-22T12:40:14.603Z"
   },
   {
    "duration": 23,
    "start_time": "2022-03-22T12:40:14.638Z"
   },
   {
    "duration": 9,
    "start_time": "2022-03-22T12:40:14.663Z"
   },
   {
    "duration": 30,
    "start_time": "2022-03-22T12:40:14.673Z"
   },
   {
    "duration": 76,
    "start_time": "2022-03-22T12:40:14.705Z"
   },
   {
    "duration": 11,
    "start_time": "2022-03-22T12:40:14.783Z"
   },
   {
    "duration": 46,
    "start_time": "2022-03-22T12:40:14.796Z"
   },
   {
    "duration": 98,
    "start_time": "2022-03-22T12:40:14.845Z"
   },
   {
    "duration": 34,
    "start_time": "2022-03-22T12:40:14.945Z"
   },
   {
    "duration": 11,
    "start_time": "2022-03-22T12:40:14.981Z"
   },
   {
    "duration": 70,
    "start_time": "2022-03-22T12:40:14.994Z"
   },
   {
    "duration": 47,
    "start_time": "2022-03-22T12:40:15.065Z"
   },
   {
    "duration": 59,
    "start_time": "2022-03-22T12:40:15.114Z"
   },
   {
    "duration": 7,
    "start_time": "2022-03-22T12:40:15.175Z"
   },
   {
    "duration": 54,
    "start_time": "2022-03-22T12:40:15.185Z"
   },
   {
    "duration": 13,
    "start_time": "2022-03-22T12:40:15.241Z"
   },
   {
    "duration": 2,
    "start_time": "2022-03-22T12:40:15.256Z"
   },
   {
    "duration": 19,
    "start_time": "2022-03-22T12:40:15.260Z"
   },
   {
    "duration": 24,
    "start_time": "2022-03-22T12:40:15.283Z"
   },
   {
    "duration": 33,
    "start_time": "2022-03-22T12:40:15.309Z"
   },
   {
    "duration": 8,
    "start_time": "2022-03-22T12:40:15.344Z"
   },
   {
    "duration": 210,
    "start_time": "2022-03-22T12:40:15.354Z"
   },
   {
    "duration": 2,
    "start_time": "2022-03-22T12:40:15.566Z"
   },
   {
    "duration": 33,
    "start_time": "2022-03-22T12:40:15.570Z"
   },
   {
    "duration": 90,
    "start_time": "2022-03-22T12:40:15.605Z"
   },
   {
    "duration": 0,
    "start_time": "2022-03-22T12:40:15.697Z"
   },
   {
    "duration": 1,
    "start_time": "2022-03-22T12:40:15.698Z"
   },
   {
    "duration": 405,
    "start_time": "2022-03-22T12:40:29.357Z"
   },
   {
    "duration": 441,
    "start_time": "2022-03-22T12:40:29.765Z"
   },
   {
    "duration": 33,
    "start_time": "2022-03-22T12:40:30.211Z"
   },
   {
    "duration": 15,
    "start_time": "2022-03-22T12:40:30.246Z"
   },
   {
    "duration": 21,
    "start_time": "2022-03-22T12:40:30.265Z"
   },
   {
    "duration": 26,
    "start_time": "2022-03-22T12:40:30.288Z"
   },
   {
    "duration": 22,
    "start_time": "2022-03-22T12:40:30.316Z"
   },
   {
    "duration": 11,
    "start_time": "2022-03-22T12:40:30.340Z"
   },
   {
    "duration": 42,
    "start_time": "2022-03-22T12:40:30.355Z"
   },
   {
    "duration": 22,
    "start_time": "2022-03-22T12:40:30.399Z"
   },
   {
    "duration": 36,
    "start_time": "2022-03-22T12:40:30.423Z"
   },
   {
    "duration": 9,
    "start_time": "2022-03-22T12:40:30.461Z"
   },
   {
    "duration": 32,
    "start_time": "2022-03-22T12:40:30.472Z"
   },
   {
    "duration": 90,
    "start_time": "2022-03-22T12:40:30.506Z"
   },
   {
    "duration": 13,
    "start_time": "2022-03-22T12:40:30.598Z"
   },
   {
    "duration": 42,
    "start_time": "2022-03-22T12:40:30.613Z"
   },
   {
    "duration": 97,
    "start_time": "2022-03-22T12:40:30.657Z"
   },
   {
    "duration": 34,
    "start_time": "2022-03-22T12:40:30.755Z"
   },
   {
    "duration": 9,
    "start_time": "2022-03-22T12:40:30.791Z"
   },
   {
    "duration": 68,
    "start_time": "2022-03-22T12:40:30.801Z"
   },
   {
    "duration": 46,
    "start_time": "2022-03-22T12:40:30.871Z"
   },
   {
    "duration": 61,
    "start_time": "2022-03-22T12:40:30.919Z"
   },
   {
    "duration": 8,
    "start_time": "2022-03-22T12:40:30.982Z"
   },
   {
    "duration": 59,
    "start_time": "2022-03-22T12:40:30.992Z"
   },
   {
    "duration": 14,
    "start_time": "2022-03-22T12:40:31.053Z"
   },
   {
    "duration": 12,
    "start_time": "2022-03-22T12:40:31.069Z"
   },
   {
    "duration": 23,
    "start_time": "2022-03-22T12:40:31.085Z"
   },
   {
    "duration": 32,
    "start_time": "2022-03-22T12:40:31.110Z"
   },
   {
    "duration": 8,
    "start_time": "2022-03-22T12:40:31.144Z"
   },
   {
    "duration": 11,
    "start_time": "2022-03-22T12:40:31.154Z"
   },
   {
    "duration": 262,
    "start_time": "2022-03-22T12:40:31.167Z"
   },
   {
    "duration": 8,
    "start_time": "2022-03-22T12:40:31.430Z"
   },
   {
    "duration": 39,
    "start_time": "2022-03-22T12:40:31.440Z"
   },
   {
    "duration": 11,
    "start_time": "2022-03-22T12:40:31.480Z"
   },
   {
    "duration": 1256,
    "start_time": "2022-03-22T12:40:31.492Z"
   },
   {
    "duration": 3,
    "start_time": "2022-03-22T12:40:32.750Z"
   },
   {
    "duration": 301,
    "start_time": "2022-03-22T12:41:34.715Z"
   },
   {
    "duration": 349,
    "start_time": "2022-03-22T12:42:43.715Z"
   },
   {
    "duration": 301,
    "start_time": "2022-03-22T12:42:56.128Z"
   },
   {
    "duration": 365,
    "start_time": "2022-03-22T13:09:48.150Z"
   },
   {
    "duration": 445,
    "start_time": "2022-03-22T13:09:59.911Z"
   },
   {
    "duration": 441,
    "start_time": "2022-03-22T13:10:00.358Z"
   },
   {
    "duration": 44,
    "start_time": "2022-03-22T13:10:00.804Z"
   },
   {
    "duration": 24,
    "start_time": "2022-03-22T13:10:00.850Z"
   },
   {
    "duration": 48,
    "start_time": "2022-03-22T13:10:00.875Z"
   },
   {
    "duration": 33,
    "start_time": "2022-03-22T13:10:00.925Z"
   },
   {
    "duration": 30,
    "start_time": "2022-03-22T13:10:00.960Z"
   },
   {
    "duration": 21,
    "start_time": "2022-03-22T13:10:00.992Z"
   },
   {
    "duration": 36,
    "start_time": "2022-03-22T13:10:01.016Z"
   },
   {
    "duration": 28,
    "start_time": "2022-03-22T13:10:01.054Z"
   },
   {
    "duration": 47,
    "start_time": "2022-03-22T13:10:01.083Z"
   },
   {
    "duration": 16,
    "start_time": "2022-03-22T13:10:01.132Z"
   },
   {
    "duration": 43,
    "start_time": "2022-03-22T13:10:01.149Z"
   },
   {
    "duration": 58,
    "start_time": "2022-03-22T13:10:01.193Z"
   },
   {
    "duration": 10,
    "start_time": "2022-03-22T13:10:01.253Z"
   },
   {
    "duration": 42,
    "start_time": "2022-03-22T13:10:01.264Z"
   },
   {
    "duration": 85,
    "start_time": "2022-03-22T13:10:01.307Z"
   },
   {
    "duration": 31,
    "start_time": "2022-03-22T13:10:01.394Z"
   },
   {
    "duration": 14,
    "start_time": "2022-03-22T13:10:01.427Z"
   },
   {
    "duration": 67,
    "start_time": "2022-03-22T13:10:01.443Z"
   },
   {
    "duration": 52,
    "start_time": "2022-03-22T13:10:01.512Z"
   },
   {
    "duration": 45,
    "start_time": "2022-03-22T13:10:01.566Z"
   },
   {
    "duration": 9,
    "start_time": "2022-03-22T13:10:01.613Z"
   },
   {
    "duration": 77,
    "start_time": "2022-03-22T13:10:01.624Z"
   },
   {
    "duration": 32,
    "start_time": "2022-03-22T13:10:01.703Z"
   },
   {
    "duration": 41,
    "start_time": "2022-03-22T13:10:01.737Z"
   },
   {
    "duration": 41,
    "start_time": "2022-03-22T13:10:01.782Z"
   },
   {
    "duration": 38,
    "start_time": "2022-03-22T13:10:01.825Z"
   },
   {
    "duration": 29,
    "start_time": "2022-03-22T13:10:01.865Z"
   },
   {
    "duration": 78,
    "start_time": "2022-03-22T13:10:01.895Z"
   },
   {
    "duration": 298,
    "start_time": "2022-03-22T13:10:01.975Z"
   },
   {
    "duration": 3,
    "start_time": "2022-03-22T13:10:02.275Z"
   },
   {
    "duration": 69,
    "start_time": "2022-03-22T13:10:02.279Z"
   },
   {
    "duration": 60,
    "start_time": "2022-03-22T13:10:02.350Z"
   },
   {
    "duration": 849,
    "start_time": "2022-03-22T13:10:02.439Z"
   },
   {
    "duration": 3,
    "start_time": "2022-03-22T13:10:03.290Z"
   },
   {
    "duration": 12,
    "start_time": "2022-03-22T13:10:24.842Z"
   },
   {
    "duration": 371,
    "start_time": "2022-03-22T13:11:08.587Z"
   },
   {
    "duration": 429,
    "start_time": "2022-03-22T13:11:08.960Z"
   },
   {
    "duration": 18,
    "start_time": "2022-03-22T13:11:09.391Z"
   },
   {
    "duration": 12,
    "start_time": "2022-03-22T13:11:09.411Z"
   },
   {
    "duration": 21,
    "start_time": "2022-03-22T13:11:09.424Z"
   },
   {
    "duration": 14,
    "start_time": "2022-03-22T13:11:09.447Z"
   },
   {
    "duration": 17,
    "start_time": "2022-03-22T13:11:09.463Z"
   },
   {
    "duration": 8,
    "start_time": "2022-03-22T13:11:09.482Z"
   },
   {
    "duration": 48,
    "start_time": "2022-03-22T13:11:09.492Z"
   },
   {
    "duration": 9,
    "start_time": "2022-03-22T13:11:09.543Z"
   },
   {
    "duration": 26,
    "start_time": "2022-03-22T13:11:09.554Z"
   },
   {
    "duration": 9,
    "start_time": "2022-03-22T13:11:09.582Z"
   },
   {
    "duration": 56,
    "start_time": "2022-03-22T13:11:09.593Z"
   },
   {
    "duration": 66,
    "start_time": "2022-03-22T13:11:09.651Z"
   },
   {
    "duration": 24,
    "start_time": "2022-03-22T13:11:09.719Z"
   },
   {
    "duration": 35,
    "start_time": "2022-03-22T13:11:09.745Z"
   },
   {
    "duration": 106,
    "start_time": "2022-03-22T13:11:09.782Z"
   },
   {
    "duration": 33,
    "start_time": "2022-03-22T13:11:09.891Z"
   },
   {
    "duration": 10,
    "start_time": "2022-03-22T13:11:09.937Z"
   },
   {
    "duration": 52,
    "start_time": "2022-03-22T13:11:09.949Z"
   },
   {
    "duration": 69,
    "start_time": "2022-03-22T13:11:10.003Z"
   },
   {
    "duration": 45,
    "start_time": "2022-03-22T13:11:10.074Z"
   },
   {
    "duration": 24,
    "start_time": "2022-03-22T13:11:10.121Z"
   },
   {
    "duration": 38,
    "start_time": "2022-03-22T13:11:10.147Z"
   },
   {
    "duration": 17,
    "start_time": "2022-03-22T13:11:10.186Z"
   },
   {
    "duration": 3,
    "start_time": "2022-03-22T13:11:10.204Z"
   },
   {
    "duration": 41,
    "start_time": "2022-03-22T13:11:10.208Z"
   },
   {
    "duration": 25,
    "start_time": "2022-03-22T13:11:10.253Z"
   },
   {
    "duration": 8,
    "start_time": "2022-03-22T13:11:10.280Z"
   },
   {
    "duration": 4,
    "start_time": "2022-03-22T13:11:10.290Z"
   },
   {
    "duration": 217,
    "start_time": "2022-03-22T13:11:10.295Z"
   },
   {
    "duration": 2,
    "start_time": "2022-03-22T13:11:10.514Z"
   },
   {
    "duration": 48,
    "start_time": "2022-03-22T13:11:10.517Z"
   },
   {
    "duration": 8,
    "start_time": "2022-03-22T13:11:10.567Z"
   },
   {
    "duration": 620,
    "start_time": "2022-03-22T13:11:10.577Z"
   },
   {
    "duration": 395,
    "start_time": "2022-03-22T13:11:11.199Z"
   },
   {
    "duration": 3,
    "start_time": "2022-03-22T13:11:11.595Z"
   },
   {
    "duration": 77,
    "start_time": "2022-03-22T13:16:27.368Z"
   },
   {
    "duration": 57,
    "start_time": "2022-03-22T13:16:32.864Z"
   },
   {
    "duration": 49,
    "start_time": "2022-03-22T13:17:19.357Z"
   },
   {
    "duration": 11,
    "start_time": "2022-03-22T13:18:17.643Z"
   },
   {
    "duration": 4955,
    "start_time": "2022-03-22T13:18:44.256Z"
   },
   {
    "duration": 19,
    "start_time": "2022-03-22T13:19:00.260Z"
   },
   {
    "duration": 22,
    "start_time": "2022-03-22T13:19:11.676Z"
   },
   {
    "duration": 397,
    "start_time": "2022-03-22T13:21:41.958Z"
   },
   {
    "duration": 419,
    "start_time": "2022-03-22T13:21:42.357Z"
   },
   {
    "duration": 16,
    "start_time": "2022-03-22T13:21:42.778Z"
   },
   {
    "duration": 12,
    "start_time": "2022-03-22T13:21:42.796Z"
   },
   {
    "duration": 16,
    "start_time": "2022-03-22T13:21:42.809Z"
   },
   {
    "duration": 20,
    "start_time": "2022-03-22T13:21:42.827Z"
   },
   {
    "duration": 15,
    "start_time": "2022-03-22T13:21:42.849Z"
   },
   {
    "duration": 8,
    "start_time": "2022-03-22T13:21:42.866Z"
   },
   {
    "duration": 34,
    "start_time": "2022-03-22T13:21:42.876Z"
   },
   {
    "duration": 26,
    "start_time": "2022-03-22T13:21:42.913Z"
   },
   {
    "duration": 25,
    "start_time": "2022-03-22T13:21:42.941Z"
   },
   {
    "duration": 8,
    "start_time": "2022-03-22T13:21:42.968Z"
   },
   {
    "duration": 31,
    "start_time": "2022-03-22T13:21:42.978Z"
   },
   {
    "duration": 75,
    "start_time": "2022-03-22T13:21:43.011Z"
   },
   {
    "duration": 10,
    "start_time": "2022-03-22T13:21:43.088Z"
   },
   {
    "duration": 43,
    "start_time": "2022-03-22T13:21:43.099Z"
   },
   {
    "duration": 94,
    "start_time": "2022-03-22T13:21:43.144Z"
   },
   {
    "duration": 31,
    "start_time": "2022-03-22T13:21:43.240Z"
   },
   {
    "duration": 9,
    "start_time": "2022-03-22T13:21:43.273Z"
   },
   {
    "duration": 61,
    "start_time": "2022-03-22T13:21:43.284Z"
   },
   {
    "duration": 43,
    "start_time": "2022-03-22T13:21:43.346Z"
   },
   {
    "duration": 55,
    "start_time": "2022-03-22T13:21:43.391Z"
   },
   {
    "duration": 8,
    "start_time": "2022-03-22T13:21:43.448Z"
   },
   {
    "duration": 34,
    "start_time": "2022-03-22T13:21:43.458Z"
   },
   {
    "duration": 10,
    "start_time": "2022-03-22T13:21:43.494Z"
   },
   {
    "duration": 5,
    "start_time": "2022-03-22T13:21:43.506Z"
   },
   {
    "duration": 12,
    "start_time": "2022-03-22T13:21:43.537Z"
   },
   {
    "duration": 23,
    "start_time": "2022-03-22T13:21:43.553Z"
   },
   {
    "duration": 6,
    "start_time": "2022-03-22T13:21:43.578Z"
   },
   {
    "duration": 4,
    "start_time": "2022-03-22T13:21:43.586Z"
   },
   {
    "duration": 211,
    "start_time": "2022-03-22T13:21:43.592Z"
   },
   {
    "duration": 2,
    "start_time": "2022-03-22T13:21:43.805Z"
   },
   {
    "duration": 37,
    "start_time": "2022-03-22T13:21:43.809Z"
   },
   {
    "duration": 9,
    "start_time": "2022-03-22T13:21:43.847Z"
   },
   {
    "duration": 21,
    "start_time": "2022-03-22T13:21:43.858Z"
   },
   {
    "duration": 19,
    "start_time": "2022-03-22T13:21:43.881Z"
   },
   {
    "duration": 634,
    "start_time": "2022-03-22T13:21:43.902Z"
   },
   {
    "duration": 390,
    "start_time": "2022-03-22T13:21:44.538Z"
   },
   {
    "duration": 7,
    "start_time": "2022-03-22T13:21:44.930Z"
   },
   {
    "duration": 37,
    "start_time": "2022-03-22T13:46:56.051Z"
   },
   {
    "duration": 37,
    "start_time": "2022-03-22T13:47:45.169Z"
   },
   {
    "duration": 66,
    "start_time": "2022-03-22T13:50:49.702Z"
   },
   {
    "duration": 375,
    "start_time": "2022-03-22T14:30:04.901Z"
   },
   {
    "duration": 416,
    "start_time": "2022-03-22T14:30:05.278Z"
   },
   {
    "duration": 17,
    "start_time": "2022-03-22T14:30:05.695Z"
   },
   {
    "duration": 24,
    "start_time": "2022-03-22T14:30:05.714Z"
   },
   {
    "duration": 41,
    "start_time": "2022-03-22T14:30:05.740Z"
   },
   {
    "duration": 55,
    "start_time": "2022-03-22T14:30:05.782Z"
   },
   {
    "duration": 29,
    "start_time": "2022-03-22T14:30:05.838Z"
   },
   {
    "duration": 32,
    "start_time": "2022-03-22T14:30:05.868Z"
   },
   {
    "duration": 51,
    "start_time": "2022-03-22T14:30:05.901Z"
   },
   {
    "duration": 15,
    "start_time": "2022-03-22T14:30:05.955Z"
   },
   {
    "duration": 77,
    "start_time": "2022-03-22T14:30:05.972Z"
   },
   {
    "duration": 44,
    "start_time": "2022-03-22T14:30:06.051Z"
   },
   {
    "duration": 50,
    "start_time": "2022-03-22T14:30:06.097Z"
   },
   {
    "duration": 60,
    "start_time": "2022-03-22T14:30:06.149Z"
   },
   {
    "duration": 10,
    "start_time": "2022-03-22T14:30:06.211Z"
   },
   {
    "duration": 64,
    "start_time": "2022-03-22T14:30:06.222Z"
   },
   {
    "duration": 94,
    "start_time": "2022-03-22T14:30:06.288Z"
   },
   {
    "duration": 29,
    "start_time": "2022-03-22T14:30:06.383Z"
   },
   {
    "duration": 8,
    "start_time": "2022-03-22T14:30:06.414Z"
   },
   {
    "duration": 58,
    "start_time": "2022-03-22T14:30:06.424Z"
   },
   {
    "duration": 42,
    "start_time": "2022-03-22T14:30:06.484Z"
   },
   {
    "duration": 42,
    "start_time": "2022-03-22T14:30:06.527Z"
   },
   {
    "duration": 7,
    "start_time": "2022-03-22T14:30:06.570Z"
   },
   {
    "duration": 58,
    "start_time": "2022-03-22T14:30:06.579Z"
   },
   {
    "duration": 12,
    "start_time": "2022-03-22T14:30:06.639Z"
   },
   {
    "duration": 14,
    "start_time": "2022-03-22T14:30:06.652Z"
   },
   {
    "duration": 30,
    "start_time": "2022-03-22T14:30:06.668Z"
   },
   {
    "duration": 53,
    "start_time": "2022-03-22T14:30:06.702Z"
   },
   {
    "duration": 23,
    "start_time": "2022-03-22T14:30:06.756Z"
   },
   {
    "duration": 17,
    "start_time": "2022-03-22T14:30:06.780Z"
   },
   {
    "duration": 229,
    "start_time": "2022-03-22T14:30:06.799Z"
   },
   {
    "duration": 67,
    "start_time": "2022-03-22T14:30:07.030Z"
   },
   {
    "duration": 10,
    "start_time": "2022-03-22T14:30:07.099Z"
   },
   {
    "duration": 37,
    "start_time": "2022-03-22T14:30:07.111Z"
   },
   {
    "duration": 40,
    "start_time": "2022-03-22T14:30:07.150Z"
   },
   {
    "duration": 573,
    "start_time": "2022-03-22T14:30:07.192Z"
   },
   {
    "duration": 356,
    "start_time": "2022-03-22T14:30:07.766Z"
   },
   {
    "duration": 16,
    "start_time": "2022-03-22T14:30:08.123Z"
   },
   {
    "duration": 62,
    "start_time": "2022-03-22T14:32:05.213Z"
   },
   {
    "duration": 18,
    "start_time": "2022-03-22T14:32:32.182Z"
   },
   {
    "duration": 26,
    "start_time": "2022-03-22T14:33:20.376Z"
   },
   {
    "duration": 25,
    "start_time": "2022-03-22T14:33:37.598Z"
   },
   {
    "duration": 51,
    "start_time": "2022-03-22T14:33:44.931Z"
   },
   {
    "duration": 82,
    "start_time": "2022-03-22T14:34:49.960Z"
   },
   {
    "duration": 21,
    "start_time": "2022-03-22T14:35:01.376Z"
   },
   {
    "duration": 39,
    "start_time": "2022-03-22T14:36:10.765Z"
   },
   {
    "duration": 118,
    "start_time": "2022-03-22T14:36:41.319Z"
   },
   {
    "duration": 18,
    "start_time": "2022-03-22T14:37:19.850Z"
   },
   {
    "duration": 20,
    "start_time": "2022-03-22T14:38:08.057Z"
   },
   {
    "duration": 13,
    "start_time": "2022-03-22T14:38:50.565Z"
   },
   {
    "duration": 38,
    "start_time": "2022-03-22T14:39:01.363Z"
   },
   {
    "duration": 23,
    "start_time": "2022-03-22T14:40:45.723Z"
   },
   {
    "duration": 39,
    "start_time": "2022-03-22T14:41:52.556Z"
   },
   {
    "duration": 21,
    "start_time": "2022-03-22T14:42:47.965Z"
   },
   {
    "duration": 10,
    "start_time": "2022-03-22T14:43:19.346Z"
   },
   {
    "duration": 19,
    "start_time": "2022-03-22T14:43:22.302Z"
   },
   {
    "duration": 11,
    "start_time": "2022-03-22T14:43:37.384Z"
   },
   {
    "duration": 14,
    "start_time": "2022-03-22T14:44:28.791Z"
   },
   {
    "duration": 24,
    "start_time": "2022-03-22T14:44:32.735Z"
   },
   {
    "duration": 12,
    "start_time": "2022-03-22T14:46:41.221Z"
   },
   {
    "duration": 12,
    "start_time": "2022-03-22T14:47:33.172Z"
   },
   {
    "duration": 14,
    "start_time": "2022-03-22T14:48:20.720Z"
   },
   {
    "duration": 41,
    "start_time": "2022-03-22T14:49:18.061Z"
   },
   {
    "duration": 42,
    "start_time": "2022-03-22T14:51:43.546Z"
   },
   {
    "duration": 13,
    "start_time": "2022-03-22T14:52:24.799Z"
   },
   {
    "duration": 24,
    "start_time": "2022-03-22T14:55:44.775Z"
   },
   {
    "duration": 500,
    "start_time": "2022-03-22T20:43:10.043Z"
   },
   {
    "duration": 542,
    "start_time": "2022-03-22T20:43:10.546Z"
   },
   {
    "duration": 30,
    "start_time": "2022-03-22T20:43:11.091Z"
   },
   {
    "duration": 32,
    "start_time": "2022-03-22T20:43:11.124Z"
   },
   {
    "duration": 12,
    "start_time": "2022-03-22T20:43:11.159Z"
   },
   {
    "duration": 15,
    "start_time": "2022-03-22T20:43:11.174Z"
   },
   {
    "duration": 58,
    "start_time": "2022-03-22T20:43:11.192Z"
   },
   {
    "duration": 11,
    "start_time": "2022-03-22T20:43:11.252Z"
   },
   {
    "duration": 30,
    "start_time": "2022-03-22T20:43:11.265Z"
   },
   {
    "duration": 16,
    "start_time": "2022-03-22T20:43:11.299Z"
   },
   {
    "duration": 33,
    "start_time": "2022-03-22T20:43:11.343Z"
   },
   {
    "duration": 11,
    "start_time": "2022-03-22T20:43:11.378Z"
   },
   {
    "duration": 71,
    "start_time": "2022-03-22T20:43:11.392Z"
   },
   {
    "duration": 90,
    "start_time": "2022-03-22T20:43:11.465Z"
   },
   {
    "duration": 15,
    "start_time": "2022-03-22T20:43:11.558Z"
   },
   {
    "duration": 36,
    "start_time": "2022-03-22T20:43:11.576Z"
   },
   {
    "duration": 140,
    "start_time": "2022-03-22T20:43:11.615Z"
   },
   {
    "duration": 48,
    "start_time": "2022-03-22T20:43:11.757Z"
   },
   {
    "duration": 11,
    "start_time": "2022-03-22T20:43:11.807Z"
   },
   {
    "duration": 50,
    "start_time": "2022-03-22T20:43:11.843Z"
   },
   {
    "duration": 86,
    "start_time": "2022-03-22T20:43:11.895Z"
   },
   {
    "duration": 68,
    "start_time": "2022-03-22T20:43:11.983Z"
   },
   {
    "duration": 11,
    "start_time": "2022-03-22T20:43:12.053Z"
   },
   {
    "duration": 50,
    "start_time": "2022-03-22T20:43:12.067Z"
   },
   {
    "duration": 38,
    "start_time": "2022-03-22T20:43:12.119Z"
   },
   {
    "duration": 13,
    "start_time": "2022-03-22T20:43:12.160Z"
   },
   {
    "duration": 19,
    "start_time": "2022-03-22T20:43:12.175Z"
   },
   {
    "duration": 52,
    "start_time": "2022-03-22T20:43:12.199Z"
   },
   {
    "duration": 10,
    "start_time": "2022-03-22T20:43:12.253Z"
   },
   {
    "duration": 310,
    "start_time": "2022-03-22T20:43:12.265Z"
   },
   {
    "duration": 31,
    "start_time": "2022-03-22T20:43:12.577Z"
   },
   {
    "duration": 121,
    "start_time": "2022-03-22T20:43:12.610Z"
   },
   {
    "duration": 22,
    "start_time": "2022-03-22T20:43:12.733Z"
   },
   {
    "duration": 34,
    "start_time": "2022-03-22T20:43:12.757Z"
   },
   {
    "duration": 68,
    "start_time": "2022-03-22T20:43:12.794Z"
   },
   {
    "duration": 1159,
    "start_time": "2022-03-22T20:43:12.865Z"
   },
   {
    "duration": 554,
    "start_time": "2022-03-22T20:43:14.028Z"
   },
   {
    "duration": 4,
    "start_time": "2022-03-22T20:43:14.584Z"
   },
   {
    "duration": 804,
    "start_time": "2022-03-22T21:00:01.323Z"
   },
   {
    "duration": 32,
    "start_time": "2022-03-22T21:01:47.393Z"
   },
   {
    "duration": 7,
    "start_time": "2022-03-22T21:02:39.823Z"
   },
   {
    "duration": 110,
    "start_time": "2022-03-22T21:02:51.326Z"
   },
   {
    "duration": 11,
    "start_time": "2022-03-22T21:02:55.471Z"
   },
   {
    "duration": 9,
    "start_time": "2022-03-22T21:03:03.814Z"
   },
   {
    "duration": 9,
    "start_time": "2022-03-22T21:04:14.838Z"
   },
   {
    "duration": 9,
    "start_time": "2022-03-22T21:04:30.504Z"
   },
   {
    "duration": 120,
    "start_time": "2022-03-22T21:07:38.754Z"
   },
   {
    "duration": 15,
    "start_time": "2022-03-22T21:23:09.917Z"
   },
   {
    "duration": 8,
    "start_time": "2022-03-22T21:23:14.732Z"
   },
   {
    "duration": 10,
    "start_time": "2022-03-22T21:23:38.238Z"
   },
   {
    "duration": 537,
    "start_time": "2022-03-22T21:24:07.043Z"
   },
   {
    "duration": 606,
    "start_time": "2022-03-22T21:24:07.582Z"
   },
   {
    "duration": 33,
    "start_time": "2022-03-22T21:24:08.190Z"
   },
   {
    "duration": 37,
    "start_time": "2022-03-22T21:24:08.226Z"
   },
   {
    "duration": 8,
    "start_time": "2022-03-22T21:24:08.265Z"
   },
   {
    "duration": 12,
    "start_time": "2022-03-22T21:24:08.276Z"
   },
   {
    "duration": 57,
    "start_time": "2022-03-22T21:24:08.290Z"
   },
   {
    "duration": 31,
    "start_time": "2022-03-22T21:24:08.350Z"
   },
   {
    "duration": 11,
    "start_time": "2022-03-22T21:24:08.383Z"
   },
   {
    "duration": 51,
    "start_time": "2022-03-22T21:24:08.399Z"
   },
   {
    "duration": 16,
    "start_time": "2022-03-22T21:24:08.452Z"
   },
   {
    "duration": 30,
    "start_time": "2022-03-22T21:24:08.470Z"
   },
   {
    "duration": 12,
    "start_time": "2022-03-22T21:24:08.503Z"
   },
   {
    "duration": 39,
    "start_time": "2022-03-22T21:24:08.544Z"
   },
   {
    "duration": 117,
    "start_time": "2022-03-22T21:24:08.586Z"
   },
   {
    "duration": 13,
    "start_time": "2022-03-22T21:24:08.706Z"
   },
   {
    "duration": 60,
    "start_time": "2022-03-22T21:24:08.721Z"
   },
   {
    "duration": 125,
    "start_time": "2022-03-22T21:24:08.783Z"
   },
   {
    "duration": 63,
    "start_time": "2022-03-22T21:24:08.911Z"
   },
   {
    "duration": 12,
    "start_time": "2022-03-22T21:24:08.978Z"
   },
   {
    "duration": 94,
    "start_time": "2022-03-22T21:24:08.993Z"
   },
   {
    "duration": 85,
    "start_time": "2022-03-22T21:24:09.089Z"
   },
   {
    "duration": 76,
    "start_time": "2022-03-22T21:24:09.177Z"
   },
   {
    "duration": 12,
    "start_time": "2022-03-22T21:24:09.256Z"
   },
   {
    "duration": 82,
    "start_time": "2022-03-22T21:24:09.271Z"
   },
   {
    "duration": 19,
    "start_time": "2022-03-22T21:24:09.356Z"
   },
   {
    "duration": 6,
    "start_time": "2022-03-22T21:24:09.378Z"
   },
   {
    "duration": 54,
    "start_time": "2022-03-22T21:24:09.391Z"
   },
   {
    "duration": 34,
    "start_time": "2022-03-22T21:24:09.449Z"
   },
   {
    "duration": 12,
    "start_time": "2022-03-22T21:24:09.486Z"
   },
   {
    "duration": 368,
    "start_time": "2022-03-22T21:24:09.500Z"
   },
   {
    "duration": 32,
    "start_time": "2022-03-22T21:24:09.870Z"
   },
   {
    "duration": 161,
    "start_time": "2022-03-22T21:24:09.904Z"
   },
   {
    "duration": 15,
    "start_time": "2022-03-22T21:24:10.067Z"
   },
   {
    "duration": 59,
    "start_time": "2022-03-22T21:24:10.084Z"
   },
   {
    "duration": 33,
    "start_time": "2022-03-22T21:24:10.147Z"
   },
   {
    "duration": 1342,
    "start_time": "2022-03-22T21:24:10.182Z"
   },
   {
    "duration": 10,
    "start_time": "2022-03-22T21:24:11.526Z"
   },
   {
    "duration": 3439,
    "start_time": "2022-03-22T21:24:11.544Z"
   },
   {
    "duration": 0,
    "start_time": "2022-03-22T21:24:14.985Z"
   },
   {
    "duration": 480,
    "start_time": "2022-03-22T21:34:27.789Z"
   },
   {
    "duration": 567,
    "start_time": "2022-03-22T21:34:28.272Z"
   },
   {
    "duration": 29,
    "start_time": "2022-03-22T21:34:28.842Z"
   },
   {
    "duration": 16,
    "start_time": "2022-03-22T21:34:28.874Z"
   },
   {
    "duration": 8,
    "start_time": "2022-03-22T21:34:28.892Z"
   },
   {
    "duration": 50,
    "start_time": "2022-03-22T21:34:28.902Z"
   },
   {
    "duration": 17,
    "start_time": "2022-03-22T21:34:28.954Z"
   },
   {
    "duration": 28,
    "start_time": "2022-03-22T21:34:28.973Z"
   },
   {
    "duration": 13,
    "start_time": "2022-03-22T21:34:29.004Z"
   },
   {
    "duration": 32,
    "start_time": "2022-03-22T21:34:29.047Z"
   },
   {
    "duration": 13,
    "start_time": "2022-03-22T21:34:29.082Z"
   },
   {
    "duration": 64,
    "start_time": "2022-03-22T21:34:29.098Z"
   },
   {
    "duration": 12,
    "start_time": "2022-03-22T21:34:29.164Z"
   },
   {
    "duration": 88,
    "start_time": "2022-03-22T21:34:29.178Z"
   },
   {
    "duration": 85,
    "start_time": "2022-03-22T21:34:29.268Z"
   },
   {
    "duration": 14,
    "start_time": "2022-03-22T21:34:29.355Z"
   },
   {
    "duration": 36,
    "start_time": "2022-03-22T21:34:29.371Z"
   },
   {
    "duration": 115,
    "start_time": "2022-03-22T21:34:29.410Z"
   },
   {
    "duration": 45,
    "start_time": "2022-03-22T21:34:29.527Z"
   },
   {
    "duration": 13,
    "start_time": "2022-03-22T21:34:29.575Z"
   },
   {
    "duration": 63,
    "start_time": "2022-03-22T21:34:29.591Z"
   },
   {
    "duration": 90,
    "start_time": "2022-03-22T21:34:29.656Z"
   },
   {
    "duration": 72,
    "start_time": "2022-03-22T21:34:29.749Z"
   },
   {
    "duration": 21,
    "start_time": "2022-03-22T21:34:29.823Z"
   },
   {
    "duration": 57,
    "start_time": "2022-03-22T21:34:29.846Z"
   },
   {
    "duration": 17,
    "start_time": "2022-03-22T21:34:29.906Z"
   },
   {
    "duration": 17,
    "start_time": "2022-03-22T21:34:29.926Z"
   },
   {
    "duration": 24,
    "start_time": "2022-03-22T21:34:29.948Z"
   },
   {
    "duration": 32,
    "start_time": "2022-03-22T21:34:29.975Z"
   },
   {
    "duration": 9,
    "start_time": "2022-03-22T21:34:30.009Z"
   },
   {
    "duration": 338,
    "start_time": "2022-03-22T21:34:30.020Z"
   },
   {
    "duration": 89,
    "start_time": "2022-03-22T21:34:30.361Z"
   },
   {
    "duration": 222,
    "start_time": "2022-03-22T21:34:30.452Z"
   },
   {
    "duration": 12,
    "start_time": "2022-03-22T21:34:30.677Z"
   },
   {
    "duration": 63,
    "start_time": "2022-03-22T21:34:30.693Z"
   },
   {
    "duration": 32,
    "start_time": "2022-03-22T21:34:30.759Z"
   },
   {
    "duration": 1363,
    "start_time": "2022-03-22T21:34:30.794Z"
   },
   {
    "duration": 887,
    "start_time": "2022-03-22T21:34:32.159Z"
   },
   {
    "duration": 9,
    "start_time": "2022-03-22T21:34:33.049Z"
   },
   {
    "duration": 3169,
    "start_time": "2022-03-22T21:34:33.061Z"
   },
   {
    "duration": 0,
    "start_time": "2022-03-22T21:34:36.232Z"
   },
   {
    "duration": 975,
    "start_time": "2022-03-22T21:34:54.255Z"
   },
   {
    "duration": 9,
    "start_time": "2022-03-22T21:35:08.327Z"
   },
   {
    "duration": 10,
    "start_time": "2022-03-22T21:35:23.985Z"
   },
   {
    "duration": 1571,
    "start_time": "2022-03-22T21:36:03.595Z"
   },
   {
    "duration": 12,
    "start_time": "2022-03-22T21:36:40.745Z"
   },
   {
    "duration": 834,
    "start_time": "2022-03-22T21:37:12.534Z"
   },
   {
    "duration": 911,
    "start_time": "2022-03-22T21:43:35.103Z"
   },
   {
    "duration": 1035,
    "start_time": "2022-03-22T21:43:44.471Z"
   },
   {
    "duration": 368,
    "start_time": "2022-03-22T21:43:51.238Z"
   },
   {
    "duration": 274,
    "start_time": "2022-03-22T21:43:56.555Z"
   },
   {
    "duration": 283,
    "start_time": "2022-03-22T21:44:07.320Z"
   },
   {
    "duration": 229,
    "start_time": "2022-03-22T21:50:08.780Z"
   },
   {
    "duration": 428,
    "start_time": "2022-03-22T21:50:17.117Z"
   },
   {
    "duration": 845,
    "start_time": "2022-03-22T21:50:22.789Z"
   },
   {
    "duration": 337,
    "start_time": "2022-03-22T21:50:29.097Z"
   },
   {
    "duration": 496,
    "start_time": "2022-03-22T21:54:59.782Z"
   },
   {
    "duration": 573,
    "start_time": "2022-03-22T21:55:00.282Z"
   },
   {
    "duration": 30,
    "start_time": "2022-03-22T21:55:00.858Z"
   },
   {
    "duration": 17,
    "start_time": "2022-03-22T21:55:00.891Z"
   },
   {
    "duration": 46,
    "start_time": "2022-03-22T21:55:00.910Z"
   },
   {
    "duration": 14,
    "start_time": "2022-03-22T21:55:00.958Z"
   },
   {
    "duration": 24,
    "start_time": "2022-03-22T21:55:00.975Z"
   },
   {
    "duration": 45,
    "start_time": "2022-03-22T21:55:01.002Z"
   },
   {
    "duration": 14,
    "start_time": "2022-03-22T21:55:01.050Z"
   },
   {
    "duration": 36,
    "start_time": "2022-03-22T21:55:01.069Z"
   },
   {
    "duration": 13,
    "start_time": "2022-03-22T21:55:01.108Z"
   },
   {
    "duration": 42,
    "start_time": "2022-03-22T21:55:01.144Z"
   },
   {
    "duration": 13,
    "start_time": "2022-03-22T21:55:01.189Z"
   },
   {
    "duration": 63,
    "start_time": "2022-03-22T21:55:01.204Z"
   },
   {
    "duration": 99,
    "start_time": "2022-03-22T21:55:01.270Z"
   },
   {
    "duration": 13,
    "start_time": "2022-03-22T21:55:01.372Z"
   },
   {
    "duration": 37,
    "start_time": "2022-03-22T21:55:01.387Z"
   },
   {
    "duration": 140,
    "start_time": "2022-03-22T21:55:01.426Z"
   },
   {
    "duration": 49,
    "start_time": "2022-03-22T21:55:01.569Z"
   },
   {
    "duration": 38,
    "start_time": "2022-03-22T21:55:01.620Z"
   },
   {
    "duration": 56,
    "start_time": "2022-03-22T21:55:01.660Z"
   },
   {
    "duration": 86,
    "start_time": "2022-03-22T21:55:01.718Z"
   },
   {
    "duration": 78,
    "start_time": "2022-03-22T21:55:01.806Z"
   },
   {
    "duration": 12,
    "start_time": "2022-03-22T21:55:01.886Z"
   },
   {
    "duration": 75,
    "start_time": "2022-03-22T21:55:01.900Z"
   },
   {
    "duration": 17,
    "start_time": "2022-03-22T21:55:01.978Z"
   },
   {
    "duration": 6,
    "start_time": "2022-03-22T21:55:01.998Z"
   },
   {
    "duration": 47,
    "start_time": "2022-03-22T21:55:02.010Z"
   },
   {
    "duration": 38,
    "start_time": "2022-03-22T21:55:02.059Z"
   },
   {
    "duration": 10,
    "start_time": "2022-03-22T21:55:02.100Z"
   },
   {
    "duration": 345,
    "start_time": "2022-03-22T21:55:02.113Z"
   },
   {
    "duration": 31,
    "start_time": "2022-03-22T21:55:02.461Z"
   },
   {
    "duration": 140,
    "start_time": "2022-03-22T21:55:02.495Z"
   },
   {
    "duration": 24,
    "start_time": "2022-03-22T21:55:02.637Z"
   },
   {
    "duration": 30,
    "start_time": "2022-03-22T21:55:02.663Z"
   },
   {
    "duration": 66,
    "start_time": "2022-03-22T21:55:02.695Z"
   },
   {
    "duration": 1233,
    "start_time": "2022-03-22T21:55:02.763Z"
   },
   {
    "duration": 816,
    "start_time": "2022-03-22T21:55:03.999Z"
   },
   {
    "duration": 9,
    "start_time": "2022-03-22T21:55:04.817Z"
   },
   {
    "duration": 23,
    "start_time": "2022-03-22T21:55:04.828Z"
   },
   {
    "duration": 306,
    "start_time": "2022-03-22T21:55:04.854Z"
   },
   {
    "duration": 765,
    "start_time": "2022-03-22T21:59:55.982Z"
   },
   {
    "duration": 71,
    "start_time": "2022-03-23T16:09:10.724Z"
   },
   {
    "duration": 495,
    "start_time": "2022-03-23T16:09:16.688Z"
   },
   {
    "duration": 482,
    "start_time": "2022-03-23T16:09:17.187Z"
   },
   {
    "duration": 31,
    "start_time": "2022-03-23T16:09:17.671Z"
   },
   {
    "duration": 16,
    "start_time": "2022-03-23T16:09:17.705Z"
   },
   {
    "duration": 12,
    "start_time": "2022-03-23T16:09:17.723Z"
   },
   {
    "duration": 12,
    "start_time": "2022-03-23T16:09:17.767Z"
   },
   {
    "duration": 15,
    "start_time": "2022-03-23T16:09:17.781Z"
   },
   {
    "duration": 19,
    "start_time": "2022-03-23T16:09:17.799Z"
   },
   {
    "duration": 51,
    "start_time": "2022-03-23T16:09:17.821Z"
   },
   {
    "duration": 26,
    "start_time": "2022-03-23T16:09:17.877Z"
   },
   {
    "duration": 12,
    "start_time": "2022-03-23T16:09:17.906Z"
   },
   {
    "duration": 68,
    "start_time": "2022-03-23T16:09:17.921Z"
   },
   {
    "duration": 11,
    "start_time": "2022-03-23T16:09:17.992Z"
   },
   {
    "duration": 34,
    "start_time": "2022-03-23T16:09:18.007Z"
   },
   {
    "duration": 78,
    "start_time": "2022-03-23T16:09:18.067Z"
   },
   {
    "duration": 28,
    "start_time": "2022-03-23T16:09:18.147Z"
   },
   {
    "duration": 37,
    "start_time": "2022-03-23T16:09:18.177Z"
   },
   {
    "duration": 124,
    "start_time": "2022-03-23T16:09:18.216Z"
   },
   {
    "duration": 55,
    "start_time": "2022-03-23T16:09:18.343Z"
   },
   {
    "duration": 12,
    "start_time": "2022-03-23T16:09:18.400Z"
   },
   {
    "duration": 70,
    "start_time": "2022-03-23T16:09:18.414Z"
   },
   {
    "duration": 66,
    "start_time": "2022-03-23T16:09:18.486Z"
   },
   {
    "duration": 70,
    "start_time": "2022-03-23T16:09:18.568Z"
   },
   {
    "duration": 35,
    "start_time": "2022-03-23T16:09:18.640Z"
   },
   {
    "duration": 65,
    "start_time": "2022-03-23T16:09:18.678Z"
   },
   {
    "duration": 42,
    "start_time": "2022-03-23T16:09:18.745Z"
   },
   {
    "duration": 6,
    "start_time": "2022-03-23T16:09:18.790Z"
   },
   {
    "duration": 15,
    "start_time": "2022-03-23T16:09:18.801Z"
   },
   {
    "duration": 64,
    "start_time": "2022-03-23T16:09:18.819Z"
   },
   {
    "duration": 9,
    "start_time": "2022-03-23T16:09:18.885Z"
   },
   {
    "duration": 295,
    "start_time": "2022-03-23T16:09:18.896Z"
   },
   {
    "duration": 31,
    "start_time": "2022-03-23T16:09:19.193Z"
   },
   {
    "duration": 143,
    "start_time": "2022-03-23T16:09:19.226Z"
   },
   {
    "duration": 11,
    "start_time": "2022-03-23T16:09:19.371Z"
   },
   {
    "duration": 31,
    "start_time": "2022-03-23T16:09:19.384Z"
   },
   {
    "duration": 64,
    "start_time": "2022-03-23T16:09:19.417Z"
   },
   {
    "duration": 1356,
    "start_time": "2022-03-23T16:09:19.483Z"
   },
   {
    "duration": 750,
    "start_time": "2022-03-23T16:09:20.841Z"
   },
   {
    "duration": 774,
    "start_time": "2022-03-23T16:09:21.593Z"
   },
   {
    "duration": 5,
    "start_time": "2022-03-23T16:09:22.370Z"
   },
   {
    "duration": 320,
    "start_time": "2022-03-23T16:09:22.378Z"
   },
   {
    "duration": 119,
    "start_time": "2022-03-23T16:12:25.840Z"
   },
   {
    "duration": 1141,
    "start_time": "2022-03-23T16:19:52.126Z"
   },
   {
    "duration": 270,
    "start_time": "2022-03-23T16:20:25.280Z"
   },
   {
    "duration": 289,
    "start_time": "2022-03-23T16:20:36.648Z"
   },
   {
    "duration": 285,
    "start_time": "2022-03-23T16:20:49.159Z"
   },
   {
    "duration": 266,
    "start_time": "2022-03-23T16:20:54.929Z"
   },
   {
    "duration": 232,
    "start_time": "2022-03-23T16:20:58.351Z"
   },
   {
    "duration": 294,
    "start_time": "2022-03-23T16:21:04.487Z"
   },
   {
    "duration": 290,
    "start_time": "2022-03-23T16:22:27.185Z"
   },
   {
    "duration": 445,
    "start_time": "2022-03-23T16:22:35.471Z"
   },
   {
    "duration": 285,
    "start_time": "2022-03-23T16:22:43.687Z"
   },
   {
    "duration": 330,
    "start_time": "2022-03-23T16:23:35.705Z"
   },
   {
    "duration": 330,
    "start_time": "2022-03-23T16:23:53.994Z"
   },
   {
    "duration": 411,
    "start_time": "2022-03-23T16:23:59.872Z"
   },
   {
    "duration": 341,
    "start_time": "2022-03-23T16:24:27.816Z"
   },
   {
    "duration": 435,
    "start_time": "2022-03-23T16:25:19.403Z"
   },
   {
    "duration": 441,
    "start_time": "2022-03-23T16:25:36.379Z"
   },
   {
    "duration": 471,
    "start_time": "2022-03-23T16:25:47.538Z"
   },
   {
    "duration": 382,
    "start_time": "2022-03-23T16:28:37.788Z"
   },
   {
    "duration": 398,
    "start_time": "2022-03-23T16:28:54.172Z"
   },
   {
    "duration": 7,
    "start_time": "2022-03-23T16:29:20.745Z"
   },
   {
    "duration": 11,
    "start_time": "2022-03-23T16:29:42.372Z"
   },
   {
    "duration": 6,
    "start_time": "2022-03-23T16:30:23.549Z"
   },
   {
    "duration": 421,
    "start_time": "2022-03-23T16:30:48.816Z"
   },
   {
    "duration": 279,
    "start_time": "2022-03-23T16:31:00.556Z"
   },
   {
    "duration": 364,
    "start_time": "2022-03-23T16:31:09.958Z"
   },
   {
    "duration": 318,
    "start_time": "2022-03-23T16:31:15.915Z"
   },
   {
    "duration": 353,
    "start_time": "2022-03-23T16:31:26.063Z"
   },
   {
    "duration": 315,
    "start_time": "2022-03-23T16:32:00.400Z"
   },
   {
    "duration": 343,
    "start_time": "2022-03-23T16:32:40.466Z"
   },
   {
    "duration": 458,
    "start_time": "2022-03-23T16:36:21.754Z"
   },
   {
    "duration": 331,
    "start_time": "2022-03-23T18:11:20.875Z"
   },
   {
    "duration": 1236,
    "start_time": "2022-03-23T18:12:51.725Z"
   },
   {
    "duration": 796,
    "start_time": "2022-03-23T18:12:52.964Z"
   },
   {
    "duration": 37,
    "start_time": "2022-03-23T18:12:53.764Z"
   },
   {
    "duration": 24,
    "start_time": "2022-03-23T18:12:53.805Z"
   },
   {
    "duration": 43,
    "start_time": "2022-03-23T18:12:53.833Z"
   },
   {
    "duration": 13,
    "start_time": "2022-03-23T18:12:53.878Z"
   },
   {
    "duration": 18,
    "start_time": "2022-03-23T18:12:53.893Z"
   },
   {
    "duration": 56,
    "start_time": "2022-03-23T18:12:53.914Z"
   },
   {
    "duration": 11,
    "start_time": "2022-03-23T18:12:53.972Z"
   },
   {
    "duration": 31,
    "start_time": "2022-03-23T18:12:53.988Z"
   },
   {
    "duration": 48,
    "start_time": "2022-03-23T18:12:54.022Z"
   },
   {
    "duration": 33,
    "start_time": "2022-03-23T18:12:54.073Z"
   },
   {
    "duration": 12,
    "start_time": "2022-03-23T18:12:54.109Z"
   },
   {
    "duration": 74,
    "start_time": "2022-03-23T18:12:54.123Z"
   },
   {
    "duration": 91,
    "start_time": "2022-03-23T18:12:54.200Z"
   },
   {
    "duration": 15,
    "start_time": "2022-03-23T18:12:54.294Z"
   },
   {
    "duration": 57,
    "start_time": "2022-03-23T18:12:54.312Z"
   },
   {
    "duration": 116,
    "start_time": "2022-03-23T18:12:54.371Z"
   },
   {
    "duration": 46,
    "start_time": "2022-03-23T18:12:54.489Z"
   },
   {
    "duration": 30,
    "start_time": "2022-03-23T18:12:54.538Z"
   },
   {
    "duration": 47,
    "start_time": "2022-03-23T18:12:54.571Z"
   },
   {
    "duration": 87,
    "start_time": "2022-03-23T18:12:54.620Z"
   },
   {
    "duration": 69,
    "start_time": "2022-03-23T18:12:54.710Z"
   },
   {
    "duration": 13,
    "start_time": "2022-03-23T18:12:54.781Z"
   },
   {
    "duration": 49,
    "start_time": "2022-03-23T18:12:54.796Z"
   },
   {
    "duration": 35,
    "start_time": "2022-03-23T18:12:54.847Z"
   },
   {
    "duration": 9,
    "start_time": "2022-03-23T18:12:54.885Z"
   },
   {
    "duration": 18,
    "start_time": "2022-03-23T18:12:54.899Z"
   },
   {
    "duration": 67,
    "start_time": "2022-03-23T18:12:54.919Z"
   },
   {
    "duration": 10,
    "start_time": "2022-03-23T18:12:54.988Z"
   },
   {
    "duration": 273,
    "start_time": "2022-03-23T18:12:55.000Z"
   },
   {
    "duration": 31,
    "start_time": "2022-03-23T18:12:55.276Z"
   },
   {
    "duration": 145,
    "start_time": "2022-03-23T18:12:55.309Z"
   },
   {
    "duration": 18,
    "start_time": "2022-03-23T18:12:55.456Z"
   },
   {
    "duration": 31,
    "start_time": "2022-03-23T18:12:55.477Z"
   },
   {
    "duration": 62,
    "start_time": "2022-03-23T18:12:55.510Z"
   },
   {
    "duration": 833,
    "start_time": "2022-03-23T18:12:55.575Z"
   },
   {
    "duration": 775,
    "start_time": "2022-03-23T18:12:56.410Z"
   },
   {
    "duration": 768,
    "start_time": "2022-03-23T18:12:57.187Z"
   },
   {
    "duration": 345,
    "start_time": "2022-03-23T18:12:57.958Z"
   },
   {
    "duration": 322,
    "start_time": "2022-03-23T18:12:58.306Z"
   },
   {
    "duration": 118,
    "start_time": "2022-03-23T18:12:58.630Z"
   },
   {
    "duration": 6,
    "start_time": "2022-03-23T18:14:07.879Z"
   },
   {
    "duration": 465,
    "start_time": "2022-03-23T18:14:19.488Z"
   },
   {
    "duration": 381,
    "start_time": "2022-03-23T18:14:26.731Z"
   },
   {
    "duration": 112,
    "start_time": "2022-03-23T19:18:09.384Z"
   },
   {
    "duration": 2038,
    "start_time": "2022-03-23T19:25:39.880Z"
   },
   {
    "duration": 590,
    "start_time": "2022-03-23T19:25:41.922Z"
   },
   {
    "duration": 32,
    "start_time": "2022-03-23T19:25:42.515Z"
   },
   {
    "duration": 18,
    "start_time": "2022-03-23T19:25:42.567Z"
   },
   {
    "duration": 11,
    "start_time": "2022-03-23T19:25:42.591Z"
   },
   {
    "duration": 16,
    "start_time": "2022-03-23T19:25:42.605Z"
   },
   {
    "duration": 54,
    "start_time": "2022-03-23T19:25:42.624Z"
   },
   {
    "duration": 60,
    "start_time": "2022-03-23T19:25:42.681Z"
   },
   {
    "duration": 14,
    "start_time": "2022-03-23T19:25:42.744Z"
   },
   {
    "duration": 33,
    "start_time": "2022-03-23T19:25:42.761Z"
   },
   {
    "duration": 15,
    "start_time": "2022-03-23T19:25:42.797Z"
   },
   {
    "duration": 81,
    "start_time": "2022-03-23T19:25:42.815Z"
   },
   {
    "duration": 13,
    "start_time": "2022-03-23T19:25:42.899Z"
   },
   {
    "duration": 62,
    "start_time": "2022-03-23T19:25:42.919Z"
   },
   {
    "duration": 132,
    "start_time": "2022-03-23T19:25:42.985Z"
   },
   {
    "duration": 21,
    "start_time": "2022-03-23T19:25:43.120Z"
   },
   {
    "duration": 86,
    "start_time": "2022-03-23T19:25:43.144Z"
   },
   {
    "duration": 149,
    "start_time": "2022-03-23T19:25:43.233Z"
   },
   {
    "duration": 46,
    "start_time": "2022-03-23T19:25:43.387Z"
   },
   {
    "duration": 41,
    "start_time": "2022-03-23T19:25:43.436Z"
   },
   {
    "duration": 56,
    "start_time": "2022-03-23T19:25:43.480Z"
   },
   {
    "duration": 117,
    "start_time": "2022-03-23T19:25:43.539Z"
   },
   {
    "duration": 62,
    "start_time": "2022-03-23T19:25:43.668Z"
   },
   {
    "duration": 36,
    "start_time": "2022-03-23T19:25:43.733Z"
   },
   {
    "duration": 51,
    "start_time": "2022-03-23T19:25:43.773Z"
   },
   {
    "duration": 45,
    "start_time": "2022-03-23T19:25:43.829Z"
   },
   {
    "duration": 3,
    "start_time": "2022-03-23T19:25:43.877Z"
   },
   {
    "duration": 34,
    "start_time": "2022-03-23T19:25:43.883Z"
   },
   {
    "duration": 78,
    "start_time": "2022-03-23T19:25:43.920Z"
   },
   {
    "duration": 14,
    "start_time": "2022-03-23T19:25:44.001Z"
   },
   {
    "duration": 321,
    "start_time": "2022-03-23T19:25:44.019Z"
   },
   {
    "duration": 45,
    "start_time": "2022-03-23T19:25:44.343Z"
   },
   {
    "duration": 151,
    "start_time": "2022-03-23T19:25:44.390Z"
   },
   {
    "duration": 29,
    "start_time": "2022-03-23T19:25:44.544Z"
   },
   {
    "duration": 46,
    "start_time": "2022-03-23T19:25:44.577Z"
   },
   {
    "duration": 53,
    "start_time": "2022-03-23T19:25:44.626Z"
   },
   {
    "duration": 993,
    "start_time": "2022-03-23T19:25:44.684Z"
   },
   {
    "duration": 981,
    "start_time": "2022-03-23T19:25:45.680Z"
   },
   {
    "duration": 983,
    "start_time": "2022-03-23T19:25:46.668Z"
   },
   {
    "duration": 431,
    "start_time": "2022-03-23T19:25:47.654Z"
   },
   {
    "duration": 356,
    "start_time": "2022-03-23T19:25:48.090Z"
   },
   {
    "duration": 3,
    "start_time": "2022-03-23T19:25:48.449Z"
   },
   {
    "duration": 15,
    "start_time": "2022-03-23T19:25:48.454Z"
   },
   {
    "duration": 8,
    "start_time": "2022-03-23T19:32:55.400Z"
   },
   {
    "duration": 7,
    "start_time": "2022-03-23T19:33:02.326Z"
   },
   {
    "duration": 7,
    "start_time": "2022-03-23T19:33:08.822Z"
   },
   {
    "duration": 8,
    "start_time": "2022-03-23T19:33:13.959Z"
   },
   {
    "duration": 7,
    "start_time": "2022-03-23T19:33:18.978Z"
   },
   {
    "duration": 314,
    "start_time": "2022-03-23T19:36:11.317Z"
   },
   {
    "duration": 7,
    "start_time": "2022-03-23T19:37:09.439Z"
   },
   {
    "duration": 8,
    "start_time": "2022-03-23T19:38:00.589Z"
   },
   {
    "duration": 404,
    "start_time": "2022-03-23T19:39:27.548Z"
   },
   {
    "duration": 8,
    "start_time": "2022-03-23T19:40:36.433Z"
   },
   {
    "duration": 711,
    "start_time": "2022-03-23T19:41:17.970Z"
   },
   {
    "duration": 114,
    "start_time": "2022-03-23T20:28:36.596Z"
   },
   {
    "duration": 12,
    "start_time": "2022-03-23T20:28:46.902Z"
   },
   {
    "duration": 11,
    "start_time": "2022-03-23T20:31:14.451Z"
   },
   {
    "duration": 37,
    "start_time": "2022-03-23T20:32:17.647Z"
   },
   {
    "duration": 32,
    "start_time": "2022-03-23T20:32:30.796Z"
   },
   {
    "duration": 1450,
    "start_time": "2022-03-23T21:41:14.456Z"
   },
   {
    "duration": 492,
    "start_time": "2022-03-23T21:41:15.908Z"
   },
   {
    "duration": 25,
    "start_time": "2022-03-23T21:41:16.402Z"
   },
   {
    "duration": 16,
    "start_time": "2022-03-23T21:41:16.429Z"
   },
   {
    "duration": 7,
    "start_time": "2022-03-23T21:41:16.468Z"
   },
   {
    "duration": 12,
    "start_time": "2022-03-23T21:41:16.477Z"
   },
   {
    "duration": 15,
    "start_time": "2022-03-23T21:41:16.491Z"
   },
   {
    "duration": 16,
    "start_time": "2022-03-23T21:41:16.508Z"
   },
   {
    "duration": 51,
    "start_time": "2022-03-23T21:41:16.526Z"
   },
   {
    "duration": 29,
    "start_time": "2022-03-23T21:41:16.579Z"
   },
   {
    "duration": 13,
    "start_time": "2022-03-23T21:41:16.610Z"
   },
   {
    "duration": 64,
    "start_time": "2022-03-23T21:41:16.625Z"
   },
   {
    "duration": 11,
    "start_time": "2022-03-23T21:41:16.691Z"
   },
   {
    "duration": 31,
    "start_time": "2022-03-23T21:41:16.709Z"
   },
   {
    "duration": 97,
    "start_time": "2022-03-23T21:41:16.742Z"
   },
   {
    "duration": 29,
    "start_time": "2022-03-23T21:41:16.841Z"
   },
   {
    "duration": 34,
    "start_time": "2022-03-23T21:41:16.872Z"
   },
   {
    "duration": 111,
    "start_time": "2022-03-23T21:41:16.908Z"
   },
   {
    "duration": 58,
    "start_time": "2022-03-23T21:41:17.021Z"
   },
   {
    "duration": 12,
    "start_time": "2022-03-23T21:41:17.081Z"
   },
   {
    "duration": 47,
    "start_time": "2022-03-23T21:41:17.094Z"
   },
   {
    "duration": 79,
    "start_time": "2022-03-23T21:41:17.143Z"
   },
   {
    "duration": 66,
    "start_time": "2022-03-23T21:41:17.225Z"
   },
   {
    "duration": 10,
    "start_time": "2022-03-23T21:41:17.293Z"
   },
   {
    "duration": 67,
    "start_time": "2022-03-23T21:41:17.305Z"
   },
   {
    "duration": 17,
    "start_time": "2022-03-23T21:41:17.374Z"
   },
   {
    "duration": 4,
    "start_time": "2022-03-23T21:41:17.393Z"
   },
   {
    "duration": 18,
    "start_time": "2022-03-23T21:41:17.398Z"
   },
   {
    "duration": 69,
    "start_time": "2022-03-23T21:41:17.417Z"
   },
   {
    "duration": 12,
    "start_time": "2022-03-23T21:41:17.488Z"
   },
   {
    "duration": 251,
    "start_time": "2022-03-23T21:41:17.503Z"
   },
   {
    "duration": 36,
    "start_time": "2022-03-23T21:41:17.757Z"
   },
   {
    "duration": 128,
    "start_time": "2022-03-23T21:41:17.795Z"
   },
   {
    "duration": 14,
    "start_time": "2022-03-23T21:41:17.925Z"
   },
   {
    "duration": 45,
    "start_time": "2022-03-23T21:41:17.942Z"
   },
   {
    "duration": 29,
    "start_time": "2022-03-23T21:41:17.989Z"
   },
   {
    "duration": 888,
    "start_time": "2022-03-23T21:41:18.020Z"
   },
   {
    "duration": 894,
    "start_time": "2022-03-23T21:41:18.910Z"
   },
   {
    "duration": 893,
    "start_time": "2022-03-23T21:41:19.806Z"
   },
   {
    "duration": 384,
    "start_time": "2022-03-23T21:41:20.701Z"
   },
   {
    "duration": 578,
    "start_time": "2022-03-23T21:41:21.092Z"
   },
   {
    "duration": 8,
    "start_time": "2022-03-23T21:41:21.673Z"
   },
   {
    "duration": 10,
    "start_time": "2022-03-23T21:41:21.683Z"
   },
   {
    "duration": 10,
    "start_time": "2022-03-23T21:41:21.695Z"
   },
   {
    "duration": 10,
    "start_time": "2022-03-23T21:41:21.708Z"
   },
   {
    "duration": 70,
    "start_time": "2022-03-23T21:41:21.720Z"
   },
   {
    "duration": 30,
    "start_time": "2022-03-23T21:41:21.793Z"
   },
   {
    "duration": 1643,
    "start_time": "2022-03-24T14:09:47.587Z"
   },
   {
    "duration": 477,
    "start_time": "2022-03-24T14:09:49.233Z"
   },
   {
    "duration": 25,
    "start_time": "2022-03-24T14:09:49.712Z"
   },
   {
    "duration": 37,
    "start_time": "2022-03-24T14:09:49.740Z"
   },
   {
    "duration": 9,
    "start_time": "2022-03-24T14:09:49.779Z"
   },
   {
    "duration": 13,
    "start_time": "2022-03-24T14:09:49.790Z"
   },
   {
    "duration": 18,
    "start_time": "2022-03-24T14:09:49.805Z"
   },
   {
    "duration": 54,
    "start_time": "2022-03-24T14:09:49.825Z"
   },
   {
    "duration": 11,
    "start_time": "2022-03-24T14:09:49.881Z"
   },
   {
    "duration": 28,
    "start_time": "2022-03-24T14:09:49.895Z"
   },
   {
    "duration": 42,
    "start_time": "2022-03-24T14:09:49.925Z"
   },
   {
    "duration": 33,
    "start_time": "2022-03-24T14:09:49.970Z"
   },
   {
    "duration": 12,
    "start_time": "2022-03-24T14:09:50.005Z"
   },
   {
    "duration": 68,
    "start_time": "2022-03-24T14:09:50.019Z"
   },
   {
    "duration": 88,
    "start_time": "2022-03-24T14:09:50.090Z"
   },
   {
    "duration": 14,
    "start_time": "2022-03-24T14:09:50.180Z"
   },
   {
    "duration": 37,
    "start_time": "2022-03-24T14:09:50.196Z"
   },
   {
    "duration": 112,
    "start_time": "2022-03-24T14:09:50.235Z"
   },
   {
    "duration": 67,
    "start_time": "2022-03-24T14:09:50.349Z"
   },
   {
    "duration": 17,
    "start_time": "2022-03-24T14:09:50.419Z"
   },
   {
    "duration": 72,
    "start_time": "2022-03-24T14:09:50.438Z"
   },
   {
    "duration": 81,
    "start_time": "2022-03-24T14:09:50.513Z"
   },
   {
    "duration": 49,
    "start_time": "2022-03-24T14:09:50.597Z"
   },
   {
    "duration": 27,
    "start_time": "2022-03-24T14:09:50.649Z"
   },
   {
    "duration": 50,
    "start_time": "2022-03-24T14:09:50.678Z"
   },
   {
    "duration": 39,
    "start_time": "2022-03-24T14:09:50.731Z"
   },
   {
    "duration": 7,
    "start_time": "2022-03-24T14:09:50.772Z"
   },
   {
    "duration": 18,
    "start_time": "2022-03-24T14:09:50.784Z"
   },
   {
    "duration": 31,
    "start_time": "2022-03-24T14:09:50.804Z"
   },
   {
    "duration": 38,
    "start_time": "2022-03-24T14:09:50.837Z"
   },
   {
    "duration": 262,
    "start_time": "2022-03-24T14:09:50.877Z"
   },
   {
    "duration": 41,
    "start_time": "2022-03-24T14:09:51.141Z"
   },
   {
    "duration": 119,
    "start_time": "2022-03-24T14:09:51.184Z"
   },
   {
    "duration": 13,
    "start_time": "2022-03-24T14:09:51.305Z"
   },
   {
    "duration": 47,
    "start_time": "2022-03-24T14:09:51.320Z"
   },
   {
    "duration": 29,
    "start_time": "2022-03-24T14:09:51.369Z"
   },
   {
    "duration": 802,
    "start_time": "2022-03-24T14:09:51.400Z"
   },
   {
    "duration": 941,
    "start_time": "2022-03-24T14:09:52.204Z"
   },
   {
    "duration": 770,
    "start_time": "2022-03-24T14:09:53.147Z"
   },
   {
    "duration": 377,
    "start_time": "2022-03-24T14:09:53.919Z"
   },
   {
    "duration": 559,
    "start_time": "2022-03-24T14:09:54.298Z"
   },
   {
    "duration": 14,
    "start_time": "2022-03-24T14:09:54.859Z"
   },
   {
    "duration": 6,
    "start_time": "2022-03-24T14:09:54.876Z"
   },
   {
    "duration": 11,
    "start_time": "2022-03-24T14:09:54.884Z"
   },
   {
    "duration": 75,
    "start_time": "2022-03-24T14:19:00.524Z"
   },
   {
    "duration": 74,
    "start_time": "2022-03-24T14:19:06.045Z"
   },
   {
    "duration": 1312,
    "start_time": "2022-03-24T14:22:34.990Z"
   },
   {
    "duration": 473,
    "start_time": "2022-03-24T14:22:36.305Z"
   },
   {
    "duration": 25,
    "start_time": "2022-03-24T14:22:36.784Z"
   },
   {
    "duration": 16,
    "start_time": "2022-03-24T14:22:36.811Z"
   },
   {
    "duration": 41,
    "start_time": "2022-03-24T14:22:36.829Z"
   },
   {
    "duration": 16,
    "start_time": "2022-03-24T14:22:36.872Z"
   },
   {
    "duration": 15,
    "start_time": "2022-03-24T14:22:36.890Z"
   },
   {
    "duration": 18,
    "start_time": "2022-03-24T14:22:36.908Z"
   },
   {
    "duration": 39,
    "start_time": "2022-03-24T14:22:36.930Z"
   },
   {
    "duration": 26,
    "start_time": "2022-03-24T14:22:36.972Z"
   },
   {
    "duration": 13,
    "start_time": "2022-03-24T14:22:37.000Z"
   },
   {
    "duration": 59,
    "start_time": "2022-03-24T14:22:37.015Z"
   },
   {
    "duration": 13,
    "start_time": "2022-03-24T14:22:37.077Z"
   },
   {
    "duration": 34,
    "start_time": "2022-03-24T14:22:37.092Z"
   },
   {
    "duration": 106,
    "start_time": "2022-03-24T14:22:37.128Z"
   },
   {
    "duration": 13,
    "start_time": "2022-03-24T14:22:37.237Z"
   },
   {
    "duration": 33,
    "start_time": "2022-03-24T14:22:37.267Z"
   },
   {
    "duration": 107,
    "start_time": "2022-03-24T14:22:37.302Z"
   },
   {
    "duration": 56,
    "start_time": "2022-03-24T14:22:37.411Z"
   },
   {
    "duration": 11,
    "start_time": "2022-03-24T14:22:37.469Z"
   },
   {
    "duration": 43,
    "start_time": "2022-03-24T14:22:37.483Z"
   },
   {
    "duration": 90,
    "start_time": "2022-03-24T14:22:37.528Z"
   },
   {
    "duration": 66,
    "start_time": "2022-03-24T14:22:37.620Z"
   },
   {
    "duration": 12,
    "start_time": "2022-03-24T14:22:37.689Z"
   },
   {
    "duration": 69,
    "start_time": "2022-03-24T14:22:37.703Z"
   },
   {
    "duration": 17,
    "start_time": "2022-03-24T14:22:37.775Z"
   },
   {
    "duration": 29,
    "start_time": "2022-03-24T14:22:37.797Z"
   },
   {
    "duration": 45,
    "start_time": "2022-03-24T14:22:37.828Z"
   },
   {
    "duration": 251,
    "start_time": "2022-03-24T14:22:37.875Z"
   },
   {
    "duration": 123,
    "start_time": "2022-03-24T14:22:38.129Z"
   },
   {
    "duration": 19,
    "start_time": "2022-03-24T14:22:38.255Z"
   },
   {
    "duration": 31,
    "start_time": "2022-03-24T14:22:38.276Z"
   },
   {
    "duration": 29,
    "start_time": "2022-03-24T14:22:38.309Z"
   },
   {
    "duration": 728,
    "start_time": "2022-03-24T14:22:38.368Z"
   },
   {
    "duration": 756,
    "start_time": "2022-03-24T14:22:39.098Z"
   },
   {
    "duration": 914,
    "start_time": "2022-03-24T14:22:39.857Z"
   },
   {
    "duration": 375,
    "start_time": "2022-03-24T14:22:40.774Z"
   },
   {
    "duration": 570,
    "start_time": "2022-03-24T14:22:41.152Z"
   },
   {
    "duration": 9,
    "start_time": "2022-03-24T14:22:41.724Z"
   },
   {
    "duration": 8,
    "start_time": "2022-03-24T14:22:41.735Z"
   },
   {
    "duration": 11,
    "start_time": "2022-03-24T14:22:41.768Z"
   },
   {
    "duration": 1425,
    "start_time": "2022-03-24T14:49:13.793Z"
   },
   {
    "duration": 515,
    "start_time": "2022-03-24T14:49:15.220Z"
   },
   {
    "duration": 37,
    "start_time": "2022-03-24T14:49:15.738Z"
   },
   {
    "duration": 25,
    "start_time": "2022-03-24T14:49:15.779Z"
   },
   {
    "duration": 29,
    "start_time": "2022-03-24T14:49:15.808Z"
   },
   {
    "duration": 37,
    "start_time": "2022-03-24T14:49:15.841Z"
   },
   {
    "duration": 27,
    "start_time": "2022-03-24T14:49:15.880Z"
   },
   {
    "duration": 20,
    "start_time": "2022-03-24T14:49:15.909Z"
   },
   {
    "duration": 36,
    "start_time": "2022-03-24T14:49:15.932Z"
   },
   {
    "duration": 31,
    "start_time": "2022-03-24T14:49:15.972Z"
   },
   {
    "duration": 26,
    "start_time": "2022-03-24T14:49:16.005Z"
   },
   {
    "duration": 57,
    "start_time": "2022-03-24T14:49:16.033Z"
   },
   {
    "duration": 26,
    "start_time": "2022-03-24T14:49:16.092Z"
   },
   {
    "duration": 55,
    "start_time": "2022-03-24T14:49:16.122Z"
   },
   {
    "duration": 94,
    "start_time": "2022-03-24T14:49:16.179Z"
   },
   {
    "duration": 15,
    "start_time": "2022-03-24T14:49:16.276Z"
   },
   {
    "duration": 52,
    "start_time": "2022-03-24T14:49:16.293Z"
   },
   {
    "duration": 112,
    "start_time": "2022-03-24T14:49:16.348Z"
   },
   {
    "duration": 57,
    "start_time": "2022-03-24T14:49:16.468Z"
   },
   {
    "duration": 14,
    "start_time": "2022-03-24T14:49:16.528Z"
   },
   {
    "duration": 76,
    "start_time": "2022-03-24T14:49:16.545Z"
   },
   {
    "duration": 73,
    "start_time": "2022-03-24T14:49:16.623Z"
   },
   {
    "duration": 51,
    "start_time": "2022-03-24T14:49:16.699Z"
   },
   {
    "duration": 13,
    "start_time": "2022-03-24T14:49:16.768Z"
   },
   {
    "duration": 76,
    "start_time": "2022-03-24T14:49:16.783Z"
   },
   {
    "duration": 23,
    "start_time": "2022-03-24T14:49:16.862Z"
   },
   {
    "duration": 48,
    "start_time": "2022-03-24T14:49:16.888Z"
   },
   {
    "duration": 33,
    "start_time": "2022-03-24T14:49:16.944Z"
   },
   {
    "duration": 267,
    "start_time": "2022-03-24T14:49:16.980Z"
   },
   {
    "duration": 130,
    "start_time": "2022-03-24T14:49:17.251Z"
   },
   {
    "duration": 14,
    "start_time": "2022-03-24T14:49:17.384Z"
   },
   {
    "duration": 46,
    "start_time": "2022-03-24T14:49:17.400Z"
   },
   {
    "duration": 42,
    "start_time": "2022-03-24T14:49:17.449Z"
   },
   {
    "duration": 838,
    "start_time": "2022-03-24T14:49:17.494Z"
   },
   {
    "duration": 849,
    "start_time": "2022-03-24T14:49:18.336Z"
   },
   {
    "duration": 927,
    "start_time": "2022-03-24T14:49:19.188Z"
   },
   {
    "duration": 401,
    "start_time": "2022-03-24T14:49:20.118Z"
   },
   {
    "duration": 4,
    "start_time": "2022-03-24T14:49:20.521Z"
   },
   {
    "duration": 14,
    "start_time": "2022-03-24T14:49:20.527Z"
   },
   {
    "duration": 27,
    "start_time": "2022-03-24T14:49:20.543Z"
   },
   {
    "duration": 14,
    "start_time": "2022-03-24T14:49:20.572Z"
   },
   {
    "duration": 1556,
    "start_time": "2022-03-24T15:27:43.329Z"
   },
   {
    "duration": 583,
    "start_time": "2022-03-24T15:27:44.888Z"
   },
   {
    "duration": 25,
    "start_time": "2022-03-24T15:27:45.474Z"
   },
   {
    "duration": 19,
    "start_time": "2022-03-24T15:27:45.502Z"
   },
   {
    "duration": 11,
    "start_time": "2022-03-24T15:27:45.523Z"
   },
   {
    "duration": 43,
    "start_time": "2022-03-24T15:27:45.536Z"
   },
   {
    "duration": 18,
    "start_time": "2022-03-24T15:27:45.583Z"
   },
   {
    "duration": 29,
    "start_time": "2022-03-24T15:27:45.604Z"
   },
   {
    "duration": 34,
    "start_time": "2022-03-24T15:27:45.635Z"
   },
   {
    "duration": 27,
    "start_time": "2022-03-24T15:27:45.673Z"
   },
   {
    "duration": 15,
    "start_time": "2022-03-24T15:27:45.703Z"
   },
   {
    "duration": 67,
    "start_time": "2022-03-24T15:27:45.720Z"
   },
   {
    "duration": 12,
    "start_time": "2022-03-24T15:27:45.790Z"
   },
   {
    "duration": 37,
    "start_time": "2022-03-24T15:27:45.804Z"
   },
   {
    "duration": 80,
    "start_time": "2022-03-24T15:27:45.868Z"
   },
   {
    "duration": 27,
    "start_time": "2022-03-24T15:27:45.951Z"
   },
   {
    "duration": 56,
    "start_time": "2022-03-24T15:27:45.980Z"
   },
   {
    "duration": 118,
    "start_time": "2022-03-24T15:27:46.039Z"
   },
   {
    "duration": 50,
    "start_time": "2022-03-24T15:27:46.160Z"
   },
   {
    "duration": 16,
    "start_time": "2022-03-24T15:27:46.212Z"
   },
   {
    "duration": 77,
    "start_time": "2022-03-24T15:27:46.231Z"
   },
   {
    "duration": 73,
    "start_time": "2022-03-24T15:27:46.311Z"
   },
   {
    "duration": 48,
    "start_time": "2022-03-24T15:27:46.386Z"
   },
   {
    "duration": 10,
    "start_time": "2022-03-24T15:27:46.436Z"
   },
   {
    "duration": 46,
    "start_time": "2022-03-24T15:27:46.467Z"
   },
   {
    "duration": 16,
    "start_time": "2022-03-24T15:27:46.516Z"
   },
   {
    "duration": 58,
    "start_time": "2022-03-24T15:27:46.534Z"
   },
   {
    "duration": 10,
    "start_time": "2022-03-24T15:27:46.597Z"
   },
   {
    "duration": 288,
    "start_time": "2022-03-24T15:27:46.610Z"
   },
   {
    "duration": 122,
    "start_time": "2022-03-24T15:27:46.901Z"
   },
   {
    "duration": 12,
    "start_time": "2022-03-24T15:27:47.025Z"
   },
   {
    "duration": 48,
    "start_time": "2022-03-24T15:27:47.039Z"
   },
   {
    "duration": 29,
    "start_time": "2022-03-24T15:27:47.089Z"
   },
   {
    "duration": 825,
    "start_time": "2022-03-24T15:27:47.120Z"
   },
   {
    "duration": 796,
    "start_time": "2022-03-24T15:27:47.947Z"
   },
   {
    "duration": 900,
    "start_time": "2022-03-24T15:27:48.745Z"
   },
   {
    "duration": 393,
    "start_time": "2022-03-24T15:27:49.648Z"
   },
   {
    "duration": 3,
    "start_time": "2022-03-24T15:27:50.044Z"
   },
   {
    "duration": 21,
    "start_time": "2022-03-24T15:27:50.049Z"
   },
   {
    "duration": 11,
    "start_time": "2022-03-24T15:27:50.073Z"
   },
   {
    "duration": 56,
    "start_time": "2022-03-25T20:55:18.287Z"
   },
   {
    "duration": 1594,
    "start_time": "2022-03-25T20:55:28.719Z"
   },
   {
    "duration": 528,
    "start_time": "2022-03-25T20:55:30.316Z"
   },
   {
    "duration": 23,
    "start_time": "2022-03-25T20:55:30.846Z"
   },
   {
    "duration": 27,
    "start_time": "2022-03-25T20:55:30.871Z"
   },
   {
    "duration": 27,
    "start_time": "2022-03-25T20:55:30.900Z"
   },
   {
    "duration": 37,
    "start_time": "2022-03-25T20:55:30.928Z"
   },
   {
    "duration": 38,
    "start_time": "2022-03-25T20:55:30.967Z"
   },
   {
    "duration": 52,
    "start_time": "2022-03-25T20:55:31.007Z"
   },
   {
    "duration": 13,
    "start_time": "2022-03-25T20:55:31.061Z"
   },
   {
    "duration": 40,
    "start_time": "2022-03-25T20:55:31.077Z"
   },
   {
    "duration": 14,
    "start_time": "2022-03-25T20:55:31.119Z"
   },
   {
    "duration": 56,
    "start_time": "2022-03-25T20:55:31.134Z"
   },
   {
    "duration": 17,
    "start_time": "2022-03-25T20:55:31.191Z"
   },
   {
    "duration": 39,
    "start_time": "2022-03-25T20:55:31.209Z"
   },
   {
    "duration": 62,
    "start_time": "2022-03-25T20:55:31.250Z"
   },
   {
    "duration": 9,
    "start_time": "2022-03-25T20:55:31.313Z"
   },
   {
    "duration": 32,
    "start_time": "2022-03-25T20:55:31.323Z"
   },
   {
    "duration": 91,
    "start_time": "2022-03-25T20:55:31.356Z"
   },
   {
    "duration": 52,
    "start_time": "2022-03-25T20:55:31.449Z"
   },
   {
    "duration": 10,
    "start_time": "2022-03-25T20:55:31.503Z"
   },
   {
    "duration": 46,
    "start_time": "2022-03-25T20:55:31.515Z"
   },
   {
    "duration": 79,
    "start_time": "2022-03-25T20:55:31.563Z"
   },
   {
    "duration": 47,
    "start_time": "2022-03-25T20:55:31.644Z"
   },
   {
    "duration": 7,
    "start_time": "2022-03-25T20:55:31.693Z"
   },
   {
    "duration": 30,
    "start_time": "2022-03-25T20:55:31.702Z"
   },
   {
    "duration": 11,
    "start_time": "2022-03-25T20:55:31.733Z"
   },
   {
    "duration": 44,
    "start_time": "2022-03-25T20:55:31.746Z"
   },
   {
    "duration": 8,
    "start_time": "2022-03-25T20:55:31.793Z"
   },
   {
    "duration": 161,
    "start_time": "2022-03-25T20:55:31.802Z"
   },
   {
    "duration": 68,
    "start_time": "2022-03-25T20:55:31.964Z"
   },
   {
    "duration": 9,
    "start_time": "2022-03-25T20:55:32.034Z"
   },
   {
    "duration": 19,
    "start_time": "2022-03-25T20:55:32.044Z"
   },
   {
    "duration": 36,
    "start_time": "2022-03-25T20:55:32.065Z"
   },
   {
    "duration": 439,
    "start_time": "2022-03-25T20:55:32.103Z"
   },
   {
    "duration": 428,
    "start_time": "2022-03-25T20:55:32.544Z"
   },
   {
    "duration": 499,
    "start_time": "2022-03-25T20:55:32.974Z"
   },
   {
    "duration": 210,
    "start_time": "2022-03-25T20:55:33.475Z"
   },
   {
    "duration": 2,
    "start_time": "2022-03-25T20:55:33.687Z"
   },
   {
    "duration": 17,
    "start_time": "2022-03-25T20:55:33.691Z"
   },
   {
    "duration": 8,
    "start_time": "2022-03-25T20:55:33.709Z"
   },
   {
    "duration": 502,
    "start_time": "2022-03-25T21:13:37.852Z"
   },
   {
    "duration": 70,
    "start_time": "2022-03-25T22:14:56.241Z"
   },
   {
    "duration": 1076,
    "start_time": "2022-03-25T22:15:20.806Z"
   },
   {
    "duration": 383,
    "start_time": "2022-03-25T22:15:21.884Z"
   },
   {
    "duration": 16,
    "start_time": "2022-03-25T22:15:22.269Z"
   },
   {
    "duration": 9,
    "start_time": "2022-03-25T22:15:22.287Z"
   },
   {
    "duration": 7,
    "start_time": "2022-03-25T22:15:22.298Z"
   },
   {
    "duration": 9,
    "start_time": "2022-03-25T22:15:22.306Z"
   },
   {
    "duration": 10,
    "start_time": "2022-03-25T22:15:22.316Z"
   },
   {
    "duration": 13,
    "start_time": "2022-03-25T22:15:22.327Z"
   },
   {
    "duration": 6,
    "start_time": "2022-03-25T22:15:22.342Z"
   },
   {
    "duration": 41,
    "start_time": "2022-03-25T22:15:22.350Z"
   },
   {
    "duration": 8,
    "start_time": "2022-03-25T22:15:22.392Z"
   },
   {
    "duration": 22,
    "start_time": "2022-03-25T22:15:22.402Z"
   },
   {
    "duration": 7,
    "start_time": "2022-03-25T22:15:22.425Z"
   },
   {
    "duration": 46,
    "start_time": "2022-03-25T22:15:22.435Z"
   },
   {
    "duration": 51,
    "start_time": "2022-03-25T22:15:22.482Z"
   },
   {
    "duration": 8,
    "start_time": "2022-03-25T22:15:22.535Z"
   },
   {
    "duration": 38,
    "start_time": "2022-03-25T22:15:22.545Z"
   },
   {
    "duration": 64,
    "start_time": "2022-03-25T22:15:22.585Z"
   },
   {
    "duration": 42,
    "start_time": "2022-03-25T22:15:22.650Z"
   },
   {
    "duration": 8,
    "start_time": "2022-03-25T22:15:22.693Z"
   },
   {
    "duration": 36,
    "start_time": "2022-03-25T22:15:22.702Z"
   },
   {
    "duration": 52,
    "start_time": "2022-03-25T22:15:22.740Z"
   },
   {
    "duration": 31,
    "start_time": "2022-03-25T22:15:22.793Z"
   },
   {
    "duration": 7,
    "start_time": "2022-03-25T22:15:22.825Z"
   },
   {
    "duration": 27,
    "start_time": "2022-03-25T22:15:22.833Z"
   },
   {
    "duration": 10,
    "start_time": "2022-03-25T22:15:22.881Z"
   },
   {
    "duration": 19,
    "start_time": "2022-03-25T22:15:22.893Z"
   },
   {
    "duration": 6,
    "start_time": "2022-03-25T22:15:22.915Z"
   },
   {
    "duration": 161,
    "start_time": "2022-03-25T22:15:22.922Z"
   },
   {
    "duration": 64,
    "start_time": "2022-03-25T22:15:23.085Z"
   },
   {
    "duration": 8,
    "start_time": "2022-03-25T22:15:23.150Z"
   },
   {
    "duration": 35,
    "start_time": "2022-03-25T22:15:23.159Z"
   },
   {
    "duration": 16,
    "start_time": "2022-03-25T22:15:23.196Z"
   },
   {
    "duration": 397,
    "start_time": "2022-03-25T22:15:23.214Z"
   },
   {
    "duration": 393,
    "start_time": "2022-03-25T22:15:23.612Z"
   },
   {
    "duration": 465,
    "start_time": "2022-03-25T22:15:24.007Z"
   },
   {
    "duration": 211,
    "start_time": "2022-03-25T22:15:24.474Z"
   },
   {
    "duration": 2,
    "start_time": "2022-03-25T22:15:24.687Z"
   },
   {
    "duration": 8,
    "start_time": "2022-03-25T22:15:24.691Z"
   },
   {
    "duration": 9,
    "start_time": "2022-03-25T22:15:24.700Z"
   },
   {
    "duration": 93,
    "start_time": "2022-03-26T11:31:31.971Z"
   },
   {
    "duration": 45,
    "start_time": "2022-03-26T11:31:42.646Z"
   },
   {
    "duration": 1257,
    "start_time": "2022-03-26T11:31:48.173Z"
   },
   {
    "duration": 846,
    "start_time": "2022-03-26T11:31:49.432Z"
   },
   {
    "duration": 17,
    "start_time": "2022-03-26T11:31:50.279Z"
   },
   {
    "duration": 10,
    "start_time": "2022-03-26T11:31:50.298Z"
   },
   {
    "duration": 8,
    "start_time": "2022-03-26T11:31:50.310Z"
   },
   {
    "duration": 9,
    "start_time": "2022-03-26T11:31:50.320Z"
   },
   {
    "duration": 12,
    "start_time": "2022-03-26T11:31:50.331Z"
   },
   {
    "duration": 12,
    "start_time": "2022-03-26T11:31:50.344Z"
   },
   {
    "duration": 7,
    "start_time": "2022-03-26T11:31:50.357Z"
   },
   {
    "duration": 49,
    "start_time": "2022-03-26T11:31:50.367Z"
   },
   {
    "duration": 8,
    "start_time": "2022-03-26T11:31:50.418Z"
   },
   {
    "duration": 24,
    "start_time": "2022-03-26T11:31:50.428Z"
   },
   {
    "duration": 8,
    "start_time": "2022-03-26T11:31:50.453Z"
   },
   {
    "duration": 47,
    "start_time": "2022-03-26T11:31:50.462Z"
   },
   {
    "duration": 54,
    "start_time": "2022-03-26T11:31:50.510Z"
   },
   {
    "duration": 9,
    "start_time": "2022-03-26T11:31:50.565Z"
   },
   {
    "duration": 42,
    "start_time": "2022-03-26T11:31:50.575Z"
   },
   {
    "duration": 65,
    "start_time": "2022-03-26T11:31:50.619Z"
   },
   {
    "duration": 44,
    "start_time": "2022-03-26T11:31:50.686Z"
   },
   {
    "duration": 7,
    "start_time": "2022-03-26T11:31:50.732Z"
   },
   {
    "duration": 33,
    "start_time": "2022-03-26T11:31:50.741Z"
   },
   {
    "duration": 64,
    "start_time": "2022-03-26T11:31:50.776Z"
   },
   {
    "duration": 35,
    "start_time": "2022-03-26T11:31:50.841Z"
   },
   {
    "duration": 7,
    "start_time": "2022-03-26T11:31:50.878Z"
   },
   {
    "duration": 50,
    "start_time": "2022-03-26T11:31:50.886Z"
   },
   {
    "duration": 11,
    "start_time": "2022-03-26T11:31:50.937Z"
   },
   {
    "duration": 20,
    "start_time": "2022-03-26T11:31:50.950Z"
   },
   {
    "duration": 6,
    "start_time": "2022-03-26T11:31:50.974Z"
   },
   {
    "duration": 181,
    "start_time": "2022-03-26T11:31:50.982Z"
   },
   {
    "duration": 75,
    "start_time": "2022-03-26T11:31:51.164Z"
   },
   {
    "duration": 7,
    "start_time": "2022-03-26T11:31:51.241Z"
   },
   {
    "duration": 21,
    "start_time": "2022-03-26T11:31:51.250Z"
   },
   {
    "duration": 37,
    "start_time": "2022-03-26T11:31:51.273Z"
   },
   {
    "duration": 99,
    "start_time": "2022-03-26T11:31:51.311Z"
   },
   {
    "duration": 477,
    "start_time": "2022-03-26T11:31:51.411Z"
   },
   {
    "duration": 541,
    "start_time": "2022-03-26T11:31:51.890Z"
   },
   {
    "duration": 481,
    "start_time": "2022-03-26T11:31:52.433Z"
   },
   {
    "duration": 234,
    "start_time": "2022-03-26T11:31:52.916Z"
   },
   {
    "duration": 2,
    "start_time": "2022-03-26T11:31:53.152Z"
   },
   {
    "duration": 7,
    "start_time": "2022-03-26T11:31:53.156Z"
   },
   {
    "duration": 7,
    "start_time": "2022-03-26T11:31:53.164Z"
   },
   {
    "duration": 39,
    "start_time": "2022-03-26T11:32:44.073Z"
   },
   {
    "duration": 1071,
    "start_time": "2022-03-26T12:16:35.586Z"
   },
   {
    "duration": 385,
    "start_time": "2022-03-26T12:16:36.659Z"
   },
   {
    "duration": 15,
    "start_time": "2022-03-26T12:16:37.046Z"
   },
   {
    "duration": 11,
    "start_time": "2022-03-26T12:16:37.064Z"
   },
   {
    "duration": 6,
    "start_time": "2022-03-26T12:16:37.076Z"
   },
   {
    "duration": 26,
    "start_time": "2022-03-26T12:16:37.084Z"
   },
   {
    "duration": 11,
    "start_time": "2022-03-26T12:16:37.111Z"
   },
   {
    "duration": 12,
    "start_time": "2022-03-26T12:16:37.123Z"
   },
   {
    "duration": 7,
    "start_time": "2022-03-26T12:16:37.137Z"
   },
   {
    "duration": 20,
    "start_time": "2022-03-26T12:16:37.146Z"
   },
   {
    "duration": 44,
    "start_time": "2022-03-26T12:16:37.167Z"
   },
   {
    "duration": 26,
    "start_time": "2022-03-26T12:16:37.212Z"
   },
   {
    "duration": 7,
    "start_time": "2022-03-26T12:16:37.240Z"
   },
   {
    "duration": 32,
    "start_time": "2022-03-26T12:16:37.249Z"
   },
   {
    "duration": 77,
    "start_time": "2022-03-26T12:16:37.282Z"
   },
   {
    "duration": 10,
    "start_time": "2022-03-26T12:16:37.360Z"
   },
   {
    "duration": 41,
    "start_time": "2022-03-26T12:16:37.372Z"
   },
   {
    "duration": 69,
    "start_time": "2022-03-26T12:16:37.415Z"
   },
   {
    "duration": 45,
    "start_time": "2022-03-26T12:16:37.485Z"
   },
   {
    "duration": 8,
    "start_time": "2022-03-26T12:16:37.531Z"
   },
   {
    "duration": 35,
    "start_time": "2022-03-26T12:16:37.541Z"
   },
   {
    "duration": 68,
    "start_time": "2022-03-26T12:16:37.578Z"
   },
   {
    "duration": 35,
    "start_time": "2022-03-26T12:16:37.648Z"
   },
   {
    "duration": 26,
    "start_time": "2022-03-26T12:16:37.684Z"
   },
   {
    "duration": 32,
    "start_time": "2022-03-26T12:16:37.711Z"
   },
   {
    "duration": 12,
    "start_time": "2022-03-26T12:16:37.744Z"
   },
   {
    "duration": 21,
    "start_time": "2022-03-26T12:16:37.758Z"
   },
   {
    "duration": 7,
    "start_time": "2022-03-26T12:16:37.811Z"
   },
   {
    "duration": 154,
    "start_time": "2022-03-26T12:16:37.820Z"
   },
   {
    "duration": 80,
    "start_time": "2022-03-26T12:16:37.976Z"
   },
   {
    "duration": 8,
    "start_time": "2022-03-26T12:16:38.058Z"
   },
   {
    "duration": 23,
    "start_time": "2022-03-26T12:16:38.067Z"
   },
   {
    "duration": 35,
    "start_time": "2022-03-26T12:16:38.092Z"
   },
   {
    "duration": 37,
    "start_time": "2022-03-26T12:16:38.129Z"
   },
   {
    "duration": 500,
    "start_time": "2022-03-26T12:16:38.167Z"
   },
   {
    "duration": 489,
    "start_time": "2022-03-26T12:16:38.669Z"
   },
   {
    "duration": 561,
    "start_time": "2022-03-26T12:16:39.159Z"
   },
   {
    "duration": 246,
    "start_time": "2022-03-26T12:16:39.722Z"
   },
   {
    "duration": 2,
    "start_time": "2022-03-26T12:16:39.970Z"
   },
   {
    "duration": 7,
    "start_time": "2022-03-26T12:16:39.974Z"
   },
   {
    "duration": 8,
    "start_time": "2022-03-26T12:16:39.983Z"
   },
   {
    "duration": 1350,
    "start_time": "2022-03-28T17:05:51.948Z"
   },
   {
    "duration": 460,
    "start_time": "2022-03-28T17:05:54.544Z"
   },
   {
    "duration": 6,
    "start_time": "2022-03-28T17:06:24.300Z"
   },
   {
    "duration": 16,
    "start_time": "2022-03-28T17:06:40.245Z"
   },
   {
    "duration": 35,
    "start_time": "2022-03-28T17:29:03.659Z"
   },
   {
    "duration": 32,
    "start_time": "2022-03-28T17:29:08.729Z"
   },
   {
    "duration": 160,
    "start_time": "2022-03-28T17:41:31.429Z"
   },
   {
    "duration": 1139,
    "start_time": "2022-10-30T11:58:54.840Z"
   },
   {
    "duration": 1090,
    "start_time": "2022-10-30T11:58:55.981Z"
   },
   {
    "duration": 14,
    "start_time": "2022-10-30T11:58:57.073Z"
   },
   {
    "duration": 16,
    "start_time": "2022-10-30T11:58:57.090Z"
   },
   {
    "duration": 11,
    "start_time": "2022-10-30T11:58:57.107Z"
   },
   {
    "duration": 29,
    "start_time": "2022-10-30T11:58:57.119Z"
   },
   {
    "duration": 20,
    "start_time": "2022-10-30T11:58:57.150Z"
   },
   {
    "duration": 16,
    "start_time": "2022-10-30T11:58:57.172Z"
   },
   {
    "duration": 17,
    "start_time": "2022-10-30T11:58:57.190Z"
   },
   {
    "duration": 46,
    "start_time": "2022-10-30T11:58:57.211Z"
   },
   {
    "duration": 10,
    "start_time": "2022-10-30T11:58:57.259Z"
   },
   {
    "duration": 39,
    "start_time": "2022-10-30T11:58:57.271Z"
   },
   {
    "duration": 10,
    "start_time": "2022-10-30T11:58:57.312Z"
   },
   {
    "duration": 34,
    "start_time": "2022-10-30T11:58:57.340Z"
   },
   {
    "duration": 89,
    "start_time": "2022-10-30T11:58:57.376Z"
   },
   {
    "duration": 13,
    "start_time": "2022-10-30T11:58:57.468Z"
   },
   {
    "duration": 33,
    "start_time": "2022-10-30T11:58:57.483Z"
   },
   {
    "duration": 79,
    "start_time": "2022-10-30T11:58:57.518Z"
   },
   {
    "duration": 45,
    "start_time": "2022-10-30T11:58:57.598Z"
   },
   {
    "duration": 7,
    "start_time": "2022-10-30T11:58:57.645Z"
   },
   {
    "duration": 36,
    "start_time": "2022-10-30T11:58:57.654Z"
   },
   {
    "duration": 62,
    "start_time": "2022-10-30T11:58:57.691Z"
   },
   {
    "duration": 32,
    "start_time": "2022-10-30T11:58:57.754Z"
   },
   {
    "duration": 7,
    "start_time": "2022-10-30T11:58:57.787Z"
   },
   {
    "duration": 57,
    "start_time": "2022-10-30T11:58:57.796Z"
   },
   {
    "duration": 12,
    "start_time": "2022-10-30T11:58:57.855Z"
   },
   {
    "duration": 19,
    "start_time": "2022-10-30T11:58:57.868Z"
   },
   {
    "duration": 7,
    "start_time": "2022-10-30T11:58:57.890Z"
   },
   {
    "duration": 193,
    "start_time": "2022-10-30T11:58:57.898Z"
   },
   {
    "duration": 85,
    "start_time": "2022-10-30T11:58:58.092Z"
   },
   {
    "duration": 8,
    "start_time": "2022-10-30T11:58:58.179Z"
   },
   {
    "duration": 40,
    "start_time": "2022-10-30T11:58:58.190Z"
   },
   {
    "duration": 31,
    "start_time": "2022-10-30T11:58:58.232Z"
   },
   {
    "duration": 43,
    "start_time": "2022-10-30T11:58:58.270Z"
   },
   {
    "duration": 514,
    "start_time": "2022-10-30T11:58:58.316Z"
   },
   {
    "duration": 522,
    "start_time": "2022-10-30T11:58:58.832Z"
   },
   {
    "duration": 615,
    "start_time": "2022-10-30T11:58:59.356Z"
   },
   {
    "duration": 241,
    "start_time": "2022-10-30T11:58:59.973Z"
   },
   {
    "duration": 3,
    "start_time": "2022-10-30T11:59:00.216Z"
   },
   {
    "duration": 23,
    "start_time": "2022-10-30T11:59:00.221Z"
   },
   {
    "duration": 13,
    "start_time": "2022-10-30T11:59:00.246Z"
   },
   {
    "duration": 47,
    "start_time": "2022-11-03T10:49:22.478Z"
   },
   {
    "duration": 1272,
    "start_time": "2022-11-03T10:49:28.247Z"
   },
   {
    "duration": 949,
    "start_time": "2022-11-03T10:49:29.522Z"
   },
   {
    "duration": 14,
    "start_time": "2022-11-03T10:49:30.472Z"
   },
   {
    "duration": 50,
    "start_time": "2022-11-03T10:49:30.488Z"
   },
   {
    "duration": 19,
    "start_time": "2022-11-03T10:49:30.540Z"
   },
   {
    "duration": 46,
    "start_time": "2022-11-03T10:49:30.561Z"
   },
   {
    "duration": 45,
    "start_time": "2022-11-03T10:49:30.609Z"
   },
   {
    "duration": 71,
    "start_time": "2022-11-03T10:49:30.655Z"
   },
   {
    "duration": 58,
    "start_time": "2022-11-03T10:49:30.728Z"
   },
   {
    "duration": 55,
    "start_time": "2022-11-03T10:49:30.788Z"
   },
   {
    "duration": 26,
    "start_time": "2022-11-03T10:49:30.845Z"
   },
   {
    "duration": 45,
    "start_time": "2022-11-03T10:49:30.872Z"
   },
   {
    "duration": 16,
    "start_time": "2022-11-03T10:49:30.919Z"
   },
   {
    "duration": 57,
    "start_time": "2022-11-03T10:49:30.937Z"
   },
   {
    "duration": 41,
    "start_time": "2022-11-03T10:49:30.997Z"
   },
   {
    "duration": 90,
    "start_time": "2022-11-03T10:49:31.040Z"
   },
   {
    "duration": 10,
    "start_time": "2022-11-03T10:49:31.132Z"
   },
   {
    "duration": 39,
    "start_time": "2022-11-03T10:49:31.143Z"
   },
   {
    "duration": 66,
    "start_time": "2022-11-03T10:49:31.184Z"
   },
   {
    "duration": 44,
    "start_time": "2022-11-03T10:49:31.252Z"
   },
   {
    "duration": 9,
    "start_time": "2022-11-03T10:49:31.297Z"
   },
   {
    "duration": 72,
    "start_time": "2022-11-03T10:49:31.308Z"
   },
   {
    "duration": 46,
    "start_time": "2022-11-03T10:49:31.381Z"
   },
   {
    "duration": 48,
    "start_time": "2022-11-03T10:49:31.429Z"
   },
   {
    "duration": 8,
    "start_time": "2022-11-03T10:49:31.480Z"
   },
   {
    "duration": 43,
    "start_time": "2022-11-03T10:49:31.490Z"
   },
   {
    "duration": 11,
    "start_time": "2022-11-03T10:49:31.535Z"
   },
   {
    "duration": 45,
    "start_time": "2022-11-03T10:49:31.550Z"
   },
   {
    "duration": 7,
    "start_time": "2022-11-03T10:49:31.597Z"
   },
   {
    "duration": 162,
    "start_time": "2022-11-03T10:49:31.606Z"
   },
   {
    "duration": 73,
    "start_time": "2022-11-03T10:49:31.770Z"
   },
   {
    "duration": 10,
    "start_time": "2022-11-03T10:49:31.845Z"
   },
   {
    "duration": 51,
    "start_time": "2022-11-03T10:49:31.856Z"
   },
   {
    "duration": 20,
    "start_time": "2022-11-03T10:49:31.908Z"
   },
   {
    "duration": 42,
    "start_time": "2022-11-03T10:49:31.929Z"
   },
   {
    "duration": 518,
    "start_time": "2022-11-03T10:49:31.973Z"
   },
   {
    "duration": 514,
    "start_time": "2022-11-03T10:49:32.493Z"
   },
   {
    "duration": 561,
    "start_time": "2022-11-03T10:49:33.009Z"
   },
   {
    "duration": 242,
    "start_time": "2022-11-03T10:49:33.576Z"
   },
   {
    "duration": 3,
    "start_time": "2022-11-03T10:49:33.820Z"
   },
   {
    "duration": 8,
    "start_time": "2022-11-03T10:49:33.825Z"
   },
   {
    "duration": 14,
    "start_time": "2022-11-03T10:49:33.835Z"
   },
   {
    "duration": 14,
    "start_time": "2022-11-03T10:50:49.008Z"
   },
   {
    "duration": 29,
    "start_time": "2022-11-03T10:52:45.039Z"
   },
   {
    "duration": 1012,
    "start_time": "2022-11-03T10:53:02.920Z"
   },
   {
    "duration": 398,
    "start_time": "2022-11-03T10:53:03.934Z"
   },
   {
    "duration": 13,
    "start_time": "2022-11-03T10:53:04.335Z"
   },
   {
    "duration": 11,
    "start_time": "2022-11-03T10:53:04.350Z"
   },
   {
    "duration": 17,
    "start_time": "2022-11-03T10:53:04.363Z"
   },
   {
    "duration": 10,
    "start_time": "2022-11-03T10:53:04.382Z"
   },
   {
    "duration": 12,
    "start_time": "2022-11-03T10:53:04.394Z"
   },
   {
    "duration": 14,
    "start_time": "2022-11-03T10:53:04.408Z"
   },
   {
    "duration": 7,
    "start_time": "2022-11-03T10:53:04.423Z"
   },
   {
    "duration": 43,
    "start_time": "2022-11-03T10:53:04.434Z"
   },
   {
    "duration": 9,
    "start_time": "2022-11-03T10:53:04.479Z"
   },
   {
    "duration": 22,
    "start_time": "2022-11-03T10:53:04.490Z"
   },
   {
    "duration": 32,
    "start_time": "2022-11-03T10:53:04.514Z"
   },
   {
    "duration": 33,
    "start_time": "2022-11-03T10:53:04.547Z"
   },
   {
    "duration": 25,
    "start_time": "2022-11-03T10:53:04.581Z"
   },
   {
    "duration": 29,
    "start_time": "2022-11-03T10:53:04.608Z"
   },
   {
    "duration": 78,
    "start_time": "2022-11-03T10:53:04.639Z"
   },
   {
    "duration": 9,
    "start_time": "2022-11-03T10:53:04.719Z"
   },
   {
    "duration": 30,
    "start_time": "2022-11-03T10:53:04.730Z"
   },
   {
    "duration": 77,
    "start_time": "2022-11-03T10:53:04.762Z"
   },
   {
    "duration": 40,
    "start_time": "2022-11-03T10:53:04.841Z"
   },
   {
    "duration": 9,
    "start_time": "2022-11-03T10:53:04.882Z"
   },
   {
    "duration": 38,
    "start_time": "2022-11-03T10:53:04.893Z"
   },
   {
    "duration": 57,
    "start_time": "2022-11-03T10:53:04.933Z"
   },
   {
    "duration": 37,
    "start_time": "2022-11-03T10:53:04.991Z"
   },
   {
    "duration": 6,
    "start_time": "2022-11-03T10:53:05.030Z"
   },
   {
    "duration": 55,
    "start_time": "2022-11-03T10:53:05.038Z"
   },
   {
    "duration": 11,
    "start_time": "2022-11-03T10:53:05.096Z"
   },
   {
    "duration": 27,
    "start_time": "2022-11-03T10:53:05.108Z"
   },
   {
    "duration": 7,
    "start_time": "2022-11-03T10:53:05.137Z"
   },
   {
    "duration": 213,
    "start_time": "2022-11-03T10:53:05.145Z"
   },
   {
    "duration": 80,
    "start_time": "2022-11-03T10:53:05.360Z"
   },
   {
    "duration": 9,
    "start_time": "2022-11-03T10:53:05.442Z"
   },
   {
    "duration": 57,
    "start_time": "2022-11-03T10:53:05.452Z"
   },
   {
    "duration": 20,
    "start_time": "2022-11-03T10:53:05.511Z"
   },
   {
    "duration": 37,
    "start_time": "2022-11-03T10:53:05.533Z"
   },
   {
    "duration": 546,
    "start_time": "2022-11-03T10:53:05.572Z"
   },
   {
    "duration": 630,
    "start_time": "2022-11-03T10:53:06.120Z"
   },
   {
    "duration": 628,
    "start_time": "2022-11-03T10:53:06.752Z"
   },
   {
    "duration": 239,
    "start_time": "2022-11-03T10:53:07.381Z"
   },
   {
    "duration": 2,
    "start_time": "2022-11-03T10:53:07.622Z"
   },
   {
    "duration": 18,
    "start_time": "2022-11-03T10:53:07.626Z"
   },
   {
    "duration": 19,
    "start_time": "2022-11-03T10:53:07.645Z"
   },
   {
    "duration": 1082,
    "start_time": "2022-11-03T11:04:27.333Z"
   },
   {
    "duration": 399,
    "start_time": "2022-11-03T11:04:28.417Z"
   },
   {
    "duration": 13,
    "start_time": "2022-11-03T11:04:28.818Z"
   },
   {
    "duration": 42,
    "start_time": "2022-11-03T11:04:28.833Z"
   },
   {
    "duration": 15,
    "start_time": "2022-11-03T11:04:28.877Z"
   },
   {
    "duration": 10,
    "start_time": "2022-11-03T11:04:28.893Z"
   },
   {
    "duration": 18,
    "start_time": "2022-11-03T11:04:28.904Z"
   },
   {
    "duration": 16,
    "start_time": "2022-11-03T11:04:28.923Z"
   },
   {
    "duration": 13,
    "start_time": "2022-11-03T11:04:28.941Z"
   },
   {
    "duration": 18,
    "start_time": "2022-11-03T11:04:28.956Z"
   },
   {
    "duration": 8,
    "start_time": "2022-11-03T11:04:28.976Z"
   },
   {
    "duration": 21,
    "start_time": "2022-11-03T11:04:28.985Z"
   },
   {
    "duration": 8,
    "start_time": "2022-11-03T11:04:29.007Z"
   },
   {
    "duration": 24,
    "start_time": "2022-11-03T11:04:29.017Z"
   },
   {
    "duration": 47,
    "start_time": "2022-11-03T11:04:29.043Z"
   },
   {
    "duration": 50,
    "start_time": "2022-11-03T11:04:29.092Z"
   },
   {
    "duration": 10,
    "start_time": "2022-11-03T11:04:29.144Z"
   },
   {
    "duration": 45,
    "start_time": "2022-11-03T11:04:29.155Z"
   },
   {
    "duration": 63,
    "start_time": "2022-11-03T11:04:29.202Z"
   },
   {
    "duration": 29,
    "start_time": "2022-11-03T11:04:29.276Z"
   },
   {
    "duration": 8,
    "start_time": "2022-11-03T11:04:29.306Z"
   },
   {
    "duration": 54,
    "start_time": "2022-11-03T11:04:29.316Z"
   },
   {
    "duration": 41,
    "start_time": "2022-11-03T11:04:29.372Z"
   },
   {
    "duration": 36,
    "start_time": "2022-11-03T11:04:29.414Z"
   },
   {
    "duration": 25,
    "start_time": "2022-11-03T11:04:29.452Z"
   },
   {
    "duration": 36,
    "start_time": "2022-11-03T11:04:29.478Z"
   },
   {
    "duration": 12,
    "start_time": "2022-11-03T11:04:29.515Z"
   },
   {
    "duration": 26,
    "start_time": "2022-11-03T11:04:29.530Z"
   },
   {
    "duration": 23,
    "start_time": "2022-11-03T11:04:29.558Z"
   },
   {
    "duration": 165,
    "start_time": "2022-11-03T11:04:29.583Z"
   },
   {
    "duration": 85,
    "start_time": "2022-11-03T11:04:29.749Z"
   },
   {
    "duration": 9,
    "start_time": "2022-11-03T11:04:29.835Z"
   },
   {
    "duration": 34,
    "start_time": "2022-11-03T11:04:29.846Z"
   },
   {
    "duration": 21,
    "start_time": "2022-11-03T11:04:29.882Z"
   },
   {
    "duration": 43,
    "start_time": "2022-11-03T11:04:29.905Z"
   },
   {
    "duration": 525,
    "start_time": "2022-11-03T11:04:29.950Z"
   },
   {
    "duration": 517,
    "start_time": "2022-11-03T11:04:30.477Z"
   },
   {
    "duration": 593,
    "start_time": "2022-11-03T11:04:30.995Z"
   },
   {
    "duration": 233,
    "start_time": "2022-11-03T11:04:31.590Z"
   },
   {
    "duration": 2,
    "start_time": "2022-11-03T11:04:31.825Z"
   },
   {
    "duration": 31,
    "start_time": "2022-11-03T11:04:31.829Z"
   },
   {
    "duration": 38,
    "start_time": "2022-11-03T11:04:31.862Z"
   },
   {
    "duration": 1168,
    "start_time": "2022-11-03T11:52:04.777Z"
   },
   {
    "duration": 421,
    "start_time": "2022-11-03T11:52:05.947Z"
   },
   {
    "duration": 19,
    "start_time": "2022-11-03T11:52:06.369Z"
   },
   {
    "duration": 15,
    "start_time": "2022-11-03T11:52:06.391Z"
   },
   {
    "duration": 11,
    "start_time": "2022-11-03T11:52:06.407Z"
   },
   {
    "duration": 13,
    "start_time": "2022-11-03T11:52:06.421Z"
   },
   {
    "duration": 10,
    "start_time": "2022-11-03T11:52:06.436Z"
   },
   {
    "duration": 41,
    "start_time": "2022-11-03T11:52:06.448Z"
   },
   {
    "duration": 10,
    "start_time": "2022-11-03T11:52:06.491Z"
   },
   {
    "duration": 28,
    "start_time": "2022-11-03T11:52:06.505Z"
   },
   {
    "duration": 13,
    "start_time": "2022-11-03T11:52:06.535Z"
   },
   {
    "duration": 59,
    "start_time": "2022-11-03T11:52:06.549Z"
   },
   {
    "duration": 12,
    "start_time": "2022-11-03T11:52:06.610Z"
   },
   {
    "duration": 32,
    "start_time": "2022-11-03T11:52:06.623Z"
   },
   {
    "duration": 33,
    "start_time": "2022-11-03T11:52:06.676Z"
   },
   {
    "duration": 76,
    "start_time": "2022-11-03T11:52:06.711Z"
   },
   {
    "duration": 11,
    "start_time": "2022-11-03T11:52:06.789Z"
   },
   {
    "duration": 33,
    "start_time": "2022-11-03T11:52:06.802Z"
   },
   {
    "duration": 93,
    "start_time": "2022-11-03T11:52:06.837Z"
   },
   {
    "duration": 33,
    "start_time": "2022-11-03T11:52:06.932Z"
   },
   {
    "duration": 11,
    "start_time": "2022-11-03T11:52:06.976Z"
   },
   {
    "duration": 60,
    "start_time": "2022-11-03T11:52:06.991Z"
   },
   {
    "duration": 64,
    "start_time": "2022-11-03T11:52:07.052Z"
   },
   {
    "duration": 40,
    "start_time": "2022-11-03T11:52:07.118Z"
   },
   {
    "duration": 21,
    "start_time": "2022-11-03T11:52:07.160Z"
   },
   {
    "duration": 46,
    "start_time": "2022-11-03T11:52:07.183Z"
   },
   {
    "duration": 14,
    "start_time": "2022-11-03T11:52:07.231Z"
   },
   {
    "duration": 43,
    "start_time": "2022-11-03T11:52:07.249Z"
   },
   {
    "duration": 7,
    "start_time": "2022-11-03T11:52:07.295Z"
   },
   {
    "duration": 174,
    "start_time": "2022-11-03T11:52:07.303Z"
   },
   {
    "duration": 74,
    "start_time": "2022-11-03T11:52:07.479Z"
   },
   {
    "duration": 23,
    "start_time": "2022-11-03T11:52:07.555Z"
   },
   {
    "duration": 33,
    "start_time": "2022-11-03T11:52:07.580Z"
   },
   {
    "duration": 26,
    "start_time": "2022-11-03T11:52:07.615Z"
   },
   {
    "duration": 58,
    "start_time": "2022-11-03T11:52:07.642Z"
   },
   {
    "duration": 558,
    "start_time": "2022-11-03T11:52:07.702Z"
   },
   {
    "duration": 532,
    "start_time": "2022-11-03T11:52:08.264Z"
   },
   {
    "duration": 1210,
    "start_time": "2022-11-03T11:52:08.797Z"
   },
   {
    "duration": 587,
    "start_time": "2022-11-03T11:52:10.010Z"
   },
   {
    "duration": 2,
    "start_time": "2022-11-03T11:52:10.599Z"
   },
   {
    "duration": 75,
    "start_time": "2022-11-03T11:52:10.603Z"
   },
   {
    "duration": 11,
    "start_time": "2022-11-03T11:52:10.681Z"
   },
   {
    "duration": 1094,
    "start_time": "2022-11-03T11:53:54.817Z"
   },
   {
    "duration": 418,
    "start_time": "2022-11-03T11:53:55.913Z"
   },
   {
    "duration": 13,
    "start_time": "2022-11-03T11:53:56.332Z"
   },
   {
    "duration": 11,
    "start_time": "2022-11-03T11:53:56.347Z"
   },
   {
    "duration": 18,
    "start_time": "2022-11-03T11:53:56.360Z"
   },
   {
    "duration": 10,
    "start_time": "2022-11-03T11:53:56.379Z"
   },
   {
    "duration": 13,
    "start_time": "2022-11-03T11:53:56.390Z"
   },
   {
    "duration": 12,
    "start_time": "2022-11-03T11:53:56.405Z"
   },
   {
    "duration": 6,
    "start_time": "2022-11-03T11:53:56.418Z"
   },
   {
    "duration": 18,
    "start_time": "2022-11-03T11:53:56.426Z"
   },
   {
    "duration": 32,
    "start_time": "2022-11-03T11:53:56.446Z"
   },
   {
    "duration": 21,
    "start_time": "2022-11-03T11:53:56.480Z"
   },
   {
    "duration": 8,
    "start_time": "2022-11-03T11:53:56.502Z"
   },
   {
    "duration": 21,
    "start_time": "2022-11-03T11:53:56.513Z"
   },
   {
    "duration": 49,
    "start_time": "2022-11-03T11:53:56.536Z"
   },
   {
    "duration": 50,
    "start_time": "2022-11-03T11:53:56.586Z"
   },
   {
    "duration": 10,
    "start_time": "2022-11-03T11:53:56.637Z"
   },
   {
    "duration": 42,
    "start_time": "2022-11-03T11:53:56.648Z"
   },
   {
    "duration": 65,
    "start_time": "2022-11-03T11:53:56.692Z"
   },
   {
    "duration": 39,
    "start_time": "2022-11-03T11:53:56.758Z"
   },
   {
    "duration": 8,
    "start_time": "2022-11-03T11:53:56.798Z"
   },
   {
    "duration": 35,
    "start_time": "2022-11-03T11:53:56.807Z"
   },
   {
    "duration": 59,
    "start_time": "2022-11-03T11:53:56.844Z"
   },
   {
    "duration": 40,
    "start_time": "2022-11-03T11:53:56.905Z"
   },
   {
    "duration": 7,
    "start_time": "2022-11-03T11:53:56.947Z"
   },
   {
    "duration": 55,
    "start_time": "2022-11-03T11:53:56.955Z"
   },
   {
    "duration": 14,
    "start_time": "2022-11-03T11:53:57.012Z"
   },
   {
    "duration": 24,
    "start_time": "2022-11-03T11:53:57.027Z"
   },
   {
    "duration": 25,
    "start_time": "2022-11-03T11:53:57.052Z"
   },
   {
    "duration": 162,
    "start_time": "2022-11-03T11:53:57.079Z"
   },
   {
    "duration": 75,
    "start_time": "2022-11-03T11:53:57.242Z"
   },
   {
    "duration": 8,
    "start_time": "2022-11-03T11:53:57.318Z"
   },
   {
    "duration": 23,
    "start_time": "2022-11-03T11:53:57.328Z"
   },
   {
    "duration": 36,
    "start_time": "2022-11-03T11:53:57.352Z"
   },
   {
    "duration": 38,
    "start_time": "2022-11-03T11:53:57.389Z"
   },
   {
    "duration": 492,
    "start_time": "2022-11-03T11:53:57.429Z"
   },
   {
    "duration": 471,
    "start_time": "2022-11-03T11:53:57.923Z"
   },
   {
    "duration": 1200,
    "start_time": "2022-11-03T11:53:58.396Z"
   },
   {
    "duration": 494,
    "start_time": "2022-11-03T11:53:59.598Z"
   },
   {
    "duration": 2,
    "start_time": "2022-11-03T11:54:00.094Z"
   },
   {
    "duration": 30,
    "start_time": "2022-11-03T11:54:00.099Z"
   },
   {
    "duration": 50,
    "start_time": "2022-11-03T11:54:00.131Z"
   },
   {
    "duration": 1142,
    "start_time": "2022-11-03T12:02:19.548Z"
   },
   {
    "duration": 440,
    "start_time": "2022-11-03T12:02:20.692Z"
   },
   {
    "duration": 14,
    "start_time": "2022-11-03T12:02:21.134Z"
   },
   {
    "duration": 27,
    "start_time": "2022-11-03T12:02:21.151Z"
   },
   {
    "duration": 7,
    "start_time": "2022-11-03T12:02:21.180Z"
   },
   {
    "duration": 17,
    "start_time": "2022-11-03T12:02:21.189Z"
   },
   {
    "duration": 23,
    "start_time": "2022-11-03T12:02:21.207Z"
   },
   {
    "duration": 14,
    "start_time": "2022-11-03T12:02:21.232Z"
   },
   {
    "duration": 7,
    "start_time": "2022-11-03T12:02:21.248Z"
   },
   {
    "duration": 17,
    "start_time": "2022-11-03T12:02:21.277Z"
   },
   {
    "duration": 8,
    "start_time": "2022-11-03T12:02:21.295Z"
   },
   {
    "duration": 22,
    "start_time": "2022-11-03T12:02:21.304Z"
   },
   {
    "duration": 10,
    "start_time": "2022-11-03T12:02:21.328Z"
   },
   {
    "duration": 54,
    "start_time": "2022-11-03T12:02:21.340Z"
   },
   {
    "duration": 27,
    "start_time": "2022-11-03T12:02:21.395Z"
   },
   {
    "duration": 65,
    "start_time": "2022-11-03T12:02:21.423Z"
   },
   {
    "duration": 12,
    "start_time": "2022-11-03T12:02:21.490Z"
   },
   {
    "duration": 30,
    "start_time": "2022-11-03T12:02:21.504Z"
   },
   {
    "duration": 82,
    "start_time": "2022-11-03T12:02:21.535Z"
   },
   {
    "duration": 32,
    "start_time": "2022-11-03T12:02:21.619Z"
   },
   {
    "duration": 24,
    "start_time": "2022-11-03T12:02:21.652Z"
   },
   {
    "duration": 31,
    "start_time": "2022-11-03T12:02:21.678Z"
   },
   {
    "duration": 44,
    "start_time": "2022-11-03T12:02:21.710Z"
   },
   {
    "duration": 54,
    "start_time": "2022-11-03T12:02:21.756Z"
   },
   {
    "duration": 8,
    "start_time": "2022-11-03T12:02:21.812Z"
   },
   {
    "duration": 32,
    "start_time": "2022-11-03T12:02:21.822Z"
   },
   {
    "duration": 13,
    "start_time": "2022-11-03T12:02:21.877Z"
   },
   {
    "duration": 22,
    "start_time": "2022-11-03T12:02:21.894Z"
   },
   {
    "duration": 9,
    "start_time": "2022-11-03T12:02:21.918Z"
   },
   {
    "duration": 192,
    "start_time": "2022-11-03T12:02:21.929Z"
   },
   {
    "duration": 88,
    "start_time": "2022-11-03T12:02:22.123Z"
   },
   {
    "duration": 8,
    "start_time": "2022-11-03T12:02:22.212Z"
   },
   {
    "duration": 21,
    "start_time": "2022-11-03T12:02:22.222Z"
   },
   {
    "duration": 38,
    "start_time": "2022-11-03T12:02:22.245Z"
   },
   {
    "duration": 37,
    "start_time": "2022-11-03T12:02:22.284Z"
   },
   {
    "duration": 524,
    "start_time": "2022-11-03T12:02:22.323Z"
   },
   {
    "duration": 527,
    "start_time": "2022-11-03T12:02:22.849Z"
   },
   {
    "duration": 596,
    "start_time": "2022-11-03T12:02:23.378Z"
   },
   {
    "duration": 412,
    "start_time": "2022-11-03T12:02:23.976Z"
   },
   {
    "duration": 2,
    "start_time": "2022-11-03T12:02:24.390Z"
   },
   {
    "duration": 12,
    "start_time": "2022-11-03T12:02:24.394Z"
   },
   {
    "duration": 13,
    "start_time": "2022-11-03T12:02:24.408Z"
   },
   {
    "duration": 1178,
    "start_time": "2022-11-03T12:02:42.272Z"
   },
   {
    "duration": 463,
    "start_time": "2022-11-03T12:02:43.453Z"
   },
   {
    "duration": 16,
    "start_time": "2022-11-03T12:02:43.918Z"
   },
   {
    "duration": 13,
    "start_time": "2022-11-03T12:02:43.937Z"
   },
   {
    "duration": 108,
    "start_time": "2022-11-03T12:02:43.952Z"
   },
   {
    "duration": 40,
    "start_time": "2022-11-03T12:02:44.062Z"
   },
   {
    "duration": 31,
    "start_time": "2022-11-03T12:02:44.104Z"
   },
   {
    "duration": 30,
    "start_time": "2022-11-03T12:02:44.137Z"
   },
   {
    "duration": 17,
    "start_time": "2022-11-03T12:02:44.169Z"
   },
   {
    "duration": 44,
    "start_time": "2022-11-03T12:02:44.189Z"
   },
   {
    "duration": 14,
    "start_time": "2022-11-03T12:02:44.234Z"
   },
   {
    "duration": 50,
    "start_time": "2022-11-03T12:02:44.250Z"
   },
   {
    "duration": 11,
    "start_time": "2022-11-03T12:02:44.302Z"
   },
   {
    "duration": 42,
    "start_time": "2022-11-03T12:02:44.315Z"
   },
   {
    "duration": 30,
    "start_time": "2022-11-03T12:02:44.359Z"
   },
   {
    "duration": 62,
    "start_time": "2022-11-03T12:02:44.391Z"
   },
   {
    "duration": 9,
    "start_time": "2022-11-03T12:02:44.455Z"
   },
   {
    "duration": 39,
    "start_time": "2022-11-03T12:02:44.466Z"
   },
   {
    "duration": 100,
    "start_time": "2022-11-03T12:02:44.507Z"
   },
   {
    "duration": 42,
    "start_time": "2022-11-03T12:02:44.609Z"
   },
   {
    "duration": 24,
    "start_time": "2022-11-03T12:02:44.654Z"
   },
   {
    "duration": 45,
    "start_time": "2022-11-03T12:02:44.680Z"
   },
   {
    "duration": 282,
    "start_time": "2022-11-03T12:02:44.727Z"
   },
   {
    "duration": 41,
    "start_time": "2022-11-03T12:02:45.011Z"
   },
   {
    "duration": 24,
    "start_time": "2022-11-03T12:02:45.054Z"
   },
   {
    "duration": 30,
    "start_time": "2022-11-03T12:02:45.080Z"
   },
   {
    "duration": 12,
    "start_time": "2022-11-03T12:02:45.112Z"
   },
   {
    "duration": 24,
    "start_time": "2022-11-03T12:02:45.127Z"
   },
   {
    "duration": 34,
    "start_time": "2022-11-03T12:02:45.152Z"
   },
   {
    "duration": 250,
    "start_time": "2022-11-03T12:02:45.188Z"
   },
   {
    "duration": 92,
    "start_time": "2022-11-03T12:02:45.441Z"
   },
   {
    "duration": 11,
    "start_time": "2022-11-03T12:02:45.535Z"
   },
   {
    "duration": 42,
    "start_time": "2022-11-03T12:02:45.548Z"
   },
   {
    "duration": 25,
    "start_time": "2022-11-03T12:02:45.592Z"
   },
   {
    "duration": 58,
    "start_time": "2022-11-03T12:02:45.619Z"
   },
   {
    "duration": 590,
    "start_time": "2022-11-03T12:02:45.679Z"
   },
   {
    "duration": 648,
    "start_time": "2022-11-03T12:02:46.271Z"
   },
   {
    "duration": 881,
    "start_time": "2022-11-03T12:02:46.922Z"
   },
   {
    "duration": 515,
    "start_time": "2022-11-03T12:02:47.805Z"
   },
   {
    "duration": 54,
    "start_time": "2022-11-03T12:02:48.322Z"
   },
   {
    "duration": 11,
    "start_time": "2022-11-03T12:02:48.378Z"
   },
   {
    "duration": 9,
    "start_time": "2022-11-03T12:02:48.390Z"
   },
   {
    "duration": 1148,
    "start_time": "2022-11-03T12:09:59.289Z"
   },
   {
    "duration": 425,
    "start_time": "2022-11-03T12:10:00.439Z"
   },
   {
    "duration": 14,
    "start_time": "2022-11-03T12:10:00.866Z"
   },
   {
    "duration": 38,
    "start_time": "2022-11-03T12:10:00.882Z"
   },
   {
    "duration": 23,
    "start_time": "2022-11-03T12:10:00.921Z"
   },
   {
    "duration": 41,
    "start_time": "2022-11-03T12:10:00.945Z"
   },
   {
    "duration": 31,
    "start_time": "2022-11-03T12:10:00.988Z"
   },
   {
    "duration": 38,
    "start_time": "2022-11-03T12:10:01.021Z"
   },
   {
    "duration": 36,
    "start_time": "2022-11-03T12:10:01.061Z"
   },
   {
    "duration": 45,
    "start_time": "2022-11-03T12:10:01.099Z"
   },
   {
    "duration": 15,
    "start_time": "2022-11-03T12:10:01.146Z"
   },
   {
    "duration": 33,
    "start_time": "2022-11-03T12:10:01.163Z"
   },
   {
    "duration": 8,
    "start_time": "2022-11-03T12:10:01.197Z"
   },
   {
    "duration": 41,
    "start_time": "2022-11-03T12:10:01.207Z"
   },
   {
    "duration": 25,
    "start_time": "2022-11-03T12:10:01.250Z"
   },
   {
    "duration": 51,
    "start_time": "2022-11-03T12:10:01.277Z"
   },
   {
    "duration": 14,
    "start_time": "2022-11-03T12:10:01.329Z"
   },
   {
    "duration": 41,
    "start_time": "2022-11-03T12:10:01.345Z"
   },
   {
    "duration": 73,
    "start_time": "2022-11-03T12:10:01.387Z"
   },
   {
    "duration": 45,
    "start_time": "2022-11-03T12:10:01.461Z"
   },
   {
    "duration": 22,
    "start_time": "2022-11-03T12:10:01.507Z"
   },
   {
    "duration": 67,
    "start_time": "2022-11-03T12:10:01.531Z"
   },
   {
    "duration": 43,
    "start_time": "2022-11-03T12:10:01.599Z"
   },
   {
    "duration": 47,
    "start_time": "2022-11-03T12:10:01.643Z"
   },
   {
    "duration": 7,
    "start_time": "2022-11-03T12:10:01.692Z"
   },
   {
    "duration": 71,
    "start_time": "2022-11-03T12:10:01.700Z"
   },
   {
    "duration": 20,
    "start_time": "2022-11-03T12:10:01.773Z"
   },
   {
    "duration": 39,
    "start_time": "2022-11-03T12:10:01.796Z"
   },
   {
    "duration": 6,
    "start_time": "2022-11-03T12:10:01.837Z"
   },
   {
    "duration": 175,
    "start_time": "2022-11-03T12:10:01.844Z"
   },
   {
    "duration": 74,
    "start_time": "2022-11-03T12:10:02.020Z"
   },
   {
    "duration": 8,
    "start_time": "2022-11-03T12:10:02.095Z"
   },
   {
    "duration": 59,
    "start_time": "2022-11-03T12:10:02.104Z"
   },
   {
    "duration": 30,
    "start_time": "2022-11-03T12:10:02.164Z"
   },
   {
    "duration": 72,
    "start_time": "2022-11-03T12:10:02.195Z"
   },
   {
    "duration": 477,
    "start_time": "2022-11-03T12:10:02.268Z"
   },
   {
    "duration": 972,
    "start_time": "2022-11-03T12:10:02.746Z"
   },
   {
    "duration": 996,
    "start_time": "2022-11-03T12:10:03.720Z"
   },
   {
    "duration": 242,
    "start_time": "2022-11-03T12:10:04.718Z"
   },
   {
    "duration": 3,
    "start_time": "2022-11-03T12:10:04.962Z"
   },
   {
    "duration": 21,
    "start_time": "2022-11-03T12:10:04.966Z"
   },
   {
    "duration": 13,
    "start_time": "2022-11-03T12:10:04.988Z"
   },
   {
    "duration": 1185,
    "start_time": "2022-11-03T19:42:55.767Z"
   },
   {
    "duration": 1521,
    "start_time": "2022-11-03T19:42:56.954Z"
   },
   {
    "duration": 20,
    "start_time": "2022-11-03T19:42:58.476Z"
   },
   {
    "duration": 15,
    "start_time": "2022-11-03T19:42:58.499Z"
   },
   {
    "duration": 6,
    "start_time": "2022-11-03T19:42:58.523Z"
   },
   {
    "duration": 22,
    "start_time": "2022-11-03T19:42:58.531Z"
   },
   {
    "duration": 17,
    "start_time": "2022-11-03T19:42:58.555Z"
   },
   {
    "duration": 22,
    "start_time": "2022-11-03T19:42:58.574Z"
   },
   {
    "duration": 24,
    "start_time": "2022-11-03T19:42:58.598Z"
   },
   {
    "duration": 30,
    "start_time": "2022-11-03T19:42:58.624Z"
   },
   {
    "duration": 9,
    "start_time": "2022-11-03T19:42:58.656Z"
   },
   {
    "duration": 32,
    "start_time": "2022-11-03T19:42:58.667Z"
   },
   {
    "duration": 27,
    "start_time": "2022-11-03T19:42:58.701Z"
   },
   {
    "duration": 42,
    "start_time": "2022-11-03T19:42:58.732Z"
   },
   {
    "duration": 47,
    "start_time": "2022-11-03T19:42:58.776Z"
   },
   {
    "duration": 68,
    "start_time": "2022-11-03T19:42:58.825Z"
   },
   {
    "duration": 31,
    "start_time": "2022-11-03T19:42:58.896Z"
   },
   {
    "duration": 49,
    "start_time": "2022-11-03T19:42:58.929Z"
   },
   {
    "duration": 89,
    "start_time": "2022-11-03T19:42:58.980Z"
   },
   {
    "duration": 36,
    "start_time": "2022-11-03T19:42:59.071Z"
   },
   {
    "duration": 21,
    "start_time": "2022-11-03T19:42:59.109Z"
   },
   {
    "duration": 51,
    "start_time": "2022-11-03T19:42:59.132Z"
   },
   {
    "duration": 81,
    "start_time": "2022-11-03T19:42:59.184Z"
   },
   {
    "duration": 43,
    "start_time": "2022-11-03T19:42:59.266Z"
   },
   {
    "duration": 9,
    "start_time": "2022-11-03T19:42:59.324Z"
   },
   {
    "duration": 65,
    "start_time": "2022-11-03T19:42:59.335Z"
   },
   {
    "duration": 12,
    "start_time": "2022-11-03T19:42:59.402Z"
   },
   {
    "duration": 22,
    "start_time": "2022-11-03T19:42:59.415Z"
   },
   {
    "duration": 4,
    "start_time": "2022-11-03T19:42:59.439Z"
   },
   {
    "duration": 220,
    "start_time": "2022-11-03T19:42:59.445Z"
   },
   {
    "duration": 100,
    "start_time": "2022-11-03T19:42:59.668Z"
   },
   {
    "duration": 7,
    "start_time": "2022-11-03T19:42:59.770Z"
   },
   {
    "duration": 20,
    "start_time": "2022-11-03T19:42:59.779Z"
   },
   {
    "duration": 36,
    "start_time": "2022-11-03T19:42:59.801Z"
   },
   {
    "duration": 31,
    "start_time": "2022-11-03T19:42:59.839Z"
   },
   {
    "duration": 474,
    "start_time": "2022-11-03T19:42:59.872Z"
   },
   {
    "duration": 523,
    "start_time": "2022-11-03T19:43:00.347Z"
   },
   {
    "duration": 551,
    "start_time": "2022-11-03T19:43:00.872Z"
   },
   {
    "duration": 281,
    "start_time": "2022-11-03T19:43:01.425Z"
   },
   {
    "duration": 2,
    "start_time": "2022-11-03T19:43:01.708Z"
   },
   {
    "duration": 55,
    "start_time": "2022-11-03T19:43:01.721Z"
   },
   {
    "duration": 43,
    "start_time": "2022-11-03T19:43:01.777Z"
   },
   {
    "duration": 989,
    "start_time": "2022-11-03T20:06:13.875Z"
   },
   {
    "duration": 392,
    "start_time": "2022-11-03T20:06:14.866Z"
   },
   {
    "duration": 12,
    "start_time": "2022-11-03T20:06:15.259Z"
   },
   {
    "duration": 10,
    "start_time": "2022-11-03T20:06:15.272Z"
   },
   {
    "duration": 6,
    "start_time": "2022-11-03T20:06:15.284Z"
   },
   {
    "duration": 17,
    "start_time": "2022-11-03T20:06:15.291Z"
   },
   {
    "duration": 26,
    "start_time": "2022-11-03T20:06:15.310Z"
   },
   {
    "duration": 10,
    "start_time": "2022-11-03T20:06:15.338Z"
   },
   {
    "duration": 7,
    "start_time": "2022-11-03T20:06:15.349Z"
   },
   {
    "duration": 24,
    "start_time": "2022-11-03T20:06:15.357Z"
   },
   {
    "duration": 18,
    "start_time": "2022-11-03T20:06:15.383Z"
   },
   {
    "duration": 18,
    "start_time": "2022-11-03T20:06:15.402Z"
   },
   {
    "duration": 11,
    "start_time": "2022-11-03T20:06:15.423Z"
   },
   {
    "duration": 21,
    "start_time": "2022-11-03T20:06:15.437Z"
   },
   {
    "duration": 21,
    "start_time": "2022-11-03T20:06:15.460Z"
   },
   {
    "duration": 62,
    "start_time": "2022-11-03T20:06:15.483Z"
   },
   {
    "duration": 13,
    "start_time": "2022-11-03T20:06:15.546Z"
   },
   {
    "duration": 24,
    "start_time": "2022-11-03T20:06:15.561Z"
   },
   {
    "duration": 75,
    "start_time": "2022-11-03T20:06:15.587Z"
   },
   {
    "duration": 26,
    "start_time": "2022-11-03T20:06:15.664Z"
   },
   {
    "duration": 7,
    "start_time": "2022-11-03T20:06:15.692Z"
   },
   {
    "duration": 43,
    "start_time": "2022-11-03T20:06:15.701Z"
   },
   {
    "duration": 37,
    "start_time": "2022-11-03T20:06:15.746Z"
   },
   {
    "duration": 49,
    "start_time": "2022-11-03T20:06:15.785Z"
   },
   {
    "duration": 7,
    "start_time": "2022-11-03T20:06:15.836Z"
   },
   {
    "duration": 28,
    "start_time": "2022-11-03T20:06:15.844Z"
   },
   {
    "duration": 10,
    "start_time": "2022-11-03T20:06:15.873Z"
   },
   {
    "duration": 46,
    "start_time": "2022-11-03T20:06:15.885Z"
   },
   {
    "duration": 16,
    "start_time": "2022-11-03T20:06:15.932Z"
   },
   {
    "duration": 163,
    "start_time": "2022-11-03T20:06:15.949Z"
   },
   {
    "duration": 86,
    "start_time": "2022-11-03T20:06:16.114Z"
   },
   {
    "duration": 9,
    "start_time": "2022-11-03T20:06:16.202Z"
   },
   {
    "duration": 38,
    "start_time": "2022-11-03T20:06:16.222Z"
   },
   {
    "duration": 26,
    "start_time": "2022-11-03T20:06:16.261Z"
   },
   {
    "duration": 41,
    "start_time": "2022-11-03T20:06:16.289Z"
   },
   {
    "duration": 413,
    "start_time": "2022-11-03T20:06:16.336Z"
   },
   {
    "duration": 432,
    "start_time": "2022-11-03T20:06:16.751Z"
   },
   {
    "duration": 515,
    "start_time": "2022-11-03T20:06:17.185Z"
   },
   {
    "duration": 255,
    "start_time": "2022-11-03T20:06:17.701Z"
   },
   {
    "duration": 3,
    "start_time": "2022-11-03T20:06:17.957Z"
   },
   {
    "duration": 9,
    "start_time": "2022-11-03T20:06:17.963Z"
   },
   {
    "duration": 8,
    "start_time": "2022-11-03T20:06:17.973Z"
   },
   {
    "duration": 1339,
    "start_time": "2022-11-04T14:36:27.873Z"
   },
   {
    "duration": 1332,
    "start_time": "2022-11-04T14:36:29.214Z"
   },
   {
    "duration": 16,
    "start_time": "2022-11-04T14:36:30.548Z"
   },
   {
    "duration": 17,
    "start_time": "2022-11-04T14:36:30.566Z"
   },
   {
    "duration": 29,
    "start_time": "2022-11-04T14:36:30.585Z"
   },
   {
    "duration": 10,
    "start_time": "2022-11-04T14:36:30.617Z"
   },
   {
    "duration": 22,
    "start_time": "2022-11-04T14:36:30.629Z"
   },
   {
    "duration": 32,
    "start_time": "2022-11-04T14:36:30.652Z"
   },
   {
    "duration": 10,
    "start_time": "2022-11-04T14:36:30.686Z"
   },
   {
    "duration": 22,
    "start_time": "2022-11-04T14:36:30.700Z"
   },
   {
    "duration": 23,
    "start_time": "2022-11-04T14:36:30.724Z"
   },
   {
    "duration": 22,
    "start_time": "2022-11-04T14:36:30.749Z"
   },
   {
    "duration": 10,
    "start_time": "2022-11-04T14:36:30.773Z"
   },
   {
    "duration": 57,
    "start_time": "2022-11-04T14:36:30.785Z"
   },
   {
    "duration": 29,
    "start_time": "2022-11-04T14:36:30.843Z"
   },
   {
    "duration": 76,
    "start_time": "2022-11-04T14:36:30.874Z"
   },
   {
    "duration": 17,
    "start_time": "2022-11-04T14:36:30.952Z"
   },
   {
    "duration": 33,
    "start_time": "2022-11-04T14:36:30.971Z"
   },
   {
    "duration": 81,
    "start_time": "2022-11-04T14:36:31.006Z"
   },
   {
    "duration": 53,
    "start_time": "2022-11-04T14:36:31.089Z"
   },
   {
    "duration": 15,
    "start_time": "2022-11-04T14:36:31.144Z"
   },
   {
    "duration": 74,
    "start_time": "2022-11-04T14:36:31.162Z"
   },
   {
    "duration": 67,
    "start_time": "2022-11-04T14:36:31.241Z"
   },
   {
    "duration": 83,
    "start_time": "2022-11-04T14:36:31.311Z"
   },
   {
    "duration": 9,
    "start_time": "2022-11-04T14:36:31.396Z"
   },
   {
    "duration": 55,
    "start_time": "2022-11-04T14:36:31.407Z"
   },
   {
    "duration": 13,
    "start_time": "2022-11-04T14:36:31.464Z"
   },
   {
    "duration": 26,
    "start_time": "2022-11-04T14:36:31.481Z"
   },
   {
    "duration": 41,
    "start_time": "2022-11-04T14:36:31.509Z"
   },
   {
    "duration": 228,
    "start_time": "2022-11-04T14:36:31.552Z"
   },
   {
    "duration": 91,
    "start_time": "2022-11-04T14:36:31.782Z"
   },
   {
    "duration": 10,
    "start_time": "2022-11-04T14:36:31.876Z"
   },
   {
    "duration": 62,
    "start_time": "2022-11-04T14:36:31.888Z"
   },
   {
    "duration": 26,
    "start_time": "2022-11-04T14:36:31.953Z"
   },
   {
    "duration": 59,
    "start_time": "2022-11-04T14:36:31.981Z"
   },
   {
    "duration": 732,
    "start_time": "2022-11-04T14:36:32.046Z"
   },
   {
    "duration": 656,
    "start_time": "2022-11-04T14:36:32.780Z"
   },
   {
    "duration": 911,
    "start_time": "2022-11-04T14:36:33.438Z"
   },
   {
    "duration": 807,
    "start_time": "2022-11-04T14:36:34.352Z"
   },
   {
    "duration": 3,
    "start_time": "2022-11-04T14:36:35.161Z"
   },
   {
    "duration": 70,
    "start_time": "2022-11-04T14:36:35.165Z"
   },
   {
    "duration": 14,
    "start_time": "2022-11-04T14:36:35.242Z"
   },
   {
    "duration": 1373,
    "start_time": "2022-11-04T15:18:15.465Z"
   },
   {
    "duration": 611,
    "start_time": "2022-11-04T15:18:16.839Z"
   },
   {
    "duration": 27,
    "start_time": "2022-11-04T15:18:17.457Z"
   },
   {
    "duration": 18,
    "start_time": "2022-11-04T15:18:17.495Z"
   },
   {
    "duration": 8,
    "start_time": "2022-11-04T15:18:17.516Z"
   },
   {
    "duration": 22,
    "start_time": "2022-11-04T15:18:17.526Z"
   },
   {
    "duration": 20,
    "start_time": "2022-11-04T15:18:17.551Z"
   },
   {
    "duration": 21,
    "start_time": "2022-11-04T15:18:17.574Z"
   },
   {
    "duration": 16,
    "start_time": "2022-11-04T15:18:17.597Z"
   },
   {
    "duration": 52,
    "start_time": "2022-11-04T15:18:17.617Z"
   },
   {
    "duration": 16,
    "start_time": "2022-11-04T15:18:17.676Z"
   },
   {
    "duration": 40,
    "start_time": "2022-11-04T15:18:17.694Z"
   },
   {
    "duration": 12,
    "start_time": "2022-11-04T15:18:17.736Z"
   },
   {
    "duration": 43,
    "start_time": "2022-11-04T15:18:17.752Z"
   },
   {
    "duration": 68,
    "start_time": "2022-11-04T15:18:17.797Z"
   },
   {
    "duration": 92,
    "start_time": "2022-11-04T15:18:17.873Z"
   },
   {
    "duration": 18,
    "start_time": "2022-11-04T15:18:17.967Z"
   },
   {
    "duration": 45,
    "start_time": "2022-11-04T15:18:17.987Z"
   },
   {
    "duration": 126,
    "start_time": "2022-11-04T15:18:18.044Z"
   },
   {
    "duration": 69,
    "start_time": "2022-11-04T15:18:18.181Z"
   },
   {
    "duration": 34,
    "start_time": "2022-11-04T15:18:18.255Z"
   },
   {
    "duration": 57,
    "start_time": "2022-11-04T15:18:18.294Z"
   },
   {
    "duration": 60,
    "start_time": "2022-11-04T15:18:18.353Z"
   },
   {
    "duration": 72,
    "start_time": "2022-11-04T15:18:18.416Z"
   },
   {
    "duration": 12,
    "start_time": "2022-11-04T15:18:18.492Z"
   },
   {
    "duration": 86,
    "start_time": "2022-11-04T15:18:18.509Z"
   },
   {
    "duration": 17,
    "start_time": "2022-11-04T15:18:18.597Z"
   },
   {
    "duration": 63,
    "start_time": "2022-11-04T15:18:18.618Z"
   },
   {
    "duration": 19,
    "start_time": "2022-11-04T15:18:18.683Z"
   },
   {
    "duration": 285,
    "start_time": "2022-11-04T15:18:18.704Z"
   },
   {
    "duration": 123,
    "start_time": "2022-11-04T15:18:18.992Z"
   },
   {
    "duration": 21,
    "start_time": "2022-11-04T15:18:19.117Z"
   },
   {
    "duration": 56,
    "start_time": "2022-11-04T15:18:19.140Z"
   },
   {
    "duration": 37,
    "start_time": "2022-11-04T15:18:19.198Z"
   },
   {
    "duration": 62,
    "start_time": "2022-11-04T15:18:19.240Z"
   },
   {
    "duration": 1102,
    "start_time": "2022-11-04T15:18:19.304Z"
   },
   {
    "duration": 1233,
    "start_time": "2022-11-04T15:18:20.408Z"
   },
   {
    "duration": 731,
    "start_time": "2022-11-04T15:18:21.645Z"
   },
   {
    "duration": 324,
    "start_time": "2022-11-04T15:18:22.378Z"
   },
   {
    "duration": 2,
    "start_time": "2022-11-04T15:18:22.704Z"
   },
   {
    "duration": 31,
    "start_time": "2022-11-04T15:18:22.708Z"
   },
   {
    "duration": 22,
    "start_time": "2022-11-04T15:18:22.743Z"
   },
   {
    "duration": 1226,
    "start_time": "2022-11-04T15:28:29.727Z"
   },
   {
    "duration": 509,
    "start_time": "2022-11-04T15:28:30.955Z"
   },
   {
    "duration": 18,
    "start_time": "2022-11-04T15:28:31.466Z"
   },
   {
    "duration": 14,
    "start_time": "2022-11-04T15:28:31.487Z"
   },
   {
    "duration": 11,
    "start_time": "2022-11-04T15:28:31.503Z"
   },
   {
    "duration": 12,
    "start_time": "2022-11-04T15:28:31.540Z"
   },
   {
    "duration": 16,
    "start_time": "2022-11-04T15:28:31.554Z"
   },
   {
    "duration": 18,
    "start_time": "2022-11-04T15:28:31.572Z"
   },
   {
    "duration": 7,
    "start_time": "2022-11-04T15:28:31.592Z"
   },
   {
    "duration": 44,
    "start_time": "2022-11-04T15:28:31.602Z"
   },
   {
    "duration": 12,
    "start_time": "2022-11-04T15:28:31.648Z"
   },
   {
    "duration": 43,
    "start_time": "2022-11-04T15:28:31.662Z"
   },
   {
    "duration": 10,
    "start_time": "2022-11-04T15:28:31.707Z"
   },
   {
    "duration": 47,
    "start_time": "2022-11-04T15:28:31.718Z"
   },
   {
    "duration": 35,
    "start_time": "2022-11-04T15:28:31.767Z"
   },
   {
    "duration": 63,
    "start_time": "2022-11-04T15:28:31.804Z"
   },
   {
    "duration": 17,
    "start_time": "2022-11-04T15:28:31.868Z"
   },
   {
    "duration": 27,
    "start_time": "2022-11-04T15:28:31.887Z"
   },
   {
    "duration": 86,
    "start_time": "2022-11-04T15:28:31.931Z"
   },
   {
    "duration": 54,
    "start_time": "2022-11-04T15:28:32.019Z"
   },
   {
    "duration": 8,
    "start_time": "2022-11-04T15:28:32.075Z"
   },
   {
    "duration": 43,
    "start_time": "2022-11-04T15:28:32.084Z"
   },
   {
    "duration": 55,
    "start_time": "2022-11-04T15:28:32.132Z"
   },
   {
    "duration": 55,
    "start_time": "2022-11-04T15:28:32.189Z"
   },
   {
    "duration": 12,
    "start_time": "2022-11-04T15:28:32.246Z"
   },
   {
    "duration": 34,
    "start_time": "2022-11-04T15:28:32.259Z"
   },
   {
    "duration": 13,
    "start_time": "2022-11-04T15:28:32.294Z"
   },
   {
    "duration": 26,
    "start_time": "2022-11-04T15:28:32.336Z"
   },
   {
    "duration": 22,
    "start_time": "2022-11-04T15:28:32.365Z"
   },
   {
    "duration": 204,
    "start_time": "2022-11-04T15:28:32.389Z"
   },
   {
    "duration": 85,
    "start_time": "2022-11-04T15:28:32.594Z"
   },
   {
    "duration": 9,
    "start_time": "2022-11-04T15:28:32.681Z"
   },
   {
    "duration": 24,
    "start_time": "2022-11-04T15:28:32.692Z"
   },
   {
    "duration": 36,
    "start_time": "2022-11-04T15:28:32.732Z"
   },
   {
    "duration": 45,
    "start_time": "2022-11-04T15:28:32.770Z"
   },
   {
    "duration": 742,
    "start_time": "2022-11-04T15:28:32.817Z"
   },
   {
    "duration": 682,
    "start_time": "2022-11-04T15:28:33.561Z"
   },
   {
    "duration": 543,
    "start_time": "2022-11-04T15:28:34.245Z"
   },
   {
    "duration": 292,
    "start_time": "2022-11-04T15:28:34.790Z"
   },
   {
    "duration": 6,
    "start_time": "2022-11-04T15:28:35.084Z"
   },
   {
    "duration": 57,
    "start_time": "2022-11-04T15:28:35.091Z"
   },
   {
    "duration": 1190,
    "start_time": "2022-11-04T15:32:30.368Z"
   },
   {
    "duration": 485,
    "start_time": "2022-11-04T15:32:31.560Z"
   },
   {
    "duration": 20,
    "start_time": "2022-11-04T15:32:32.048Z"
   },
   {
    "duration": 12,
    "start_time": "2022-11-04T15:32:32.070Z"
   },
   {
    "duration": 9,
    "start_time": "2022-11-04T15:32:32.084Z"
   },
   {
    "duration": 11,
    "start_time": "2022-11-04T15:32:32.094Z"
   },
   {
    "duration": 35,
    "start_time": "2022-11-04T15:32:32.107Z"
   },
   {
    "duration": 19,
    "start_time": "2022-11-04T15:32:32.144Z"
   },
   {
    "duration": 9,
    "start_time": "2022-11-04T15:32:32.166Z"
   },
   {
    "duration": 19,
    "start_time": "2022-11-04T15:32:32.178Z"
   },
   {
    "duration": 44,
    "start_time": "2022-11-04T15:32:32.199Z"
   },
   {
    "duration": 29,
    "start_time": "2022-11-04T15:32:32.250Z"
   },
   {
    "duration": 8,
    "start_time": "2022-11-04T15:32:32.281Z"
   },
   {
    "duration": 24,
    "start_time": "2022-11-04T15:32:32.291Z"
   },
   {
    "duration": 47,
    "start_time": "2022-11-04T15:32:32.317Z"
   },
   {
    "duration": 79,
    "start_time": "2022-11-04T15:32:32.366Z"
   },
   {
    "duration": 17,
    "start_time": "2022-11-04T15:32:32.449Z"
   },
   {
    "duration": 27,
    "start_time": "2022-11-04T15:32:32.468Z"
   },
   {
    "duration": 88,
    "start_time": "2022-11-04T15:32:32.497Z"
   },
   {
    "duration": 32,
    "start_time": "2022-11-04T15:32:32.587Z"
   },
   {
    "duration": 19,
    "start_time": "2022-11-04T15:32:32.633Z"
   },
   {
    "duration": 35,
    "start_time": "2022-11-04T15:32:32.654Z"
   },
   {
    "duration": 72,
    "start_time": "2022-11-04T15:32:32.690Z"
   },
   {
    "duration": 50,
    "start_time": "2022-11-04T15:32:32.764Z"
   },
   {
    "duration": 23,
    "start_time": "2022-11-04T15:32:32.816Z"
   },
   {
    "duration": 35,
    "start_time": "2022-11-04T15:32:32.844Z"
   },
   {
    "duration": 13,
    "start_time": "2022-11-04T15:32:32.881Z"
   },
   {
    "duration": 51,
    "start_time": "2022-11-04T15:32:32.897Z"
   },
   {
    "duration": 13,
    "start_time": "2022-11-04T15:32:32.954Z"
   },
   {
    "duration": 206,
    "start_time": "2022-11-04T15:32:32.969Z"
   },
   {
    "duration": 109,
    "start_time": "2022-11-04T15:32:33.177Z"
   },
   {
    "duration": 14,
    "start_time": "2022-11-04T15:32:33.288Z"
   },
   {
    "duration": 40,
    "start_time": "2022-11-04T15:32:33.304Z"
   },
   {
    "duration": 30,
    "start_time": "2022-11-04T15:32:33.346Z"
   },
   {
    "duration": 69,
    "start_time": "2022-11-04T15:32:33.377Z"
   },
   {
    "duration": 702,
    "start_time": "2022-11-04T15:32:33.450Z"
   },
   {
    "duration": 662,
    "start_time": "2022-11-04T15:32:34.154Z"
   },
   {
    "duration": 649,
    "start_time": "2022-11-04T15:32:34.818Z"
   },
   {
    "duration": 295,
    "start_time": "2022-11-04T15:32:35.470Z"
   },
   {
    "duration": 6,
    "start_time": "2022-11-04T15:32:35.766Z"
   },
   {
    "duration": 26,
    "start_time": "2022-11-04T15:32:35.774Z"
   },
   {
    "duration": 1112,
    "start_time": "2022-11-04T15:43:23.085Z"
   },
   {
    "duration": 447,
    "start_time": "2022-11-04T15:43:24.199Z"
   },
   {
    "duration": 16,
    "start_time": "2022-11-04T15:43:24.648Z"
   },
   {
    "duration": 15,
    "start_time": "2022-11-04T15:43:24.665Z"
   },
   {
    "duration": 8,
    "start_time": "2022-11-04T15:43:24.683Z"
   },
   {
    "duration": 9,
    "start_time": "2022-11-04T15:43:24.693Z"
   },
   {
    "duration": 34,
    "start_time": "2022-11-04T15:43:24.704Z"
   },
   {
    "duration": 12,
    "start_time": "2022-11-04T15:43:24.740Z"
   },
   {
    "duration": 7,
    "start_time": "2022-11-04T15:43:24.753Z"
   },
   {
    "duration": 20,
    "start_time": "2022-11-04T15:43:24.761Z"
   },
   {
    "duration": 9,
    "start_time": "2022-11-04T15:43:24.783Z"
   },
   {
    "duration": 51,
    "start_time": "2022-11-04T15:43:24.794Z"
   },
   {
    "duration": 11,
    "start_time": "2022-11-04T15:43:24.847Z"
   },
   {
    "duration": 41,
    "start_time": "2022-11-04T15:43:24.862Z"
   },
   {
    "duration": 46,
    "start_time": "2022-11-04T15:43:24.905Z"
   },
   {
    "duration": 66,
    "start_time": "2022-11-04T15:43:24.953Z"
   },
   {
    "duration": 16,
    "start_time": "2022-11-04T15:43:25.031Z"
   },
   {
    "duration": 33,
    "start_time": "2022-11-04T15:43:25.049Z"
   },
   {
    "duration": 104,
    "start_time": "2022-11-04T15:43:25.084Z"
   },
   {
    "duration": 29,
    "start_time": "2022-11-04T15:43:25.190Z"
   },
   {
    "duration": 16,
    "start_time": "2022-11-04T15:43:25.221Z"
   },
   {
    "duration": 43,
    "start_time": "2022-11-04T15:43:25.238Z"
   },
   {
    "duration": 63,
    "start_time": "2022-11-04T15:43:25.283Z"
   },
   {
    "duration": 38,
    "start_time": "2022-11-04T15:43:25.347Z"
   },
   {
    "duration": 8,
    "start_time": "2022-11-04T15:43:25.386Z"
   },
   {
    "duration": 68,
    "start_time": "2022-11-04T15:43:25.396Z"
   },
   {
    "duration": 13,
    "start_time": "2022-11-04T15:43:25.466Z"
   },
   {
    "duration": 20,
    "start_time": "2022-11-04T15:43:25.480Z"
   },
   {
    "duration": 36,
    "start_time": "2022-11-04T15:43:25.502Z"
   },
   {
    "duration": 178,
    "start_time": "2022-11-04T15:43:25.539Z"
   },
   {
    "duration": 78,
    "start_time": "2022-11-04T15:43:25.718Z"
   },
   {
    "duration": 10,
    "start_time": "2022-11-04T15:43:25.798Z"
   },
   {
    "duration": 35,
    "start_time": "2022-11-04T15:43:25.810Z"
   },
   {
    "duration": 20,
    "start_time": "2022-11-04T15:43:25.847Z"
   },
   {
    "duration": 35,
    "start_time": "2022-11-04T15:43:25.869Z"
   },
   {
    "duration": 681,
    "start_time": "2022-11-04T15:43:25.906Z"
   },
   {
    "duration": 680,
    "start_time": "2022-11-04T15:43:26.589Z"
   },
   {
    "duration": 699,
    "start_time": "2022-11-04T15:43:27.271Z"
   },
   {
    "duration": 372,
    "start_time": "2022-11-04T15:43:27.972Z"
   },
   {
    "duration": 9,
    "start_time": "2022-11-04T15:43:28.346Z"
   },
   {
    "duration": 12,
    "start_time": "2022-11-04T15:43:28.359Z"
   },
   {
    "duration": 1179,
    "start_time": "2022-11-06T19:26:25.446Z"
   },
   {
    "duration": 1412,
    "start_time": "2022-11-06T19:26:26.627Z"
   },
   {
    "duration": 14,
    "start_time": "2022-11-06T19:26:28.041Z"
   },
   {
    "duration": 17,
    "start_time": "2022-11-06T19:26:28.057Z"
   },
   {
    "duration": 14,
    "start_time": "2022-11-06T19:26:28.076Z"
   },
   {
    "duration": 25,
    "start_time": "2022-11-06T19:26:28.091Z"
   },
   {
    "duration": 12,
    "start_time": "2022-11-06T19:26:28.118Z"
   },
   {
    "duration": 14,
    "start_time": "2022-11-06T19:26:28.131Z"
   },
   {
    "duration": 6,
    "start_time": "2022-11-06T19:26:28.146Z"
   },
   {
    "duration": 23,
    "start_time": "2022-11-06T19:26:28.154Z"
   },
   {
    "duration": 8,
    "start_time": "2022-11-06T19:26:28.179Z"
   },
   {
    "duration": 19,
    "start_time": "2022-11-06T19:26:28.188Z"
   },
   {
    "duration": 8,
    "start_time": "2022-11-06T19:26:28.209Z"
   },
   {
    "duration": 23,
    "start_time": "2022-11-06T19:26:28.219Z"
   },
   {
    "duration": 47,
    "start_time": "2022-11-06T19:26:28.244Z"
   },
   {
    "duration": 46,
    "start_time": "2022-11-06T19:26:28.292Z"
   },
   {
    "duration": 14,
    "start_time": "2022-11-06T19:26:28.340Z"
   },
   {
    "duration": 41,
    "start_time": "2022-11-06T19:26:28.355Z"
   },
   {
    "duration": 61,
    "start_time": "2022-11-06T19:26:28.397Z"
   },
   {
    "duration": 42,
    "start_time": "2022-11-06T19:26:28.459Z"
   },
   {
    "duration": 8,
    "start_time": "2022-11-06T19:26:28.503Z"
   },
   {
    "duration": 33,
    "start_time": "2022-11-06T19:26:28.513Z"
   },
   {
    "duration": 57,
    "start_time": "2022-11-06T19:26:28.547Z"
   },
   {
    "duration": 35,
    "start_time": "2022-11-06T19:26:28.606Z"
   },
   {
    "duration": 7,
    "start_time": "2022-11-06T19:26:28.643Z"
   },
   {
    "duration": 28,
    "start_time": "2022-11-06T19:26:28.677Z"
   },
   {
    "duration": 11,
    "start_time": "2022-11-06T19:26:28.707Z"
   },
   {
    "duration": 23,
    "start_time": "2022-11-06T19:26:28.722Z"
   },
   {
    "duration": 31,
    "start_time": "2022-11-06T19:26:28.747Z"
   },
   {
    "duration": 158,
    "start_time": "2022-11-06T19:26:28.780Z"
   },
   {
    "duration": 79,
    "start_time": "2022-11-06T19:26:28.940Z"
   },
   {
    "duration": 9,
    "start_time": "2022-11-06T19:26:29.021Z"
   },
   {
    "duration": 50,
    "start_time": "2022-11-06T19:26:29.031Z"
   },
   {
    "duration": 19,
    "start_time": "2022-11-06T19:26:29.082Z"
   },
   {
    "duration": 32,
    "start_time": "2022-11-06T19:26:29.102Z"
   },
   {
    "duration": 563,
    "start_time": "2022-11-06T19:26:29.135Z"
   },
   {
    "duration": 527,
    "start_time": "2022-11-06T19:26:29.699Z"
   },
   {
    "duration": 470,
    "start_time": "2022-11-06T19:26:30.228Z"
   },
   {
    "duration": 233,
    "start_time": "2022-11-06T19:26:30.700Z"
   },
   {
    "duration": 6,
    "start_time": "2022-11-06T19:26:30.935Z"
   },
   {
    "duration": 24,
    "start_time": "2022-11-06T19:26:30.942Z"
   }
  ],
  "kernelspec": {
   "display_name": "Python 3 (ipykernel)",
   "language": "python",
   "name": "python3"
  },
  "language_info": {
   "codemirror_mode": {
    "name": "ipython",
    "version": 3
   },
   "file_extension": ".py",
   "mimetype": "text/x-python",
   "name": "python",
   "nbconvert_exporter": "python",
   "pygments_lexer": "ipython3",
   "version": "3.9.5"
  },
  "toc": {
   "base_numbering": 1,
   "nav_menu": {},
   "number_sections": true,
   "sideBar": true,
   "skip_h1_title": true,
   "title_cell": "Table of Contents",
   "title_sidebar": "Contents",
   "toc_cell": false,
   "toc_position": {
    "height": "calc(100% - 180px)",
    "left": "10px",
    "top": "150px",
    "width": "270px"
   },
   "toc_section_display": true,
   "toc_window_display": true
  }
 },
 "nbformat": 4,
 "nbformat_minor": 2
}
