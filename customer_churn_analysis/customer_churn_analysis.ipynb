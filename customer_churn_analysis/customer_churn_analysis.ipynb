{
 "cells": [
  {
   "cell_type": "markdown",
   "metadata": {},
   "source": [
    "# Проект Банки - Анализ оттока клиентов"
   ]
  },
  {
   "cell_type": "markdown",
   "metadata": {},
   "source": [
    "##  Материалы:\n",
    "* Презентация https://disk.yandex.ru/i/uhJAxC1ppX1XAQ"
   ]
  },
  {
   "cell_type": "markdown",
   "metadata": {},
   "source": [
    "Цель исследования - уменьшить отток клиентов банка. \n",
    "\n",
    "Основная задача - проанализировать клиентов регионального банка и выделить портрет клиентов, которые склонны уходить из банка.\n",
    "По результатам исследования дать рекомендации по удержанию клиентов."
   ]
  },
  {
   "cell_type": "code",
   "execution_count": 1,
   "metadata": {},
   "outputs": [],
   "source": [
    "import pandas as pd\n",
    "import seaborn as sns\n",
    "import matplotlib.pyplot as plt\n",
    "import numpy as np\n",
    "from sklearn.preprocessing import StandardScaler\n",
    "from scipy.cluster.hierarchy import dendrogram, linkage\n",
    "from sklearn.cluster import KMeans\n",
    "from scipy import stats as st"
   ]
  },
  {
   "cell_type": "markdown",
   "metadata": {},
   "source": [
    "## Вывод данных"
   ]
  },
  {
   "cell_type": "code",
   "execution_count": 2,
   "metadata": {},
   "outputs": [
    {
     "data": {
      "text/html": [
       "<div>\n",
       "<style scoped>\n",
       "    .dataframe tbody tr th:only-of-type {\n",
       "        vertical-align: middle;\n",
       "    }\n",
       "\n",
       "    .dataframe tbody tr th {\n",
       "        vertical-align: top;\n",
       "    }\n",
       "\n",
       "    .dataframe thead th {\n",
       "        text-align: right;\n",
       "    }\n",
       "</style>\n",
       "<table border=\"1\" class=\"dataframe\">\n",
       "  <thead>\n",
       "    <tr style=\"text-align: right;\">\n",
       "      <th></th>\n",
       "      <th>userid</th>\n",
       "      <th>score</th>\n",
       "      <th>City</th>\n",
       "      <th>Gender</th>\n",
       "      <th>Age</th>\n",
       "      <th>Objects</th>\n",
       "      <th>Balance</th>\n",
       "      <th>Products</th>\n",
       "      <th>CreditCard</th>\n",
       "      <th>Loyalty</th>\n",
       "      <th>estimated_salary</th>\n",
       "      <th>Churn</th>\n",
       "    </tr>\n",
       "  </thead>\n",
       "  <tbody>\n",
       "    <tr>\n",
       "      <th>0</th>\n",
       "      <td>15677338</td>\n",
       "      <td>619</td>\n",
       "      <td>Ярославль</td>\n",
       "      <td>Ж</td>\n",
       "      <td>42</td>\n",
       "      <td>2</td>\n",
       "      <td>NaN</td>\n",
       "      <td>1</td>\n",
       "      <td>1</td>\n",
       "      <td>1</td>\n",
       "      <td>101348.88</td>\n",
       "      <td>1</td>\n",
       "    </tr>\n",
       "    <tr>\n",
       "      <th>1</th>\n",
       "      <td>15690047</td>\n",
       "      <td>608</td>\n",
       "      <td>Рыбинск</td>\n",
       "      <td>Ж</td>\n",
       "      <td>41</td>\n",
       "      <td>1</td>\n",
       "      <td>83807.86</td>\n",
       "      <td>1</td>\n",
       "      <td>0</td>\n",
       "      <td>1</td>\n",
       "      <td>112542.58</td>\n",
       "      <td>0</td>\n",
       "    </tr>\n",
       "    <tr>\n",
       "      <th>2</th>\n",
       "      <td>15662040</td>\n",
       "      <td>502</td>\n",
       "      <td>Ярославль</td>\n",
       "      <td>Ж</td>\n",
       "      <td>42</td>\n",
       "      <td>8</td>\n",
       "      <td>159660.80</td>\n",
       "      <td>3</td>\n",
       "      <td>1</td>\n",
       "      <td>0</td>\n",
       "      <td>113931.57</td>\n",
       "      <td>1</td>\n",
       "    </tr>\n",
       "    <tr>\n",
       "      <th>3</th>\n",
       "      <td>15744090</td>\n",
       "      <td>699</td>\n",
       "      <td>Ярославль</td>\n",
       "      <td>Ж</td>\n",
       "      <td>39</td>\n",
       "      <td>1</td>\n",
       "      <td>NaN</td>\n",
       "      <td>2</td>\n",
       "      <td>0</td>\n",
       "      <td>0</td>\n",
       "      <td>93826.63</td>\n",
       "      <td>0</td>\n",
       "    </tr>\n",
       "    <tr>\n",
       "      <th>4</th>\n",
       "      <td>15780624</td>\n",
       "      <td>850</td>\n",
       "      <td>Рыбинск</td>\n",
       "      <td>Ж</td>\n",
       "      <td>43</td>\n",
       "      <td>2</td>\n",
       "      <td>125510.82</td>\n",
       "      <td>1</td>\n",
       "      <td>1</td>\n",
       "      <td>1</td>\n",
       "      <td>79084.10</td>\n",
       "      <td>0</td>\n",
       "    </tr>\n",
       "  </tbody>\n",
       "</table>\n",
       "</div>"
      ],
      "text/plain": [
       "     userid  score       City Gender  Age  Objects    Balance  Products  \\\n",
       "0  15677338    619  Ярославль      Ж   42        2        NaN         1   \n",
       "1  15690047    608    Рыбинск      Ж   41        1   83807.86         1   \n",
       "2  15662040    502  Ярославль      Ж   42        8  159660.80         3   \n",
       "3  15744090    699  Ярославль      Ж   39        1        NaN         2   \n",
       "4  15780624    850    Рыбинск      Ж   43        2  125510.82         1   \n",
       "\n",
       "   CreditCard  Loyalty  estimated_salary  Churn  \n",
       "0           1        1         101348.88      1  \n",
       "1           0        1         112542.58      0  \n",
       "2           1        0         113931.57      1  \n",
       "3           0        0          93826.63      0  \n",
       "4           1        1          79084.10      0  "
      ]
     },
     "execution_count": 2,
     "metadata": {},
     "output_type": "execute_result"
    }
   ],
   "source": [
    "df = pd.read_csv('/datasets/bank_dataset.csv')\n",
    "df.style.background_gradient()\n",
    "df.head()"
   ]
  },
  {
   "cell_type": "markdown",
   "metadata": {},
   "source": [
    "Имеем следующие данные клиентов банка:\n",
    "- userid — идентификатор пользователя\n",
    "- score — баллы кредитного скоринга\n",
    "- City — город\n",
    "- Gender — пол\n",
    "- Age — возраст\n",
    "- Objects — количество объектов в собственности\n",
    "- Balance — баланс на счёте\n",
    "- Products — количество продуктов, которыми пользуется клиент\n",
    "- CreditCard — есть ли кредитная карта\n",
    "- Loyalty — активный клиент (1 - активный, 0 - нет)\n",
    "- estimated_salary — заработная плата клиента\n",
    "- Churn — ушёл или нет (1 - кто ушли, 0 - кто нет)"
   ]
  },
  {
   "cell_type": "code",
   "execution_count": 3,
   "metadata": {},
   "outputs": [
    {
     "name": "stdout",
     "output_type": "stream",
     "text": [
      "<class 'pandas.core.frame.DataFrame'>\n",
      "RangeIndex: 10000 entries, 0 to 9999\n",
      "Data columns (total 12 columns):\n",
      " #   Column            Non-Null Count  Dtype  \n",
      "---  ------            --------------  -----  \n",
      " 0   userid            10000 non-null  int64  \n",
      " 1   score             10000 non-null  int64  \n",
      " 2   City              10000 non-null  object \n",
      " 3   Gender            10000 non-null  object \n",
      " 4   Age               10000 non-null  int64  \n",
      " 5   Objects           10000 non-null  int64  \n",
      " 6   Balance           6383 non-null   float64\n",
      " 7   Products          10000 non-null  int64  \n",
      " 8   CreditCard        10000 non-null  int64  \n",
      " 9   Loyalty           10000 non-null  int64  \n",
      " 10  estimated_salary  10000 non-null  float64\n",
      " 11  Churn             10000 non-null  int64  \n",
      "dtypes: float64(2), int64(8), object(2)\n",
      "memory usage: 937.6+ KB\n"
     ]
    }
   ],
   "source": [
    "df.info() # сразу видны пропуски в balance, и имена колонок хочется поменять"
   ]
  },
  {
   "cell_type": "markdown",
   "metadata": {},
   "source": [
    "## Предобработка данных"
   ]
  },
  {
   "cell_type": "markdown",
   "metadata": {},
   "source": [
    "### Проверить корректность названия колонок"
   ]
  },
  {
   "cell_type": "code",
   "execution_count": 4,
   "metadata": {},
   "outputs": [
    {
     "data": {
      "text/html": [
       "<div>\n",
       "<style scoped>\n",
       "    .dataframe tbody tr th:only-of-type {\n",
       "        vertical-align: middle;\n",
       "    }\n",
       "\n",
       "    .dataframe tbody tr th {\n",
       "        vertical-align: top;\n",
       "    }\n",
       "\n",
       "    .dataframe thead th {\n",
       "        text-align: right;\n",
       "    }\n",
       "</style>\n",
       "<table border=\"1\" class=\"dataframe\">\n",
       "  <thead>\n",
       "    <tr style=\"text-align: right;\">\n",
       "      <th></th>\n",
       "      <th>user_id</th>\n",
       "      <th>score</th>\n",
       "      <th>city</th>\n",
       "      <th>gender</th>\n",
       "      <th>age</th>\n",
       "      <th>objects</th>\n",
       "      <th>balance</th>\n",
       "      <th>products</th>\n",
       "      <th>credit_card</th>\n",
       "      <th>loyalty</th>\n",
       "      <th>estimated_salary</th>\n",
       "      <th>churn</th>\n",
       "    </tr>\n",
       "  </thead>\n",
       "  <tbody>\n",
       "    <tr>\n",
       "      <th>0</th>\n",
       "      <td>15677338</td>\n",
       "      <td>619</td>\n",
       "      <td>ярославль</td>\n",
       "      <td>Ж</td>\n",
       "      <td>42</td>\n",
       "      <td>2</td>\n",
       "      <td>NaN</td>\n",
       "      <td>1</td>\n",
       "      <td>1</td>\n",
       "      <td>1</td>\n",
       "      <td>101348.88</td>\n",
       "      <td>1</td>\n",
       "    </tr>\n",
       "    <tr>\n",
       "      <th>1</th>\n",
       "      <td>15690047</td>\n",
       "      <td>608</td>\n",
       "      <td>рыбинск</td>\n",
       "      <td>Ж</td>\n",
       "      <td>41</td>\n",
       "      <td>1</td>\n",
       "      <td>83807.86</td>\n",
       "      <td>1</td>\n",
       "      <td>0</td>\n",
       "      <td>1</td>\n",
       "      <td>112542.58</td>\n",
       "      <td>0</td>\n",
       "    </tr>\n",
       "    <tr>\n",
       "      <th>2</th>\n",
       "      <td>15662040</td>\n",
       "      <td>502</td>\n",
       "      <td>ярославль</td>\n",
       "      <td>Ж</td>\n",
       "      <td>42</td>\n",
       "      <td>8</td>\n",
       "      <td>159660.80</td>\n",
       "      <td>3</td>\n",
       "      <td>1</td>\n",
       "      <td>0</td>\n",
       "      <td>113931.57</td>\n",
       "      <td>1</td>\n",
       "    </tr>\n",
       "    <tr>\n",
       "      <th>3</th>\n",
       "      <td>15744090</td>\n",
       "      <td>699</td>\n",
       "      <td>ярославль</td>\n",
       "      <td>Ж</td>\n",
       "      <td>39</td>\n",
       "      <td>1</td>\n",
       "      <td>NaN</td>\n",
       "      <td>2</td>\n",
       "      <td>0</td>\n",
       "      <td>0</td>\n",
       "      <td>93826.63</td>\n",
       "      <td>0</td>\n",
       "    </tr>\n",
       "    <tr>\n",
       "      <th>4</th>\n",
       "      <td>15780624</td>\n",
       "      <td>850</td>\n",
       "      <td>рыбинск</td>\n",
       "      <td>Ж</td>\n",
       "      <td>43</td>\n",
       "      <td>2</td>\n",
       "      <td>125510.82</td>\n",
       "      <td>1</td>\n",
       "      <td>1</td>\n",
       "      <td>1</td>\n",
       "      <td>79084.10</td>\n",
       "      <td>0</td>\n",
       "    </tr>\n",
       "  </tbody>\n",
       "</table>\n",
       "</div>"
      ],
      "text/plain": [
       "    user_id  score       city gender  age  objects    balance  products  \\\n",
       "0  15677338    619  ярославль      Ж   42        2        NaN         1   \n",
       "1  15690047    608    рыбинск      Ж   41        1   83807.86         1   \n",
       "2  15662040    502  ярославль      Ж   42        8  159660.80         3   \n",
       "3  15744090    699  ярославль      Ж   39        1        NaN         2   \n",
       "4  15780624    850    рыбинск      Ж   43        2  125510.82         1   \n",
       "\n",
       "   credit_card  loyalty  estimated_salary  churn  \n",
       "0            1        1         101348.88      1  \n",
       "1            0        1         112542.58      0  \n",
       "2            1        0         113931.57      1  \n",
       "3            0        0          93826.63      0  \n",
       "4            1        1          79084.10      0  "
      ]
     },
     "execution_count": 4,
     "metadata": {},
     "output_type": "execute_result"
    }
   ],
   "source": [
    "df.columns = df.columns.str.lower() # сделаем нижний регистр\n",
    "df = df.rename(columns={'userid': 'user_id', 'creditcard': 'credit_card'}) # переименуем две колонки для стилистики\n",
    "df['city'] = df['city'].str.lower()\n",
    "df.head()"
   ]
  },
  {
   "cell_type": "markdown",
   "metadata": {},
   "source": [
    "### Проверка на аномалии, пропуски и дубликаты"
   ]
  },
  {
   "cell_type": "code",
   "execution_count": 5,
   "metadata": {},
   "outputs": [
    {
     "data": {
      "text/plain": [
       "0"
      ]
     },
     "execution_count": 5,
     "metadata": {},
     "output_type": "execute_result"
    }
   ],
   "source": [
    "df.duplicated().sum() # дубликатов нет"
   ]
  },
  {
   "cell_type": "markdown",
   "metadata": {},
   "source": [
    "В датасете - 10000 строк. Пропуски данных есть только в значениях balance.\n",
    "\n",
    "Причина пропусков может быть технический сбой или ошибка выгрузка данных по некоторым клиентам, или другое логическое объяснение.  \n",
    "\n",
    "NAN'ов = 3617 - Это много, может это те кто ушли, и просто средств на счете нет. Как версия."
   ]
  },
  {
   "cell_type": "code",
   "execution_count": 6,
   "metadata": {},
   "outputs": [
    {
     "data": {
      "text/plain": [
       "0    3117\n",
       "1     500\n",
       "Name: churn, dtype: int64"
      ]
     },
     "execution_count": 6,
     "metadata": {},
     "output_type": "execute_result"
    }
   ],
   "source": [
    "df[df.isnull().any(axis=1)]['churn'].value_counts() # проверим версию"
   ]
  },
  {
   "cell_type": "code",
   "execution_count": 7,
   "metadata": {},
   "outputs": [
    {
     "data": {
      "text/plain": [
       "ярославль    2418\n",
       "рыбинск      1199\n",
       "Name: city, dtype: int64"
      ]
     },
     "execution_count": 7,
     "metadata": {},
     "output_type": "execute_result"
    }
   ],
   "source": [
    "df[df.isnull().any(axis=1)]['city'].value_counts() # проверим пропуски в городах"
   ]
  },
  {
   "cell_type": "code",
   "execution_count": 8,
   "metadata": {},
   "outputs": [
    {
     "data": {
      "text/plain": [
       "1    2592\n",
       "0    1025\n",
       "Name: credit_card, dtype: int64"
      ]
     },
     "execution_count": 8,
     "metadata": {},
     "output_type": "execute_result"
    }
   ],
   "source": [
    "df[df.isnull().any(axis=1)]['credit_card'].value_counts() # проверим nan, у тех кто имеет кредитную карту"
   ]
  },
  {
   "cell_type": "markdown",
   "metadata": {},
   "source": [
    "Гипотеза c ушедшими клиентами не подтвердилась. Больше пропусков у тех кто не ушел (3117) \n",
    "\n",
    "Спишем все на технический сбой, тем более что в Ростове Великом пропусков нет. С кредитками тоже не ясно: пропуски есть у двух категорий клиентов. \n",
    "В любом случае такие пропуски заменять нецелесообразно. "
   ]
  },
  {
   "cell_type": "markdown",
   "metadata": {},
   "source": [
    "### Проверить соответствие типов данных, если нужно изменить"
   ]
  },
  {
   "cell_type": "code",
   "execution_count": 9,
   "metadata": {},
   "outputs": [
    {
     "name": "stdout",
     "output_type": "stream",
     "text": [
      "<class 'pandas.core.frame.DataFrame'>\n",
      "RangeIndex: 10000 entries, 0 to 9999\n",
      "Data columns (total 12 columns):\n",
      " #   Column            Non-Null Count  Dtype  \n",
      "---  ------            --------------  -----  \n",
      " 0   user_id           10000 non-null  int64  \n",
      " 1   score             10000 non-null  int64  \n",
      " 2   city              10000 non-null  object \n",
      " 3   gender            10000 non-null  object \n",
      " 4   age               10000 non-null  int64  \n",
      " 5   objects           10000 non-null  int64  \n",
      " 6   balance           6383 non-null   float64\n",
      " 7   products          10000 non-null  int64  \n",
      " 8   credit_card       10000 non-null  int64  \n",
      " 9   loyalty           10000 non-null  int64  \n",
      " 10  estimated_salary  10000 non-null  float64\n",
      " 11  churn             10000 non-null  int64  \n",
      "dtypes: float64(2), int64(8), object(2)\n",
      "memory usage: 937.6+ KB\n"
     ]
    }
   ],
   "source": [
    "df.info()"
   ]
  },
  {
   "cell_type": "markdown",
   "metadata": {},
   "source": [
    "Имеем два строковых значения - город и пол - присвоим им числовые значения для дальнейшего исследования и кластеризации"
   ]
  },
  {
   "cell_type": "code",
   "execution_count": 10,
   "metadata": {},
   "outputs": [
    {
     "data": {
      "text/plain": [
       "array(['Ж', 'М'], dtype=object)"
      ]
     },
     "execution_count": 10,
     "metadata": {},
     "output_type": "execute_result"
    }
   ],
   "source": [
    "df['gender'].unique()  # проверим уникальные значения"
   ]
  },
  {
   "cell_type": "code",
   "execution_count": 11,
   "metadata": {},
   "outputs": [
    {
     "data": {
      "text/plain": [
       "ярославль         5014\n",
       "ростов великий    2509\n",
       "рыбинск           2477\n",
       "Name: city, dtype: int64"
      ]
     },
     "execution_count": 11,
     "metadata": {},
     "output_type": "execute_result"
    }
   ],
   "source": [
    "df['city'].value_counts()  # проверим уникальные значения городов"
   ]
  },
  {
   "cell_type": "markdown",
   "metadata": {},
   "source": [
    "Заменим категориальные значения на числовые:\n",
    "0 - женский пол, 1 - мужской пол "
   ]
  },
  {
   "cell_type": "code",
   "execution_count": 12,
   "metadata": {},
   "outputs": [
    {
     "data": {
      "text/plain": [
       "1    5457\n",
       "0    4543\n",
       "Name: gender, dtype: int64"
      ]
     },
     "execution_count": 12,
     "metadata": {},
     "output_type": "execute_result"
    }
   ],
   "source": [
    "df = df.replace({'gender': {\"Ж\": 0, \"М\": 1}})\n",
    "df['gender'].value_counts() #проверим, все ли поменялось"
   ]
  },
  {
   "cell_type": "markdown",
   "metadata": {},
   "source": [
    "Колонку Город представим вместо одного категориального поля в множество бинарных полей"
   ]
  },
  {
   "cell_type": "code",
   "execution_count": 13,
   "metadata": {},
   "outputs": [
    {
     "data": {
      "text/html": [
       "<div>\n",
       "<style scoped>\n",
       "    .dataframe tbody tr th:only-of-type {\n",
       "        vertical-align: middle;\n",
       "    }\n",
       "\n",
       "    .dataframe tbody tr th {\n",
       "        vertical-align: top;\n",
       "    }\n",
       "\n",
       "    .dataframe thead th {\n",
       "        text-align: right;\n",
       "    }\n",
       "</style>\n",
       "<table border=\"1\" class=\"dataframe\">\n",
       "  <thead>\n",
       "    <tr style=\"text-align: right;\">\n",
       "      <th></th>\n",
       "      <th>user_id</th>\n",
       "      <th>score</th>\n",
       "      <th>gender</th>\n",
       "      <th>age</th>\n",
       "      <th>objects</th>\n",
       "      <th>balance</th>\n",
       "      <th>products</th>\n",
       "      <th>credit_card</th>\n",
       "      <th>loyalty</th>\n",
       "      <th>estimated_salary</th>\n",
       "      <th>churn</th>\n",
       "      <th>city_ростов великий</th>\n",
       "      <th>city_рыбинск</th>\n",
       "      <th>city_ярославль</th>\n",
       "    </tr>\n",
       "  </thead>\n",
       "  <tbody>\n",
       "    <tr>\n",
       "      <th>0</th>\n",
       "      <td>15677338</td>\n",
       "      <td>619</td>\n",
       "      <td>0</td>\n",
       "      <td>42</td>\n",
       "      <td>2</td>\n",
       "      <td>NaN</td>\n",
       "      <td>1</td>\n",
       "      <td>1</td>\n",
       "      <td>1</td>\n",
       "      <td>101348.88</td>\n",
       "      <td>1</td>\n",
       "      <td>0</td>\n",
       "      <td>0</td>\n",
       "      <td>1</td>\n",
       "    </tr>\n",
       "    <tr>\n",
       "      <th>1</th>\n",
       "      <td>15690047</td>\n",
       "      <td>608</td>\n",
       "      <td>0</td>\n",
       "      <td>41</td>\n",
       "      <td>1</td>\n",
       "      <td>83807.86</td>\n",
       "      <td>1</td>\n",
       "      <td>0</td>\n",
       "      <td>1</td>\n",
       "      <td>112542.58</td>\n",
       "      <td>0</td>\n",
       "      <td>0</td>\n",
       "      <td>1</td>\n",
       "      <td>0</td>\n",
       "    </tr>\n",
       "    <tr>\n",
       "      <th>2</th>\n",
       "      <td>15662040</td>\n",
       "      <td>502</td>\n",
       "      <td>0</td>\n",
       "      <td>42</td>\n",
       "      <td>8</td>\n",
       "      <td>159660.80</td>\n",
       "      <td>3</td>\n",
       "      <td>1</td>\n",
       "      <td>0</td>\n",
       "      <td>113931.57</td>\n",
       "      <td>1</td>\n",
       "      <td>0</td>\n",
       "      <td>0</td>\n",
       "      <td>1</td>\n",
       "    </tr>\n",
       "    <tr>\n",
       "      <th>3</th>\n",
       "      <td>15744090</td>\n",
       "      <td>699</td>\n",
       "      <td>0</td>\n",
       "      <td>39</td>\n",
       "      <td>1</td>\n",
       "      <td>NaN</td>\n",
       "      <td>2</td>\n",
       "      <td>0</td>\n",
       "      <td>0</td>\n",
       "      <td>93826.63</td>\n",
       "      <td>0</td>\n",
       "      <td>0</td>\n",
       "      <td>0</td>\n",
       "      <td>1</td>\n",
       "    </tr>\n",
       "    <tr>\n",
       "      <th>4</th>\n",
       "      <td>15780624</td>\n",
       "      <td>850</td>\n",
       "      <td>0</td>\n",
       "      <td>43</td>\n",
       "      <td>2</td>\n",
       "      <td>125510.82</td>\n",
       "      <td>1</td>\n",
       "      <td>1</td>\n",
       "      <td>1</td>\n",
       "      <td>79084.10</td>\n",
       "      <td>0</td>\n",
       "      <td>0</td>\n",
       "      <td>1</td>\n",
       "      <td>0</td>\n",
       "    </tr>\n",
       "  </tbody>\n",
       "</table>\n",
       "</div>"
      ],
      "text/plain": [
       "    user_id  score  gender  age  objects    balance  products  credit_card  \\\n",
       "0  15677338    619       0   42        2        NaN         1            1   \n",
       "1  15690047    608       0   41        1   83807.86         1            0   \n",
       "2  15662040    502       0   42        8  159660.80         3            1   \n",
       "3  15744090    699       0   39        1        NaN         2            0   \n",
       "4  15780624    850       0   43        2  125510.82         1            1   \n",
       "\n",
       "   loyalty  estimated_salary  churn  city_ростов великий  city_рыбинск  \\\n",
       "0        1         101348.88      1                    0             0   \n",
       "1        1         112542.58      0                    0             1   \n",
       "2        0         113931.57      1                    0             0   \n",
       "3        0          93826.63      0                    0             0   \n",
       "4        1          79084.10      0                    0             1   \n",
       "\n",
       "   city_ярославль  \n",
       "0               1  \n",
       "1               0  \n",
       "2               1  \n",
       "3               1  \n",
       "4               0  "
      ]
     },
     "execution_count": 13,
     "metadata": {},
     "output_type": "execute_result"
    }
   ],
   "source": [
    "df = pd.get_dummies(df)\n",
    "df.head()   "
   ]
  },
  {
   "cell_type": "markdown",
   "metadata": {},
   "source": [
    "## Исследовательский анализ данных"
   ]
  },
  {
   "cell_type": "markdown",
   "metadata": {},
   "source": [
    "### Оценить статические данные методом describe"
   ]
  },
  {
   "cell_type": "code",
   "execution_count": 14,
   "metadata": {},
   "outputs": [
    {
     "data": {
      "text/html": [
       "<div>\n",
       "<style scoped>\n",
       "    .dataframe tbody tr th:only-of-type {\n",
       "        vertical-align: middle;\n",
       "    }\n",
       "\n",
       "    .dataframe tbody tr th {\n",
       "        vertical-align: top;\n",
       "    }\n",
       "\n",
       "    .dataframe thead th {\n",
       "        text-align: right;\n",
       "    }\n",
       "</style>\n",
       "<table border=\"1\" class=\"dataframe\">\n",
       "  <thead>\n",
       "    <tr style=\"text-align: right;\">\n",
       "      <th></th>\n",
       "      <th>user_id</th>\n",
       "      <th>score</th>\n",
       "      <th>gender</th>\n",
       "      <th>age</th>\n",
       "      <th>objects</th>\n",
       "      <th>balance</th>\n",
       "      <th>products</th>\n",
       "      <th>credit_card</th>\n",
       "      <th>loyalty</th>\n",
       "      <th>estimated_salary</th>\n",
       "      <th>churn</th>\n",
       "      <th>city_ростов великий</th>\n",
       "      <th>city_рыбинск</th>\n",
       "      <th>city_ярославль</th>\n",
       "    </tr>\n",
       "  </thead>\n",
       "  <tbody>\n",
       "    <tr>\n",
       "      <th>count</th>\n",
       "      <td>10000.00</td>\n",
       "      <td>10000.00</td>\n",
       "      <td>10000.00</td>\n",
       "      <td>10000.00</td>\n",
       "      <td>10000.00</td>\n",
       "      <td>6383.00</td>\n",
       "      <td>10000.00</td>\n",
       "      <td>10000.00</td>\n",
       "      <td>10000.00</td>\n",
       "      <td>10000.00</td>\n",
       "      <td>10000.0</td>\n",
       "      <td>10000.00</td>\n",
       "      <td>10000.00</td>\n",
       "      <td>10000.0</td>\n",
       "    </tr>\n",
       "    <tr>\n",
       "      <th>mean</th>\n",
       "      <td>15733676.57</td>\n",
       "      <td>650.53</td>\n",
       "      <td>0.55</td>\n",
       "      <td>38.92</td>\n",
       "      <td>5.01</td>\n",
       "      <td>119827.49</td>\n",
       "      <td>1.53</td>\n",
       "      <td>0.71</td>\n",
       "      <td>0.52</td>\n",
       "      <td>100090.24</td>\n",
       "      <td>0.2</td>\n",
       "      <td>0.25</td>\n",
       "      <td>0.25</td>\n",
       "      <td>0.5</td>\n",
       "    </tr>\n",
       "    <tr>\n",
       "      <th>std</th>\n",
       "      <td>71936.19</td>\n",
       "      <td>96.65</td>\n",
       "      <td>0.50</td>\n",
       "      <td>10.49</td>\n",
       "      <td>2.89</td>\n",
       "      <td>30095.06</td>\n",
       "      <td>0.58</td>\n",
       "      <td>0.46</td>\n",
       "      <td>0.50</td>\n",
       "      <td>57510.49</td>\n",
       "      <td>0.4</td>\n",
       "      <td>0.43</td>\n",
       "      <td>0.43</td>\n",
       "      <td>0.5</td>\n",
       "    </tr>\n",
       "    <tr>\n",
       "      <th>min</th>\n",
       "      <td>15608437.00</td>\n",
       "      <td>350.00</td>\n",
       "      <td>0.00</td>\n",
       "      <td>18.00</td>\n",
       "      <td>0.00</td>\n",
       "      <td>3768.69</td>\n",
       "      <td>1.00</td>\n",
       "      <td>0.00</td>\n",
       "      <td>0.00</td>\n",
       "      <td>11.58</td>\n",
       "      <td>0.0</td>\n",
       "      <td>0.00</td>\n",
       "      <td>0.00</td>\n",
       "      <td>0.0</td>\n",
       "    </tr>\n",
       "    <tr>\n",
       "      <th>25%</th>\n",
       "      <td>15671264.25</td>\n",
       "      <td>584.00</td>\n",
       "      <td>0.00</td>\n",
       "      <td>32.00</td>\n",
       "      <td>3.00</td>\n",
       "      <td>100181.98</td>\n",
       "      <td>1.00</td>\n",
       "      <td>0.00</td>\n",
       "      <td>0.00</td>\n",
       "      <td>51002.11</td>\n",
       "      <td>0.0</td>\n",
       "      <td>0.00</td>\n",
       "      <td>0.00</td>\n",
       "      <td>0.0</td>\n",
       "    </tr>\n",
       "    <tr>\n",
       "      <th>50%</th>\n",
       "      <td>15733474.00</td>\n",
       "      <td>652.00</td>\n",
       "      <td>1.00</td>\n",
       "      <td>37.00</td>\n",
       "      <td>5.00</td>\n",
       "      <td>119839.69</td>\n",
       "      <td>1.00</td>\n",
       "      <td>1.00</td>\n",
       "      <td>1.00</td>\n",
       "      <td>100193.92</td>\n",
       "      <td>0.0</td>\n",
       "      <td>0.00</td>\n",
       "      <td>0.00</td>\n",
       "      <td>1.0</td>\n",
       "    </tr>\n",
       "    <tr>\n",
       "      <th>75%</th>\n",
       "      <td>15795969.75</td>\n",
       "      <td>718.00</td>\n",
       "      <td>1.00</td>\n",
       "      <td>44.00</td>\n",
       "      <td>7.00</td>\n",
       "      <td>139512.29</td>\n",
       "      <td>2.00</td>\n",
       "      <td>1.00</td>\n",
       "      <td>1.00</td>\n",
       "      <td>149388.25</td>\n",
       "      <td>0.0</td>\n",
       "      <td>1.00</td>\n",
       "      <td>0.00</td>\n",
       "      <td>1.0</td>\n",
       "    </tr>\n",
       "    <tr>\n",
       "      <th>max</th>\n",
       "      <td>15858426.00</td>\n",
       "      <td>850.00</td>\n",
       "      <td>1.00</td>\n",
       "      <td>92.00</td>\n",
       "      <td>10.00</td>\n",
       "      <td>250898.09</td>\n",
       "      <td>4.00</td>\n",
       "      <td>1.00</td>\n",
       "      <td>1.00</td>\n",
       "      <td>199992.48</td>\n",
       "      <td>1.0</td>\n",
       "      <td>1.00</td>\n",
       "      <td>1.00</td>\n",
       "      <td>1.0</td>\n",
       "    </tr>\n",
       "  </tbody>\n",
       "</table>\n",
       "</div>"
      ],
      "text/plain": [
       "           user_id     score    gender       age   objects    balance  \\\n",
       "count     10000.00  10000.00  10000.00  10000.00  10000.00    6383.00   \n",
       "mean   15733676.57    650.53      0.55     38.92      5.01  119827.49   \n",
       "std       71936.19     96.65      0.50     10.49      2.89   30095.06   \n",
       "min    15608437.00    350.00      0.00     18.00      0.00    3768.69   \n",
       "25%    15671264.25    584.00      0.00     32.00      3.00  100181.98   \n",
       "50%    15733474.00    652.00      1.00     37.00      5.00  119839.69   \n",
       "75%    15795969.75    718.00      1.00     44.00      7.00  139512.29   \n",
       "max    15858426.00    850.00      1.00     92.00     10.00  250898.09   \n",
       "\n",
       "       products  credit_card   loyalty  estimated_salary    churn  \\\n",
       "count  10000.00     10000.00  10000.00          10000.00  10000.0   \n",
       "mean       1.53         0.71      0.52         100090.24      0.2   \n",
       "std        0.58         0.46      0.50          57510.49      0.4   \n",
       "min        1.00         0.00      0.00             11.58      0.0   \n",
       "25%        1.00         0.00      0.00          51002.11      0.0   \n",
       "50%        1.00         1.00      1.00         100193.92      0.0   \n",
       "75%        2.00         1.00      1.00         149388.25      0.0   \n",
       "max        4.00         1.00      1.00         199992.48      1.0   \n",
       "\n",
       "       city_ростов великий  city_рыбинск  city_ярославль  \n",
       "count             10000.00      10000.00         10000.0  \n",
       "mean                  0.25          0.25             0.5  \n",
       "std                   0.43          0.43             0.5  \n",
       "min                   0.00          0.00             0.0  \n",
       "25%                   0.00          0.00             0.0  \n",
       "50%                   0.00          0.00             1.0  \n",
       "75%                   1.00          0.00             1.0  \n",
       "max                   1.00          1.00             1.0  "
      ]
     },
     "execution_count": 14,
     "metadata": {},
     "output_type": "execute_result"
    }
   ],
   "source": [
    "df.describe().round(2) # посмотрим на датасет с помощью describe"
   ]
  },
  {
   "cell_type": "markdown",
   "metadata": {},
   "source": [
    "Выводы по дискрайбу:\n",
    "1. Средний кредитный скор - 650. Медиана - 652. Максимум 850.\n",
    "2. Пол - мужчин чуть больше, 54.5 % \n",
    "3. Средний возраст почти 39 лет. Медиана - 37. 50 % клиентов в возрасте от 32 до 44 лет. Максимум - 92.\n",
    "4. Количество объектов среднее 5. Максимум - 10.\n",
    "5. Баланс на счете среднее почти 120 тысяч, назовем ед.денег. У 50 % клиентов от 100 до 139,5 тысяч на счету.\n",
    "6. Количество банковских продуктов средне 1,5, медиана 1.\n",
    "7. Кредитная карта есть у 70% клиентов.\n",
    "8. Активный клиент - почти половина 51,5 %.\n",
    "9. Заработная плата среднее - 100000, медиана тоже 100000.\n",
    "10. 20 % клиентов являются ушедшими.\n",
    "11. 50 % живет в Ярославле, и прибл. по 25% в Рыбинске и Ростове Великом.\n",
    "\n",
    "Явных выбросов нет. Смущает только возраст максимум - 92."
   ]
  },
  {
   "cell_type": "code",
   "execution_count": 15,
   "metadata": {},
   "outputs": [
    {
     "data": {
      "text/plain": [
       "0    102\n",
       "1      4\n",
       "Name: churn, dtype: int64"
      ]
     },
     "execution_count": 15,
     "metadata": {},
     "output_type": "execute_result"
    }
   ],
   "source": [
    "df.query('age >= 72')['churn'].value_counts() # количество ушедших из старше 72 лет."
   ]
  },
  {
   "cell_type": "code",
   "execution_count": 16,
   "metadata": {},
   "outputs": [
    {
     "data": {
      "text/plain": [
       "array([60., 72.])"
      ]
     },
     "execution_count": 16,
     "metadata": {},
     "output_type": "execute_result"
    }
   ],
   "source": [
    "np.percentile(df['age'], [95, 99]) #рассмотрим возраст на перцентили 95 и 99."
   ]
  },
  {
   "cell_type": "markdown",
   "metadata": {},
   "source": [
    "Не более 1 % клиентов (99 перцентиль) имеют возраст от 72 до 92 лет и 5 % клиентов старше 60 лет. И интересно, что из клиентов старше 72 лет, ушли только 4 чел. из 106 (4 %). Старшему поколению несвойственно искать и менять на другой банк. Количество от общего числа датасета не большое, но тем не менее."
   ]
  },
  {
   "cell_type": "markdown",
   "metadata": {},
   "source": [
    "### Оценить средние значение признаков в группах — тех, кто ушел и тех, кто остался"
   ]
  },
  {
   "cell_type": "code",
   "execution_count": 17,
   "metadata": {},
   "outputs": [
    {
     "data": {
      "text/html": [
       "<div>\n",
       "<style scoped>\n",
       "    .dataframe tbody tr th:only-of-type {\n",
       "        vertical-align: middle;\n",
       "    }\n",
       "\n",
       "    .dataframe tbody tr th {\n",
       "        vertical-align: top;\n",
       "    }\n",
       "\n",
       "    .dataframe thead th {\n",
       "        text-align: right;\n",
       "    }\n",
       "</style>\n",
       "<table border=\"1\" class=\"dataframe\">\n",
       "  <thead>\n",
       "    <tr style=\"text-align: right;\">\n",
       "      <th></th>\n",
       "      <th>user_id</th>\n",
       "      <th>score</th>\n",
       "      <th>gender</th>\n",
       "      <th>age</th>\n",
       "      <th>objects</th>\n",
       "      <th>balance</th>\n",
       "      <th>products</th>\n",
       "      <th>credit_card</th>\n",
       "      <th>loyalty</th>\n",
       "      <th>estimated_salary</th>\n",
       "      <th>city_ростов великий</th>\n",
       "      <th>city_рыбинск</th>\n",
       "      <th>city_ярославль</th>\n",
       "    </tr>\n",
       "    <tr>\n",
       "      <th>churn</th>\n",
       "      <th></th>\n",
       "      <th></th>\n",
       "      <th></th>\n",
       "      <th></th>\n",
       "      <th></th>\n",
       "      <th></th>\n",
       "      <th></th>\n",
       "      <th></th>\n",
       "      <th></th>\n",
       "      <th></th>\n",
       "      <th></th>\n",
       "      <th></th>\n",
       "      <th></th>\n",
       "    </tr>\n",
       "  </thead>\n",
       "  <tbody>\n",
       "    <tr>\n",
       "      <th>0</th>\n",
       "      <td>15733903.88</td>\n",
       "      <td>651.85</td>\n",
       "      <td>0.57</td>\n",
       "      <td>37.41</td>\n",
       "      <td>5.03</td>\n",
       "      <td>119535.86</td>\n",
       "      <td>1.54</td>\n",
       "      <td>0.71</td>\n",
       "      <td>0.55</td>\n",
       "      <td>99738.39</td>\n",
       "      <td>0.21</td>\n",
       "      <td>0.26</td>\n",
       "      <td>0.53</td>\n",
       "    </tr>\n",
       "    <tr>\n",
       "      <th>1</th>\n",
       "      <td>15732787.96</td>\n",
       "      <td>645.35</td>\n",
       "      <td>0.44</td>\n",
       "      <td>44.84</td>\n",
       "      <td>4.93</td>\n",
       "      <td>120746.97</td>\n",
       "      <td>1.48</td>\n",
       "      <td>0.70</td>\n",
       "      <td>0.36</td>\n",
       "      <td>101465.68</td>\n",
       "      <td>0.40</td>\n",
       "      <td>0.20</td>\n",
       "      <td>0.40</td>\n",
       "    </tr>\n",
       "  </tbody>\n",
       "</table>\n",
       "</div>"
      ],
      "text/plain": [
       "           user_id   score  gender    age  objects    balance  products  \\\n",
       "churn                                                                     \n",
       "0      15733903.88  651.85    0.57  37.41     5.03  119535.86      1.54   \n",
       "1      15732787.96  645.35    0.44  44.84     4.93  120746.97      1.48   \n",
       "\n",
       "       credit_card  loyalty  estimated_salary  city_ростов великий  \\\n",
       "churn                                                                \n",
       "0             0.71     0.55          99738.39                 0.21   \n",
       "1             0.70     0.36         101465.68                 0.40   \n",
       "\n",
       "       city_рыбинск  city_ярославль  \n",
       "churn                                \n",
       "0              0.26            0.53  \n",
       "1              0.20            0.40  "
      ]
     },
     "execution_count": 17,
     "metadata": {},
     "output_type": "execute_result"
    }
   ],
   "source": [
    "df.groupby('churn').mean().round(2)"
   ]
  },
  {
   "cell_type": "markdown",
   "metadata": {},
   "source": [
    "Средние значения по признаку ушел-не ушел дают такие значения.\n",
    "\n",
    "- В группе ушедших - мужчин меньше 44 %. А в группе оставшихся мужчин больше - 57%. \n",
    "- Средний возраст ушедших выше (почти 45 лет), чем не ушедших (37 лет).\n",
    "- Степень активности в группе тех кто остается - 55 %, чем \"ушли\" - 36 %.\n",
    "- По локации: группа ушедших распределяется - Ярославь и Ростов Великий = по 40 %, и в Рыбинске 20%.\n",
    "\n",
    "По остальным факторам средние значения отличаются несильно в двух группах."
   ]
  },
  {
   "cell_type": "markdown",
   "metadata": {},
   "source": [
    "### Визуализация распределения признаков по Ушел - Не ушел (столбчатые гистограммы)"
   ]
  },
  {
   "cell_type": "code",
   "execution_count": 18,
   "metadata": {},
   "outputs": [
    {
     "data": {
      "image/png": "[encoded data removed]",
      "text/plain": [
       "<Figure size 432x288 with 1 Axes>"
      ]
     },
     "metadata": {
      "needs_background": "light"
     },
     "output_type": "display_data"
    },
    {
     "data": {
      "image/png": "[encoded data removed]",
      "text/plain": [
       "<Figure size 432x288 with 1 Axes>"
      ]
     },
     "metadata": {
      "needs_background": "light"
     },
     "output_type": "display_data"
    },
    {
     "data": {
      "image/png": "[encoded data removed]",
      "text/plain": [
       "<Figure size 432x288 with 1 Axes>"
      ]
     },
     "metadata": {
      "needs_background": "light"
     },
     "output_type": "display_data"
    },
    {
     "data": {
      "image/png": "[encoded data removed]",
      "text/plain": [
       "<Figure size 432x288 with 1 Axes>"
      ]
     },
     "metadata": {
      "needs_background": "light"
     },
     "output_type": "display_data"
    },
    {
     "data": {
      "image/png": "[encoded data removed]",
      "text/plain": [
       "<Figure size 432x288 with 1 Axes>"
      ]
     },
     "metadata": {
      "needs_background": "light"
     },
     "output_type": "display_data"
    },
    {
     "data": {
      "image/png": "[encoded data removed]",
      "text/plain": [
       "<Figure size 432x288 with 1 Axes>"
      ]
     },
     "metadata": {
      "needs_background": "light"
     },
     "output_type": "display_data"
    },
    {
     "data": {
      "image/png": "[encoded data removed]",
      "text/plain": [
       "<Figure size 432x288 with 1 Axes>"
      ]
     },
     "metadata": {
      "needs_background": "light"
     },
     "output_type": "display_data"
    },
    {
     "data": {
      "image/png": "[encoded data removed]",
      "text/plain": [
       "<Figure size 432x288 with 1 Axes>"
      ]
     },
     "metadata": {
      "needs_background": "light"
     },
     "output_type": "display_data"
    },
    {
     "data": {
      "image/png": "[encoded data removed]",
      "text/plain": [
       "<Figure size 432x288 with 1 Axes>"
      ]
     },
     "metadata": {
      "needs_background": "light"
     },
     "output_type": "display_data"
    },
    {
     "data": {
      "image/png": "[encoded data removed]",
      "text/plain": [
       "<Figure size 432x288 with 1 Axes>"
      ]
     },
     "metadata": {
      "needs_background": "light"
     },
     "output_type": "display_data"
    },
    {
     "data": {
      "image/png": "[encoded data removed]",
      "text/plain": [
       "<Figure size 432x288 with 1 Axes>"
      ]
     },
     "metadata": {
      "needs_background": "light"
     },
     "output_type": "display_data"
    },
    {
     "data": {
      "image/png": "[encoded data removed]",
      "text/plain": [
       "<Figure size 432x288 with 1 Axes>"
      ]
     },
     "metadata": {
      "needs_background": "light"
     },
     "output_type": "display_data"
    },
    {
     "data": {
      "image/png": "[encoded data removed]",
      "text/plain": [
       "<Figure size 432x288 with 1 Axes>"
      ]
     },
     "metadata": {
      "needs_background": "light"
     },
     "output_type": "display_data"
    }
   ],
   "source": [
    "for col in df.drop('user_id', axis=1).columns: # функция для вывода графиков, исключили user_id\n",
    "    df.groupby('churn')[col].hist(bins=15, alpha=0.5)\n",
    "    plt.title(col)\n",
    "    plt.legend(['Остались', 'Ушли'])\n",
    "    plt.ylabel('Количество клиентов')\n",
    "    plt.show()       "
   ]
  },
  {
   "cell_type": "markdown",
   "metadata": {},
   "source": [
    "Про графики распределения:\n",
    "\n",
    "беглый взгляд дает понимание, что на отток клиентов влияют такие признаки: \n",
    "- пол (женщинам свойственно уходить больше, чем мужчинам)\n",
    "- возраст - пик ушедших на графике смещен вправо от пика не ушедших, уходить клиентам свойственно в диапазоне 40-52 лет, а на рубеже приблизительно 55 лет ушедших даже больше чем оставшихся клиентов.\n",
    "- количество ушедших, имеющих один банковский продукт сильно больше, по среднему значению это не было так очевидно. А самые стабильные - клиенты имеющие два продукта. Два продукта - самое оптимальное значение для банка.\n",
    "- активность положительно влияет на не уход \n",
    "- В Ростове Великом одна треть клиентов являются ушедшими."
   ]
  },
  {
   "cell_type": "markdown",
   "metadata": {},
   "source": [
    "### Определить степень зависимости признаков от оттока (матрица корреляций, тепловая карта)"
   ]
  },
  {
   "cell_type": "code",
   "execution_count": 19,
   "metadata": {},
   "outputs": [
    {
     "data": {
      "image/png": "[encoded data removed]",
      "text/plain": [
       "<Figure size 864x864 with 2 Axes>"
      ]
     },
     "metadata": {
      "needs_background": "light"
     },
     "output_type": "display_data"
    }
   ],
   "source": [
    "cm = df.corr() #вычисляем матрицу корреляций\n",
    "fig, ax = plt.subplots(figsize=(12, 12)) # тепловая карту для матрицы корреляций\n",
    "sns.heatmap(cm, annot=True, square=True) \n",
    "plt.show() "
   ]
  },
  {
   "cell_type": "markdown",
   "metadata": {},
   "source": [
    "Степень зависимости оттока от других признаков может отличатся:\n",
    "1. Скор, количество объектов, баланс на счете, количество продуктов, наличие кредитной карты, размер зп не влияют. Зависимость почти нулевая.\n",
    "2. Активность клиента (0,16), пол (0,11) и локация клиента имеет слабое влияние на отток клиентов, до 0,17. Причем по локации это особенно заметно по Ростову Великому (0,17), и в Ярославле (0.1)\n",
    "3. Возраст имеет высокую зависимость, 0,29. Т.е. возраст является самым определяющим фактором при уходе клиентов.\n",
    "\n",
    "Примечательно, что количество продуктов на матрице корреляций не показало зависимости от оттока, видимо уравновешивается к нулю."
   ]
  },
  {
   "cell_type": "code",
   "execution_count": 20,
   "metadata": {},
   "outputs": [
    {
     "data": {
      "text/html": [
       "<div>\n",
       "<style scoped>\n",
       "    .dataframe tbody tr th:only-of-type {\n",
       "        vertical-align: middle;\n",
       "    }\n",
       "\n",
       "    .dataframe tbody tr th {\n",
       "        vertical-align: top;\n",
       "    }\n",
       "\n",
       "    .dataframe thead th {\n",
       "        text-align: right;\n",
       "    }\n",
       "</style>\n",
       "<table border=\"1\" class=\"dataframe\">\n",
       "  <thead>\n",
       "    <tr style=\"text-align: right;\">\n",
       "      <th></th>\n",
       "      <th>user_id</th>\n",
       "      <th>score</th>\n",
       "      <th>gender</th>\n",
       "      <th>age</th>\n",
       "      <th>objects</th>\n",
       "      <th>balance</th>\n",
       "      <th>credit_card</th>\n",
       "      <th>loyalty</th>\n",
       "      <th>estimated_salary</th>\n",
       "      <th>churn</th>\n",
       "      <th>city_ростов великий</th>\n",
       "      <th>city_рыбинск</th>\n",
       "      <th>city_ярославль</th>\n",
       "    </tr>\n",
       "    <tr>\n",
       "      <th>products</th>\n",
       "      <th></th>\n",
       "      <th></th>\n",
       "      <th></th>\n",
       "      <th></th>\n",
       "      <th></th>\n",
       "      <th></th>\n",
       "      <th></th>\n",
       "      <th></th>\n",
       "      <th></th>\n",
       "      <th></th>\n",
       "      <th></th>\n",
       "      <th></th>\n",
       "      <th></th>\n",
       "    </tr>\n",
       "  </thead>\n",
       "  <tbody>\n",
       "    <tr>\n",
       "      <th>1</th>\n",
       "      <td>15732367.90</td>\n",
       "      <td>649.12</td>\n",
       "      <td>0.55</td>\n",
       "      <td>39.67</td>\n",
       "      <td>4.97</td>\n",
       "      <td>119894.16</td>\n",
       "      <td>0.70</td>\n",
       "      <td>0.50</td>\n",
       "      <td>99487.26</td>\n",
       "      <td>0.28</td>\n",
       "      <td>0.27</td>\n",
       "      <td>0.24</td>\n",
       "      <td>0.49</td>\n",
       "    </tr>\n",
       "    <tr>\n",
       "      <th>2</th>\n",
       "      <td>15734841.49</td>\n",
       "      <td>652.19</td>\n",
       "      <td>0.55</td>\n",
       "      <td>37.75</td>\n",
       "      <td>5.05</td>\n",
       "      <td>119660.94</td>\n",
       "      <td>0.71</td>\n",
       "      <td>0.53</td>\n",
       "      <td>100452.01</td>\n",
       "      <td>0.08</td>\n",
       "      <td>0.23</td>\n",
       "      <td>0.26</td>\n",
       "      <td>0.52</td>\n",
       "    </tr>\n",
       "    <tr>\n",
       "      <th>3</th>\n",
       "      <td>15741816.49</td>\n",
       "      <td>648.11</td>\n",
       "      <td>0.44</td>\n",
       "      <td>43.20</td>\n",
       "      <td>5.00</td>\n",
       "      <td>119475.69</td>\n",
       "      <td>0.71</td>\n",
       "      <td>0.42</td>\n",
       "      <td>104318.13</td>\n",
       "      <td>0.83</td>\n",
       "      <td>0.36</td>\n",
       "      <td>0.25</td>\n",
       "      <td>0.39</td>\n",
       "    </tr>\n",
       "    <tr>\n",
       "      <th>4</th>\n",
       "      <td>15719361.27</td>\n",
       "      <td>653.58</td>\n",
       "      <td>0.37</td>\n",
       "      <td>45.68</td>\n",
       "      <td>5.30</td>\n",
       "      <td>122260.61</td>\n",
       "      <td>0.68</td>\n",
       "      <td>0.48</td>\n",
       "      <td>104763.72</td>\n",
       "      <td>1.00</td>\n",
       "      <td>0.40</td>\n",
       "      <td>0.12</td>\n",
       "      <td>0.48</td>\n",
       "    </tr>\n",
       "  </tbody>\n",
       "</table>\n",
       "</div>"
      ],
      "text/plain": [
       "              user_id   score  gender    age  objects    balance  credit_card  \\\n",
       "products                                                                        \n",
       "1         15732367.90  649.12    0.55  39.67     4.97  119894.16         0.70   \n",
       "2         15734841.49  652.19    0.55  37.75     5.05  119660.94         0.71   \n",
       "3         15741816.49  648.11    0.44  43.20     5.00  119475.69         0.71   \n",
       "4         15719361.27  653.58    0.37  45.68     5.30  122260.61         0.68   \n",
       "\n",
       "          loyalty  estimated_salary  churn  city_ростов великий  city_рыбинск  \\\n",
       "products                                                                        \n",
       "1            0.50          99487.26   0.28                 0.27          0.24   \n",
       "2            0.53         100452.01   0.08                 0.23          0.26   \n",
       "3            0.42         104318.13   0.83                 0.36          0.25   \n",
       "4            0.48         104763.72   1.00                 0.40          0.12   \n",
       "\n",
       "          city_ярославль  \n",
       "products                  \n",
       "1                   0.49  \n",
       "2                   0.52  \n",
       "3                   0.39  \n",
       "4                   0.48  "
      ]
     },
     "execution_count": 20,
     "metadata": {},
     "output_type": "execute_result"
    }
   ],
   "source": [
    "df.groupby('products').mean().round(2) # посмотрим средние значения разложив по количеству продуктов  "
   ]
  },
  {
   "cell_type": "markdown",
   "metadata": {},
   "source": [
    "Действительно % оттока ниже в группе имеющих два продукта (8%). Активность выше всех (0,53) и средний возраст самый молодой - 37,7 лет. Три или четыре банковских продукта - не удачный вариант.\n",
    "\n",
    "Попробуем это учесть при кластеризации. "
   ]
  },
  {
   "cell_type": "markdown",
   "metadata": {},
   "source": [
    "## Кластеризация клиентов"
   ]
  },
  {
   "cell_type": "code",
   "execution_count": 21,
   "metadata": {},
   "outputs": [],
   "source": [
    "X = df.drop(['churn', 'balance'], axis=1) # признаки кроме колонок ушел-не ушел, и баланс, т.к. там есть nan"
   ]
  },
  {
   "cell_type": "code",
   "execution_count": 22,
   "metadata": {},
   "outputs": [],
   "source": [
    "scaler = StandardScaler() # создаём объект класса scaler (нормализатор)\n",
    "x_sc = scaler.fit_transform(X) # обучаем нормализатор"
   ]
  },
  {
   "cell_type": "code",
   "execution_count": 23,
   "metadata": {},
   "outputs": [],
   "source": [
    "linked = linkage(x_sc, method = 'ward') # строим матрицу расстояний"
   ]
  },
  {
   "cell_type": "markdown",
   "metadata": {},
   "source": [
    "### Дендрограмма"
   ]
  },
  {
   "cell_type": "code",
   "execution_count": 24,
   "metadata": {},
   "outputs": [
    {
     "data": {
      "image/png": "[encoded data removed]",
      "text/plain": [
       "<Figure size 1080x720 with 1 Axes>"
      ]
     },
     "metadata": {
      "needs_background": "light"
     },
     "output_type": "display_data"
    }
   ],
   "source": [
    "plt.figure(figsize=(15, 10))  \n",
    "dendrogram(linked, orientation='top')\n",
    "plt.title('Кластеризация')\n",
    "plt.show()"
   ]
  },
  {
   "cell_type": "markdown",
   "metadata": {},
   "source": [
    "Можно выделить как минимум 3 кластера клиентов, но лучше 5, 6 или 7."
   ]
  },
  {
   "cell_type": "markdown",
   "metadata": {},
   "source": [
    "### Кластеризации по алгоритму K-Means"
   ]
  },
  {
   "cell_type": "code",
   "execution_count": 25,
   "metadata": {},
   "outputs": [
    {
     "data": {
      "text/html": [
       "<div>\n",
       "<style scoped>\n",
       "    .dataframe tbody tr th:only-of-type {\n",
       "        vertical-align: middle;\n",
       "    }\n",
       "\n",
       "    .dataframe tbody tr th {\n",
       "        vertical-align: top;\n",
       "    }\n",
       "\n",
       "    .dataframe thead th {\n",
       "        text-align: right;\n",
       "    }\n",
       "</style>\n",
       "<table border=\"1\" class=\"dataframe\">\n",
       "  <thead>\n",
       "    <tr style=\"text-align: right;\">\n",
       "      <th>cluster</th>\n",
       "      <th>0</th>\n",
       "      <th>1</th>\n",
       "      <th>2</th>\n",
       "      <th>3</th>\n",
       "      <th>4</th>\n",
       "      <th>5</th>\n",
       "      <th>6</th>\n",
       "    </tr>\n",
       "  </thead>\n",
       "  <tbody>\n",
       "    <tr>\n",
       "      <th>user_id</th>\n",
       "      <td>15732458.01</td>\n",
       "      <td>15735538.25</td>\n",
       "      <td>15730230.16</td>\n",
       "      <td>15734654.41</td>\n",
       "      <td>15731962.42</td>\n",
       "      <td>15734837.46</td>\n",
       "      <td>15733754.49</td>\n",
       "    </tr>\n",
       "    <tr>\n",
       "      <th>score</th>\n",
       "      <td>652.11</td>\n",
       "      <td>650.56</td>\n",
       "      <td>649.35</td>\n",
       "      <td>651.33</td>\n",
       "      <td>651.40</td>\n",
       "      <td>651.51</td>\n",
       "      <td>647.23</td>\n",
       "    </tr>\n",
       "    <tr>\n",
       "      <th>gender</th>\n",
       "      <td>1.00</td>\n",
       "      <td>0.00</td>\n",
       "      <td>1.00</td>\n",
       "      <td>0.56</td>\n",
       "      <td>0.51</td>\n",
       "      <td>0.54</td>\n",
       "      <td>0.54</td>\n",
       "    </tr>\n",
       "    <tr>\n",
       "      <th>age</th>\n",
       "      <td>39.30</td>\n",
       "      <td>38.83</td>\n",
       "      <td>36.95</td>\n",
       "      <td>38.89</td>\n",
       "      <td>40.57</td>\n",
       "      <td>38.84</td>\n",
       "      <td>38.64</td>\n",
       "    </tr>\n",
       "    <tr>\n",
       "      <th>objects</th>\n",
       "      <td>5.09</td>\n",
       "      <td>4.95</td>\n",
       "      <td>5.14</td>\n",
       "      <td>5.03</td>\n",
       "      <td>5.01</td>\n",
       "      <td>5.02</td>\n",
       "      <td>4.92</td>\n",
       "    </tr>\n",
       "    <tr>\n",
       "      <th>balance</th>\n",
       "      <td>118623.67</td>\n",
       "      <td>118496.42</td>\n",
       "      <td>123854.98</td>\n",
       "      <td>119814.99</td>\n",
       "      <td>119868.33</td>\n",
       "      <td>119569.39</td>\n",
       "      <td>119747.53</td>\n",
       "    </tr>\n",
       "    <tr>\n",
       "      <th>products</th>\n",
       "      <td>1.55</td>\n",
       "      <td>1.54</td>\n",
       "      <td>1.48</td>\n",
       "      <td>1.54</td>\n",
       "      <td>1.00</td>\n",
       "      <td>2.12</td>\n",
       "      <td>1.54</td>\n",
       "    </tr>\n",
       "    <tr>\n",
       "      <th>credit_card</th>\n",
       "      <td>1.00</td>\n",
       "      <td>1.00</td>\n",
       "      <td>1.00</td>\n",
       "      <td>0.69</td>\n",
       "      <td>0.71</td>\n",
       "      <td>0.72</td>\n",
       "      <td>0.00</td>\n",
       "    </tr>\n",
       "    <tr>\n",
       "      <th>loyalty</th>\n",
       "      <td>1.00</td>\n",
       "      <td>0.51</td>\n",
       "      <td>0.00</td>\n",
       "      <td>0.53</td>\n",
       "      <td>0.47</td>\n",
       "      <td>0.53</td>\n",
       "      <td>0.52</td>\n",
       "    </tr>\n",
       "    <tr>\n",
       "      <th>estimated_salary</th>\n",
       "      <td>99594.70</td>\n",
       "      <td>98589.95</td>\n",
       "      <td>100745.75</td>\n",
       "      <td>99440.57</td>\n",
       "      <td>101029.03</td>\n",
       "      <td>101211.59</td>\n",
       "      <td>100967.80</td>\n",
       "    </tr>\n",
       "    <tr>\n",
       "      <th>churn</th>\n",
       "      <td>0.08</td>\n",
       "      <td>0.20</td>\n",
       "      <td>0.17</td>\n",
       "      <td>0.17</td>\n",
       "      <td>0.43</td>\n",
       "      <td>0.20</td>\n",
       "      <td>0.16</td>\n",
       "    </tr>\n",
       "    <tr>\n",
       "      <th>city_ростов великий</th>\n",
       "      <td>0.00</td>\n",
       "      <td>0.00</td>\n",
       "      <td>0.00</td>\n",
       "      <td>0.00</td>\n",
       "      <td>1.00</td>\n",
       "      <td>1.00</td>\n",
       "      <td>0.00</td>\n",
       "    </tr>\n",
       "    <tr>\n",
       "      <th>city_рыбинск</th>\n",
       "      <td>0.00</td>\n",
       "      <td>0.00</td>\n",
       "      <td>0.00</td>\n",
       "      <td>1.00</td>\n",
       "      <td>0.00</td>\n",
       "      <td>0.00</td>\n",
       "      <td>0.00</td>\n",
       "    </tr>\n",
       "    <tr>\n",
       "      <th>city_ярославль</th>\n",
       "      <td>1.00</td>\n",
       "      <td>1.00</td>\n",
       "      <td>1.00</td>\n",
       "      <td>0.00</td>\n",
       "      <td>0.00</td>\n",
       "      <td>0.00</td>\n",
       "      <td>1.00</td>\n",
       "    </tr>\n",
       "  </tbody>\n",
       "</table>\n",
       "</div>"
      ],
      "text/plain": [
       "cluster                        0            1            2            3  \\\n",
       "user_id              15732458.01  15735538.25  15730230.16  15734654.41   \n",
       "score                     652.11       650.56       649.35       651.33   \n",
       "gender                      1.00         0.00         1.00         0.56   \n",
       "age                        39.30        38.83        36.95        38.89   \n",
       "objects                     5.09         4.95         5.14         5.03   \n",
       "balance                118623.67    118496.42    123854.98    119814.99   \n",
       "products                    1.55         1.54         1.48         1.54   \n",
       "credit_card                 1.00         1.00         1.00         0.69   \n",
       "loyalty                     1.00         0.51         0.00         0.53   \n",
       "estimated_salary        99594.70     98589.95    100745.75     99440.57   \n",
       "churn                       0.08         0.20         0.17         0.17   \n",
       "city_ростов великий         0.00         0.00         0.00         0.00   \n",
       "city_рыбинск                0.00         0.00         0.00         1.00   \n",
       "city_ярославль              1.00         1.00         1.00         0.00   \n",
       "\n",
       "cluster                        4            5            6  \n",
       "user_id              15731962.42  15734837.46  15733754.49  \n",
       "score                     651.40       651.51       647.23  \n",
       "gender                      0.51         0.54         0.54  \n",
       "age                        40.57        38.84        38.64  \n",
       "objects                     5.01         5.02         4.92  \n",
       "balance                119868.33    119569.39    119747.53  \n",
       "products                    1.00         2.12         1.54  \n",
       "credit_card                 0.71         0.72         0.00  \n",
       "loyalty                     0.47         0.53         0.52  \n",
       "estimated_salary       101029.03    101211.59    100967.80  \n",
       "churn                       0.43         0.20         0.16  \n",
       "city_ростов великий         1.00         1.00         0.00  \n",
       "city_рыбинск                0.00         0.00         0.00  \n",
       "city_ярославль              0.00         0.00         1.00  "
      ]
     },
     "execution_count": 25,
     "metadata": {},
     "output_type": "execute_result"
    }
   ],
   "source": [
    "km = KMeans(n_clusters=7, random_state=0) \n",
    "# число кластеров приняла n=7, при этом значение удалось выделить кластер клиентов с одним продуктом\n",
    "labels = km.fit_predict(x_sc) \n",
    "df['cluster'] = labels\n",
    "df.groupby('cluster').mean().round(2).T"
   ]
  },
  {
   "cell_type": "code",
   "execution_count": 26,
   "metadata": {},
   "outputs": [
    {
     "data": {
      "text/plain": [
       "cluster\n",
       "0    1016\n",
       "1    1578\n",
       "2     949\n",
       "3    2477\n",
       "4    1349\n",
       "5    1160\n",
       "6    1471\n",
       "Name: gender, dtype: int64"
      ]
     },
     "execution_count": 26,
     "metadata": {},
     "output_type": "execute_result"
    }
   ],
   "source": [
    "df.groupby(['cluster'])['gender'].count() #посмотрим на количество клиентов в каждом кластере"
   ]
  },
  {
   "cell_type": "markdown",
   "metadata": {},
   "source": [
    "### Описание поведения клиентов в кластерах  и выделение кластера склонного к оттоку"
   ]
  },
  {
   "cell_type": "markdown",
   "metadata": {},
   "source": [
    "Сразу отмечу кластер более склонный к оттоку - кластер 4 - 0,43 \n",
    "\n",
    "Кластер 0\n",
    "\n",
    "- количество клиентов 1016 - 10 % всего датасета\n",
    "- отток самый низкий - 0,08\n",
    "- состоит только из мужчин\n",
    "- живут в Ярославле\n",
    "- Средний возраст - 39,3 лет\n",
    "- Среднее количество продуктов - 1,55\n",
    "- все владельцы кредитный карт - 1\n",
    "- Абсолютная активность - 1\n",
    "\n",
    "Кластер 1\n",
    "\n",
    "- количество клиентов 1578 - 15 % всего датасета\n",
    "- отток самый высокий в Ярославле - 0,20\n",
    "- Это только женщины Ярославля\n",
    "- Средний возраст - 38,9 лет\n",
    "- Среднее количество продуктов - 1,54\n",
    "- все владельцы кредитный карт - 1\n",
    "- Активные клиенты на 51 %\n",
    "\n",
    "Кластер 2\n",
    "\n",
    "- количество клиентов 949 - почти 10 % всего датасета\n",
    "- отток - 0,17\n",
    "- Это вторая половина мужчин Ярославля, но моложе кластера 0\n",
    "- Средний возраст - 37 лет\n",
    "- Среднее количество продуктов - 1,48\n",
    "- все владельцы кредитный карт - 1\n",
    "- Не активные клиенты - 0\n",
    "\n",
    "Кластер 3\n",
    "\n",
    "- количество клиентов 2477 - 24 % всего датасета, самая многочисленная группа получилась\n",
    "- отток - 0,17\n",
    "- Это все жители Рыбинска \n",
    "- Средний возраст - 39 лет\n",
    "- Среднее количество продуктов - 1,54\n",
    "- Активные клиенты на 53 %\n",
    "\n",
    "Кластер 4 и 5\n",
    "\n",
    "- количество клиентов 1349 и 1160 - 25 % датасета (оба кластера)\n",
    "- отток - 0,43 (кластер 4 - с самым большим оттоком клиентов) и 0,2 (кластер 5)\n",
    "- Это все жители Ростова Великого (оба кластера) \n",
    "- Средний возраст - 40,5 и 39 лет\n",
    "- Среднее количество продуктов - 1,0 (кластер 4) и более 2 продуктов (кластер 5)\n",
    "- Основное отличие кластеров в количестве банковских продуктов, и разница в оттоках между ними в 2 раза.\n",
    "- Активные клиенты на 47% и 53 %\n",
    "\n",
    "Кластер 6\n",
    "\n",
    "- количество клиентов 1471 \n",
    "- отток - 0,16\n",
    "- Еще одна группа из Ярославля\n",
    "- Смежанная по полу - 54 % мужчин \n",
    "- Средний возраст - 38,6 лет\n",
    "- Среднее количество продуктов - 1,54\n",
    "- все владельцы кредитный карт - 1\n",
    "- Активные клиенты на 51 %"
   ]
  },
  {
   "cell_type": "markdown",
   "metadata": {},
   "source": [
    "## Проверка статистических гипотез"
   ]
  },
  {
   "cell_type": "markdown",
   "metadata": {},
   "source": [
    "### Проверка гипотезы различия дохода между теми клиентами, которые ушли и теми, которые остались"
   ]
  },
  {
   "cell_type": "markdown",
   "metadata": {},
   "source": [
    "Проверим различается ли средний доход ушедших клиентов или нет с помощью ttest\n",
    "\n",
    "scipy.stats.ttest_ind - специальный метод, который используется для проверки гипотезы о равенстве среднего двух генеральных совокупностей\n",
    "\n",
    "Нулевая гипотеза - средний доход клиентов из двух групп равен.\n",
    "\n",
    "Альтернативая гипотеза - средний доход клиентов их двух групп не равен."
   ]
  },
  {
   "cell_type": "code",
   "execution_count": 27,
   "metadata": {},
   "outputs": [
    {
     "name": "stdout",
     "output_type": "stream",
     "text": [
      "p-значение: 0.22644042802223352\n",
      "Не получилось отвергнуть гипотезу, гипотеза о различии дохода не подтвердилась, доходы равны\n"
     ]
    }
   ],
   "source": [
    "array_1 = df.query('churn==1')['estimated_salary']\n",
    "array_2 = df.query('churn==0')['estimated_salary']\n",
    "\n",
    "alpha = .05    #критический уровень статистической значимости, возьмем общепринятое пороговые значения — 5%\n",
    " \n",
    "results = st.ttest_ind(array_1, array_2)\n",
    " \n",
    "print('p-значение:', results.pvalue)\n",
    " \n",
    "if results.pvalue < alpha:\n",
    "    print(\"Отвергаем нулевую гипотезу\")\n",
    "else:\n",
    "    print(\"Не получилось отвергнуть гипотезу, гипотеза о различии дохода не подтвердилась, доходы равны\")"
   ]
  },
  {
   "cell_type": "markdown",
   "metadata": {},
   "source": [
    "Вероятность получить равенство средних не маленькая, поэтому нулевую гипотезу не отвергаем."
   ]
  },
  {
   "cell_type": "markdown",
   "metadata": {},
   "source": [
    "### Проверка гипотезы различия баланса на счету между ушедшими клиентами, и теми, которые остались"
   ]
  },
  {
   "cell_type": "markdown",
   "metadata": {},
   "source": [
    "Проверим различается ли средний баланс на счете ушедших клиентов и не ушедших с помощью ttest\n",
    "\n",
    "Нулевая гипотеза - средний баланс клиентов из двух групп равен.\n",
    "\n",
    "Альтернативая гипотеза - средний баланс клиентов их двух групп не равен."
   ]
  },
  {
   "cell_type": "code",
   "execution_count": 28,
   "metadata": {},
   "outputs": [
    {
     "name": "stdout",
     "output_type": "stream",
     "text": [
      "p-значение: 0.16924734893322796\n",
      "Не получилось отвергнуть гипотезу, гипотеза о различии баланса не подтвердилась, балансы равны\n"
     ]
    }
   ],
   "source": [
    "array_1 = df.dropna(subset=['balance']).query('churn==1')['balance']\n",
    "array_2 = df.dropna(subset=['balance']).query('churn==0')['balance']\n",
    "\n",
    "alpha = .05    #критический уровень статистической значимости, возьмем общепринятое пороговые значения — 5%\n",
    " \n",
    "results = st.ttest_ind(array_1, array_2)\n",
    " \n",
    "print('p-значение:', results.pvalue)\n",
    " \n",
    "if results.pvalue < alpha:\n",
    "    print(\"Отвергаем нулевую гипотезу\")\n",
    "else:\n",
    "    print(\"Не получилось отвергнуть гипотезу, гипотеза о различии баланса не подтвердилась, балансы равны\")"
   ]
  },
  {
   "cell_type": "markdown",
   "metadata": {},
   "source": [
    "## Выводы и рекомендации"
   ]
  },
  {
   "cell_type": "markdown",
   "metadata": {},
   "source": [
    "Основные выводы:\n",
    "\n",
    "1. Идеальный портрет клиента в идеальном мире: мужчина, 39 лет, проживающий в Ярославле, активен, имеет кредитную карту, пользователь банковских продуктов в количестве 2 шт. (1,55)\n",
    "\n",
    "2. Не идеальный клиент в реальном мире: Житель Ростова Великого, мужчина или женщина, 40,5 лет, малоактивен, имеет один банковский продукт, и вероятнее всего это кредитная карта (0,7).\n",
    "\n",
    "3. Признаки сильно определяющие степень оттока клиентов банка: возраст, локация (город), пол, количество банковских продуктов.\n",
    "\n",
    "4. Признаки, характеризующие финансовое состояние клиента, не влияют на отток клиентов. Это такие как - баланс на счете, размер заработной платы, количество объектов, кредитный скор.  \n",
    "\n",
    "\n",
    "Рекомендации региональному банку по удержанию клиентов:\n",
    "- Обратить внимание на работу банка в городе Ростове Великом. Предполагаю, что могут быть причины не связанные с клиентами и их половозрастным составом. Может страдать качество обслуживание в отделении банка, или отделения банка и (или) банкоматы неудобно расположены для жителей города. \n",
    "- Стремится увеличивать количество банковских продуктов на каждого клиента. Отток клиентов можно сократить минимум в 2 раза. Оптимальное число банковских продуктов равно 2. \n",
    "- Обратить внимание на предложение и качество банковских продуктов, возможно улучшив их можно несложно удержать старых клиентов и привлечь новых.   \n",
    "- Проработать возрастную группу клиентов старше 40, чтобы понять причины, почему именно клиенты этого возраста покидают банк.\n",
    "- Сделать акцент на привлечение клиентов молодого возрасто до 30 лет. Через 3-5 лет это будут самые стабильные клиенты.\n",
    "- Обратить внимание на активность женщин, т.к. есть отличия в цифрах оттока мужчин и женщин. Для исследования можно взять кластер 1 - это женщины  Ярославля, с коэф. оттока 0,20."
   ]
  },
  {
   "cell_type": "code",
   "execution_count": null,
   "metadata": {},
   "outputs": [],
   "source": []
  }
 ],
 "metadata": {
  "ExecuteTimeLog": [
   {
    "duration": 3,
    "start_time": "2022-07-23T06:30:30.005Z"
   },
   {
    "duration": 53,
    "start_time": "2022-07-23T06:30:30.010Z"
   },
   {
    "duration": 1623,
    "start_time": "2022-07-23T06:36:20.601Z"
   },
   {
    "duration": 57,
    "start_time": "2022-07-23T06:36:22.226Z"
   },
   {
    "duration": 17,
    "start_time": "2022-07-23T06:37:03.159Z"
   },
   {
    "duration": 39,
    "start_time": "2022-07-23T06:37:50.997Z"
   },
   {
    "duration": 15,
    "start_time": "2022-07-23T06:38:12.424Z"
   },
   {
    "duration": 10,
    "start_time": "2022-07-23T06:38:35.877Z"
   },
   {
    "duration": 9,
    "start_time": "2022-07-23T06:38:45.263Z"
   },
   {
    "duration": 12,
    "start_time": "2022-07-23T06:38:55.987Z"
   },
   {
    "duration": 15,
    "start_time": "2022-07-23T06:39:31.272Z"
   },
   {
    "duration": 6,
    "start_time": "2022-07-23T06:39:51.231Z"
   },
   {
    "duration": 8,
    "start_time": "2022-07-23T06:40:04.981Z"
   },
   {
    "duration": 12,
    "start_time": "2022-07-23T06:40:25.470Z"
   },
   {
    "duration": 19,
    "start_time": "2022-07-23T06:40:47.529Z"
   },
   {
    "duration": 3,
    "start_time": "2022-07-23T06:41:12.349Z"
   },
   {
    "duration": 55,
    "start_time": "2022-07-23T06:41:25.419Z"
   },
   {
    "duration": 10,
    "start_time": "2022-07-23T06:41:48.691Z"
   },
   {
    "duration": 6,
    "start_time": "2022-07-23T06:42:01.499Z"
   },
   {
    "duration": 82,
    "start_time": "2022-07-23T06:42:15.561Z"
   },
   {
    "duration": 2,
    "start_time": "2022-07-23T06:42:32.409Z"
   },
   {
    "duration": 21,
    "start_time": "2022-07-23T06:42:43.171Z"
   },
   {
    "duration": 2682,
    "start_time": "2022-07-23T06:43:20.971Z"
   },
   {
    "duration": 1693,
    "start_time": "2022-07-23T06:44:02.940Z"
   },
   {
    "duration": 24,
    "start_time": "2022-07-23T06:44:33.310Z"
   },
   {
    "duration": 4,
    "start_time": "2022-07-23T06:46:00.939Z"
   },
   {
    "duration": 12,
    "start_time": "2022-07-23T06:46:08.899Z"
   },
   {
    "duration": 5426,
    "start_time": "2022-07-23T06:46:15.401Z"
   },
   {
    "duration": 321391,
    "start_time": "2022-07-23T06:46:34.204Z"
   },
   {
    "duration": 115,
    "start_time": "2022-07-23T06:57:30.120Z"
   },
   {
    "duration": 3106,
    "start_time": "2022-07-23T06:57:59.012Z"
   },
   {
    "duration": 8,
    "start_time": "2022-07-23T06:58:10.751Z"
   },
   {
    "duration": 2,
    "start_time": "2022-07-23T06:58:23.340Z"
   },
   {
    "duration": 75,
    "start_time": "2022-07-23T07:00:21.841Z"
   },
   {
    "duration": 13,
    "start_time": "2022-07-23T07:00:37.651Z"
   },
   {
    "duration": 21,
    "start_time": "2022-07-23T07:01:27.012Z"
   },
   {
    "duration": 1510,
    "start_time": "2022-07-23T09:56:50.448Z"
   },
   {
    "duration": 62,
    "start_time": "2022-07-23T09:56:51.960Z"
   },
   {
    "duration": 16,
    "start_time": "2022-07-23T09:56:52.024Z"
   },
   {
    "duration": 20,
    "start_time": "2022-07-23T09:56:52.042Z"
   },
   {
    "duration": 20,
    "start_time": "2022-07-23T09:56:52.064Z"
   },
   {
    "duration": 13,
    "start_time": "2022-07-23T09:56:52.112Z"
   },
   {
    "duration": 18,
    "start_time": "2022-07-23T09:56:52.129Z"
   },
   {
    "duration": 15,
    "start_time": "2022-07-23T09:56:52.149Z"
   },
   {
    "duration": 12,
    "start_time": "2022-07-23T09:56:52.166Z"
   },
   {
    "duration": 9,
    "start_time": "2022-07-23T09:56:52.181Z"
   },
   {
    "duration": 25,
    "start_time": "2022-07-23T09:56:52.192Z"
   },
   {
    "duration": 34,
    "start_time": "2022-07-23T09:56:52.219Z"
   },
   {
    "duration": 21,
    "start_time": "2022-07-23T09:56:52.254Z"
   },
   {
    "duration": 69,
    "start_time": "2022-07-23T09:56:52.277Z"
   },
   {
    "duration": 10,
    "start_time": "2022-07-23T09:56:52.348Z"
   },
   {
    "duration": 7,
    "start_time": "2022-07-23T09:56:52.360Z"
   },
   {
    "duration": 59,
    "start_time": "2022-07-23T09:56:52.369Z"
   },
   {
    "duration": 2952,
    "start_time": "2022-07-23T09:56:52.431Z"
   },
   {
    "duration": 1893,
    "start_time": "2022-07-23T09:56:55.385Z"
   },
   {
    "duration": 28,
    "start_time": "2022-07-23T09:56:57.280Z"
   },
   {
    "duration": 7,
    "start_time": "2022-07-23T09:56:57.310Z"
   },
   {
    "duration": 18,
    "start_time": "2022-07-23T09:56:57.320Z"
   },
   {
    "duration": 5914,
    "start_time": "2022-07-23T09:56:57.340Z"
   },
   {
    "duration": 332299,
    "start_time": "2022-07-23T09:57:03.256Z"
   },
   {
    "duration": 2467,
    "start_time": "2022-07-23T10:02:35.558Z"
   },
   {
    "duration": 8,
    "start_time": "2022-07-23T10:02:38.028Z"
   },
   {
    "duration": 15,
    "start_time": "2022-07-23T10:02:38.039Z"
   },
   {
    "duration": 60,
    "start_time": "2022-07-23T10:02:38.058Z"
   },
   {
    "duration": 1754,
    "start_time": "2022-07-23T18:06:38.538Z"
   },
   {
    "duration": 92,
    "start_time": "2022-07-23T18:06:40.294Z"
   },
   {
    "duration": 24,
    "start_time": "2022-07-23T18:06:40.388Z"
   },
   {
    "duration": 18,
    "start_time": "2022-07-23T18:06:40.414Z"
   },
   {
    "duration": 19,
    "start_time": "2022-07-23T18:06:40.435Z"
   },
   {
    "duration": 19,
    "start_time": "2022-07-23T18:06:40.465Z"
   },
   {
    "duration": 10,
    "start_time": "2022-07-23T18:06:40.487Z"
   },
   {
    "duration": 15,
    "start_time": "2022-07-23T18:06:40.498Z"
   },
   {
    "duration": 10,
    "start_time": "2022-07-23T18:06:40.515Z"
   },
   {
    "duration": 4,
    "start_time": "2022-07-23T18:06:40.526Z"
   },
   {
    "duration": 42,
    "start_time": "2022-07-23T18:06:40.531Z"
   },
   {
    "duration": 23,
    "start_time": "2022-07-23T18:06:40.575Z"
   },
   {
    "duration": 28,
    "start_time": "2022-07-23T18:06:40.600Z"
   },
   {
    "duration": 73,
    "start_time": "2022-07-23T18:06:40.631Z"
   },
   {
    "duration": 11,
    "start_time": "2022-07-23T18:06:40.705Z"
   },
   {
    "duration": 5,
    "start_time": "2022-07-23T18:06:40.718Z"
   },
   {
    "duration": 44,
    "start_time": "2022-07-23T18:06:40.725Z"
   },
   {
    "duration": 2702,
    "start_time": "2022-07-23T18:06:40.772Z"
   },
   {
    "duration": 1728,
    "start_time": "2022-07-23T18:06:43.476Z"
   },
   {
    "duration": 22,
    "start_time": "2022-07-23T18:06:45.206Z"
   },
   {
    "duration": 4,
    "start_time": "2022-07-23T18:06:45.229Z"
   },
   {
    "duration": 13,
    "start_time": "2022-07-23T18:06:45.234Z"
   },
   {
    "duration": 5090,
    "start_time": "2022-07-23T18:06:45.248Z"
   },
   {
    "duration": 1910,
    "start_time": "2022-07-23T18:30:27.149Z"
   },
   {
    "duration": 90,
    "start_time": "2022-07-23T18:30:29.061Z"
   },
   {
    "duration": 16,
    "start_time": "2022-07-23T18:30:29.153Z"
   },
   {
    "duration": 42,
    "start_time": "2022-07-23T18:30:29.174Z"
   },
   {
    "duration": 14,
    "start_time": "2022-07-23T18:30:29.218Z"
   },
   {
    "duration": 10,
    "start_time": "2022-07-23T18:30:29.233Z"
   },
   {
    "duration": 24,
    "start_time": "2022-07-23T18:30:29.245Z"
   },
   {
    "duration": 15,
    "start_time": "2022-07-23T18:30:29.271Z"
   },
   {
    "duration": 16,
    "start_time": "2022-07-23T18:30:29.289Z"
   },
   {
    "duration": 5,
    "start_time": "2022-07-23T18:30:29.307Z"
   },
   {
    "duration": 9,
    "start_time": "2022-07-23T18:30:29.313Z"
   },
   {
    "duration": 43,
    "start_time": "2022-07-23T18:30:29.323Z"
   },
   {
    "duration": 28,
    "start_time": "2022-07-23T18:30:29.369Z"
   },
   {
    "duration": 68,
    "start_time": "2022-07-23T18:30:29.398Z"
   },
   {
    "duration": 18,
    "start_time": "2022-07-23T18:30:29.468Z"
   },
   {
    "duration": 7,
    "start_time": "2022-07-23T18:30:29.489Z"
   },
   {
    "duration": 25,
    "start_time": "2022-07-23T18:30:29.498Z"
   },
   {
    "duration": 3683,
    "start_time": "2022-07-23T18:30:29.524Z"
   },
   {
    "duration": 1711,
    "start_time": "2022-07-23T18:30:33.265Z"
   },
   {
    "duration": 25,
    "start_time": "2022-07-23T18:30:34.978Z"
   },
   {
    "duration": 4,
    "start_time": "2022-07-23T18:30:35.005Z"
   },
   {
    "duration": 14,
    "start_time": "2022-07-23T18:30:35.011Z"
   },
   {
    "duration": 6867,
    "start_time": "2022-07-23T18:30:35.027Z"
   },
   {
    "duration": 1671,
    "start_time": "2022-07-23T18:31:08.903Z"
   },
   {
    "duration": 55,
    "start_time": "2022-07-23T18:31:10.581Z"
   },
   {
    "duration": 17,
    "start_time": "2022-07-23T18:31:10.638Z"
   },
   {
    "duration": 31,
    "start_time": "2022-07-23T18:31:10.657Z"
   },
   {
    "duration": 13,
    "start_time": "2022-07-23T18:31:10.690Z"
   },
   {
    "duration": 10,
    "start_time": "2022-07-23T18:31:10.705Z"
   },
   {
    "duration": 38,
    "start_time": "2022-07-23T18:31:10.717Z"
   },
   {
    "duration": 9,
    "start_time": "2022-07-23T18:31:10.757Z"
   },
   {
    "duration": 25,
    "start_time": "2022-07-23T18:31:10.767Z"
   },
   {
    "duration": 12,
    "start_time": "2022-07-23T18:31:10.795Z"
   },
   {
    "duration": 31,
    "start_time": "2022-07-23T18:31:10.808Z"
   },
   {
    "duration": 44,
    "start_time": "2022-07-23T18:31:10.840Z"
   },
   {
    "duration": 38,
    "start_time": "2022-07-23T18:31:10.886Z"
   },
   {
    "duration": 72,
    "start_time": "2022-07-23T18:31:10.926Z"
   },
   {
    "duration": 9,
    "start_time": "2022-07-23T18:31:11.000Z"
   },
   {
    "duration": 13,
    "start_time": "2022-07-23T18:31:11.010Z"
   },
   {
    "duration": 34,
    "start_time": "2022-07-23T18:31:11.024Z"
   },
   {
    "duration": 2833,
    "start_time": "2022-07-23T18:31:11.060Z"
   },
   {
    "duration": 1593,
    "start_time": "2022-07-23T18:31:13.895Z"
   },
   {
    "duration": 22,
    "start_time": "2022-07-23T18:31:15.490Z"
   },
   {
    "duration": 4,
    "start_time": "2022-07-23T18:31:15.513Z"
   },
   {
    "duration": 31,
    "start_time": "2022-07-23T18:31:15.518Z"
   },
   {
    "duration": 6336,
    "start_time": "2022-07-23T18:31:15.551Z"
   },
   {
    "duration": 278295,
    "start_time": "2022-07-23T18:31:21.891Z"
   },
   {
    "duration": 2412,
    "start_time": "2022-07-23T18:36:00.188Z"
   },
   {
    "duration": 6,
    "start_time": "2022-07-23T18:36:02.605Z"
   },
   {
    "duration": 21,
    "start_time": "2022-07-23T18:36:02.613Z"
   },
   {
    "duration": 38,
    "start_time": "2022-07-23T18:36:02.638Z"
   },
   {
    "duration": 15,
    "start_time": "2022-07-23T20:13:54.592Z"
   },
   {
    "duration": 1389,
    "start_time": "2022-07-23T20:14:53.560Z"
   },
   {
    "duration": 55,
    "start_time": "2022-07-23T20:14:54.950Z"
   },
   {
    "duration": 13,
    "start_time": "2022-07-23T20:14:55.007Z"
   },
   {
    "duration": 20,
    "start_time": "2022-07-23T20:14:55.023Z"
   },
   {
    "duration": 21,
    "start_time": "2022-07-23T20:14:55.044Z"
   },
   {
    "duration": 8,
    "start_time": "2022-07-23T20:14:55.067Z"
   },
   {
    "duration": 15,
    "start_time": "2022-07-23T20:14:55.077Z"
   },
   {
    "duration": 10,
    "start_time": "2022-07-23T20:14:55.093Z"
   },
   {
    "duration": 17,
    "start_time": "2022-07-23T20:14:55.104Z"
   },
   {
    "duration": 4,
    "start_time": "2022-07-23T20:14:55.125Z"
   },
   {
    "duration": 10,
    "start_time": "2022-07-23T20:14:55.130Z"
   },
   {
    "duration": 31,
    "start_time": "2022-07-23T20:14:55.142Z"
   },
   {
    "duration": 17,
    "start_time": "2022-07-23T20:14:55.175Z"
   },
   {
    "duration": 70,
    "start_time": "2022-07-23T20:14:55.194Z"
   },
   {
    "duration": 10,
    "start_time": "2022-07-23T20:14:55.266Z"
   },
   {
    "duration": 4,
    "start_time": "2022-07-23T20:14:55.277Z"
   },
   {
    "duration": 20,
    "start_time": "2022-07-23T20:14:55.283Z"
   },
   {
    "duration": 2420,
    "start_time": "2022-07-23T20:14:55.305Z"
   },
   {
    "duration": 1501,
    "start_time": "2022-07-23T20:14:57.727Z"
   },
   {
    "duration": 22,
    "start_time": "2022-07-23T20:14:59.230Z"
   },
   {
    "duration": 3,
    "start_time": "2022-07-23T20:14:59.263Z"
   },
   {
    "duration": 11,
    "start_time": "2022-07-23T20:14:59.268Z"
   },
   {
    "duration": 5432,
    "start_time": "2022-07-23T20:14:59.281Z"
   },
   {
    "duration": 1407,
    "start_time": "2022-07-23T20:42:29.499Z"
   },
   {
    "duration": 57,
    "start_time": "2022-07-23T20:42:30.908Z"
   },
   {
    "duration": 14,
    "start_time": "2022-07-23T20:42:30.966Z"
   },
   {
    "duration": 18,
    "start_time": "2022-07-23T20:42:30.982Z"
   },
   {
    "duration": 12,
    "start_time": "2022-07-23T20:42:31.001Z"
   },
   {
    "duration": 11,
    "start_time": "2022-07-23T20:42:31.015Z"
   },
   {
    "duration": 13,
    "start_time": "2022-07-23T20:42:31.028Z"
   },
   {
    "duration": 30,
    "start_time": "2022-07-23T20:42:31.042Z"
   },
   {
    "duration": 15,
    "start_time": "2022-07-23T20:42:31.073Z"
   },
   {
    "duration": 5,
    "start_time": "2022-07-23T20:42:31.091Z"
   },
   {
    "duration": 14,
    "start_time": "2022-07-23T20:42:31.098Z"
   },
   {
    "duration": 19,
    "start_time": "2022-07-23T20:42:31.114Z"
   },
   {
    "duration": 40,
    "start_time": "2022-07-23T20:42:31.135Z"
   },
   {
    "duration": 54,
    "start_time": "2022-07-23T20:42:31.177Z"
   },
   {
    "duration": 8,
    "start_time": "2022-07-23T20:42:31.233Z"
   },
   {
    "duration": 37,
    "start_time": "2022-07-23T20:42:31.242Z"
   },
   {
    "duration": 28,
    "start_time": "2022-07-23T20:42:31.280Z"
   },
   {
    "duration": 2565,
    "start_time": "2022-07-23T20:42:31.310Z"
   },
   {
    "duration": 1456,
    "start_time": "2022-07-23T20:42:33.877Z"
   },
   {
    "duration": 32,
    "start_time": "2022-07-23T20:42:35.335Z"
   },
   {
    "duration": 4,
    "start_time": "2022-07-23T20:42:35.368Z"
   },
   {
    "duration": 12,
    "start_time": "2022-07-23T20:42:35.374Z"
   },
   {
    "duration": 5132,
    "start_time": "2022-07-23T20:42:35.388Z"
   },
   {
    "duration": 2055,
    "start_time": "2022-07-26T15:57:08.543Z"
   },
   {
    "duration": 51,
    "start_time": "2022-07-26T15:57:10.600Z"
   },
   {
    "duration": 11,
    "start_time": "2022-07-26T15:57:10.653Z"
   },
   {
    "duration": 82,
    "start_time": "2022-07-26T16:05:43.662Z"
   },
   {
    "duration": 100,
    "start_time": "2022-07-26T16:14:55.607Z"
   },
   {
    "duration": 1712,
    "start_time": "2022-12-22T17:20:11.665Z"
   },
   {
    "duration": 0,
    "start_time": "2022-12-22T17:20:13.379Z"
   },
   {
    "duration": 0,
    "start_time": "2022-12-22T17:20:13.381Z"
   },
   {
    "duration": 0,
    "start_time": "2022-12-22T17:20:13.382Z"
   },
   {
    "duration": 0,
    "start_time": "2022-12-22T17:20:13.383Z"
   },
   {
    "duration": 0,
    "start_time": "2022-12-22T17:20:13.384Z"
   },
   {
    "duration": 0,
    "start_time": "2022-12-22T17:20:13.386Z"
   },
   {
    "duration": 0,
    "start_time": "2022-12-22T17:20:13.387Z"
   },
   {
    "duration": 0,
    "start_time": "2022-12-22T17:20:13.388Z"
   },
   {
    "duration": 0,
    "start_time": "2022-12-22T17:20:13.389Z"
   },
   {
    "duration": 0,
    "start_time": "2022-12-22T17:20:13.390Z"
   },
   {
    "duration": 0,
    "start_time": "2022-12-22T17:20:13.391Z"
   },
   {
    "duration": 0,
    "start_time": "2022-12-22T17:20:13.392Z"
   },
   {
    "duration": 0,
    "start_time": "2022-12-22T17:20:13.412Z"
   },
   {
    "duration": 0,
    "start_time": "2022-12-22T17:20:13.413Z"
   },
   {
    "duration": 0,
    "start_time": "2022-12-22T17:20:13.414Z"
   },
   {
    "duration": 0,
    "start_time": "2022-12-22T17:20:13.415Z"
   },
   {
    "duration": 0,
    "start_time": "2022-12-22T17:20:13.419Z"
   },
   {
    "duration": 0,
    "start_time": "2022-12-22T17:20:13.420Z"
   },
   {
    "duration": 0,
    "start_time": "2022-12-22T17:20:13.421Z"
   },
   {
    "duration": 0,
    "start_time": "2022-12-22T17:20:13.423Z"
   },
   {
    "duration": 0,
    "start_time": "2022-12-22T17:20:13.424Z"
   },
   {
    "duration": 0,
    "start_time": "2022-12-22T17:20:13.425Z"
   },
   {
    "duration": 0,
    "start_time": "2022-12-22T17:20:13.426Z"
   },
   {
    "duration": 0,
    "start_time": "2022-12-22T17:20:13.429Z"
   },
   {
    "duration": 0,
    "start_time": "2022-12-22T17:20:13.430Z"
   },
   {
    "duration": 0,
    "start_time": "2022-12-22T17:20:13.431Z"
   },
   {
    "duration": 0,
    "start_time": "2022-12-22T17:20:13.432Z"
   },
   {
    "duration": 1451,
    "start_time": "2022-12-22T17:20:59.454Z"
   },
   {
    "duration": 235,
    "start_time": "2022-12-22T17:21:00.907Z"
   },
   {
    "duration": 11,
    "start_time": "2022-12-22T17:21:01.144Z"
   },
   {
    "duration": 59,
    "start_time": "2022-12-22T17:21:01.157Z"
   },
   {
    "duration": 26,
    "start_time": "2022-12-22T17:21:01.220Z"
   },
   {
    "duration": 29,
    "start_time": "2022-12-22T17:21:01.248Z"
   },
   {
    "duration": 23,
    "start_time": "2022-12-22T17:21:01.279Z"
   },
   {
    "duration": 69,
    "start_time": "2022-12-22T17:21:01.304Z"
   },
   {
    "duration": 25,
    "start_time": "2022-12-22T17:21:01.375Z"
   },
   {
    "duration": 56,
    "start_time": "2022-12-22T17:21:01.403Z"
   },
   {
    "duration": 26,
    "start_time": "2022-12-22T17:21:01.460Z"
   },
   {
    "duration": 57,
    "start_time": "2022-12-22T17:21:01.488Z"
   },
   {
    "duration": 47,
    "start_time": "2022-12-22T17:21:01.547Z"
   },
   {
    "duration": 87,
    "start_time": "2022-12-22T17:21:01.595Z"
   },
   {
    "duration": 8,
    "start_time": "2022-12-22T17:21:01.684Z"
   },
   {
    "duration": 49,
    "start_time": "2022-12-22T17:21:01.693Z"
   },
   {
    "duration": 56,
    "start_time": "2022-12-22T17:21:01.743Z"
   },
   {
    "duration": 3688,
    "start_time": "2022-12-22T17:21:01.801Z"
   },
   {
    "duration": 1582,
    "start_time": "2022-12-22T17:21:05.491Z"
   },
   {
    "duration": 21,
    "start_time": "2022-12-22T17:21:07.075Z"
   },
   {
    "duration": 3,
    "start_time": "2022-12-22T17:21:07.098Z"
   },
   {
    "duration": 69,
    "start_time": "2022-12-22T17:21:07.103Z"
   },
   {
    "duration": 5034,
    "start_time": "2022-12-22T17:21:07.174Z"
   },
   {
    "duration": 283023,
    "start_time": "2022-12-22T17:21:12.210Z"
   },
   {
    "duration": 3095,
    "start_time": "2022-12-22T17:25:55.244Z"
   },
   {
    "duration": 7,
    "start_time": "2022-12-22T17:25:58.341Z"
   },
   {
    "duration": 15,
    "start_time": "2022-12-22T17:25:58.350Z"
   },
   {
    "duration": 21,
    "start_time": "2022-12-22T17:25:58.369Z"
   },
   {
    "duration": 1477,
    "start_time": "2022-12-22T17:46:29.932Z"
   },
   {
    "duration": 86,
    "start_time": "2022-12-22T17:46:31.411Z"
   },
   {
    "duration": 12,
    "start_time": "2022-12-22T17:46:31.499Z"
   },
   {
    "duration": 30,
    "start_time": "2022-12-22T17:46:31.513Z"
   },
   {
    "duration": 22,
    "start_time": "2022-12-22T17:46:31.545Z"
   },
   {
    "duration": 13,
    "start_time": "2022-12-22T17:46:31.568Z"
   },
   {
    "duration": 19,
    "start_time": "2022-12-22T17:46:31.583Z"
   },
   {
    "duration": 29,
    "start_time": "2022-12-22T17:46:31.603Z"
   },
   {
    "duration": 16,
    "start_time": "2022-12-22T17:46:31.634Z"
   },
   {
    "duration": 16,
    "start_time": "2022-12-22T17:46:31.652Z"
   },
   {
    "duration": 23,
    "start_time": "2022-12-22T17:46:31.669Z"
   },
   {
    "duration": 21,
    "start_time": "2022-12-22T17:46:31.694Z"
   },
   {
    "duration": 16,
    "start_time": "2022-12-22T17:46:31.717Z"
   },
   {
    "duration": 50,
    "start_time": "2022-12-22T17:46:31.735Z"
   },
   {
    "duration": 8,
    "start_time": "2022-12-22T17:46:31.787Z"
   },
   {
    "duration": 19,
    "start_time": "2022-12-22T17:46:31.796Z"
   },
   {
    "duration": 41,
    "start_time": "2022-12-22T17:46:31.817Z"
   },
   {
    "duration": 2280,
    "start_time": "2022-12-22T17:46:31.860Z"
   },
   {
    "duration": 1492,
    "start_time": "2022-12-22T17:46:34.142Z"
   },
   {
    "duration": 20,
    "start_time": "2022-12-22T17:46:35.636Z"
   },
   {
    "duration": 21,
    "start_time": "2022-12-22T17:46:35.658Z"
   },
   {
    "duration": 46,
    "start_time": "2022-12-22T17:46:35.681Z"
   },
   {
    "duration": 4889,
    "start_time": "2022-12-22T17:46:35.729Z"
   },
   {
    "duration": 255465,
    "start_time": "2022-12-22T17:46:40.620Z"
   },
   {
    "duration": 2135,
    "start_time": "2022-12-22T17:50:56.087Z"
   },
   {
    "duration": 7,
    "start_time": "2022-12-22T17:50:58.223Z"
   },
   {
    "duration": 12,
    "start_time": "2022-12-22T17:50:58.231Z"
   },
   {
    "duration": 15,
    "start_time": "2022-12-22T17:50:58.246Z"
   },
   {
    "duration": 1384,
    "start_time": "2022-12-22T18:14:53.830Z"
   },
   {
    "duration": 86,
    "start_time": "2022-12-22T18:14:55.215Z"
   },
   {
    "duration": 12,
    "start_time": "2022-12-22T18:14:55.303Z"
   },
   {
    "duration": 22,
    "start_time": "2022-12-22T18:14:55.317Z"
   },
   {
    "duration": 13,
    "start_time": "2022-12-22T18:14:55.341Z"
   },
   {
    "duration": 10,
    "start_time": "2022-12-22T18:14:55.355Z"
   },
   {
    "duration": 8,
    "start_time": "2022-12-22T18:14:55.366Z"
   },
   {
    "duration": 11,
    "start_time": "2022-12-22T18:14:55.376Z"
   },
   {
    "duration": 14,
    "start_time": "2022-12-22T18:14:55.413Z"
   },
   {
    "duration": 5,
    "start_time": "2022-12-22T18:14:55.430Z"
   },
   {
    "duration": 9,
    "start_time": "2022-12-22T18:14:55.437Z"
   },
   {
    "duration": 17,
    "start_time": "2022-12-22T18:14:55.447Z"
   },
   {
    "duration": 17,
    "start_time": "2022-12-22T18:14:55.466Z"
   },
   {
    "duration": 78,
    "start_time": "2022-12-22T18:14:55.484Z"
   },
   {
    "duration": 9,
    "start_time": "2022-12-22T18:14:55.563Z"
   },
   {
    "duration": 5,
    "start_time": "2022-12-22T18:14:55.574Z"
   },
   {
    "duration": 33,
    "start_time": "2022-12-22T18:14:55.580Z"
   },
   {
    "duration": 2418,
    "start_time": "2022-12-22T18:14:55.615Z"
   },
   {
    "duration": 1479,
    "start_time": "2022-12-22T18:14:58.034Z"
   },
   {
    "duration": 21,
    "start_time": "2022-12-22T18:14:59.515Z"
   },
   {
    "duration": 4,
    "start_time": "2022-12-22T18:14:59.538Z"
   },
   {
    "duration": 14,
    "start_time": "2022-12-22T18:14:59.543Z"
   },
   {
    "duration": 5205,
    "start_time": "2022-12-22T18:14:59.558Z"
   },
   {
    "duration": 256201,
    "start_time": "2022-12-22T18:15:04.764Z"
   },
   {
    "duration": 2059,
    "start_time": "2022-12-22T18:19:20.966Z"
   },
   {
    "duration": 6,
    "start_time": "2022-12-22T18:19:23.026Z"
   },
   {
    "duration": 31,
    "start_time": "2022-12-22T18:19:23.034Z"
   },
   {
    "duration": 44,
    "start_time": "2022-12-22T18:19:23.067Z"
   }
  ],
  "kernelspec": {
   "display_name": "Python 3 (ipykernel)",
   "language": "python",
   "name": "python3"
  },
  "language_info": {
   "codemirror_mode": {
    "name": "ipython",
    "version": 3
   },
   "file_extension": ".py",
   "mimetype": "text/x-python",
   "name": "python",
   "nbconvert_exporter": "python",
   "pygments_lexer": "ipython3",
   "version": "3.9.5"
  },
  "toc": {
   "base_numbering": 1,
   "nav_menu": {},
   "number_sections": true,
   "sideBar": true,
   "skip_h1_title": true,
   "title_cell": "Table of Contents",
   "title_sidebar": "Contents",
   "toc_cell": false,
   "toc_position": {
    "height": "calc(100% - 180px)",
    "left": "10px",
    "top": "150px",
    "width": "323.722px"
   },
   "toc_section_display": true,
   "toc_window_display": true
  }
 },
 "nbformat": 4,
 "nbformat_minor": 2
}
