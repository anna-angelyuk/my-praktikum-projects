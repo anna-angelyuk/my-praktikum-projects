{
 "cells": [
  {
   "cell_type": "markdown",
   "metadata": {
    "toc": true
   },
   "source": [
    "<h1>Table of Contents<span class=\"tocSkip\"></span></h1>\n",
    "<div class=\"toc\"><ul class=\"toc-item\"><li><span><a href=\"#Проект-приоритизации-гипотез-и-A/B-тест\" data-toc-modified-id=\"Проект-приоритизации-гипотез-и-A/B-тест-1\">Проект приоритизации гипотез и A/B тест</a></span></li><li><span><a href=\"#Вывод-данных\" data-toc-modified-id=\"Вывод-данных-2\">Вывод данных</a></span></li><li><span><a href=\"#Часть-1-Приоритизация-гипотез\" data-toc-modified-id=\"Часть-1-Приоритизация-гипотез-3\">Часть 1 Приоритизация гипотез</a></span><ul class=\"toc-item\"><li><span><a href=\"#ICE\" data-toc-modified-id=\"ICE-3.1\">ICE</a></span></li><li><span><a href=\"#RICE\" data-toc-modified-id=\"RICE-3.2\">RICE</a></span></li></ul></li><li><span><a href=\"#Вывод-по-приоритету-гипотез\" data-toc-modified-id=\"Вывод-по-приоритету-гипотез-4\">Вывод по приоритету гипотез</a></span></li><li><span><a href=\"#Часть-2-А/В-тест\" data-toc-modified-id=\"Часть-2-А/В-тест-5\">Часть 2 А/В тест</a></span><ul class=\"toc-item\"><li><span><a href=\"#Вывод-данных-для-А/В-теста-и-его-анализ\" data-toc-modified-id=\"Вывод-данных-для-А/В-теста-и-его-анализ-5.1\">Вывод данных для А/В теста и его анализ</a></span></li><li><span><a href=\"#Подготовка-данных\" data-toc-modified-id=\"Подготовка-данных-5.2\">Подготовка данных</a></span></li><li><span><a href=\"#Кумулятивная-выручка-по-группам\" data-toc-modified-id=\"Кумулятивная-выручка-по-группам-5.3\">Кумулятивная выручка по группам</a></span></li><li><span><a href=\"#Кумулятивный-средней-чек\" data-toc-modified-id=\"Кумулятивный-средней-чек-5.4\">Кумулятивный средней чек</a></span></li><li><span><a href=\"#Изменения-кумулятивного-среднего-чека-группы-B-к-группе-A\" data-toc-modified-id=\"Изменения-кумулятивного-среднего-чека-группы-B-к-группе-A-5.5\">Изменения кумулятивного среднего чека группы B к группе A</a></span></li><li><span><a href=\"#Кумулятивная-конверсия-по-группам\" data-toc-modified-id=\"Кумулятивная-конверсия-по-группам-5.6\">Кумулятивная конверсия по группам</a></span></li><li><span><a href=\"#Относительное-изменение-кумулятивной-конверсии-группы-B-к-группе-A.\" data-toc-modified-id=\"Относительное-изменение-кумулятивной-конверсии-группы-B-к-группе-A.-5.7\">Относительное изменение кумулятивной конверсии группы B к группе A.</a></span></li><li><span><a href=\"#Точечный-график-количества-заказов-по-пользователям\" data-toc-modified-id=\"Точечный-график-количества-заказов-по-пользователям-5.8\">Точечный график количества заказов по пользователям</a></span></li><li><span><a href=\"#95-й-и-99-й-перцентили-количества-заказов-на-пользователя\" data-toc-modified-id=\"95-й-и-99-й-перцентили-количества-заказов-на-пользователя-5.9\">95-й и 99-й перцентили количества заказов на пользователя</a></span></li><li><span><a href=\"#Точечный-график-стоимости-заказов\" data-toc-modified-id=\"Точечный-график-стоимости-заказов-5.10\">Точечный график стоимости заказов</a></span></li><li><span><a href=\"#95-й-и-99-й-перцентили-стоимости-заказов\" data-toc-modified-id=\"95-й-и-99-й-перцентили-стоимости-заказов-5.11\">95-й и 99-й перцентили стоимости заказов</a></span></li><li><span><a href=\"#Статистическую-значимость-различий-в-конверсии-между-группами-по-«сырым»-данным.\" data-toc-modified-id=\"Статистическую-значимость-различий-в-конверсии-между-группами-по-«сырым»-данным.-5.12\">Статистическую значимость различий в конверсии между группами по «сырым» данным.</a></span></li><li><span><a href=\"#Cтатистическая-значимость-различий-в-среднем-чеке-заказа-между-группами-по-«сырым»-данным\" data-toc-modified-id=\"Cтатистическая-значимость-различий-в-среднем-чеке-заказа-между-группами-по-«сырым»-данным-5.13\">Cтатистическая значимость различий в среднем чеке заказа между группами по «сырым» данным</a></span></li><li><span><a href=\"#Статистическую-значимость-различий-в-конверсии-между-группами-по-«очищенным»-данным.\" data-toc-modified-id=\"Статистическую-значимость-различий-в-конверсии-между-группами-по-«очищенным»-данным.-5.14\">Статистическую значимость различий в конверсии между группами по «очищенным» данным.</a></span></li><li><span><a href=\"#Cтатистическая-значимость-различий-в-среднем-чеке-по-«очищенным»-данным\" data-toc-modified-id=\"Cтатистическая-значимость-различий-в-среднем-чеке-по-«очищенным»-данным-5.15\">Cтатистическая значимость различий в среднем чеке по «очищенным» данным</a></span></li></ul></li><li><span><a href=\"#Вывод-по-А/В-тесту\" data-toc-modified-id=\"Вывод-по-А/В-тесту-6\">Вывод по А/В тесту</a></span></li></ul></div>"
   ]
  },
  {
   "cell_type": "markdown",
   "metadata": {},
   "source": [
    "## Проект приоритизации гипотез и A/B тест"
   ]
  },
  {
   "cell_type": "markdown",
   "metadata": {},
   "source": [
    "В крупном интернет-магазине подготовили список гипотез для увеличения выручки.\n",
    "Необходимо выяснить приоритет гипотез, и проанализируйте результаты.\n",
    "Есть гипотезы по увеличению выручки интернет-магазина с указанными параметрами Reach, Impact, Confidence, Effort.\n",
    "И есть данные результате А/В тесты, которые нужно проанализировать."
   ]
  },
  {
   "cell_type": "markdown",
   "metadata": {},
   "source": [
    "## Вывод данных"
   ]
  },
  {
   "cell_type": "code",
   "execution_count": 1,
   "metadata": {},
   "outputs": [],
   "source": [
    "import pandas as pd\n",
    "pd.set_option('display.max_colwidth', None)\n",
    "import datetime as dt\n",
    "import numpy as np\n",
    "import matplotlib.pyplot as plt\n",
    "import scipy.stats as stats\n",
    "from pandas.plotting import register_matplotlib_converters"
   ]
  },
  {
   "cell_type": "code",
   "execution_count": 2,
   "metadata": {},
   "outputs": [],
   "source": [
    "hypo = pd.read_csv('/datasets/hypothesis.csv')\n",
    "orders = pd.read_csv('/datasets/orders.csv')\n",
    "visitors = pd.read_csv('/datasets/visitors.csv')"
   ]
  },
  {
   "cell_type": "code",
   "execution_count": 3,
   "metadata": {},
   "outputs": [
    {
     "name": "stdout",
     "output_type": "stream",
     "text": [
      "<class 'pandas.core.frame.DataFrame'>\n",
      "RangeIndex: 9 entries, 0 to 8\n",
      "Data columns (total 5 columns):\n",
      " #   Column      Non-Null Count  Dtype \n",
      "---  ------      --------------  ----- \n",
      " 0   Hypothesis  9 non-null      object\n",
      " 1   Reach       9 non-null      int64 \n",
      " 2   Impact      9 non-null      int64 \n",
      " 3   Confidence  9 non-null      int64 \n",
      " 4   Efforts     9 non-null      int64 \n",
      "dtypes: int64(4), object(1)\n",
      "memory usage: 488.0+ bytes\n"
     ]
    }
   ],
   "source": [
    "hypo.info()"
   ]
  },
  {
   "cell_type": "markdown",
   "metadata": {},
   "source": [
    " ## Часть 1 Приоритизация гипотез"
   ]
  },
  {
   "cell_type": "code",
   "execution_count": 4,
   "metadata": {},
   "outputs": [
    {
     "data": {
      "text/html": [
       "<div>\n",
       "<style scoped>\n",
       "    .dataframe tbody tr th:only-of-type {\n",
       "        vertical-align: middle;\n",
       "    }\n",
       "\n",
       "    .dataframe tbody tr th {\n",
       "        vertical-align: top;\n",
       "    }\n",
       "\n",
       "    .dataframe thead th {\n",
       "        text-align: right;\n",
       "    }\n",
       "</style>\n",
       "<table border=\"1\" class=\"dataframe\">\n",
       "  <thead>\n",
       "    <tr style=\"text-align: right;\">\n",
       "      <th></th>\n",
       "      <th>Hypothesis</th>\n",
       "      <th>Reach</th>\n",
       "      <th>Impact</th>\n",
       "      <th>Confidence</th>\n",
       "      <th>Efforts</th>\n",
       "    </tr>\n",
       "  </thead>\n",
       "  <tbody>\n",
       "    <tr>\n",
       "      <th>0</th>\n",
       "      <td>Добавить два новых канала привлечения трафика, что позволит привлекать на 30% больше пользователей</td>\n",
       "      <td>3</td>\n",
       "      <td>10</td>\n",
       "      <td>8</td>\n",
       "      <td>6</td>\n",
       "    </tr>\n",
       "    <tr>\n",
       "      <th>1</th>\n",
       "      <td>Запустить собственную службу доставки, что сократит срок доставки заказов</td>\n",
       "      <td>2</td>\n",
       "      <td>5</td>\n",
       "      <td>4</td>\n",
       "      <td>10</td>\n",
       "    </tr>\n",
       "    <tr>\n",
       "      <th>2</th>\n",
       "      <td>Добавить блоки рекомендаций товаров на сайт интернет магазина, чтобы повысить конверсию и средний чек заказа</td>\n",
       "      <td>8</td>\n",
       "      <td>3</td>\n",
       "      <td>7</td>\n",
       "      <td>3</td>\n",
       "    </tr>\n",
       "    <tr>\n",
       "      <th>3</th>\n",
       "      <td>Изменить структура категорий, что увеличит конверсию, т.к. пользователи быстрее найдут нужный товар</td>\n",
       "      <td>8</td>\n",
       "      <td>3</td>\n",
       "      <td>3</td>\n",
       "      <td>8</td>\n",
       "    </tr>\n",
       "    <tr>\n",
       "      <th>4</th>\n",
       "      <td>Изменить цвет фона главной страницы, чтобы увеличить вовлеченность пользователей</td>\n",
       "      <td>3</td>\n",
       "      <td>1</td>\n",
       "      <td>1</td>\n",
       "      <td>1</td>\n",
       "    </tr>\n",
       "    <tr>\n",
       "      <th>5</th>\n",
       "      <td>Добавить страницу отзывов клиентов о магазине, что позволит увеличить количество заказов</td>\n",
       "      <td>3</td>\n",
       "      <td>2</td>\n",
       "      <td>2</td>\n",
       "      <td>3</td>\n",
       "    </tr>\n",
       "    <tr>\n",
       "      <th>6</th>\n",
       "      <td>Показать на главной странице баннеры с актуальными акциями и распродажами, чтобы увеличить конверсию</td>\n",
       "      <td>5</td>\n",
       "      <td>3</td>\n",
       "      <td>8</td>\n",
       "      <td>3</td>\n",
       "    </tr>\n",
       "    <tr>\n",
       "      <th>7</th>\n",
       "      <td>Добавить форму подписки на все основные страницы, чтобы собрать базу клиентов для email-рассылок</td>\n",
       "      <td>10</td>\n",
       "      <td>7</td>\n",
       "      <td>8</td>\n",
       "      <td>5</td>\n",
       "    </tr>\n",
       "    <tr>\n",
       "      <th>8</th>\n",
       "      <td>Запустить акцию, дающую скидку на товар в день рождения</td>\n",
       "      <td>1</td>\n",
       "      <td>9</td>\n",
       "      <td>9</td>\n",
       "      <td>5</td>\n",
       "    </tr>\n",
       "  </tbody>\n",
       "</table>\n",
       "</div>"
      ],
      "text/plain": [
       "                                                                                                     Hypothesis  \\\n",
       "0            Добавить два новых канала привлечения трафика, что позволит привлекать на 30% больше пользователей   \n",
       "1                                     Запустить собственную службу доставки, что сократит срок доставки заказов   \n",
       "2  Добавить блоки рекомендаций товаров на сайт интернет магазина, чтобы повысить конверсию и средний чек заказа   \n",
       "3           Изменить структура категорий, что увеличит конверсию, т.к. пользователи быстрее найдут нужный товар   \n",
       "4                              Изменить цвет фона главной страницы, чтобы увеличить вовлеченность пользователей   \n",
       "5                      Добавить страницу отзывов клиентов о магазине, что позволит увеличить количество заказов   \n",
       "6          Показать на главной странице баннеры с актуальными акциями и распродажами, чтобы увеличить конверсию   \n",
       "7              Добавить форму подписки на все основные страницы, чтобы собрать базу клиентов для email-рассылок   \n",
       "8                                                       Запустить акцию, дающую скидку на товар в день рождения   \n",
       "\n",
       "   Reach  Impact  Confidence  Efforts  \n",
       "0      3      10           8        6  \n",
       "1      2       5           4       10  \n",
       "2      8       3           7        3  \n",
       "3      8       3           3        8  \n",
       "4      3       1           1        1  \n",
       "5      3       2           2        3  \n",
       "6      5       3           8        3  \n",
       "7     10       7           8        5  \n",
       "8      1       9           9        5  "
      ]
     },
     "execution_count": 4,
     "metadata": {},
     "output_type": "execute_result"
    }
   ],
   "source": [
    "hypo # посомтрим гипотезы по увеличению выручки интернет-магазина"
   ]
  },
  {
   "cell_type": "code",
   "execution_count": 5,
   "metadata": {},
   "outputs": [],
   "source": [
    "hypo.columns = hypo.columns.str.lower() # поменяем буквы в колонках на нижний регистр"
   ]
  },
  {
   "cell_type": "markdown",
   "metadata": {},
   "source": [
    "### ICE"
   ]
  },
  {
   "cell_type": "markdown",
   "metadata": {},
   "source": [
    "Применим фреймворк ICE для приоритизации задач.\n",
    "- Reach — скольких пользователей затронет изменение\n",
    "- Impact — насколько сильно изменение повлияет на пользователей\n",
    "- Confidence — насколько вы уверены, что это изменение повлияет на пользователей\n",
    "- Efforts — сколько стоит протестировать эту гипотезу"
   ]
  },
  {
   "cell_type": "code",
   "execution_count": 6,
   "metadata": {},
   "outputs": [
    {
     "data": {
      "text/html": [
       "<div>\n",
       "<style scoped>\n",
       "    .dataframe tbody tr th:only-of-type {\n",
       "        vertical-align: middle;\n",
       "    }\n",
       "\n",
       "    .dataframe tbody tr th {\n",
       "        vertical-align: top;\n",
       "    }\n",
       "\n",
       "    .dataframe thead th {\n",
       "        text-align: right;\n",
       "    }\n",
       "</style>\n",
       "<table border=\"1\" class=\"dataframe\">\n",
       "  <thead>\n",
       "    <tr style=\"text-align: right;\">\n",
       "      <th></th>\n",
       "      <th>hypothesis</th>\n",
       "      <th>reach</th>\n",
       "      <th>impact</th>\n",
       "      <th>confidence</th>\n",
       "      <th>efforts</th>\n",
       "      <th>ICE</th>\n",
       "    </tr>\n",
       "  </thead>\n",
       "  <tbody>\n",
       "    <tr>\n",
       "      <th>8</th>\n",
       "      <td>Запустить акцию, дающую скидку на товар в день рождения</td>\n",
       "      <td>1</td>\n",
       "      <td>9</td>\n",
       "      <td>9</td>\n",
       "      <td>5</td>\n",
       "      <td>16.20</td>\n",
       "    </tr>\n",
       "    <tr>\n",
       "      <th>0</th>\n",
       "      <td>Добавить два новых канала привлечения трафика, что позволит привлекать на 30% больше пользователей</td>\n",
       "      <td>3</td>\n",
       "      <td>10</td>\n",
       "      <td>8</td>\n",
       "      <td>6</td>\n",
       "      <td>13.33</td>\n",
       "    </tr>\n",
       "    <tr>\n",
       "      <th>7</th>\n",
       "      <td>Добавить форму подписки на все основные страницы, чтобы собрать базу клиентов для email-рассылок</td>\n",
       "      <td>10</td>\n",
       "      <td>7</td>\n",
       "      <td>8</td>\n",
       "      <td>5</td>\n",
       "      <td>11.20</td>\n",
       "    </tr>\n",
       "    <tr>\n",
       "      <th>6</th>\n",
       "      <td>Показать на главной странице баннеры с актуальными акциями и распродажами, чтобы увеличить конверсию</td>\n",
       "      <td>5</td>\n",
       "      <td>3</td>\n",
       "      <td>8</td>\n",
       "      <td>3</td>\n",
       "      <td>8.00</td>\n",
       "    </tr>\n",
       "    <tr>\n",
       "      <th>2</th>\n",
       "      <td>Добавить блоки рекомендаций товаров на сайт интернет магазина, чтобы повысить конверсию и средний чек заказа</td>\n",
       "      <td>8</td>\n",
       "      <td>3</td>\n",
       "      <td>7</td>\n",
       "      <td>3</td>\n",
       "      <td>7.00</td>\n",
       "    </tr>\n",
       "    <tr>\n",
       "      <th>1</th>\n",
       "      <td>Запустить собственную службу доставки, что сократит срок доставки заказов</td>\n",
       "      <td>2</td>\n",
       "      <td>5</td>\n",
       "      <td>4</td>\n",
       "      <td>10</td>\n",
       "      <td>2.00</td>\n",
       "    </tr>\n",
       "    <tr>\n",
       "      <th>5</th>\n",
       "      <td>Добавить страницу отзывов клиентов о магазине, что позволит увеличить количество заказов</td>\n",
       "      <td>3</td>\n",
       "      <td>2</td>\n",
       "      <td>2</td>\n",
       "      <td>3</td>\n",
       "      <td>1.33</td>\n",
       "    </tr>\n",
       "    <tr>\n",
       "      <th>3</th>\n",
       "      <td>Изменить структура категорий, что увеличит конверсию, т.к. пользователи быстрее найдут нужный товар</td>\n",
       "      <td>8</td>\n",
       "      <td>3</td>\n",
       "      <td>3</td>\n",
       "      <td>8</td>\n",
       "      <td>1.12</td>\n",
       "    </tr>\n",
       "    <tr>\n",
       "      <th>4</th>\n",
       "      <td>Изменить цвет фона главной страницы, чтобы увеличить вовлеченность пользователей</td>\n",
       "      <td>3</td>\n",
       "      <td>1</td>\n",
       "      <td>1</td>\n",
       "      <td>1</td>\n",
       "      <td>1.00</td>\n",
       "    </tr>\n",
       "  </tbody>\n",
       "</table>\n",
       "</div>"
      ],
      "text/plain": [
       "                                                                                                     hypothesis  \\\n",
       "8                                                       Запустить акцию, дающую скидку на товар в день рождения   \n",
       "0            Добавить два новых канала привлечения трафика, что позволит привлекать на 30% больше пользователей   \n",
       "7              Добавить форму подписки на все основные страницы, чтобы собрать базу клиентов для email-рассылок   \n",
       "6          Показать на главной странице баннеры с актуальными акциями и распродажами, чтобы увеличить конверсию   \n",
       "2  Добавить блоки рекомендаций товаров на сайт интернет магазина, чтобы повысить конверсию и средний чек заказа   \n",
       "1                                     Запустить собственную службу доставки, что сократит срок доставки заказов   \n",
       "5                      Добавить страницу отзывов клиентов о магазине, что позволит увеличить количество заказов   \n",
       "3           Изменить структура категорий, что увеличит конверсию, т.к. пользователи быстрее найдут нужный товар   \n",
       "4                              Изменить цвет фона главной страницы, чтобы увеличить вовлеченность пользователей   \n",
       "\n",
       "   reach  impact  confidence  efforts    ICE  \n",
       "8      1       9           9        5  16.20  \n",
       "0      3      10           8        6  13.33  \n",
       "7     10       7           8        5  11.20  \n",
       "6      5       3           8        3   8.00  \n",
       "2      8       3           7        3   7.00  \n",
       "1      2       5           4       10   2.00  \n",
       "5      3       2           2        3   1.33  \n",
       "3      8       3           3        8   1.12  \n",
       "4      3       1           1        1   1.00  "
      ]
     },
     "execution_count": 6,
     "metadata": {},
     "output_type": "execute_result"
    }
   ],
   "source": [
    "hypo['ICE'] = ((hypo['impact'] * hypo['confidence']) / hypo['efforts']).round(2)\n",
    "hypo.sort_values(by='ICE', ascending=False)"
   ]
  },
  {
   "cell_type": "markdown",
   "metadata": {},
   "source": [
    "На первом месте гипотеза 8 - \"Запустить акцию, дающую скидку на товар в день рождения\". Хорошая гипотеза, посмотрим что покажет метод RICE"
   ]
  },
  {
   "cell_type": "markdown",
   "metadata": {},
   "source": [
    "###  RICE"
   ]
  },
  {
   "cell_type": "markdown",
   "metadata": {},
   "source": [
    "Посчитаем RICE для гипотез"
   ]
  },
  {
   "cell_type": "code",
   "execution_count": 7,
   "metadata": {},
   "outputs": [
    {
     "data": {
      "text/html": [
       "<div>\n",
       "<style scoped>\n",
       "    .dataframe tbody tr th:only-of-type {\n",
       "        vertical-align: middle;\n",
       "    }\n",
       "\n",
       "    .dataframe tbody tr th {\n",
       "        vertical-align: top;\n",
       "    }\n",
       "\n",
       "    .dataframe thead th {\n",
       "        text-align: right;\n",
       "    }\n",
       "</style>\n",
       "<table border=\"1\" class=\"dataframe\">\n",
       "  <thead>\n",
       "    <tr style=\"text-align: right;\">\n",
       "      <th></th>\n",
       "      <th>hypothesis</th>\n",
       "      <th>reach</th>\n",
       "      <th>impact</th>\n",
       "      <th>confidence</th>\n",
       "      <th>efforts</th>\n",
       "      <th>ICE</th>\n",
       "      <th>RICE</th>\n",
       "    </tr>\n",
       "  </thead>\n",
       "  <tbody>\n",
       "    <tr>\n",
       "      <th>7</th>\n",
       "      <td>Добавить форму подписки на все основные страницы, чтобы собрать базу клиентов для email-рассылок</td>\n",
       "      <td>10</td>\n",
       "      <td>7</td>\n",
       "      <td>8</td>\n",
       "      <td>5</td>\n",
       "      <td>11.20</td>\n",
       "      <td>112.0</td>\n",
       "    </tr>\n",
       "    <tr>\n",
       "      <th>2</th>\n",
       "      <td>Добавить блоки рекомендаций товаров на сайт интернет магазина, чтобы повысить конверсию и средний чек заказа</td>\n",
       "      <td>8</td>\n",
       "      <td>3</td>\n",
       "      <td>7</td>\n",
       "      <td>3</td>\n",
       "      <td>7.00</td>\n",
       "      <td>56.0</td>\n",
       "    </tr>\n",
       "    <tr>\n",
       "      <th>0</th>\n",
       "      <td>Добавить два новых канала привлечения трафика, что позволит привлекать на 30% больше пользователей</td>\n",
       "      <td>3</td>\n",
       "      <td>10</td>\n",
       "      <td>8</td>\n",
       "      <td>6</td>\n",
       "      <td>13.33</td>\n",
       "      <td>40.0</td>\n",
       "    </tr>\n",
       "    <tr>\n",
       "      <th>6</th>\n",
       "      <td>Показать на главной странице баннеры с актуальными акциями и распродажами, чтобы увеличить конверсию</td>\n",
       "      <td>5</td>\n",
       "      <td>3</td>\n",
       "      <td>8</td>\n",
       "      <td>3</td>\n",
       "      <td>8.00</td>\n",
       "      <td>40.0</td>\n",
       "    </tr>\n",
       "    <tr>\n",
       "      <th>8</th>\n",
       "      <td>Запустить акцию, дающую скидку на товар в день рождения</td>\n",
       "      <td>1</td>\n",
       "      <td>9</td>\n",
       "      <td>9</td>\n",
       "      <td>5</td>\n",
       "      <td>16.20</td>\n",
       "      <td>16.2</td>\n",
       "    </tr>\n",
       "    <tr>\n",
       "      <th>3</th>\n",
       "      <td>Изменить структура категорий, что увеличит конверсию, т.к. пользователи быстрее найдут нужный товар</td>\n",
       "      <td>8</td>\n",
       "      <td>3</td>\n",
       "      <td>3</td>\n",
       "      <td>8</td>\n",
       "      <td>1.12</td>\n",
       "      <td>9.0</td>\n",
       "    </tr>\n",
       "    <tr>\n",
       "      <th>1</th>\n",
       "      <td>Запустить собственную службу доставки, что сократит срок доставки заказов</td>\n",
       "      <td>2</td>\n",
       "      <td>5</td>\n",
       "      <td>4</td>\n",
       "      <td>10</td>\n",
       "      <td>2.00</td>\n",
       "      <td>4.0</td>\n",
       "    </tr>\n",
       "    <tr>\n",
       "      <th>5</th>\n",
       "      <td>Добавить страницу отзывов клиентов о магазине, что позволит увеличить количество заказов</td>\n",
       "      <td>3</td>\n",
       "      <td>2</td>\n",
       "      <td>2</td>\n",
       "      <td>3</td>\n",
       "      <td>1.33</td>\n",
       "      <td>4.0</td>\n",
       "    </tr>\n",
       "    <tr>\n",
       "      <th>4</th>\n",
       "      <td>Изменить цвет фона главной страницы, чтобы увеличить вовлеченность пользователей</td>\n",
       "      <td>3</td>\n",
       "      <td>1</td>\n",
       "      <td>1</td>\n",
       "      <td>1</td>\n",
       "      <td>1.00</td>\n",
       "      <td>3.0</td>\n",
       "    </tr>\n",
       "  </tbody>\n",
       "</table>\n",
       "</div>"
      ],
      "text/plain": [
       "                                                                                                     hypothesis  \\\n",
       "7              Добавить форму подписки на все основные страницы, чтобы собрать базу клиентов для email-рассылок   \n",
       "2  Добавить блоки рекомендаций товаров на сайт интернет магазина, чтобы повысить конверсию и средний чек заказа   \n",
       "0            Добавить два новых канала привлечения трафика, что позволит привлекать на 30% больше пользователей   \n",
       "6          Показать на главной странице баннеры с актуальными акциями и распродажами, чтобы увеличить конверсию   \n",
       "8                                                       Запустить акцию, дающую скидку на товар в день рождения   \n",
       "3           Изменить структура категорий, что увеличит конверсию, т.к. пользователи быстрее найдут нужный товар   \n",
       "1                                     Запустить собственную службу доставки, что сократит срок доставки заказов   \n",
       "5                      Добавить страницу отзывов клиентов о магазине, что позволит увеличить количество заказов   \n",
       "4                              Изменить цвет фона главной страницы, чтобы увеличить вовлеченность пользователей   \n",
       "\n",
       "   reach  impact  confidence  efforts    ICE   RICE  \n",
       "7     10       7           8        5  11.20  112.0  \n",
       "2      8       3           7        3   7.00   56.0  \n",
       "0      3      10           8        6  13.33   40.0  \n",
       "6      5       3           8        3   8.00   40.0  \n",
       "8      1       9           9        5  16.20   16.2  \n",
       "3      8       3           3        8   1.12    9.0  \n",
       "1      2       5           4       10   2.00    4.0  \n",
       "5      3       2           2        3   1.33    4.0  \n",
       "4      3       1           1        1   1.00    3.0  "
      ]
     },
     "execution_count": 7,
     "metadata": {},
     "output_type": "execute_result"
    }
   ],
   "source": [
    "hypo['RICE'] = ((hypo['reach'] * hypo['impact'] * hypo['confidence']) / hypo['efforts']).round(2)\n",
    "hypo.sort_values(by='RICE', ascending=False)"
   ]
  },
  {
   "cell_type": "markdown",
   "metadata": {},
   "source": [
    "## Вывод по приоритету гипотез"
   ]
  },
  {
   "cell_type": "markdown",
   "metadata": {},
   "source": [
    "По методу RICE на первое место выходит гипотеза номер 7 - \"Добавить форму подписки на все основные страницы, чтобы собрать базу клиентов для email-рассылок\". Гипотеза выходит вперед за счет высшего балла - 10 - за параметр Reach (охват).  \n",
    "\n",
    "На второе место выходит гипотеза номер 2 \"Добавить блоки рекомендаций товаров на сайт интернет магазина, чтобы повысить конверсию и средний чек заказа\". Причина также в параметре Reach. \n",
    "\n",
    "Гипотеза номер 0 опускается со второго на третье место по методе RICE.\n",
    "\n",
    "В первую пятерку по двум методам входят одни и те же гипотезы: 7, 2, 0, 6, 8, меняется только место, за счет влияния Reach. Приоритет этого параметра важен, указывая на охват - \"Как много клиентов это затронет\"."
   ]
  },
  {
   "cell_type": "markdown",
   "metadata": {},
   "source": [
    "## Часть 2 А/В тест"
   ]
  },
  {
   "cell_type": "markdown",
   "metadata": {},
   "source": [
    "### Вывод данных для А/В теста и его анализ"
   ]
  },
  {
   "cell_type": "markdown",
   "metadata": {},
   "source": [
    "У нас есть две файла, результаты А/В теста, orders и visitors"
   ]
  },
  {
   "cell_type": "code",
   "execution_count": 8,
   "metadata": {},
   "outputs": [
    {
     "data": {
      "text/html": [
       "<div>\n",
       "<style scoped>\n",
       "    .dataframe tbody tr th:only-of-type {\n",
       "        vertical-align: middle;\n",
       "    }\n",
       "\n",
       "    .dataframe tbody tr th {\n",
       "        vertical-align: top;\n",
       "    }\n",
       "\n",
       "    .dataframe thead th {\n",
       "        text-align: right;\n",
       "    }\n",
       "</style>\n",
       "<table border=\"1\" class=\"dataframe\">\n",
       "  <thead>\n",
       "    <tr style=\"text-align: right;\">\n",
       "      <th></th>\n",
       "      <th>transactionId</th>\n",
       "      <th>visitorId</th>\n",
       "      <th>date</th>\n",
       "      <th>revenue</th>\n",
       "      <th>group</th>\n",
       "    </tr>\n",
       "  </thead>\n",
       "  <tbody>\n",
       "    <tr>\n",
       "      <th>0</th>\n",
       "      <td>3667963787</td>\n",
       "      <td>3312258926</td>\n",
       "      <td>2019-08-15</td>\n",
       "      <td>1650</td>\n",
       "      <td>B</td>\n",
       "    </tr>\n",
       "    <tr>\n",
       "      <th>1</th>\n",
       "      <td>2804400009</td>\n",
       "      <td>3642806036</td>\n",
       "      <td>2019-08-15</td>\n",
       "      <td>730</td>\n",
       "      <td>B</td>\n",
       "    </tr>\n",
       "    <tr>\n",
       "      <th>2</th>\n",
       "      <td>2961555356</td>\n",
       "      <td>4069496402</td>\n",
       "      <td>2019-08-15</td>\n",
       "      <td>400</td>\n",
       "      <td>A</td>\n",
       "    </tr>\n",
       "    <tr>\n",
       "      <th>3</th>\n",
       "      <td>3797467345</td>\n",
       "      <td>1196621759</td>\n",
       "      <td>2019-08-15</td>\n",
       "      <td>9759</td>\n",
       "      <td>B</td>\n",
       "    </tr>\n",
       "    <tr>\n",
       "      <th>4</th>\n",
       "      <td>2282983706</td>\n",
       "      <td>2322279887</td>\n",
       "      <td>2019-08-15</td>\n",
       "      <td>2308</td>\n",
       "      <td>B</td>\n",
       "    </tr>\n",
       "    <tr>\n",
       "      <th>...</th>\n",
       "      <td>...</td>\n",
       "      <td>...</td>\n",
       "      <td>...</td>\n",
       "      <td>...</td>\n",
       "      <td>...</td>\n",
       "    </tr>\n",
       "    <tr>\n",
       "      <th>1192</th>\n",
       "      <td>2662137336</td>\n",
       "      <td>3733762160</td>\n",
       "      <td>2019-08-14</td>\n",
       "      <td>6490</td>\n",
       "      <td>B</td>\n",
       "    </tr>\n",
       "    <tr>\n",
       "      <th>1193</th>\n",
       "      <td>2203539145</td>\n",
       "      <td>370388673</td>\n",
       "      <td>2019-08-14</td>\n",
       "      <td>3190</td>\n",
       "      <td>A</td>\n",
       "    </tr>\n",
       "    <tr>\n",
       "      <th>1194</th>\n",
       "      <td>1807773912</td>\n",
       "      <td>573423106</td>\n",
       "      <td>2019-08-14</td>\n",
       "      <td>10550</td>\n",
       "      <td>A</td>\n",
       "    </tr>\n",
       "    <tr>\n",
       "      <th>1195</th>\n",
       "      <td>1947021204</td>\n",
       "      <td>1614305549</td>\n",
       "      <td>2019-08-14</td>\n",
       "      <td>100</td>\n",
       "      <td>A</td>\n",
       "    </tr>\n",
       "    <tr>\n",
       "      <th>1196</th>\n",
       "      <td>3936777065</td>\n",
       "      <td>2108080724</td>\n",
       "      <td>2019-08-15</td>\n",
       "      <td>202740</td>\n",
       "      <td>B</td>\n",
       "    </tr>\n",
       "  </tbody>\n",
       "</table>\n",
       "<p>1197 rows × 5 columns</p>\n",
       "</div>"
      ],
      "text/plain": [
       "      transactionId   visitorId        date  revenue group\n",
       "0        3667963787  3312258926  2019-08-15     1650     B\n",
       "1        2804400009  3642806036  2019-08-15      730     B\n",
       "2        2961555356  4069496402  2019-08-15      400     A\n",
       "3        3797467345  1196621759  2019-08-15     9759     B\n",
       "4        2282983706  2322279887  2019-08-15     2308     B\n",
       "...             ...         ...         ...      ...   ...\n",
       "1192     2662137336  3733762160  2019-08-14     6490     B\n",
       "1193     2203539145   370388673  2019-08-14     3190     A\n",
       "1194     1807773912   573423106  2019-08-14    10550     A\n",
       "1195     1947021204  1614305549  2019-08-14      100     A\n",
       "1196     3936777065  2108080724  2019-08-15   202740     B\n",
       "\n",
       "[1197 rows x 5 columns]"
      ]
     },
     "execution_count": 8,
     "metadata": {},
     "output_type": "execute_result"
    }
   ],
   "source": [
    "orders"
   ]
  },
  {
   "cell_type": "code",
   "execution_count": 9,
   "metadata": {},
   "outputs": [
    {
     "name": "stdout",
     "output_type": "stream",
     "text": [
      "<class 'pandas.core.frame.DataFrame'>\n",
      "RangeIndex: 1197 entries, 0 to 1196\n",
      "Data columns (total 5 columns):\n",
      " #   Column         Non-Null Count  Dtype \n",
      "---  ------         --------------  ----- \n",
      " 0   transactionId  1197 non-null   int64 \n",
      " 1   visitorId      1197 non-null   int64 \n",
      " 2   date           1197 non-null   object\n",
      " 3   revenue        1197 non-null   int64 \n",
      " 4   group          1197 non-null   object\n",
      "dtypes: int64(3), object(2)\n",
      "memory usage: 46.9+ KB\n"
     ]
    }
   ],
   "source": [
    "orders.info()"
   ]
  },
  {
   "cell_type": "markdown",
   "metadata": {},
   "source": [
    "Пропусков нет.\n",
    "\n",
    "Информация по файлу\n",
    "- transactionId — идентификатор заказа;\n",
    "- visitorId — идентификатор пользователя, совершившего заказ;\n",
    "- date — дата, когда был совершён заказ;-\n",
    "- revenue — выручка заказа;\n",
    "- group — группа A/B-теста, в которую попал заказ."
   ]
  },
  {
   "cell_type": "code",
   "execution_count": 10,
   "metadata": {},
   "outputs": [
    {
     "data": {
      "text/html": [
       "<div>\n",
       "<style scoped>\n",
       "    .dataframe tbody tr th:only-of-type {\n",
       "        vertical-align: middle;\n",
       "    }\n",
       "\n",
       "    .dataframe tbody tr th {\n",
       "        vertical-align: top;\n",
       "    }\n",
       "\n",
       "    .dataframe thead th {\n",
       "        text-align: right;\n",
       "    }\n",
       "</style>\n",
       "<table border=\"1\" class=\"dataframe\">\n",
       "  <thead>\n",
       "    <tr style=\"text-align: right;\">\n",
       "      <th></th>\n",
       "      <th>date</th>\n",
       "      <th>group</th>\n",
       "      <th>visitors</th>\n",
       "    </tr>\n",
       "  </thead>\n",
       "  <tbody>\n",
       "    <tr>\n",
       "      <th>0</th>\n",
       "      <td>2019-08-01</td>\n",
       "      <td>A</td>\n",
       "      <td>719</td>\n",
       "    </tr>\n",
       "    <tr>\n",
       "      <th>1</th>\n",
       "      <td>2019-08-02</td>\n",
       "      <td>A</td>\n",
       "      <td>619</td>\n",
       "    </tr>\n",
       "    <tr>\n",
       "      <th>2</th>\n",
       "      <td>2019-08-03</td>\n",
       "      <td>A</td>\n",
       "      <td>507</td>\n",
       "    </tr>\n",
       "    <tr>\n",
       "      <th>3</th>\n",
       "      <td>2019-08-04</td>\n",
       "      <td>A</td>\n",
       "      <td>717</td>\n",
       "    </tr>\n",
       "    <tr>\n",
       "      <th>4</th>\n",
       "      <td>2019-08-05</td>\n",
       "      <td>A</td>\n",
       "      <td>756</td>\n",
       "    </tr>\n",
       "    <tr>\n",
       "      <th>...</th>\n",
       "      <td>...</td>\n",
       "      <td>...</td>\n",
       "      <td>...</td>\n",
       "    </tr>\n",
       "    <tr>\n",
       "      <th>57</th>\n",
       "      <td>2019-08-27</td>\n",
       "      <td>B</td>\n",
       "      <td>720</td>\n",
       "    </tr>\n",
       "    <tr>\n",
       "      <th>58</th>\n",
       "      <td>2019-08-28</td>\n",
       "      <td>B</td>\n",
       "      <td>654</td>\n",
       "    </tr>\n",
       "    <tr>\n",
       "      <th>59</th>\n",
       "      <td>2019-08-29</td>\n",
       "      <td>B</td>\n",
       "      <td>531</td>\n",
       "    </tr>\n",
       "    <tr>\n",
       "      <th>60</th>\n",
       "      <td>2019-08-30</td>\n",
       "      <td>B</td>\n",
       "      <td>490</td>\n",
       "    </tr>\n",
       "    <tr>\n",
       "      <th>61</th>\n",
       "      <td>2019-08-31</td>\n",
       "      <td>B</td>\n",
       "      <td>718</td>\n",
       "    </tr>\n",
       "  </tbody>\n",
       "</table>\n",
       "<p>62 rows × 3 columns</p>\n",
       "</div>"
      ],
      "text/plain": [
       "          date group  visitors\n",
       "0   2019-08-01     A       719\n",
       "1   2019-08-02     A       619\n",
       "2   2019-08-03     A       507\n",
       "3   2019-08-04     A       717\n",
       "4   2019-08-05     A       756\n",
       "..         ...   ...       ...\n",
       "57  2019-08-27     B       720\n",
       "58  2019-08-28     B       654\n",
       "59  2019-08-29     B       531\n",
       "60  2019-08-30     B       490\n",
       "61  2019-08-31     B       718\n",
       "\n",
       "[62 rows x 3 columns]"
      ]
     },
     "execution_count": 10,
     "metadata": {},
     "output_type": "execute_result"
    }
   ],
   "source": [
    "visitors"
   ]
  },
  {
   "cell_type": "code",
   "execution_count": 11,
   "metadata": {},
   "outputs": [
    {
     "name": "stdout",
     "output_type": "stream",
     "text": [
      "<class 'pandas.core.frame.DataFrame'>\n",
      "RangeIndex: 62 entries, 0 to 61\n",
      "Data columns (total 3 columns):\n",
      " #   Column    Non-Null Count  Dtype \n",
      "---  ------    --------------  ----- \n",
      " 0   date      62 non-null     object\n",
      " 1   group     62 non-null     object\n",
      " 2   visitors  62 non-null     int64 \n",
      "dtypes: int64(1), object(2)\n",
      "memory usage: 1.6+ KB\n"
     ]
    }
   ],
   "source": [
    "visitors.info()"
   ]
  },
  {
   "cell_type": "markdown",
   "metadata": {},
   "source": [
    "Колонки файла visitors\n",
    "- date — дата;\n",
    "- group — группа A/B-теста;\n",
    "- visitors — количество пользователей в указанную дату в указанной группе A/B-теста"
   ]
  },
  {
   "cell_type": "code",
   "execution_count": 12,
   "metadata": {},
   "outputs": [
    {
     "data": {
      "text/plain": [
       "0"
      ]
     },
     "execution_count": 12,
     "metadata": {},
     "output_type": "execute_result"
    }
   ],
   "source": [
    "orders.duplicated().sum() # проверка на дубликаты orders"
   ]
  },
  {
   "cell_type": "code",
   "execution_count": 13,
   "metadata": {},
   "outputs": [
    {
     "data": {
      "text/plain": [
       "0"
      ]
     },
     "execution_count": 13,
     "metadata": {},
     "output_type": "execute_result"
    }
   ],
   "source": [
    "visitors.duplicated().sum() # проверка на дубликаты visitors"
   ]
  },
  {
   "cell_type": "code",
   "execution_count": 14,
   "metadata": {},
   "outputs": [
    {
     "data": {
      "text/plain": [
       "B    640\n",
       "A    557\n",
       "Name: group, dtype: int64"
      ]
     },
     "execution_count": 14,
     "metadata": {},
     "output_type": "execute_result"
    }
   ],
   "source": [
    "orders['group'].value_counts()"
   ]
  },
  {
   "cell_type": "markdown",
   "metadata": {},
   "source": [
    "В группе В пользователей больше, на 15 %"
   ]
  },
  {
   "cell_type": "code",
   "execution_count": 15,
   "metadata": {},
   "outputs": [
    {
     "data": {
      "text/plain": [
       "B    31\n",
       "A    31\n",
       "Name: group, dtype: int64"
      ]
     },
     "execution_count": 15,
     "metadata": {},
     "output_type": "execute_result"
    }
   ],
   "source": [
    "visitors['group'].value_counts()"
   ]
  },
  {
   "cell_type": "code",
   "execution_count": 16,
   "metadata": {},
   "outputs": [
    {
     "data": {
      "text/html": [
       "<div>\n",
       "<style scoped>\n",
       "    .dataframe tbody tr th:only-of-type {\n",
       "        vertical-align: middle;\n",
       "    }\n",
       "\n",
       "    .dataframe tbody tr th {\n",
       "        vertical-align: top;\n",
       "    }\n",
       "\n",
       "    .dataframe thead th {\n",
       "        text-align: right;\n",
       "    }\n",
       "</style>\n",
       "<table border=\"1\" class=\"dataframe\">\n",
       "  <thead>\n",
       "    <tr style=\"text-align: right;\">\n",
       "      <th></th>\n",
       "      <th>group</th>\n",
       "    </tr>\n",
       "    <tr>\n",
       "      <th>visitorId</th>\n",
       "      <th></th>\n",
       "    </tr>\n",
       "  </thead>\n",
       "  <tbody>\n",
       "    <tr>\n",
       "      <th>2654030115</th>\n",
       "      <td>2</td>\n",
       "    </tr>\n",
       "    <tr>\n",
       "      <th>3891541246</th>\n",
       "      <td>2</td>\n",
       "    </tr>\n",
       "    <tr>\n",
       "      <th>3941795274</th>\n",
       "      <td>2</td>\n",
       "    </tr>\n",
       "    <tr>\n",
       "      <th>1404934699</th>\n",
       "      <td>2</td>\n",
       "    </tr>\n",
       "    <tr>\n",
       "      <th>351125977</th>\n",
       "      <td>2</td>\n",
       "    </tr>\n",
       "    <tr>\n",
       "      <th>...</th>\n",
       "      <td>...</td>\n",
       "    </tr>\n",
       "    <tr>\n",
       "      <th>1476256851</th>\n",
       "      <td>1</td>\n",
       "    </tr>\n",
       "    <tr>\n",
       "      <th>1476741193</th>\n",
       "      <td>1</td>\n",
       "    </tr>\n",
       "    <tr>\n",
       "      <th>1484903144</th>\n",
       "      <td>1</td>\n",
       "    </tr>\n",
       "    <tr>\n",
       "      <th>1485964287</th>\n",
       "      <td>1</td>\n",
       "    </tr>\n",
       "    <tr>\n",
       "      <th>4283872382</th>\n",
       "      <td>1</td>\n",
       "    </tr>\n",
       "  </tbody>\n",
       "</table>\n",
       "<p>1031 rows × 1 columns</p>\n",
       "</div>"
      ],
      "text/plain": [
       "            group\n",
       "visitorId        \n",
       "2654030115      2\n",
       "3891541246      2\n",
       "3941795274      2\n",
       "1404934699      2\n",
       "351125977       2\n",
       "...           ...\n",
       "1476256851      1\n",
       "1476741193      1\n",
       "1484903144      1\n",
       "1485964287      1\n",
       "4283872382      1\n",
       "\n",
       "[1031 rows x 1 columns]"
      ]
     },
     "execution_count": 16,
     "metadata": {},
     "output_type": "execute_result"
    }
   ],
   "source": [
    "double_group = orders.groupby('visitorId').agg({'group': 'nunique'}).sort_values('group',ascending=False)\n",
    "double_group"
   ]
  },
  {
   "cell_type": "code",
   "execution_count": 17,
   "metadata": {},
   "outputs": [
    {
     "data": {
      "text/plain": [
       "group\n",
       "1        973\n",
       "2         58\n",
       "dtype: int64"
      ]
     },
     "execution_count": 17,
     "metadata": {},
     "output_type": "execute_result"
    }
   ],
   "source": [
    "double_group.value_counts() \n",
    "# 58 задвоенных пользователей, попадающих в обе группы, их доля не велика, менее 5%, можно принебречь"
   ]
  },
  {
   "cell_type": "markdown",
   "metadata": {},
   "source": [
    "### Подготовка данных"
   ]
  },
  {
   "cell_type": "code",
   "execution_count": 18,
   "metadata": {},
   "outputs": [],
   "source": [
    "orders['date'] = orders['date'].map(lambda x: dt.datetime.strptime(x, '%Y-%m-%d'))\n",
    "visitors['date'] = visitors['date'].map(lambda x: dt.datetime.strptime(x, '%Y-%m-%d'))\n",
    "# приведем даты к нужному виду данных используя функцию map"
   ]
  },
  {
   "cell_type": "code",
   "execution_count": 19,
   "metadata": {},
   "outputs": [
    {
     "data": {
      "text/html": [
       "<div>\n",
       "<style scoped>\n",
       "    .dataframe tbody tr th:only-of-type {\n",
       "        vertical-align: middle;\n",
       "    }\n",
       "\n",
       "    .dataframe tbody tr th {\n",
       "        vertical-align: top;\n",
       "    }\n",
       "\n",
       "    .dataframe thead th {\n",
       "        text-align: right;\n",
       "    }\n",
       "</style>\n",
       "<table border=\"1\" class=\"dataframe\">\n",
       "  <thead>\n",
       "    <tr style=\"text-align: right;\">\n",
       "      <th></th>\n",
       "      <th>date</th>\n",
       "      <th>group</th>\n",
       "    </tr>\n",
       "  </thead>\n",
       "  <tbody>\n",
       "    <tr>\n",
       "      <th>0</th>\n",
       "      <td>2019-08-15</td>\n",
       "      <td>B</td>\n",
       "    </tr>\n",
       "    <tr>\n",
       "      <th>2</th>\n",
       "      <td>2019-08-15</td>\n",
       "      <td>A</td>\n",
       "    </tr>\n",
       "    <tr>\n",
       "      <th>45</th>\n",
       "      <td>2019-08-16</td>\n",
       "      <td>A</td>\n",
       "    </tr>\n",
       "    <tr>\n",
       "      <th>47</th>\n",
       "      <td>2019-08-16</td>\n",
       "      <td>B</td>\n",
       "    </tr>\n",
       "    <tr>\n",
       "      <th>55</th>\n",
       "      <td>2019-08-01</td>\n",
       "      <td>A</td>\n",
       "    </tr>\n",
       "    <tr>\n",
       "      <th>...</th>\n",
       "      <td>...</td>\n",
       "      <td>...</td>\n",
       "    </tr>\n",
       "    <tr>\n",
       "      <th>1068</th>\n",
       "      <td>2019-08-12</td>\n",
       "      <td>A</td>\n",
       "    </tr>\n",
       "    <tr>\n",
       "      <th>1114</th>\n",
       "      <td>2019-08-13</td>\n",
       "      <td>B</td>\n",
       "    </tr>\n",
       "    <tr>\n",
       "      <th>1116</th>\n",
       "      <td>2019-08-13</td>\n",
       "      <td>A</td>\n",
       "    </tr>\n",
       "    <tr>\n",
       "      <th>1149</th>\n",
       "      <td>2019-08-14</td>\n",
       "      <td>B</td>\n",
       "    </tr>\n",
       "    <tr>\n",
       "      <th>1150</th>\n",
       "      <td>2019-08-14</td>\n",
       "      <td>A</td>\n",
       "    </tr>\n",
       "  </tbody>\n",
       "</table>\n",
       "<p>62 rows × 2 columns</p>\n",
       "</div>"
      ],
      "text/plain": [
       "           date group\n",
       "0    2019-08-15     B\n",
       "2    2019-08-15     A\n",
       "45   2019-08-16     A\n",
       "47   2019-08-16     B\n",
       "55   2019-08-01     A\n",
       "...         ...   ...\n",
       "1068 2019-08-12     A\n",
       "1114 2019-08-13     B\n",
       "1116 2019-08-13     A\n",
       "1149 2019-08-14     B\n",
       "1150 2019-08-14     A\n",
       "\n",
       "[62 rows x 2 columns]"
      ]
     },
     "execution_count": 19,
     "metadata": {},
     "output_type": "execute_result"
    }
   ],
   "source": [
    "datesGroups = orders[['date','group']].drop_duplicates() # сгруппироруем orders по 'date' и 'group', дубли удалим\n",
    "datesGroups"
   ]
  },
  {
   "cell_type": "code",
   "execution_count": 20,
   "metadata": {},
   "outputs": [
    {
     "data": {
      "text/html": [
       "<div>\n",
       "<style scoped>\n",
       "    .dataframe tbody tr th:only-of-type {\n",
       "        vertical-align: middle;\n",
       "    }\n",
       "\n",
       "    .dataframe tbody tr th {\n",
       "        vertical-align: top;\n",
       "    }\n",
       "\n",
       "    .dataframe thead th {\n",
       "        text-align: right;\n",
       "    }\n",
       "</style>\n",
       "<table border=\"1\" class=\"dataframe\">\n",
       "  <thead>\n",
       "    <tr style=\"text-align: right;\">\n",
       "      <th></th>\n",
       "      <th>date</th>\n",
       "      <th>group</th>\n",
       "      <th>transactionId</th>\n",
       "      <th>visitorId</th>\n",
       "      <th>revenue</th>\n",
       "    </tr>\n",
       "  </thead>\n",
       "  <tbody>\n",
       "    <tr>\n",
       "      <th>55</th>\n",
       "      <td>2019-08-01</td>\n",
       "      <td>A</td>\n",
       "      <td>24</td>\n",
       "      <td>20</td>\n",
       "      <td>148579</td>\n",
       "    </tr>\n",
       "    <tr>\n",
       "      <th>66</th>\n",
       "      <td>2019-08-01</td>\n",
       "      <td>B</td>\n",
       "      <td>21</td>\n",
       "      <td>20</td>\n",
       "      <td>101217</td>\n",
       "    </tr>\n",
       "    <tr>\n",
       "      <th>175</th>\n",
       "      <td>2019-08-02</td>\n",
       "      <td>A</td>\n",
       "      <td>44</td>\n",
       "      <td>38</td>\n",
       "      <td>242401</td>\n",
       "    </tr>\n",
       "    <tr>\n",
       "      <th>173</th>\n",
       "      <td>2019-08-02</td>\n",
       "      <td>B</td>\n",
       "      <td>45</td>\n",
       "      <td>43</td>\n",
       "      <td>266748</td>\n",
       "    </tr>\n",
       "    <tr>\n",
       "      <th>291</th>\n",
       "      <td>2019-08-03</td>\n",
       "      <td>A</td>\n",
       "      <td>68</td>\n",
       "      <td>62</td>\n",
       "      <td>354874</td>\n",
       "    </tr>\n",
       "    <tr>\n",
       "      <th>...</th>\n",
       "      <td>...</td>\n",
       "      <td>...</td>\n",
       "      <td>...</td>\n",
       "      <td>...</td>\n",
       "      <td>...</td>\n",
       "    </tr>\n",
       "    <tr>\n",
       "      <th>496</th>\n",
       "      <td>2019-08-29</td>\n",
       "      <td>B</td>\n",
       "      <td>596</td>\n",
       "      <td>544</td>\n",
       "      <td>5559398</td>\n",
       "    </tr>\n",
       "    <tr>\n",
       "      <th>730</th>\n",
       "      <td>2019-08-30</td>\n",
       "      <td>A</td>\n",
       "      <td>545</td>\n",
       "      <td>493</td>\n",
       "      <td>4022970</td>\n",
       "    </tr>\n",
       "    <tr>\n",
       "      <th>690</th>\n",
       "      <td>2019-08-30</td>\n",
       "      <td>B</td>\n",
       "      <td>620</td>\n",
       "      <td>567</td>\n",
       "      <td>5774631</td>\n",
       "    </tr>\n",
       "    <tr>\n",
       "      <th>958</th>\n",
       "      <td>2019-08-31</td>\n",
       "      <td>A</td>\n",
       "      <td>557</td>\n",
       "      <td>503</td>\n",
       "      <td>4084803</td>\n",
       "    </tr>\n",
       "    <tr>\n",
       "      <th>930</th>\n",
       "      <td>2019-08-31</td>\n",
       "      <td>B</td>\n",
       "      <td>640</td>\n",
       "      <td>586</td>\n",
       "      <td>5907760</td>\n",
       "    </tr>\n",
       "  </tbody>\n",
       "</table>\n",
       "<p>62 rows × 5 columns</p>\n",
       "</div>"
      ],
      "text/plain": [
       "          date group  transactionId  visitorId  revenue\n",
       "55  2019-08-01     A             24         20   148579\n",
       "66  2019-08-01     B             21         20   101217\n",
       "175 2019-08-02     A             44         38   242401\n",
       "173 2019-08-02     B             45         43   266748\n",
       "291 2019-08-03     A             68         62   354874\n",
       "..         ...   ...            ...        ...      ...\n",
       "496 2019-08-29     B            596        544  5559398\n",
       "730 2019-08-30     A            545        493  4022970\n",
       "690 2019-08-30     B            620        567  5774631\n",
       "958 2019-08-31     A            557        503  4084803\n",
       "930 2019-08-31     B            640        586  5907760\n",
       "\n",
       "[62 rows x 5 columns]"
      ]
     },
     "execution_count": 20,
     "metadata": {},
     "output_type": "execute_result"
    }
   ],
   "source": [
    "# объявим переменную ordersAggregated\n",
    "ordersAggregated = datesGroups.apply(    \n",
    "    lambda x: orders[\n",
    "        np.logical_and(\n",
    "            orders['date'] <= x['date'], orders['group'] == x['group']\n",
    "        )\n",
    "    ].agg(\n",
    "        {'date' : 'max',\n",
    "         'group' : 'max',\n",
    "         'transactionId' : 'nunique',\n",
    "         'visitorId' : 'nunique',\n",
    "         'revenue' : 'sum'}), axis=1).sort_values(by=['date','group'])\n",
    "ordersAggregated"
   ]
  },
  {
   "cell_type": "code",
   "execution_count": 21,
   "metadata": {},
   "outputs": [
    {
     "data": {
      "text/html": [
       "<div>\n",
       "<style scoped>\n",
       "    .dataframe tbody tr th:only-of-type {\n",
       "        vertical-align: middle;\n",
       "    }\n",
       "\n",
       "    .dataframe tbody tr th {\n",
       "        vertical-align: top;\n",
       "    }\n",
       "\n",
       "    .dataframe thead th {\n",
       "        text-align: right;\n",
       "    }\n",
       "</style>\n",
       "<table border=\"1\" class=\"dataframe\">\n",
       "  <thead>\n",
       "    <tr style=\"text-align: right;\">\n",
       "      <th></th>\n",
       "      <th>date</th>\n",
       "      <th>group</th>\n",
       "      <th>visitors</th>\n",
       "    </tr>\n",
       "  </thead>\n",
       "  <tbody>\n",
       "    <tr>\n",
       "      <th>55</th>\n",
       "      <td>2019-08-01</td>\n",
       "      <td>A</td>\n",
       "      <td>719</td>\n",
       "    </tr>\n",
       "    <tr>\n",
       "      <th>66</th>\n",
       "      <td>2019-08-01</td>\n",
       "      <td>B</td>\n",
       "      <td>713</td>\n",
       "    </tr>\n",
       "    <tr>\n",
       "      <th>175</th>\n",
       "      <td>2019-08-02</td>\n",
       "      <td>A</td>\n",
       "      <td>1338</td>\n",
       "    </tr>\n",
       "    <tr>\n",
       "      <th>173</th>\n",
       "      <td>2019-08-02</td>\n",
       "      <td>B</td>\n",
       "      <td>1294</td>\n",
       "    </tr>\n",
       "    <tr>\n",
       "      <th>291</th>\n",
       "      <td>2019-08-03</td>\n",
       "      <td>A</td>\n",
       "      <td>1845</td>\n",
       "    </tr>\n",
       "    <tr>\n",
       "      <th>...</th>\n",
       "      <td>...</td>\n",
       "      <td>...</td>\n",
       "      <td>...</td>\n",
       "    </tr>\n",
       "    <tr>\n",
       "      <th>496</th>\n",
       "      <td>2019-08-29</td>\n",
       "      <td>B</td>\n",
       "      <td>17708</td>\n",
       "    </tr>\n",
       "    <tr>\n",
       "      <th>730</th>\n",
       "      <td>2019-08-30</td>\n",
       "      <td>A</td>\n",
       "      <td>18037</td>\n",
       "    </tr>\n",
       "    <tr>\n",
       "      <th>690</th>\n",
       "      <td>2019-08-30</td>\n",
       "      <td>B</td>\n",
       "      <td>18198</td>\n",
       "    </tr>\n",
       "    <tr>\n",
       "      <th>958</th>\n",
       "      <td>2019-08-31</td>\n",
       "      <td>A</td>\n",
       "      <td>18736</td>\n",
       "    </tr>\n",
       "    <tr>\n",
       "      <th>930</th>\n",
       "      <td>2019-08-31</td>\n",
       "      <td>B</td>\n",
       "      <td>18916</td>\n",
       "    </tr>\n",
       "  </tbody>\n",
       "</table>\n",
       "<p>62 rows × 3 columns</p>\n",
       "</div>"
      ],
      "text/plain": [
       "          date group  visitors\n",
       "55  2019-08-01     A       719\n",
       "66  2019-08-01     B       713\n",
       "175 2019-08-02     A      1338\n",
       "173 2019-08-02     B      1294\n",
       "291 2019-08-03     A      1845\n",
       "..         ...   ...       ...\n",
       "496 2019-08-29     B     17708\n",
       "730 2019-08-30     A     18037\n",
       "690 2019-08-30     B     18198\n",
       "958 2019-08-31     A     18736\n",
       "930 2019-08-31     B     18916\n",
       "\n",
       "[62 rows x 3 columns]"
      ]
     },
     "execution_count": 21,
     "metadata": {},
     "output_type": "execute_result"
    }
   ],
   "source": [
    "# Объявим переменную visitorsAggregated\n",
    "visitorsAggregated = datesGroups.apply(\n",
    "    lambda x: visitors[\n",
    "        np.logical_and(\n",
    "            visitors['date'] <= x['date'], visitors['group'] == x['group']\n",
    "        )\n",
    "    ].agg(\n",
    "        {'date' : 'max',\n",
    "         'group' : 'max',\n",
    "         'visitors' : 'sum'}), axis=1).sort_values(by=['date','group'])\n",
    "visitorsAggregated"
   ]
  },
  {
   "cell_type": "code",
   "execution_count": 22,
   "metadata": {},
   "outputs": [
    {
     "data": {
      "text/html": [
       "<div>\n",
       "<style scoped>\n",
       "    .dataframe tbody tr th:only-of-type {\n",
       "        vertical-align: middle;\n",
       "    }\n",
       "\n",
       "    .dataframe tbody tr th {\n",
       "        vertical-align: top;\n",
       "    }\n",
       "\n",
       "    .dataframe thead th {\n",
       "        text-align: right;\n",
       "    }\n",
       "</style>\n",
       "<table border=\"1\" class=\"dataframe\">\n",
       "  <thead>\n",
       "    <tr style=\"text-align: right;\">\n",
       "      <th></th>\n",
       "      <th>date</th>\n",
       "      <th>group</th>\n",
       "      <th>orders</th>\n",
       "      <th>buyers</th>\n",
       "      <th>revenue</th>\n",
       "      <th>visitors</th>\n",
       "    </tr>\n",
       "  </thead>\n",
       "  <tbody>\n",
       "    <tr>\n",
       "      <th>0</th>\n",
       "      <td>2019-08-01</td>\n",
       "      <td>A</td>\n",
       "      <td>24</td>\n",
       "      <td>20</td>\n",
       "      <td>148579</td>\n",
       "      <td>719</td>\n",
       "    </tr>\n",
       "    <tr>\n",
       "      <th>1</th>\n",
       "      <td>2019-08-01</td>\n",
       "      <td>B</td>\n",
       "      <td>21</td>\n",
       "      <td>20</td>\n",
       "      <td>101217</td>\n",
       "      <td>713</td>\n",
       "    </tr>\n",
       "    <tr>\n",
       "      <th>2</th>\n",
       "      <td>2019-08-02</td>\n",
       "      <td>A</td>\n",
       "      <td>44</td>\n",
       "      <td>38</td>\n",
       "      <td>242401</td>\n",
       "      <td>1338</td>\n",
       "    </tr>\n",
       "    <tr>\n",
       "      <th>3</th>\n",
       "      <td>2019-08-02</td>\n",
       "      <td>B</td>\n",
       "      <td>45</td>\n",
       "      <td>43</td>\n",
       "      <td>266748</td>\n",
       "      <td>1294</td>\n",
       "    </tr>\n",
       "    <tr>\n",
       "      <th>4</th>\n",
       "      <td>2019-08-03</td>\n",
       "      <td>A</td>\n",
       "      <td>68</td>\n",
       "      <td>62</td>\n",
       "      <td>354874</td>\n",
       "      <td>1845</td>\n",
       "    </tr>\n",
       "    <tr>\n",
       "      <th>...</th>\n",
       "      <td>...</td>\n",
       "      <td>...</td>\n",
       "      <td>...</td>\n",
       "      <td>...</td>\n",
       "      <td>...</td>\n",
       "      <td>...</td>\n",
       "    </tr>\n",
       "    <tr>\n",
       "      <th>57</th>\n",
       "      <td>2019-08-29</td>\n",
       "      <td>B</td>\n",
       "      <td>596</td>\n",
       "      <td>544</td>\n",
       "      <td>5559398</td>\n",
       "      <td>17708</td>\n",
       "    </tr>\n",
       "    <tr>\n",
       "      <th>58</th>\n",
       "      <td>2019-08-30</td>\n",
       "      <td>A</td>\n",
       "      <td>545</td>\n",
       "      <td>493</td>\n",
       "      <td>4022970</td>\n",
       "      <td>18037</td>\n",
       "    </tr>\n",
       "    <tr>\n",
       "      <th>59</th>\n",
       "      <td>2019-08-30</td>\n",
       "      <td>B</td>\n",
       "      <td>620</td>\n",
       "      <td>567</td>\n",
       "      <td>5774631</td>\n",
       "      <td>18198</td>\n",
       "    </tr>\n",
       "    <tr>\n",
       "      <th>60</th>\n",
       "      <td>2019-08-31</td>\n",
       "      <td>A</td>\n",
       "      <td>557</td>\n",
       "      <td>503</td>\n",
       "      <td>4084803</td>\n",
       "      <td>18736</td>\n",
       "    </tr>\n",
       "    <tr>\n",
       "      <th>61</th>\n",
       "      <td>2019-08-31</td>\n",
       "      <td>B</td>\n",
       "      <td>640</td>\n",
       "      <td>586</td>\n",
       "      <td>5907760</td>\n",
       "      <td>18916</td>\n",
       "    </tr>\n",
       "  </tbody>\n",
       "</table>\n",
       "<p>62 rows × 6 columns</p>\n",
       "</div>"
      ],
      "text/plain": [
       "         date group  orders  buyers  revenue  visitors\n",
       "0  2019-08-01     A      24      20   148579       719\n",
       "1  2019-08-01     B      21      20   101217       713\n",
       "2  2019-08-02     A      44      38   242401      1338\n",
       "3  2019-08-02     B      45      43   266748      1294\n",
       "4  2019-08-03     A      68      62   354874      1845\n",
       "..        ...   ...     ...     ...      ...       ...\n",
       "57 2019-08-29     B     596     544  5559398     17708\n",
       "58 2019-08-30     A     545     493  4022970     18037\n",
       "59 2019-08-30     B     620     567  5774631     18198\n",
       "60 2019-08-31     A     557     503  4084803     18736\n",
       "61 2019-08-31     B     640     586  5907760     18916\n",
       "\n",
       "[62 rows x 6 columns]"
      ]
     },
     "execution_count": 22,
     "metadata": {},
     "output_type": "execute_result"
    }
   ],
   "source": [
    "# объединим переменные в cumulativeData\n",
    "cumulativeData = ordersAggregated.merge(visitorsAggregated, left_on=['date', 'group'], right_on=['date', 'group'])\n",
    "cumulativeData.columns = ['date', 'group', 'orders', 'buyers', 'revenue', 'visitors']\n",
    "cumulativeData"
   ]
  },
  {
   "cell_type": "markdown",
   "metadata": {},
   "source": [
    "### Кумулятивная выручка по группам"
   ]
  },
  {
   "cell_type": "code",
   "execution_count": 23,
   "metadata": {},
   "outputs": [
    {
     "data": {
      "image/png": "[encoded data removed]",
      "text/plain": [
       "<Figure size 720x360 with 1 Axes>"
      ]
     },
     "metadata": {
      "needs_background": "light"
     },
     "output_type": "display_data"
    }
   ],
   "source": [
    "# построим график кумулятивной выручки по группам А и В\n",
    "cumulativeRevenueA = cumulativeData[cumulativeData['group']=='A'][['date','revenue', 'orders']]\n",
    "cumulativeRevenueB = cumulativeData[cumulativeData['group']=='B'][['date','revenue', 'orders']]\n",
    "plt.figure(figsize=(10,5))\n",
    "plt.plot(cumulativeRevenueA['date'], cumulativeRevenueA['revenue'], label='A')\n",
    "plt.plot(cumulativeRevenueB['date'], cumulativeRevenueB['revenue'], label='B')\n",
    "plt.title('График кумулятивной выручки по группам')\n",
    "plt.xlabel('Дата')\n",
    "plt.ylabel('Выручка')\n",
    "plt.legend();"
   ]
  },
  {
   "cell_type": "markdown",
   "metadata": {},
   "source": [
    "В начале месяца выручка по группам А и В идет ровно, затем группа В немного выходит вперед и во второй половине месяца сильно вырывается вперед. Нужно проверить этот скачок на выбросы."
   ]
  },
  {
   "cell_type": "markdown",
   "metadata": {},
   "source": [
    "### Кумулятивный средней чек"
   ]
  },
  {
   "cell_type": "code",
   "execution_count": 24,
   "metadata": {},
   "outputs": [
    {
     "data": {
      "image/png": "[encoded data removed]",
      "text/plain": [
       "<Figure size 720x360 with 1 Axes>"
      ]
     },
     "metadata": {
      "needs_background": "light"
     },
     "output_type": "display_data"
    }
   ],
   "source": [
    "plt.figure(figsize=(10,5))\n",
    "plt.plot(cumulativeRevenueA['date'], cumulativeRevenueA['revenue']/cumulativeRevenueA['orders'], label='A')\n",
    "plt.plot(cumulativeRevenueB['date'], cumulativeRevenueB['revenue']/cumulativeRevenueB['orders'], label='B')\n",
    "plt.title('График кумулятивного среднего чека по группам')\n",
    "plt.ylabel('Средний чек')\n",
    "plt.legend();"
   ]
  },
  {
   "cell_type": "markdown",
   "metadata": {},
   "source": [
    "Здесь тоже виден сильный скачок у группы В среднего чека в эти же даты. \n",
    "Графики среднего чека групп сильно расходятся в течении всего времени. Необходим анализ выбросов"
   ]
  },
  {
   "cell_type": "markdown",
   "metadata": {},
   "source": [
    "### Изменения кумулятивного среднего чека группы B к группе A"
   ]
  },
  {
   "cell_type": "code",
   "execution_count": 25,
   "metadata": {},
   "outputs": [
    {
     "data": {
      "text/html": [
       "<div>\n",
       "<style scoped>\n",
       "    .dataframe tbody tr th:only-of-type {\n",
       "        vertical-align: middle;\n",
       "    }\n",
       "\n",
       "    .dataframe tbody tr th {\n",
       "        vertical-align: top;\n",
       "    }\n",
       "\n",
       "    .dataframe thead th {\n",
       "        text-align: right;\n",
       "    }\n",
       "</style>\n",
       "<table border=\"1\" class=\"dataframe\">\n",
       "  <thead>\n",
       "    <tr style=\"text-align: right;\">\n",
       "      <th></th>\n",
       "      <th>date</th>\n",
       "      <th>revenueA</th>\n",
       "      <th>ordersA</th>\n",
       "      <th>revenueB</th>\n",
       "      <th>ordersB</th>\n",
       "    </tr>\n",
       "  </thead>\n",
       "  <tbody>\n",
       "    <tr>\n",
       "      <th>0</th>\n",
       "      <td>2019-08-01</td>\n",
       "      <td>148579</td>\n",
       "      <td>24</td>\n",
       "      <td>101217</td>\n",
       "      <td>21</td>\n",
       "    </tr>\n",
       "    <tr>\n",
       "      <th>1</th>\n",
       "      <td>2019-08-02</td>\n",
       "      <td>242401</td>\n",
       "      <td>44</td>\n",
       "      <td>266748</td>\n",
       "      <td>45</td>\n",
       "    </tr>\n",
       "    <tr>\n",
       "      <th>2</th>\n",
       "      <td>2019-08-03</td>\n",
       "      <td>354874</td>\n",
       "      <td>68</td>\n",
       "      <td>380996</td>\n",
       "      <td>61</td>\n",
       "    </tr>\n",
       "    <tr>\n",
       "      <th>3</th>\n",
       "      <td>2019-08-04</td>\n",
       "      <td>425699</td>\n",
       "      <td>84</td>\n",
       "      <td>489567</td>\n",
       "      <td>78</td>\n",
       "    </tr>\n",
       "    <tr>\n",
       "      <th>4</th>\n",
       "      <td>2019-08-05</td>\n",
       "      <td>549917</td>\n",
       "      <td>109</td>\n",
       "      <td>581995</td>\n",
       "      <td>101</td>\n",
       "    </tr>\n",
       "  </tbody>\n",
       "</table>\n",
       "</div>"
      ],
      "text/plain": [
       "        date  revenueA  ordersA  revenueB  ordersB\n",
       "0 2019-08-01    148579       24    101217       21\n",
       "1 2019-08-02    242401       44    266748       45\n",
       "2 2019-08-03    354874       68    380996       61\n",
       "3 2019-08-04    425699       84    489567       78\n",
       "4 2019-08-05    549917      109    581995      101"
      ]
     },
     "execution_count": 25,
     "metadata": {},
     "output_type": "execute_result"
    }
   ],
   "source": [
    "# соединим кумулятивные продажи групп А и В\n",
    "mergedCumulativeRevenue = cumulativeRevenueA.merge(\n",
    "    cumulativeRevenueB, left_on='date', right_on='date', how='left', suffixes=['A', 'B'])\n",
    "mergedCumulativeRevenue.head()"
   ]
  },
  {
   "cell_type": "code",
   "execution_count": 26,
   "metadata": {},
   "outputs": [
    {
     "data": {
      "image/png": "[encoded data removed]",
      "text/plain": [
       "<Figure size 1080x360 with 1 Axes>"
      ]
     },
     "metadata": {
      "needs_background": "light"
     },
     "output_type": "display_data"
    }
   ],
   "source": [
    "plt.figure(figsize=(15,5))\n",
    "# cтроим отношение средних чеков\n",
    "plt.plot(mergedCumulativeRevenue['date'], (mergedCumulativeRevenue['revenueB']/mergedCumulativeRevenue['ordersB'])/(mergedCumulativeRevenue['revenueA']/mergedCumulativeRevenue['ordersA'])-1)\n",
    "\n",
    "# добавляем ось X\n",
    "plt.ylabel('% изменения')\n",
    "plt.axhline(y=0, color='black', linestyle='--')\n",
    "plt.title('Относительное изменение кумулятивного среднего чека группы B к группе A');"
   ]
  },
  {
   "cell_type": "markdown",
   "metadata": {},
   "source": [
    "Резкие скачки здесь есть в нескольких датах, например, 19 числа, подтверждается что были заказы-выбросы"
   ]
  },
  {
   "cell_type": "markdown",
   "metadata": {},
   "source": [
    "### Кумулятивная конверсия по группам"
   ]
  },
  {
   "cell_type": "code",
   "execution_count": 27,
   "metadata": {},
   "outputs": [],
   "source": [
    "# считаем кумулятивную конверсию\n",
    "cumulativeData['conversion'] = cumulativeData['orders']/cumulativeData['visitors']\n",
    "\n",
    "# отделяем данные по группе A\n",
    "cumulativeDataA = cumulativeData[cumulativeData['group']=='A']\n",
    "\n",
    "# отделяем данные по группе B\n",
    "cumulativeDataB = cumulativeData[cumulativeData['group']=='B']"
   ]
  },
  {
   "cell_type": "code",
   "execution_count": 28,
   "metadata": {},
   "outputs": [
    {
     "data": {
      "image/png": "[encoded data removed]",
      "text/plain": [
       "<Figure size 1080x360 with 1 Axes>"
      ]
     },
     "metadata": {
      "needs_background": "light"
     },
     "output_type": "display_data"
    }
   ],
   "source": [
    "# графики\n",
    "plt.figure(figsize=(15,5))\n",
    "plt.plot(cumulativeDataA['date'], cumulativeDataA['conversion'], label='A')\n",
    "plt.plot(cumulativeDataB['date'], cumulativeDataB['conversion'], label='B')\n",
    "plt.ylabel('Конверсия')\n",
    "plt.legend()\n",
    "plt.title('Кумулятивная конверсия по группам')\n",
    "# масштаб осей\n",
    "plt.axis([dt.datetime(2019, 8, 1), dt.datetime(2019, 9, 1), 0.01, 0.05]);"
   ]
  },
  {
   "cell_type": "markdown",
   "metadata": {},
   "source": [
    "Конверсия группы В выше, начиная с 2019.08.06. Далее графики идут приблизительно ровно, зафиксировавшись на одних уровнях."
   ]
  },
  {
   "cell_type": "markdown",
   "metadata": {},
   "source": [
    "### Относительное изменение кумулятивной конверсии группы B к группе A. "
   ]
  },
  {
   "cell_type": "code",
   "execution_count": 29,
   "metadata": {},
   "outputs": [
    {
     "data": {
      "text/html": [
       "<div>\n",
       "<style scoped>\n",
       "    .dataframe tbody tr th:only-of-type {\n",
       "        vertical-align: middle;\n",
       "    }\n",
       "\n",
       "    .dataframe tbody tr th {\n",
       "        vertical-align: top;\n",
       "    }\n",
       "\n",
       "    .dataframe thead th {\n",
       "        text-align: right;\n",
       "    }\n",
       "</style>\n",
       "<table border=\"1\" class=\"dataframe\">\n",
       "  <thead>\n",
       "    <tr style=\"text-align: right;\">\n",
       "      <th></th>\n",
       "      <th>date</th>\n",
       "      <th>conversionA</th>\n",
       "      <th>conversionB</th>\n",
       "    </tr>\n",
       "  </thead>\n",
       "  <tbody>\n",
       "    <tr>\n",
       "      <th>0</th>\n",
       "      <td>2019-08-01</td>\n",
       "      <td>0.033380</td>\n",
       "      <td>0.029453</td>\n",
       "    </tr>\n",
       "    <tr>\n",
       "      <th>1</th>\n",
       "      <td>2019-08-02</td>\n",
       "      <td>0.032885</td>\n",
       "      <td>0.034776</td>\n",
       "    </tr>\n",
       "    <tr>\n",
       "      <th>2</th>\n",
       "      <td>2019-08-03</td>\n",
       "      <td>0.036856</td>\n",
       "      <td>0.033833</td>\n",
       "    </tr>\n",
       "    <tr>\n",
       "      <th>3</th>\n",
       "      <td>2019-08-04</td>\n",
       "      <td>0.032787</td>\n",
       "      <td>0.030315</td>\n",
       "    </tr>\n",
       "    <tr>\n",
       "      <th>4</th>\n",
       "      <td>2019-08-05</td>\n",
       "      <td>0.032851</td>\n",
       "      <td>0.030793</td>\n",
       "    </tr>\n",
       "  </tbody>\n",
       "</table>\n",
       "</div>"
      ],
      "text/plain": [
       "        date  conversionA  conversionB\n",
       "0 2019-08-01     0.033380     0.029453\n",
       "1 2019-08-02     0.032885     0.034776\n",
       "2 2019-08-03     0.036856     0.033833\n",
       "3 2019-08-04     0.032787     0.030315\n",
       "4 2019-08-05     0.032851     0.030793"
      ]
     },
     "execution_count": 29,
     "metadata": {},
     "output_type": "execute_result"
    }
   ],
   "source": [
    "mergedCumulativeConversions = cumulativeDataA[['date','conversion']].merge(cumulativeDataB[['date','conversion']], left_on='date', right_on='date', how='left', suffixes=['A', 'B'])\n",
    "mergedCumulativeConversions.head()"
   ]
  },
  {
   "cell_type": "code",
   "execution_count": 30,
   "metadata": {},
   "outputs": [
    {
     "data": {
      "image/png": "[encoded data removed]",
      "text/plain": [
       "<Figure size 1080x360 with 1 Axes>"
      ]
     },
     "metadata": {
      "needs_background": "light"
     },
     "output_type": "display_data"
    }
   ],
   "source": [
    "plt.figure(figsize=(15,5))\n",
    "plt.plot(mergedCumulativeConversions['date'], mergedCumulativeConversions['conversionB']/mergedCumulativeConversions['conversionA']-1, label=\"Относительный прирост конверсии группы B относительно группы A\")\n",
    "plt.ylabel('% прироста')\n",
    "plt.legend()\n",
    "plt.title('Относительное изменение кумулятивной конверсии')\n",
    "plt.axhline(y=0, color='black', linestyle='--')\n",
    "plt.axhline(y=0.2, color='grey', linestyle='--')\n",
    "plt.axhline(y=0.1, color='blue', linestyle='--')\n",
    "\n",
    "plt.axis([dt.datetime(2019, 8, 1), dt.datetime(2019, 9, 1), -0.2, 0.4]);"
   ]
  },
  {
   "cell_type": "markdown",
   "metadata": {},
   "source": [
    "Группа В лидирует по конверсии. В середине месяца достигла прироста 20% относительно группы А, затем снизилось до уровня 10% прироста "
   ]
  },
  {
   "cell_type": "markdown",
   "metadata": {},
   "source": [
    "\n",
    "### Точечный график количества заказов по пользователям"
   ]
  },
  {
   "cell_type": "code",
   "execution_count": 31,
   "metadata": {},
   "outputs": [
    {
     "data": {
      "text/html": [
       "<div>\n",
       "<style scoped>\n",
       "    .dataframe tbody tr th:only-of-type {\n",
       "        vertical-align: middle;\n",
       "    }\n",
       "\n",
       "    .dataframe tbody tr th {\n",
       "        vertical-align: top;\n",
       "    }\n",
       "\n",
       "    .dataframe thead th {\n",
       "        text-align: right;\n",
       "    }\n",
       "</style>\n",
       "<table border=\"1\" class=\"dataframe\">\n",
       "  <thead>\n",
       "    <tr style=\"text-align: right;\">\n",
       "      <th></th>\n",
       "      <th>visitorId</th>\n",
       "      <th>orders</th>\n",
       "    </tr>\n",
       "  </thead>\n",
       "  <tbody>\n",
       "    <tr>\n",
       "      <th>1023</th>\n",
       "      <td>4256040402</td>\n",
       "      <td>11</td>\n",
       "    </tr>\n",
       "    <tr>\n",
       "      <th>591</th>\n",
       "      <td>2458001652</td>\n",
       "      <td>11</td>\n",
       "    </tr>\n",
       "    <tr>\n",
       "      <th>569</th>\n",
       "      <td>2378935119</td>\n",
       "      <td>9</td>\n",
       "    </tr>\n",
       "    <tr>\n",
       "      <th>487</th>\n",
       "      <td>2038680547</td>\n",
       "      <td>8</td>\n",
       "    </tr>\n",
       "    <tr>\n",
       "      <th>44</th>\n",
       "      <td>199603092</td>\n",
       "      <td>5</td>\n",
       "    </tr>\n",
       "  </tbody>\n",
       "</table>\n",
       "</div>"
      ],
      "text/plain": [
       "       visitorId  orders\n",
       "1023  4256040402      11\n",
       "591   2458001652      11\n",
       "569   2378935119       9\n",
       "487   2038680547       8\n",
       "44     199603092       5"
      ]
     },
     "execution_count": 31,
     "metadata": {},
     "output_type": "execute_result"
    }
   ],
   "source": [
    "ordersByUsers = (\n",
    "    orders.groupby('visitorId', as_index=False) # сгруппирует заказы по пользователям\n",
    "    .agg({'transactionId' : 'nunique',})) # подсчитает число уникальных заказов по сгруппированным данным\n",
    "ordersByUsers.columns = ['visitorId', 'orders']\n",
    "\n",
    "ordersByUsers.sort_values(by='orders',ascending=False).head()"
   ]
  },
  {
   "cell_type": "code",
   "execution_count": 32,
   "metadata": {},
   "outputs": [
    {
     "data": {
      "image/png": "[encoded data removed]",
      "text/plain": [
       "<Figure size 432x288 with 1 Axes>"
      ]
     },
     "metadata": {
      "needs_background": "light"
     },
     "output_type": "display_data"
    }
   ],
   "source": [
    "plt.hist(ordersByUsers['orders'])\n",
    "plt.title('Распределения количества заказов пользователей')\n",
    "plt.xlabel('Количество заказов')\n",
    "plt.ylabel('Количество клиентов');"
   ]
  },
  {
   "cell_type": "markdown",
   "metadata": {},
   "source": []
  },
  {
   "cell_type": "code",
   "execution_count": 33,
   "metadata": {},
   "outputs": [
    {
     "data": {
      "image/png": "[encoded data removed]",
      "text/plain": [
       "<Figure size 432x288 with 1 Axes>"
      ]
     },
     "metadata": {
      "needs_background": "light"
     },
     "output_type": "display_data"
    }
   ],
   "source": [
    "x_values = pd.Series(range(0, len(ordersByUsers)))\n",
    "\n",
    "plt.scatter(x_values, ordersByUsers['orders']) \n",
    "plt.title('Точечное распределения количества заказов')\n",
    "plt.ylabel('Количество заказов')\n",
    "plt.xlabel('Ранг клиента');"
   ]
  },
  {
   "cell_type": "markdown",
   "metadata": {},
   "source": [
    "Большинство пользователей сделали один заказ (937 юзера), 64 по два заказа. Три и более заказа сделали уже гораздо меньше. Нужно понять сколько заказов нормально или много. "
   ]
  },
  {
   "cell_type": "markdown",
   "metadata": {},
   "source": [
    "### 95-й и 99-й перцентили количества заказов на пользователя "
   ]
  },
  {
   "cell_type": "code",
   "execution_count": 34,
   "metadata": {},
   "outputs": [
    {
     "data": {
      "text/plain": [
       "array([1., 2., 2., 2., 3., 4.])"
      ]
     },
     "execution_count": 34,
     "metadata": {},
     "output_type": "execute_result"
    }
   ],
   "source": [
    "ordersByUsers.sort_values(by='orders',ascending=False).head(10)\n",
    "np.percentile(ordersByUsers['orders'], [90, 95, 96, 97, 98, 99]) #находим перцентили."
   ]
  },
  {
   "cell_type": "markdown",
   "metadata": {},
   "source": [
    "Не более 1 % клиентов (99 перцентиль) сделали более 4 заказов и 97 % клиентов сделали не больше 2 заказов. 90% сделали по одному заказу."
   ]
  },
  {
   "cell_type": "markdown",
   "metadata": {},
   "source": [
    "### Точечный график стоимости заказов"
   ]
  },
  {
   "cell_type": "code",
   "execution_count": 35,
   "metadata": {},
   "outputs": [
    {
     "data": {
      "image/png": "[encoded data removed]",
      "text/plain": [
       "<Figure size 432x288 with 1 Axes>"
      ]
     },
     "metadata": {
      "needs_background": "light"
     },
     "output_type": "display_data"
    }
   ],
   "source": [
    "x_values = pd.Series(range(0, len(orders['revenue'])))\n",
    "\n",
    "plt.scatter(x_values, orders['revenue']);"
   ]
  },
  {
   "cell_type": "code",
   "execution_count": 36,
   "metadata": {},
   "outputs": [
    {
     "data": {
      "image/png": "[encoded data removed]",
      "text/plain": [
       "<Figure size 432x288 with 1 Axes>"
      ]
     },
     "metadata": {
      "needs_background": "light"
     },
     "output_type": "display_data"
    }
   ],
   "source": [
    "order_without_out = orders.query('revenue < 45000') # исключили заказы с чеком более 45000\n",
    "x_values = pd.Series(range(0, len(order_without_out['revenue'])))\n",
    "plt.title('Точечное распределения сумм заказов')\n",
    "plt.ylabel('Сумма заказа')\n",
    "plt.xlabel('Ранг клиента');\n",
    "plt.scatter(x_values, order_without_out['revenue']);"
   ]
  },
  {
   "cell_type": "markdown",
   "metadata": {},
   "source": [
    "### 95-й и 99-й перцентили стоимости заказов"
   ]
  },
  {
   "cell_type": "code",
   "execution_count": 37,
   "metadata": {},
   "outputs": [
    {
     "name": "stdout",
     "output_type": "stream",
     "text": [
      "[10239.  28000.  31382.  35485.  44133.2 58233.2]\n"
     ]
    }
   ],
   "source": [
    "print(np.percentile(orders['revenue'], [80,95,96,97,98,99]))"
   ]
  },
  {
   "cell_type": "markdown",
   "metadata": {},
   "source": [
    "У не более 1 % заказов сумма покупки 58 233 руб. И не более 5 % сумма заказа - 28000 "
   ]
  },
  {
   "cell_type": "markdown",
   "metadata": {},
   "source": [
    "### Статистическую значимость различий в конверсии между группами по «сырым» данным."
   ]
  },
  {
   "cell_type": "markdown",
   "metadata": {},
   "source": [
    "Сформулируем гипотезы. Нулевая гипотеза: различий в конверсии между группами нет. Альтернативная: различия в конверсии между группами есть."
   ]
  },
  {
   "cell_type": "markdown",
   "metadata": {},
   "source": [
    "Применяемый метод stats.mannwhitneyu, U-критерий Манна-Уитни.\n",
    "Идея метода — проранжировать две выборки по порядку от меньшего к большему и сравнить ранги одних и тех же значений, попавших в обе выборки. \n",
    "\n",
    "0.05 - критический уровень статистической значимости."
   ]
  },
  {
   "cell_type": "code",
   "execution_count": 38,
   "metadata": {},
   "outputs": [
    {
     "data": {
      "text/html": [
       "<div>\n",
       "<style scoped>\n",
       "    .dataframe tbody tr th:only-of-type {\n",
       "        vertical-align: middle;\n",
       "    }\n",
       "\n",
       "    .dataframe tbody tr th {\n",
       "        vertical-align: top;\n",
       "    }\n",
       "\n",
       "    .dataframe thead th {\n",
       "        text-align: right;\n",
       "    }\n",
       "</style>\n",
       "<table border=\"1\" class=\"dataframe\">\n",
       "  <thead>\n",
       "    <tr style=\"text-align: right;\">\n",
       "      <th></th>\n",
       "      <th>date</th>\n",
       "      <th>visitorsPerDateA</th>\n",
       "    </tr>\n",
       "  </thead>\n",
       "  <tbody>\n",
       "    <tr>\n",
       "      <th>0</th>\n",
       "      <td>2019-08-01</td>\n",
       "      <td>719</td>\n",
       "    </tr>\n",
       "    <tr>\n",
       "      <th>1</th>\n",
       "      <td>2019-08-02</td>\n",
       "      <td>619</td>\n",
       "    </tr>\n",
       "    <tr>\n",
       "      <th>2</th>\n",
       "      <td>2019-08-03</td>\n",
       "      <td>507</td>\n",
       "    </tr>\n",
       "    <tr>\n",
       "      <th>3</th>\n",
       "      <td>2019-08-04</td>\n",
       "      <td>717</td>\n",
       "    </tr>\n",
       "    <tr>\n",
       "      <th>4</th>\n",
       "      <td>2019-08-05</td>\n",
       "      <td>756</td>\n",
       "    </tr>\n",
       "  </tbody>\n",
       "</table>\n",
       "</div>"
      ],
      "text/plain": [
       "        date  visitorsPerDateA\n",
       "0 2019-08-01               719\n",
       "1 2019-08-02               619\n",
       "2 2019-08-03               507\n",
       "3 2019-08-04               717\n",
       "4 2019-08-05               756"
      ]
     },
     "execution_count": 38,
     "metadata": {},
     "output_type": "execute_result"
    }
   ],
   "source": [
    "visitorsADaily = visitors[visitors['group'] == 'A'][['date', 'visitors']]\n",
    "visitorsADaily.columns = ['date', 'visitorsPerDateA']\n",
    "visitorsADaily.head()"
   ]
  },
  {
   "cell_type": "code",
   "execution_count": 39,
   "metadata": {},
   "outputs": [
    {
     "data": {
      "text/html": [
       "<div>\n",
       "<style scoped>\n",
       "    .dataframe tbody tr th:only-of-type {\n",
       "        vertical-align: middle;\n",
       "    }\n",
       "\n",
       "    .dataframe tbody tr th {\n",
       "        vertical-align: top;\n",
       "    }\n",
       "\n",
       "    .dataframe thead th {\n",
       "        text-align: right;\n",
       "    }\n",
       "</style>\n",
       "<table border=\"1\" class=\"dataframe\">\n",
       "  <thead>\n",
       "    <tr style=\"text-align: right;\">\n",
       "      <th></th>\n",
       "      <th>date</th>\n",
       "      <th>visitorsCummulativeA</th>\n",
       "    </tr>\n",
       "  </thead>\n",
       "  <tbody>\n",
       "    <tr>\n",
       "      <th>0</th>\n",
       "      <td>2019-08-01</td>\n",
       "      <td>719</td>\n",
       "    </tr>\n",
       "    <tr>\n",
       "      <th>1</th>\n",
       "      <td>2019-08-02</td>\n",
       "      <td>1338</td>\n",
       "    </tr>\n",
       "    <tr>\n",
       "      <th>2</th>\n",
       "      <td>2019-08-03</td>\n",
       "      <td>1845</td>\n",
       "    </tr>\n",
       "    <tr>\n",
       "      <th>3</th>\n",
       "      <td>2019-08-04</td>\n",
       "      <td>2562</td>\n",
       "    </tr>\n",
       "    <tr>\n",
       "      <th>4</th>\n",
       "      <td>2019-08-05</td>\n",
       "      <td>3318</td>\n",
       "    </tr>\n",
       "  </tbody>\n",
       "</table>\n",
       "</div>"
      ],
      "text/plain": [
       "        date  visitorsCummulativeA\n",
       "0 2019-08-01                   719\n",
       "1 2019-08-02                  1338\n",
       "2 2019-08-03                  1845\n",
       "3 2019-08-04                  2562\n",
       "4 2019-08-05                  3318"
      ]
     },
     "execution_count": 39,
     "metadata": {},
     "output_type": "execute_result"
    }
   ],
   "source": [
    "visitorsACummulative = visitorsADaily.apply(\n",
    "    lambda x: visitorsADaily[visitorsADaily['date'] <= x['date']].agg(\n",
    "        {'date': 'max', 'visitorsPerDateA': 'sum'}\n",
    "    ),\n",
    "    axis=1,\n",
    ")\n",
    "visitorsACummulative.columns = ['date', 'visitorsCummulativeA']\n",
    "visitorsACummulative.head()"
   ]
  },
  {
   "cell_type": "code",
   "execution_count": 40,
   "metadata": {},
   "outputs": [
    {
     "data": {
      "text/html": [
       "<div>\n",
       "<style scoped>\n",
       "    .dataframe tbody tr th:only-of-type {\n",
       "        vertical-align: middle;\n",
       "    }\n",
       "\n",
       "    .dataframe tbody tr th {\n",
       "        vertical-align: top;\n",
       "    }\n",
       "\n",
       "    .dataframe thead th {\n",
       "        text-align: right;\n",
       "    }\n",
       "</style>\n",
       "<table border=\"1\" class=\"dataframe\">\n",
       "  <thead>\n",
       "    <tr style=\"text-align: right;\">\n",
       "      <th></th>\n",
       "      <th>date</th>\n",
       "      <th>visitorsPerDateB</th>\n",
       "    </tr>\n",
       "  </thead>\n",
       "  <tbody>\n",
       "    <tr>\n",
       "      <th>31</th>\n",
       "      <td>2019-08-01</td>\n",
       "      <td>713</td>\n",
       "    </tr>\n",
       "    <tr>\n",
       "      <th>32</th>\n",
       "      <td>2019-08-02</td>\n",
       "      <td>581</td>\n",
       "    </tr>\n",
       "    <tr>\n",
       "      <th>33</th>\n",
       "      <td>2019-08-03</td>\n",
       "      <td>509</td>\n",
       "    </tr>\n",
       "    <tr>\n",
       "      <th>34</th>\n",
       "      <td>2019-08-04</td>\n",
       "      <td>770</td>\n",
       "    </tr>\n",
       "    <tr>\n",
       "      <th>35</th>\n",
       "      <td>2019-08-05</td>\n",
       "      <td>707</td>\n",
       "    </tr>\n",
       "  </tbody>\n",
       "</table>\n",
       "</div>"
      ],
      "text/plain": [
       "         date  visitorsPerDateB\n",
       "31 2019-08-01               713\n",
       "32 2019-08-02               581\n",
       "33 2019-08-03               509\n",
       "34 2019-08-04               770\n",
       "35 2019-08-05               707"
      ]
     },
     "execution_count": 40,
     "metadata": {},
     "output_type": "execute_result"
    }
   ],
   "source": [
    "# также сделаем для группы В\n",
    "visitorsBDaily = visitors[visitors['group'] == 'B'][['date', 'visitors']]\n",
    "visitorsBDaily.columns = ['date', 'visitorsPerDateB']\n",
    "visitorsBDaily.head()"
   ]
  },
  {
   "cell_type": "code",
   "execution_count": 41,
   "metadata": {},
   "outputs": [
    {
     "data": {
      "text/html": [
       "<div>\n",
       "<style scoped>\n",
       "    .dataframe tbody tr th:only-of-type {\n",
       "        vertical-align: middle;\n",
       "    }\n",
       "\n",
       "    .dataframe tbody tr th {\n",
       "        vertical-align: top;\n",
       "    }\n",
       "\n",
       "    .dataframe thead th {\n",
       "        text-align: right;\n",
       "    }\n",
       "</style>\n",
       "<table border=\"1\" class=\"dataframe\">\n",
       "  <thead>\n",
       "    <tr style=\"text-align: right;\">\n",
       "      <th></th>\n",
       "      <th>date</th>\n",
       "      <th>visitorsCummulativeB</th>\n",
       "    </tr>\n",
       "  </thead>\n",
       "  <tbody>\n",
       "    <tr>\n",
       "      <th>31</th>\n",
       "      <td>2019-08-01</td>\n",
       "      <td>713</td>\n",
       "    </tr>\n",
       "    <tr>\n",
       "      <th>32</th>\n",
       "      <td>2019-08-02</td>\n",
       "      <td>1294</td>\n",
       "    </tr>\n",
       "    <tr>\n",
       "      <th>33</th>\n",
       "      <td>2019-08-03</td>\n",
       "      <td>1803</td>\n",
       "    </tr>\n",
       "    <tr>\n",
       "      <th>34</th>\n",
       "      <td>2019-08-04</td>\n",
       "      <td>2573</td>\n",
       "    </tr>\n",
       "    <tr>\n",
       "      <th>35</th>\n",
       "      <td>2019-08-05</td>\n",
       "      <td>3280</td>\n",
       "    </tr>\n",
       "  </tbody>\n",
       "</table>\n",
       "</div>"
      ],
      "text/plain": [
       "         date  visitorsCummulativeB\n",
       "31 2019-08-01                   713\n",
       "32 2019-08-02                  1294\n",
       "33 2019-08-03                  1803\n",
       "34 2019-08-04                  2573\n",
       "35 2019-08-05                  3280"
      ]
     },
     "execution_count": 41,
     "metadata": {},
     "output_type": "execute_result"
    }
   ],
   "source": [
    "# посчитаем накопленным итогом количество заказов\n",
    "visitorsBCummulative = visitorsBDaily.apply(\n",
    "    lambda x: visitorsBDaily[visitorsBDaily['date'] <= x['date']].agg(\n",
    "        {'date': 'max', 'visitorsPerDateB': 'sum'}\n",
    "    ),\n",
    "    axis=1,\n",
    ")\n",
    "visitorsBCummulative.columns = ['date', 'visitorsCummulativeB']\n",
    "visitorsBCummulative.head()"
   ]
  },
  {
   "cell_type": "code",
   "execution_count": 42,
   "metadata": {},
   "outputs": [
    {
     "data": {
      "text/html": [
       "<div>\n",
       "<style scoped>\n",
       "    .dataframe tbody tr th:only-of-type {\n",
       "        vertical-align: middle;\n",
       "    }\n",
       "\n",
       "    .dataframe tbody tr th {\n",
       "        vertical-align: top;\n",
       "    }\n",
       "\n",
       "    .dataframe thead th {\n",
       "        text-align: right;\n",
       "    }\n",
       "</style>\n",
       "<table border=\"1\" class=\"dataframe\">\n",
       "  <thead>\n",
       "    <tr style=\"text-align: right;\">\n",
       "      <th></th>\n",
       "      <th>date</th>\n",
       "      <th>ordersPerDateA</th>\n",
       "      <th>revenuePerDateA</th>\n",
       "    </tr>\n",
       "  </thead>\n",
       "  <tbody>\n",
       "    <tr>\n",
       "      <th>0</th>\n",
       "      <td>2019-08-01</td>\n",
       "      <td>24</td>\n",
       "      <td>148579</td>\n",
       "    </tr>\n",
       "    <tr>\n",
       "      <th>1</th>\n",
       "      <td>2019-08-02</td>\n",
       "      <td>20</td>\n",
       "      <td>93822</td>\n",
       "    </tr>\n",
       "    <tr>\n",
       "      <th>2</th>\n",
       "      <td>2019-08-03</td>\n",
       "      <td>24</td>\n",
       "      <td>112473</td>\n",
       "    </tr>\n",
       "    <tr>\n",
       "      <th>3</th>\n",
       "      <td>2019-08-04</td>\n",
       "      <td>16</td>\n",
       "      <td>70825</td>\n",
       "    </tr>\n",
       "    <tr>\n",
       "      <th>4</th>\n",
       "      <td>2019-08-05</td>\n",
       "      <td>25</td>\n",
       "      <td>124218</td>\n",
       "    </tr>\n",
       "  </tbody>\n",
       "</table>\n",
       "</div>"
      ],
      "text/plain": [
       "        date  ordersPerDateA  revenuePerDateA\n",
       "0 2019-08-01              24           148579\n",
       "1 2019-08-02              20            93822\n",
       "2 2019-08-03              24           112473\n",
       "3 2019-08-04              16            70825\n",
       "4 2019-08-05              25           124218"
      ]
     },
     "execution_count": 42,
     "metadata": {},
     "output_type": "execute_result"
    }
   ],
   "source": [
    "ordersADaily = (\n",
    "    orders[orders['group'] == 'A'][['date', 'transactionId', 'visitorId', 'revenue']]\n",
    "    .groupby('date', as_index=False)\n",
    "    .agg({'transactionId': pd.Series.nunique, 'revenue': 'sum'})\n",
    ")\n",
    "ordersADaily.columns = ['date', 'ordersPerDateA', 'revenuePerDateA']\n",
    "ordersADaily.head()"
   ]
  },
  {
   "cell_type": "code",
   "execution_count": 43,
   "metadata": {},
   "outputs": [
    {
     "data": {
      "text/html": [
       "<div>\n",
       "<style scoped>\n",
       "    .dataframe tbody tr th:only-of-type {\n",
       "        vertical-align: middle;\n",
       "    }\n",
       "\n",
       "    .dataframe tbody tr th {\n",
       "        vertical-align: top;\n",
       "    }\n",
       "\n",
       "    .dataframe thead th {\n",
       "        text-align: right;\n",
       "    }\n",
       "</style>\n",
       "<table border=\"1\" class=\"dataframe\">\n",
       "  <thead>\n",
       "    <tr style=\"text-align: right;\">\n",
       "      <th></th>\n",
       "      <th>date</th>\n",
       "      <th>ordersCummulativeA</th>\n",
       "      <th>revenueCummulativeA</th>\n",
       "    </tr>\n",
       "  </thead>\n",
       "  <tbody>\n",
       "    <tr>\n",
       "      <th>0</th>\n",
       "      <td>2019-08-01</td>\n",
       "      <td>24</td>\n",
       "      <td>148579</td>\n",
       "    </tr>\n",
       "    <tr>\n",
       "      <th>1</th>\n",
       "      <td>2019-08-02</td>\n",
       "      <td>44</td>\n",
       "      <td>242401</td>\n",
       "    </tr>\n",
       "    <tr>\n",
       "      <th>2</th>\n",
       "      <td>2019-08-03</td>\n",
       "      <td>68</td>\n",
       "      <td>354874</td>\n",
       "    </tr>\n",
       "    <tr>\n",
       "      <th>3</th>\n",
       "      <td>2019-08-04</td>\n",
       "      <td>84</td>\n",
       "      <td>425699</td>\n",
       "    </tr>\n",
       "    <tr>\n",
       "      <th>4</th>\n",
       "      <td>2019-08-05</td>\n",
       "      <td>109</td>\n",
       "      <td>549917</td>\n",
       "    </tr>\n",
       "  </tbody>\n",
       "</table>\n",
       "</div>"
      ],
      "text/plain": [
       "        date  ordersCummulativeA  revenueCummulativeA\n",
       "0 2019-08-01                  24               148579\n",
       "1 2019-08-02                  44               242401\n",
       "2 2019-08-03                  68               354874\n",
       "3 2019-08-04                  84               425699\n",
       "4 2019-08-05                 109               549917"
      ]
     },
     "execution_count": 43,
     "metadata": {},
     "output_type": "execute_result"
    }
   ],
   "source": [
    "ordersACummulative = ordersADaily.apply(\n",
    "    lambda x: ordersADaily[ordersADaily['date'] <= x['date']].agg(\n",
    "        {'date': 'max', 'ordersPerDateA': 'sum', 'revenuePerDateA': 'sum'}\n",
    "    ),\n",
    "    axis=1,\n",
    ").sort_values(by=['date'])\n",
    "ordersACummulative.columns = [\n",
    "    'date',\n",
    "    'ordersCummulativeA',\n",
    "    'revenueCummulativeA',\n",
    "]\n",
    "ordersACummulative.head()"
   ]
  },
  {
   "cell_type": "code",
   "execution_count": 44,
   "metadata": {},
   "outputs": [
    {
     "data": {
      "text/html": [
       "<div>\n",
       "<style scoped>\n",
       "    .dataframe tbody tr th:only-of-type {\n",
       "        vertical-align: middle;\n",
       "    }\n",
       "\n",
       "    .dataframe tbody tr th {\n",
       "        vertical-align: top;\n",
       "    }\n",
       "\n",
       "    .dataframe thead th {\n",
       "        text-align: right;\n",
       "    }\n",
       "</style>\n",
       "<table border=\"1\" class=\"dataframe\">\n",
       "  <thead>\n",
       "    <tr style=\"text-align: right;\">\n",
       "      <th></th>\n",
       "      <th>date</th>\n",
       "      <th>ordersPerDateB</th>\n",
       "      <th>revenuePerDateB</th>\n",
       "    </tr>\n",
       "  </thead>\n",
       "  <tbody>\n",
       "    <tr>\n",
       "      <th>0</th>\n",
       "      <td>2019-08-01</td>\n",
       "      <td>21</td>\n",
       "      <td>101217</td>\n",
       "    </tr>\n",
       "    <tr>\n",
       "      <th>1</th>\n",
       "      <td>2019-08-02</td>\n",
       "      <td>24</td>\n",
       "      <td>165531</td>\n",
       "    </tr>\n",
       "    <tr>\n",
       "      <th>2</th>\n",
       "      <td>2019-08-03</td>\n",
       "      <td>16</td>\n",
       "      <td>114248</td>\n",
       "    </tr>\n",
       "    <tr>\n",
       "      <th>3</th>\n",
       "      <td>2019-08-04</td>\n",
       "      <td>17</td>\n",
       "      <td>108571</td>\n",
       "    </tr>\n",
       "    <tr>\n",
       "      <th>4</th>\n",
       "      <td>2019-08-05</td>\n",
       "      <td>23</td>\n",
       "      <td>92428</td>\n",
       "    </tr>\n",
       "  </tbody>\n",
       "</table>\n",
       "</div>"
      ],
      "text/plain": [
       "        date  ordersPerDateB  revenuePerDateB\n",
       "0 2019-08-01              21           101217\n",
       "1 2019-08-02              24           165531\n",
       "2 2019-08-03              16           114248\n",
       "3 2019-08-04              17           108571\n",
       "4 2019-08-05              23            92428"
      ]
     },
     "execution_count": 44,
     "metadata": {},
     "output_type": "execute_result"
    }
   ],
   "source": [
    "ordersBDaily = (\n",
    "    orders[orders['group'] == 'B'][['date', 'transactionId', 'visitorId', 'revenue']]\n",
    "    .groupby('date', as_index=False)\n",
    "    .agg({'transactionId': pd.Series.nunique, 'revenue': 'sum'})\n",
    ")\n",
    "ordersBDaily.columns = ['date', 'ordersPerDateB', 'revenuePerDateB']\n",
    "ordersBDaily.head()"
   ]
  },
  {
   "cell_type": "code",
   "execution_count": 45,
   "metadata": {},
   "outputs": [
    {
     "data": {
      "text/html": [
       "<div>\n",
       "<style scoped>\n",
       "    .dataframe tbody tr th:only-of-type {\n",
       "        vertical-align: middle;\n",
       "    }\n",
       "\n",
       "    .dataframe tbody tr th {\n",
       "        vertical-align: top;\n",
       "    }\n",
       "\n",
       "    .dataframe thead th {\n",
       "        text-align: right;\n",
       "    }\n",
       "</style>\n",
       "<table border=\"1\" class=\"dataframe\">\n",
       "  <thead>\n",
       "    <tr style=\"text-align: right;\">\n",
       "      <th></th>\n",
       "      <th>date</th>\n",
       "      <th>ordersCummulativeB</th>\n",
       "      <th>revenueCummulativeB</th>\n",
       "    </tr>\n",
       "  </thead>\n",
       "  <tbody>\n",
       "    <tr>\n",
       "      <th>0</th>\n",
       "      <td>2019-08-01</td>\n",
       "      <td>21</td>\n",
       "      <td>101217</td>\n",
       "    </tr>\n",
       "    <tr>\n",
       "      <th>1</th>\n",
       "      <td>2019-08-02</td>\n",
       "      <td>45</td>\n",
       "      <td>266748</td>\n",
       "    </tr>\n",
       "    <tr>\n",
       "      <th>2</th>\n",
       "      <td>2019-08-03</td>\n",
       "      <td>61</td>\n",
       "      <td>380996</td>\n",
       "    </tr>\n",
       "    <tr>\n",
       "      <th>3</th>\n",
       "      <td>2019-08-04</td>\n",
       "      <td>78</td>\n",
       "      <td>489567</td>\n",
       "    </tr>\n",
       "    <tr>\n",
       "      <th>4</th>\n",
       "      <td>2019-08-05</td>\n",
       "      <td>101</td>\n",
       "      <td>581995</td>\n",
       "    </tr>\n",
       "  </tbody>\n",
       "</table>\n",
       "</div>"
      ],
      "text/plain": [
       "        date  ordersCummulativeB  revenueCummulativeB\n",
       "0 2019-08-01                  21               101217\n",
       "1 2019-08-02                  45               266748\n",
       "2 2019-08-03                  61               380996\n",
       "3 2019-08-04                  78               489567\n",
       "4 2019-08-05                 101               581995"
      ]
     },
     "execution_count": 45,
     "metadata": {},
     "output_type": "execute_result"
    }
   ],
   "source": [
    "ordersBCummulative = ordersBDaily.apply(\n",
    "    lambda x: ordersBDaily[ordersBDaily['date'] <= x['date']].agg(\n",
    "        {'date': 'max', 'ordersPerDateB': 'sum', 'revenuePerDateB': 'sum'}\n",
    "    ),\n",
    "    axis=1,\n",
    ").sort_values(by=['date'])\n",
    "ordersBCummulative.columns = [\n",
    "    'date',\n",
    "    'ordersCummulativeB',\n",
    "    'revenueCummulativeB',\n",
    "]\n",
    "ordersBCummulative.head()"
   ]
  },
  {
   "cell_type": "code",
   "execution_count": 46,
   "metadata": {},
   "outputs": [
    {
     "name": "stdout",
     "output_type": "stream",
     "text": [
      "        date  ordersPerDateA  revenuePerDateA  ordersPerDateB  \\\n",
      "0 2019-08-01              24           148579              21   \n",
      "1 2019-08-02              20            93822              24   \n",
      "2 2019-08-03              24           112473              16   \n",
      "3 2019-08-04              16            70825              17   \n",
      "4 2019-08-05              25           124218              23   \n",
      "\n",
      "   revenuePerDateB  ordersCummulativeA  revenueCummulativeA  \\\n",
      "0           101217                  24               148579   \n",
      "1           165531                  44               242401   \n",
      "2           114248                  68               354874   \n",
      "3           108571                  84               425699   \n",
      "4            92428                 109               549917   \n",
      "\n",
      "   ordersCummulativeB  revenueCummulativeB  visitorsPerDateA  \\\n",
      "0                  21               101217               719   \n",
      "1                  45               266748               619   \n",
      "2                  61               380996               507   \n",
      "3                  78               489567               717   \n",
      "4                 101               581995               756   \n",
      "\n",
      "   visitorsPerDateB  visitorsCummulativeA  visitorsCummulativeB  \n",
      "0               713                   719                   713  \n",
      "1               581                  1338                  1294  \n",
      "2               509                  1845                  1803  \n",
      "3               770                  2562                  2573  \n",
      "4               707                  3318                  3280  \n"
     ]
    }
   ],
   "source": [
    "# соединим все данные в одну таблицу методов merge\n",
    "data = (\n",
    "    ordersADaily.merge(\n",
    "        ordersBDaily, left_on='date', right_on='date', how='left'\n",
    "    )\n",
    "    .merge(ordersACummulative, left_on='date', right_on='date', how='left')\n",
    "    .merge(ordersBCummulative, left_on='date', right_on='date', how='left')\n",
    "    .merge(visitorsADaily, left_on='date', right_on='date', how='left')\n",
    "    .merge(visitorsBDaily, left_on='date', right_on='date', how='left')\n",
    "    .merge(visitorsACummulative, left_on='date', right_on='date', how='left')\n",
    "    .merge(visitorsBCummulative, left_on='date', right_on='date', how='left')\n",
    ")\n",
    "\n",
    "print(data.head(5))"
   ]
  },
  {
   "cell_type": "code",
   "execution_count": 47,
   "metadata": {},
   "outputs": [
    {
     "name": "stdout",
     "output_type": "stream",
     "text": [
      "0.01679\n",
      "0.138\n"
     ]
    }
   ],
   "source": [
    "# cоздадим переменные ordersByUsersA и ordersByUsersB со столбцами ['userId', 'orders']\n",
    "# для пользователей, укажем число заказов\n",
    "ordersByUsersA = (\n",
    "    orders[orders['group'] == 'A']\n",
    "    .groupby('visitorId', as_index=False)\n",
    "    .agg({'transactionId': pd.Series.nunique})\n",
    ")\n",
    "ordersByUsersA.columns = ['userId', 'orders']\n",
    "\n",
    "ordersByUsersB = (\n",
    "    orders[orders['group'] == 'B']\n",
    "    .groupby('visitorId', as_index=False)\n",
    "    .agg({'transactionId': pd.Series.nunique})\n",
    ")\n",
    "ordersByUsersB.columns = ['userId', 'orders'] \n",
    "\n",
    "# объявим переменные sampleA и sampleB, в которых пользователям из разных групп будет соответствовать количество заказов\n",
    "# тем, кто ничего не заказал, будут соответствовать нули\n",
    "\n",
    "sampleA = pd.concat(\n",
    "    [\n",
    "        ordersByUsersA['orders'],\n",
    "        pd.Series(\n",
    "            0,\n",
    "            index=np.arange(\n",
    "                data['visitorsPerDateA'].sum() - len(ordersByUsersA['orders'])\n",
    "            ),\n",
    "            name='orders',\n",
    "        ),\n",
    "    ],\n",
    "    axis=0,\n",
    ")\n",
    "\n",
    "sampleB = pd.concat(\n",
    "    [\n",
    "        ordersByUsersB['orders'],\n",
    "        pd.Series(\n",
    "            0,\n",
    "            index=np.arange(\n",
    "                data['visitorsPerDateB'].sum() - len(ordersByUsersB['orders'])\n",
    "            ),\n",
    "            name='orders',\n",
    "        ),\n",
    "    ],\n",
    "    axis=0,\n",
    ")\n",
    "\n",
    "print(\"{0:.5f}\".format(stats.mannwhitneyu(sampleA, sampleB)[1]))\n",
    "print(\"{0:.3f}\".format((data['ordersPerDateB'].sum()/data['visitorsPerDateB'].sum())/(data['ordersPerDateA'].sum()/data['visitorsPerDateA'].sum())-1)) \n"
   ]
  },
  {
   "cell_type": "markdown",
   "metadata": {},
   "source": [
    "Сырые данные показали, что в конверсии между группами есть статистически значимые различия. P-value 0.01679 меньше 0,05 - нулевую гипотезу отвергаем. Альтернативная гипотеза: различия в конверсии между группами есть.\n",
    "\n",
    "Относительный прирост конверсии группы В к группе А = 13.8%"
   ]
  },
  {
   "cell_type": "markdown",
   "metadata": {},
   "source": [
    "### Cтатистическая значимость различий в среднем чеке заказа между группами по «сырым» данным"
   ]
  },
  {
   "cell_type": "markdown",
   "metadata": {},
   "source": [
    "Сформулируем гипотезы. \n",
    "- Нулевая гипотеза: различий в среднем чеке у групп нет.\n",
    "- Альтернативная гипотеза: есть различия в среднем чеке групп."
   ]
  },
  {
   "cell_type": "code",
   "execution_count": 48,
   "metadata": {},
   "outputs": [
    {
     "name": "stdout",
     "output_type": "stream",
     "text": [
      "0.729\n",
      "0.259\n"
     ]
    }
   ],
   "source": [
    "print('{0:.3f}'.format(stats.mannwhitneyu(orders[orders['group']=='A']['revenue'], orders[orders['group']=='B']['revenue'])[1]))\n",
    "print('{0:.3f}'.format(orders[orders['group']=='B']['revenue'].mean()/orders[orders['group']=='A']['revenue'].mean()-1)) "
   ]
  },
  {
   "cell_type": "markdown",
   "metadata": {},
   "source": [
    "В среднем чеке статистически значимых различий нет.\n",
    "\n",
    "Относительное отличие среднего чека между группами 25,9%, т.е. средний чек группы В больше почти на 26%, вероятно дело в выбросах."
   ]
  },
  {
   "cell_type": "markdown",
   "metadata": {},
   "source": [
    "### Статистическую значимость различий в конверсии между группами по «очищенным» данным."
   ]
  },
  {
   "cell_type": "markdown",
   "metadata": {},
   "source": [
    "95-й, 98-й и 99-й перцентили средних чеков равны 28 000 и  44133.2 и 58 2333 рублям. \n",
    "А 95 и 97 перцентиль равен 2 заказам и 99-й перцентили числа заказов на одного пользователя равны 4 заказам на пользователя."
   ]
  },
  {
   "cell_type": "markdown",
   "metadata": {},
   "source": [
    "Примем за аномальное количество заказов - от 3 заказа. И сумма заказа от 45 000. Так уберем 3 % пользователей, которые делали дорогие покупки более 2 раз, и на сумму от 45000 (98% перцентиль)"
   ]
  },
  {
   "cell_type": "code",
   "execution_count": 49,
   "metadata": {},
   "outputs": [
    {
     "data": {
      "text/plain": [
       "1099    148427295\n",
       "18      199603092\n",
       "23      237748145\n",
       "37      249864742\n",
       "68      457167155\n",
       "68      611059232\n",
       "1137    759473111\n",
       "949     887908475\n",
       "744     888512513\n",
       "709     950626008\n",
       "dtype: int64"
      ]
     },
     "execution_count": 49,
     "metadata": {},
     "output_type": "execute_result"
    }
   ],
   "source": [
    "usersWithManyOrders = pd.concat(\n",
    "    [\n",
    "        ordersByUsersA[ordersByUsersA['orders'] > 2]['userId'],\n",
    "        ordersByUsersB[ordersByUsersB['orders'] > 2]['userId'],\n",
    "    ],\n",
    "    axis=0,\n",
    ")\n",
    "usersWithExpensiveOrders = orders[orders['revenue'] > 45000]['visitorId']\n",
    "abnormalUsers = (\n",
    "    pd.concat([usersWithManyOrders, usersWithExpensiveOrders], axis=0)\n",
    "    .drop_duplicates()\n",
    "    .sort_values()\n",
    ")\n",
    "abnormalUsers.head(10)\n"
   ]
  },
  {
   "cell_type": "code",
   "execution_count": 50,
   "metadata": {},
   "outputs": [
    {
     "data": {
      "text/plain": [
       "40"
      ]
     },
     "execution_count": 50,
     "metadata": {},
     "output_type": "execute_result"
    }
   ],
   "source": [
    "abnormalUsers.shape[0]"
   ]
  },
  {
   "cell_type": "markdown",
   "metadata": {},
   "source": [
    "Получилось 40 аномальных пользоватлей"
   ]
  },
  {
   "cell_type": "code",
   "execution_count": 51,
   "metadata": {},
   "outputs": [
    {
     "name": "stdout",
     "output_type": "stream",
     "text": [
      "0.00740\n",
      "0.185\n"
     ]
    }
   ],
   "source": [
    "# подготовим выборки с очищенными данными\n",
    "sampleAFiltered = pd.concat(\n",
    "    [\n",
    "        ordersByUsersA[\n",
    "            np.logical_not(ordersByUsersA['userId'].isin(abnormalUsers)) # исключаем из выборки выбросы (abnormalUsers)\n",
    "        ]['orders'],\n",
    "        pd.Series(\n",
    "            0,\n",
    "            index=np.arange(\n",
    "                data['visitorsPerDateA'].sum() - len(ordersByUsersA['orders'])\n",
    "            ),\n",
    "            name='orders',\n",
    "        ),\n",
    "    ],\n",
    "    axis=0,\n",
    ")\n",
    "\n",
    "sampleBFiltered = pd.concat(\n",
    "    [\n",
    "        ordersByUsersB[\n",
    "            np.logical_not(ordersByUsersB['userId'].isin(abnormalUsers))\n",
    "        ]['orders'],\n",
    "        pd.Series(\n",
    "            0,\n",
    "            index=np.arange(\n",
    "                data['visitorsPerDateB'].sum() - len(ordersByUsersB['orders'])\n",
    "            ),\n",
    "            name='orders',\n",
    "        ),\n",
    "    ],\n",
    "    axis=0,\n",
    ") \n",
    "\n",
    "print('{0:.5f}'.format(stats.mannwhitneyu(sampleAFiltered, sampleBFiltered)[1]))\n",
    "print('{0:.3f}'.format(sampleBFiltered.mean()/sampleAFiltered.mean()-1)) "
   ]
  },
  {
   "cell_type": "markdown",
   "metadata": {},
   "source": [
    "Относительный прирост конверсии группы В к группе А по очищенным  данным составил 18.5%. Группа В лучше группы А.\n",
    "Различия в конверсии между группами есть.\n",
    "\n",
    "В очищенных данных P-value меньше 0.05. Значит отвергаем нулевую гипотезу.  Различия в конверсии между группами есть."
   ]
  },
  {
   "cell_type": "markdown",
   "metadata": {},
   "source": [
    "В неочищенных данных относительный прирост конверсии 13,8%. При удаление выбросов отличие стало больше (18.5%)"
   ]
  },
  {
   "cell_type": "markdown",
   "metadata": {},
   "source": [
    "### Cтатистическая значимость различий в среднем чеке по «очищенным» данным"
   ]
  },
  {
   "cell_type": "code",
   "execution_count": 52,
   "metadata": {},
   "outputs": [
    {
     "name": "stdout",
     "output_type": "stream",
     "text": [
      "0.994\n",
      "0.037\n"
     ]
    }
   ],
   "source": [
    "print(\n",
    "    '{0:.3f}'.format(\n",
    "        stats.mannwhitneyu(\n",
    "            orders[\n",
    "                np.logical_and(\n",
    "                    orders['group'] == 'A',\n",
    "                    np.logical_not(orders['visitorId'].isin(abnormalUsers)),\n",
    "                )\n",
    "            ]['revenue'],\n",
    "            orders[\n",
    "                np.logical_and(\n",
    "                    orders['group'] == 'B',\n",
    "                    np.logical_not(orders['visitorId'].isin(abnormalUsers)),\n",
    "                )\n",
    "            ]['revenue'],\n",
    "        )[1]\n",
    "    )\n",
    ")\n",
    "\n",
    "print(\n",
    "    \"{0:.3f}\".format(\n",
    "        orders[\n",
    "            np.logical_and(\n",
    "                orders['group'] == 'B',\n",
    "                np.logical_not(orders['visitorId'].isin(abnormalUsers)),\n",
    "            )\n",
    "        ]['revenue'].mean()\n",
    "        / orders[\n",
    "            np.logical_and(\n",
    "                orders['group'] == 'A',\n",
    "                np.logical_not(orders['visitorId'].isin(abnormalUsers)),\n",
    "            )\n",
    "        ]['revenue'].mean()\n",
    "        - 1\n",
    "    )\n",
    ") "
   ]
  },
  {
   "cell_type": "markdown",
   "metadata": {},
   "source": [
    "Разница по среднему чеку между группами сократилась с 26% до 3,7%. \n",
    "Выбросы могут значительно влиять на результаты A/B-теста, их исключили.\n",
    "\n",
    "P-value увеличилась до 99%. Статистически значимых различий по среднему чеку нет."
   ]
  },
  {
   "cell_type": "markdown",
   "metadata": {},
   "source": [
    "Что имеем в результате:\n",
    "- Статистическая значимость различий в конверсии достигнута с очищенными данными. P-value 0,007%. \n",
    "- Относительный прирост конверсии группы В к группе А составил 18.5%. Группа В лучше группы А.\n",
    "- Отличия по среднему чеку незначительны - 3,7 %. Статистически значимых отличий по среднему чеку нет."
   ]
  },
  {
   "cell_type": "markdown",
   "metadata": {},
   "source": [
    "## Вывод по А/В тесту"
   ]
  },
  {
   "cell_type": "markdown",
   "metadata": {},
   "source": [
    "Тест можно остановить. В группе В конверсия лучше чем группе A, на 18,5 % и зафиксировалась приблизительно на одном значении. Средний чек в группе В увеличился, по очищенным данным, относительное изменение на 3,7 %. \n",
    "В среднем чеке различий нет, вероятность того, что такие различия случайны - 99%\n",
    "\n",
    "Тест успешный. "
   ]
  }
 ],
 "metadata": {
  "ExecuteTimeLog": [
   {
    "duration": 433,
    "start_time": "2022-05-10T20:17:48.208Z"
   },
   {
    "duration": 20,
    "start_time": "2022-05-10T20:18:00.182Z"
   },
   {
    "duration": 57,
    "start_time": "2022-05-10T20:18:15.732Z"
   },
   {
    "duration": 6,
    "start_time": "2022-05-10T20:18:26.027Z"
   },
   {
    "duration": 7,
    "start_time": "2022-05-10T20:18:28.713Z"
   },
   {
    "duration": 10,
    "start_time": "2022-05-10T20:18:35.380Z"
   },
   {
    "duration": 9,
    "start_time": "2022-05-10T20:22:29.896Z"
   },
   {
    "duration": 3,
    "start_time": "2022-05-10T20:23:01.536Z"
   },
   {
    "duration": 43,
    "start_time": "2022-05-10T20:23:03.801Z"
   },
   {
    "duration": 98,
    "start_time": "2022-05-12T19:43:20.442Z"
   },
   {
    "duration": 12,
    "start_time": "2022-05-12T19:43:26.700Z"
   },
   {
    "duration": 595,
    "start_time": "2022-05-12T19:43:37.849Z"
   },
   {
    "duration": 46,
    "start_time": "2022-05-12T19:43:38.447Z"
   },
   {
    "duration": 22,
    "start_time": "2022-05-12T19:43:38.495Z"
   },
   {
    "duration": 2432,
    "start_time": "2022-05-12T19:43:38.520Z"
   },
   {
    "duration": 5,
    "start_time": "2022-05-12T19:46:56.798Z"
   },
   {
    "duration": 545,
    "start_time": "2022-05-12T19:47:03.798Z"
   },
   {
    "duration": 60,
    "start_time": "2022-05-12T19:47:04.346Z"
   },
   {
    "duration": 17,
    "start_time": "2022-05-12T19:47:04.408Z"
   },
   {
    "duration": 17,
    "start_time": "2022-05-12T19:47:04.429Z"
   },
   {
    "duration": 67,
    "start_time": "2022-05-12T19:47:04.449Z"
   },
   {
    "duration": 21,
    "start_time": "2022-05-12T19:48:12.237Z"
   },
   {
    "duration": 16,
    "start_time": "2022-05-12T19:48:34.696Z"
   },
   {
    "duration": 28,
    "start_time": "2022-05-12T19:49:05.754Z"
   },
   {
    "duration": 16,
    "start_time": "2022-05-12T19:49:26.265Z"
   },
   {
    "duration": 117,
    "start_time": "2022-05-12T20:11:11.849Z"
   },
   {
    "duration": 19,
    "start_time": "2022-05-12T20:11:32.082Z"
   },
   {
    "duration": 18,
    "start_time": "2022-05-12T20:13:27.116Z"
   },
   {
    "duration": 21,
    "start_time": "2022-05-12T20:42:00.833Z"
   },
   {
    "duration": 18,
    "start_time": "2022-05-12T20:42:17.126Z"
   },
   {
    "duration": 129,
    "start_time": "2022-05-12T20:42:59.648Z"
   },
   {
    "duration": 676,
    "start_time": "2022-05-13T16:41:08.168Z"
   },
   {
    "duration": 70,
    "start_time": "2022-05-13T16:41:08.848Z"
   },
   {
    "duration": 33,
    "start_time": "2022-05-13T16:41:08.921Z"
   },
   {
    "duration": 22,
    "start_time": "2022-05-13T16:41:08.958Z"
   },
   {
    "duration": 6,
    "start_time": "2022-05-13T16:41:08.993Z"
   },
   {
    "duration": 23,
    "start_time": "2022-05-13T16:41:09.002Z"
   },
   {
    "duration": 19,
    "start_time": "2022-05-13T16:41:09.029Z"
   },
   {
    "duration": 5,
    "start_time": "2022-05-13T16:41:42.975Z"
   },
   {
    "duration": 18,
    "start_time": "2022-05-13T16:45:21.715Z"
   },
   {
    "duration": 92,
    "start_time": "2022-05-13T16:45:44.043Z"
   },
   {
    "duration": 16,
    "start_time": "2022-05-13T16:45:52.670Z"
   },
   {
    "duration": 14,
    "start_time": "2022-05-13T16:46:08.419Z"
   },
   {
    "duration": 15,
    "start_time": "2022-05-13T16:46:24.115Z"
   },
   {
    "duration": 18,
    "start_time": "2022-05-13T17:42:16.299Z"
   },
   {
    "duration": 17,
    "start_time": "2022-05-13T17:43:14.376Z"
   },
   {
    "duration": 18,
    "start_time": "2022-05-13T17:43:47.280Z"
   },
   {
    "duration": 676,
    "start_time": "2022-05-13T17:46:16.436Z"
   },
   {
    "duration": 448,
    "start_time": "2022-05-13T17:46:40.533Z"
   },
   {
    "duration": 64,
    "start_time": "2022-05-13T17:46:40.983Z"
   },
   {
    "duration": 22,
    "start_time": "2022-05-13T17:46:41.049Z"
   },
   {
    "duration": 15,
    "start_time": "2022-05-13T17:46:41.074Z"
   },
   {
    "duration": 13,
    "start_time": "2022-05-13T17:46:41.092Z"
   },
   {
    "duration": 29,
    "start_time": "2022-05-13T17:46:41.107Z"
   },
   {
    "duration": 17,
    "start_time": "2022-05-13T17:46:41.138Z"
   },
   {
    "duration": 25,
    "start_time": "2022-05-13T17:46:41.157Z"
   },
   {
    "duration": 27,
    "start_time": "2022-05-13T17:46:41.184Z"
   },
   {
    "duration": 17,
    "start_time": "2022-05-13T17:46:41.214Z"
   },
   {
    "duration": 14,
    "start_time": "2022-05-13T17:46:41.233Z"
   },
   {
    "duration": 851,
    "start_time": "2022-05-13T17:46:41.250Z"
   },
   {
    "duration": 679,
    "start_time": "2022-05-13T17:47:55.216Z"
   },
   {
    "duration": 20,
    "start_time": "2022-05-13T17:49:36.915Z"
   },
   {
    "duration": 18,
    "start_time": "2022-05-13T17:49:43.330Z"
   },
   {
    "duration": 7,
    "start_time": "2022-05-13T17:50:02.189Z"
   },
   {
    "duration": 7,
    "start_time": "2022-05-13T17:50:12.814Z"
   },
   {
    "duration": 6,
    "start_time": "2022-05-13T17:52:31.525Z"
   },
   {
    "duration": 5,
    "start_time": "2022-05-13T17:52:39.470Z"
   },
   {
    "duration": 15,
    "start_time": "2022-05-13T17:54:25.760Z"
   },
   {
    "duration": 15,
    "start_time": "2022-05-13T17:54:32.881Z"
   },
   {
    "duration": 16,
    "start_time": "2022-05-13T17:54:48.305Z"
   },
   {
    "duration": 8,
    "start_time": "2022-05-13T17:58:12.663Z"
   },
   {
    "duration": 18,
    "start_time": "2022-05-13T17:58:16.844Z"
   },
   {
    "duration": 16,
    "start_time": "2022-05-13T17:58:28.812Z"
   },
   {
    "duration": 19,
    "start_time": "2022-05-13T17:58:55.850Z"
   },
   {
    "duration": 29,
    "start_time": "2022-05-13T18:02:02.505Z"
   },
   {
    "duration": 528,
    "start_time": "2022-05-13T18:02:42.455Z"
   },
   {
    "duration": 122,
    "start_time": "2022-05-13T18:02:42.986Z"
   },
   {
    "duration": 29,
    "start_time": "2022-05-13T18:02:43.111Z"
   },
   {
    "duration": 22,
    "start_time": "2022-05-13T18:02:43.143Z"
   },
   {
    "duration": 23,
    "start_time": "2022-05-13T18:02:43.171Z"
   },
   {
    "duration": 44,
    "start_time": "2022-05-13T18:02:43.197Z"
   },
   {
    "duration": 22,
    "start_time": "2022-05-13T18:02:43.243Z"
   },
   {
    "duration": 35,
    "start_time": "2022-05-13T18:02:43.267Z"
   },
   {
    "duration": 27,
    "start_time": "2022-05-13T18:02:43.305Z"
   },
   {
    "duration": 21,
    "start_time": "2022-05-13T18:02:43.335Z"
   },
   {
    "duration": 43,
    "start_time": "2022-05-13T18:02:43.358Z"
   },
   {
    "duration": 33,
    "start_time": "2022-05-13T18:02:43.404Z"
   },
   {
    "duration": 9,
    "start_time": "2022-05-13T18:02:43.439Z"
   },
   {
    "duration": 51,
    "start_time": "2022-05-13T18:02:43.453Z"
   },
   {
    "duration": 149,
    "start_time": "2022-05-13T18:02:43.507Z"
   },
   {
    "duration": 265,
    "start_time": "2022-05-13T18:04:31.104Z"
   },
   {
    "duration": 17,
    "start_time": "2022-05-13T18:04:36.522Z"
   },
   {
    "duration": 279,
    "start_time": "2022-05-13T18:11:44.674Z"
   },
   {
    "duration": 198,
    "start_time": "2022-05-13T18:21:34.514Z"
   },
   {
    "duration": 15,
    "start_time": "2022-05-13T18:21:38.737Z"
   },
   {
    "duration": 260,
    "start_time": "2022-05-13T18:23:06.518Z"
   },
   {
    "duration": 10,
    "start_time": "2022-05-13T18:24:06.839Z"
   },
   {
    "duration": 33,
    "start_time": "2022-05-13T18:24:14.110Z"
   },
   {
    "duration": 698,
    "start_time": "2022-05-13T18:24:36.907Z"
   },
   {
    "duration": 73,
    "start_time": "2022-05-13T18:24:37.609Z"
   },
   {
    "duration": 34,
    "start_time": "2022-05-13T18:24:37.687Z"
   },
   {
    "duration": 24,
    "start_time": "2022-05-13T18:24:37.724Z"
   },
   {
    "duration": 8,
    "start_time": "2022-05-13T18:24:37.751Z"
   },
   {
    "duration": 53,
    "start_time": "2022-05-13T18:24:37.762Z"
   },
   {
    "duration": 26,
    "start_time": "2022-05-13T18:24:37.819Z"
   },
   {
    "duration": 45,
    "start_time": "2022-05-13T18:24:37.849Z"
   },
   {
    "duration": 16,
    "start_time": "2022-05-13T18:24:37.896Z"
   },
   {
    "duration": 16,
    "start_time": "2022-05-13T18:24:37.914Z"
   },
   {
    "duration": 16,
    "start_time": "2022-05-13T18:24:37.932Z"
   },
   {
    "duration": 55,
    "start_time": "2022-05-13T18:24:37.951Z"
   },
   {
    "duration": 8,
    "start_time": "2022-05-13T18:24:38.009Z"
   },
   {
    "duration": 18,
    "start_time": "2022-05-13T18:24:38.020Z"
   },
   {
    "duration": 320,
    "start_time": "2022-05-13T18:24:38.041Z"
   },
   {
    "duration": 241,
    "start_time": "2022-05-13T18:24:38.364Z"
   },
   {
    "duration": 35,
    "start_time": "2022-05-13T18:24:38.608Z"
   },
   {
    "duration": 506,
    "start_time": "2022-05-13T19:26:27.792Z"
   },
   {
    "duration": 65,
    "start_time": "2022-05-13T19:26:28.301Z"
   },
   {
    "duration": 23,
    "start_time": "2022-05-13T19:26:28.368Z"
   },
   {
    "duration": 15,
    "start_time": "2022-05-13T19:26:28.393Z"
   },
   {
    "duration": 7,
    "start_time": "2022-05-13T19:26:28.412Z"
   },
   {
    "duration": 25,
    "start_time": "2022-05-13T19:26:28.421Z"
   },
   {
    "duration": 47,
    "start_time": "2022-05-13T19:26:28.449Z"
   },
   {
    "duration": 27,
    "start_time": "2022-05-13T19:26:28.499Z"
   },
   {
    "duration": 30,
    "start_time": "2022-05-13T19:26:28.529Z"
   },
   {
    "duration": 31,
    "start_time": "2022-05-13T19:26:28.561Z"
   },
   {
    "duration": 16,
    "start_time": "2022-05-13T19:26:28.594Z"
   },
   {
    "duration": 22,
    "start_time": "2022-05-13T19:26:28.613Z"
   },
   {
    "duration": 18,
    "start_time": "2022-05-13T19:26:28.637Z"
   },
   {
    "duration": 39,
    "start_time": "2022-05-13T19:26:28.658Z"
   },
   {
    "duration": 281,
    "start_time": "2022-05-13T19:26:28.700Z"
   },
   {
    "duration": 243,
    "start_time": "2022-05-13T19:26:28.983Z"
   },
   {
    "duration": 24,
    "start_time": "2022-05-13T19:26:29.228Z"
   },
   {
    "duration": 123,
    "start_time": "2022-05-13T19:26:29.254Z"
   },
   {
    "duration": 1528,
    "start_time": "2022-05-13T19:28:03.263Z"
   },
   {
    "duration": 70,
    "start_time": "2022-05-13T19:28:04.795Z"
   },
   {
    "duration": 18,
    "start_time": "2022-05-13T19:28:04.867Z"
   },
   {
    "duration": 18,
    "start_time": "2022-05-13T19:28:04.888Z"
   },
   {
    "duration": 8,
    "start_time": "2022-05-13T19:28:04.908Z"
   },
   {
    "duration": 21,
    "start_time": "2022-05-13T19:28:04.918Z"
   },
   {
    "duration": 19,
    "start_time": "2022-05-13T19:28:04.942Z"
   },
   {
    "duration": 19,
    "start_time": "2022-05-13T19:28:04.994Z"
   },
   {
    "duration": 18,
    "start_time": "2022-05-13T19:28:05.015Z"
   },
   {
    "duration": 15,
    "start_time": "2022-05-13T19:28:05.037Z"
   },
   {
    "duration": 51,
    "start_time": "2022-05-13T19:28:05.054Z"
   },
   {
    "duration": 23,
    "start_time": "2022-05-13T19:28:05.107Z"
   },
   {
    "duration": 8,
    "start_time": "2022-05-13T19:28:05.133Z"
   },
   {
    "duration": 20,
    "start_time": "2022-05-13T19:28:05.143Z"
   },
   {
    "duration": 317,
    "start_time": "2022-05-13T19:28:05.165Z"
   },
   {
    "duration": 232,
    "start_time": "2022-05-13T19:28:05.484Z"
   },
   {
    "duration": 25,
    "start_time": "2022-05-13T19:28:05.718Z"
   },
   {
    "duration": 424,
    "start_time": "2022-05-13T19:28:05.745Z"
   },
   {
    "duration": 414,
    "start_time": "2022-05-13T19:28:29.372Z"
   },
   {
    "duration": 862,
    "start_time": "2022-05-13T19:28:47.071Z"
   },
   {
    "duration": 63,
    "start_time": "2022-05-13T19:28:47.936Z"
   },
   {
    "duration": 16,
    "start_time": "2022-05-13T19:28:48.001Z"
   },
   {
    "duration": 18,
    "start_time": "2022-05-13T19:28:48.020Z"
   },
   {
    "duration": 5,
    "start_time": "2022-05-13T19:28:48.041Z"
   },
   {
    "duration": 45,
    "start_time": "2022-05-13T19:28:48.048Z"
   },
   {
    "duration": 19,
    "start_time": "2022-05-13T19:28:48.095Z"
   },
   {
    "duration": 17,
    "start_time": "2022-05-13T19:28:48.116Z"
   },
   {
    "duration": 15,
    "start_time": "2022-05-13T19:28:48.135Z"
   },
   {
    "duration": 50,
    "start_time": "2022-05-13T19:28:48.152Z"
   },
   {
    "duration": 15,
    "start_time": "2022-05-13T19:28:48.205Z"
   },
   {
    "duration": 23,
    "start_time": "2022-05-13T19:28:48.223Z"
   },
   {
    "duration": 9,
    "start_time": "2022-05-13T19:28:48.248Z"
   },
   {
    "duration": 20,
    "start_time": "2022-05-13T19:28:48.295Z"
   },
   {
    "duration": 298,
    "start_time": "2022-05-13T19:28:48.318Z"
   },
   {
    "duration": 238,
    "start_time": "2022-05-13T19:28:48.618Z"
   },
   {
    "duration": 51,
    "start_time": "2022-05-13T19:28:48.858Z"
   },
   {
    "duration": 552,
    "start_time": "2022-05-13T19:28:48.912Z"
   },
   {
    "duration": 845,
    "start_time": "2022-05-13T19:30:06.783Z"
   },
   {
    "duration": 67,
    "start_time": "2022-05-13T19:30:07.631Z"
   },
   {
    "duration": 17,
    "start_time": "2022-05-13T19:30:07.700Z"
   },
   {
    "duration": 17,
    "start_time": "2022-05-13T19:30:07.719Z"
   },
   {
    "duration": 8,
    "start_time": "2022-05-13T19:30:07.739Z"
   },
   {
    "duration": 46,
    "start_time": "2022-05-13T19:30:07.749Z"
   },
   {
    "duration": 20,
    "start_time": "2022-05-13T19:30:07.797Z"
   },
   {
    "duration": 21,
    "start_time": "2022-05-13T19:30:07.819Z"
   },
   {
    "duration": 20,
    "start_time": "2022-05-13T19:30:07.842Z"
   },
   {
    "duration": 39,
    "start_time": "2022-05-13T19:30:07.864Z"
   },
   {
    "duration": 16,
    "start_time": "2022-05-13T19:30:07.906Z"
   },
   {
    "duration": 21,
    "start_time": "2022-05-13T19:30:07.925Z"
   },
   {
    "duration": 9,
    "start_time": "2022-05-13T19:30:07.948Z"
   },
   {
    "duration": 18,
    "start_time": "2022-05-13T19:30:07.994Z"
   },
   {
    "duration": 284,
    "start_time": "2022-05-13T19:30:08.014Z"
   },
   {
    "duration": 244,
    "start_time": "2022-05-13T19:30:08.300Z"
   },
   {
    "duration": 49,
    "start_time": "2022-05-13T19:30:08.546Z"
   },
   {
    "duration": 564,
    "start_time": "2022-05-13T19:30:08.597Z"
   },
   {
    "duration": 326,
    "start_time": "2022-05-13T19:31:18.414Z"
   },
   {
    "duration": 439,
    "start_time": "2022-05-13T19:31:33.663Z"
   },
   {
    "duration": 302,
    "start_time": "2022-05-13T19:31:51.315Z"
   },
   {
    "duration": 272,
    "start_time": "2022-05-13T19:32:06.295Z"
   },
   {
    "duration": 262,
    "start_time": "2022-05-13T19:32:31.872Z"
   },
   {
    "duration": 275,
    "start_time": "2022-05-13T19:32:37.696Z"
   },
   {
    "duration": 277,
    "start_time": "2022-05-13T19:45:23.670Z"
   },
   {
    "duration": 263,
    "start_time": "2022-05-13T19:45:55.358Z"
   },
   {
    "duration": 219,
    "start_time": "2022-05-13T19:46:42.061Z"
   },
   {
    "duration": 239,
    "start_time": "2022-05-13T19:47:00.984Z"
   },
   {
    "duration": 272,
    "start_time": "2022-05-13T19:47:14.055Z"
   },
   {
    "duration": 266,
    "start_time": "2022-05-13T19:47:22.687Z"
   },
   {
    "duration": 306,
    "start_time": "2022-05-13T19:47:29.747Z"
   },
   {
    "duration": 260,
    "start_time": "2022-05-13T19:47:35.915Z"
   },
   {
    "duration": 328,
    "start_time": "2022-05-13T19:49:40.041Z"
   },
   {
    "duration": 279,
    "start_time": "2022-05-13T19:49:49.881Z"
   },
   {
    "duration": 275,
    "start_time": "2022-05-13T19:51:12.483Z"
   },
   {
    "duration": 271,
    "start_time": "2022-05-13T19:51:24.331Z"
   },
   {
    "duration": 275,
    "start_time": "2022-05-13T19:51:46.912Z"
   },
   {
    "duration": 270,
    "start_time": "2022-05-13T19:52:09.050Z"
   },
   {
    "duration": 268,
    "start_time": "2022-05-13T19:52:19.187Z"
   },
   {
    "duration": 189,
    "start_time": "2022-05-13T19:52:50.667Z"
   },
   {
    "duration": 269,
    "start_time": "2022-05-13T19:53:12.947Z"
   },
   {
    "duration": 295,
    "start_time": "2022-05-13T19:53:22.164Z"
   },
   {
    "duration": 405,
    "start_time": "2022-05-13T19:55:09.475Z"
   },
   {
    "duration": 796,
    "start_time": "2022-05-13T19:55:41.021Z"
   },
   {
    "duration": 64,
    "start_time": "2022-05-13T19:55:41.819Z"
   },
   {
    "duration": 17,
    "start_time": "2022-05-13T19:55:41.885Z"
   },
   {
    "duration": 15,
    "start_time": "2022-05-13T19:55:41.905Z"
   },
   {
    "duration": 6,
    "start_time": "2022-05-13T19:55:41.922Z"
   },
   {
    "duration": 19,
    "start_time": "2022-05-13T19:55:41.930Z"
   },
   {
    "duration": 43,
    "start_time": "2022-05-13T19:55:41.951Z"
   },
   {
    "duration": 18,
    "start_time": "2022-05-13T19:55:41.997Z"
   },
   {
    "duration": 15,
    "start_time": "2022-05-13T19:55:42.017Z"
   },
   {
    "duration": 13,
    "start_time": "2022-05-13T19:55:42.036Z"
   },
   {
    "duration": 50,
    "start_time": "2022-05-13T19:55:42.051Z"
   },
   {
    "duration": 22,
    "start_time": "2022-05-13T19:55:42.103Z"
   },
   {
    "duration": 7,
    "start_time": "2022-05-13T19:55:42.127Z"
   },
   {
    "duration": 19,
    "start_time": "2022-05-13T19:55:42.137Z"
   },
   {
    "duration": 281,
    "start_time": "2022-05-13T19:55:42.194Z"
   },
   {
    "duration": 242,
    "start_time": "2022-05-13T19:55:42.478Z"
   },
   {
    "duration": 25,
    "start_time": "2022-05-13T19:55:42.722Z"
   },
   {
    "duration": 45,
    "start_time": "2022-05-13T19:55:42.749Z"
   },
   {
    "duration": 447,
    "start_time": "2022-05-13T19:55:42.797Z"
   },
   {
    "duration": 870,
    "start_time": "2022-05-14T19:05:07.945Z"
   },
   {
    "duration": 64,
    "start_time": "2022-05-14T19:05:08.817Z"
   },
   {
    "duration": 15,
    "start_time": "2022-05-14T19:05:08.883Z"
   },
   {
    "duration": 25,
    "start_time": "2022-05-14T19:05:08.901Z"
   },
   {
    "duration": 22,
    "start_time": "2022-05-14T19:05:08.928Z"
   },
   {
    "duration": 23,
    "start_time": "2022-05-14T19:05:08.952Z"
   },
   {
    "duration": 26,
    "start_time": "2022-05-14T19:05:08.977Z"
   },
   {
    "duration": 20,
    "start_time": "2022-05-14T19:05:09.006Z"
   },
   {
    "duration": 30,
    "start_time": "2022-05-14T19:05:09.028Z"
   },
   {
    "duration": 15,
    "start_time": "2022-05-14T19:05:09.062Z"
   },
   {
    "duration": 30,
    "start_time": "2022-05-14T19:05:09.080Z"
   },
   {
    "duration": 39,
    "start_time": "2022-05-14T19:05:09.112Z"
   },
   {
    "duration": 9,
    "start_time": "2022-05-14T19:05:09.153Z"
   },
   {
    "duration": 38,
    "start_time": "2022-05-14T19:05:09.163Z"
   },
   {
    "duration": 181,
    "start_time": "2022-05-14T19:05:09.203Z"
   },
   {
    "duration": 151,
    "start_time": "2022-05-14T19:05:09.386Z"
   },
   {
    "duration": 17,
    "start_time": "2022-05-14T19:05:09.539Z"
   },
   {
    "duration": 23,
    "start_time": "2022-05-14T19:05:09.557Z"
   },
   {
    "duration": 270,
    "start_time": "2022-05-14T19:05:09.582Z"
   },
   {
    "duration": 708,
    "start_time": "2022-05-14T19:10:10.853Z"
   },
   {
    "duration": 64,
    "start_time": "2022-05-14T19:10:11.563Z"
   },
   {
    "duration": 12,
    "start_time": "2022-05-14T19:10:11.629Z"
   },
   {
    "duration": 44,
    "start_time": "2022-05-14T19:10:11.643Z"
   },
   {
    "duration": 23,
    "start_time": "2022-05-14T19:10:11.690Z"
   },
   {
    "duration": 42,
    "start_time": "2022-05-14T19:10:11.715Z"
   },
   {
    "duration": 13,
    "start_time": "2022-05-14T19:10:11.759Z"
   },
   {
    "duration": 39,
    "start_time": "2022-05-14T19:10:11.773Z"
   },
   {
    "duration": 31,
    "start_time": "2022-05-14T19:10:11.813Z"
   },
   {
    "duration": 30,
    "start_time": "2022-05-14T19:10:11.845Z"
   },
   {
    "duration": 37,
    "start_time": "2022-05-14T19:10:11.876Z"
   },
   {
    "duration": 36,
    "start_time": "2022-05-14T19:10:11.915Z"
   },
   {
    "duration": 37,
    "start_time": "2022-05-14T19:10:11.953Z"
   },
   {
    "duration": 216,
    "start_time": "2022-05-14T19:10:11.994Z"
   },
   {
    "duration": 142,
    "start_time": "2022-05-14T19:10:12.212Z"
   },
   {
    "duration": 18,
    "start_time": "2022-05-14T19:10:12.356Z"
   },
   {
    "duration": 288,
    "start_time": "2022-05-14T19:10:12.377Z"
   },
   {
    "duration": 731,
    "start_time": "2022-05-14T20:52:02.107Z"
   },
   {
    "duration": 67,
    "start_time": "2022-05-14T20:52:02.840Z"
   },
   {
    "duration": 14,
    "start_time": "2022-05-14T20:52:02.908Z"
   },
   {
    "duration": 18,
    "start_time": "2022-05-14T20:52:02.924Z"
   },
   {
    "duration": 9,
    "start_time": "2022-05-14T20:52:02.945Z"
   },
   {
    "duration": 22,
    "start_time": "2022-05-14T20:52:02.955Z"
   },
   {
    "duration": 24,
    "start_time": "2022-05-14T20:52:02.979Z"
   },
   {
    "duration": 24,
    "start_time": "2022-05-14T20:52:03.006Z"
   },
   {
    "duration": 17,
    "start_time": "2022-05-14T20:52:03.032Z"
   },
   {
    "duration": 21,
    "start_time": "2022-05-14T20:52:03.051Z"
   },
   {
    "duration": 27,
    "start_time": "2022-05-14T20:52:03.074Z"
   },
   {
    "duration": 27,
    "start_time": "2022-05-14T20:52:03.104Z"
   },
   {
    "duration": 25,
    "start_time": "2022-05-14T20:52:03.133Z"
   },
   {
    "duration": 187,
    "start_time": "2022-05-14T20:52:03.161Z"
   },
   {
    "duration": 144,
    "start_time": "2022-05-14T20:52:03.350Z"
   },
   {
    "duration": 35,
    "start_time": "2022-05-14T20:52:03.496Z"
   },
   {
    "duration": 275,
    "start_time": "2022-05-14T20:52:03.533Z"
   },
   {
    "duration": 184,
    "start_time": "2022-05-14T20:52:03.810Z"
   },
   {
    "duration": 186,
    "start_time": "2022-05-14T20:52:16.984Z"
   },
   {
    "duration": 187,
    "start_time": "2022-05-14T20:56:34.355Z"
   },
   {
    "duration": 253,
    "start_time": "2022-05-14T20:56:51.715Z"
   },
   {
    "duration": 743,
    "start_time": "2022-05-14T20:57:16.280Z"
   },
   {
    "duration": 65,
    "start_time": "2022-05-14T20:57:17.025Z"
   },
   {
    "duration": 14,
    "start_time": "2022-05-14T20:57:17.092Z"
   },
   {
    "duration": 13,
    "start_time": "2022-05-14T20:57:17.107Z"
   },
   {
    "duration": 8,
    "start_time": "2022-05-14T20:57:17.123Z"
   },
   {
    "duration": 15,
    "start_time": "2022-05-14T20:57:17.133Z"
   },
   {
    "duration": 14,
    "start_time": "2022-05-14T20:57:17.149Z"
   },
   {
    "duration": 18,
    "start_time": "2022-05-14T20:57:17.164Z"
   },
   {
    "duration": 13,
    "start_time": "2022-05-14T20:57:17.183Z"
   },
   {
    "duration": 33,
    "start_time": "2022-05-14T20:57:17.197Z"
   },
   {
    "duration": 10,
    "start_time": "2022-05-14T20:57:17.232Z"
   },
   {
    "duration": 15,
    "start_time": "2022-05-14T20:57:17.244Z"
   },
   {
    "duration": 15,
    "start_time": "2022-05-14T20:57:17.261Z"
   },
   {
    "duration": 204,
    "start_time": "2022-05-14T20:57:17.279Z"
   },
   {
    "duration": 153,
    "start_time": "2022-05-14T20:57:17.485Z"
   },
   {
    "duration": 18,
    "start_time": "2022-05-14T20:57:17.639Z"
   },
   {
    "duration": 298,
    "start_time": "2022-05-14T20:57:17.659Z"
   },
   {
    "duration": 210,
    "start_time": "2022-05-14T20:57:17.959Z"
   },
   {
    "duration": 14,
    "start_time": "2022-05-14T21:23:26.007Z"
   },
   {
    "duration": 180,
    "start_time": "2022-05-14T21:24:01.534Z"
   },
   {
    "duration": 285,
    "start_time": "2022-05-14T21:24:07.055Z"
   },
   {
    "duration": 18,
    "start_time": "2022-05-14T21:24:56.318Z"
   },
   {
    "duration": 12,
    "start_time": "2022-05-14T21:26:26.602Z"
   },
   {
    "duration": 287,
    "start_time": "2022-05-14T21:26:38.905Z"
   },
   {
    "duration": 235,
    "start_time": "2022-05-14T21:26:53.961Z"
   },
   {
    "duration": 287,
    "start_time": "2022-05-14T21:27:00.817Z"
   },
   {
    "duration": 298,
    "start_time": "2022-05-14T21:27:47.090Z"
   },
   {
    "duration": 291,
    "start_time": "2022-05-14T21:27:59.634Z"
   },
   {
    "duration": 14,
    "start_time": "2022-05-14T21:31:21.661Z"
   },
   {
    "duration": 276,
    "start_time": "2022-05-14T21:32:12.468Z"
   },
   {
    "duration": 47,
    "start_time": "2022-05-15T10:49:29.312Z"
   },
   {
    "duration": 7,
    "start_time": "2022-05-15T10:50:35.793Z"
   },
   {
    "duration": 803,
    "start_time": "2022-05-15T10:50:49.358Z"
   },
   {
    "duration": 37,
    "start_time": "2022-05-15T10:50:50.163Z"
   },
   {
    "duration": 12,
    "start_time": "2022-05-15T10:50:50.203Z"
   },
   {
    "duration": 16,
    "start_time": "2022-05-15T10:50:50.217Z"
   },
   {
    "duration": 3,
    "start_time": "2022-05-15T10:50:50.235Z"
   },
   {
    "duration": 14,
    "start_time": "2022-05-15T10:50:50.240Z"
   },
   {
    "duration": 15,
    "start_time": "2022-05-15T10:50:50.255Z"
   },
   {
    "duration": 34,
    "start_time": "2022-05-15T10:50:50.272Z"
   },
   {
    "duration": 25,
    "start_time": "2022-05-15T10:50:50.308Z"
   },
   {
    "duration": 28,
    "start_time": "2022-05-15T10:50:50.334Z"
   },
   {
    "duration": 17,
    "start_time": "2022-05-15T10:50:50.364Z"
   },
   {
    "duration": 27,
    "start_time": "2022-05-15T10:50:50.383Z"
   },
   {
    "duration": 14,
    "start_time": "2022-05-15T10:50:50.413Z"
   },
   {
    "duration": 164,
    "start_time": "2022-05-15T10:50:50.429Z"
   },
   {
    "duration": 132,
    "start_time": "2022-05-15T10:50:50.594Z"
   },
   {
    "duration": 15,
    "start_time": "2022-05-15T10:50:50.727Z"
   },
   {
    "duration": 278,
    "start_time": "2022-05-15T10:50:50.744Z"
   },
   {
    "duration": 185,
    "start_time": "2022-05-15T10:50:51.024Z"
   },
   {
    "duration": 11,
    "start_time": "2022-05-15T10:50:51.211Z"
   },
   {
    "duration": 315,
    "start_time": "2022-05-15T10:50:51.223Z"
   },
   {
    "duration": 74,
    "start_time": "2022-05-15T10:50:51.540Z"
   },
   {
    "duration": 6,
    "start_time": "2022-05-15T10:53:23.911Z"
   },
   {
    "duration": 222,
    "start_time": "2022-05-15T10:54:50.423Z"
   },
   {
    "duration": 173,
    "start_time": "2022-05-15T10:55:05.128Z"
   },
   {
    "duration": 162,
    "start_time": "2022-05-15T10:55:13.415Z"
   },
   {
    "duration": 179,
    "start_time": "2022-05-15T11:26:08.389Z"
   },
   {
    "duration": 8,
    "start_time": "2022-05-15T11:35:38.626Z"
   },
   {
    "duration": 25,
    "start_time": "2022-05-15T11:46:20.924Z"
   },
   {
    "duration": 12,
    "start_time": "2022-05-15T11:46:32.907Z"
   },
   {
    "duration": 177,
    "start_time": "2022-05-15T11:47:19.503Z"
   },
   {
    "duration": 321,
    "start_time": "2022-05-15T11:48:09.372Z"
   },
   {
    "duration": 290,
    "start_time": "2022-05-15T11:49:04.105Z"
   },
   {
    "duration": 291,
    "start_time": "2022-05-15T11:50:26.509Z"
   },
   {
    "duration": 303,
    "start_time": "2022-05-15T11:51:09.105Z"
   },
   {
    "duration": 306,
    "start_time": "2022-05-15T11:52:15.347Z"
   },
   {
    "duration": 277,
    "start_time": "2022-05-15T11:53:02.258Z"
   },
   {
    "duration": 348,
    "start_time": "2022-05-15T11:53:16.330Z"
   },
   {
    "duration": 291,
    "start_time": "2022-05-15T11:53:28.210Z"
   },
   {
    "duration": 266,
    "start_time": "2022-05-15T11:53:57.739Z"
   },
   {
    "duration": 311,
    "start_time": "2022-05-15T11:54:16.265Z"
   },
   {
    "duration": 281,
    "start_time": "2022-05-15T11:54:29.518Z"
   },
   {
    "duration": 301,
    "start_time": "2022-05-15T11:54:40.379Z"
   },
   {
    "duration": 270,
    "start_time": "2022-05-15T11:56:17.746Z"
   },
   {
    "duration": 82,
    "start_time": "2022-05-15T11:59:50.893Z"
   },
   {
    "duration": 120,
    "start_time": "2022-05-15T19:54:05.287Z"
   },
   {
    "duration": 1829,
    "start_time": "2022-05-15T19:57:34.787Z"
   },
   {
    "duration": 158,
    "start_time": "2022-05-15T19:57:36.624Z"
   },
   {
    "duration": 21,
    "start_time": "2022-05-15T19:57:36.784Z"
   },
   {
    "duration": 106,
    "start_time": "2022-05-15T19:57:36.809Z"
   },
   {
    "duration": 22,
    "start_time": "2022-05-15T19:57:36.918Z"
   },
   {
    "duration": 99,
    "start_time": "2022-05-15T19:57:36.944Z"
   },
   {
    "duration": 55,
    "start_time": "2022-05-15T19:57:37.045Z"
   },
   {
    "duration": 86,
    "start_time": "2022-05-15T19:57:37.103Z"
   },
   {
    "duration": 76,
    "start_time": "2022-05-15T19:57:37.191Z"
   },
   {
    "duration": 14,
    "start_time": "2022-05-15T19:57:37.272Z"
   },
   {
    "duration": 37,
    "start_time": "2022-05-15T19:57:37.288Z"
   },
   {
    "duration": 58,
    "start_time": "2022-05-15T19:57:37.328Z"
   },
   {
    "duration": 48,
    "start_time": "2022-05-15T19:57:37.389Z"
   },
   {
    "duration": 388,
    "start_time": "2022-05-15T19:57:37.444Z"
   },
   {
    "duration": 306,
    "start_time": "2022-05-15T19:57:37.836Z"
   },
   {
    "duration": 32,
    "start_time": "2022-05-15T19:57:38.145Z"
   },
   {
    "duration": 584,
    "start_time": "2022-05-15T19:57:38.180Z"
   },
   {
    "duration": 407,
    "start_time": "2022-05-15T19:57:38.767Z"
   },
   {
    "duration": 35,
    "start_time": "2022-05-15T19:57:39.176Z"
   },
   {
    "duration": 637,
    "start_time": "2022-05-15T19:57:39.217Z"
   },
   {
    "duration": 14,
    "start_time": "2022-05-15T19:57:39.862Z"
   },
   {
    "duration": 551,
    "start_time": "2022-05-15T19:57:39.878Z"
   },
   {
    "duration": 35,
    "start_time": "2022-05-15T19:57:40.441Z"
   },
   {
    "duration": 631,
    "start_time": "2022-05-15T19:57:40.479Z"
   },
   {
    "duration": 28,
    "start_time": "2022-05-15T19:57:41.115Z"
   },
   {
    "duration": 194,
    "start_time": "2022-05-15T19:58:17.465Z"
   },
   {
    "duration": 1207,
    "start_time": "2022-05-15T19:58:29.284Z"
   },
   {
    "duration": 24,
    "start_time": "2022-05-15T19:58:48.321Z"
   },
   {
    "duration": 46,
    "start_time": "2022-05-15T19:59:46.109Z"
   },
   {
    "duration": 18,
    "start_time": "2022-05-15T19:59:54.070Z"
   },
   {
    "duration": 10,
    "start_time": "2022-05-15T20:01:47.420Z"
   },
   {
    "duration": 16,
    "start_time": "2022-05-15T20:02:01.456Z"
   },
   {
    "duration": 39,
    "start_time": "2022-05-15T20:02:15.725Z"
   },
   {
    "duration": 301,
    "start_time": "2022-05-15T20:03:36.121Z"
   },
   {
    "duration": 256,
    "start_time": "2022-05-15T20:04:45.844Z"
   },
   {
    "duration": 1088,
    "start_time": "2022-05-15T20:06:01.921Z"
   },
   {
    "duration": 112,
    "start_time": "2022-05-15T20:06:03.012Z"
   },
   {
    "duration": 18,
    "start_time": "2022-05-15T20:06:03.126Z"
   },
   {
    "duration": 16,
    "start_time": "2022-05-15T20:06:03.147Z"
   },
   {
    "duration": 4,
    "start_time": "2022-05-15T20:06:03.166Z"
   },
   {
    "duration": 47,
    "start_time": "2022-05-15T20:06:03.173Z"
   },
   {
    "duration": 26,
    "start_time": "2022-05-15T20:06:03.223Z"
   },
   {
    "duration": 20,
    "start_time": "2022-05-15T20:06:03.251Z"
   },
   {
    "duration": 43,
    "start_time": "2022-05-15T20:06:03.273Z"
   },
   {
    "duration": 26,
    "start_time": "2022-05-15T20:06:03.321Z"
   },
   {
    "duration": 19,
    "start_time": "2022-05-15T20:06:03.349Z"
   },
   {
    "duration": 38,
    "start_time": "2022-05-15T20:06:03.370Z"
   },
   {
    "duration": 41,
    "start_time": "2022-05-15T20:06:03.411Z"
   },
   {
    "duration": 333,
    "start_time": "2022-05-15T20:06:03.456Z"
   },
   {
    "duration": 248,
    "start_time": "2022-05-15T20:06:03.793Z"
   },
   {
    "duration": 26,
    "start_time": "2022-05-15T20:06:04.043Z"
   },
   {
    "duration": 533,
    "start_time": "2022-05-15T20:06:04.071Z"
   },
   {
    "duration": 374,
    "start_time": "2022-05-15T20:06:04.609Z"
   },
   {
    "duration": 23,
    "start_time": "2022-05-15T20:06:04.986Z"
   },
   {
    "duration": 454,
    "start_time": "2022-05-15T20:06:05.012Z"
   },
   {
    "duration": 7,
    "start_time": "2022-05-15T20:06:05.469Z"
   },
   {
    "duration": 546,
    "start_time": "2022-05-15T20:06:05.478Z"
   },
   {
    "duration": 25,
    "start_time": "2022-05-15T20:06:06.033Z"
   },
   {
    "duration": 491,
    "start_time": "2022-05-15T20:06:06.061Z"
   },
   {
    "duration": 19,
    "start_time": "2022-05-15T20:06:06.554Z"
   },
   {
    "duration": 224,
    "start_time": "2022-05-15T20:06:06.576Z"
   },
   {
    "duration": 31,
    "start_time": "2022-05-15T20:08:28.687Z"
   },
   {
    "duration": 1277,
    "start_time": "2022-05-15T20:08:37.423Z"
   },
   {
    "duration": 119,
    "start_time": "2022-05-15T20:08:38.703Z"
   },
   {
    "duration": 25,
    "start_time": "2022-05-15T20:08:38.825Z"
   },
   {
    "duration": 32,
    "start_time": "2022-05-15T20:08:38.854Z"
   },
   {
    "duration": 16,
    "start_time": "2022-05-15T20:08:38.889Z"
   },
   {
    "duration": 73,
    "start_time": "2022-05-15T20:08:38.908Z"
   },
   {
    "duration": 27,
    "start_time": "2022-05-15T20:08:38.984Z"
   },
   {
    "duration": 56,
    "start_time": "2022-05-15T20:08:39.015Z"
   },
   {
    "duration": 16,
    "start_time": "2022-05-15T20:08:39.073Z"
   },
   {
    "duration": 72,
    "start_time": "2022-05-15T20:08:39.091Z"
   },
   {
    "duration": 14,
    "start_time": "2022-05-15T20:08:39.165Z"
   },
   {
    "duration": 50,
    "start_time": "2022-05-15T20:08:39.182Z"
   },
   {
    "duration": 41,
    "start_time": "2022-05-15T20:08:39.236Z"
   },
   {
    "duration": 392,
    "start_time": "2022-05-15T20:08:39.283Z"
   },
   {
    "duration": 280,
    "start_time": "2022-05-15T20:08:39.678Z"
   },
   {
    "duration": 24,
    "start_time": "2022-05-15T20:08:39.960Z"
   },
   {
    "duration": 676,
    "start_time": "2022-05-15T20:08:39.987Z"
   },
   {
    "duration": 425,
    "start_time": "2022-05-15T20:08:40.665Z"
   },
   {
    "duration": 20,
    "start_time": "2022-05-15T20:08:41.093Z"
   },
   {
    "duration": 561,
    "start_time": "2022-05-15T20:08:41.115Z"
   },
   {
    "duration": 10,
    "start_time": "2022-05-15T20:08:41.678Z"
   },
   {
    "duration": 593,
    "start_time": "2022-05-15T20:08:41.698Z"
   },
   {
    "duration": 24,
    "start_time": "2022-05-15T20:08:42.298Z"
   },
   {
    "duration": 571,
    "start_time": "2022-05-15T20:08:42.325Z"
   },
   {
    "duration": 22,
    "start_time": "2022-05-15T20:08:42.900Z"
   },
   {
    "duration": 252,
    "start_time": "2022-05-15T20:08:42.924Z"
   },
   {
    "duration": 177,
    "start_time": "2022-05-15T20:09:36.743Z"
   },
   {
    "duration": 25,
    "start_time": "2022-05-15T20:09:47.421Z"
   },
   {
    "duration": 1133,
    "start_time": "2022-05-15T20:09:59.820Z"
   },
   {
    "duration": 101,
    "start_time": "2022-05-15T20:10:00.956Z"
   },
   {
    "duration": 17,
    "start_time": "2022-05-15T20:10:01.059Z"
   },
   {
    "duration": 105,
    "start_time": "2022-05-15T20:10:01.078Z"
   },
   {
    "duration": 48,
    "start_time": "2022-05-15T20:10:01.188Z"
   },
   {
    "duration": 33,
    "start_time": "2022-05-15T20:10:01.239Z"
   },
   {
    "duration": 23,
    "start_time": "2022-05-15T20:10:01.274Z"
   },
   {
    "duration": 58,
    "start_time": "2022-05-15T20:10:01.302Z"
   },
   {
    "duration": 20,
    "start_time": "2022-05-15T20:10:01.362Z"
   },
   {
    "duration": 57,
    "start_time": "2022-05-15T20:10:01.385Z"
   },
   {
    "duration": 19,
    "start_time": "2022-05-15T20:10:01.445Z"
   },
   {
    "duration": 26,
    "start_time": "2022-05-15T20:10:01.466Z"
   },
   {
    "duration": 62,
    "start_time": "2022-05-15T20:10:01.501Z"
   },
   {
    "duration": 389,
    "start_time": "2022-05-15T20:10:01.567Z"
   },
   {
    "duration": 302,
    "start_time": "2022-05-15T20:10:01.958Z"
   },
   {
    "duration": 25,
    "start_time": "2022-05-15T20:10:02.262Z"
   },
   {
    "duration": 697,
    "start_time": "2022-05-15T20:10:02.289Z"
   },
   {
    "duration": 443,
    "start_time": "2022-05-15T20:10:02.989Z"
   },
   {
    "duration": 27,
    "start_time": "2022-05-15T20:10:03.435Z"
   },
   {
    "duration": 574,
    "start_time": "2022-05-15T20:10:03.464Z"
   },
   {
    "duration": 9,
    "start_time": "2022-05-15T20:10:04.040Z"
   },
   {
    "duration": 451,
    "start_time": "2022-05-15T20:10:04.052Z"
   },
   {
    "duration": 28,
    "start_time": "2022-05-15T20:10:04.508Z"
   },
   {
    "duration": 527,
    "start_time": "2022-05-15T20:10:04.539Z"
   },
   {
    "duration": 16,
    "start_time": "2022-05-15T20:10:05.068Z"
   },
   {
    "duration": 226,
    "start_time": "2022-05-15T20:10:05.087Z"
   },
   {
    "duration": 5,
    "start_time": "2022-05-15T20:35:09.238Z"
   },
   {
    "duration": 14,
    "start_time": "2022-05-15T20:35:13.105Z"
   },
   {
    "duration": 10,
    "start_time": "2022-05-15T20:36:06.189Z"
   },
   {
    "duration": 8,
    "start_time": "2022-05-15T20:37:57.342Z"
   },
   {
    "duration": 1028,
    "start_time": "2022-05-15T20:38:18.969Z"
   },
   {
    "duration": 83,
    "start_time": "2022-05-15T20:38:20.000Z"
   },
   {
    "duration": 31,
    "start_time": "2022-05-15T20:38:20.086Z"
   },
   {
    "duration": 40,
    "start_time": "2022-05-15T20:38:20.121Z"
   },
   {
    "duration": 4,
    "start_time": "2022-05-15T20:38:20.163Z"
   },
   {
    "duration": 20,
    "start_time": "2022-05-15T20:38:20.170Z"
   },
   {
    "duration": 29,
    "start_time": "2022-05-15T20:38:20.194Z"
   },
   {
    "duration": 36,
    "start_time": "2022-05-15T20:38:20.227Z"
   },
   {
    "duration": 21,
    "start_time": "2022-05-15T20:38:20.266Z"
   },
   {
    "duration": 53,
    "start_time": "2022-05-15T20:38:20.296Z"
   },
   {
    "duration": 17,
    "start_time": "2022-05-15T20:38:20.351Z"
   },
   {
    "duration": 21,
    "start_time": "2022-05-15T20:38:20.370Z"
   },
   {
    "duration": 60,
    "start_time": "2022-05-15T20:38:20.398Z"
   },
   {
    "duration": 315,
    "start_time": "2022-05-15T20:38:20.461Z"
   },
   {
    "duration": 245,
    "start_time": "2022-05-15T20:38:20.778Z"
   },
   {
    "duration": 27,
    "start_time": "2022-05-15T20:38:21.030Z"
   },
   {
    "duration": 604,
    "start_time": "2022-05-15T20:38:21.059Z"
   },
   {
    "duration": 381,
    "start_time": "2022-05-15T20:38:21.666Z"
   },
   {
    "duration": 17,
    "start_time": "2022-05-15T20:38:22.050Z"
   },
   {
    "duration": 496,
    "start_time": "2022-05-15T20:38:22.070Z"
   },
   {
    "duration": 8,
    "start_time": "2022-05-15T20:38:22.568Z"
   },
   {
    "duration": 433,
    "start_time": "2022-05-15T20:38:22.594Z"
   },
   {
    "duration": 24,
    "start_time": "2022-05-15T20:38:23.031Z"
   },
   {
    "duration": 563,
    "start_time": "2022-05-15T20:38:23.058Z"
   },
   {
    "duration": 24,
    "start_time": "2022-05-15T20:38:23.624Z"
   },
   {
    "duration": 211,
    "start_time": "2022-05-15T20:38:23.650Z"
   },
   {
    "duration": 8,
    "start_time": "2022-05-15T20:38:23.864Z"
   },
   {
    "duration": 205,
    "start_time": "2022-05-15T20:38:23.876Z"
   },
   {
    "duration": 110,
    "start_time": "2022-05-15T20:43:44.256Z"
   },
   {
    "duration": 2732,
    "start_time": "2022-05-15T20:44:12.065Z"
   },
   {
    "duration": 2829,
    "start_time": "2022-05-15T20:44:42.762Z"
   },
   {
    "duration": 213,
    "start_time": "2022-05-15T20:45:07.907Z"
   },
   {
    "duration": 197,
    "start_time": "2022-05-15T20:45:21.170Z"
   },
   {
    "duration": 204,
    "start_time": "2022-05-15T20:46:28.220Z"
   },
   {
    "duration": 10,
    "start_time": "2022-05-15T20:47:37.322Z"
   },
   {
    "duration": 7,
    "start_time": "2022-05-15T20:47:41.091Z"
   },
   {
    "duration": 8,
    "start_time": "2022-05-15T20:49:50.357Z"
   },
   {
    "duration": 7,
    "start_time": "2022-05-15T20:49:53.612Z"
   },
   {
    "duration": 6,
    "start_time": "2022-05-15T20:50:05.053Z"
   },
   {
    "duration": 789,
    "start_time": "2022-05-16T12:13:40.858Z"
   },
   {
    "duration": 43,
    "start_time": "2022-05-16T12:13:41.649Z"
   },
   {
    "duration": 11,
    "start_time": "2022-05-16T12:13:41.694Z"
   },
   {
    "duration": 19,
    "start_time": "2022-05-16T12:13:41.708Z"
   },
   {
    "duration": 3,
    "start_time": "2022-05-16T12:13:41.729Z"
   },
   {
    "duration": 14,
    "start_time": "2022-05-16T12:13:41.733Z"
   },
   {
    "duration": 11,
    "start_time": "2022-05-16T12:13:41.748Z"
   },
   {
    "duration": 16,
    "start_time": "2022-05-16T12:13:41.760Z"
   },
   {
    "duration": 11,
    "start_time": "2022-05-16T12:13:41.778Z"
   },
   {
    "duration": 10,
    "start_time": "2022-05-16T12:13:41.792Z"
   },
   {
    "duration": 13,
    "start_time": "2022-05-16T12:13:41.803Z"
   },
   {
    "duration": 13,
    "start_time": "2022-05-16T12:13:41.818Z"
   },
   {
    "duration": 40,
    "start_time": "2022-05-16T12:13:41.832Z"
   },
   {
    "duration": 161,
    "start_time": "2022-05-16T12:13:41.874Z"
   },
   {
    "duration": 125,
    "start_time": "2022-05-16T12:13:42.037Z"
   },
   {
    "duration": 19,
    "start_time": "2022-05-16T12:13:42.163Z"
   },
   {
    "duration": 246,
    "start_time": "2022-05-16T12:13:42.184Z"
   },
   {
    "duration": 171,
    "start_time": "2022-05-16T12:13:42.432Z"
   },
   {
    "duration": 12,
    "start_time": "2022-05-16T12:13:42.604Z"
   },
   {
    "duration": 287,
    "start_time": "2022-05-16T12:13:42.617Z"
   },
   {
    "duration": 6,
    "start_time": "2022-05-16T12:13:42.906Z"
   },
   {
    "duration": 236,
    "start_time": "2022-05-16T12:13:42.913Z"
   },
   {
    "duration": 21,
    "start_time": "2022-05-16T12:13:43.151Z"
   },
   {
    "duration": 284,
    "start_time": "2022-05-16T12:13:43.173Z"
   },
   {
    "duration": 20,
    "start_time": "2022-05-16T12:13:43.459Z"
   },
   {
    "duration": 104,
    "start_time": "2022-05-16T12:13:43.480Z"
   },
   {
    "duration": 113,
    "start_time": "2022-05-16T12:13:43.586Z"
   },
   {
    "duration": 6,
    "start_time": "2022-05-16T12:13:43.703Z"
   },
   {
    "duration": 133,
    "start_time": "2022-05-16T12:13:43.710Z"
   },
   {
    "duration": 4,
    "start_time": "2022-05-16T12:13:43.845Z"
   },
   {
    "duration": 86,
    "start_time": "2022-05-16T12:13:43.851Z"
   },
   {
    "duration": 107,
    "start_time": "2022-05-16T12:18:05.284Z"
   },
   {
    "duration": 5,
    "start_time": "2022-05-16T13:03:22.475Z"
   },
   {
    "duration": 10,
    "start_time": "2022-05-16T13:03:31.859Z"
   },
   {
    "duration": 10,
    "start_time": "2022-05-16T13:06:36.022Z"
   },
   {
    "duration": 45,
    "start_time": "2022-05-16T13:06:40.757Z"
   },
   {
    "duration": 47,
    "start_time": "2022-05-16T13:06:47.389Z"
   },
   {
    "duration": 46,
    "start_time": "2022-05-16T13:07:07.769Z"
   },
   {
    "duration": 9,
    "start_time": "2022-05-16T13:08:22.947Z"
   },
   {
    "duration": 49,
    "start_time": "2022-05-16T13:11:29.583Z"
   },
   {
    "duration": 48,
    "start_time": "2022-05-16T13:12:50.699Z"
   },
   {
    "duration": 46,
    "start_time": "2022-05-16T13:13:49.587Z"
   },
   {
    "duration": 72,
    "start_time": "2022-05-16T13:14:23.083Z"
   },
   {
    "duration": 15,
    "start_time": "2022-05-16T13:15:03.084Z"
   },
   {
    "duration": 19,
    "start_time": "2022-05-16T13:15:13.291Z"
   },
   {
    "duration": 53,
    "start_time": "2022-05-16T13:17:01.787Z"
   },
   {
    "duration": 585,
    "start_time": "2022-05-16T13:20:50.518Z"
   },
   {
    "duration": 36,
    "start_time": "2022-05-16T13:20:51.105Z"
   },
   {
    "duration": 11,
    "start_time": "2022-05-16T13:20:51.142Z"
   },
   {
    "duration": 13,
    "start_time": "2022-05-16T13:20:51.154Z"
   },
   {
    "duration": 4,
    "start_time": "2022-05-16T13:20:51.169Z"
   },
   {
    "duration": 17,
    "start_time": "2022-05-16T13:20:51.174Z"
   },
   {
    "duration": 10,
    "start_time": "2022-05-16T13:20:51.193Z"
   },
   {
    "duration": 16,
    "start_time": "2022-05-16T13:20:51.204Z"
   },
   {
    "duration": 15,
    "start_time": "2022-05-16T13:20:51.221Z"
   },
   {
    "duration": 34,
    "start_time": "2022-05-16T13:20:51.238Z"
   },
   {
    "duration": 17,
    "start_time": "2022-05-16T13:20:51.274Z"
   },
   {
    "duration": 20,
    "start_time": "2022-05-16T13:20:51.293Z"
   },
   {
    "duration": 19,
    "start_time": "2022-05-16T13:20:51.315Z"
   },
   {
    "duration": 182,
    "start_time": "2022-05-16T13:20:51.337Z"
   },
   {
    "duration": 122,
    "start_time": "2022-05-16T13:20:51.521Z"
   },
   {
    "duration": 28,
    "start_time": "2022-05-16T13:20:51.644Z"
   },
   {
    "duration": 247,
    "start_time": "2022-05-16T13:20:51.674Z"
   },
   {
    "duration": 185,
    "start_time": "2022-05-16T13:20:51.923Z"
   },
   {
    "duration": 12,
    "start_time": "2022-05-16T13:20:52.110Z"
   },
   {
    "duration": 259,
    "start_time": "2022-05-16T13:20:52.124Z"
   },
   {
    "duration": 7,
    "start_time": "2022-05-16T13:20:52.384Z"
   },
   {
    "duration": 230,
    "start_time": "2022-05-16T13:20:52.392Z"
   },
   {
    "duration": 13,
    "start_time": "2022-05-16T13:20:52.623Z"
   },
   {
    "duration": 345,
    "start_time": "2022-05-16T13:20:52.638Z"
   },
   {
    "duration": 11,
    "start_time": "2022-05-16T13:20:52.985Z"
   },
   {
    "duration": 113,
    "start_time": "2022-05-16T13:20:52.998Z"
   },
   {
    "duration": 111,
    "start_time": "2022-05-16T13:20:53.113Z"
   },
   {
    "duration": 6,
    "start_time": "2022-05-16T13:20:53.226Z"
   },
   {
    "duration": 125,
    "start_time": "2022-05-16T13:20:53.234Z"
   },
   {
    "duration": 10,
    "start_time": "2022-05-16T13:20:53.361Z"
   },
   {
    "duration": 10,
    "start_time": "2022-05-16T13:20:53.372Z"
   },
   {
    "duration": 47,
    "start_time": "2022-05-16T13:20:53.383Z"
   },
   {
    "duration": 10,
    "start_time": "2022-05-16T13:20:53.432Z"
   },
   {
    "duration": 70,
    "start_time": "2022-05-16T13:20:53.443Z"
   },
   {
    "duration": 19,
    "start_time": "2022-05-16T13:20:53.515Z"
   },
   {
    "duration": 78,
    "start_time": "2022-05-16T13:20:53.535Z"
   },
   {
    "duration": 80,
    "start_time": "2022-05-16T13:20:53.615Z"
   },
   {
    "duration": 19,
    "start_time": "2022-05-16T13:21:10.158Z"
   },
   {
    "duration": 53,
    "start_time": "2022-05-16T13:21:17.221Z"
   },
   {
    "duration": 13,
    "start_time": "2022-05-16T13:23:27.421Z"
   },
   {
    "duration": 610,
    "start_time": "2022-05-16T13:23:37.790Z"
   },
   {
    "duration": 40,
    "start_time": "2022-05-16T13:23:38.402Z"
   },
   {
    "duration": 12,
    "start_time": "2022-05-16T13:23:38.444Z"
   },
   {
    "duration": 11,
    "start_time": "2022-05-16T13:23:38.459Z"
   },
   {
    "duration": 3,
    "start_time": "2022-05-16T13:23:38.472Z"
   },
   {
    "duration": 13,
    "start_time": "2022-05-16T13:23:38.477Z"
   },
   {
    "duration": 12,
    "start_time": "2022-05-16T13:23:38.491Z"
   },
   {
    "duration": 14,
    "start_time": "2022-05-16T13:23:38.505Z"
   },
   {
    "duration": 10,
    "start_time": "2022-05-16T13:23:38.521Z"
   },
   {
    "duration": 38,
    "start_time": "2022-05-16T13:23:38.535Z"
   },
   {
    "duration": 11,
    "start_time": "2022-05-16T13:23:38.575Z"
   },
   {
    "duration": 14,
    "start_time": "2022-05-16T13:23:38.587Z"
   },
   {
    "duration": 12,
    "start_time": "2022-05-16T13:23:38.603Z"
   },
   {
    "duration": 178,
    "start_time": "2022-05-16T13:23:38.617Z"
   },
   {
    "duration": 122,
    "start_time": "2022-05-16T13:23:38.797Z"
   },
   {
    "duration": 15,
    "start_time": "2022-05-16T13:23:38.921Z"
   },
   {
    "duration": 249,
    "start_time": "2022-05-16T13:23:38.937Z"
   },
   {
    "duration": 168,
    "start_time": "2022-05-16T13:23:39.188Z"
   },
   {
    "duration": 16,
    "start_time": "2022-05-16T13:23:39.358Z"
   },
   {
    "duration": 278,
    "start_time": "2022-05-16T13:23:39.376Z"
   },
   {
    "duration": 16,
    "start_time": "2022-05-16T13:23:39.656Z"
   },
   {
    "duration": 224,
    "start_time": "2022-05-16T13:23:39.673Z"
   },
   {
    "duration": 14,
    "start_time": "2022-05-16T13:23:39.899Z"
   },
   {
    "duration": 266,
    "start_time": "2022-05-16T13:23:39.915Z"
   },
   {
    "duration": 12,
    "start_time": "2022-05-16T13:23:40.183Z"
   },
   {
    "duration": 113,
    "start_time": "2022-05-16T13:23:40.197Z"
   },
   {
    "duration": 106,
    "start_time": "2022-05-16T13:23:40.312Z"
   },
   {
    "duration": 7,
    "start_time": "2022-05-16T13:23:40.422Z"
   },
   {
    "duration": 115,
    "start_time": "2022-05-16T13:23:40.431Z"
   },
   {
    "duration": 3,
    "start_time": "2022-05-16T13:23:40.548Z"
   },
   {
    "duration": 19,
    "start_time": "2022-05-16T13:23:40.553Z"
   },
   {
    "duration": 46,
    "start_time": "2022-05-16T13:23:40.574Z"
   },
   {
    "duration": 10,
    "start_time": "2022-05-16T13:23:40.622Z"
   },
   {
    "duration": 61,
    "start_time": "2022-05-16T13:23:40.633Z"
   },
   {
    "duration": 17,
    "start_time": "2022-05-16T13:23:40.696Z"
   },
   {
    "duration": 66,
    "start_time": "2022-05-16T13:23:40.715Z"
   },
   {
    "duration": 16,
    "start_time": "2022-05-16T13:23:40.782Z"
   },
   {
    "duration": 49,
    "start_time": "2022-05-16T13:23:40.800Z"
   },
   {
    "duration": 22,
    "start_time": "2022-05-16T13:23:40.871Z"
   },
   {
    "duration": 1293,
    "start_time": "2022-05-17T12:30:42.329Z"
   },
   {
    "duration": 54,
    "start_time": "2022-05-17T12:30:43.625Z"
   },
   {
    "duration": 17,
    "start_time": "2022-05-17T12:30:43.682Z"
   },
   {
    "duration": 23,
    "start_time": "2022-05-17T12:30:43.702Z"
   },
   {
    "duration": 5,
    "start_time": "2022-05-17T12:30:43.730Z"
   },
   {
    "duration": 43,
    "start_time": "2022-05-17T12:30:43.737Z"
   },
   {
    "duration": 23,
    "start_time": "2022-05-17T12:30:43.783Z"
   },
   {
    "duration": 31,
    "start_time": "2022-05-17T12:30:43.809Z"
   },
   {
    "duration": 36,
    "start_time": "2022-05-17T12:30:43.843Z"
   },
   {
    "duration": 22,
    "start_time": "2022-05-17T12:30:43.882Z"
   },
   {
    "duration": 21,
    "start_time": "2022-05-17T12:30:43.907Z"
   },
   {
    "duration": 50,
    "start_time": "2022-05-17T12:30:43.930Z"
   },
   {
    "duration": 20,
    "start_time": "2022-05-17T12:30:43.983Z"
   },
   {
    "duration": 345,
    "start_time": "2022-05-17T12:30:44.007Z"
   },
   {
    "duration": 246,
    "start_time": "2022-05-17T12:30:44.354Z"
   },
   {
    "duration": 23,
    "start_time": "2022-05-17T12:30:44.602Z"
   },
   {
    "duration": 482,
    "start_time": "2022-05-17T12:30:44.627Z"
   },
   {
    "duration": 332,
    "start_time": "2022-05-17T12:30:45.111Z"
   },
   {
    "duration": 31,
    "start_time": "2022-05-17T12:30:45.445Z"
   },
   {
    "duration": 469,
    "start_time": "2022-05-17T12:30:45.478Z"
   },
   {
    "duration": 8,
    "start_time": "2022-05-17T12:30:45.949Z"
   },
   {
    "duration": 423,
    "start_time": "2022-05-17T12:30:45.965Z"
   },
   {
    "duration": 22,
    "start_time": "2022-05-17T12:30:46.391Z"
   },
   {
    "duration": 509,
    "start_time": "2022-05-17T12:30:46.416Z"
   },
   {
    "duration": 36,
    "start_time": "2022-05-17T12:30:46.928Z"
   },
   {
    "duration": 206,
    "start_time": "2022-05-17T12:30:46.967Z"
   },
   {
    "duration": 216,
    "start_time": "2022-05-17T12:30:47.177Z"
   },
   {
    "duration": 9,
    "start_time": "2022-05-17T12:30:47.397Z"
   },
   {
    "duration": 229,
    "start_time": "2022-05-17T12:30:47.408Z"
   },
   {
    "duration": 7,
    "start_time": "2022-05-17T12:30:47.639Z"
   },
   {
    "duration": 32,
    "start_time": "2022-05-17T12:30:47.648Z"
   },
   {
    "duration": 131,
    "start_time": "2022-05-17T12:30:47.682Z"
   },
   {
    "duration": 12,
    "start_time": "2022-05-17T12:30:47.816Z"
   },
   {
    "duration": 106,
    "start_time": "2022-05-17T12:30:47.831Z"
   },
   {
    "duration": 52,
    "start_time": "2022-05-17T12:30:47.939Z"
   },
   {
    "duration": 112,
    "start_time": "2022-05-17T12:30:47.993Z"
   },
   {
    "duration": 31,
    "start_time": "2022-05-17T12:30:48.108Z"
   },
   {
    "duration": 121,
    "start_time": "2022-05-17T12:30:48.142Z"
   },
   {
    "duration": 42,
    "start_time": "2022-05-17T12:30:48.266Z"
   },
   {
    "duration": 177,
    "start_time": "2022-05-17T12:30:48.310Z"
   },
   {
    "duration": 946,
    "start_time": "2022-05-17T12:34:02.130Z"
   },
   {
    "duration": 42,
    "start_time": "2022-05-17T12:34:03.079Z"
   },
   {
    "duration": 19,
    "start_time": "2022-05-17T12:34:03.123Z"
   },
   {
    "duration": 40,
    "start_time": "2022-05-17T12:34:03.145Z"
   },
   {
    "duration": 24,
    "start_time": "2022-05-17T12:34:03.189Z"
   },
   {
    "duration": 33,
    "start_time": "2022-05-17T12:34:03.215Z"
   },
   {
    "duration": 33,
    "start_time": "2022-05-17T12:34:03.250Z"
   },
   {
    "duration": 26,
    "start_time": "2022-05-17T12:34:03.286Z"
   },
   {
    "duration": 35,
    "start_time": "2022-05-17T12:34:03.314Z"
   },
   {
    "duration": 45,
    "start_time": "2022-05-17T12:34:03.351Z"
   },
   {
    "duration": 40,
    "start_time": "2022-05-17T12:34:03.398Z"
   },
   {
    "duration": 39,
    "start_time": "2022-05-17T12:34:03.440Z"
   },
   {
    "duration": 27,
    "start_time": "2022-05-17T12:34:03.481Z"
   },
   {
    "duration": 299,
    "start_time": "2022-05-17T12:34:03.514Z"
   },
   {
    "duration": 244,
    "start_time": "2022-05-17T12:34:03.815Z"
   },
   {
    "duration": 28,
    "start_time": "2022-05-17T12:34:04.062Z"
   },
   {
    "duration": 466,
    "start_time": "2022-05-17T12:34:04.093Z"
   },
   {
    "duration": 317,
    "start_time": "2022-05-17T12:34:04.562Z"
   },
   {
    "duration": 17,
    "start_time": "2022-05-17T12:34:04.881Z"
   },
   {
    "duration": 472,
    "start_time": "2022-05-17T12:34:04.901Z"
   },
   {
    "duration": 9,
    "start_time": "2022-05-17T12:34:05.376Z"
   },
   {
    "duration": 420,
    "start_time": "2022-05-17T12:34:05.387Z"
   },
   {
    "duration": 19,
    "start_time": "2022-05-17T12:34:05.810Z"
   },
   {
    "duration": 469,
    "start_time": "2022-05-17T12:34:05.831Z"
   },
   {
    "duration": 15,
    "start_time": "2022-05-17T12:34:06.303Z"
   },
   {
    "duration": 203,
    "start_time": "2022-05-17T12:34:06.320Z"
   },
   {
    "duration": 281,
    "start_time": "2022-05-17T12:34:06.526Z"
   },
   {
    "duration": 8,
    "start_time": "2022-05-17T12:34:06.810Z"
   },
   {
    "duration": 224,
    "start_time": "2022-05-17T12:34:06.820Z"
   },
   {
    "duration": 16,
    "start_time": "2022-05-17T12:34:07.047Z"
   },
   {
    "duration": 22,
    "start_time": "2022-05-17T12:34:07.065Z"
   },
   {
    "duration": 99,
    "start_time": "2022-05-17T12:34:07.089Z"
   },
   {
    "duration": 18,
    "start_time": "2022-05-17T12:34:07.190Z"
   },
   {
    "duration": 98,
    "start_time": "2022-05-17T12:34:07.210Z"
   },
   {
    "duration": 33,
    "start_time": "2022-05-17T12:34:07.310Z"
   },
   {
    "duration": 104,
    "start_time": "2022-05-17T12:34:07.346Z"
   },
   {
    "duration": 36,
    "start_time": "2022-05-17T12:34:07.452Z"
   },
   {
    "duration": 112,
    "start_time": "2022-05-17T12:34:07.490Z"
   },
   {
    "duration": 39,
    "start_time": "2022-05-17T12:34:07.604Z"
   },
   {
    "duration": 470,
    "start_time": "2022-05-17T12:34:07.645Z"
   },
   {
    "duration": 13,
    "start_time": "2022-05-17T12:37:00.999Z"
   },
   {
    "duration": 573,
    "start_time": "2022-05-17T12:44:13.149Z"
   },
   {
    "duration": 1504,
    "start_time": "2022-05-17T12:44:44.421Z"
   },
   {
    "duration": 51,
    "start_time": "2022-05-17T12:44:45.928Z"
   },
   {
    "duration": 17,
    "start_time": "2022-05-17T12:44:45.981Z"
   },
   {
    "duration": 21,
    "start_time": "2022-05-17T12:44:46.000Z"
   },
   {
    "duration": 4,
    "start_time": "2022-05-17T12:44:46.024Z"
   },
   {
    "duration": 38,
    "start_time": "2022-05-17T12:44:46.030Z"
   },
   {
    "duration": 21,
    "start_time": "2022-05-17T12:44:46.071Z"
   },
   {
    "duration": 20,
    "start_time": "2022-05-17T12:44:46.095Z"
   },
   {
    "duration": 60,
    "start_time": "2022-05-17T12:44:46.117Z"
   },
   {
    "duration": 21,
    "start_time": "2022-05-17T12:44:46.180Z"
   },
   {
    "duration": 16,
    "start_time": "2022-05-17T12:44:46.203Z"
   },
   {
    "duration": 46,
    "start_time": "2022-05-17T12:44:46.221Z"
   },
   {
    "duration": 22,
    "start_time": "2022-05-17T12:44:46.270Z"
   },
   {
    "duration": 311,
    "start_time": "2022-05-17T12:44:46.298Z"
   },
   {
    "duration": 254,
    "start_time": "2022-05-17T12:44:46.611Z"
   },
   {
    "duration": 29,
    "start_time": "2022-05-17T12:44:46.872Z"
   },
   {
    "duration": 466,
    "start_time": "2022-05-17T12:44:46.903Z"
   },
   {
    "duration": 331,
    "start_time": "2022-05-17T12:44:47.374Z"
   },
   {
    "duration": 16,
    "start_time": "2022-05-17T12:44:47.708Z"
   },
   {
    "duration": 470,
    "start_time": "2022-05-17T12:44:47.727Z"
   },
   {
    "duration": 8,
    "start_time": "2022-05-17T12:44:48.200Z"
   },
   {
    "duration": 389,
    "start_time": "2022-05-17T12:44:48.210Z"
   },
   {
    "duration": 19,
    "start_time": "2022-05-17T12:44:48.601Z"
   },
   {
    "duration": 467,
    "start_time": "2022-05-17T12:44:48.622Z"
   },
   {
    "duration": 17,
    "start_time": "2022-05-17T12:44:49.091Z"
   },
   {
    "duration": 208,
    "start_time": "2022-05-17T12:44:49.111Z"
   },
   {
    "duration": 211,
    "start_time": "2022-05-17T12:44:49.322Z"
   },
   {
    "duration": 8,
    "start_time": "2022-05-17T12:44:49.535Z"
   },
   {
    "duration": 228,
    "start_time": "2022-05-17T12:44:49.545Z"
   },
   {
    "duration": 6,
    "start_time": "2022-05-17T12:44:49.775Z"
   },
   {
    "duration": 57,
    "start_time": "2022-05-17T12:44:49.783Z"
   },
   {
    "duration": 122,
    "start_time": "2022-05-17T12:44:49.842Z"
   },
   {
    "duration": 55,
    "start_time": "2022-05-17T12:44:49.966Z"
   },
   {
    "duration": 113,
    "start_time": "2022-05-17T12:44:50.023Z"
   },
   {
    "duration": 58,
    "start_time": "2022-05-17T12:44:50.139Z"
   },
   {
    "duration": 99,
    "start_time": "2022-05-17T12:44:50.199Z"
   },
   {
    "duration": 56,
    "start_time": "2022-05-17T12:44:50.300Z"
   },
   {
    "duration": 122,
    "start_time": "2022-05-17T12:44:50.359Z"
   },
   {
    "duration": 58,
    "start_time": "2022-05-17T12:44:50.483Z"
   },
   {
    "duration": 599,
    "start_time": "2022-05-17T12:44:50.544Z"
   },
   {
    "duration": 15,
    "start_time": "2022-05-17T13:02:19.766Z"
   },
   {
    "duration": 150,
    "start_time": "2022-05-17T13:03:37.562Z"
   },
   {
    "duration": 1490,
    "start_time": "2022-05-17T13:20:48.838Z"
   },
   {
    "duration": 1591,
    "start_time": "2022-05-17T13:20:50.331Z"
   },
   {
    "duration": 22,
    "start_time": "2022-05-17T13:20:51.925Z"
   },
   {
    "duration": 25,
    "start_time": "2022-05-17T13:20:51.951Z"
   },
   {
    "duration": 5,
    "start_time": "2022-05-17T13:20:51.978Z"
   },
   {
    "duration": 73,
    "start_time": "2022-05-17T13:20:51.986Z"
   },
   {
    "duration": 19,
    "start_time": "2022-05-17T13:20:52.060Z"
   },
   {
    "duration": 29,
    "start_time": "2022-05-17T13:20:52.082Z"
   },
   {
    "duration": 45,
    "start_time": "2022-05-17T13:20:52.114Z"
   },
   {
    "duration": 16,
    "start_time": "2022-05-17T13:20:52.163Z"
   },
   {
    "duration": 21,
    "start_time": "2022-05-17T13:20:52.182Z"
   },
   {
    "duration": 23,
    "start_time": "2022-05-17T13:20:52.205Z"
   },
   {
    "duration": 19,
    "start_time": "2022-05-17T13:20:52.259Z"
   },
   {
    "duration": 305,
    "start_time": "2022-05-17T13:20:52.280Z"
   },
   {
    "duration": 240,
    "start_time": "2022-05-17T13:20:52.587Z"
   },
   {
    "duration": 38,
    "start_time": "2022-05-17T13:20:52.829Z"
   },
   {
    "duration": 554,
    "start_time": "2022-05-17T13:20:52.869Z"
   },
   {
    "duration": 309,
    "start_time": "2022-05-17T13:20:53.425Z"
   },
   {
    "duration": 31,
    "start_time": "2022-05-17T13:20:53.736Z"
   },
   {
    "duration": 516,
    "start_time": "2022-05-17T13:20:53.769Z"
   },
   {
    "duration": 8,
    "start_time": "2022-05-17T13:20:54.287Z"
   },
   {
    "duration": 352,
    "start_time": "2022-05-17T13:20:54.298Z"
   },
   {
    "duration": 23,
    "start_time": "2022-05-17T13:20:54.652Z"
   },
   {
    "duration": 437,
    "start_time": "2022-05-17T13:20:54.678Z"
   },
   {
    "duration": 19,
    "start_time": "2022-05-17T13:20:55.117Z"
   },
   {
    "duration": 205,
    "start_time": "2022-05-17T13:20:55.138Z"
   },
   {
    "duration": 200,
    "start_time": "2022-05-17T13:20:55.346Z"
   },
   {
    "duration": 14,
    "start_time": "2022-05-17T13:20:55.551Z"
   },
   {
    "duration": 321,
    "start_time": "2022-05-17T13:20:55.567Z"
   },
   {
    "duration": 7,
    "start_time": "2022-05-17T13:20:55.890Z"
   },
   {
    "duration": 17,
    "start_time": "2022-05-17T13:20:55.899Z"
   },
   {
    "duration": 102,
    "start_time": "2022-05-17T13:20:55.919Z"
   },
   {
    "duration": 19,
    "start_time": "2022-05-17T13:20:56.023Z"
   },
   {
    "duration": 79,
    "start_time": "2022-05-17T13:20:56.059Z"
   },
   {
    "duration": 48,
    "start_time": "2022-05-17T13:20:56.141Z"
   },
   {
    "duration": 107,
    "start_time": "2022-05-17T13:20:56.192Z"
   },
   {
    "duration": 32,
    "start_time": "2022-05-17T13:20:56.302Z"
   },
   {
    "duration": 98,
    "start_time": "2022-05-17T13:20:56.336Z"
   },
   {
    "duration": 64,
    "start_time": "2022-05-17T13:20:56.436Z"
   },
   {
    "duration": 553,
    "start_time": "2022-05-17T13:20:56.502Z"
   },
   {
    "duration": 16,
    "start_time": "2022-05-17T13:20:57.059Z"
   },
   {
    "duration": 1440,
    "start_time": "2022-05-17T13:21:25.577Z"
   },
   {
    "duration": 46,
    "start_time": "2022-05-17T13:21:27.019Z"
   },
   {
    "duration": 16,
    "start_time": "2022-05-17T13:21:27.067Z"
   },
   {
    "duration": 17,
    "start_time": "2022-05-17T13:21:27.086Z"
   },
   {
    "duration": 4,
    "start_time": "2022-05-17T13:21:27.105Z"
   },
   {
    "duration": 53,
    "start_time": "2022-05-17T13:21:27.112Z"
   },
   {
    "duration": 20,
    "start_time": "2022-05-17T13:21:27.167Z"
   },
   {
    "duration": 19,
    "start_time": "2022-05-17T13:21:27.189Z"
   },
   {
    "duration": 53,
    "start_time": "2022-05-17T13:21:27.210Z"
   },
   {
    "duration": 18,
    "start_time": "2022-05-17T13:21:27.268Z"
   },
   {
    "duration": 17,
    "start_time": "2022-05-17T13:21:27.288Z"
   },
   {
    "duration": 58,
    "start_time": "2022-05-17T13:21:27.308Z"
   },
   {
    "duration": 22,
    "start_time": "2022-05-17T13:21:27.369Z"
   },
   {
    "duration": 309,
    "start_time": "2022-05-17T13:21:27.394Z"
   },
   {
    "duration": 233,
    "start_time": "2022-05-17T13:21:27.705Z"
   },
   {
    "duration": 38,
    "start_time": "2022-05-17T13:21:27.941Z"
   },
   {
    "duration": 463,
    "start_time": "2022-05-17T13:21:27.981Z"
   },
   {
    "duration": 314,
    "start_time": "2022-05-17T13:21:28.446Z"
   },
   {
    "duration": 17,
    "start_time": "2022-05-17T13:21:28.763Z"
   },
   {
    "duration": 420,
    "start_time": "2022-05-17T13:21:28.784Z"
   },
   {
    "duration": 10,
    "start_time": "2022-05-17T13:21:29.207Z"
   },
   {
    "duration": 351,
    "start_time": "2022-05-17T13:21:29.220Z"
   },
   {
    "duration": 21,
    "start_time": "2022-05-17T13:21:29.574Z"
   },
   {
    "duration": 503,
    "start_time": "2022-05-17T13:21:29.598Z"
   },
   {
    "duration": 20,
    "start_time": "2022-05-17T13:21:30.104Z"
   },
   {
    "duration": 210,
    "start_time": "2022-05-17T13:21:30.128Z"
   },
   {
    "duration": 200,
    "start_time": "2022-05-17T13:21:30.340Z"
   },
   {
    "duration": 19,
    "start_time": "2022-05-17T13:21:30.545Z"
   },
   {
    "duration": 217,
    "start_time": "2022-05-17T13:21:30.566Z"
   },
   {
    "duration": 6,
    "start_time": "2022-05-17T13:21:30.785Z"
   },
   {
    "duration": 25,
    "start_time": "2022-05-17T13:21:30.793Z"
   },
   {
    "duration": 101,
    "start_time": "2022-05-17T13:21:30.820Z"
   },
   {
    "duration": 47,
    "start_time": "2022-05-17T13:21:30.923Z"
   },
   {
    "duration": 95,
    "start_time": "2022-05-17T13:21:30.972Z"
   },
   {
    "duration": 45,
    "start_time": "2022-05-17T13:21:31.070Z"
   },
   {
    "duration": 95,
    "start_time": "2022-05-17T13:21:31.117Z"
   },
   {
    "duration": 36,
    "start_time": "2022-05-17T13:21:31.214Z"
   },
   {
    "duration": 99,
    "start_time": "2022-05-17T13:21:31.261Z"
   },
   {
    "duration": 41,
    "start_time": "2022-05-17T13:21:31.363Z"
   },
   {
    "duration": 587,
    "start_time": "2022-05-17T13:21:31.407Z"
   },
   {
    "duration": 16,
    "start_time": "2022-05-17T13:21:31.997Z"
   },
   {
    "duration": 9,
    "start_time": "2022-05-17T13:26:11.998Z"
   },
   {
    "duration": 10,
    "start_time": "2022-05-17T13:27:27.221Z"
   },
   {
    "duration": 1524,
    "start_time": "2022-05-17T16:04:22.710Z"
   },
   {
    "duration": 50,
    "start_time": "2022-05-17T16:04:24.236Z"
   },
   {
    "duration": 17,
    "start_time": "2022-05-17T16:04:24.288Z"
   },
   {
    "duration": 20,
    "start_time": "2022-05-17T16:04:24.309Z"
   },
   {
    "duration": 4,
    "start_time": "2022-05-17T16:04:24.332Z"
   },
   {
    "duration": 28,
    "start_time": "2022-05-17T16:04:24.339Z"
   },
   {
    "duration": 19,
    "start_time": "2022-05-17T16:04:24.370Z"
   },
   {
    "duration": 22,
    "start_time": "2022-05-17T16:04:24.392Z"
   },
   {
    "duration": 43,
    "start_time": "2022-05-17T16:04:24.416Z"
   },
   {
    "duration": 17,
    "start_time": "2022-05-17T16:04:24.463Z"
   },
   {
    "duration": 20,
    "start_time": "2022-05-17T16:04:24.482Z"
   },
   {
    "duration": 23,
    "start_time": "2022-05-17T16:04:24.505Z"
   },
   {
    "duration": 46,
    "start_time": "2022-05-17T16:04:24.531Z"
   },
   {
    "duration": 311,
    "start_time": "2022-05-17T16:04:24.579Z"
   },
   {
    "duration": 286,
    "start_time": "2022-05-17T16:04:24.893Z"
   },
   {
    "duration": 26,
    "start_time": "2022-05-17T16:04:25.181Z"
   },
   {
    "duration": 503,
    "start_time": "2022-05-17T16:04:25.210Z"
   },
   {
    "duration": 329,
    "start_time": "2022-05-17T16:04:25.716Z"
   },
   {
    "duration": 23,
    "start_time": "2022-05-17T16:04:26.048Z"
   },
   {
    "duration": 427,
    "start_time": "2022-05-17T16:04:26.073Z"
   },
   {
    "duration": 9,
    "start_time": "2022-05-17T16:04:26.502Z"
   },
   {
    "duration": 365,
    "start_time": "2022-05-17T16:04:26.513Z"
   },
   {
    "duration": 21,
    "start_time": "2022-05-17T16:04:26.881Z"
   },
   {
    "duration": 512,
    "start_time": "2022-05-17T16:04:26.905Z"
   },
   {
    "duration": 19,
    "start_time": "2022-05-17T16:04:27.420Z"
   },
   {
    "duration": 232,
    "start_time": "2022-05-17T16:04:27.441Z"
   },
   {
    "duration": 204,
    "start_time": "2022-05-17T16:04:27.676Z"
   },
   {
    "duration": 9,
    "start_time": "2022-05-17T16:04:27.887Z"
   },
   {
    "duration": 321,
    "start_time": "2022-05-17T16:04:27.899Z"
   },
   {
    "duration": 6,
    "start_time": "2022-05-17T16:04:28.222Z"
   },
   {
    "duration": 30,
    "start_time": "2022-05-17T16:04:28.230Z"
   },
   {
    "duration": 97,
    "start_time": "2022-05-17T16:04:28.262Z"
   },
   {
    "duration": 13,
    "start_time": "2022-05-17T16:04:28.361Z"
   },
   {
    "duration": 101,
    "start_time": "2022-05-17T16:04:28.377Z"
   },
   {
    "duration": 31,
    "start_time": "2022-05-17T16:04:28.481Z"
   },
   {
    "duration": 117,
    "start_time": "2022-05-17T16:04:28.514Z"
   },
   {
    "duration": 50,
    "start_time": "2022-05-17T16:04:28.634Z"
   },
   {
    "duration": 97,
    "start_time": "2022-05-17T16:04:28.686Z"
   },
   {
    "duration": 47,
    "start_time": "2022-05-17T16:04:28.785Z"
   },
   {
    "duration": 600,
    "start_time": "2022-05-17T16:04:28.835Z"
   },
   {
    "duration": 26,
    "start_time": "2022-05-17T16:04:29.437Z"
   },
   {
    "duration": 1932,
    "start_time": "2022-05-17T16:05:35.434Z"
   },
   {
    "duration": 54,
    "start_time": "2022-05-17T16:05:37.369Z"
   },
   {
    "duration": 22,
    "start_time": "2022-05-17T16:05:37.425Z"
   },
   {
    "duration": 26,
    "start_time": "2022-05-17T16:05:37.450Z"
   },
   {
    "duration": 6,
    "start_time": "2022-05-17T16:05:37.478Z"
   },
   {
    "duration": 21,
    "start_time": "2022-05-17T16:05:37.487Z"
   },
   {
    "duration": 49,
    "start_time": "2022-05-17T16:05:37.511Z"
   },
   {
    "duration": 18,
    "start_time": "2022-05-17T16:05:37.563Z"
   },
   {
    "duration": 15,
    "start_time": "2022-05-17T16:05:37.584Z"
   },
   {
    "duration": 14,
    "start_time": "2022-05-17T16:05:37.603Z"
   },
   {
    "duration": 18,
    "start_time": "2022-05-17T16:05:37.659Z"
   },
   {
    "duration": 46,
    "start_time": "2022-05-17T16:05:37.679Z"
   },
   {
    "duration": 38,
    "start_time": "2022-05-17T16:05:37.727Z"
   },
   {
    "duration": 299,
    "start_time": "2022-05-17T16:05:37.767Z"
   },
   {
    "duration": 250,
    "start_time": "2022-05-17T16:05:38.069Z"
   },
   {
    "duration": 40,
    "start_time": "2022-05-17T16:05:38.322Z"
   },
   {
    "duration": 532,
    "start_time": "2022-05-17T16:05:38.366Z"
   },
   {
    "duration": 326,
    "start_time": "2022-05-17T16:05:38.901Z"
   },
   {
    "duration": 32,
    "start_time": "2022-05-17T16:05:39.229Z"
   },
   {
    "duration": 445,
    "start_time": "2022-05-17T16:05:39.263Z"
   },
   {
    "duration": 8,
    "start_time": "2022-05-17T16:05:39.710Z"
   },
   {
    "duration": 355,
    "start_time": "2022-05-17T16:05:39.721Z"
   },
   {
    "duration": 23,
    "start_time": "2022-05-17T16:05:40.078Z"
   },
   {
    "duration": 496,
    "start_time": "2022-05-17T16:05:40.104Z"
   },
   {
    "duration": 26,
    "start_time": "2022-05-17T16:05:40.603Z"
   },
   {
    "duration": 227,
    "start_time": "2022-05-17T16:05:40.632Z"
   },
   {
    "duration": 205,
    "start_time": "2022-05-17T16:05:40.861Z"
   },
   {
    "duration": 9,
    "start_time": "2022-05-17T16:05:41.071Z"
   },
   {
    "duration": 286,
    "start_time": "2022-05-17T16:05:41.083Z"
   },
   {
    "duration": 6,
    "start_time": "2022-05-17T16:05:41.372Z"
   },
   {
    "duration": 19,
    "start_time": "2022-05-17T16:05:41.381Z"
   },
   {
    "duration": 132,
    "start_time": "2022-05-17T16:05:41.402Z"
   },
   {
    "duration": 20,
    "start_time": "2022-05-17T16:05:41.536Z"
   },
   {
    "duration": 109,
    "start_time": "2022-05-17T16:05:41.559Z"
   },
   {
    "duration": 44,
    "start_time": "2022-05-17T16:05:41.671Z"
   },
   {
    "duration": 159,
    "start_time": "2022-05-17T16:05:41.718Z"
   },
   {
    "duration": 30,
    "start_time": "2022-05-17T16:05:41.880Z"
   },
   {
    "duration": 105,
    "start_time": "2022-05-17T16:05:41.913Z"
   },
   {
    "duration": 59,
    "start_time": "2022-05-17T16:05:42.020Z"
   },
   {
    "duration": 1703,
    "start_time": "2022-05-17T16:05:42.082Z"
   },
   {
    "duration": 16,
    "start_time": "2022-05-17T16:05:43.788Z"
   },
   {
    "duration": 1435,
    "start_time": "2022-05-17T16:06:13.087Z"
   },
   {
    "duration": 48,
    "start_time": "2022-05-17T16:06:14.526Z"
   },
   {
    "duration": 19,
    "start_time": "2022-05-17T16:06:14.576Z"
   },
   {
    "duration": 23,
    "start_time": "2022-05-17T16:06:14.598Z"
   },
   {
    "duration": 12,
    "start_time": "2022-05-17T16:06:14.626Z"
   },
   {
    "duration": 30,
    "start_time": "2022-05-17T16:06:14.641Z"
   },
   {
    "duration": 21,
    "start_time": "2022-05-17T16:06:14.673Z"
   },
   {
    "duration": 31,
    "start_time": "2022-05-17T16:06:14.696Z"
   },
   {
    "duration": 16,
    "start_time": "2022-05-17T16:06:14.759Z"
   },
   {
    "duration": 30,
    "start_time": "2022-05-17T16:06:14.777Z"
   },
   {
    "duration": 19,
    "start_time": "2022-05-17T16:06:14.810Z"
   },
   {
    "duration": 61,
    "start_time": "2022-05-17T16:06:14.832Z"
   },
   {
    "duration": 27,
    "start_time": "2022-05-17T16:06:14.897Z"
   },
   {
    "duration": 451,
    "start_time": "2022-05-17T16:06:14.933Z"
   },
   {
    "duration": 253,
    "start_time": "2022-05-17T16:06:15.386Z"
   },
   {
    "duration": 37,
    "start_time": "2022-05-17T16:06:15.641Z"
   },
   {
    "duration": 510,
    "start_time": "2022-05-17T16:06:15.681Z"
   },
   {
    "duration": 418,
    "start_time": "2022-05-17T16:06:16.194Z"
   },
   {
    "duration": 23,
    "start_time": "2022-05-17T16:06:16.614Z"
   },
   {
    "duration": 454,
    "start_time": "2022-05-17T16:06:16.639Z"
   },
   {
    "duration": 8,
    "start_time": "2022-05-17T16:06:17.096Z"
   },
   {
    "duration": 565,
    "start_time": "2022-05-17T16:06:17.107Z"
   },
   {
    "duration": 22,
    "start_time": "2022-05-17T16:06:17.675Z"
   },
   {
    "duration": 478,
    "start_time": "2022-05-17T16:06:17.700Z"
   },
   {
    "duration": 17,
    "start_time": "2022-05-17T16:06:18.181Z"
   },
   {
    "duration": 201,
    "start_time": "2022-05-17T16:06:18.200Z"
   },
   {
    "duration": 201,
    "start_time": "2022-05-17T16:06:18.403Z"
   },
   {
    "duration": 10,
    "start_time": "2022-05-17T16:06:18.606Z"
   },
   {
    "duration": 217,
    "start_time": "2022-05-17T16:06:18.618Z"
   },
   {
    "duration": 7,
    "start_time": "2022-05-17T16:06:18.837Z"
   },
   {
    "duration": 25,
    "start_time": "2022-05-17T16:06:18.846Z"
   },
   {
    "duration": 104,
    "start_time": "2022-05-17T16:06:18.874Z"
   },
   {
    "duration": 31,
    "start_time": "2022-05-17T16:06:18.980Z"
   },
   {
    "duration": 86,
    "start_time": "2022-05-17T16:06:19.014Z"
   },
   {
    "duration": 49,
    "start_time": "2022-05-17T16:06:19.102Z"
   },
   {
    "duration": 129,
    "start_time": "2022-05-17T16:06:19.154Z"
   },
   {
    "duration": 49,
    "start_time": "2022-05-17T16:06:19.285Z"
   },
   {
    "duration": 138,
    "start_time": "2022-05-17T16:06:19.336Z"
   },
   {
    "duration": 42,
    "start_time": "2022-05-17T16:06:19.477Z"
   },
   {
    "duration": 1069,
    "start_time": "2022-05-17T16:06:19.521Z"
   },
   {
    "duration": 70,
    "start_time": "2022-05-17T16:06:20.595Z"
   },
   {
    "duration": 2998,
    "start_time": "2022-05-17T16:14:07.884Z"
   },
   {
    "duration": 2501,
    "start_time": "2022-05-17T16:14:15.019Z"
   },
   {
    "duration": 14,
    "start_time": "2022-05-17T16:14:40.073Z"
   },
   {
    "duration": 15,
    "start_time": "2022-05-17T16:14:46.306Z"
   },
   {
    "duration": 14,
    "start_time": "2022-05-17T16:15:18.056Z"
   },
   {
    "duration": 16,
    "start_time": "2022-05-17T16:16:31.231Z"
   },
   {
    "duration": 11,
    "start_time": "2022-05-17T16:17:40.522Z"
   },
   {
    "duration": 15,
    "start_time": "2022-05-17T16:17:57.565Z"
   },
   {
    "duration": 15,
    "start_time": "2022-05-17T16:23:18.288Z"
   },
   {
    "duration": 16,
    "start_time": "2022-05-17T16:23:28.255Z"
   },
   {
    "duration": 16,
    "start_time": "2022-05-17T16:23:35.343Z"
   },
   {
    "duration": 19,
    "start_time": "2022-05-17T16:23:40.599Z"
   },
   {
    "duration": 1421,
    "start_time": "2022-05-17T16:24:14.704Z"
   },
   {
    "duration": 50,
    "start_time": "2022-05-17T16:24:16.128Z"
   },
   {
    "duration": 17,
    "start_time": "2022-05-17T16:24:16.180Z"
   },
   {
    "duration": 21,
    "start_time": "2022-05-17T16:24:16.199Z"
   },
   {
    "duration": 4,
    "start_time": "2022-05-17T16:24:16.223Z"
   },
   {
    "duration": 37,
    "start_time": "2022-05-17T16:24:16.229Z"
   },
   {
    "duration": 20,
    "start_time": "2022-05-17T16:24:16.268Z"
   },
   {
    "duration": 20,
    "start_time": "2022-05-17T16:24:16.290Z"
   },
   {
    "duration": 47,
    "start_time": "2022-05-17T16:24:16.312Z"
   },
   {
    "duration": 16,
    "start_time": "2022-05-17T16:24:16.361Z"
   },
   {
    "duration": 16,
    "start_time": "2022-05-17T16:24:16.379Z"
   },
   {
    "duration": 24,
    "start_time": "2022-05-17T16:24:16.397Z"
   },
   {
    "duration": 44,
    "start_time": "2022-05-17T16:24:16.423Z"
   },
   {
    "duration": 370,
    "start_time": "2022-05-17T16:24:16.473Z"
   },
   {
    "duration": 235,
    "start_time": "2022-05-17T16:24:16.845Z"
   },
   {
    "duration": 25,
    "start_time": "2022-05-17T16:24:17.082Z"
   },
   {
    "duration": 510,
    "start_time": "2022-05-17T16:24:17.109Z"
   },
   {
    "duration": 308,
    "start_time": "2022-05-17T16:24:17.621Z"
   },
   {
    "duration": 27,
    "start_time": "2022-05-17T16:24:17.931Z"
   },
   {
    "duration": 450,
    "start_time": "2022-05-17T16:24:17.961Z"
   },
   {
    "duration": 8,
    "start_time": "2022-05-17T16:24:18.413Z"
   },
   {
    "duration": 356,
    "start_time": "2022-05-17T16:24:18.423Z"
   },
   {
    "duration": 20,
    "start_time": "2022-05-17T16:24:18.782Z"
   },
   {
    "duration": 526,
    "start_time": "2022-05-17T16:24:18.804Z"
   },
   {
    "duration": 26,
    "start_time": "2022-05-17T16:24:19.332Z"
   },
   {
    "duration": 192,
    "start_time": "2022-05-17T16:24:19.361Z"
   },
   {
    "duration": 196,
    "start_time": "2022-05-17T16:24:19.555Z"
   },
   {
    "duration": 9,
    "start_time": "2022-05-17T16:24:19.758Z"
   },
   {
    "duration": 217,
    "start_time": "2022-05-17T16:24:19.770Z"
   },
   {
    "duration": 6,
    "start_time": "2022-05-17T16:24:19.991Z"
   },
   {
    "duration": 17,
    "start_time": "2022-05-17T16:24:20.000Z"
   },
   {
    "duration": 114,
    "start_time": "2022-05-17T16:24:20.020Z"
   },
   {
    "duration": 32,
    "start_time": "2022-05-17T16:24:20.137Z"
   },
   {
    "duration": 97,
    "start_time": "2022-05-17T16:24:20.171Z"
   },
   {
    "duration": 42,
    "start_time": "2022-05-17T16:24:20.270Z"
   },
   {
    "duration": 96,
    "start_time": "2022-05-17T16:24:20.314Z"
   },
   {
    "duration": 48,
    "start_time": "2022-05-17T16:24:20.412Z"
   },
   {
    "duration": 99,
    "start_time": "2022-05-17T16:24:20.463Z"
   },
   {
    "duration": 42,
    "start_time": "2022-05-17T16:24:20.564Z"
   },
   {
    "duration": 610,
    "start_time": "2022-05-17T16:24:20.609Z"
   },
   {
    "duration": 15,
    "start_time": "2022-05-17T16:24:21.225Z"
   },
   {
    "duration": 29,
    "start_time": "2022-05-17T16:24:21.242Z"
   },
   {
    "duration": 200,
    "start_time": "2022-05-17T16:25:03.808Z"
   },
   {
    "duration": 14,
    "start_time": "2022-05-17T16:26:02.065Z"
   },
   {
    "duration": 13,
    "start_time": "2022-05-17T16:26:07.342Z"
   },
   {
    "duration": 1507,
    "start_time": "2022-05-17T16:26:19.222Z"
   },
   {
    "duration": 52,
    "start_time": "2022-05-17T16:26:20.732Z"
   },
   {
    "duration": 17,
    "start_time": "2022-05-17T16:26:20.786Z"
   },
   {
    "duration": 20,
    "start_time": "2022-05-17T16:26:20.806Z"
   },
   {
    "duration": 5,
    "start_time": "2022-05-17T16:26:20.828Z"
   },
   {
    "duration": 31,
    "start_time": "2022-05-17T16:26:20.835Z"
   },
   {
    "duration": 23,
    "start_time": "2022-05-17T16:26:20.869Z"
   },
   {
    "duration": 21,
    "start_time": "2022-05-17T16:26:20.895Z"
   },
   {
    "duration": 50,
    "start_time": "2022-05-17T16:26:20.919Z"
   },
   {
    "duration": 28,
    "start_time": "2022-05-17T16:26:20.974Z"
   },
   {
    "duration": 19,
    "start_time": "2022-05-17T16:26:21.004Z"
   },
   {
    "duration": 40,
    "start_time": "2022-05-17T16:26:21.025Z"
   },
   {
    "duration": 20,
    "start_time": "2022-05-17T16:26:21.067Z"
   },
   {
    "duration": 303,
    "start_time": "2022-05-17T16:26:21.089Z"
   },
   {
    "duration": 236,
    "start_time": "2022-05-17T16:26:21.394Z"
   },
   {
    "duration": 44,
    "start_time": "2022-05-17T16:26:21.632Z"
   },
   {
    "duration": 446,
    "start_time": "2022-05-17T16:26:21.678Z"
   },
   {
    "duration": 321,
    "start_time": "2022-05-17T16:26:22.126Z"
   },
   {
    "duration": 23,
    "start_time": "2022-05-17T16:26:22.449Z"
   },
   {
    "duration": 422,
    "start_time": "2022-05-17T16:26:22.475Z"
   },
   {
    "duration": 10,
    "start_time": "2022-05-17T16:26:22.899Z"
   },
   {
    "duration": 352,
    "start_time": "2022-05-17T16:26:22.912Z"
   },
   {
    "duration": 21,
    "start_time": "2022-05-17T16:26:23.267Z"
   },
   {
    "duration": 511,
    "start_time": "2022-05-17T16:26:23.292Z"
   },
   {
    "duration": 16,
    "start_time": "2022-05-17T16:26:23.805Z"
   },
   {
    "duration": 201,
    "start_time": "2022-05-17T16:26:23.823Z"
   },
   {
    "duration": 205,
    "start_time": "2022-05-17T16:26:24.026Z"
   },
   {
    "duration": 11,
    "start_time": "2022-05-17T16:26:24.236Z"
   },
   {
    "duration": 207,
    "start_time": "2022-05-17T16:26:24.259Z"
   },
   {
    "duration": 5,
    "start_time": "2022-05-17T16:26:24.469Z"
   },
   {
    "duration": 23,
    "start_time": "2022-05-17T16:26:24.477Z"
   },
   {
    "duration": 100,
    "start_time": "2022-05-17T16:26:24.503Z"
   },
   {
    "duration": 15,
    "start_time": "2022-05-17T16:26:24.606Z"
   },
   {
    "duration": 101,
    "start_time": "2022-05-17T16:26:24.623Z"
   },
   {
    "duration": 46,
    "start_time": "2022-05-17T16:26:24.726Z"
   },
   {
    "duration": 99,
    "start_time": "2022-05-17T16:26:24.774Z"
   },
   {
    "duration": 33,
    "start_time": "2022-05-17T16:26:24.876Z"
   },
   {
    "duration": 111,
    "start_time": "2022-05-17T16:26:24.911Z"
   },
   {
    "duration": 68,
    "start_time": "2022-05-17T16:26:25.025Z"
   },
   {
    "duration": 588,
    "start_time": "2022-05-17T16:26:25.096Z"
   },
   {
    "duration": 14,
    "start_time": "2022-05-17T16:26:25.690Z"
   },
   {
    "duration": 16,
    "start_time": "2022-05-17T16:26:25.707Z"
   },
   {
    "duration": 16,
    "start_time": "2022-05-17T16:26:29.919Z"
   },
   {
    "duration": 143,
    "start_time": "2022-05-17T16:26:50.914Z"
   },
   {
    "duration": 5,
    "start_time": "2022-05-17T16:27:09.425Z"
   },
   {
    "duration": 187,
    "start_time": "2022-05-17T16:28:16.789Z"
   },
   {
    "duration": 1311,
    "start_time": "2022-05-17T22:04:23.689Z"
   },
   {
    "duration": 114,
    "start_time": "2022-05-17T22:04:25.003Z"
   },
   {
    "duration": 13,
    "start_time": "2022-05-17T22:04:25.119Z"
   },
   {
    "duration": 23,
    "start_time": "2022-05-17T22:04:25.134Z"
   },
   {
    "duration": 8,
    "start_time": "2022-05-17T22:04:25.159Z"
   },
   {
    "duration": 22,
    "start_time": "2022-05-17T22:04:25.169Z"
   },
   {
    "duration": 15,
    "start_time": "2022-05-17T22:04:25.193Z"
   },
   {
    "duration": 20,
    "start_time": "2022-05-17T22:04:25.209Z"
   },
   {
    "duration": 24,
    "start_time": "2022-05-17T22:04:25.232Z"
   },
   {
    "duration": 14,
    "start_time": "2022-05-17T22:04:25.258Z"
   },
   {
    "duration": 24,
    "start_time": "2022-05-17T22:04:25.274Z"
   },
   {
    "duration": 20,
    "start_time": "2022-05-17T22:04:25.300Z"
   },
   {
    "duration": 20,
    "start_time": "2022-05-17T22:04:25.321Z"
   },
   {
    "duration": 185,
    "start_time": "2022-05-17T22:04:25.342Z"
   },
   {
    "duration": 138,
    "start_time": "2022-05-17T22:04:25.529Z"
   },
   {
    "duration": 28,
    "start_time": "2022-05-17T22:04:25.669Z"
   },
   {
    "duration": 321,
    "start_time": "2022-05-17T22:04:25.699Z"
   },
   {
    "duration": 274,
    "start_time": "2022-05-17T22:04:26.022Z"
   },
   {
    "duration": 11,
    "start_time": "2022-05-17T22:04:26.298Z"
   },
   {
    "duration": 331,
    "start_time": "2022-05-17T22:04:26.311Z"
   },
   {
    "duration": 7,
    "start_time": "2022-05-17T22:04:26.644Z"
   },
   {
    "duration": 205,
    "start_time": "2022-05-17T22:04:26.653Z"
   },
   {
    "duration": 13,
    "start_time": "2022-05-17T22:04:26.861Z"
   },
   {
    "duration": 356,
    "start_time": "2022-05-17T22:04:26.876Z"
   },
   {
    "duration": 11,
    "start_time": "2022-05-17T22:04:27.234Z"
   },
   {
    "duration": 138,
    "start_time": "2022-05-17T22:04:27.247Z"
   },
   {
    "duration": 123,
    "start_time": "2022-05-17T22:04:27.387Z"
   },
   {
    "duration": 7,
    "start_time": "2022-05-17T22:04:27.514Z"
   },
   {
    "duration": 135,
    "start_time": "2022-05-17T22:04:27.523Z"
   },
   {
    "duration": 5,
    "start_time": "2022-05-17T22:04:27.660Z"
   },
   {
    "duration": 14,
    "start_time": "2022-05-17T22:04:27.667Z"
   },
   {
    "duration": 61,
    "start_time": "2022-05-17T22:04:27.682Z"
   },
   {
    "duration": 8,
    "start_time": "2022-05-17T22:04:27.744Z"
   },
   {
    "duration": 71,
    "start_time": "2022-05-17T22:04:27.754Z"
   },
   {
    "duration": 18,
    "start_time": "2022-05-17T22:04:27.826Z"
   },
   {
    "duration": 64,
    "start_time": "2022-05-17T22:04:27.845Z"
   },
   {
    "duration": 17,
    "start_time": "2022-05-17T22:04:27.910Z"
   },
   {
    "duration": 50,
    "start_time": "2022-05-17T22:04:27.928Z"
   },
   {
    "duration": 34,
    "start_time": "2022-05-17T22:04:27.979Z"
   },
   {
    "duration": 281,
    "start_time": "2022-05-17T22:04:28.015Z"
   },
   {
    "duration": 10,
    "start_time": "2022-05-17T22:04:28.298Z"
   },
   {
    "duration": 10,
    "start_time": "2022-05-17T22:04:28.309Z"
   },
   {
    "duration": 6,
    "start_time": "2022-05-17T22:04:28.321Z"
   },
   {
    "duration": 32,
    "start_time": "2022-05-17T22:04:28.328Z"
   },
   {
    "duration": 35,
    "start_time": "2022-05-17T22:04:28.362Z"
   },
   {
    "duration": 1141,
    "start_time": "2022-05-19T06:11:50.617Z"
   },
   {
    "duration": 97,
    "start_time": "2022-05-19T06:11:51.759Z"
   },
   {
    "duration": 12,
    "start_time": "2022-05-19T06:11:51.857Z"
   },
   {
    "duration": 13,
    "start_time": "2022-05-19T06:11:51.871Z"
   },
   {
    "duration": 3,
    "start_time": "2022-05-19T06:11:51.885Z"
   },
   {
    "duration": 12,
    "start_time": "2022-05-19T06:11:51.890Z"
   },
   {
    "duration": 11,
    "start_time": "2022-05-19T06:11:51.903Z"
   },
   {
    "duration": 9,
    "start_time": "2022-05-19T06:11:51.916Z"
   },
   {
    "duration": 8,
    "start_time": "2022-05-19T06:11:51.927Z"
   },
   {
    "duration": 10,
    "start_time": "2022-05-19T06:11:51.938Z"
   },
   {
    "duration": 20,
    "start_time": "2022-05-19T06:11:51.949Z"
   },
   {
    "duration": 35,
    "start_time": "2022-05-19T06:11:51.971Z"
   },
   {
    "duration": 13,
    "start_time": "2022-05-19T06:11:52.007Z"
   },
   {
    "duration": 160,
    "start_time": "2022-05-19T06:11:52.021Z"
   },
   {
    "duration": 129,
    "start_time": "2022-05-19T06:11:52.183Z"
   },
   {
    "duration": 13,
    "start_time": "2022-05-19T06:11:52.313Z"
   },
   {
    "duration": 287,
    "start_time": "2022-05-19T06:11:52.327Z"
   },
   {
    "duration": 225,
    "start_time": "2022-05-19T06:11:52.615Z"
   },
   {
    "duration": 10,
    "start_time": "2022-05-19T06:11:52.841Z"
   },
   {
    "duration": 358,
    "start_time": "2022-05-19T06:11:52.852Z"
   },
   {
    "duration": 5,
    "start_time": "2022-05-19T06:11:53.212Z"
   },
   {
    "duration": 183,
    "start_time": "2022-05-19T06:11:53.220Z"
   },
   {
    "duration": 13,
    "start_time": "2022-05-19T06:11:53.404Z"
   },
   {
    "duration": 300,
    "start_time": "2022-05-19T06:11:53.419Z"
   },
   {
    "duration": 10,
    "start_time": "2022-05-19T06:11:53.720Z"
   },
   {
    "duration": 109,
    "start_time": "2022-05-19T06:11:53.732Z"
   },
   {
    "duration": 113,
    "start_time": "2022-05-19T06:11:53.842Z"
   },
   {
    "duration": 5,
    "start_time": "2022-05-19T06:11:53.958Z"
   },
   {
    "duration": 121,
    "start_time": "2022-05-19T06:11:53.965Z"
   },
   {
    "duration": 8,
    "start_time": "2022-05-19T06:11:54.087Z"
   },
   {
    "duration": 14,
    "start_time": "2022-05-19T06:11:54.097Z"
   },
   {
    "duration": 47,
    "start_time": "2022-05-19T06:11:54.112Z"
   },
   {
    "duration": 9,
    "start_time": "2022-05-19T06:11:54.161Z"
   },
   {
    "duration": 65,
    "start_time": "2022-05-19T06:11:54.171Z"
   },
   {
    "duration": 19,
    "start_time": "2022-05-19T06:11:54.237Z"
   },
   {
    "duration": 56,
    "start_time": "2022-05-19T06:11:54.257Z"
   },
   {
    "duration": 18,
    "start_time": "2022-05-19T06:11:54.315Z"
   },
   {
    "duration": 66,
    "start_time": "2022-05-19T06:11:54.334Z"
   },
   {
    "duration": 22,
    "start_time": "2022-05-19T06:11:54.401Z"
   },
   {
    "duration": 285,
    "start_time": "2022-05-19T06:11:54.424Z"
   },
   {
    "duration": 9,
    "start_time": "2022-05-19T06:11:54.710Z"
   },
   {
    "duration": 9,
    "start_time": "2022-05-19T06:11:54.720Z"
   },
   {
    "duration": 5,
    "start_time": "2022-05-19T06:11:54.730Z"
   },
   {
    "duration": 27,
    "start_time": "2022-05-19T06:11:54.736Z"
   },
   {
    "duration": 37,
    "start_time": "2022-05-19T06:11:54.764Z"
   },
   {
    "duration": 5,
    "start_time": "2022-05-19T06:24:16.485Z"
   },
   {
    "duration": 13,
    "start_time": "2022-05-19T06:27:53.532Z"
   },
   {
    "duration": 3,
    "start_time": "2022-05-19T06:28:21.030Z"
   },
   {
    "duration": 7,
    "start_time": "2022-05-19T06:28:40.807Z"
   },
   {
    "duration": 1526,
    "start_time": "2022-05-19T12:48:24.469Z"
   },
   {
    "duration": 227,
    "start_time": "2022-05-19T12:48:26.003Z"
   },
   {
    "duration": 19,
    "start_time": "2022-05-19T12:48:26.232Z"
   },
   {
    "duration": 13,
    "start_time": "2022-05-19T12:48:26.255Z"
   },
   {
    "duration": 5,
    "start_time": "2022-05-19T12:48:26.270Z"
   },
   {
    "duration": 20,
    "start_time": "2022-05-19T12:48:26.277Z"
   },
   {
    "duration": 23,
    "start_time": "2022-05-19T12:48:26.299Z"
   },
   {
    "duration": 18,
    "start_time": "2022-05-19T12:48:26.325Z"
   },
   {
    "duration": 14,
    "start_time": "2022-05-19T12:48:26.345Z"
   },
   {
    "duration": 26,
    "start_time": "2022-05-19T12:48:26.384Z"
   },
   {
    "duration": 11,
    "start_time": "2022-05-19T12:48:26.413Z"
   },
   {
    "duration": 8,
    "start_time": "2022-05-19T12:48:26.426Z"
   },
   {
    "duration": 6,
    "start_time": "2022-05-19T12:48:26.436Z"
   },
   {
    "duration": 48,
    "start_time": "2022-05-19T12:48:26.443Z"
   },
   {
    "duration": 18,
    "start_time": "2022-05-19T12:48:26.493Z"
   },
   {
    "duration": 213,
    "start_time": "2022-05-19T12:48:26.513Z"
   },
   {
    "duration": 175,
    "start_time": "2022-05-19T12:48:26.729Z"
   },
   {
    "duration": 23,
    "start_time": "2022-05-19T12:48:26.906Z"
   },
   {
    "duration": 525,
    "start_time": "2022-05-19T12:48:26.931Z"
   },
   {
    "duration": 257,
    "start_time": "2022-05-19T12:48:27.458Z"
   },
   {
    "duration": 18,
    "start_time": "2022-05-19T12:48:27.717Z"
   },
   {
    "duration": 443,
    "start_time": "2022-05-19T12:48:27.737Z"
   },
   {
    "duration": 8,
    "start_time": "2022-05-19T12:48:28.185Z"
   },
   {
    "duration": 326,
    "start_time": "2022-05-19T12:48:28.195Z"
   },
   {
    "duration": 25,
    "start_time": "2022-05-19T12:48:28.523Z"
   },
   {
    "duration": 396,
    "start_time": "2022-05-19T12:48:28.551Z"
   },
   {
    "duration": 17,
    "start_time": "2022-05-19T12:48:28.950Z"
   },
   {
    "duration": 184,
    "start_time": "2022-05-19T12:48:28.984Z"
   },
   {
    "duration": 145,
    "start_time": "2022-05-19T12:48:29.170Z"
   },
   {
    "duration": 9,
    "start_time": "2022-05-19T12:48:29.317Z"
   },
   {
    "duration": 197,
    "start_time": "2022-05-19T12:48:29.329Z"
   },
   {
    "duration": 7,
    "start_time": "2022-05-19T12:48:29.528Z"
   },
   {
    "duration": 15,
    "start_time": "2022-05-19T12:48:29.537Z"
   },
   {
    "duration": 96,
    "start_time": "2022-05-19T12:48:29.554Z"
   },
   {
    "duration": 17,
    "start_time": "2022-05-19T12:48:29.653Z"
   },
   {
    "duration": 97,
    "start_time": "2022-05-19T12:48:29.672Z"
   },
   {
    "duration": 23,
    "start_time": "2022-05-19T12:48:29.771Z"
   },
   {
    "duration": 68,
    "start_time": "2022-05-19T12:48:29.798Z"
   },
   {
    "duration": 29,
    "start_time": "2022-05-19T12:48:29.868Z"
   },
   {
    "duration": 64,
    "start_time": "2022-05-19T12:48:29.899Z"
   },
   {
    "duration": 38,
    "start_time": "2022-05-19T12:48:29.965Z"
   },
   {
    "duration": 364,
    "start_time": "2022-05-19T12:48:30.005Z"
   },
   {
    "duration": 27,
    "start_time": "2022-05-19T12:48:30.371Z"
   },
   {
    "duration": 47,
    "start_time": "2022-05-19T12:48:30.404Z"
   },
   {
    "duration": 27,
    "start_time": "2022-05-19T12:48:30.453Z"
   },
   {
    "duration": 71,
    "start_time": "2022-05-19T12:48:30.481Z"
   },
   {
    "duration": 20,
    "start_time": "2022-05-19T12:48:30.554Z"
   },
   {
    "duration": 131,
    "start_time": "2022-05-19T12:51:10.688Z"
   },
   {
    "duration": 15,
    "start_time": "2022-05-19T12:51:26.540Z"
   },
   {
    "duration": 9,
    "start_time": "2022-05-19T12:51:31.982Z"
   },
   {
    "duration": 6,
    "start_time": "2022-05-19T12:51:51.063Z"
   },
   {
    "duration": 4,
    "start_time": "2022-05-19T13:11:26.363Z"
   },
   {
    "duration": 15,
    "start_time": "2022-05-19T13:12:09.747Z"
   },
   {
    "duration": 5,
    "start_time": "2022-05-19T13:12:52.185Z"
   },
   {
    "duration": 1217,
    "start_time": "2022-05-19T13:13:02.865Z"
   },
   {
    "duration": 73,
    "start_time": "2022-05-19T13:13:04.084Z"
   },
   {
    "duration": 14,
    "start_time": "2022-05-19T13:13:04.160Z"
   },
   {
    "duration": 40,
    "start_time": "2022-05-19T13:13:04.178Z"
   },
   {
    "duration": 26,
    "start_time": "2022-05-19T13:13:04.221Z"
   },
   {
    "duration": 40,
    "start_time": "2022-05-19T13:13:04.250Z"
   },
   {
    "duration": 14,
    "start_time": "2022-05-19T13:13:04.291Z"
   },
   {
    "duration": 57,
    "start_time": "2022-05-19T13:13:04.307Z"
   },
   {
    "duration": 33,
    "start_time": "2022-05-19T13:13:04.366Z"
   },
   {
    "duration": 20,
    "start_time": "2022-05-19T13:13:04.402Z"
   },
   {
    "duration": 30,
    "start_time": "2022-05-19T13:13:04.424Z"
   },
   {
    "duration": 19,
    "start_time": "2022-05-19T13:13:04.456Z"
   },
   {
    "duration": 19,
    "start_time": "2022-05-19T13:13:04.477Z"
   },
   {
    "duration": 21,
    "start_time": "2022-05-19T13:13:04.498Z"
   },
   {
    "duration": 25,
    "start_time": "2022-05-19T13:13:04.521Z"
   },
   {
    "duration": 33,
    "start_time": "2022-05-19T13:13:04.548Z"
   },
   {
    "duration": 32,
    "start_time": "2022-05-19T13:13:04.583Z"
   },
   {
    "duration": 37,
    "start_time": "2022-05-19T13:13:04.617Z"
   },
   {
    "duration": 220,
    "start_time": "2022-05-19T13:13:04.655Z"
   },
   {
    "duration": 171,
    "start_time": "2022-05-19T13:13:04.883Z"
   },
   {
    "duration": 35,
    "start_time": "2022-05-19T13:13:05.056Z"
   },
   {
    "duration": 493,
    "start_time": "2022-05-19T13:13:05.093Z"
   },
   {
    "duration": 378,
    "start_time": "2022-05-19T13:13:05.588Z"
   },
   {
    "duration": 20,
    "start_time": "2022-05-19T13:13:05.968Z"
   },
   {
    "duration": 357,
    "start_time": "2022-05-19T13:13:05.990Z"
   },
   {
    "duration": 9,
    "start_time": "2022-05-19T13:13:06.349Z"
   },
   {
    "duration": 224,
    "start_time": "2022-05-19T13:13:06.361Z"
   },
   {
    "duration": 16,
    "start_time": "2022-05-19T13:13:06.589Z"
   },
   {
    "duration": 424,
    "start_time": "2022-05-19T13:13:06.607Z"
   },
   {
    "duration": 17,
    "start_time": "2022-05-19T13:13:07.085Z"
   },
   {
    "duration": 401,
    "start_time": "2022-05-19T13:13:07.104Z"
   },
   {
    "duration": 395,
    "start_time": "2022-05-19T13:13:07.507Z"
   },
   {
    "duration": 9,
    "start_time": "2022-05-19T13:13:07.904Z"
   },
   {
    "duration": 414,
    "start_time": "2022-05-19T13:13:07.915Z"
   },
   {
    "duration": 55,
    "start_time": "2022-05-19T13:13:08.334Z"
   },
   {
    "duration": 24,
    "start_time": "2022-05-19T13:13:08.392Z"
   },
   {
    "duration": 177,
    "start_time": "2022-05-19T13:13:08.419Z"
   },
   {
    "duration": 33,
    "start_time": "2022-05-19T13:13:08.598Z"
   },
   {
    "duration": 171,
    "start_time": "2022-05-19T13:13:08.633Z"
   },
   {
    "duration": 79,
    "start_time": "2022-05-19T13:13:08.806Z"
   },
   {
    "duration": 114,
    "start_time": "2022-05-19T13:13:08.888Z"
   },
   {
    "duration": 20,
    "start_time": "2022-05-19T13:13:09.004Z"
   },
   {
    "duration": 110,
    "start_time": "2022-05-19T13:13:09.083Z"
   },
   {
    "duration": 27,
    "start_time": "2022-05-19T13:13:09.195Z"
   },
   {
    "duration": 530,
    "start_time": "2022-05-19T13:13:09.224Z"
   },
   {
    "duration": 14,
    "start_time": "2022-05-19T13:13:09.760Z"
   },
   {
    "duration": 38,
    "start_time": "2022-05-19T13:13:09.776Z"
   },
   {
    "duration": 21,
    "start_time": "2022-05-19T13:13:09.817Z"
   },
   {
    "duration": 86,
    "start_time": "2022-05-19T13:13:09.840Z"
   },
   {
    "duration": 24,
    "start_time": "2022-05-19T13:13:09.927Z"
   },
   {
    "duration": 49,
    "start_time": "2022-05-19T13:15:28.247Z"
   },
   {
    "duration": 167,
    "start_time": "2022-05-19T13:15:36.748Z"
   },
   {
    "duration": 16,
    "start_time": "2022-05-19T13:15:46.413Z"
   },
   {
    "duration": 13,
    "start_time": "2022-05-19T13:15:49.349Z"
   },
   {
    "duration": 10,
    "start_time": "2022-05-19T13:16:11.781Z"
   },
   {
    "duration": 9,
    "start_time": "2022-05-19T13:16:26.756Z"
   },
   {
    "duration": 34,
    "start_time": "2022-05-19T13:17:57.330Z"
   },
   {
    "duration": 41,
    "start_time": "2022-05-19T13:18:02.005Z"
   },
   {
    "duration": 7,
    "start_time": "2022-05-19T13:21:32.089Z"
   },
   {
    "duration": 63,
    "start_time": "2022-05-19T13:22:02.913Z"
   },
   {
    "duration": 43,
    "start_time": "2022-05-19T13:22:20.158Z"
   },
   {
    "duration": 13,
    "start_time": "2022-05-19T13:22:31.210Z"
   },
   {
    "duration": 24,
    "start_time": "2022-05-19T13:27:27.474Z"
   },
   {
    "duration": 14,
    "start_time": "2022-05-19T13:27:31.607Z"
   },
   {
    "duration": 1141,
    "start_time": "2022-05-19T13:28:00.878Z"
   },
   {
    "duration": 77,
    "start_time": "2022-05-19T13:28:02.021Z"
   },
   {
    "duration": 15,
    "start_time": "2022-05-19T13:28:02.100Z"
   },
   {
    "duration": 17,
    "start_time": "2022-05-19T13:28:02.117Z"
   },
   {
    "duration": 3,
    "start_time": "2022-05-19T13:28:02.136Z"
   },
   {
    "duration": 21,
    "start_time": "2022-05-19T13:28:02.141Z"
   },
   {
    "duration": 28,
    "start_time": "2022-05-19T13:28:02.164Z"
   },
   {
    "duration": 13,
    "start_time": "2022-05-19T13:28:02.195Z"
   },
   {
    "duration": 12,
    "start_time": "2022-05-19T13:28:02.210Z"
   },
   {
    "duration": 12,
    "start_time": "2022-05-19T13:28:02.224Z"
   },
   {
    "duration": 17,
    "start_time": "2022-05-19T13:28:02.238Z"
   },
   {
    "duration": 10,
    "start_time": "2022-05-19T13:28:02.257Z"
   },
   {
    "duration": 29,
    "start_time": "2022-05-19T13:28:02.269Z"
   },
   {
    "duration": 6,
    "start_time": "2022-05-19T13:28:02.300Z"
   },
   {
    "duration": 10,
    "start_time": "2022-05-19T13:28:02.308Z"
   },
   {
    "duration": 28,
    "start_time": "2022-05-19T13:28:02.319Z"
   },
   {
    "duration": 10,
    "start_time": "2022-05-19T13:28:02.348Z"
   },
   {
    "duration": 6,
    "start_time": "2022-05-19T13:28:02.360Z"
   },
   {
    "duration": 39,
    "start_time": "2022-05-19T13:28:02.367Z"
   },
   {
    "duration": 14,
    "start_time": "2022-05-19T13:28:02.407Z"
   },
   {
    "duration": 178,
    "start_time": "2022-05-19T13:28:02.422Z"
   },
   {
    "duration": 138,
    "start_time": "2022-05-19T13:28:02.601Z"
   },
   {
    "duration": 16,
    "start_time": "2022-05-19T13:28:02.740Z"
   },
   {
    "duration": 340,
    "start_time": "2022-05-19T13:28:02.758Z"
   },
   {
    "duration": 268,
    "start_time": "2022-05-19T13:28:03.100Z"
   },
   {
    "duration": 22,
    "start_time": "2022-05-19T13:28:03.369Z"
   },
   {
    "duration": 327,
    "start_time": "2022-05-19T13:28:03.394Z"
   },
   {
    "duration": 6,
    "start_time": "2022-05-19T13:28:03.725Z"
   },
   {
    "duration": 216,
    "start_time": "2022-05-19T13:28:03.732Z"
   },
   {
    "duration": 15,
    "start_time": "2022-05-19T13:28:03.950Z"
   },
   {
    "duration": 348,
    "start_time": "2022-05-19T13:28:03.967Z"
   },
   {
    "duration": 11,
    "start_time": "2022-05-19T13:28:04.317Z"
   },
   {
    "duration": 135,
    "start_time": "2022-05-19T13:28:04.330Z"
   },
   {
    "duration": 132,
    "start_time": "2022-05-19T13:28:04.467Z"
   },
   {
    "duration": 6,
    "start_time": "2022-05-19T13:28:04.601Z"
   },
   {
    "duration": 138,
    "start_time": "2022-05-19T13:28:04.608Z"
   },
   {
    "duration": 4,
    "start_time": "2022-05-19T13:28:04.748Z"
   },
   {
    "duration": 12,
    "start_time": "2022-05-19T13:28:04.754Z"
   },
   {
    "duration": 64,
    "start_time": "2022-05-19T13:28:04.767Z"
   },
   {
    "duration": 10,
    "start_time": "2022-05-19T13:28:04.833Z"
   },
   {
    "duration": 67,
    "start_time": "2022-05-19T13:28:04.845Z"
   },
   {
    "duration": 20,
    "start_time": "2022-05-19T13:28:04.914Z"
   },
   {
    "duration": 80,
    "start_time": "2022-05-19T13:28:04.935Z"
   },
   {
    "duration": 19,
    "start_time": "2022-05-19T13:28:05.017Z"
   },
   {
    "duration": 70,
    "start_time": "2022-05-19T13:28:05.038Z"
   },
   {
    "duration": 26,
    "start_time": "2022-05-19T13:28:05.109Z"
   },
   {
    "duration": 300,
    "start_time": "2022-05-19T13:28:05.137Z"
   },
   {
    "duration": 10,
    "start_time": "2022-05-19T13:28:05.438Z"
   },
   {
    "duration": 9,
    "start_time": "2022-05-19T13:28:05.450Z"
   },
   {
    "duration": 35,
    "start_time": "2022-05-19T13:28:05.461Z"
   },
   {
    "duration": 33,
    "start_time": "2022-05-19T13:28:05.498Z"
   },
   {
    "duration": 13,
    "start_time": "2022-05-19T13:28:05.533Z"
   },
   {
    "duration": 349,
    "start_time": "2022-05-19T13:49:28.686Z"
   },
   {
    "duration": 403,
    "start_time": "2022-05-19T13:49:37.374Z"
   },
   {
    "duration": 247,
    "start_time": "2022-05-19T14:51:52.358Z"
   },
   {
    "duration": 208,
    "start_time": "2022-05-19T14:53:16.204Z"
   },
   {
    "duration": 214,
    "start_time": "2022-05-19T14:55:41.683Z"
   },
   {
    "duration": 328,
    "start_time": "2022-05-19T14:56:23.915Z"
   },
   {
    "duration": 362,
    "start_time": "2022-05-19T14:57:05.982Z"
   },
   {
    "duration": 322,
    "start_time": "2022-05-19T15:23:06.490Z"
   },
   {
    "duration": 122,
    "start_time": "2022-05-19T15:23:24.875Z"
   },
   {
    "duration": 153,
    "start_time": "2022-05-19T15:27:01.937Z"
   },
   {
    "duration": 126,
    "start_time": "2022-05-19T15:27:54.090Z"
   },
   {
    "duration": 144,
    "start_time": "2022-05-19T15:28:25.239Z"
   },
   {
    "duration": 2664,
    "start_time": "2022-05-19T15:35:37.089Z"
   },
   {
    "duration": 1152,
    "start_time": "2022-05-19T15:35:57.922Z"
   },
   {
    "duration": 68,
    "start_time": "2022-05-19T15:35:59.076Z"
   },
   {
    "duration": 14,
    "start_time": "2022-05-19T15:35:59.146Z"
   },
   {
    "duration": 14,
    "start_time": "2022-05-19T15:35:59.163Z"
   },
   {
    "duration": 3,
    "start_time": "2022-05-19T15:35:59.179Z"
   },
   {
    "duration": 17,
    "start_time": "2022-05-19T15:35:59.184Z"
   },
   {
    "duration": 16,
    "start_time": "2022-05-19T15:35:59.203Z"
   },
   {
    "duration": 15,
    "start_time": "2022-05-19T15:35:59.221Z"
   },
   {
    "duration": 14,
    "start_time": "2022-05-19T15:35:59.238Z"
   },
   {
    "duration": 39,
    "start_time": "2022-05-19T15:35:59.255Z"
   },
   {
    "duration": 14,
    "start_time": "2022-05-19T15:35:59.295Z"
   },
   {
    "duration": 10,
    "start_time": "2022-05-19T15:35:59.311Z"
   },
   {
    "duration": 5,
    "start_time": "2022-05-19T15:35:59.322Z"
   },
   {
    "duration": 8,
    "start_time": "2022-05-19T15:35:59.328Z"
   },
   {
    "duration": 7,
    "start_time": "2022-05-19T15:35:59.338Z"
   },
   {
    "duration": 41,
    "start_time": "2022-05-19T15:35:59.347Z"
   },
   {
    "duration": 8,
    "start_time": "2022-05-19T15:35:59.390Z"
   },
   {
    "duration": 20,
    "start_time": "2022-05-19T15:35:59.400Z"
   },
   {
    "duration": 17,
    "start_time": "2022-05-19T15:35:59.423Z"
   },
   {
    "duration": 211,
    "start_time": "2022-05-19T15:35:59.442Z"
   },
   {
    "duration": 153,
    "start_time": "2022-05-19T15:35:59.654Z"
   },
   {
    "duration": 16,
    "start_time": "2022-05-19T15:35:59.809Z"
   },
   {
    "duration": 355,
    "start_time": "2022-05-19T15:35:59.826Z"
   },
   {
    "duration": 294,
    "start_time": "2022-05-19T15:36:00.183Z"
   },
   {
    "duration": 16,
    "start_time": "2022-05-19T15:36:00.479Z"
   },
   {
    "duration": 336,
    "start_time": "2022-05-19T15:36:00.497Z"
   },
   {
    "duration": 8,
    "start_time": "2022-05-19T15:36:00.835Z"
   },
   {
    "duration": 245,
    "start_time": "2022-05-19T15:36:00.847Z"
   },
   {
    "duration": 21,
    "start_time": "2022-05-19T15:36:01.094Z"
   },
   {
    "duration": 354,
    "start_time": "2022-05-19T15:36:01.117Z"
   },
   {
    "duration": 20,
    "start_time": "2022-05-19T15:36:01.474Z"
   },
   {
    "duration": 146,
    "start_time": "2022-05-19T15:36:01.495Z"
   },
   {
    "duration": 148,
    "start_time": "2022-05-19T15:36:01.643Z"
   },
   {
    "duration": 9,
    "start_time": "2022-05-19T15:36:01.793Z"
   },
   {
    "duration": 187,
    "start_time": "2022-05-19T15:36:01.803Z"
   },
   {
    "duration": 163,
    "start_time": "2022-05-19T15:36:01.992Z"
   },
   {
    "duration": 5,
    "start_time": "2022-05-19T15:36:02.157Z"
   },
   {
    "duration": 22,
    "start_time": "2022-05-19T15:36:02.164Z"
   },
   {
    "duration": 60,
    "start_time": "2022-05-19T15:36:02.187Z"
   },
   {
    "duration": 16,
    "start_time": "2022-05-19T15:36:02.249Z"
   },
   {
    "duration": 60,
    "start_time": "2022-05-19T15:36:02.267Z"
   },
   {
    "duration": 30,
    "start_time": "2022-05-19T15:36:02.329Z"
   },
   {
    "duration": 76,
    "start_time": "2022-05-19T15:36:02.363Z"
   },
   {
    "duration": 20,
    "start_time": "2022-05-19T15:36:02.441Z"
   },
   {
    "duration": 83,
    "start_time": "2022-05-19T15:36:02.463Z"
   },
   {
    "duration": 53,
    "start_time": "2022-05-19T15:36:02.548Z"
   },
   {
    "duration": 333,
    "start_time": "2022-05-19T15:36:02.603Z"
   },
   {
    "duration": 12,
    "start_time": "2022-05-19T15:36:02.938Z"
   },
   {
    "duration": 30,
    "start_time": "2022-05-19T15:36:02.953Z"
   },
   {
    "duration": 5,
    "start_time": "2022-05-19T15:36:02.985Z"
   },
   {
    "duration": 40,
    "start_time": "2022-05-19T15:36:02.991Z"
   },
   {
    "duration": 18,
    "start_time": "2022-05-19T15:36:03.032Z"
   },
   {
    "duration": 117,
    "start_time": "2022-05-19T15:43:04.085Z"
   },
   {
    "duration": 1056,
    "start_time": "2022-05-19T15:43:20.737Z"
   },
   {
    "duration": 70,
    "start_time": "2022-05-19T15:43:21.795Z"
   },
   {
    "duration": 15,
    "start_time": "2022-05-19T15:43:21.866Z"
   },
   {
    "duration": 13,
    "start_time": "2022-05-19T15:43:21.883Z"
   },
   {
    "duration": 4,
    "start_time": "2022-05-19T15:43:21.897Z"
   },
   {
    "duration": 16,
    "start_time": "2022-05-19T15:43:21.903Z"
   },
   {
    "duration": 15,
    "start_time": "2022-05-19T15:43:21.921Z"
   },
   {
    "duration": 17,
    "start_time": "2022-05-19T15:43:21.938Z"
   },
   {
    "duration": 34,
    "start_time": "2022-05-19T15:43:21.957Z"
   },
   {
    "duration": 11,
    "start_time": "2022-05-19T15:43:21.995Z"
   },
   {
    "duration": 16,
    "start_time": "2022-05-19T15:43:22.008Z"
   },
   {
    "duration": 9,
    "start_time": "2022-05-19T15:43:22.026Z"
   },
   {
    "duration": 7,
    "start_time": "2022-05-19T15:43:22.037Z"
   },
   {
    "duration": 39,
    "start_time": "2022-05-19T15:43:22.046Z"
   },
   {
    "duration": 7,
    "start_time": "2022-05-19T15:43:22.088Z"
   },
   {
    "duration": 14,
    "start_time": "2022-05-19T15:43:22.097Z"
   },
   {
    "duration": 8,
    "start_time": "2022-05-19T15:43:22.114Z"
   },
   {
    "duration": 20,
    "start_time": "2022-05-19T15:43:22.124Z"
   },
   {
    "duration": 46,
    "start_time": "2022-05-19T15:43:22.145Z"
   },
   {
    "duration": 201,
    "start_time": "2022-05-19T15:43:22.193Z"
   },
   {
    "duration": 145,
    "start_time": "2022-05-19T15:43:22.396Z"
   },
   {
    "duration": 17,
    "start_time": "2022-05-19T15:43:22.543Z"
   },
   {
    "duration": 375,
    "start_time": "2022-05-19T15:43:22.561Z"
   },
   {
    "duration": 349,
    "start_time": "2022-05-19T15:43:22.938Z"
   },
   {
    "duration": 13,
    "start_time": "2022-05-19T15:43:23.289Z"
   },
   {
    "duration": 315,
    "start_time": "2022-05-19T15:43:23.304Z"
   },
   {
    "duration": 7,
    "start_time": "2022-05-19T15:43:23.621Z"
   },
   {
    "duration": 263,
    "start_time": "2022-05-19T15:43:23.633Z"
   },
   {
    "duration": 15,
    "start_time": "2022-05-19T15:43:23.897Z"
   },
   {
    "duration": 331,
    "start_time": "2022-05-19T15:43:23.913Z"
   },
   {
    "duration": 13,
    "start_time": "2022-05-19T15:43:24.246Z"
   },
   {
    "duration": 162,
    "start_time": "2022-05-19T15:43:24.261Z"
   },
   {
    "duration": 168,
    "start_time": "2022-05-19T15:43:24.425Z"
   },
   {
    "duration": 6,
    "start_time": "2022-05-19T15:43:24.595Z"
   },
   {
    "duration": 145,
    "start_time": "2022-05-19T15:43:24.603Z"
   },
   {
    "duration": 135,
    "start_time": "2022-05-19T15:43:24.750Z"
   },
   {
    "duration": 151,
    "start_time": "2022-05-19T15:43:24.887Z"
   },
   {
    "duration": 5,
    "start_time": "2022-05-19T15:43:25.041Z"
   },
   {
    "duration": 12,
    "start_time": "2022-05-19T15:43:25.048Z"
   },
   {
    "duration": 80,
    "start_time": "2022-05-19T15:43:25.062Z"
   },
   {
    "duration": 9,
    "start_time": "2022-05-19T15:43:25.144Z"
   },
   {
    "duration": 64,
    "start_time": "2022-05-19T15:43:25.155Z"
   },
   {
    "duration": 23,
    "start_time": "2022-05-19T15:43:25.221Z"
   },
   {
    "duration": 73,
    "start_time": "2022-05-19T15:43:25.247Z"
   },
   {
    "duration": 19,
    "start_time": "2022-05-19T15:43:25.322Z"
   },
   {
    "duration": 87,
    "start_time": "2022-05-19T15:43:25.342Z"
   },
   {
    "duration": 32,
    "start_time": "2022-05-19T15:43:25.431Z"
   },
   {
    "duration": 325,
    "start_time": "2022-05-19T15:43:25.465Z"
   },
   {
    "duration": 14,
    "start_time": "2022-05-19T15:43:25.792Z"
   },
   {
    "duration": 11,
    "start_time": "2022-05-19T15:43:25.807Z"
   },
   {
    "duration": 9,
    "start_time": "2022-05-19T15:43:25.820Z"
   },
   {
    "duration": 75,
    "start_time": "2022-05-19T15:43:25.831Z"
   },
   {
    "duration": 15,
    "start_time": "2022-05-19T15:43:25.909Z"
   },
   {
    "duration": 158,
    "start_time": "2022-05-19T15:46:22.953Z"
   },
   {
    "duration": 144,
    "start_time": "2022-05-19T15:47:39.993Z"
   },
   {
    "duration": 157,
    "start_time": "2022-05-19T15:47:59.151Z"
   },
   {
    "duration": 312,
    "start_time": "2022-05-19T15:48:07.992Z"
   },
   {
    "duration": 176,
    "start_time": "2022-05-19T15:48:14.967Z"
   },
   {
    "duration": 163,
    "start_time": "2022-05-19T15:48:18.300Z"
   },
   {
    "duration": 149,
    "start_time": "2022-05-19T15:48:22.080Z"
   },
   {
    "duration": 160,
    "start_time": "2022-05-19T15:48:25.598Z"
   },
   {
    "duration": 180,
    "start_time": "2022-05-19T15:48:29.662Z"
   },
   {
    "duration": 143,
    "start_time": "2022-05-19T15:48:33.808Z"
   },
   {
    "duration": 151,
    "start_time": "2022-05-19T15:48:39.660Z"
   },
   {
    "duration": 145,
    "start_time": "2022-05-19T15:48:42.958Z"
   },
   {
    "duration": 144,
    "start_time": "2022-05-19T15:48:47.669Z"
   },
   {
    "duration": 128,
    "start_time": "2022-05-19T15:48:53.104Z"
   },
   {
    "duration": 134,
    "start_time": "2022-05-19T15:48:56.477Z"
   },
   {
    "duration": 128,
    "start_time": "2022-05-19T15:49:00.392Z"
   },
   {
    "duration": 141,
    "start_time": "2022-05-19T15:49:04.026Z"
   },
   {
    "duration": 243,
    "start_time": "2022-05-19T15:49:10.475Z"
   },
   {
    "duration": 144,
    "start_time": "2022-05-19T15:49:14.238Z"
   },
   {
    "duration": 188,
    "start_time": "2022-05-19T15:49:17.981Z"
   },
   {
    "duration": 144,
    "start_time": "2022-05-19T15:49:21.029Z"
   },
   {
    "duration": 138,
    "start_time": "2022-05-19T15:49:24.913Z"
   },
   {
    "duration": 157,
    "start_time": "2022-05-19T15:49:29.661Z"
   },
   {
    "duration": 133,
    "start_time": "2022-05-19T15:49:33.315Z"
   },
   {
    "duration": 168,
    "start_time": "2022-05-19T15:49:36.580Z"
   },
   {
    "duration": 131,
    "start_time": "2022-05-19T15:49:39.452Z"
   },
   {
    "duration": 137,
    "start_time": "2022-05-19T15:49:46.341Z"
   },
   {
    "duration": 137,
    "start_time": "2022-05-19T15:52:16.317Z"
   },
   {
    "duration": 149,
    "start_time": "2022-05-19T15:52:21.622Z"
   },
   {
    "duration": 132,
    "start_time": "2022-05-19T15:55:11.754Z"
   },
   {
    "duration": 143,
    "start_time": "2022-05-19T15:56:15.463Z"
   },
   {
    "duration": 263,
    "start_time": "2022-05-19T15:57:13.964Z"
   },
   {
    "duration": 137,
    "start_time": "2022-05-19T15:57:45.500Z"
   },
   {
    "duration": 129,
    "start_time": "2022-05-19T15:57:50.735Z"
   },
   {
    "duration": 1297,
    "start_time": "2022-11-15T20:14:31.688Z"
   },
   {
    "duration": 244,
    "start_time": "2022-11-15T20:14:32.988Z"
   },
   {
    "duration": 14,
    "start_time": "2022-11-15T20:14:33.233Z"
   },
   {
    "duration": 16,
    "start_time": "2022-11-15T20:14:33.249Z"
   },
   {
    "duration": 4,
    "start_time": "2022-11-15T20:14:33.266Z"
   },
   {
    "duration": 32,
    "start_time": "2022-11-15T20:14:33.272Z"
   },
   {
    "duration": 13,
    "start_time": "2022-11-15T20:14:33.306Z"
   },
   {
    "duration": 22,
    "start_time": "2022-11-15T20:14:33.321Z"
   },
   {
    "duration": 19,
    "start_time": "2022-11-15T20:14:33.344Z"
   },
   {
    "duration": 18,
    "start_time": "2022-11-15T20:14:33.366Z"
   },
   {
    "duration": 18,
    "start_time": "2022-11-15T20:14:33.385Z"
   },
   {
    "duration": 13,
    "start_time": "2022-11-15T20:14:33.405Z"
   },
   {
    "duration": 7,
    "start_time": "2022-11-15T20:14:33.419Z"
   },
   {
    "duration": 12,
    "start_time": "2022-11-15T20:14:33.427Z"
   },
   {
    "duration": 9,
    "start_time": "2022-11-15T20:14:33.440Z"
   },
   {
    "duration": 12,
    "start_time": "2022-11-15T20:14:33.452Z"
   },
   {
    "duration": 6,
    "start_time": "2022-11-15T20:14:33.466Z"
   },
   {
    "duration": 18,
    "start_time": "2022-11-15T20:14:33.473Z"
   },
   {
    "duration": 35,
    "start_time": "2022-11-15T20:14:33.493Z"
   },
   {
    "duration": 189,
    "start_time": "2022-11-15T20:14:33.531Z"
   },
   {
    "duration": 147,
    "start_time": "2022-11-15T20:14:33.722Z"
   },
   {
    "duration": 16,
    "start_time": "2022-11-15T20:14:33.871Z"
   },
   {
    "duration": 363,
    "start_time": "2022-11-15T20:14:33.889Z"
   },
   {
    "duration": 194,
    "start_time": "2022-11-15T20:14:34.254Z"
   },
   {
    "duration": 11,
    "start_time": "2022-11-15T20:14:34.450Z"
   },
   {
    "duration": 381,
    "start_time": "2022-11-15T20:14:34.463Z"
   },
   {
    "duration": 6,
    "start_time": "2022-11-15T20:14:34.846Z"
   },
   {
    "duration": 222,
    "start_time": "2022-11-15T20:14:34.856Z"
   },
   {
    "duration": 16,
    "start_time": "2022-11-15T20:14:35.080Z"
   },
   {
    "duration": 342,
    "start_time": "2022-11-15T20:14:35.098Z"
   },
   {
    "duration": 12,
    "start_time": "2022-11-15T20:14:35.443Z"
   },
   {
    "duration": 145,
    "start_time": "2022-11-15T20:14:35.456Z"
   },
   {
    "duration": 146,
    "start_time": "2022-11-15T20:14:35.603Z"
   },
   {
    "duration": 8,
    "start_time": "2022-11-15T20:14:35.751Z"
   },
   {
    "duration": 144,
    "start_time": "2022-11-15T20:14:35.760Z"
   },
   {
    "duration": 244,
    "start_time": "2022-11-15T20:14:35.906Z"
   },
   {
    "duration": 5,
    "start_time": "2022-11-15T20:14:36.152Z"
   },
   {
    "duration": 16,
    "start_time": "2022-11-15T20:14:36.159Z"
   },
   {
    "duration": 71,
    "start_time": "2022-11-15T20:14:36.177Z"
   },
   {
    "duration": 19,
    "start_time": "2022-11-15T20:14:36.250Z"
   },
   {
    "duration": 67,
    "start_time": "2022-11-15T20:14:36.271Z"
   },
   {
    "duration": 37,
    "start_time": "2022-11-15T20:14:36.341Z"
   },
   {
    "duration": 86,
    "start_time": "2022-11-15T20:14:36.380Z"
   },
   {
    "duration": 27,
    "start_time": "2022-11-15T20:14:36.468Z"
   },
   {
    "duration": 82,
    "start_time": "2022-11-15T20:14:36.497Z"
   },
   {
    "duration": 42,
    "start_time": "2022-11-15T20:14:36.583Z"
   },
   {
    "duration": 325,
    "start_time": "2022-11-15T20:14:36.628Z"
   },
   {
    "duration": 11,
    "start_time": "2022-11-15T20:14:36.955Z"
   },
   {
    "duration": 13,
    "start_time": "2022-11-15T20:14:36.968Z"
   },
   {
    "duration": 8,
    "start_time": "2022-11-15T20:14:36.983Z"
   },
   {
    "duration": 55,
    "start_time": "2022-11-15T20:14:36.993Z"
   },
   {
    "duration": 15,
    "start_time": "2022-11-15T20:14:37.051Z"
   },
   {
    "duration": 1037,
    "start_time": "2022-11-15T20:48:39.944Z"
   },
   {
    "duration": 78,
    "start_time": "2022-11-15T20:48:40.982Z"
   },
   {
    "duration": 12,
    "start_time": "2022-11-15T20:48:41.061Z"
   },
   {
    "duration": 15,
    "start_time": "2022-11-15T20:48:41.075Z"
   },
   {
    "duration": 8,
    "start_time": "2022-11-15T20:48:41.092Z"
   },
   {
    "duration": 20,
    "start_time": "2022-11-15T20:48:41.102Z"
   },
   {
    "duration": 13,
    "start_time": "2022-11-15T20:48:41.123Z"
   },
   {
    "duration": 17,
    "start_time": "2022-11-15T20:48:41.137Z"
   },
   {
    "duration": 20,
    "start_time": "2022-11-15T20:48:41.156Z"
   },
   {
    "duration": 9,
    "start_time": "2022-11-15T20:48:41.179Z"
   },
   {
    "duration": 18,
    "start_time": "2022-11-15T20:48:41.189Z"
   },
   {
    "duration": 5,
    "start_time": "2022-11-15T20:48:41.215Z"
   },
   {
    "duration": 13,
    "start_time": "2022-11-15T20:48:41.222Z"
   },
   {
    "duration": 20,
    "start_time": "2022-11-15T20:48:41.236Z"
   },
   {
    "duration": 9,
    "start_time": "2022-11-15T20:48:41.258Z"
   },
   {
    "duration": 13,
    "start_time": "2022-11-15T20:48:41.269Z"
   },
   {
    "duration": 7,
    "start_time": "2022-11-15T20:48:41.284Z"
   },
   {
    "duration": 22,
    "start_time": "2022-11-15T20:48:41.292Z"
   },
   {
    "duration": 15,
    "start_time": "2022-11-15T20:48:41.316Z"
   },
   {
    "duration": 192,
    "start_time": "2022-11-15T20:48:41.333Z"
   },
   {
    "duration": 142,
    "start_time": "2022-11-15T20:48:41.527Z"
   },
   {
    "duration": 17,
    "start_time": "2022-11-15T20:48:41.670Z"
   },
   {
    "duration": 316,
    "start_time": "2022-11-15T20:48:41.688Z"
   },
   {
    "duration": 229,
    "start_time": "2022-11-15T20:48:42.006Z"
   },
   {
    "duration": 12,
    "start_time": "2022-11-15T20:48:42.237Z"
   },
   {
    "duration": 342,
    "start_time": "2022-11-15T20:48:42.251Z"
   },
   {
    "duration": 7,
    "start_time": "2022-11-15T20:48:42.594Z"
   },
   {
    "duration": 239,
    "start_time": "2022-11-15T20:48:42.605Z"
   },
   {
    "duration": 14,
    "start_time": "2022-11-15T20:48:42.845Z"
   },
   {
    "duration": 307,
    "start_time": "2022-11-15T20:48:42.861Z"
   },
   {
    "duration": 12,
    "start_time": "2022-11-15T20:48:43.170Z"
   },
   {
    "duration": 141,
    "start_time": "2022-11-15T20:48:43.183Z"
   },
   {
    "duration": 132,
    "start_time": "2022-11-15T20:48:43.327Z"
   },
   {
    "duration": 6,
    "start_time": "2022-11-15T20:48:43.460Z"
   },
   {
    "duration": 137,
    "start_time": "2022-11-15T20:48:43.468Z"
   },
   {
    "duration": 211,
    "start_time": "2022-11-15T20:48:43.607Z"
   },
   {
    "duration": 4,
    "start_time": "2022-11-15T20:48:43.820Z"
   },
   {
    "duration": 14,
    "start_time": "2022-11-15T20:48:43.825Z"
   },
   {
    "duration": 53,
    "start_time": "2022-11-15T20:48:43.841Z"
   },
   {
    "duration": 20,
    "start_time": "2022-11-15T20:48:43.896Z"
   },
   {
    "duration": 47,
    "start_time": "2022-11-15T20:48:43.918Z"
   },
   {
    "duration": 16,
    "start_time": "2022-11-15T20:48:43.967Z"
   },
   {
    "duration": 72,
    "start_time": "2022-11-15T20:48:43.984Z"
   },
   {
    "duration": 18,
    "start_time": "2022-11-15T20:48:44.057Z"
   },
   {
    "duration": 69,
    "start_time": "2022-11-15T20:48:44.076Z"
   },
   {
    "duration": 22,
    "start_time": "2022-11-15T20:48:44.147Z"
   },
   {
    "duration": 289,
    "start_time": "2022-11-15T20:48:44.171Z"
   },
   {
    "duration": 9,
    "start_time": "2022-11-15T20:48:44.462Z"
   },
   {
    "duration": 10,
    "start_time": "2022-11-15T20:48:44.472Z"
   },
   {
    "duration": 6,
    "start_time": "2022-11-15T20:48:44.483Z"
   },
   {
    "duration": 46,
    "start_time": "2022-11-15T20:48:44.490Z"
   },
   {
    "duration": 12,
    "start_time": "2022-11-15T20:48:44.538Z"
   },
   {
    "duration": 1126,
    "start_time": "2022-11-18T11:23:48.129Z"
   },
   {
    "duration": 212,
    "start_time": "2022-11-18T11:23:49.257Z"
   },
   {
    "duration": 13,
    "start_time": "2022-11-18T11:23:49.471Z"
   },
   {
    "duration": 20,
    "start_time": "2022-11-18T11:23:49.485Z"
   },
   {
    "duration": 4,
    "start_time": "2022-11-18T11:23:49.507Z"
   },
   {
    "duration": 17,
    "start_time": "2022-11-18T11:23:49.513Z"
   },
   {
    "duration": 13,
    "start_time": "2022-11-18T11:23:49.531Z"
   },
   {
    "duration": 23,
    "start_time": "2022-11-18T11:23:49.546Z"
   },
   {
    "duration": 15,
    "start_time": "2022-11-18T11:23:49.570Z"
   },
   {
    "duration": 18,
    "start_time": "2022-11-18T11:23:49.587Z"
   },
   {
    "duration": 22,
    "start_time": "2022-11-18T11:23:49.607Z"
   },
   {
    "duration": 9,
    "start_time": "2022-11-18T11:23:49.631Z"
   },
   {
    "duration": 6,
    "start_time": "2022-11-18T11:23:49.641Z"
   },
   {
    "duration": 11,
    "start_time": "2022-11-18T11:23:49.648Z"
   },
   {
    "duration": 8,
    "start_time": "2022-11-18T11:23:49.660Z"
   },
   {
    "duration": 13,
    "start_time": "2022-11-18T11:23:49.669Z"
   },
   {
    "duration": 5,
    "start_time": "2022-11-18T11:23:49.698Z"
   },
   {
    "duration": 17,
    "start_time": "2022-11-18T11:23:49.705Z"
   },
   {
    "duration": 15,
    "start_time": "2022-11-18T11:23:49.723Z"
   },
   {
    "duration": 169,
    "start_time": "2022-11-18T11:23:49.739Z"
   },
   {
    "duration": 141,
    "start_time": "2022-11-18T11:23:49.910Z"
   },
   {
    "duration": 14,
    "start_time": "2022-11-18T11:23:50.054Z"
   },
   {
    "duration": 282,
    "start_time": "2022-11-18T11:23:50.070Z"
   },
   {
    "duration": 178,
    "start_time": "2022-11-18T11:23:50.353Z"
   },
   {
    "duration": 10,
    "start_time": "2022-11-18T11:23:50.533Z"
   },
   {
    "duration": 339,
    "start_time": "2022-11-18T11:23:50.545Z"
   },
   {
    "duration": 6,
    "start_time": "2022-11-18T11:23:50.886Z"
   },
   {
    "duration": 197,
    "start_time": "2022-11-18T11:23:50.900Z"
   },
   {
    "duration": 13,
    "start_time": "2022-11-18T11:23:51.098Z"
   },
   {
    "duration": 305,
    "start_time": "2022-11-18T11:23:51.112Z"
   },
   {
    "duration": 11,
    "start_time": "2022-11-18T11:23:51.418Z"
   },
   {
    "duration": 148,
    "start_time": "2022-11-18T11:23:51.431Z"
   },
   {
    "duration": 127,
    "start_time": "2022-11-18T11:23:51.580Z"
   },
   {
    "duration": 6,
    "start_time": "2022-11-18T11:23:51.709Z"
   },
   {
    "duration": 132,
    "start_time": "2022-11-18T11:23:51.716Z"
   },
   {
    "duration": 217,
    "start_time": "2022-11-18T11:23:51.850Z"
   },
   {
    "duration": 4,
    "start_time": "2022-11-18T11:23:52.069Z"
   },
   {
    "duration": 11,
    "start_time": "2022-11-18T11:23:52.074Z"
   },
   {
    "duration": 45,
    "start_time": "2022-11-18T11:23:52.098Z"
   },
   {
    "duration": 8,
    "start_time": "2022-11-18T11:23:52.145Z"
   },
   {
    "duration": 65,
    "start_time": "2022-11-18T11:23:52.155Z"
   },
   {
    "duration": 19,
    "start_time": "2022-11-18T11:23:52.222Z"
   },
   {
    "duration": 62,
    "start_time": "2022-11-18T11:23:52.243Z"
   },
   {
    "duration": 18,
    "start_time": "2022-11-18T11:23:52.307Z"
   },
   {
    "duration": 50,
    "start_time": "2022-11-18T11:23:52.326Z"
   },
   {
    "duration": 43,
    "start_time": "2022-11-18T11:23:52.377Z"
   },
   {
    "duration": 297,
    "start_time": "2022-11-18T11:23:52.422Z"
   },
   {
    "duration": 8,
    "start_time": "2022-11-18T11:23:52.720Z"
   },
   {
    "duration": 11,
    "start_time": "2022-11-18T11:23:52.730Z"
   },
   {
    "duration": 6,
    "start_time": "2022-11-18T11:23:52.742Z"
   },
   {
    "duration": 25,
    "start_time": "2022-11-18T11:23:52.749Z"
   },
   {
    "duration": 31,
    "start_time": "2022-11-18T11:23:52.776Z"
   },
   {
    "duration": 994,
    "start_time": "2022-11-18T14:18:20.740Z"
   },
   {
    "duration": 78,
    "start_time": "2022-11-18T14:18:21.735Z"
   },
   {
    "duration": 12,
    "start_time": "2022-11-18T14:18:21.814Z"
   },
   {
    "duration": 14,
    "start_time": "2022-11-18T14:18:21.828Z"
   },
   {
    "duration": 3,
    "start_time": "2022-11-18T14:18:21.844Z"
   },
   {
    "duration": 15,
    "start_time": "2022-11-18T14:18:21.848Z"
   },
   {
    "duration": 11,
    "start_time": "2022-11-18T14:18:21.864Z"
   },
   {
    "duration": 22,
    "start_time": "2022-11-18T14:18:21.877Z"
   },
   {
    "duration": 17,
    "start_time": "2022-11-18T14:18:21.900Z"
   },
   {
    "duration": 12,
    "start_time": "2022-11-18T14:18:21.919Z"
   },
   {
    "duration": 14,
    "start_time": "2022-11-18T14:18:21.932Z"
   },
   {
    "duration": 17,
    "start_time": "2022-11-18T14:18:21.947Z"
   },
   {
    "duration": 7,
    "start_time": "2022-11-18T14:18:21.966Z"
   },
   {
    "duration": 21,
    "start_time": "2022-11-18T14:18:21.977Z"
   },
   {
    "duration": 6,
    "start_time": "2022-11-18T14:18:22.000Z"
   },
   {
    "duration": 15,
    "start_time": "2022-11-18T14:18:22.007Z"
   },
   {
    "duration": 7,
    "start_time": "2022-11-18T14:18:22.023Z"
   },
   {
    "duration": 19,
    "start_time": "2022-11-18T14:18:22.031Z"
   },
   {
    "duration": 14,
    "start_time": "2022-11-18T14:18:22.051Z"
   },
   {
    "duration": 183,
    "start_time": "2022-11-18T14:18:22.066Z"
   },
   {
    "duration": 136,
    "start_time": "2022-11-18T14:18:22.250Z"
   },
   {
    "duration": 23,
    "start_time": "2022-11-18T14:18:22.387Z"
   },
   {
    "duration": 268,
    "start_time": "2022-11-18T14:18:22.411Z"
   },
   {
    "duration": 182,
    "start_time": "2022-11-18T14:18:22.680Z"
   },
   {
    "duration": 11,
    "start_time": "2022-11-18T14:18:22.864Z"
   },
   {
    "duration": 329,
    "start_time": "2022-11-18T14:18:22.877Z"
   },
   {
    "duration": 5,
    "start_time": "2022-11-18T14:18:23.207Z"
   },
   {
    "duration": 198,
    "start_time": "2022-11-18T14:18:23.214Z"
   },
   {
    "duration": 12,
    "start_time": "2022-11-18T14:18:23.413Z"
   },
   {
    "duration": 299,
    "start_time": "2022-11-18T14:18:23.426Z"
   },
   {
    "duration": 11,
    "start_time": "2022-11-18T14:18:23.727Z"
   },
   {
    "duration": 129,
    "start_time": "2022-11-18T14:18:23.740Z"
   },
   {
    "duration": 131,
    "start_time": "2022-11-18T14:18:23.870Z"
   },
   {
    "duration": 5,
    "start_time": "2022-11-18T14:18:24.003Z"
   },
   {
    "duration": 127,
    "start_time": "2022-11-18T14:18:24.010Z"
   },
   {
    "duration": 197,
    "start_time": "2022-11-18T14:18:24.138Z"
   },
   {
    "duration": 5,
    "start_time": "2022-11-18T14:18:24.336Z"
   },
   {
    "duration": 9,
    "start_time": "2022-11-18T14:18:24.343Z"
   },
   {
    "duration": 57,
    "start_time": "2022-11-18T14:18:24.353Z"
   },
   {
    "duration": 9,
    "start_time": "2022-11-18T14:18:24.412Z"
   },
   {
    "duration": 47,
    "start_time": "2022-11-18T14:18:24.424Z"
   },
   {
    "duration": 34,
    "start_time": "2022-11-18T14:18:24.472Z"
   },
   {
    "duration": 48,
    "start_time": "2022-11-18T14:18:24.507Z"
   },
   {
    "duration": 21,
    "start_time": "2022-11-18T14:18:24.557Z"
   },
   {
    "duration": 59,
    "start_time": "2022-11-18T14:18:24.580Z"
   },
   {
    "duration": 23,
    "start_time": "2022-11-18T14:18:24.641Z"
   },
   {
    "duration": 378,
    "start_time": "2022-11-18T14:18:24.665Z"
   },
   {
    "duration": 9,
    "start_time": "2022-11-18T14:18:25.045Z"
   },
   {
    "duration": 23,
    "start_time": "2022-11-18T14:18:25.055Z"
   },
   {
    "duration": 14,
    "start_time": "2022-11-18T14:18:25.080Z"
   },
   {
    "duration": 35,
    "start_time": "2022-11-18T14:18:25.096Z"
   },
   {
    "duration": 12,
    "start_time": "2022-11-18T14:18:25.132Z"
   },
   {
    "duration": 1149,
    "start_time": "2022-11-18T16:01:09.593Z"
   },
   {
    "duration": 78,
    "start_time": "2022-11-18T16:01:10.743Z"
   },
   {
    "duration": 13,
    "start_time": "2022-11-18T16:01:10.822Z"
   },
   {
    "duration": 28,
    "start_time": "2022-11-18T16:01:10.836Z"
   },
   {
    "duration": 23,
    "start_time": "2022-11-18T16:01:10.866Z"
   },
   {
    "duration": 39,
    "start_time": "2022-11-18T16:01:10.890Z"
   },
   {
    "duration": 16,
    "start_time": "2022-11-18T16:01:10.932Z"
   },
   {
    "duration": 47,
    "start_time": "2022-11-18T16:01:10.950Z"
   },
   {
    "duration": 15,
    "start_time": "2022-11-18T16:01:10.999Z"
   },
   {
    "duration": 24,
    "start_time": "2022-11-18T16:01:11.018Z"
   },
   {
    "duration": 20,
    "start_time": "2022-11-18T16:01:11.044Z"
   },
   {
    "duration": 25,
    "start_time": "2022-11-18T16:01:11.066Z"
   },
   {
    "duration": 45,
    "start_time": "2022-11-18T16:01:11.092Z"
   },
   {
    "duration": 41,
    "start_time": "2022-11-18T16:01:11.138Z"
   },
   {
    "duration": 45,
    "start_time": "2022-11-18T16:01:11.180Z"
   },
   {
    "duration": 56,
    "start_time": "2022-11-18T16:01:11.227Z"
   },
   {
    "duration": 33,
    "start_time": "2022-11-18T16:01:11.285Z"
   },
   {
    "duration": 36,
    "start_time": "2022-11-18T16:01:11.320Z"
   },
   {
    "duration": 64,
    "start_time": "2022-11-18T16:01:11.357Z"
   },
   {
    "duration": 167,
    "start_time": "2022-11-18T16:01:11.423Z"
   },
   {
    "duration": 135,
    "start_time": "2022-11-18T16:01:11.591Z"
   },
   {
    "duration": 15,
    "start_time": "2022-11-18T16:01:11.728Z"
   },
   {
    "duration": 328,
    "start_time": "2022-11-18T16:01:11.744Z"
   },
   {
    "duration": 200,
    "start_time": "2022-11-18T16:01:12.074Z"
   },
   {
    "duration": 11,
    "start_time": "2022-11-18T16:01:12.275Z"
   },
   {
    "duration": 309,
    "start_time": "2022-11-18T16:01:12.297Z"
   },
   {
    "duration": 6,
    "start_time": "2022-11-18T16:01:12.607Z"
   },
   {
    "duration": 217,
    "start_time": "2022-11-18T16:01:12.616Z"
   },
   {
    "duration": 13,
    "start_time": "2022-11-18T16:01:12.835Z"
   },
   {
    "duration": 354,
    "start_time": "2022-11-18T16:01:12.849Z"
   },
   {
    "duration": 10,
    "start_time": "2022-11-18T16:01:13.204Z"
   },
   {
    "duration": 131,
    "start_time": "2022-11-18T16:01:13.216Z"
   },
   {
    "duration": 121,
    "start_time": "2022-11-18T16:01:13.348Z"
   },
   {
    "duration": 6,
    "start_time": "2022-11-18T16:01:13.471Z"
   },
   {
    "duration": 160,
    "start_time": "2022-11-18T16:01:13.478Z"
   },
   {
    "duration": 190,
    "start_time": "2022-11-18T16:01:13.640Z"
   },
   {
    "duration": 4,
    "start_time": "2022-11-18T16:01:13.832Z"
   },
   {
    "duration": 75,
    "start_time": "2022-11-18T16:01:13.837Z"
   },
   {
    "duration": 79,
    "start_time": "2022-11-18T16:01:13.914Z"
   },
   {
    "duration": 46,
    "start_time": "2022-11-18T16:01:13.995Z"
   },
   {
    "duration": 116,
    "start_time": "2022-11-18T16:01:14.043Z"
   },
   {
    "duration": 53,
    "start_time": "2022-11-18T16:01:14.161Z"
   },
   {
    "duration": 142,
    "start_time": "2022-11-18T16:01:14.215Z"
   },
   {
    "duration": 69,
    "start_time": "2022-11-18T16:01:14.358Z"
   },
   {
    "duration": 102,
    "start_time": "2022-11-18T16:01:14.428Z"
   },
   {
    "duration": 55,
    "start_time": "2022-11-18T16:01:14.532Z"
   },
   {
    "duration": 517,
    "start_time": "2022-11-18T16:01:14.589Z"
   },
   {
    "duration": 21,
    "start_time": "2022-11-18T16:01:15.109Z"
   },
   {
    "duration": 69,
    "start_time": "2022-11-18T16:01:15.132Z"
   },
   {
    "duration": 34,
    "start_time": "2022-11-18T16:01:15.202Z"
   },
   {
    "duration": 80,
    "start_time": "2022-11-18T16:01:15.238Z"
   },
   {
    "duration": 29,
    "start_time": "2022-11-18T16:01:15.320Z"
   },
   {
    "duration": 988,
    "start_time": "2022-11-18T16:16:30.546Z"
   },
   {
    "duration": 78,
    "start_time": "2022-11-18T16:16:31.537Z"
   },
   {
    "duration": 12,
    "start_time": "2022-11-18T16:16:31.616Z"
   },
   {
    "duration": 19,
    "start_time": "2022-11-18T16:16:31.630Z"
   },
   {
    "duration": 12,
    "start_time": "2022-11-18T16:16:31.651Z"
   },
   {
    "duration": 17,
    "start_time": "2022-11-18T16:16:31.664Z"
   },
   {
    "duration": 12,
    "start_time": "2022-11-18T16:16:31.682Z"
   },
   {
    "duration": 16,
    "start_time": "2022-11-18T16:16:31.695Z"
   },
   {
    "duration": 36,
    "start_time": "2022-11-18T16:16:31.713Z"
   },
   {
    "duration": 14,
    "start_time": "2022-11-18T16:16:31.752Z"
   },
   {
    "duration": 13,
    "start_time": "2022-11-18T16:16:31.768Z"
   },
   {
    "duration": 9,
    "start_time": "2022-11-18T16:16:31.783Z"
   },
   {
    "duration": 28,
    "start_time": "2022-11-18T16:16:31.794Z"
   },
   {
    "duration": 10,
    "start_time": "2022-11-18T16:16:31.824Z"
   },
   {
    "duration": 8,
    "start_time": "2022-11-18T16:16:31.836Z"
   },
   {
    "duration": 10,
    "start_time": "2022-11-18T16:16:31.846Z"
   },
   {
    "duration": 6,
    "start_time": "2022-11-18T16:16:31.858Z"
   },
   {
    "duration": 16,
    "start_time": "2022-11-18T16:16:31.866Z"
   },
   {
    "duration": 18,
    "start_time": "2022-11-18T16:16:31.883Z"
   },
   {
    "duration": 166,
    "start_time": "2022-11-18T16:16:31.902Z"
   },
   {
    "duration": 139,
    "start_time": "2022-11-18T16:16:32.070Z"
   },
   {
    "duration": 14,
    "start_time": "2022-11-18T16:16:32.211Z"
   },
   {
    "duration": 272,
    "start_time": "2022-11-18T16:16:32.227Z"
   },
   {
    "duration": 202,
    "start_time": "2022-11-18T16:16:32.500Z"
   },
   {
    "duration": 11,
    "start_time": "2022-11-18T16:16:32.704Z"
   },
   {
    "duration": 328,
    "start_time": "2022-11-18T16:16:32.717Z"
   },
   {
    "duration": 6,
    "start_time": "2022-11-18T16:16:33.047Z"
   },
   {
    "duration": 224,
    "start_time": "2022-11-18T16:16:33.057Z"
   },
   {
    "duration": 21,
    "start_time": "2022-11-18T16:16:33.283Z"
   },
   {
    "duration": 310,
    "start_time": "2022-11-18T16:16:33.305Z"
   },
   {
    "duration": 12,
    "start_time": "2022-11-18T16:16:33.616Z"
   },
   {
    "duration": 133,
    "start_time": "2022-11-18T16:16:33.630Z"
   },
   {
    "duration": 119,
    "start_time": "2022-11-18T16:16:33.765Z"
   },
   {
    "duration": 15,
    "start_time": "2022-11-18T16:16:33.886Z"
   },
   {
    "duration": 144,
    "start_time": "2022-11-18T16:16:33.902Z"
   },
   {
    "duration": 201,
    "start_time": "2022-11-18T16:16:34.047Z"
   },
   {
    "duration": 4,
    "start_time": "2022-11-18T16:16:34.250Z"
   },
   {
    "duration": 31,
    "start_time": "2022-11-18T16:16:34.255Z"
   },
   {
    "duration": 54,
    "start_time": "2022-11-18T16:16:34.288Z"
   },
   {
    "duration": 23,
    "start_time": "2022-11-18T16:16:34.344Z"
   },
   {
    "duration": 58,
    "start_time": "2022-11-18T16:16:34.369Z"
   },
   {
    "duration": 51,
    "start_time": "2022-11-18T16:16:34.428Z"
   },
   {
    "duration": 47,
    "start_time": "2022-11-18T16:16:34.481Z"
   },
   {
    "duration": 54,
    "start_time": "2022-11-18T16:16:34.530Z"
   },
   {
    "duration": 79,
    "start_time": "2022-11-18T16:16:34.586Z"
   },
   {
    "duration": 48,
    "start_time": "2022-11-18T16:16:34.667Z"
   },
   {
    "duration": 294,
    "start_time": "2022-11-18T16:16:34.717Z"
   },
   {
    "duration": 10,
    "start_time": "2022-11-18T16:16:35.013Z"
   },
   {
    "duration": 38,
    "start_time": "2022-11-18T16:16:35.024Z"
   },
   {
    "duration": 21,
    "start_time": "2022-11-18T16:16:35.064Z"
   },
   {
    "duration": 54,
    "start_time": "2022-11-18T16:16:35.086Z"
   },
   {
    "duration": 12,
    "start_time": "2022-11-18T16:16:35.142Z"
   },
   {
    "duration": 1063,
    "start_time": "2022-11-18T19:11:45.915Z"
   },
   {
    "duration": 78,
    "start_time": "2022-11-18T19:11:46.979Z"
   },
   {
    "duration": 13,
    "start_time": "2022-11-18T19:11:47.059Z"
   },
   {
    "duration": 24,
    "start_time": "2022-11-18T19:11:47.073Z"
   },
   {
    "duration": 9,
    "start_time": "2022-11-18T19:11:47.100Z"
   },
   {
    "duration": 17,
    "start_time": "2022-11-18T19:11:47.110Z"
   },
   {
    "duration": 12,
    "start_time": "2022-11-18T19:11:47.128Z"
   },
   {
    "duration": 17,
    "start_time": "2022-11-18T19:11:47.141Z"
   },
   {
    "duration": 16,
    "start_time": "2022-11-18T19:11:47.159Z"
   },
   {
    "duration": 24,
    "start_time": "2022-11-18T19:11:47.177Z"
   },
   {
    "duration": 11,
    "start_time": "2022-11-18T19:11:47.202Z"
   },
   {
    "duration": 7,
    "start_time": "2022-11-18T19:11:47.215Z"
   },
   {
    "duration": 7,
    "start_time": "2022-11-18T19:11:47.224Z"
   },
   {
    "duration": 7,
    "start_time": "2022-11-18T19:11:47.233Z"
   },
   {
    "duration": 12,
    "start_time": "2022-11-18T19:11:47.241Z"
   },
   {
    "duration": 13,
    "start_time": "2022-11-18T19:11:47.255Z"
   },
   {
    "duration": 27,
    "start_time": "2022-11-18T19:11:47.270Z"
   },
   {
    "duration": 12,
    "start_time": "2022-11-18T19:11:47.299Z"
   },
   {
    "duration": 14,
    "start_time": "2022-11-18T19:11:47.313Z"
   },
   {
    "duration": 188,
    "start_time": "2022-11-18T19:11:47.328Z"
   },
   {
    "duration": 122,
    "start_time": "2022-11-18T19:11:47.518Z"
   },
   {
    "duration": 14,
    "start_time": "2022-11-18T19:11:47.641Z"
   },
   {
    "duration": 270,
    "start_time": "2022-11-18T19:11:47.656Z"
   },
   {
    "duration": 181,
    "start_time": "2022-11-18T19:11:47.928Z"
   },
   {
    "duration": 10,
    "start_time": "2022-11-18T19:11:48.111Z"
   },
   {
    "duration": 295,
    "start_time": "2022-11-18T19:11:48.122Z"
   },
   {
    "duration": 6,
    "start_time": "2022-11-18T19:11:48.418Z"
   },
   {
    "duration": 190,
    "start_time": "2022-11-18T19:11:48.425Z"
   },
   {
    "duration": 17,
    "start_time": "2022-11-18T19:11:48.617Z"
   },
   {
    "duration": 285,
    "start_time": "2022-11-18T19:11:48.636Z"
   },
   {
    "duration": 10,
    "start_time": "2022-11-18T19:11:48.922Z"
   },
   {
    "duration": 128,
    "start_time": "2022-11-18T19:11:48.933Z"
   },
   {
    "duration": 138,
    "start_time": "2022-11-18T19:11:49.063Z"
   },
   {
    "duration": 6,
    "start_time": "2022-11-18T19:11:49.203Z"
   },
   {
    "duration": 133,
    "start_time": "2022-11-18T19:11:49.211Z"
   },
   {
    "duration": 200,
    "start_time": "2022-11-18T19:11:49.347Z"
   },
   {
    "duration": 5,
    "start_time": "2022-11-18T19:11:49.549Z"
   },
   {
    "duration": 11,
    "start_time": "2022-11-18T19:11:49.556Z"
   },
   {
    "duration": 58,
    "start_time": "2022-11-18T19:11:49.569Z"
   },
   {
    "duration": 11,
    "start_time": "2022-11-18T19:11:49.629Z"
   },
   {
    "duration": 64,
    "start_time": "2022-11-18T19:11:49.643Z"
   },
   {
    "duration": 17,
    "start_time": "2022-11-18T19:11:49.709Z"
   },
   {
    "duration": 71,
    "start_time": "2022-11-18T19:11:49.727Z"
   },
   {
    "duration": 22,
    "start_time": "2022-11-18T19:11:49.800Z"
   },
   {
    "duration": 48,
    "start_time": "2022-11-18T19:11:49.824Z"
   },
   {
    "duration": 33,
    "start_time": "2022-11-18T19:11:49.874Z"
   },
   {
    "duration": 292,
    "start_time": "2022-11-18T19:11:49.908Z"
   },
   {
    "duration": 9,
    "start_time": "2022-11-18T19:11:50.202Z"
   },
   {
    "duration": 19,
    "start_time": "2022-11-18T19:11:50.212Z"
   },
   {
    "duration": 6,
    "start_time": "2022-11-18T19:11:50.233Z"
   },
   {
    "duration": 28,
    "start_time": "2022-11-18T19:11:50.241Z"
   },
   {
    "duration": 31,
    "start_time": "2022-11-18T19:11:50.271Z"
   },
   {
    "duration": 1415,
    "start_time": "2022-11-20T17:49:01.489Z"
   },
   {
    "duration": 198,
    "start_time": "2022-11-20T17:49:02.907Z"
   },
   {
    "duration": 13,
    "start_time": "2022-11-20T17:49:03.107Z"
   },
   {
    "duration": 16,
    "start_time": "2022-11-20T17:49:03.122Z"
   },
   {
    "duration": 4,
    "start_time": "2022-11-20T17:49:03.141Z"
   },
   {
    "duration": 17,
    "start_time": "2022-11-20T17:49:03.146Z"
   },
   {
    "duration": 47,
    "start_time": "2022-11-20T17:49:03.165Z"
   },
   {
    "duration": 15,
    "start_time": "2022-11-20T17:49:03.215Z"
   },
   {
    "duration": 16,
    "start_time": "2022-11-20T17:49:03.231Z"
   },
   {
    "duration": 13,
    "start_time": "2022-11-20T17:49:03.249Z"
   },
   {
    "duration": 16,
    "start_time": "2022-11-20T17:49:03.264Z"
   },
   {
    "duration": 34,
    "start_time": "2022-11-20T17:49:03.283Z"
   },
   {
    "duration": 24,
    "start_time": "2022-11-20T17:49:03.319Z"
   },
   {
    "duration": 29,
    "start_time": "2022-11-20T17:49:03.347Z"
   },
   {
    "duration": 7,
    "start_time": "2022-11-20T17:49:03.379Z"
   },
   {
    "duration": 17,
    "start_time": "2022-11-20T17:49:03.388Z"
   },
   {
    "duration": 7,
    "start_time": "2022-11-20T17:49:03.407Z"
   },
   {
    "duration": 20,
    "start_time": "2022-11-20T17:49:03.416Z"
   },
   {
    "duration": 19,
    "start_time": "2022-11-20T17:49:03.438Z"
   },
   {
    "duration": 197,
    "start_time": "2022-11-20T17:49:03.459Z"
   },
   {
    "duration": 161,
    "start_time": "2022-11-20T17:49:03.657Z"
   },
   {
    "duration": 19,
    "start_time": "2022-11-20T17:49:03.819Z"
   },
   {
    "duration": 339,
    "start_time": "2022-11-20T17:49:03.840Z"
   },
   {
    "duration": 219,
    "start_time": "2022-11-20T17:49:04.181Z"
   },
   {
    "duration": 18,
    "start_time": "2022-11-20T17:49:04.403Z"
   },
   {
    "duration": 394,
    "start_time": "2022-11-20T17:49:04.423Z"
   },
   {
    "duration": 10,
    "start_time": "2022-11-20T17:49:04.819Z"
   },
   {
    "duration": 277,
    "start_time": "2022-11-20T17:49:04.831Z"
   },
   {
    "duration": 15,
    "start_time": "2022-11-20T17:49:05.112Z"
   },
   {
    "duration": 333,
    "start_time": "2022-11-20T17:49:05.129Z"
   },
   {
    "duration": 15,
    "start_time": "2022-11-20T17:49:05.464Z"
   },
   {
    "duration": 163,
    "start_time": "2022-11-20T17:49:05.481Z"
   },
   {
    "duration": 149,
    "start_time": "2022-11-20T17:49:05.647Z"
   },
   {
    "duration": 16,
    "start_time": "2022-11-20T17:49:05.799Z"
   },
   {
    "duration": 146,
    "start_time": "2022-11-20T17:49:05.817Z"
   },
   {
    "duration": 232,
    "start_time": "2022-11-20T17:49:05.964Z"
   },
   {
    "duration": 17,
    "start_time": "2022-11-20T17:49:06.198Z"
   },
   {
    "duration": 20,
    "start_time": "2022-11-20T17:49:06.217Z"
   },
   {
    "duration": 72,
    "start_time": "2022-11-20T17:49:06.239Z"
   },
   {
    "duration": 12,
    "start_time": "2022-11-20T17:49:06.313Z"
   },
   {
    "duration": 53,
    "start_time": "2022-11-20T17:49:06.329Z"
   },
   {
    "duration": 45,
    "start_time": "2022-11-20T17:49:06.383Z"
   },
   {
    "duration": 85,
    "start_time": "2022-11-20T17:49:06.430Z"
   },
   {
    "duration": 33,
    "start_time": "2022-11-20T17:49:06.517Z"
   },
   {
    "duration": 85,
    "start_time": "2022-11-20T17:49:06.553Z"
   },
   {
    "duration": 31,
    "start_time": "2022-11-20T17:49:06.640Z"
   },
   {
    "duration": 359,
    "start_time": "2022-11-20T17:49:06.673Z"
   },
   {
    "duration": 11,
    "start_time": "2022-11-20T17:49:07.035Z"
   },
   {
    "duration": 14,
    "start_time": "2022-11-20T17:49:07.048Z"
   },
   {
    "duration": 7,
    "start_time": "2022-11-20T17:49:07.065Z"
   },
   {
    "duration": 41,
    "start_time": "2022-11-20T17:49:07.074Z"
   },
   {
    "duration": 15,
    "start_time": "2022-11-20T17:49:07.117Z"
   },
   {
    "duration": 1215,
    "start_time": "2022-11-20T18:08:26.533Z"
   },
   {
    "duration": 88,
    "start_time": "2022-11-20T18:08:27.751Z"
   },
   {
    "duration": 17,
    "start_time": "2022-11-20T18:08:27.841Z"
   },
   {
    "duration": 15,
    "start_time": "2022-11-20T18:08:27.860Z"
   },
   {
    "duration": 5,
    "start_time": "2022-11-20T18:08:27.878Z"
   },
   {
    "duration": 18,
    "start_time": "2022-11-20T18:08:27.885Z"
   },
   {
    "duration": 33,
    "start_time": "2022-11-20T18:08:27.905Z"
   },
   {
    "duration": 39,
    "start_time": "2022-11-20T18:08:27.940Z"
   },
   {
    "duration": 20,
    "start_time": "2022-11-20T18:08:27.981Z"
   },
   {
    "duration": 34,
    "start_time": "2022-11-20T18:08:28.003Z"
   },
   {
    "duration": 17,
    "start_time": "2022-11-20T18:08:28.038Z"
   },
   {
    "duration": 9,
    "start_time": "2022-11-20T18:08:28.057Z"
   },
   {
    "duration": 9,
    "start_time": "2022-11-20T18:08:28.068Z"
   },
   {
    "duration": 11,
    "start_time": "2022-11-20T18:08:28.081Z"
   },
   {
    "duration": 8,
    "start_time": "2022-11-20T18:08:28.094Z"
   },
   {
    "duration": 72,
    "start_time": "2022-11-20T18:08:28.104Z"
   },
   {
    "duration": 19,
    "start_time": "2022-11-20T18:08:28.179Z"
   },
   {
    "duration": 26,
    "start_time": "2022-11-20T18:08:28.200Z"
   },
   {
    "duration": 39,
    "start_time": "2022-11-20T18:08:28.228Z"
   },
   {
    "duration": 237,
    "start_time": "2022-11-20T18:08:28.270Z"
   },
   {
    "duration": 156,
    "start_time": "2022-11-20T18:08:28.514Z"
   },
   {
    "duration": 20,
    "start_time": "2022-11-20T18:08:28.672Z"
   },
   {
    "duration": 374,
    "start_time": "2022-11-20T18:08:28.694Z"
   },
   {
    "duration": 308,
    "start_time": "2022-11-20T18:08:29.070Z"
   },
   {
    "duration": 16,
    "start_time": "2022-11-20T18:08:29.380Z"
   },
   {
    "duration": 374,
    "start_time": "2022-11-20T18:08:29.398Z"
   },
   {
    "duration": 8,
    "start_time": "2022-11-20T18:08:29.775Z"
   },
   {
    "duration": 337,
    "start_time": "2022-11-20T18:08:29.785Z"
   },
   {
    "duration": 18,
    "start_time": "2022-11-20T18:08:30.124Z"
   },
   {
    "duration": 431,
    "start_time": "2022-11-20T18:08:30.145Z"
   },
   {
    "duration": 14,
    "start_time": "2022-11-20T18:08:30.578Z"
   },
   {
    "duration": 180,
    "start_time": "2022-11-20T18:08:30.593Z"
   },
   {
    "duration": 195,
    "start_time": "2022-11-20T18:08:30.775Z"
   },
   {
    "duration": 8,
    "start_time": "2022-11-20T18:08:30.972Z"
   },
   {
    "duration": 168,
    "start_time": "2022-11-20T18:08:30.982Z"
   },
   {
    "duration": 291,
    "start_time": "2022-11-20T18:08:31.151Z"
   },
   {
    "duration": 5,
    "start_time": "2022-11-20T18:08:31.444Z"
   },
   {
    "duration": 16,
    "start_time": "2022-11-20T18:08:31.451Z"
   },
   {
    "duration": 84,
    "start_time": "2022-11-20T18:08:31.469Z"
   },
   {
    "duration": 12,
    "start_time": "2022-11-20T18:08:31.554Z"
   },
   {
    "duration": 80,
    "start_time": "2022-11-20T18:08:31.571Z"
   },
   {
    "duration": 21,
    "start_time": "2022-11-20T18:08:31.653Z"
   },
   {
    "duration": 103,
    "start_time": "2022-11-20T18:08:31.676Z"
   },
   {
    "duration": 48,
    "start_time": "2022-11-20T18:08:31.781Z"
   },
   {
    "duration": 71,
    "start_time": "2022-11-20T18:08:31.836Z"
   },
   {
    "duration": 38,
    "start_time": "2022-11-20T18:08:31.909Z"
   },
   {
    "duration": 368,
    "start_time": "2022-11-20T18:08:31.949Z"
   },
   {
    "duration": 18,
    "start_time": "2022-11-20T18:08:32.322Z"
   },
   {
    "duration": 18,
    "start_time": "2022-11-20T18:08:32.344Z"
   },
   {
    "duration": 13,
    "start_time": "2022-11-20T18:08:32.365Z"
   },
   {
    "duration": 5,
    "start_time": "2022-11-20T18:08:32.380Z"
   },
   {
    "duration": 62,
    "start_time": "2022-11-20T18:08:32.387Z"
   },
   {
    "duration": 17,
    "start_time": "2022-11-20T18:08:32.451Z"
   },
   {
    "duration": 1379,
    "start_time": "2022-11-20T18:09:09.148Z"
   },
   {
    "duration": 106,
    "start_time": "2022-11-20T18:09:10.531Z"
   },
   {
    "duration": 18,
    "start_time": "2022-11-20T18:09:10.640Z"
   },
   {
    "duration": 19,
    "start_time": "2022-11-20T18:09:10.661Z"
   },
   {
    "duration": 4,
    "start_time": "2022-11-20T18:09:10.682Z"
   },
   {
    "duration": 20,
    "start_time": "2022-11-20T18:09:10.688Z"
   },
   {
    "duration": 34,
    "start_time": "2022-11-20T18:09:10.709Z"
   },
   {
    "duration": 17,
    "start_time": "2022-11-20T18:09:10.747Z"
   },
   {
    "duration": 14,
    "start_time": "2022-11-20T18:09:10.766Z"
   },
   {
    "duration": 22,
    "start_time": "2022-11-20T18:09:10.784Z"
   },
   {
    "duration": 23,
    "start_time": "2022-11-20T18:09:10.808Z"
   },
   {
    "duration": 15,
    "start_time": "2022-11-20T18:09:10.843Z"
   },
   {
    "duration": 7,
    "start_time": "2022-11-20T18:09:10.860Z"
   },
   {
    "duration": 12,
    "start_time": "2022-11-20T18:09:10.869Z"
   },
   {
    "duration": 10,
    "start_time": "2022-11-20T18:09:10.884Z"
   },
   {
    "duration": 21,
    "start_time": "2022-11-20T18:09:10.896Z"
   },
   {
    "duration": 52,
    "start_time": "2022-11-20T18:09:10.919Z"
   },
   {
    "duration": 18,
    "start_time": "2022-11-20T18:09:10.973Z"
   },
   {
    "duration": 27,
    "start_time": "2022-11-20T18:09:10.993Z"
   },
   {
    "duration": 236,
    "start_time": "2022-11-20T18:09:11.022Z"
   },
   {
    "duration": 161,
    "start_time": "2022-11-20T18:09:11.260Z"
   },
   {
    "duration": 32,
    "start_time": "2022-11-20T18:09:11.423Z"
   },
   {
    "duration": 456,
    "start_time": "2022-11-20T18:09:11.459Z"
   },
   {
    "duration": 307,
    "start_time": "2022-11-20T18:09:11.919Z"
   },
   {
    "duration": 27,
    "start_time": "2022-11-20T18:09:12.228Z"
   },
   {
    "duration": 399,
    "start_time": "2022-11-20T18:09:12.257Z"
   },
   {
    "duration": 7,
    "start_time": "2022-11-20T18:09:12.658Z"
   },
   {
    "duration": 270,
    "start_time": "2022-11-20T18:09:12.670Z"
   },
   {
    "duration": 16,
    "start_time": "2022-11-20T18:09:12.947Z"
   },
   {
    "duration": 323,
    "start_time": "2022-11-20T18:09:12.966Z"
   },
   {
    "duration": 14,
    "start_time": "2022-11-20T18:09:13.291Z"
   },
   {
    "duration": 158,
    "start_time": "2022-11-20T18:09:13.314Z"
   },
   {
    "duration": 202,
    "start_time": "2022-11-20T18:09:13.475Z"
   },
   {
    "duration": 9,
    "start_time": "2022-11-20T18:09:13.679Z"
   },
   {
    "duration": 212,
    "start_time": "2022-11-20T18:09:13.690Z"
   },
   {
    "duration": 319,
    "start_time": "2022-11-20T18:09:13.904Z"
   },
   {
    "duration": 8,
    "start_time": "2022-11-20T18:09:14.224Z"
   },
   {
    "duration": 65,
    "start_time": "2022-11-20T18:09:14.234Z"
   },
   {
    "duration": 75,
    "start_time": "2022-11-20T18:09:14.301Z"
   },
   {
    "duration": 13,
    "start_time": "2022-11-20T18:09:14.379Z"
   },
   {
    "duration": 89,
    "start_time": "2022-11-20T18:09:14.395Z"
   },
   {
    "duration": 45,
    "start_time": "2022-11-20T18:09:14.487Z"
   },
   {
    "duration": 81,
    "start_time": "2022-11-20T18:09:14.534Z"
   },
   {
    "duration": 30,
    "start_time": "2022-11-20T18:09:14.617Z"
   },
   {
    "duration": 99,
    "start_time": "2022-11-20T18:09:14.649Z"
   },
   {
    "duration": 36,
    "start_time": "2022-11-20T18:09:14.750Z"
   },
   {
    "duration": 531,
    "start_time": "2022-11-20T18:09:14.789Z"
   },
   {
    "duration": 19,
    "start_time": "2022-11-20T18:09:15.330Z"
   },
   {
    "duration": 24,
    "start_time": "2022-11-20T18:09:15.351Z"
   },
   {
    "duration": 20,
    "start_time": "2022-11-20T18:09:15.377Z"
   },
   {
    "duration": 21,
    "start_time": "2022-11-20T18:09:15.399Z"
   },
   {
    "duration": 60,
    "start_time": "2022-11-20T18:09:15.422Z"
   },
   {
    "duration": 47,
    "start_time": "2022-11-20T18:09:15.484Z"
   },
   {
    "duration": 1242,
    "start_time": "2022-11-20T18:09:38.133Z"
   },
   {
    "duration": 103,
    "start_time": "2022-11-20T18:09:39.378Z"
   },
   {
    "duration": 15,
    "start_time": "2022-11-20T18:09:39.483Z"
   },
   {
    "duration": 15,
    "start_time": "2022-11-20T18:09:39.500Z"
   },
   {
    "duration": 19,
    "start_time": "2022-11-20T18:09:39.517Z"
   },
   {
    "duration": 15,
    "start_time": "2022-11-20T18:09:39.538Z"
   },
   {
    "duration": 16,
    "start_time": "2022-11-20T18:09:39.555Z"
   },
   {
    "duration": 17,
    "start_time": "2022-11-20T18:09:39.573Z"
   },
   {
    "duration": 42,
    "start_time": "2022-11-20T18:09:39.592Z"
   },
   {
    "duration": 19,
    "start_time": "2022-11-20T18:09:39.635Z"
   },
   {
    "duration": 14,
    "start_time": "2022-11-20T18:09:39.656Z"
   },
   {
    "duration": 9,
    "start_time": "2022-11-20T18:09:39.672Z"
   },
   {
    "duration": 11,
    "start_time": "2022-11-20T18:09:39.682Z"
   },
   {
    "duration": 7,
    "start_time": "2022-11-20T18:09:39.696Z"
   },
   {
    "duration": 10,
    "start_time": "2022-11-20T18:09:39.705Z"
   },
   {
    "duration": 12,
    "start_time": "2022-11-20T18:09:39.716Z"
   },
   {
    "duration": 21,
    "start_time": "2022-11-20T18:09:39.729Z"
   },
   {
    "duration": 19,
    "start_time": "2022-11-20T18:09:39.752Z"
   },
   {
    "duration": 16,
    "start_time": "2022-11-20T18:09:39.773Z"
   },
   {
    "duration": 192,
    "start_time": "2022-11-20T18:09:39.790Z"
   },
   {
    "duration": 146,
    "start_time": "2022-11-20T18:09:39.984Z"
   },
   {
    "duration": 19,
    "start_time": "2022-11-20T18:09:40.137Z"
   },
   {
    "duration": 339,
    "start_time": "2022-11-20T18:09:40.158Z"
   },
   {
    "duration": 235,
    "start_time": "2022-11-20T18:09:40.499Z"
   },
   {
    "duration": 12,
    "start_time": "2022-11-20T18:09:40.740Z"
   },
   {
    "duration": 304,
    "start_time": "2022-11-20T18:09:40.753Z"
   },
   {
    "duration": 6,
    "start_time": "2022-11-20T18:09:41.060Z"
   },
   {
    "duration": 234,
    "start_time": "2022-11-20T18:09:41.068Z"
   },
   {
    "duration": 25,
    "start_time": "2022-11-20T18:09:41.304Z"
   },
   {
    "duration": 343,
    "start_time": "2022-11-20T18:09:41.331Z"
   },
   {
    "duration": 12,
    "start_time": "2022-11-20T18:09:41.676Z"
   },
   {
    "duration": 164,
    "start_time": "2022-11-20T18:09:41.690Z"
   },
   {
    "duration": 139,
    "start_time": "2022-11-20T18:09:41.856Z"
   },
   {
    "duration": 25,
    "start_time": "2022-11-20T18:09:41.996Z"
   },
   {
    "duration": 131,
    "start_time": "2022-11-20T18:09:42.025Z"
   },
   {
    "duration": 320,
    "start_time": "2022-11-20T18:09:42.158Z"
   },
   {
    "duration": 8,
    "start_time": "2022-11-20T18:09:42.487Z"
   },
   {
    "duration": 24,
    "start_time": "2022-11-20T18:09:42.497Z"
   },
   {
    "duration": 111,
    "start_time": "2022-11-20T18:09:42.523Z"
   },
   {
    "duration": 24,
    "start_time": "2022-11-20T18:09:42.636Z"
   },
   {
    "duration": 83,
    "start_time": "2022-11-20T18:09:42.667Z"
   },
   {
    "duration": 36,
    "start_time": "2022-11-20T18:09:42.752Z"
   },
   {
    "duration": 83,
    "start_time": "2022-11-20T18:09:42.791Z"
   },
   {
    "duration": 40,
    "start_time": "2022-11-20T18:09:42.876Z"
   },
   {
    "duration": 70,
    "start_time": "2022-11-20T18:09:42.918Z"
   },
   {
    "duration": 66,
    "start_time": "2022-11-20T18:09:42.992Z"
   },
   {
    "duration": 467,
    "start_time": "2022-11-20T18:09:43.062Z"
   },
   {
    "duration": 12,
    "start_time": "2022-11-20T18:09:43.531Z"
   },
   {
    "duration": 13,
    "start_time": "2022-11-20T18:09:43.545Z"
   },
   {
    "duration": 13,
    "start_time": "2022-11-20T18:09:43.561Z"
   },
   {
    "duration": 15,
    "start_time": "2022-11-20T18:09:43.576Z"
   },
   {
    "duration": 10,
    "start_time": "2022-11-20T18:09:43.613Z"
   },
   {
    "duration": 57,
    "start_time": "2022-11-20T18:09:43.627Z"
   },
   {
    "duration": 20,
    "start_time": "2022-11-20T18:09:43.686Z"
   },
   {
    "duration": 1147,
    "start_time": "2022-11-20T18:28:17.254Z"
   },
   {
    "duration": 88,
    "start_time": "2022-11-20T18:28:18.404Z"
   },
   {
    "duration": 14,
    "start_time": "2022-11-20T18:28:18.494Z"
   },
   {
    "duration": 32,
    "start_time": "2022-11-20T18:28:18.510Z"
   },
   {
    "duration": 3,
    "start_time": "2022-11-20T18:28:18.546Z"
   },
   {
    "duration": 19,
    "start_time": "2022-11-20T18:28:18.551Z"
   },
   {
    "duration": 19,
    "start_time": "2022-11-20T18:28:18.572Z"
   },
   {
    "duration": 25,
    "start_time": "2022-11-20T18:28:18.593Z"
   },
   {
    "duration": 17,
    "start_time": "2022-11-20T18:28:18.625Z"
   },
   {
    "duration": 12,
    "start_time": "2022-11-20T18:28:18.644Z"
   },
   {
    "duration": 15,
    "start_time": "2022-11-20T18:28:18.657Z"
   },
   {
    "duration": 8,
    "start_time": "2022-11-20T18:28:18.673Z"
   },
   {
    "duration": 12,
    "start_time": "2022-11-20T18:28:18.684Z"
   },
   {
    "duration": 18,
    "start_time": "2022-11-20T18:28:18.716Z"
   },
   {
    "duration": 12,
    "start_time": "2022-11-20T18:28:18.736Z"
   },
   {
    "duration": 20,
    "start_time": "2022-11-20T18:28:18.750Z"
   },
   {
    "duration": 8,
    "start_time": "2022-11-20T18:28:18.772Z"
   },
   {
    "duration": 36,
    "start_time": "2022-11-20T18:28:18.782Z"
   },
   {
    "duration": 28,
    "start_time": "2022-11-20T18:28:18.819Z"
   },
   {
    "duration": 189,
    "start_time": "2022-11-20T18:28:18.848Z"
   },
   {
    "duration": 194,
    "start_time": "2022-11-20T18:28:19.040Z"
   },
   {
    "duration": 23,
    "start_time": "2022-11-20T18:28:19.237Z"
   },
   {
    "duration": 343,
    "start_time": "2022-11-20T18:28:19.262Z"
   },
   {
    "duration": 227,
    "start_time": "2022-11-20T18:28:19.607Z"
   },
   {
    "duration": 15,
    "start_time": "2022-11-20T18:28:19.836Z"
   },
   {
    "duration": 357,
    "start_time": "2022-11-20T18:28:19.852Z"
   },
   {
    "duration": 13,
    "start_time": "2022-11-20T18:28:20.215Z"
   },
   {
    "duration": 257,
    "start_time": "2022-11-20T18:28:20.243Z"
   },
   {
    "duration": 29,
    "start_time": "2022-11-20T18:28:20.502Z"
   },
   {
    "duration": 333,
    "start_time": "2022-11-20T18:28:20.533Z"
   },
   {
    "duration": 12,
    "start_time": "2022-11-20T18:28:20.868Z"
   },
   {
    "duration": 153,
    "start_time": "2022-11-20T18:28:20.881Z"
   },
   {
    "duration": 157,
    "start_time": "2022-11-20T18:28:21.035Z"
   },
   {
    "duration": 30,
    "start_time": "2022-11-20T18:28:21.194Z"
   },
   {
    "duration": 132,
    "start_time": "2022-11-20T18:28:21.229Z"
   },
   {
    "duration": 225,
    "start_time": "2022-11-20T18:28:21.363Z"
   },
   {
    "duration": 5,
    "start_time": "2022-11-20T18:28:21.590Z"
   },
   {
    "duration": 22,
    "start_time": "2022-11-20T18:28:21.597Z"
   },
   {
    "duration": 65,
    "start_time": "2022-11-20T18:28:21.622Z"
   },
   {
    "duration": 28,
    "start_time": "2022-11-20T18:28:21.689Z"
   },
   {
    "duration": 53,
    "start_time": "2022-11-20T18:28:21.735Z"
   },
   {
    "duration": 41,
    "start_time": "2022-11-20T18:28:21.791Z"
   },
   {
    "duration": 68,
    "start_time": "2022-11-20T18:28:21.833Z"
   },
   {
    "duration": 44,
    "start_time": "2022-11-20T18:28:21.911Z"
   },
   {
    "duration": 73,
    "start_time": "2022-11-20T18:28:21.957Z"
   },
   {
    "duration": 31,
    "start_time": "2022-11-20T18:28:22.032Z"
   },
   {
    "duration": 326,
    "start_time": "2022-11-20T18:28:22.065Z"
   },
   {
    "duration": 9,
    "start_time": "2022-11-20T18:28:22.393Z"
   },
   {
    "duration": 38,
    "start_time": "2022-11-20T18:28:22.412Z"
   },
   {
    "duration": 17,
    "start_time": "2022-11-20T18:28:22.452Z"
   },
   {
    "duration": 25,
    "start_time": "2022-11-20T18:28:22.471Z"
   },
   {
    "duration": 27,
    "start_time": "2022-11-20T18:28:22.498Z"
   },
   {
    "duration": 22,
    "start_time": "2022-11-20T18:28:22.530Z"
   },
   {
    "duration": 13,
    "start_time": "2022-11-20T18:28:22.553Z"
   },
   {
    "duration": 40,
    "start_time": "2022-11-20T18:28:22.567Z"
   },
   {
    "duration": 23,
    "start_time": "2022-11-20T18:28:22.608Z"
   },
   {
    "duration": 1189,
    "start_time": "2022-11-20T18:41:48.557Z"
   },
   {
    "duration": 88,
    "start_time": "2022-11-20T18:41:49.748Z"
   },
   {
    "duration": 14,
    "start_time": "2022-11-20T18:41:49.837Z"
   },
   {
    "duration": 14,
    "start_time": "2022-11-20T18:41:49.853Z"
   },
   {
    "duration": 4,
    "start_time": "2022-11-20T18:41:49.869Z"
   },
   {
    "duration": 15,
    "start_time": "2022-11-20T18:41:49.875Z"
   },
   {
    "duration": 23,
    "start_time": "2022-11-20T18:41:49.892Z"
   },
   {
    "duration": 16,
    "start_time": "2022-11-20T18:41:49.917Z"
   },
   {
    "duration": 15,
    "start_time": "2022-11-20T18:41:49.935Z"
   },
   {
    "duration": 11,
    "start_time": "2022-11-20T18:41:49.953Z"
   },
   {
    "duration": 11,
    "start_time": "2022-11-20T18:41:49.966Z"
   },
   {
    "duration": 46,
    "start_time": "2022-11-20T18:41:49.978Z"
   },
   {
    "duration": 13,
    "start_time": "2022-11-20T18:41:50.029Z"
   },
   {
    "duration": 10,
    "start_time": "2022-11-20T18:41:50.044Z"
   },
   {
    "duration": 16,
    "start_time": "2022-11-20T18:41:50.056Z"
   },
   {
    "duration": 13,
    "start_time": "2022-11-20T18:41:50.074Z"
   },
   {
    "duration": 6,
    "start_time": "2022-11-20T18:41:50.089Z"
   },
   {
    "duration": 25,
    "start_time": "2022-11-20T18:41:50.097Z"
   },
   {
    "duration": 25,
    "start_time": "2022-11-20T18:41:50.123Z"
   },
   {
    "duration": 221,
    "start_time": "2022-11-20T18:41:50.150Z"
   },
   {
    "duration": 160,
    "start_time": "2022-11-20T18:41:50.373Z"
   },
   {
    "duration": 17,
    "start_time": "2022-11-20T18:41:50.535Z"
   },
   {
    "duration": 343,
    "start_time": "2022-11-20T18:41:50.555Z"
   },
   {
    "duration": 239,
    "start_time": "2022-11-20T18:41:50.900Z"
   },
   {
    "duration": 13,
    "start_time": "2022-11-20T18:41:51.141Z"
   },
   {
    "duration": 308,
    "start_time": "2022-11-20T18:41:51.156Z"
   },
   {
    "duration": 6,
    "start_time": "2022-11-20T18:41:51.466Z"
   },
   {
    "duration": 267,
    "start_time": "2022-11-20T18:41:51.477Z"
   },
   {
    "duration": 17,
    "start_time": "2022-11-20T18:41:51.746Z"
   },
   {
    "duration": 410,
    "start_time": "2022-11-20T18:41:51.765Z"
   },
   {
    "duration": 13,
    "start_time": "2022-11-20T18:41:52.177Z"
   },
   {
    "duration": 156,
    "start_time": "2022-11-20T18:41:52.192Z"
   },
   {
    "duration": 147,
    "start_time": "2022-11-20T18:41:52.350Z"
   },
   {
    "duration": 15,
    "start_time": "2022-11-20T18:41:52.499Z"
   },
   {
    "duration": 151,
    "start_time": "2022-11-20T18:41:52.518Z"
   },
   {
    "duration": 257,
    "start_time": "2022-11-20T18:41:52.673Z"
   },
   {
    "duration": 5,
    "start_time": "2022-11-20T18:41:52.932Z"
   },
   {
    "duration": 11,
    "start_time": "2022-11-20T18:41:52.939Z"
   },
   {
    "duration": 57,
    "start_time": "2022-11-20T18:41:52.952Z"
   },
   {
    "duration": 15,
    "start_time": "2022-11-20T18:41:53.014Z"
   },
   {
    "duration": 60,
    "start_time": "2022-11-20T18:41:53.031Z"
   },
   {
    "duration": 33,
    "start_time": "2022-11-20T18:41:53.094Z"
   },
   {
    "duration": 63,
    "start_time": "2022-11-20T18:41:53.131Z"
   },
   {
    "duration": 37,
    "start_time": "2022-11-20T18:41:53.196Z"
   },
   {
    "duration": 63,
    "start_time": "2022-11-20T18:41:53.236Z"
   },
   {
    "duration": 38,
    "start_time": "2022-11-20T18:41:53.301Z"
   },
   {
    "duration": 195,
    "start_time": "2022-11-20T18:41:53.341Z"
   },
   {
    "duration": 8,
    "start_time": "2022-11-20T18:41:53.538Z"
   },
   {
    "duration": 12,
    "start_time": "2022-11-20T18:41:53.548Z"
   },
   {
    "duration": 6,
    "start_time": "2022-11-20T18:41:53.562Z"
   },
   {
    "duration": 5,
    "start_time": "2022-11-20T18:41:53.570Z"
   },
   {
    "duration": 46,
    "start_time": "2022-11-20T18:41:53.576Z"
   },
   {
    "duration": 12,
    "start_time": "2022-11-20T18:41:53.625Z"
   },
   {
    "duration": 7,
    "start_time": "2022-11-20T18:41:53.639Z"
   },
   {
    "duration": 27,
    "start_time": "2022-11-20T18:41:53.647Z"
   },
   {
    "duration": 38,
    "start_time": "2022-11-20T18:41:53.677Z"
   },
   {
    "duration": 1120,
    "start_time": "2022-11-20T18:59:03.657Z"
   },
   {
    "duration": 79,
    "start_time": "2022-11-20T18:59:04.779Z"
   },
   {
    "duration": 14,
    "start_time": "2022-11-20T18:59:04.860Z"
   },
   {
    "duration": 19,
    "start_time": "2022-11-20T18:59:04.877Z"
   },
   {
    "duration": 4,
    "start_time": "2022-11-20T18:59:04.898Z"
   },
   {
    "duration": 28,
    "start_time": "2022-11-20T18:59:04.904Z"
   },
   {
    "duration": 30,
    "start_time": "2022-11-20T18:59:04.934Z"
   },
   {
    "duration": 14,
    "start_time": "2022-11-20T18:59:04.966Z"
   },
   {
    "duration": 13,
    "start_time": "2022-11-20T18:59:04.982Z"
   },
   {
    "duration": 11,
    "start_time": "2022-11-20T18:59:04.998Z"
   },
   {
    "duration": 28,
    "start_time": "2022-11-20T18:59:05.015Z"
   },
   {
    "duration": 7,
    "start_time": "2022-11-20T18:59:05.045Z"
   },
   {
    "duration": 7,
    "start_time": "2022-11-20T18:59:05.053Z"
   },
   {
    "duration": 11,
    "start_time": "2022-11-20T18:59:05.062Z"
   },
   {
    "duration": 7,
    "start_time": "2022-11-20T18:59:05.075Z"
   },
   {
    "duration": 13,
    "start_time": "2022-11-20T18:59:05.083Z"
   },
   {
    "duration": 25,
    "start_time": "2022-11-20T18:59:05.098Z"
   },
   {
    "duration": 24,
    "start_time": "2022-11-20T18:59:05.129Z"
   },
   {
    "duration": 17,
    "start_time": "2022-11-20T18:59:05.155Z"
   },
   {
    "duration": 201,
    "start_time": "2022-11-20T18:59:05.174Z"
   },
   {
    "duration": 164,
    "start_time": "2022-11-20T18:59:05.376Z"
   },
   {
    "duration": 20,
    "start_time": "2022-11-20T18:59:05.541Z"
   },
   {
    "duration": 317,
    "start_time": "2022-11-20T18:59:05.564Z"
   },
   {
    "duration": 213,
    "start_time": "2022-11-20T18:59:05.883Z"
   },
   {
    "duration": 26,
    "start_time": "2022-11-20T18:59:06.098Z"
   },
   {
    "duration": 354,
    "start_time": "2022-11-20T18:59:06.125Z"
   },
   {
    "duration": 6,
    "start_time": "2022-11-20T18:59:06.481Z"
   },
   {
    "duration": 292,
    "start_time": "2022-11-20T18:59:06.492Z"
   },
   {
    "duration": 16,
    "start_time": "2022-11-20T18:59:06.786Z"
   },
   {
    "duration": 348,
    "start_time": "2022-11-20T18:59:06.814Z"
   },
   {
    "duration": 14,
    "start_time": "2022-11-20T18:59:07.163Z"
   },
   {
    "duration": 166,
    "start_time": "2022-11-20T18:59:07.179Z"
   },
   {
    "duration": 181,
    "start_time": "2022-11-20T18:59:07.347Z"
   },
   {
    "duration": 10,
    "start_time": "2022-11-20T18:59:07.530Z"
   },
   {
    "duration": 132,
    "start_time": "2022-11-20T18:59:07.542Z"
   },
   {
    "duration": 244,
    "start_time": "2022-11-20T18:59:07.676Z"
   },
   {
    "duration": 9,
    "start_time": "2022-11-20T18:59:07.921Z"
   },
   {
    "duration": 19,
    "start_time": "2022-11-20T18:59:07.932Z"
   },
   {
    "duration": 84,
    "start_time": "2022-11-20T18:59:07.953Z"
   },
   {
    "duration": 24,
    "start_time": "2022-11-20T18:59:08.039Z"
   },
   {
    "duration": 62,
    "start_time": "2022-11-20T18:59:08.065Z"
   },
   {
    "duration": 20,
    "start_time": "2022-11-20T18:59:08.129Z"
   },
   {
    "duration": 95,
    "start_time": "2022-11-20T18:59:08.151Z"
   },
   {
    "duration": 45,
    "start_time": "2022-11-20T18:59:08.248Z"
   },
   {
    "duration": 65,
    "start_time": "2022-11-20T18:59:08.294Z"
   },
   {
    "duration": 43,
    "start_time": "2022-11-20T18:59:08.362Z"
   },
   {
    "duration": 230,
    "start_time": "2022-11-20T18:59:08.411Z"
   },
   {
    "duration": 10,
    "start_time": "2022-11-20T18:59:08.643Z"
   },
   {
    "duration": 11,
    "start_time": "2022-11-20T18:59:08.655Z"
   },
   {
    "duration": 10,
    "start_time": "2022-11-20T18:59:08.667Z"
   },
   {
    "duration": 9,
    "start_time": "2022-11-20T18:59:08.679Z"
   },
   {
    "duration": 39,
    "start_time": "2022-11-20T18:59:08.690Z"
   },
   {
    "duration": 14,
    "start_time": "2022-11-20T18:59:08.732Z"
   },
   {
    "duration": 5,
    "start_time": "2022-11-20T18:59:08.748Z"
   },
   {
    "duration": 32,
    "start_time": "2022-11-20T18:59:08.756Z"
   },
   {
    "duration": 38,
    "start_time": "2022-11-20T18:59:08.790Z"
   },
   {
    "duration": 1171,
    "start_time": "2022-11-20T19:00:13.513Z"
   },
   {
    "duration": 86,
    "start_time": "2022-11-20T19:00:14.687Z"
   },
   {
    "duration": 14,
    "start_time": "2022-11-20T19:00:14.774Z"
   },
   {
    "duration": 16,
    "start_time": "2022-11-20T19:00:14.791Z"
   },
   {
    "duration": 30,
    "start_time": "2022-11-20T19:00:14.809Z"
   },
   {
    "duration": 33,
    "start_time": "2022-11-20T19:00:14.841Z"
   },
   {
    "duration": 24,
    "start_time": "2022-11-20T19:00:14.877Z"
   },
   {
    "duration": 34,
    "start_time": "2022-11-20T19:00:14.904Z"
   },
   {
    "duration": 20,
    "start_time": "2022-11-20T19:00:14.940Z"
   },
   {
    "duration": 17,
    "start_time": "2022-11-20T19:00:14.963Z"
   },
   {
    "duration": 14,
    "start_time": "2022-11-20T19:00:14.981Z"
   },
   {
    "duration": 40,
    "start_time": "2022-11-20T19:00:14.997Z"
   },
   {
    "duration": 14,
    "start_time": "2022-11-20T19:00:15.038Z"
   },
   {
    "duration": 10,
    "start_time": "2022-11-20T19:00:15.054Z"
   },
   {
    "duration": 17,
    "start_time": "2022-11-20T19:00:15.065Z"
   },
   {
    "duration": 25,
    "start_time": "2022-11-20T19:00:15.084Z"
   },
   {
    "duration": 28,
    "start_time": "2022-11-20T19:00:15.111Z"
   },
   {
    "duration": 17,
    "start_time": "2022-11-20T19:00:15.141Z"
   },
   {
    "duration": 22,
    "start_time": "2022-11-20T19:00:15.160Z"
   },
   {
    "duration": 204,
    "start_time": "2022-11-20T19:00:15.184Z"
   },
   {
    "duration": 150,
    "start_time": "2022-11-20T19:00:15.390Z"
   },
   {
    "duration": 19,
    "start_time": "2022-11-20T19:00:15.542Z"
   },
   {
    "duration": 344,
    "start_time": "2022-11-20T19:00:15.563Z"
   },
   {
    "duration": 223,
    "start_time": "2022-11-20T19:00:15.911Z"
   },
   {
    "duration": 12,
    "start_time": "2022-11-20T19:00:16.135Z"
   },
   {
    "duration": 315,
    "start_time": "2022-11-20T19:00:16.149Z"
   },
   {
    "duration": 7,
    "start_time": "2022-11-20T19:00:16.467Z"
   },
   {
    "duration": 296,
    "start_time": "2022-11-20T19:00:16.480Z"
   },
   {
    "duration": 19,
    "start_time": "2022-11-20T19:00:16.778Z"
   },
   {
    "duration": 352,
    "start_time": "2022-11-20T19:00:16.800Z"
   },
   {
    "duration": 12,
    "start_time": "2022-11-20T19:00:17.153Z"
   },
   {
    "duration": 169,
    "start_time": "2022-11-20T19:00:17.167Z"
   },
   {
    "duration": 152,
    "start_time": "2022-11-20T19:00:17.338Z"
   },
   {
    "duration": 9,
    "start_time": "2022-11-20T19:00:17.492Z"
   },
   {
    "duration": 177,
    "start_time": "2022-11-20T19:00:17.515Z"
   },
   {
    "duration": 247,
    "start_time": "2022-11-20T19:00:17.694Z"
   },
   {
    "duration": 4,
    "start_time": "2022-11-20T19:00:17.943Z"
   },
   {
    "duration": 11,
    "start_time": "2022-11-20T19:00:17.949Z"
   },
   {
    "duration": 87,
    "start_time": "2022-11-20T19:00:17.963Z"
   },
   {
    "duration": 16,
    "start_time": "2022-11-20T19:00:18.052Z"
   },
   {
    "duration": 69,
    "start_time": "2022-11-20T19:00:18.069Z"
   },
   {
    "duration": 19,
    "start_time": "2022-11-20T19:00:18.140Z"
   },
   {
    "duration": 86,
    "start_time": "2022-11-20T19:00:18.161Z"
   },
   {
    "duration": 21,
    "start_time": "2022-11-20T19:00:18.249Z"
   },
   {
    "duration": 85,
    "start_time": "2022-11-20T19:00:18.272Z"
   },
   {
    "duration": 29,
    "start_time": "2022-11-20T19:00:18.359Z"
   },
   {
    "duration": 212,
    "start_time": "2022-11-20T19:00:18.390Z"
   },
   {
    "duration": 18,
    "start_time": "2022-11-20T19:00:18.612Z"
   },
   {
    "duration": 19,
    "start_time": "2022-11-20T19:00:18.631Z"
   },
   {
    "duration": 8,
    "start_time": "2022-11-20T19:00:18.652Z"
   },
   {
    "duration": 10,
    "start_time": "2022-11-20T19:00:18.662Z"
   },
   {
    "duration": 15,
    "start_time": "2022-11-20T19:00:18.674Z"
   },
   {
    "duration": 39,
    "start_time": "2022-11-20T19:00:18.691Z"
   },
   {
    "duration": 10,
    "start_time": "2022-11-20T19:00:18.732Z"
   },
   {
    "duration": 28,
    "start_time": "2022-11-20T19:00:18.743Z"
   },
   {
    "duration": 16,
    "start_time": "2022-11-20T19:00:18.773Z"
   },
   {
    "duration": 1138,
    "start_time": "2022-11-20T19:11:58.331Z"
   },
   {
    "duration": 79,
    "start_time": "2022-11-20T19:11:59.471Z"
   },
   {
    "duration": 14,
    "start_time": "2022-11-20T19:11:59.552Z"
   },
   {
    "duration": 15,
    "start_time": "2022-11-20T19:11:59.568Z"
   },
   {
    "duration": 6,
    "start_time": "2022-11-20T19:11:59.584Z"
   },
   {
    "duration": 20,
    "start_time": "2022-11-20T19:11:59.592Z"
   },
   {
    "duration": 18,
    "start_time": "2022-11-20T19:11:59.614Z"
   },
   {
    "duration": 16,
    "start_time": "2022-11-20T19:11:59.634Z"
   },
   {
    "duration": 11,
    "start_time": "2022-11-20T19:11:59.651Z"
   },
   {
    "duration": 10,
    "start_time": "2022-11-20T19:11:59.665Z"
   },
   {
    "duration": 10,
    "start_time": "2022-11-20T19:11:59.677Z"
   },
   {
    "duration": 39,
    "start_time": "2022-11-20T19:11:59.689Z"
   },
   {
    "duration": 7,
    "start_time": "2022-11-20T19:11:59.730Z"
   },
   {
    "duration": 8,
    "start_time": "2022-11-20T19:11:59.738Z"
   },
   {
    "duration": 7,
    "start_time": "2022-11-20T19:11:59.747Z"
   },
   {
    "duration": 14,
    "start_time": "2022-11-20T19:11:59.756Z"
   },
   {
    "duration": 7,
    "start_time": "2022-11-20T19:11:59.772Z"
   },
   {
    "duration": 48,
    "start_time": "2022-11-20T19:11:59.781Z"
   },
   {
    "duration": 12,
    "start_time": "2022-11-20T19:11:59.831Z"
   },
   {
    "duration": 187,
    "start_time": "2022-11-20T19:11:59.845Z"
   },
   {
    "duration": 151,
    "start_time": "2022-11-20T19:12:00.034Z"
   },
   {
    "duration": 37,
    "start_time": "2022-11-20T19:12:00.187Z"
   },
   {
    "duration": 324,
    "start_time": "2022-11-20T19:12:00.227Z"
   },
   {
    "duration": 222,
    "start_time": "2022-11-20T19:12:00.553Z"
   },
   {
    "duration": 13,
    "start_time": "2022-11-20T19:12:00.778Z"
   },
   {
    "duration": 353,
    "start_time": "2022-11-20T19:12:00.792Z"
   },
   {
    "duration": 6,
    "start_time": "2022-11-20T19:12:01.147Z"
   },
   {
    "duration": 241,
    "start_time": "2022-11-20T19:12:01.157Z"
   },
   {
    "duration": 27,
    "start_time": "2022-11-20T19:12:01.400Z"
   },
   {
    "duration": 521,
    "start_time": "2022-11-20T19:12:01.429Z"
   },
   {
    "duration": 79,
    "start_time": "2022-11-20T19:12:01.952Z"
   },
   {
    "duration": 298,
    "start_time": "2022-11-20T19:12:02.032Z"
   },
   {
    "duration": 305,
    "start_time": "2022-11-20T19:12:02.333Z"
   },
   {
    "duration": 7,
    "start_time": "2022-11-20T19:12:02.640Z"
   },
   {
    "duration": 304,
    "start_time": "2022-11-20T19:12:02.648Z"
   },
   {
    "duration": 560,
    "start_time": "2022-11-20T19:12:02.954Z"
   },
   {
    "duration": 6,
    "start_time": "2022-11-20T19:12:03.519Z"
   },
   {
    "duration": 21,
    "start_time": "2022-11-20T19:12:03.527Z"
   },
   {
    "duration": 100,
    "start_time": "2022-11-20T19:12:03.550Z"
   },
   {
    "duration": 10,
    "start_time": "2022-11-20T19:12:03.651Z"
   },
   {
    "duration": 56,
    "start_time": "2022-11-20T19:12:03.713Z"
   },
   {
    "duration": 19,
    "start_time": "2022-11-20T19:12:03.771Z"
   },
   {
    "duration": 64,
    "start_time": "2022-11-20T19:12:03.814Z"
   },
   {
    "duration": 39,
    "start_time": "2022-11-20T19:12:03.880Z"
   },
   {
    "duration": 57,
    "start_time": "2022-11-20T19:12:03.927Z"
   },
   {
    "duration": 41,
    "start_time": "2022-11-20T19:12:03.986Z"
   },
   {
    "duration": 198,
    "start_time": "2022-11-20T19:12:04.030Z"
   },
   {
    "duration": 9,
    "start_time": "2022-11-20T19:12:04.229Z"
   },
   {
    "duration": 10,
    "start_time": "2022-11-20T19:12:04.240Z"
   },
   {
    "duration": 6,
    "start_time": "2022-11-20T19:12:04.252Z"
   },
   {
    "duration": 6,
    "start_time": "2022-11-20T19:12:04.260Z"
   },
   {
    "duration": 11,
    "start_time": "2022-11-20T19:12:04.267Z"
   },
   {
    "duration": 46,
    "start_time": "2022-11-20T19:12:04.280Z"
   },
   {
    "duration": 8,
    "start_time": "2022-11-20T19:12:04.329Z"
   },
   {
    "duration": 28,
    "start_time": "2022-11-20T19:12:04.339Z"
   },
   {
    "duration": 15,
    "start_time": "2022-11-20T19:12:04.369Z"
   },
   {
    "duration": 6,
    "start_time": "2022-11-20T20:14:32.569Z"
   },
   {
    "duration": 1319,
    "start_time": "2022-11-20T20:17:54.978Z"
   },
   {
    "duration": 128,
    "start_time": "2022-11-20T20:17:56.299Z"
   },
   {
    "duration": 26,
    "start_time": "2022-11-20T20:17:56.434Z"
   },
   {
    "duration": 31,
    "start_time": "2022-11-20T20:17:56.462Z"
   },
   {
    "duration": 10,
    "start_time": "2022-11-20T20:17:56.496Z"
   },
   {
    "duration": 75,
    "start_time": "2022-11-20T20:17:56.508Z"
   },
   {
    "duration": 31,
    "start_time": "2022-11-20T20:17:56.590Z"
   },
   {
    "duration": 91,
    "start_time": "2022-11-20T20:17:56.623Z"
   },
   {
    "duration": 48,
    "start_time": "2022-11-20T20:17:56.720Z"
   },
   {
    "duration": 37,
    "start_time": "2022-11-20T20:17:56.771Z"
   },
   {
    "duration": 41,
    "start_time": "2022-11-20T20:17:56.811Z"
   },
   {
    "duration": 21,
    "start_time": "2022-11-20T20:17:56.854Z"
   },
   {
    "duration": 30,
    "start_time": "2022-11-20T20:17:56.877Z"
   },
   {
    "duration": 67,
    "start_time": "2022-11-20T20:17:56.912Z"
   },
   {
    "duration": 16,
    "start_time": "2022-11-20T20:17:56.982Z"
   },
   {
    "duration": 21,
    "start_time": "2022-11-20T20:17:56.999Z"
   },
   {
    "duration": 34,
    "start_time": "2022-11-20T20:17:57.021Z"
   },
   {
    "duration": 20,
    "start_time": "2022-11-20T20:17:57.057Z"
   },
   {
    "duration": 17,
    "start_time": "2022-11-20T20:17:57.079Z"
   },
   {
    "duration": 188,
    "start_time": "2022-11-20T20:17:57.098Z"
   },
   {
    "duration": 165,
    "start_time": "2022-11-20T20:17:57.288Z"
   },
   {
    "duration": 18,
    "start_time": "2022-11-20T20:17:57.456Z"
   },
   {
    "duration": 331,
    "start_time": "2022-11-20T20:17:57.475Z"
   },
   {
    "duration": 261,
    "start_time": "2022-11-20T20:17:57.808Z"
   },
   {
    "duration": 13,
    "start_time": "2022-11-20T20:17:58.071Z"
   },
   {
    "duration": 348,
    "start_time": "2022-11-20T20:17:58.086Z"
   },
   {
    "duration": 8,
    "start_time": "2022-11-20T20:17:58.441Z"
   },
   {
    "duration": 233,
    "start_time": "2022-11-20T20:17:58.451Z"
   },
   {
    "duration": 14,
    "start_time": "2022-11-20T20:17:58.686Z"
   },
   {
    "duration": 357,
    "start_time": "2022-11-20T20:17:58.701Z"
   },
   {
    "duration": 16,
    "start_time": "2022-11-20T20:17:59.060Z"
   },
   {
    "duration": 195,
    "start_time": "2022-11-20T20:17:59.078Z"
   },
   {
    "duration": 169,
    "start_time": "2022-11-20T20:17:59.275Z"
   },
   {
    "duration": 8,
    "start_time": "2022-11-20T20:17:59.446Z"
   },
   {
    "duration": 158,
    "start_time": "2022-11-20T20:17:59.456Z"
   },
   {
    "duration": 243,
    "start_time": "2022-11-20T20:17:59.623Z"
   },
   {
    "duration": 5,
    "start_time": "2022-11-20T20:17:59.867Z"
   },
   {
    "duration": 15,
    "start_time": "2022-11-20T20:17:59.874Z"
   },
   {
    "duration": 86,
    "start_time": "2022-11-20T20:17:59.891Z"
   },
   {
    "duration": 9,
    "start_time": "2022-11-20T20:17:59.978Z"
   },
   {
    "duration": 74,
    "start_time": "2022-11-20T20:17:59.991Z"
   },
   {
    "duration": 19,
    "start_time": "2022-11-20T20:18:00.067Z"
   },
   {
    "duration": 76,
    "start_time": "2022-11-20T20:18:00.088Z"
   },
   {
    "duration": 35,
    "start_time": "2022-11-20T20:18:00.166Z"
   },
   {
    "duration": 80,
    "start_time": "2022-11-20T20:18:00.203Z"
   },
   {
    "duration": 37,
    "start_time": "2022-11-20T20:18:00.285Z"
   },
   {
    "duration": 205,
    "start_time": "2022-11-20T20:18:00.324Z"
   },
   {
    "duration": 11,
    "start_time": "2022-11-20T20:18:00.531Z"
   },
   {
    "duration": 35,
    "start_time": "2022-11-20T20:18:00.544Z"
   },
   {
    "duration": 71,
    "start_time": "2022-11-20T20:18:00.581Z"
   },
   {
    "duration": 20,
    "start_time": "2022-11-20T20:18:00.654Z"
   },
   {
    "duration": 27,
    "start_time": "2022-11-20T20:18:00.676Z"
   },
   {
    "duration": 56,
    "start_time": "2022-11-20T20:18:00.704Z"
   },
   {
    "duration": 19,
    "start_time": "2022-11-20T20:18:00.762Z"
   },
   {
    "duration": 50,
    "start_time": "2022-11-20T20:18:00.783Z"
   },
   {
    "duration": 32,
    "start_time": "2022-11-20T20:18:00.835Z"
   },
   {
    "duration": 1224,
    "start_time": "2022-11-20T20:18:40.544Z"
   },
   {
    "duration": 101,
    "start_time": "2022-11-20T20:18:41.770Z"
   },
   {
    "duration": 17,
    "start_time": "2022-11-20T20:18:41.872Z"
   },
   {
    "duration": 26,
    "start_time": "2022-11-20T20:18:41.891Z"
   },
   {
    "duration": 14,
    "start_time": "2022-11-20T20:18:41.926Z"
   },
   {
    "duration": 24,
    "start_time": "2022-11-20T20:18:41.944Z"
   },
   {
    "duration": 14,
    "start_time": "2022-11-20T20:18:41.969Z"
   },
   {
    "duration": 12,
    "start_time": "2022-11-20T20:18:41.984Z"
   },
   {
    "duration": 10,
    "start_time": "2022-11-20T20:18:41.997Z"
   },
   {
    "duration": 28,
    "start_time": "2022-11-20T20:18:42.015Z"
   },
   {
    "duration": 20,
    "start_time": "2022-11-20T20:18:42.045Z"
   },
   {
    "duration": 8,
    "start_time": "2022-11-20T20:18:42.067Z"
   },
   {
    "duration": 6,
    "start_time": "2022-11-20T20:18:42.077Z"
   },
   {
    "duration": 7,
    "start_time": "2022-11-20T20:18:42.087Z"
   },
   {
    "duration": 6,
    "start_time": "2022-11-20T20:18:42.096Z"
   },
   {
    "duration": 39,
    "start_time": "2022-11-20T20:18:42.104Z"
   },
   {
    "duration": 11,
    "start_time": "2022-11-20T20:18:42.150Z"
   },
   {
    "duration": 36,
    "start_time": "2022-11-20T20:18:42.163Z"
   },
   {
    "duration": 20,
    "start_time": "2022-11-20T20:18:42.201Z"
   },
   {
    "duration": 222,
    "start_time": "2022-11-20T20:18:42.229Z"
   },
   {
    "duration": 146,
    "start_time": "2022-11-20T20:18:42.455Z"
   },
   {
    "duration": 33,
    "start_time": "2022-11-20T20:18:42.603Z"
   },
   {
    "duration": 336,
    "start_time": "2022-11-20T20:18:42.639Z"
   },
   {
    "duration": 212,
    "start_time": "2022-11-20T20:18:42.976Z"
   },
   {
    "duration": 14,
    "start_time": "2022-11-20T20:18:43.189Z"
   },
   {
    "duration": 393,
    "start_time": "2022-11-20T20:18:43.204Z"
   },
   {
    "duration": 26,
    "start_time": "2022-11-20T20:18:43.600Z"
   },
   {
    "duration": 244,
    "start_time": "2022-11-20T20:18:43.633Z"
   },
   {
    "duration": 16,
    "start_time": "2022-11-20T20:18:43.879Z"
   },
   {
    "duration": 373,
    "start_time": "2022-11-20T20:18:43.897Z"
   },
   {
    "duration": 12,
    "start_time": "2022-11-20T20:18:44.272Z"
   },
   {
    "duration": 198,
    "start_time": "2022-11-20T20:18:44.285Z"
   },
   {
    "duration": 184,
    "start_time": "2022-11-20T20:18:44.485Z"
   },
   {
    "duration": 7,
    "start_time": "2022-11-20T20:18:44.671Z"
   },
   {
    "duration": 164,
    "start_time": "2022-11-20T20:18:44.680Z"
   },
   {
    "duration": 242,
    "start_time": "2022-11-20T20:18:44.852Z"
   },
   {
    "duration": 4,
    "start_time": "2022-11-20T20:18:45.096Z"
   },
   {
    "duration": 25,
    "start_time": "2022-11-20T20:18:45.102Z"
   },
   {
    "duration": 86,
    "start_time": "2022-11-20T20:18:45.132Z"
   },
   {
    "duration": 29,
    "start_time": "2022-11-20T20:18:45.224Z"
   },
   {
    "duration": 53,
    "start_time": "2022-11-20T20:18:45.257Z"
   },
   {
    "duration": 47,
    "start_time": "2022-11-20T20:18:45.318Z"
   },
   {
    "duration": 60,
    "start_time": "2022-11-20T20:18:45.367Z"
   },
   {
    "duration": 48,
    "start_time": "2022-11-20T20:18:45.428Z"
   },
   {
    "duration": 78,
    "start_time": "2022-11-20T20:18:45.478Z"
   },
   {
    "duration": 26,
    "start_time": "2022-11-20T20:18:45.558Z"
   },
   {
    "duration": 190,
    "start_time": "2022-11-20T20:18:45.586Z"
   },
   {
    "duration": 13,
    "start_time": "2022-11-20T20:18:45.778Z"
   },
   {
    "duration": 37,
    "start_time": "2022-11-20T20:18:45.793Z"
   },
   {
    "duration": 24,
    "start_time": "2022-11-20T20:18:45.835Z"
   },
   {
    "duration": 28,
    "start_time": "2022-11-20T20:18:45.860Z"
   },
   {
    "duration": 13,
    "start_time": "2022-11-20T20:18:45.890Z"
   },
   {
    "duration": 1116,
    "start_time": "2022-11-20T20:30:25.347Z"
   },
   {
    "duration": 105,
    "start_time": "2022-11-20T20:30:26.465Z"
   },
   {
    "duration": 17,
    "start_time": "2022-11-20T20:30:26.572Z"
   },
   {
    "duration": 35,
    "start_time": "2022-11-20T20:30:26.591Z"
   },
   {
    "duration": 16,
    "start_time": "2022-11-20T20:30:26.629Z"
   },
   {
    "duration": 50,
    "start_time": "2022-11-20T20:30:26.647Z"
   },
   {
    "duration": 25,
    "start_time": "2022-11-20T20:30:26.699Z"
   },
   {
    "duration": 55,
    "start_time": "2022-11-20T20:30:26.731Z"
   },
   {
    "duration": 15,
    "start_time": "2022-11-20T20:30:26.788Z"
   },
   {
    "duration": 27,
    "start_time": "2022-11-20T20:30:26.805Z"
   },
   {
    "duration": 44,
    "start_time": "2022-11-20T20:30:26.835Z"
   },
   {
    "duration": 9,
    "start_time": "2022-11-20T20:30:26.881Z"
   },
   {
    "duration": 7,
    "start_time": "2022-11-20T20:30:26.892Z"
   },
   {
    "duration": 6,
    "start_time": "2022-11-20T20:30:26.903Z"
   },
   {
    "duration": 10,
    "start_time": "2022-11-20T20:30:26.911Z"
   },
   {
    "duration": 43,
    "start_time": "2022-11-20T20:30:26.923Z"
   },
   {
    "duration": 7,
    "start_time": "2022-11-20T20:30:26.968Z"
   },
   {
    "duration": 15,
    "start_time": "2022-11-20T20:30:26.976Z"
   },
   {
    "duration": 31,
    "start_time": "2022-11-20T20:30:26.993Z"
   },
   {
    "duration": 229,
    "start_time": "2022-11-20T20:30:27.028Z"
   },
   {
    "duration": 148,
    "start_time": "2022-11-20T20:30:27.260Z"
   },
   {
    "duration": 23,
    "start_time": "2022-11-20T20:30:27.411Z"
   },
   {
    "duration": 334,
    "start_time": "2022-11-20T20:30:27.436Z"
   },
   {
    "duration": 228,
    "start_time": "2022-11-20T20:30:27.772Z"
   },
   {
    "duration": 20,
    "start_time": "2022-11-20T20:30:28.002Z"
   },
   {
    "duration": 356,
    "start_time": "2022-11-20T20:30:28.024Z"
   },
   {
    "duration": 8,
    "start_time": "2022-11-20T20:30:28.382Z"
   },
   {
    "duration": 256,
    "start_time": "2022-11-20T20:30:28.392Z"
   },
   {
    "duration": 16,
    "start_time": "2022-11-20T20:30:28.649Z"
   },
   {
    "duration": 325,
    "start_time": "2022-11-20T20:30:28.667Z"
   },
   {
    "duration": 41,
    "start_time": "2022-11-20T20:30:28.994Z"
   },
   {
    "duration": 161,
    "start_time": "2022-11-20T20:30:29.043Z"
   },
   {
    "duration": 174,
    "start_time": "2022-11-20T20:30:29.205Z"
   },
   {
    "duration": 6,
    "start_time": "2022-11-20T20:30:29.381Z"
   },
   {
    "duration": 165,
    "start_time": "2022-11-20T20:30:29.389Z"
   },
   {
    "duration": 259,
    "start_time": "2022-11-20T20:30:29.556Z"
   },
   {
    "duration": 7,
    "start_time": "2022-11-20T20:30:29.817Z"
   },
   {
    "duration": 48,
    "start_time": "2022-11-20T20:30:29.829Z"
   },
   {
    "duration": 84,
    "start_time": "2022-11-20T20:30:29.879Z"
   },
   {
    "duration": 12,
    "start_time": "2022-11-20T20:30:29.966Z"
   },
   {
    "duration": 83,
    "start_time": "2022-11-20T20:30:29.983Z"
   },
   {
    "duration": 117,
    "start_time": "2022-11-20T20:30:30.070Z"
   },
   {
    "duration": 128,
    "start_time": "2022-11-20T20:30:30.189Z"
   },
   {
    "duration": 154,
    "start_time": "2022-11-20T20:30:30.321Z"
   },
   {
    "duration": 107,
    "start_time": "2022-11-20T20:30:30.477Z"
   },
   {
    "duration": 51,
    "start_time": "2022-11-20T20:30:30.587Z"
   },
   {
    "duration": 253,
    "start_time": "2022-11-20T20:30:30.649Z"
   },
   {
    "duration": 37,
    "start_time": "2022-11-20T20:30:30.904Z"
   },
   {
    "duration": 36,
    "start_time": "2022-11-20T20:30:30.950Z"
   },
   {
    "duration": 17,
    "start_time": "2022-11-20T20:30:30.988Z"
   },
   {
    "duration": 78,
    "start_time": "2022-11-20T20:30:31.007Z"
   },
   {
    "duration": 19,
    "start_time": "2022-11-20T20:30:31.088Z"
   },
   {
    "duration": 1281,
    "start_time": "2022-11-23T18:55:09.306Z"
   },
   {
    "duration": 199,
    "start_time": "2022-11-23T18:55:10.590Z"
   },
   {
    "duration": 13,
    "start_time": "2022-11-23T18:55:10.791Z"
   },
   {
    "duration": 13,
    "start_time": "2022-11-23T18:55:10.806Z"
   },
   {
    "duration": 3,
    "start_time": "2022-11-23T18:55:10.821Z"
   },
   {
    "duration": 28,
    "start_time": "2022-11-23T18:55:10.825Z"
   },
   {
    "duration": 12,
    "start_time": "2022-11-23T18:55:10.855Z"
   },
   {
    "duration": 13,
    "start_time": "2022-11-23T18:55:10.868Z"
   },
   {
    "duration": 11,
    "start_time": "2022-11-23T18:55:10.883Z"
   },
   {
    "duration": 10,
    "start_time": "2022-11-23T18:55:10.897Z"
   },
   {
    "duration": 20,
    "start_time": "2022-11-23T18:55:10.908Z"
   },
   {
    "duration": 9,
    "start_time": "2022-11-23T18:55:10.930Z"
   },
   {
    "duration": 8,
    "start_time": "2022-11-23T18:55:10.941Z"
   },
   {
    "duration": 10,
    "start_time": "2022-11-23T18:55:10.951Z"
   },
   {
    "duration": 7,
    "start_time": "2022-11-23T18:55:10.963Z"
   },
   {
    "duration": 12,
    "start_time": "2022-11-23T18:55:10.972Z"
   },
   {
    "duration": 6,
    "start_time": "2022-11-23T18:55:10.985Z"
   },
   {
    "duration": 38,
    "start_time": "2022-11-23T18:55:10.993Z"
   },
   {
    "duration": 12,
    "start_time": "2022-11-23T18:55:11.033Z"
   },
   {
    "duration": 180,
    "start_time": "2022-11-23T18:55:11.046Z"
   },
   {
    "duration": 127,
    "start_time": "2022-11-23T18:55:11.228Z"
   },
   {
    "duration": 18,
    "start_time": "2022-11-23T18:55:11.356Z"
   },
   {
    "duration": 352,
    "start_time": "2022-11-23T18:55:11.376Z"
   },
   {
    "duration": 203,
    "start_time": "2022-11-23T18:55:11.730Z"
   },
   {
    "duration": 12,
    "start_time": "2022-11-23T18:55:11.934Z"
   },
   {
    "duration": 370,
    "start_time": "2022-11-23T18:55:11.948Z"
   },
   {
    "duration": 9,
    "start_time": "2022-11-23T18:55:12.320Z"
   },
   {
    "duration": 226,
    "start_time": "2022-11-23T18:55:12.332Z"
   },
   {
    "duration": 13,
    "start_time": "2022-11-23T18:55:12.559Z"
   },
   {
    "duration": 308,
    "start_time": "2022-11-23T18:55:12.573Z"
   },
   {
    "duration": 11,
    "start_time": "2022-11-23T18:55:12.883Z"
   },
   {
    "duration": 138,
    "start_time": "2022-11-23T18:55:12.896Z"
   },
   {
    "duration": 129,
    "start_time": "2022-11-23T18:55:13.036Z"
   },
   {
    "duration": 8,
    "start_time": "2022-11-23T18:55:13.167Z"
   },
   {
    "duration": 141,
    "start_time": "2022-11-23T18:55:13.177Z"
   },
   {
    "duration": 204,
    "start_time": "2022-11-23T18:55:13.325Z"
   },
   {
    "duration": 4,
    "start_time": "2022-11-23T18:55:13.530Z"
   },
   {
    "duration": 13,
    "start_time": "2022-11-23T18:55:13.536Z"
   },
   {
    "duration": 51,
    "start_time": "2022-11-23T18:55:13.550Z"
   },
   {
    "duration": 27,
    "start_time": "2022-11-23T18:55:13.603Z"
   },
   {
    "duration": 48,
    "start_time": "2022-11-23T18:55:13.632Z"
   },
   {
    "duration": 21,
    "start_time": "2022-11-23T18:55:13.682Z"
   },
   {
    "duration": 53,
    "start_time": "2022-11-23T18:55:13.727Z"
   },
   {
    "duration": 21,
    "start_time": "2022-11-23T18:55:13.781Z"
   },
   {
    "duration": 68,
    "start_time": "2022-11-23T18:55:13.803Z"
   },
   {
    "duration": 26,
    "start_time": "2022-11-23T18:55:13.872Z"
   },
   {
    "duration": 170,
    "start_time": "2022-11-23T18:55:13.900Z"
   },
   {
    "duration": 10,
    "start_time": "2022-11-23T18:55:14.072Z"
   },
   {
    "duration": 10,
    "start_time": "2022-11-23T18:55:14.083Z"
   },
   {
    "duration": 9,
    "start_time": "2022-11-23T18:55:14.094Z"
   },
   {
    "duration": 44,
    "start_time": "2022-11-23T18:55:14.104Z"
   },
   {
    "duration": 14,
    "start_time": "2022-11-23T18:55:14.149Z"
   }
  ],
  "kernelspec": {
   "display_name": "Python 3 (ipykernel)",
   "language": "python",
   "name": "python3"
  },
  "language_info": {
   "codemirror_mode": {
    "name": "ipython",
    "version": 3
   },
   "file_extension": ".py",
   "mimetype": "text/x-python",
   "name": "python",
   "nbconvert_exporter": "python",
   "pygments_lexer": "ipython3",
   "version": "3.9.5"
  },
  "toc": {
   "base_numbering": 1,
   "nav_menu": {},
   "number_sections": false,
   "sideBar": true,
   "skip_h1_title": false,
   "title_cell": "Table of Contents",
   "title_sidebar": "Contents",
   "toc_cell": true,
   "toc_position": {
    "height": "calc(100% - 180px)",
    "left": "10px",
    "top": "150px",
    "width": "364.681px"
   },
   "toc_section_display": true,
   "toc_window_display": true
  }
 },
 "nbformat": 4,
 "nbformat_minor": 2
}
