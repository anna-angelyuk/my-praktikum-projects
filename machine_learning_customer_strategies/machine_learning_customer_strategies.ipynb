{
 "cells": [
  {
   "cell_type": "markdown",
   "metadata": {},
   "source": [
    "# Проект по разработке стратегии взаимодействия с клиентами"
   ]
  },
  {
   "cell_type": "markdown",
   "metadata": {},
   "source": [
    "Для фитнес-клубов «Культурист-датасаентист» разрабатывается стратегия взаимодействия с клиентами на основе аналитических данных. Есть база электронных анкет клиентов, по которой нужно понять специфику отрасли, и определить индикаторы оттока клиентов.\n",
    "\n",
    "Задачи:\n",
    "\n",
    "- спрогнозировать вероятность оттока (на уровне следующего месяца) для каждого клиента;\n",
    "- сформировать типичные портреты клиентов: выделить несколько наиболее ярких групп и охарактеризовать их основные свойства;\n",
    "- проанализировать основные признаки, наиболее сильно влияющие на отток;\n",
    "- сформулировать основные выводы и разработать рекомендации по повышению качества работы с клиентами:\n",
    "        1) выделить целевые группы клиентов;\n",
    "        2) предложить меры по снижению оттока;\n",
    "        3) определить другие особенности взаимодействия с клиентами."
   ]
  },
  {
   "cell_type": "markdown",
   "metadata": {},
   "source": [
    "## Вывод данных"
   ]
  },
  {
   "cell_type": "code",
   "execution_count": 1,
   "metadata": {},
   "outputs": [],
   "source": [
    "import pandas as pd\n",
    "import seaborn as sns\n",
    "import matplotlib.pyplot as plt\n",
    "from sklearn.preprocessing import StandardScaler\n",
    "from sklearn.model_selection import train_test_split\n",
    "from sklearn.linear_model import LogisticRegression\n",
    "from sklearn.ensemble import RandomForestClassifier\n",
    "from sklearn.metrics import confusion_matrix, accuracy_score, precision_score, recall_score, silhouette_score\n",
    "from scipy.cluster.hierarchy import dendrogram, linkage\n",
    "from sklearn.cluster import KMeans\n",
    "import warnings\n",
    "warnings.filterwarnings('ignore')"
   ]
  },
  {
   "cell_type": "code",
   "execution_count": 2,
   "metadata": {},
   "outputs": [],
   "source": [
    "data = pd.read_csv('/datasets/gym_churn.csv')"
   ]
  },
  {
   "cell_type": "code",
   "execution_count": 3,
   "metadata": {},
   "outputs": [
    {
     "name": "stdout",
     "output_type": "stream",
     "text": [
      "<class 'pandas.core.frame.DataFrame'>\n",
      "RangeIndex: 4000 entries, 0 to 3999\n",
      "Data columns (total 14 columns):\n",
      " #   Column                             Non-Null Count  Dtype  \n",
      "---  ------                             --------------  -----  \n",
      " 0   gender                             4000 non-null   int64  \n",
      " 1   Near_Location                      4000 non-null   int64  \n",
      " 2   Partner                            4000 non-null   int64  \n",
      " 3   Promo_friends                      4000 non-null   int64  \n",
      " 4   Phone                              4000 non-null   int64  \n",
      " 5   Contract_period                    4000 non-null   int64  \n",
      " 6   Group_visits                       4000 non-null   int64  \n",
      " 7   Age                                4000 non-null   int64  \n",
      " 8   Avg_additional_charges_total       4000 non-null   float64\n",
      " 9   Month_to_end_contract              4000 non-null   float64\n",
      " 10  Lifetime                           4000 non-null   int64  \n",
      " 11  Avg_class_frequency_total          4000 non-null   float64\n",
      " 12  Avg_class_frequency_current_month  4000 non-null   float64\n",
      " 13  Churn                              4000 non-null   int64  \n",
      "dtypes: float64(4), int64(10)\n",
      "memory usage: 437.6 KB\n"
     ]
    }
   ],
   "source": [
    "data.info()"
   ]
  },
  {
   "cell_type": "markdown",
   "metadata": {},
   "source": [
    "Имеем следующие данные:\n",
    " - Данные клиента за предыдущий до проверки факта оттока месяц:\n",
    "        - 'gender' — пол;\n",
    "        - 'Near_Location' — проживание или работа в районе, где находится фитнес-центр;\n",
    "        - 'Partner' — сотрудник компании-партнёра клуба (сотрудничество с компаниями, чьи сотрудники могут получать скидки на абонемент — в таком случае фитнес-центр хранит информацию о работодателе клиента);\n",
    "        - Promo_friends — факт первоначальной записи в рамках акции «приведи друга» (использовал промо-код от знакомого при оплате первого абонемента);\n",
    "        - 'Phone' — наличие контактного телефона;\n",
    "        - 'Age' — возраст;\n",
    "        - 'Lifetime' — время с момента первого обращения в фитнес-центр (в месяцах).\n",
    "        \n",
    "        И в таблице есть информация на основе журнала посещений, покупок и информация о текущем статусе абонемента клиента:\n",
    "        - 'Contract_period' — длительность текущего действующего абонемента (месяц, 6 месяцев, год);\n",
    "        - 'Month_to_end_contract' — срок до окончания текущего действующего абонемента (в месяцах);\n",
    "        - 'Group_visits' — факт посещения групповых занятий;\n",
    "        - 'Avg_class_frequency_total' — средняя частота посещений в неделю за все время с начала действия абонемента;\n",
    "        - 'Avg_class_frequency_current_month' — средняя частота посещений в неделю за предыдущий месяц;\n",
    "        - 'Avg_additional_charges_total' — суммарная выручка от других услуг фитнес-центра: кафе, спорттовары, косметический и массажный салон.\n",
    "        - 'Churn' — факт оттока в текущем месяце.\n",
    "        \n",
    "        Количество данных 4000 строк. Пропусков нет"
   ]
  },
  {
   "cell_type": "code",
   "execution_count": 4,
   "metadata": {
    "scrolled": true
   },
   "outputs": [
    {
     "data": {
      "text/html": [
       "<div>\n",
       "<style scoped>\n",
       "    .dataframe tbody tr th:only-of-type {\n",
       "        vertical-align: middle;\n",
       "    }\n",
       "\n",
       "    .dataframe tbody tr th {\n",
       "        vertical-align: top;\n",
       "    }\n",
       "\n",
       "    .dataframe thead th {\n",
       "        text-align: right;\n",
       "    }\n",
       "</style>\n",
       "<table border=\"1\" class=\"dataframe\">\n",
       "  <thead>\n",
       "    <tr style=\"text-align: right;\">\n",
       "      <th></th>\n",
       "      <th>gender</th>\n",
       "      <th>near_location</th>\n",
       "      <th>partner</th>\n",
       "      <th>promo_friends</th>\n",
       "      <th>phone</th>\n",
       "      <th>contract_period</th>\n",
       "      <th>group_visits</th>\n",
       "      <th>age</th>\n",
       "      <th>avg_additional_charges_total</th>\n",
       "      <th>month_to_end_contract</th>\n",
       "      <th>lifetime</th>\n",
       "      <th>avg_class_frequency_total</th>\n",
       "      <th>avg_class_frequency_current_month</th>\n",
       "      <th>churn</th>\n",
       "    </tr>\n",
       "  </thead>\n",
       "  <tbody>\n",
       "    <tr>\n",
       "      <th>0</th>\n",
       "      <td>1</td>\n",
       "      <td>1</td>\n",
       "      <td>1</td>\n",
       "      <td>1</td>\n",
       "      <td>0</td>\n",
       "      <td>6</td>\n",
       "      <td>1</td>\n",
       "      <td>29</td>\n",
       "      <td>14.227470</td>\n",
       "      <td>5.0</td>\n",
       "      <td>3</td>\n",
       "      <td>0.020398</td>\n",
       "      <td>0.000000</td>\n",
       "      <td>0</td>\n",
       "    </tr>\n",
       "    <tr>\n",
       "      <th>1</th>\n",
       "      <td>0</td>\n",
       "      <td>1</td>\n",
       "      <td>0</td>\n",
       "      <td>0</td>\n",
       "      <td>1</td>\n",
       "      <td>12</td>\n",
       "      <td>1</td>\n",
       "      <td>31</td>\n",
       "      <td>113.202938</td>\n",
       "      <td>12.0</td>\n",
       "      <td>7</td>\n",
       "      <td>1.922936</td>\n",
       "      <td>1.910244</td>\n",
       "      <td>0</td>\n",
       "    </tr>\n",
       "    <tr>\n",
       "      <th>2</th>\n",
       "      <td>0</td>\n",
       "      <td>1</td>\n",
       "      <td>1</td>\n",
       "      <td>0</td>\n",
       "      <td>1</td>\n",
       "      <td>1</td>\n",
       "      <td>0</td>\n",
       "      <td>28</td>\n",
       "      <td>129.448479</td>\n",
       "      <td>1.0</td>\n",
       "      <td>2</td>\n",
       "      <td>1.859098</td>\n",
       "      <td>1.736502</td>\n",
       "      <td>0</td>\n",
       "    </tr>\n",
       "    <tr>\n",
       "      <th>3</th>\n",
       "      <td>0</td>\n",
       "      <td>1</td>\n",
       "      <td>1</td>\n",
       "      <td>1</td>\n",
       "      <td>1</td>\n",
       "      <td>12</td>\n",
       "      <td>1</td>\n",
       "      <td>33</td>\n",
       "      <td>62.669863</td>\n",
       "      <td>12.0</td>\n",
       "      <td>2</td>\n",
       "      <td>3.205633</td>\n",
       "      <td>3.357215</td>\n",
       "      <td>0</td>\n",
       "    </tr>\n",
       "    <tr>\n",
       "      <th>4</th>\n",
       "      <td>1</td>\n",
       "      <td>1</td>\n",
       "      <td>1</td>\n",
       "      <td>1</td>\n",
       "      <td>1</td>\n",
       "      <td>1</td>\n",
       "      <td>0</td>\n",
       "      <td>26</td>\n",
       "      <td>198.362265</td>\n",
       "      <td>1.0</td>\n",
       "      <td>3</td>\n",
       "      <td>1.113884</td>\n",
       "      <td>1.120078</td>\n",
       "      <td>0</td>\n",
       "    </tr>\n",
       "  </tbody>\n",
       "</table>\n",
       "</div>"
      ],
      "text/plain": [
       "   gender  near_location  partner  promo_friends  phone  contract_period  \\\n",
       "0       1              1        1              1      0                6   \n",
       "1       0              1        0              0      1               12   \n",
       "2       0              1        1              0      1                1   \n",
       "3       0              1        1              1      1               12   \n",
       "4       1              1        1              1      1                1   \n",
       "\n",
       "   group_visits  age  avg_additional_charges_total  month_to_end_contract  \\\n",
       "0             1   29                     14.227470                    5.0   \n",
       "1             1   31                    113.202938                   12.0   \n",
       "2             0   28                    129.448479                    1.0   \n",
       "3             1   33                     62.669863                   12.0   \n",
       "4             0   26                    198.362265                    1.0   \n",
       "\n",
       "   lifetime  avg_class_frequency_total  avg_class_frequency_current_month  \\\n",
       "0         3                   0.020398                           0.000000   \n",
       "1         7                   1.922936                           1.910244   \n",
       "2         2                   1.859098                           1.736502   \n",
       "3         2                   3.205633                           3.357215   \n",
       "4         3                   1.113884                           1.120078   \n",
       "\n",
       "   churn  \n",
       "0      0  \n",
       "1      0  \n",
       "2      0  \n",
       "3      0  \n",
       "4      0  "
      ]
     },
     "execution_count": 4,
     "metadata": {},
     "output_type": "execute_result"
    }
   ],
   "source": [
    "data.columns = data.columns.str.lower() # поменяем в названиях колонок регистр на нижний\n",
    "data.head(5)"
   ]
  },
  {
   "cell_type": "code",
   "execution_count": 5,
   "metadata": {},
   "outputs": [
    {
     "data": {
      "text/plain": [
       "0"
      ]
     },
     "execution_count": 5,
     "metadata": {},
     "output_type": "execute_result"
    }
   ],
   "source": [
    "data.duplicated().sum() # дубликатов нет"
   ]
  },
  {
   "cell_type": "markdown",
   "metadata": {},
   "source": [
    "## Исследовательский анализ данных (EDA)"
   ]
  },
  {
   "cell_type": "code",
   "execution_count": 6,
   "metadata": {
    "scrolled": false
   },
   "outputs": [
    {
     "data": {
      "text/html": [
       "<div>\n",
       "<style scoped>\n",
       "    .dataframe tbody tr th:only-of-type {\n",
       "        vertical-align: middle;\n",
       "    }\n",
       "\n",
       "    .dataframe tbody tr th {\n",
       "        vertical-align: top;\n",
       "    }\n",
       "\n",
       "    .dataframe thead th {\n",
       "        text-align: right;\n",
       "    }\n",
       "</style>\n",
       "<table border=\"1\" class=\"dataframe\">\n",
       "  <thead>\n",
       "    <tr style=\"text-align: right;\">\n",
       "      <th></th>\n",
       "      <th>count</th>\n",
       "      <th>mean</th>\n",
       "      <th>std</th>\n",
       "      <th>min</th>\n",
       "      <th>25%</th>\n",
       "      <th>50%</th>\n",
       "      <th>75%</th>\n",
       "      <th>max</th>\n",
       "    </tr>\n",
       "  </thead>\n",
       "  <tbody>\n",
       "    <tr>\n",
       "      <th>gender</th>\n",
       "      <td>4000.0</td>\n",
       "      <td>0.510250</td>\n",
       "      <td>0.499957</td>\n",
       "      <td>0.000000</td>\n",
       "      <td>0.000000</td>\n",
       "      <td>1.000000</td>\n",
       "      <td>1.000000</td>\n",
       "      <td>1.000000</td>\n",
       "    </tr>\n",
       "    <tr>\n",
       "      <th>near_location</th>\n",
       "      <td>4000.0</td>\n",
       "      <td>0.845250</td>\n",
       "      <td>0.361711</td>\n",
       "      <td>0.000000</td>\n",
       "      <td>1.000000</td>\n",
       "      <td>1.000000</td>\n",
       "      <td>1.000000</td>\n",
       "      <td>1.000000</td>\n",
       "    </tr>\n",
       "    <tr>\n",
       "      <th>partner</th>\n",
       "      <td>4000.0</td>\n",
       "      <td>0.486750</td>\n",
       "      <td>0.499887</td>\n",
       "      <td>0.000000</td>\n",
       "      <td>0.000000</td>\n",
       "      <td>0.000000</td>\n",
       "      <td>1.000000</td>\n",
       "      <td>1.000000</td>\n",
       "    </tr>\n",
       "    <tr>\n",
       "      <th>promo_friends</th>\n",
       "      <td>4000.0</td>\n",
       "      <td>0.308500</td>\n",
       "      <td>0.461932</td>\n",
       "      <td>0.000000</td>\n",
       "      <td>0.000000</td>\n",
       "      <td>0.000000</td>\n",
       "      <td>1.000000</td>\n",
       "      <td>1.000000</td>\n",
       "    </tr>\n",
       "    <tr>\n",
       "      <th>phone</th>\n",
       "      <td>4000.0</td>\n",
       "      <td>0.903500</td>\n",
       "      <td>0.295313</td>\n",
       "      <td>0.000000</td>\n",
       "      <td>1.000000</td>\n",
       "      <td>1.000000</td>\n",
       "      <td>1.000000</td>\n",
       "      <td>1.000000</td>\n",
       "    </tr>\n",
       "    <tr>\n",
       "      <th>contract_period</th>\n",
       "      <td>4000.0</td>\n",
       "      <td>4.681250</td>\n",
       "      <td>4.549706</td>\n",
       "      <td>1.000000</td>\n",
       "      <td>1.000000</td>\n",
       "      <td>1.000000</td>\n",
       "      <td>6.000000</td>\n",
       "      <td>12.000000</td>\n",
       "    </tr>\n",
       "    <tr>\n",
       "      <th>group_visits</th>\n",
       "      <td>4000.0</td>\n",
       "      <td>0.412250</td>\n",
       "      <td>0.492301</td>\n",
       "      <td>0.000000</td>\n",
       "      <td>0.000000</td>\n",
       "      <td>0.000000</td>\n",
       "      <td>1.000000</td>\n",
       "      <td>1.000000</td>\n",
       "    </tr>\n",
       "    <tr>\n",
       "      <th>age</th>\n",
       "      <td>4000.0</td>\n",
       "      <td>29.184250</td>\n",
       "      <td>3.258367</td>\n",
       "      <td>18.000000</td>\n",
       "      <td>27.000000</td>\n",
       "      <td>29.000000</td>\n",
       "      <td>31.000000</td>\n",
       "      <td>41.000000</td>\n",
       "    </tr>\n",
       "    <tr>\n",
       "      <th>avg_additional_charges_total</th>\n",
       "      <td>4000.0</td>\n",
       "      <td>146.943728</td>\n",
       "      <td>96.355602</td>\n",
       "      <td>0.148205</td>\n",
       "      <td>68.868830</td>\n",
       "      <td>136.220159</td>\n",
       "      <td>210.949625</td>\n",
       "      <td>552.590740</td>\n",
       "    </tr>\n",
       "    <tr>\n",
       "      <th>month_to_end_contract</th>\n",
       "      <td>4000.0</td>\n",
       "      <td>4.322750</td>\n",
       "      <td>4.191297</td>\n",
       "      <td>1.000000</td>\n",
       "      <td>1.000000</td>\n",
       "      <td>1.000000</td>\n",
       "      <td>6.000000</td>\n",
       "      <td>12.000000</td>\n",
       "    </tr>\n",
       "    <tr>\n",
       "      <th>lifetime</th>\n",
       "      <td>4000.0</td>\n",
       "      <td>3.724750</td>\n",
       "      <td>3.749267</td>\n",
       "      <td>0.000000</td>\n",
       "      <td>1.000000</td>\n",
       "      <td>3.000000</td>\n",
       "      <td>5.000000</td>\n",
       "      <td>31.000000</td>\n",
       "    </tr>\n",
       "    <tr>\n",
       "      <th>avg_class_frequency_total</th>\n",
       "      <td>4000.0</td>\n",
       "      <td>1.879020</td>\n",
       "      <td>0.972245</td>\n",
       "      <td>0.000000</td>\n",
       "      <td>1.180875</td>\n",
       "      <td>1.832768</td>\n",
       "      <td>2.536078</td>\n",
       "      <td>6.023668</td>\n",
       "    </tr>\n",
       "    <tr>\n",
       "      <th>avg_class_frequency_current_month</th>\n",
       "      <td>4000.0</td>\n",
       "      <td>1.767052</td>\n",
       "      <td>1.052906</td>\n",
       "      <td>0.000000</td>\n",
       "      <td>0.963003</td>\n",
       "      <td>1.719574</td>\n",
       "      <td>2.510336</td>\n",
       "      <td>6.146783</td>\n",
       "    </tr>\n",
       "    <tr>\n",
       "      <th>churn</th>\n",
       "      <td>4000.0</td>\n",
       "      <td>0.265250</td>\n",
       "      <td>0.441521</td>\n",
       "      <td>0.000000</td>\n",
       "      <td>0.000000</td>\n",
       "      <td>0.000000</td>\n",
       "      <td>1.000000</td>\n",
       "      <td>1.000000</td>\n",
       "    </tr>\n",
       "  </tbody>\n",
       "</table>\n",
       "</div>"
      ],
      "text/plain": [
       "                                    count        mean        std        min  \\\n",
       "gender                             4000.0    0.510250   0.499957   0.000000   \n",
       "near_location                      4000.0    0.845250   0.361711   0.000000   \n",
       "partner                            4000.0    0.486750   0.499887   0.000000   \n",
       "promo_friends                      4000.0    0.308500   0.461932   0.000000   \n",
       "phone                              4000.0    0.903500   0.295313   0.000000   \n",
       "contract_period                    4000.0    4.681250   4.549706   1.000000   \n",
       "group_visits                       4000.0    0.412250   0.492301   0.000000   \n",
       "age                                4000.0   29.184250   3.258367  18.000000   \n",
       "avg_additional_charges_total       4000.0  146.943728  96.355602   0.148205   \n",
       "month_to_end_contract              4000.0    4.322750   4.191297   1.000000   \n",
       "lifetime                           4000.0    3.724750   3.749267   0.000000   \n",
       "avg_class_frequency_total          4000.0    1.879020   0.972245   0.000000   \n",
       "avg_class_frequency_current_month  4000.0    1.767052   1.052906   0.000000   \n",
       "churn                              4000.0    0.265250   0.441521   0.000000   \n",
       "\n",
       "                                         25%         50%         75%  \\\n",
       "gender                              0.000000    1.000000    1.000000   \n",
       "near_location                       1.000000    1.000000    1.000000   \n",
       "partner                             0.000000    0.000000    1.000000   \n",
       "promo_friends                       0.000000    0.000000    1.000000   \n",
       "phone                               1.000000    1.000000    1.000000   \n",
       "contract_period                     1.000000    1.000000    6.000000   \n",
       "group_visits                        0.000000    0.000000    1.000000   \n",
       "age                                27.000000   29.000000   31.000000   \n",
       "avg_additional_charges_total       68.868830  136.220159  210.949625   \n",
       "month_to_end_contract               1.000000    1.000000    6.000000   \n",
       "lifetime                            1.000000    3.000000    5.000000   \n",
       "avg_class_frequency_total           1.180875    1.832768    2.536078   \n",
       "avg_class_frequency_current_month   0.963003    1.719574    2.510336   \n",
       "churn                               0.000000    0.000000    1.000000   \n",
       "\n",
       "                                          max  \n",
       "gender                               1.000000  \n",
       "near_location                        1.000000  \n",
       "partner                              1.000000  \n",
       "promo_friends                        1.000000  \n",
       "phone                                1.000000  \n",
       "contract_period                     12.000000  \n",
       "group_visits                         1.000000  \n",
       "age                                 41.000000  \n",
       "avg_additional_charges_total       552.590740  \n",
       "month_to_end_contract               12.000000  \n",
       "lifetime                            31.000000  \n",
       "avg_class_frequency_total            6.023668  \n",
       "avg_class_frequency_current_month    6.146783  \n",
       "churn                                1.000000  "
      ]
     },
     "execution_count": 6,
     "metadata": {},
     "output_type": "execute_result"
    }
   ],
   "source": [
    "data.describe().T # посмотрим на датасет с помощью describe"
   ]
  },
  {
   "cell_type": "markdown",
   "metadata": {},
   "source": [
    "Выводы:\n",
    "- по gender делится приблизительно пополам - среднее значение 0,51\n",
    "- по локации 84 % клиента живут или работают в районе фитнесса\n",
    "- 49 % являются сотрудниками компаний, которые получают скидки на абонемент\n",
    "- 30 % пришли по промокоду от друга\n",
    "- Contract_period - средняя длительность текущего абонемента 4,68 месяца. 25% клиентов имеют абонемент на 6 месяцев и более. А 75 % клиентов имеют абонемент всего на 1 месяц.\n",
    "- 41 % клиентов посещают групповые занятия\n",
    "- средний возраст клиентов 29 лет. Максимум - 41 год. 50 % клиентов в возрасте от 27 до 31 года.\n",
    "- в среднем на оплату сопутствующих услуг тратится суммарно 146,9 ед. денег. Половина клиентов платит 136.22.\n",
    "- Month_to_end_contract - в среднем до окончания контракта остается 4,32 месяца, то только у 25 % клиентов более 6 месяцев и до 12. А более половины клиентов имеют 1 месяц до окончания контракта.\n",
    "- Lifetime - в среднем 3,72 месяца прошло с момента первого обращения в фитнес-центр \n",
    "- Avg_class_frequency_total - средняя частота посещений в неделю за все время с начала действия абонемента - в среднем в неделю клиенты ходят почти 2 раза (1,87), а 25 % клиентов 2,5 раза в неделю.\n",
    "- Avg_class_frequency_current_month - за последний месяц средний приход в неделю составляет 1,76 раза. А 25 % клиентов стабильно ходят 2,5 раза в неделю за последний месяц.\n",
    "- По оттоку в текущем месяце 'Churn': 1 - кто ушли, 0 - кто остались. 26,5 % клиентов ушли в текущем месяце.\n",
    "\n",
    "Явных выбросов нет."
   ]
  },
  {
   "cell_type": "code",
   "execution_count": 7,
   "metadata": {},
   "outputs": [
    {
     "data": {
      "text/html": [
       "<div>\n",
       "<style scoped>\n",
       "    .dataframe tbody tr th:only-of-type {\n",
       "        vertical-align: middle;\n",
       "    }\n",
       "\n",
       "    .dataframe tbody tr th {\n",
       "        vertical-align: top;\n",
       "    }\n",
       "\n",
       "    .dataframe thead th {\n",
       "        text-align: right;\n",
       "    }\n",
       "</style>\n",
       "<table border=\"1\" class=\"dataframe\">\n",
       "  <thead>\n",
       "    <tr style=\"text-align: right;\">\n",
       "      <th></th>\n",
       "      <th>gender</th>\n",
       "      <th>near_location</th>\n",
       "      <th>partner</th>\n",
       "      <th>promo_friends</th>\n",
       "      <th>phone</th>\n",
       "      <th>contract_period</th>\n",
       "      <th>group_visits</th>\n",
       "      <th>age</th>\n",
       "      <th>avg_additional_charges_total</th>\n",
       "      <th>month_to_end_contract</th>\n",
       "      <th>lifetime</th>\n",
       "      <th>avg_class_frequency_total</th>\n",
       "      <th>avg_class_frequency_current_month</th>\n",
       "    </tr>\n",
       "    <tr>\n",
       "      <th>churn</th>\n",
       "      <th></th>\n",
       "      <th></th>\n",
       "      <th></th>\n",
       "      <th></th>\n",
       "      <th></th>\n",
       "      <th></th>\n",
       "      <th></th>\n",
       "      <th></th>\n",
       "      <th></th>\n",
       "      <th></th>\n",
       "      <th></th>\n",
       "      <th></th>\n",
       "      <th></th>\n",
       "    </tr>\n",
       "  </thead>\n",
       "  <tbody>\n",
       "    <tr>\n",
       "      <th>0</th>\n",
       "      <td>0.510037</td>\n",
       "      <td>0.873086</td>\n",
       "      <td>0.534195</td>\n",
       "      <td>0.353522</td>\n",
       "      <td>0.903709</td>\n",
       "      <td>5.747193</td>\n",
       "      <td>0.464103</td>\n",
       "      <td>29.976523</td>\n",
       "      <td>158.445715</td>\n",
       "      <td>5.283089</td>\n",
       "      <td>4.711807</td>\n",
       "      <td>2.024876</td>\n",
       "      <td>2.027882</td>\n",
       "    </tr>\n",
       "    <tr>\n",
       "      <th>1</th>\n",
       "      <td>0.510839</td>\n",
       "      <td>0.768143</td>\n",
       "      <td>0.355325</td>\n",
       "      <td>0.183789</td>\n",
       "      <td>0.902922</td>\n",
       "      <td>1.728558</td>\n",
       "      <td>0.268615</td>\n",
       "      <td>26.989632</td>\n",
       "      <td>115.082899</td>\n",
       "      <td>1.662582</td>\n",
       "      <td>0.990575</td>\n",
       "      <td>1.474995</td>\n",
       "      <td>1.044546</td>\n",
       "    </tr>\n",
       "  </tbody>\n",
       "</table>\n",
       "</div>"
      ],
      "text/plain": [
       "         gender  near_location   partner  promo_friends     phone  \\\n",
       "churn                                                               \n",
       "0      0.510037       0.873086  0.534195       0.353522  0.903709   \n",
       "1      0.510839       0.768143  0.355325       0.183789  0.902922   \n",
       "\n",
       "       contract_period  group_visits        age  avg_additional_charges_total  \\\n",
       "churn                                                                           \n",
       "0             5.747193      0.464103  29.976523                    158.445715   \n",
       "1             1.728558      0.268615  26.989632                    115.082899   \n",
       "\n",
       "       month_to_end_contract  lifetime  avg_class_frequency_total  \\\n",
       "churn                                                               \n",
       "0                   5.283089  4.711807                   2.024876   \n",
       "1                   1.662582  0.990575                   1.474995   \n",
       "\n",
       "       avg_class_frequency_current_month  \n",
       "churn                                     \n",
       "0                               2.027882  \n",
       "1                               1.044546  "
      ]
     },
     "execution_count": 7,
     "metadata": {},
     "output_type": "execute_result"
    }
   ],
   "source": [
    "data.groupby('churn').mean() # средние значения признаков в двух группах 1 - ушли, 0 остались"
   ]
  },
  {
   "cell_type": "code",
   "execution_count": 8,
   "metadata": {},
   "outputs": [
    {
     "data": {
      "text/html": [
       "<div>\n",
       "<style scoped>\n",
       "    .dataframe tbody tr th:only-of-type {\n",
       "        vertical-align: middle;\n",
       "    }\n",
       "\n",
       "    .dataframe tbody tr th {\n",
       "        vertical-align: top;\n",
       "    }\n",
       "\n",
       "    .dataframe thead th {\n",
       "        text-align: right;\n",
       "    }\n",
       "</style>\n",
       "<table border=\"1\" class=\"dataframe\">\n",
       "  <thead>\n",
       "    <tr style=\"text-align: right;\">\n",
       "      <th>churn</th>\n",
       "      <th>0</th>\n",
       "      <th>1</th>\n",
       "    </tr>\n",
       "  </thead>\n",
       "  <tbody>\n",
       "    <tr>\n",
       "      <th>gender</th>\n",
       "      <td>0.510037</td>\n",
       "      <td>0.510839</td>\n",
       "    </tr>\n",
       "    <tr>\n",
       "      <th>near_location</th>\n",
       "      <td>0.873086</td>\n",
       "      <td>0.768143</td>\n",
       "    </tr>\n",
       "    <tr>\n",
       "      <th>partner</th>\n",
       "      <td>0.534195</td>\n",
       "      <td>0.355325</td>\n",
       "    </tr>\n",
       "    <tr>\n",
       "      <th>promo_friends</th>\n",
       "      <td>0.353522</td>\n",
       "      <td>0.183789</td>\n",
       "    </tr>\n",
       "    <tr>\n",
       "      <th>phone</th>\n",
       "      <td>0.903709</td>\n",
       "      <td>0.902922</td>\n",
       "    </tr>\n",
       "    <tr>\n",
       "      <th>contract_period</th>\n",
       "      <td>5.747193</td>\n",
       "      <td>1.728558</td>\n",
       "    </tr>\n",
       "    <tr>\n",
       "      <th>group_visits</th>\n",
       "      <td>0.464103</td>\n",
       "      <td>0.268615</td>\n",
       "    </tr>\n",
       "    <tr>\n",
       "      <th>age</th>\n",
       "      <td>29.976523</td>\n",
       "      <td>26.989632</td>\n",
       "    </tr>\n",
       "    <tr>\n",
       "      <th>avg_additional_charges_total</th>\n",
       "      <td>158.445715</td>\n",
       "      <td>115.082899</td>\n",
       "    </tr>\n",
       "    <tr>\n",
       "      <th>month_to_end_contract</th>\n",
       "      <td>5.283089</td>\n",
       "      <td>1.662582</td>\n",
       "    </tr>\n",
       "    <tr>\n",
       "      <th>lifetime</th>\n",
       "      <td>4.711807</td>\n",
       "      <td>0.990575</td>\n",
       "    </tr>\n",
       "    <tr>\n",
       "      <th>avg_class_frequency_total</th>\n",
       "      <td>2.024876</td>\n",
       "      <td>1.474995</td>\n",
       "    </tr>\n",
       "    <tr>\n",
       "      <th>avg_class_frequency_current_month</th>\n",
       "      <td>2.027882</td>\n",
       "      <td>1.044546</td>\n",
       "    </tr>\n",
       "  </tbody>\n",
       "</table>\n",
       "</div>"
      ],
      "text/plain": [
       "churn                                       0           1\n",
       "gender                               0.510037    0.510839\n",
       "near_location                        0.873086    0.768143\n",
       "partner                              0.534195    0.355325\n",
       "promo_friends                        0.353522    0.183789\n",
       "phone                                0.903709    0.902922\n",
       "contract_period                      5.747193    1.728558\n",
       "group_visits                         0.464103    0.268615\n",
       "age                                 29.976523   26.989632\n",
       "avg_additional_charges_total       158.445715  115.082899\n",
       "month_to_end_contract                5.283089    1.662582\n",
       "lifetime                             4.711807    0.990575\n",
       "avg_class_frequency_total            2.024876    1.474995\n",
       "avg_class_frequency_current_month    2.027882    1.044546"
      ]
     },
     "execution_count": 8,
     "metadata": {},
     "output_type": "execute_result"
    }
   ],
   "source": [
    "data.groupby('churn').mean().T # перевернем таблицу"
   ]
  },
  {
   "cell_type": "markdown",
   "metadata": {},
   "source": [
    "Средние значения признаков тех кто ушли ниже, чем у тех кто остался (кроме gender - поровну (значит пол не влияет на уход).\n",
    "- Близость локации - near_location - Значение высоки в двух группах, но у тех кто ушел доля ниже (76,8%) Признак влияет на отток клиентов \n",
    "- partner - признак влияет на отток клиентов. Среди \"не партнеров\" отток выше.\n",
    "- по промокоду такжу ушло меньше клиентов.\n",
    "- оставления телефона никак не влияет на отток.\n",
    "- contract_period - длительность контракта имеет сильное влияние. Из тех кто ушел в среднем абонемент имели менее 2 месяцев. \n",
    "- group_visits. Занимающий в группах клиент менее подвержен уходу из фитнеса.\n",
    "- Средний возраст ушедших 27 лет, оставшихся - почти 30 лет.\n",
    "- оставшиеся потратили больше на доп услуги.\n",
    "- month_to_end_contract - имеет сильное положительное влияние. Смысл ходить если и так мало осталось. Если абонемент действует еще полгода, можно и вернуться.\n",
    "- lifetime - сильное положительное влияние. Чем дольше ходишь, тем сильнее привыкаешь.\n",
    "- avg_class_frequency_total\t- влияние частоты посещений. у тех кто остался она выше. Регулярность имеет положительное влияние.\n",
    "- avg_class_frequency_current_month - такая же ситуация за последний месяц. Главное регулярно, 2 раза в неделю."
   ]
  },
  {
   "cell_type": "markdown",
   "metadata": {},
   "source": [
    "### Визуализация распределения признаков по Ушел-Остался"
   ]
  },
  {
   "cell_type": "code",
   "execution_count": 9,
   "metadata": {
    "scrolled": true
   },
   "outputs": [
    {
     "data": {
      "image/png": "[encoded data removed]",
      "text/plain": [
       "<Figure size 432x288 with 1 Axes>"
      ]
     },
     "metadata": {
      "needs_background": "light"
     },
     "output_type": "display_data"
    },
    {
     "data": {
      "image/png": "[encoded data removed]",
      "text/plain": [
       "<Figure size 432x288 with 1 Axes>"
      ]
     },
     "metadata": {
      "needs_background": "light"
     },
     "output_type": "display_data"
    },
    {
     "data": {
      "image/png": "[encoded data removed]",
      "text/plain": [
       "<Figure size 432x288 with 1 Axes>"
      ]
     },
     "metadata": {
      "needs_background": "light"
     },
     "output_type": "display_data"
    },
    {
     "data": {
      "image/png": "[encoded data removed]",
      "text/plain": [
       "<Figure size 432x288 with 1 Axes>"
      ]
     },
     "metadata": {
      "needs_background": "light"
     },
     "output_type": "display_data"
    },
    {
     "data": {
      "image/png": "[encoded data removed]",
      "text/plain": [
       "<Figure size 432x288 with 1 Axes>"
      ]
     },
     "metadata": {
      "needs_background": "light"
     },
     "output_type": "display_data"
    },
    {
     "data": {
      "image/png": "[encoded data removed]",
      "text/plain": [
       "<Figure size 432x288 with 1 Axes>"
      ]
     },
     "metadata": {
      "needs_background": "light"
     },
     "output_type": "display_data"
    },
    {
     "data": {
      "image/png": "[encoded data removed]",
      "text/plain": [
       "<Figure size 432x288 with 1 Axes>"
      ]
     },
     "metadata": {
      "needs_background": "light"
     },
     "output_type": "display_data"
    },
    {
     "data": {
      "image/png": "[encoded data removed]",
      "text/plain": [
       "<Figure size 432x288 with 1 Axes>"
      ]
     },
     "metadata": {
      "needs_background": "light"
     },
     "output_type": "display_data"
    },
    {
     "data": {
      "image/png": "[encoded data removed]",
      "text/plain": [
       "<Figure size 432x288 with 1 Axes>"
      ]
     },
     "metadata": {
      "needs_background": "light"
     },
     "output_type": "display_data"
    },
    {
     "data": {
      "image/png": "[encoded data removed]",
      "text/plain": [
       "<Figure size 432x288 with 1 Axes>"
      ]
     },
     "metadata": {
      "needs_background": "light"
     },
     "output_type": "display_data"
    },
    {
     "data": {
      "image/png": "[encoded data removed]",
      "text/plain": [
       "<Figure size 432x288 with 1 Axes>"
      ]
     },
     "metadata": {
      "needs_background": "light"
     },
     "output_type": "display_data"
    },
    {
     "data": {
      "image/png": "[encoded data removed]",
      "text/plain": [
       "<Figure size 432x288 with 1 Axes>"
      ]
     },
     "metadata": {
      "needs_background": "light"
     },
     "output_type": "display_data"
    },
    {
     "data": {
      "image/png": "[encoded data removed]",
      "text/plain": [
       "<Figure size 432x288 with 1 Axes>"
      ]
     },
     "metadata": {
      "needs_background": "light"
     },
     "output_type": "display_data"
    },
    {
     "data": {
      "image/png": "[encoded data removed]",
      "text/plain": [
       "<Figure size 432x288 with 1 Axes>"
      ]
     },
     "metadata": {
      "needs_background": "light"
     },
     "output_type": "display_data"
    }
   ],
   "source": [
    "for col in data.columns:\n",
    "    data.groupby('churn')[col].hist()\n",
    "    plt.title(col)\n",
    "    plt.legend(['Остались', 'Ушли'])\n",
    "    plt.show()"
   ]
  },
  {
   "cell_type": "markdown",
   "metadata": {},
   "source": [
    "Про графики распределения:\n",
    "* беглый взгляд дает, что на отток клиентов влияют такие признаки: локация, партнерство, промокод, длительность абонемента, групповые занятия"
   ]
  },
  {
   "cell_type": "markdown",
   "metadata": {},
   "source": [
    "### Матрица корреляций, отображение"
   ]
  },
  {
   "cell_type": "code",
   "execution_count": 10,
   "metadata": {},
   "outputs": [
    {
     "data": {
      "text/html": [
       "<div>\n",
       "<style scoped>\n",
       "    .dataframe tbody tr th:only-of-type {\n",
       "        vertical-align: middle;\n",
       "    }\n",
       "\n",
       "    .dataframe tbody tr th {\n",
       "        vertical-align: top;\n",
       "    }\n",
       "\n",
       "    .dataframe thead th {\n",
       "        text-align: right;\n",
       "    }\n",
       "</style>\n",
       "<table border=\"1\" class=\"dataframe\">\n",
       "  <thead>\n",
       "    <tr style=\"text-align: right;\">\n",
       "      <th></th>\n",
       "      <th>gender</th>\n",
       "      <th>near_location</th>\n",
       "      <th>partner</th>\n",
       "      <th>promo_friends</th>\n",
       "      <th>phone</th>\n",
       "      <th>contract_period</th>\n",
       "      <th>group_visits</th>\n",
       "      <th>age</th>\n",
       "      <th>avg_additional_charges_total</th>\n",
       "      <th>month_to_end_contract</th>\n",
       "      <th>lifetime</th>\n",
       "      <th>avg_class_frequency_total</th>\n",
       "      <th>avg_class_frequency_current_month</th>\n",
       "      <th>churn</th>\n",
       "    </tr>\n",
       "  </thead>\n",
       "  <tbody>\n",
       "    <tr>\n",
       "      <th>gender</th>\n",
       "      <td>1.000000</td>\n",
       "      <td>0.006699</td>\n",
       "      <td>-0.010463</td>\n",
       "      <td>-0.005033</td>\n",
       "      <td>-0.008542</td>\n",
       "      <td>0.000502</td>\n",
       "      <td>0.017879</td>\n",
       "      <td>0.013807</td>\n",
       "      <td>-0.009334</td>\n",
       "      <td>-0.001281</td>\n",
       "      <td>0.013579</td>\n",
       "      <td>0.014620</td>\n",
       "      <td>0.009156</td>\n",
       "      <td>0.000708</td>\n",
       "    </tr>\n",
       "    <tr>\n",
       "      <th>near_location</th>\n",
       "      <td>0.006699</td>\n",
       "      <td>1.000000</td>\n",
       "      <td>-0.005119</td>\n",
       "      <td>0.210964</td>\n",
       "      <td>-0.015763</td>\n",
       "      <td>0.150233</td>\n",
       "      <td>0.154728</td>\n",
       "      <td>0.058358</td>\n",
       "      <td>0.040761</td>\n",
       "      <td>0.143961</td>\n",
       "      <td>0.070921</td>\n",
       "      <td>0.043127</td>\n",
       "      <td>0.062664</td>\n",
       "      <td>-0.128098</td>\n",
       "    </tr>\n",
       "    <tr>\n",
       "      <th>partner</th>\n",
       "      <td>-0.010463</td>\n",
       "      <td>-0.005119</td>\n",
       "      <td>1.000000</td>\n",
       "      <td>0.451960</td>\n",
       "      <td>0.009970</td>\n",
       "      <td>0.306166</td>\n",
       "      <td>0.022710</td>\n",
       "      <td>0.047480</td>\n",
       "      <td>0.022941</td>\n",
       "      <td>0.294632</td>\n",
       "      <td>0.061229</td>\n",
       "      <td>0.024938</td>\n",
       "      <td>0.045561</td>\n",
       "      <td>-0.157986</td>\n",
       "    </tr>\n",
       "    <tr>\n",
       "      <th>promo_friends</th>\n",
       "      <td>-0.005033</td>\n",
       "      <td>0.210964</td>\n",
       "      <td>0.451960</td>\n",
       "      <td>1.000000</td>\n",
       "      <td>0.001982</td>\n",
       "      <td>0.244552</td>\n",
       "      <td>0.120170</td>\n",
       "      <td>0.050113</td>\n",
       "      <td>0.036898</td>\n",
       "      <td>0.239553</td>\n",
       "      <td>0.072721</td>\n",
       "      <td>0.028063</td>\n",
       "      <td>0.053768</td>\n",
       "      <td>-0.162233</td>\n",
       "    </tr>\n",
       "    <tr>\n",
       "      <th>phone</th>\n",
       "      <td>-0.008542</td>\n",
       "      <td>-0.015763</td>\n",
       "      <td>0.009970</td>\n",
       "      <td>0.001982</td>\n",
       "      <td>1.000000</td>\n",
       "      <td>-0.006893</td>\n",
       "      <td>-0.010099</td>\n",
       "      <td>-0.011403</td>\n",
       "      <td>0.009279</td>\n",
       "      <td>-0.011196</td>\n",
       "      <td>-0.018801</td>\n",
       "      <td>0.008340</td>\n",
       "      <td>0.013375</td>\n",
       "      <td>-0.001177</td>\n",
       "    </tr>\n",
       "    <tr>\n",
       "      <th>contract_period</th>\n",
       "      <td>0.000502</td>\n",
       "      <td>0.150233</td>\n",
       "      <td>0.306166</td>\n",
       "      <td>0.244552</td>\n",
       "      <td>-0.006893</td>\n",
       "      <td>1.000000</td>\n",
       "      <td>0.169991</td>\n",
       "      <td>0.138249</td>\n",
       "      <td>0.111445</td>\n",
       "      <td>0.973064</td>\n",
       "      <td>0.170725</td>\n",
       "      <td>0.096211</td>\n",
       "      <td>0.159407</td>\n",
       "      <td>-0.389984</td>\n",
       "    </tr>\n",
       "    <tr>\n",
       "      <th>group_visits</th>\n",
       "      <td>0.017879</td>\n",
       "      <td>0.154728</td>\n",
       "      <td>0.022710</td>\n",
       "      <td>0.120170</td>\n",
       "      <td>-0.010099</td>\n",
       "      <td>0.169991</td>\n",
       "      <td>1.000000</td>\n",
       "      <td>0.080934</td>\n",
       "      <td>0.032079</td>\n",
       "      <td>0.163703</td>\n",
       "      <td>0.075853</td>\n",
       "      <td>0.056695</td>\n",
       "      <td>0.075923</td>\n",
       "      <td>-0.175325</td>\n",
       "    </tr>\n",
       "    <tr>\n",
       "      <th>age</th>\n",
       "      <td>0.013807</td>\n",
       "      <td>0.058358</td>\n",
       "      <td>0.047480</td>\n",
       "      <td>0.050113</td>\n",
       "      <td>-0.011403</td>\n",
       "      <td>0.138249</td>\n",
       "      <td>0.080934</td>\n",
       "      <td>1.000000</td>\n",
       "      <td>0.080240</td>\n",
       "      <td>0.134511</td>\n",
       "      <td>0.164693</td>\n",
       "      <td>0.119953</td>\n",
       "      <td>0.183095</td>\n",
       "      <td>-0.404735</td>\n",
       "    </tr>\n",
       "    <tr>\n",
       "      <th>avg_additional_charges_total</th>\n",
       "      <td>-0.009334</td>\n",
       "      <td>0.040761</td>\n",
       "      <td>0.022941</td>\n",
       "      <td>0.036898</td>\n",
       "      <td>0.009279</td>\n",
       "      <td>0.111445</td>\n",
       "      <td>0.032079</td>\n",
       "      <td>0.080240</td>\n",
       "      <td>1.000000</td>\n",
       "      <td>0.113958</td>\n",
       "      <td>0.079028</td>\n",
       "      <td>0.044426</td>\n",
       "      <td>0.079570</td>\n",
       "      <td>-0.198697</td>\n",
       "    </tr>\n",
       "    <tr>\n",
       "      <th>month_to_end_contract</th>\n",
       "      <td>-0.001281</td>\n",
       "      <td>0.143961</td>\n",
       "      <td>0.294632</td>\n",
       "      <td>0.239553</td>\n",
       "      <td>-0.011196</td>\n",
       "      <td>0.973064</td>\n",
       "      <td>0.163703</td>\n",
       "      <td>0.134511</td>\n",
       "      <td>0.113958</td>\n",
       "      <td>1.000000</td>\n",
       "      <td>0.161078</td>\n",
       "      <td>0.085387</td>\n",
       "      <td>0.147605</td>\n",
       "      <td>-0.381393</td>\n",
       "    </tr>\n",
       "    <tr>\n",
       "      <th>lifetime</th>\n",
       "      <td>0.013579</td>\n",
       "      <td>0.070921</td>\n",
       "      <td>0.061229</td>\n",
       "      <td>0.072721</td>\n",
       "      <td>-0.018801</td>\n",
       "      <td>0.170725</td>\n",
       "      <td>0.075853</td>\n",
       "      <td>0.164693</td>\n",
       "      <td>0.079028</td>\n",
       "      <td>0.161078</td>\n",
       "      <td>1.000000</td>\n",
       "      <td>0.112338</td>\n",
       "      <td>0.181975</td>\n",
       "      <td>-0.438220</td>\n",
       "    </tr>\n",
       "    <tr>\n",
       "      <th>avg_class_frequency_total</th>\n",
       "      <td>0.014620</td>\n",
       "      <td>0.043127</td>\n",
       "      <td>0.024938</td>\n",
       "      <td>0.028063</td>\n",
       "      <td>0.008340</td>\n",
       "      <td>0.096211</td>\n",
       "      <td>0.056695</td>\n",
       "      <td>0.119953</td>\n",
       "      <td>0.044426</td>\n",
       "      <td>0.085387</td>\n",
       "      <td>0.112338</td>\n",
       "      <td>1.000000</td>\n",
       "      <td>0.952739</td>\n",
       "      <td>-0.249715</td>\n",
       "    </tr>\n",
       "    <tr>\n",
       "      <th>avg_class_frequency_current_month</th>\n",
       "      <td>0.009156</td>\n",
       "      <td>0.062664</td>\n",
       "      <td>0.045561</td>\n",
       "      <td>0.053768</td>\n",
       "      <td>0.013375</td>\n",
       "      <td>0.159407</td>\n",
       "      <td>0.075923</td>\n",
       "      <td>0.183095</td>\n",
       "      <td>0.079570</td>\n",
       "      <td>0.147605</td>\n",
       "      <td>0.181975</td>\n",
       "      <td>0.952739</td>\n",
       "      <td>1.000000</td>\n",
       "      <td>-0.412348</td>\n",
       "    </tr>\n",
       "    <tr>\n",
       "      <th>churn</th>\n",
       "      <td>0.000708</td>\n",
       "      <td>-0.128098</td>\n",
       "      <td>-0.157986</td>\n",
       "      <td>-0.162233</td>\n",
       "      <td>-0.001177</td>\n",
       "      <td>-0.389984</td>\n",
       "      <td>-0.175325</td>\n",
       "      <td>-0.404735</td>\n",
       "      <td>-0.198697</td>\n",
       "      <td>-0.381393</td>\n",
       "      <td>-0.438220</td>\n",
       "      <td>-0.249715</td>\n",
       "      <td>-0.412348</td>\n",
       "      <td>1.000000</td>\n",
       "    </tr>\n",
       "  </tbody>\n",
       "</table>\n",
       "</div>"
      ],
      "text/plain": [
       "                                     gender  near_location   partner  \\\n",
       "gender                             1.000000       0.006699 -0.010463   \n",
       "near_location                      0.006699       1.000000 -0.005119   \n",
       "partner                           -0.010463      -0.005119  1.000000   \n",
       "promo_friends                     -0.005033       0.210964  0.451960   \n",
       "phone                             -0.008542      -0.015763  0.009970   \n",
       "contract_period                    0.000502       0.150233  0.306166   \n",
       "group_visits                       0.017879       0.154728  0.022710   \n",
       "age                                0.013807       0.058358  0.047480   \n",
       "avg_additional_charges_total      -0.009334       0.040761  0.022941   \n",
       "month_to_end_contract             -0.001281       0.143961  0.294632   \n",
       "lifetime                           0.013579       0.070921  0.061229   \n",
       "avg_class_frequency_total          0.014620       0.043127  0.024938   \n",
       "avg_class_frequency_current_month  0.009156       0.062664  0.045561   \n",
       "churn                              0.000708      -0.128098 -0.157986   \n",
       "\n",
       "                                   promo_friends     phone  contract_period  \\\n",
       "gender                                 -0.005033 -0.008542         0.000502   \n",
       "near_location                           0.210964 -0.015763         0.150233   \n",
       "partner                                 0.451960  0.009970         0.306166   \n",
       "promo_friends                           1.000000  0.001982         0.244552   \n",
       "phone                                   0.001982  1.000000        -0.006893   \n",
       "contract_period                         0.244552 -0.006893         1.000000   \n",
       "group_visits                            0.120170 -0.010099         0.169991   \n",
       "age                                     0.050113 -0.011403         0.138249   \n",
       "avg_additional_charges_total            0.036898  0.009279         0.111445   \n",
       "month_to_end_contract                   0.239553 -0.011196         0.973064   \n",
       "lifetime                                0.072721 -0.018801         0.170725   \n",
       "avg_class_frequency_total               0.028063  0.008340         0.096211   \n",
       "avg_class_frequency_current_month       0.053768  0.013375         0.159407   \n",
       "churn                                  -0.162233 -0.001177        -0.389984   \n",
       "\n",
       "                                   group_visits       age  \\\n",
       "gender                                 0.017879  0.013807   \n",
       "near_location                          0.154728  0.058358   \n",
       "partner                                0.022710  0.047480   \n",
       "promo_friends                          0.120170  0.050113   \n",
       "phone                                 -0.010099 -0.011403   \n",
       "contract_period                        0.169991  0.138249   \n",
       "group_visits                           1.000000  0.080934   \n",
       "age                                    0.080934  1.000000   \n",
       "avg_additional_charges_total           0.032079  0.080240   \n",
       "month_to_end_contract                  0.163703  0.134511   \n",
       "lifetime                               0.075853  0.164693   \n",
       "avg_class_frequency_total              0.056695  0.119953   \n",
       "avg_class_frequency_current_month      0.075923  0.183095   \n",
       "churn                                 -0.175325 -0.404735   \n",
       "\n",
       "                                   avg_additional_charges_total  \\\n",
       "gender                                                -0.009334   \n",
       "near_location                                          0.040761   \n",
       "partner                                                0.022941   \n",
       "promo_friends                                          0.036898   \n",
       "phone                                                  0.009279   \n",
       "contract_period                                        0.111445   \n",
       "group_visits                                           0.032079   \n",
       "age                                                    0.080240   \n",
       "avg_additional_charges_total                           1.000000   \n",
       "month_to_end_contract                                  0.113958   \n",
       "lifetime                                               0.079028   \n",
       "avg_class_frequency_total                              0.044426   \n",
       "avg_class_frequency_current_month                      0.079570   \n",
       "churn                                                 -0.198697   \n",
       "\n",
       "                                   month_to_end_contract  lifetime  \\\n",
       "gender                                         -0.001281  0.013579   \n",
       "near_location                                   0.143961  0.070921   \n",
       "partner                                         0.294632  0.061229   \n",
       "promo_friends                                   0.239553  0.072721   \n",
       "phone                                          -0.011196 -0.018801   \n",
       "contract_period                                 0.973064  0.170725   \n",
       "group_visits                                    0.163703  0.075853   \n",
       "age                                             0.134511  0.164693   \n",
       "avg_additional_charges_total                    0.113958  0.079028   \n",
       "month_to_end_contract                           1.000000  0.161078   \n",
       "lifetime                                        0.161078  1.000000   \n",
       "avg_class_frequency_total                       0.085387  0.112338   \n",
       "avg_class_frequency_current_month               0.147605  0.181975   \n",
       "churn                                          -0.381393 -0.438220   \n",
       "\n",
       "                                   avg_class_frequency_total  \\\n",
       "gender                                              0.014620   \n",
       "near_location                                       0.043127   \n",
       "partner                                             0.024938   \n",
       "promo_friends                                       0.028063   \n",
       "phone                                               0.008340   \n",
       "contract_period                                     0.096211   \n",
       "group_visits                                        0.056695   \n",
       "age                                                 0.119953   \n",
       "avg_additional_charges_total                        0.044426   \n",
       "month_to_end_contract                               0.085387   \n",
       "lifetime                                            0.112338   \n",
       "avg_class_frequency_total                           1.000000   \n",
       "avg_class_frequency_current_month                   0.952739   \n",
       "churn                                              -0.249715   \n",
       "\n",
       "                                   avg_class_frequency_current_month     churn  \n",
       "gender                                                      0.009156  0.000708  \n",
       "near_location                                               0.062664 -0.128098  \n",
       "partner                                                     0.045561 -0.157986  \n",
       "promo_friends                                               0.053768 -0.162233  \n",
       "phone                                                       0.013375 -0.001177  \n",
       "contract_period                                             0.159407 -0.389984  \n",
       "group_visits                                                0.075923 -0.175325  \n",
       "age                                                         0.183095 -0.404735  \n",
       "avg_additional_charges_total                                0.079570 -0.198697  \n",
       "month_to_end_contract                                       0.147605 -0.381393  \n",
       "lifetime                                                    0.181975 -0.438220  \n",
       "avg_class_frequency_total                                   0.952739 -0.249715  \n",
       "avg_class_frequency_current_month                           1.000000 -0.412348  \n",
       "churn                                                      -0.412348  1.000000  "
      ]
     },
     "execution_count": 10,
     "metadata": {},
     "output_type": "execute_result"
    }
   ],
   "source": [
    "cm = data.corr() #вычисляем матрицу корреляций\n",
    "cm"
   ]
  },
  {
   "cell_type": "code",
   "execution_count": 11,
   "metadata": {},
   "outputs": [
    {
     "data": {
      "image/png": "[encoded data removed]",
      "text/plain": [
       "<Figure size 864x864 with 2 Axes>"
      ]
     },
     "metadata": {
      "needs_background": "light"
     },
     "output_type": "display_data"
    }
   ],
   "source": [
    "fig, ax = plt.subplots(figsize=(12, 12)) # тепловая карту для матрицы корреляций\n",
    "sns.heatmap(cm, annot=True, square=True) \n",
    "plt.show() "
   ]
  },
  {
   "cell_type": "markdown",
   "metadata": {},
   "source": [
    "- Имеется две пары мультиколлинеарных признаков, в каждой паре можно в ручную убрать один признак из модели:\n",
    "    - 'contract period' и 'month to end contract' - коэффициент корреляции 0.97. \n",
    "    - 'avg_class_frequency_current_month' с 'avg_class_frequency_total' - коэффициент корреляции 0.95.\n",
    "- Степень зависимости оттока от других признаков разная:\n",
    "    - пол и наличие телефона не влияют никак\n",
    "    - локация, партнерство, promo-код, групповые занятия, траты на доп.услуги, общая частота посещений имеют слабое влияние на отток клиентов - до 0,25.\n",
    "    - длительность контракта, возраст (на графике распределения он не очевиден), длительность знакомства с клубом, и частота посещений за последний месяц имеют среднюю зависимость \n",
    "- Признаки имеют обратную зависимость, т.е. чем меньше значение признака, тем больше отток клиентов        "
   ]
  },
  {
   "cell_type": "markdown",
   "metadata": {},
   "source": [
    "## Модель прогнозирования оттока клиентов"
   ]
  },
  {
   "cell_type": "markdown",
   "metadata": {},
   "source": [
    "Модель бинарной классификации клиентов"
   ]
  },
  {
   "cell_type": "code",
   "execution_count": 12,
   "metadata": {},
   "outputs": [],
   "source": [
    "X = data.drop('churn', axis=1) #признаки\n",
    "y = data['churn'] # целевая переменная"
   ]
  },
  {
   "cell_type": "code",
   "execution_count": 13,
   "metadata": {},
   "outputs": [],
   "source": [
    "#обучающаяся (train) и валидационная выборки\n",
    "X_train, X_test, y_train, y_test = train_test_split(X, y, test_size=0.2, random_state=0) \n",
    "#random_state отвечает за «случайность» "
   ]
  },
  {
   "cell_type": "code",
   "execution_count": 14,
   "metadata": {},
   "outputs": [],
   "source": [
    "model_lr = LogisticRegression() \n",
    "model_lr.fit(X_train, y_train) # обучение модели логистической регрессии\n",
    "predictions_lr = model_lr.predict(X_test)\n",
    "probabilities_lr = model_lr.predict_proba(X_test)[:,1] #делаем прогнозы воспользовавшись обученной моделью"
   ]
  },
  {
   "cell_type": "code",
   "execution_count": 15,
   "metadata": {},
   "outputs": [],
   "source": [
    "model_rf = RandomForestClassifier(random_state=0)\n",
    "model_rf.fit(X_train, y_train) # обучение модели алгоритмом случайный лес\n",
    "# воспользуемся уже обученной моделью, чтобы сделать прогнозы\n",
    "predictions_rf = model_rf.predict(X_test) #сделаем прогноз обученной модели случайнный лес\n",
    "probabilities_rf = model_rf.predict_proba(X_test)[:, 1] "
   ]
  },
  {
   "cell_type": "markdown",
   "metadata": {},
   "source": [
    "Метрики accuracy, precision и recall на валидационной выборке"
   ]
  },
  {
   "cell_type": "code",
   "execution_count": 16,
   "metadata": {},
   "outputs": [
    {
     "name": "stdout",
     "output_type": "stream",
     "text": [
      "Метрики для модели логистической регрессии:\n",
      "Accuracy: 0.91\n",
      "Precision: 0.82\n",
      "Recall: 0.80\n",
      "Метрики для модели случайного леса:\n",
      "Accuracy: 0.92\n",
      "Precision: 0.84\n",
      "Recall: 0.82\n"
     ]
    }
   ],
   "source": [
    "print('Метрики для модели логистической регрессии:')\n",
    "acc_lr = accuracy_score(y_test, predictions_lr)  # доля правильных ответов\n",
    "precision_lr = precision_score (y_test, predictions_lr) #точность - долю правильных ответов только среди целевого класса\n",
    "recall_lr = recall_score (y_test, predictions_lr) #полнота - сколько реальных объектов \"1\" обнаружено\n",
    "\n",
    "print('Accuracy: {:.2f}'.format(acc_lr))\n",
    "print('Precision: {:.2f}'.format(precision_lr))\n",
    "print('Recall: {:.2f}'.format(recall_lr))\n",
    "\n",
    "print('Метрики для модели случайного леса:')\n",
    "acc_rf = accuracy_score(y_test, predictions_rf)  # доля правильных ответов\n",
    "precision_rf = precision_score (y_test, predictions_rf) #точность - долю правильных ответов только среди целевого класса\n",
    "recall_rf = recall_score (y_test, predictions_rf) #полнота - сколько реальных объектов \"1\" обнаружено\n",
    "\n",
    "print('Accuracy: {:.2f}'.format(acc_rf))\n",
    "print('Precision: {:.2f}'.format(precision_rf))\n",
    "print('Recall: {:.2f}'.format(recall_rf))"
   ]
  },
  {
   "cell_type": "markdown",
   "metadata": {},
   "source": [
    "- Правильное прогнозирование у двух моделей - более 87 % ответов, но Accuracy работает не всегда, а только при условии баланса классов — когда объектов каждого класса примерно поровну, 50% на 50%. У нас класс '1' - 26,5%.\n",
    "- Доля правильных прогнозов, точность и полнота выше у модели случайный лес. Метрика precision здесь более важна.\n",
    "- Модель случайный лес лучше"
   ]
  },
  {
   "cell_type": "markdown",
   "metadata": {},
   "source": [
    "## Кластеризацию клиентов\n"
   ]
  },
  {
   "cell_type": "code",
   "execution_count": 17,
   "metadata": {},
   "outputs": [],
   "source": [
    "scaler = StandardScaler() # создаём объект класса scaler (нормализатор)\n",
    "x_sc = scaler.fit_transform(X) # обучаем нормализатор"
   ]
  },
  {
   "cell_type": "code",
   "execution_count": 18,
   "metadata": {
    "scrolled": true
   },
   "outputs": [
    {
     "data": {
      "text/plain": [
       "array([[9.70000000e+01, 3.22200000e+03, 1.00990653e-01, 2.00000000e+00],\n",
       "       [2.61000000e+02, 3.17900000e+03, 1.22634574e-01, 2.00000000e+00],\n",
       "       [8.90000000e+02, 1.75000000e+03, 1.28123291e-01, 2.00000000e+00],\n",
       "       ...,\n",
       "       [7.98700000e+03, 7.99500000e+03, 8.38725499e+01, 2.65600000e+03],\n",
       "       [7.98800000e+03, 7.99600000e+03, 8.89563592e+01, 3.03400000e+03],\n",
       "       [7.99200000e+03, 7.99700000e+03, 1.04627601e+02, 4.00000000e+03]])"
      ]
     },
     "execution_count": 18,
     "metadata": {},
     "output_type": "execute_result"
    }
   ],
   "source": [
    "linked = linkage(x_sc, method = 'ward') # строим матрицу расстояний\n",
    "linked "
   ]
  },
  {
   "cell_type": "markdown",
   "metadata": {},
   "source": [
    "### Дендрограмма"
   ]
  },
  {
   "cell_type": "code",
   "execution_count": 19,
   "metadata": {},
   "outputs": [
    {
     "data": {
      "image/png": "[encoded data removed]",
      "text/plain": [
       "<Figure size 1080x720 with 1 Axes>"
      ]
     },
     "metadata": {
      "needs_background": "light"
     },
     "output_type": "display_data"
    }
   ],
   "source": [
    "plt.figure(figsize=(15, 10))  \n",
    "dendrogram(linked, orientation='top')\n",
    "plt.title('Кластеризация')\n",
    "plt.show()"
   ]
  },
  {
   "cell_type": "markdown",
   "metadata": {},
   "source": [
    "Можно выделить как минимум 4 кластера клиентов, возможно даже 5 или 6. "
   ]
  },
  {
   "cell_type": "markdown",
   "metadata": {},
   "source": [
    "### Кластеризации по алгоритму K-Means"
   ]
  },
  {
   "cell_type": "code",
   "execution_count": 20,
   "metadata": {},
   "outputs": [],
   "source": [
    "km = KMeans(n_clusters=5, random_state=0) # число кластеров приняли n=5\n",
    "labels = km.fit_predict(x_sc) \n",
    "data['cluster'] = labels"
   ]
  },
  {
   "cell_type": "code",
   "execution_count": 21,
   "metadata": {},
   "outputs": [
    {
     "data": {
      "text/html": [
       "<div>\n",
       "<style scoped>\n",
       "    .dataframe tbody tr th:only-of-type {\n",
       "        vertical-align: middle;\n",
       "    }\n",
       "\n",
       "    .dataframe tbody tr th {\n",
       "        vertical-align: top;\n",
       "    }\n",
       "\n",
       "    .dataframe thead th {\n",
       "        text-align: right;\n",
       "    }\n",
       "</style>\n",
       "<table border=\"1\" class=\"dataframe\">\n",
       "  <thead>\n",
       "    <tr style=\"text-align: right;\">\n",
       "      <th>cluster</th>\n",
       "      <th>0</th>\n",
       "      <th>1</th>\n",
       "      <th>2</th>\n",
       "      <th>3</th>\n",
       "      <th>4</th>\n",
       "    </tr>\n",
       "  </thead>\n",
       "  <tbody>\n",
       "    <tr>\n",
       "      <th>gender</th>\n",
       "      <td>0.502970</td>\n",
       "      <td>0.522078</td>\n",
       "      <td>0.495050</td>\n",
       "      <td>0.485737</td>\n",
       "      <td>0.559666</td>\n",
       "    </tr>\n",
       "    <tr>\n",
       "      <th>near_location</th>\n",
       "      <td>0.959406</td>\n",
       "      <td>0.862338</td>\n",
       "      <td>0.000000</td>\n",
       "      <td>1.000000</td>\n",
       "      <td>0.976134</td>\n",
       "    </tr>\n",
       "    <tr>\n",
       "      <th>partner</th>\n",
       "      <td>0.783168</td>\n",
       "      <td>0.470130</td>\n",
       "      <td>0.463366</td>\n",
       "      <td>0.350238</td>\n",
       "      <td>0.356802</td>\n",
       "    </tr>\n",
       "    <tr>\n",
       "      <th>promo_friends</th>\n",
       "      <td>0.574257</td>\n",
       "      <td>0.306494</td>\n",
       "      <td>0.079208</td>\n",
       "      <td>0.240095</td>\n",
       "      <td>0.230310</td>\n",
       "    </tr>\n",
       "    <tr>\n",
       "      <th>phone</th>\n",
       "      <td>1.000000</td>\n",
       "      <td>0.000000</td>\n",
       "      <td>1.000000</td>\n",
       "      <td>1.000000</td>\n",
       "      <td>0.998807</td>\n",
       "    </tr>\n",
       "    <tr>\n",
       "      <th>contract_period</th>\n",
       "      <td>10.889109</td>\n",
       "      <td>4.787013</td>\n",
       "      <td>2.352475</td>\n",
       "      <td>1.948494</td>\n",
       "      <td>2.669451</td>\n",
       "    </tr>\n",
       "    <tr>\n",
       "      <th>group_visits</th>\n",
       "      <td>0.542574</td>\n",
       "      <td>0.425974</td>\n",
       "      <td>0.215842</td>\n",
       "      <td>0.341521</td>\n",
       "      <td>0.473747</td>\n",
       "    </tr>\n",
       "    <tr>\n",
       "      <th>age</th>\n",
       "      <td>29.982178</td>\n",
       "      <td>29.301299</td>\n",
       "      <td>28.477228</td>\n",
       "      <td>28.167987</td>\n",
       "      <td>30.125298</td>\n",
       "    </tr>\n",
       "    <tr>\n",
       "      <th>avg_additional_charges_total</th>\n",
       "      <td>160.761016</td>\n",
       "      <td>143.957664</td>\n",
       "      <td>135.457501</td>\n",
       "      <td>131.622204</td>\n",
       "      <td>161.657905</td>\n",
       "    </tr>\n",
       "    <tr>\n",
       "      <th>month_to_end_contract</th>\n",
       "      <td>9.954455</td>\n",
       "      <td>4.475325</td>\n",
       "      <td>2.198020</td>\n",
       "      <td>1.856577</td>\n",
       "      <td>2.459427</td>\n",
       "    </tr>\n",
       "    <tr>\n",
       "      <th>lifetime</th>\n",
       "      <td>4.736634</td>\n",
       "      <td>3.924675</td>\n",
       "      <td>2.809901</td>\n",
       "      <td>2.440571</td>\n",
       "      <td>4.898568</td>\n",
       "    </tr>\n",
       "    <tr>\n",
       "      <th>avg_class_frequency_total</th>\n",
       "      <td>1.982055</td>\n",
       "      <td>1.847220</td>\n",
       "      <td>1.660461</td>\n",
       "      <td>1.247634</td>\n",
       "      <td>2.852002</td>\n",
       "    </tr>\n",
       "    <tr>\n",
       "      <th>avg_class_frequency_current_month</th>\n",
       "      <td>1.974789</td>\n",
       "      <td>1.716369</td>\n",
       "      <td>1.477324</td>\n",
       "      <td>1.012983</td>\n",
       "      <td>2.850161</td>\n",
       "    </tr>\n",
       "    <tr>\n",
       "      <th>churn</th>\n",
       "      <td>0.027723</td>\n",
       "      <td>0.267532</td>\n",
       "      <td>0.443564</td>\n",
       "      <td>0.514263</td>\n",
       "      <td>0.068019</td>\n",
       "    </tr>\n",
       "  </tbody>\n",
       "</table>\n",
       "</div>"
      ],
      "text/plain": [
       "cluster                                     0           1           2  \\\n",
       "gender                               0.502970    0.522078    0.495050   \n",
       "near_location                        0.959406    0.862338    0.000000   \n",
       "partner                              0.783168    0.470130    0.463366   \n",
       "promo_friends                        0.574257    0.306494    0.079208   \n",
       "phone                                1.000000    0.000000    1.000000   \n",
       "contract_period                     10.889109    4.787013    2.352475   \n",
       "group_visits                         0.542574    0.425974    0.215842   \n",
       "age                                 29.982178   29.301299   28.477228   \n",
       "avg_additional_charges_total       160.761016  143.957664  135.457501   \n",
       "month_to_end_contract                9.954455    4.475325    2.198020   \n",
       "lifetime                             4.736634    3.924675    2.809901   \n",
       "avg_class_frequency_total            1.982055    1.847220    1.660461   \n",
       "avg_class_frequency_current_month    1.974789    1.716369    1.477324   \n",
       "churn                                0.027723    0.267532    0.443564   \n",
       "\n",
       "cluster                                     3           4  \n",
       "gender                               0.485737    0.559666  \n",
       "near_location                        1.000000    0.976134  \n",
       "partner                              0.350238    0.356802  \n",
       "promo_friends                        0.240095    0.230310  \n",
       "phone                                1.000000    0.998807  \n",
       "contract_period                      1.948494    2.669451  \n",
       "group_visits                         0.341521    0.473747  \n",
       "age                                 28.167987   30.125298  \n",
       "avg_additional_charges_total       131.622204  161.657905  \n",
       "month_to_end_contract                1.856577    2.459427  \n",
       "lifetime                             2.440571    4.898568  \n",
       "avg_class_frequency_total            1.247634    2.852002  \n",
       "avg_class_frequency_current_month    1.012983    2.850161  \n",
       "churn                                0.514263    0.068019  "
      ]
     },
     "execution_count": 21,
     "metadata": {},
     "output_type": "execute_result"
    }
   ],
   "source": [
    "# выводим статистику по средним значениям наших признаков по кластеру\n",
    "data_mean = data.groupby('cluster').mean().T\n",
    "data_mean"
   ]
  },
  {
   "cell_type": "code",
   "execution_count": 22,
   "metadata": {},
   "outputs": [
    {
     "data": {
      "text/plain": [
       "cluster\n",
       "0    1010\n",
       "1     385\n",
       "2     505\n",
       "3    1262\n",
       "4     838\n",
       "Name: gender, dtype: int64"
      ]
     },
     "execution_count": 22,
     "metadata": {},
     "output_type": "execute_result"
    }
   ],
   "source": [
    "data.groupby(['cluster'])['gender'].count() #посмотрим на количество клиентов в каждом кластере\n",
    "# размеры кластера достаточные для качественных выводов "
   ]
  },
  {
   "cell_type": "markdown",
   "metadata": {},
   "source": [
    "###### Сразу отметим, \n",
    "- самые склонные к оттоку 2 и 3 кластер (0.44 и 0.51 соответственно) = 505+1262 = 1767 клиентов\n",
    "- самые надежные - это кластеры 0 и 4 - 1010 + 838 = 1848 клиентов \n",
    "- кластер 3 самый многочисленный и самый склонный к оттоку и самый молодой, кстати)\n",
    "\n",
    "Кластер 0 - (Стабильные)\n",
    "- количество клиентов 1010\n",
    "- отток самый низкий - 2,77%\n",
    "- локация близкая - почти единица - 0,95\n",
    "- партнеры и промокоды самые высокие значения из всех кластеров\n",
    "- ходят на групповые занятия (0,54)\n",
    "- заключен контаркт на 12 месяцев\n",
    "- и заниматься еще 10 месяцев)\n",
    "\n",
    "Кластер 1 - (Не оставляющие телефоны)\n",
    "- количество клиентов 385\n",
    "- доля оттока - 26%\n",
    "- локация близкая - 0,86\n",
    "- партнеры меньше почти в два раза чем в Кластере 0\n",
    "- заключен контаркт на 4,7 месяцев (т.е. 1 или 6 месяцев)\n",
    "- и заниматся еще в среднем 4,5 месяца\n",
    "\n",
    "Кластер 2 - (Не с нашего двора)\n",
    "- количество 505\n",
    "- доля оттока - 44%\n",
    "- локация - значение 0 - близко не живут\n",
    "- партнеры меньше почти в два раза чем в Кластере 0\n",
    "- заключен контаркт на 2,35 месяцев (т.е. 1 или 6 месяцев)\n",
    "- заниматся еще в среднем 2,19 месяца\n",
    "\n",
    "Кластер 3 - (Молодые и горячие)\n",
    "- количество 1262 (самый многочисленный)\n",
    "- доля оттока - 51% (самый высокий показатель)\n",
    "- локация = 1 - все близко \n",
    "- партнеры меньше в два раза чем в Кластере 0\n",
    "- заключен контаркт на 1,94 месяцев (т.е. 1 или 6 месяцев, преобладают с 1 месяцем)\n",
    "- заниматся еще в среднем 1,85 месяца\n",
    "- самая молодая группа (28,16 лет)\n",
    "- ходят реже всех групп раз в неделю\n",
    "\n",
    "Кластер 4 - (Близкие и частые)\n",
    "- количество 838\n",
    "- доля оттока маленькая - 6,8% \n",
    "- локация = 1 - все близко \n",
    "- партнеры меньше в два раза чем в Кластере 0\n",
    "- заключен контаркт на 2,66 месяцев (т.е. 1 или 6 месяцев)\n",
    "- заниматся еще в среднем 2,45 месяца\n",
    "- ходят чаще всех групп - 2,85 раза в неделю"
   ]
  },
  {
   "cell_type": "code",
   "execution_count": 23,
   "metadata": {
    "scrolled": true
   },
   "outputs": [
    {
     "data": {
      "image/png": "[encoded data removed]",
      "text/plain": [
       "<Figure size 720x360 with 1 Axes>"
      ]
     },
     "metadata": {
      "needs_background": "light"
     },
     "output_type": "display_data"
    },
    {
     "data": {
      "image/png": "[encoded data removed]",
      "text/plain": [
       "<Figure size 720x360 with 1 Axes>"
      ]
     },
     "metadata": {
      "needs_background": "light"
     },
     "output_type": "display_data"
    },
    {
     "data": {
      "image/png": "[encoded data removed]",
      "text/plain": [
       "<Figure size 720x360 with 1 Axes>"
      ]
     },
     "metadata": {
      "needs_background": "light"
     },
     "output_type": "display_data"
    },
    {
     "data": {
      "image/png": "[encoded data removed]",
      "text/plain": [
       "<Figure size 720x360 with 1 Axes>"
      ]
     },
     "metadata": {
      "needs_background": "light"
     },
     "output_type": "display_data"
    },
    {
     "data": {
      "image/png": "[encoded data removed]",
      "text/plain": [
       "<Figure size 720x360 with 1 Axes>"
      ]
     },
     "metadata": {
      "needs_background": "light"
     },
     "output_type": "display_data"
    },
    {
     "data": {
      "image/png": "[encoded data removed]",
      "text/plain": [
       "<Figure size 720x360 with 1 Axes>"
      ]
     },
     "metadata": {
      "needs_background": "light"
     },
     "output_type": "display_data"
    },
    {
     "data": {
      "image/png": "[encoded data removed]",
      "text/plain": [
       "<Figure size 720x360 with 1 Axes>"
      ]
     },
     "metadata": {
      "needs_background": "light"
     },
     "output_type": "display_data"
    },
    {
     "data": {
      "image/png": "[encoded data removed]",
      "text/plain": [
       "<Figure size 720x360 with 1 Axes>"
      ]
     },
     "metadata": {
      "needs_background": "light"
     },
     "output_type": "display_data"
    },
    {
     "data": {
      "image/png": "[encoded data removed]",
      "text/plain": [
       "<Figure size 720x360 with 1 Axes>"
      ]
     },
     "metadata": {
      "needs_background": "light"
     },
     "output_type": "display_data"
    },
    {
     "data": {
      "image/png": "[encoded data removed]",
      "text/plain": [
       "<Figure size 720x360 with 1 Axes>"
      ]
     },
     "metadata": {
      "needs_background": "light"
     },
     "output_type": "display_data"
    },
    {
     "data": {
      "image/png": "[encoded data removed]",
      "text/plain": [
       "<Figure size 720x360 with 1 Axes>"
      ]
     },
     "metadata": {
      "needs_background": "light"
     },
     "output_type": "display_data"
    },
    {
     "data": {
      "image/png": "[encoded data removed]",
      "text/plain": [
       "<Figure size 720x360 with 1 Axes>"
      ]
     },
     "metadata": {
      "needs_background": "light"
     },
     "output_type": "display_data"
    },
    {
     "data": {
      "image/png": "[encoded data removed]",
      "text/plain": [
       "<Figure size 720x360 with 1 Axes>"
      ]
     },
     "metadata": {
      "needs_background": "light"
     },
     "output_type": "display_data"
    },
    {
     "data": {
      "image/png": "[encoded data removed]",
      "text/plain": [
       "<Figure size 720x360 with 1 Axes>"
      ]
     },
     "metadata": {
      "needs_background": "light"
     },
     "output_type": "display_data"
    },
    {
     "data": {
      "image/png": "[encoded data removed]",
      "text/plain": [
       "<Figure size 720x360 with 1 Axes>"
      ]
     },
     "metadata": {
      "needs_background": "light"
     },
     "output_type": "display_data"
    }
   ],
   "source": [
    "for col in data.columns:\n",
    "    plt.figure(figsize=(10, 5))\n",
    "    sns.histplot(data=data, x=col, hue='cluster', multiple='dodge', color='result')\n",
    "    plt.show()    "
   ]
  },
  {
   "cell_type": "markdown",
   "metadata": {},
   "source": [
    "Выводы по графикам: (напомним, надежные кластеры - 0 и 4) и (2 и 3 кластеры склонны к оттоку)\n",
    "- по полу приблизительно одинаковое распределение\n",
    "- по локации выделяется кластер 2, где все живут и работают не рядом.\n",
    "- партнерские программы хорошо себя показали, почти 50 % клиентов ими пользуются, активно в кластере 0.\n",
    "- промо коды менее популярны чем приход клиента как партнер, но промокоды также популярны в кластере 0. \n",
    "- по длительности абонемента выделяется кластер 0 с абонементом на год. И кластер 3 с абонементом на 1 мес. 6 мес. абонементы приблизительно ровное количество в каждом кластере\n",
    "- групповые программы популярны в 0, 3 и 4 кластерах\n",
    "- интересно распределение по возрасту. Пик кластера 0 находится на 31 год, а пик кластера 3 смещен влево и составляет 28 лет\n",
    "- примечательно, что 0 и 4 кластер стабильно тратятся на допуслуги.\n",
    "- по количеству месяцев до конца выделяем кластер 0 и 4, им осталось 6 и 12 месяцев.\n",
    "- в среднем с фитнесом знакомы 2-3 месяца. И кластер 3 - пиковое значение 1 месяц\n",
    "- по частоте посещения кластер 0 и 4 ходит 2-3 раза в неделю. Кластер 3 пиковое количество 1-2 раза в неделю. "
   ]
  },
  {
   "cell_type": "markdown",
   "metadata": {},
   "source": [
    "## Выводы и рекомендации по работе с клиентами"
   ]
  },
  {
   "cell_type": "markdown",
   "metadata": {},
   "source": [
    "Вывод: \n",
    "- надежный и желанный клиент фитнесс-центра - это рядом живущий или работающий человек тридцатилетнего возраста, любого пола, привлеченный по партнерской программе и (или) по промокоду от друга, любит групповые занятий, посещает клуб 2-3 раза в неделю, и с абонементом на 1 год. \n",
    "\n",
    "Рекомендации: \n",
    "- продолжать работать, и использовать те активности что уже имеются\n",
    "- рассмотреть возможность расширить виды партнерских программы и промокодов\n",
    "- рассмотреть возможность увеличить виды групповых занятий, это заинтересует новые группы клиентов\n",
    "- делать акцент на развитие уютной клубной атмосферы, чтобы повысить среднюю частоту посещения клуба\n",
    "- рассмотреть возможность абонемента на 3 месяца, в дополнение к имеющимся.\n",
    "- делать привлекающие активности (рассылки, смс, промокоды для бывших клиентов) для ушедших клиентов, т.к. самые молодые (28 лет и младше) являются кандидатами на уход, но возможно через пару лет заходят вернутся в знакомый им клуб, и станут самыми стабильными клиентами. "
   ]
  },
  {
   "cell_type": "code",
   "execution_count": null,
   "metadata": {},
   "outputs": [],
   "source": []
  }
 ],
 "metadata": {
  "ExecuteTimeLog": [
   {
    "duration": 422,
    "start_time": "2022-07-06T19:19:49.190Z"
   },
   {
    "duration": 141,
    "start_time": "2022-07-06T19:20:11.824Z"
   },
   {
    "duration": 12,
    "start_time": "2022-07-06T19:20:18.880Z"
   },
   {
    "duration": 20,
    "start_time": "2022-07-06T19:26:20.040Z"
   },
   {
    "duration": 2,
    "start_time": "2022-07-06T19:36:09.892Z"
   },
   {
    "duration": 341,
    "start_time": "2022-07-06T19:38:19.660Z"
   },
   {
    "duration": 34,
    "start_time": "2022-07-06T19:38:20.002Z"
   },
   {
    "duration": 12,
    "start_time": "2022-07-06T19:38:20.038Z"
   },
   {
    "duration": 24,
    "start_time": "2022-07-06T19:38:20.052Z"
   },
   {
    "duration": 16,
    "start_time": "2022-07-06T19:42:27.711Z"
   },
   {
    "duration": 367,
    "start_time": "2022-07-06T20:02:27.659Z"
   },
   {
    "duration": 34,
    "start_time": "2022-07-06T20:02:28.028Z"
   },
   {
    "duration": 13,
    "start_time": "2022-07-06T20:02:28.064Z"
   },
   {
    "duration": 30,
    "start_time": "2022-07-06T20:02:28.080Z"
   },
   {
    "duration": 45,
    "start_time": "2022-07-07T05:49:51.144Z"
   },
   {
    "duration": 378,
    "start_time": "2022-07-07T05:49:56.885Z"
   },
   {
    "duration": 43,
    "start_time": "2022-07-07T05:49:57.265Z"
   },
   {
    "duration": 12,
    "start_time": "2022-07-07T05:49:57.309Z"
   },
   {
    "duration": 23,
    "start_time": "2022-07-07T05:49:57.323Z"
   },
   {
    "duration": 42,
    "start_time": "2022-07-07T05:49:57.347Z"
   },
   {
    "duration": 70,
    "start_time": "2022-07-07T07:00:46.862Z"
   },
   {
    "duration": 77,
    "start_time": "2022-07-07T07:01:03.707Z"
   },
   {
    "duration": 8,
    "start_time": "2022-07-07T07:08:01.317Z"
   },
   {
    "duration": 5,
    "start_time": "2022-07-07T07:09:26.657Z"
   },
   {
    "duration": 2,
    "start_time": "2022-07-07T07:09:37.464Z"
   },
   {
    "duration": 5,
    "start_time": "2022-07-07T07:09:41.704Z"
   },
   {
    "duration": 4,
    "start_time": "2022-07-07T07:09:55.549Z"
   },
   {
    "duration": 78,
    "start_time": "2022-07-07T07:10:07.869Z"
   },
   {
    "duration": 9,
    "start_time": "2022-07-07T07:12:00.838Z"
   },
   {
    "duration": 456,
    "start_time": "2022-07-07T07:12:09.519Z"
   },
   {
    "duration": 21,
    "start_time": "2022-07-07T07:12:09.978Z"
   },
   {
    "duration": 13,
    "start_time": "2022-07-07T07:12:10.000Z"
   },
   {
    "duration": 23,
    "start_time": "2022-07-07T07:12:10.015Z"
   },
   {
    "duration": 60,
    "start_time": "2022-07-07T07:12:10.040Z"
   },
   {
    "duration": 88,
    "start_time": "2022-07-07T07:12:10.102Z"
   },
   {
    "duration": 84,
    "start_time": "2022-07-07T07:12:10.192Z"
   },
   {
    "duration": 68,
    "start_time": "2022-07-07T07:12:10.277Z"
   },
   {
    "duration": 350,
    "start_time": "2022-07-07T07:12:34.616Z"
   },
   {
    "duration": 21,
    "start_time": "2022-07-07T07:12:34.969Z"
   },
   {
    "duration": 15,
    "start_time": "2022-07-07T07:12:34.992Z"
   },
   {
    "duration": 24,
    "start_time": "2022-07-07T07:12:35.010Z"
   },
   {
    "duration": 69,
    "start_time": "2022-07-07T07:12:35.036Z"
   },
   {
    "duration": 91,
    "start_time": "2022-07-07T07:12:35.107Z"
   },
   {
    "duration": 101,
    "start_time": "2022-07-07T07:12:35.199Z"
   },
   {
    "duration": 85,
    "start_time": "2022-07-07T07:12:35.302Z"
   },
   {
    "duration": 1338,
    "start_time": "2022-07-07T07:13:14.231Z"
   },
   {
    "duration": 22,
    "start_time": "2022-07-07T07:13:15.570Z"
   },
   {
    "duration": 13,
    "start_time": "2022-07-07T07:13:15.593Z"
   },
   {
    "duration": 19,
    "start_time": "2022-07-07T07:13:15.608Z"
   },
   {
    "duration": 57,
    "start_time": "2022-07-07T07:13:15.630Z"
   },
   {
    "duration": 92,
    "start_time": "2022-07-07T07:13:15.689Z"
   },
   {
    "duration": 87,
    "start_time": "2022-07-07T07:13:15.784Z"
   },
   {
    "duration": 102,
    "start_time": "2022-07-07T07:13:15.873Z"
   },
   {
    "duration": 1105,
    "start_time": "2022-07-07T07:13:47.784Z"
   },
   {
    "duration": 20,
    "start_time": "2022-07-07T07:13:48.891Z"
   },
   {
    "duration": 11,
    "start_time": "2022-07-07T07:13:48.913Z"
   },
   {
    "duration": 22,
    "start_time": "2022-07-07T07:13:48.926Z"
   },
   {
    "duration": 50,
    "start_time": "2022-07-07T07:13:48.950Z"
   },
   {
    "duration": 86,
    "start_time": "2022-07-07T07:13:49.002Z"
   },
   {
    "duration": 80,
    "start_time": "2022-07-07T07:13:49.089Z"
   },
   {
    "duration": 110,
    "start_time": "2022-07-07T07:13:49.171Z"
   },
   {
    "duration": 3922,
    "start_time": "2022-07-07T07:14:03.763Z"
   },
   {
    "duration": 3763,
    "start_time": "2022-07-07T07:14:37.064Z"
   },
   {
    "duration": 19,
    "start_time": "2022-07-07T07:46:47.046Z"
   },
   {
    "duration": 19,
    "start_time": "2022-07-07T07:56:43.185Z"
   },
   {
    "duration": 13,
    "start_time": "2022-07-07T08:04:15.146Z"
   },
   {
    "duration": 3132,
    "start_time": "2022-07-07T09:19:29.774Z"
   },
   {
    "duration": 35,
    "start_time": "2022-07-07T09:19:32.909Z"
   },
   {
    "duration": 15,
    "start_time": "2022-07-07T09:19:32.947Z"
   },
   {
    "duration": 20,
    "start_time": "2022-07-07T09:19:32.964Z"
   },
   {
    "duration": 52,
    "start_time": "2022-07-07T09:19:32.985Z"
   },
   {
    "duration": 153,
    "start_time": "2022-07-07T09:19:33.039Z"
   },
   {
    "duration": 4129,
    "start_time": "2022-07-07T09:19:33.195Z"
   },
   {
    "duration": 60,
    "start_time": "2022-07-07T09:19:37.326Z"
   },
   {
    "duration": 10,
    "start_time": "2022-07-07T09:23:11.629Z"
   },
   {
    "duration": 1162,
    "start_time": "2022-07-07T09:24:16.779Z"
   },
   {
    "duration": 23,
    "start_time": "2022-07-07T09:24:17.944Z"
   },
   {
    "duration": 15,
    "start_time": "2022-07-07T09:24:17.969Z"
   },
   {
    "duration": 24,
    "start_time": "2022-07-07T09:24:17.987Z"
   },
   {
    "duration": 79,
    "start_time": "2022-07-07T09:24:18.013Z"
   },
   {
    "duration": 131,
    "start_time": "2022-07-07T09:24:18.094Z"
   },
   {
    "duration": 4434,
    "start_time": "2022-07-07T09:24:18.227Z"
   },
   {
    "duration": 8,
    "start_time": "2022-07-07T09:24:22.663Z"
   },
   {
    "duration": 1835,
    "start_time": "2022-07-07T09:24:22.674Z"
   },
   {
    "duration": 0,
    "start_time": "2022-07-07T09:24:24.511Z"
   },
   {
    "duration": 1262,
    "start_time": "2022-07-07T09:24:57.095Z"
   },
   {
    "duration": 22,
    "start_time": "2022-07-07T09:24:58.359Z"
   },
   {
    "duration": 25,
    "start_time": "2022-07-07T09:24:58.383Z"
   },
   {
    "duration": 19,
    "start_time": "2022-07-07T09:24:58.410Z"
   },
   {
    "duration": 85,
    "start_time": "2022-07-07T09:24:58.432Z"
   },
   {
    "duration": 125,
    "start_time": "2022-07-07T09:24:58.519Z"
   },
   {
    "duration": 4457,
    "start_time": "2022-07-07T09:24:58.646Z"
   },
   {
    "duration": 131,
    "start_time": "2022-07-07T09:25:03.105Z"
   },
   {
    "duration": 1766,
    "start_time": "2022-07-07T09:25:03.238Z"
   },
   {
    "duration": 1440,
    "start_time": "2022-07-07T09:27:32.189Z"
   },
   {
    "duration": 1474,
    "start_time": "2022-07-07T09:27:43.848Z"
   },
   {
    "duration": 25,
    "start_time": "2022-07-07T09:31:00.599Z"
   },
   {
    "duration": 1114,
    "start_time": "2022-07-07T09:31:36.776Z"
   },
   {
    "duration": 21,
    "start_time": "2022-07-07T09:31:37.892Z"
   },
   {
    "duration": 13,
    "start_time": "2022-07-07T09:31:37.915Z"
   },
   {
    "duration": 18,
    "start_time": "2022-07-07T09:31:37.930Z"
   },
   {
    "duration": 71,
    "start_time": "2022-07-07T09:31:37.950Z"
   },
   {
    "duration": 111,
    "start_time": "2022-07-07T09:31:38.023Z"
   },
   {
    "duration": 3981,
    "start_time": "2022-07-07T09:31:38.135Z"
   },
   {
    "duration": 42,
    "start_time": "2022-07-07T09:31:42.119Z"
   },
   {
    "duration": 1553,
    "start_time": "2022-07-07T09:31:42.163Z"
   },
   {
    "duration": 48,
    "start_time": "2022-07-07T09:47:39.041Z"
   },
   {
    "duration": 1160,
    "start_time": "2022-07-07T10:24:19.253Z"
   },
   {
    "duration": 22,
    "start_time": "2022-07-07T10:24:20.415Z"
   },
   {
    "duration": 13,
    "start_time": "2022-07-07T10:24:20.439Z"
   },
   {
    "duration": 35,
    "start_time": "2022-07-07T10:24:20.455Z"
   },
   {
    "duration": 52,
    "start_time": "2022-07-07T10:24:20.492Z"
   },
   {
    "duration": 83,
    "start_time": "2022-07-07T10:24:20.545Z"
   },
   {
    "duration": 3998,
    "start_time": "2022-07-07T10:24:20.629Z"
   },
   {
    "duration": 34,
    "start_time": "2022-07-07T10:24:24.629Z"
   },
   {
    "duration": 1593,
    "start_time": "2022-07-07T10:24:24.667Z"
   },
   {
    "duration": 1609,
    "start_time": "2022-07-07T10:24:26.264Z"
   },
   {
    "duration": 0,
    "start_time": "2022-07-07T10:24:27.879Z"
   },
   {
    "duration": 1256,
    "start_time": "2022-07-07T15:57:33.033Z"
   },
   {
    "duration": 50,
    "start_time": "2022-07-07T15:57:34.291Z"
   },
   {
    "duration": 11,
    "start_time": "2022-07-07T15:57:34.343Z"
   },
   {
    "duration": 16,
    "start_time": "2022-07-07T15:57:34.355Z"
   },
   {
    "duration": 51,
    "start_time": "2022-07-07T15:57:34.373Z"
   },
   {
    "duration": 104,
    "start_time": "2022-07-07T15:57:34.426Z"
   },
   {
    "duration": 3383,
    "start_time": "2022-07-07T15:57:34.532Z"
   },
   {
    "duration": 26,
    "start_time": "2022-07-07T15:57:37.917Z"
   },
   {
    "duration": 1392,
    "start_time": "2022-07-07T15:57:37.945Z"
   },
   {
    "duration": 1317,
    "start_time": "2022-07-07T15:57:39.338Z"
   },
   {
    "duration": 0,
    "start_time": "2022-07-07T15:57:40.657Z"
   },
   {
    "duration": 104,
    "start_time": "2022-07-07T15:58:04.943Z"
   },
   {
    "duration": 1094,
    "start_time": "2022-07-07T16:01:07.028Z"
   },
   {
    "duration": 20,
    "start_time": "2022-07-07T16:01:08.124Z"
   },
   {
    "duration": 11,
    "start_time": "2022-07-07T16:01:08.145Z"
   },
   {
    "duration": 17,
    "start_time": "2022-07-07T16:01:08.157Z"
   },
   {
    "duration": 41,
    "start_time": "2022-07-07T16:01:08.177Z"
   },
   {
    "duration": 84,
    "start_time": "2022-07-07T16:01:08.220Z"
   },
   {
    "duration": 3528,
    "start_time": "2022-07-07T16:01:08.306Z"
   },
   {
    "duration": 90,
    "start_time": "2022-07-07T16:01:11.836Z"
   },
   {
    "duration": 2,
    "start_time": "2022-07-07T16:01:11.928Z"
   },
   {
    "duration": 86,
    "start_time": "2022-07-07T16:01:11.941Z"
   },
   {
    "duration": 0,
    "start_time": "2022-07-07T16:01:12.029Z"
   },
   {
    "duration": 1327,
    "start_time": "2022-07-07T16:01:22.294Z"
   },
   {
    "duration": 82,
    "start_time": "2022-07-07T16:01:58.875Z"
   },
   {
    "duration": 3,
    "start_time": "2022-07-07T16:02:09.019Z"
   },
   {
    "duration": 1239,
    "start_time": "2022-07-07T16:02:13.748Z"
   },
   {
    "duration": 1223,
    "start_time": "2022-07-07T16:02:24.173Z"
   },
   {
    "duration": 1296,
    "start_time": "2022-07-07T16:02:38.176Z"
   },
   {
    "duration": 1226,
    "start_time": "2022-07-07T16:03:38.976Z"
   },
   {
    "duration": 1251,
    "start_time": "2022-07-07T16:03:49.904Z"
   },
   {
    "duration": 1097,
    "start_time": "2022-07-07T16:05:10.631Z"
   },
   {
    "duration": 19,
    "start_time": "2022-07-07T16:05:11.730Z"
   },
   {
    "duration": 11,
    "start_time": "2022-07-07T16:05:11.750Z"
   },
   {
    "duration": 19,
    "start_time": "2022-07-07T16:05:11.762Z"
   },
   {
    "duration": 60,
    "start_time": "2022-07-07T16:05:11.783Z"
   },
   {
    "duration": 70,
    "start_time": "2022-07-07T16:05:11.845Z"
   },
   {
    "duration": 3416,
    "start_time": "2022-07-07T16:05:11.916Z"
   },
   {
    "duration": 1362,
    "start_time": "2022-07-07T16:05:15.335Z"
   },
   {
    "duration": 56,
    "start_time": "2022-07-07T16:05:16.698Z"
   },
   {
    "duration": 99,
    "start_time": "2022-07-07T16:17:49.699Z"
   },
   {
    "duration": 21,
    "start_time": "2022-07-07T16:31:30.814Z"
   },
   {
    "duration": 1115,
    "start_time": "2022-07-07T16:31:44.324Z"
   },
   {
    "duration": 25,
    "start_time": "2022-07-07T16:31:45.441Z"
   },
   {
    "duration": 11,
    "start_time": "2022-07-07T16:31:45.467Z"
   },
   {
    "duration": 14,
    "start_time": "2022-07-07T16:31:45.479Z"
   },
   {
    "duration": 40,
    "start_time": "2022-07-07T16:31:45.495Z"
   },
   {
    "duration": 77,
    "start_time": "2022-07-07T16:31:45.543Z"
   },
   {
    "duration": 108,
    "start_time": "2022-07-07T16:31:45.621Z"
   },
   {
    "duration": 0,
    "start_time": "2022-07-07T16:31:45.730Z"
   },
   {
    "duration": 0,
    "start_time": "2022-07-07T16:31:45.731Z"
   },
   {
    "duration": 0,
    "start_time": "2022-07-07T16:31:45.733Z"
   },
   {
    "duration": 0,
    "start_time": "2022-07-07T16:31:45.734Z"
   },
   {
    "duration": 1062,
    "start_time": "2022-07-07T16:32:01.478Z"
   },
   {
    "duration": 24,
    "start_time": "2022-07-07T16:32:02.541Z"
   },
   {
    "duration": 9,
    "start_time": "2022-07-07T16:32:02.567Z"
   },
   {
    "duration": 15,
    "start_time": "2022-07-07T16:32:02.579Z"
   },
   {
    "duration": 52,
    "start_time": "2022-07-07T16:32:02.595Z"
   },
   {
    "duration": 75,
    "start_time": "2022-07-07T16:32:02.653Z"
   },
   {
    "duration": 118,
    "start_time": "2022-07-07T16:32:02.729Z"
   },
   {
    "duration": 0,
    "start_time": "2022-07-07T16:32:02.853Z"
   },
   {
    "duration": 0,
    "start_time": "2022-07-07T16:32:02.854Z"
   },
   {
    "duration": 0,
    "start_time": "2022-07-07T16:32:02.855Z"
   },
   {
    "duration": 0,
    "start_time": "2022-07-07T16:32:02.856Z"
   },
   {
    "duration": 11,
    "start_time": "2022-07-07T16:33:25.483Z"
   },
   {
    "duration": 10,
    "start_time": "2022-07-07T16:33:42.493Z"
   },
   {
    "duration": 1037,
    "start_time": "2022-07-07T16:34:16.204Z"
   },
   {
    "duration": 25,
    "start_time": "2022-07-07T16:34:17.245Z"
   },
   {
    "duration": 12,
    "start_time": "2022-07-07T16:34:17.271Z"
   },
   {
    "duration": 16,
    "start_time": "2022-07-07T16:34:17.284Z"
   },
   {
    "duration": 52,
    "start_time": "2022-07-07T16:34:17.301Z"
   },
   {
    "duration": 71,
    "start_time": "2022-07-07T16:34:17.355Z"
   },
   {
    "duration": 105,
    "start_time": "2022-07-07T16:34:17.427Z"
   },
   {
    "duration": 0,
    "start_time": "2022-07-07T16:34:17.533Z"
   },
   {
    "duration": 0,
    "start_time": "2022-07-07T16:34:17.534Z"
   },
   {
    "duration": 3722,
    "start_time": "2022-07-07T16:35:49.830Z"
   },
   {
    "duration": 1091,
    "start_time": "2022-07-07T16:41:07.139Z"
   },
   {
    "duration": 53,
    "start_time": "2022-07-07T16:41:08.232Z"
   },
   {
    "duration": 11,
    "start_time": "2022-07-07T16:41:08.286Z"
   },
   {
    "duration": 14,
    "start_time": "2022-07-07T16:41:08.298Z"
   },
   {
    "duration": 45,
    "start_time": "2022-07-07T16:41:08.313Z"
   },
   {
    "duration": 69,
    "start_time": "2022-07-07T16:41:08.360Z"
   },
   {
    "duration": 105,
    "start_time": "2022-07-07T16:41:08.430Z"
   },
   {
    "duration": 0,
    "start_time": "2022-07-07T16:41:08.544Z"
   },
   {
    "duration": 0,
    "start_time": "2022-07-07T16:41:08.545Z"
   },
   {
    "duration": 12,
    "start_time": "2022-07-07T16:42:05.373Z"
   },
   {
    "duration": 12,
    "start_time": "2022-07-07T16:48:40.035Z"
   },
   {
    "duration": 15,
    "start_time": "2022-07-07T16:49:04.569Z"
   },
   {
    "duration": 11,
    "start_time": "2022-07-07T16:49:56.719Z"
   },
   {
    "duration": 2058,
    "start_time": "2022-07-07T16:55:51.945Z"
   },
   {
    "duration": 221465,
    "start_time": "2022-07-07T16:58:43.412Z"
   },
   {
    "duration": 229,
    "start_time": "2022-07-07T17:05:39.431Z"
   },
   {
    "duration": 3622,
    "start_time": "2022-07-07T17:08:02.848Z"
   },
   {
    "duration": 4442,
    "start_time": "2022-07-07T17:08:27.513Z"
   },
   {
    "duration": 3605,
    "start_time": "2022-07-07T17:08:50.814Z"
   },
   {
    "duration": 1105,
    "start_time": "2022-07-07T17:09:07.977Z"
   },
   {
    "duration": 25,
    "start_time": "2022-07-07T17:09:09.084Z"
   },
   {
    "duration": 17,
    "start_time": "2022-07-07T17:09:09.111Z"
   },
   {
    "duration": 27,
    "start_time": "2022-07-07T17:09:09.131Z"
   },
   {
    "duration": 42,
    "start_time": "2022-07-07T17:09:09.159Z"
   },
   {
    "duration": 85,
    "start_time": "2022-07-07T17:09:09.202Z"
   },
   {
    "duration": 3486,
    "start_time": "2022-07-07T17:09:09.288Z"
   },
   {
    "duration": 21,
    "start_time": "2022-07-07T17:09:12.776Z"
   },
   {
    "duration": 1511,
    "start_time": "2022-07-07T17:09:12.798Z"
   },
   {
    "duration": 3376,
    "start_time": "2022-07-07T17:09:35.683Z"
   },
   {
    "duration": 3876,
    "start_time": "2022-07-07T17:13:47.984Z"
   },
   {
    "duration": 17,
    "start_time": "2022-07-07T17:23:05.450Z"
   },
   {
    "duration": 10,
    "start_time": "2022-07-07T17:25:28.482Z"
   },
   {
    "duration": 93,
    "start_time": "2022-07-07T17:27:06.708Z"
   },
   {
    "duration": 1048,
    "start_time": "2022-07-07T17:27:17.771Z"
   },
   {
    "duration": 20,
    "start_time": "2022-07-07T17:27:18.821Z"
   },
   {
    "duration": 11,
    "start_time": "2022-07-07T17:27:18.842Z"
   },
   {
    "duration": 18,
    "start_time": "2022-07-07T17:27:18.855Z"
   },
   {
    "duration": 9,
    "start_time": "2022-07-07T17:27:18.874Z"
   },
   {
    "duration": 59,
    "start_time": "2022-07-07T17:27:18.885Z"
   },
   {
    "duration": 74,
    "start_time": "2022-07-07T17:27:18.946Z"
   },
   {
    "duration": 30,
    "start_time": "2022-07-07T17:27:19.022Z"
   },
   {
    "duration": 100,
    "start_time": "2022-07-07T17:27:19.054Z"
   },
   {
    "duration": 0,
    "start_time": "2022-07-07T17:27:19.156Z"
   },
   {
    "duration": 0,
    "start_time": "2022-07-07T17:27:19.158Z"
   },
   {
    "duration": 0,
    "start_time": "2022-07-07T17:27:19.159Z"
   },
   {
    "duration": 0,
    "start_time": "2022-07-07T17:27:19.160Z"
   },
   {
    "duration": 49,
    "start_time": "2022-07-07T19:21:51.242Z"
   },
   {
    "duration": 1251,
    "start_time": "2022-07-07T19:22:00.198Z"
   },
   {
    "duration": 140,
    "start_time": "2022-07-07T19:22:01.451Z"
   },
   {
    "duration": 14,
    "start_time": "2022-07-07T19:22:01.593Z"
   },
   {
    "duration": 27,
    "start_time": "2022-07-07T19:22:01.608Z"
   },
   {
    "duration": 11,
    "start_time": "2022-07-07T19:22:01.638Z"
   },
   {
    "duration": 50,
    "start_time": "2022-07-07T19:22:01.651Z"
   },
   {
    "duration": 21,
    "start_time": "2022-07-07T19:22:01.703Z"
   },
   {
    "duration": 128,
    "start_time": "2022-07-07T19:22:01.726Z"
   },
   {
    "duration": 0,
    "start_time": "2022-07-07T19:22:01.855Z"
   },
   {
    "duration": 0,
    "start_time": "2022-07-07T19:22:01.857Z"
   },
   {
    "duration": 0,
    "start_time": "2022-07-07T19:22:01.858Z"
   },
   {
    "duration": 0,
    "start_time": "2022-07-07T19:22:01.859Z"
   },
   {
    "duration": 10,
    "start_time": "2022-07-07T19:22:35.136Z"
   },
   {
    "duration": 3799,
    "start_time": "2022-07-07T19:22:44.719Z"
   },
   {
    "duration": 3457,
    "start_time": "2022-07-07T19:26:25.803Z"
   },
   {
    "duration": 3489,
    "start_time": "2022-07-07T19:27:03.283Z"
   },
   {
    "duration": 3467,
    "start_time": "2022-07-07T19:27:12.124Z"
   },
   {
    "duration": 1146,
    "start_time": "2022-07-07T19:33:10.822Z"
   },
   {
    "duration": 33,
    "start_time": "2022-07-07T19:33:11.970Z"
   },
   {
    "duration": 13,
    "start_time": "2022-07-07T19:33:12.005Z"
   },
   {
    "duration": 19,
    "start_time": "2022-07-07T19:33:12.020Z"
   },
   {
    "duration": 11,
    "start_time": "2022-07-07T19:33:12.042Z"
   },
   {
    "duration": 47,
    "start_time": "2022-07-07T19:33:12.055Z"
   },
   {
    "duration": 15,
    "start_time": "2022-07-07T19:33:12.103Z"
   },
   {
    "duration": 3538,
    "start_time": "2022-07-07T19:33:12.119Z"
   },
   {
    "duration": 24,
    "start_time": "2022-07-07T19:33:15.659Z"
   },
   {
    "duration": 1714,
    "start_time": "2022-07-07T19:33:15.685Z"
   },
   {
    "duration": 1137,
    "start_time": "2022-07-07T19:34:30.732Z"
   },
   {
    "duration": 32,
    "start_time": "2022-07-07T19:34:31.871Z"
   },
   {
    "duration": 11,
    "start_time": "2022-07-07T19:34:31.905Z"
   },
   {
    "duration": 17,
    "start_time": "2022-07-07T19:34:31.918Z"
   },
   {
    "duration": 8,
    "start_time": "2022-07-07T19:34:31.937Z"
   },
   {
    "duration": 53,
    "start_time": "2022-07-07T19:34:31.947Z"
   },
   {
    "duration": 17,
    "start_time": "2022-07-07T19:34:32.001Z"
   },
   {
    "duration": 3399,
    "start_time": "2022-07-07T19:34:32.020Z"
   },
   {
    "duration": 20,
    "start_time": "2022-07-07T19:34:35.420Z"
   },
   {
    "duration": 1622,
    "start_time": "2022-07-07T19:34:35.441Z"
   },
   {
    "duration": 1461,
    "start_time": "2022-07-08T08:22:17.508Z"
   },
   {
    "duration": 154,
    "start_time": "2022-07-08T08:22:18.971Z"
   },
   {
    "duration": 13,
    "start_time": "2022-07-08T08:22:19.127Z"
   },
   {
    "duration": 18,
    "start_time": "2022-07-08T08:22:19.142Z"
   },
   {
    "duration": 10,
    "start_time": "2022-07-08T08:22:19.162Z"
   },
   {
    "duration": 63,
    "start_time": "2022-07-08T08:22:19.174Z"
   },
   {
    "duration": 17,
    "start_time": "2022-07-08T08:22:19.239Z"
   },
   {
    "duration": 3809,
    "start_time": "2022-07-08T08:22:19.258Z"
   },
   {
    "duration": 41,
    "start_time": "2022-07-08T08:22:23.069Z"
   },
   {
    "duration": 1738,
    "start_time": "2022-07-08T08:22:23.112Z"
   },
   {
    "duration": 87,
    "start_time": "2022-07-08T08:22:24.852Z"
   },
   {
    "duration": 108,
    "start_time": "2022-07-08T08:38:46.991Z"
   },
   {
    "duration": 1482,
    "start_time": "2022-07-08T08:39:13.816Z"
   },
   {
    "duration": 33,
    "start_time": "2022-07-08T08:39:15.301Z"
   },
   {
    "duration": 14,
    "start_time": "2022-07-08T08:39:15.336Z"
   },
   {
    "duration": 19,
    "start_time": "2022-07-08T08:39:15.352Z"
   },
   {
    "duration": 10,
    "start_time": "2022-07-08T08:39:15.373Z"
   },
   {
    "duration": 54,
    "start_time": "2022-07-08T08:39:15.385Z"
   },
   {
    "duration": 18,
    "start_time": "2022-07-08T08:39:15.441Z"
   },
   {
    "duration": 3870,
    "start_time": "2022-07-08T08:39:15.461Z"
   },
   {
    "duration": 33,
    "start_time": "2022-07-08T08:39:19.333Z"
   },
   {
    "duration": 1630,
    "start_time": "2022-07-08T08:39:19.368Z"
   },
   {
    "duration": 5,
    "start_time": "2022-07-08T08:39:21.000Z"
   },
   {
    "duration": 13,
    "start_time": "2022-07-08T08:39:21.006Z"
   },
   {
    "duration": 102,
    "start_time": "2022-07-08T08:39:21.021Z"
   },
   {
    "duration": 115,
    "start_time": "2022-07-08T09:22:44.314Z"
   },
   {
    "duration": 1505,
    "start_time": "2022-07-08T09:23:21.988Z"
   },
   {
    "duration": 34,
    "start_time": "2022-07-08T09:23:23.496Z"
   },
   {
    "duration": 13,
    "start_time": "2022-07-08T09:23:23.532Z"
   },
   {
    "duration": 24,
    "start_time": "2022-07-08T09:23:23.546Z"
   },
   {
    "duration": 10,
    "start_time": "2022-07-08T09:23:23.572Z"
   },
   {
    "duration": 57,
    "start_time": "2022-07-08T09:23:23.584Z"
   },
   {
    "duration": 17,
    "start_time": "2022-07-08T09:23:23.643Z"
   },
   {
    "duration": 4052,
    "start_time": "2022-07-08T09:23:23.662Z"
   },
   {
    "duration": 24,
    "start_time": "2022-07-08T09:23:27.716Z"
   },
   {
    "duration": 1632,
    "start_time": "2022-07-08T09:23:27.742Z"
   },
   {
    "duration": 4,
    "start_time": "2022-07-08T09:23:29.376Z"
   },
   {
    "duration": 10,
    "start_time": "2022-07-08T09:23:29.382Z"
   },
   {
    "duration": 709,
    "start_time": "2022-07-08T09:23:29.394Z"
   },
   {
    "duration": 209,
    "start_time": "2022-07-08T09:23:30.106Z"
   },
   {
    "duration": 0,
    "start_time": "2022-07-08T09:23:30.317Z"
   },
   {
    "duration": 184,
    "start_time": "2022-07-08T09:25:01.814Z"
   },
   {
    "duration": 10,
    "start_time": "2022-07-08T09:36:31.112Z"
   },
   {
    "duration": 1389,
    "start_time": "2022-07-08T09:47:41.040Z"
   },
   {
    "duration": 34,
    "start_time": "2022-07-08T09:47:42.431Z"
   },
   {
    "duration": 13,
    "start_time": "2022-07-08T09:47:42.467Z"
   },
   {
    "duration": 18,
    "start_time": "2022-07-08T09:47:42.481Z"
   },
   {
    "duration": 8,
    "start_time": "2022-07-08T09:47:42.503Z"
   },
   {
    "duration": 47,
    "start_time": "2022-07-08T09:47:42.513Z"
   },
   {
    "duration": 16,
    "start_time": "2022-07-08T09:47:42.562Z"
   },
   {
    "duration": 3880,
    "start_time": "2022-07-08T09:47:42.599Z"
   },
   {
    "duration": 31,
    "start_time": "2022-07-08T09:47:46.481Z"
   },
   {
    "duration": 1603,
    "start_time": "2022-07-08T09:47:46.515Z"
   },
   {
    "duration": 4,
    "start_time": "2022-07-08T09:47:48.119Z"
   },
   {
    "duration": 11,
    "start_time": "2022-07-08T09:47:48.125Z"
   },
   {
    "duration": 1473,
    "start_time": "2022-07-08T09:47:48.138Z"
   },
   {
    "duration": 438,
    "start_time": "2022-07-08T09:47:49.699Z"
   },
   {
    "duration": 66,
    "start_time": "2022-07-08T09:47:50.139Z"
   },
   {
    "duration": 205,
    "start_time": "2022-07-08T09:47:50.207Z"
   },
   {
    "duration": 0,
    "start_time": "2022-07-08T09:47:50.414Z"
   },
   {
    "duration": 0,
    "start_time": "2022-07-08T09:47:50.415Z"
   },
   {
    "duration": 430,
    "start_time": "2022-07-08T09:51:28.469Z"
   },
   {
    "duration": 2009,
    "start_time": "2022-07-08T09:52:10.994Z"
   },
   {
    "duration": 638,
    "start_time": "2022-07-08T09:52:22.565Z"
   },
   {
    "duration": 1102,
    "start_time": "2022-07-08T09:53:50.104Z"
   },
   {
    "duration": 373,
    "start_time": "2022-07-08T09:56:13.039Z"
   },
   {
    "duration": 401,
    "start_time": "2022-07-08T09:56:24.554Z"
   },
   {
    "duration": 1498,
    "start_time": "2022-07-08T11:00:39.245Z"
   },
   {
    "duration": 34,
    "start_time": "2022-07-08T11:00:40.746Z"
   },
   {
    "duration": 13,
    "start_time": "2022-07-08T11:00:40.782Z"
   },
   {
    "duration": 33,
    "start_time": "2022-07-08T11:00:40.800Z"
   },
   {
    "duration": 11,
    "start_time": "2022-07-08T11:00:40.836Z"
   },
   {
    "duration": 56,
    "start_time": "2022-07-08T11:00:40.849Z"
   },
   {
    "duration": 19,
    "start_time": "2022-07-08T11:00:40.907Z"
   },
   {
    "duration": 3924,
    "start_time": "2022-07-08T11:00:40.928Z"
   },
   {
    "duration": 23,
    "start_time": "2022-07-08T11:00:44.855Z"
   },
   {
    "duration": 1631,
    "start_time": "2022-07-08T11:00:44.880Z"
   },
   {
    "duration": 5,
    "start_time": "2022-07-08T11:00:46.513Z"
   },
   {
    "duration": 15,
    "start_time": "2022-07-08T11:00:46.519Z"
   },
   {
    "duration": 1978,
    "start_time": "2022-07-08T11:00:46.536Z"
   },
   {
    "duration": 600,
    "start_time": "2022-07-08T11:00:48.519Z"
   },
   {
    "duration": 131,
    "start_time": "2022-07-08T11:00:49.122Z"
   },
   {
    "duration": 0,
    "start_time": "2022-07-08T11:00:49.254Z"
   },
   {
    "duration": 0,
    "start_time": "2022-07-08T11:00:49.255Z"
   },
   {
    "duration": 12,
    "start_time": "2022-07-08T11:08:00.154Z"
   },
   {
    "duration": 1529,
    "start_time": "2022-07-08T11:08:30.983Z"
   },
   {
    "duration": 34,
    "start_time": "2022-07-08T11:08:32.517Z"
   },
   {
    "duration": 14,
    "start_time": "2022-07-08T11:08:32.552Z"
   },
   {
    "duration": 18,
    "start_time": "2022-07-08T11:08:32.569Z"
   },
   {
    "duration": 25,
    "start_time": "2022-07-08T11:08:32.589Z"
   },
   {
    "duration": 51,
    "start_time": "2022-07-08T11:08:32.615Z"
   },
   {
    "duration": 18,
    "start_time": "2022-07-08T11:08:32.668Z"
   },
   {
    "duration": 4192,
    "start_time": "2022-07-08T11:08:32.698Z"
   },
   {
    "duration": 38,
    "start_time": "2022-07-08T11:08:36.892Z"
   },
   {
    "duration": 1708,
    "start_time": "2022-07-08T11:08:36.934Z"
   },
   {
    "duration": 4,
    "start_time": "2022-07-08T11:08:38.644Z"
   },
   {
    "duration": 11,
    "start_time": "2022-07-08T11:08:38.650Z"
   },
   {
    "duration": 7855,
    "start_time": "2022-07-08T11:08:38.662Z"
   },
   {
    "duration": 665,
    "start_time": "2022-07-08T11:08:46.519Z"
   },
   {
    "duration": 136,
    "start_time": "2022-07-08T11:08:47.186Z"
   },
   {
    "duration": 0,
    "start_time": "2022-07-08T11:08:47.323Z"
   },
   {
    "duration": 0,
    "start_time": "2022-07-08T11:08:47.325Z"
   },
   {
    "duration": 0,
    "start_time": "2022-07-08T11:08:47.326Z"
   },
   {
    "duration": 11,
    "start_time": "2022-07-08T11:09:56.348Z"
   },
   {
    "duration": 1586,
    "start_time": "2022-07-08T11:11:00.635Z"
   },
   {
    "duration": 33,
    "start_time": "2022-07-08T11:11:02.223Z"
   },
   {
    "duration": 13,
    "start_time": "2022-07-08T11:11:02.258Z"
   },
   {
    "duration": 40,
    "start_time": "2022-07-08T11:11:02.272Z"
   },
   {
    "duration": 9,
    "start_time": "2022-07-08T11:11:02.317Z"
   },
   {
    "duration": 47,
    "start_time": "2022-07-08T11:11:02.328Z"
   },
   {
    "duration": 35,
    "start_time": "2022-07-08T11:11:02.377Z"
   },
   {
    "duration": 4044,
    "start_time": "2022-07-08T11:11:02.414Z"
   },
   {
    "duration": 23,
    "start_time": "2022-07-08T11:11:06.459Z"
   },
   {
    "duration": 1859,
    "start_time": "2022-07-08T11:11:06.483Z"
   },
   {
    "duration": 4,
    "start_time": "2022-07-08T11:11:08.344Z"
   },
   {
    "duration": 7,
    "start_time": "2022-07-08T11:11:08.350Z"
   },
   {
    "duration": 3957,
    "start_time": "2022-07-08T11:11:08.359Z"
   },
   {
    "duration": 591,
    "start_time": "2022-07-08T11:11:12.320Z"
   },
   {
    "duration": 132,
    "start_time": "2022-07-08T11:11:12.915Z"
   },
   {
    "duration": 0,
    "start_time": "2022-07-08T11:11:13.049Z"
   },
   {
    "duration": 0,
    "start_time": "2022-07-08T11:11:13.050Z"
   },
   {
    "duration": 0,
    "start_time": "2022-07-08T11:11:13.051Z"
   },
   {
    "duration": 16,
    "start_time": "2022-07-08T11:21:21.952Z"
   },
   {
    "duration": 10,
    "start_time": "2022-07-08T11:22:57.996Z"
   },
   {
    "duration": 13,
    "start_time": "2022-07-08T11:25:36.086Z"
   },
   {
    "duration": 98,
    "start_time": "2022-07-08T11:34:57.541Z"
   },
   {
    "duration": 15,
    "start_time": "2022-07-08T11:37:09.700Z"
   },
   {
    "duration": 14,
    "start_time": "2022-07-08T11:37:57.116Z"
   },
   {
    "duration": 14,
    "start_time": "2022-07-08T11:39:36.545Z"
   },
   {
    "duration": 14,
    "start_time": "2022-07-08T11:39:53.241Z"
   },
   {
    "duration": 9,
    "start_time": "2022-07-08T11:59:47.366Z"
   },
   {
    "duration": 1614,
    "start_time": "2022-07-08T12:01:59.192Z"
   },
   {
    "duration": 35,
    "start_time": "2022-07-08T12:02:00.809Z"
   },
   {
    "duration": 18,
    "start_time": "2022-07-08T12:02:00.846Z"
   },
   {
    "duration": 20,
    "start_time": "2022-07-08T12:02:00.866Z"
   },
   {
    "duration": 15,
    "start_time": "2022-07-08T12:02:00.889Z"
   },
   {
    "duration": 58,
    "start_time": "2022-07-08T12:02:00.906Z"
   },
   {
    "duration": 18,
    "start_time": "2022-07-08T12:02:00.966Z"
   },
   {
    "duration": 3912,
    "start_time": "2022-07-08T12:02:00.999Z"
   },
   {
    "duration": 26,
    "start_time": "2022-07-08T12:02:04.913Z"
   },
   {
    "duration": 1664,
    "start_time": "2022-07-08T12:02:04.941Z"
   },
   {
    "duration": 5,
    "start_time": "2022-07-08T12:02:06.609Z"
   },
   {
    "duration": 20,
    "start_time": "2022-07-08T12:02:06.619Z"
   },
   {
    "duration": 460,
    "start_time": "2022-07-08T12:02:06.642Z"
   },
   {
    "duration": 583,
    "start_time": "2022-07-08T12:02:07.105Z"
   },
   {
    "duration": 17,
    "start_time": "2022-07-08T12:02:07.690Z"
   },
   {
    "duration": 14,
    "start_time": "2022-07-08T12:02:07.709Z"
   },
   {
    "duration": 132,
    "start_time": "2022-07-08T12:02:07.725Z"
   },
   {
    "duration": 0,
    "start_time": "2022-07-08T12:02:07.859Z"
   },
   {
    "duration": 0,
    "start_time": "2022-07-08T12:02:07.861Z"
   },
   {
    "duration": 0,
    "start_time": "2022-07-08T12:02:07.862Z"
   },
   {
    "duration": 1535,
    "start_time": "2022-07-08T12:06:08.608Z"
   },
   {
    "duration": 68,
    "start_time": "2022-07-08T12:06:10.145Z"
   },
   {
    "duration": 17,
    "start_time": "2022-07-08T12:06:10.215Z"
   },
   {
    "duration": 18,
    "start_time": "2022-07-08T12:06:10.234Z"
   },
   {
    "duration": 10,
    "start_time": "2022-07-08T12:06:10.253Z"
   },
   {
    "duration": 65,
    "start_time": "2022-07-08T12:06:10.265Z"
   },
   {
    "duration": 17,
    "start_time": "2022-07-08T12:06:10.331Z"
   },
   {
    "duration": 3869,
    "start_time": "2022-07-08T12:06:10.349Z"
   },
   {
    "duration": 24,
    "start_time": "2022-07-08T12:06:14.221Z"
   },
   {
    "duration": 1718,
    "start_time": "2022-07-08T12:06:14.248Z"
   },
   {
    "duration": 7,
    "start_time": "2022-07-08T12:06:15.968Z"
   },
   {
    "duration": 13,
    "start_time": "2022-07-08T12:06:15.977Z"
   },
   {
    "duration": 514,
    "start_time": "2022-07-08T12:06:15.993Z"
   },
   {
    "duration": 592,
    "start_time": "2022-07-08T12:06:16.603Z"
   },
   {
    "duration": 15,
    "start_time": "2022-07-08T12:06:17.198Z"
   },
   {
    "duration": 14,
    "start_time": "2022-07-08T12:06:17.215Z"
   },
   {
    "duration": 130,
    "start_time": "2022-07-08T12:06:17.231Z"
   },
   {
    "duration": 0,
    "start_time": "2022-07-08T12:06:17.362Z"
   },
   {
    "duration": 0,
    "start_time": "2022-07-08T12:06:17.364Z"
   },
   {
    "duration": 0,
    "start_time": "2022-07-08T12:06:17.365Z"
   },
   {
    "duration": 1650,
    "start_time": "2022-07-09T07:27:08.038Z"
   },
   {
    "duration": 44,
    "start_time": "2022-07-09T07:27:09.691Z"
   },
   {
    "duration": 14,
    "start_time": "2022-07-09T07:27:09.737Z"
   },
   {
    "duration": 21,
    "start_time": "2022-07-09T07:27:09.752Z"
   },
   {
    "duration": 10,
    "start_time": "2022-07-09T07:27:09.777Z"
   },
   {
    "duration": 67,
    "start_time": "2022-07-09T07:27:09.789Z"
   },
   {
    "duration": 15,
    "start_time": "2022-07-09T07:27:09.858Z"
   },
   {
    "duration": 3570,
    "start_time": "2022-07-09T07:27:09.875Z"
   },
   {
    "duration": 23,
    "start_time": "2022-07-09T07:27:13.447Z"
   },
   {
    "duration": 1644,
    "start_time": "2022-07-09T07:27:13.472Z"
   },
   {
    "duration": 4,
    "start_time": "2022-07-09T07:27:15.118Z"
   },
   {
    "duration": 11,
    "start_time": "2022-07-09T07:27:15.124Z"
   },
   {
    "duration": 1320,
    "start_time": "2022-07-09T07:27:15.136Z"
   },
   {
    "duration": 545,
    "start_time": "2022-07-09T07:27:16.461Z"
   },
   {
    "duration": 12,
    "start_time": "2022-07-09T07:27:17.008Z"
   },
   {
    "duration": 8,
    "start_time": "2022-07-09T07:27:17.021Z"
   },
   {
    "duration": 111,
    "start_time": "2022-07-09T07:27:17.046Z"
   },
   {
    "duration": 0,
    "start_time": "2022-07-09T07:27:17.159Z"
   },
   {
    "duration": 0,
    "start_time": "2022-07-09T07:27:17.160Z"
   },
   {
    "duration": 1,
    "start_time": "2022-07-09T07:27:17.161Z"
   },
   {
    "duration": 638,
    "start_time": "2022-07-09T07:42:50.924Z"
   },
   {
    "duration": 1449,
    "start_time": "2022-07-09T07:45:11.530Z"
   },
   {
    "duration": 22,
    "start_time": "2022-07-09T07:45:12.981Z"
   },
   {
    "duration": 12,
    "start_time": "2022-07-09T07:45:13.005Z"
   },
   {
    "duration": 38,
    "start_time": "2022-07-09T07:45:13.020Z"
   },
   {
    "duration": 15,
    "start_time": "2022-07-09T07:45:13.064Z"
   },
   {
    "duration": 49,
    "start_time": "2022-07-09T07:45:13.082Z"
   },
   {
    "duration": 36,
    "start_time": "2022-07-09T07:45:13.133Z"
   },
   {
    "duration": 3798,
    "start_time": "2022-07-09T07:45:13.171Z"
   },
   {
    "duration": 33,
    "start_time": "2022-07-09T07:45:16.972Z"
   },
   {
    "duration": 1557,
    "start_time": "2022-07-09T07:45:17.008Z"
   },
   {
    "duration": 5,
    "start_time": "2022-07-09T07:45:18.568Z"
   },
   {
    "duration": 8,
    "start_time": "2022-07-09T07:45:18.575Z"
   },
   {
    "duration": 1671,
    "start_time": "2022-07-09T07:45:18.585Z"
   },
   {
    "duration": 532,
    "start_time": "2022-07-09T07:45:20.258Z"
   },
   {
    "duration": 13,
    "start_time": "2022-07-09T07:45:20.792Z"
   },
   {
    "duration": 11,
    "start_time": "2022-07-09T07:45:20.806Z"
   },
   {
    "duration": 608,
    "start_time": "2022-07-09T07:45:20.819Z"
   },
   {
    "duration": 120325,
    "start_time": "2022-07-09T07:45:21.429Z"
   },
   {
    "duration": 54,
    "start_time": "2022-07-09T07:47:21.756Z"
   },
   {
    "duration": 0,
    "start_time": "2022-07-09T07:47:21.813Z"
   },
   {
    "duration": 0,
    "start_time": "2022-07-09T07:47:21.815Z"
   },
   {
    "duration": 50,
    "start_time": "2022-07-09T07:52:07.359Z"
   },
   {
    "duration": 1564,
    "start_time": "2022-07-10T18:52:46.064Z"
   },
   {
    "duration": 66,
    "start_time": "2022-07-10T18:52:47.631Z"
   },
   {
    "duration": 15,
    "start_time": "2022-07-10T18:52:47.699Z"
   },
   {
    "duration": 19,
    "start_time": "2022-07-10T18:52:47.717Z"
   },
   {
    "duration": 24,
    "start_time": "2022-07-10T18:52:47.738Z"
   },
   {
    "duration": 68,
    "start_time": "2022-07-10T18:52:47.764Z"
   },
   {
    "duration": 20,
    "start_time": "2022-07-10T18:52:47.834Z"
   },
   {
    "duration": 3326,
    "start_time": "2022-07-10T18:52:47.856Z"
   },
   {
    "duration": 19,
    "start_time": "2022-07-10T18:52:51.184Z"
   },
   {
    "duration": 1496,
    "start_time": "2022-07-10T18:52:51.205Z"
   },
   {
    "duration": 5,
    "start_time": "2022-07-10T18:52:52.703Z"
   },
   {
    "duration": 11,
    "start_time": "2022-07-10T18:52:52.709Z"
   },
   {
    "duration": 809,
    "start_time": "2022-07-10T18:52:52.722Z"
   },
   {
    "duration": 529,
    "start_time": "2022-07-10T18:52:53.533Z"
   },
   {
    "duration": 12,
    "start_time": "2022-07-10T18:52:54.063Z"
   },
   {
    "duration": 12,
    "start_time": "2022-07-10T18:52:54.077Z"
   },
   {
    "duration": 599,
    "start_time": "2022-07-10T18:52:54.091Z"
   },
   {
    "duration": 106423,
    "start_time": "2022-07-10T18:52:54.691Z"
   },
   {
    "duration": 66,
    "start_time": "2022-07-10T18:54:41.116Z"
   },
   {
    "duration": 0,
    "start_time": "2022-07-10T18:54:41.183Z"
   },
   {
    "duration": 0,
    "start_time": "2022-07-10T18:54:41.185Z"
   },
   {
    "duration": 1390,
    "start_time": "2022-07-10T19:50:57.196Z"
   },
   {
    "duration": 22,
    "start_time": "2022-07-10T19:50:58.587Z"
   },
   {
    "duration": 12,
    "start_time": "2022-07-10T19:50:58.611Z"
   },
   {
    "duration": 14,
    "start_time": "2022-07-10T19:50:58.625Z"
   },
   {
    "duration": 8,
    "start_time": "2022-07-10T19:50:58.641Z"
   },
   {
    "duration": 41,
    "start_time": "2022-07-10T19:50:58.651Z"
   },
   {
    "duration": 39,
    "start_time": "2022-07-10T19:50:58.694Z"
   },
   {
    "duration": 3371,
    "start_time": "2022-07-10T19:50:58.734Z"
   },
   {
    "duration": 28,
    "start_time": "2022-07-10T19:51:02.107Z"
   },
   {
    "duration": 1429,
    "start_time": "2022-07-10T19:51:02.136Z"
   },
   {
    "duration": 4,
    "start_time": "2022-07-10T19:51:03.566Z"
   },
   {
    "duration": 18,
    "start_time": "2022-07-10T19:51:03.572Z"
   },
   {
    "duration": 344,
    "start_time": "2022-07-10T19:51:03.591Z"
   },
   {
    "duration": 570,
    "start_time": "2022-07-10T19:51:03.938Z"
   },
   {
    "duration": 16,
    "start_time": "2022-07-10T19:51:04.510Z"
   },
   {
    "duration": 11,
    "start_time": "2022-07-10T19:51:04.528Z"
   },
   {
    "duration": 611,
    "start_time": "2022-07-10T19:51:04.541Z"
   },
   {
    "duration": 106946,
    "start_time": "2022-07-10T19:51:05.154Z"
   },
   {
    "duration": 135,
    "start_time": "2022-07-10T19:52:52.102Z"
   },
   {
    "duration": 0,
    "start_time": "2022-07-10T19:52:52.239Z"
   },
   {
    "duration": 0,
    "start_time": "2022-07-10T19:52:52.240Z"
   },
   {
    "duration": 0,
    "start_time": "2022-07-10T19:52:52.241Z"
   },
   {
    "duration": 0,
    "start_time": "2022-07-10T19:52:52.242Z"
   },
   {
    "duration": 0,
    "start_time": "2022-07-10T19:52:52.243Z"
   },
   {
    "duration": 1442,
    "start_time": "2022-07-10T19:53:36.121Z"
   },
   {
    "duration": 21,
    "start_time": "2022-07-10T19:53:37.565Z"
   },
   {
    "duration": 11,
    "start_time": "2022-07-10T19:53:37.588Z"
   },
   {
    "duration": 17,
    "start_time": "2022-07-10T19:53:37.601Z"
   },
   {
    "duration": 10,
    "start_time": "2022-07-10T19:53:37.624Z"
   },
   {
    "duration": 60,
    "start_time": "2022-07-10T19:53:37.635Z"
   },
   {
    "duration": 36,
    "start_time": "2022-07-10T19:53:37.697Z"
   },
   {
    "duration": 3207,
    "start_time": "2022-07-10T19:53:37.735Z"
   },
   {
    "duration": 20,
    "start_time": "2022-07-10T19:53:40.944Z"
   },
   {
    "duration": 1406,
    "start_time": "2022-07-10T19:53:40.967Z"
   },
   {
    "duration": 5,
    "start_time": "2022-07-10T19:53:42.375Z"
   },
   {
    "duration": 11,
    "start_time": "2022-07-10T19:53:42.381Z"
   },
   {
    "duration": 735,
    "start_time": "2022-07-10T19:53:42.393Z"
   },
   {
    "duration": 525,
    "start_time": "2022-07-10T19:53:43.130Z"
   },
   {
    "duration": 10,
    "start_time": "2022-07-10T19:53:43.657Z"
   },
   {
    "duration": 7,
    "start_time": "2022-07-10T19:53:43.669Z"
   },
   {
    "duration": 568,
    "start_time": "2022-07-10T19:53:43.678Z"
   },
   {
    "duration": 106179,
    "start_time": "2022-07-10T19:53:44.247Z"
   },
   {
    "duration": 1706,
    "start_time": "2022-07-10T19:55:30.427Z"
   },
   {
    "duration": 15,
    "start_time": "2022-07-10T19:55:32.224Z"
   },
   {
    "duration": 6,
    "start_time": "2022-07-10T19:55:32.241Z"
   },
   {
    "duration": 62,
    "start_time": "2022-07-10T19:55:32.248Z"
   },
   {
    "duration": 0,
    "start_time": "2022-07-10T19:55:32.312Z"
   },
   {
    "duration": 0,
    "start_time": "2022-07-10T19:55:32.313Z"
   },
   {
    "duration": 439,
    "start_time": "2022-07-10T20:00:38.715Z"
   },
   {
    "duration": 695,
    "start_time": "2022-07-10T20:03:13.774Z"
   },
   {
    "duration": 872,
    "start_time": "2022-07-10T20:04:15.353Z"
   },
   {
    "duration": 777,
    "start_time": "2022-07-10T20:04:34.553Z"
   },
   {
    "duration": 1604,
    "start_time": "2022-07-11T08:30:05.888Z"
   },
   {
    "duration": 46,
    "start_time": "2022-07-11T08:30:07.494Z"
   },
   {
    "duration": 12,
    "start_time": "2022-07-11T08:30:07.542Z"
   },
   {
    "duration": 19,
    "start_time": "2022-07-11T08:30:07.556Z"
   },
   {
    "duration": 7,
    "start_time": "2022-07-11T08:30:07.577Z"
   },
   {
    "duration": 43,
    "start_time": "2022-07-11T08:30:07.586Z"
   },
   {
    "duration": 30,
    "start_time": "2022-07-11T08:30:07.631Z"
   },
   {
    "duration": 3372,
    "start_time": "2022-07-11T08:30:07.663Z"
   },
   {
    "duration": 29,
    "start_time": "2022-07-11T08:30:11.036Z"
   },
   {
    "duration": 1509,
    "start_time": "2022-07-11T08:30:11.067Z"
   },
   {
    "duration": 3,
    "start_time": "2022-07-11T08:30:12.578Z"
   },
   {
    "duration": 9,
    "start_time": "2022-07-11T08:30:12.583Z"
   },
   {
    "duration": 873,
    "start_time": "2022-07-11T08:30:12.594Z"
   },
   {
    "duration": 477,
    "start_time": "2022-07-11T08:30:13.560Z"
   },
   {
    "duration": 13,
    "start_time": "2022-07-11T08:30:14.039Z"
   },
   {
    "duration": 17,
    "start_time": "2022-07-11T08:30:14.053Z"
   },
   {
    "duration": 533,
    "start_time": "2022-07-11T08:30:14.072Z"
   },
   {
    "duration": 106940,
    "start_time": "2022-07-11T08:30:14.607Z"
   },
   {
    "duration": 1419,
    "start_time": "2022-07-11T08:32:01.548Z"
   },
   {
    "duration": 101,
    "start_time": "2022-07-11T08:32:02.969Z"
   },
   {
    "duration": 14,
    "start_time": "2022-07-11T08:32:03.072Z"
   },
   {
    "duration": 21,
    "start_time": "2022-07-11T08:32:03.088Z"
   },
   {
    "duration": 0,
    "start_time": "2022-07-11T08:32:03.110Z"
   },
   {
    "duration": 0,
    "start_time": "2022-07-11T08:32:03.111Z"
   },
   {
    "duration": 3,
    "start_time": "2022-07-11T08:37:05.923Z"
   },
   {
    "duration": 5425,
    "start_time": "2022-07-11T08:39:37.644Z"
   },
   {
    "duration": 110,
    "start_time": "2022-07-11T08:41:57.343Z"
   },
   {
    "duration": 11,
    "start_time": "2022-07-11T08:42:07.083Z"
   },
   {
    "duration": 2049,
    "start_time": "2022-07-11T08:42:15.533Z"
   },
   {
    "duration": 17,
    "start_time": "2022-07-11T08:42:44.802Z"
   },
   {
    "duration": 13,
    "start_time": "2022-07-11T08:45:03.548Z"
   },
   {
    "duration": 15,
    "start_time": "2022-07-11T08:46:13.655Z"
   },
   {
    "duration": 719,
    "start_time": "2022-07-11T08:48:16.357Z"
   },
   {
    "duration": 119,
    "start_time": "2022-07-11T08:49:19.863Z"
   },
   {
    "duration": 127,
    "start_time": "2022-07-11T08:49:38.928Z"
   },
   {
    "duration": 885,
    "start_time": "2022-07-11T08:49:48.807Z"
   },
   {
    "duration": 8,
    "start_time": "2022-07-11T08:50:45.564Z"
   },
   {
    "duration": 300,
    "start_time": "2022-07-11T08:50:51.143Z"
   },
   {
    "duration": 4412,
    "start_time": "2022-07-11T08:53:57.213Z"
   },
   {
    "duration": 751,
    "start_time": "2022-07-11T08:55:27.281Z"
   },
   {
    "duration": 952,
    "start_time": "2022-07-11T08:55:39.621Z"
   },
   {
    "duration": 575,
    "start_time": "2022-07-11T08:55:58.495Z"
   },
   {
    "duration": 810,
    "start_time": "2022-07-11T08:56:10.206Z"
   },
   {
    "duration": 555,
    "start_time": "2022-07-11T08:56:53.501Z"
   },
   {
    "duration": 4523,
    "start_time": "2022-07-11T08:57:59.400Z"
   },
   {
    "duration": 9,
    "start_time": "2022-07-11T09:02:02.853Z"
   },
   {
    "duration": 6096,
    "start_time": "2022-07-11T09:02:18.858Z"
   },
   {
    "duration": 5827,
    "start_time": "2022-07-11T09:08:31.321Z"
   },
   {
    "duration": 5828,
    "start_time": "2022-07-11T09:09:23.651Z"
   },
   {
    "duration": 5802,
    "start_time": "2022-07-11T09:09:34.626Z"
   },
   {
    "duration": 6178,
    "start_time": "2022-07-11T09:09:45.431Z"
   },
   {
    "duration": 6028,
    "start_time": "2022-07-11T09:09:59.216Z"
   },
   {
    "duration": 6213,
    "start_time": "2022-07-11T09:15:00.386Z"
   },
   {
    "duration": 5930,
    "start_time": "2022-07-11T09:18:34.870Z"
   },
   {
    "duration": 1479,
    "start_time": "2022-07-11T09:24:59.963Z"
   },
   {
    "duration": 22,
    "start_time": "2022-07-11T09:25:01.444Z"
   },
   {
    "duration": 24,
    "start_time": "2022-07-11T09:25:01.467Z"
   },
   {
    "duration": 20,
    "start_time": "2022-07-11T09:25:01.493Z"
   },
   {
    "duration": 24,
    "start_time": "2022-07-11T09:25:01.516Z"
   },
   {
    "duration": 50,
    "start_time": "2022-07-11T09:25:01.541Z"
   },
   {
    "duration": 23,
    "start_time": "2022-07-11T09:25:01.593Z"
   },
   {
    "duration": 3520,
    "start_time": "2022-07-11T09:25:01.618Z"
   },
   {
    "duration": 28,
    "start_time": "2022-07-11T09:25:05.140Z"
   },
   {
    "duration": 1650,
    "start_time": "2022-07-11T09:25:05.170Z"
   },
   {
    "duration": 5,
    "start_time": "2022-07-11T09:25:06.822Z"
   },
   {
    "duration": 23,
    "start_time": "2022-07-11T09:25:06.829Z"
   },
   {
    "duration": 609,
    "start_time": "2022-07-11T09:25:06.855Z"
   },
   {
    "duration": 561,
    "start_time": "2022-07-11T09:25:07.467Z"
   },
   {
    "duration": 13,
    "start_time": "2022-07-11T09:25:08.030Z"
   },
   {
    "duration": 17,
    "start_time": "2022-07-11T09:25:08.044Z"
   },
   {
    "duration": 575,
    "start_time": "2022-07-11T09:25:08.062Z"
   },
   {
    "duration": 108380,
    "start_time": "2022-07-11T09:25:08.639Z"
   },
   {
    "duration": 1449,
    "start_time": "2022-07-11T09:26:57.021Z"
   },
   {
    "duration": 14,
    "start_time": "2022-07-11T09:26:58.561Z"
   },
   {
    "duration": 7,
    "start_time": "2022-07-11T09:26:58.576Z"
   },
   {
    "duration": 6145,
    "start_time": "2022-07-11T09:26:58.585Z"
   },
   {
    "duration": 385,
    "start_time": "2022-07-11T09:27:04.732Z"
   },
   {
    "duration": 71,
    "start_time": "2022-07-11T09:27:05.119Z"
   },
   {
    "duration": 1556,
    "start_time": "2022-07-11T10:48:32.698Z"
   },
   {
    "duration": 28,
    "start_time": "2022-07-11T10:48:34.256Z"
   },
   {
    "duration": 16,
    "start_time": "2022-07-11T10:48:34.286Z"
   },
   {
    "duration": 28,
    "start_time": "2022-07-11T10:48:34.304Z"
   },
   {
    "duration": 8,
    "start_time": "2022-07-11T10:48:34.334Z"
   },
   {
    "duration": 68,
    "start_time": "2022-07-11T10:48:34.344Z"
   },
   {
    "duration": 15,
    "start_time": "2022-07-11T10:48:34.414Z"
   },
   {
    "duration": 1524,
    "start_time": "2022-07-11T10:48:38.638Z"
   },
   {
    "duration": 27,
    "start_time": "2022-07-11T10:48:40.173Z"
   },
   {
    "duration": 12,
    "start_time": "2022-07-11T10:48:40.202Z"
   },
   {
    "duration": 18,
    "start_time": "2022-07-11T10:48:40.215Z"
   },
   {
    "duration": 7,
    "start_time": "2022-07-11T10:48:40.236Z"
   },
   {
    "duration": 65,
    "start_time": "2022-07-11T10:48:40.245Z"
   },
   {
    "duration": 16,
    "start_time": "2022-07-11T10:48:40.311Z"
   },
   {
    "duration": 3969,
    "start_time": "2022-07-11T10:48:40.329Z"
   },
   {
    "duration": 21,
    "start_time": "2022-07-11T10:48:44.301Z"
   },
   {
    "duration": 1676,
    "start_time": "2022-07-11T10:48:44.324Z"
   },
   {
    "duration": 5,
    "start_time": "2022-07-11T10:48:46.001Z"
   },
   {
    "duration": 14,
    "start_time": "2022-07-11T10:48:46.008Z"
   },
   {
    "duration": 4054,
    "start_time": "2022-07-11T10:48:46.024Z"
   },
   {
    "duration": 573,
    "start_time": "2022-07-11T10:48:50.082Z"
   },
   {
    "duration": 18,
    "start_time": "2022-07-11T10:48:50.656Z"
   },
   {
    "duration": 28,
    "start_time": "2022-07-11T10:48:50.677Z"
   },
   {
    "duration": 688,
    "start_time": "2022-07-11T10:48:50.707Z"
   },
   {
    "duration": 118588,
    "start_time": "2022-07-11T10:48:51.397Z"
   },
   {
    "duration": 1173,
    "start_time": "2022-07-11T10:50:49.987Z"
   },
   {
    "duration": 17,
    "start_time": "2022-07-11T10:50:51.163Z"
   },
   {
    "duration": 7,
    "start_time": "2022-07-11T10:50:51.181Z"
   },
   {
    "duration": 6735,
    "start_time": "2022-07-11T10:50:51.190Z"
   },
   {
    "duration": 1514,
    "start_time": "2022-07-11T12:18:03.856Z"
   },
   {
    "duration": 26,
    "start_time": "2022-07-11T12:18:05.373Z"
   },
   {
    "duration": 12,
    "start_time": "2022-07-11T12:18:05.401Z"
   },
   {
    "duration": 21,
    "start_time": "2022-07-11T12:18:05.415Z"
   },
   {
    "duration": 9,
    "start_time": "2022-07-11T12:18:05.439Z"
   },
   {
    "duration": 48,
    "start_time": "2022-07-11T12:18:05.461Z"
   },
   {
    "duration": 14,
    "start_time": "2022-07-11T12:18:05.511Z"
   },
   {
    "duration": 3694,
    "start_time": "2022-07-11T12:18:05.527Z"
   },
   {
    "duration": 23,
    "start_time": "2022-07-11T12:18:09.223Z"
   },
   {
    "duration": 1468,
    "start_time": "2022-07-11T12:18:09.260Z"
   },
   {
    "duration": 5,
    "start_time": "2022-07-11T12:18:10.730Z"
   },
   {
    "duration": 8,
    "start_time": "2022-07-11T12:18:10.737Z"
   },
   {
    "duration": 2834,
    "start_time": "2022-07-11T12:18:10.746Z"
   },
   {
    "duration": 488,
    "start_time": "2022-07-11T12:18:13.664Z"
   },
   {
    "duration": 18,
    "start_time": "2022-07-11T12:18:14.154Z"
   },
   {
    "duration": 14,
    "start_time": "2022-07-11T12:18:14.174Z"
   },
   {
    "duration": 637,
    "start_time": "2022-07-11T12:18:14.190Z"
   },
   {
    "duration": 112751,
    "start_time": "2022-07-11T12:18:14.828Z"
   },
   {
    "duration": 1386,
    "start_time": "2022-07-11T12:20:07.580Z"
   },
   {
    "duration": 98,
    "start_time": "2022-07-11T12:20:08.972Z"
   },
   {
    "duration": 13,
    "start_time": "2022-07-11T12:20:09.076Z"
   },
   {
    "duration": 6816,
    "start_time": "2022-07-11T12:20:09.091Z"
   },
   {
    "duration": 1386,
    "start_time": "2022-07-11T14:31:36.226Z"
   },
   {
    "duration": 22,
    "start_time": "2022-07-11T14:31:37.614Z"
   },
   {
    "duration": 11,
    "start_time": "2022-07-11T14:31:37.637Z"
   },
   {
    "duration": 14,
    "start_time": "2022-07-11T14:31:37.650Z"
   },
   {
    "duration": 8,
    "start_time": "2022-07-11T14:31:37.666Z"
   },
   {
    "duration": 65,
    "start_time": "2022-07-11T14:31:37.675Z"
   },
   {
    "duration": 19,
    "start_time": "2022-07-11T14:31:37.742Z"
   },
   {
    "duration": 3310,
    "start_time": "2022-07-11T14:31:37.763Z"
   },
   {
    "duration": 21,
    "start_time": "2022-07-11T14:31:41.074Z"
   },
   {
    "duration": 1423,
    "start_time": "2022-07-11T14:31:41.097Z"
   },
   {
    "duration": 4,
    "start_time": "2022-07-11T14:31:42.522Z"
   },
   {
    "duration": 8,
    "start_time": "2022-07-11T14:31:42.527Z"
   },
   {
    "duration": 928,
    "start_time": "2022-07-11T14:31:42.537Z"
   },
   {
    "duration": 552,
    "start_time": "2022-07-11T14:31:43.469Z"
   },
   {
    "duration": 11,
    "start_time": "2022-07-11T14:31:44.023Z"
   },
   {
    "duration": 17,
    "start_time": "2022-07-11T14:31:44.036Z"
   },
   {
    "duration": 565,
    "start_time": "2022-07-11T14:31:44.055Z"
   },
   {
    "duration": 110752,
    "start_time": "2022-07-11T14:31:44.621Z"
   },
   {
    "duration": 1492,
    "start_time": "2022-07-11T14:33:35.374Z"
   },
   {
    "duration": 104,
    "start_time": "2022-07-11T14:33:36.869Z"
   },
   {
    "duration": 5,
    "start_time": "2022-07-11T14:33:36.975Z"
   },
   {
    "duration": 6031,
    "start_time": "2022-07-11T14:33:36.981Z"
   },
   {
    "duration": 241,
    "start_time": "2022-07-11T14:38:24.084Z"
   },
   {
    "duration": 2634,
    "start_time": "2022-07-11T14:39:15.085Z"
   },
   {
    "duration": 2525,
    "start_time": "2022-07-11T14:41:20.800Z"
   },
   {
    "duration": 1410,
    "start_time": "2022-07-11T14:42:37.944Z"
   },
   {
    "duration": 23,
    "start_time": "2022-07-11T14:42:39.356Z"
   },
   {
    "duration": 14,
    "start_time": "2022-07-11T14:42:39.380Z"
   },
   {
    "duration": 27,
    "start_time": "2022-07-11T14:42:39.396Z"
   },
   {
    "duration": 10,
    "start_time": "2022-07-11T14:42:39.426Z"
   },
   {
    "duration": 57,
    "start_time": "2022-07-11T14:42:39.438Z"
   },
   {
    "duration": 16,
    "start_time": "2022-07-11T14:42:39.497Z"
   },
   {
    "duration": 2328,
    "start_time": "2022-07-11T14:42:39.514Z"
   },
   {
    "duration": 3303,
    "start_time": "2022-07-11T14:42:41.844Z"
   },
   {
    "duration": 24,
    "start_time": "2022-07-11T14:42:45.149Z"
   },
   {
    "duration": 1490,
    "start_time": "2022-07-11T14:42:45.174Z"
   },
   {
    "duration": 4,
    "start_time": "2022-07-11T14:42:46.666Z"
   },
   {
    "duration": 13,
    "start_time": "2022-07-11T14:42:46.672Z"
   },
   {
    "duration": 875,
    "start_time": "2022-07-11T14:42:46.688Z"
   },
   {
    "duration": 549,
    "start_time": "2022-07-11T14:42:47.565Z"
   },
   {
    "duration": 11,
    "start_time": "2022-07-11T14:42:48.116Z"
   },
   {
    "duration": 13,
    "start_time": "2022-07-11T14:42:48.128Z"
   },
   {
    "duration": 577,
    "start_time": "2022-07-11T14:42:48.143Z"
   },
   {
    "duration": 108618,
    "start_time": "2022-07-11T14:42:48.722Z"
   },
   {
    "duration": 1526,
    "start_time": "2022-07-11T14:44:37.342Z"
   },
   {
    "duration": 15,
    "start_time": "2022-07-11T14:44:38.960Z"
   },
   {
    "duration": 6,
    "start_time": "2022-07-11T14:44:38.976Z"
   },
   {
    "duration": 6141,
    "start_time": "2022-07-11T14:44:38.984Z"
   },
   {
    "duration": 1569,
    "start_time": "2022-07-11T18:36:05.612Z"
   },
   {
    "duration": 45,
    "start_time": "2022-07-11T18:36:07.183Z"
   },
   {
    "duration": 12,
    "start_time": "2022-07-11T18:36:07.229Z"
   },
   {
    "duration": 16,
    "start_time": "2022-07-11T18:36:07.243Z"
   },
   {
    "duration": 7,
    "start_time": "2022-07-11T18:36:07.261Z"
   },
   {
    "duration": 43,
    "start_time": "2022-07-11T18:36:07.269Z"
   },
   {
    "duration": 36,
    "start_time": "2022-07-11T18:36:07.314Z"
   },
   {
    "duration": 2282,
    "start_time": "2022-07-11T18:36:07.352Z"
   },
   {
    "duration": 24,
    "start_time": "2022-07-11T18:36:09.635Z"
   },
   {
    "duration": 1540,
    "start_time": "2022-07-11T18:36:09.661Z"
   },
   {
    "duration": 3,
    "start_time": "2022-07-11T18:36:11.203Z"
   },
   {
    "duration": 8,
    "start_time": "2022-07-11T18:36:11.208Z"
   },
   {
    "duration": 631,
    "start_time": "2022-07-11T18:36:11.217Z"
   },
   {
    "duration": 530,
    "start_time": "2022-07-11T18:36:11.851Z"
   },
   {
    "duration": 12,
    "start_time": "2022-07-11T18:36:12.382Z"
   },
   {
    "duration": 8,
    "start_time": "2022-07-11T18:36:12.396Z"
   },
   {
    "duration": 562,
    "start_time": "2022-07-11T18:36:12.405Z"
   },
   {
    "duration": 105199,
    "start_time": "2022-07-11T18:36:12.969Z"
   },
   {
    "duration": 1275,
    "start_time": "2022-07-11T18:37:58.170Z"
   },
   {
    "duration": 106,
    "start_time": "2022-07-11T18:37:59.446Z"
   },
   {
    "duration": 5,
    "start_time": "2022-07-11T18:37:59.554Z"
   },
   {
    "duration": 6307,
    "start_time": "2022-07-11T18:37:59.561Z"
   },
   {
    "duration": 1952,
    "start_time": "2022-07-12T03:46:04.794Z"
   },
   {
    "duration": 132,
    "start_time": "2022-07-12T03:46:06.749Z"
   },
   {
    "duration": 15,
    "start_time": "2022-07-12T03:46:06.883Z"
   },
   {
    "duration": 18,
    "start_time": "2022-07-12T03:46:06.900Z"
   },
   {
    "duration": 9,
    "start_time": "2022-07-12T03:46:06.920Z"
   },
   {
    "duration": 68,
    "start_time": "2022-07-12T03:46:06.931Z"
   },
   {
    "duration": 18,
    "start_time": "2022-07-12T03:46:07.001Z"
   },
   {
    "duration": 2915,
    "start_time": "2022-07-12T03:46:07.020Z"
   },
   {
    "duration": 23,
    "start_time": "2022-07-12T03:46:09.937Z"
   },
   {
    "duration": 1830,
    "start_time": "2022-07-12T03:46:09.964Z"
   },
   {
    "duration": 5,
    "start_time": "2022-07-12T03:46:11.797Z"
   },
   {
    "duration": 20,
    "start_time": "2022-07-12T03:46:11.805Z"
   },
   {
    "duration": 1573,
    "start_time": "2022-07-12T03:46:11.828Z"
   },
   {
    "duration": 508,
    "start_time": "2022-07-12T03:46:13.404Z"
   },
   {
    "duration": 15,
    "start_time": "2022-07-12T03:46:13.914Z"
   },
   {
    "duration": 9,
    "start_time": "2022-07-12T03:46:13.931Z"
   },
   {
    "duration": 680,
    "start_time": "2022-07-12T03:46:13.942Z"
   },
   {
    "duration": 123560,
    "start_time": "2022-07-12T03:46:14.624Z"
   },
   {
    "duration": 937,
    "start_time": "2022-07-12T03:48:18.186Z"
   },
   {
    "duration": 107,
    "start_time": "2022-07-12T03:48:19.198Z"
   },
   {
    "duration": 11,
    "start_time": "2022-07-12T03:48:19.310Z"
   },
   {
    "duration": 7227,
    "start_time": "2022-07-12T03:48:19.323Z"
   },
   {
    "duration": 20,
    "start_time": "2022-07-12T03:48:26.552Z"
   },
   {
    "duration": 13,
    "start_time": "2022-07-12T03:48:35.073Z"
   },
   {
    "duration": 13,
    "start_time": "2022-07-12T03:49:08.089Z"
   },
   {
    "duration": 1877,
    "start_time": "2022-07-12T04:08:15.611Z"
   },
   {
    "duration": 34,
    "start_time": "2022-07-12T04:08:17.490Z"
   },
   {
    "duration": 13,
    "start_time": "2022-07-12T04:08:17.526Z"
   },
   {
    "duration": 18,
    "start_time": "2022-07-12T04:08:17.541Z"
   },
   {
    "duration": 10,
    "start_time": "2022-07-12T04:08:17.560Z"
   },
   {
    "duration": 64,
    "start_time": "2022-07-12T04:08:17.572Z"
   },
   {
    "duration": 18,
    "start_time": "2022-07-12T04:08:17.638Z"
   },
   {
    "duration": 2806,
    "start_time": "2022-07-12T04:08:17.658Z"
   },
   {
    "duration": 33,
    "start_time": "2022-07-12T04:08:20.466Z"
   },
   {
    "duration": 1708,
    "start_time": "2022-07-12T04:08:20.502Z"
   },
   {
    "duration": 5,
    "start_time": "2022-07-12T04:08:22.212Z"
   },
   {
    "duration": 12,
    "start_time": "2022-07-12T04:08:22.218Z"
   },
   {
    "duration": 1180,
    "start_time": "2022-07-12T04:08:22.232Z"
   },
   {
    "duration": 516,
    "start_time": "2022-07-12T04:08:23.500Z"
   },
   {
    "duration": 20,
    "start_time": "2022-07-12T04:08:24.018Z"
   },
   {
    "duration": 37,
    "start_time": "2022-07-12T04:08:24.040Z"
   },
   {
    "duration": 654,
    "start_time": "2022-07-12T04:08:24.079Z"
   },
   {
    "duration": 120110,
    "start_time": "2022-07-12T04:08:24.735Z"
   },
   {
    "duration": 1452,
    "start_time": "2022-07-12T04:10:24.847Z"
   },
   {
    "duration": 106,
    "start_time": "2022-07-12T04:10:26.302Z"
   },
   {
    "duration": 7,
    "start_time": "2022-07-12T04:10:26.410Z"
   },
   {
    "duration": 7151,
    "start_time": "2022-07-12T04:10:26.419Z"
   },
   {
    "duration": 334128,
    "start_time": "2022-07-12T04:25:01.700Z"
   },
   {
    "duration": 17,
    "start_time": "2022-07-12T04:34:10.224Z"
   },
   {
    "duration": 15,
    "start_time": "2022-07-12T04:37:30.120Z"
   },
   {
    "duration": 115,
    "start_time": "2022-07-12T04:51:27.434Z"
   },
   {
    "duration": 1690,
    "start_time": "2022-07-12T04:51:38.148Z"
   },
   {
    "duration": 33,
    "start_time": "2022-07-12T04:51:39.840Z"
   },
   {
    "duration": 13,
    "start_time": "2022-07-12T04:51:39.874Z"
   },
   {
    "duration": 17,
    "start_time": "2022-07-12T04:51:39.888Z"
   },
   {
    "duration": 9,
    "start_time": "2022-07-12T04:51:39.907Z"
   },
   {
    "duration": 49,
    "start_time": "2022-07-12T04:51:39.918Z"
   },
   {
    "duration": 35,
    "start_time": "2022-07-12T04:51:39.968Z"
   },
   {
    "duration": 12,
    "start_time": "2022-07-12T04:51:40.005Z"
   },
   {
    "duration": 2680,
    "start_time": "2022-07-12T04:51:40.019Z"
   },
   {
    "duration": 23,
    "start_time": "2022-07-12T04:51:42.701Z"
   },
   {
    "duration": 1813,
    "start_time": "2022-07-12T04:51:42.725Z"
   },
   {
    "duration": 4,
    "start_time": "2022-07-12T04:51:44.540Z"
   },
   {
    "duration": 9,
    "start_time": "2022-07-12T04:51:44.546Z"
   },
   {
    "duration": 649,
    "start_time": "2022-07-12T04:51:44.558Z"
   },
   {
    "duration": 610,
    "start_time": "2022-07-12T04:51:45.210Z"
   },
   {
    "duration": 13,
    "start_time": "2022-07-12T04:51:45.822Z"
   },
   {
    "duration": 8,
    "start_time": "2022-07-12T04:51:45.837Z"
   },
   {
    "duration": 654,
    "start_time": "2022-07-12T04:51:45.847Z"
   },
   {
    "duration": 122353,
    "start_time": "2022-07-12T04:51:46.503Z"
   },
   {
    "duration": 1244,
    "start_time": "2022-07-12T04:53:48.858Z"
   },
   {
    "duration": 105,
    "start_time": "2022-07-12T04:53:50.104Z"
   },
   {
    "duration": 18,
    "start_time": "2022-07-12T04:53:50.212Z"
   },
   {
    "duration": 6946,
    "start_time": "2022-07-12T04:53:50.232Z"
   },
   {
    "duration": 57,
    "start_time": "2022-07-12T19:39:19.238Z"
   },
   {
    "duration": 1847,
    "start_time": "2022-07-13T04:20:54.467Z"
   },
   {
    "duration": 52,
    "start_time": "2022-07-13T04:20:56.317Z"
   },
   {
    "duration": 17,
    "start_time": "2022-07-13T04:20:56.372Z"
   },
   {
    "duration": 23,
    "start_time": "2022-07-13T04:20:56.392Z"
   },
   {
    "duration": 10,
    "start_time": "2022-07-13T04:20:56.417Z"
   },
   {
    "duration": 70,
    "start_time": "2022-07-13T04:20:56.429Z"
   },
   {
    "duration": 15,
    "start_time": "2022-07-13T04:20:56.501Z"
   },
   {
    "duration": 11,
    "start_time": "2022-07-13T04:20:56.517Z"
   },
   {
    "duration": 2493,
    "start_time": "2022-07-13T04:20:56.529Z"
   },
   {
    "duration": 21,
    "start_time": "2022-07-13T04:20:59.024Z"
   },
   {
    "duration": 1669,
    "start_time": "2022-07-13T04:20:59.047Z"
   },
   {
    "duration": 4,
    "start_time": "2022-07-13T04:21:00.718Z"
   },
   {
    "duration": 26,
    "start_time": "2022-07-13T04:21:00.724Z"
   },
   {
    "duration": 1310,
    "start_time": "2022-07-13T04:21:00.751Z"
   },
   {
    "duration": 481,
    "start_time": "2022-07-13T04:21:02.063Z"
   },
   {
    "duration": 18,
    "start_time": "2022-07-13T04:21:02.545Z"
   },
   {
    "duration": 26,
    "start_time": "2022-07-13T04:21:02.565Z"
   },
   {
    "duration": 617,
    "start_time": "2022-07-13T04:21:02.593Z"
   },
   {
    "duration": 113728,
    "start_time": "2022-07-13T04:21:03.212Z"
   },
   {
    "duration": 1135,
    "start_time": "2022-07-13T04:22:56.941Z"
   },
   {
    "duration": 95,
    "start_time": "2022-07-13T04:22:58.082Z"
   },
   {
    "duration": 7,
    "start_time": "2022-07-13T04:22:58.180Z"
   },
   {
    "duration": 6333,
    "start_time": "2022-07-13T04:22:58.188Z"
   },
   {
    "duration": 1796,
    "start_time": "2022-12-20T19:20:52.986Z"
   },
   {
    "duration": 144,
    "start_time": "2022-12-20T19:20:54.785Z"
   },
   {
    "duration": 16,
    "start_time": "2022-12-20T19:20:54.931Z"
   },
   {
    "duration": 20,
    "start_time": "2022-12-20T19:20:54.949Z"
   },
   {
    "duration": 9,
    "start_time": "2022-12-20T19:20:54.971Z"
   },
   {
    "duration": 59,
    "start_time": "2022-12-20T19:20:54.981Z"
   },
   {
    "duration": 16,
    "start_time": "2022-12-20T19:20:55.041Z"
   },
   {
    "duration": 13,
    "start_time": "2022-12-20T19:20:55.059Z"
   },
   {
    "duration": 4117,
    "start_time": "2022-12-20T19:20:55.073Z"
   },
   {
    "duration": 40,
    "start_time": "2022-12-20T19:20:59.192Z"
   },
   {
    "duration": 1781,
    "start_time": "2022-12-20T19:20:59.239Z"
   },
   {
    "duration": 5,
    "start_time": "2022-12-20T19:21:01.022Z"
   },
   {
    "duration": 27,
    "start_time": "2022-12-20T19:21:01.029Z"
   },
   {
    "duration": 2057,
    "start_time": "2022-12-20T19:21:01.058Z"
   },
   {
    "duration": 564,
    "start_time": "2022-12-20T19:21:03.117Z"
   },
   {
    "duration": 11,
    "start_time": "2022-12-20T19:21:03.683Z"
   },
   {
    "duration": 62,
    "start_time": "2022-12-20T19:21:03.695Z"
   },
   {
    "duration": 613,
    "start_time": "2022-12-20T19:21:03.758Z"
   },
   {
    "duration": 118484,
    "start_time": "2022-12-20T19:21:04.373Z"
   },
   {
    "duration": 1063,
    "start_time": "2022-12-20T19:23:02.858Z"
   },
   {
    "duration": 99,
    "start_time": "2022-12-20T19:23:03.923Z"
   },
   {
    "duration": 18,
    "start_time": "2022-12-20T19:23:04.023Z"
   },
   {
    "duration": 6729,
    "start_time": "2022-12-20T19:23:04.043Z"
   },
   {
    "duration": 1572,
    "start_time": "2022-12-20T19:32:45.875Z"
   },
   {
    "duration": 37,
    "start_time": "2022-12-20T19:32:47.449Z"
   },
   {
    "duration": 17,
    "start_time": "2022-12-20T19:32:47.488Z"
   },
   {
    "duration": 24,
    "start_time": "2022-12-20T19:32:47.507Z"
   },
   {
    "duration": 10,
    "start_time": "2022-12-20T19:32:47.533Z"
   },
   {
    "duration": 68,
    "start_time": "2022-12-20T19:32:47.544Z"
   },
   {
    "duration": 15,
    "start_time": "2022-12-20T19:32:47.614Z"
   },
   {
    "duration": 11,
    "start_time": "2022-12-20T19:32:47.631Z"
   },
   {
    "duration": 2677,
    "start_time": "2022-12-20T19:32:47.644Z"
   },
   {
    "duration": 25,
    "start_time": "2022-12-20T19:32:50.323Z"
   },
   {
    "duration": 1663,
    "start_time": "2022-12-20T19:32:50.350Z"
   },
   {
    "duration": 4,
    "start_time": "2022-12-20T19:32:52.015Z"
   },
   {
    "duration": 8,
    "start_time": "2022-12-20T19:32:52.021Z"
   },
   {
    "duration": 991,
    "start_time": "2022-12-20T19:32:52.032Z"
   },
   {
    "duration": 572,
    "start_time": "2022-12-20T19:32:53.109Z"
   },
   {
    "duration": 23,
    "start_time": "2022-12-20T19:32:53.682Z"
   },
   {
    "duration": 9,
    "start_time": "2022-12-20T19:32:53.707Z"
   },
   {
    "duration": 633,
    "start_time": "2022-12-20T19:32:53.718Z"
   },
   {
    "duration": 119662,
    "start_time": "2022-12-20T19:32:54.353Z"
   },
   {
    "duration": 1087,
    "start_time": "2022-12-20T19:34:54.018Z"
   },
   {
    "duration": 98,
    "start_time": "2022-12-20T19:34:55.107Z"
   },
   {
    "duration": 9,
    "start_time": "2022-12-20T19:34:55.207Z"
   },
   {
    "duration": 6716,
    "start_time": "2022-12-20T19:34:55.218Z"
   },
   {
    "duration": 1558,
    "start_time": "2022-12-21T16:15:27.461Z"
   },
   {
    "duration": 132,
    "start_time": "2022-12-21T16:15:29.021Z"
   },
   {
    "duration": 13,
    "start_time": "2022-12-21T16:15:29.155Z"
   },
   {
    "duration": 17,
    "start_time": "2022-12-21T16:15:29.169Z"
   },
   {
    "duration": 8,
    "start_time": "2022-12-21T16:15:29.188Z"
   },
   {
    "duration": 85,
    "start_time": "2022-12-21T16:15:29.197Z"
   },
   {
    "duration": 17,
    "start_time": "2022-12-21T16:15:29.283Z"
   },
   {
    "duration": 12,
    "start_time": "2022-12-21T16:15:29.301Z"
   },
   {
    "duration": 2419,
    "start_time": "2022-12-21T16:15:29.314Z"
   },
   {
    "duration": 27,
    "start_time": "2022-12-21T16:15:31.734Z"
   },
   {
    "duration": 1676,
    "start_time": "2022-12-21T16:15:31.763Z"
   },
   {
    "duration": 5,
    "start_time": "2022-12-21T16:15:33.440Z"
   },
   {
    "duration": 7,
    "start_time": "2022-12-21T16:15:33.447Z"
   },
   {
    "duration": 496,
    "start_time": "2022-12-21T16:15:33.457Z"
   },
   {
    "duration": 552,
    "start_time": "2022-12-21T16:15:33.955Z"
   },
   {
    "duration": 12,
    "start_time": "2022-12-21T16:15:34.509Z"
   },
   {
    "duration": 28,
    "start_time": "2022-12-21T16:15:34.522Z"
   },
   {
    "duration": 639,
    "start_time": "2022-12-21T16:15:34.552Z"
   },
   {
    "duration": 110104,
    "start_time": "2022-12-21T16:15:35.192Z"
   },
   {
    "duration": 963,
    "start_time": "2022-12-21T16:17:25.297Z"
   },
   {
    "duration": 98,
    "start_time": "2022-12-21T16:17:26.262Z"
   },
   {
    "duration": 6,
    "start_time": "2022-12-21T16:17:26.362Z"
   },
   {
    "duration": 6278,
    "start_time": "2022-12-21T16:17:26.370Z"
   },
   {
    "duration": 1354,
    "start_time": "2022-12-21T16:24:54.096Z"
   },
   {
    "duration": 32,
    "start_time": "2022-12-21T16:24:55.452Z"
   },
   {
    "duration": 11,
    "start_time": "2022-12-21T16:24:55.486Z"
   },
   {
    "duration": 15,
    "start_time": "2022-12-21T16:24:55.499Z"
   },
   {
    "duration": 10,
    "start_time": "2022-12-21T16:24:55.516Z"
   },
   {
    "duration": 65,
    "start_time": "2022-12-21T16:24:55.528Z"
   },
   {
    "duration": 20,
    "start_time": "2022-12-21T16:24:55.595Z"
   },
   {
    "duration": 13,
    "start_time": "2022-12-21T16:24:55.617Z"
   },
   {
    "duration": 2455,
    "start_time": "2022-12-21T16:24:55.632Z"
   },
   {
    "duration": 21,
    "start_time": "2022-12-21T16:24:58.089Z"
   },
   {
    "duration": 1555,
    "start_time": "2022-12-21T16:24:58.112Z"
   },
   {
    "duration": 113,
    "start_time": "2022-12-21T16:24:59.669Z"
   },
   {
    "duration": 0,
    "start_time": "2022-12-21T16:24:59.784Z"
   },
   {
    "duration": 0,
    "start_time": "2022-12-21T16:24:59.786Z"
   },
   {
    "duration": 0,
    "start_time": "2022-12-21T16:24:59.787Z"
   },
   {
    "duration": 0,
    "start_time": "2022-12-21T16:24:59.788Z"
   },
   {
    "duration": 0,
    "start_time": "2022-12-21T16:24:59.788Z"
   },
   {
    "duration": 0,
    "start_time": "2022-12-21T16:24:59.790Z"
   },
   {
    "duration": 0,
    "start_time": "2022-12-21T16:24:59.791Z"
   },
   {
    "duration": 0,
    "start_time": "2022-12-21T16:24:59.792Z"
   },
   {
    "duration": 0,
    "start_time": "2022-12-21T16:24:59.793Z"
   },
   {
    "duration": 0,
    "start_time": "2022-12-21T16:24:59.794Z"
   },
   {
    "duration": 0,
    "start_time": "2022-12-21T16:24:59.795Z"
   },
   {
    "duration": 16,
    "start_time": "2022-12-21T16:25:20.886Z"
   },
   {
    "duration": 5,
    "start_time": "2022-12-21T16:26:57.447Z"
   },
   {
    "duration": 1628,
    "start_time": "2022-12-21T16:27:03.631Z"
   },
   {
    "duration": 36,
    "start_time": "2022-12-21T16:27:05.261Z"
   },
   {
    "duration": 16,
    "start_time": "2022-12-21T16:27:05.299Z"
   },
   {
    "duration": 29,
    "start_time": "2022-12-21T16:27:05.318Z"
   },
   {
    "duration": 11,
    "start_time": "2022-12-21T16:27:05.349Z"
   },
   {
    "duration": 51,
    "start_time": "2022-12-21T16:27:05.362Z"
   },
   {
    "duration": 37,
    "start_time": "2022-12-21T16:27:05.415Z"
   },
   {
    "duration": 13,
    "start_time": "2022-12-21T16:27:05.455Z"
   },
   {
    "duration": 4318,
    "start_time": "2022-12-21T16:27:05.469Z"
   },
   {
    "duration": 28,
    "start_time": "2022-12-21T16:27:09.790Z"
   },
   {
    "duration": 1748,
    "start_time": "2022-12-21T16:27:09.819Z"
   },
   {
    "duration": 5,
    "start_time": "2022-12-21T16:27:11.569Z"
   },
   {
    "duration": 26,
    "start_time": "2022-12-21T16:27:11.577Z"
   },
   {
    "duration": 349,
    "start_time": "2022-12-21T16:27:11.605Z"
   },
   {
    "duration": 468,
    "start_time": "2022-12-21T16:27:11.956Z"
   },
   {
    "duration": 17,
    "start_time": "2022-12-21T16:27:12.426Z"
   },
   {
    "duration": 29,
    "start_time": "2022-12-21T16:27:12.445Z"
   },
   {
    "duration": 660,
    "start_time": "2022-12-21T16:27:12.476Z"
   },
   {
    "duration": 118105,
    "start_time": "2022-12-21T16:27:13.138Z"
   },
   {
    "duration": 1510,
    "start_time": "2022-12-21T16:29:11.245Z"
   },
   {
    "duration": 17,
    "start_time": "2022-12-21T16:29:12.757Z"
   },
   {
    "duration": 9,
    "start_time": "2022-12-21T16:29:12.776Z"
   },
   {
    "duration": 7028,
    "start_time": "2022-12-21T16:29:12.787Z"
   },
   {
    "duration": 1515,
    "start_time": "2022-12-21T16:30:21.816Z"
   },
   {
    "duration": 35,
    "start_time": "2022-12-21T16:30:23.333Z"
   },
   {
    "duration": 14,
    "start_time": "2022-12-21T16:30:23.371Z"
   },
   {
    "duration": 52,
    "start_time": "2022-12-21T16:30:23.388Z"
   },
   {
    "duration": 27,
    "start_time": "2022-12-21T16:30:23.442Z"
   },
   {
    "duration": 81,
    "start_time": "2022-12-21T16:30:23.471Z"
   },
   {
    "duration": 21,
    "start_time": "2022-12-21T16:30:23.554Z"
   },
   {
    "duration": 29,
    "start_time": "2022-12-21T16:30:23.577Z"
   },
   {
    "duration": 2976,
    "start_time": "2022-12-21T16:30:23.608Z"
   },
   {
    "duration": 29,
    "start_time": "2022-12-21T16:30:26.587Z"
   },
   {
    "duration": 1825,
    "start_time": "2022-12-21T16:30:26.618Z"
   },
   {
    "duration": 5,
    "start_time": "2022-12-21T16:30:28.445Z"
   },
   {
    "duration": 10,
    "start_time": "2022-12-21T16:30:28.452Z"
   },
   {
    "duration": 490,
    "start_time": "2022-12-21T16:30:28.463Z"
   },
   {
    "duration": 482,
    "start_time": "2022-12-21T16:30:28.972Z"
   },
   {
    "duration": 15,
    "start_time": "2022-12-21T16:30:29.456Z"
   },
   {
    "duration": 11,
    "start_time": "2022-12-21T16:30:29.473Z"
   },
   {
    "duration": 657,
    "start_time": "2022-12-21T16:30:29.487Z"
   },
   {
    "duration": 1450,
    "start_time": "2022-12-21T16:31:21.611Z"
   },
   {
    "duration": 32,
    "start_time": "2022-12-21T16:31:23.063Z"
   },
   {
    "duration": 15,
    "start_time": "2022-12-21T16:31:23.097Z"
   },
   {
    "duration": 18,
    "start_time": "2022-12-21T16:31:23.115Z"
   },
   {
    "duration": 8,
    "start_time": "2022-12-21T16:31:23.135Z"
   },
   {
    "duration": 47,
    "start_time": "2022-12-21T16:31:23.145Z"
   },
   {
    "duration": 17,
    "start_time": "2022-12-21T16:31:23.193Z"
   },
   {
    "duration": 12,
    "start_time": "2022-12-21T16:31:23.212Z"
   },
   {
    "duration": 3540,
    "start_time": "2022-12-21T16:31:23.226Z"
   },
   {
    "duration": 86,
    "start_time": "2022-12-21T16:31:26.768Z"
   },
   {
    "duration": 1627,
    "start_time": "2022-12-21T16:31:26.856Z"
   },
   {
    "duration": 5,
    "start_time": "2022-12-21T16:31:28.484Z"
   },
   {
    "duration": 21,
    "start_time": "2022-12-21T16:31:28.491Z"
   },
   {
    "duration": 7,
    "start_time": "2022-12-21T16:31:28.515Z"
   },
   {
    "duration": 637,
    "start_time": "2022-12-21T16:31:28.524Z"
   },
   {
    "duration": 508,
    "start_time": "2022-12-21T16:31:29.163Z"
   },
   {
    "duration": 14,
    "start_time": "2022-12-21T16:31:29.673Z"
   },
   {
    "duration": 7,
    "start_time": "2022-12-21T16:31:29.689Z"
   },
   {
    "duration": 573,
    "start_time": "2022-12-21T16:31:29.698Z"
   },
   {
    "duration": 115774,
    "start_time": "2022-12-21T16:31:30.273Z"
   },
   {
    "duration": 1205,
    "start_time": "2022-12-21T16:33:26.049Z"
   },
   {
    "duration": 21,
    "start_time": "2022-12-21T16:33:27.256Z"
   },
   {
    "duration": 7,
    "start_time": "2022-12-21T16:33:27.279Z"
   },
   {
    "duration": 7490,
    "start_time": "2022-12-21T16:33:27.287Z"
   },
   {
    "duration": 1584,
    "start_time": "2022-12-21T16:36:09.741Z"
   },
   {
    "duration": 38,
    "start_time": "2022-12-21T16:36:11.327Z"
   },
   {
    "duration": 14,
    "start_time": "2022-12-21T16:36:11.367Z"
   },
   {
    "duration": 17,
    "start_time": "2022-12-21T16:36:11.384Z"
   },
   {
    "duration": 12,
    "start_time": "2022-12-21T16:36:11.403Z"
   },
   {
    "duration": 77,
    "start_time": "2022-12-21T16:36:11.417Z"
   },
   {
    "duration": 19,
    "start_time": "2022-12-21T16:36:11.496Z"
   },
   {
    "duration": 37,
    "start_time": "2022-12-21T16:36:11.516Z"
   },
   {
    "duration": 2736,
    "start_time": "2022-12-21T16:36:11.555Z"
   },
   {
    "duration": 29,
    "start_time": "2022-12-21T16:36:14.295Z"
   },
   {
    "duration": 1599,
    "start_time": "2022-12-21T16:36:14.327Z"
   },
   {
    "duration": 4,
    "start_time": "2022-12-21T16:36:15.928Z"
   },
   {
    "duration": 14,
    "start_time": "2022-12-21T16:36:15.934Z"
   },
   {
    "duration": 905,
    "start_time": "2022-12-21T16:36:15.949Z"
   },
   {
    "duration": 566,
    "start_time": "2022-12-21T16:36:16.856Z"
   },
   {
    "duration": 16,
    "start_time": "2022-12-21T16:36:17.424Z"
   },
   {
    "duration": 10,
    "start_time": "2022-12-21T16:36:17.451Z"
   },
   {
    "duration": 633,
    "start_time": "2022-12-21T16:36:17.462Z"
   },
   {
    "duration": 122561,
    "start_time": "2022-12-21T16:36:18.097Z"
   },
   {
    "duration": 1392,
    "start_time": "2022-12-21T16:38:20.660Z"
   },
   {
    "duration": 18,
    "start_time": "2022-12-21T16:38:22.055Z"
   },
   {
    "duration": 6,
    "start_time": "2022-12-21T16:38:22.075Z"
   },
   {
    "duration": 6419,
    "start_time": "2022-12-21T16:38:22.083Z"
   },
   {
    "duration": 8,
    "start_time": "2022-12-21T17:19:34.647Z"
   },
   {
    "duration": 7,
    "start_time": "2022-12-21T17:19:52.867Z"
   },
   {
    "duration": 1861,
    "start_time": "2022-12-21T17:32:39.453Z"
   },
   {
    "duration": 38,
    "start_time": "2022-12-21T17:32:41.317Z"
   },
   {
    "duration": 16,
    "start_time": "2022-12-21T17:32:41.358Z"
   },
   {
    "duration": 23,
    "start_time": "2022-12-21T17:32:41.376Z"
   },
   {
    "duration": 9,
    "start_time": "2022-12-21T17:32:41.402Z"
   },
   {
    "duration": 74,
    "start_time": "2022-12-21T17:32:41.413Z"
   },
   {
    "duration": 16,
    "start_time": "2022-12-21T17:32:41.489Z"
   },
   {
    "duration": 12,
    "start_time": "2022-12-21T17:32:41.506Z"
   },
   {
    "duration": 3202,
    "start_time": "2022-12-21T17:32:41.520Z"
   },
   {
    "duration": 42,
    "start_time": "2022-12-21T17:32:44.724Z"
   },
   {
    "duration": 2023,
    "start_time": "2022-12-21T17:32:44.769Z"
   },
   {
    "duration": 4,
    "start_time": "2022-12-21T17:32:46.794Z"
   },
   {
    "duration": 26,
    "start_time": "2022-12-21T17:32:46.800Z"
   },
   {
    "duration": 523,
    "start_time": "2022-12-21T17:32:46.832Z"
   },
   {
    "duration": 640,
    "start_time": "2022-12-21T17:32:47.357Z"
   },
   {
    "duration": 14,
    "start_time": "2022-12-21T17:32:47.999Z"
   },
   {
    "duration": 32,
    "start_time": "2022-12-21T17:32:48.015Z"
   },
   {
    "duration": 944,
    "start_time": "2022-12-21T17:32:48.049Z"
   },
   {
    "duration": 113914,
    "start_time": "2022-12-21T17:32:48.994Z"
   },
   {
    "duration": 1243,
    "start_time": "2022-12-21T17:34:42.911Z"
   },
   {
    "duration": 21,
    "start_time": "2022-12-21T17:34:44.157Z"
   },
   {
    "duration": 8,
    "start_time": "2022-12-21T17:34:44.181Z"
   },
   {
    "duration": 6758,
    "start_time": "2022-12-21T17:34:44.191Z"
   },
   {
    "duration": 1485,
    "start_time": "2022-12-21T17:42:11.582Z"
   },
   {
    "duration": 33,
    "start_time": "2022-12-21T17:42:13.069Z"
   },
   {
    "duration": 17,
    "start_time": "2022-12-21T17:42:13.104Z"
   },
   {
    "duration": 20,
    "start_time": "2022-12-21T17:42:13.123Z"
   },
   {
    "duration": 9,
    "start_time": "2022-12-21T17:42:13.152Z"
   },
   {
    "duration": 58,
    "start_time": "2022-12-21T17:42:13.163Z"
   },
   {
    "duration": 37,
    "start_time": "2022-12-21T17:42:13.222Z"
   },
   {
    "duration": 17,
    "start_time": "2022-12-21T17:42:13.260Z"
   },
   {
    "duration": 2589,
    "start_time": "2022-12-21T17:42:13.279Z"
   },
   {
    "duration": 32,
    "start_time": "2022-12-21T17:42:15.870Z"
   },
   {
    "duration": 1652,
    "start_time": "2022-12-21T17:42:15.903Z"
   },
   {
    "duration": 5,
    "start_time": "2022-12-21T17:42:17.557Z"
   },
   {
    "duration": 19,
    "start_time": "2022-12-21T17:42:17.564Z"
   },
   {
    "duration": 367,
    "start_time": "2022-12-21T17:42:17.586Z"
   },
   {
    "duration": 548,
    "start_time": "2022-12-21T17:42:17.955Z"
   },
   {
    "duration": 14,
    "start_time": "2022-12-21T17:42:18.505Z"
   },
   {
    "duration": 9,
    "start_time": "2022-12-21T17:42:18.521Z"
   },
   {
    "duration": 730,
    "start_time": "2022-12-21T17:42:18.532Z"
   },
   {
    "duration": 112807,
    "start_time": "2022-12-21T17:42:19.264Z"
   },
   {
    "duration": 1279,
    "start_time": "2022-12-21T17:44:12.074Z"
   },
   {
    "duration": 17,
    "start_time": "2022-12-21T17:44:13.356Z"
   },
   {
    "duration": 78,
    "start_time": "2022-12-21T17:44:13.375Z"
   },
   {
    "duration": 6336,
    "start_time": "2022-12-21T17:44:13.455Z"
   },
   {
    "duration": 1645,
    "start_time": "2022-12-21T17:48:44.537Z"
   },
   {
    "duration": 40,
    "start_time": "2022-12-21T17:48:46.183Z"
   },
   {
    "duration": 13,
    "start_time": "2022-12-21T17:48:46.225Z"
   },
   {
    "duration": 17,
    "start_time": "2022-12-21T17:48:46.240Z"
   },
   {
    "duration": 8,
    "start_time": "2022-12-21T17:48:46.259Z"
   },
   {
    "duration": 60,
    "start_time": "2022-12-21T17:48:46.269Z"
   },
   {
    "duration": 32,
    "start_time": "2022-12-21T17:48:46.331Z"
   },
   {
    "duration": 21,
    "start_time": "2022-12-21T17:48:46.365Z"
   },
   {
    "duration": 2455,
    "start_time": "2022-12-21T17:48:46.388Z"
   },
   {
    "duration": 33,
    "start_time": "2022-12-21T17:48:48.845Z"
   },
   {
    "duration": 1630,
    "start_time": "2022-12-21T17:48:48.880Z"
   },
   {
    "duration": 5,
    "start_time": "2022-12-21T17:48:50.512Z"
   },
   {
    "duration": 13,
    "start_time": "2022-12-21T17:48:50.518Z"
   },
   {
    "duration": 933,
    "start_time": "2022-12-21T17:48:50.534Z"
   },
   {
    "duration": 533,
    "start_time": "2022-12-21T17:48:51.469Z"
   },
   {
    "duration": 16,
    "start_time": "2022-12-21T17:48:52.005Z"
   },
   {
    "duration": 10,
    "start_time": "2022-12-21T17:48:52.023Z"
   },
   {
    "duration": 667,
    "start_time": "2022-12-21T17:48:52.035Z"
   },
   {
    "duration": 108370,
    "start_time": "2022-12-21T17:48:52.704Z"
   },
   {
    "duration": 984,
    "start_time": "2022-12-21T17:50:41.076Z"
   },
   {
    "duration": 98,
    "start_time": "2022-12-21T17:50:42.061Z"
   },
   {
    "duration": 6,
    "start_time": "2022-12-21T17:50:42.160Z"
   },
   {
    "duration": 6402,
    "start_time": "2022-12-21T17:50:42.168Z"
   }
  ],
  "kernelspec": {
   "display_name": "Python 3 (ipykernel)",
   "language": "python",
   "name": "python3"
  },
  "language_info": {
   "codemirror_mode": {
    "name": "ipython",
    "version": 3
   },
   "file_extension": ".py",
   "mimetype": "text/x-python",
   "name": "python",
   "nbconvert_exporter": "python",
   "pygments_lexer": "ipython3",
   "version": "3.9.5"
  },
  "toc": {
   "base_numbering": 1,
   "nav_menu": {},
   "number_sections": true,
   "sideBar": true,
   "skip_h1_title": true,
   "title_cell": "Table of Contents",
   "title_sidebar": "Contents",
   "toc_cell": false,
   "toc_position": {
    "height": "calc(100% - 180px)",
    "left": "10px",
    "top": "150px",
    "width": "341.319px"
   },
   "toc_section_display": true,
   "toc_window_display": true
  }
 },
 "nbformat": 4,
 "nbformat_minor": 2
}
