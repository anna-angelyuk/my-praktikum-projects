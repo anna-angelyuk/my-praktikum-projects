{
 "cells": [
  {
   "cell_type": "code",
   "execution_count": 1,
   "id": "de2a003a",
   "metadata": {},
   "outputs": [],
   "source": [
    "import pandas as pd\n",
    "from bs4 import BeautifulSoup\n",
    "import numpy as np\n",
    "from datetime import datetime\n",
    "from datetime import timedelta"
   ]
  },
  {
   "cell_type": "code",
   "execution_count": 2,
   "id": "13489780",
   "metadata": {},
   "outputs": [],
   "source": [
    "df = pd.read_csv('masterskaya_yandex_2022_09_07.csv')"
   ]
  },
  {
   "cell_type": "code",
   "execution_count": 3,
   "id": "419c1d50",
   "metadata": {},
   "outputs": [
    {
     "data": {
      "text/html": [
       "<div>\n",
       "<style scoped>\n",
       "    .dataframe tbody tr th:only-of-type {\n",
       "        vertical-align: middle;\n",
       "    }\n",
       "\n",
       "    .dataframe tbody tr th {\n",
       "        vertical-align: top;\n",
       "    }\n",
       "\n",
       "    .dataframe thead th {\n",
       "        text-align: right;\n",
       "    }\n",
       "</style>\n",
       "<table border=\"1\" class=\"dataframe\">\n",
       "  <thead>\n",
       "    <tr style=\"text-align: right;\">\n",
       "      <th></th>\n",
       "      <th>Unnamed: 0</th>\n",
       "      <th>html</th>\n",
       "    </tr>\n",
       "  </thead>\n",
       "  <tbody>\n",
       "    <tr>\n",
       "      <th>0</th>\n",
       "      <td>0</td>\n",
       "      <td>\\n  &lt;div&gt;\\n    &lt;div class=\"\\n        jobs-deta...</td>\n",
       "    </tr>\n",
       "    <tr>\n",
       "      <th>1</th>\n",
       "      <td>1</td>\n",
       "      <td>\\n  &lt;div&gt;\\n    &lt;div class=\"\\n        jobs-deta...</td>\n",
       "    </tr>\n",
       "    <tr>\n",
       "      <th>2</th>\n",
       "      <td>2</td>\n",
       "      <td>\\n  &lt;div&gt;\\n    &lt;div class=\"\\n        jobs-deta...</td>\n",
       "    </tr>\n",
       "    <tr>\n",
       "      <th>3</th>\n",
       "      <td>3</td>\n",
       "      <td>\\n  &lt;div&gt;\\n    &lt;div class=\"\\n        jobs-deta...</td>\n",
       "    </tr>\n",
       "    <tr>\n",
       "      <th>4</th>\n",
       "      <td>4</td>\n",
       "      <td>\\n  &lt;div&gt;\\n    &lt;div class=\"\\n        jobs-deta...</td>\n",
       "    </tr>\n",
       "    <tr>\n",
       "      <th>...</th>\n",
       "      <td>...</td>\n",
       "      <td>...</td>\n",
       "    </tr>\n",
       "    <tr>\n",
       "      <th>767</th>\n",
       "      <td>767</td>\n",
       "      <td>\\n  &lt;div&gt;\\n    &lt;div class=\"\\n        jobs-deta...</td>\n",
       "    </tr>\n",
       "    <tr>\n",
       "      <th>768</th>\n",
       "      <td>768</td>\n",
       "      <td>\\n  &lt;div&gt;\\n    &lt;div class=\"\\n        jobs-deta...</td>\n",
       "    </tr>\n",
       "    <tr>\n",
       "      <th>769</th>\n",
       "      <td>769</td>\n",
       "      <td>\\n  &lt;div&gt;\\n    &lt;div class=\"\\n        jobs-deta...</td>\n",
       "    </tr>\n",
       "    <tr>\n",
       "      <th>770</th>\n",
       "      <td>770</td>\n",
       "      <td>\\n  &lt;div&gt;\\n    &lt;div class=\"\\n        jobs-deta...</td>\n",
       "    </tr>\n",
       "    <tr>\n",
       "      <th>771</th>\n",
       "      <td>771</td>\n",
       "      <td>\\n  &lt;div&gt;\\n    &lt;div class=\"\\n        jobs-deta...</td>\n",
       "    </tr>\n",
       "  </tbody>\n",
       "</table>\n",
       "<p>772 rows × 2 columns</p>\n",
       "</div>"
      ],
      "text/plain": [
       "     Unnamed: 0                                               html\n",
       "0             0  \\n  <div>\\n    <div class=\"\\n        jobs-deta...\n",
       "1             1  \\n  <div>\\n    <div class=\"\\n        jobs-deta...\n",
       "2             2  \\n  <div>\\n    <div class=\"\\n        jobs-deta...\n",
       "3             3  \\n  <div>\\n    <div class=\"\\n        jobs-deta...\n",
       "4             4  \\n  <div>\\n    <div class=\"\\n        jobs-deta...\n",
       "..          ...                                                ...\n",
       "767         767  \\n  <div>\\n    <div class=\"\\n        jobs-deta...\n",
       "768         768  \\n  <div>\\n    <div class=\"\\n        jobs-deta...\n",
       "769         769  \\n  <div>\\n    <div class=\"\\n        jobs-deta...\n",
       "770         770  \\n  <div>\\n    <div class=\"\\n        jobs-deta...\n",
       "771         771  \\n  <div>\\n    <div class=\"\\n        jobs-deta...\n",
       "\n",
       "[772 rows x 2 columns]"
      ]
     },
     "execution_count": 3,
     "metadata": {},
     "output_type": "execute_result"
    }
   ],
   "source": [
    "df"
   ]
  },
  {
   "cell_type": "markdown",
   "id": "40fe3880",
   "metadata": {},
   "source": [
    "## Парсинг html"
   ]
  },
  {
   "cell_type": "code",
   "execution_count": 4,
   "id": "3ac7a876",
   "metadata": {},
   "outputs": [
    {
     "data": {
      "text/plain": [
       "'\\n  <div>\\n    <div class=\"\\n        jobs-details__main-content jobs-details__main-content--single-pane full-width\\n        \">\\n        \\n<!---->\\n      \\n<!---->\\n      <div>\\n        <div class=\"jobs-unified-top-card t-14\">\\n  <div class=\"relative\">\\n\\n    <div class=\"jobs-unified-top-card__content--two-pane\">\\n<!---->\\n        <a href=\"/jobs/view/3258155313/?alternateChannel=search&amp;refId=xQWMq5sHxPa4BOVKDp0TKg%3D%3D&amp;trackingId=grGqx%2FHW0EZ%2BorBvEr%2Ft%2Bg%3D%3D&amp;trk=d_flagship3_search_srp_jobs\" id=\"ember464\" class=\"ember-view\">\\n          <h2 class=\"t-24 t-bold jobs-unified-top-card__job-title\">Stage - Assistant Ingénieur Qualité - Beyrand (H/F)</h2>\\n        </a>\\n\\n      <div class=\"jobs-unified-top-card__primary-description\">\\n          <span class=\"jobs-unified-top-card__subtitle-primary-grouping t-black\">\\n            <span class=\"jobs-unified-top-card__company-name\">\\n                  <a href=\"/company/hermes-group/life/\" id=\"ember465\" class=\"ember-view t-black t-normal\">\\n                    Hermès\\n                  </a>\\n            </span>\\n              <span class=\"jobs-unified-top-card__bullet\">\\n                Limoges, Nouvelle-Aquitaine, France\\n              </span>\\n\\n              <span class=\"jobs-unified-top-card__workplace-type\">On-site</span>\\n          </span>\\n          <span class=\"jobs-unified-top-card__subtitle-secondary-grouping t-black--light\">\\n              <span class=\"jobs-unified-top-card__posted-date\\n                  jobs-unified-top-card__posted-date--new t-bold\">\\n                13 minutes ago\\n              </span>\\n<!---->          </span>\\n      </div>\\n\\n      <div class=\"mt5 mb2\">\\n          <ul>\\n                <li class=\"jobs-unified-top-card__job-insight\">\\n                  <div class=\"flex-shrink-zero mr2 t-black--light\">\\n                    <div class=\"ivm-image-view-model   \">\\n    <div class=\"ivm-view-attr__img-wrapper ivm-view-attr__img-wrapper--use-img-tag display-flex\\n    \\n    \">\\n    <li-icon aria-hidden=\"true\" type=\"job\" size=\"large\"><svg xmlns=\"http://www.w3.org/2000/svg\" viewBox=\"0 0 24 24\" data-supported-dps=\"24x24\" fill=\"currentColor\" class=\"mercado-match\" width=\"24\" height=\"24\" focusable=\"false\">\\n  <path d=\"M17 6V5a3 3 0 00-3-3h-4a3 3 0 00-3 3v1H2v4a3 3 0 003 3h14a3 3 0 003-3V6zM9 5a1 1 0 011-1h4a1 1 0 011 1v1H9zm10 9a4 4 0 003-1.38V17a3 3 0 01-3 3H5a3 3 0 01-3-3v-4.38A4 4 0 005 14z\"></path>\\n</svg></li-icon>\\n</div>\\n  </div>\\n                  </div>\\n                  <span>\\n                    <!---->Internship · Entry level<!---->\\n                  </span>\\n                </li>\\n                <li class=\"jobs-unified-top-card__job-insight\">\\n                  <div class=\"flex-shrink-zero mr2 t-black--light\">\\n                    <div class=\"ivm-image-view-model   \">\\n    <div class=\"ivm-view-attr__img-wrapper ivm-view-attr__img-wrapper--use-img-tag display-flex\\n    \\n    \">\\n    <li-icon aria-hidden=\"true\" type=\"company\" size=\"large\"><svg xmlns=\"http://www.w3.org/2000/svg\" viewBox=\"0 0 24 24\" data-supported-dps=\"24x24\" fill=\"currentColor\" class=\"mercado-match\" width=\"24\" height=\"24\" focusable=\"false\">\\n  <path d=\"M4 2v20h16V2zm14 18h-4v-2h-4v2H6V4h12zm-7-8H8v-2h3zm0 4H8v-2h3zm5-4h-3v-2h3zm-5-4H8V6h3zm5 0h-3V6h3zm0 8h-3v-2h3z\"></path>\\n</svg></li-icon>\\n</div>\\n  </div>\\n                  </div>\\n                  <span>\\n                    <!---->10,001+ employees · Retail Luxury Goods and Jewelry<!---->\\n                  </span>\\n                </li>\\n                    <li class=\"jobs-unified-top-card__job-insight jobs-unified-top-card__job-insight--highlight\">\\n                      <div class=\"flex-shrink-zero mr2 t-black--light\">\\n                        <div class=\"ivm-image-view-model   \">\\n    <div class=\"ivm-view-attr__img-wrapper ivm-view-attr__img-wrapper--use-img-tag display-flex\\n    \\n    \">\\n    <li-icon aria-hidden=\"true\" type=\"lightbulb\" size=\"medium\"><svg xmlns=\"http://www.w3.org/2000/svg\" viewBox=\"0 0 24 24\" data-supported-dps=\"24x24\" fill=\"currentColor\" class=\"mercado-match\" width=\"24\" height=\"24\" focusable=\"false\">\\n  <path d=\"M10 20h4v.1a1.9 1.9 0 01-1.9 1.9h-.2a1.9 1.9 0 01-1.9-1.9zm4.68-14.47A1 1 0 0016 5l.76-1.85a1 1 0 00-.54-1.3 1 1 0 00-1.31.54l-.76 1.85a1 1 0 00.53 1.29zm5.09 4.33l1.85-.76a1 1 0 00.54-1.31 1 1 0 00-1.3-.54L19 8a1 1 0 00-.54 1.31 1 1 0 001.3.55zM4.23 14.14l-1.85.76a1 1 0 00-.54 1.31 1 1 0 001.3.54L5 16a1 1 0 00.54-1.31 1 1 0 00-1.3-.55zm17.39.76l-1.85-.76A1 1 0 0019 16l1.85.76a1 1 0 00.78-1.86zM5 8l-1.86-.75a1 1 0 00-1.3.54 1 1 0 00.54 1.31l1.85.76A1 1 0 005 8zm3-3a1 1 0 001.31.54 1 1 0 00.54-1.3L9.1 2.38a1 1 0 00-1.31-.54 1 1 0 00-.54 1.3zm9 6.91V12a5.48 5.48 0 01-1.61 3.88l-.07.08a3.94 3.94 0 00-1.08 1.94L14 19h-4l-.24-1.08A4 4 0 008.68 16l-.07-.07A5.51 5.51 0 017 12v-.1A4.9 4.9 0 0111.9 7h.2a4.9 4.9 0 014.9 4.9zm-2 0A2.9 2.9 0 0012.11 9h-.21A2.9 2.9 0 009 11.9v.1a3.47 3.47 0 001 2.47l.08.08a5.92 5.92 0 011.5 2.45h.84a6 6 0 011.48-2.44l.08-.07A3.48 3.48 0 0015 12z\"></path>\\n</svg></li-icon>\\n</div>\\n  </div>\\n                      </div>\\n                      <span>\\n                        <!---->See recent hiring trends for Hermès.<span class=\"white-space-pre\"> </span><a class=\"app-aware-link\" target=\"_self\" href=\"https://www.linkedin.com/premium/products/?family=JSS&amp;upsellOrderOrigin=premium_job_details_summary_card&amp;utype=job\"><!---->Unlock more Premium insights for free<!----></a>\\n                      </span>\\n                    </li>\\n                <li class=\"jobs-unified-top-card__job-insight\">\\n                  <div class=\"flex-shrink-zero mr2 t-black--light\">\\n                    <div class=\"ivm-image-view-model   \">\\n    <div class=\"ivm-view-attr__img-wrapper ivm-view-attr__img-wrapper--use-img-tag display-flex\\n    \\n    \">\\n    <li-icon type=\"radar-screen-icon\" class=\"ivm-view-attr__icon--signal-positive \" size=\"large\" role=\"img\" aria-label=\"Actively recruiting\"><svg xmlns=\"http://www.w3.org/2000/svg\" viewBox=\"0 0 24 24\" data-supported-dps=\"24x24\" fill=\"currentColor\" class=\"mercado-match\" width=\"24\" height=\"24\" focusable=\"false\">\\n  <path d=\"M12 20a8 8 0 010-16 7.91 7.91 0 014.9 1.69l-1.43 1.42a6 6 0 101.42 1.42l3.82-3.82a1 1 0 000-1.41A1 1 0 0020 3a1 1 0 00-.7.29l-1 1A10 10 0 1022 12h-2a8 8 0 01-8 8zm5-8a5 5 0 11-5-5 4.93 4.93 0 012.76.82l-2.24 2.24A2.24 2.24 0 0012 10a2 2 0 102 2 2.24 2.24 0 00-.07-.51l2.24-2.24A5 5 0 0117 12z\"></path>\\n</svg></li-icon>\\n</div>\\n  </div>\\n                  </div>\\n                  <span>\\n                    <!---->Actively recruiting<!---->\\n                  </span>\\n                </li>\\n          </ul>\\n              </div>\\n\\n      <div class=\"mt5\">\\n          <div class=\"display-flex\">\\n              <div class=\"jobs-s-apply jobs-s-apply--fadein inline-flex mr2\">\\n    <div class=\"jobs-apply-button--top-card\">\\n  <button role=\"link\" aria-label=\"Apply to Stage - Assistant Ingénieur Qualité - Beyrand (H/F) on company website\" id=\"ember654\" class=\"jobs-apply-button artdeco-button artdeco-button--icon-right artdeco-button--3 artdeco-button--primary ember-view\">  <li-icon aria-hidden=\"true\" type=\"link-external\" class=\"artdeco-button__icon\" size=\"small\"><svg xmlns=\"http://www.w3.org/2000/svg\" viewBox=\"0 0 16 16\" data-supported-dps=\"16x16\" fill=\"currentColor\" class=\"mercado-match\" width=\"16\" height=\"16\" focusable=\"false\">\\n  <path d=\"M15 1v6h-2V4.41L7.41 10 6 8.59 11.59 3H9V1zm-4 10a1 1 0 01-1 1H5a1 1 0 01-1-1V6a1 1 0 011-1h2V3H5a3 3 0 00-3 3v5a3 3 0 003 3h5a3 3 0 003-3V9h-2z\"></path>\\n</svg></li-icon>\\n\\n<span class=\"artdeco-button__text\">\\n    Apply\\n</span></button>\\n</div>\\n</div>\\n              <button class=\"jobs-save-button artdeco-button artdeco-button--3 artdeco-button--secondary\" type=\"button\">\\n<!---->      <span aria-hidden=\"true\">\\n        Save\\n      </span>\\n    <span class=\"a11y-text\">\\n      Save Stage - Assistant Ingénieur Qualité - Beyrand (H/F) at Hermès\\n    </span>\\n</button>\\n          </div>\\n\\n<!---->\\n<!----><!---->      </div>\\n\\n<!---->\\n<!---->\\n<!---->\\n<!---->    </div>\\n\\n<!---->\\n<!---->\\n    <div class=\"jobs-unified-top-card__buttons-container absolute\">\\n      <div class=\"display-flex flex-column\">\\n        <div class=\"display-flex justify-flex-end\">\\n            <div id=\"ember466\" class=\"artdeco-dropdown artdeco-dropdown--placement-bottom artdeco-dropdown--justification-right ember-view\">\\n\\n    <button aria-expanded=\"false\" id=\"ember467\" class=\"social-share__dropdown-trigger artdeco-button artdeco-button--3 artdeco-button--tertiary artdeco-button--circle artdeco-button--muted artdeco-dropdown__trigger artdeco-dropdown__trigger--placement-bottom ember-view\" type=\"button\" tabindex=\"0\">\\n      <li-icon aria-hidden=\"true\" type=\"share-linkedin\" class=\"artdeco-button__icon\" size=\"medium\"><svg xmlns=\"http://www.w3.org/2000/svg\" viewBox=\"0 0 24 24\" data-supported-dps=\"24x24\" fill=\"currentColor\" class=\"mercado-match\" width=\"24\" height=\"24\" focusable=\"false\">\\n  <path d=\"M23 12l-4.61 7H16l4-6H8a3.92 3.92 0 00-4 3.84V17a4 4 0 00.19 1.24L5.12 21H3l-.73-2.22A6.4 6.4 0 012 16.94 6 6 0 018 11h12l-4-6h2.39z\"></path>\\n</svg></li-icon>\\n      <span class=\"artdeco-button__text\">Share</span>\\n    \\n<!----></button>\\n\\n  <div tabindex=\"-1\" aria-hidden=\"true\" id=\"ember468\" class=\"social-share__content text-align-left artdeco-dropdown__content artdeco-dropdown--is-dropdown-element artdeco-dropdown__content--has-arrow artdeco-dropdown__content--arrow-right artdeco-dropdown__content--justification-right artdeco-dropdown__content--placement-bottom ember-view\"><!----></div>\\n</div>\\n\\n<div>\\n    \\n    \\n<!---->    \\n  \\n\\n</div>\\n            <div id=\"ember469\" class=\"artdeco-dropdown jobs-options artdeco-dropdown--placement-bottom artdeco-dropdown--justification-right ember-view\">\\n  \\n              <button aria-expanded=\"false\" id=\"ember470\" class=\"artdeco-button artdeco-button--3 artdeco-button--tertiary artdeco-button--muted artdeco-button--circle artdeco-dropdown__trigger artdeco-dropdown__trigger--placement-bottom ember-view\" type=\"button\" tabindex=\"0\">\\n                <li-icon aria-hidden=\"true\" type=\"overflow-web-ios\" class=\"artdeco-button__icon\"><svg xmlns=\"http://www.w3.org/2000/svg\" viewBox=\"0 0 24 24\" data-supported-dps=\"24x24\" fill=\"currentColor\" class=\"mercado-match\" width=\"24\" height=\"24\" focusable=\"false\">\\n  <path d=\"M14 12a2 2 0 11-2-2 2 2 0 012 2zM4 10a2 2 0 102 2 2 2 0 00-2-2zm16 0a2 2 0 102 2 2 2 0 00-2-2z\"></path>\\n</svg></li-icon>\\n                <span class=\"artdeco-button__text\">\\n                  Show more options\\n                </span>\\n              \\n<!----></button>\\n            \\n  <div tabindex=\"-1\" aria-hidden=\"true\" id=\"ember471\" class=\"artdeco-dropdown__content artdeco-dropdown--is-dropdown-element artdeco-dropdown__content--has-arrow artdeco-dropdown__content--arrow-right artdeco-dropdown__content--justification-right artdeco-dropdown__content--placement-bottom ember-view\"><!----></div>\\n</div>\\n        </div>\\n<!---->      </div>\\n    </div>\\n  </div>\\n    <div class=\"jobs-unified-top-card__sticky-header\\n        jobs-unified-top-card__sticky-header--disabled\">\\n      <div class=\"jobs-unified-top-card__title-container\">\\n          <a data-control-id=\"grGqx/HW0EZ+orBvEr/t+g==\" href=\"/jobs/view/3258155313/?alternateChannel=search&amp;refId=xQWMq5sHxPa4BOVKDp0TKg%3D%3D&amp;trackingId=grGqx%2FHW0EZ%2BorBvEr%2Ft%2Bg%3D%3D&amp;trk=d_flagship3_search_srp_jobs\" id=\"ember472\" class=\"ember-view\">\\n            <h2 class=\"t-16 t-black t-bold truncate\">\\n              Stage - Assistant Ingénieur Qualité - Beyrand (H/F)\\n            </h2>\\n          </a>\\n        <div class=\"t-14 truncate\">\\n          <span>Hermès</span>\\n            <span class=\"jobs-unified-top-card__bullet\">Limoges, Nouvelle-Aquitaine, France</span>\\n            <span class=\"jobs-unified-top-card__workplace-type\">On-site</span>\\n        </div>\\n      </div>\\n      <div class=\"jobs-unified-top-card__sticky-buttons-container\">\\n          <div class=\"jobs-s-apply jobs-s-apply--fadein inline-flex mr2\">\\n    <div class=\"jobs-apply-button--top-card\">\\n  <button role=\"link\" aria-label=\"Apply to Stage - Assistant Ingénieur Qualité - Beyrand (H/F) on company website\" id=\"ember655\" class=\"jobs-apply-button artdeco-button artdeco-button--icon-right artdeco-button--2 artdeco-button--primary ember-view\">  <li-icon aria-hidden=\"true\" type=\"link-external\" class=\"artdeco-button__icon\" size=\"small\"><svg xmlns=\"http://www.w3.org/2000/svg\" viewBox=\"0 0 16 16\" data-supported-dps=\"16x16\" fill=\"currentColor\" class=\"mercado-match\" width=\"16\" height=\"16\" focusable=\"false\">\\n  <path d=\"M15 1v6h-2V4.41L7.41 10 6 8.59 11.59 3H9V1zm-4 10a1 1 0 01-1 1H5a1 1 0 01-1-1V6a1 1 0 011-1h2V3H5a3 3 0 00-3 3v5a3 3 0 003 3h5a3 3 0 003-3V9h-2z\"></path>\\n</svg></li-icon>\\n\\n<span class=\"artdeco-button__text\">\\n    Apply\\n</span></button>\\n</div>\\n</div>\\n\\n          <button class=\"jobs-save-button mr2 artdeco-button artdeco-button--2 artdeco-button--secondary\" aria-expanded=\"false\" type=\"button\">\\n<!---->      <span aria-hidden=\"true\">\\n        Save\\n      </span>\\n    <span class=\"a11y-text\">\\n      Save Stage - Assistant Ingénieur Qualité - Beyrand (H/F) at Hermès\\n    </span>\\n</button>\\n\\n        <div id=\"ember473\" class=\"artdeco-dropdown jobs-options artdeco-dropdown--placement-bottom artdeco-dropdown--justification-right ember-view inline-flex\">\\n  \\n          <button aria-expanded=\"false\" id=\"ember474\" class=\"artdeco-button artdeco-button--2 artdeco-button--tertiary artdeco-button--muted artdeco-button--circle artdeco-dropdown__trigger artdeco-dropdown__trigger--placement-bottom ember-view\" type=\"button\" tabindex=\"0\">\\n\\n            <li-icon aria-hidden=\"true\" type=\"overflow-web-ios\" class=\"artdeco-button__icon\"><svg xmlns=\"http://www.w3.org/2000/svg\" viewBox=\"0 0 24 24\" data-supported-dps=\"24x24\" fill=\"currentColor\" class=\"mercado-match\" width=\"24\" height=\"24\" focusable=\"false\">\\n  <path d=\"M14 12a2 2 0 11-2-2 2 2 0 012 2zM4 10a2 2 0 102 2 2 2 0 00-2-2zm16 0a2 2 0 102 2 2 2 0 00-2-2z\"></path>\\n</svg></li-icon>\\n            <span class=\"artdeco-button__text\">\\n              Show more options\\n            </span>\\n          \\n<!----></button>\\n        \\n  <div tabindex=\"-1\" aria-hidden=\"true\" id=\"ember475\" class=\"artdeco-dropdown__content artdeco-dropdown--is-dropdown-element artdeco-dropdown__content--has-arrow artdeco-dropdown__content--arrow-right artdeco-dropdown__content--justification-right artdeco-dropdown__content--placement-bottom ember-view\"><!----></div>\\n</div>\\n      </div>\\n    </div>\\n</div>\\n\\n<!---->      </div>\\n\\n<!---->\\n        <div class=\"jobs-box--fadein jobs-box--full-width jobs-box--with-cta-large jobs-description\\n    \\n    \\n    \\n     jobs-description--reformatted\\n    \\n    \">\\n\\n<!---->\\n  <article class=\"jobs-description__container\\n      m4\">\\n    <div class=\"jobs-description__content jobs-description-content\\n        \">\\n      <div class=\"jobs-box__html-content jobs-description-content__text t-14 t-normal\\n          jobs-description-content__text--stretch\" id=\"job-details\" tabindex=\"-1\">\\n<!---->\\n<!---->\\n<!---->        <span>\\n                <strong><u>LA SOCIETE :</u> </strong><p><br>\\n</p>Créée en 1926, la société Beyrand, filiale du Groupe Hermès depuis 2013, met au point, développe et reproduit les décors de ses clients sur des supports tels que la céramique (bone china, faïence et porcelaine), l\\'émail, le verre ou le cuir.<p><br>\\n</p>Par la précision de son savoir-faire et sa capacité à innover, Beyrand se positionne comme référent mondial dans le domaine de l’impression sérigraphique et partenaire d’excellence pour l’industrie du luxe.<p><br>\\n</p>Des choix stratégiques et technologiques ambitieux destinés à s’adapter aux besoins de ses clients, actuels et à venir, permettent aujourd’hui à Beyrand d’étendre son expertise au-delà de ses marchés traditionnels (Art de la Table, sanitaire, <i>giftware</i>) pour conquérir et développer de nouveaux territoires (notamment maroquinerie). Son ambition est d’affirmer son positionnement d’excellence sur le marché B2B de décoration de l’industrie du luxe, en proposant un savoir-faire de décoration de haute précision sur une variété de supports, faisant appel à une variété de technologies.<p><br>\\n</p><strong>Stage de 6 mois à pouvoir pour janvier 2023. Basé à Saint-Just-le-Martel, à proximité de Limoges.</strong><p><br>\\n</p><strong><u>MISSIONS GENERALE :</u></strong><p><br>\\n</p>Le/la stagiaire Ingénieur Qualité aura pour mission d’accompagner le Responsable Qualité du site dans la mise en place de méthodes de résolution de problèmes dans les ateliers, dans la formalisation de nos processus et plans de contrôle ainsi que dans la robustesse des contrôles amonts au process de fabrication. Ces étapes s’inscrivent dans notre feuille de route d’amélioration continue de la Qualité opérationnelle de l’entreprise et de la satisfaction de nos clients.<p><br>\\n</p><strong><u> PRINCIPALES ACTIVITES : </u></strong><p><br>\\n</p><ul><li>Résolutions de problèmes terrain</li><li>Déploiement de méthode type QRQC en ateliers de production (impression, couleurs, écrans) </li><li>Participation à des groupes de travail sur la résolution de problèmes Qualité (internes &amp; externes) </li><li>Coconstruire les outils de formation et piloter leurs déploiements auprès des opérationnels </li><li>Opérations de contrôles</li><li>Définition/formalisation de plans de contrôles génériques par type de produit </li><li>Animation des tests Reproductibilité &amp; Répétabilité des outils de mesure (spectrophotomètres…) </li><li>Amélioration/mise en place de contrôles sur les paramètres critiques en amont de l’impression (couleur des pâtes, dimensions tissus…) </li><li>Système qualité</li><li>Déploiement du système qualité sur les postes (modes opératoires et procédures) </li><li>Mettre en place des audits produit/process pour renforcer la culture Qualité sur le site </li><li>Participation à la capitalisation des savoir-faire <br>\\n</li></ul><p><br>\\n</p><strong><u>PROFIL :</u></strong><p><br>\\n</p>Étudiant(e) de formation Bac +5 à dominante industrielle à la recherche d’un stage de fin d’études (6 mois), avec idéalement une première expérience en entreprise (Qualité, Méthode, Production).<p><br>\\n</p>Vous êtes à l’aise avec les outils et méthodes de l’amélioration continue : Plan de surveillance, 5 Pourquoi, 5M, 5S, Muda, AMDEC Risques…<p><br>\\n</p>Vous souhaitez vous investir dans une expérience formatrice et très opérationnelle.<p><br>\\n</p>Vous êtes curieux, autonome et vous avez de grandes capacités d’analyse et de rigueur, tout en ayant un bon sens pratique et un goût pour le terrain, avec des capacités à mettre en œuvre les méthodologies de résolution de problème.<p><br>\\n</p>Enfin, vous avez un excellent niveau de communication écrit et oral.\\n<!---->        </span>\\n      </div>\\n<!---->      <div class=\"jobs-description__details\">\\n<!---->\\n      </div>\\n    </div>\\n  </article>\\n<!----></div>\\n<!----><!---->\\n                <div id=\"SALARY\" class=\"ember-view jobs-box--generic-occludable-area-large   jobs-unified-description__salary-main-rail-card\">\\n<!---->    </div>\\n\\n\\n<!----><!---->\\n<!---->\\n<!---->\\n                <div id=\"ember657\" class=\"ember-view jobs-box--generic-occludable-area-large  \">\\n<!---->    </div>\\n\\n\\n<!---->    </div>\\n\\n<!---->  </div>\\n\\n  <div id=\"ember477\" class=\"ember-view\"><!----></div>\\n\\n<div id=\"ember478\" class=\"ember-view\"><div id=\"ember479\" class=\"ember-view\"><!----></div></div>\\n\\n  <div>\\n  <div id=\"ember480\" class=\"ember-view\"><!----></div>\\n</div>\\n\\n  <div id=\"ember481\" class=\"ember-view\"><!----></div>\\n\\n<!---->\\n  <div class=\"jobs-message-modal\">\\n  <div id=\"ember482\" class=\"ember-view\"><!----></div>\\n</div>\\n\\n<!---->\\n<!---->\\n<!---->\\n  <div id=\"ember483\" class=\"ember-view\"><!----></div>\\n'"
      ]
     },
     "execution_count": 4,
     "metadata": {},
     "output_type": "execute_result"
    }
   ],
   "source": [
    "elem = df['html'][0] #немного теории\n",
    "elem"
   ]
  },
  {
   "cell_type": "code",
   "execution_count": 5,
   "id": "7e03319b",
   "metadata": {},
   "outputs": [],
   "source": [
    "soup = BeautifulSoup(elem)"
   ]
  },
  {
   "cell_type": "code",
   "execution_count": 6,
   "id": "5590dd33",
   "metadata": {},
   "outputs": [
    {
     "data": {
      "text/plain": [
       "<h2 class=\"t-24 t-bold jobs-unified-top-card__job-title\">Stage - Assistant Ingénieur Qualité - Beyrand (H/F)</h2>"
      ]
     },
     "execution_count": 6,
     "metadata": {},
     "output_type": "execute_result"
    }
   ],
   "source": [
    "soup.h2"
   ]
  },
  {
   "cell_type": "code",
   "execution_count": 7,
   "id": "e0195a7a",
   "metadata": {},
   "outputs": [
    {
     "data": {
      "text/plain": [
       "'Stage - Assistant Ingénieur Qualité - Beyrand (H/F)'"
      ]
     },
     "execution_count": 7,
     "metadata": {},
     "output_type": "execute_result"
    }
   ],
   "source": [
    "soup.find('h2').text"
   ]
  },
  {
   "cell_type": "code",
   "execution_count": 8,
   "id": "365eff64",
   "metadata": {},
   "outputs": [
    {
     "data": {
      "text/plain": [
       "'Stage - Assistant Ingénieur Qualité - Beyrand (H/F)'"
      ]
     },
     "execution_count": 8,
     "metadata": {},
     "output_type": "execute_result"
    }
   ],
   "source": [
    "soup.find('h2').text.strip()"
   ]
  },
  {
   "cell_type": "markdown",
   "id": "acf8e97d",
   "metadata": {},
   "source": [
    "### Название вакансии"
   ]
  },
  {
   "cell_type": "code",
   "execution_count": 9,
   "id": "d578b832",
   "metadata": {},
   "outputs": [],
   "source": [
    "df['title'] = df['html'].apply(lambda x:  BeautifulSoup(x).find('h2').text.strip())"
   ]
  },
  {
   "cell_type": "code",
   "execution_count": 10,
   "id": "933422f8",
   "metadata": {},
   "outputs": [
    {
     "data": {
      "text/html": [
       "<div>\n",
       "<style scoped>\n",
       "    .dataframe tbody tr th:only-of-type {\n",
       "        vertical-align: middle;\n",
       "    }\n",
       "\n",
       "    .dataframe tbody tr th {\n",
       "        vertical-align: top;\n",
       "    }\n",
       "\n",
       "    .dataframe thead th {\n",
       "        text-align: right;\n",
       "    }\n",
       "</style>\n",
       "<table border=\"1\" class=\"dataframe\">\n",
       "  <thead>\n",
       "    <tr style=\"text-align: right;\">\n",
       "      <th></th>\n",
       "      <th>Unnamed: 0</th>\n",
       "      <th>html</th>\n",
       "      <th>title</th>\n",
       "    </tr>\n",
       "  </thead>\n",
       "  <tbody>\n",
       "    <tr>\n",
       "      <th>0</th>\n",
       "      <td>0</td>\n",
       "      <td>\\n  &lt;div&gt;\\n    &lt;div class=\"\\n        jobs-deta...</td>\n",
       "      <td>Stage - Assistant Ingénieur Qualité - Beyrand ...</td>\n",
       "    </tr>\n",
       "    <tr>\n",
       "      <th>1</th>\n",
       "      <td>1</td>\n",
       "      <td>\\n  &lt;div&gt;\\n    &lt;div class=\"\\n        jobs-deta...</td>\n",
       "      <td>développeur matlab/simulink, secteur automobil...</td>\n",
       "    </tr>\n",
       "    <tr>\n",
       "      <th>2</th>\n",
       "      <td>2</td>\n",
       "      <td>\\n  &lt;div&gt;\\n    &lt;div class=\"\\n        jobs-deta...</td>\n",
       "      <td>Online Data Analyst</td>\n",
       "    </tr>\n",
       "    <tr>\n",
       "      <th>3</th>\n",
       "      <td>3</td>\n",
       "      <td>\\n  &lt;div&gt;\\n    &lt;div class=\"\\n        jobs-deta...</td>\n",
       "      <td>Online Data Analyst - Belgium</td>\n",
       "    </tr>\n",
       "    <tr>\n",
       "      <th>4</th>\n",
       "      <td>4</td>\n",
       "      <td>\\n  &lt;div&gt;\\n    &lt;div class=\"\\n        jobs-deta...</td>\n",
       "      <td>Data Analyst</td>\n",
       "    </tr>\n",
       "    <tr>\n",
       "      <th>5</th>\n",
       "      <td>5</td>\n",
       "      <td>\\n  &lt;div&gt;\\n    &lt;div class=\"\\n        jobs-deta...</td>\n",
       "      <td>Data Analyst</td>\n",
       "    </tr>\n",
       "    <tr>\n",
       "      <th>6</th>\n",
       "      <td>6</td>\n",
       "      <td>\\n  &lt;div&gt;\\n    &lt;div class=\"\\n        jobs-deta...</td>\n",
       "      <td>Alternant/ Alternante data analyst M/F</td>\n",
       "    </tr>\n",
       "    <tr>\n",
       "      <th>7</th>\n",
       "      <td>7</td>\n",
       "      <td>\\n  &lt;div&gt;\\n    &lt;div class=\"\\n        jobs-deta...</td>\n",
       "      <td>Alternant(e) Data Scientist (H/F)</td>\n",
       "    </tr>\n",
       "    <tr>\n",
       "      <th>8</th>\n",
       "      <td>8</td>\n",
       "      <td>\\n  &lt;div&gt;\\n    &lt;div class=\"\\n        jobs-deta...</td>\n",
       "      <td>ALTERNANCE- TOTALENERGIES RENEWABLES - Data En...</td>\n",
       "    </tr>\n",
       "    <tr>\n",
       "      <th>9</th>\n",
       "      <td>9</td>\n",
       "      <td>\\n  &lt;div&gt;\\n    &lt;div class=\"\\n        jobs-deta...</td>\n",
       "      <td>Data Engineer (with Python)</td>\n",
       "    </tr>\n",
       "  </tbody>\n",
       "</table>\n",
       "</div>"
      ],
      "text/plain": [
       "   Unnamed: 0                                               html  \\\n",
       "0           0  \\n  <div>\\n    <div class=\"\\n        jobs-deta...   \n",
       "1           1  \\n  <div>\\n    <div class=\"\\n        jobs-deta...   \n",
       "2           2  \\n  <div>\\n    <div class=\"\\n        jobs-deta...   \n",
       "3           3  \\n  <div>\\n    <div class=\"\\n        jobs-deta...   \n",
       "4           4  \\n  <div>\\n    <div class=\"\\n        jobs-deta...   \n",
       "5           5  \\n  <div>\\n    <div class=\"\\n        jobs-deta...   \n",
       "6           6  \\n  <div>\\n    <div class=\"\\n        jobs-deta...   \n",
       "7           7  \\n  <div>\\n    <div class=\"\\n        jobs-deta...   \n",
       "8           8  \\n  <div>\\n    <div class=\"\\n        jobs-deta...   \n",
       "9           9  \\n  <div>\\n    <div class=\"\\n        jobs-deta...   \n",
       "\n",
       "                                               title  \n",
       "0  Stage - Assistant Ingénieur Qualité - Beyrand ...  \n",
       "1  développeur matlab/simulink, secteur automobil...  \n",
       "2                                Online Data Analyst  \n",
       "3                      Online Data Analyst - Belgium  \n",
       "4                                       Data Analyst  \n",
       "5                                       Data Analyst  \n",
       "6             Alternant/ Alternante data analyst M/F  \n",
       "7                  Alternant(e) Data Scientist (H/F)  \n",
       "8  ALTERNANCE- TOTALENERGIES RENEWABLES - Data En...  \n",
       "9                        Data Engineer (with Python)  "
      ]
     },
     "execution_count": 10,
     "metadata": {},
     "output_type": "execute_result"
    }
   ],
   "source": [
    "df.head(10)"
   ]
  },
  {
   "cell_type": "markdown",
   "id": "5228fbeb",
   "metadata": {},
   "source": [
    "### Количество кандидатов"
   ]
  },
  {
   "cell_type": "code",
   "execution_count": 11,
   "id": "04203b9a",
   "metadata": {},
   "outputs": [],
   "source": [
    "def get_candidats(cell):\n",
    "    try:\n",
    "        return BeautifulSoup(cell).find('span', class_ = 'jobs-unified-top-card__applicant-count').text.strip()\n",
    "    except:\n",
    "        return np.nan"
   ]
  },
  {
   "cell_type": "code",
   "execution_count": 12,
   "id": "876114d7",
   "metadata": {},
   "outputs": [],
   "source": [
    "df['candidats'] = df['html'].apply(get_candidats)"
   ]
  },
  {
   "cell_type": "code",
   "execution_count": 13,
   "id": "43257887",
   "metadata": {},
   "outputs": [
    {
     "data": {
      "text/html": [
       "<div>\n",
       "<style scoped>\n",
       "    .dataframe tbody tr th:only-of-type {\n",
       "        vertical-align: middle;\n",
       "    }\n",
       "\n",
       "    .dataframe tbody tr th {\n",
       "        vertical-align: top;\n",
       "    }\n",
       "\n",
       "    .dataframe thead th {\n",
       "        text-align: right;\n",
       "    }\n",
       "</style>\n",
       "<table border=\"1\" class=\"dataframe\">\n",
       "  <thead>\n",
       "    <tr style=\"text-align: right;\">\n",
       "      <th></th>\n",
       "      <th>Unnamed: 0</th>\n",
       "      <th>html</th>\n",
       "      <th>title</th>\n",
       "      <th>candidats</th>\n",
       "    </tr>\n",
       "  </thead>\n",
       "  <tbody>\n",
       "    <tr>\n",
       "      <th>0</th>\n",
       "      <td>0</td>\n",
       "      <td>\\n  &lt;div&gt;\\n    &lt;div class=\"\\n        jobs-deta...</td>\n",
       "      <td>Stage - Assistant Ingénieur Qualité - Beyrand ...</td>\n",
       "      <td>NaN</td>\n",
       "    </tr>\n",
       "    <tr>\n",
       "      <th>1</th>\n",
       "      <td>1</td>\n",
       "      <td>\\n  &lt;div&gt;\\n    &lt;div class=\"\\n        jobs-deta...</td>\n",
       "      <td>développeur matlab/simulink, secteur automobil...</td>\n",
       "      <td>6 applicants</td>\n",
       "    </tr>\n",
       "    <tr>\n",
       "      <th>2</th>\n",
       "      <td>2</td>\n",
       "      <td>\\n  &lt;div&gt;\\n    &lt;div class=\"\\n        jobs-deta...</td>\n",
       "      <td>Online Data Analyst</td>\n",
       "      <td>12 applicants</td>\n",
       "    </tr>\n",
       "    <tr>\n",
       "      <th>3</th>\n",
       "      <td>3</td>\n",
       "      <td>\\n  &lt;div&gt;\\n    &lt;div class=\"\\n        jobs-deta...</td>\n",
       "      <td>Online Data Analyst - Belgium</td>\n",
       "      <td>11 applicants</td>\n",
       "    </tr>\n",
       "    <tr>\n",
       "      <th>4</th>\n",
       "      <td>4</td>\n",
       "      <td>\\n  &lt;div&gt;\\n    &lt;div class=\"\\n        jobs-deta...</td>\n",
       "      <td>Data Analyst</td>\n",
       "      <td>2 applicants</td>\n",
       "    </tr>\n",
       "    <tr>\n",
       "      <th>5</th>\n",
       "      <td>5</td>\n",
       "      <td>\\n  &lt;div&gt;\\n    &lt;div class=\"\\n        jobs-deta...</td>\n",
       "      <td>Data Analyst</td>\n",
       "      <td>4 applicants</td>\n",
       "    </tr>\n",
       "    <tr>\n",
       "      <th>6</th>\n",
       "      <td>6</td>\n",
       "      <td>\\n  &lt;div&gt;\\n    &lt;div class=\"\\n        jobs-deta...</td>\n",
       "      <td>Alternant/ Alternante data analyst M/F</td>\n",
       "      <td>25 applicants</td>\n",
       "    </tr>\n",
       "    <tr>\n",
       "      <th>7</th>\n",
       "      <td>7</td>\n",
       "      <td>\\n  &lt;div&gt;\\n    &lt;div class=\"\\n        jobs-deta...</td>\n",
       "      <td>Alternant(e) Data Scientist (H/F)</td>\n",
       "      <td>34 applicants</td>\n",
       "    </tr>\n",
       "    <tr>\n",
       "      <th>8</th>\n",
       "      <td>8</td>\n",
       "      <td>\\n  &lt;div&gt;\\n    &lt;div class=\"\\n        jobs-deta...</td>\n",
       "      <td>ALTERNANCE- TOTALENERGIES RENEWABLES - Data En...</td>\n",
       "      <td>22 applicants</td>\n",
       "    </tr>\n",
       "    <tr>\n",
       "      <th>9</th>\n",
       "      <td>9</td>\n",
       "      <td>\\n  &lt;div&gt;\\n    &lt;div class=\"\\n        jobs-deta...</td>\n",
       "      <td>Data Engineer (with Python)</td>\n",
       "      <td>18 applicants</td>\n",
       "    </tr>\n",
       "  </tbody>\n",
       "</table>\n",
       "</div>"
      ],
      "text/plain": [
       "   Unnamed: 0                                               html  \\\n",
       "0           0  \\n  <div>\\n    <div class=\"\\n        jobs-deta...   \n",
       "1           1  \\n  <div>\\n    <div class=\"\\n        jobs-deta...   \n",
       "2           2  \\n  <div>\\n    <div class=\"\\n        jobs-deta...   \n",
       "3           3  \\n  <div>\\n    <div class=\"\\n        jobs-deta...   \n",
       "4           4  \\n  <div>\\n    <div class=\"\\n        jobs-deta...   \n",
       "5           5  \\n  <div>\\n    <div class=\"\\n        jobs-deta...   \n",
       "6           6  \\n  <div>\\n    <div class=\"\\n        jobs-deta...   \n",
       "7           7  \\n  <div>\\n    <div class=\"\\n        jobs-deta...   \n",
       "8           8  \\n  <div>\\n    <div class=\"\\n        jobs-deta...   \n",
       "9           9  \\n  <div>\\n    <div class=\"\\n        jobs-deta...   \n",
       "\n",
       "                                               title      candidats  \n",
       "0  Stage - Assistant Ingénieur Qualité - Beyrand ...            NaN  \n",
       "1  développeur matlab/simulink, secteur automobil...   6 applicants  \n",
       "2                                Online Data Analyst  12 applicants  \n",
       "3                      Online Data Analyst - Belgium  11 applicants  \n",
       "4                                       Data Analyst   2 applicants  \n",
       "5                                       Data Analyst   4 applicants  \n",
       "6             Alternant/ Alternante data analyst M/F  25 applicants  \n",
       "7                  Alternant(e) Data Scientist (H/F)  34 applicants  \n",
       "8  ALTERNANCE- TOTALENERGIES RENEWABLES - Data En...  22 applicants  \n",
       "9                        Data Engineer (with Python)  18 applicants  "
      ]
     },
     "execution_count": 13,
     "metadata": {},
     "output_type": "execute_result"
    }
   ],
   "source": [
    "df.head(10)"
   ]
  },
  {
   "cell_type": "code",
   "execution_count": 14,
   "id": "e4c429cc",
   "metadata": {},
   "outputs": [],
   "source": [
    "df['candidats'] = df['candidats'].str.split(' applicants').str[0]\n",
    "df['candidats'] = df['candidats'].str.split(' applicant').str[0]\n",
    "#вытащим количество сотрудников"
   ]
  },
  {
   "cell_type": "code",
   "execution_count": 15,
   "id": "73bdfa76",
   "metadata": {},
   "outputs": [
    {
     "data": {
      "text/html": [
       "<div>\n",
       "<style scoped>\n",
       "    .dataframe tbody tr th:only-of-type {\n",
       "        vertical-align: middle;\n",
       "    }\n",
       "\n",
       "    .dataframe tbody tr th {\n",
       "        vertical-align: top;\n",
       "    }\n",
       "\n",
       "    .dataframe thead th {\n",
       "        text-align: right;\n",
       "    }\n",
       "</style>\n",
       "<table border=\"1\" class=\"dataframe\">\n",
       "  <thead>\n",
       "    <tr style=\"text-align: right;\">\n",
       "      <th></th>\n",
       "      <th>Unnamed: 0</th>\n",
       "      <th>html</th>\n",
       "      <th>title</th>\n",
       "      <th>candidats</th>\n",
       "    </tr>\n",
       "  </thead>\n",
       "  <tbody>\n",
       "    <tr>\n",
       "      <th>0</th>\n",
       "      <td>0</td>\n",
       "      <td>\\n  &lt;div&gt;\\n    &lt;div class=\"\\n        jobs-deta...</td>\n",
       "      <td>Stage - Assistant Ingénieur Qualité - Beyrand ...</td>\n",
       "      <td>NaN</td>\n",
       "    </tr>\n",
       "    <tr>\n",
       "      <th>1</th>\n",
       "      <td>1</td>\n",
       "      <td>\\n  &lt;div&gt;\\n    &lt;div class=\"\\n        jobs-deta...</td>\n",
       "      <td>développeur matlab/simulink, secteur automobil...</td>\n",
       "      <td>6</td>\n",
       "    </tr>\n",
       "    <tr>\n",
       "      <th>2</th>\n",
       "      <td>2</td>\n",
       "      <td>\\n  &lt;div&gt;\\n    &lt;div class=\"\\n        jobs-deta...</td>\n",
       "      <td>Online Data Analyst</td>\n",
       "      <td>12</td>\n",
       "    </tr>\n",
       "    <tr>\n",
       "      <th>3</th>\n",
       "      <td>3</td>\n",
       "      <td>\\n  &lt;div&gt;\\n    &lt;div class=\"\\n        jobs-deta...</td>\n",
       "      <td>Online Data Analyst - Belgium</td>\n",
       "      <td>11</td>\n",
       "    </tr>\n",
       "    <tr>\n",
       "      <th>4</th>\n",
       "      <td>4</td>\n",
       "      <td>\\n  &lt;div&gt;\\n    &lt;div class=\"\\n        jobs-deta...</td>\n",
       "      <td>Data Analyst</td>\n",
       "      <td>2</td>\n",
       "    </tr>\n",
       "  </tbody>\n",
       "</table>\n",
       "</div>"
      ],
      "text/plain": [
       "   Unnamed: 0                                               html  \\\n",
       "0           0  \\n  <div>\\n    <div class=\"\\n        jobs-deta...   \n",
       "1           1  \\n  <div>\\n    <div class=\"\\n        jobs-deta...   \n",
       "2           2  \\n  <div>\\n    <div class=\"\\n        jobs-deta...   \n",
       "3           3  \\n  <div>\\n    <div class=\"\\n        jobs-deta...   \n",
       "4           4  \\n  <div>\\n    <div class=\"\\n        jobs-deta...   \n",
       "\n",
       "                                               title candidats  \n",
       "0  Stage - Assistant Ingénieur Qualité - Beyrand ...       NaN  \n",
       "1  développeur matlab/simulink, secteur automobil...         6  \n",
       "2                                Online Data Analyst        12  \n",
       "3                      Online Data Analyst - Belgium        11  \n",
       "4                                       Data Analyst         2  "
      ]
     },
     "execution_count": 15,
     "metadata": {},
     "output_type": "execute_result"
    }
   ],
   "source": [
    "df.head()"
   ]
  },
  {
   "cell_type": "markdown",
   "id": "c5b25ad5",
   "metadata": {},
   "source": [
    "### Ссылки вакансий"
   ]
  },
  {
   "cell_type": "code",
   "execution_count": 16,
   "id": "c05546ba",
   "metadata": {},
   "outputs": [
    {
     "data": {
      "text/plain": [
       "'https://linkedin.com/jobs/view/3258155313/?alternateChannel=search&refId=xQWMq5sHxPa4BOVKDp0TKg%3D%3D&trackingId=grGqx%2FHW0EZ%2BorBvEr%2Ft%2Bg%3D%3D&trk=d_flagship3_search_srp_jobs'"
      ]
     },
     "execution_count": 16,
     "metadata": {},
     "output_type": "execute_result"
    }
   ],
   "source": [
    "'https://linkedin.com' + BeautifulSoup(df['html'][0]).find('a').get('href')"
   ]
  },
  {
   "cell_type": "code",
   "execution_count": 17,
   "id": "891773e5",
   "metadata": {},
   "outputs": [],
   "source": [
    "df['link'] = df['html'].apply(lambda x: \"https://linkedin.com\" + BeautifulSoup(x).find('a').get('href'))"
   ]
  },
  {
   "cell_type": "code",
   "execution_count": 18,
   "id": "16546386",
   "metadata": {},
   "outputs": [
    {
     "data": {
      "text/html": [
       "<div>\n",
       "<style scoped>\n",
       "    .dataframe tbody tr th:only-of-type {\n",
       "        vertical-align: middle;\n",
       "    }\n",
       "\n",
       "    .dataframe tbody tr th {\n",
       "        vertical-align: top;\n",
       "    }\n",
       "\n",
       "    .dataframe thead th {\n",
       "        text-align: right;\n",
       "    }\n",
       "</style>\n",
       "<table border=\"1\" class=\"dataframe\">\n",
       "  <thead>\n",
       "    <tr style=\"text-align: right;\">\n",
       "      <th></th>\n",
       "      <th>Unnamed: 0</th>\n",
       "      <th>html</th>\n",
       "      <th>title</th>\n",
       "      <th>candidats</th>\n",
       "      <th>link</th>\n",
       "    </tr>\n",
       "  </thead>\n",
       "  <tbody>\n",
       "    <tr>\n",
       "      <th>0</th>\n",
       "      <td>0</td>\n",
       "      <td>\\n  &lt;div&gt;\\n    &lt;div class=\"\\n        jobs-deta...</td>\n",
       "      <td>Stage - Assistant Ingénieur Qualité - Beyrand ...</td>\n",
       "      <td>NaN</td>\n",
       "      <td>https://linkedin.com/jobs/view/3258155313/?alt...</td>\n",
       "    </tr>\n",
       "    <tr>\n",
       "      <th>1</th>\n",
       "      <td>1</td>\n",
       "      <td>\\n  &lt;div&gt;\\n    &lt;div class=\"\\n        jobs-deta...</td>\n",
       "      <td>développeur matlab/simulink, secteur automobil...</td>\n",
       "      <td>6</td>\n",
       "      <td>https://linkedin.com/jobs/view/3249651625/?alt...</td>\n",
       "    </tr>\n",
       "    <tr>\n",
       "      <th>2</th>\n",
       "      <td>2</td>\n",
       "      <td>\\n  &lt;div&gt;\\n    &lt;div class=\"\\n        jobs-deta...</td>\n",
       "      <td>Online Data Analyst</td>\n",
       "      <td>12</td>\n",
       "      <td>https://linkedin.com/jobs/view/3248499929/?alt...</td>\n",
       "    </tr>\n",
       "    <tr>\n",
       "      <th>3</th>\n",
       "      <td>3</td>\n",
       "      <td>\\n  &lt;div&gt;\\n    &lt;div class=\"\\n        jobs-deta...</td>\n",
       "      <td>Online Data Analyst - Belgium</td>\n",
       "      <td>11</td>\n",
       "      <td>https://linkedin.com/jobs/view/3248879065/?alt...</td>\n",
       "    </tr>\n",
       "    <tr>\n",
       "      <th>4</th>\n",
       "      <td>4</td>\n",
       "      <td>\\n  &lt;div&gt;\\n    &lt;div class=\"\\n        jobs-deta...</td>\n",
       "      <td>Data Analyst</td>\n",
       "      <td>2</td>\n",
       "      <td>https://linkedin.com/jobs/view/3257222954/?alt...</td>\n",
       "    </tr>\n",
       "  </tbody>\n",
       "</table>\n",
       "</div>"
      ],
      "text/plain": [
       "   Unnamed: 0                                               html  \\\n",
       "0           0  \\n  <div>\\n    <div class=\"\\n        jobs-deta...   \n",
       "1           1  \\n  <div>\\n    <div class=\"\\n        jobs-deta...   \n",
       "2           2  \\n  <div>\\n    <div class=\"\\n        jobs-deta...   \n",
       "3           3  \\n  <div>\\n    <div class=\"\\n        jobs-deta...   \n",
       "4           4  \\n  <div>\\n    <div class=\"\\n        jobs-deta...   \n",
       "\n",
       "                                               title candidats  \\\n",
       "0  Stage - Assistant Ingénieur Qualité - Beyrand ...       NaN   \n",
       "1  développeur matlab/simulink, secteur automobil...         6   \n",
       "2                                Online Data Analyst        12   \n",
       "3                      Online Data Analyst - Belgium        11   \n",
       "4                                       Data Analyst         2   \n",
       "\n",
       "                                                link  \n",
       "0  https://linkedin.com/jobs/view/3258155313/?alt...  \n",
       "1  https://linkedin.com/jobs/view/3249651625/?alt...  \n",
       "2  https://linkedin.com/jobs/view/3248499929/?alt...  \n",
       "3  https://linkedin.com/jobs/view/3248879065/?alt...  \n",
       "4  https://linkedin.com/jobs/view/3257222954/?alt...  "
      ]
     },
     "execution_count": 18,
     "metadata": {},
     "output_type": "execute_result"
    }
   ],
   "source": [
    "df.head()"
   ]
  },
  {
   "cell_type": "markdown",
   "id": "d240c8a7",
   "metadata": {},
   "source": [
    "### Месторасположение вакансии"
   ]
  },
  {
   "cell_type": "markdown",
   "id": "436fc64b",
   "metadata": {},
   "source": [
    "Вытащим нужный нам признак гео - страну и город"
   ]
  },
  {
   "cell_type": "code",
   "execution_count": 19,
   "id": "b52354eb",
   "metadata": {},
   "outputs": [],
   "source": [
    "def get_geo(cell):\n",
    "    try:\n",
    "        return BeautifulSoup(cell).find('span', class_ = 'jobs-unified-top-card__bullet').text.strip()\n",
    "    except:\n",
    "        return np.nan"
   ]
  },
  {
   "cell_type": "code",
   "execution_count": 20,
   "id": "931ed3e9",
   "metadata": {},
   "outputs": [
    {
     "data": {
      "text/html": [
       "<div>\n",
       "<style scoped>\n",
       "    .dataframe tbody tr th:only-of-type {\n",
       "        vertical-align: middle;\n",
       "    }\n",
       "\n",
       "    .dataframe tbody tr th {\n",
       "        vertical-align: top;\n",
       "    }\n",
       "\n",
       "    .dataframe thead th {\n",
       "        text-align: right;\n",
       "    }\n",
       "</style>\n",
       "<table border=\"1\" class=\"dataframe\">\n",
       "  <thead>\n",
       "    <tr style=\"text-align: right;\">\n",
       "      <th></th>\n",
       "      <th>Unnamed: 0</th>\n",
       "      <th>html</th>\n",
       "      <th>title</th>\n",
       "      <th>candidats</th>\n",
       "      <th>link</th>\n",
       "      <th>geo</th>\n",
       "    </tr>\n",
       "  </thead>\n",
       "  <tbody>\n",
       "    <tr>\n",
       "      <th>0</th>\n",
       "      <td>0</td>\n",
       "      <td>\\n  &lt;div&gt;\\n    &lt;div class=\"\\n        jobs-deta...</td>\n",
       "      <td>Stage - Assistant Ingénieur Qualité - Beyrand ...</td>\n",
       "      <td>NaN</td>\n",
       "      <td>https://linkedin.com/jobs/view/3258155313/?alt...</td>\n",
       "      <td>Limoges, Nouvelle-Aquitaine, France</td>\n",
       "    </tr>\n",
       "    <tr>\n",
       "      <th>1</th>\n",
       "      <td>1</td>\n",
       "      <td>\\n  &lt;div&gt;\\n    &lt;div class=\"\\n        jobs-deta...</td>\n",
       "      <td>développeur matlab/simulink, secteur automobil...</td>\n",
       "      <td>6</td>\n",
       "      <td>https://linkedin.com/jobs/view/3249651625/?alt...</td>\n",
       "      <td>Toulouse, Occitanie, France</td>\n",
       "    </tr>\n",
       "    <tr>\n",
       "      <th>2</th>\n",
       "      <td>2</td>\n",
       "      <td>\\n  &lt;div&gt;\\n    &lt;div class=\"\\n        jobs-deta...</td>\n",
       "      <td>Online Data Analyst</td>\n",
       "      <td>12</td>\n",
       "      <td>https://linkedin.com/jobs/view/3248499929/?alt...</td>\n",
       "      <td>Skara, Vastra Gotaland County, Sweden</td>\n",
       "    </tr>\n",
       "    <tr>\n",
       "      <th>3</th>\n",
       "      <td>3</td>\n",
       "      <td>\\n  &lt;div&gt;\\n    &lt;div class=\"\\n        jobs-deta...</td>\n",
       "      <td>Online Data Analyst - Belgium</td>\n",
       "      <td>11</td>\n",
       "      <td>https://linkedin.com/jobs/view/3248879065/?alt...</td>\n",
       "      <td>West Flanders, Flemish Region, Belgium</td>\n",
       "    </tr>\n",
       "    <tr>\n",
       "      <th>4</th>\n",
       "      <td>4</td>\n",
       "      <td>\\n  &lt;div&gt;\\n    &lt;div class=\"\\n        jobs-deta...</td>\n",
       "      <td>Data Analyst</td>\n",
       "      <td>2</td>\n",
       "      <td>https://linkedin.com/jobs/view/3257222954/?alt...</td>\n",
       "      <td>Mecklenburg-West Pomerania, Germany</td>\n",
       "    </tr>\n",
       "  </tbody>\n",
       "</table>\n",
       "</div>"
      ],
      "text/plain": [
       "   Unnamed: 0                                               html  \\\n",
       "0           0  \\n  <div>\\n    <div class=\"\\n        jobs-deta...   \n",
       "1           1  \\n  <div>\\n    <div class=\"\\n        jobs-deta...   \n",
       "2           2  \\n  <div>\\n    <div class=\"\\n        jobs-deta...   \n",
       "3           3  \\n  <div>\\n    <div class=\"\\n        jobs-deta...   \n",
       "4           4  \\n  <div>\\n    <div class=\"\\n        jobs-deta...   \n",
       "\n",
       "                                               title candidats  \\\n",
       "0  Stage - Assistant Ingénieur Qualité - Beyrand ...       NaN   \n",
       "1  développeur matlab/simulink, secteur automobil...         6   \n",
       "2                                Online Data Analyst        12   \n",
       "3                      Online Data Analyst - Belgium        11   \n",
       "4                                       Data Analyst         2   \n",
       "\n",
       "                                                link  \\\n",
       "0  https://linkedin.com/jobs/view/3258155313/?alt...   \n",
       "1  https://linkedin.com/jobs/view/3249651625/?alt...   \n",
       "2  https://linkedin.com/jobs/view/3248499929/?alt...   \n",
       "3  https://linkedin.com/jobs/view/3248879065/?alt...   \n",
       "4  https://linkedin.com/jobs/view/3257222954/?alt...   \n",
       "\n",
       "                                      geo  \n",
       "0     Limoges, Nouvelle-Aquitaine, France  \n",
       "1             Toulouse, Occitanie, France  \n",
       "2   Skara, Vastra Gotaland County, Sweden  \n",
       "3  West Flanders, Flemish Region, Belgium  \n",
       "4     Mecklenburg-West Pomerania, Germany  "
      ]
     },
     "execution_count": 20,
     "metadata": {},
     "output_type": "execute_result"
    }
   ],
   "source": [
    "df['geo'] = df['html'].apply(get_geo)\n",
    "df.head()"
   ]
  },
  {
   "cell_type": "markdown",
   "id": "0af7cfd7",
   "metadata": {},
   "source": [
    "#### Вытащим город"
   ]
  },
  {
   "cell_type": "code",
   "execution_count": 21,
   "id": "5d60338f",
   "metadata": {},
   "outputs": [],
   "source": [
    "def get_city(cell):\n",
    "    if len(cell.split(',')) > 1:\n",
    "        return cell.split(',')[0].strip()\n",
    "    elif \"Metropolitan\" in cell or \"Greater\" in cell:\n",
    "        return cell.replace('Greater', '').replace('Metropolitan', '').replace('Area', '').replace('Region','').strip()\n",
    "    else:\n",
    "        return np.nan"
   ]
  },
  {
   "cell_type": "code",
   "execution_count": 22,
   "id": "190750a3",
   "metadata": {},
   "outputs": [],
   "source": [
    "df['city'] = df['geo'].apply(get_city)"
   ]
  },
  {
   "cell_type": "code",
   "execution_count": 23,
   "id": "aa3c1972",
   "metadata": {},
   "outputs": [
    {
     "data": {
      "text/html": [
       "<div>\n",
       "<style scoped>\n",
       "    .dataframe tbody tr th:only-of-type {\n",
       "        vertical-align: middle;\n",
       "    }\n",
       "\n",
       "    .dataframe tbody tr th {\n",
       "        vertical-align: top;\n",
       "    }\n",
       "\n",
       "    .dataframe thead th {\n",
       "        text-align: right;\n",
       "    }\n",
       "</style>\n",
       "<table border=\"1\" class=\"dataframe\">\n",
       "  <thead>\n",
       "    <tr style=\"text-align: right;\">\n",
       "      <th></th>\n",
       "      <th>Unnamed: 0</th>\n",
       "      <th>html</th>\n",
       "      <th>title</th>\n",
       "      <th>candidats</th>\n",
       "      <th>link</th>\n",
       "      <th>geo</th>\n",
       "      <th>city</th>\n",
       "    </tr>\n",
       "  </thead>\n",
       "  <tbody>\n",
       "    <tr>\n",
       "      <th>0</th>\n",
       "      <td>0</td>\n",
       "      <td>\\n  &lt;div&gt;\\n    &lt;div class=\"\\n        jobs-deta...</td>\n",
       "      <td>Stage - Assistant Ingénieur Qualité - Beyrand ...</td>\n",
       "      <td>NaN</td>\n",
       "      <td>https://linkedin.com/jobs/view/3258155313/?alt...</td>\n",
       "      <td>Limoges, Nouvelle-Aquitaine, France</td>\n",
       "      <td>Limoges</td>\n",
       "    </tr>\n",
       "    <tr>\n",
       "      <th>1</th>\n",
       "      <td>1</td>\n",
       "      <td>\\n  &lt;div&gt;\\n    &lt;div class=\"\\n        jobs-deta...</td>\n",
       "      <td>développeur matlab/simulink, secteur automobil...</td>\n",
       "      <td>6</td>\n",
       "      <td>https://linkedin.com/jobs/view/3249651625/?alt...</td>\n",
       "      <td>Toulouse, Occitanie, France</td>\n",
       "      <td>Toulouse</td>\n",
       "    </tr>\n",
       "    <tr>\n",
       "      <th>2</th>\n",
       "      <td>2</td>\n",
       "      <td>\\n  &lt;div&gt;\\n    &lt;div class=\"\\n        jobs-deta...</td>\n",
       "      <td>Online Data Analyst</td>\n",
       "      <td>12</td>\n",
       "      <td>https://linkedin.com/jobs/view/3248499929/?alt...</td>\n",
       "      <td>Skara, Vastra Gotaland County, Sweden</td>\n",
       "      <td>Skara</td>\n",
       "    </tr>\n",
       "  </tbody>\n",
       "</table>\n",
       "</div>"
      ],
      "text/plain": [
       "   Unnamed: 0                                               html  \\\n",
       "0           0  \\n  <div>\\n    <div class=\"\\n        jobs-deta...   \n",
       "1           1  \\n  <div>\\n    <div class=\"\\n        jobs-deta...   \n",
       "2           2  \\n  <div>\\n    <div class=\"\\n        jobs-deta...   \n",
       "\n",
       "                                               title candidats  \\\n",
       "0  Stage - Assistant Ingénieur Qualité - Beyrand ...       NaN   \n",
       "1  développeur matlab/simulink, secteur automobil...         6   \n",
       "2                                Online Data Analyst        12   \n",
       "\n",
       "                                                link  \\\n",
       "0  https://linkedin.com/jobs/view/3258155313/?alt...   \n",
       "1  https://linkedin.com/jobs/view/3249651625/?alt...   \n",
       "2  https://linkedin.com/jobs/view/3248499929/?alt...   \n",
       "\n",
       "                                     geo      city  \n",
       "0    Limoges, Nouvelle-Aquitaine, France   Limoges  \n",
       "1            Toulouse, Occitanie, France  Toulouse  \n",
       "2  Skara, Vastra Gotaland County, Sweden     Skara  "
      ]
     },
     "execution_count": 23,
     "metadata": {},
     "output_type": "execute_result"
    }
   ],
   "source": [
    "df.head(3)"
   ]
  },
  {
   "cell_type": "markdown",
   "id": "9328bf74",
   "metadata": {},
   "source": [
    "#### Вытащим страну"
   ]
  },
  {
   "cell_type": "code",
   "execution_count": 24,
   "id": "65dad969",
   "metadata": {},
   "outputs": [],
   "source": [
    "def get_country(cell):\n",
    "    if len(cell.split(',')) > 1:\n",
    "        return cell.split(',')[-1].strip()\n",
    "    elif \"Metropolitan\" in cell or \"Greater\" in cell or \"Region\" in cell:\n",
    "        return np.nan\n",
    "    else:\n",
    "        return cell"
   ]
  },
  {
   "cell_type": "code",
   "execution_count": 25,
   "id": "87872717",
   "metadata": {},
   "outputs": [
    {
     "data": {
      "text/html": [
       "<div>\n",
       "<style scoped>\n",
       "    .dataframe tbody tr th:only-of-type {\n",
       "        vertical-align: middle;\n",
       "    }\n",
       "\n",
       "    .dataframe tbody tr th {\n",
       "        vertical-align: top;\n",
       "    }\n",
       "\n",
       "    .dataframe thead th {\n",
       "        text-align: right;\n",
       "    }\n",
       "</style>\n",
       "<table border=\"1\" class=\"dataframe\">\n",
       "  <thead>\n",
       "    <tr style=\"text-align: right;\">\n",
       "      <th></th>\n",
       "      <th>Unnamed: 0</th>\n",
       "      <th>html</th>\n",
       "      <th>title</th>\n",
       "      <th>candidats</th>\n",
       "      <th>link</th>\n",
       "      <th>geo</th>\n",
       "      <th>city</th>\n",
       "      <th>country</th>\n",
       "    </tr>\n",
       "  </thead>\n",
       "  <tbody>\n",
       "    <tr>\n",
       "      <th>0</th>\n",
       "      <td>0</td>\n",
       "      <td>\\n  &lt;div&gt;\\n    &lt;div class=\"\\n        jobs-deta...</td>\n",
       "      <td>Stage - Assistant Ingénieur Qualité - Beyrand ...</td>\n",
       "      <td>NaN</td>\n",
       "      <td>https://linkedin.com/jobs/view/3258155313/?alt...</td>\n",
       "      <td>Limoges, Nouvelle-Aquitaine, France</td>\n",
       "      <td>Limoges</td>\n",
       "      <td>France</td>\n",
       "    </tr>\n",
       "    <tr>\n",
       "      <th>1</th>\n",
       "      <td>1</td>\n",
       "      <td>\\n  &lt;div&gt;\\n    &lt;div class=\"\\n        jobs-deta...</td>\n",
       "      <td>développeur matlab/simulink, secteur automobil...</td>\n",
       "      <td>6</td>\n",
       "      <td>https://linkedin.com/jobs/view/3249651625/?alt...</td>\n",
       "      <td>Toulouse, Occitanie, France</td>\n",
       "      <td>Toulouse</td>\n",
       "      <td>France</td>\n",
       "    </tr>\n",
       "    <tr>\n",
       "      <th>2</th>\n",
       "      <td>2</td>\n",
       "      <td>\\n  &lt;div&gt;\\n    &lt;div class=\"\\n        jobs-deta...</td>\n",
       "      <td>Online Data Analyst</td>\n",
       "      <td>12</td>\n",
       "      <td>https://linkedin.com/jobs/view/3248499929/?alt...</td>\n",
       "      <td>Skara, Vastra Gotaland County, Sweden</td>\n",
       "      <td>Skara</td>\n",
       "      <td>Sweden</td>\n",
       "    </tr>\n",
       "    <tr>\n",
       "      <th>3</th>\n",
       "      <td>3</td>\n",
       "      <td>\\n  &lt;div&gt;\\n    &lt;div class=\"\\n        jobs-deta...</td>\n",
       "      <td>Online Data Analyst - Belgium</td>\n",
       "      <td>11</td>\n",
       "      <td>https://linkedin.com/jobs/view/3248879065/?alt...</td>\n",
       "      <td>West Flanders, Flemish Region, Belgium</td>\n",
       "      <td>West Flanders</td>\n",
       "      <td>Belgium</td>\n",
       "    </tr>\n",
       "    <tr>\n",
       "      <th>4</th>\n",
       "      <td>4</td>\n",
       "      <td>\\n  &lt;div&gt;\\n    &lt;div class=\"\\n        jobs-deta...</td>\n",
       "      <td>Data Analyst</td>\n",
       "      <td>2</td>\n",
       "      <td>https://linkedin.com/jobs/view/3257222954/?alt...</td>\n",
       "      <td>Mecklenburg-West Pomerania, Germany</td>\n",
       "      <td>Mecklenburg-West Pomerania</td>\n",
       "      <td>Germany</td>\n",
       "    </tr>\n",
       "  </tbody>\n",
       "</table>\n",
       "</div>"
      ],
      "text/plain": [
       "   Unnamed: 0                                               html  \\\n",
       "0           0  \\n  <div>\\n    <div class=\"\\n        jobs-deta...   \n",
       "1           1  \\n  <div>\\n    <div class=\"\\n        jobs-deta...   \n",
       "2           2  \\n  <div>\\n    <div class=\"\\n        jobs-deta...   \n",
       "3           3  \\n  <div>\\n    <div class=\"\\n        jobs-deta...   \n",
       "4           4  \\n  <div>\\n    <div class=\"\\n        jobs-deta...   \n",
       "\n",
       "                                               title candidats  \\\n",
       "0  Stage - Assistant Ingénieur Qualité - Beyrand ...       NaN   \n",
       "1  développeur matlab/simulink, secteur automobil...         6   \n",
       "2                                Online Data Analyst        12   \n",
       "3                      Online Data Analyst - Belgium        11   \n",
       "4                                       Data Analyst         2   \n",
       "\n",
       "                                                link  \\\n",
       "0  https://linkedin.com/jobs/view/3258155313/?alt...   \n",
       "1  https://linkedin.com/jobs/view/3249651625/?alt...   \n",
       "2  https://linkedin.com/jobs/view/3248499929/?alt...   \n",
       "3  https://linkedin.com/jobs/view/3248879065/?alt...   \n",
       "4  https://linkedin.com/jobs/view/3257222954/?alt...   \n",
       "\n",
       "                                      geo                        city  country  \n",
       "0     Limoges, Nouvelle-Aquitaine, France                     Limoges   France  \n",
       "1             Toulouse, Occitanie, France                    Toulouse   France  \n",
       "2   Skara, Vastra Gotaland County, Sweden                       Skara   Sweden  \n",
       "3  West Flanders, Flemish Region, Belgium               West Flanders  Belgium  \n",
       "4     Mecklenburg-West Pomerania, Germany  Mecklenburg-West Pomerania  Germany  "
      ]
     },
     "execution_count": 25,
     "metadata": {},
     "output_type": "execute_result"
    }
   ],
   "source": [
    "df['country'] = df['geo'].apply(get_country)\n",
    "df.head()"
   ]
  },
  {
   "cell_type": "code",
   "execution_count": 26,
   "id": "c37f97f2",
   "metadata": {},
   "outputs": [
    {
     "data": {
      "text/plain": [
       "array(['France', 'Sweden', 'Belgium', 'Germany', nan, 'Hungary', 'Spain',\n",
       "       'Denmark', 'Gibraltar', 'Poland', 'United Kingdom', 'Finland',\n",
       "       'Switzerland', 'Netherlands', 'Italy', 'Norway', 'Czechia',\n",
       "       'Bulgaria', 'Slovakia', 'Portugal', 'Ireland', 'Luxembourg',\n",
       "       'Romania', 'Croatia', 'Slovenia', 'Greece', 'Austria', 'Estonia',\n",
       "       'Lithuania', 'Ukraine', 'Italy Metropolitan Area', 'Serbia'],\n",
       "      dtype=object)"
      ]
     },
     "execution_count": 26,
     "metadata": {},
     "output_type": "execute_result"
    }
   ],
   "source": [
    "df['country'].unique()"
   ]
  },
  {
   "cell_type": "code",
   "execution_count": 27,
   "id": "a93c1ebc",
   "metadata": {
    "scrolled": false
   },
   "outputs": [
    {
     "data": {
      "text/html": [
       "<div>\n",
       "<style scoped>\n",
       "    .dataframe tbody tr th:only-of-type {\n",
       "        vertical-align: middle;\n",
       "    }\n",
       "\n",
       "    .dataframe tbody tr th {\n",
       "        vertical-align: top;\n",
       "    }\n",
       "\n",
       "    .dataframe thead th {\n",
       "        text-align: right;\n",
       "    }\n",
       "</style>\n",
       "<table border=\"1\" class=\"dataframe\">\n",
       "  <thead>\n",
       "    <tr style=\"text-align: right;\">\n",
       "      <th></th>\n",
       "      <th>Unnamed: 0</th>\n",
       "      <th>html</th>\n",
       "      <th>title</th>\n",
       "      <th>candidats</th>\n",
       "      <th>link</th>\n",
       "      <th>geo</th>\n",
       "      <th>city</th>\n",
       "      <th>country</th>\n",
       "    </tr>\n",
       "  </thead>\n",
       "  <tbody>\n",
       "    <tr>\n",
       "      <th>9</th>\n",
       "      <td>9</td>\n",
       "      <td>\\n  &lt;div&gt;\\n    &lt;div class=\"\\n        jobs-deta...</td>\n",
       "      <td>Data Engineer (with Python)</td>\n",
       "      <td>18</td>\n",
       "      <td>https://linkedin.com/jobs/view/3247820547/?alt...</td>\n",
       "      <td>Wroclaw Metropolitan Area</td>\n",
       "      <td>Wroclaw</td>\n",
       "      <td>NaN</td>\n",
       "    </tr>\n",
       "    <tr>\n",
       "      <th>11</th>\n",
       "      <td>11</td>\n",
       "      <td>\\n  &lt;div&gt;\\n    &lt;div class=\"\\n        jobs-deta...</td>\n",
       "      <td>Data Analyst</td>\n",
       "      <td>NaN</td>\n",
       "      <td>https://linkedin.com/jobs/view/3257247449/?alt...</td>\n",
       "      <td>Przemyśl Metropolitan Area</td>\n",
       "      <td>Przemyśl</td>\n",
       "      <td>NaN</td>\n",
       "    </tr>\n",
       "    <tr>\n",
       "      <th>21</th>\n",
       "      <td>21</td>\n",
       "      <td>\\n  &lt;div&gt;\\n    &lt;div class=\"\\n        jobs-deta...</td>\n",
       "      <td>Junior Data Scientist</td>\n",
       "      <td>76</td>\n",
       "      <td>https://linkedin.com/jobs/view/3256742948/?alt...</td>\n",
       "      <td>Wroclaw Metropolitan Area</td>\n",
       "      <td>Wroclaw</td>\n",
       "      <td>NaN</td>\n",
       "    </tr>\n",
       "    <tr>\n",
       "      <th>28</th>\n",
       "      <td>28</td>\n",
       "      <td>\\n  &lt;div&gt;\\n    &lt;div class=\"\\n        jobs-deta...</td>\n",
       "      <td>Data Analyst</td>\n",
       "      <td>3</td>\n",
       "      <td>https://linkedin.com/jobs/view/3257240118/?alt...</td>\n",
       "      <td>Grudziadz Metropolitan Area</td>\n",
       "      <td>Grudziadz</td>\n",
       "      <td>NaN</td>\n",
       "    </tr>\n",
       "    <tr>\n",
       "      <th>31</th>\n",
       "      <td>31</td>\n",
       "      <td>\\n  &lt;div&gt;\\n    &lt;div class=\"\\n        jobs-deta...</td>\n",
       "      <td>Online Data Analyst | Flexible Work</td>\n",
       "      <td>23</td>\n",
       "      <td>https://linkedin.com/jobs/view/3256368280/?alt...</td>\n",
       "      <td>Greater Norrköping Metropolitan Area</td>\n",
       "      <td>Norrköping</td>\n",
       "      <td>NaN</td>\n",
       "    </tr>\n",
       "    <tr>\n",
       "      <th>33</th>\n",
       "      <td>33</td>\n",
       "      <td>\\n  &lt;div&gt;\\n    &lt;div class=\"\\n        jobs-deta...</td>\n",
       "      <td>Data Analyst</td>\n",
       "      <td>7</td>\n",
       "      <td>https://linkedin.com/jobs/view/3257248741/?alt...</td>\n",
       "      <td>Radom Metropolitan Area</td>\n",
       "      <td>Radom</td>\n",
       "      <td>NaN</td>\n",
       "    </tr>\n",
       "    <tr>\n",
       "      <th>36</th>\n",
       "      <td>36</td>\n",
       "      <td>\\n  &lt;div&gt;\\n    &lt;div class=\"\\n        jobs-deta...</td>\n",
       "      <td>Data Analyst</td>\n",
       "      <td>5</td>\n",
       "      <td>https://linkedin.com/jobs/view/3257250927/?alt...</td>\n",
       "      <td>Zamosc Metropolitan Area</td>\n",
       "      <td>Zamosc</td>\n",
       "      <td>NaN</td>\n",
       "    </tr>\n",
       "    <tr>\n",
       "      <th>37</th>\n",
       "      <td>37</td>\n",
       "      <td>\\n  &lt;div&gt;\\n    &lt;div class=\"\\n        jobs-deta...</td>\n",
       "      <td>Online Data Analyst | REMOTE OPPORTUNITY</td>\n",
       "      <td>30</td>\n",
       "      <td>https://linkedin.com/jobs/view/3257414261/?alt...</td>\n",
       "      <td>Greater Edinburgh Area</td>\n",
       "      <td>Edinburgh</td>\n",
       "      <td>NaN</td>\n",
       "    </tr>\n",
       "    <tr>\n",
       "      <th>59</th>\n",
       "      <td>59</td>\n",
       "      <td>\\n  &lt;div&gt;\\n    &lt;div class=\"\\n        jobs-deta...</td>\n",
       "      <td>(Junior) Financial Data Scientist (w/m/d)</td>\n",
       "      <td>32</td>\n",
       "      <td>https://linkedin.com/jobs/view/3246865514/?alt...</td>\n",
       "      <td>Berlin Metropolitan Area</td>\n",
       "      <td>Berlin</td>\n",
       "      <td>NaN</td>\n",
       "    </tr>\n",
       "    <tr>\n",
       "      <th>72</th>\n",
       "      <td>72</td>\n",
       "      <td>\\n  &lt;div&gt;\\n    &lt;div class=\"\\n        jobs-deta...</td>\n",
       "      <td>Remote| Data Analyst</td>\n",
       "      <td>7</td>\n",
       "      <td>https://linkedin.com/jobs/view/3255007949/?alt...</td>\n",
       "      <td>Lodz Metropolitan Area</td>\n",
       "      <td>Lodz</td>\n",
       "      <td>NaN</td>\n",
       "    </tr>\n",
       "    <tr>\n",
       "      <th>105</th>\n",
       "      <td>105</td>\n",
       "      <td>\\n  &lt;div&gt;\\n    &lt;div class=\"\\n        jobs-deta...</td>\n",
       "      <td>Work From Home | Data Analyst</td>\n",
       "      <td>12</td>\n",
       "      <td>https://linkedin.com/jobs/view/3255012398/?alt...</td>\n",
       "      <td>Lodz Metropolitan Area</td>\n",
       "      <td>Lodz</td>\n",
       "      <td>NaN</td>\n",
       "    </tr>\n",
       "    <tr>\n",
       "      <th>110</th>\n",
       "      <td>110</td>\n",
       "      <td>\\n  &lt;div&gt;\\n    &lt;div class=\"\\n        jobs-deta...</td>\n",
       "      <td>BIG DATA - Talent Campus</td>\n",
       "      <td>6</td>\n",
       "      <td>https://linkedin.com/jobs/view/3249995149/?alt...</td>\n",
       "      <td>Greater Cáceres Metropolitan Area</td>\n",
       "      <td>Cáceres</td>\n",
       "      <td>NaN</td>\n",
       "    </tr>\n",
       "    <tr>\n",
       "      <th>134</th>\n",
       "      <td>134</td>\n",
       "      <td>\\n  &lt;div&gt;\\n    &lt;div class=\"\\n        jobs-deta...</td>\n",
       "      <td>Data Scientist</td>\n",
       "      <td>43</td>\n",
       "      <td>https://linkedin.com/jobs/view/3248394290/?alt...</td>\n",
       "      <td>Brussels Metropolitan Area</td>\n",
       "      <td>Brussels</td>\n",
       "      <td>NaN</td>\n",
       "    </tr>\n",
       "    <tr>\n",
       "      <th>178</th>\n",
       "      <td>178</td>\n",
       "      <td>\\n  &lt;div&gt;\\n    &lt;div class=\"\\n        jobs-deta...</td>\n",
       "      <td>Data Internet Analyst</td>\n",
       "      <td>6</td>\n",
       "      <td>https://linkedin.com/jobs/view/3247860465/?alt...</td>\n",
       "      <td>Mons Metropolitan Area</td>\n",
       "      <td>Mons</td>\n",
       "      <td>NaN</td>\n",
       "    </tr>\n",
       "    <tr>\n",
       "      <th>182</th>\n",
       "      <td>182</td>\n",
       "      <td>\\n  &lt;div&gt;\\n    &lt;div class=\"\\n        jobs-deta...</td>\n",
       "      <td>Data Engineer for Business Intelligence/ Data ...</td>\n",
       "      <td>10</td>\n",
       "      <td>https://linkedin.com/jobs/view/3249825219/?alt...</td>\n",
       "      <td>Bucharest Metropolitan Area</td>\n",
       "      <td>Bucharest</td>\n",
       "      <td>NaN</td>\n",
       "    </tr>\n",
       "    <tr>\n",
       "      <th>189</th>\n",
       "      <td>189</td>\n",
       "      <td>\\n  &lt;div&gt;\\n    &lt;div class=\"\\n        jobs-deta...</td>\n",
       "      <td>Junior Data Analyst</td>\n",
       "      <td>167</td>\n",
       "      <td>https://linkedin.com/jobs/view/3246918625/?alt...</td>\n",
       "      <td>Greater Milan Metropolitan Area</td>\n",
       "      <td>Milan</td>\n",
       "      <td>NaN</td>\n",
       "    </tr>\n",
       "    <tr>\n",
       "      <th>210</th>\n",
       "      <td>210</td>\n",
       "      <td>\\n  &lt;div&gt;\\n    &lt;div class=\"\\n        jobs-deta...</td>\n",
       "      <td>Internet Analyst | Greater Bologna Metropolita...</td>\n",
       "      <td>6</td>\n",
       "      <td>https://linkedin.com/jobs/view/3247845833/?alt...</td>\n",
       "      <td>Greater Bologna Metropolitan Area</td>\n",
       "      <td>Bologna</td>\n",
       "      <td>NaN</td>\n",
       "    </tr>\n",
       "    <tr>\n",
       "      <th>228</th>\n",
       "      <td>228</td>\n",
       "      <td>\\n  &lt;div&gt;\\n    &lt;div class=\"\\n        jobs-deta...</td>\n",
       "      <td>Data Internet Analyst</td>\n",
       "      <td>2</td>\n",
       "      <td>https://linkedin.com/jobs/view/3247852791/?alt...</td>\n",
       "      <td>Ghent Metropolitan Area</td>\n",
       "      <td>Ghent</td>\n",
       "      <td>NaN</td>\n",
       "    </tr>\n",
       "    <tr>\n",
       "      <th>245</th>\n",
       "      <td>245</td>\n",
       "      <td>\\n  &lt;div&gt;\\n    &lt;div class=\"\\n        jobs-deta...</td>\n",
       "      <td>CONSULTANT.E JUNIOR- DEVELOPPEMENT DE NOUVEAUX...</td>\n",
       "      <td>14</td>\n",
       "      <td>https://linkedin.com/jobs/view/3256951297/?alt...</td>\n",
       "      <td>Greater Paris Metropolitan Region</td>\n",
       "      <td>Paris</td>\n",
       "      <td>NaN</td>\n",
       "    </tr>\n",
       "    <tr>\n",
       "      <th>250</th>\n",
       "      <td>250</td>\n",
       "      <td>\\n  &lt;div&gt;\\n    &lt;div class=\"\\n        jobs-deta...</td>\n",
       "      <td>Data Internet Analyst</td>\n",
       "      <td>2</td>\n",
       "      <td>https://linkedin.com/jobs/view/3247863268/?alt...</td>\n",
       "      <td>Bruges Metropolitan Area</td>\n",
       "      <td>Bruges</td>\n",
       "      <td>NaN</td>\n",
       "    </tr>\n",
       "    <tr>\n",
       "      <th>263</th>\n",
       "      <td>263</td>\n",
       "      <td>\\n  &lt;div&gt;\\n    &lt;div class=\"\\n        jobs-deta...</td>\n",
       "      <td>Analyst Big Data</td>\n",
       "      <td>6</td>\n",
       "      <td>https://linkedin.com/jobs/view/3253427743/?alt...</td>\n",
       "      <td>Greater Gijón Metropolitan Area</td>\n",
       "      <td>Gijón</td>\n",
       "      <td>NaN</td>\n",
       "    </tr>\n",
       "    <tr>\n",
       "      <th>284</th>\n",
       "      <td>284</td>\n",
       "      <td>\\n  &lt;div&gt;\\n    &lt;div class=\"\\n        jobs-deta...</td>\n",
       "      <td>Data Internet Analyst</td>\n",
       "      <td>1</td>\n",
       "      <td>https://linkedin.com/jobs/view/3247857667/?alt...</td>\n",
       "      <td>Kortrijk Metropolitan Area</td>\n",
       "      <td>Kortrijk</td>\n",
       "      <td>NaN</td>\n",
       "    </tr>\n",
       "    <tr>\n",
       "      <th>321</th>\n",
       "      <td>321</td>\n",
       "      <td>\\n  &lt;div&gt;\\n    &lt;div class=\"\\n        jobs-deta...</td>\n",
       "      <td>Financial Analyst</td>\n",
       "      <td>22</td>\n",
       "      <td>https://linkedin.com/jobs/view/3249882517/?alt...</td>\n",
       "      <td>Greater Rome Metropolitan Area</td>\n",
       "      <td>Rome</td>\n",
       "      <td>NaN</td>\n",
       "    </tr>\n",
       "    <tr>\n",
       "      <th>334</th>\n",
       "      <td>334</td>\n",
       "      <td>\\n  &lt;div&gt;\\n    &lt;div class=\"\\n        jobs-deta...</td>\n",
       "      <td>AI/ML Engineer</td>\n",
       "      <td>9</td>\n",
       "      <td>https://linkedin.com/jobs/view/3254346710/?alt...</td>\n",
       "      <td>Gdansk Metropolitan Area</td>\n",
       "      <td>Gdansk</td>\n",
       "      <td>NaN</td>\n",
       "    </tr>\n",
       "    <tr>\n",
       "      <th>344</th>\n",
       "      <td>344</td>\n",
       "      <td>\\n  &lt;div&gt;\\n    &lt;div class=\"\\n        jobs-deta...</td>\n",
       "      <td>Data Analyst</td>\n",
       "      <td>23</td>\n",
       "      <td>https://linkedin.com/jobs/view/3243899023/?alt...</td>\n",
       "      <td>Greater Zurich Area</td>\n",
       "      <td>Zurich</td>\n",
       "      <td>NaN</td>\n",
       "    </tr>\n",
       "    <tr>\n",
       "      <th>348</th>\n",
       "      <td>348</td>\n",
       "      <td>\\n  &lt;div&gt;\\n    &lt;div class=\"\\n        jobs-deta...</td>\n",
       "      <td>Data Internet Analyst</td>\n",
       "      <td>1</td>\n",
       "      <td>https://linkedin.com/jobs/view/3247862327/?alt...</td>\n",
       "      <td>Namur Metropolitan Area</td>\n",
       "      <td>Namur</td>\n",
       "      <td>NaN</td>\n",
       "    </tr>\n",
       "    <tr>\n",
       "      <th>363</th>\n",
       "      <td>363</td>\n",
       "      <td>\\n  &lt;div&gt;\\n    &lt;div class=\"\\n        jobs-deta...</td>\n",
       "      <td>Business Analytics &amp; Service Enhancement Speci...</td>\n",
       "      <td>27</td>\n",
       "      <td>https://linkedin.com/jobs/view/3250809231/?alt...</td>\n",
       "      <td>Greater Modena Metropolitan Area</td>\n",
       "      <td>Modena</td>\n",
       "      <td>NaN</td>\n",
       "    </tr>\n",
       "    <tr>\n",
       "      <th>376</th>\n",
       "      <td>376</td>\n",
       "      <td>\\n  &lt;div&gt;\\n    &lt;div class=\"\\n        jobs-deta...</td>\n",
       "      <td>Data Analyst</td>\n",
       "      <td>144</td>\n",
       "      <td>https://linkedin.com/jobs/view/3247186568/?alt...</td>\n",
       "      <td>Greater Barcelona Metropolitan Area</td>\n",
       "      <td>Barcelona</td>\n",
       "      <td>NaN</td>\n",
       "    </tr>\n",
       "    <tr>\n",
       "      <th>386</th>\n",
       "      <td>386</td>\n",
       "      <td>\\n  &lt;div&gt;\\n    &lt;div class=\"\\n        jobs-deta...</td>\n",
       "      <td>Internet Analyst | Greater Turin Metropolitan ...</td>\n",
       "      <td>7</td>\n",
       "      <td>https://linkedin.com/jobs/view/3247843839/?alt...</td>\n",
       "      <td>Greater Turin Metropolitan Area</td>\n",
       "      <td>Turin</td>\n",
       "      <td>NaN</td>\n",
       "    </tr>\n",
       "    <tr>\n",
       "      <th>398</th>\n",
       "      <td>398</td>\n",
       "      <td>\\n  &lt;div&gt;\\n    &lt;div class=\"\\n        jobs-deta...</td>\n",
       "      <td>Data Internet Analyst</td>\n",
       "      <td>8</td>\n",
       "      <td>https://linkedin.com/jobs/view/3247849735/?alt...</td>\n",
       "      <td>Brussels Metropolitan Area</td>\n",
       "      <td>Brussels</td>\n",
       "      <td>NaN</td>\n",
       "    </tr>\n",
       "    <tr>\n",
       "      <th>405</th>\n",
       "      <td>405</td>\n",
       "      <td>\\n  &lt;div&gt;\\n    &lt;div class=\"\\n        jobs-deta...</td>\n",
       "      <td>Data Engineer junior | MedTech</td>\n",
       "      <td>98</td>\n",
       "      <td>https://linkedin.com/jobs/view/3255014616/?alt...</td>\n",
       "      <td>Greater Paris Metropolitan Region</td>\n",
       "      <td>Paris</td>\n",
       "      <td>NaN</td>\n",
       "    </tr>\n",
       "    <tr>\n",
       "      <th>408</th>\n",
       "      <td>408</td>\n",
       "      <td>\\n  &lt;div&gt;\\n    &lt;div class=\"\\n        jobs-deta...</td>\n",
       "      <td>DATA ANALYST</td>\n",
       "      <td>92</td>\n",
       "      <td>https://linkedin.com/jobs/view/3253807557/?alt...</td>\n",
       "      <td>Greater Barcelona Metropolitan Area</td>\n",
       "      <td>Barcelona</td>\n",
       "      <td>NaN</td>\n",
       "    </tr>\n",
       "    <tr>\n",
       "      <th>424</th>\n",
       "      <td>424</td>\n",
       "      <td>\\n  &lt;div&gt;\\n    &lt;div class=\"\\n        jobs-deta...</td>\n",
       "      <td>Speech Data Collection in Germany</td>\n",
       "      <td>1</td>\n",
       "      <td>https://linkedin.com/jobs/view/3247818801/?alt...</td>\n",
       "      <td>Cologne Bonn Region</td>\n",
       "      <td>NaN</td>\n",
       "      <td>NaN</td>\n",
       "    </tr>\n",
       "    <tr>\n",
       "      <th>436</th>\n",
       "      <td>436</td>\n",
       "      <td>\\n  &lt;div&gt;\\n    &lt;div class=\"\\n        jobs-deta...</td>\n",
       "      <td>Business Analyst H/F</td>\n",
       "      <td>35</td>\n",
       "      <td>https://linkedin.com/jobs/view/3253824038/?alt...</td>\n",
       "      <td>Greater Paris Metropolitan Region</td>\n",
       "      <td>Paris</td>\n",
       "      <td>NaN</td>\n",
       "    </tr>\n",
       "    <tr>\n",
       "      <th>448</th>\n",
       "      <td>448</td>\n",
       "      <td>\\n  &lt;div&gt;\\n    &lt;div class=\"\\n        jobs-deta...</td>\n",
       "      <td>Data Internet Analyst</td>\n",
       "      <td>4</td>\n",
       "      <td>https://linkedin.com/jobs/view/3247849781/?alt...</td>\n",
       "      <td>Antwerp Metropolitan Area</td>\n",
       "      <td>Antwerp</td>\n",
       "      <td>NaN</td>\n",
       "    </tr>\n",
       "    <tr>\n",
       "      <th>449</th>\n",
       "      <td>449</td>\n",
       "      <td>\\n  &lt;div&gt;\\n    &lt;div class=\"\\n        jobs-deta...</td>\n",
       "      <td>Développeur Objet domaine défense H/F</td>\n",
       "      <td>1</td>\n",
       "      <td>https://linkedin.com/jobs/view/3255297398/?alt...</td>\n",
       "      <td>Greater Nantes Metropolitan Area</td>\n",
       "      <td>Nantes</td>\n",
       "      <td>NaN</td>\n",
       "    </tr>\n",
       "    <tr>\n",
       "      <th>472</th>\n",
       "      <td>472</td>\n",
       "      <td>\\n  &lt;div&gt;\\n    &lt;div class=\"\\n        jobs-deta...</td>\n",
       "      <td>Internet Analyst (Remote Set-up)</td>\n",
       "      <td>8</td>\n",
       "      <td>https://linkedin.com/jobs/view/3249546920/?alt...</td>\n",
       "      <td>Warsaw Metropolitan Area</td>\n",
       "      <td>Warsaw</td>\n",
       "      <td>NaN</td>\n",
       "    </tr>\n",
       "    <tr>\n",
       "      <th>479</th>\n",
       "      <td>479</td>\n",
       "      <td>\\n  &lt;div&gt;\\n    &lt;div class=\"\\n        jobs-deta...</td>\n",
       "      <td>BIG DATA - Talent Campus</td>\n",
       "      <td>2</td>\n",
       "      <td>https://linkedin.com/jobs/view/3249993235/?alt...</td>\n",
       "      <td>Greater Gijón Metropolitan Area</td>\n",
       "      <td>Gijón</td>\n",
       "      <td>NaN</td>\n",
       "    </tr>\n",
       "    <tr>\n",
       "      <th>492</th>\n",
       "      <td>492</td>\n",
       "      <td>\\n  &lt;div&gt;\\n    &lt;div class=\"\\n        jobs-deta...</td>\n",
       "      <td>Data Entry in Spain</td>\n",
       "      <td>148</td>\n",
       "      <td>https://linkedin.com/jobs/view/3247186640/?alt...</td>\n",
       "      <td>Greater Valencia Metropolitan Area</td>\n",
       "      <td>Valencia</td>\n",
       "      <td>NaN</td>\n",
       "    </tr>\n",
       "    <tr>\n",
       "      <th>567</th>\n",
       "      <td>567</td>\n",
       "      <td>\\n  &lt;div&gt;\\n    &lt;div class=\"\\n        jobs-deta...</td>\n",
       "      <td>Internet Analyst</td>\n",
       "      <td>14</td>\n",
       "      <td>https://linkedin.com/jobs/view/3247852438/?alt...</td>\n",
       "      <td>Greater Genoa Metropolitan Area</td>\n",
       "      <td>Genoa</td>\n",
       "      <td>NaN</td>\n",
       "    </tr>\n",
       "    <tr>\n",
       "      <th>574</th>\n",
       "      <td>574</td>\n",
       "      <td>\\n  &lt;div&gt;\\n    &lt;div class=\"\\n        jobs-deta...</td>\n",
       "      <td>Data Internet Analyst</td>\n",
       "      <td>3</td>\n",
       "      <td>https://linkedin.com/jobs/view/3247856433/?alt...</td>\n",
       "      <td>Liege Metropolitan Area</td>\n",
       "      <td>Liege</td>\n",
       "      <td>NaN</td>\n",
       "    </tr>\n",
       "    <tr>\n",
       "      <th>604</th>\n",
       "      <td>604</td>\n",
       "      <td>\\n  &lt;div&gt;\\n    &lt;div class=\"\\n        jobs-deta...</td>\n",
       "      <td>Data Internet Analyst</td>\n",
       "      <td>3</td>\n",
       "      <td>https://linkedin.com/jobs/view/3247862197/?alt...</td>\n",
       "      <td>Louvain Metropolitan Area</td>\n",
       "      <td>Louvain</td>\n",
       "      <td>NaN</td>\n",
       "    </tr>\n",
       "    <tr>\n",
       "      <th>669</th>\n",
       "      <td>669</td>\n",
       "      <td>\\n  &lt;div&gt;\\n    &lt;div class=\"\\n        jobs-deta...</td>\n",
       "      <td>Desarrollador/a Mercado Canal Nocturno, Barcelona</td>\n",
       "      <td>19</td>\n",
       "      <td>https://linkedin.com/jobs/view/3241903733/?alt...</td>\n",
       "      <td>Greater Barcelona Metropolitan Area</td>\n",
       "      <td>Barcelona</td>\n",
       "      <td>NaN</td>\n",
       "    </tr>\n",
       "    <tr>\n",
       "      <th>671</th>\n",
       "      <td>671</td>\n",
       "      <td>\\n  &lt;div&gt;\\n    &lt;div class=\"\\n        jobs-deta...</td>\n",
       "      <td>Duales Masterstudium Applied Data Science (m/w/d)</td>\n",
       "      <td>7</td>\n",
       "      <td>https://linkedin.com/jobs/view/3195587554/?alt...</td>\n",
       "      <td>Hannover-Braunschweig-Göttingen-Wolfsburg Region</td>\n",
       "      <td>NaN</td>\n",
       "      <td>NaN</td>\n",
       "    </tr>\n",
       "    <tr>\n",
       "      <th>721</th>\n",
       "      <td>721</td>\n",
       "      <td>\\n  &lt;div&gt;\\n    &lt;div class=\"\\n        jobs-deta...</td>\n",
       "      <td>Data Scientist</td>\n",
       "      <td>59</td>\n",
       "      <td>https://linkedin.com/jobs/view/3256782698/?alt...</td>\n",
       "      <td>Ghent Metropolitan Area</td>\n",
       "      <td>Ghent</td>\n",
       "      <td>NaN</td>\n",
       "    </tr>\n",
       "    <tr>\n",
       "      <th>760</th>\n",
       "      <td>760</td>\n",
       "      <td>\\n  &lt;div&gt;\\n    &lt;div class=\"\\n        jobs-deta...</td>\n",
       "      <td>Internet Analyst</td>\n",
       "      <td>24</td>\n",
       "      <td>https://linkedin.com/jobs/view/3248393601/?alt...</td>\n",
       "      <td>Athens Metropolitan Area</td>\n",
       "      <td>Athens</td>\n",
       "      <td>NaN</td>\n",
       "    </tr>\n",
       "  </tbody>\n",
       "</table>\n",
       "</div>"
      ],
      "text/plain": [
       "     Unnamed: 0                                               html  \\\n",
       "9             9  \\n  <div>\\n    <div class=\"\\n        jobs-deta...   \n",
       "11           11  \\n  <div>\\n    <div class=\"\\n        jobs-deta...   \n",
       "21           21  \\n  <div>\\n    <div class=\"\\n        jobs-deta...   \n",
       "28           28  \\n  <div>\\n    <div class=\"\\n        jobs-deta...   \n",
       "31           31  \\n  <div>\\n    <div class=\"\\n        jobs-deta...   \n",
       "33           33  \\n  <div>\\n    <div class=\"\\n        jobs-deta...   \n",
       "36           36  \\n  <div>\\n    <div class=\"\\n        jobs-deta...   \n",
       "37           37  \\n  <div>\\n    <div class=\"\\n        jobs-deta...   \n",
       "59           59  \\n  <div>\\n    <div class=\"\\n        jobs-deta...   \n",
       "72           72  \\n  <div>\\n    <div class=\"\\n        jobs-deta...   \n",
       "105         105  \\n  <div>\\n    <div class=\"\\n        jobs-deta...   \n",
       "110         110  \\n  <div>\\n    <div class=\"\\n        jobs-deta...   \n",
       "134         134  \\n  <div>\\n    <div class=\"\\n        jobs-deta...   \n",
       "178         178  \\n  <div>\\n    <div class=\"\\n        jobs-deta...   \n",
       "182         182  \\n  <div>\\n    <div class=\"\\n        jobs-deta...   \n",
       "189         189  \\n  <div>\\n    <div class=\"\\n        jobs-deta...   \n",
       "210         210  \\n  <div>\\n    <div class=\"\\n        jobs-deta...   \n",
       "228         228  \\n  <div>\\n    <div class=\"\\n        jobs-deta...   \n",
       "245         245  \\n  <div>\\n    <div class=\"\\n        jobs-deta...   \n",
       "250         250  \\n  <div>\\n    <div class=\"\\n        jobs-deta...   \n",
       "263         263  \\n  <div>\\n    <div class=\"\\n        jobs-deta...   \n",
       "284         284  \\n  <div>\\n    <div class=\"\\n        jobs-deta...   \n",
       "321         321  \\n  <div>\\n    <div class=\"\\n        jobs-deta...   \n",
       "334         334  \\n  <div>\\n    <div class=\"\\n        jobs-deta...   \n",
       "344         344  \\n  <div>\\n    <div class=\"\\n        jobs-deta...   \n",
       "348         348  \\n  <div>\\n    <div class=\"\\n        jobs-deta...   \n",
       "363         363  \\n  <div>\\n    <div class=\"\\n        jobs-deta...   \n",
       "376         376  \\n  <div>\\n    <div class=\"\\n        jobs-deta...   \n",
       "386         386  \\n  <div>\\n    <div class=\"\\n        jobs-deta...   \n",
       "398         398  \\n  <div>\\n    <div class=\"\\n        jobs-deta...   \n",
       "405         405  \\n  <div>\\n    <div class=\"\\n        jobs-deta...   \n",
       "408         408  \\n  <div>\\n    <div class=\"\\n        jobs-deta...   \n",
       "424         424  \\n  <div>\\n    <div class=\"\\n        jobs-deta...   \n",
       "436         436  \\n  <div>\\n    <div class=\"\\n        jobs-deta...   \n",
       "448         448  \\n  <div>\\n    <div class=\"\\n        jobs-deta...   \n",
       "449         449  \\n  <div>\\n    <div class=\"\\n        jobs-deta...   \n",
       "472         472  \\n  <div>\\n    <div class=\"\\n        jobs-deta...   \n",
       "479         479  \\n  <div>\\n    <div class=\"\\n        jobs-deta...   \n",
       "492         492  \\n  <div>\\n    <div class=\"\\n        jobs-deta...   \n",
       "567         567  \\n  <div>\\n    <div class=\"\\n        jobs-deta...   \n",
       "574         574  \\n  <div>\\n    <div class=\"\\n        jobs-deta...   \n",
       "604         604  \\n  <div>\\n    <div class=\"\\n        jobs-deta...   \n",
       "669         669  \\n  <div>\\n    <div class=\"\\n        jobs-deta...   \n",
       "671         671  \\n  <div>\\n    <div class=\"\\n        jobs-deta...   \n",
       "721         721  \\n  <div>\\n    <div class=\"\\n        jobs-deta...   \n",
       "760         760  \\n  <div>\\n    <div class=\"\\n        jobs-deta...   \n",
       "\n",
       "                                                 title candidats  \\\n",
       "9                          Data Engineer (with Python)        18   \n",
       "11                                        Data Analyst       NaN   \n",
       "21                               Junior Data Scientist        76   \n",
       "28                                        Data Analyst         3   \n",
       "31                 Online Data Analyst | Flexible Work        23   \n",
       "33                                        Data Analyst         7   \n",
       "36                                        Data Analyst         5   \n",
       "37            Online Data Analyst | REMOTE OPPORTUNITY        30   \n",
       "59           (Junior) Financial Data Scientist (w/m/d)        32   \n",
       "72                                Remote| Data Analyst         7   \n",
       "105                      Work From Home | Data Analyst        12   \n",
       "110                           BIG DATA - Talent Campus         6   \n",
       "134                                     Data Scientist        43   \n",
       "178                              Data Internet Analyst         6   \n",
       "182  Data Engineer for Business Intelligence/ Data ...        10   \n",
       "189                                Junior Data Analyst       167   \n",
       "210  Internet Analyst | Greater Bologna Metropolita...         6   \n",
       "228                              Data Internet Analyst         2   \n",
       "245  CONSULTANT.E JUNIOR- DEVELOPPEMENT DE NOUVEAUX...        14   \n",
       "250                              Data Internet Analyst         2   \n",
       "263                                   Analyst Big Data         6   \n",
       "284                              Data Internet Analyst         1   \n",
       "321                                  Financial Analyst        22   \n",
       "334                                     AI/ML Engineer         9   \n",
       "344                                       Data Analyst        23   \n",
       "348                              Data Internet Analyst         1   \n",
       "363  Business Analytics & Service Enhancement Speci...        27   \n",
       "376                                       Data Analyst       144   \n",
       "386  Internet Analyst | Greater Turin Metropolitan ...         7   \n",
       "398                              Data Internet Analyst         8   \n",
       "405                     Data Engineer junior | MedTech        98   \n",
       "408                                       DATA ANALYST        92   \n",
       "424                  Speech Data Collection in Germany         1   \n",
       "436                               Business Analyst H/F        35   \n",
       "448                              Data Internet Analyst         4   \n",
       "449              Développeur Objet domaine défense H/F         1   \n",
       "472                   Internet Analyst (Remote Set-up)         8   \n",
       "479                           BIG DATA - Talent Campus         2   \n",
       "492                                Data Entry in Spain       148   \n",
       "567                                   Internet Analyst        14   \n",
       "574                              Data Internet Analyst         3   \n",
       "604                              Data Internet Analyst         3   \n",
       "669  Desarrollador/a Mercado Canal Nocturno, Barcelona        19   \n",
       "671  Duales Masterstudium Applied Data Science (m/w/d)         7   \n",
       "721                                     Data Scientist        59   \n",
       "760                                   Internet Analyst        24   \n",
       "\n",
       "                                                  link  \\\n",
       "9    https://linkedin.com/jobs/view/3247820547/?alt...   \n",
       "11   https://linkedin.com/jobs/view/3257247449/?alt...   \n",
       "21   https://linkedin.com/jobs/view/3256742948/?alt...   \n",
       "28   https://linkedin.com/jobs/view/3257240118/?alt...   \n",
       "31   https://linkedin.com/jobs/view/3256368280/?alt...   \n",
       "33   https://linkedin.com/jobs/view/3257248741/?alt...   \n",
       "36   https://linkedin.com/jobs/view/3257250927/?alt...   \n",
       "37   https://linkedin.com/jobs/view/3257414261/?alt...   \n",
       "59   https://linkedin.com/jobs/view/3246865514/?alt...   \n",
       "72   https://linkedin.com/jobs/view/3255007949/?alt...   \n",
       "105  https://linkedin.com/jobs/view/3255012398/?alt...   \n",
       "110  https://linkedin.com/jobs/view/3249995149/?alt...   \n",
       "134  https://linkedin.com/jobs/view/3248394290/?alt...   \n",
       "178  https://linkedin.com/jobs/view/3247860465/?alt...   \n",
       "182  https://linkedin.com/jobs/view/3249825219/?alt...   \n",
       "189  https://linkedin.com/jobs/view/3246918625/?alt...   \n",
       "210  https://linkedin.com/jobs/view/3247845833/?alt...   \n",
       "228  https://linkedin.com/jobs/view/3247852791/?alt...   \n",
       "245  https://linkedin.com/jobs/view/3256951297/?alt...   \n",
       "250  https://linkedin.com/jobs/view/3247863268/?alt...   \n",
       "263  https://linkedin.com/jobs/view/3253427743/?alt...   \n",
       "284  https://linkedin.com/jobs/view/3247857667/?alt...   \n",
       "321  https://linkedin.com/jobs/view/3249882517/?alt...   \n",
       "334  https://linkedin.com/jobs/view/3254346710/?alt...   \n",
       "344  https://linkedin.com/jobs/view/3243899023/?alt...   \n",
       "348  https://linkedin.com/jobs/view/3247862327/?alt...   \n",
       "363  https://linkedin.com/jobs/view/3250809231/?alt...   \n",
       "376  https://linkedin.com/jobs/view/3247186568/?alt...   \n",
       "386  https://linkedin.com/jobs/view/3247843839/?alt...   \n",
       "398  https://linkedin.com/jobs/view/3247849735/?alt...   \n",
       "405  https://linkedin.com/jobs/view/3255014616/?alt...   \n",
       "408  https://linkedin.com/jobs/view/3253807557/?alt...   \n",
       "424  https://linkedin.com/jobs/view/3247818801/?alt...   \n",
       "436  https://linkedin.com/jobs/view/3253824038/?alt...   \n",
       "448  https://linkedin.com/jobs/view/3247849781/?alt...   \n",
       "449  https://linkedin.com/jobs/view/3255297398/?alt...   \n",
       "472  https://linkedin.com/jobs/view/3249546920/?alt...   \n",
       "479  https://linkedin.com/jobs/view/3249993235/?alt...   \n",
       "492  https://linkedin.com/jobs/view/3247186640/?alt...   \n",
       "567  https://linkedin.com/jobs/view/3247852438/?alt...   \n",
       "574  https://linkedin.com/jobs/view/3247856433/?alt...   \n",
       "604  https://linkedin.com/jobs/view/3247862197/?alt...   \n",
       "669  https://linkedin.com/jobs/view/3241903733/?alt...   \n",
       "671  https://linkedin.com/jobs/view/3195587554/?alt...   \n",
       "721  https://linkedin.com/jobs/view/3256782698/?alt...   \n",
       "760  https://linkedin.com/jobs/view/3248393601/?alt...   \n",
       "\n",
       "                                                  geo        city country  \n",
       "9                           Wroclaw Metropolitan Area     Wroclaw     NaN  \n",
       "11                         Przemyśl Metropolitan Area    Przemyśl     NaN  \n",
       "21                          Wroclaw Metropolitan Area     Wroclaw     NaN  \n",
       "28                        Grudziadz Metropolitan Area   Grudziadz     NaN  \n",
       "31               Greater Norrköping Metropolitan Area  Norrköping     NaN  \n",
       "33                            Radom Metropolitan Area       Radom     NaN  \n",
       "36                           Zamosc Metropolitan Area      Zamosc     NaN  \n",
       "37                             Greater Edinburgh Area   Edinburgh     NaN  \n",
       "59                           Berlin Metropolitan Area      Berlin     NaN  \n",
       "72                             Lodz Metropolitan Area        Lodz     NaN  \n",
       "105                            Lodz Metropolitan Area        Lodz     NaN  \n",
       "110                 Greater Cáceres Metropolitan Area     Cáceres     NaN  \n",
       "134                        Brussels Metropolitan Area    Brussels     NaN  \n",
       "178                            Mons Metropolitan Area        Mons     NaN  \n",
       "182                       Bucharest Metropolitan Area   Bucharest     NaN  \n",
       "189                   Greater Milan Metropolitan Area       Milan     NaN  \n",
       "210                 Greater Bologna Metropolitan Area     Bologna     NaN  \n",
       "228                           Ghent Metropolitan Area       Ghent     NaN  \n",
       "245                 Greater Paris Metropolitan Region       Paris     NaN  \n",
       "250                          Bruges Metropolitan Area      Bruges     NaN  \n",
       "263                   Greater Gijón Metropolitan Area       Gijón     NaN  \n",
       "284                        Kortrijk Metropolitan Area    Kortrijk     NaN  \n",
       "321                    Greater Rome Metropolitan Area        Rome     NaN  \n",
       "334                          Gdansk Metropolitan Area      Gdansk     NaN  \n",
       "344                               Greater Zurich Area      Zurich     NaN  \n",
       "348                           Namur Metropolitan Area       Namur     NaN  \n",
       "363                  Greater Modena Metropolitan Area      Modena     NaN  \n",
       "376               Greater Barcelona Metropolitan Area   Barcelona     NaN  \n",
       "386                   Greater Turin Metropolitan Area       Turin     NaN  \n",
       "398                        Brussels Metropolitan Area    Brussels     NaN  \n",
       "405                 Greater Paris Metropolitan Region       Paris     NaN  \n",
       "408               Greater Barcelona Metropolitan Area   Barcelona     NaN  \n",
       "424                               Cologne Bonn Region         NaN     NaN  \n",
       "436                 Greater Paris Metropolitan Region       Paris     NaN  \n",
       "448                         Antwerp Metropolitan Area     Antwerp     NaN  \n",
       "449                  Greater Nantes Metropolitan Area      Nantes     NaN  \n",
       "472                          Warsaw Metropolitan Area      Warsaw     NaN  \n",
       "479                   Greater Gijón Metropolitan Area       Gijón     NaN  \n",
       "492                Greater Valencia Metropolitan Area    Valencia     NaN  \n",
       "567                   Greater Genoa Metropolitan Area       Genoa     NaN  \n",
       "574                           Liege Metropolitan Area       Liege     NaN  \n",
       "604                         Louvain Metropolitan Area     Louvain     NaN  \n",
       "669               Greater Barcelona Metropolitan Area   Barcelona     NaN  \n",
       "671  Hannover-Braunschweig-Göttingen-Wolfsburg Region         NaN     NaN  \n",
       "721                           Ghent Metropolitan Area       Ghent     NaN  \n",
       "760                          Athens Metropolitan Area      Athens     NaN  "
      ]
     },
     "execution_count": 27,
     "metadata": {},
     "output_type": "execute_result"
    }
   ],
   "source": [
    "df.query('country.isna()') #проверим пропуски в колонке страна"
   ]
  },
  {
   "cell_type": "markdown",
   "id": "1255f88c",
   "metadata": {},
   "source": [
    "Заменим nan в колонке Cтрана"
   ]
  },
  {
   "cell_type": "code",
   "execution_count": 28,
   "id": "a95dbe05",
   "metadata": {},
   "outputs": [],
   "source": [
    "df.loc[(df['city'] == 'Wroclaw') | (df['city'] == 'Gdansk') | (df['city'] == 'Warsaw') | (df['city'] == 'Przemyśl') | (df['city'] == 'Grudziadz'), 'country'] = 'Poland'\n",
    "df.loc[(df['city'] == 'Milan') | (df['city'] == 'Bologna') | (df['city'] == 'Turin') | (df['city'] == 'Genoa') | (df['city'] == 'Rome') | (df['city'] == 'Modena'), 'country'] = 'Italy'\n",
    "df.loc[(df['city'] == 'Lodz') | (df['city'] == 'Zamosc') | (df['city'] == 'Radom'), 'country'] = 'Poland'\n",
    "df.loc[(df['city'] == 'Mons') | (df['city'] == 'Brussels') | (df['city'] == 'Bruges') | (df['city'] == 'Ghent') | (df['city'] == 'Namur') | (df['city'] =='Liege') | (df['city']=='Antwerp') | (df['city']=='Louvain') | (df['city']=='Kortrijk'), 'country'] = 'Belgium'\n",
    "df.loc[(df['city'] == 'Paris') | (df['city'] == 'Nantes'), 'country'] = 'France'\n",
    "df.loc[(df['city'] == 'Barcelona') | (df['city'] == 'Valencia') | (df['city'] == 'Gijón') | (df['city'] == 'Cáceres'), 'country'] = 'Spain'\n",
    "df.loc[df['city'] == 'Norrköping', 'country'] = 'Sweden'\n",
    "df.loc[df['city'] == 'Berlin', 'country'] = 'Germany'\n",
    "df.loc[df['city'] == 'Bucharest', 'country'] = 'Romania'\n",
    "df.loc[df['city'] == 'Edinburgh', 'country'] = 'United Kingdom'\n",
    "df.loc[df['city'] == 'Athens', 'country'] = 'Greece'\n",
    "df.loc[df['city'] == 'Zurich', 'country'] = 'Switzerland'\n",
    "df['country'] = df['country'].fillna('Germany')\n",
    "df['country'] = df['country'].replace('Italy Metropolitan Area', 'Italy')"
   ]
  },
  {
   "cell_type": "code",
   "execution_count": 29,
   "id": "1cdc0d95",
   "metadata": {},
   "outputs": [],
   "source": [
    "df[['title', 'city', 'country']].to_csv('for_tableau.csv', index = False)"
   ]
  },
  {
   "cell_type": "code",
   "execution_count": 30,
   "id": "9290e5bb",
   "metadata": {},
   "outputs": [
    {
     "data": {
      "text/html": [
       "<div>\n",
       "<style scoped>\n",
       "    .dataframe tbody tr th:only-of-type {\n",
       "        vertical-align: middle;\n",
       "    }\n",
       "\n",
       "    .dataframe tbody tr th {\n",
       "        vertical-align: top;\n",
       "    }\n",
       "\n",
       "    .dataframe thead th {\n",
       "        text-align: right;\n",
       "    }\n",
       "</style>\n",
       "<table border=\"1\" class=\"dataframe\">\n",
       "  <thead>\n",
       "    <tr style=\"text-align: right;\">\n",
       "      <th></th>\n",
       "      <th>Unnamed: 0</th>\n",
       "      <th>html</th>\n",
       "      <th>title</th>\n",
       "      <th>candidats</th>\n",
       "      <th>link</th>\n",
       "      <th>geo</th>\n",
       "      <th>city</th>\n",
       "      <th>country</th>\n",
       "    </tr>\n",
       "  </thead>\n",
       "  <tbody>\n",
       "  </tbody>\n",
       "</table>\n",
       "</div>"
      ],
      "text/plain": [
       "Empty DataFrame\n",
       "Columns: [Unnamed: 0, html, title, candidats, link, geo, city, country]\n",
       "Index: []"
      ]
     },
     "execution_count": 30,
     "metadata": {},
     "output_type": "execute_result"
    }
   ],
   "source": [
    "df.query('country.isna()')"
   ]
  },
  {
   "cell_type": "code",
   "execution_count": 31,
   "id": "42c12e5c",
   "metadata": {},
   "outputs": [
    {
     "data": {
      "text/plain": [
       "array(['France', 'Sweden', 'Belgium', 'Germany', 'Poland', 'Hungary',\n",
       "       'Spain', 'Denmark', 'Gibraltar', 'United Kingdom', 'Finland',\n",
       "       'Switzerland', 'Netherlands', 'Italy', 'Norway', 'Czechia',\n",
       "       'Bulgaria', 'Slovakia', 'Portugal', 'Ireland', 'Romania',\n",
       "       'Luxembourg', 'Croatia', 'Slovenia', 'Greece', 'Austria',\n",
       "       'Estonia', 'Lithuania', 'Ukraine', 'Serbia'], dtype=object)"
      ]
     },
     "execution_count": 31,
     "metadata": {},
     "output_type": "execute_result"
    }
   ],
   "source": [
    "df['country'].unique()"
   ]
  },
  {
   "cell_type": "code",
   "execution_count": 32,
   "id": "caa87d00",
   "metadata": {},
   "outputs": [
    {
     "data": {
      "text/html": [
       "<div>\n",
       "<style scoped>\n",
       "    .dataframe tbody tr th:only-of-type {\n",
       "        vertical-align: middle;\n",
       "    }\n",
       "\n",
       "    .dataframe tbody tr th {\n",
       "        vertical-align: top;\n",
       "    }\n",
       "\n",
       "    .dataframe thead th {\n",
       "        text-align: right;\n",
       "    }\n",
       "</style>\n",
       "<table border=\"1\" class=\"dataframe\">\n",
       "  <thead>\n",
       "    <tr style=\"text-align: right;\">\n",
       "      <th></th>\n",
       "      <th>Unnamed: 0</th>\n",
       "      <th>html</th>\n",
       "      <th>title</th>\n",
       "      <th>candidats</th>\n",
       "      <th>link</th>\n",
       "      <th>geo</th>\n",
       "      <th>city</th>\n",
       "      <th>country</th>\n",
       "    </tr>\n",
       "  </thead>\n",
       "  <tbody>\n",
       "    <tr>\n",
       "      <th>16</th>\n",
       "      <td>16</td>\n",
       "      <td>\\n  &lt;div&gt;\\n    &lt;div class=\"\\n        jobs-deta...</td>\n",
       "      <td>Data Scientist - Experience</td>\n",
       "      <td>40</td>\n",
       "      <td>https://linkedin.com/jobs/view/3254095477/?alt...</td>\n",
       "      <td>Denmark</td>\n",
       "      <td>NaN</td>\n",
       "      <td>Denmark</td>\n",
       "    </tr>\n",
       "    <tr>\n",
       "      <th>19</th>\n",
       "      <td>19</td>\n",
       "      <td>\\n  &lt;div&gt;\\n    &lt;div class=\"\\n        jobs-deta...</td>\n",
       "      <td>Data Analyst (Tableau)</td>\n",
       "      <td>30</td>\n",
       "      <td>https://linkedin.com/jobs/view/3248368719/?alt...</td>\n",
       "      <td>Gibraltar</td>\n",
       "      <td>NaN</td>\n",
       "      <td>Gibraltar</td>\n",
       "    </tr>\n",
       "    <tr>\n",
       "      <th>27</th>\n",
       "      <td>27</td>\n",
       "      <td>\\n  &lt;div&gt;\\n    &lt;div class=\"\\n        jobs-deta...</td>\n",
       "      <td>Data Analyst</td>\n",
       "      <td>9</td>\n",
       "      <td>https://linkedin.com/jobs/view/3257231590/?alt...</td>\n",
       "      <td>Poland</td>\n",
       "      <td>NaN</td>\n",
       "      <td>Poland</td>\n",
       "    </tr>\n",
       "    <tr>\n",
       "      <th>53</th>\n",
       "      <td>53</td>\n",
       "      <td>\\n  &lt;div&gt;\\n    &lt;div class=\"\\n        jobs-deta...</td>\n",
       "      <td>Online Data Analyst - Belgium</td>\n",
       "      <td>11</td>\n",
       "      <td>https://linkedin.com/jobs/view/3248871894/?alt...</td>\n",
       "      <td>Belgium</td>\n",
       "      <td>NaN</td>\n",
       "      <td>Belgium</td>\n",
       "    </tr>\n",
       "    <tr>\n",
       "      <th>57</th>\n",
       "      <td>57</td>\n",
       "      <td>\\n  &lt;div&gt;\\n    &lt;div class=\"\\n        jobs-deta...</td>\n",
       "      <td>Backend Engineer - Revenue Engineering</td>\n",
       "      <td>10</td>\n",
       "      <td>https://linkedin.com/jobs/view/3253483251/?alt...</td>\n",
       "      <td>France</td>\n",
       "      <td>NaN</td>\n",
       "      <td>France</td>\n",
       "    </tr>\n",
       "    <tr>\n",
       "      <th>...</th>\n",
       "      <td>...</td>\n",
       "      <td>...</td>\n",
       "      <td>...</td>\n",
       "      <td>...</td>\n",
       "      <td>...</td>\n",
       "      <td>...</td>\n",
       "      <td>...</td>\n",
       "      <td>...</td>\n",
       "    </tr>\n",
       "    <tr>\n",
       "      <th>710</th>\n",
       "      <td>710</td>\n",
       "      <td>\\n  &lt;div&gt;\\n    &lt;div class=\"\\n        jobs-deta...</td>\n",
       "      <td>Part-time Project | French Speaker</td>\n",
       "      <td>21</td>\n",
       "      <td>https://linkedin.com/jobs/view/3249701530/?alt...</td>\n",
       "      <td>France</td>\n",
       "      <td>NaN</td>\n",
       "      <td>France</td>\n",
       "    </tr>\n",
       "    <tr>\n",
       "      <th>714</th>\n",
       "      <td>714</td>\n",
       "      <td>\\n  &lt;div&gt;\\n    &lt;div class=\"\\n        jobs-deta...</td>\n",
       "      <td>Machine Learning Engineer</td>\n",
       "      <td>NaN</td>\n",
       "      <td>https://linkedin.com/jobs/view/3164447081/?alt...</td>\n",
       "      <td>Spain</td>\n",
       "      <td>NaN</td>\n",
       "      <td>Spain</td>\n",
       "    </tr>\n",
       "    <tr>\n",
       "      <th>715</th>\n",
       "      <td>715</td>\n",
       "      <td>\\n  &lt;div&gt;\\n    &lt;div class=\"\\n        jobs-deta...</td>\n",
       "      <td>Cryptography Specialist Engineer (Snaps)</td>\n",
       "      <td>6</td>\n",
       "      <td>https://linkedin.com/jobs/view/3224293781/?alt...</td>\n",
       "      <td>Spain</td>\n",
       "      <td>NaN</td>\n",
       "      <td>Spain</td>\n",
       "    </tr>\n",
       "    <tr>\n",
       "      <th>723</th>\n",
       "      <td>723</td>\n",
       "      <td>\\n  &lt;div&gt;\\n    &lt;div class=\"\\n        jobs-deta...</td>\n",
       "      <td>Backend Engineer - Personalization</td>\n",
       "      <td>5</td>\n",
       "      <td>https://linkedin.com/jobs/view/3254094473/?alt...</td>\n",
       "      <td>Sweden</td>\n",
       "      <td>NaN</td>\n",
       "      <td>Sweden</td>\n",
       "    </tr>\n",
       "    <tr>\n",
       "      <th>770</th>\n",
       "      <td>770</td>\n",
       "      <td>\\n  &lt;div&gt;\\n    &lt;div class=\"\\n        jobs-deta...</td>\n",
       "      <td>Backend Engineer - Personalization</td>\n",
       "      <td>3</td>\n",
       "      <td>https://linkedin.com/jobs/view/3254092624/?alt...</td>\n",
       "      <td>Denmark</td>\n",
       "      <td>NaN</td>\n",
       "      <td>Denmark</td>\n",
       "    </tr>\n",
       "  </tbody>\n",
       "</table>\n",
       "<p>64 rows × 8 columns</p>\n",
       "</div>"
      ],
      "text/plain": [
       "     Unnamed: 0                                               html  \\\n",
       "16           16  \\n  <div>\\n    <div class=\"\\n        jobs-deta...   \n",
       "19           19  \\n  <div>\\n    <div class=\"\\n        jobs-deta...   \n",
       "27           27  \\n  <div>\\n    <div class=\"\\n        jobs-deta...   \n",
       "53           53  \\n  <div>\\n    <div class=\"\\n        jobs-deta...   \n",
       "57           57  \\n  <div>\\n    <div class=\"\\n        jobs-deta...   \n",
       "..          ...                                                ...   \n",
       "710         710  \\n  <div>\\n    <div class=\"\\n        jobs-deta...   \n",
       "714         714  \\n  <div>\\n    <div class=\"\\n        jobs-deta...   \n",
       "715         715  \\n  <div>\\n    <div class=\"\\n        jobs-deta...   \n",
       "723         723  \\n  <div>\\n    <div class=\"\\n        jobs-deta...   \n",
       "770         770  \\n  <div>\\n    <div class=\"\\n        jobs-deta...   \n",
       "\n",
       "                                        title candidats  \\\n",
       "16                Data Scientist - Experience        40   \n",
       "19                     Data Analyst (Tableau)        30   \n",
       "27                               Data Analyst         9   \n",
       "53              Online Data Analyst - Belgium        11   \n",
       "57     Backend Engineer - Revenue Engineering        10   \n",
       "..                                        ...       ...   \n",
       "710        Part-time Project | French Speaker        21   \n",
       "714                 Machine Learning Engineer       NaN   \n",
       "715  Cryptography Specialist Engineer (Snaps)         6   \n",
       "723        Backend Engineer - Personalization         5   \n",
       "770        Backend Engineer - Personalization         3   \n",
       "\n",
       "                                                  link        geo city  \\\n",
       "16   https://linkedin.com/jobs/view/3254095477/?alt...    Denmark  NaN   \n",
       "19   https://linkedin.com/jobs/view/3248368719/?alt...  Gibraltar  NaN   \n",
       "27   https://linkedin.com/jobs/view/3257231590/?alt...     Poland  NaN   \n",
       "53   https://linkedin.com/jobs/view/3248871894/?alt...    Belgium  NaN   \n",
       "57   https://linkedin.com/jobs/view/3253483251/?alt...     France  NaN   \n",
       "..                                                 ...        ...  ...   \n",
       "710  https://linkedin.com/jobs/view/3249701530/?alt...     France  NaN   \n",
       "714  https://linkedin.com/jobs/view/3164447081/?alt...      Spain  NaN   \n",
       "715  https://linkedin.com/jobs/view/3224293781/?alt...      Spain  NaN   \n",
       "723  https://linkedin.com/jobs/view/3254094473/?alt...     Sweden  NaN   \n",
       "770  https://linkedin.com/jobs/view/3254092624/?alt...    Denmark  NaN   \n",
       "\n",
       "       country  \n",
       "16     Denmark  \n",
       "19   Gibraltar  \n",
       "27      Poland  \n",
       "53     Belgium  \n",
       "57      France  \n",
       "..         ...  \n",
       "710     France  \n",
       "714      Spain  \n",
       "715      Spain  \n",
       "723     Sweden  \n",
       "770    Denmark  \n",
       "\n",
       "[64 rows x 8 columns]"
      ]
     },
     "execution_count": 32,
     "metadata": {},
     "output_type": "execute_result"
    }
   ],
   "source": [
    "df.query('city.isna()')"
   ]
  },
  {
   "cell_type": "code",
   "execution_count": 33,
   "id": "5b9f0bca",
   "metadata": {},
   "outputs": [
    {
     "data": {
      "text/plain": [
       "array(['Limoges', 'Toulouse', 'Skara', 'West Flanders',\n",
       "       'Mecklenburg-West Pomerania', 'Hamburg', 'Rousset', 'Massy',\n",
       "       'Courbevoie', 'Wroclaw', 'Budapest', 'Przemyśl', 'Île-de-France',\n",
       "       'Rueil-Malmaison', 'Zaragoza', nan, 'Lille', 'Bad Wimpfen',\n",
       "       'Nanterre', 'Seville', 'Pascuales', \"Provence-Alpes-Côte d'Azur\",\n",
       "       'Nantes', 'Grudziadz', 'North Rhine-Westphalia', 'Berlin',\n",
       "       'Norrköping', 'Paris', 'Radom', 'Chełm', 'Piteå', 'Zamosc',\n",
       "       'Edinburgh', 'Härjedalen', 'Skellefteå', 'Salford', 'Lahti',\n",
       "       'Castres', 'Basel', 'Apeldoorn', 'Avrillé', 'Stuttgart', 'Bassens',\n",
       "       'Frankfurt', 'Jönköping', 'Turin', 'Munich', 'Cardiff', 'Ajaccio',\n",
       "       'Neuilly-sur-Seine', 'Rennes', 'London', 'Dresden', 'Lodz',\n",
       "       'Solothurn', 'Karlsruhe', 'Besançon', 'Trondheim', 'Laholm',\n",
       "       'Śląskie', 'Taffs Well', 'Lyon', 'Boulogne-Billancourt', 'Padua',\n",
       "       'Rome', 'Prague', 'Cologne Bonn Region', 'Milan', 'Luleå',\n",
       "       'Levallois-Perret', 'Amsterdam', 'Sofia', 'West Midlands',\n",
       "       'Corrèze', 'Kortrijk', 'Leeds', 'Fos-sur-Mer', 'Chalon-sur-Saône',\n",
       "       'Southwest Finland', 'Volyně', 'Varberg', 'Erding', 'Cáceres',\n",
       "       'Birmingham', 'Dos Hermanas', 'Gdynia', 'Biała Podlaska', 'Levoča',\n",
       "       'Vestland', 'Madrid', 'Albufeira', 'Brussels', 'Thame',\n",
       "       'Montpellier', 'Sundsvall', 'Malmö', 'Newcastle upon Tyne',\n",
       "       'Lisbon', 'Pamplona', 'Manchester', 'Banska Bystrica', 'Martigny',\n",
       "       'Södertälje', 'Dublin', 'Bordeaux', 'Brno', 'Tavira', 'Pessac',\n",
       "       'Halle', 'Offenbach', 'Issy-les-Moulineaux', 'Bonn', 'Bratislava',\n",
       "       'Mons', 'Zurich', 'Bucharest', 'Meudon', 'Strand', 'Gdańsk',\n",
       "       'Warsaw', 'Puteaux', 'Reading', 'Geneva', 'Springfield', 'Surrey',\n",
       "       'Manchester Airport', 'Sunderland', 'Zilina', 'Vänersborg',\n",
       "       'Laakdal', 'Bristol', 'Wrocław', 'Harderwijk', 'Bologna',\n",
       "       'Böblingen', 'Nottingham', 'Mugnano di Napoli', 'Haydock',\n",
       "       'Murcia', 'Luxembourg', 'Sophia Antipolis', 'Ghent', 'Drogheda',\n",
       "       'Kosice', 'Ängelholm', 'Glasgow', 'Mainz', 'Düsseldorf',\n",
       "       'Barcelona', 'Bruges', 'Latium', 'Preston', 'Trenčín',\n",
       "       'Barendrecht', 'Zadar', 'Chorley', 'Gijón', 'Essen',\n",
       "       'Charenton-le-Pont', 'Rickmansworth', 'Hérault', 'Le Mans',\n",
       "       'Eisenach', 'Alingsås', 'Palaiseau', 'West Sussex', 'La Défense',\n",
       "       'Alfdorf', 'Bury St. Edmunds', 'Ljubljana', 'Split', 'Hilversum',\n",
       "       'Viborg', 'Aalborg', 'Hove', 'Vefsn', 'Łódź', 'Gothenburg',\n",
       "       'Lombardy', 'Egersund', 'Espoo', 'Cadiz', 'Rotterdam',\n",
       "       'Sant Esteve Sesrovires', 'Rozzano', 'Naples',\n",
       "       'Vila-seca de Solcina', 'Northampton', 'Oslo', 'Gdansk',\n",
       "       'Satolas-et-Bonce', 'Ptuj', 'Mechelen', 'Namur', 'Koper', 'Poprad',\n",
       "       'Zwolle', 'Maranello', 'Marseille', 'Modena', 'Veldhoven',\n",
       "       'Göteborg', 'Virum', 'Wielsbeke', 'Athens', 'Fürth',\n",
       "       'Le Plessis-Robinson', 'Crouseilles', 'Aix-en-Provence', 'Colmar',\n",
       "       'Badajoz', 'Turku', 'Novi di Modena', 'Ennery', 'Nitra Region',\n",
       "       'Utrecht', 'Frankfurt am Main', 'Sant Cugat Sesgarrigues',\n",
       "       'Welwyn Garden City', 'Zug', 'Rieti', 'Cracow', 'Cassel', 'Assen',\n",
       "       'Albacete', 'Poznań', 'Évry', 'Baar', 'Limerick', 'Montreuil',\n",
       "       'Hackney', 'Le Vaudreuil', 'Antwerp', 'Hannover', 'Wolfsburg',\n",
       "       'Wicklow', 'North Brabant', 'Lisboa', 'Ratingen', 'Valladolid',\n",
       "       'Dunstable', 'Candiolo', 'Valencia', 'Fenchurch Street', 'Vienna',\n",
       "       'Strasbourg', 'Coventry', 'Stockholm', 'Metz', 'Vas', 'Beynost',\n",
       "       'Dinard', 'Stockport', 'Augsburg', 'Alicante', 'Pontypridd',\n",
       "       'Helsinki', 'Hesse', 'Stezzano', 'Stockholm City', 'Cork',\n",
       "       'Kleppestø', 'Mérignac', 'Loughborough', 'Valls', 'Lublin',\n",
       "       'Straume', 'Brno-Město', 'Cambridgeshire', 'Roskilde', 'Taranto',\n",
       "       'St-Étienne', 'Trieste', 'Hoogeveen', 'León', 'Genoa', 'Fareham',\n",
       "       'Stadtlohn', 'Liege', 'Poissy', 'Málaga', 'Tallinn', 'Enschede',\n",
       "       'Granada', 'Tuscany', 'St.-Cloud', 'Nice', 'Helsingborg',\n",
       "       'Niederhergheim', 'Flemish Brabant', 'Louvain', 'Worcester',\n",
       "       'Mantua', 'Palma', 'Leixlip', 'Cologne', 'Vilnius', 'Delft',\n",
       "       'Coblenz', 'Craiova', 'Bergen', 'Nijmegen', 'Baden-Württemberg',\n",
       "       'Helmond', 'Valence', 'Amersfoort', 'Saint-Julien-Mont-Denis',\n",
       "       'Kyiv', 'Gaimersheim', 'Florence', 'Dordrecht', 'Campania',\n",
       "       'Cantabria', 'Wetteren', 'Caen', 'Castile-La Mancha', 'Kamen',\n",
       "       'Ostrava', 'Maritime Alps', 'Bardejov', 'Kaiserslautern', 'Leiden',\n",
       "       'Extremadura', 'Faro', 'Timişoara', 'Colonnella', 'Freising',\n",
       "       'Bad Rodach', 'Wide Open', 'Constance', 'Hartlepool', 'Darlington',\n",
       "       'Baden-Baden', 'The Hague', 'Szombathely', 'Szeged', 'Solna',\n",
       "       'Debrecen', 'Campolongo Maggiore', 'Bydgoszcz', 'Halden', 'Niš',\n",
       "       'Odessa', 'Salamanca'], dtype=object)"
      ]
     },
     "execution_count": 33,
     "metadata": {},
     "output_type": "execute_result"
    }
   ],
   "source": [
    "df['city'].unique() # посмотрим на города"
   ]
  },
  {
   "cell_type": "markdown",
   "id": "737a75c2",
   "metadata": {},
   "source": [
    "### Тип занятости"
   ]
  },
  {
   "cell_type": "code",
   "execution_count": 34,
   "id": "0ca93380",
   "metadata": {},
   "outputs": [],
   "source": [
    "def get_workplaces(cell):  #тип занятости\n",
    "    try:\n",
    "        return BeautifulSoup(cell).find('span', class_ = 'jobs-unified-top-card__workplace-type').text.strip()\n",
    "    except:\n",
    "        return np.nan"
   ]
  },
  {
   "cell_type": "code",
   "execution_count": 35,
   "id": "0eeaa7b4",
   "metadata": {},
   "outputs": [
    {
     "data": {
      "text/html": [
       "<div>\n",
       "<style scoped>\n",
       "    .dataframe tbody tr th:only-of-type {\n",
       "        vertical-align: middle;\n",
       "    }\n",
       "\n",
       "    .dataframe tbody tr th {\n",
       "        vertical-align: top;\n",
       "    }\n",
       "\n",
       "    .dataframe thead th {\n",
       "        text-align: right;\n",
       "    }\n",
       "</style>\n",
       "<table border=\"1\" class=\"dataframe\">\n",
       "  <thead>\n",
       "    <tr style=\"text-align: right;\">\n",
       "      <th></th>\n",
       "      <th>Unnamed: 0</th>\n",
       "      <th>html</th>\n",
       "      <th>title</th>\n",
       "      <th>candidats</th>\n",
       "      <th>link</th>\n",
       "      <th>geo</th>\n",
       "      <th>city</th>\n",
       "      <th>country</th>\n",
       "      <th>workplaces</th>\n",
       "    </tr>\n",
       "  </thead>\n",
       "  <tbody>\n",
       "    <tr>\n",
       "      <th>0</th>\n",
       "      <td>0</td>\n",
       "      <td>\\n  &lt;div&gt;\\n    &lt;div class=\"\\n        jobs-deta...</td>\n",
       "      <td>Stage - Assistant Ingénieur Qualité - Beyrand ...</td>\n",
       "      <td>NaN</td>\n",
       "      <td>https://linkedin.com/jobs/view/3258155313/?alt...</td>\n",
       "      <td>Limoges, Nouvelle-Aquitaine, France</td>\n",
       "      <td>Limoges</td>\n",
       "      <td>France</td>\n",
       "      <td>On-site</td>\n",
       "    </tr>\n",
       "    <tr>\n",
       "      <th>1</th>\n",
       "      <td>1</td>\n",
       "      <td>\\n  &lt;div&gt;\\n    &lt;div class=\"\\n        jobs-deta...</td>\n",
       "      <td>développeur matlab/simulink, secteur automobil...</td>\n",
       "      <td>6</td>\n",
       "      <td>https://linkedin.com/jobs/view/3249651625/?alt...</td>\n",
       "      <td>Toulouse, Occitanie, France</td>\n",
       "      <td>Toulouse</td>\n",
       "      <td>France</td>\n",
       "      <td>On-site</td>\n",
       "    </tr>\n",
       "    <tr>\n",
       "      <th>2</th>\n",
       "      <td>2</td>\n",
       "      <td>\\n  &lt;div&gt;\\n    &lt;div class=\"\\n        jobs-deta...</td>\n",
       "      <td>Online Data Analyst</td>\n",
       "      <td>12</td>\n",
       "      <td>https://linkedin.com/jobs/view/3248499929/?alt...</td>\n",
       "      <td>Skara, Vastra Gotaland County, Sweden</td>\n",
       "      <td>Skara</td>\n",
       "      <td>Sweden</td>\n",
       "      <td>Remote</td>\n",
       "    </tr>\n",
       "  </tbody>\n",
       "</table>\n",
       "</div>"
      ],
      "text/plain": [
       "   Unnamed: 0                                               html  \\\n",
       "0           0  \\n  <div>\\n    <div class=\"\\n        jobs-deta...   \n",
       "1           1  \\n  <div>\\n    <div class=\"\\n        jobs-deta...   \n",
       "2           2  \\n  <div>\\n    <div class=\"\\n        jobs-deta...   \n",
       "\n",
       "                                               title candidats  \\\n",
       "0  Stage - Assistant Ingénieur Qualité - Beyrand ...       NaN   \n",
       "1  développeur matlab/simulink, secteur automobil...         6   \n",
       "2                                Online Data Analyst        12   \n",
       "\n",
       "                                                link  \\\n",
       "0  https://linkedin.com/jobs/view/3258155313/?alt...   \n",
       "1  https://linkedin.com/jobs/view/3249651625/?alt...   \n",
       "2  https://linkedin.com/jobs/view/3248499929/?alt...   \n",
       "\n",
       "                                     geo      city country workplaces  \n",
       "0    Limoges, Nouvelle-Aquitaine, France   Limoges  France    On-site  \n",
       "1            Toulouse, Occitanie, France  Toulouse  France    On-site  \n",
       "2  Skara, Vastra Gotaland County, Sweden     Skara  Sweden     Remote  "
      ]
     },
     "execution_count": 35,
     "metadata": {},
     "output_type": "execute_result"
    }
   ],
   "source": [
    "df['workplaces'] = df['html'].apply(get_workplaces)\n",
    "df.head(3)"
   ]
  },
  {
   "cell_type": "code",
   "execution_count": 36,
   "id": "168affc4",
   "metadata": {},
   "outputs": [
    {
     "data": {
      "text/plain": [
       "array(['On-site', 'Remote', 'Hybrid', nan], dtype=object)"
      ]
     },
     "execution_count": 36,
     "metadata": {},
     "output_type": "execute_result"
    }
   ],
   "source": [
    "df['workplaces'].unique()"
   ]
  },
  {
   "cell_type": "markdown",
   "id": "cd5b53de",
   "metadata": {},
   "source": [
    "### Название компании"
   ]
  },
  {
   "cell_type": "code",
   "execution_count": 37,
   "id": "3e8eb78f",
   "metadata": {},
   "outputs": [],
   "source": [
    "def get_company_name(cell):  #компания\n",
    "    try:\n",
    "        return BeautifulSoup(cell).find('span', class_ = 'jobs-unified-top-card__company-name').text.strip()\n",
    "    except:\n",
    "        return np.nan  "
   ]
  },
  {
   "cell_type": "code",
   "execution_count": 38,
   "id": "ef4cedbb",
   "metadata": {},
   "outputs": [
    {
     "data": {
      "text/plain": [
       "array(['Hermès', 'AUSY', 'TELUS International AI Data Solutions',\n",
       "       'TELUS International', 'STMicroelectronics', 'Carrefour',\n",
       "       'TotalEnergies', 'Capgemini', 'Jaguar Land Rover',\n",
       "       'GESER-BEST - FRANCE', 'Societe Generale',\n",
       "       'IFP Energies nouvelles',\n",
       "       'CTAG – Centro Tecnológico de Automoción de Galicia', 'Spotify',\n",
       "       'Liebherr Group', 'CELAD', 'Guardian Jobs', 'Lidl in Germany',\n",
       "       'Intrum', 'Groupama Assurances Mutuelles', 'Solera, Inc.',\n",
       "       'Grupo Modelo S.A. de C.V.', 'Genius Sports',\n",
       "       'Jobs via eFinancialCareers', 'Pierre Fabre Group',\n",
       "       'Randstad Switzerland', 'BNP Paribas', 'Meggitt', 'Laserhub GmbH',\n",
       "       'Positive Thinking Company', 'Ortec Group', 'Umanis', 'Parrot',\n",
       "       'KPMG Deutschland', 'Intesa Sanpaolo', 'BCG GAMMA', 'SECA SAS',\n",
       "       'PwC France', 'onepoint', 'BBC', 'EPAM Systems', 'Spectos GmbH',\n",
       "       'Computer Futures', 'Astek', 'Amey', 'Harnham', 'Boursorama',\n",
       "       'Accenture Italia', 'PwC Czech Republic', 'rheindata GmbH',\n",
       "       'Oliver James', 'Infineon Technologies',\n",
       "       \"Réseau de Transport d'Électricité\", 'Grafton Recruitment',\n",
       "       'Da Vinci', 'Fourth', 'Barco', 'Financial Conduct Authority',\n",
       "       'Air Liquide', 'Vertiv', 'Amadeus', 'Accenture España', 'Workpath',\n",
       "       'BearingPoint', 'PwC', 'Pareto',\n",
       "       'LSEG (London Stock Exchange Group)', 'Luxottica', 'Appen',\n",
       "       'Extia', 'BBC Studios', 'Page Personnel', 'ryd', 'Inato',\n",
       "       'Nigel Frank International', 'Free-Work.com', 'inriver',\n",
       "       'M Group Services', 'Morrison Data Services', 'Up agency',\n",
       "       'Tripadvisor', 'Knossos Consulting', 'Wechselpilot GmbH',\n",
       "       'Academic Work', 'Artsy', 'Groupe SII', 'Scania Group',\n",
       "       'FDM Group', 'Cdiscount',\n",
       "       'OfficeRnD | Flex & Hybrid Work Platform', 'CoolPeople', 'Moncler',\n",
       "       'MI-GSO | PCUBED', 'Hager Group', 'THE KADEWE GROUP', 'join.com',\n",
       "       'Colruyt Group', 'Everbridge', 'Holzprofi24', 'Niji',\n",
       "       'Randstad Deutschland', 'Modis', 'Bouygues Telecom',\n",
       "       'Soho House & Co', 'PwC Polska', 'SIX', 'Pardgroup', 'Bayer',\n",
       "       'Project People', 'Dataiku', 'Pictet Group', 'GK Recruitment Ltd',\n",
       "       'Surrey County Council', 'Manchester Airport', 'Change Grow Live',\n",
       "       'Nike', 'Amyx, Inc.', 'EY', 'Huxley', 'Lacoste', 'umlaut company',\n",
       "       'Metropolitan Thames Valley', 'GetPro', 'Sopra Steria',\n",
       "       'Prometeia', 'Shell', 'Speedy Services', 'IHS Markit',\n",
       "       'Indosuez Wealth Management', 'Balfour Beatty plc',\n",
       "       'Balfour Beatty VINCI', 'Datadog', 'The Coca-Cola Company',\n",
       "       'Lorien', 'Huntress', 'Moonkitten Textiles', 'Optiver', 'Luxoft',\n",
       "       'Deutsche Bahn', 'Inclusive Recruiting', 'Bengs', 'Greenly',\n",
       "       'Landeskriminalamt Nordrhein-Westfalen', 'Ridge and Partners LLP',\n",
       "       'Glovo', 'Strategic Management Partners', 'Chinese Rice Wine',\n",
       "       'Legal & General', 'Michael Page', 'Security Papers Limited',\n",
       "       'Amazon', 'RWE', 'Groupe BPCE', 'Inetum', 'Jefferson Wells UK',\n",
       "       \"EPSI - L'école d'ingénierie informatique\", 'Cesi',\n",
       "       'Vitesco Technologies', 'StepStone', 'Deloitte', 'Safran',\n",
       "       'EQUANS France', 'ACCA Careers', 'SCC France', 'ZF Group',\n",
       "       'Greene King', 'Sportradar', 'Media.Monks', 'Sky',\n",
       "       'M&L Aktiengesellschaft', 'Barry Callebaut Group', 'Wiley Edge',\n",
       "       'Planet', 'Artefact', 'BITEQ Denmark A/S', 'IKOS GROUP',\n",
       "       'AGS S.\\u200bp.\\u200bA.\\u200b', 'Fortum',\n",
       "       'NTT DATA Europe & Latam', 'Degusta Box', 'Lear Corporation',\n",
       "       'AREP', 'IPM Group', 'Leroy Merlin',\n",
       "       'Natixis Corporate & Investment Banking', 'Hays', 'Bit4id',\n",
       "       'Westinghouse Electric Company', 'CPM Italy', '', 'TUI',\n",
       "       'Independent Recruiters', 'CUPONING PULICIDAD S.L.',\n",
       "       'Intel Corporation', 'GWI', 'Afiniti', 'connect RH', 'Stayforlong',\n",
       "       'Expectoo Nigeria', 'CAPEOS CONSEILS', 'why worry GmbH',\n",
       "       'RMB Design Solutions', 'Telenet', 'GE Renewable Energy',\n",
       "       'Spindox', 'Kiwi.com', 'GROUPAMA GAN VIE', 'Bose Corporation',\n",
       "       'Assystem', 'Talan', 'Maserati', 'Software * IT', 'NNE',\n",
       "       'Rystad Energy', 'Unilin Group', 'NCR Corporation', 'KEEQuant',\n",
       "       'Scalian', 'CS GROUP', 'DIGITAL PARTNERS', 'Blockchain.com',\n",
       "       'ALTEN', 'SOFTWAY MEDICAL', 'Global Hires, LLC', 'ConsenSys',\n",
       "       'Sage', 'Itron, Inc.', 'NATEK',\n",
       "       'DGSE - Direction Générale de la Sécurité Extérieure',\n",
       "       'Experis Italia', 'BeTechnology Group', 'SUPPLAY', 'EDF',\n",
       "       'URBAN LINKER', 'de Volksbank', 'HR Proactivity', 'Reply',\n",
       "       'BNP Paribas CIB', 'GFT Group',\n",
       "       'J&J Marketing and Print Solutions', 'Randstad Tech Engineering',\n",
       "       'Tesco', 'Paddle', 'Mathrix Group', 'The Adecco Group',\n",
       "       'Web Leaders - Winning People', 'Volkswagen AG', 'Kantar', 'Yahoo',\n",
       "       'Quantum Advisory', 'TicketSwap', 'Cegid', 'EMISYS CONSEIL',\n",
       "       'Experis Switzerland', 'Glencore', 'KPMG Italy', 'Gi Group',\n",
       "       'Free2Learn', 'Schneider Electric', 'CIMPA PLM Services',\n",
       "       'Endeavor', 'CareerAddict', 'GfK', 'Getaround', 'ISO', 'CGI',\n",
       "       'OLX Group', 'Adtriba', 'HERE Technologies', 'Takeda', 'Infosys',\n",
       "       'Walters People', 'Sphere Digital Recruitment', 'permanent tsb',\n",
       "       'A.S. Watson Group', 'Mastercard', 'HN Services', 'Whitbread',\n",
       "       'Mec-Diesel S.p.A.', 'Nozomi Networks',\n",
       "       'TheFork, a TripAdvisor company', 'Accenture DACH', 'Orange',\n",
       "       'Viceversa', \"Halo Resourcing | MK's Local Recruitment Agency\",\n",
       "       'Kambi', 'Spillfree', 'UEM', 'Flex', 'Talent Link NV',\n",
       "       'GROUPE ISERBA', 'Gers Data', 'Groupe Roullier', 'Entelgy',\n",
       "       'Birnbach Communications', 'STRATO personal GmbH', 'ITT Inc.',\n",
       "       'FaulknerScott', 'Silicon Labs', 'Conduktor', 'www.TeamQuest.pl',\n",
       "       'Tele2', 'Health Service Executive',\n",
       "       'BNP Paribas Personal Finance', 'PRAXI', 'Tefors', 'Polestar',\n",
       "       'bunq', 'Siemens', 'Drug Development Solutions', 'FEELING SPORTS',\n",
       "       'Coopengo', 'Lyreco Group', 'ISA Digital Consulting', 'AXA',\n",
       "       'Groupe Casino', 'Reverse', 'GKN Aerospace', 'Real Staffing',\n",
       "       'Dstl', 'dns umbrella', 'John Deere', 'Stellantis', 'Fastweb',\n",
       "       'ASML', 'Ventum Consulting', 'Proekspert AS', 'JouwICTvacature.nl',\n",
       "       'Akronos Technologies', 'ELIS', 'Finastra',\n",
       "       'Capgemini Engineering', 'jungwild.io', 'Nextra Partners',\n",
       "       'Blankfactor', 'Ashley Kate HR &amp; Finance', 'TransPerfect',\n",
       "       'Opto Engineering', 'Adecco', 'Herzum', 'Sanitas', 'SThree',\n",
       "       'Unity', 'FRISS', 'Back Market', 'Technische Universiteit Delft',\n",
       "       'Inari', 'Endava', 'Royal HaskoningDHV', 'RINA', 'Plato Group',\n",
       "       'City of Amsterdam', 'Unilever', 'Flix',\n",
       "       'Dovestone Technology Solutions', 'Itinera', 'Sharpist', 'SQUAD',\n",
       "       'Cognizant Mobility', 'Lincoln France', 'Microsoft', 'B&S',\n",
       "       'Wayflyer', 'Employerland', '💻 LGA IT',\n",
       "       'Amazon Web Services (AWS)', 'Coca-Cola Europacific Partners',\n",
       "       'William Blair', 'DB Schenker', '3M', 'Stora Enso', 'Expleo Group',\n",
       "       'Northpool B.V.', 'VOX SOLUTIONS', 'Scandit', 'Rhenus Logistics',\n",
       "       'InSites Consulting', 'Wrike', \"Université Côte d'Azur\",\n",
       "       'Texas Instruments', 'Valeo', 'Sauce Labs',\n",
       "       'DEERFOOT I.T. RESOURCES LIMITED', 'Deed', 'RWS Group', 'KNIME',\n",
       "       'Crunch Analytics', 'Paul Gough Media LLC',\n",
       "       'Mondelēz International', 'Office for National Statistics',\n",
       "       'Arvato Financial Solutions', 'Preligens', 'ista', 'Eni', 'Eniro',\n",
       "       'Mishcon de Reya LLP', 'Nubank', 'M2 Financial Modeling Group',\n",
       "       'Flowserve Corporation', 'Pirelli', 'Ubiquiti Inc.', 'GROUPE SOS',\n",
       "       'Studio Cappello | Search Driven Digital Marketing Agency',\n",
       "       'RTB House', 'Avanade', 'Advisory Group TEST Human Resources',\n",
       "       'Nexans', 'MA (Montreal Associates)', 'Oriflame Cosmetics',\n",
       "       'Lumen Spei Digital', 'AUTODOC', 'NaraCamicie', 'Bitrise'],\n",
       "      dtype=object)"
      ]
     },
     "execution_count": 38,
     "metadata": {},
     "output_type": "execute_result"
    }
   ],
   "source": [
    "df['company_name'] = df['html'].apply(get_company_name)\n",
    "df['company_name'].unique()"
   ]
  },
  {
   "cell_type": "markdown",
   "id": "b8a520b5",
   "metadata": {},
   "source": [
    "### Количество работников в компании"
   ]
  },
  {
   "cell_type": "code",
   "execution_count": 39,
   "id": "1ca13800",
   "metadata": {},
   "outputs": [],
   "source": [
    "def get_staff_business(cell):  #количество сотрудников и сфера деятельности\n",
    "    try:\n",
    "        return BeautifulSoup(cell).find('div', class_ = 'mt5 mb2').find_all('li')[1].text.strip()\n",
    "    except:\n",
    "        return np.nan  "
   ]
  },
  {
   "cell_type": "code",
   "execution_count": 40,
   "id": "4ed1947f",
   "metadata": {},
   "outputs": [],
   "source": [
    "df['job_insight'] = df['html'].apply(get_staff_business)"
   ]
  },
  {
   "cell_type": "code",
   "execution_count": 41,
   "id": "0fd52fb5",
   "metadata": {},
   "outputs": [
    {
     "data": {
      "text/html": [
       "<div>\n",
       "<style scoped>\n",
       "    .dataframe tbody tr th:only-of-type {\n",
       "        vertical-align: middle;\n",
       "    }\n",
       "\n",
       "    .dataframe tbody tr th {\n",
       "        vertical-align: top;\n",
       "    }\n",
       "\n",
       "    .dataframe thead th {\n",
       "        text-align: right;\n",
       "    }\n",
       "</style>\n",
       "<table border=\"1\" class=\"dataframe\">\n",
       "  <thead>\n",
       "    <tr style=\"text-align: right;\">\n",
       "      <th></th>\n",
       "      <th>Unnamed: 0</th>\n",
       "      <th>html</th>\n",
       "      <th>title</th>\n",
       "      <th>candidats</th>\n",
       "      <th>link</th>\n",
       "      <th>geo</th>\n",
       "      <th>city</th>\n",
       "      <th>country</th>\n",
       "      <th>workplaces</th>\n",
       "      <th>company_name</th>\n",
       "      <th>job_insight</th>\n",
       "    </tr>\n",
       "  </thead>\n",
       "  <tbody>\n",
       "    <tr>\n",
       "      <th>0</th>\n",
       "      <td>0</td>\n",
       "      <td>\\n  &lt;div&gt;\\n    &lt;div class=\"\\n        jobs-deta...</td>\n",
       "      <td>Stage - Assistant Ingénieur Qualité - Beyrand ...</td>\n",
       "      <td>NaN</td>\n",
       "      <td>https://linkedin.com/jobs/view/3258155313/?alt...</td>\n",
       "      <td>Limoges, Nouvelle-Aquitaine, France</td>\n",
       "      <td>Limoges</td>\n",
       "      <td>France</td>\n",
       "      <td>On-site</td>\n",
       "      <td>Hermès</td>\n",
       "      <td>10,001+ employees · Retail Luxury Goods and Je...</td>\n",
       "    </tr>\n",
       "    <tr>\n",
       "      <th>1</th>\n",
       "      <td>1</td>\n",
       "      <td>\\n  &lt;div&gt;\\n    &lt;div class=\"\\n        jobs-deta...</td>\n",
       "      <td>développeur matlab/simulink, secteur automobil...</td>\n",
       "      <td>6</td>\n",
       "      <td>https://linkedin.com/jobs/view/3249651625/?alt...</td>\n",
       "      <td>Toulouse, Occitanie, France</td>\n",
       "      <td>Toulouse</td>\n",
       "      <td>France</td>\n",
       "      <td>On-site</td>\n",
       "      <td>AUSY</td>\n",
       "      <td>5,001-10,000 employees · IT Services and IT Co...</td>\n",
       "    </tr>\n",
       "    <tr>\n",
       "      <th>2</th>\n",
       "      <td>2</td>\n",
       "      <td>\\n  &lt;div&gt;\\n    &lt;div class=\"\\n        jobs-deta...</td>\n",
       "      <td>Online Data Analyst</td>\n",
       "      <td>12</td>\n",
       "      <td>https://linkedin.com/jobs/view/3248499929/?alt...</td>\n",
       "      <td>Skara, Vastra Gotaland County, Sweden</td>\n",
       "      <td>Skara</td>\n",
       "      <td>Sweden</td>\n",
       "      <td>Remote</td>\n",
       "      <td>TELUS International AI Data Solutions</td>\n",
       "      <td>10,001+ employees · IT Services and IT Consulting</td>\n",
       "    </tr>\n",
       "  </tbody>\n",
       "</table>\n",
       "</div>"
      ],
      "text/plain": [
       "   Unnamed: 0                                               html  \\\n",
       "0           0  \\n  <div>\\n    <div class=\"\\n        jobs-deta...   \n",
       "1           1  \\n  <div>\\n    <div class=\"\\n        jobs-deta...   \n",
       "2           2  \\n  <div>\\n    <div class=\"\\n        jobs-deta...   \n",
       "\n",
       "                                               title candidats  \\\n",
       "0  Stage - Assistant Ingénieur Qualité - Beyrand ...       NaN   \n",
       "1  développeur matlab/simulink, secteur automobil...         6   \n",
       "2                                Online Data Analyst        12   \n",
       "\n",
       "                                                link  \\\n",
       "0  https://linkedin.com/jobs/view/3258155313/?alt...   \n",
       "1  https://linkedin.com/jobs/view/3249651625/?alt...   \n",
       "2  https://linkedin.com/jobs/view/3248499929/?alt...   \n",
       "\n",
       "                                     geo      city country workplaces  \\\n",
       "0    Limoges, Nouvelle-Aquitaine, France   Limoges  France    On-site   \n",
       "1            Toulouse, Occitanie, France  Toulouse  France    On-site   \n",
       "2  Skara, Vastra Gotaland County, Sweden     Skara  Sweden     Remote   \n",
       "\n",
       "                            company_name  \\\n",
       "0                                 Hermès   \n",
       "1                                   AUSY   \n",
       "2  TELUS International AI Data Solutions   \n",
       "\n",
       "                                         job_insight  \n",
       "0  10,001+ employees · Retail Luxury Goods and Je...  \n",
       "1  5,001-10,000 employees · IT Services and IT Co...  \n",
       "2  10,001+ employees · IT Services and IT Consulting  "
      ]
     },
     "execution_count": 41,
     "metadata": {},
     "output_type": "execute_result"
    }
   ],
   "source": [
    "df.head(3)"
   ]
  },
  {
   "cell_type": "code",
   "execution_count": 42,
   "id": "674d6238",
   "metadata": {},
   "outputs": [
    {
     "data": {
      "text/html": [
       "<div>\n",
       "<style scoped>\n",
       "    .dataframe tbody tr th:only-of-type {\n",
       "        vertical-align: middle;\n",
       "    }\n",
       "\n",
       "    .dataframe tbody tr th {\n",
       "        vertical-align: top;\n",
       "    }\n",
       "\n",
       "    .dataframe thead th {\n",
       "        text-align: right;\n",
       "    }\n",
       "</style>\n",
       "<table border=\"1\" class=\"dataframe\">\n",
       "  <thead>\n",
       "    <tr style=\"text-align: right;\">\n",
       "      <th></th>\n",
       "      <th>Unnamed: 0</th>\n",
       "      <th>html</th>\n",
       "      <th>title</th>\n",
       "      <th>candidats</th>\n",
       "      <th>link</th>\n",
       "      <th>geo</th>\n",
       "      <th>city</th>\n",
       "      <th>country</th>\n",
       "      <th>workplaces</th>\n",
       "      <th>company_name</th>\n",
       "      <th>job_insight</th>\n",
       "      <th>number_staff</th>\n",
       "    </tr>\n",
       "  </thead>\n",
       "  <tbody>\n",
       "    <tr>\n",
       "      <th>0</th>\n",
       "      <td>0</td>\n",
       "      <td>\\n  &lt;div&gt;\\n    &lt;div class=\"\\n        jobs-deta...</td>\n",
       "      <td>Stage - Assistant Ingénieur Qualité - Beyrand ...</td>\n",
       "      <td>NaN</td>\n",
       "      <td>https://linkedin.com/jobs/view/3258155313/?alt...</td>\n",
       "      <td>Limoges, Nouvelle-Aquitaine, France</td>\n",
       "      <td>Limoges</td>\n",
       "      <td>France</td>\n",
       "      <td>On-site</td>\n",
       "      <td>Hermès</td>\n",
       "      <td>10,001+ employees · Retail Luxury Goods and Je...</td>\n",
       "      <td>10,001+</td>\n",
       "    </tr>\n",
       "    <tr>\n",
       "      <th>1</th>\n",
       "      <td>1</td>\n",
       "      <td>\\n  &lt;div&gt;\\n    &lt;div class=\"\\n        jobs-deta...</td>\n",
       "      <td>développeur matlab/simulink, secteur automobil...</td>\n",
       "      <td>6</td>\n",
       "      <td>https://linkedin.com/jobs/view/3249651625/?alt...</td>\n",
       "      <td>Toulouse, Occitanie, France</td>\n",
       "      <td>Toulouse</td>\n",
       "      <td>France</td>\n",
       "      <td>On-site</td>\n",
       "      <td>AUSY</td>\n",
       "      <td>5,001-10,000 employees · IT Services and IT Co...</td>\n",
       "      <td>5,001-10,000</td>\n",
       "    </tr>\n",
       "  </tbody>\n",
       "</table>\n",
       "</div>"
      ],
      "text/plain": [
       "   Unnamed: 0                                               html  \\\n",
       "0           0  \\n  <div>\\n    <div class=\"\\n        jobs-deta...   \n",
       "1           1  \\n  <div>\\n    <div class=\"\\n        jobs-deta...   \n",
       "\n",
       "                                               title candidats  \\\n",
       "0  Stage - Assistant Ingénieur Qualité - Beyrand ...       NaN   \n",
       "1  développeur matlab/simulink, secteur automobil...         6   \n",
       "\n",
       "                                                link  \\\n",
       "0  https://linkedin.com/jobs/view/3258155313/?alt...   \n",
       "1  https://linkedin.com/jobs/view/3249651625/?alt...   \n",
       "\n",
       "                                   geo      city country workplaces  \\\n",
       "0  Limoges, Nouvelle-Aquitaine, France   Limoges  France    On-site   \n",
       "1          Toulouse, Occitanie, France  Toulouse  France    On-site   \n",
       "\n",
       "  company_name                                        job_insight  \\\n",
       "0       Hermès  10,001+ employees · Retail Luxury Goods and Je...   \n",
       "1         AUSY  5,001-10,000 employees · IT Services and IT Co...   \n",
       "\n",
       "   number_staff  \n",
       "0       10,001+  \n",
       "1  5,001-10,000  "
      ]
     },
     "execution_count": 42,
     "metadata": {},
     "output_type": "execute_result"
    }
   ],
   "source": [
    "df['number_staff'] = df['job_insight'].str.split(\" employees\").str[0]  #оставим диапозон количества сотрудников в компании\n",
    "df.head(2)"
   ]
  },
  {
   "cell_type": "code",
   "execution_count": 43,
   "id": "c311222f",
   "metadata": {},
   "outputs": [],
   "source": [
    "df['number_staff'] = df['number_staff'].replace('^.*See.*$', np.nan, regex=True)\n",
    "df['number_staff'] = df['number_staff'].replace(['IT Services and IT Consulting', 'Government Administration', 'Software Development'], np.nan, regex=True)"
   ]
  },
  {
   "cell_type": "code",
   "execution_count": 44,
   "id": "08def9f4",
   "metadata": {},
   "outputs": [
    {
     "data": {
      "text/plain": [
       "10,001+         296\n",
       "1,001-5,000     133\n",
       "5,001-10,000     90\n",
       "201-500          69\n",
       "501-1,000        66\n",
       "51-200           46\n",
       "11-50            34\n",
       "1-10             22\n",
       "Name: number_staff, dtype: int64"
      ]
     },
     "execution_count": 44,
     "metadata": {},
     "output_type": "execute_result"
    }
   ],
   "source": [
    "df['number_staff'].value_counts()"
   ]
  },
  {
   "cell_type": "markdown",
   "id": "fa016dc5",
   "metadata": {},
   "source": [
    "### Сфера деятельности"
   ]
  },
  {
   "cell_type": "code",
   "execution_count": 45,
   "id": "fe967804",
   "metadata": {},
   "outputs": [],
   "source": [
    "df['field'] = df['job_insight'].str.split(\"· \").str[-1]  #вытащим сферу деятельности"
   ]
  },
  {
   "cell_type": "code",
   "execution_count": 46,
   "id": "e2ca7e1c",
   "metadata": {},
   "outputs": [
    {
     "data": {
      "text/plain": [
       "array(['Retail Luxury Goods and Jewelry', 'IT Services and IT Consulting',\n",
       "       'Semiconductor Manufacturing', 'Retail', 'Oil and Gas',\n",
       "       'Motor Vehicle Manufacturing', 'Human Resources Services',\n",
       "       'Banking', 'Think Tanks', 'Research Services', 'Musicians',\n",
       "       'Industrial Machinery Manufacturing', 'Staffing and Recruiting',\n",
       "       'Financial Services', 'Insurance', 'Food and Beverage Services',\n",
       "       'Technology, Information and Media',\n",
       "       'Pharmaceutical Manufacturing',\n",
       "       'Aviation and Aerospace Component Manufacturing',\n",
       "       'Automation Machinery Manufacturing',\n",
       "       'Computers and Electronics Manufacturing',\n",
       "       'Business Consulting and Services',\n",
       "       'See recent hiring trends for SECA SAS. Unlock more Premium insights for free',\n",
       "       'Broadcast Media Production and Distribution', 'Civil Engineering',\n",
       "       'Appliances, Electrical, and Electronics Manufacturing',\n",
       "       'Chemical Manufacturing', 'Software Development',\n",
       "       'Professional Services', 'Internet Marketplace Platforms',\n",
       "       'Utilities', 'Advertising Services',\n",
       "       'Technology, Information and Internet', 'Consumer Services',\n",
       "       'Artists and Writers', 'Telecommunications', 'Hospitality',\n",
       "       'Government Administration', 'Airlines and Aviation',\n",
       "       'Hospitals and Health Care', 'Accounting',\n",
       "       'Retail Apparel and Fashion', 'Non-profit Organizations',\n",
       "       'Retail Office Equipment', 'Information Services', 'Construction',\n",
       "       'Textile Manufacturing', 'Capital Markets', 'Truck Transportation',\n",
       "       '51-200 employees', 'Printing Services',\n",
       "       'Education Administration Programs', 'Higher Education',\n",
       "       'Environmental Services',\n",
       "       'See how you compare to 14 applicants. Unlock more Premium insights for free',\n",
       "       'Food and Beverage Manufacturing', 'Architecture and Planning',\n",
       "       '201-500 employees',\n",
       "       'Renewable Energy Semiconductor Manufacturing', 'Restaurants',\n",
       "       'Travel Arrangements', 'Market Research',\n",
       "       'Wind Electric Power Generation',\n",
       "       'See recent hiring trends for Software * IT. Unlock more Premium insights for free',\n",
       "       'Wholesale Building Materials', '11-50 employees',\n",
       "       'Defense and Space Manufacturing',\n",
       "       'See how you compare to 6 applicants. Unlock more Premium insights for free',\n",
       "       'Electric Power Generation', '1-10 employees',\n",
       "       'See how you compare to 3 applicants. Unlock more Premium insights for free',\n",
       "       'Events Services', 'Mining', 'Professional Training and Coaching',\n",
       "       'Entertainment Providers', 'Computer and Network Security',\n",
       "       'Data Infrastructure and Analytics', 'Farming', nan,\n",
       "       'See how you compare to 4 applicants. Unlock more Premium insights for free',\n",
       "       'See recent hiring trends for www.TeamQuest.pl. Unlock more Premium insights for free',\n",
       "       'Biotechnology Research', 'Retail Groceries',\n",
       "       'Machinery Manufacturing', 'Facilities Services',\n",
       "       'See recent hiring trends for Ashley Kate HR &amp; Finance. Unlock more Premium insights for free',\n",
       "       'Translation and Localization', 'Wellness and Fitness Services',\n",
       "       'Public Safety', 'Wholesale', 'Public Policy Offices',\n",
       "       'Manufacturing', 'International Trade and Development',\n",
       "       'Transportation, Logistics, Supply Chain and Storage',\n",
       "       'Paper and Forest Product Manufacturing',\n",
       "       'Motor Vehicle Parts Manufacturing', 'Law Practice', 'Real Estate',\n",
       "       'Computer Networking Products', '10,001+ employees',\n",
       "       'Electric Power Transmission, Control, and Distribution',\n",
       "       'Personal Care Product Manufacturing',\n",
       "       'See recent hiring trends for Lumen Spei Digital. Unlock more Premium insights for free'],\n",
       "      dtype=object)"
      ]
     },
     "execution_count": 46,
     "metadata": {},
     "output_type": "execute_result"
    }
   ],
   "source": [
    "df['field'].unique()"
   ]
  },
  {
   "cell_type": "code",
   "execution_count": 47,
   "id": "3e34a884",
   "metadata": {},
   "outputs": [],
   "source": [
    "df['field'] = df['field'].replace('^.*See.*$', np.nan, regex=True)\n",
    "df['field'] = df['field'].replace('^.*employee.*$', np.nan, regex=True)"
   ]
  },
  {
   "cell_type": "code",
   "execution_count": 48,
   "id": "6f509aa7",
   "metadata": {},
   "outputs": [
    {
     "data": {
      "text/plain": [
       "array(['Retail Luxury Goods and Jewelry', 'IT Services and IT Consulting',\n",
       "       'Semiconductor Manufacturing', 'Retail', 'Oil and Gas',\n",
       "       'Motor Vehicle Manufacturing', 'Human Resources Services',\n",
       "       'Banking', 'Think Tanks', 'Research Services', 'Musicians',\n",
       "       'Industrial Machinery Manufacturing', 'Staffing and Recruiting',\n",
       "       'Financial Services', 'Insurance', 'Food and Beverage Services',\n",
       "       'Technology, Information and Media',\n",
       "       'Pharmaceutical Manufacturing',\n",
       "       'Aviation and Aerospace Component Manufacturing',\n",
       "       'Automation Machinery Manufacturing',\n",
       "       'Computers and Electronics Manufacturing',\n",
       "       'Business Consulting and Services', nan,\n",
       "       'Broadcast Media Production and Distribution', 'Civil Engineering',\n",
       "       'Appliances, Electrical, and Electronics Manufacturing',\n",
       "       'Chemical Manufacturing', 'Software Development',\n",
       "       'Professional Services', 'Internet Marketplace Platforms',\n",
       "       'Utilities', 'Advertising Services',\n",
       "       'Technology, Information and Internet', 'Consumer Services',\n",
       "       'Artists and Writers', 'Telecommunications', 'Hospitality',\n",
       "       'Government Administration', 'Airlines and Aviation',\n",
       "       'Hospitals and Health Care', 'Accounting',\n",
       "       'Retail Apparel and Fashion', 'Non-profit Organizations',\n",
       "       'Retail Office Equipment', 'Information Services', 'Construction',\n",
       "       'Textile Manufacturing', 'Capital Markets', 'Truck Transportation',\n",
       "       'Printing Services', 'Education Administration Programs',\n",
       "       'Higher Education', 'Environmental Services',\n",
       "       'Food and Beverage Manufacturing', 'Architecture and Planning',\n",
       "       'Renewable Energy Semiconductor Manufacturing', 'Restaurants',\n",
       "       'Travel Arrangements', 'Market Research',\n",
       "       'Wind Electric Power Generation', 'Wholesale Building Materials',\n",
       "       'Defense and Space Manufacturing', 'Electric Power Generation',\n",
       "       'Events Services', 'Mining', 'Professional Training and Coaching',\n",
       "       'Entertainment Providers', 'Computer and Network Security',\n",
       "       'Data Infrastructure and Analytics', 'Farming',\n",
       "       'Biotechnology Research', 'Retail Groceries',\n",
       "       'Machinery Manufacturing', 'Facilities Services',\n",
       "       'Translation and Localization', 'Wellness and Fitness Services',\n",
       "       'Public Safety', 'Wholesale', 'Public Policy Offices',\n",
       "       'Manufacturing', 'International Trade and Development',\n",
       "       'Transportation, Logistics, Supply Chain and Storage',\n",
       "       'Paper and Forest Product Manufacturing',\n",
       "       'Motor Vehicle Parts Manufacturing', 'Law Practice', 'Real Estate',\n",
       "       'Computer Networking Products',\n",
       "       'Electric Power Transmission, Control, and Distribution',\n",
       "       'Personal Care Product Manufacturing'], dtype=object)"
      ]
     },
     "execution_count": 48,
     "metadata": {},
     "output_type": "execute_result"
    }
   ],
   "source": [
    "df['field'].unique()"
   ]
  },
  {
   "cell_type": "code",
   "execution_count": 49,
   "id": "f1801c5c",
   "metadata": {},
   "outputs": [
    {
     "data": {
      "text/plain": [
       "IT Services and IT Consulting                            228\n",
       "Staffing and Recruiting                                   78\n",
       "Software Development                                      47\n",
       "Business Consulting and Services                          44\n",
       "Financial Services                                        32\n",
       "Musicians                                                 25\n",
       "Banking                                                   19\n",
       "Motor Vehicle Manufacturing                               18\n",
       "Retail                                                    17\n",
       "Technology, Information and Internet                      16\n",
       "Human Resources Services                                  12\n",
       "Technology, Information and Media                         11\n",
       "Oil and Gas                                               11\n",
       "Semiconductor Manufacturing                                9\n",
       "Industrial Machinery Manufacturing                         9\n",
       "Advertising Services                                       9\n",
       "Appliances, Electrical, and Electronics Manufacturing      8\n",
       "Civil Engineering                                          7\n",
       "Travel Arrangements                                        7\n",
       "Utilities                                                  6\n",
       "Name: field, dtype: int64"
      ]
     },
     "execution_count": 49,
     "metadata": {},
     "output_type": "execute_result"
    }
   ],
   "source": [
    "df['field'].value_counts().head(20)"
   ]
  },
  {
   "cell_type": "markdown",
   "id": "709b9dd4",
   "metadata": {},
   "source": [
    "### Дата"
   ]
  },
  {
   "cell_type": "markdown",
   "id": "ddb4ba65",
   "metadata": {},
   "source": [
    "2022/09/07 17:00:00  - дата окончания парсинга"
   ]
  },
  {
   "cell_type": "markdown",
   "id": "d328f11b",
   "metadata": {},
   "source": [
    "<span class=\"jobs-unified-top-card__posted-date\n",
    "                  \">\n",
    "                1&nbsp;неделю назад\n",
    "              </span>"
   ]
  },
  {
   "cell_type": "code",
   "execution_count": 50,
   "id": "e9fce19d",
   "metadata": {},
   "outputs": [],
   "source": [
    "def get_data(cell):  #компания\n",
    "    try:\n",
    "        return BeautifulSoup(cell).find('span', class_ = 'jobs-unified-top-card__posted-date').text.strip()\n",
    "    except:\n",
    "        return np.nan  "
   ]
  },
  {
   "cell_type": "code",
   "execution_count": 51,
   "id": "6dfb0c02",
   "metadata": {},
   "outputs": [],
   "source": [
    "df['time'] = df['html'].apply(get_data)"
   ]
  },
  {
   "cell_type": "code",
   "execution_count": 52,
   "id": "bb88997a",
   "metadata": {},
   "outputs": [
    {
     "data": {
      "text/plain": [
       "array(['13 minutes ago', '4 days ago', '6 days ago', '8 hours ago',\n",
       "       '5 days ago', '2 days ago', '1 hour ago', '22 hours ago',\n",
       "       '1 day ago', '5 hours ago', '10 hours ago', '4 hours ago',\n",
       "       '37 minutes ago', '7 hours ago', '11 hours ago', '3 hours ago',\n",
       "       '16 hours ago', '23 hours ago', '6 hours ago', '2 hours ago',\n",
       "       '15 hours ago', '19 hours ago', '21 hours ago', '9 hours ago',\n",
       "       '14 hours ago', '3 days ago', '13 hours ago', '18 hours ago',\n",
       "       '10 minutes ago', '20 hours ago', '6 minutes ago', '4 minutes ago',\n",
       "       '1 week ago', '45 minutes ago', '24 minutes ago', '28 minutes ago'],\n",
       "      dtype=object)"
      ]
     },
     "execution_count": 52,
     "metadata": {},
     "output_type": "execute_result"
    }
   ],
   "source": [
    "df['time'].unique()"
   ]
  },
  {
   "cell_type": "code",
   "execution_count": 53,
   "id": "87cfab69",
   "metadata": {},
   "outputs": [],
   "source": [
    "def get_date(cell):\n",
    "    if 'minutes' in cell:\n",
    "        for i in cell.split():\n",
    "            if i.isdigit():\n",
    "                cell = datetime(2022, 9, 7, 17) - timedelta(minutes=int(i))\n",
    "                return cell\n",
    "    if 'hours' in cell:\n",
    "        for i in cell.split():\n",
    "            if i.isdigit():\n",
    "                cell = datetime(2022, 9, 7, 17) - timedelta(hours=int(i))\n",
    "                return cell\n",
    "    else:\n",
    "        for i in cell.split():\n",
    "            if i.isdigit():\n",
    "                cell = datetime(2022, 9, 7, 17) - timedelta(days=int(i))\n",
    "                return cell"
   ]
  },
  {
   "cell_type": "code",
   "execution_count": 54,
   "id": "f2a7efb9",
   "metadata": {},
   "outputs": [],
   "source": [
    "df['date'] = df['time'].apply(get_date)"
   ]
  },
  {
   "cell_type": "code",
   "execution_count": 55,
   "id": "5f765065",
   "metadata": {},
   "outputs": [
    {
     "data": {
      "text/html": [
       "<div>\n",
       "<style scoped>\n",
       "    .dataframe tbody tr th:only-of-type {\n",
       "        vertical-align: middle;\n",
       "    }\n",
       "\n",
       "    .dataframe tbody tr th {\n",
       "        vertical-align: top;\n",
       "    }\n",
       "\n",
       "    .dataframe thead th {\n",
       "        text-align: right;\n",
       "    }\n",
       "</style>\n",
       "<table border=\"1\" class=\"dataframe\">\n",
       "  <thead>\n",
       "    <tr style=\"text-align: right;\">\n",
       "      <th></th>\n",
       "      <th>Unnamed: 0</th>\n",
       "      <th>html</th>\n",
       "      <th>title</th>\n",
       "      <th>candidats</th>\n",
       "      <th>link</th>\n",
       "      <th>geo</th>\n",
       "      <th>city</th>\n",
       "      <th>country</th>\n",
       "      <th>workplaces</th>\n",
       "      <th>company_name</th>\n",
       "      <th>job_insight</th>\n",
       "      <th>number_staff</th>\n",
       "      <th>field</th>\n",
       "      <th>time</th>\n",
       "      <th>date</th>\n",
       "    </tr>\n",
       "  </thead>\n",
       "  <tbody>\n",
       "    <tr>\n",
       "      <th>0</th>\n",
       "      <td>0</td>\n",
       "      <td>\\n  &lt;div&gt;\\n    &lt;div class=\"\\n        jobs-deta...</td>\n",
       "      <td>Stage - Assistant Ingénieur Qualité - Beyrand ...</td>\n",
       "      <td>NaN</td>\n",
       "      <td>https://linkedin.com/jobs/view/3258155313/?alt...</td>\n",
       "      <td>Limoges, Nouvelle-Aquitaine, France</td>\n",
       "      <td>Limoges</td>\n",
       "      <td>France</td>\n",
       "      <td>On-site</td>\n",
       "      <td>Hermès</td>\n",
       "      <td>10,001+ employees · Retail Luxury Goods and Je...</td>\n",
       "      <td>10,001+</td>\n",
       "      <td>Retail Luxury Goods and Jewelry</td>\n",
       "      <td>13 minutes ago</td>\n",
       "      <td>2022-09-07 16:47:00</td>\n",
       "    </tr>\n",
       "    <tr>\n",
       "      <th>1</th>\n",
       "      <td>1</td>\n",
       "      <td>\\n  &lt;div&gt;\\n    &lt;div class=\"\\n        jobs-deta...</td>\n",
       "      <td>développeur matlab/simulink, secteur automobil...</td>\n",
       "      <td>6</td>\n",
       "      <td>https://linkedin.com/jobs/view/3249651625/?alt...</td>\n",
       "      <td>Toulouse, Occitanie, France</td>\n",
       "      <td>Toulouse</td>\n",
       "      <td>France</td>\n",
       "      <td>On-site</td>\n",
       "      <td>AUSY</td>\n",
       "      <td>5,001-10,000 employees · IT Services and IT Co...</td>\n",
       "      <td>5,001-10,000</td>\n",
       "      <td>IT Services and IT Consulting</td>\n",
       "      <td>4 days ago</td>\n",
       "      <td>2022-09-03 17:00:00</td>\n",
       "    </tr>\n",
       "    <tr>\n",
       "      <th>2</th>\n",
       "      <td>2</td>\n",
       "      <td>\\n  &lt;div&gt;\\n    &lt;div class=\"\\n        jobs-deta...</td>\n",
       "      <td>Online Data Analyst</td>\n",
       "      <td>12</td>\n",
       "      <td>https://linkedin.com/jobs/view/3248499929/?alt...</td>\n",
       "      <td>Skara, Vastra Gotaland County, Sweden</td>\n",
       "      <td>Skara</td>\n",
       "      <td>Sweden</td>\n",
       "      <td>Remote</td>\n",
       "      <td>TELUS International AI Data Solutions</td>\n",
       "      <td>10,001+ employees · IT Services and IT Consulting</td>\n",
       "      <td>10,001+</td>\n",
       "      <td>IT Services and IT Consulting</td>\n",
       "      <td>6 days ago</td>\n",
       "      <td>2022-09-01 17:00:00</td>\n",
       "    </tr>\n",
       "    <tr>\n",
       "      <th>3</th>\n",
       "      <td>3</td>\n",
       "      <td>\\n  &lt;div&gt;\\n    &lt;div class=\"\\n        jobs-deta...</td>\n",
       "      <td>Online Data Analyst - Belgium</td>\n",
       "      <td>11</td>\n",
       "      <td>https://linkedin.com/jobs/view/3248879065/?alt...</td>\n",
       "      <td>West Flanders, Flemish Region, Belgium</td>\n",
       "      <td>West Flanders</td>\n",
       "      <td>Belgium</td>\n",
       "      <td>Remote</td>\n",
       "      <td>TELUS International</td>\n",
       "      <td>10,001+ employees · IT Services and IT Consulting</td>\n",
       "      <td>10,001+</td>\n",
       "      <td>IT Services and IT Consulting</td>\n",
       "      <td>6 days ago</td>\n",
       "      <td>2022-09-01 17:00:00</td>\n",
       "    </tr>\n",
       "    <tr>\n",
       "      <th>4</th>\n",
       "      <td>4</td>\n",
       "      <td>\\n  &lt;div&gt;\\n    &lt;div class=\"\\n        jobs-deta...</td>\n",
       "      <td>Data Analyst</td>\n",
       "      <td>2</td>\n",
       "      <td>https://linkedin.com/jobs/view/3257222954/?alt...</td>\n",
       "      <td>Mecklenburg-West Pomerania, Germany</td>\n",
       "      <td>Mecklenburg-West Pomerania</td>\n",
       "      <td>Germany</td>\n",
       "      <td>Remote</td>\n",
       "      <td>TELUS International AI Data Solutions</td>\n",
       "      <td>10,001+ employees · IT Services and IT Consulting</td>\n",
       "      <td>10,001+</td>\n",
       "      <td>IT Services and IT Consulting</td>\n",
       "      <td>8 hours ago</td>\n",
       "      <td>2022-09-07 09:00:00</td>\n",
       "    </tr>\n",
       "  </tbody>\n",
       "</table>\n",
       "</div>"
      ],
      "text/plain": [
       "   Unnamed: 0                                               html  \\\n",
       "0           0  \\n  <div>\\n    <div class=\"\\n        jobs-deta...   \n",
       "1           1  \\n  <div>\\n    <div class=\"\\n        jobs-deta...   \n",
       "2           2  \\n  <div>\\n    <div class=\"\\n        jobs-deta...   \n",
       "3           3  \\n  <div>\\n    <div class=\"\\n        jobs-deta...   \n",
       "4           4  \\n  <div>\\n    <div class=\"\\n        jobs-deta...   \n",
       "\n",
       "                                               title candidats  \\\n",
       "0  Stage - Assistant Ingénieur Qualité - Beyrand ...       NaN   \n",
       "1  développeur matlab/simulink, secteur automobil...         6   \n",
       "2                                Online Data Analyst        12   \n",
       "3                      Online Data Analyst - Belgium        11   \n",
       "4                                       Data Analyst         2   \n",
       "\n",
       "                                                link  \\\n",
       "0  https://linkedin.com/jobs/view/3258155313/?alt...   \n",
       "1  https://linkedin.com/jobs/view/3249651625/?alt...   \n",
       "2  https://linkedin.com/jobs/view/3248499929/?alt...   \n",
       "3  https://linkedin.com/jobs/view/3248879065/?alt...   \n",
       "4  https://linkedin.com/jobs/view/3257222954/?alt...   \n",
       "\n",
       "                                      geo                        city  \\\n",
       "0     Limoges, Nouvelle-Aquitaine, France                     Limoges   \n",
       "1             Toulouse, Occitanie, France                    Toulouse   \n",
       "2   Skara, Vastra Gotaland County, Sweden                       Skara   \n",
       "3  West Flanders, Flemish Region, Belgium               West Flanders   \n",
       "4     Mecklenburg-West Pomerania, Germany  Mecklenburg-West Pomerania   \n",
       "\n",
       "   country workplaces                           company_name  \\\n",
       "0   France    On-site                                 Hermès   \n",
       "1   France    On-site                                   AUSY   \n",
       "2   Sweden     Remote  TELUS International AI Data Solutions   \n",
       "3  Belgium     Remote                    TELUS International   \n",
       "4  Germany     Remote  TELUS International AI Data Solutions   \n",
       "\n",
       "                                         job_insight  number_staff  \\\n",
       "0  10,001+ employees · Retail Luxury Goods and Je...       10,001+   \n",
       "1  5,001-10,000 employees · IT Services and IT Co...  5,001-10,000   \n",
       "2  10,001+ employees · IT Services and IT Consulting       10,001+   \n",
       "3  10,001+ employees · IT Services and IT Consulting       10,001+   \n",
       "4  10,001+ employees · IT Services and IT Consulting       10,001+   \n",
       "\n",
       "                             field            time                date  \n",
       "0  Retail Luxury Goods and Jewelry  13 minutes ago 2022-09-07 16:47:00  \n",
       "1    IT Services and IT Consulting      4 days ago 2022-09-03 17:00:00  \n",
       "2    IT Services and IT Consulting      6 days ago 2022-09-01 17:00:00  \n",
       "3    IT Services and IT Consulting      6 days ago 2022-09-01 17:00:00  \n",
       "4    IT Services and IT Consulting     8 hours ago 2022-09-07 09:00:00  "
      ]
     },
     "execution_count": 55,
     "metadata": {},
     "output_type": "execute_result"
    }
   ],
   "source": [
    "df.head()"
   ]
  },
  {
   "cell_type": "markdown",
   "id": "396629ad",
   "metadata": {},
   "source": [
    "### Хард-скиллы"
   ]
  },
  {
   "cell_type": "code",
   "execution_count": 56,
   "id": "330da8f2",
   "metadata": {},
   "outputs": [],
   "source": [
    "df['description'] = df['html'].apply(lambda x: BeautifulSoup(x).find('div', {'id':'job-details'}).text.strip())"
   ]
  },
  {
   "cell_type": "code",
   "execution_count": 57,
   "id": "d0a7dce7",
   "metadata": {},
   "outputs": [
    {
     "data": {
      "text/html": [
       "<div>\n",
       "<style scoped>\n",
       "    .dataframe tbody tr th:only-of-type {\n",
       "        vertical-align: middle;\n",
       "    }\n",
       "\n",
       "    .dataframe tbody tr th {\n",
       "        vertical-align: top;\n",
       "    }\n",
       "\n",
       "    .dataframe thead th {\n",
       "        text-align: right;\n",
       "    }\n",
       "</style>\n",
       "<table border=\"1\" class=\"dataframe\">\n",
       "  <thead>\n",
       "    <tr style=\"text-align: right;\">\n",
       "      <th></th>\n",
       "      <th>Unnamed: 0</th>\n",
       "      <th>html</th>\n",
       "      <th>title</th>\n",
       "      <th>candidats</th>\n",
       "      <th>link</th>\n",
       "      <th>geo</th>\n",
       "      <th>city</th>\n",
       "      <th>country</th>\n",
       "      <th>workplaces</th>\n",
       "      <th>company_name</th>\n",
       "      <th>job_insight</th>\n",
       "      <th>number_staff</th>\n",
       "      <th>field</th>\n",
       "      <th>time</th>\n",
       "      <th>date</th>\n",
       "      <th>description</th>\n",
       "    </tr>\n",
       "  </thead>\n",
       "  <tbody>\n",
       "    <tr>\n",
       "      <th>0</th>\n",
       "      <td>0</td>\n",
       "      <td>\\n  &lt;div&gt;\\n    &lt;div class=\"\\n        jobs-deta...</td>\n",
       "      <td>Stage - Assistant Ingénieur Qualité - Beyrand ...</td>\n",
       "      <td>NaN</td>\n",
       "      <td>https://linkedin.com/jobs/view/3258155313/?alt...</td>\n",
       "      <td>Limoges, Nouvelle-Aquitaine, France</td>\n",
       "      <td>Limoges</td>\n",
       "      <td>France</td>\n",
       "      <td>On-site</td>\n",
       "      <td>Hermès</td>\n",
       "      <td>10,001+ employees · Retail Luxury Goods and Je...</td>\n",
       "      <td>10,001+</td>\n",
       "      <td>Retail Luxury Goods and Jewelry</td>\n",
       "      <td>13 minutes ago</td>\n",
       "      <td>2022-09-07 16:47:00</td>\n",
       "      <td>LA SOCIETE : \\nCréée en 1926, la société Beyra...</td>\n",
       "    </tr>\n",
       "    <tr>\n",
       "      <th>1</th>\n",
       "      <td>1</td>\n",
       "      <td>\\n  &lt;div&gt;\\n    &lt;div class=\"\\n        jobs-deta...</td>\n",
       "      <td>développeur matlab/simulink, secteur automobil...</td>\n",
       "      <td>6</td>\n",
       "      <td>https://linkedin.com/jobs/view/3249651625/?alt...</td>\n",
       "      <td>Toulouse, Occitanie, France</td>\n",
       "      <td>Toulouse</td>\n",
       "      <td>France</td>\n",
       "      <td>On-site</td>\n",
       "      <td>AUSY</td>\n",
       "      <td>5,001-10,000 employees · IT Services and IT Co...</td>\n",
       "      <td>5,001-10,000</td>\n",
       "      <td>IT Services and IT Consulting</td>\n",
       "      <td>4 days ago</td>\n",
       "      <td>2022-09-03 17:00:00</td>\n",
       "      <td>Dans le cadre de la croissance de nos activité...</td>\n",
       "    </tr>\n",
       "    <tr>\n",
       "      <th>2</th>\n",
       "      <td>2</td>\n",
       "      <td>\\n  &lt;div&gt;\\n    &lt;div class=\"\\n        jobs-deta...</td>\n",
       "      <td>Online Data Analyst</td>\n",
       "      <td>12</td>\n",
       "      <td>https://linkedin.com/jobs/view/3248499929/?alt...</td>\n",
       "      <td>Skara, Vastra Gotaland County, Sweden</td>\n",
       "      <td>Skara</td>\n",
       "      <td>Sweden</td>\n",
       "      <td>Remote</td>\n",
       "      <td>TELUS International AI Data Solutions</td>\n",
       "      <td>10,001+ employees · IT Services and IT Consulting</td>\n",
       "      <td>10,001+</td>\n",
       "      <td>IT Services and IT Consulting</td>\n",
       "      <td>6 days ago</td>\n",
       "      <td>2022-09-01 17:00:00</td>\n",
       "      <td>TELUS International AI-Data Solutions partners...</td>\n",
       "    </tr>\n",
       "    <tr>\n",
       "      <th>3</th>\n",
       "      <td>3</td>\n",
       "      <td>\\n  &lt;div&gt;\\n    &lt;div class=\"\\n        jobs-deta...</td>\n",
       "      <td>Online Data Analyst - Belgium</td>\n",
       "      <td>11</td>\n",
       "      <td>https://linkedin.com/jobs/view/3248879065/?alt...</td>\n",
       "      <td>West Flanders, Flemish Region, Belgium</td>\n",
       "      <td>West Flanders</td>\n",
       "      <td>Belgium</td>\n",
       "      <td>Remote</td>\n",
       "      <td>TELUS International</td>\n",
       "      <td>10,001+ employees · IT Services and IT Consulting</td>\n",
       "      <td>10,001+</td>\n",
       "      <td>IT Services and IT Consulting</td>\n",
       "      <td>6 days ago</td>\n",
       "      <td>2022-09-01 17:00:00</td>\n",
       "      <td>TELUS International AI-Data Solutions partners...</td>\n",
       "    </tr>\n",
       "    <tr>\n",
       "      <th>4</th>\n",
       "      <td>4</td>\n",
       "      <td>\\n  &lt;div&gt;\\n    &lt;div class=\"\\n        jobs-deta...</td>\n",
       "      <td>Data Analyst</td>\n",
       "      <td>2</td>\n",
       "      <td>https://linkedin.com/jobs/view/3257222954/?alt...</td>\n",
       "      <td>Mecklenburg-West Pomerania, Germany</td>\n",
       "      <td>Mecklenburg-West Pomerania</td>\n",
       "      <td>Germany</td>\n",
       "      <td>Remote</td>\n",
       "      <td>TELUS International AI Data Solutions</td>\n",
       "      <td>10,001+ employees · IT Services and IT Consulting</td>\n",
       "      <td>10,001+</td>\n",
       "      <td>IT Services and IT Consulting</td>\n",
       "      <td>8 hours ago</td>\n",
       "      <td>2022-09-07 09:00:00</td>\n",
       "      <td>TELUS International AI-Data Solutions partners...</td>\n",
       "    </tr>\n",
       "  </tbody>\n",
       "</table>\n",
       "</div>"
      ],
      "text/plain": [
       "   Unnamed: 0                                               html  \\\n",
       "0           0  \\n  <div>\\n    <div class=\"\\n        jobs-deta...   \n",
       "1           1  \\n  <div>\\n    <div class=\"\\n        jobs-deta...   \n",
       "2           2  \\n  <div>\\n    <div class=\"\\n        jobs-deta...   \n",
       "3           3  \\n  <div>\\n    <div class=\"\\n        jobs-deta...   \n",
       "4           4  \\n  <div>\\n    <div class=\"\\n        jobs-deta...   \n",
       "\n",
       "                                               title candidats  \\\n",
       "0  Stage - Assistant Ingénieur Qualité - Beyrand ...       NaN   \n",
       "1  développeur matlab/simulink, secteur automobil...         6   \n",
       "2                                Online Data Analyst        12   \n",
       "3                      Online Data Analyst - Belgium        11   \n",
       "4                                       Data Analyst         2   \n",
       "\n",
       "                                                link  \\\n",
       "0  https://linkedin.com/jobs/view/3258155313/?alt...   \n",
       "1  https://linkedin.com/jobs/view/3249651625/?alt...   \n",
       "2  https://linkedin.com/jobs/view/3248499929/?alt...   \n",
       "3  https://linkedin.com/jobs/view/3248879065/?alt...   \n",
       "4  https://linkedin.com/jobs/view/3257222954/?alt...   \n",
       "\n",
       "                                      geo                        city  \\\n",
       "0     Limoges, Nouvelle-Aquitaine, France                     Limoges   \n",
       "1             Toulouse, Occitanie, France                    Toulouse   \n",
       "2   Skara, Vastra Gotaland County, Sweden                       Skara   \n",
       "3  West Flanders, Flemish Region, Belgium               West Flanders   \n",
       "4     Mecklenburg-West Pomerania, Germany  Mecklenburg-West Pomerania   \n",
       "\n",
       "   country workplaces                           company_name  \\\n",
       "0   France    On-site                                 Hermès   \n",
       "1   France    On-site                                   AUSY   \n",
       "2   Sweden     Remote  TELUS International AI Data Solutions   \n",
       "3  Belgium     Remote                    TELUS International   \n",
       "4  Germany     Remote  TELUS International AI Data Solutions   \n",
       "\n",
       "                                         job_insight  number_staff  \\\n",
       "0  10,001+ employees · Retail Luxury Goods and Je...       10,001+   \n",
       "1  5,001-10,000 employees · IT Services and IT Co...  5,001-10,000   \n",
       "2  10,001+ employees · IT Services and IT Consulting       10,001+   \n",
       "3  10,001+ employees · IT Services and IT Consulting       10,001+   \n",
       "4  10,001+ employees · IT Services and IT Consulting       10,001+   \n",
       "\n",
       "                             field            time                date  \\\n",
       "0  Retail Luxury Goods and Jewelry  13 minutes ago 2022-09-07 16:47:00   \n",
       "1    IT Services and IT Consulting      4 days ago 2022-09-03 17:00:00   \n",
       "2    IT Services and IT Consulting      6 days ago 2022-09-01 17:00:00   \n",
       "3    IT Services and IT Consulting      6 days ago 2022-09-01 17:00:00   \n",
       "4    IT Services and IT Consulting     8 hours ago 2022-09-07 09:00:00   \n",
       "\n",
       "                                         description  \n",
       "0  LA SOCIETE : \\nCréée en 1926, la société Beyra...  \n",
       "1  Dans le cadre de la croissance de nos activité...  \n",
       "2  TELUS International AI-Data Solutions partners...  \n",
       "3  TELUS International AI-Data Solutions partners...  \n",
       "4  TELUS International AI-Data Solutions partners...  "
      ]
     },
     "execution_count": 57,
     "metadata": {},
     "output_type": "execute_result"
    }
   ],
   "source": [
    "df.head()"
   ]
  },
  {
   "cell_type": "code",
   "execution_count": 58,
   "id": "d86dd4a4",
   "metadata": {},
   "outputs": [],
   "source": [
    "skills = (['datahub', 'api', 'github', 'google analytics', 'adobe analytics', 'ibm coremetrics', 'omniture'\n",
    "            'gitlab', 'erwin', 'hadoop', 'spark', 'hive'\n",
    "           'databricks', 'aws', 'gcp', 'azure','excel',\n",
    "            'redshift', 'bigquery', 'snowflake',  'hana'\n",
    "            'grafana', 'kantar', 'spss', \n",
    "           'asana', 'basecamp', 'jira', 'dbeaver','trello', 'miro', 'salesforce', \n",
    "           'rapidminer', 'thoughtspot',  'power point',  'docker', 'jenkins','integrate.io', 'talend', 'apache nifi','aws glue','pentaho','google data flow',\n",
    "             'azure data factory','xplenty','skyvia','iri voracity','xtract.io','dataddo', 'ssis',\n",
    "             'hevo data','informatica','oracle data integrator','k2view','cdata sync','querysurge', \n",
    "             'rivery', 'dbconvert', 'alooma', 'stitch', 'fivetran', 'matillion','streamsets','blendo',\n",
    "             'iri voracity','logstash', 'etleap', 'singer', 'apache camel','actian', 'airflow', 'luidgi', 'datastage',\n",
    "           'python', 'vba', 'scala', ' r ', 'java script', 'julia', 'sql', 'matlab', 'java', 'html', 'c++', 'sas',\n",
    "           'data studio', 'tableau', 'looker', 'powerbi', 'cognos', 'microstrategy', 'spotfire',\n",
    "             'sap business objects','microsoft sql server', 'oracle business intelligence', 'yellowfin',\n",
    "             'webfocus','sas visual analytics', 'targit', 'izenda',  'sisense', 'statsbot', 'panorama', 'inetsoft',\n",
    "             'birst', 'domo', 'metabase', 'redash', 'power bi', 'alteryx', 'dataiku', 'qlik sense', 'qlikview'\n",
    "          ]) "
   ]
  },
  {
   "cell_type": "code",
   "execution_count": 59,
   "id": "16f0ae99",
   "metadata": {},
   "outputs": [],
   "source": [
    "def get_skills(cell):\n",
    "    list_skills = []\n",
    "    for skill in skills:\n",
    "        if skill in cell.lower().replace('powerbi', 'power bi'):\n",
    "            list_skills.append(skill)\n",
    "    return list_skills"
   ]
  },
  {
   "cell_type": "code",
   "execution_count": 60,
   "id": "77597f27",
   "metadata": {},
   "outputs": [
    {
     "data": {
      "text/html": [
       "<div>\n",
       "<style scoped>\n",
       "    .dataframe tbody tr th:only-of-type {\n",
       "        vertical-align: middle;\n",
       "    }\n",
       "\n",
       "    .dataframe tbody tr th {\n",
       "        vertical-align: top;\n",
       "    }\n",
       "\n",
       "    .dataframe thead th {\n",
       "        text-align: right;\n",
       "    }\n",
       "</style>\n",
       "<table border=\"1\" class=\"dataframe\">\n",
       "  <thead>\n",
       "    <tr style=\"text-align: right;\">\n",
       "      <th></th>\n",
       "      <th>Unnamed: 0</th>\n",
       "      <th>html</th>\n",
       "      <th>title</th>\n",
       "      <th>candidats</th>\n",
       "      <th>link</th>\n",
       "      <th>geo</th>\n",
       "      <th>city</th>\n",
       "      <th>country</th>\n",
       "      <th>workplaces</th>\n",
       "      <th>company_name</th>\n",
       "      <th>job_insight</th>\n",
       "      <th>number_staff</th>\n",
       "      <th>field</th>\n",
       "      <th>time</th>\n",
       "      <th>date</th>\n",
       "      <th>description</th>\n",
       "      <th>skills</th>\n",
       "    </tr>\n",
       "  </thead>\n",
       "  <tbody>\n",
       "    <tr>\n",
       "      <th>0</th>\n",
       "      <td>0</td>\n",
       "      <td>\\n  &lt;div&gt;\\n    &lt;div class=\"\\n        jobs-deta...</td>\n",
       "      <td>Stage - Assistant Ingénieur Qualité - Beyrand ...</td>\n",
       "      <td>NaN</td>\n",
       "      <td>https://linkedin.com/jobs/view/3258155313/?alt...</td>\n",
       "      <td>Limoges, Nouvelle-Aquitaine, France</td>\n",
       "      <td>Limoges</td>\n",
       "      <td>France</td>\n",
       "      <td>On-site</td>\n",
       "      <td>Hermès</td>\n",
       "      <td>10,001+ employees · Retail Luxury Goods and Je...</td>\n",
       "      <td>10,001+</td>\n",
       "      <td>Retail Luxury Goods and Jewelry</td>\n",
       "      <td>13 minutes ago</td>\n",
       "      <td>2022-09-07 16:47:00</td>\n",
       "      <td>LA SOCIETE : \\nCréée en 1926, la société Beyra...</td>\n",
       "      <td>[api, excel]</td>\n",
       "    </tr>\n",
       "    <tr>\n",
       "      <th>1</th>\n",
       "      <td>1</td>\n",
       "      <td>\\n  &lt;div&gt;\\n    &lt;div class=\"\\n        jobs-deta...</td>\n",
       "      <td>développeur matlab/simulink, secteur automobil...</td>\n",
       "      <td>6</td>\n",
       "      <td>https://linkedin.com/jobs/view/3249651625/?alt...</td>\n",
       "      <td>Toulouse, Occitanie, France</td>\n",
       "      <td>Toulouse</td>\n",
       "      <td>France</td>\n",
       "      <td>On-site</td>\n",
       "      <td>AUSY</td>\n",
       "      <td>5,001-10,000 employees · IT Services and IT Co...</td>\n",
       "      <td>5,001-10,000</td>\n",
       "      <td>IT Services and IT Consulting</td>\n",
       "      <td>4 days ago</td>\n",
       "      <td>2022-09-03 17:00:00</td>\n",
       "      <td>Dans le cadre de la croissance de nos activité...</td>\n",
       "      <td>[matlab]</td>\n",
       "    </tr>\n",
       "    <tr>\n",
       "      <th>2</th>\n",
       "      <td>2</td>\n",
       "      <td>\\n  &lt;div&gt;\\n    &lt;div class=\"\\n        jobs-deta...</td>\n",
       "      <td>Online Data Analyst</td>\n",
       "      <td>12</td>\n",
       "      <td>https://linkedin.com/jobs/view/3248499929/?alt...</td>\n",
       "      <td>Skara, Vastra Gotaland County, Sweden</td>\n",
       "      <td>Skara</td>\n",
       "      <td>Sweden</td>\n",
       "      <td>Remote</td>\n",
       "      <td>TELUS International AI Data Solutions</td>\n",
       "      <td>10,001+ employees · IT Services and IT Consulting</td>\n",
       "      <td>10,001+</td>\n",
       "      <td>IT Services and IT Consulting</td>\n",
       "      <td>6 days ago</td>\n",
       "      <td>2022-09-01 17:00:00</td>\n",
       "      <td>TELUS International AI-Data Solutions partners...</td>\n",
       "      <td>[]</td>\n",
       "    </tr>\n",
       "    <tr>\n",
       "      <th>3</th>\n",
       "      <td>3</td>\n",
       "      <td>\\n  &lt;div&gt;\\n    &lt;div class=\"\\n        jobs-deta...</td>\n",
       "      <td>Online Data Analyst - Belgium</td>\n",
       "      <td>11</td>\n",
       "      <td>https://linkedin.com/jobs/view/3248879065/?alt...</td>\n",
       "      <td>West Flanders, Flemish Region, Belgium</td>\n",
       "      <td>West Flanders</td>\n",
       "      <td>Belgium</td>\n",
       "      <td>Remote</td>\n",
       "      <td>TELUS International</td>\n",
       "      <td>10,001+ employees · IT Services and IT Consulting</td>\n",
       "      <td>10,001+</td>\n",
       "      <td>IT Services and IT Consulting</td>\n",
       "      <td>6 days ago</td>\n",
       "      <td>2022-09-01 17:00:00</td>\n",
       "      <td>TELUS International AI-Data Solutions partners...</td>\n",
       "      <td>[]</td>\n",
       "    </tr>\n",
       "    <tr>\n",
       "      <th>4</th>\n",
       "      <td>4</td>\n",
       "      <td>\\n  &lt;div&gt;\\n    &lt;div class=\"\\n        jobs-deta...</td>\n",
       "      <td>Data Analyst</td>\n",
       "      <td>2</td>\n",
       "      <td>https://linkedin.com/jobs/view/3257222954/?alt...</td>\n",
       "      <td>Mecklenburg-West Pomerania, Germany</td>\n",
       "      <td>Mecklenburg-West Pomerania</td>\n",
       "      <td>Germany</td>\n",
       "      <td>Remote</td>\n",
       "      <td>TELUS International AI Data Solutions</td>\n",
       "      <td>10,001+ employees · IT Services and IT Consulting</td>\n",
       "      <td>10,001+</td>\n",
       "      <td>IT Services and IT Consulting</td>\n",
       "      <td>8 hours ago</td>\n",
       "      <td>2022-09-07 09:00:00</td>\n",
       "      <td>TELUS International AI-Data Solutions partners...</td>\n",
       "      <td>[]</td>\n",
       "    </tr>\n",
       "  </tbody>\n",
       "</table>\n",
       "</div>"
      ],
      "text/plain": [
       "   Unnamed: 0                                               html  \\\n",
       "0           0  \\n  <div>\\n    <div class=\"\\n        jobs-deta...   \n",
       "1           1  \\n  <div>\\n    <div class=\"\\n        jobs-deta...   \n",
       "2           2  \\n  <div>\\n    <div class=\"\\n        jobs-deta...   \n",
       "3           3  \\n  <div>\\n    <div class=\"\\n        jobs-deta...   \n",
       "4           4  \\n  <div>\\n    <div class=\"\\n        jobs-deta...   \n",
       "\n",
       "                                               title candidats  \\\n",
       "0  Stage - Assistant Ingénieur Qualité - Beyrand ...       NaN   \n",
       "1  développeur matlab/simulink, secteur automobil...         6   \n",
       "2                                Online Data Analyst        12   \n",
       "3                      Online Data Analyst - Belgium        11   \n",
       "4                                       Data Analyst         2   \n",
       "\n",
       "                                                link  \\\n",
       "0  https://linkedin.com/jobs/view/3258155313/?alt...   \n",
       "1  https://linkedin.com/jobs/view/3249651625/?alt...   \n",
       "2  https://linkedin.com/jobs/view/3248499929/?alt...   \n",
       "3  https://linkedin.com/jobs/view/3248879065/?alt...   \n",
       "4  https://linkedin.com/jobs/view/3257222954/?alt...   \n",
       "\n",
       "                                      geo                        city  \\\n",
       "0     Limoges, Nouvelle-Aquitaine, France                     Limoges   \n",
       "1             Toulouse, Occitanie, France                    Toulouse   \n",
       "2   Skara, Vastra Gotaland County, Sweden                       Skara   \n",
       "3  West Flanders, Flemish Region, Belgium               West Flanders   \n",
       "4     Mecklenburg-West Pomerania, Germany  Mecklenburg-West Pomerania   \n",
       "\n",
       "   country workplaces                           company_name  \\\n",
       "0   France    On-site                                 Hermès   \n",
       "1   France    On-site                                   AUSY   \n",
       "2   Sweden     Remote  TELUS International AI Data Solutions   \n",
       "3  Belgium     Remote                    TELUS International   \n",
       "4  Germany     Remote  TELUS International AI Data Solutions   \n",
       "\n",
       "                                         job_insight  number_staff  \\\n",
       "0  10,001+ employees · Retail Luxury Goods and Je...       10,001+   \n",
       "1  5,001-10,000 employees · IT Services and IT Co...  5,001-10,000   \n",
       "2  10,001+ employees · IT Services and IT Consulting       10,001+   \n",
       "3  10,001+ employees · IT Services and IT Consulting       10,001+   \n",
       "4  10,001+ employees · IT Services and IT Consulting       10,001+   \n",
       "\n",
       "                             field            time                date  \\\n",
       "0  Retail Luxury Goods and Jewelry  13 minutes ago 2022-09-07 16:47:00   \n",
       "1    IT Services and IT Consulting      4 days ago 2022-09-03 17:00:00   \n",
       "2    IT Services and IT Consulting      6 days ago 2022-09-01 17:00:00   \n",
       "3    IT Services and IT Consulting      6 days ago 2022-09-01 17:00:00   \n",
       "4    IT Services and IT Consulting     8 hours ago 2022-09-07 09:00:00   \n",
       "\n",
       "                                         description        skills  \n",
       "0  LA SOCIETE : \\nCréée en 1926, la société Beyra...  [api, excel]  \n",
       "1  Dans le cadre de la croissance de nos activité...      [matlab]  \n",
       "2  TELUS International AI-Data Solutions partners...            []  \n",
       "3  TELUS International AI-Data Solutions partners...            []  \n",
       "4  TELUS International AI-Data Solutions partners...            []  "
      ]
     },
     "execution_count": 60,
     "metadata": {},
     "output_type": "execute_result"
    }
   ],
   "source": [
    "df['skills'] = df.description.apply(get_skills)\n",
    "df.head()"
   ]
  },
  {
   "cell_type": "markdown",
   "id": "78bd4245",
   "metadata": {},
   "source": [
    "## Предобработка данных"
   ]
  },
  {
   "cell_type": "markdown",
   "id": "7e34bddd",
   "metadata": {},
   "source": [
    "### Релевантные вакансии"
   ]
  },
  {
   "cell_type": "code",
   "execution_count": 61,
   "id": "ad912199",
   "metadata": {},
   "outputs": [
    {
     "data": {
      "text/plain": [
       "Data Analyst                                            62\n",
       "Online Data Analyst                                     20\n",
       "Data Analyst H/F                                        10\n",
       "Data Internet Analyst                                    9\n",
       "Internet Analyst                                         9\n",
       "Python Developer                                         9\n",
       "Data Scientist                                           7\n",
       "BIG DATA - Talent Campus                                 7\n",
       "Junior Data Engineer                                     7\n",
       "Data Engineer                                            6\n",
       "Software Engineer                                        6\n",
       "Data Engineer - Platform Foundations                     6\n",
       "Football Statistician (Data Collection)                  5\n",
       "Technical Support Engineer - Azure Synapse Analytics     5\n",
       "Partner Engineer - Consumer Experience                   5\n",
       "Name: title, dtype: int64"
      ]
     },
     "execution_count": 61,
     "metadata": {},
     "output_type": "execute_result"
    }
   ],
   "source": [
    "df['title'].value_counts().head(15)"
   ]
  },
  {
   "cell_type": "code",
   "execution_count": 62,
   "id": "60ff1075",
   "metadata": {},
   "outputs": [
    {
     "data": {
      "text/plain": [
       "array(['Stage - Assistant Ingénieur Qualité - Beyrand (H/F)',\n",
       "       'développeur matlab/simulink, secteur automobile f/h',\n",
       "       'Online Data Analyst', 'Online Data Analyst - Belgium',\n",
       "       'Data Analyst', 'Alternant/ Alternante data analyst M/F',\n",
       "       'Alternant(e) Data Scientist (H/F)',\n",
       "       'ALTERNANCE- TOTALENERGIES RENEWABLES - Data Engineer (H/F)',\n",
       "       'Data Engineer (with Python)', 'Junior Test Analyst',\n",
       "       'Data Analyst H/F',\n",
       "       'Data Scientist e-Commerce & Acquisition Monétique',\n",
       "       'Ingénieur de recherche en traitement de données de mobilité H/F',\n",
       "       'INGENIERO/A PRODUCTO Y CALIDAD AUTOMOCIÓN',\n",
       "       'Data Scientist - Experience', 'Stage - Data Analyst (H/F)',\n",
       "       'Data Analyst (F/H)', 'Data Analyst (Tableau)',\n",
       "       '(Junior) Data Scientist (m/w/d)', 'Junior Data Scientist',\n",
       "       'Data Scientist en stage H/F',\n",
       "       'Software Development Engineer (Seville // Madrid) (Madrid or Seville)',\n",
       "       'DATA SCIENTIST', 'Online Data Analyst | French Speaker',\n",
       "       'Online Data Analyst | Flexible Work',\n",
       "       'Assistant(e) Chef(fe) de Projet Innovation - Stage',\n",
       "       'Football Statistician (Data Collection)',\n",
       "       'Online Data Analyst | REMOTE OPPORTUNITY',\n",
       "       'Football & Ice Hockey Statistician (Data Collection)',\n",
       "       'Data engineer Big Data (H/F) - ELC', 'Data analyst',\n",
       "       'Data Analyst (IT)', 'Data Analyst (m/f/d)',\n",
       "       'Data Analyst (M/W/D)', 'Ingénieur Exploitation Junior H/F',\n",
       "       'DATA SCIENTIST H/F TOULOUSE', 'Remote | Data Analyst',\n",
       "       'Ingénieur.e Etudes et Développement Python (H/F)',\n",
       "       'Backend Engineer - Revenue Engineering',\n",
       "       'Handball Statistician (Data Collection)',\n",
       "       '(Junior) Financial Data Scientist (w/m/d)',\n",
       "       'Software Engineer ambito Core Banking (Neolaureati)',\n",
       "       'Data Analyst SA1/SA2',\n",
       "       \"Data Scientist débutant - Digitalisation des outils d'intégrité Subsea / Digitalisation of Subsea Integrity tools (H/F)\",\n",
       "       'Data Scientist', 'Employé Administratif – Aide comptable',\n",
       "       'Data analyst | Deals (M&A) | CDI | H/F',\n",
       "       'Développeur Full Stack expérimenté H/F',\n",
       "       'Data Analyst - AdSales & StoryWorks', 'Data Analytics Engineer',\n",
       "       'Data Analyst with focus on solution design (m/f/d)',\n",
       "       'Remote| Data Analyst', 'Data Analyst - (m/f/d)',\n",
       "       'Développeur embarqué / python – Besançon, France (H/F)',\n",
       "       'Alternance - Data Analyst/Dataviz Specialist H/F',\n",
       "       'Partner Engineer - Consumer Experience', 'Junior Data Engineer',\n",
       "       'Data Analyst  - Boursorama',\n",
       "       'Technology Strategy & Advisory Junior Analyst',\n",
       "       'Data Analyst in Forensic Technology Services team',\n",
       "       'Data Analyst (m/w/d)', 'Junior Business Analyst',\n",
       "       'Engineer Standard Cells Generation and Automation (f/m/div)*',\n",
       "       'Analyste Exploitation Datacenter',\n",
       "       'Ice Hockey Statistician (Data Collection)',\n",
       "       'Digital Assets Weekend/Nights Trading Assistant',\n",
       "       'Data Analyst with Python', 'Online Data Analyst in the UK',\n",
       "       'Data Analyst Clickshare', 'Data Analyst - Associate',\n",
       "       'Ingénieur Analyste GC/GCMS H/F', 'Technik kvality (M/Ž)',\n",
       "       'Work From Home | Data Analyst', 'Internet Analyst',\n",
       "       'Graduate Cloud Engineering Program (m/f/d)',\n",
       "       'BIG DATA - Talent Campus', 'Data Analyst - Performance',\n",
       "       'Consultant Data junior H/F - Data & Analytics',\n",
       "       'Software Engineer Associate - Milano [DIG]',\n",
       "       'Graduate Developer (J12995)', 'Data Data Analyst with Spanish',\n",
       "       'Junior Functional Analyst ambito Canali',\n",
       "       'Data Analyst (Part-time)', 'Data Analyst Customer Excellence',\n",
       "       'Digital Assets Trader', 'Internet Analyst (Remote)',\n",
       "       'Développeur Python (H/F)', 'Data/Analyst Data Translator (H/F)',\n",
       "       'FULL STACK DEVELOPER', 'Graduate Developer (J12998)',\n",
       "       'Junior Business Analyst (m/f/d)', 'Product Data Analyst',\n",
       "       'Data Analyst - Oxfordshire', 'Développeur Siebel (H/F)',\n",
       "       'Data Engineer - Experience Mission', 'Graduate Data Analyst',\n",
       "       'Graduate Data Analyst 12 Month FTC', 'DATA ANALYST',\n",
       "       'Product/Data Analyst', 'Data Analyst - Werkstudent (m/w/d)',\n",
       "       'Data Engineer - Platform Foundations',\n",
       "       'Superbe opportunité de Data analyst - 100% à Martigny',\n",
       "       'Développeur python (H/F)', 'Optimization Data Scientist',\n",
       "       'Azure Data Engineer', 'Data Engineer',\n",
       "       'STAGE - DEVELOPPEUR FULLSTACK- Direction IT EXPERIENCE CLIENT (H/F)',\n",
       "       'Python Developer', 'Digital Analytics Specialist', 'PMO Junior',\n",
       "       'Développeur Back-End C# .NET Azure IoT H/F',\n",
       "       'Customer Data Analyst (m/w/d)',\n",
       "       'Data Analyst Düsseldorf/München gesucht at JSAN Consulting GmbH',\n",
       "       'Geo Data Scientist', 'Software Engineer I',\n",
       "       'Data Analyst E-Commerce (m/w/d)', 'CONSULTANT DATA ANALYST (F/H)',\n",
       "       'Remote | Internet Analyst', 'STAGE - DATA ANALYST MARKETING F/H',\n",
       "       'Data Internet Analyst', 'Data Analyst RH - F/H',\n",
       "       'Data Engineer for Business Intelligence/ Data Analytics team',\n",
       "       'Data Scientist - H/F', 'Data Development Analyst',\n",
       "       'Data Analyst in Technology Team, Financial Crime Unit',\n",
       "       'Application Engineer (Regulatory Data)', 'Junior Data Analyst',\n",
       "       'Software engineer', 'Data Scientist (mf/d)',\n",
       "       'Software Engineer Dataiku Online - Paris or Remote France',\n",
       "       'Data Analyst (CDM 8 mois)', 'Asset Data Analyst',\n",
       "       'DEVELOPPEUR PYTHON H/F NANTES', 'MACHINE LEARNING ENGINEER',\n",
       "       'Junior Software/Cloud Engineer - Harderwijk', 'Data Engineer F/H',\n",
       "       'Internet Analyst | Greater Bologna Metropolitan Area',\n",
       "       'Data Analyst (m/w/d) - Automotive', 'Machine Learning Engineer',\n",
       "       'Stage BI Business Intelligence', 'Junior Data Scientist-Stage',\n",
       "       'Data Scientist - Part of Shell Graduate Programme',\n",
       "       'Graduate Developer (J12996)', 'Product Data Analyst (V.I.E.) H/F',\n",
       "       'DATA ANALYST - F/H - IDF', 'Software Engineer - Performance',\n",
       "       'Engineer chemical supply CMP (w/m/div)*',\n",
       "       'Data Analyst with Spanish (shifts), Corporate Actions',\n",
       "       'Material Data Analyst', 'Junior Data & AI Engineer',\n",
       "       'Data Analyst (Hydro)', 'Graduate Data Scientist',\n",
       "       'Junior Python Developer',\n",
       "       'Transaction Monitoring Data Scientist in Technology Team, Financial Crime Unit',\n",
       "       'Data Scientist (w/m/d)', 'Data Analyst - Part time',\n",
       "       'CONSULTANT.E JUNIOR- DEVELOPPEMENT DE NOUVEAUX BUSINESS',\n",
       "       'Data Analyst (Product & Operations) - Sustainability',\n",
       "       'Data Analyst/Data-Analystin - IT Forensik (m/w/d)',\n",
       "       'Operations Data Analyst (They/She/He)', 'Analyst',\n",
       "       'Analytics API/BE Developer', 'Analyst Big Data',\n",
       "       '(Junior) H2 Modelling Analyst m/f/t', 'Data engineer - F/H',\n",
       "       'Back-End Developer M/F',\n",
       "       'Consultant Junior Digital Operations - Aéronautique/Spatial',\n",
       "       'Enseignant-chercheur spécialité électronique embar',\n",
       "       'Ingenieur Messtechnik (m/w/d)',\n",
       "       'Data Analyst (m/f/d) Brand Marketing',\n",
       "       'Internet Analyst - Remote',\n",
       "       'Business Analyst / Consultant IT Sourcing (m/w/d) in Düsseldorf',\n",
       "       'Ingénieur-e Optronique F/H', 'STAGE data analyst H/F',\n",
       "       'ALTERNANT PRODUCT OWNER H/F', 'Analyste Risque Retail-(H/F)',\n",
       "       'Simulation Ingenieur Insassenschutz (m/w/d)',\n",
       "       'Data Analyst - 9 Month Fixed Term Contract',\n",
       "       'Commercial Data Analyst', 'Junior Analyst (J12998)',\n",
       "       'Data Engineer for Business Intelligence/Data Analytics team',\n",
       "       'Consultant Junior | CIO Advisory | CDI | H/F',\n",
       "       'Incentives Analyst', 'Data Analytics Analyst',\n",
       "       'Data Analyst (f/m/d)',\n",
       "       'Remote Opportunity for Norwegian speakers | Media Search Analyst',\n",
       "       'Data Engineer / Analytics Product Owner',\n",
       "       'Graduate Python Developer',\n",
       "       'Business Intelligence & Market Insights Analyst',\n",
       "       'Junior Analytics Engineer (m/w/d)', 'Ingeniero/a RAM',\n",
       "       'Analista funzionale', 'Thesis Worker, Simulation',\n",
       "       'Python Developer - AWS / CI/CD - Swiss Insurance Company',\n",
       "       'Paid Social Specialist',\n",
       "       'Data, Reporting and Insights Specialist',\n",
       "       'Electrification engineer Martorell - Several Engineering positions (Power electronics)',\n",
       "       \"Chargé.e d'études Flux et Mobilités (CDI) - F/H\",\n",
       "       'PHP Full Stack Developer', 'Stage Digital Analytics - Marketing',\n",
       "       'Data Engineer Spark Scala Sensitivities (H/F) IT CIB',\n",
       "       'Financial Analyst', 'Engineer',\n",
       "       'Data Scientist - Field Marketing', 'Environmental Data Analyst',\n",
       "       'Data Analyst - Marketing', 'Data Analyst TUI.com (m/w/d)',\n",
       "       'Data Analyst (Tijdelijk - 3 Maanden)',\n",
       "       'Data Analyst & Coordinator',\n",
       "       \"Data Analyst & développement digital de l'Audit Compagnie F/H\",\n",
       "       'AI/ML Engineer', 'Data Analyst Télécom (IT)',\n",
       "       'Performance and Data Analyst', 'Data Scientist .',\n",
       "       'Stagiaire Développeur solution L4G',\n",
       "       'Software Engineer - Data Visualization',\n",
       "       'Solution Analyst area MES',\n",
       "       'Python Engineer for Booking Backend Tribe',\n",
       "       'Data Analyst - Analytics and Insights - Data Center of Excellence',\n",
       "       'Stage innovation – DATA SCIENTIST – IA H/F',\n",
       "       \"Jeune Docteur R&D - Data Science & IA dans la Finance d'Entreprise - H/F\",\n",
       "       'Junior Analyst (J12997)',\n",
       "       'Business Analytics & Service Enhancement Specialist (Maternity Cover)',\n",
       "       'Data Analyst (Spotfire and/or Mendix, SQL and Python), Veldhoven',\n",
       "       'CX Data Analyst', 'Skilled Data Scientist', 'Power BI Developer',\n",
       "       'Young Graduate Data Engineer', 'Customer Engineer',\n",
       "       'Softwareentwicklerin/Softwareentwickler',\n",
       "       'Développeuse/Développeur Odoo / Python',\n",
       "       'Développeur Python - F/H', 'Data analyst Datalake (F/H)',\n",
       "       'Back-End Engineer, DeFi',\n",
       "       'DATA SCIENTIST / DATA ENGINEER, Secteur aéronautique',\n",
       "       'Développeur BI junior F/H', 'Apprenti.e Data analyst (h/f)',\n",
       "       'Quality Engineer electronics',\n",
       "       'Data Analyst (Spotfire and/or Mendix, SQL and Python) - Veldhoven',\n",
       "       'Cryptography Specialist Engineer (Snaps)',\n",
       "       'Internet Analyst | Greater Turin Metropolitan Area',\n",
       "       'Software Engineer', 'Graduate Developer',\n",
       "       'Online Data Analyst - Sweden',\n",
       "       'Part-time Work Opportunity | Online Data Analyst',\n",
       "       'Developer Sophis Back-Office (H/F)',\n",
       "       'Ingénieur en développement Python sur les traitements de médias (H/F)',\n",
       "       'Ingénieur qualité images satellites - F/H',\n",
       "       'Software Engineer - Compute', 'C++ Developer',\n",
       "       'Internet Analyst (Part-time)',\n",
       "       'Ingénieur R&D Ruby / Python F/H H/F',\n",
       "       'Data Engineer junior | MedTech', 'Reporting & Data analyst',\n",
       "       'Junior Business Analyst (m/w/d)', 'Junior Analyst (J12995)',\n",
       "       'Consultant junior Transports H/F - Utilities, Postal & Transportation',\n",
       "       'Data Modelling Analyst',\n",
       "       'Data Analyst mit Fokus auf Up- und Crossselling (m/w/d)',\n",
       "       'Associate Data Analyst - Product Analytics',\n",
       "       'Data Analyst - Finance',\n",
       "       'analista di processi e tecnologie industriali di produzione.',\n",
       "       'Internet Analyst (Remote Set-up)',\n",
       "       'Speech Data Collection in Germany',\n",
       "       'Developer Manufacturing Processes PWR (f/m/d)',\n",
       "       'Search Engine Optimization Analyst', \"Chargé d'études Sport\",\n",
       "       'Yahoo Finance Backend Engineer',\n",
       "       'Pensions Administration Data Analyst',\n",
       "       'Data Analyst (Marketing Team)',\n",
       "       'Backend Engineer - Data Platform', 'Junior Analyst (J12996)',\n",
       "       'Business Analyst H/F', 'Data Entry Specialist',\n",
       "       'Ingénieur Pilote Non Conformités - H/F - PARIS',\n",
       "       'Data Analyst & BusinessObjects Developer', 'Software Developer',\n",
       "       'Data Scientist - Torino',\n",
       "       'NEOLAUREATO/A IN ECONOMIA per attività di CONSULENTE JUNIOR APPLICATIVO ERP/INGEGNERIA',\n",
       "       'Data analyste - H/F - Alternance', 'Data Analyst, Digital',\n",
       "       'Stage - Business Intelligence / Service Qualité - BAc +5 (dépt 27 - Le Vaudreuil)- F/H',\n",
       "       'Développeur Objet domaine défense H/F',\n",
       "       'Enterprise Architect Junior Analyst [Online / Phone Recruitment]',\n",
       "       'Consultant junior H/F - IT Strategy',\n",
       "       'Data Engineer - Data Science Engineering',\n",
       "       'Data Analyst-Tecan Evo Plus and Fluent Biosero GBG',\n",
       "       'Junior Market Data Analyst', 'SOFTWARE ENGINEER',\n",
       "       'Data Analyst - Demand', 'DEVELOPPEUR PYTHON (H/F) IDF',\n",
       "       'Développeur Python',\n",
       "       'Data Analyst (Insurance) - Multiple Positions',\n",
       "       'Data Analyst, Banking & Insurance',\n",
       "       'Remote | Software Engineer (Golang) Poland',\n",
       "       '(Senior) Fullstack Engineer (all genders) Remote',\n",
       "       'Studentische Mitarbeiterin / Studentischer Mitarbeiter (m/w/d) im Business Management der Volkswagen Consulting, Schwerpunkt Personalmarketing und Social Media',\n",
       "       'Software Engineer (m/f/x)- Remote/ Hybrid',\n",
       "       'Développeur Full-stack expérimenté(e) (H/F)',\n",
       "       'DATA ENGINEER SKYWISE [H/F/D]', 'Online Data Analyst - Slovenia',\n",
       "       'PT Compliance Hub - Data Analyst', 'DEVOPS ENGINEER',\n",
       "       'Traineeship Data Analist', 'Data Engineer - Metrics',\n",
       "       'Werkstudent Pricing (w/m/d) - Smart Starter Programm',\n",
       "       'Commercial Data Analyst - Online Travel - London - £40K',\n",
       "       'Online Data Analyst - Croatia', 'API Developer',\n",
       "       'Junior Product Owner',\n",
       "       'Software Engineer - Application Frameworks and Project Bootstrapping',\n",
       "       'Développeur full stack F/H', 'Location Strategy & Data Analyst',\n",
       "       'Software Backend Engineer (m/f/d)', 'Data Entry in Spain',\n",
       "       'Cybersecurity Data Analyst', 'Data Analyst Product, CRO expert',\n",
       "       'Web Analyst for Czech Speaker in Germany',\n",
       "       'Media Search Analyst - German (DE)',\n",
       "       'Data Engineering & Data Warehouse Analyst (all genders)',\n",
       "       'Chef de projet data F/H', 'GIS Asset Data Analyst',\n",
       "       'Data Engineer (Analytics)',\n",
       "       'Data Scientist / Machine Learning Engineer',\n",
       "       'Ingénieur prévisions des énergies', 'Homologation Engineer',\n",
       "       'Data Specialist (Steward / Analyst)', 'Analyste Data H/F',\n",
       "       'Data Scientist-Analyst GERS (H/F) - Boulogne-Billancourt (France)',\n",
       "       'Analytics Engineer - Internal Analytics',\n",
       "       'Stagiaire Ingénieur Data (F/H)', 'Test Engineer DevOps',\n",
       "       'Customer Ledger Data Analyst',\n",
       "       'Data Analyst (m/f/d) Workload Planning (Business Administrator (Fachschule) - Information Processing)',\n",
       "       'Data Analytics Developer', 'People Systems and Data Analyst',\n",
       "       'Développeur C++ - QT - H/F - Paris', 'Kubernetes Developer',\n",
       "       'Software Engineer - Resilience',\n",
       "       'Product Data Analyst / Analytics Engineer — London',\n",
       "       'Promoter Engineer', 'ML Ops Engineer',\n",
       "       'Online Data Analyst - Slovakia',\n",
       "       'SSWHG35824 - Data Analyst, CHAIR Programme, Section Officer, Grade VI',\n",
       "       'Social Media Analyst',\n",
       "       'JUNIOR CONSULTANT - SETTORE INNOVAZIONE TECNOLOGICA\\xa0- SP10868',\n",
       "       'OutSystems Developer', 'Insight Analyst',\n",
       "       'Data Analyst | E-commerce & Crowdfunding',\n",
       "       'Quality Engineer - Product Analyst', 'DevOps Engineer',\n",
       "       '(Junior) Consultant Digitales & Strategisches Prozessmanagement (m/w/d) in Stuttgart',\n",
       "       \"Stagiaire Développeur d'outils pédagogiques de formation (H/F)\",\n",
       "       'SW Developer in Test (C++) – Brno',\n",
       "       'Data Analyst for Portuguese Speakers',\n",
       "       'Sample Management Data Analyst',\n",
       "       'Stage - Développeur FullStack (H/F)', 'Data engineer H/F',\n",
       "       \"Analyste risques suivi d'activité de marché-(H/F)\",\n",
       "       'Développeur Python Back-end',\n",
       "       'Application Data Analyst Hybrid working',\n",
       "       'Inventory data analyst til Europas største kontorartikelleverandør',\n",
       "       'Junior Consultant - Taranto', 'Data Analyst Pricing – F/H',\n",
       "       'SVILUPPATORE C++/PYTHON', 'Data Analyst - Regulatory Affairs',\n",
       "       'Language Data Analyst - Hebrew', 'Acoustic Data Analyst',\n",
       "       'Systems Data Analyst', 'Ingenieur für die Produktion (m/w/d)',\n",
       "       'Ingénieur en télédétection et physique atmosphérique - F/H',\n",
       "       'BI Engineer, Business Intelligence #SWX H/F',\n",
       "       'Software function developer for electric powertrain control',\n",
       "       'Junior Network Quality Engineer',\n",
       "       'Junior Data Governance Specialist',\n",
       "       'Junior Technical Analyst (all genders)',\n",
       "       'Business Intelligence Consultant',\n",
       "       'Risk Analytics & AI Professionals',\n",
       "       'Cloud Engineer bij InnoValor', 'Functional Analyst',\n",
       "       'Master Data (bilingue anglais) H/F', 'SW integrator engineer',\n",
       "       '(JUNIOR) CONSULTANT (M/W/D) TRANSFORMATION & DATA, bis 70k',\n",
       "       'Data Steward', 'Consultant (m/w/d) AI & Data Science in Hamburg',\n",
       "       'Apprenti Ingénieur Business Intelligence (H/F) - NIEDERHERGHEIM',\n",
       "       'HR Group Reward & HR Data Analyst',\n",
       "       'Media Search Analyst | French Speaker', 'Data Associate',\n",
       "       'Data Engineer - Internal Analytics', 'Interim HR Data Analyst',\n",
       "       'Language Researcher / Data Analyst - French',\n",
       "       'Online Data Analyst - Hungary', 'P2P Operations Credit Analyst',\n",
       "       'Ing. Elettronico/Data Analyst',\n",
       "       'Customer Data Platform (CDP) Specialist / Customer Data Consultant / MarTech Expert / Data Analyst (H/F)',\n",
       "       'Module Data Science Engineer',\n",
       "       'Advance Analytics and AI practitioner',\n",
       "       'Data Analyst / Consultant Qlikview/Qliksense (m/w/d)',\n",
       "       'Quality Assurance Analyst', 'Python Software Engineer',\n",
       "       'Développeur C# H/F', 'Fullstack Python Developer - Data Lake',\n",
       "       'Junior Entwickler (m/w/d) – Data Science Automotive',\n",
       "       'Analytics Engineer (open to full remote in Germany)',\n",
       "       'Scientific programmer and data analyst',\n",
       "       'Software Engineer - Site Reliability',\n",
       "       'Software Engineer (m/w/d)', 'Ingénieur-e écoconception F/H',\n",
       "       'Genomics Data Analyst',\n",
       "       'Analytics Engineer (open to full remote in Spain)',\n",
       "       'Junior Engineer for Dynamic Mooring Analyses',\n",
       "       'Data Research Analyst', 'Junior Developer - Low-Code (m/w/d)',\n",
       "       'Junior Business Intelligence Analyst',\n",
       "       'Praktikant / Werkstudent Data Analyst (m/w/d) Financial Services Industry',\n",
       "       'Junior data scientist/onderzoeker',\n",
       "       'Praktikum Trade Marketing – Dove, Axe, Duschdas (m/w/d)',\n",
       "       'Data Engineer (m/f/d) - Pricing Intelligence',\n",
       "       'Data Administrator',\n",
       "       'Ingénieur IVVQ-Spatiale – Valence, France (H/F)',\n",
       "       'Ingénieur Qualité Projet Développement',\n",
       "       'Quality Engineer Junior', 'BI Data Analyst Intern (f/m/x)',\n",
       "       'Support Engineer',\n",
       "       'Python Entwickler (gn) für AUTOSAR-XML: Ingolstadt & remote',\n",
       "       'Practice Data Engineer F/H', 'Senior Analytics Consultant',\n",
       "       'Internet Analyst | Florence, Italy Metropolitan Area',\n",
       "       'Technical Support Engineer - Azure Synapse Analytics',\n",
       "       'Analytics Engineer (open to full remote in France)',\n",
       "       'Junior Consultant', 'Data Engineer – E-Commerce',\n",
       "       'Data Architect/ Engineer Graduate',\n",
       "       'Graduate Marketing Technology Analyst',\n",
       "       'Desarrollador/a Mercado Canal Nocturno, Barcelona',\n",
       "       'ESG Data Specialist',\n",
       "       'Duales Masterstudium Applied Data Science (m/w/d)',\n",
       "       'Développeur Python H/F',\n",
       "       '(Junior) Consultant Digitales & Strategisches Prozessmanagement (m/w/d) in Berlin',\n",
       "       'Ingénieur logiciel – Caen, France (H/F)',\n",
       "       'Ocean Freight Operator',\n",
       "       'Qualitätsingenieur (*) für Medizinprodukte', 'Developer, C#',\n",
       "       'Ingénieur Opérations Sol H/F', 'Consulente junior',\n",
       "       'SAS Engineer/Consultant',\n",
       "       'Data Expert (m/w/d) für das Rail-Segment',\n",
       "       '(Junior) Software Developer - Python', 'Junior Energy Analyst',\n",
       "       'Language Data Analyst', 'Data Scientist - Data Science',\n",
       "       'Data Junior Analyst [Online / Phone Recruitment]',\n",
       "       'Traffic Analyst', 'Junior Developer (J12998)',\n",
       "       'Assistenz (w/m/d) des CEO West - Schwerpunkt Data Analyst / Controlling',\n",
       "       'Project Services Assistant', 'CONSULENTE APPLICATIVO ERP JUNIOR',\n",
       "       'Graduate (m/f/d) Rotation Program for Business, Operations and Finance 2023',\n",
       "       'VIE Acousitcs / NVH engineer', 'Software Engineer (Go/Python)',\n",
       "       'SAS Engineer / Consultant', 'Senior Software Engineer, Data',\n",
       "       'Part-time Project | French Speaker',\n",
       "       'Operation Support - Categorie Protette',\n",
       "       'Purchasing Analyst (m/w/d) 100%',\n",
       "       'Cork, Ireland | Customer Service and Business Data Technician - Turkish or Italian language',\n",
       "       'Early Career Developer (J12996)', 'HSES Administrator',\n",
       "       'Team Assistant (Konstanz)', 'Position Vacant for Czech speaker',\n",
       "       'CATEGORIE PROTETTE - Operation Support',\n",
       "       'Backend Engineer - Personalization', 'Data Scientist - Napoli',\n",
       "       'Evaluation Lead', 'Pressure Analyst',\n",
       "       'Sachbearbeiter (m/w/d) Collection',\n",
       "       'Junior Airport Security Consultant',\n",
       "       'Corporate Business Intelligence Engineer',\n",
       "       'Specialist Data Science (*)', 'Freelance (HUNGARIAN)',\n",
       "       'Position Vacant for Hungarian speaker',\n",
       "       'JUNIOR ANALISTA ORGANIZZAZIONE', 'Business analyst',\n",
       "       'Cork, Ireland | Customer Service and Business Data Technician -  Japanese language',\n",
       "       'People Assistant (Payroll & Benefits)',\n",
       "       'Product Manager, Technical - Data Infrastructure and Streaming',\n",
       "       'Early Career Professional (m/f/d) in the field of Sales Operations',\n",
       "       'Supplier Master Data Staff', 'Internal Audit Specialist',\n",
       "       'DevOps / Python Developer', 'Value Engineer New Mobility (w/m/d)',\n",
       "       'INGENIEUR EXPLOITATION SI H/F  — Contrat à Durée Indéterminée (CDI)',\n",
       "       'Consultant Data Analytics - Consulting (Financial Services) (w/m/d)',\n",
       "       'Digital Advertising Senior Specialist',\n",
       "       'Technical Product Manager',\n",
       "       'Développeur Agile Java fullstack-(H/F)',\n",
       "       'Business Analyst H/F - Bordeaux',\n",
       "       'Data Scientist – Consultant – Financial Services (H/F)',\n",
       "       'Junior SAP Analyst', 'Recruitment and HR Development Specialist',\n",
       "       'Product Designer - Sustainability squad', 'Engineer - R&D',\n",
       "       'Data Scientist-RAL Up to 50K', 'Data Scientist Business',\n",
       "       'Full-stack Engineer', 'PHP Developer',\n",
       "       'Middle Front - End Engineer', 'Sviluppatore php',\n",
       "       'Junior Developer (J12996)',\n",
       "       'Principal Product Designer (Design System + DesignOps)',\n",
       "       'Stage - Consultant(e) Data Engineer - Big Data Developer'],\n",
       "      dtype=object)"
      ]
     },
     "execution_count": 62,
     "metadata": {},
     "output_type": "execute_result"
    }
   ],
   "source": [
    "df['title'].unique()"
   ]
  },
  {
   "cell_type": "code",
   "execution_count": 63,
   "id": "d4f0c702",
   "metadata": {},
   "outputs": [],
   "source": [
    "relevant_title = (['Data Analyst', 'Data Research Analyst', 'Alternant/ Alternante data analyst M/F',\n",
    "                   'Junior SAP Analyst', 'JUNIOR ANALISTA', 'Data Junior Analyst', 'Junior Energy Analyst', \n",
    "                   'Data Internet Analyst', 'Analyst Big Data', 'Analyste Data H/F', 'Online Data Analyst', \n",
    "                   'Incentives Analyst', 'Media Search Analyst', 'Financial Analyst', 'Solution Analyst area MES',\n",
    "                  'Search Engine Optimization Analyst', 'Social Media Analyst', 'Insight Analyst',\n",
    "                   'Analyste risques suivi d`activité de marché-(H/F)', 'Technical Analyst', 'Functional Analyst',\n",
    "                   'HR Group Reward & HR Data Analyst', 'Interim HR Data Analyst', 'P2P Operations Credit Analyst',\n",
    "                   'Quality Assurance Analyst', 'Graduate Marketing Technology Analyst',\n",
    "                   'Energy Analyst', 'Traffic Analyst', 'Purchasing Analyst', 'Pressure Analyst', 'SAP Analyst'\n",
    "                  ])"
   ]
  },
  {
   "cell_type": "code",
   "execution_count": 64,
   "id": "8c5562f8",
   "metadata": {},
   "outputs": [],
   "source": [
    "def get_rel_title(cell):\n",
    "    for title in relevant_title:\n",
    "        if title in cell:\n",
    "            return cell\n",
    "        else:\n",
    "            return np.nan"
   ]
  },
  {
   "cell_type": "code",
   "execution_count": 65,
   "id": "3d49d0cc",
   "metadata": {},
   "outputs": [
    {
     "data": {
      "text/html": [
       "<div>\n",
       "<style scoped>\n",
       "    .dataframe tbody tr th:only-of-type {\n",
       "        vertical-align: middle;\n",
       "    }\n",
       "\n",
       "    .dataframe tbody tr th {\n",
       "        vertical-align: top;\n",
       "    }\n",
       "\n",
       "    .dataframe thead th {\n",
       "        text-align: right;\n",
       "    }\n",
       "</style>\n",
       "<table border=\"1\" class=\"dataframe\">\n",
       "  <thead>\n",
       "    <tr style=\"text-align: right;\">\n",
       "      <th></th>\n",
       "      <th>Unnamed: 0</th>\n",
       "      <th>html</th>\n",
       "      <th>title</th>\n",
       "      <th>candidats</th>\n",
       "      <th>link</th>\n",
       "      <th>geo</th>\n",
       "      <th>city</th>\n",
       "      <th>country</th>\n",
       "      <th>workplaces</th>\n",
       "      <th>company_name</th>\n",
       "      <th>job_insight</th>\n",
       "      <th>number_staff</th>\n",
       "      <th>field</th>\n",
       "      <th>time</th>\n",
       "      <th>date</th>\n",
       "      <th>description</th>\n",
       "      <th>skills</th>\n",
       "      <th>titles</th>\n",
       "    </tr>\n",
       "  </thead>\n",
       "  <tbody>\n",
       "    <tr>\n",
       "      <th>0</th>\n",
       "      <td>0</td>\n",
       "      <td>\\n  &lt;div&gt;\\n    &lt;div class=\"\\n        jobs-deta...</td>\n",
       "      <td>Stage - Assistant Ingénieur Qualité - Beyrand ...</td>\n",
       "      <td>NaN</td>\n",
       "      <td>https://linkedin.com/jobs/view/3258155313/?alt...</td>\n",
       "      <td>Limoges, Nouvelle-Aquitaine, France</td>\n",
       "      <td>Limoges</td>\n",
       "      <td>France</td>\n",
       "      <td>On-site</td>\n",
       "      <td>Hermès</td>\n",
       "      <td>10,001+ employees · Retail Luxury Goods and Je...</td>\n",
       "      <td>10,001+</td>\n",
       "      <td>Retail Luxury Goods and Jewelry</td>\n",
       "      <td>13 minutes ago</td>\n",
       "      <td>2022-09-07 16:47:00</td>\n",
       "      <td>LA SOCIETE : \\nCréée en 1926, la société Beyra...</td>\n",
       "      <td>[api, excel]</td>\n",
       "      <td>NaN</td>\n",
       "    </tr>\n",
       "    <tr>\n",
       "      <th>1</th>\n",
       "      <td>1</td>\n",
       "      <td>\\n  &lt;div&gt;\\n    &lt;div class=\"\\n        jobs-deta...</td>\n",
       "      <td>développeur matlab/simulink, secteur automobil...</td>\n",
       "      <td>6</td>\n",
       "      <td>https://linkedin.com/jobs/view/3249651625/?alt...</td>\n",
       "      <td>Toulouse, Occitanie, France</td>\n",
       "      <td>Toulouse</td>\n",
       "      <td>France</td>\n",
       "      <td>On-site</td>\n",
       "      <td>AUSY</td>\n",
       "      <td>5,001-10,000 employees · IT Services and IT Co...</td>\n",
       "      <td>5,001-10,000</td>\n",
       "      <td>IT Services and IT Consulting</td>\n",
       "      <td>4 days ago</td>\n",
       "      <td>2022-09-03 17:00:00</td>\n",
       "      <td>Dans le cadre de la croissance de nos activité...</td>\n",
       "      <td>[matlab]</td>\n",
       "      <td>NaN</td>\n",
       "    </tr>\n",
       "    <tr>\n",
       "      <th>2</th>\n",
       "      <td>2</td>\n",
       "      <td>\\n  &lt;div&gt;\\n    &lt;div class=\"\\n        jobs-deta...</td>\n",
       "      <td>Online Data Analyst</td>\n",
       "      <td>12</td>\n",
       "      <td>https://linkedin.com/jobs/view/3248499929/?alt...</td>\n",
       "      <td>Skara, Vastra Gotaland County, Sweden</td>\n",
       "      <td>Skara</td>\n",
       "      <td>Sweden</td>\n",
       "      <td>Remote</td>\n",
       "      <td>TELUS International AI Data Solutions</td>\n",
       "      <td>10,001+ employees · IT Services and IT Consulting</td>\n",
       "      <td>10,001+</td>\n",
       "      <td>IT Services and IT Consulting</td>\n",
       "      <td>6 days ago</td>\n",
       "      <td>2022-09-01 17:00:00</td>\n",
       "      <td>TELUS International AI-Data Solutions partners...</td>\n",
       "      <td>[]</td>\n",
       "      <td>Online Data Analyst</td>\n",
       "    </tr>\n",
       "    <tr>\n",
       "      <th>3</th>\n",
       "      <td>3</td>\n",
       "      <td>\\n  &lt;div&gt;\\n    &lt;div class=\"\\n        jobs-deta...</td>\n",
       "      <td>Online Data Analyst - Belgium</td>\n",
       "      <td>11</td>\n",
       "      <td>https://linkedin.com/jobs/view/3248879065/?alt...</td>\n",
       "      <td>West Flanders, Flemish Region, Belgium</td>\n",
       "      <td>West Flanders</td>\n",
       "      <td>Belgium</td>\n",
       "      <td>Remote</td>\n",
       "      <td>TELUS International</td>\n",
       "      <td>10,001+ employees · IT Services and IT Consulting</td>\n",
       "      <td>10,001+</td>\n",
       "      <td>IT Services and IT Consulting</td>\n",
       "      <td>6 days ago</td>\n",
       "      <td>2022-09-01 17:00:00</td>\n",
       "      <td>TELUS International AI-Data Solutions partners...</td>\n",
       "      <td>[]</td>\n",
       "      <td>Online Data Analyst - Belgium</td>\n",
       "    </tr>\n",
       "    <tr>\n",
       "      <th>4</th>\n",
       "      <td>4</td>\n",
       "      <td>\\n  &lt;div&gt;\\n    &lt;div class=\"\\n        jobs-deta...</td>\n",
       "      <td>Data Analyst</td>\n",
       "      <td>2</td>\n",
       "      <td>https://linkedin.com/jobs/view/3257222954/?alt...</td>\n",
       "      <td>Mecklenburg-West Pomerania, Germany</td>\n",
       "      <td>Mecklenburg-West Pomerania</td>\n",
       "      <td>Germany</td>\n",
       "      <td>Remote</td>\n",
       "      <td>TELUS International AI Data Solutions</td>\n",
       "      <td>10,001+ employees · IT Services and IT Consulting</td>\n",
       "      <td>10,001+</td>\n",
       "      <td>IT Services and IT Consulting</td>\n",
       "      <td>8 hours ago</td>\n",
       "      <td>2022-09-07 09:00:00</td>\n",
       "      <td>TELUS International AI-Data Solutions partners...</td>\n",
       "      <td>[]</td>\n",
       "      <td>Data Analyst</td>\n",
       "    </tr>\n",
       "  </tbody>\n",
       "</table>\n",
       "</div>"
      ],
      "text/plain": [
       "   Unnamed: 0                                               html  \\\n",
       "0           0  \\n  <div>\\n    <div class=\"\\n        jobs-deta...   \n",
       "1           1  \\n  <div>\\n    <div class=\"\\n        jobs-deta...   \n",
       "2           2  \\n  <div>\\n    <div class=\"\\n        jobs-deta...   \n",
       "3           3  \\n  <div>\\n    <div class=\"\\n        jobs-deta...   \n",
       "4           4  \\n  <div>\\n    <div class=\"\\n        jobs-deta...   \n",
       "\n",
       "                                               title candidats  \\\n",
       "0  Stage - Assistant Ingénieur Qualité - Beyrand ...       NaN   \n",
       "1  développeur matlab/simulink, secteur automobil...         6   \n",
       "2                                Online Data Analyst        12   \n",
       "3                      Online Data Analyst - Belgium        11   \n",
       "4                                       Data Analyst         2   \n",
       "\n",
       "                                                link  \\\n",
       "0  https://linkedin.com/jobs/view/3258155313/?alt...   \n",
       "1  https://linkedin.com/jobs/view/3249651625/?alt...   \n",
       "2  https://linkedin.com/jobs/view/3248499929/?alt...   \n",
       "3  https://linkedin.com/jobs/view/3248879065/?alt...   \n",
       "4  https://linkedin.com/jobs/view/3257222954/?alt...   \n",
       "\n",
       "                                      geo                        city  \\\n",
       "0     Limoges, Nouvelle-Aquitaine, France                     Limoges   \n",
       "1             Toulouse, Occitanie, France                    Toulouse   \n",
       "2   Skara, Vastra Gotaland County, Sweden                       Skara   \n",
       "3  West Flanders, Flemish Region, Belgium               West Flanders   \n",
       "4     Mecklenburg-West Pomerania, Germany  Mecklenburg-West Pomerania   \n",
       "\n",
       "   country workplaces                           company_name  \\\n",
       "0   France    On-site                                 Hermès   \n",
       "1   France    On-site                                   AUSY   \n",
       "2   Sweden     Remote  TELUS International AI Data Solutions   \n",
       "3  Belgium     Remote                    TELUS International   \n",
       "4  Germany     Remote  TELUS International AI Data Solutions   \n",
       "\n",
       "                                         job_insight  number_staff  \\\n",
       "0  10,001+ employees · Retail Luxury Goods and Je...       10,001+   \n",
       "1  5,001-10,000 employees · IT Services and IT Co...  5,001-10,000   \n",
       "2  10,001+ employees · IT Services and IT Consulting       10,001+   \n",
       "3  10,001+ employees · IT Services and IT Consulting       10,001+   \n",
       "4  10,001+ employees · IT Services and IT Consulting       10,001+   \n",
       "\n",
       "                             field            time                date  \\\n",
       "0  Retail Luxury Goods and Jewelry  13 minutes ago 2022-09-07 16:47:00   \n",
       "1    IT Services and IT Consulting      4 days ago 2022-09-03 17:00:00   \n",
       "2    IT Services and IT Consulting      6 days ago 2022-09-01 17:00:00   \n",
       "3    IT Services and IT Consulting      6 days ago 2022-09-01 17:00:00   \n",
       "4    IT Services and IT Consulting     8 hours ago 2022-09-07 09:00:00   \n",
       "\n",
       "                                         description        skills  \\\n",
       "0  LA SOCIETE : \\nCréée en 1926, la société Beyra...  [api, excel]   \n",
       "1  Dans le cadre de la croissance de nos activité...      [matlab]   \n",
       "2  TELUS International AI-Data Solutions partners...            []   \n",
       "3  TELUS International AI-Data Solutions partners...            []   \n",
       "4  TELUS International AI-Data Solutions partners...            []   \n",
       "\n",
       "                          titles  \n",
       "0                            NaN  \n",
       "1                            NaN  \n",
       "2            Online Data Analyst  \n",
       "3  Online Data Analyst - Belgium  \n",
       "4                   Data Analyst  "
      ]
     },
     "execution_count": 65,
     "metadata": {},
     "output_type": "execute_result"
    }
   ],
   "source": [
    "df['titles'] = df['title'].apply(get_rel_title)\n",
    "df.head()"
   ]
  },
  {
   "cell_type": "code",
   "execution_count": 66,
   "id": "0d9e7bc0",
   "metadata": {},
   "outputs": [],
   "source": [
    "df['titles'] = df['titles'].replace(['Data Analyst H/F', 'Data Analyst (Tableau)', 'Data Analyst  - Boursorama', 'Data Analyst (M/W/D)', 'Data Analyst (m/w/d)', 'Data Analyst (m/f/d)'], 'Data Analyst')\n",
    "df['titles'] = df['titles'].replace('Work From Home | Data Analyst', 'Online Data Analyst')\n",
    "df['titles'] = df['titles'].replace(['SSWHG35824 - Data Analyst, CHAIR Programme, Section Officer, Grade VI', 'Data Analyst mit Fokus auf Up- und Crossselling (m/w/d)', 'Data Analyst - Marketing', 'Data Analyst - Performance', 'Data Analyst - AdSales & StoryWorks', 'Data Analyst (m/w/d) - Automotive'], 'Data Analyst')\n",
    "df['titles'] = df['titles'].replace(['Data Analyst (Part-time)', 'Data Analyst - Part time', 'Online Data Analyst | French Speaker', 'Online Data Analyst - Belgium', 'Online Data Analyst - Sweden', 'Remote | Data Analyst', 'Online Data Analyst | REMOTE OPPORTUNITY'], 'Online Data Analyst')"
   ]
  },
  {
   "cell_type": "code",
   "execution_count": 67,
   "id": "2ff4ed9e",
   "metadata": {},
   "outputs": [
    {
     "data": {
      "text/plain": [
       "Data Analyst                                                               99\n",
       "Online Data Analyst                                                        33\n",
       "Junior Data Analyst                                                         4\n",
       "Graduate Data Analyst                                                       4\n",
       "Product/Data Analyst                                                        2\n",
       "Customer Data Analyst (m/w/d)                                               2\n",
       "Asset Data Analyst                                                          2\n",
       "CX Data Analyst                                                             2\n",
       "Data Analyst - Associate                                                    2\n",
       "Data Analyst for Portuguese Speakers                                        1\n",
       "Assistenz (w/m/d) des CEO West - Schwerpunkt Data Analyst / Controlling     1\n",
       "Pensions Administration Data Analyst                                        1\n",
       "Data Data Analyst with Spanish                                              1\n",
       "Data Analyst, Digital                                                       1\n",
       "Data Analyst (Tijdelijk - 3 Maanden)                                        1\n",
       "Data Analyst (Insurance) - Multiple Positions                               1\n",
       "Data Analyst - Oxfordshire                                                  1\n",
       "Data Analyst (m/f/d) Brand Marketing                                        1\n",
       "Data Analyst (Spotfire and/or Mendix, SQL and Python) - Veldhoven           1\n",
       "Data Analyst - Demand                                                       1\n",
       "Name: titles, dtype: int64"
      ]
     },
     "execution_count": 67,
     "metadata": {},
     "output_type": "execute_result"
    }
   ],
   "source": [
    "df['titles'].value_counts().head(20)"
   ]
  },
  {
   "cell_type": "code",
   "execution_count": 68,
   "id": "2102c22c",
   "metadata": {},
   "outputs": [
    {
     "data": {
      "text/html": [
       "<div>\n",
       "<style scoped>\n",
       "    .dataframe tbody tr th:only-of-type {\n",
       "        vertical-align: middle;\n",
       "    }\n",
       "\n",
       "    .dataframe tbody tr th {\n",
       "        vertical-align: top;\n",
       "    }\n",
       "\n",
       "    .dataframe thead th {\n",
       "        text-align: right;\n",
       "    }\n",
       "</style>\n",
       "<table border=\"1\" class=\"dataframe\">\n",
       "  <thead>\n",
       "    <tr style=\"text-align: right;\">\n",
       "      <th></th>\n",
       "      <th>Unnamed: 0</th>\n",
       "      <th>html</th>\n",
       "      <th>title</th>\n",
       "      <th>candidats</th>\n",
       "      <th>link</th>\n",
       "      <th>geo</th>\n",
       "      <th>city</th>\n",
       "      <th>country</th>\n",
       "      <th>workplaces</th>\n",
       "      <th>company_name</th>\n",
       "      <th>job_insight</th>\n",
       "      <th>number_staff</th>\n",
       "      <th>field</th>\n",
       "      <th>time</th>\n",
       "      <th>date</th>\n",
       "      <th>description</th>\n",
       "      <th>skills</th>\n",
       "      <th>titles</th>\n",
       "    </tr>\n",
       "  </thead>\n",
       "  <tbody>\n",
       "    <tr>\n",
       "      <th>0</th>\n",
       "      <td>0</td>\n",
       "      <td>\\n  &lt;div&gt;\\n    &lt;div class=\"\\n        jobs-deta...</td>\n",
       "      <td>Stage - Assistant Ingénieur Qualité - Beyrand ...</td>\n",
       "      <td>NaN</td>\n",
       "      <td>https://linkedin.com/jobs/view/3258155313/?alt...</td>\n",
       "      <td>Limoges, Nouvelle-Aquitaine, France</td>\n",
       "      <td>Limoges</td>\n",
       "      <td>France</td>\n",
       "      <td>On-site</td>\n",
       "      <td>Hermès</td>\n",
       "      <td>10,001+ employees · Retail Luxury Goods and Je...</td>\n",
       "      <td>10,001+</td>\n",
       "      <td>Retail Luxury Goods and Jewelry</td>\n",
       "      <td>13 minutes ago</td>\n",
       "      <td>2022-09-07 16:47:00</td>\n",
       "      <td>LA SOCIETE : \\nCréée en 1926, la société Beyra...</td>\n",
       "      <td>[api, excel]</td>\n",
       "      <td>NaN</td>\n",
       "    </tr>\n",
       "    <tr>\n",
       "      <th>1</th>\n",
       "      <td>1</td>\n",
       "      <td>\\n  &lt;div&gt;\\n    &lt;div class=\"\\n        jobs-deta...</td>\n",
       "      <td>développeur matlab/simulink, secteur automobil...</td>\n",
       "      <td>6</td>\n",
       "      <td>https://linkedin.com/jobs/view/3249651625/?alt...</td>\n",
       "      <td>Toulouse, Occitanie, France</td>\n",
       "      <td>Toulouse</td>\n",
       "      <td>France</td>\n",
       "      <td>On-site</td>\n",
       "      <td>AUSY</td>\n",
       "      <td>5,001-10,000 employees · IT Services and IT Co...</td>\n",
       "      <td>5,001-10,000</td>\n",
       "      <td>IT Services and IT Consulting</td>\n",
       "      <td>4 days ago</td>\n",
       "      <td>2022-09-03 17:00:00</td>\n",
       "      <td>Dans le cadre de la croissance de nos activité...</td>\n",
       "      <td>[matlab]</td>\n",
       "      <td>NaN</td>\n",
       "    </tr>\n",
       "    <tr>\n",
       "      <th>6</th>\n",
       "      <td>6</td>\n",
       "      <td>\\n  &lt;div&gt;\\n    &lt;div class=\"\\n        jobs-deta...</td>\n",
       "      <td>Alternant/ Alternante data analyst M/F</td>\n",
       "      <td>25</td>\n",
       "      <td>https://linkedin.com/jobs/view/3244114599/?alt...</td>\n",
       "      <td>Rousset, Provence-Alpes-Côte d'Azur, France</td>\n",
       "      <td>Rousset</td>\n",
       "      <td>France</td>\n",
       "      <td>On-site</td>\n",
       "      <td>STMicroelectronics</td>\n",
       "      <td>10,001+ employees · Semiconductor Manufacturing</td>\n",
       "      <td>10,001+</td>\n",
       "      <td>Semiconductor Manufacturing</td>\n",
       "      <td>5 days ago</td>\n",
       "      <td>2022-09-02 17:00:00</td>\n",
       "      <td>POURQUOI NOUS REJOINDRE\\n\\nAu sein de ST, nous...</td>\n",
       "      <td>[excel, python, sql, java, html, spotfire, pow...</td>\n",
       "      <td>NaN</td>\n",
       "    </tr>\n",
       "    <tr>\n",
       "      <th>7</th>\n",
       "      <td>7</td>\n",
       "      <td>\\n  &lt;div&gt;\\n    &lt;div class=\"\\n        jobs-deta...</td>\n",
       "      <td>Alternant(e) Data Scientist (H/F)</td>\n",
       "      <td>34</td>\n",
       "      <td>https://linkedin.com/jobs/view/3248172392/?alt...</td>\n",
       "      <td>Massy, Île-de-France, France</td>\n",
       "      <td>Massy</td>\n",
       "      <td>France</td>\n",
       "      <td>On-site</td>\n",
       "      <td>Carrefour</td>\n",
       "      <td>10,001+ employees · Retail</td>\n",
       "      <td>10,001+</td>\n",
       "      <td>Retail</td>\n",
       "      <td>5 days ago</td>\n",
       "      <td>2022-09-02 17:00:00</td>\n",
       "      <td>Description du poste :\\n\\nCréateur de l'hyperm...</td>\n",
       "      <td>[api, python,  r , sql]</td>\n",
       "      <td>NaN</td>\n",
       "    </tr>\n",
       "    <tr>\n",
       "      <th>8</th>\n",
       "      <td>8</td>\n",
       "      <td>\\n  &lt;div&gt;\\n    &lt;div class=\"\\n        jobs-deta...</td>\n",
       "      <td>ALTERNANCE- TOTALENERGIES RENEWABLES - Data En...</td>\n",
       "      <td>22</td>\n",
       "      <td>https://linkedin.com/jobs/view/3247031864/?alt...</td>\n",
       "      <td>Courbevoie, Île-de-France, France</td>\n",
       "      <td>Courbevoie</td>\n",
       "      <td>France</td>\n",
       "      <td>On-site</td>\n",
       "      <td>TotalEnergies</td>\n",
       "      <td>10,001+ employees · Oil and Gas</td>\n",
       "      <td>10,001+</td>\n",
       "      <td>Oil and Gas</td>\n",
       "      <td>6 days ago</td>\n",
       "      <td>2022-09-01 17:00:00</td>\n",
       "      <td>Job Description\\n\\nTotalEnergies est un groupe...</td>\n",
       "      <td>[api, python, sql, tableau, power bi]</td>\n",
       "      <td>NaN</td>\n",
       "    </tr>\n",
       "    <tr>\n",
       "      <th>...</th>\n",
       "      <td>...</td>\n",
       "      <td>...</td>\n",
       "      <td>...</td>\n",
       "      <td>...</td>\n",
       "      <td>...</td>\n",
       "      <td>...</td>\n",
       "      <td>...</td>\n",
       "      <td>...</td>\n",
       "      <td>...</td>\n",
       "      <td>...</td>\n",
       "      <td>...</td>\n",
       "      <td>...</td>\n",
       "      <td>...</td>\n",
       "      <td>...</td>\n",
       "      <td>...</td>\n",
       "      <td>...</td>\n",
       "      <td>...</td>\n",
       "      <td>...</td>\n",
       "    </tr>\n",
       "    <tr>\n",
       "      <th>767</th>\n",
       "      <td>767</td>\n",
       "      <td>\\n  &lt;div&gt;\\n    &lt;div class=\"\\n        jobs-deta...</td>\n",
       "      <td>Sviluppatore php</td>\n",
       "      <td>14</td>\n",
       "      <td>https://linkedin.com/jobs/view/3249468195/?alt...</td>\n",
       "      <td>Lombardy, Italy</td>\n",
       "      <td>Lombardy</td>\n",
       "      <td>Italy</td>\n",
       "      <td>On-site</td>\n",
       "      <td>NaraCamicie</td>\n",
       "      <td>201-500 employees</td>\n",
       "      <td>201-500</td>\n",
       "      <td>NaN</td>\n",
       "      <td>5 days ago</td>\n",
       "      <td>2022-09-02 17:00:00</td>\n",
       "      <td>The ideal candidate is a highly resourceful an...</td>\n",
       "      <td>[sql, java, html]</td>\n",
       "      <td>NaN</td>\n",
       "    </tr>\n",
       "    <tr>\n",
       "      <th>768</th>\n",
       "      <td>768</td>\n",
       "      <td>\\n  &lt;div&gt;\\n    &lt;div class=\"\\n        jobs-deta...</td>\n",
       "      <td>Junior Developer (J12996)</td>\n",
       "      <td>63</td>\n",
       "      <td>https://linkedin.com/jobs/view/3253817004/?alt...</td>\n",
       "      <td>Salamanca, Castilla and Leon, Spain</td>\n",
       "      <td>Salamanca</td>\n",
       "      <td>Spain</td>\n",
       "      <td>Remote</td>\n",
       "      <td>Pareto</td>\n",
       "      <td>201-500 employees · Staffing and Recruiting</td>\n",
       "      <td>201-500</td>\n",
       "      <td>Staffing and Recruiting</td>\n",
       "      <td>1 day ago</td>\n",
       "      <td>2022-09-06 17:00:00</td>\n",
       "      <td>Junior Developer (Graduate) *This is a relocat...</td>\n",
       "      <td>[excel, ssis, java]</td>\n",
       "      <td>NaN</td>\n",
       "    </tr>\n",
       "    <tr>\n",
       "      <th>769</th>\n",
       "      <td>769</td>\n",
       "      <td>\\n  &lt;div&gt;\\n    &lt;div class=\"\\n        jobs-deta...</td>\n",
       "      <td>Principal Product Designer (Design System + De...</td>\n",
       "      <td>33</td>\n",
       "      <td>https://linkedin.com/jobs/view/2874639790/?alt...</td>\n",
       "      <td>Budapest, Hungary</td>\n",
       "      <td>Budapest</td>\n",
       "      <td>Hungary</td>\n",
       "      <td>Remote</td>\n",
       "      <td>Bitrise</td>\n",
       "      <td>201-500 employees · IT Services and IT Consulting</td>\n",
       "      <td>201-500</td>\n",
       "      <td>IT Services and IT Consulting</td>\n",
       "      <td>8 hours ago</td>\n",
       "      <td>2022-09-07 09:00:00</td>\n",
       "      <td>As a Principal Product Designer, Design System...</td>\n",
       "      <td>[]</td>\n",
       "      <td>NaN</td>\n",
       "    </tr>\n",
       "    <tr>\n",
       "      <th>770</th>\n",
       "      <td>770</td>\n",
       "      <td>\\n  &lt;div&gt;\\n    &lt;div class=\"\\n        jobs-deta...</td>\n",
       "      <td>Backend Engineer - Personalization</td>\n",
       "      <td>3</td>\n",
       "      <td>https://linkedin.com/jobs/view/3254092624/?alt...</td>\n",
       "      <td>Denmark</td>\n",
       "      <td>NaN</td>\n",
       "      <td>Denmark</td>\n",
       "      <td>Remote</td>\n",
       "      <td>Spotify</td>\n",
       "      <td>5,001-10,000 employees · Musicians</td>\n",
       "      <td>5,001-10,000</td>\n",
       "      <td>Musicians</td>\n",
       "      <td>23 hours ago</td>\n",
       "      <td>2022-09-06 18:00:00</td>\n",
       "      <td>The Personalization team makes deciding what t...</td>\n",
       "      <td>[api, scala, java]</td>\n",
       "      <td>NaN</td>\n",
       "    </tr>\n",
       "    <tr>\n",
       "      <th>771</th>\n",
       "      <td>771</td>\n",
       "      <td>\\n  &lt;div&gt;\\n    &lt;div class=\"\\n        jobs-deta...</td>\n",
       "      <td>Stage - Consultant(e) Data Engineer - Big Data...</td>\n",
       "      <td>NaN</td>\n",
       "      <td>https://linkedin.com/jobs/view/3241983304/?alt...</td>\n",
       "      <td>Toulouse, Occitanie, France</td>\n",
       "      <td>Toulouse</td>\n",
       "      <td>France</td>\n",
       "      <td>NaN</td>\n",
       "      <td>Avanade</td>\n",
       "      <td>NaN</td>\n",
       "      <td>NaN</td>\n",
       "      <td>NaN</td>\n",
       "      <td>6 days ago</td>\n",
       "      <td>2022-09-01 17:00:00</td>\n",
       "      <td></td>\n",
       "      <td>[]</td>\n",
       "      <td>NaN</td>\n",
       "    </tr>\n",
       "  </tbody>\n",
       "</table>\n",
       "<p>531 rows × 18 columns</p>\n",
       "</div>"
      ],
      "text/plain": [
       "     Unnamed: 0                                               html  \\\n",
       "0             0  \\n  <div>\\n    <div class=\"\\n        jobs-deta...   \n",
       "1             1  \\n  <div>\\n    <div class=\"\\n        jobs-deta...   \n",
       "6             6  \\n  <div>\\n    <div class=\"\\n        jobs-deta...   \n",
       "7             7  \\n  <div>\\n    <div class=\"\\n        jobs-deta...   \n",
       "8             8  \\n  <div>\\n    <div class=\"\\n        jobs-deta...   \n",
       "..          ...                                                ...   \n",
       "767         767  \\n  <div>\\n    <div class=\"\\n        jobs-deta...   \n",
       "768         768  \\n  <div>\\n    <div class=\"\\n        jobs-deta...   \n",
       "769         769  \\n  <div>\\n    <div class=\"\\n        jobs-deta...   \n",
       "770         770  \\n  <div>\\n    <div class=\"\\n        jobs-deta...   \n",
       "771         771  \\n  <div>\\n    <div class=\"\\n        jobs-deta...   \n",
       "\n",
       "                                                 title candidats  \\\n",
       "0    Stage - Assistant Ingénieur Qualité - Beyrand ...       NaN   \n",
       "1    développeur matlab/simulink, secteur automobil...         6   \n",
       "6               Alternant/ Alternante data analyst M/F        25   \n",
       "7                    Alternant(e) Data Scientist (H/F)        34   \n",
       "8    ALTERNANCE- TOTALENERGIES RENEWABLES - Data En...        22   \n",
       "..                                                 ...       ...   \n",
       "767                                   Sviluppatore php        14   \n",
       "768                          Junior Developer (J12996)        63   \n",
       "769  Principal Product Designer (Design System + De...        33   \n",
       "770                 Backend Engineer - Personalization         3   \n",
       "771  Stage - Consultant(e) Data Engineer - Big Data...       NaN   \n",
       "\n",
       "                                                  link  \\\n",
       "0    https://linkedin.com/jobs/view/3258155313/?alt...   \n",
       "1    https://linkedin.com/jobs/view/3249651625/?alt...   \n",
       "6    https://linkedin.com/jobs/view/3244114599/?alt...   \n",
       "7    https://linkedin.com/jobs/view/3248172392/?alt...   \n",
       "8    https://linkedin.com/jobs/view/3247031864/?alt...   \n",
       "..                                                 ...   \n",
       "767  https://linkedin.com/jobs/view/3249468195/?alt...   \n",
       "768  https://linkedin.com/jobs/view/3253817004/?alt...   \n",
       "769  https://linkedin.com/jobs/view/2874639790/?alt...   \n",
       "770  https://linkedin.com/jobs/view/3254092624/?alt...   \n",
       "771  https://linkedin.com/jobs/view/3241983304/?alt...   \n",
       "\n",
       "                                             geo        city  country  \\\n",
       "0            Limoges, Nouvelle-Aquitaine, France     Limoges   France   \n",
       "1                    Toulouse, Occitanie, France    Toulouse   France   \n",
       "6    Rousset, Provence-Alpes-Côte d'Azur, France     Rousset   France   \n",
       "7                   Massy, Île-de-France, France       Massy   France   \n",
       "8              Courbevoie, Île-de-France, France  Courbevoie   France   \n",
       "..                                           ...         ...      ...   \n",
       "767                              Lombardy, Italy    Lombardy    Italy   \n",
       "768          Salamanca, Castilla and Leon, Spain   Salamanca    Spain   \n",
       "769                            Budapest, Hungary    Budapest  Hungary   \n",
       "770                                      Denmark         NaN  Denmark   \n",
       "771                  Toulouse, Occitanie, France    Toulouse   France   \n",
       "\n",
       "    workplaces        company_name  \\\n",
       "0      On-site              Hermès   \n",
       "1      On-site                AUSY   \n",
       "6      On-site  STMicroelectronics   \n",
       "7      On-site           Carrefour   \n",
       "8      On-site       TotalEnergies   \n",
       "..         ...                 ...   \n",
       "767    On-site         NaraCamicie   \n",
       "768     Remote              Pareto   \n",
       "769     Remote             Bitrise   \n",
       "770     Remote             Spotify   \n",
       "771        NaN             Avanade   \n",
       "\n",
       "                                           job_insight  number_staff  \\\n",
       "0    10,001+ employees · Retail Luxury Goods and Je...       10,001+   \n",
       "1    5,001-10,000 employees · IT Services and IT Co...  5,001-10,000   \n",
       "6      10,001+ employees · Semiconductor Manufacturing       10,001+   \n",
       "7                           10,001+ employees · Retail       10,001+   \n",
       "8                      10,001+ employees · Oil and Gas       10,001+   \n",
       "..                                                 ...           ...   \n",
       "767                                  201-500 employees       201-500   \n",
       "768        201-500 employees · Staffing and Recruiting       201-500   \n",
       "769  201-500 employees · IT Services and IT Consulting       201-500   \n",
       "770                 5,001-10,000 employees · Musicians  5,001-10,000   \n",
       "771                                                NaN           NaN   \n",
       "\n",
       "                               field            time                date  \\\n",
       "0    Retail Luxury Goods and Jewelry  13 minutes ago 2022-09-07 16:47:00   \n",
       "1      IT Services and IT Consulting      4 days ago 2022-09-03 17:00:00   \n",
       "6        Semiconductor Manufacturing      5 days ago 2022-09-02 17:00:00   \n",
       "7                             Retail      5 days ago 2022-09-02 17:00:00   \n",
       "8                        Oil and Gas      6 days ago 2022-09-01 17:00:00   \n",
       "..                               ...             ...                 ...   \n",
       "767                              NaN      5 days ago 2022-09-02 17:00:00   \n",
       "768          Staffing and Recruiting       1 day ago 2022-09-06 17:00:00   \n",
       "769    IT Services and IT Consulting     8 hours ago 2022-09-07 09:00:00   \n",
       "770                        Musicians    23 hours ago 2022-09-06 18:00:00   \n",
       "771                              NaN      6 days ago 2022-09-01 17:00:00   \n",
       "\n",
       "                                           description  \\\n",
       "0    LA SOCIETE : \\nCréée en 1926, la société Beyra...   \n",
       "1    Dans le cadre de la croissance de nos activité...   \n",
       "6    POURQUOI NOUS REJOINDRE\\n\\nAu sein de ST, nous...   \n",
       "7    Description du poste :\\n\\nCréateur de l'hyperm...   \n",
       "8    Job Description\\n\\nTotalEnergies est un groupe...   \n",
       "..                                                 ...   \n",
       "767  The ideal candidate is a highly resourceful an...   \n",
       "768  Junior Developer (Graduate) *This is a relocat...   \n",
       "769  As a Principal Product Designer, Design System...   \n",
       "770  The Personalization team makes deciding what t...   \n",
       "771                                                      \n",
       "\n",
       "                                                skills titles  \n",
       "0                                         [api, excel]    NaN  \n",
       "1                                             [matlab]    NaN  \n",
       "6    [excel, python, sql, java, html, spotfire, pow...    NaN  \n",
       "7                              [api, python,  r , sql]    NaN  \n",
       "8                [api, python, sql, tableau, power bi]    NaN  \n",
       "..                                                 ...    ...  \n",
       "767                                  [sql, java, html]    NaN  \n",
       "768                                [excel, ssis, java]    NaN  \n",
       "769                                                 []    NaN  \n",
       "770                                 [api, scala, java]    NaN  \n",
       "771                                                 []    NaN  \n",
       "\n",
       "[531 rows x 18 columns]"
      ]
     },
     "execution_count": 68,
     "metadata": {},
     "output_type": "execute_result"
    }
   ],
   "source": [
    "df.query('titles.isna()')"
   ]
  },
  {
   "cell_type": "code",
   "execution_count": 69,
   "id": "c8f274b5",
   "metadata": {},
   "outputs": [],
   "source": [
    "df = df.dropna(subset=['titles']) #удаляем нерелевантные вакансии"
   ]
  },
  {
   "cell_type": "code",
   "execution_count": 70,
   "id": "a281387e",
   "metadata": {},
   "outputs": [],
   "source": [
    "df = df.explode('skills')"
   ]
  },
  {
   "cell_type": "code",
   "execution_count": 71,
   "id": "cc2195b1",
   "metadata": {},
   "outputs": [
    {
     "data": {
      "text/html": [
       "<div>\n",
       "<style scoped>\n",
       "    .dataframe tbody tr th:only-of-type {\n",
       "        vertical-align: middle;\n",
       "    }\n",
       "\n",
       "    .dataframe tbody tr th {\n",
       "        vertical-align: top;\n",
       "    }\n",
       "\n",
       "    .dataframe thead th {\n",
       "        text-align: right;\n",
       "    }\n",
       "</style>\n",
       "<table border=\"1\" class=\"dataframe\">\n",
       "  <thead>\n",
       "    <tr style=\"text-align: right;\">\n",
       "      <th></th>\n",
       "      <th>Unnamed: 0</th>\n",
       "      <th>html</th>\n",
       "      <th>title</th>\n",
       "      <th>candidats</th>\n",
       "      <th>link</th>\n",
       "      <th>geo</th>\n",
       "      <th>city</th>\n",
       "      <th>country</th>\n",
       "      <th>workplaces</th>\n",
       "      <th>company_name</th>\n",
       "      <th>job_insight</th>\n",
       "      <th>number_staff</th>\n",
       "      <th>field</th>\n",
       "      <th>time</th>\n",
       "      <th>date</th>\n",
       "      <th>description</th>\n",
       "      <th>skills</th>\n",
       "      <th>titles</th>\n",
       "    </tr>\n",
       "  </thead>\n",
       "  <tbody>\n",
       "    <tr>\n",
       "      <th>2</th>\n",
       "      <td>2</td>\n",
       "      <td>\\n  &lt;div&gt;\\n    &lt;div class=\"\\n        jobs-deta...</td>\n",
       "      <td>Online Data Analyst</td>\n",
       "      <td>12</td>\n",
       "      <td>https://linkedin.com/jobs/view/3248499929/?alt...</td>\n",
       "      <td>Skara, Vastra Gotaland County, Sweden</td>\n",
       "      <td>Skara</td>\n",
       "      <td>Sweden</td>\n",
       "      <td>Remote</td>\n",
       "      <td>TELUS International AI Data Solutions</td>\n",
       "      <td>10,001+ employees · IT Services and IT Consulting</td>\n",
       "      <td>10,001+</td>\n",
       "      <td>IT Services and IT Consulting</td>\n",
       "      <td>6 days ago</td>\n",
       "      <td>2022-09-01 17:00:00</td>\n",
       "      <td>TELUS International AI-Data Solutions partners...</td>\n",
       "      <td>NaN</td>\n",
       "      <td>Online Data Analyst</td>\n",
       "    </tr>\n",
       "    <tr>\n",
       "      <th>3</th>\n",
       "      <td>3</td>\n",
       "      <td>\\n  &lt;div&gt;\\n    &lt;div class=\"\\n        jobs-deta...</td>\n",
       "      <td>Online Data Analyst - Belgium</td>\n",
       "      <td>11</td>\n",
       "      <td>https://linkedin.com/jobs/view/3248879065/?alt...</td>\n",
       "      <td>West Flanders, Flemish Region, Belgium</td>\n",
       "      <td>West Flanders</td>\n",
       "      <td>Belgium</td>\n",
       "      <td>Remote</td>\n",
       "      <td>TELUS International</td>\n",
       "      <td>10,001+ employees · IT Services and IT Consulting</td>\n",
       "      <td>10,001+</td>\n",
       "      <td>IT Services and IT Consulting</td>\n",
       "      <td>6 days ago</td>\n",
       "      <td>2022-09-01 17:00:00</td>\n",
       "      <td>TELUS International AI-Data Solutions partners...</td>\n",
       "      <td>NaN</td>\n",
       "      <td>Online Data Analyst</td>\n",
       "    </tr>\n",
       "    <tr>\n",
       "      <th>4</th>\n",
       "      <td>4</td>\n",
       "      <td>\\n  &lt;div&gt;\\n    &lt;div class=\"\\n        jobs-deta...</td>\n",
       "      <td>Data Analyst</td>\n",
       "      <td>2</td>\n",
       "      <td>https://linkedin.com/jobs/view/3257222954/?alt...</td>\n",
       "      <td>Mecklenburg-West Pomerania, Germany</td>\n",
       "      <td>Mecklenburg-West Pomerania</td>\n",
       "      <td>Germany</td>\n",
       "      <td>Remote</td>\n",
       "      <td>TELUS International AI Data Solutions</td>\n",
       "      <td>10,001+ employees · IT Services and IT Consulting</td>\n",
       "      <td>10,001+</td>\n",
       "      <td>IT Services and IT Consulting</td>\n",
       "      <td>8 hours ago</td>\n",
       "      <td>2022-09-07 09:00:00</td>\n",
       "      <td>TELUS International AI-Data Solutions partners...</td>\n",
       "      <td>NaN</td>\n",
       "      <td>Data Analyst</td>\n",
       "    </tr>\n",
       "    <tr>\n",
       "      <th>5</th>\n",
       "      <td>5</td>\n",
       "      <td>\\n  &lt;div&gt;\\n    &lt;div class=\"\\n        jobs-deta...</td>\n",
       "      <td>Data Analyst</td>\n",
       "      <td>4</td>\n",
       "      <td>https://linkedin.com/jobs/view/3257228331/?alt...</td>\n",
       "      <td>Hamburg, Germany</td>\n",
       "      <td>Hamburg</td>\n",
       "      <td>Germany</td>\n",
       "      <td>Remote</td>\n",
       "      <td>TELUS International AI Data Solutions</td>\n",
       "      <td>10,001+ employees · IT Services and IT Consulting</td>\n",
       "      <td>10,001+</td>\n",
       "      <td>IT Services and IT Consulting</td>\n",
       "      <td>8 hours ago</td>\n",
       "      <td>2022-09-07 09:00:00</td>\n",
       "      <td>TELUS International AI-Data Solutions partners...</td>\n",
       "      <td>NaN</td>\n",
       "      <td>Data Analyst</td>\n",
       "    </tr>\n",
       "    <tr>\n",
       "      <th>11</th>\n",
       "      <td>11</td>\n",
       "      <td>\\n  &lt;div&gt;\\n    &lt;div class=\"\\n        jobs-deta...</td>\n",
       "      <td>Data Analyst</td>\n",
       "      <td>NaN</td>\n",
       "      <td>https://linkedin.com/jobs/view/3257247449/?alt...</td>\n",
       "      <td>Przemyśl Metropolitan Area</td>\n",
       "      <td>Przemyśl</td>\n",
       "      <td>Poland</td>\n",
       "      <td>Remote</td>\n",
       "      <td>TELUS International AI Data Solutions</td>\n",
       "      <td>10,001+ employees · IT Services and IT Consulting</td>\n",
       "      <td>10,001+</td>\n",
       "      <td>IT Services and IT Consulting</td>\n",
       "      <td>8 hours ago</td>\n",
       "      <td>2022-09-07 09:00:00</td>\n",
       "      <td>TELUS International AI-Data Solutions partners...</td>\n",
       "      <td>NaN</td>\n",
       "      <td>Data Analyst</td>\n",
       "    </tr>\n",
       "  </tbody>\n",
       "</table>\n",
       "</div>"
      ],
      "text/plain": [
       "    Unnamed: 0                                               html  \\\n",
       "2            2  \\n  <div>\\n    <div class=\"\\n        jobs-deta...   \n",
       "3            3  \\n  <div>\\n    <div class=\"\\n        jobs-deta...   \n",
       "4            4  \\n  <div>\\n    <div class=\"\\n        jobs-deta...   \n",
       "5            5  \\n  <div>\\n    <div class=\"\\n        jobs-deta...   \n",
       "11          11  \\n  <div>\\n    <div class=\"\\n        jobs-deta...   \n",
       "\n",
       "                            title candidats  \\\n",
       "2             Online Data Analyst        12   \n",
       "3   Online Data Analyst - Belgium        11   \n",
       "4                    Data Analyst         2   \n",
       "5                    Data Analyst         4   \n",
       "11                   Data Analyst       NaN   \n",
       "\n",
       "                                                 link  \\\n",
       "2   https://linkedin.com/jobs/view/3248499929/?alt...   \n",
       "3   https://linkedin.com/jobs/view/3248879065/?alt...   \n",
       "4   https://linkedin.com/jobs/view/3257222954/?alt...   \n",
       "5   https://linkedin.com/jobs/view/3257228331/?alt...   \n",
       "11  https://linkedin.com/jobs/view/3257247449/?alt...   \n",
       "\n",
       "                                       geo                        city  \\\n",
       "2    Skara, Vastra Gotaland County, Sweden                       Skara   \n",
       "3   West Flanders, Flemish Region, Belgium               West Flanders   \n",
       "4      Mecklenburg-West Pomerania, Germany  Mecklenburg-West Pomerania   \n",
       "5                         Hamburg, Germany                     Hamburg   \n",
       "11              Przemyśl Metropolitan Area                    Przemyśl   \n",
       "\n",
       "    country workplaces                           company_name  \\\n",
       "2    Sweden     Remote  TELUS International AI Data Solutions   \n",
       "3   Belgium     Remote                    TELUS International   \n",
       "4   Germany     Remote  TELUS International AI Data Solutions   \n",
       "5   Germany     Remote  TELUS International AI Data Solutions   \n",
       "11   Poland     Remote  TELUS International AI Data Solutions   \n",
       "\n",
       "                                          job_insight number_staff  \\\n",
       "2   10,001+ employees · IT Services and IT Consulting      10,001+   \n",
       "3   10,001+ employees · IT Services and IT Consulting      10,001+   \n",
       "4   10,001+ employees · IT Services and IT Consulting      10,001+   \n",
       "5   10,001+ employees · IT Services and IT Consulting      10,001+   \n",
       "11  10,001+ employees · IT Services and IT Consulting      10,001+   \n",
       "\n",
       "                            field         time                date  \\\n",
       "2   IT Services and IT Consulting   6 days ago 2022-09-01 17:00:00   \n",
       "3   IT Services and IT Consulting   6 days ago 2022-09-01 17:00:00   \n",
       "4   IT Services and IT Consulting  8 hours ago 2022-09-07 09:00:00   \n",
       "5   IT Services and IT Consulting  8 hours ago 2022-09-07 09:00:00   \n",
       "11  IT Services and IT Consulting  8 hours ago 2022-09-07 09:00:00   \n",
       "\n",
       "                                          description skills  \\\n",
       "2   TELUS International AI-Data Solutions partners...    NaN   \n",
       "3   TELUS International AI-Data Solutions partners...    NaN   \n",
       "4   TELUS International AI-Data Solutions partners...    NaN   \n",
       "5   TELUS International AI-Data Solutions partners...    NaN   \n",
       "11  TELUS International AI-Data Solutions partners...    NaN   \n",
       "\n",
       "                 titles  \n",
       "2   Online Data Analyst  \n",
       "3   Online Data Analyst  \n",
       "4          Data Analyst  \n",
       "5          Data Analyst  \n",
       "11         Data Analyst  "
      ]
     },
     "execution_count": 71,
     "metadata": {},
     "output_type": "execute_result"
    }
   ],
   "source": [
    "df.head()"
   ]
  },
  {
   "cell_type": "code",
   "execution_count": 72,
   "id": "2dccb78b",
   "metadata": {},
   "outputs": [],
   "source": [
    "df[['candidats', 'title', 'city', 'country', 'workplaces', 'company_name', 'number_staff', 'field', 'skills', 'date', 'link']].to_csv('ready_ready.csv', index = False)"
   ]
  }
 ],
 "metadata": {
  "ExecuteTimeLog": [
   {
    "duration": 1467,
    "start_time": "2022-09-14T09:28:12.173Z"
   },
   {
    "duration": 162,
    "start_time": "2022-09-14T10:13:06.022Z"
   },
   {
    "duration": 128,
    "start_time": "2022-09-14T10:13:38.126Z"
   },
   {
    "duration": 12,
    "start_time": "2022-09-14T10:14:51.527Z"
   },
   {
    "duration": 122,
    "start_time": "2022-09-14T10:15:18.617Z"
   },
   {
    "duration": 73,
    "start_time": "2022-09-14T10:19:10.807Z"
   },
   {
    "duration": 507,
    "start_time": "2022-09-14T10:23:51.496Z"
   },
   {
    "duration": 6,
    "start_time": "2022-09-14T10:24:08.211Z"
   },
   {
    "duration": 8,
    "start_time": "2022-09-14T10:24:43.742Z"
   },
   {
    "duration": 13,
    "start_time": "2022-09-14T11:10:23.401Z"
   },
   {
    "duration": 1274,
    "start_time": "2022-09-14T11:10:40.549Z"
   },
   {
    "duration": 589,
    "start_time": "2022-09-14T11:10:41.825Z"
   },
   {
    "duration": 15,
    "start_time": "2022-09-14T11:10:42.416Z"
   },
   {
    "duration": 29,
    "start_time": "2022-09-14T11:10:42.433Z"
   },
   {
    "duration": 19,
    "start_time": "2022-09-14T11:10:42.464Z"
   },
   {
    "duration": 4,
    "start_time": "2022-09-14T11:18:05.635Z"
   },
   {
    "duration": 4,
    "start_time": "2022-09-14T11:18:45.140Z"
   },
   {
    "duration": 4,
    "start_time": "2022-09-14T11:19:14.724Z"
   },
   {
    "duration": 5000,
    "start_time": "2022-09-14T11:21:47.025Z"
   },
   {
    "duration": 11,
    "start_time": "2022-09-14T11:22:19.319Z"
   },
   {
    "duration": 3,
    "start_time": "2022-09-14T11:34:15.775Z"
   },
   {
    "duration": 4921,
    "start_time": "2022-09-14T11:34:29.223Z"
   },
   {
    "duration": 5098,
    "start_time": "2022-09-14T11:35:18.280Z"
   },
   {
    "duration": 9,
    "start_time": "2022-09-14T11:35:35.060Z"
   },
   {
    "duration": 1347,
    "start_time": "2022-09-16T15:53:53.690Z"
   },
   {
    "duration": 525,
    "start_time": "2022-09-16T15:53:55.039Z"
   },
   {
    "duration": 13,
    "start_time": "2022-09-16T15:53:55.565Z"
   },
   {
    "duration": 5,
    "start_time": "2022-09-16T15:53:55.579Z"
   },
   {
    "duration": 10,
    "start_time": "2022-09-16T15:53:55.586Z"
   },
   {
    "duration": 3,
    "start_time": "2022-09-16T15:53:55.598Z"
   },
   {
    "duration": 21,
    "start_time": "2022-09-16T15:53:55.602Z"
   },
   {
    "duration": 6,
    "start_time": "2022-09-16T15:53:55.624Z"
   },
   {
    "duration": 4815,
    "start_time": "2022-09-16T15:53:55.632Z"
   },
   {
    "duration": 10,
    "start_time": "2022-09-16T15:54:00.449Z"
   },
   {
    "duration": 14,
    "start_time": "2022-09-16T15:54:00.461Z"
   },
   {
    "duration": 4788,
    "start_time": "2022-09-16T15:54:00.476Z"
   },
   {
    "duration": 11,
    "start_time": "2022-09-16T15:54:05.266Z"
   },
   {
    "duration": 3,
    "start_time": "2022-09-16T16:02:28.102Z"
   },
   {
    "duration": 1193,
    "start_time": "2022-09-16T16:02:35.830Z"
   },
   {
    "duration": 621,
    "start_time": "2022-09-16T16:02:37.025Z"
   },
   {
    "duration": 12,
    "start_time": "2022-09-16T16:02:37.648Z"
   },
   {
    "duration": 2,
    "start_time": "2022-09-16T16:02:37.662Z"
   },
   {
    "duration": 106,
    "start_time": "2022-09-16T16:02:37.666Z"
   },
   {
    "duration": 0,
    "start_time": "2022-09-16T16:02:37.773Z"
   },
   {
    "duration": 0,
    "start_time": "2022-09-16T16:02:37.774Z"
   },
   {
    "duration": 0,
    "start_time": "2022-09-16T16:02:37.776Z"
   },
   {
    "duration": 0,
    "start_time": "2022-09-16T16:02:37.776Z"
   },
   {
    "duration": 0,
    "start_time": "2022-09-16T16:02:37.777Z"
   },
   {
    "duration": 0,
    "start_time": "2022-09-16T16:02:37.778Z"
   },
   {
    "duration": 0,
    "start_time": "2022-09-16T16:02:37.779Z"
   },
   {
    "duration": 0,
    "start_time": "2022-09-16T16:02:37.781Z"
   },
   {
    "duration": 1200,
    "start_time": "2022-09-16T16:02:56.848Z"
   },
   {
    "duration": 434,
    "start_time": "2022-09-16T16:02:58.050Z"
   },
   {
    "duration": 14,
    "start_time": "2022-09-16T16:02:58.485Z"
   },
   {
    "duration": 4,
    "start_time": "2022-09-16T16:02:58.501Z"
   },
   {
    "duration": 25,
    "start_time": "2022-09-16T16:02:58.506Z"
   },
   {
    "duration": 3,
    "start_time": "2022-09-16T16:02:58.533Z"
   },
   {
    "duration": 5,
    "start_time": "2022-09-16T16:02:58.538Z"
   },
   {
    "duration": 10,
    "start_time": "2022-09-16T16:02:58.544Z"
   },
   {
    "duration": 4845,
    "start_time": "2022-09-16T16:02:58.556Z"
   },
   {
    "duration": 10,
    "start_time": "2022-09-16T16:03:03.403Z"
   },
   {
    "duration": 13,
    "start_time": "2022-09-16T16:03:03.414Z"
   },
   {
    "duration": 4738,
    "start_time": "2022-09-16T16:03:03.429Z"
   },
   {
    "duration": 9,
    "start_time": "2022-09-16T16:03:08.168Z"
   },
   {
    "duration": 1230,
    "start_time": "2022-09-16T16:42:21.214Z"
   },
   {
    "duration": 455,
    "start_time": "2022-09-16T16:42:22.445Z"
   },
   {
    "duration": 12,
    "start_time": "2022-09-16T16:42:22.902Z"
   },
   {
    "duration": 99,
    "start_time": "2022-09-16T16:42:22.922Z"
   },
   {
    "duration": 23,
    "start_time": "2022-09-16T16:42:23.023Z"
   },
   {
    "duration": 10,
    "start_time": "2022-09-16T16:42:23.047Z"
   },
   {
    "duration": 14,
    "start_time": "2022-09-16T16:42:23.069Z"
   },
   {
    "duration": 10,
    "start_time": "2022-09-16T16:42:23.085Z"
   },
   {
    "duration": 4856,
    "start_time": "2022-09-16T16:42:23.097Z"
   },
   {
    "duration": 11,
    "start_time": "2022-09-16T16:42:27.955Z"
   },
   {
    "duration": 18,
    "start_time": "2022-09-16T16:42:27.967Z"
   },
   {
    "duration": 4829,
    "start_time": "2022-09-16T16:42:27.986Z"
   },
   {
    "duration": 13,
    "start_time": "2022-09-16T16:42:32.816Z"
   },
   {
    "duration": 1090,
    "start_time": "2022-09-16T16:43:12.640Z"
   },
   {
    "duration": 439,
    "start_time": "2022-09-16T16:43:13.732Z"
   },
   {
    "duration": 13,
    "start_time": "2022-09-16T16:43:14.173Z"
   },
   {
    "duration": 5,
    "start_time": "2022-09-16T16:43:14.188Z"
   },
   {
    "duration": 13,
    "start_time": "2022-09-16T16:43:14.195Z"
   },
   {
    "duration": 14,
    "start_time": "2022-09-16T16:43:14.209Z"
   },
   {
    "duration": 7,
    "start_time": "2022-09-16T16:43:14.225Z"
   },
   {
    "duration": 8,
    "start_time": "2022-09-16T16:43:14.234Z"
   },
   {
    "duration": 5068,
    "start_time": "2022-09-16T16:43:14.243Z"
   },
   {
    "duration": 12,
    "start_time": "2022-09-16T16:43:19.313Z"
   },
   {
    "duration": 7,
    "start_time": "2022-09-16T16:43:19.327Z"
   },
   {
    "duration": 4826,
    "start_time": "2022-09-16T16:43:19.335Z"
   },
   {
    "duration": 10,
    "start_time": "2022-09-16T16:43:24.163Z"
   },
   {
    "duration": 11,
    "start_time": "2022-09-16T18:45:40.230Z"
   },
   {
    "duration": 1086,
    "start_time": "2022-09-16T18:45:47.142Z"
   },
   {
    "duration": 390,
    "start_time": "2022-09-16T18:45:48.230Z"
   },
   {
    "duration": 14,
    "start_time": "2022-09-16T18:45:48.622Z"
   },
   {
    "duration": 5,
    "start_time": "2022-09-16T18:45:48.638Z"
   },
   {
    "duration": 9,
    "start_time": "2022-09-16T18:45:48.645Z"
   },
   {
    "duration": 4,
    "start_time": "2022-09-16T18:45:48.655Z"
   },
   {
    "duration": 5,
    "start_time": "2022-09-16T18:45:48.661Z"
   },
   {
    "duration": 5,
    "start_time": "2022-09-16T18:45:48.668Z"
   },
   {
    "duration": 4730,
    "start_time": "2022-09-16T18:45:48.674Z"
   },
   {
    "duration": 16,
    "start_time": "2022-09-16T18:45:53.405Z"
   },
   {
    "duration": 25,
    "start_time": "2022-09-16T18:45:53.423Z"
   },
   {
    "duration": 4780,
    "start_time": "2022-09-16T18:45:53.449Z"
   },
   {
    "duration": 9,
    "start_time": "2022-09-16T18:45:58.230Z"
   },
   {
    "duration": 18,
    "start_time": "2022-09-16T18:45:58.241Z"
   },
   {
    "duration": 10,
    "start_time": "2022-09-16T18:48:19.332Z"
   },
   {
    "duration": 4576,
    "start_time": "2022-09-16T18:53:03.972Z"
   },
   {
    "duration": 1095,
    "start_time": "2022-09-16T18:53:11.530Z"
   },
   {
    "duration": 365,
    "start_time": "2022-09-16T18:53:12.627Z"
   },
   {
    "duration": 13,
    "start_time": "2022-09-16T18:53:12.994Z"
   },
   {
    "duration": 13,
    "start_time": "2022-09-16T18:53:13.009Z"
   },
   {
    "duration": 9,
    "start_time": "2022-09-16T18:53:13.023Z"
   },
   {
    "duration": 4,
    "start_time": "2022-09-16T18:53:13.033Z"
   },
   {
    "duration": 5,
    "start_time": "2022-09-16T18:53:13.038Z"
   },
   {
    "duration": 6,
    "start_time": "2022-09-16T18:53:13.044Z"
   },
   {
    "duration": 4678,
    "start_time": "2022-09-16T18:53:13.051Z"
   },
   {
    "duration": 10,
    "start_time": "2022-09-16T18:53:17.731Z"
   },
   {
    "duration": 13,
    "start_time": "2022-09-16T18:53:17.743Z"
   },
   {
    "duration": 4720,
    "start_time": "2022-09-16T18:53:17.758Z"
   },
   {
    "duration": 22,
    "start_time": "2022-09-16T18:53:22.480Z"
   },
   {
    "duration": 21,
    "start_time": "2022-09-16T18:53:22.504Z"
   },
   {
    "duration": 4589,
    "start_time": "2022-09-16T18:53:22.527Z"
   },
   {
    "duration": 12,
    "start_time": "2022-09-16T18:57:58.725Z"
   },
   {
    "duration": 13,
    "start_time": "2022-09-16T19:07:47.169Z"
   },
   {
    "duration": 3,
    "start_time": "2022-09-16T19:08:22.584Z"
   },
   {
    "duration": 13,
    "start_time": "2022-09-16T19:08:31.410Z"
   },
   {
    "duration": 4738,
    "start_time": "2022-09-16T19:14:34.500Z"
   },
   {
    "duration": 1185,
    "start_time": "2022-09-16T19:28:07.129Z"
   },
   {
    "duration": 371,
    "start_time": "2022-09-16T19:28:08.316Z"
   },
   {
    "duration": 13,
    "start_time": "2022-09-16T19:28:08.688Z"
   },
   {
    "duration": 6,
    "start_time": "2022-09-16T19:28:08.702Z"
   },
   {
    "duration": 17,
    "start_time": "2022-09-16T19:28:08.710Z"
   },
   {
    "duration": 3,
    "start_time": "2022-09-16T19:28:08.729Z"
   },
   {
    "duration": 7,
    "start_time": "2022-09-16T19:28:08.734Z"
   },
   {
    "duration": 7,
    "start_time": "2022-09-16T19:28:08.742Z"
   },
   {
    "duration": 4799,
    "start_time": "2022-09-16T19:28:08.750Z"
   },
   {
    "duration": 11,
    "start_time": "2022-09-16T19:28:13.550Z"
   },
   {
    "duration": 5,
    "start_time": "2022-09-16T19:28:13.562Z"
   },
   {
    "duration": 4779,
    "start_time": "2022-09-16T19:28:13.568Z"
   },
   {
    "duration": 8,
    "start_time": "2022-09-16T19:28:18.349Z"
   },
   {
    "duration": 24,
    "start_time": "2022-09-16T19:28:18.360Z"
   },
   {
    "duration": 4780,
    "start_time": "2022-09-16T19:28:18.386Z"
   },
   {
    "duration": 13,
    "start_time": "2022-09-16T19:28:23.167Z"
   },
   {
    "duration": 8,
    "start_time": "2022-09-16T19:28:23.181Z"
   },
   {
    "duration": 4641,
    "start_time": "2022-09-16T19:28:23.190Z"
   },
   {
    "duration": 3,
    "start_time": "2022-09-16T19:28:27.832Z"
   },
   {
    "duration": 11,
    "start_time": "2022-09-16T19:28:27.836Z"
   },
   {
    "duration": 15,
    "start_time": "2022-09-16T19:32:45.445Z"
   },
   {
    "duration": 1534,
    "start_time": "2022-09-18T08:09:14.221Z"
   },
   {
    "duration": 520,
    "start_time": "2022-09-18T08:09:15.758Z"
   },
   {
    "duration": 15,
    "start_time": "2022-09-18T08:09:16.280Z"
   },
   {
    "duration": 7,
    "start_time": "2022-09-18T08:09:16.297Z"
   },
   {
    "duration": 21,
    "start_time": "2022-09-18T08:09:16.306Z"
   },
   {
    "duration": 5,
    "start_time": "2022-09-18T08:09:16.328Z"
   },
   {
    "duration": 7,
    "start_time": "2022-09-18T08:09:16.335Z"
   },
   {
    "duration": 8,
    "start_time": "2022-09-18T08:09:16.344Z"
   },
   {
    "duration": 5776,
    "start_time": "2022-09-18T08:09:16.354Z"
   },
   {
    "duration": 13,
    "start_time": "2022-09-18T08:09:22.132Z"
   },
   {
    "duration": 8,
    "start_time": "2022-09-18T08:09:22.148Z"
   },
   {
    "duration": 6141,
    "start_time": "2022-09-18T08:09:22.158Z"
   },
   {
    "duration": 11,
    "start_time": "2022-09-18T08:09:28.301Z"
   },
   {
    "duration": 14,
    "start_time": "2022-09-18T08:09:28.321Z"
   },
   {
    "duration": 5758,
    "start_time": "2022-09-18T08:09:28.337Z"
   },
   {
    "duration": 16,
    "start_time": "2022-09-18T08:09:34.097Z"
   },
   {
    "duration": 10,
    "start_time": "2022-09-18T08:09:34.121Z"
   },
   {
    "duration": 5533,
    "start_time": "2022-09-18T08:09:34.132Z"
   },
   {
    "duration": 5,
    "start_time": "2022-09-18T08:09:39.667Z"
   },
   {
    "duration": 24,
    "start_time": "2022-09-18T08:09:39.674Z"
   },
   {
    "duration": 42,
    "start_time": "2022-09-18T08:09:39.699Z"
   },
   {
    "duration": 1640,
    "start_time": "2022-09-18T08:17:42.211Z"
   },
   {
    "duration": 916,
    "start_time": "2022-09-18T08:17:43.856Z"
   },
   {
    "duration": 16,
    "start_time": "2022-09-18T08:17:44.774Z"
   },
   {
    "duration": 11,
    "start_time": "2022-09-18T08:17:44.793Z"
   },
   {
    "duration": 21,
    "start_time": "2022-09-18T08:17:44.805Z"
   },
   {
    "duration": 6,
    "start_time": "2022-09-18T08:17:44.828Z"
   },
   {
    "duration": 10,
    "start_time": "2022-09-18T08:17:44.835Z"
   },
   {
    "duration": 6,
    "start_time": "2022-09-18T08:17:44.847Z"
   },
   {
    "duration": 5597,
    "start_time": "2022-09-18T08:17:44.855Z"
   },
   {
    "duration": 12,
    "start_time": "2022-09-18T08:17:50.455Z"
   },
   {
    "duration": 5,
    "start_time": "2022-09-18T08:17:50.469Z"
   },
   {
    "duration": 5441,
    "start_time": "2022-09-18T08:17:50.475Z"
   },
   {
    "duration": 10,
    "start_time": "2022-09-18T08:17:55.918Z"
   },
   {
    "duration": 17,
    "start_time": "2022-09-18T08:17:55.930Z"
   },
   {
    "duration": 5584,
    "start_time": "2022-09-18T08:17:55.949Z"
   },
   {
    "duration": 14,
    "start_time": "2022-09-18T08:18:01.535Z"
   },
   {
    "duration": 17,
    "start_time": "2022-09-18T08:18:01.552Z"
   },
   {
    "duration": 5529,
    "start_time": "2022-09-18T08:18:01.570Z"
   },
   {
    "duration": 4,
    "start_time": "2022-09-18T08:18:07.100Z"
   },
   {
    "duration": 15,
    "start_time": "2022-09-18T08:18:07.106Z"
   },
   {
    "duration": 29,
    "start_time": "2022-09-18T08:18:07.123Z"
   },
   {
    "duration": 133,
    "start_time": "2022-09-18T08:18:07.154Z"
   },
   {
    "duration": 1246,
    "start_time": "2022-09-18T08:58:36.320Z"
   },
   {
    "duration": 482,
    "start_time": "2022-09-18T08:58:37.567Z"
   },
   {
    "duration": 15,
    "start_time": "2022-09-18T08:58:38.051Z"
   },
   {
    "duration": 5,
    "start_time": "2022-09-18T08:58:38.067Z"
   },
   {
    "duration": 13,
    "start_time": "2022-09-18T08:58:38.074Z"
   },
   {
    "duration": 4,
    "start_time": "2022-09-18T08:58:38.089Z"
   },
   {
    "duration": 4,
    "start_time": "2022-09-18T08:58:38.121Z"
   },
   {
    "duration": 7,
    "start_time": "2022-09-18T08:58:38.127Z"
   },
   {
    "duration": 5719,
    "start_time": "2022-09-18T08:58:38.136Z"
   },
   {
    "duration": 12,
    "start_time": "2022-09-18T08:58:43.856Z"
   },
   {
    "duration": 5,
    "start_time": "2022-09-18T08:58:43.870Z"
   },
   {
    "duration": 5597,
    "start_time": "2022-09-18T08:58:43.877Z"
   },
   {
    "duration": 10,
    "start_time": "2022-09-18T08:58:49.476Z"
   },
   {
    "duration": 14,
    "start_time": "2022-09-18T08:58:49.488Z"
   },
   {
    "duration": 5518,
    "start_time": "2022-09-18T08:58:49.504Z"
   },
   {
    "duration": 14,
    "start_time": "2022-09-18T08:58:55.024Z"
   },
   {
    "duration": 8,
    "start_time": "2022-09-18T08:58:55.040Z"
   },
   {
    "duration": 5467,
    "start_time": "2022-09-18T08:58:55.050Z"
   },
   {
    "duration": 4,
    "start_time": "2022-09-18T08:59:00.521Z"
   },
   {
    "duration": 20,
    "start_time": "2022-09-18T08:59:00.526Z"
   },
   {
    "duration": 56,
    "start_time": "2022-09-18T08:59:00.548Z"
   },
   {
    "duration": 72,
    "start_time": "2022-09-18T08:59:00.606Z"
   },
   {
    "duration": 0,
    "start_time": "2022-09-18T08:59:00.680Z"
   },
   {
    "duration": 1273,
    "start_time": "2022-09-18T08:59:10.928Z"
   },
   {
    "duration": 529,
    "start_time": "2022-09-18T08:59:12.203Z"
   },
   {
    "duration": 14,
    "start_time": "2022-09-18T08:59:12.734Z"
   },
   {
    "duration": 8,
    "start_time": "2022-09-18T08:59:12.749Z"
   },
   {
    "duration": 13,
    "start_time": "2022-09-18T08:59:12.760Z"
   },
   {
    "duration": 14,
    "start_time": "2022-09-18T08:59:12.775Z"
   },
   {
    "duration": 8,
    "start_time": "2022-09-18T08:59:12.791Z"
   },
   {
    "duration": 8,
    "start_time": "2022-09-18T08:59:12.801Z"
   },
   {
    "duration": 5678,
    "start_time": "2022-09-18T08:59:12.821Z"
   },
   {
    "duration": 13,
    "start_time": "2022-09-18T08:59:18.501Z"
   },
   {
    "duration": 21,
    "start_time": "2022-09-18T08:59:18.521Z"
   },
   {
    "duration": 5600,
    "start_time": "2022-09-18T08:59:18.544Z"
   },
   {
    "duration": 10,
    "start_time": "2022-09-18T08:59:24.146Z"
   },
   {
    "duration": 23,
    "start_time": "2022-09-18T08:59:24.158Z"
   },
   {
    "duration": 5396,
    "start_time": "2022-09-18T08:59:24.182Z"
   },
   {
    "duration": 13,
    "start_time": "2022-09-18T08:59:29.579Z"
   },
   {
    "duration": 9,
    "start_time": "2022-09-18T08:59:29.594Z"
   },
   {
    "duration": 5286,
    "start_time": "2022-09-18T08:59:29.605Z"
   },
   {
    "duration": 4,
    "start_time": "2022-09-18T08:59:34.892Z"
   },
   {
    "duration": 17,
    "start_time": "2022-09-18T08:59:34.897Z"
   },
   {
    "duration": 32,
    "start_time": "2022-09-18T08:59:34.915Z"
   },
   {
    "duration": 15,
    "start_time": "2022-09-18T08:59:34.949Z"
   },
   {
    "duration": 1252,
    "start_time": "2022-09-18T09:05:39.943Z"
   },
   {
    "duration": 312,
    "start_time": "2022-09-18T09:05:41.197Z"
   },
   {
    "duration": 25,
    "start_time": "2022-09-18T09:05:41.511Z"
   },
   {
    "duration": 8,
    "start_time": "2022-09-18T09:05:41.538Z"
   },
   {
    "duration": 17,
    "start_time": "2022-09-18T09:05:41.549Z"
   },
   {
    "duration": 4,
    "start_time": "2022-09-18T09:05:41.568Z"
   },
   {
    "duration": 17,
    "start_time": "2022-09-18T09:05:41.574Z"
   },
   {
    "duration": 8,
    "start_time": "2022-09-18T09:05:41.592Z"
   },
   {
    "duration": 5795,
    "start_time": "2022-09-18T09:05:41.602Z"
   },
   {
    "duration": 12,
    "start_time": "2022-09-18T09:05:47.399Z"
   },
   {
    "duration": 21,
    "start_time": "2022-09-18T09:05:47.413Z"
   },
   {
    "duration": 5828,
    "start_time": "2022-09-18T09:05:47.435Z"
   },
   {
    "duration": 10,
    "start_time": "2022-09-18T09:05:53.265Z"
   },
   {
    "duration": 17,
    "start_time": "2022-09-18T09:05:53.277Z"
   },
   {
    "duration": 5650,
    "start_time": "2022-09-18T09:05:53.295Z"
   },
   {
    "duration": 18,
    "start_time": "2022-09-18T09:05:58.947Z"
   },
   {
    "duration": 10,
    "start_time": "2022-09-18T09:05:58.968Z"
   },
   {
    "duration": 5713,
    "start_time": "2022-09-18T09:05:58.980Z"
   },
   {
    "duration": 4,
    "start_time": "2022-09-18T09:06:04.694Z"
   },
   {
    "duration": 14,
    "start_time": "2022-09-18T09:06:04.700Z"
   },
   {
    "duration": 24,
    "start_time": "2022-09-18T09:06:04.716Z"
   },
   {
    "duration": 34,
    "start_time": "2022-09-18T09:06:04.742Z"
   },
   {
    "duration": 36,
    "start_time": "2022-09-18T09:06:04.777Z"
   },
   {
    "duration": 17,
    "start_time": "2022-09-18T09:06:13.748Z"
   },
   {
    "duration": 4,
    "start_time": "2022-09-18T09:07:06.743Z"
   },
   {
    "duration": 99,
    "start_time": "2022-09-18T09:07:27.447Z"
   },
   {
    "duration": 5,
    "start_time": "2022-09-18T09:07:41.755Z"
   },
   {
    "duration": 31,
    "start_time": "2022-09-18T09:12:19.846Z"
   },
   {
    "duration": 59,
    "start_time": "2022-09-18T09:12:53.328Z"
   },
   {
    "duration": 13,
    "start_time": "2022-09-18T09:13:08.019Z"
   },
   {
    "duration": 115,
    "start_time": "2022-09-18T09:13:14.726Z"
   },
   {
    "duration": 27,
    "start_time": "2022-09-18T09:13:19.167Z"
   },
   {
    "duration": 9,
    "start_time": "2022-09-18T09:16:29.814Z"
   },
   {
    "duration": 10,
    "start_time": "2022-09-18T09:16:37.686Z"
   },
   {
    "duration": 11,
    "start_time": "2022-09-18T09:16:48.491Z"
   },
   {
    "duration": 3,
    "start_time": "2022-09-18T09:21:43.733Z"
   },
   {
    "duration": 3,
    "start_time": "2022-09-18T09:22:15.461Z"
   },
   {
    "duration": 26,
    "start_time": "2022-09-18T09:22:30.241Z"
   },
   {
    "duration": 1287,
    "start_time": "2022-09-18T09:22:44.058Z"
   },
   {
    "duration": 441,
    "start_time": "2022-09-18T09:22:45.348Z"
   },
   {
    "duration": 15,
    "start_time": "2022-09-18T09:22:45.792Z"
   },
   {
    "duration": 153,
    "start_time": "2022-09-18T09:22:45.809Z"
   },
   {
    "duration": 10,
    "start_time": "2022-09-18T09:22:45.965Z"
   },
   {
    "duration": 14,
    "start_time": "2022-09-18T09:22:45.977Z"
   },
   {
    "duration": 10,
    "start_time": "2022-09-18T09:22:45.992Z"
   },
   {
    "duration": 14,
    "start_time": "2022-09-18T09:22:46.004Z"
   },
   {
    "duration": 5947,
    "start_time": "2022-09-18T09:22:46.020Z"
   },
   {
    "duration": 13,
    "start_time": "2022-09-18T09:22:51.969Z"
   },
   {
    "duration": 6,
    "start_time": "2022-09-18T09:22:51.984Z"
   },
   {
    "duration": 5968,
    "start_time": "2022-09-18T09:22:51.992Z"
   },
   {
    "duration": 11,
    "start_time": "2022-09-18T09:22:57.962Z"
   },
   {
    "duration": 21,
    "start_time": "2022-09-18T09:22:57.977Z"
   },
   {
    "duration": 6181,
    "start_time": "2022-09-18T09:22:58.000Z"
   },
   {
    "duration": 15,
    "start_time": "2022-09-18T09:23:04.182Z"
   },
   {
    "duration": 30,
    "start_time": "2022-09-18T09:23:04.198Z"
   },
   {
    "duration": 5749,
    "start_time": "2022-09-18T09:23:04.230Z"
   },
   {
    "duration": 4,
    "start_time": "2022-09-18T09:23:09.981Z"
   },
   {
    "duration": 20,
    "start_time": "2022-09-18T09:23:09.987Z"
   },
   {
    "duration": 37,
    "start_time": "2022-09-18T09:23:10.009Z"
   },
   {
    "duration": 21,
    "start_time": "2022-09-18T09:23:10.047Z"
   },
   {
    "duration": 30,
    "start_time": "2022-09-18T09:23:10.070Z"
   },
   {
    "duration": 84,
    "start_time": "2022-09-18T09:23:10.102Z"
   },
   {
    "duration": 5,
    "start_time": "2022-09-18T09:23:10.188Z"
   },
   {
    "duration": 70,
    "start_time": "2022-09-18T09:23:10.194Z"
   },
   {
    "duration": 4,
    "start_time": "2022-09-18T09:23:10.267Z"
   },
   {
    "duration": 42,
    "start_time": "2022-09-18T09:23:10.272Z"
   },
   {
    "duration": 111,
    "start_time": "2022-09-18T09:25:23.522Z"
   },
   {
    "duration": 12,
    "start_time": "2022-09-18T09:25:40.832Z"
   },
   {
    "duration": 4,
    "start_time": "2022-09-18T09:25:44.878Z"
   },
   {
    "duration": 27,
    "start_time": "2022-09-18T09:25:47.744Z"
   },
   {
    "duration": 4,
    "start_time": "2022-09-18T09:28:27.712Z"
   },
   {
    "duration": 26,
    "start_time": "2022-09-18T09:28:29.984Z"
   },
   {
    "duration": 10,
    "start_time": "2022-09-18T09:29:25.323Z"
   },
   {
    "duration": 74,
    "start_time": "2022-09-18T09:31:19.187Z"
   },
   {
    "duration": 3,
    "start_time": "2022-09-18T09:31:25.442Z"
   },
   {
    "duration": 11,
    "start_time": "2022-09-18T09:31:27.377Z"
   },
   {
    "duration": 53,
    "start_time": "2022-09-18T09:41:06.856Z"
   },
   {
    "duration": 44,
    "start_time": "2022-09-18T09:41:29.940Z"
   },
   {
    "duration": 51,
    "start_time": "2022-09-18T09:41:52.474Z"
   },
   {
    "duration": 59,
    "start_time": "2022-09-18T09:42:02.855Z"
   },
   {
    "duration": 52,
    "start_time": "2022-09-18T09:42:33.955Z"
   },
   {
    "duration": 110,
    "start_time": "2022-09-18T09:45:47.759Z"
   },
   {
    "duration": 70,
    "start_time": "2022-09-18T09:46:17.308Z"
   },
   {
    "duration": 134,
    "start_time": "2022-09-18T09:46:22.341Z"
   },
   {
    "duration": 86,
    "start_time": "2022-09-18T09:46:35.079Z"
   },
   {
    "duration": 11,
    "start_time": "2022-09-18T09:46:59.246Z"
   },
   {
    "duration": 13,
    "start_time": "2022-09-18T09:47:13.601Z"
   },
   {
    "duration": 11,
    "start_time": "2022-09-18T09:47:29.480Z"
   },
   {
    "duration": 12,
    "start_time": "2022-09-18T09:49:44.158Z"
   },
   {
    "duration": 1258,
    "start_time": "2022-09-18T09:56:23.153Z"
   },
   {
    "duration": 504,
    "start_time": "2022-09-18T09:56:24.414Z"
   },
   {
    "duration": 28,
    "start_time": "2022-09-18T09:56:24.920Z"
   },
   {
    "duration": 30,
    "start_time": "2022-09-18T09:56:24.950Z"
   },
   {
    "duration": 19,
    "start_time": "2022-09-18T09:56:24.982Z"
   },
   {
    "duration": 51,
    "start_time": "2022-09-18T09:56:25.003Z"
   },
   {
    "duration": 17,
    "start_time": "2022-09-18T09:56:25.055Z"
   },
   {
    "duration": 32,
    "start_time": "2022-09-18T09:56:25.073Z"
   },
   {
    "duration": 6130,
    "start_time": "2022-09-18T09:56:25.106Z"
   },
   {
    "duration": 12,
    "start_time": "2022-09-18T09:56:31.247Z"
   },
   {
    "duration": 24,
    "start_time": "2022-09-18T09:56:31.261Z"
   },
   {
    "duration": 6122,
    "start_time": "2022-09-18T09:56:31.287Z"
   },
   {
    "duration": 32,
    "start_time": "2022-09-18T09:56:37.410Z"
   },
   {
    "duration": 21,
    "start_time": "2022-09-18T09:56:37.447Z"
   },
   {
    "duration": 6151,
    "start_time": "2022-09-18T09:56:37.470Z"
   },
   {
    "duration": 17,
    "start_time": "2022-09-18T09:56:43.631Z"
   },
   {
    "duration": 21,
    "start_time": "2022-09-18T09:56:43.650Z"
   },
   {
    "duration": 6094,
    "start_time": "2022-09-18T09:56:43.673Z"
   },
   {
    "duration": 4,
    "start_time": "2022-09-18T09:56:49.768Z"
   },
   {
    "duration": 7,
    "start_time": "2022-09-18T09:56:49.774Z"
   },
   {
    "duration": 16,
    "start_time": "2022-09-18T09:56:49.783Z"
   },
   {
    "duration": 10,
    "start_time": "2022-09-18T09:56:49.801Z"
   },
   {
    "duration": 40,
    "start_time": "2022-09-18T09:56:49.828Z"
   },
   {
    "duration": 103,
    "start_time": "2022-09-18T09:56:49.870Z"
   },
   {
    "duration": 6,
    "start_time": "2022-09-18T09:56:49.976Z"
   },
   {
    "duration": 51,
    "start_time": "2022-09-18T09:56:49.984Z"
   },
   {
    "duration": 225,
    "start_time": "2022-09-18T09:56:50.042Z"
   },
   {
    "duration": 0,
    "start_time": "2022-09-18T09:56:50.269Z"
   },
   {
    "duration": 4,
    "start_time": "2022-09-18T09:57:27.646Z"
   },
   {
    "duration": 30,
    "start_time": "2022-09-18T09:57:31.289Z"
   },
   {
    "duration": 2,
    "start_time": "2022-09-18T09:57:38.206Z"
   },
   {
    "duration": 29,
    "start_time": "2022-09-18T09:57:40.536Z"
   },
   {
    "duration": 1313,
    "start_time": "2022-09-18T09:57:51.746Z"
   },
   {
    "duration": 456,
    "start_time": "2022-09-18T09:57:53.061Z"
   },
   {
    "duration": 19,
    "start_time": "2022-09-18T09:57:53.519Z"
   },
   {
    "duration": 17,
    "start_time": "2022-09-18T09:57:53.540Z"
   },
   {
    "duration": 11,
    "start_time": "2022-09-18T09:57:53.560Z"
   },
   {
    "duration": 4,
    "start_time": "2022-09-18T09:57:53.572Z"
   },
   {
    "duration": 8,
    "start_time": "2022-09-18T09:57:53.578Z"
   },
   {
    "duration": 7,
    "start_time": "2022-09-18T09:57:53.587Z"
   },
   {
    "duration": 6266,
    "start_time": "2022-09-18T09:57:53.596Z"
   },
   {
    "duration": 18,
    "start_time": "2022-09-18T09:57:59.869Z"
   },
   {
    "duration": 20,
    "start_time": "2022-09-18T09:57:59.889Z"
   },
   {
    "duration": 6237,
    "start_time": "2022-09-18T09:57:59.911Z"
   },
   {
    "duration": 10,
    "start_time": "2022-09-18T09:58:06.150Z"
   },
   {
    "duration": 15,
    "start_time": "2022-09-18T09:58:06.162Z"
   },
   {
    "duration": 6260,
    "start_time": "2022-09-18T09:58:06.179Z"
   },
   {
    "duration": 16,
    "start_time": "2022-09-18T09:58:12.442Z"
   },
   {
    "duration": 16,
    "start_time": "2022-09-18T09:58:12.460Z"
   },
   {
    "duration": 6001,
    "start_time": "2022-09-18T09:58:12.478Z"
   },
   {
    "duration": 3,
    "start_time": "2022-09-18T09:58:18.481Z"
   },
   {
    "duration": 12,
    "start_time": "2022-09-18T09:58:18.486Z"
   },
   {
    "duration": 32,
    "start_time": "2022-09-18T09:58:18.499Z"
   },
   {
    "duration": 21,
    "start_time": "2022-09-18T09:58:18.533Z"
   },
   {
    "duration": 21,
    "start_time": "2022-09-18T09:58:18.555Z"
   },
   {
    "duration": 115,
    "start_time": "2022-09-18T09:58:18.578Z"
   },
   {
    "duration": 6,
    "start_time": "2022-09-18T09:58:18.694Z"
   },
   {
    "duration": 43,
    "start_time": "2022-09-18T09:58:18.701Z"
   },
   {
    "duration": 3,
    "start_time": "2022-09-18T09:58:18.749Z"
   },
   {
    "duration": 30,
    "start_time": "2022-09-18T09:58:18.754Z"
   },
   {
    "duration": 4,
    "start_time": "2022-09-18T09:58:31.946Z"
   },
   {
    "duration": 26,
    "start_time": "2022-09-18T09:58:35.242Z"
   },
   {
    "duration": 271,
    "start_time": "2022-09-18T10:02:11.033Z"
   },
   {
    "duration": 575,
    "start_time": "2022-09-18T10:02:18.891Z"
   },
   {
    "duration": 4,
    "start_time": "2022-09-18T10:02:37.161Z"
   },
   {
    "duration": 35,
    "start_time": "2022-09-18T10:02:41.203Z"
   },
   {
    "duration": 6,
    "start_time": "2022-09-18T10:03:39.047Z"
   },
   {
    "duration": 28,
    "start_time": "2022-09-18T10:03:41.766Z"
   },
   {
    "duration": 69,
    "start_time": "2022-09-18T10:05:22.942Z"
   },
   {
    "duration": 8,
    "start_time": "2022-09-18T10:05:26.885Z"
   },
   {
    "duration": 37,
    "start_time": "2022-09-18T10:05:30.476Z"
   },
   {
    "duration": 10,
    "start_time": "2022-09-18T10:06:07.730Z"
   },
   {
    "duration": 26,
    "start_time": "2022-09-18T10:06:10.647Z"
   },
   {
    "duration": 19,
    "start_time": "2022-09-18T10:07:40.621Z"
   },
   {
    "duration": 24,
    "start_time": "2022-09-18T10:07:43.081Z"
   },
   {
    "duration": 7,
    "start_time": "2022-09-18T10:08:39.949Z"
   },
   {
    "duration": 8,
    "start_time": "2022-09-18T10:08:54.786Z"
   },
   {
    "duration": 22,
    "start_time": "2022-09-18T10:08:57.381Z"
   },
   {
    "duration": 10,
    "start_time": "2022-09-18T10:10:28.561Z"
   },
   {
    "duration": 22,
    "start_time": "2022-09-18T10:10:30.770Z"
   },
   {
    "duration": 29,
    "start_time": "2022-09-18T10:11:52.220Z"
   },
   {
    "duration": 44,
    "start_time": "2022-09-18T10:11:54.915Z"
   },
   {
    "duration": 16,
    "start_time": "2022-09-18T10:12:14.947Z"
   },
   {
    "duration": 21,
    "start_time": "2022-09-18T10:12:17.180Z"
   },
   {
    "duration": 1448,
    "start_time": "2022-09-18T10:15:37.291Z"
   },
   {
    "duration": 623,
    "start_time": "2022-09-18T10:15:38.747Z"
   },
   {
    "duration": 20,
    "start_time": "2022-09-18T10:15:39.372Z"
   },
   {
    "duration": 6,
    "start_time": "2022-09-18T10:15:39.394Z"
   },
   {
    "duration": 31,
    "start_time": "2022-09-18T10:15:39.402Z"
   },
   {
    "duration": 18,
    "start_time": "2022-09-18T10:15:39.439Z"
   },
   {
    "duration": 35,
    "start_time": "2022-09-18T10:15:39.459Z"
   },
   {
    "duration": 12,
    "start_time": "2022-09-18T10:15:39.496Z"
   },
   {
    "duration": 6487,
    "start_time": "2022-09-18T10:15:39.510Z"
   },
   {
    "duration": 23,
    "start_time": "2022-09-18T10:15:45.999Z"
   },
   {
    "duration": 5,
    "start_time": "2022-09-18T10:15:46.028Z"
   },
   {
    "duration": 6753,
    "start_time": "2022-09-18T10:15:46.036Z"
   },
   {
    "duration": 14,
    "start_time": "2022-09-18T10:15:52.791Z"
   },
   {
    "duration": 31,
    "start_time": "2022-09-18T10:15:52.808Z"
   },
   {
    "duration": 6703,
    "start_time": "2022-09-18T10:15:52.841Z"
   },
   {
    "duration": 14,
    "start_time": "2022-09-18T10:15:59.555Z"
   },
   {
    "duration": 8,
    "start_time": "2022-09-18T10:15:59.572Z"
   },
   {
    "duration": 6325,
    "start_time": "2022-09-18T10:15:59.581Z"
   },
   {
    "duration": 4,
    "start_time": "2022-09-18T10:16:05.907Z"
   },
   {
    "duration": 34,
    "start_time": "2022-09-18T10:16:05.923Z"
   },
   {
    "duration": 18,
    "start_time": "2022-09-18T10:16:05.959Z"
   },
   {
    "duration": 7,
    "start_time": "2022-09-18T10:16:05.979Z"
   },
   {
    "duration": 24,
    "start_time": "2022-09-18T10:16:05.987Z"
   },
   {
    "duration": 154,
    "start_time": "2022-09-18T10:16:06.012Z"
   },
   {
    "duration": 7,
    "start_time": "2022-09-18T10:16:06.168Z"
   },
   {
    "duration": 33,
    "start_time": "2022-09-18T10:16:06.177Z"
   },
   {
    "duration": 21,
    "start_time": "2022-09-18T10:16:06.212Z"
   },
   {
    "duration": 44,
    "start_time": "2022-09-18T10:16:06.237Z"
   },
   {
    "duration": 8,
    "start_time": "2022-09-18T10:20:45.672Z"
   },
   {
    "duration": 18,
    "start_time": "2022-09-18T10:20:51.666Z"
   },
   {
    "duration": 21,
    "start_time": "2022-09-18T10:20:54.272Z"
   },
   {
    "duration": 17,
    "start_time": "2022-09-18T10:23:14.616Z"
   },
   {
    "duration": 25,
    "start_time": "2022-09-18T10:23:17.280Z"
   },
   {
    "duration": 25,
    "start_time": "2022-09-18T10:24:11.863Z"
   },
   {
    "duration": 16,
    "start_time": "2022-09-18T10:24:14.479Z"
   },
   {
    "duration": 24,
    "start_time": "2022-09-18T10:24:53.672Z"
   },
   {
    "duration": 17,
    "start_time": "2022-09-18T10:24:56.482Z"
   },
   {
    "duration": 39,
    "start_time": "2022-09-18T10:26:24.812Z"
   },
   {
    "duration": 23,
    "start_time": "2022-09-18T10:26:27.046Z"
   },
   {
    "duration": 22,
    "start_time": "2022-09-18T10:27:42.471Z"
   },
   {
    "duration": 18,
    "start_time": "2022-09-18T10:27:45.079Z"
   },
   {
    "duration": 23,
    "start_time": "2022-09-18T10:29:22.320Z"
   },
   {
    "duration": 16,
    "start_time": "2022-09-18T10:29:24.974Z"
   },
   {
    "duration": 20,
    "start_time": "2022-09-18T10:30:17.548Z"
   },
   {
    "duration": 30,
    "start_time": "2022-09-18T10:30:19.822Z"
   },
   {
    "duration": 24,
    "start_time": "2022-09-18T10:31:50.054Z"
   },
   {
    "duration": 14,
    "start_time": "2022-09-18T10:31:52.559Z"
   },
   {
    "duration": 31,
    "start_time": "2022-09-18T10:32:18.964Z"
   },
   {
    "duration": 21,
    "start_time": "2022-09-18T10:33:45.111Z"
   },
   {
    "duration": 19,
    "start_time": "2022-09-18T10:33:47.319Z"
   },
   {
    "duration": 28,
    "start_time": "2022-09-18T10:35:16.044Z"
   },
   {
    "duration": 14,
    "start_time": "2022-09-18T10:35:18.339Z"
   },
   {
    "duration": 29,
    "start_time": "2022-09-18T10:36:02.107Z"
   },
   {
    "duration": 21,
    "start_time": "2022-09-18T10:36:06.312Z"
   },
   {
    "duration": 25,
    "start_time": "2022-09-18T10:37:53.943Z"
   },
   {
    "duration": 11,
    "start_time": "2022-09-18T10:37:57.341Z"
   },
   {
    "duration": 131,
    "start_time": "2022-09-18T10:39:13.378Z"
   },
   {
    "duration": 29,
    "start_time": "2022-09-18T10:39:28.046Z"
   },
   {
    "duration": 122,
    "start_time": "2022-09-18T10:39:59.058Z"
   },
   {
    "duration": 6,
    "start_time": "2022-09-18T10:41:40.439Z"
   },
   {
    "duration": 24,
    "start_time": "2022-09-18T10:43:05.609Z"
   },
   {
    "duration": 12,
    "start_time": "2022-09-18T10:43:13.493Z"
   },
   {
    "duration": 5,
    "start_time": "2022-09-18T10:43:30.136Z"
   },
   {
    "duration": 1233,
    "start_time": "2022-09-18T10:54:15.366Z"
   },
   {
    "duration": 578,
    "start_time": "2022-09-18T10:54:16.601Z"
   },
   {
    "duration": 15,
    "start_time": "2022-09-18T10:54:17.181Z"
   },
   {
    "duration": 5,
    "start_time": "2022-09-18T10:54:17.197Z"
   },
   {
    "duration": 25,
    "start_time": "2022-09-18T10:54:17.204Z"
   },
   {
    "duration": 6,
    "start_time": "2022-09-18T10:54:17.232Z"
   },
   {
    "duration": 16,
    "start_time": "2022-09-18T10:54:17.239Z"
   },
   {
    "duration": 5,
    "start_time": "2022-09-18T10:54:17.257Z"
   },
   {
    "duration": 6035,
    "start_time": "2022-09-18T10:54:17.264Z"
   },
   {
    "duration": 12,
    "start_time": "2022-09-18T10:54:23.301Z"
   },
   {
    "duration": 11,
    "start_time": "2022-09-18T10:54:23.325Z"
   },
   {
    "duration": 6080,
    "start_time": "2022-09-18T10:54:23.338Z"
   },
   {
    "duration": 26,
    "start_time": "2022-09-18T10:54:29.419Z"
   },
   {
    "duration": 14,
    "start_time": "2022-09-18T10:54:29.449Z"
   },
   {
    "duration": 6152,
    "start_time": "2022-09-18T10:54:29.464Z"
   },
   {
    "duration": 16,
    "start_time": "2022-09-18T10:54:35.618Z"
   },
   {
    "duration": 47,
    "start_time": "2022-09-18T10:54:35.636Z"
   },
   {
    "duration": 1412,
    "start_time": "2022-09-18T11:01:35.595Z"
   },
   {
    "duration": 408,
    "start_time": "2022-09-18T11:01:37.009Z"
   },
   {
    "duration": 21,
    "start_time": "2022-09-18T11:01:37.419Z"
   },
   {
    "duration": 32,
    "start_time": "2022-09-18T11:01:37.442Z"
   },
   {
    "duration": 15,
    "start_time": "2022-09-18T11:01:37.477Z"
   },
   {
    "duration": 7,
    "start_time": "2022-09-18T11:01:37.494Z"
   },
   {
    "duration": 13,
    "start_time": "2022-09-18T11:01:37.503Z"
   },
   {
    "duration": 51,
    "start_time": "2022-09-18T11:01:37.518Z"
   },
   {
    "duration": 7031,
    "start_time": "2022-09-18T11:01:37.572Z"
   },
   {
    "duration": 23,
    "start_time": "2022-09-18T11:01:44.605Z"
   },
   {
    "duration": 36,
    "start_time": "2022-09-18T11:01:44.633Z"
   },
   {
    "duration": 7494,
    "start_time": "2022-09-18T11:01:44.671Z"
   },
   {
    "duration": 13,
    "start_time": "2022-09-18T11:01:52.166Z"
   },
   {
    "duration": 27,
    "start_time": "2022-09-18T11:01:52.182Z"
   },
   {
    "duration": 6924,
    "start_time": "2022-09-18T11:01:52.211Z"
   },
   {
    "duration": 15,
    "start_time": "2022-09-18T11:01:59.138Z"
   },
   {
    "duration": 34,
    "start_time": "2022-09-18T11:01:59.155Z"
   },
   {
    "duration": 7007,
    "start_time": "2022-09-18T11:01:59.191Z"
   },
   {
    "duration": 4,
    "start_time": "2022-09-18T11:02:06.200Z"
   },
   {
    "duration": 19,
    "start_time": "2022-09-18T11:02:06.206Z"
   },
   {
    "duration": 46,
    "start_time": "2022-09-18T11:02:06.227Z"
   },
   {
    "duration": 25,
    "start_time": "2022-09-18T11:02:06.275Z"
   },
   {
    "duration": 48,
    "start_time": "2022-09-18T11:02:06.302Z"
   },
   {
    "duration": 24,
    "start_time": "2022-09-18T11:02:06.352Z"
   },
   {
    "duration": 35,
    "start_time": "2022-09-18T11:02:06.377Z"
   },
   {
    "duration": 45,
    "start_time": "2022-09-18T11:02:06.415Z"
   },
   {
    "duration": 112,
    "start_time": "2022-09-18T11:02:06.463Z"
   },
   {
    "duration": 14,
    "start_time": "2022-09-18T11:02:06.577Z"
   },
   {
    "duration": 11,
    "start_time": "2022-09-18T11:02:06.593Z"
   },
   {
    "duration": 33,
    "start_time": "2022-09-18T11:02:06.607Z"
   },
   {
    "duration": 41,
    "start_time": "2022-09-18T11:02:06.643Z"
   },
   {
    "duration": 10,
    "start_time": "2022-09-18T16:43:56.607Z"
   },
   {
    "duration": 1499,
    "start_time": "2022-09-18T16:44:12.342Z"
   },
   {
    "duration": 433,
    "start_time": "2022-09-18T16:44:13.844Z"
   },
   {
    "duration": 16,
    "start_time": "2022-09-18T16:44:14.278Z"
   },
   {
    "duration": 5,
    "start_time": "2022-09-18T16:44:14.296Z"
   },
   {
    "duration": 39,
    "start_time": "2022-09-18T16:44:14.303Z"
   },
   {
    "duration": 6,
    "start_time": "2022-09-18T16:44:14.344Z"
   },
   {
    "duration": 7,
    "start_time": "2022-09-18T16:44:14.351Z"
   },
   {
    "duration": 7,
    "start_time": "2022-09-18T16:44:14.359Z"
   },
   {
    "duration": 6061,
    "start_time": "2022-09-18T16:44:14.368Z"
   },
   {
    "duration": 15,
    "start_time": "2022-09-18T16:44:20.431Z"
   },
   {
    "duration": 6,
    "start_time": "2022-09-18T16:44:20.447Z"
   },
   {
    "duration": 5978,
    "start_time": "2022-09-18T16:44:20.455Z"
   },
   {
    "duration": 12,
    "start_time": "2022-09-18T16:44:26.435Z"
   },
   {
    "duration": 20,
    "start_time": "2022-09-18T16:44:26.451Z"
   },
   {
    "duration": 6277,
    "start_time": "2022-09-18T16:44:26.473Z"
   },
   {
    "duration": 16,
    "start_time": "2022-09-18T16:44:32.752Z"
   },
   {
    "duration": 9,
    "start_time": "2022-09-18T16:44:32.770Z"
   },
   {
    "duration": 6100,
    "start_time": "2022-09-18T16:44:32.780Z"
   },
   {
    "duration": 5,
    "start_time": "2022-09-18T16:44:38.882Z"
   },
   {
    "duration": 23,
    "start_time": "2022-09-18T16:44:38.890Z"
   },
   {
    "duration": 82,
    "start_time": "2022-09-18T16:44:38.915Z"
   },
   {
    "duration": 51,
    "start_time": "2022-09-18T16:44:38.999Z"
   },
   {
    "duration": 24,
    "start_time": "2022-09-18T16:44:39.053Z"
   },
   {
    "duration": 8,
    "start_time": "2022-09-18T16:44:39.079Z"
   },
   {
    "duration": 47,
    "start_time": "2022-09-18T16:44:39.089Z"
   },
   {
    "duration": 34,
    "start_time": "2022-09-18T16:44:39.138Z"
   },
   {
    "duration": 63,
    "start_time": "2022-09-18T16:44:39.174Z"
   },
   {
    "duration": 13,
    "start_time": "2022-09-18T16:44:39.239Z"
   },
   {
    "duration": 15,
    "start_time": "2022-09-18T16:44:39.255Z"
   },
   {
    "duration": 23,
    "start_time": "2022-09-18T16:44:39.272Z"
   },
   {
    "duration": 11,
    "start_time": "2022-09-18T16:44:39.297Z"
   },
   {
    "duration": 26,
    "start_time": "2022-09-18T16:44:39.311Z"
   },
   {
    "duration": 5990,
    "start_time": "2022-09-18T16:46:58.605Z"
   },
   {
    "duration": 5836,
    "start_time": "2022-09-18T16:47:10.984Z"
   },
   {
    "duration": 6,
    "start_time": "2022-09-18T16:51:29.137Z"
   },
   {
    "duration": 8,
    "start_time": "2022-09-19T13:40:33.880Z"
   },
   {
    "duration": 1685,
    "start_time": "2022-09-19T13:41:10.162Z"
   },
   {
    "duration": 469,
    "start_time": "2022-09-19T13:41:11.849Z"
   },
   {
    "duration": 16,
    "start_time": "2022-09-19T13:41:12.320Z"
   },
   {
    "duration": 5,
    "start_time": "2022-09-19T13:41:12.338Z"
   },
   {
    "duration": 18,
    "start_time": "2022-09-19T13:41:12.345Z"
   },
   {
    "duration": 5,
    "start_time": "2022-09-19T13:41:12.365Z"
   },
   {
    "duration": 5,
    "start_time": "2022-09-19T13:41:12.396Z"
   },
   {
    "duration": 8,
    "start_time": "2022-09-19T13:41:12.403Z"
   },
   {
    "duration": 5657,
    "start_time": "2022-09-19T13:41:12.413Z"
   },
   {
    "duration": 16,
    "start_time": "2022-09-19T13:41:18.073Z"
   },
   {
    "duration": 8,
    "start_time": "2022-09-19T13:41:18.096Z"
   },
   {
    "duration": 5350,
    "start_time": "2022-09-19T13:41:18.106Z"
   },
   {
    "duration": 14,
    "start_time": "2022-09-19T13:41:23.458Z"
   },
   {
    "duration": 29,
    "start_time": "2022-09-19T13:41:23.475Z"
   },
   {
    "duration": 5314,
    "start_time": "2022-09-19T13:41:23.506Z"
   },
   {
    "duration": 16,
    "start_time": "2022-09-19T13:41:28.822Z"
   },
   {
    "duration": 10,
    "start_time": "2022-09-19T13:41:28.840Z"
   },
   {
    "duration": 5457,
    "start_time": "2022-09-19T13:41:28.852Z"
   },
   {
    "duration": 4,
    "start_time": "2022-09-19T13:41:34.310Z"
   },
   {
    "duration": 11,
    "start_time": "2022-09-19T13:41:34.315Z"
   },
   {
    "duration": 19,
    "start_time": "2022-09-19T13:41:34.328Z"
   },
   {
    "duration": 17,
    "start_time": "2022-09-19T13:41:34.348Z"
   },
   {
    "duration": 28,
    "start_time": "2022-09-19T13:41:34.368Z"
   },
   {
    "duration": 11,
    "start_time": "2022-09-19T13:41:34.399Z"
   },
   {
    "duration": 36,
    "start_time": "2022-09-19T13:41:34.412Z"
   },
   {
    "duration": 51,
    "start_time": "2022-09-19T13:41:34.450Z"
   },
   {
    "duration": 70,
    "start_time": "2022-09-19T13:41:34.503Z"
   },
   {
    "duration": 12,
    "start_time": "2022-09-19T13:41:34.577Z"
   },
   {
    "duration": 16,
    "start_time": "2022-09-19T13:41:34.591Z"
   },
   {
    "duration": 22,
    "start_time": "2022-09-19T13:41:34.609Z"
   },
   {
    "duration": 9,
    "start_time": "2022-09-19T13:41:34.633Z"
   },
   {
    "duration": 5,
    "start_time": "2022-09-19T13:41:34.644Z"
   },
   {
    "duration": 5965,
    "start_time": "2022-09-19T13:41:34.651Z"
   },
   {
    "duration": 6,
    "start_time": "2022-09-19T13:41:40.617Z"
   },
   {
    "duration": 6,
    "start_time": "2022-09-19T13:41:40.624Z"
   },
   {
    "duration": 5954,
    "start_time": "2022-09-19T13:41:40.632Z"
   },
   {
    "duration": 5299,
    "start_time": "2022-09-19T13:46:03.277Z"
   },
   {
    "duration": 3,
    "start_time": "2022-09-19T14:15:58.240Z"
   },
   {
    "duration": 104,
    "start_time": "2022-09-19T14:16:45.560Z"
   },
   {
    "duration": 1252,
    "start_time": "2022-09-19T14:17:13.709Z"
   },
   {
    "duration": 501,
    "start_time": "2022-09-19T14:17:14.963Z"
   },
   {
    "duration": 16,
    "start_time": "2022-09-19T14:17:15.466Z"
   },
   {
    "duration": 16,
    "start_time": "2022-09-19T14:17:15.484Z"
   },
   {
    "duration": 23,
    "start_time": "2022-09-19T14:17:15.503Z"
   },
   {
    "duration": 5,
    "start_time": "2022-09-19T14:17:15.529Z"
   },
   {
    "duration": 6,
    "start_time": "2022-09-19T14:17:15.536Z"
   },
   {
    "duration": 9,
    "start_time": "2022-09-19T14:17:15.544Z"
   },
   {
    "duration": 5774,
    "start_time": "2022-09-19T14:17:15.555Z"
   },
   {
    "duration": 31,
    "start_time": "2022-09-19T14:17:21.332Z"
   },
   {
    "duration": 11,
    "start_time": "2022-09-19T14:17:21.365Z"
   },
   {
    "duration": 5790,
    "start_time": "2022-09-19T14:17:21.378Z"
   },
   {
    "duration": 10,
    "start_time": "2022-09-19T14:17:27.169Z"
   },
   {
    "duration": 20,
    "start_time": "2022-09-19T14:17:27.196Z"
   },
   {
    "duration": 5637,
    "start_time": "2022-09-19T14:17:27.218Z"
   },
   {
    "duration": 21,
    "start_time": "2022-09-19T14:17:32.858Z"
   },
   {
    "duration": 9,
    "start_time": "2022-09-19T14:17:32.895Z"
   },
   {
    "duration": 5719,
    "start_time": "2022-09-19T14:17:32.906Z"
   },
   {
    "duration": 4,
    "start_time": "2022-09-19T14:17:38.627Z"
   },
   {
    "duration": 10,
    "start_time": "2022-09-19T14:17:38.632Z"
   },
   {
    "duration": 19,
    "start_time": "2022-09-19T14:17:38.644Z"
   },
   {
    "duration": 4,
    "start_time": "2022-09-19T14:17:38.666Z"
   },
   {
    "duration": 31,
    "start_time": "2022-09-19T14:17:38.696Z"
   },
   {
    "duration": 5,
    "start_time": "2022-09-19T14:17:38.728Z"
   },
   {
    "duration": 36,
    "start_time": "2022-09-19T14:17:38.735Z"
   },
   {
    "duration": 38,
    "start_time": "2022-09-19T14:17:38.773Z"
   },
   {
    "duration": 76,
    "start_time": "2022-09-19T14:17:38.814Z"
   },
   {
    "duration": 15,
    "start_time": "2022-09-19T14:17:38.892Z"
   },
   {
    "duration": 10,
    "start_time": "2022-09-19T14:17:38.909Z"
   },
   {
    "duration": 22,
    "start_time": "2022-09-19T14:17:38.920Z"
   },
   {
    "duration": 10,
    "start_time": "2022-09-19T14:17:38.944Z"
   },
   {
    "duration": 6,
    "start_time": "2022-09-19T14:17:38.956Z"
   },
   {
    "duration": 5891,
    "start_time": "2022-09-19T14:17:38.963Z"
   },
   {
    "duration": 7,
    "start_time": "2022-09-19T14:17:44.856Z"
   },
   {
    "duration": 9,
    "start_time": "2022-09-19T14:17:44.864Z"
   },
   {
    "duration": 5771,
    "start_time": "2022-09-19T14:17:44.875Z"
   },
   {
    "duration": 5,
    "start_time": "2022-09-19T14:17:50.648Z"
   },
   {
    "duration": 5785,
    "start_time": "2022-09-19T14:17:50.655Z"
   },
   {
    "duration": 19,
    "start_time": "2022-09-19T14:18:36.299Z"
   },
   {
    "duration": 7,
    "start_time": "2022-09-19T18:53:13.807Z"
   },
   {
    "duration": 1394,
    "start_time": "2022-09-19T18:53:19.812Z"
   },
   {
    "duration": 509,
    "start_time": "2022-09-19T18:53:21.208Z"
   },
   {
    "duration": 12,
    "start_time": "2022-09-19T18:53:21.719Z"
   },
   {
    "duration": 4,
    "start_time": "2022-09-19T18:53:21.733Z"
   },
   {
    "duration": 10,
    "start_time": "2022-09-19T18:53:21.739Z"
   },
   {
    "duration": 3,
    "start_time": "2022-09-19T18:53:21.751Z"
   },
   {
    "duration": 8,
    "start_time": "2022-09-19T18:53:21.755Z"
   },
   {
    "duration": 6,
    "start_time": "2022-09-19T18:53:21.764Z"
   },
   {
    "duration": 4868,
    "start_time": "2022-09-19T18:53:21.771Z"
   },
   {
    "duration": 14,
    "start_time": "2022-09-19T18:53:26.641Z"
   },
   {
    "duration": 14,
    "start_time": "2022-09-19T18:53:26.657Z"
   },
   {
    "duration": 4920,
    "start_time": "2022-09-19T18:53:26.672Z"
   },
   {
    "duration": 9,
    "start_time": "2022-09-19T18:53:31.593Z"
   },
   {
    "duration": 24,
    "start_time": "2022-09-19T18:53:31.604Z"
   },
   {
    "duration": 4716,
    "start_time": "2022-09-19T18:53:31.629Z"
   },
   {
    "duration": 14,
    "start_time": "2022-09-19T18:53:36.346Z"
   },
   {
    "duration": 7,
    "start_time": "2022-09-19T18:53:36.361Z"
   },
   {
    "duration": 4846,
    "start_time": "2022-09-19T18:53:36.370Z"
   },
   {
    "duration": 7,
    "start_time": "2022-09-19T18:53:41.218Z"
   },
   {
    "duration": 11,
    "start_time": "2022-09-19T18:53:41.227Z"
   },
   {
    "duration": 15,
    "start_time": "2022-09-19T18:53:41.239Z"
   },
   {
    "duration": 5,
    "start_time": "2022-09-19T18:53:41.256Z"
   },
   {
    "duration": 17,
    "start_time": "2022-09-19T18:53:41.262Z"
   },
   {
    "duration": 7,
    "start_time": "2022-09-19T18:53:41.281Z"
   },
   {
    "duration": 48,
    "start_time": "2022-09-19T18:53:41.289Z"
   },
   {
    "duration": 22,
    "start_time": "2022-09-19T18:53:41.338Z"
   },
   {
    "duration": 56,
    "start_time": "2022-09-19T18:53:41.361Z"
   },
   {
    "duration": 10,
    "start_time": "2022-09-19T18:53:41.418Z"
   },
   {
    "duration": 6,
    "start_time": "2022-09-19T18:53:41.430Z"
   },
   {
    "duration": 27,
    "start_time": "2022-09-19T18:53:41.438Z"
   },
   {
    "duration": 13,
    "start_time": "2022-09-19T18:53:41.467Z"
   },
   {
    "duration": 6,
    "start_time": "2022-09-19T18:53:41.482Z"
   },
   {
    "duration": 4804,
    "start_time": "2022-09-19T18:53:41.490Z"
   },
   {
    "duration": 4,
    "start_time": "2022-09-19T18:53:46.296Z"
   },
   {
    "duration": 11,
    "start_time": "2022-09-19T18:53:46.301Z"
   },
   {
    "duration": 4789,
    "start_time": "2022-09-19T18:53:46.313Z"
   },
   {
    "duration": 3,
    "start_time": "2022-09-19T18:53:51.103Z"
   },
   {
    "duration": 4745,
    "start_time": "2022-09-19T18:53:51.108Z"
   },
   {
    "duration": 18,
    "start_time": "2022-09-19T18:53:55.854Z"
   },
   {
    "duration": 4,
    "start_time": "2022-09-19T18:53:55.874Z"
   },
   {
    "duration": 3,
    "start_time": "2022-09-19T18:54:21.891Z"
   },
   {
    "duration": 307,
    "start_time": "2022-09-19T18:57:04.437Z"
   },
   {
    "duration": 1455,
    "start_time": "2022-09-19T19:00:27.319Z"
   },
   {
    "duration": 409,
    "start_time": "2022-09-19T19:00:28.776Z"
   },
   {
    "duration": 13,
    "start_time": "2022-09-19T19:00:29.187Z"
   },
   {
    "duration": 4,
    "start_time": "2022-09-19T19:00:29.202Z"
   },
   {
    "duration": 12,
    "start_time": "2022-09-19T19:00:29.223Z"
   },
   {
    "duration": 11,
    "start_time": "2022-09-19T19:00:29.237Z"
   },
   {
    "duration": 8,
    "start_time": "2022-09-19T19:00:29.250Z"
   },
   {
    "duration": 8,
    "start_time": "2022-09-19T19:00:29.259Z"
   },
   {
    "duration": 4807,
    "start_time": "2022-09-19T19:00:29.268Z"
   },
   {
    "duration": 10,
    "start_time": "2022-09-19T19:00:34.076Z"
   },
   {
    "duration": 7,
    "start_time": "2022-09-19T19:00:34.087Z"
   },
   {
    "duration": 4810,
    "start_time": "2022-09-19T19:00:34.096Z"
   },
   {
    "duration": 15,
    "start_time": "2022-09-19T19:00:38.908Z"
   },
   {
    "duration": 26,
    "start_time": "2022-09-19T19:00:38.930Z"
   },
   {
    "duration": 4588,
    "start_time": "2022-09-19T19:00:38.958Z"
   },
   {
    "duration": 13,
    "start_time": "2022-09-19T19:00:43.547Z"
   },
   {
    "duration": 15,
    "start_time": "2022-09-19T19:00:43.562Z"
   },
   {
    "duration": 4708,
    "start_time": "2022-09-19T19:00:43.579Z"
   },
   {
    "duration": 3,
    "start_time": "2022-09-19T19:00:48.289Z"
   },
   {
    "duration": 7,
    "start_time": "2022-09-19T19:00:48.293Z"
   },
   {
    "duration": 22,
    "start_time": "2022-09-19T19:00:48.301Z"
   },
   {
    "duration": 4,
    "start_time": "2022-09-19T19:00:48.324Z"
   },
   {
    "duration": 16,
    "start_time": "2022-09-19T19:00:48.330Z"
   },
   {
    "duration": 7,
    "start_time": "2022-09-19T19:00:48.348Z"
   },
   {
    "duration": 33,
    "start_time": "2022-09-19T19:00:48.356Z"
   },
   {
    "duration": 38,
    "start_time": "2022-09-19T19:00:48.391Z"
   },
   {
    "duration": 623,
    "start_time": "2022-09-19T19:00:48.431Z"
   },
   {
    "duration": 12,
    "start_time": "2022-09-19T19:00:49.056Z"
   },
   {
    "duration": 16,
    "start_time": "2022-09-19T19:00:49.069Z"
   },
   {
    "duration": 24,
    "start_time": "2022-09-19T19:00:49.087Z"
   },
   {
    "duration": 7,
    "start_time": "2022-09-19T19:00:49.113Z"
   },
   {
    "duration": 5,
    "start_time": "2022-09-19T19:00:49.121Z"
   },
   {
    "duration": 4678,
    "start_time": "2022-09-19T19:00:49.128Z"
   },
   {
    "duration": 4,
    "start_time": "2022-09-19T19:00:53.807Z"
   },
   {
    "duration": 3,
    "start_time": "2022-09-19T19:00:53.822Z"
   },
   {
    "duration": 4697,
    "start_time": "2022-09-19T19:00:53.826Z"
   },
   {
    "duration": 3,
    "start_time": "2022-09-19T19:00:58.524Z"
   },
   {
    "duration": 4903,
    "start_time": "2022-09-19T19:00:58.528Z"
   },
   {
    "duration": 18,
    "start_time": "2022-09-19T19:01:03.433Z"
   },
   {
    "duration": 4,
    "start_time": "2022-09-19T19:01:03.452Z"
   },
   {
    "duration": 673,
    "start_time": "2022-09-19T19:01:03.459Z"
   },
   {
    "duration": 3,
    "start_time": "2022-09-19T19:05:15.669Z"
   },
   {
    "duration": 467,
    "start_time": "2022-09-19T19:05:18.428Z"
   },
   {
    "duration": 3,
    "start_time": "2022-09-19T19:09:16.734Z"
   },
   {
    "duration": 2768,
    "start_time": "2022-09-19T19:09:16.739Z"
   },
   {
    "duration": 3,
    "start_time": "2022-09-19T19:13:31.229Z"
   },
   {
    "duration": 276,
    "start_time": "2022-09-19T19:13:33.639Z"
   },
   {
    "duration": 3,
    "start_time": "2022-09-19T19:14:34.009Z"
   },
   {
    "duration": 225,
    "start_time": "2022-09-19T19:14:36.188Z"
   },
   {
    "duration": 29,
    "start_time": "2022-09-19T19:20:38.589Z"
   },
   {
    "duration": 22,
    "start_time": "2022-09-19T19:22:08.045Z"
   },
   {
    "duration": 5,
    "start_time": "2022-09-19T19:23:32.454Z"
   },
   {
    "duration": 23,
    "start_time": "2022-09-19T19:25:40.435Z"
   },
   {
    "duration": 5,
    "start_time": "2022-09-19T19:25:49.984Z"
   },
   {
    "duration": 23,
    "start_time": "2022-09-19T19:25:59.294Z"
   },
   {
    "duration": 4,
    "start_time": "2022-09-19T19:26:03.640Z"
   },
   {
    "duration": 83,
    "start_time": "2022-09-20T10:14:29.360Z"
   },
   {
    "duration": 1529,
    "start_time": "2022-09-20T10:14:36.936Z"
   },
   {
    "duration": 580,
    "start_time": "2022-09-20T10:14:38.467Z"
   },
   {
    "duration": 14,
    "start_time": "2022-09-20T10:14:39.048Z"
   },
   {
    "duration": 21,
    "start_time": "2022-09-20T10:14:39.064Z"
   },
   {
    "duration": 19,
    "start_time": "2022-09-20T10:14:39.087Z"
   },
   {
    "duration": 45,
    "start_time": "2022-09-20T10:14:39.108Z"
   },
   {
    "duration": 34,
    "start_time": "2022-09-20T10:14:39.155Z"
   },
   {
    "duration": 71,
    "start_time": "2022-09-20T10:14:39.191Z"
   },
   {
    "duration": 5690,
    "start_time": "2022-09-20T10:14:39.263Z"
   },
   {
    "duration": 10,
    "start_time": "2022-09-20T10:14:44.955Z"
   },
   {
    "duration": 5,
    "start_time": "2022-09-20T10:14:44.967Z"
   },
   {
    "duration": 5665,
    "start_time": "2022-09-20T10:14:44.973Z"
   },
   {
    "duration": 10,
    "start_time": "2022-09-20T10:14:50.640Z"
   },
   {
    "duration": 19,
    "start_time": "2022-09-20T10:14:50.653Z"
   },
   {
    "duration": 5722,
    "start_time": "2022-09-20T10:14:50.673Z"
   },
   {
    "duration": 46,
    "start_time": "2022-09-20T10:14:56.396Z"
   },
   {
    "duration": 4,
    "start_time": "2022-09-20T10:14:56.443Z"
   },
   {
    "duration": 5515,
    "start_time": "2022-09-20T10:14:56.449Z"
   },
   {
    "duration": 4,
    "start_time": "2022-09-20T10:15:01.965Z"
   },
   {
    "duration": 90,
    "start_time": "2022-09-20T10:15:01.971Z"
   },
   {
    "duration": 25,
    "start_time": "2022-09-20T10:15:02.063Z"
   },
   {
    "duration": 7,
    "start_time": "2022-09-20T10:15:02.089Z"
   },
   {
    "duration": 42,
    "start_time": "2022-09-20T10:15:02.097Z"
   },
   {
    "duration": 10,
    "start_time": "2022-09-20T10:15:02.140Z"
   },
   {
    "duration": 27,
    "start_time": "2022-09-20T10:15:02.152Z"
   },
   {
    "duration": 21,
    "start_time": "2022-09-20T10:15:02.181Z"
   },
   {
    "duration": 299,
    "start_time": "2022-09-20T10:15:02.204Z"
   },
   {
    "duration": 29,
    "start_time": "2022-09-20T10:15:02.505Z"
   },
   {
    "duration": 7,
    "start_time": "2022-09-20T10:15:02.536Z"
   },
   {
    "duration": 25,
    "start_time": "2022-09-20T10:15:02.545Z"
   },
   {
    "duration": 10,
    "start_time": "2022-09-20T10:15:02.572Z"
   },
   {
    "duration": 13,
    "start_time": "2022-09-20T10:15:02.583Z"
   },
   {
    "duration": 5610,
    "start_time": "2022-09-20T10:15:02.597Z"
   },
   {
    "duration": 15,
    "start_time": "2022-09-20T10:15:08.209Z"
   },
   {
    "duration": 18,
    "start_time": "2022-09-20T10:15:08.225Z"
   },
   {
    "duration": 5574,
    "start_time": "2022-09-20T10:15:08.245Z"
   },
   {
    "duration": 11,
    "start_time": "2022-09-20T10:15:13.824Z"
   },
   {
    "duration": 5667,
    "start_time": "2022-09-20T10:15:13.836Z"
   },
   {
    "duration": 31,
    "start_time": "2022-09-20T10:15:19.504Z"
   },
   {
    "duration": 63,
    "start_time": "2022-09-20T10:15:19.536Z"
   },
   {
    "duration": 44,
    "start_time": "2022-09-20T10:15:19.602Z"
   },
   {
    "duration": 9,
    "start_time": "2022-09-20T10:15:19.648Z"
   },
   {
    "duration": 6,
    "start_time": "2022-09-20T10:18:52.158Z"
   },
   {
    "duration": 41,
    "start_time": "2022-09-20T10:19:48.298Z"
   },
   {
    "duration": 5,
    "start_time": "2022-09-20T10:19:55.836Z"
   },
   {
    "duration": 5,
    "start_time": "2022-09-20T10:19:57.938Z"
   },
   {
    "duration": 7,
    "start_time": "2022-09-20T10:20:49.578Z"
   },
   {
    "duration": 7,
    "start_time": "2022-09-20T10:21:21.487Z"
   },
   {
    "duration": 15,
    "start_time": "2022-09-20T10:41:16.241Z"
   },
   {
    "duration": 13,
    "start_time": "2022-09-20T10:41:28.493Z"
   },
   {
    "duration": 18,
    "start_time": "2022-09-20T10:41:49.141Z"
   },
   {
    "duration": 1562,
    "start_time": "2022-09-20T10:47:48.500Z"
   },
   {
    "duration": 638,
    "start_time": "2022-09-20T10:47:50.064Z"
   },
   {
    "duration": 55,
    "start_time": "2022-09-20T10:47:50.704Z"
   },
   {
    "duration": 15,
    "start_time": "2022-09-20T10:47:50.761Z"
   },
   {
    "duration": 20,
    "start_time": "2022-09-20T10:47:50.778Z"
   },
   {
    "duration": 68,
    "start_time": "2022-09-20T10:47:50.800Z"
   },
   {
    "duration": 11,
    "start_time": "2022-09-20T10:47:50.869Z"
   },
   {
    "duration": 11,
    "start_time": "2022-09-20T10:47:50.882Z"
   },
   {
    "duration": 7089,
    "start_time": "2022-09-20T10:47:50.895Z"
   },
   {
    "duration": 37,
    "start_time": "2022-09-20T10:47:57.986Z"
   },
   {
    "duration": 58,
    "start_time": "2022-09-20T10:47:58.035Z"
   },
   {
    "duration": 7323,
    "start_time": "2022-09-20T10:47:58.096Z"
   },
   {
    "duration": 35,
    "start_time": "2022-09-20T10:48:05.420Z"
   },
   {
    "duration": 39,
    "start_time": "2022-09-20T10:48:05.464Z"
   },
   {
    "duration": 7139,
    "start_time": "2022-09-20T10:48:05.505Z"
   },
   {
    "duration": 17,
    "start_time": "2022-09-20T10:48:12.658Z"
   },
   {
    "duration": 30,
    "start_time": "2022-09-20T10:48:12.676Z"
   },
   {
    "duration": 7129,
    "start_time": "2022-09-20T10:48:12.708Z"
   },
   {
    "duration": 5,
    "start_time": "2022-09-20T10:48:19.839Z"
   },
   {
    "duration": 31,
    "start_time": "2022-09-20T10:48:19.847Z"
   },
   {
    "duration": 35,
    "start_time": "2022-09-20T10:48:19.880Z"
   },
   {
    "duration": 40,
    "start_time": "2022-09-20T10:48:19.927Z"
   },
   {
    "duration": 27,
    "start_time": "2022-09-20T10:48:19.977Z"
   },
   {
    "duration": 69,
    "start_time": "2022-09-20T10:48:20.006Z"
   },
   {
    "duration": 41,
    "start_time": "2022-09-20T10:48:20.077Z"
   },
   {
    "duration": 42,
    "start_time": "2022-09-20T10:48:20.125Z"
   },
   {
    "duration": 107,
    "start_time": "2022-09-20T10:48:20.169Z"
   },
   {
    "duration": 10,
    "start_time": "2022-09-20T10:48:20.279Z"
   },
   {
    "duration": 6,
    "start_time": "2022-09-20T10:48:20.291Z"
   },
   {
    "duration": 54,
    "start_time": "2022-09-20T10:48:20.298Z"
   },
   {
    "duration": 22,
    "start_time": "2022-09-20T10:48:20.356Z"
   },
   {
    "duration": 9,
    "start_time": "2022-09-20T10:48:20.381Z"
   },
   {
    "duration": 7383,
    "start_time": "2022-09-20T10:48:20.392Z"
   },
   {
    "duration": 5,
    "start_time": "2022-09-20T10:48:27.776Z"
   },
   {
    "duration": 8,
    "start_time": "2022-09-20T10:48:27.783Z"
   },
   {
    "duration": 7447,
    "start_time": "2022-09-20T10:48:27.792Z"
   },
   {
    "duration": 7,
    "start_time": "2022-09-20T10:48:35.240Z"
   },
   {
    "duration": 7307,
    "start_time": "2022-09-20T10:48:35.248Z"
   },
   {
    "duration": 15,
    "start_time": "2022-09-20T10:48:42.571Z"
   },
   {
    "duration": 158,
    "start_time": "2022-09-20T10:48:42.588Z"
   },
   {
    "duration": 0,
    "start_time": "2022-09-20T10:48:42.759Z"
   },
   {
    "duration": 0,
    "start_time": "2022-09-20T10:48:42.760Z"
   },
   {
    "duration": 0,
    "start_time": "2022-09-20T10:48:42.761Z"
   },
   {
    "duration": 43,
    "start_time": "2022-09-20T10:52:32.852Z"
   },
   {
    "duration": 107,
    "start_time": "2022-09-20T10:52:42.748Z"
   },
   {
    "duration": 112,
    "start_time": "2022-09-20T10:56:56.368Z"
   },
   {
    "duration": 85,
    "start_time": "2022-09-20T10:57:07.276Z"
   },
   {
    "duration": 113,
    "start_time": "2022-09-20T10:57:18.129Z"
   },
   {
    "duration": 171,
    "start_time": "2022-09-20T10:57:26.110Z"
   },
   {
    "duration": 148,
    "start_time": "2022-09-20T11:01:30.433Z"
   },
   {
    "duration": 1012,
    "start_time": "2022-09-20T11:02:55.986Z"
   },
   {
    "duration": 1384,
    "start_time": "2022-09-20T11:06:08.982Z"
   },
   {
    "duration": 854,
    "start_time": "2022-09-20T11:06:10.378Z"
   },
   {
    "duration": 18,
    "start_time": "2022-09-20T11:06:11.233Z"
   },
   {
    "duration": 44,
    "start_time": "2022-09-20T11:06:11.253Z"
   },
   {
    "duration": 17,
    "start_time": "2022-09-20T11:06:11.298Z"
   },
   {
    "duration": 26,
    "start_time": "2022-09-20T11:06:11.317Z"
   },
   {
    "duration": 35,
    "start_time": "2022-09-20T11:06:11.345Z"
   },
   {
    "duration": 7,
    "start_time": "2022-09-20T11:06:11.383Z"
   },
   {
    "duration": 7000,
    "start_time": "2022-09-20T11:06:11.392Z"
   },
   {
    "duration": 12,
    "start_time": "2022-09-20T11:06:18.395Z"
   },
   {
    "duration": 73,
    "start_time": "2022-09-20T11:06:18.415Z"
   },
   {
    "duration": 7037,
    "start_time": "2022-09-20T11:06:18.490Z"
   },
   {
    "duration": 19,
    "start_time": "2022-09-20T11:06:25.539Z"
   },
   {
    "duration": 60,
    "start_time": "2022-09-20T11:06:25.559Z"
   },
   {
    "duration": 7570,
    "start_time": "2022-09-20T11:06:25.628Z"
   },
   {
    "duration": 33,
    "start_time": "2022-09-20T11:06:33.200Z"
   },
   {
    "duration": 26,
    "start_time": "2022-09-20T11:06:33.235Z"
   },
   {
    "duration": 7262,
    "start_time": "2022-09-20T11:06:33.263Z"
   },
   {
    "duration": 5,
    "start_time": "2022-09-20T11:06:40.527Z"
   },
   {
    "duration": 53,
    "start_time": "2022-09-20T11:06:40.535Z"
   },
   {
    "duration": 32,
    "start_time": "2022-09-20T11:06:40.589Z"
   },
   {
    "duration": 12,
    "start_time": "2022-09-20T11:06:40.622Z"
   },
   {
    "duration": 105,
    "start_time": "2022-09-20T11:06:40.636Z"
   },
   {
    "duration": 49,
    "start_time": "2022-09-20T11:06:40.743Z"
   },
   {
    "duration": 133,
    "start_time": "2022-09-20T11:06:40.794Z"
   },
   {
    "duration": 50,
    "start_time": "2022-09-20T11:06:40.929Z"
   },
   {
    "duration": 145,
    "start_time": "2022-09-20T11:06:40.980Z"
   },
   {
    "duration": 12,
    "start_time": "2022-09-20T11:06:41.130Z"
   },
   {
    "duration": 42,
    "start_time": "2022-09-20T11:06:41.144Z"
   },
   {
    "duration": 17,
    "start_time": "2022-09-20T11:06:41.188Z"
   },
   {
    "duration": 74,
    "start_time": "2022-09-20T11:06:41.207Z"
   },
   {
    "duration": 9,
    "start_time": "2022-09-20T11:06:41.283Z"
   },
   {
    "duration": 7762,
    "start_time": "2022-09-20T11:06:41.293Z"
   },
   {
    "duration": 7,
    "start_time": "2022-09-20T11:06:49.056Z"
   },
   {
    "duration": 31,
    "start_time": "2022-09-20T11:06:49.064Z"
   },
   {
    "duration": 6909,
    "start_time": "2022-09-20T11:06:49.097Z"
   },
   {
    "duration": 3,
    "start_time": "2022-09-20T11:06:56.009Z"
   },
   {
    "duration": 7341,
    "start_time": "2022-09-20T11:06:56.014Z"
   },
   {
    "duration": 29,
    "start_time": "2022-09-20T11:07:03.359Z"
   },
   {
    "duration": 214,
    "start_time": "2022-09-20T11:07:03.390Z"
   },
   {
    "duration": 0,
    "start_time": "2022-09-20T11:07:03.607Z"
   },
   {
    "duration": 0,
    "start_time": "2022-09-20T11:07:03.613Z"
   },
   {
    "duration": 0,
    "start_time": "2022-09-20T11:07:03.614Z"
   },
   {
    "duration": 0,
    "start_time": "2022-09-20T11:07:03.615Z"
   },
   {
    "duration": 7,
    "start_time": "2022-09-20T11:08:50.607Z"
   },
   {
    "duration": 1041,
    "start_time": "2022-09-20T11:08:54.150Z"
   },
   {
    "duration": 19,
    "start_time": "2022-09-20T11:10:25.032Z"
   },
   {
    "duration": 947,
    "start_time": "2022-09-20T11:10:27.558Z"
   },
   {
    "duration": 3,
    "start_time": "2022-09-20T11:10:51.167Z"
   },
   {
    "duration": 545,
    "start_time": "2022-09-20T11:10:53.526Z"
   },
   {
    "duration": 27,
    "start_time": "2022-09-20T11:11:35.574Z"
   },
   {
    "duration": 11,
    "start_time": "2022-09-20T11:11:48.341Z"
   },
   {
    "duration": 3,
    "start_time": "2022-09-20T11:15:07.481Z"
   },
   {
    "duration": 911,
    "start_time": "2022-09-20T11:15:11.171Z"
   },
   {
    "duration": 4,
    "start_time": "2022-09-20T11:17:45.178Z"
   },
   {
    "duration": 1343,
    "start_time": "2022-09-20T11:17:48.649Z"
   },
   {
    "duration": 3,
    "start_time": "2022-09-20T11:17:58.957Z"
   },
   {
    "duration": 7,
    "start_time": "2022-09-20T11:19:46.295Z"
   },
   {
    "duration": 3,
    "start_time": "2022-09-20T11:21:29.478Z"
   },
   {
    "duration": 501,
    "start_time": "2022-09-20T11:21:31.581Z"
   },
   {
    "duration": 689,
    "start_time": "2022-09-20T11:21:49.179Z"
   },
   {
    "duration": 641,
    "start_time": "2022-09-20T11:21:59.795Z"
   },
   {
    "duration": 4,
    "start_time": "2022-09-20T11:25:38.625Z"
   },
   {
    "duration": 440,
    "start_time": "2022-09-20T11:25:41.665Z"
   },
   {
    "duration": 2,
    "start_time": "2022-09-20T11:25:52.525Z"
   },
   {
    "duration": 809,
    "start_time": "2022-09-20T11:25:55.665Z"
   },
   {
    "duration": 3,
    "start_time": "2022-09-20T11:30:22.691Z"
   },
   {
    "duration": 730,
    "start_time": "2022-09-20T11:30:25.876Z"
   },
   {
    "duration": 4,
    "start_time": "2022-09-20T11:30:43.772Z"
   },
   {
    "duration": 761,
    "start_time": "2022-09-20T11:30:47.137Z"
   },
   {
    "duration": 3,
    "start_time": "2022-09-20T11:30:56.349Z"
   },
   {
    "duration": 708,
    "start_time": "2022-09-20T11:30:58.960Z"
   },
   {
    "duration": 4,
    "start_time": "2022-09-20T11:38:27.506Z"
   },
   {
    "duration": 525,
    "start_time": "2022-09-20T11:38:29.776Z"
   },
   {
    "duration": 3,
    "start_time": "2022-09-20T11:41:46.489Z"
   },
   {
    "duration": 615,
    "start_time": "2022-09-20T11:41:50.489Z"
   },
   {
    "duration": 26,
    "start_time": "2022-09-20T11:44:44.009Z"
   },
   {
    "duration": 8,
    "start_time": "2022-09-20T11:44:50.633Z"
   },
   {
    "duration": 7,
    "start_time": "2022-09-20T11:59:37.380Z"
   },
   {
    "duration": 6,
    "start_time": "2022-09-20T12:00:00.081Z"
   },
   {
    "duration": 7,
    "start_time": "2022-09-20T12:00:27.658Z"
   },
   {
    "duration": 7,
    "start_time": "2022-09-20T12:00:40.448Z"
   },
   {
    "duration": 4,
    "start_time": "2022-09-20T12:22:07.053Z"
   },
   {
    "duration": 6,
    "start_time": "2022-09-20T12:22:09.401Z"
   },
   {
    "duration": 1207,
    "start_time": "2022-09-20T12:22:18.776Z"
   },
   {
    "duration": 709,
    "start_time": "2022-09-20T12:22:19.986Z"
   },
   {
    "duration": 27,
    "start_time": "2022-09-20T12:22:20.697Z"
   },
   {
    "duration": 41,
    "start_time": "2022-09-20T12:22:20.725Z"
   },
   {
    "duration": 28,
    "start_time": "2022-09-20T12:22:20.768Z"
   },
   {
    "duration": 57,
    "start_time": "2022-09-20T12:22:20.798Z"
   },
   {
    "duration": 10,
    "start_time": "2022-09-20T12:22:20.857Z"
   },
   {
    "duration": 9,
    "start_time": "2022-09-20T12:22:20.869Z"
   },
   {
    "duration": 5919,
    "start_time": "2022-09-20T12:22:20.880Z"
   },
   {
    "duration": 17,
    "start_time": "2022-09-20T12:22:26.800Z"
   },
   {
    "duration": 6,
    "start_time": "2022-09-20T12:22:26.818Z"
   },
   {
    "duration": 5909,
    "start_time": "2022-09-20T12:22:26.826Z"
   },
   {
    "duration": 15,
    "start_time": "2022-09-20T12:22:32.744Z"
   },
   {
    "duration": 18,
    "start_time": "2022-09-20T12:22:32.762Z"
   },
   {
    "duration": 5710,
    "start_time": "2022-09-20T12:22:32.781Z"
   },
   {
    "duration": 23,
    "start_time": "2022-09-20T12:22:38.492Z"
   },
   {
    "duration": 20,
    "start_time": "2022-09-20T12:22:38.519Z"
   },
   {
    "duration": 5827,
    "start_time": "2022-09-20T12:22:38.545Z"
   },
   {
    "duration": 4,
    "start_time": "2022-09-20T12:22:44.373Z"
   },
   {
    "duration": 16,
    "start_time": "2022-09-20T12:22:44.378Z"
   },
   {
    "duration": 24,
    "start_time": "2022-09-20T12:22:44.397Z"
   },
   {
    "duration": 48,
    "start_time": "2022-09-20T12:22:44.423Z"
   },
   {
    "duration": 74,
    "start_time": "2022-09-20T12:22:44.473Z"
   },
   {
    "duration": 15,
    "start_time": "2022-09-20T12:22:44.551Z"
   },
   {
    "duration": 63,
    "start_time": "2022-09-20T12:22:44.568Z"
   },
   {
    "duration": 27,
    "start_time": "2022-09-20T12:22:44.640Z"
   },
   {
    "duration": 77,
    "start_time": "2022-09-20T12:22:44.669Z"
   },
   {
    "duration": 13,
    "start_time": "2022-09-20T12:22:44.748Z"
   },
   {
    "duration": 12,
    "start_time": "2022-09-20T12:22:44.763Z"
   },
   {
    "duration": 24,
    "start_time": "2022-09-20T12:22:44.776Z"
   },
   {
    "duration": 62,
    "start_time": "2022-09-20T12:22:44.802Z"
   },
   {
    "duration": 6,
    "start_time": "2022-09-20T12:22:44.866Z"
   },
   {
    "duration": 5907,
    "start_time": "2022-09-20T12:22:44.874Z"
   },
   {
    "duration": 4,
    "start_time": "2022-09-20T12:22:50.782Z"
   },
   {
    "duration": 7,
    "start_time": "2022-09-20T12:22:50.788Z"
   },
   {
    "duration": 5943,
    "start_time": "2022-09-20T12:22:50.796Z"
   },
   {
    "duration": 3,
    "start_time": "2022-09-20T12:22:56.741Z"
   },
   {
    "duration": 5797,
    "start_time": "2022-09-20T12:22:56.746Z"
   },
   {
    "duration": 13,
    "start_time": "2022-09-20T12:23:02.544Z"
   },
   {
    "duration": 19,
    "start_time": "2022-09-20T12:23:02.559Z"
   },
   {
    "duration": 23,
    "start_time": "2022-09-20T12:23:02.583Z"
   },
   {
    "duration": 58,
    "start_time": "2022-09-20T12:23:02.607Z"
   },
   {
    "duration": 22,
    "start_time": "2022-09-20T12:23:02.667Z"
   },
   {
    "duration": 11,
    "start_time": "2022-09-20T12:23:02.690Z"
   },
   {
    "duration": 56,
    "start_time": "2022-09-20T12:23:02.703Z"
   },
   {
    "duration": 30,
    "start_time": "2022-09-20T12:23:02.761Z"
   },
   {
    "duration": 189,
    "start_time": "2022-09-20T12:28:22.761Z"
   },
   {
    "duration": 6,
    "start_time": "2022-09-20T12:28:24.952Z"
   },
   {
    "duration": 3,
    "start_time": "2022-09-20T12:29:42.381Z"
   },
   {
    "duration": 6,
    "start_time": "2022-09-20T12:29:44.558Z"
   },
   {
    "duration": 5,
    "start_time": "2022-09-20T12:30:34.500Z"
   },
   {
    "duration": 6,
    "start_time": "2022-09-20T12:30:36.336Z"
   },
   {
    "duration": 153,
    "start_time": "2022-09-20T12:33:45.109Z"
   },
   {
    "duration": 4,
    "start_time": "2022-09-20T12:33:53.069Z"
   },
   {
    "duration": 11,
    "start_time": "2022-09-20T12:33:55.410Z"
   },
   {
    "duration": 5,
    "start_time": "2022-09-20T12:34:08.944Z"
   },
   {
    "duration": 41,
    "start_time": "2022-09-20T12:34:36.099Z"
   },
   {
    "duration": 9,
    "start_time": "2022-09-20T12:36:55.661Z"
   },
   {
    "duration": 13,
    "start_time": "2022-09-20T12:43:15.662Z"
   },
   {
    "duration": 40,
    "start_time": "2022-09-20T12:43:37.903Z"
   },
   {
    "duration": 1316,
    "start_time": "2022-09-20T12:43:54.073Z"
   },
   {
    "duration": 748,
    "start_time": "2022-09-20T12:43:55.391Z"
   },
   {
    "duration": 14,
    "start_time": "2022-09-20T12:43:56.144Z"
   },
   {
    "duration": 6,
    "start_time": "2022-09-20T12:43:56.160Z"
   },
   {
    "duration": 16,
    "start_time": "2022-09-20T12:43:56.168Z"
   },
   {
    "duration": 19,
    "start_time": "2022-09-20T12:43:56.186Z"
   },
   {
    "duration": 29,
    "start_time": "2022-09-20T12:43:56.222Z"
   },
   {
    "duration": 11,
    "start_time": "2022-09-20T12:43:56.253Z"
   },
   {
    "duration": 5921,
    "start_time": "2022-09-20T12:43:56.266Z"
   },
   {
    "duration": 11,
    "start_time": "2022-09-20T12:44:02.188Z"
   },
   {
    "duration": 45,
    "start_time": "2022-09-20T12:44:02.209Z"
   },
   {
    "duration": 5787,
    "start_time": "2022-09-20T12:44:02.255Z"
   },
   {
    "duration": 15,
    "start_time": "2022-09-20T12:44:08.044Z"
   },
   {
    "duration": 21,
    "start_time": "2022-09-20T12:44:08.061Z"
   },
   {
    "duration": 6104,
    "start_time": "2022-09-20T12:44:08.084Z"
   },
   {
    "duration": 12,
    "start_time": "2022-09-20T12:44:14.190Z"
   },
   {
    "duration": 53,
    "start_time": "2022-09-20T12:44:14.209Z"
   },
   {
    "duration": 6396,
    "start_time": "2022-09-20T12:44:14.264Z"
   },
   {
    "duration": 5,
    "start_time": "2022-09-20T12:44:20.663Z"
   },
   {
    "duration": 13,
    "start_time": "2022-09-20T12:44:20.669Z"
   },
   {
    "duration": 49,
    "start_time": "2022-09-20T12:44:20.686Z"
   },
   {
    "duration": 36,
    "start_time": "2022-09-20T12:44:20.736Z"
   },
   {
    "duration": 43,
    "start_time": "2022-09-20T12:44:20.774Z"
   },
   {
    "duration": 32,
    "start_time": "2022-09-20T12:44:20.828Z"
   },
   {
    "duration": 85,
    "start_time": "2022-09-20T12:44:20.862Z"
   },
   {
    "duration": 31,
    "start_time": "2022-09-20T12:44:20.965Z"
   },
   {
    "duration": 141,
    "start_time": "2022-09-20T12:44:20.999Z"
   },
   {
    "duration": 17,
    "start_time": "2022-09-20T12:44:21.142Z"
   },
   {
    "duration": 15,
    "start_time": "2022-09-20T12:44:21.160Z"
   },
   {
    "duration": 21,
    "start_time": "2022-09-20T12:44:21.177Z"
   },
   {
    "duration": 25,
    "start_time": "2022-09-20T12:44:21.200Z"
   },
   {
    "duration": 35,
    "start_time": "2022-09-20T12:44:21.229Z"
   },
   {
    "duration": 6113,
    "start_time": "2022-09-20T12:44:21.265Z"
   },
   {
    "duration": 4,
    "start_time": "2022-09-20T12:44:27.379Z"
   },
   {
    "duration": 5,
    "start_time": "2022-09-20T12:44:27.385Z"
   },
   {
    "duration": 5607,
    "start_time": "2022-09-20T12:44:27.391Z"
   },
   {
    "duration": 3,
    "start_time": "2022-09-20T12:44:33.000Z"
   },
   {
    "duration": 5773,
    "start_time": "2022-09-20T12:44:33.015Z"
   },
   {
    "duration": 12,
    "start_time": "2022-09-20T12:44:38.789Z"
   },
   {
    "duration": 37,
    "start_time": "2022-09-20T12:44:38.819Z"
   },
   {
    "duration": 26,
    "start_time": "2022-09-20T12:44:38.859Z"
   },
   {
    "duration": 8,
    "start_time": "2022-09-20T12:44:38.887Z"
   },
   {
    "duration": 181,
    "start_time": "2022-09-20T12:44:38.897Z"
   },
   {
    "duration": 0,
    "start_time": "2022-09-20T12:44:39.080Z"
   },
   {
    "duration": 0,
    "start_time": "2022-09-20T12:44:39.081Z"
   },
   {
    "duration": 0,
    "start_time": "2022-09-20T12:44:39.082Z"
   },
   {
    "duration": 28,
    "start_time": "2022-09-20T12:46:23.499Z"
   },
   {
    "duration": 29,
    "start_time": "2022-09-20T12:46:32.502Z"
   },
   {
    "duration": 13,
    "start_time": "2022-09-20T12:46:42.843Z"
   },
   {
    "duration": 1204,
    "start_time": "2022-09-20T13:03:16.351Z"
   },
   {
    "duration": 474,
    "start_time": "2022-09-20T13:03:17.557Z"
   },
   {
    "duration": 13,
    "start_time": "2022-09-20T13:03:18.040Z"
   },
   {
    "duration": 6,
    "start_time": "2022-09-20T13:03:18.055Z"
   },
   {
    "duration": 13,
    "start_time": "2022-09-20T13:03:18.062Z"
   },
   {
    "duration": 4,
    "start_time": "2022-09-20T13:03:18.077Z"
   },
   {
    "duration": 4,
    "start_time": "2022-09-20T13:03:18.082Z"
   },
   {
    "duration": 5,
    "start_time": "2022-09-20T13:03:18.087Z"
   },
   {
    "duration": 5508,
    "start_time": "2022-09-20T13:03:18.093Z"
   },
   {
    "duration": 19,
    "start_time": "2022-09-20T13:03:23.604Z"
   },
   {
    "duration": 25,
    "start_time": "2022-09-20T13:03:23.624Z"
   },
   {
    "duration": 5589,
    "start_time": "2022-09-20T13:03:23.650Z"
   },
   {
    "duration": 12,
    "start_time": "2022-09-20T13:03:29.240Z"
   },
   {
    "duration": 19,
    "start_time": "2022-09-20T13:03:29.253Z"
   },
   {
    "duration": 5530,
    "start_time": "2022-09-20T13:03:29.274Z"
   },
   {
    "duration": 35,
    "start_time": "2022-09-20T13:03:34.806Z"
   },
   {
    "duration": 17,
    "start_time": "2022-09-20T13:03:34.843Z"
   },
   {
    "duration": 5421,
    "start_time": "2022-09-20T13:03:34.862Z"
   },
   {
    "duration": 4,
    "start_time": "2022-09-20T13:03:40.284Z"
   },
   {
    "duration": 50,
    "start_time": "2022-09-20T13:03:40.289Z"
   },
   {
    "duration": 22,
    "start_time": "2022-09-20T13:03:40.341Z"
   },
   {
    "duration": 9,
    "start_time": "2022-09-20T13:03:40.364Z"
   },
   {
    "duration": 25,
    "start_time": "2022-09-20T13:03:40.375Z"
   },
   {
    "duration": 5,
    "start_time": "2022-09-20T13:03:40.402Z"
   },
   {
    "duration": 69,
    "start_time": "2022-09-20T13:03:40.408Z"
   },
   {
    "duration": 22,
    "start_time": "2022-09-20T13:03:40.479Z"
   },
   {
    "duration": 79,
    "start_time": "2022-09-20T13:03:40.503Z"
   },
   {
    "duration": 10,
    "start_time": "2022-09-20T13:03:40.585Z"
   },
   {
    "duration": 8,
    "start_time": "2022-09-20T13:03:40.597Z"
   },
   {
    "duration": 46,
    "start_time": "2022-09-20T13:03:40.606Z"
   },
   {
    "duration": 7,
    "start_time": "2022-09-20T13:03:40.653Z"
   },
   {
    "duration": 5,
    "start_time": "2022-09-20T13:03:40.662Z"
   },
   {
    "duration": 5778,
    "start_time": "2022-09-20T13:03:40.669Z"
   },
   {
    "duration": 5,
    "start_time": "2022-09-20T13:03:46.448Z"
   },
   {
    "duration": 11,
    "start_time": "2022-09-20T13:03:46.455Z"
   },
   {
    "duration": 5691,
    "start_time": "2022-09-20T13:03:46.468Z"
   },
   {
    "duration": 3,
    "start_time": "2022-09-20T13:03:52.160Z"
   },
   {
    "duration": 5627,
    "start_time": "2022-09-20T13:03:52.165Z"
   },
   {
    "duration": 10,
    "start_time": "2022-09-20T13:03:57.793Z"
   },
   {
    "duration": 24,
    "start_time": "2022-09-20T13:03:57.811Z"
   },
   {
    "duration": 647,
    "start_time": "2022-09-20T13:03:57.839Z"
   },
   {
    "duration": 0,
    "start_time": "2022-09-20T13:03:58.488Z"
   },
   {
    "duration": 0,
    "start_time": "2022-09-20T13:03:58.489Z"
   },
   {
    "duration": 0,
    "start_time": "2022-09-20T13:03:58.490Z"
   },
   {
    "duration": 0,
    "start_time": "2022-09-20T13:03:58.491Z"
   },
   {
    "duration": 0,
    "start_time": "2022-09-20T13:03:58.492Z"
   },
   {
    "duration": 3,
    "start_time": "2022-09-20T13:04:22.139Z"
   },
   {
    "duration": 680,
    "start_time": "2022-09-20T13:04:25.094Z"
   },
   {
    "duration": 627,
    "start_time": "2022-09-20T13:04:45.301Z"
   },
   {
    "duration": 1236,
    "start_time": "2022-09-20T13:18:49.944Z"
   },
   {
    "duration": 593,
    "start_time": "2022-09-20T13:18:51.182Z"
   },
   {
    "duration": 12,
    "start_time": "2022-09-20T13:18:51.777Z"
   },
   {
    "duration": 15,
    "start_time": "2022-09-20T13:18:51.790Z"
   },
   {
    "duration": 42,
    "start_time": "2022-09-20T13:18:51.806Z"
   },
   {
    "duration": 4,
    "start_time": "2022-09-20T13:18:51.850Z"
   },
   {
    "duration": 16,
    "start_time": "2022-09-20T13:18:51.855Z"
   },
   {
    "duration": 27,
    "start_time": "2022-09-20T13:18:51.872Z"
   },
   {
    "duration": 5528,
    "start_time": "2022-09-20T13:18:51.900Z"
   },
   {
    "duration": 13,
    "start_time": "2022-09-20T13:18:57.435Z"
   },
   {
    "duration": 8,
    "start_time": "2022-09-20T13:18:57.449Z"
   },
   {
    "duration": 5473,
    "start_time": "2022-09-20T13:18:57.458Z"
   },
   {
    "duration": 10,
    "start_time": "2022-09-20T13:19:02.942Z"
   },
   {
    "duration": 22,
    "start_time": "2022-09-20T13:19:02.955Z"
   },
   {
    "duration": 5369,
    "start_time": "2022-09-20T13:19:02.979Z"
   },
   {
    "duration": 12,
    "start_time": "2022-09-20T13:19:08.350Z"
   },
   {
    "duration": 16,
    "start_time": "2022-09-20T13:19:08.364Z"
   },
   {
    "duration": 5420,
    "start_time": "2022-09-20T13:19:08.382Z"
   },
   {
    "duration": 3,
    "start_time": "2022-09-20T13:19:13.804Z"
   },
   {
    "duration": 19,
    "start_time": "2022-09-20T13:19:13.824Z"
   },
   {
    "duration": 15,
    "start_time": "2022-09-20T13:19:13.845Z"
   },
   {
    "duration": 4,
    "start_time": "2022-09-20T13:19:13.862Z"
   },
   {
    "duration": 18,
    "start_time": "2022-09-20T13:19:13.867Z"
   },
   {
    "duration": 6,
    "start_time": "2022-09-20T13:19:13.886Z"
   },
   {
    "duration": 46,
    "start_time": "2022-09-20T13:19:13.893Z"
   },
   {
    "duration": 21,
    "start_time": "2022-09-20T13:19:13.940Z"
   },
   {
    "duration": 74,
    "start_time": "2022-09-20T13:19:13.962Z"
   },
   {
    "duration": 10,
    "start_time": "2022-09-20T13:19:14.038Z"
   },
   {
    "duration": 7,
    "start_time": "2022-09-20T13:19:14.049Z"
   },
   {
    "duration": 21,
    "start_time": "2022-09-20T13:19:14.058Z"
   },
   {
    "duration": 12,
    "start_time": "2022-09-20T13:19:14.080Z"
   },
   {
    "duration": 5,
    "start_time": "2022-09-20T13:19:14.093Z"
   },
   {
    "duration": 5604,
    "start_time": "2022-09-20T13:19:14.099Z"
   },
   {
    "duration": 6,
    "start_time": "2022-09-20T13:19:19.704Z"
   },
   {
    "duration": 36,
    "start_time": "2022-09-20T13:19:19.711Z"
   },
   {
    "duration": 5455,
    "start_time": "2022-09-20T13:19:19.748Z"
   },
   {
    "duration": 5,
    "start_time": "2022-09-20T13:19:25.204Z"
   },
   {
    "duration": 5553,
    "start_time": "2022-09-20T13:19:25.210Z"
   },
   {
    "duration": 15,
    "start_time": "2022-09-20T13:19:30.764Z"
   },
   {
    "duration": 2,
    "start_time": "2022-09-20T13:19:30.781Z"
   },
   {
    "duration": 52,
    "start_time": "2022-09-20T13:19:30.788Z"
   },
   {
    "duration": 129,
    "start_time": "2022-09-20T13:19:30.842Z"
   },
   {
    "duration": 0,
    "start_time": "2022-09-20T13:19:30.973Z"
   },
   {
    "duration": 0,
    "start_time": "2022-09-20T13:19:30.973Z"
   },
   {
    "duration": 0,
    "start_time": "2022-09-20T13:19:30.974Z"
   },
   {
    "duration": 0,
    "start_time": "2022-09-20T13:19:30.976Z"
   },
   {
    "duration": 33,
    "start_time": "2022-09-20T13:20:06.806Z"
   },
   {
    "duration": 12,
    "start_time": "2022-09-20T13:20:11.128Z"
   },
   {
    "duration": 4,
    "start_time": "2022-09-20T13:20:33.176Z"
   },
   {
    "duration": 6,
    "start_time": "2022-09-20T13:20:35.896Z"
   },
   {
    "duration": 9,
    "start_time": "2022-09-20T13:21:49.262Z"
   },
   {
    "duration": 12,
    "start_time": "2022-09-20T13:21:51.607Z"
   },
   {
    "duration": 1112,
    "start_time": "2022-09-20T13:26:17.422Z"
   },
   {
    "duration": 686,
    "start_time": "2022-09-20T13:26:18.537Z"
   },
   {
    "duration": 15,
    "start_time": "2022-09-20T13:26:19.224Z"
   },
   {
    "duration": 4,
    "start_time": "2022-09-20T13:26:19.240Z"
   },
   {
    "duration": 10,
    "start_time": "2022-09-20T13:26:19.246Z"
   },
   {
    "duration": 4,
    "start_time": "2022-09-20T13:26:19.258Z"
   },
   {
    "duration": 6,
    "start_time": "2022-09-20T13:26:19.263Z"
   },
   {
    "duration": 9,
    "start_time": "2022-09-20T13:26:19.271Z"
   },
   {
    "duration": 5197,
    "start_time": "2022-09-20T13:26:19.282Z"
   },
   {
    "duration": 12,
    "start_time": "2022-09-20T13:26:24.481Z"
   },
   {
    "duration": 38,
    "start_time": "2022-09-20T13:26:24.495Z"
   },
   {
    "duration": 5278,
    "start_time": "2022-09-20T13:26:24.536Z"
   },
   {
    "duration": 13,
    "start_time": "2022-09-20T13:26:29.816Z"
   },
   {
    "duration": 15,
    "start_time": "2022-09-20T13:26:29.832Z"
   },
   {
    "duration": 5199,
    "start_time": "2022-09-20T13:26:29.848Z"
   },
   {
    "duration": 17,
    "start_time": "2022-09-20T13:26:35.049Z"
   },
   {
    "duration": 3,
    "start_time": "2022-09-20T13:26:35.068Z"
   },
   {
    "duration": 5311,
    "start_time": "2022-09-20T13:26:35.073Z"
   },
   {
    "duration": 3,
    "start_time": "2022-09-20T13:26:40.386Z"
   },
   {
    "duration": 50,
    "start_time": "2022-09-20T13:26:40.390Z"
   },
   {
    "duration": 25,
    "start_time": "2022-09-20T13:26:40.442Z"
   },
   {
    "duration": 17,
    "start_time": "2022-09-20T13:26:40.469Z"
   },
   {
    "duration": 39,
    "start_time": "2022-09-20T13:26:40.488Z"
   },
   {
    "duration": 30,
    "start_time": "2022-09-20T13:26:40.529Z"
   },
   {
    "duration": 50,
    "start_time": "2022-09-20T13:26:40.561Z"
   },
   {
    "duration": 22,
    "start_time": "2022-09-20T13:26:40.623Z"
   },
   {
    "duration": 84,
    "start_time": "2022-09-20T13:26:40.647Z"
   },
   {
    "duration": 10,
    "start_time": "2022-09-20T13:26:40.732Z"
   },
   {
    "duration": 26,
    "start_time": "2022-09-20T13:26:40.743Z"
   },
   {
    "duration": 45,
    "start_time": "2022-09-20T13:26:40.771Z"
   },
   {
    "duration": 37,
    "start_time": "2022-09-20T13:26:40.817Z"
   },
   {
    "duration": 27,
    "start_time": "2022-09-20T13:26:40.856Z"
   },
   {
    "duration": 5581,
    "start_time": "2022-09-20T13:26:40.885Z"
   },
   {
    "duration": 9,
    "start_time": "2022-09-20T13:26:46.469Z"
   },
   {
    "duration": 5,
    "start_time": "2022-09-20T13:26:46.480Z"
   },
   {
    "duration": 5265,
    "start_time": "2022-09-20T13:26:46.487Z"
   },
   {
    "duration": 3,
    "start_time": "2022-09-20T13:26:51.754Z"
   },
   {
    "duration": 5374,
    "start_time": "2022-09-20T13:26:51.758Z"
   },
   {
    "duration": 12,
    "start_time": "2022-09-20T13:26:57.133Z"
   },
   {
    "duration": 3,
    "start_time": "2022-09-20T13:26:57.147Z"
   },
   {
    "duration": 15,
    "start_time": "2022-09-20T13:26:57.154Z"
   },
   {
    "duration": 18,
    "start_time": "2022-09-20T13:26:57.170Z"
   },
   {
    "duration": 33,
    "start_time": "2022-09-20T13:26:57.189Z"
   },
   {
    "duration": 7,
    "start_time": "2022-09-20T13:26:57.226Z"
   },
   {
    "duration": 9,
    "start_time": "2022-09-20T13:26:57.235Z"
   },
   {
    "duration": 4,
    "start_time": "2022-09-20T13:28:56.866Z"
   },
   {
    "duration": 3,
    "start_time": "2022-09-20T13:30:44.365Z"
   },
   {
    "duration": 382,
    "start_time": "2022-09-20T13:34:06.546Z"
   },
   {
    "duration": 4,
    "start_time": "2022-09-20T13:35:13.644Z"
   },
   {
    "duration": 4,
    "start_time": "2022-09-20T13:35:21.764Z"
   },
   {
    "duration": 7,
    "start_time": "2022-09-20T13:35:52.293Z"
   },
   {
    "duration": 5,
    "start_time": "2022-09-20T13:35:55.079Z"
   },
   {
    "duration": 17,
    "start_time": "2022-09-20T13:36:26.298Z"
   },
   {
    "duration": 7,
    "start_time": "2022-09-20T13:36:31.558Z"
   },
   {
    "duration": 6,
    "start_time": "2022-09-20T13:37:02.392Z"
   },
   {
    "duration": 6,
    "start_time": "2022-09-20T13:38:31.095Z"
   },
   {
    "duration": 6,
    "start_time": "2022-09-20T13:39:07.553Z"
   },
   {
    "duration": 3,
    "start_time": "2022-09-20T14:06:37.739Z"
   },
   {
    "duration": 5124,
    "start_time": "2022-09-20T14:07:37.751Z"
   },
   {
    "duration": 32,
    "start_time": "2022-09-20T14:07:51.455Z"
   },
   {
    "duration": 4,
    "start_time": "2022-09-20T14:18:47.354Z"
   },
   {
    "duration": 1159,
    "start_time": "2022-09-20T14:35:48.858Z"
   },
   {
    "duration": 448,
    "start_time": "2022-09-20T14:35:50.019Z"
   },
   {
    "duration": 13,
    "start_time": "2022-09-20T14:35:50.469Z"
   },
   {
    "duration": 10,
    "start_time": "2022-09-20T14:35:50.484Z"
   },
   {
    "duration": 23,
    "start_time": "2022-09-20T14:35:50.508Z"
   },
   {
    "duration": 5,
    "start_time": "2022-09-20T14:35:50.533Z"
   },
   {
    "duration": 16,
    "start_time": "2022-09-20T14:35:50.539Z"
   },
   {
    "duration": 29,
    "start_time": "2022-09-20T14:35:50.557Z"
   },
   {
    "duration": 5127,
    "start_time": "2022-09-20T14:35:50.588Z"
   },
   {
    "duration": 10,
    "start_time": "2022-09-20T14:35:55.717Z"
   },
   {
    "duration": 29,
    "start_time": "2022-09-20T14:35:55.729Z"
   },
   {
    "duration": 5143,
    "start_time": "2022-09-20T14:35:55.760Z"
   },
   {
    "duration": 14,
    "start_time": "2022-09-20T14:36:00.905Z"
   },
   {
    "duration": 22,
    "start_time": "2022-09-20T14:36:00.923Z"
   },
   {
    "duration": 5104,
    "start_time": "2022-09-20T14:36:00.947Z"
   },
   {
    "duration": 14,
    "start_time": "2022-09-20T14:36:06.052Z"
   },
   {
    "duration": 5,
    "start_time": "2022-09-20T14:36:06.067Z"
   },
   {
    "duration": 5028,
    "start_time": "2022-09-20T14:36:06.074Z"
   },
   {
    "duration": 6,
    "start_time": "2022-09-20T14:36:11.104Z"
   },
   {
    "duration": 9,
    "start_time": "2022-09-20T14:36:11.111Z"
   },
   {
    "duration": 11,
    "start_time": "2022-09-20T14:36:11.122Z"
   },
   {
    "duration": 4,
    "start_time": "2022-09-20T14:36:11.134Z"
   },
   {
    "duration": 21,
    "start_time": "2022-09-20T14:36:11.140Z"
   },
   {
    "duration": 8,
    "start_time": "2022-09-20T14:36:11.163Z"
   },
   {
    "duration": 51,
    "start_time": "2022-09-20T14:36:11.173Z"
   },
   {
    "duration": 33,
    "start_time": "2022-09-20T14:36:11.226Z"
   },
   {
    "duration": 57,
    "start_time": "2022-09-20T14:36:11.261Z"
   },
   {
    "duration": 12,
    "start_time": "2022-09-20T14:36:11.321Z"
   },
   {
    "duration": 11,
    "start_time": "2022-09-20T14:36:11.334Z"
   },
   {
    "duration": 22,
    "start_time": "2022-09-20T14:36:11.346Z"
   },
   {
    "duration": 7,
    "start_time": "2022-09-20T14:36:11.370Z"
   },
   {
    "duration": 14,
    "start_time": "2022-09-20T14:36:11.378Z"
   },
   {
    "duration": 5325,
    "start_time": "2022-09-20T14:36:11.393Z"
   },
   {
    "duration": 4,
    "start_time": "2022-09-20T14:36:16.720Z"
   },
   {
    "duration": 4,
    "start_time": "2022-09-20T14:36:16.726Z"
   },
   {
    "duration": 5055,
    "start_time": "2022-09-20T14:36:16.732Z"
   },
   {
    "duration": 3,
    "start_time": "2022-09-20T14:36:21.788Z"
   },
   {
    "duration": 5194,
    "start_time": "2022-09-20T14:36:21.793Z"
   },
   {
    "duration": 11,
    "start_time": "2022-09-20T14:36:26.988Z"
   },
   {
    "duration": 8,
    "start_time": "2022-09-20T14:36:27.001Z"
   },
   {
    "duration": 15,
    "start_time": "2022-09-20T14:36:27.013Z"
   },
   {
    "duration": 9,
    "start_time": "2022-09-20T14:36:27.029Z"
   },
   {
    "duration": 10,
    "start_time": "2022-09-20T14:36:27.040Z"
   },
   {
    "duration": 11,
    "start_time": "2022-09-20T14:36:27.052Z"
   },
   {
    "duration": 15,
    "start_time": "2022-09-20T14:36:27.065Z"
   },
   {
    "duration": 27,
    "start_time": "2022-09-20T14:36:27.082Z"
   },
   {
    "duration": 10,
    "start_time": "2022-09-20T14:36:27.111Z"
   },
   {
    "duration": 8,
    "start_time": "2022-09-20T14:36:27.123Z"
   },
   {
    "duration": 4,
    "start_time": "2022-09-20T14:36:27.133Z"
   },
   {
    "duration": 7,
    "start_time": "2022-09-20T14:36:27.139Z"
   },
   {
    "duration": 5063,
    "start_time": "2022-09-20T14:36:27.147Z"
   },
   {
    "duration": 4,
    "start_time": "2022-09-20T14:36:32.211Z"
   },
   {
    "duration": 25,
    "start_time": "2022-09-20T14:36:32.217Z"
   },
   {
    "duration": 463,
    "start_time": "2022-09-20T14:36:32.244Z"
   },
   {
    "duration": 3298,
    "start_time": "2022-09-20T14:47:28.202Z"
   },
   {
    "duration": 301,
    "start_time": "2022-09-20T14:49:05.960Z"
   },
   {
    "duration": 1271,
    "start_time": "2022-09-20T14:49:54.251Z"
   },
   {
    "duration": 548,
    "start_time": "2022-09-20T14:49:55.524Z"
   },
   {
    "duration": 15,
    "start_time": "2022-09-20T14:49:56.073Z"
   },
   {
    "duration": 6,
    "start_time": "2022-09-20T14:49:56.090Z"
   },
   {
    "duration": 19,
    "start_time": "2022-09-20T14:49:56.097Z"
   },
   {
    "duration": 6,
    "start_time": "2022-09-20T14:49:56.118Z"
   },
   {
    "duration": 10,
    "start_time": "2022-09-20T14:49:56.126Z"
   },
   {
    "duration": 11,
    "start_time": "2022-09-20T14:49:56.137Z"
   },
   {
    "duration": 5185,
    "start_time": "2022-09-20T14:49:56.150Z"
   },
   {
    "duration": 11,
    "start_time": "2022-09-20T14:50:01.338Z"
   },
   {
    "duration": 36,
    "start_time": "2022-09-20T14:50:01.351Z"
   },
   {
    "duration": 5351,
    "start_time": "2022-09-20T14:50:01.389Z"
   },
   {
    "duration": 10,
    "start_time": "2022-09-20T14:50:06.741Z"
   },
   {
    "duration": 25,
    "start_time": "2022-09-20T14:50:06.752Z"
   },
   {
    "duration": 5027,
    "start_time": "2022-09-20T14:50:06.778Z"
   },
   {
    "duration": 12,
    "start_time": "2022-09-20T14:50:11.807Z"
   },
   {
    "duration": 6,
    "start_time": "2022-09-20T14:50:11.821Z"
   },
   {
    "duration": 5091,
    "start_time": "2022-09-20T14:50:11.828Z"
   },
   {
    "duration": 3,
    "start_time": "2022-09-20T14:50:16.921Z"
   },
   {
    "duration": 7,
    "start_time": "2022-09-20T14:50:16.926Z"
   },
   {
    "duration": 17,
    "start_time": "2022-09-20T14:50:16.935Z"
   },
   {
    "duration": 8,
    "start_time": "2022-09-20T14:50:16.953Z"
   },
   {
    "duration": 18,
    "start_time": "2022-09-20T14:50:16.962Z"
   },
   {
    "duration": 8,
    "start_time": "2022-09-20T14:50:16.981Z"
   },
   {
    "duration": 27,
    "start_time": "2022-09-20T14:50:17.008Z"
   },
   {
    "duration": 24,
    "start_time": "2022-09-20T14:50:17.036Z"
   },
   {
    "duration": 60,
    "start_time": "2022-09-20T14:50:17.062Z"
   },
   {
    "duration": 10,
    "start_time": "2022-09-20T14:50:17.126Z"
   },
   {
    "duration": 8,
    "start_time": "2022-09-20T14:50:17.138Z"
   },
   {
    "duration": 35,
    "start_time": "2022-09-20T14:50:17.147Z"
   },
   {
    "duration": 18,
    "start_time": "2022-09-20T14:50:17.184Z"
   },
   {
    "duration": 6,
    "start_time": "2022-09-20T14:50:17.204Z"
   },
   {
    "duration": 5153,
    "start_time": "2022-09-20T14:50:17.211Z"
   },
   {
    "duration": 5,
    "start_time": "2022-09-20T14:50:22.366Z"
   },
   {
    "duration": 5,
    "start_time": "2022-09-20T14:50:22.373Z"
   },
   {
    "duration": 5228,
    "start_time": "2022-09-20T14:50:22.380Z"
   },
   {
    "duration": 3,
    "start_time": "2022-09-20T14:50:27.610Z"
   },
   {
    "duration": 5191,
    "start_time": "2022-09-20T14:50:27.615Z"
   },
   {
    "duration": 16,
    "start_time": "2022-09-20T14:50:32.809Z"
   },
   {
    "duration": 6,
    "start_time": "2022-09-20T14:50:32.827Z"
   },
   {
    "duration": 17,
    "start_time": "2022-09-20T14:50:32.834Z"
   },
   {
    "duration": 9,
    "start_time": "2022-09-20T14:50:32.852Z"
   },
   {
    "duration": 8,
    "start_time": "2022-09-20T14:50:32.863Z"
   },
   {
    "duration": 11,
    "start_time": "2022-09-20T14:50:32.873Z"
   },
   {
    "duration": 7,
    "start_time": "2022-09-20T14:50:32.909Z"
   },
   {
    "duration": 18,
    "start_time": "2022-09-20T14:50:32.918Z"
   },
   {
    "duration": 9,
    "start_time": "2022-09-20T14:50:32.938Z"
   },
   {
    "duration": 8,
    "start_time": "2022-09-20T14:50:32.948Z"
   },
   {
    "duration": 16,
    "start_time": "2022-09-20T14:50:32.958Z"
   },
   {
    "duration": 6,
    "start_time": "2022-09-20T14:50:32.976Z"
   },
   {
    "duration": 5356,
    "start_time": "2022-09-20T14:50:32.984Z"
   },
   {
    "duration": 5,
    "start_time": "2022-09-20T14:50:38.342Z"
   },
   {
    "duration": 6,
    "start_time": "2022-09-20T14:50:38.348Z"
   },
   {
    "duration": 349,
    "start_time": "2022-09-20T14:50:38.355Z"
   },
   {
    "duration": 1235,
    "start_time": "2022-09-20T14:52:07.384Z"
   },
   {
    "duration": 334,
    "start_time": "2022-09-20T14:52:08.621Z"
   },
   {
    "duration": 15,
    "start_time": "2022-09-20T14:52:08.956Z"
   },
   {
    "duration": 4,
    "start_time": "2022-09-20T14:52:08.973Z"
   },
   {
    "duration": 10,
    "start_time": "2022-09-20T14:52:08.979Z"
   },
   {
    "duration": 20,
    "start_time": "2022-09-20T14:52:08.990Z"
   },
   {
    "duration": 6,
    "start_time": "2022-09-20T14:52:09.012Z"
   },
   {
    "duration": 9,
    "start_time": "2022-09-20T14:52:09.020Z"
   },
   {
    "duration": 5168,
    "start_time": "2022-09-20T14:52:09.030Z"
   },
   {
    "duration": 14,
    "start_time": "2022-09-20T14:52:14.199Z"
   },
   {
    "duration": 3,
    "start_time": "2022-09-20T14:52:14.215Z"
   },
   {
    "duration": 5281,
    "start_time": "2022-09-20T14:52:14.220Z"
   },
   {
    "duration": 14,
    "start_time": "2022-09-20T14:52:19.503Z"
   },
   {
    "duration": 13,
    "start_time": "2022-09-20T14:52:19.521Z"
   },
   {
    "duration": 4922,
    "start_time": "2022-09-20T14:52:19.536Z"
   },
   {
    "duration": 18,
    "start_time": "2022-09-20T14:52:24.460Z"
   },
   {
    "duration": 27,
    "start_time": "2022-09-20T14:52:24.479Z"
   },
   {
    "duration": 5143,
    "start_time": "2022-09-20T14:52:24.508Z"
   },
   {
    "duration": 3,
    "start_time": "2022-09-20T14:52:29.653Z"
   },
   {
    "duration": 14,
    "start_time": "2022-09-20T14:52:29.658Z"
   },
   {
    "duration": 13,
    "start_time": "2022-09-20T14:52:29.674Z"
   },
   {
    "duration": 4,
    "start_time": "2022-09-20T14:52:29.689Z"
   },
   {
    "duration": 26,
    "start_time": "2022-09-20T14:52:29.695Z"
   },
   {
    "duration": 7,
    "start_time": "2022-09-20T14:52:29.723Z"
   },
   {
    "duration": 33,
    "start_time": "2022-09-20T14:52:29.732Z"
   },
   {
    "duration": 21,
    "start_time": "2022-09-20T14:52:29.767Z"
   },
   {
    "duration": 42,
    "start_time": "2022-09-20T14:52:29.809Z"
   },
   {
    "duration": 10,
    "start_time": "2022-09-20T14:52:29.853Z"
   },
   {
    "duration": 4,
    "start_time": "2022-09-20T14:52:29.865Z"
   },
   {
    "duration": 17,
    "start_time": "2022-09-20T14:52:29.871Z"
   },
   {
    "duration": 11,
    "start_time": "2022-09-20T14:52:29.890Z"
   },
   {
    "duration": 6,
    "start_time": "2022-09-20T14:52:29.902Z"
   },
   {
    "duration": 5204,
    "start_time": "2022-09-20T14:52:29.909Z"
   },
   {
    "duration": 4,
    "start_time": "2022-09-20T14:52:35.115Z"
   },
   {
    "duration": 4,
    "start_time": "2022-09-20T14:52:35.121Z"
   },
   {
    "duration": 5141,
    "start_time": "2022-09-20T14:52:35.127Z"
   },
   {
    "duration": 4,
    "start_time": "2022-09-20T14:52:40.270Z"
   },
   {
    "duration": 5354,
    "start_time": "2022-09-20T14:52:40.275Z"
   },
   {
    "duration": 11,
    "start_time": "2022-09-20T14:52:45.631Z"
   },
   {
    "duration": 6,
    "start_time": "2022-09-20T14:52:45.643Z"
   },
   {
    "duration": 14,
    "start_time": "2022-09-20T14:52:45.652Z"
   },
   {
    "duration": 9,
    "start_time": "2022-09-20T14:52:45.667Z"
   },
   {
    "duration": 31,
    "start_time": "2022-09-20T14:52:45.678Z"
   },
   {
    "duration": 6,
    "start_time": "2022-09-20T14:52:45.710Z"
   },
   {
    "duration": 14,
    "start_time": "2022-09-20T14:52:45.732Z"
   },
   {
    "duration": 10,
    "start_time": "2022-09-20T14:52:45.748Z"
   },
   {
    "duration": 8,
    "start_time": "2022-09-20T14:52:45.760Z"
   },
   {
    "duration": 7,
    "start_time": "2022-09-20T14:52:45.770Z"
   },
   {
    "duration": 4,
    "start_time": "2022-09-20T14:52:45.779Z"
   },
   {
    "duration": 6,
    "start_time": "2022-09-20T14:52:45.784Z"
   },
   {
    "duration": 5355,
    "start_time": "2022-09-20T14:52:45.792Z"
   },
   {
    "duration": 4,
    "start_time": "2022-09-20T14:52:51.149Z"
   },
   {
    "duration": 6,
    "start_time": "2022-09-20T14:52:51.154Z"
   },
   {
    "duration": 381,
    "start_time": "2022-09-20T14:52:51.162Z"
   },
   {
    "duration": 4,
    "start_time": "2022-09-20T14:53:38.532Z"
   },
   {
    "duration": 1233,
    "start_time": "2022-09-20T14:53:46.609Z"
   },
   {
    "duration": 494,
    "start_time": "2022-09-20T14:53:47.845Z"
   },
   {
    "duration": 19,
    "start_time": "2022-09-20T14:53:48.341Z"
   },
   {
    "duration": 24,
    "start_time": "2022-09-20T14:53:48.362Z"
   },
   {
    "duration": 40,
    "start_time": "2022-09-20T14:53:48.388Z"
   },
   {
    "duration": 7,
    "start_time": "2022-09-20T14:53:48.430Z"
   },
   {
    "duration": 17,
    "start_time": "2022-09-20T14:53:48.439Z"
   },
   {
    "duration": 14,
    "start_time": "2022-09-20T14:53:48.458Z"
   },
   {
    "duration": 5350,
    "start_time": "2022-09-20T14:53:48.474Z"
   },
   {
    "duration": 11,
    "start_time": "2022-09-20T14:53:53.826Z"
   },
   {
    "duration": 10,
    "start_time": "2022-09-20T14:53:53.839Z"
   },
   {
    "duration": 5374,
    "start_time": "2022-09-20T14:53:53.850Z"
   },
   {
    "duration": 9,
    "start_time": "2022-09-20T14:53:59.226Z"
   },
   {
    "duration": 16,
    "start_time": "2022-09-20T14:53:59.238Z"
   },
   {
    "duration": 5266,
    "start_time": "2022-09-20T14:53:59.256Z"
   },
   {
    "duration": 18,
    "start_time": "2022-09-20T14:54:04.524Z"
   },
   {
    "duration": 35,
    "start_time": "2022-09-20T14:54:04.543Z"
   },
   {
    "duration": 5461,
    "start_time": "2022-09-20T14:54:04.580Z"
   },
   {
    "duration": 3,
    "start_time": "2022-09-20T14:54:10.043Z"
   },
   {
    "duration": 14,
    "start_time": "2022-09-20T14:54:10.048Z"
   },
   {
    "duration": 21,
    "start_time": "2022-09-20T14:54:10.063Z"
   },
   {
    "duration": 7,
    "start_time": "2022-09-20T14:54:10.087Z"
   },
   {
    "duration": 31,
    "start_time": "2022-09-20T14:54:10.097Z"
   },
   {
    "duration": 6,
    "start_time": "2022-09-20T14:54:10.129Z"
   },
   {
    "duration": 50,
    "start_time": "2022-09-20T14:54:10.137Z"
   },
   {
    "duration": 41,
    "start_time": "2022-09-20T14:54:10.189Z"
   },
   {
    "duration": 62,
    "start_time": "2022-09-20T14:54:10.232Z"
   },
   {
    "duration": 13,
    "start_time": "2022-09-20T14:54:10.296Z"
   },
   {
    "duration": 8,
    "start_time": "2022-09-20T14:54:10.311Z"
   },
   {
    "duration": 16,
    "start_time": "2022-09-20T14:54:10.321Z"
   },
   {
    "duration": 11,
    "start_time": "2022-09-20T14:54:10.338Z"
   },
   {
    "duration": 4,
    "start_time": "2022-09-20T14:54:10.351Z"
   },
   {
    "duration": 5426,
    "start_time": "2022-09-20T14:54:10.357Z"
   },
   {
    "duration": 5,
    "start_time": "2022-09-20T14:54:15.784Z"
   },
   {
    "duration": 9,
    "start_time": "2022-09-20T14:54:15.790Z"
   },
   {
    "duration": 5290,
    "start_time": "2022-09-20T14:54:15.800Z"
   },
   {
    "duration": 3,
    "start_time": "2022-09-20T14:54:21.092Z"
   },
   {
    "duration": 5643,
    "start_time": "2022-09-20T14:54:21.097Z"
   },
   {
    "duration": 12,
    "start_time": "2022-09-20T14:54:26.742Z"
   },
   {
    "duration": 10,
    "start_time": "2022-09-20T14:54:26.756Z"
   },
   {
    "duration": 22,
    "start_time": "2022-09-20T14:54:26.771Z"
   },
   {
    "duration": 14,
    "start_time": "2022-09-20T14:54:26.810Z"
   },
   {
    "duration": 12,
    "start_time": "2022-09-20T14:54:26.825Z"
   },
   {
    "duration": 13,
    "start_time": "2022-09-20T14:54:26.838Z"
   },
   {
    "duration": 11,
    "start_time": "2022-09-20T14:54:26.853Z"
   },
   {
    "duration": 9,
    "start_time": "2022-09-20T14:54:26.865Z"
   },
   {
    "duration": 13,
    "start_time": "2022-09-20T14:54:26.876Z"
   },
   {
    "duration": 6,
    "start_time": "2022-09-20T14:54:26.909Z"
   },
   {
    "duration": 3,
    "start_time": "2022-09-20T14:54:26.917Z"
   },
   {
    "duration": 10,
    "start_time": "2022-09-20T14:54:26.922Z"
   },
   {
    "duration": 5122,
    "start_time": "2022-09-20T14:54:26.934Z"
   },
   {
    "duration": 6,
    "start_time": "2022-09-20T14:54:32.057Z"
   },
   {
    "duration": 17,
    "start_time": "2022-09-20T14:54:32.065Z"
   },
   {
    "duration": 19,
    "start_time": "2022-09-20T14:54:32.084Z"
   },
   {
    "duration": 22,
    "start_time": "2022-09-20T14:55:07.492Z"
   },
   {
    "duration": 5515,
    "start_time": "2022-09-20T15:00:08.619Z"
   },
   {
    "duration": 33,
    "start_time": "2022-09-20T15:07:20.297Z"
   },
   {
    "duration": 1459,
    "start_time": "2022-09-21T13:29:38.880Z"
   },
   {
    "duration": 422,
    "start_time": "2022-09-21T13:29:40.341Z"
   },
   {
    "duration": 15,
    "start_time": "2022-09-21T13:29:40.764Z"
   },
   {
    "duration": 7,
    "start_time": "2022-09-21T13:29:40.781Z"
   },
   {
    "duration": 23,
    "start_time": "2022-09-21T13:29:40.791Z"
   },
   {
    "duration": 7,
    "start_time": "2022-09-21T13:29:40.816Z"
   },
   {
    "duration": 12,
    "start_time": "2022-09-21T13:29:40.825Z"
   },
   {
    "duration": 7,
    "start_time": "2022-09-21T13:29:40.839Z"
   },
   {
    "duration": 4667,
    "start_time": "2022-09-21T13:29:40.849Z"
   },
   {
    "duration": 12,
    "start_time": "2022-09-21T13:29:45.518Z"
   },
   {
    "duration": 8,
    "start_time": "2022-09-21T13:29:45.532Z"
   },
   {
    "duration": 4685,
    "start_time": "2022-09-21T13:29:45.541Z"
   },
   {
    "duration": 9,
    "start_time": "2022-09-21T13:29:50.228Z"
   },
   {
    "duration": 14,
    "start_time": "2022-09-21T13:29:50.239Z"
   },
   {
    "duration": 4491,
    "start_time": "2022-09-21T13:29:50.254Z"
   },
   {
    "duration": 12,
    "start_time": "2022-09-21T13:29:54.746Z"
   },
   {
    "duration": 19,
    "start_time": "2022-09-21T13:29:54.760Z"
   },
   {
    "duration": 5004,
    "start_time": "2022-09-21T13:29:54.781Z"
   },
   {
    "duration": 3,
    "start_time": "2022-09-21T13:29:59.786Z"
   },
   {
    "duration": 26,
    "start_time": "2022-09-21T13:29:59.791Z"
   },
   {
    "duration": 17,
    "start_time": "2022-09-21T13:29:59.818Z"
   },
   {
    "duration": 6,
    "start_time": "2022-09-21T13:29:59.836Z"
   },
   {
    "duration": 28,
    "start_time": "2022-09-21T13:29:59.844Z"
   },
   {
    "duration": 11,
    "start_time": "2022-09-21T13:29:59.874Z"
   },
   {
    "duration": 30,
    "start_time": "2022-09-21T13:29:59.886Z"
   },
   {
    "duration": 26,
    "start_time": "2022-09-21T13:29:59.917Z"
   },
   {
    "duration": 61,
    "start_time": "2022-09-21T13:29:59.945Z"
   },
   {
    "duration": 9,
    "start_time": "2022-09-21T13:30:00.007Z"
   },
   {
    "duration": 27,
    "start_time": "2022-09-21T13:30:00.017Z"
   },
   {
    "duration": 39,
    "start_time": "2022-09-21T13:30:00.045Z"
   },
   {
    "duration": 12,
    "start_time": "2022-09-21T13:30:00.086Z"
   },
   {
    "duration": 20,
    "start_time": "2022-09-21T13:30:00.099Z"
   },
   {
    "duration": 4649,
    "start_time": "2022-09-21T13:30:00.120Z"
   },
   {
    "duration": 5,
    "start_time": "2022-09-21T13:30:04.771Z"
   },
   {
    "duration": 33,
    "start_time": "2022-09-21T13:30:04.777Z"
   },
   {
    "duration": 4670,
    "start_time": "2022-09-21T13:30:04.811Z"
   },
   {
    "duration": 4,
    "start_time": "2022-09-21T13:30:09.482Z"
   },
   {
    "duration": 4588,
    "start_time": "2022-09-21T13:30:09.487Z"
   },
   {
    "duration": 12,
    "start_time": "2022-09-21T13:30:14.076Z"
   },
   {
    "duration": 9,
    "start_time": "2022-09-21T13:30:14.090Z"
   },
   {
    "duration": 22,
    "start_time": "2022-09-21T13:30:14.102Z"
   },
   {
    "duration": 8,
    "start_time": "2022-09-21T13:30:14.125Z"
   },
   {
    "duration": 8,
    "start_time": "2022-09-21T13:30:14.134Z"
   },
   {
    "duration": 9,
    "start_time": "2022-09-21T13:30:14.144Z"
   },
   {
    "duration": 11,
    "start_time": "2022-09-21T13:30:14.154Z"
   },
   {
    "duration": 9,
    "start_time": "2022-09-21T13:30:14.166Z"
   },
   {
    "duration": 10,
    "start_time": "2022-09-21T13:30:14.176Z"
   },
   {
    "duration": 10,
    "start_time": "2022-09-21T13:30:14.187Z"
   },
   {
    "duration": 6,
    "start_time": "2022-09-21T13:30:14.198Z"
   },
   {
    "duration": 17,
    "start_time": "2022-09-21T13:30:14.205Z"
   },
   {
    "duration": 4663,
    "start_time": "2022-09-21T13:30:14.223Z"
   },
   {
    "duration": 4,
    "start_time": "2022-09-21T13:30:18.887Z"
   },
   {
    "duration": 9,
    "start_time": "2022-09-21T13:30:18.893Z"
   },
   {
    "duration": 9,
    "start_time": "2022-09-21T13:30:18.903Z"
   },
   {
    "duration": 20,
    "start_time": "2022-09-21T13:30:18.913Z"
   },
   {
    "duration": 4936,
    "start_time": "2022-09-21T13:30:18.934Z"
   },
   {
    "duration": 21,
    "start_time": "2022-09-21T13:30:23.872Z"
   },
   {
    "duration": 8,
    "start_time": "2022-09-21T13:30:23.895Z"
   },
   {
    "duration": 20,
    "start_time": "2022-09-21T13:30:23.905Z"
   },
   {
    "duration": 1671,
    "start_time": "2022-09-21T13:30:23.927Z"
   },
   {
    "duration": 170,
    "start_time": "2022-09-21T13:39:34.967Z"
   },
   {
    "duration": 49,
    "start_time": "2022-09-23T07:25:45.897Z"
   },
   {
    "duration": 1553,
    "start_time": "2022-09-23T07:25:56.073Z"
   },
   {
    "duration": 536,
    "start_time": "2022-09-23T07:25:57.628Z"
   },
   {
    "duration": 14,
    "start_time": "2022-09-23T07:25:58.166Z"
   },
   {
    "duration": 5,
    "start_time": "2022-09-23T07:25:58.188Z"
   },
   {
    "duration": 16,
    "start_time": "2022-09-23T07:25:58.195Z"
   },
   {
    "duration": 5,
    "start_time": "2022-09-23T07:25:58.213Z"
   },
   {
    "duration": 8,
    "start_time": "2022-09-23T07:25:58.219Z"
   },
   {
    "duration": 15,
    "start_time": "2022-09-23T07:25:58.228Z"
   },
   {
    "duration": 5498,
    "start_time": "2022-09-23T07:25:58.244Z"
   },
   {
    "duration": 11,
    "start_time": "2022-09-23T07:26:03.746Z"
   },
   {
    "duration": 8,
    "start_time": "2022-09-23T07:26:03.760Z"
   },
   {
    "duration": 5442,
    "start_time": "2022-09-23T07:26:03.770Z"
   },
   {
    "duration": 11,
    "start_time": "2022-09-23T07:26:09.213Z"
   },
   {
    "duration": 16,
    "start_time": "2022-09-23T07:26:09.226Z"
   },
   {
    "duration": 5425,
    "start_time": "2022-09-23T07:26:09.243Z"
   },
   {
    "duration": 20,
    "start_time": "2022-09-23T07:26:14.670Z"
   },
   {
    "duration": 3,
    "start_time": "2022-09-23T07:26:14.692Z"
   },
   {
    "duration": 5451,
    "start_time": "2022-09-23T07:26:14.696Z"
   },
   {
    "duration": 4,
    "start_time": "2022-09-23T07:26:20.149Z"
   },
   {
    "duration": 9,
    "start_time": "2022-09-23T07:26:20.155Z"
   },
   {
    "duration": 24,
    "start_time": "2022-09-23T07:26:20.166Z"
   },
   {
    "duration": 3,
    "start_time": "2022-09-23T07:26:20.192Z"
   },
   {
    "duration": 25,
    "start_time": "2022-09-23T07:26:20.196Z"
   },
   {
    "duration": 6,
    "start_time": "2022-09-23T07:26:20.223Z"
   },
   {
    "duration": 32,
    "start_time": "2022-09-23T07:26:20.231Z"
   },
   {
    "duration": 44,
    "start_time": "2022-09-23T07:26:20.265Z"
   },
   {
    "duration": 62,
    "start_time": "2022-09-23T07:26:20.311Z"
   },
   {
    "duration": 11,
    "start_time": "2022-09-23T07:26:20.377Z"
   },
   {
    "duration": 11,
    "start_time": "2022-09-23T07:26:20.390Z"
   },
   {
    "duration": 22,
    "start_time": "2022-09-23T07:26:20.403Z"
   },
   {
    "duration": 8,
    "start_time": "2022-09-23T07:26:20.427Z"
   },
   {
    "duration": 5,
    "start_time": "2022-09-23T07:26:20.437Z"
   },
   {
    "duration": 5542,
    "start_time": "2022-09-23T07:26:20.444Z"
   },
   {
    "duration": 4,
    "start_time": "2022-09-23T07:26:25.988Z"
   },
   {
    "duration": 5,
    "start_time": "2022-09-23T07:26:25.994Z"
   },
   {
    "duration": 5510,
    "start_time": "2022-09-23T07:26:26.001Z"
   },
   {
    "duration": 3,
    "start_time": "2022-09-23T07:26:31.512Z"
   },
   {
    "duration": 5372,
    "start_time": "2022-09-23T07:26:31.517Z"
   },
   {
    "duration": 13,
    "start_time": "2022-09-23T07:26:36.891Z"
   },
   {
    "duration": 9,
    "start_time": "2022-09-23T07:26:36.905Z"
   },
   {
    "duration": 18,
    "start_time": "2022-09-23T07:26:36.916Z"
   },
   {
    "duration": 11,
    "start_time": "2022-09-23T07:26:36.936Z"
   },
   {
    "duration": 11,
    "start_time": "2022-09-23T07:26:36.951Z"
   },
   {
    "duration": 8,
    "start_time": "2022-09-23T07:26:36.963Z"
   },
   {
    "duration": 18,
    "start_time": "2022-09-23T07:26:36.972Z"
   },
   {
    "duration": 9,
    "start_time": "2022-09-23T07:26:36.992Z"
   },
   {
    "duration": 9,
    "start_time": "2022-09-23T07:26:37.002Z"
   },
   {
    "duration": 10,
    "start_time": "2022-09-23T07:26:37.013Z"
   },
   {
    "duration": 6,
    "start_time": "2022-09-23T07:26:37.024Z"
   },
   {
    "duration": 7,
    "start_time": "2022-09-23T07:26:37.032Z"
   },
   {
    "duration": 5550,
    "start_time": "2022-09-23T07:26:37.040Z"
   },
   {
    "duration": 4,
    "start_time": "2022-09-23T07:26:42.592Z"
   },
   {
    "duration": 10,
    "start_time": "2022-09-23T07:26:42.597Z"
   },
   {
    "duration": 11,
    "start_time": "2022-09-23T07:26:42.609Z"
   },
   {
    "duration": 20,
    "start_time": "2022-09-23T07:26:42.622Z"
   },
   {
    "duration": 5740,
    "start_time": "2022-09-23T07:26:42.644Z"
   },
   {
    "duration": 25,
    "start_time": "2022-09-23T07:26:48.386Z"
   },
   {
    "duration": 19,
    "start_time": "2022-09-23T07:26:48.413Z"
   },
   {
    "duration": 22,
    "start_time": "2022-09-23T07:26:48.434Z"
   },
   {
    "duration": 1866,
    "start_time": "2022-09-23T07:26:48.457Z"
   },
   {
    "duration": 80,
    "start_time": "2022-09-23T07:26:50.325Z"
   },
   {
    "duration": 114,
    "start_time": "2022-09-23T07:26:50.407Z"
   },
   {
    "duration": 31,
    "start_time": "2022-09-23T07:29:57.803Z"
   },
   {
    "duration": 27,
    "start_time": "2022-09-23T07:31:00.883Z"
   },
   {
    "duration": 26,
    "start_time": "2022-09-23T07:49:30.468Z"
   },
   {
    "duration": 27,
    "start_time": "2022-09-23T07:49:37.893Z"
   },
   {
    "duration": 13,
    "start_time": "2022-09-23T07:53:17.923Z"
   },
   {
    "duration": 1224,
    "start_time": "2022-09-23T07:53:23.018Z"
   },
   {
    "duration": 568,
    "start_time": "2022-09-23T07:53:24.244Z"
   },
   {
    "duration": 13,
    "start_time": "2022-09-23T07:53:24.814Z"
   },
   {
    "duration": 24,
    "start_time": "2022-09-23T07:53:24.828Z"
   },
   {
    "duration": 29,
    "start_time": "2022-09-23T07:53:24.854Z"
   },
   {
    "duration": 16,
    "start_time": "2022-09-23T07:53:24.885Z"
   },
   {
    "duration": 26,
    "start_time": "2022-09-23T07:53:24.903Z"
   },
   {
    "duration": 24,
    "start_time": "2022-09-23T07:53:24.930Z"
   },
   {
    "duration": 5409,
    "start_time": "2022-09-23T07:53:24.955Z"
   },
   {
    "duration": 12,
    "start_time": "2022-09-23T07:53:30.366Z"
   },
   {
    "duration": 40,
    "start_time": "2022-09-23T07:53:30.379Z"
   },
   {
    "duration": 5706,
    "start_time": "2022-09-23T07:53:30.422Z"
   },
   {
    "duration": 11,
    "start_time": "2022-09-23T07:53:36.129Z"
   },
   {
    "duration": 14,
    "start_time": "2022-09-23T07:53:36.144Z"
   },
   {
    "duration": 5734,
    "start_time": "2022-09-23T07:53:36.159Z"
   },
   {
    "duration": 19,
    "start_time": "2022-09-23T07:53:41.896Z"
   },
   {
    "duration": 9,
    "start_time": "2022-09-23T07:53:41.917Z"
   },
   {
    "duration": 5359,
    "start_time": "2022-09-23T07:53:41.928Z"
   },
   {
    "duration": 4,
    "start_time": "2022-09-23T07:53:47.289Z"
   },
   {
    "duration": 9,
    "start_time": "2022-09-23T07:53:47.294Z"
   },
   {
    "duration": 18,
    "start_time": "2022-09-23T07:53:47.304Z"
   },
   {
    "duration": 4,
    "start_time": "2022-09-23T07:53:47.324Z"
   },
   {
    "duration": 20,
    "start_time": "2022-09-23T07:53:47.330Z"
   },
   {
    "duration": 7,
    "start_time": "2022-09-23T07:53:47.352Z"
   },
   {
    "duration": 53,
    "start_time": "2022-09-23T07:53:47.360Z"
   },
   {
    "duration": 25,
    "start_time": "2022-09-23T07:53:47.415Z"
   },
   {
    "duration": 55,
    "start_time": "2022-09-23T07:53:47.442Z"
   },
   {
    "duration": 11,
    "start_time": "2022-09-23T07:53:47.498Z"
   },
   {
    "duration": 8,
    "start_time": "2022-09-23T07:53:47.510Z"
   },
   {
    "duration": 31,
    "start_time": "2022-09-23T07:53:47.519Z"
   },
   {
    "duration": 7,
    "start_time": "2022-09-23T07:53:47.551Z"
   },
   {
    "duration": 6,
    "start_time": "2022-09-23T07:53:47.559Z"
   },
   {
    "duration": 5619,
    "start_time": "2022-09-23T07:53:47.566Z"
   },
   {
    "duration": 5,
    "start_time": "2022-09-23T07:53:53.187Z"
   },
   {
    "duration": 10,
    "start_time": "2022-09-23T07:53:53.194Z"
   },
   {
    "duration": 5328,
    "start_time": "2022-09-23T07:53:53.206Z"
   },
   {
    "duration": 4,
    "start_time": "2022-09-23T07:53:58.536Z"
   },
   {
    "duration": 5918,
    "start_time": "2022-09-23T07:53:58.542Z"
   },
   {
    "duration": 12,
    "start_time": "2022-09-23T07:54:04.461Z"
   },
   {
    "duration": 12,
    "start_time": "2022-09-23T07:54:04.475Z"
   },
   {
    "duration": 29,
    "start_time": "2022-09-23T07:54:04.491Z"
   },
   {
    "duration": 11,
    "start_time": "2022-09-23T07:54:04.522Z"
   },
   {
    "duration": 9,
    "start_time": "2022-09-23T07:54:04.535Z"
   },
   {
    "duration": 14,
    "start_time": "2022-09-23T07:54:04.545Z"
   },
   {
    "duration": 12,
    "start_time": "2022-09-23T07:54:04.560Z"
   },
   {
    "duration": 10,
    "start_time": "2022-09-23T07:54:04.573Z"
   },
   {
    "duration": 7,
    "start_time": "2022-09-23T07:54:04.585Z"
   },
   {
    "duration": 8,
    "start_time": "2022-09-23T07:54:04.594Z"
   },
   {
    "duration": 6,
    "start_time": "2022-09-23T07:54:04.603Z"
   },
   {
    "duration": 5,
    "start_time": "2022-09-23T07:54:04.611Z"
   },
   {
    "duration": 5647,
    "start_time": "2022-09-23T07:54:04.617Z"
   },
   {
    "duration": 6,
    "start_time": "2022-09-23T07:54:10.266Z"
   },
   {
    "duration": 31,
    "start_time": "2022-09-23T07:54:10.273Z"
   },
   {
    "duration": 45,
    "start_time": "2022-09-23T07:54:10.306Z"
   },
   {
    "duration": 29,
    "start_time": "2022-09-23T07:54:10.352Z"
   },
   {
    "duration": 5758,
    "start_time": "2022-09-23T07:54:10.383Z"
   },
   {
    "duration": 24,
    "start_time": "2022-09-23T07:54:16.142Z"
   },
   {
    "duration": 13,
    "start_time": "2022-09-23T07:54:16.167Z"
   },
   {
    "duration": 34,
    "start_time": "2022-09-23T07:54:16.188Z"
   },
   {
    "duration": 1893,
    "start_time": "2022-09-23T07:54:16.223Z"
   },
   {
    "duration": 12,
    "start_time": "2022-09-23T07:54:18.118Z"
   },
   {
    "duration": 140,
    "start_time": "2022-09-23T07:54:18.132Z"
   },
   {
    "duration": 18,
    "start_time": "2022-09-23T07:54:18.274Z"
   },
   {
    "duration": 12,
    "start_time": "2022-09-23T07:57:59.183Z"
   },
   {
    "duration": 27,
    "start_time": "2022-09-23T07:58:34.762Z"
   },
   {
    "duration": 113,
    "start_time": "2022-09-23T08:11:49.095Z"
   },
   {
    "duration": 10,
    "start_time": "2022-09-23T08:13:15.305Z"
   },
   {
    "duration": 112,
    "start_time": "2022-09-23T08:13:25.985Z"
   },
   {
    "duration": 7,
    "start_time": "2022-09-23T08:19:32.305Z"
   },
   {
    "duration": 7,
    "start_time": "2022-09-23T08:22:18.220Z"
   },
   {
    "duration": 3,
    "start_time": "2022-09-23T08:32:04.345Z"
   },
   {
    "duration": 4,
    "start_time": "2022-09-23T08:44:03.309Z"
   },
   {
    "duration": 316,
    "start_time": "2022-09-23T08:44:57.485Z"
   },
   {
    "duration": 3,
    "start_time": "2022-09-23T08:46:33.685Z"
   },
   {
    "duration": 9,
    "start_time": "2022-09-23T08:48:29.546Z"
   },
   {
    "duration": 1258,
    "start_time": "2022-09-23T08:48:34.797Z"
   },
   {
    "duration": 516,
    "start_time": "2022-09-23T08:48:36.057Z"
   },
   {
    "duration": 16,
    "start_time": "2022-09-23T08:48:36.574Z"
   },
   {
    "duration": 5,
    "start_time": "2022-09-23T08:48:36.591Z"
   },
   {
    "duration": 12,
    "start_time": "2022-09-23T08:48:36.599Z"
   },
   {
    "duration": 4,
    "start_time": "2022-09-23T08:48:36.612Z"
   },
   {
    "duration": 7,
    "start_time": "2022-09-23T08:48:36.618Z"
   },
   {
    "duration": 12,
    "start_time": "2022-09-23T08:48:36.628Z"
   },
   {
    "duration": 5520,
    "start_time": "2022-09-23T08:48:36.642Z"
   },
   {
    "duration": 12,
    "start_time": "2022-09-23T08:48:42.164Z"
   },
   {
    "duration": 13,
    "start_time": "2022-09-23T08:48:42.178Z"
   },
   {
    "duration": 5384,
    "start_time": "2022-09-23T08:48:42.193Z"
   },
   {
    "duration": 11,
    "start_time": "2022-09-23T08:48:47.579Z"
   },
   {
    "duration": 30,
    "start_time": "2022-09-23T08:48:47.593Z"
   },
   {
    "duration": 5490,
    "start_time": "2022-09-23T08:48:47.625Z"
   },
   {
    "duration": 14,
    "start_time": "2022-09-23T08:48:53.117Z"
   },
   {
    "duration": 5,
    "start_time": "2022-09-23T08:48:53.133Z"
   },
   {
    "duration": 5403,
    "start_time": "2022-09-23T08:48:53.139Z"
   },
   {
    "duration": 5,
    "start_time": "2022-09-23T08:48:58.544Z"
   },
   {
    "duration": 18,
    "start_time": "2022-09-23T08:48:58.550Z"
   },
   {
    "duration": 22,
    "start_time": "2022-09-23T08:48:58.570Z"
   },
   {
    "duration": 9,
    "start_time": "2022-09-23T08:48:58.594Z"
   },
   {
    "duration": 21,
    "start_time": "2022-09-23T08:48:58.605Z"
   },
   {
    "duration": 8,
    "start_time": "2022-09-23T08:48:58.627Z"
   },
   {
    "duration": 30,
    "start_time": "2022-09-23T08:48:58.637Z"
   },
   {
    "duration": 38,
    "start_time": "2022-09-23T08:48:58.669Z"
   },
   {
    "duration": 54,
    "start_time": "2022-09-23T08:48:58.708Z"
   },
   {
    "duration": 11,
    "start_time": "2022-09-23T08:48:58.764Z"
   },
   {
    "duration": 10,
    "start_time": "2022-09-23T08:48:58.777Z"
   },
   {
    "duration": 19,
    "start_time": "2022-09-23T08:48:58.789Z"
   },
   {
    "duration": 9,
    "start_time": "2022-09-23T08:48:58.810Z"
   },
   {
    "duration": 10,
    "start_time": "2022-09-23T08:48:58.820Z"
   },
   {
    "duration": 5594,
    "start_time": "2022-09-23T08:48:58.832Z"
   },
   {
    "duration": 5,
    "start_time": "2022-09-23T08:49:04.428Z"
   },
   {
    "duration": 6,
    "start_time": "2022-09-23T08:49:04.435Z"
   },
   {
    "duration": 5534,
    "start_time": "2022-09-23T08:49:04.443Z"
   },
   {
    "duration": 3,
    "start_time": "2022-09-23T08:49:09.979Z"
   },
   {
    "duration": 5607,
    "start_time": "2022-09-23T08:49:09.984Z"
   },
   {
    "duration": 12,
    "start_time": "2022-09-23T08:49:15.593Z"
   },
   {
    "duration": 5,
    "start_time": "2022-09-23T08:49:15.607Z"
   },
   {
    "duration": 17,
    "start_time": "2022-09-23T08:49:15.616Z"
   },
   {
    "duration": 9,
    "start_time": "2022-09-23T08:49:15.634Z"
   },
   {
    "duration": 8,
    "start_time": "2022-09-23T08:49:15.645Z"
   },
   {
    "duration": 36,
    "start_time": "2022-09-23T08:49:15.654Z"
   },
   {
    "duration": 10,
    "start_time": "2022-09-23T08:49:15.692Z"
   },
   {
    "duration": 10,
    "start_time": "2022-09-23T08:49:15.704Z"
   },
   {
    "duration": 11,
    "start_time": "2022-09-23T08:49:15.715Z"
   },
   {
    "duration": 9,
    "start_time": "2022-09-23T08:49:15.727Z"
   },
   {
    "duration": 5,
    "start_time": "2022-09-23T08:49:15.738Z"
   },
   {
    "duration": 6,
    "start_time": "2022-09-23T08:49:15.745Z"
   },
   {
    "duration": 5307,
    "start_time": "2022-09-23T08:49:15.753Z"
   },
   {
    "duration": 4,
    "start_time": "2022-09-23T08:49:21.062Z"
   },
   {
    "duration": 7,
    "start_time": "2022-09-23T08:49:21.068Z"
   },
   {
    "duration": 14,
    "start_time": "2022-09-23T08:49:21.076Z"
   },
   {
    "duration": 19,
    "start_time": "2022-09-23T08:49:21.092Z"
   },
   {
    "duration": 5898,
    "start_time": "2022-09-23T08:49:21.113Z"
   },
   {
    "duration": 25,
    "start_time": "2022-09-23T08:49:27.013Z"
   },
   {
    "duration": 15,
    "start_time": "2022-09-23T08:49:27.039Z"
   },
   {
    "duration": 32,
    "start_time": "2022-09-23T08:49:27.056Z"
   },
   {
    "duration": 1884,
    "start_time": "2022-09-23T08:49:27.090Z"
   },
   {
    "duration": 19,
    "start_time": "2022-09-23T08:49:28.976Z"
   },
   {
    "duration": 103,
    "start_time": "2022-09-23T08:49:28.997Z"
   },
   {
    "duration": 29,
    "start_time": "2022-09-23T08:49:29.101Z"
   },
   {
    "duration": 114,
    "start_time": "2022-09-23T08:49:29.131Z"
   },
   {
    "duration": 8,
    "start_time": "2022-09-23T08:49:29.246Z"
   },
   {
    "duration": 10,
    "start_time": "2022-09-23T08:49:29.255Z"
   },
   {
    "duration": 15,
    "start_time": "2022-09-23T08:49:29.266Z"
   },
   {
    "duration": 7,
    "start_time": "2022-09-23T08:49:29.283Z"
   },
   {
    "duration": 411,
    "start_time": "2022-09-23T08:49:29.291Z"
   },
   {
    "duration": 1252,
    "start_time": "2022-09-23T08:56:18.900Z"
   },
   {
    "duration": 513,
    "start_time": "2022-09-23T08:56:20.155Z"
   },
   {
    "duration": 19,
    "start_time": "2022-09-23T08:56:20.670Z"
   },
   {
    "duration": 5,
    "start_time": "2022-09-23T08:56:20.691Z"
   },
   {
    "duration": 10,
    "start_time": "2022-09-23T08:56:20.698Z"
   },
   {
    "duration": 4,
    "start_time": "2022-09-23T08:56:20.710Z"
   },
   {
    "duration": 7,
    "start_time": "2022-09-23T08:56:20.716Z"
   },
   {
    "duration": 7,
    "start_time": "2022-09-23T08:56:20.724Z"
   },
   {
    "duration": 5328,
    "start_time": "2022-09-23T08:56:20.734Z"
   },
   {
    "duration": 12,
    "start_time": "2022-09-23T08:56:26.064Z"
   },
   {
    "duration": 11,
    "start_time": "2022-09-23T08:56:26.078Z"
   },
   {
    "duration": 5374,
    "start_time": "2022-09-23T08:56:26.091Z"
   },
   {
    "duration": 11,
    "start_time": "2022-09-23T08:56:31.467Z"
   },
   {
    "duration": 18,
    "start_time": "2022-09-23T08:56:31.490Z"
   },
   {
    "duration": 5216,
    "start_time": "2022-09-23T08:56:31.509Z"
   },
   {
    "duration": 15,
    "start_time": "2022-09-23T08:56:36.727Z"
   },
   {
    "duration": 8,
    "start_time": "2022-09-23T08:56:36.744Z"
   },
   {
    "duration": 5490,
    "start_time": "2022-09-23T08:56:36.754Z"
   },
   {
    "duration": 4,
    "start_time": "2022-09-23T08:56:42.246Z"
   },
   {
    "duration": 10,
    "start_time": "2022-09-23T08:56:42.251Z"
   },
   {
    "duration": 15,
    "start_time": "2022-09-23T08:56:42.262Z"
   },
   {
    "duration": 13,
    "start_time": "2022-09-23T08:56:42.279Z"
   },
   {
    "duration": 27,
    "start_time": "2022-09-23T08:56:42.294Z"
   },
   {
    "duration": 5,
    "start_time": "2022-09-23T08:56:42.323Z"
   },
   {
    "duration": 45,
    "start_time": "2022-09-23T08:56:42.329Z"
   },
   {
    "duration": 25,
    "start_time": "2022-09-23T08:56:42.376Z"
   },
   {
    "duration": 54,
    "start_time": "2022-09-23T08:56:42.403Z"
   },
   {
    "duration": 10,
    "start_time": "2022-09-23T08:56:42.459Z"
   },
   {
    "duration": 5,
    "start_time": "2022-09-23T08:56:42.471Z"
   },
   {
    "duration": 19,
    "start_time": "2022-09-23T08:56:42.478Z"
   },
   {
    "duration": 5,
    "start_time": "2022-09-23T08:56:42.499Z"
   },
   {
    "duration": 5,
    "start_time": "2022-09-23T08:56:42.506Z"
   },
   {
    "duration": 5454,
    "start_time": "2022-09-23T08:56:42.514Z"
   },
   {
    "duration": 4,
    "start_time": "2022-09-23T08:56:47.970Z"
   },
   {
    "duration": 14,
    "start_time": "2022-09-23T08:56:47.976Z"
   },
   {
    "duration": 5333,
    "start_time": "2022-09-23T08:56:47.991Z"
   },
   {
    "duration": 3,
    "start_time": "2022-09-23T08:56:53.326Z"
   },
   {
    "duration": 5449,
    "start_time": "2022-09-23T08:56:53.330Z"
   },
   {
    "duration": 19,
    "start_time": "2022-09-23T08:56:58.780Z"
   },
   {
    "duration": 20,
    "start_time": "2022-09-23T08:56:58.801Z"
   },
   {
    "duration": 24,
    "start_time": "2022-09-23T08:56:58.825Z"
   },
   {
    "duration": 22,
    "start_time": "2022-09-23T08:56:58.851Z"
   },
   {
    "duration": 13,
    "start_time": "2022-09-23T08:56:58.875Z"
   },
   {
    "duration": 27,
    "start_time": "2022-09-23T08:56:58.890Z"
   },
   {
    "duration": 23,
    "start_time": "2022-09-23T08:56:58.919Z"
   },
   {
    "duration": 19,
    "start_time": "2022-09-23T08:56:58.943Z"
   },
   {
    "duration": 20,
    "start_time": "2022-09-23T08:56:58.964Z"
   },
   {
    "duration": 8,
    "start_time": "2022-09-23T08:56:58.987Z"
   },
   {
    "duration": 18,
    "start_time": "2022-09-23T08:56:58.997Z"
   },
   {
    "duration": 11,
    "start_time": "2022-09-23T08:56:59.017Z"
   },
   {
    "duration": 5362,
    "start_time": "2022-09-23T08:56:59.030Z"
   },
   {
    "duration": 4,
    "start_time": "2022-09-23T08:57:04.394Z"
   },
   {
    "duration": 7,
    "start_time": "2022-09-23T08:57:04.399Z"
   },
   {
    "duration": 10,
    "start_time": "2022-09-23T08:57:04.407Z"
   },
   {
    "duration": 19,
    "start_time": "2022-09-23T08:57:04.418Z"
   },
   {
    "duration": 6024,
    "start_time": "2022-09-23T08:57:04.439Z"
   },
   {
    "duration": 29,
    "start_time": "2022-09-23T08:57:10.465Z"
   },
   {
    "duration": 5,
    "start_time": "2022-09-23T08:57:10.496Z"
   },
   {
    "duration": 8,
    "start_time": "2022-09-23T08:57:10.502Z"
   },
   {
    "duration": 2034,
    "start_time": "2022-09-23T08:57:10.511Z"
   },
   {
    "duration": 13,
    "start_time": "2022-09-23T08:57:12.546Z"
   },
   {
    "duration": 105,
    "start_time": "2022-09-23T08:57:12.561Z"
   },
   {
    "duration": 28,
    "start_time": "2022-09-23T08:57:12.668Z"
   },
   {
    "duration": 119,
    "start_time": "2022-09-23T08:57:12.698Z"
   },
   {
    "duration": 7,
    "start_time": "2022-09-23T08:57:12.819Z"
   },
   {
    "duration": 5,
    "start_time": "2022-09-23T08:57:12.828Z"
   },
   {
    "duration": 7,
    "start_time": "2022-09-23T08:57:12.834Z"
   },
   {
    "duration": 6,
    "start_time": "2022-09-23T08:57:12.842Z"
   },
   {
    "duration": 52,
    "start_time": "2022-09-23T08:57:12.849Z"
   },
   {
    "duration": 1056,
    "start_time": "2022-09-23T09:00:01.666Z"
   },
   {
    "duration": 1262,
    "start_time": "2022-09-23T09:01:19.741Z"
   },
   {
    "duration": 527,
    "start_time": "2022-09-23T09:01:21.006Z"
   },
   {
    "duration": 14,
    "start_time": "2022-09-23T09:01:21.535Z"
   },
   {
    "duration": 4,
    "start_time": "2022-09-23T09:01:21.551Z"
   },
   {
    "duration": 13,
    "start_time": "2022-09-23T09:01:21.558Z"
   },
   {
    "duration": 5,
    "start_time": "2022-09-23T09:01:21.588Z"
   },
   {
    "duration": 6,
    "start_time": "2022-09-23T09:01:21.595Z"
   },
   {
    "duration": 9,
    "start_time": "2022-09-23T09:01:21.602Z"
   },
   {
    "duration": 5595,
    "start_time": "2022-09-23T09:01:21.613Z"
   },
   {
    "duration": 12,
    "start_time": "2022-09-23T09:01:27.210Z"
   },
   {
    "duration": 19,
    "start_time": "2022-09-23T09:01:27.224Z"
   },
   {
    "duration": 5556,
    "start_time": "2022-09-23T09:01:27.245Z"
   },
   {
    "duration": 10,
    "start_time": "2022-09-23T09:01:32.802Z"
   },
   {
    "duration": 12,
    "start_time": "2022-09-23T09:01:32.815Z"
   },
   {
    "duration": 5306,
    "start_time": "2022-09-23T09:01:32.829Z"
   },
   {
    "duration": 14,
    "start_time": "2022-09-23T09:01:38.137Z"
   },
   {
    "duration": 5,
    "start_time": "2022-09-23T09:01:38.152Z"
   },
   {
    "duration": 5689,
    "start_time": "2022-09-23T09:01:38.158Z"
   },
   {
    "duration": 4,
    "start_time": "2022-09-23T09:01:43.848Z"
   },
   {
    "duration": 8,
    "start_time": "2022-09-23T09:01:43.854Z"
   },
   {
    "duration": 13,
    "start_time": "2022-09-23T09:01:43.863Z"
   },
   {
    "duration": 4,
    "start_time": "2022-09-23T09:01:43.890Z"
   },
   {
    "duration": 19,
    "start_time": "2022-09-23T09:01:43.896Z"
   },
   {
    "duration": 6,
    "start_time": "2022-09-23T09:01:43.917Z"
   },
   {
    "duration": 31,
    "start_time": "2022-09-23T09:01:43.924Z"
   },
   {
    "duration": 51,
    "start_time": "2022-09-23T09:01:43.956Z"
   },
   {
    "duration": 60,
    "start_time": "2022-09-23T09:01:44.009Z"
   },
   {
    "duration": 11,
    "start_time": "2022-09-23T09:01:44.070Z"
   },
   {
    "duration": 6,
    "start_time": "2022-09-23T09:01:44.083Z"
   },
   {
    "duration": 18,
    "start_time": "2022-09-23T09:01:44.090Z"
   },
   {
    "duration": 10,
    "start_time": "2022-09-23T09:01:44.110Z"
   },
   {
    "duration": 4,
    "start_time": "2022-09-23T09:01:44.122Z"
   },
   {
    "duration": 5770,
    "start_time": "2022-09-23T09:01:44.128Z"
   },
   {
    "duration": 4,
    "start_time": "2022-09-23T09:01:49.900Z"
   },
   {
    "duration": 7,
    "start_time": "2022-09-23T09:01:49.906Z"
   },
   {
    "duration": 5413,
    "start_time": "2022-09-23T09:01:49.914Z"
   },
   {
    "duration": 3,
    "start_time": "2022-09-23T09:01:55.329Z"
   },
   {
    "duration": 5562,
    "start_time": "2022-09-23T09:01:55.334Z"
   },
   {
    "duration": 12,
    "start_time": "2022-09-23T09:02:00.898Z"
   },
   {
    "duration": 10,
    "start_time": "2022-09-23T09:02:00.913Z"
   },
   {
    "duration": 20,
    "start_time": "2022-09-23T09:02:00.928Z"
   },
   {
    "duration": 20,
    "start_time": "2022-09-23T09:02:00.950Z"
   },
   {
    "duration": 13,
    "start_time": "2022-09-23T09:02:00.972Z"
   },
   {
    "duration": 20,
    "start_time": "2022-09-23T09:02:00.989Z"
   },
   {
    "duration": 10,
    "start_time": "2022-09-23T09:02:01.011Z"
   },
   {
    "duration": 30,
    "start_time": "2022-09-23T09:02:01.023Z"
   },
   {
    "duration": 43,
    "start_time": "2022-09-23T09:02:01.055Z"
   },
   {
    "duration": 29,
    "start_time": "2022-09-23T09:02:01.100Z"
   },
   {
    "duration": 12,
    "start_time": "2022-09-23T09:02:01.131Z"
   },
   {
    "duration": 11,
    "start_time": "2022-09-23T09:02:01.145Z"
   },
   {
    "duration": 5476,
    "start_time": "2022-09-23T09:02:01.158Z"
   },
   {
    "duration": 4,
    "start_time": "2022-09-23T09:02:06.636Z"
   },
   {
    "duration": 8,
    "start_time": "2022-09-23T09:02:06.642Z"
   },
   {
    "duration": 19,
    "start_time": "2022-09-23T09:02:06.651Z"
   },
   {
    "duration": 20,
    "start_time": "2022-09-23T09:02:06.672Z"
   },
   {
    "duration": 6139,
    "start_time": "2022-09-23T09:02:06.694Z"
   },
   {
    "duration": 24,
    "start_time": "2022-09-23T09:02:12.835Z"
   },
   {
    "duration": 5,
    "start_time": "2022-09-23T09:02:12.861Z"
   },
   {
    "duration": 10,
    "start_time": "2022-09-23T09:02:12.868Z"
   },
   {
    "duration": 1843,
    "start_time": "2022-09-23T09:02:12.888Z"
   },
   {
    "duration": 13,
    "start_time": "2022-09-23T09:02:14.732Z"
   },
   {
    "duration": 87,
    "start_time": "2022-09-23T09:02:14.747Z"
   },
   {
    "duration": 26,
    "start_time": "2022-09-23T09:02:14.836Z"
   },
   {
    "duration": 12,
    "start_time": "2022-09-23T09:02:14.864Z"
   },
   {
    "duration": 119,
    "start_time": "2022-09-23T09:02:14.878Z"
   },
   {
    "duration": 7,
    "start_time": "2022-09-23T09:02:14.999Z"
   },
   {
    "duration": 29,
    "start_time": "2022-09-23T09:02:15.008Z"
   },
   {
    "duration": 30,
    "start_time": "2022-09-23T09:02:15.039Z"
   },
   {
    "duration": 27,
    "start_time": "2022-09-23T09:02:15.071Z"
   },
   {
    "duration": 58,
    "start_time": "2022-09-23T09:02:15.100Z"
   },
   {
    "duration": 572,
    "start_time": "2022-09-23T09:02:15.160Z"
   },
   {
    "duration": 1273,
    "start_time": "2022-09-23T09:05:13.885Z"
   },
   {
    "duration": 352,
    "start_time": "2022-09-23T09:05:15.160Z"
   },
   {
    "duration": 15,
    "start_time": "2022-09-23T09:05:15.513Z"
   },
   {
    "duration": 5,
    "start_time": "2022-09-23T09:05:15.531Z"
   },
   {
    "duration": 14,
    "start_time": "2022-09-23T09:05:15.538Z"
   },
   {
    "duration": 5,
    "start_time": "2022-09-23T09:05:15.553Z"
   },
   {
    "duration": 32,
    "start_time": "2022-09-23T09:05:15.560Z"
   },
   {
    "duration": 5,
    "start_time": "2022-09-23T09:05:15.594Z"
   },
   {
    "duration": 5475,
    "start_time": "2022-09-23T09:05:15.601Z"
   },
   {
    "duration": 13,
    "start_time": "2022-09-23T09:05:21.080Z"
   },
   {
    "duration": 10,
    "start_time": "2022-09-23T09:05:21.095Z"
   },
   {
    "duration": 5620,
    "start_time": "2022-09-23T09:05:21.107Z"
   },
   {
    "duration": 10,
    "start_time": "2022-09-23T09:05:26.729Z"
   },
   {
    "duration": 14,
    "start_time": "2022-09-23T09:05:26.741Z"
   },
   {
    "duration": 5633,
    "start_time": "2022-09-23T09:05:26.756Z"
   },
   {
    "duration": 14,
    "start_time": "2022-09-23T09:05:32.390Z"
   },
   {
    "duration": 5,
    "start_time": "2022-09-23T09:05:32.405Z"
   },
   {
    "duration": 5498,
    "start_time": "2022-09-23T09:05:32.411Z"
   },
   {
    "duration": 4,
    "start_time": "2022-09-23T09:05:37.911Z"
   },
   {
    "duration": 13,
    "start_time": "2022-09-23T09:05:37.916Z"
   },
   {
    "duration": 17,
    "start_time": "2022-09-23T09:05:37.930Z"
   },
   {
    "duration": 7,
    "start_time": "2022-09-23T09:05:37.948Z"
   },
   {
    "duration": 19,
    "start_time": "2022-09-23T09:05:37.957Z"
   },
   {
    "duration": 20,
    "start_time": "2022-09-23T09:05:37.978Z"
   },
   {
    "duration": 33,
    "start_time": "2022-09-23T09:05:38.000Z"
   },
   {
    "duration": 24,
    "start_time": "2022-09-23T09:05:38.035Z"
   },
   {
    "duration": 67,
    "start_time": "2022-09-23T09:05:38.061Z"
   },
   {
    "duration": 12,
    "start_time": "2022-09-23T09:05:38.133Z"
   },
   {
    "duration": 8,
    "start_time": "2022-09-23T09:05:38.147Z"
   },
   {
    "duration": 21,
    "start_time": "2022-09-23T09:05:38.157Z"
   },
   {
    "duration": 8,
    "start_time": "2022-09-23T09:05:38.180Z"
   },
   {
    "duration": 6,
    "start_time": "2022-09-23T09:05:38.190Z"
   },
   {
    "duration": 5843,
    "start_time": "2022-09-23T09:05:38.198Z"
   },
   {
    "duration": 5,
    "start_time": "2022-09-23T09:05:44.043Z"
   },
   {
    "duration": 9,
    "start_time": "2022-09-23T09:05:44.049Z"
   },
   {
    "duration": 5653,
    "start_time": "2022-09-23T09:05:44.060Z"
   },
   {
    "duration": 4,
    "start_time": "2022-09-23T09:05:49.715Z"
   },
   {
    "duration": 5615,
    "start_time": "2022-09-23T09:05:49.720Z"
   },
   {
    "duration": 14,
    "start_time": "2022-09-23T09:05:55.336Z"
   },
   {
    "duration": 6,
    "start_time": "2022-09-23T09:05:55.352Z"
   },
   {
    "duration": 34,
    "start_time": "2022-09-23T09:05:55.360Z"
   },
   {
    "duration": 15,
    "start_time": "2022-09-23T09:05:55.397Z"
   },
   {
    "duration": 9,
    "start_time": "2022-09-23T09:05:55.414Z"
   },
   {
    "duration": 10,
    "start_time": "2022-09-23T09:05:55.425Z"
   },
   {
    "duration": 9,
    "start_time": "2022-09-23T09:05:55.437Z"
   },
   {
    "duration": 9,
    "start_time": "2022-09-23T09:05:55.447Z"
   },
   {
    "duration": 8,
    "start_time": "2022-09-23T09:05:55.457Z"
   },
   {
    "duration": 6,
    "start_time": "2022-09-23T09:05:55.490Z"
   },
   {
    "duration": 6,
    "start_time": "2022-09-23T09:05:55.498Z"
   },
   {
    "duration": 6,
    "start_time": "2022-09-23T09:05:55.505Z"
   },
   {
    "duration": 5419,
    "start_time": "2022-09-23T09:05:55.512Z"
   },
   {
    "duration": 4,
    "start_time": "2022-09-23T09:06:00.933Z"
   },
   {
    "duration": 36,
    "start_time": "2022-09-23T09:06:00.939Z"
   },
   {
    "duration": 43,
    "start_time": "2022-09-23T09:06:00.977Z"
   },
   {
    "duration": 58,
    "start_time": "2022-09-23T09:06:01.022Z"
   },
   {
    "duration": 5739,
    "start_time": "2022-09-23T09:06:01.082Z"
   },
   {
    "duration": 16,
    "start_time": "2022-09-23T09:06:06.822Z"
   },
   {
    "duration": 6,
    "start_time": "2022-09-23T09:06:06.840Z"
   },
   {
    "duration": 8,
    "start_time": "2022-09-23T09:06:06.848Z"
   },
   {
    "duration": 1976,
    "start_time": "2022-09-23T09:06:06.858Z"
   },
   {
    "duration": 27,
    "start_time": "2022-09-23T09:06:08.836Z"
   },
   {
    "duration": 2,
    "start_time": "2022-09-23T09:06:08.865Z"
   },
   {
    "duration": 753,
    "start_time": "2022-09-23T09:06:08.868Z"
   },
   {
    "duration": 0,
    "start_time": "2022-09-23T09:06:09.624Z"
   },
   {
    "duration": 0,
    "start_time": "2022-09-23T09:06:09.625Z"
   },
   {
    "duration": 0,
    "start_time": "2022-09-23T09:06:09.627Z"
   },
   {
    "duration": 0,
    "start_time": "2022-09-23T09:06:09.628Z"
   },
   {
    "duration": 0,
    "start_time": "2022-09-23T09:06:09.630Z"
   },
   {
    "duration": 0,
    "start_time": "2022-09-23T09:06:09.631Z"
   },
   {
    "duration": 0,
    "start_time": "2022-09-23T09:06:09.632Z"
   },
   {
    "duration": 0,
    "start_time": "2022-09-23T09:06:09.633Z"
   },
   {
    "duration": 1332,
    "start_time": "2022-09-23T09:09:40.706Z"
   },
   {
    "duration": 405,
    "start_time": "2022-09-23T09:09:42.041Z"
   },
   {
    "duration": 15,
    "start_time": "2022-09-23T09:09:42.448Z"
   },
   {
    "duration": 5,
    "start_time": "2022-09-23T09:09:42.465Z"
   },
   {
    "duration": 11,
    "start_time": "2022-09-23T09:09:42.488Z"
   },
   {
    "duration": 4,
    "start_time": "2022-09-23T09:09:42.501Z"
   },
   {
    "duration": 6,
    "start_time": "2022-09-23T09:09:42.507Z"
   },
   {
    "duration": 5,
    "start_time": "2022-09-23T09:09:42.515Z"
   },
   {
    "duration": 5307,
    "start_time": "2022-09-23T09:09:42.522Z"
   },
   {
    "duration": 12,
    "start_time": "2022-09-23T09:09:47.831Z"
   },
   {
    "duration": 16,
    "start_time": "2022-09-23T09:09:47.845Z"
   },
   {
    "duration": 5477,
    "start_time": "2022-09-23T09:09:47.863Z"
   },
   {
    "duration": 10,
    "start_time": "2022-09-23T09:09:53.342Z"
   },
   {
    "duration": 16,
    "start_time": "2022-09-23T09:09:53.355Z"
   },
   {
    "duration": 5453,
    "start_time": "2022-09-23T09:09:53.373Z"
   },
   {
    "duration": 14,
    "start_time": "2022-09-23T09:09:58.827Z"
   },
   {
    "duration": 6,
    "start_time": "2022-09-23T09:09:58.843Z"
   },
   {
    "duration": 5419,
    "start_time": "2022-09-23T09:09:58.850Z"
   },
   {
    "duration": 4,
    "start_time": "2022-09-23T09:10:04.271Z"
   },
   {
    "duration": 17,
    "start_time": "2022-09-23T09:10:04.276Z"
   },
   {
    "duration": 12,
    "start_time": "2022-09-23T09:10:04.295Z"
   },
   {
    "duration": 8,
    "start_time": "2022-09-23T09:10:04.309Z"
   },
   {
    "duration": 20,
    "start_time": "2022-09-23T09:10:04.318Z"
   },
   {
    "duration": 7,
    "start_time": "2022-09-23T09:10:04.340Z"
   },
   {
    "duration": 48,
    "start_time": "2022-09-23T09:10:04.349Z"
   },
   {
    "duration": 23,
    "start_time": "2022-09-23T09:10:04.399Z"
   },
   {
    "duration": 64,
    "start_time": "2022-09-23T09:10:04.424Z"
   },
   {
    "duration": 11,
    "start_time": "2022-09-23T09:10:04.490Z"
   },
   {
    "duration": 8,
    "start_time": "2022-09-23T09:10:04.503Z"
   },
   {
    "duration": 33,
    "start_time": "2022-09-23T09:10:04.513Z"
   },
   {
    "duration": 10,
    "start_time": "2022-09-23T09:10:04.547Z"
   },
   {
    "duration": 5,
    "start_time": "2022-09-23T09:10:04.559Z"
   },
   {
    "duration": 5506,
    "start_time": "2022-09-23T09:10:04.566Z"
   },
   {
    "duration": 6,
    "start_time": "2022-09-23T09:10:10.074Z"
   },
   {
    "duration": 3,
    "start_time": "2022-09-23T09:10:10.090Z"
   },
   {
    "duration": 5580,
    "start_time": "2022-09-23T09:10:10.095Z"
   },
   {
    "duration": 3,
    "start_time": "2022-09-23T09:10:15.677Z"
   },
   {
    "duration": 5507,
    "start_time": "2022-09-23T09:10:15.689Z"
   },
   {
    "duration": 13,
    "start_time": "2022-09-23T09:10:21.198Z"
   },
   {
    "duration": 8,
    "start_time": "2022-09-23T09:10:21.213Z"
   },
   {
    "duration": 17,
    "start_time": "2022-09-23T09:10:21.225Z"
   },
   {
    "duration": 10,
    "start_time": "2022-09-23T09:10:21.244Z"
   },
   {
    "duration": 23,
    "start_time": "2022-09-23T09:10:21.255Z"
   },
   {
    "duration": 15,
    "start_time": "2022-09-23T09:10:21.279Z"
   },
   {
    "duration": 7,
    "start_time": "2022-09-23T09:10:21.296Z"
   },
   {
    "duration": 9,
    "start_time": "2022-09-23T09:10:21.305Z"
   },
   {
    "duration": 14,
    "start_time": "2022-09-23T09:10:21.315Z"
   },
   {
    "duration": 17,
    "start_time": "2022-09-23T09:10:21.331Z"
   },
   {
    "duration": 4,
    "start_time": "2022-09-23T09:10:21.350Z"
   },
   {
    "duration": 9,
    "start_time": "2022-09-23T09:10:21.356Z"
   },
   {
    "duration": 5519,
    "start_time": "2022-09-23T09:10:21.366Z"
   },
   {
    "duration": 5,
    "start_time": "2022-09-23T09:10:26.887Z"
   },
   {
    "duration": 7,
    "start_time": "2022-09-23T09:10:26.894Z"
   },
   {
    "duration": 9,
    "start_time": "2022-09-23T09:10:26.903Z"
   },
   {
    "duration": 19,
    "start_time": "2022-09-23T09:10:26.914Z"
   },
   {
    "duration": 6072,
    "start_time": "2022-09-23T09:10:26.935Z"
   },
   {
    "duration": 17,
    "start_time": "2022-09-23T09:10:33.009Z"
   },
   {
    "duration": 18,
    "start_time": "2022-09-23T09:10:33.028Z"
   },
   {
    "duration": 13,
    "start_time": "2022-09-23T09:10:33.047Z"
   },
   {
    "duration": 1841,
    "start_time": "2022-09-23T09:10:33.062Z"
   },
   {
    "duration": 2,
    "start_time": "2022-09-23T09:10:34.905Z"
   },
   {
    "duration": 6,
    "start_time": "2022-09-23T09:10:34.908Z"
   },
   {
    "duration": 9,
    "start_time": "2022-09-23T09:10:34.915Z"
   },
   {
    "duration": 3,
    "start_time": "2022-09-23T09:10:34.925Z"
   },
   {
    "duration": 8,
    "start_time": "2022-09-23T09:10:34.930Z"
   },
   {
    "duration": 6,
    "start_time": "2022-09-23T09:10:34.940Z"
   },
   {
    "duration": 49,
    "start_time": "2022-09-23T09:10:34.948Z"
   },
   {
    "duration": 520,
    "start_time": "2022-09-23T09:10:34.999Z"
   },
   {
    "duration": 15,
    "start_time": "2022-09-23T09:10:35.520Z"
   },
   {
    "duration": 91,
    "start_time": "2022-09-23T09:10:35.536Z"
   },
   {
    "duration": 1397,
    "start_time": "2022-09-23T09:17:57.043Z"
   },
   {
    "duration": 615,
    "start_time": "2022-09-23T09:17:58.443Z"
   },
   {
    "duration": 15,
    "start_time": "2022-09-23T09:17:59.060Z"
   },
   {
    "duration": 17,
    "start_time": "2022-09-23T09:17:59.077Z"
   },
   {
    "duration": 15,
    "start_time": "2022-09-23T09:17:59.099Z"
   },
   {
    "duration": 5,
    "start_time": "2022-09-23T09:17:59.116Z"
   },
   {
    "duration": 6,
    "start_time": "2022-09-23T09:17:59.122Z"
   },
   {
    "duration": 9,
    "start_time": "2022-09-23T09:17:59.130Z"
   },
   {
    "duration": 6637,
    "start_time": "2022-09-23T09:17:59.141Z"
   },
   {
    "duration": 18,
    "start_time": "2022-09-23T09:18:05.780Z"
   },
   {
    "duration": 15,
    "start_time": "2022-09-23T09:18:05.801Z"
   },
   {
    "duration": 6633,
    "start_time": "2022-09-23T09:18:05.818Z"
   },
   {
    "duration": 10,
    "start_time": "2022-09-23T09:18:12.453Z"
   },
   {
    "duration": 23,
    "start_time": "2022-09-23T09:18:12.466Z"
   },
   {
    "duration": 6171,
    "start_time": "2022-09-23T09:18:12.491Z"
   },
   {
    "duration": 15,
    "start_time": "2022-09-23T09:18:18.664Z"
   },
   {
    "duration": 6,
    "start_time": "2022-09-23T09:18:18.690Z"
   },
   {
    "duration": 6225,
    "start_time": "2022-09-23T09:18:18.699Z"
   },
   {
    "duration": 4,
    "start_time": "2022-09-23T09:18:24.925Z"
   },
   {
    "duration": 10,
    "start_time": "2022-09-23T09:18:24.930Z"
   },
   {
    "duration": 13,
    "start_time": "2022-09-23T09:18:24.941Z"
   },
   {
    "duration": 6,
    "start_time": "2022-09-23T09:18:24.956Z"
   },
   {
    "duration": 37,
    "start_time": "2022-09-23T09:18:24.963Z"
   },
   {
    "duration": 11,
    "start_time": "2022-09-23T09:18:25.003Z"
   },
   {
    "duration": 30,
    "start_time": "2022-09-23T09:18:25.016Z"
   },
   {
    "duration": 42,
    "start_time": "2022-09-23T09:18:25.048Z"
   },
   {
    "duration": 57,
    "start_time": "2022-09-23T09:18:25.092Z"
   },
   {
    "duration": 11,
    "start_time": "2022-09-23T09:18:25.151Z"
   },
   {
    "duration": 8,
    "start_time": "2022-09-23T09:18:25.164Z"
   },
   {
    "duration": 20,
    "start_time": "2022-09-23T09:18:25.174Z"
   },
   {
    "duration": 16,
    "start_time": "2022-09-23T09:18:25.196Z"
   },
   {
    "duration": 4,
    "start_time": "2022-09-23T09:18:25.214Z"
   },
   {
    "duration": 6003,
    "start_time": "2022-09-23T09:18:25.219Z"
   },
   {
    "duration": 4,
    "start_time": "2022-09-23T09:18:31.223Z"
   },
   {
    "duration": 14,
    "start_time": "2022-09-23T09:18:31.229Z"
   },
   {
    "duration": 6182,
    "start_time": "2022-09-23T09:18:31.245Z"
   },
   {
    "duration": 3,
    "start_time": "2022-09-23T09:18:37.429Z"
   },
   {
    "duration": 5990,
    "start_time": "2022-09-23T09:18:37.433Z"
   },
   {
    "duration": 13,
    "start_time": "2022-09-23T09:18:43.425Z"
   },
   {
    "duration": 7,
    "start_time": "2022-09-23T09:18:43.439Z"
   },
   {
    "duration": 17,
    "start_time": "2022-09-23T09:18:43.450Z"
   },
   {
    "duration": 24,
    "start_time": "2022-09-23T09:18:43.469Z"
   },
   {
    "duration": 13,
    "start_time": "2022-09-23T09:18:43.496Z"
   },
   {
    "duration": 9,
    "start_time": "2022-09-23T09:18:43.511Z"
   },
   {
    "duration": 8,
    "start_time": "2022-09-23T09:18:43.522Z"
   },
   {
    "duration": 8,
    "start_time": "2022-09-23T09:18:43.532Z"
   },
   {
    "duration": 8,
    "start_time": "2022-09-23T09:18:43.542Z"
   },
   {
    "duration": 40,
    "start_time": "2022-09-23T09:18:43.552Z"
   },
   {
    "duration": 4,
    "start_time": "2022-09-23T09:18:43.595Z"
   },
   {
    "duration": 13,
    "start_time": "2022-09-23T09:18:43.601Z"
   },
   {
    "duration": 6145,
    "start_time": "2022-09-23T09:18:43.616Z"
   },
   {
    "duration": 6,
    "start_time": "2022-09-23T09:18:49.763Z"
   },
   {
    "duration": 6,
    "start_time": "2022-09-23T09:18:49.771Z"
   },
   {
    "duration": 22,
    "start_time": "2022-09-23T09:18:49.779Z"
   },
   {
    "duration": 19,
    "start_time": "2022-09-23T09:18:49.804Z"
   },
   {
    "duration": 6529,
    "start_time": "2022-09-23T09:18:49.825Z"
   },
   {
    "duration": 17,
    "start_time": "2022-09-23T09:18:56.355Z"
   },
   {
    "duration": 17,
    "start_time": "2022-09-23T09:18:56.373Z"
   },
   {
    "duration": 15,
    "start_time": "2022-09-23T09:18:56.392Z"
   },
   {
    "duration": 2022,
    "start_time": "2022-09-23T09:18:56.409Z"
   },
   {
    "duration": 2,
    "start_time": "2022-09-23T09:18:58.433Z"
   },
   {
    "duration": 12,
    "start_time": "2022-09-23T09:18:58.437Z"
   },
   {
    "duration": 24,
    "start_time": "2022-09-23T09:18:58.451Z"
   },
   {
    "duration": 10,
    "start_time": "2022-09-23T09:18:58.478Z"
   },
   {
    "duration": 11,
    "start_time": "2022-09-23T09:18:58.490Z"
   },
   {
    "duration": 5,
    "start_time": "2022-09-23T09:18:58.503Z"
   },
   {
    "duration": 38,
    "start_time": "2022-09-23T09:18:58.510Z"
   },
   {
    "duration": 18,
    "start_time": "2022-09-23T09:18:58.550Z"
   },
   {
    "duration": 19,
    "start_time": "2022-09-23T09:18:58.570Z"
   },
   {
    "duration": 102,
    "start_time": "2022-09-23T09:18:58.590Z"
   },
   {
    "duration": 8,
    "start_time": "2022-09-23T09:47:10.842Z"
   },
   {
    "duration": 6,
    "start_time": "2022-09-23T09:47:23.495Z"
   },
   {
    "duration": 6,
    "start_time": "2022-09-23T09:48:14.865Z"
   },
   {
    "duration": 7,
    "start_time": "2022-09-23T09:48:44.845Z"
   },
   {
    "duration": 7,
    "start_time": "2022-09-23T09:49:51.471Z"
   },
   {
    "duration": 7,
    "start_time": "2022-09-23T09:50:38.007Z"
   },
   {
    "duration": 7,
    "start_time": "2022-09-23T09:50:42.276Z"
   },
   {
    "duration": 1280,
    "start_time": "2022-09-23T10:01:36.471Z"
   },
   {
    "duration": 458,
    "start_time": "2022-09-23T10:01:37.754Z"
   },
   {
    "duration": 14,
    "start_time": "2022-09-23T10:01:38.214Z"
   },
   {
    "duration": 7,
    "start_time": "2022-09-23T10:01:38.230Z"
   },
   {
    "duration": 13,
    "start_time": "2022-09-23T10:01:38.239Z"
   },
   {
    "duration": 4,
    "start_time": "2022-09-23T10:01:38.253Z"
   },
   {
    "duration": 30,
    "start_time": "2022-09-23T10:01:38.259Z"
   },
   {
    "duration": 5,
    "start_time": "2022-09-23T10:01:38.291Z"
   },
   {
    "duration": 5675,
    "start_time": "2022-09-23T10:01:38.298Z"
   },
   {
    "duration": 15,
    "start_time": "2022-09-23T10:01:43.975Z"
   },
   {
    "duration": 6,
    "start_time": "2022-09-23T10:01:43.992Z"
   },
   {
    "duration": 5555,
    "start_time": "2022-09-23T10:01:44.000Z"
   },
   {
    "duration": 10,
    "start_time": "2022-09-23T10:01:49.557Z"
   },
   {
    "duration": 24,
    "start_time": "2022-09-23T10:01:49.570Z"
   },
   {
    "duration": 5882,
    "start_time": "2022-09-23T10:01:49.596Z"
   },
   {
    "duration": 20,
    "start_time": "2022-09-23T10:01:55.479Z"
   },
   {
    "duration": 8,
    "start_time": "2022-09-23T10:01:55.500Z"
   },
   {
    "duration": 5773,
    "start_time": "2022-09-23T10:01:55.510Z"
   },
   {
    "duration": 4,
    "start_time": "2022-09-23T10:02:01.285Z"
   },
   {
    "duration": 27,
    "start_time": "2022-09-23T10:02:01.291Z"
   },
   {
    "duration": 37,
    "start_time": "2022-09-23T10:02:01.320Z"
   },
   {
    "duration": 21,
    "start_time": "2022-09-23T10:02:01.359Z"
   },
   {
    "duration": 38,
    "start_time": "2022-09-23T10:02:01.383Z"
   },
   {
    "duration": 46,
    "start_time": "2022-09-23T10:02:01.423Z"
   },
   {
    "duration": 51,
    "start_time": "2022-09-23T10:02:01.471Z"
   },
   {
    "duration": 25,
    "start_time": "2022-09-23T10:02:01.524Z"
   },
   {
    "duration": 91,
    "start_time": "2022-09-23T10:02:01.551Z"
   },
   {
    "duration": 11,
    "start_time": "2022-09-23T10:02:01.644Z"
   },
   {
    "duration": 15,
    "start_time": "2022-09-23T10:02:01.657Z"
   },
   {
    "duration": 27,
    "start_time": "2022-09-23T10:02:01.675Z"
   },
   {
    "duration": 9,
    "start_time": "2022-09-23T10:02:01.704Z"
   },
   {
    "duration": 6,
    "start_time": "2022-09-23T10:02:01.715Z"
   },
   {
    "duration": 5626,
    "start_time": "2022-09-23T10:02:01.723Z"
   },
   {
    "duration": 6,
    "start_time": "2022-09-23T10:02:07.351Z"
   },
   {
    "duration": 22,
    "start_time": "2022-09-23T10:02:07.358Z"
   },
   {
    "duration": 5665,
    "start_time": "2022-09-23T10:02:07.383Z"
   },
   {
    "duration": 5,
    "start_time": "2022-09-23T10:02:13.049Z"
   },
   {
    "duration": 5699,
    "start_time": "2022-09-23T10:02:13.055Z"
   },
   {
    "duration": 12,
    "start_time": "2022-09-23T10:02:18.755Z"
   },
   {
    "duration": 10,
    "start_time": "2022-09-23T10:02:18.768Z"
   },
   {
    "duration": 15,
    "start_time": "2022-09-23T10:02:18.788Z"
   },
   {
    "duration": 11,
    "start_time": "2022-09-23T10:02:18.805Z"
   },
   {
    "duration": 8,
    "start_time": "2022-09-23T10:02:18.818Z"
   },
   {
    "duration": 7,
    "start_time": "2022-09-23T10:02:18.828Z"
   },
   {
    "duration": 7,
    "start_time": "2022-09-23T10:02:18.837Z"
   },
   {
    "duration": 10,
    "start_time": "2022-09-23T10:02:18.845Z"
   },
   {
    "duration": 7,
    "start_time": "2022-09-23T10:02:18.857Z"
   },
   {
    "duration": 25,
    "start_time": "2022-09-23T10:02:18.866Z"
   },
   {
    "duration": 4,
    "start_time": "2022-09-23T10:02:18.893Z"
   },
   {
    "duration": 5,
    "start_time": "2022-09-23T10:02:18.899Z"
   },
   {
    "duration": 5397,
    "start_time": "2022-09-23T10:02:18.906Z"
   },
   {
    "duration": 5,
    "start_time": "2022-09-23T10:02:24.305Z"
   },
   {
    "duration": 10,
    "start_time": "2022-09-23T10:02:24.311Z"
   },
   {
    "duration": 10,
    "start_time": "2022-09-23T10:02:24.322Z"
   },
   {
    "duration": 18,
    "start_time": "2022-09-23T10:02:24.334Z"
   },
   {
    "duration": 5800,
    "start_time": "2022-09-23T10:02:24.354Z"
   },
   {
    "duration": 19,
    "start_time": "2022-09-23T10:02:30.156Z"
   },
   {
    "duration": 22,
    "start_time": "2022-09-23T10:02:30.177Z"
   },
   {
    "duration": 25,
    "start_time": "2022-09-23T10:02:30.201Z"
   },
   {
    "duration": 1984,
    "start_time": "2022-09-23T10:02:30.227Z"
   },
   {
    "duration": 3,
    "start_time": "2022-09-23T10:02:32.213Z"
   },
   {
    "duration": 28,
    "start_time": "2022-09-23T10:02:32.218Z"
   },
   {
    "duration": 17,
    "start_time": "2022-09-23T10:02:32.248Z"
   },
   {
    "duration": 18,
    "start_time": "2022-09-23T10:02:32.267Z"
   },
   {
    "duration": 22,
    "start_time": "2022-09-23T10:02:32.287Z"
   },
   {
    "duration": 26,
    "start_time": "2022-09-23T10:02:32.311Z"
   },
   {
    "duration": 40,
    "start_time": "2022-09-23T10:02:32.339Z"
   },
   {
    "duration": 13,
    "start_time": "2022-09-23T10:02:32.381Z"
   },
   {
    "duration": 32,
    "start_time": "2022-09-23T10:02:32.395Z"
   },
   {
    "duration": 102,
    "start_time": "2022-09-23T10:02:32.429Z"
   },
   {
    "duration": 6,
    "start_time": "2022-09-23T10:04:21.590Z"
   },
   {
    "duration": 3,
    "start_time": "2022-09-23T10:05:36.661Z"
   },
   {
    "duration": 124,
    "start_time": "2022-09-23T10:05:42.215Z"
   },
   {
    "duration": 71,
    "start_time": "2022-09-23T10:05:56.160Z"
   },
   {
    "duration": 31,
    "start_time": "2022-09-23T10:06:10.416Z"
   },
   {
    "duration": 12,
    "start_time": "2022-09-23T10:06:23.180Z"
   },
   {
    "duration": 15,
    "start_time": "2022-09-23T10:06:31.795Z"
   },
   {
    "duration": 75,
    "start_time": "2022-09-23T10:07:34.935Z"
   },
   {
    "duration": 28,
    "start_time": "2022-09-23T10:07:40.206Z"
   },
   {
    "duration": 1276,
    "start_time": "2022-09-23T10:08:14.402Z"
   },
   {
    "duration": 312,
    "start_time": "2022-09-23T10:08:15.681Z"
   },
   {
    "duration": 15,
    "start_time": "2022-09-23T10:08:15.995Z"
   },
   {
    "duration": 4,
    "start_time": "2022-09-23T10:08:16.012Z"
   },
   {
    "duration": 17,
    "start_time": "2022-09-23T10:08:16.018Z"
   },
   {
    "duration": 4,
    "start_time": "2022-09-23T10:08:16.037Z"
   },
   {
    "duration": 7,
    "start_time": "2022-09-23T10:08:16.043Z"
   },
   {
    "duration": 6,
    "start_time": "2022-09-23T10:08:16.052Z"
   },
   {
    "duration": 5242,
    "start_time": "2022-09-23T10:08:16.059Z"
   },
   {
    "duration": 11,
    "start_time": "2022-09-23T10:08:21.303Z"
   },
   {
    "duration": 7,
    "start_time": "2022-09-23T10:08:21.316Z"
   },
   {
    "duration": 5179,
    "start_time": "2022-09-23T10:08:21.324Z"
   },
   {
    "duration": 10,
    "start_time": "2022-09-23T10:08:26.505Z"
   },
   {
    "duration": 14,
    "start_time": "2022-09-23T10:08:26.518Z"
   },
   {
    "duration": 5100,
    "start_time": "2022-09-23T10:08:26.533Z"
   },
   {
    "duration": 13,
    "start_time": "2022-09-23T10:08:31.635Z"
   },
   {
    "duration": 9,
    "start_time": "2022-09-23T10:08:31.650Z"
   },
   {
    "duration": 5142,
    "start_time": "2022-09-23T10:08:31.661Z"
   },
   {
    "duration": 4,
    "start_time": "2022-09-23T10:08:36.804Z"
   },
   {
    "duration": 11,
    "start_time": "2022-09-23T10:08:36.809Z"
   },
   {
    "duration": 14,
    "start_time": "2022-09-23T10:08:36.821Z"
   },
   {
    "duration": 6,
    "start_time": "2022-09-23T10:08:36.836Z"
   },
   {
    "duration": 27,
    "start_time": "2022-09-23T10:08:36.843Z"
   },
   {
    "duration": 12,
    "start_time": "2022-09-23T10:08:36.873Z"
   },
   {
    "duration": 44,
    "start_time": "2022-09-23T10:08:36.888Z"
   },
   {
    "duration": 22,
    "start_time": "2022-09-23T10:08:36.934Z"
   },
   {
    "duration": 60,
    "start_time": "2022-09-23T10:08:36.958Z"
   },
   {
    "duration": 10,
    "start_time": "2022-09-23T10:08:37.020Z"
   },
   {
    "duration": 6,
    "start_time": "2022-09-23T10:08:37.032Z"
   },
   {
    "duration": 18,
    "start_time": "2022-09-23T10:08:37.039Z"
   },
   {
    "duration": 7,
    "start_time": "2022-09-23T10:08:37.058Z"
   },
   {
    "duration": 4,
    "start_time": "2022-09-23T10:08:37.066Z"
   },
   {
    "duration": 5357,
    "start_time": "2022-09-23T10:08:37.072Z"
   },
   {
    "duration": 4,
    "start_time": "2022-09-23T10:08:42.431Z"
   },
   {
    "duration": 5,
    "start_time": "2022-09-23T10:08:42.436Z"
   },
   {
    "duration": 5147,
    "start_time": "2022-09-23T10:08:42.442Z"
   },
   {
    "duration": 3,
    "start_time": "2022-09-23T10:08:47.590Z"
   },
   {
    "duration": 5303,
    "start_time": "2022-09-23T10:08:47.595Z"
   },
   {
    "duration": 11,
    "start_time": "2022-09-23T10:08:52.900Z"
   },
   {
    "duration": 5,
    "start_time": "2022-09-23T10:08:52.912Z"
   },
   {
    "duration": 15,
    "start_time": "2022-09-23T10:08:52.920Z"
   },
   {
    "duration": 8,
    "start_time": "2022-09-23T10:08:52.937Z"
   },
   {
    "duration": 8,
    "start_time": "2022-09-23T10:08:52.946Z"
   },
   {
    "duration": 33,
    "start_time": "2022-09-23T10:08:52.956Z"
   },
   {
    "duration": 4,
    "start_time": "2022-09-23T10:08:52.991Z"
   },
   {
    "duration": 8,
    "start_time": "2022-09-23T10:08:52.997Z"
   },
   {
    "duration": 7,
    "start_time": "2022-09-23T10:08:53.006Z"
   },
   {
    "duration": 7,
    "start_time": "2022-09-23T10:08:53.014Z"
   },
   {
    "duration": 6,
    "start_time": "2022-09-23T10:08:53.023Z"
   },
   {
    "duration": 7,
    "start_time": "2022-09-23T10:08:53.031Z"
   },
   {
    "duration": 5061,
    "start_time": "2022-09-23T10:08:53.040Z"
   },
   {
    "duration": 4,
    "start_time": "2022-09-23T10:08:58.103Z"
   },
   {
    "duration": 8,
    "start_time": "2022-09-23T10:08:58.109Z"
   },
   {
    "duration": 12,
    "start_time": "2022-09-23T10:08:58.119Z"
   },
   {
    "duration": 17,
    "start_time": "2022-09-23T10:08:58.133Z"
   },
   {
    "duration": 5620,
    "start_time": "2022-09-23T10:08:58.152Z"
   },
   {
    "duration": 22,
    "start_time": "2022-09-23T10:09:03.773Z"
   },
   {
    "duration": 11,
    "start_time": "2022-09-23T10:09:03.797Z"
   },
   {
    "duration": 32,
    "start_time": "2022-09-23T10:09:03.810Z"
   },
   {
    "duration": 1800,
    "start_time": "2022-09-23T10:09:03.844Z"
   },
   {
    "duration": 3,
    "start_time": "2022-09-23T10:09:05.646Z"
   },
   {
    "duration": 21,
    "start_time": "2022-09-23T10:09:05.650Z"
   },
   {
    "duration": 31,
    "start_time": "2022-09-23T10:09:05.673Z"
   },
   {
    "duration": 18,
    "start_time": "2022-09-23T10:09:05.705Z"
   },
   {
    "duration": 41,
    "start_time": "2022-09-23T10:09:05.724Z"
   },
   {
    "duration": 32,
    "start_time": "2022-09-23T10:09:05.766Z"
   },
   {
    "duration": 53,
    "start_time": "2022-09-23T10:09:05.800Z"
   },
   {
    "duration": 36,
    "start_time": "2022-09-23T10:09:05.855Z"
   },
   {
    "duration": 51,
    "start_time": "2022-09-23T10:09:05.892Z"
   },
   {
    "duration": 12,
    "start_time": "2022-09-23T10:09:05.945Z"
   },
   {
    "duration": 138,
    "start_time": "2022-09-23T10:09:05.958Z"
   },
   {
    "duration": 25,
    "start_time": "2022-09-23T10:27:01.410Z"
   },
   {
    "duration": 1259,
    "start_time": "2022-09-23T10:30:28.385Z"
   },
   {
    "duration": 474,
    "start_time": "2022-09-23T10:30:29.646Z"
   },
   {
    "duration": 15,
    "start_time": "2022-09-23T10:30:30.122Z"
   },
   {
    "duration": 8,
    "start_time": "2022-09-23T10:30:30.138Z"
   },
   {
    "duration": 26,
    "start_time": "2022-09-23T10:30:30.148Z"
   },
   {
    "duration": 8,
    "start_time": "2022-09-23T10:30:30.176Z"
   },
   {
    "duration": 16,
    "start_time": "2022-09-23T10:30:30.186Z"
   },
   {
    "duration": 11,
    "start_time": "2022-09-23T10:30:30.204Z"
   },
   {
    "duration": 5450,
    "start_time": "2022-09-23T10:30:30.217Z"
   },
   {
    "duration": 11,
    "start_time": "2022-09-23T10:30:35.669Z"
   },
   {
    "duration": 9,
    "start_time": "2022-09-23T10:30:35.682Z"
   },
   {
    "duration": 5202,
    "start_time": "2022-09-23T10:30:35.693Z"
   },
   {
    "duration": 10,
    "start_time": "2022-09-23T10:30:40.901Z"
   },
   {
    "duration": 16,
    "start_time": "2022-09-23T10:30:40.914Z"
   },
   {
    "duration": 5189,
    "start_time": "2022-09-23T10:30:40.932Z"
   },
   {
    "duration": 13,
    "start_time": "2022-09-23T10:30:46.123Z"
   },
   {
    "duration": 2,
    "start_time": "2022-09-23T10:30:46.138Z"
   },
   {
    "duration": 5203,
    "start_time": "2022-09-23T10:30:46.142Z"
   },
   {
    "duration": 5,
    "start_time": "2022-09-23T10:30:51.346Z"
   },
   {
    "duration": 9,
    "start_time": "2022-09-23T10:30:51.353Z"
   },
   {
    "duration": 14,
    "start_time": "2022-09-23T10:30:51.363Z"
   },
   {
    "duration": 22,
    "start_time": "2022-09-23T10:30:51.390Z"
   },
   {
    "duration": 34,
    "start_time": "2022-09-23T10:30:51.414Z"
   },
   {
    "duration": 30,
    "start_time": "2022-09-23T10:30:51.450Z"
   },
   {
    "duration": 37,
    "start_time": "2022-09-23T10:30:51.482Z"
   },
   {
    "duration": 22,
    "start_time": "2022-09-23T10:30:51.521Z"
   },
   {
    "duration": 80,
    "start_time": "2022-09-23T10:30:51.545Z"
   },
   {
    "duration": 10,
    "start_time": "2022-09-23T10:30:51.627Z"
   },
   {
    "duration": 17,
    "start_time": "2022-09-23T10:30:51.638Z"
   },
   {
    "duration": 26,
    "start_time": "2022-09-23T10:30:51.657Z"
   },
   {
    "duration": 15,
    "start_time": "2022-09-23T10:30:51.684Z"
   },
   {
    "duration": 13,
    "start_time": "2022-09-23T10:30:51.700Z"
   },
   {
    "duration": 5433,
    "start_time": "2022-09-23T10:30:51.714Z"
   },
   {
    "duration": 5,
    "start_time": "2022-09-23T10:30:57.148Z"
   },
   {
    "duration": 28,
    "start_time": "2022-09-23T10:30:57.154Z"
   },
   {
    "duration": 5395,
    "start_time": "2022-09-23T10:30:57.184Z"
   },
   {
    "duration": 3,
    "start_time": "2022-09-23T10:31:02.581Z"
   },
   {
    "duration": 5473,
    "start_time": "2022-09-23T10:31:02.589Z"
   },
   {
    "duration": 12,
    "start_time": "2022-09-23T10:31:08.064Z"
   },
   {
    "duration": 5,
    "start_time": "2022-09-23T10:31:08.078Z"
   },
   {
    "duration": 19,
    "start_time": "2022-09-23T10:31:08.092Z"
   },
   {
    "duration": 9,
    "start_time": "2022-09-23T10:31:08.113Z"
   },
   {
    "duration": 13,
    "start_time": "2022-09-23T10:31:08.123Z"
   },
   {
    "duration": 11,
    "start_time": "2022-09-23T10:31:08.138Z"
   },
   {
    "duration": 7,
    "start_time": "2022-09-23T10:31:08.151Z"
   },
   {
    "duration": 29,
    "start_time": "2022-09-23T10:31:08.160Z"
   },
   {
    "duration": 6,
    "start_time": "2022-09-23T10:31:08.191Z"
   },
   {
    "duration": 10,
    "start_time": "2022-09-23T10:31:08.199Z"
   },
   {
    "duration": 9,
    "start_time": "2022-09-23T10:31:08.211Z"
   },
   {
    "duration": 10,
    "start_time": "2022-09-23T10:31:08.222Z"
   },
   {
    "duration": 5463,
    "start_time": "2022-09-23T10:31:08.234Z"
   },
   {
    "duration": 5,
    "start_time": "2022-09-23T10:31:13.699Z"
   },
   {
    "duration": 6,
    "start_time": "2022-09-23T10:31:13.705Z"
   },
   {
    "duration": 10,
    "start_time": "2022-09-23T10:31:13.712Z"
   },
   {
    "duration": 18,
    "start_time": "2022-09-23T10:31:13.723Z"
   },
   {
    "duration": 5717,
    "start_time": "2022-09-23T10:31:13.743Z"
   },
   {
    "duration": 17,
    "start_time": "2022-09-23T10:31:19.461Z"
   },
   {
    "duration": 6,
    "start_time": "2022-09-23T10:31:19.488Z"
   },
   {
    "duration": 7,
    "start_time": "2022-09-23T10:31:19.495Z"
   },
   {
    "duration": 1829,
    "start_time": "2022-09-23T10:31:19.504Z"
   },
   {
    "duration": 3,
    "start_time": "2022-09-23T10:31:21.335Z"
   },
   {
    "duration": 12,
    "start_time": "2022-09-23T10:31:21.339Z"
   },
   {
    "duration": 13,
    "start_time": "2022-09-23T10:31:21.353Z"
   },
   {
    "duration": 21,
    "start_time": "2022-09-23T10:31:21.368Z"
   },
   {
    "duration": 13,
    "start_time": "2022-09-23T10:31:21.391Z"
   },
   {
    "duration": 9,
    "start_time": "2022-09-23T10:31:21.406Z"
   },
   {
    "duration": 33,
    "start_time": "2022-09-23T10:31:21.416Z"
   },
   {
    "duration": 6,
    "start_time": "2022-09-23T10:31:21.451Z"
   },
   {
    "duration": 40,
    "start_time": "2022-09-23T10:31:21.459Z"
   },
   {
    "duration": 13,
    "start_time": "2022-09-23T10:31:21.501Z"
   },
   {
    "duration": 96,
    "start_time": "2022-09-23T10:31:21.516Z"
   },
   {
    "duration": 25,
    "start_time": "2022-09-23T10:31:21.614Z"
   },
   {
    "duration": 1256,
    "start_time": "2022-09-23T10:47:14.920Z"
   },
   {
    "duration": 414,
    "start_time": "2022-09-23T10:47:16.179Z"
   },
   {
    "duration": 14,
    "start_time": "2022-09-23T10:47:16.595Z"
   },
   {
    "duration": 17,
    "start_time": "2022-09-23T10:47:16.611Z"
   },
   {
    "duration": 14,
    "start_time": "2022-09-23T10:47:16.630Z"
   },
   {
    "duration": 4,
    "start_time": "2022-09-23T10:47:16.646Z"
   },
   {
    "duration": 7,
    "start_time": "2022-09-23T10:47:16.652Z"
   },
   {
    "duration": 8,
    "start_time": "2022-09-23T10:47:16.661Z"
   },
   {
    "duration": 5624,
    "start_time": "2022-09-23T10:47:16.671Z"
   },
   {
    "duration": 12,
    "start_time": "2022-09-23T10:47:22.297Z"
   },
   {
    "duration": 19,
    "start_time": "2022-09-23T10:47:22.310Z"
   },
   {
    "duration": 5474,
    "start_time": "2022-09-23T10:47:22.331Z"
   },
   {
    "duration": 10,
    "start_time": "2022-09-23T10:47:27.807Z"
   },
   {
    "duration": 16,
    "start_time": "2022-09-23T10:47:27.820Z"
   },
   {
    "duration": 5351,
    "start_time": "2022-09-23T10:47:27.838Z"
   },
   {
    "duration": 14,
    "start_time": "2022-09-23T10:47:33.190Z"
   },
   {
    "duration": 7,
    "start_time": "2022-09-23T10:47:33.205Z"
   },
   {
    "duration": 5377,
    "start_time": "2022-09-23T10:47:33.213Z"
   },
   {
    "duration": 4,
    "start_time": "2022-09-23T10:47:38.592Z"
   },
   {
    "duration": 17,
    "start_time": "2022-09-23T10:47:38.597Z"
   },
   {
    "duration": 16,
    "start_time": "2022-09-23T10:47:38.616Z"
   },
   {
    "duration": 9,
    "start_time": "2022-09-23T10:47:38.633Z"
   },
   {
    "duration": 25,
    "start_time": "2022-09-23T10:47:38.644Z"
   },
   {
    "duration": 19,
    "start_time": "2022-09-23T10:47:38.671Z"
   },
   {
    "duration": 43,
    "start_time": "2022-09-23T10:47:38.693Z"
   },
   {
    "duration": 24,
    "start_time": "2022-09-23T10:47:38.738Z"
   },
   {
    "duration": 149,
    "start_time": "2022-09-23T10:47:38.764Z"
   },
   {
    "duration": 12,
    "start_time": "2022-09-23T10:47:38.915Z"
   },
   {
    "duration": 13,
    "start_time": "2022-09-23T10:47:38.928Z"
   },
   {
    "duration": 29,
    "start_time": "2022-09-23T10:47:38.943Z"
   },
   {
    "duration": 8,
    "start_time": "2022-09-23T10:47:38.974Z"
   },
   {
    "duration": 9,
    "start_time": "2022-09-23T10:47:38.984Z"
   },
   {
    "duration": 5724,
    "start_time": "2022-09-23T10:47:38.994Z"
   },
   {
    "duration": 6,
    "start_time": "2022-09-23T10:47:44.720Z"
   },
   {
    "duration": 6,
    "start_time": "2022-09-23T10:47:44.727Z"
   },
   {
    "duration": 5319,
    "start_time": "2022-09-23T10:47:44.735Z"
   },
   {
    "duration": 4,
    "start_time": "2022-09-23T10:47:50.055Z"
   },
   {
    "duration": 5405,
    "start_time": "2022-09-23T10:47:50.061Z"
   },
   {
    "duration": 13,
    "start_time": "2022-09-23T10:47:55.467Z"
   },
   {
    "duration": 3,
    "start_time": "2022-09-23T10:47:55.489Z"
   },
   {
    "duration": 18,
    "start_time": "2022-09-23T10:47:55.496Z"
   },
   {
    "duration": 12,
    "start_time": "2022-09-23T10:47:55.516Z"
   },
   {
    "duration": 7,
    "start_time": "2022-09-23T10:47:55.530Z"
   },
   {
    "duration": 10,
    "start_time": "2022-09-23T10:47:55.539Z"
   },
   {
    "duration": 7,
    "start_time": "2022-09-23T10:47:55.550Z"
   },
   {
    "duration": 7,
    "start_time": "2022-09-23T10:47:55.558Z"
   },
   {
    "duration": 6,
    "start_time": "2022-09-23T10:47:55.588Z"
   },
   {
    "duration": 7,
    "start_time": "2022-09-23T10:47:55.595Z"
   },
   {
    "duration": 4,
    "start_time": "2022-09-23T10:47:55.604Z"
   },
   {
    "duration": 4,
    "start_time": "2022-09-23T10:47:55.610Z"
   },
   {
    "duration": 5235,
    "start_time": "2022-09-23T10:47:55.616Z"
   },
   {
    "duration": 5,
    "start_time": "2022-09-23T10:48:00.852Z"
   },
   {
    "duration": 12,
    "start_time": "2022-09-23T10:48:00.859Z"
   },
   {
    "duration": 30,
    "start_time": "2022-09-23T10:48:00.873Z"
   },
   {
    "duration": 23,
    "start_time": "2022-09-23T10:48:00.904Z"
   },
   {
    "duration": 5555,
    "start_time": "2022-09-23T10:48:00.929Z"
   },
   {
    "duration": 17,
    "start_time": "2022-09-23T10:48:06.486Z"
   },
   {
    "duration": 11,
    "start_time": "2022-09-23T10:48:06.504Z"
   },
   {
    "duration": 16,
    "start_time": "2022-09-23T10:48:06.516Z"
   },
   {
    "duration": 1884,
    "start_time": "2022-09-23T10:48:06.534Z"
   },
   {
    "duration": 2,
    "start_time": "2022-09-23T10:48:08.420Z"
   },
   {
    "duration": 13,
    "start_time": "2022-09-23T10:48:08.423Z"
   },
   {
    "duration": 12,
    "start_time": "2022-09-23T10:48:08.437Z"
   },
   {
    "duration": 5,
    "start_time": "2022-09-23T10:48:08.451Z"
   },
   {
    "duration": 10,
    "start_time": "2022-09-23T10:48:08.458Z"
   },
   {
    "duration": 9,
    "start_time": "2022-09-23T10:48:08.469Z"
   },
   {
    "duration": 33,
    "start_time": "2022-09-23T10:48:08.480Z"
   },
   {
    "duration": 8,
    "start_time": "2022-09-23T10:48:08.515Z"
   },
   {
    "duration": 36,
    "start_time": "2022-09-23T10:48:08.525Z"
   },
   {
    "duration": 31,
    "start_time": "2022-09-23T10:48:08.563Z"
   },
   {
    "duration": 107,
    "start_time": "2022-09-23T10:48:08.596Z"
   },
   {
    "duration": 25,
    "start_time": "2022-09-23T10:48:08.705Z"
   },
   {
    "duration": 122,
    "start_time": "2022-09-23T11:09:55.137Z"
   },
   {
    "duration": 1234,
    "start_time": "2022-09-23T11:21:24.814Z"
   },
   {
    "duration": 439,
    "start_time": "2022-09-23T11:21:26.050Z"
   },
   {
    "duration": 14,
    "start_time": "2022-09-23T11:21:26.490Z"
   },
   {
    "duration": 31,
    "start_time": "2022-09-23T11:21:26.505Z"
   },
   {
    "duration": 29,
    "start_time": "2022-09-23T11:21:26.538Z"
   },
   {
    "duration": 9,
    "start_time": "2022-09-23T11:21:26.569Z"
   },
   {
    "duration": 9,
    "start_time": "2022-09-23T11:21:26.579Z"
   },
   {
    "duration": 12,
    "start_time": "2022-09-23T11:21:26.590Z"
   },
   {
    "duration": 5364,
    "start_time": "2022-09-23T11:21:26.604Z"
   },
   {
    "duration": 19,
    "start_time": "2022-09-23T11:21:31.970Z"
   },
   {
    "duration": 18,
    "start_time": "2022-09-23T11:21:31.991Z"
   },
   {
    "duration": 5283,
    "start_time": "2022-09-23T11:21:32.012Z"
   },
   {
    "duration": 10,
    "start_time": "2022-09-23T11:21:37.296Z"
   },
   {
    "duration": 12,
    "start_time": "2022-09-23T11:21:37.310Z"
   },
   {
    "duration": 5530,
    "start_time": "2022-09-23T11:21:37.324Z"
   },
   {
    "duration": 15,
    "start_time": "2022-09-23T11:21:42.856Z"
   },
   {
    "duration": 20,
    "start_time": "2022-09-23T11:21:42.873Z"
   },
   {
    "duration": 5495,
    "start_time": "2022-09-23T11:21:42.895Z"
   },
   {
    "duration": 4,
    "start_time": "2022-09-23T11:21:48.392Z"
   },
   {
    "duration": 13,
    "start_time": "2022-09-23T11:21:48.397Z"
   },
   {
    "duration": 15,
    "start_time": "2022-09-23T11:21:48.412Z"
   },
   {
    "duration": 4,
    "start_time": "2022-09-23T11:21:48.428Z"
   },
   {
    "duration": 21,
    "start_time": "2022-09-23T11:21:48.434Z"
   },
   {
    "duration": 8,
    "start_time": "2022-09-23T11:21:48.457Z"
   },
   {
    "duration": 54,
    "start_time": "2022-09-23T11:21:48.467Z"
   },
   {
    "duration": 24,
    "start_time": "2022-09-23T11:21:48.523Z"
   },
   {
    "duration": 63,
    "start_time": "2022-09-23T11:21:48.549Z"
   },
   {
    "duration": 11,
    "start_time": "2022-09-23T11:21:48.614Z"
   },
   {
    "duration": 15,
    "start_time": "2022-09-23T11:21:48.627Z"
   },
   {
    "duration": 39,
    "start_time": "2022-09-23T11:21:48.643Z"
   },
   {
    "duration": 15,
    "start_time": "2022-09-23T11:21:48.684Z"
   },
   {
    "duration": 9,
    "start_time": "2022-09-23T11:21:48.701Z"
   },
   {
    "duration": 5670,
    "start_time": "2022-09-23T11:21:48.712Z"
   },
   {
    "duration": 6,
    "start_time": "2022-09-23T11:21:54.384Z"
   },
   {
    "duration": 8,
    "start_time": "2022-09-23T11:21:54.392Z"
   },
   {
    "duration": 5385,
    "start_time": "2022-09-23T11:21:54.401Z"
   },
   {
    "duration": 4,
    "start_time": "2022-09-23T11:21:59.788Z"
   },
   {
    "duration": 5582,
    "start_time": "2022-09-23T11:21:59.794Z"
   },
   {
    "duration": 14,
    "start_time": "2022-09-23T11:22:05.378Z"
   },
   {
    "duration": 21,
    "start_time": "2022-09-23T11:22:05.395Z"
   },
   {
    "duration": 20,
    "start_time": "2022-09-23T11:22:05.422Z"
   },
   {
    "duration": 11,
    "start_time": "2022-09-23T11:22:05.445Z"
   },
   {
    "duration": 10,
    "start_time": "2022-09-23T11:22:05.458Z"
   },
   {
    "duration": 9,
    "start_time": "2022-09-23T11:22:05.469Z"
   },
   {
    "duration": 13,
    "start_time": "2022-09-23T11:22:05.480Z"
   },
   {
    "duration": 11,
    "start_time": "2022-09-23T11:22:05.494Z"
   },
   {
    "duration": 12,
    "start_time": "2022-09-23T11:22:05.507Z"
   },
   {
    "duration": 16,
    "start_time": "2022-09-23T11:22:05.521Z"
   },
   {
    "duration": 48,
    "start_time": "2022-09-23T11:22:05.539Z"
   },
   {
    "duration": 26,
    "start_time": "2022-09-23T11:22:05.589Z"
   },
   {
    "duration": 5355,
    "start_time": "2022-09-23T11:22:05.617Z"
   },
   {
    "duration": 5,
    "start_time": "2022-09-23T11:22:10.974Z"
   },
   {
    "duration": 29,
    "start_time": "2022-09-23T11:22:10.980Z"
   },
   {
    "duration": 23,
    "start_time": "2022-09-23T11:22:11.011Z"
   },
   {
    "duration": 42,
    "start_time": "2022-09-23T11:22:11.036Z"
   },
   {
    "duration": 5745,
    "start_time": "2022-09-23T11:22:11.080Z"
   },
   {
    "duration": 17,
    "start_time": "2022-09-23T11:22:16.827Z"
   },
   {
    "duration": 17,
    "start_time": "2022-09-23T11:22:16.846Z"
   },
   {
    "duration": 29,
    "start_time": "2022-09-23T11:22:16.865Z"
   },
   {
    "duration": 1867,
    "start_time": "2022-09-23T11:22:16.895Z"
   },
   {
    "duration": 3,
    "start_time": "2022-09-23T11:22:18.763Z"
   },
   {
    "duration": 900,
    "start_time": "2022-09-23T11:22:18.768Z"
   },
   {
    "duration": 0,
    "start_time": "2022-09-23T11:22:19.670Z"
   },
   {
    "duration": 0,
    "start_time": "2022-09-23T11:22:19.671Z"
   },
   {
    "duration": 0,
    "start_time": "2022-09-23T11:22:19.673Z"
   },
   {
    "duration": 0,
    "start_time": "2022-09-23T11:22:19.675Z"
   },
   {
    "duration": 0,
    "start_time": "2022-09-23T11:22:19.676Z"
   },
   {
    "duration": 0,
    "start_time": "2022-09-23T11:22:19.677Z"
   },
   {
    "duration": 0,
    "start_time": "2022-09-23T11:22:19.678Z"
   },
   {
    "duration": 0,
    "start_time": "2022-09-23T11:22:19.679Z"
   },
   {
    "duration": 0,
    "start_time": "2022-09-23T11:22:19.681Z"
   },
   {
    "duration": 0,
    "start_time": "2022-09-23T11:22:19.682Z"
   },
   {
    "duration": 0,
    "start_time": "2022-09-23T11:22:19.683Z"
   },
   {
    "duration": 0,
    "start_time": "2022-09-23T11:22:19.684Z"
   },
   {
    "duration": 1259,
    "start_time": "2022-09-23T11:22:53.496Z"
   },
   {
    "duration": 431,
    "start_time": "2022-09-23T11:22:54.757Z"
   },
   {
    "duration": 15,
    "start_time": "2022-09-23T11:22:55.190Z"
   },
   {
    "duration": 19,
    "start_time": "2022-09-23T11:22:55.207Z"
   },
   {
    "duration": 13,
    "start_time": "2022-09-23T11:22:55.227Z"
   },
   {
    "duration": 15,
    "start_time": "2022-09-23T11:22:55.242Z"
   },
   {
    "duration": 16,
    "start_time": "2022-09-23T11:22:55.258Z"
   },
   {
    "duration": 13,
    "start_time": "2022-09-23T11:22:55.276Z"
   },
   {
    "duration": 5338,
    "start_time": "2022-09-23T11:22:55.291Z"
   },
   {
    "duration": 11,
    "start_time": "2022-09-23T11:23:00.632Z"
   },
   {
    "duration": 31,
    "start_time": "2022-09-23T11:23:00.645Z"
   },
   {
    "duration": 5481,
    "start_time": "2022-09-23T11:23:00.678Z"
   },
   {
    "duration": 10,
    "start_time": "2022-09-23T11:23:06.160Z"
   },
   {
    "duration": 22,
    "start_time": "2022-09-23T11:23:06.172Z"
   },
   {
    "duration": 5499,
    "start_time": "2022-09-23T11:23:06.195Z"
   },
   {
    "duration": 16,
    "start_time": "2022-09-23T11:23:11.696Z"
   },
   {
    "duration": 18,
    "start_time": "2022-09-23T11:23:11.714Z"
   },
   {
    "duration": 5349,
    "start_time": "2022-09-23T11:23:11.734Z"
   },
   {
    "duration": 4,
    "start_time": "2022-09-23T11:23:17.088Z"
   },
   {
    "duration": 16,
    "start_time": "2022-09-23T11:23:17.093Z"
   },
   {
    "duration": 13,
    "start_time": "2022-09-23T11:23:17.111Z"
   },
   {
    "duration": 11,
    "start_time": "2022-09-23T11:23:17.126Z"
   },
   {
    "duration": 18,
    "start_time": "2022-09-23T11:23:17.139Z"
   },
   {
    "duration": 5,
    "start_time": "2022-09-23T11:23:17.159Z"
   },
   {
    "duration": 38,
    "start_time": "2022-09-23T11:23:17.166Z"
   },
   {
    "duration": 22,
    "start_time": "2022-09-23T11:23:17.206Z"
   },
   {
    "duration": 60,
    "start_time": "2022-09-23T11:23:17.230Z"
   },
   {
    "duration": 10,
    "start_time": "2022-09-23T11:23:17.294Z"
   },
   {
    "duration": 8,
    "start_time": "2022-09-23T11:23:17.306Z"
   },
   {
    "duration": 21,
    "start_time": "2022-09-23T11:23:17.317Z"
   },
   {
    "duration": 8,
    "start_time": "2022-09-23T11:23:17.339Z"
   },
   {
    "duration": 6,
    "start_time": "2022-09-23T11:23:17.349Z"
   },
   {
    "duration": 5492,
    "start_time": "2022-09-23T11:23:17.357Z"
   },
   {
    "duration": 6,
    "start_time": "2022-09-23T11:23:22.850Z"
   },
   {
    "duration": 20,
    "start_time": "2022-09-23T11:23:22.858Z"
   },
   {
    "duration": 5307,
    "start_time": "2022-09-23T11:23:22.880Z"
   },
   {
    "duration": 3,
    "start_time": "2022-09-23T11:23:28.189Z"
   },
   {
    "duration": 5572,
    "start_time": "2022-09-23T11:23:28.194Z"
   },
   {
    "duration": 13,
    "start_time": "2022-09-23T11:23:33.767Z"
   },
   {
    "duration": 9,
    "start_time": "2022-09-23T11:23:33.789Z"
   },
   {
    "duration": 30,
    "start_time": "2022-09-23T11:23:33.800Z"
   },
   {
    "duration": 11,
    "start_time": "2022-09-23T11:23:33.831Z"
   },
   {
    "duration": 18,
    "start_time": "2022-09-23T11:23:33.843Z"
   },
   {
    "duration": 14,
    "start_time": "2022-09-23T11:23:33.862Z"
   },
   {
    "duration": 18,
    "start_time": "2022-09-23T11:23:33.878Z"
   },
   {
    "duration": 18,
    "start_time": "2022-09-23T11:23:33.897Z"
   },
   {
    "duration": 13,
    "start_time": "2022-09-23T11:23:33.917Z"
   },
   {
    "duration": 20,
    "start_time": "2022-09-23T11:23:33.932Z"
   },
   {
    "duration": 13,
    "start_time": "2022-09-23T11:23:33.954Z"
   },
   {
    "duration": 6,
    "start_time": "2022-09-23T11:23:33.969Z"
   },
   {
    "duration": 5557,
    "start_time": "2022-09-23T11:23:33.977Z"
   },
   {
    "duration": 4,
    "start_time": "2022-09-23T11:23:39.536Z"
   },
   {
    "duration": 28,
    "start_time": "2022-09-23T11:23:39.541Z"
   },
   {
    "duration": 17,
    "start_time": "2022-09-23T11:23:39.571Z"
   },
   {
    "duration": 26,
    "start_time": "2022-09-23T11:23:39.589Z"
   },
   {
    "duration": 5710,
    "start_time": "2022-09-23T11:23:39.617Z"
   },
   {
    "duration": 17,
    "start_time": "2022-09-23T11:23:45.329Z"
   },
   {
    "duration": 11,
    "start_time": "2022-09-23T11:23:45.347Z"
   },
   {
    "duration": 13,
    "start_time": "2022-09-23T11:23:45.360Z"
   },
   {
    "duration": 1856,
    "start_time": "2022-09-23T11:23:45.375Z"
   },
   {
    "duration": 2,
    "start_time": "2022-09-23T11:23:47.233Z"
   },
   {
    "duration": 10,
    "start_time": "2022-09-23T11:23:47.237Z"
   },
   {
    "duration": 12,
    "start_time": "2022-09-23T11:23:47.248Z"
   },
   {
    "duration": 9,
    "start_time": "2022-09-23T11:23:47.262Z"
   },
   {
    "duration": 19,
    "start_time": "2022-09-23T11:23:47.273Z"
   },
   {
    "duration": 6,
    "start_time": "2022-09-23T11:23:47.294Z"
   },
   {
    "duration": 8,
    "start_time": "2022-09-23T11:23:47.302Z"
   },
   {
    "duration": 39,
    "start_time": "2022-09-23T11:23:47.311Z"
   },
   {
    "duration": 15,
    "start_time": "2022-09-23T11:23:47.352Z"
   },
   {
    "duration": 15,
    "start_time": "2022-09-23T11:23:47.369Z"
   },
   {
    "duration": 37,
    "start_time": "2022-09-23T11:23:47.388Z"
   },
   {
    "duration": 16,
    "start_time": "2022-09-23T11:23:47.427Z"
   },
   {
    "duration": 91,
    "start_time": "2022-09-23T11:23:47.445Z"
   },
   {
    "duration": 24,
    "start_time": "2022-09-23T11:23:47.538Z"
   },
   {
    "duration": 1284,
    "start_time": "2022-09-23T11:24:35.588Z"
   },
   {
    "duration": 383,
    "start_time": "2022-09-23T11:24:36.874Z"
   },
   {
    "duration": 15,
    "start_time": "2022-09-23T11:24:37.259Z"
   },
   {
    "duration": 17,
    "start_time": "2022-09-23T11:24:37.277Z"
   },
   {
    "duration": 28,
    "start_time": "2022-09-23T11:24:37.295Z"
   },
   {
    "duration": 4,
    "start_time": "2022-09-23T11:24:37.325Z"
   },
   {
    "duration": 6,
    "start_time": "2022-09-23T11:24:37.330Z"
   },
   {
    "duration": 6,
    "start_time": "2022-09-23T11:24:37.337Z"
   },
   {
    "duration": 5642,
    "start_time": "2022-09-23T11:24:37.344Z"
   },
   {
    "duration": 12,
    "start_time": "2022-09-23T11:24:42.989Z"
   },
   {
    "duration": 4,
    "start_time": "2022-09-23T11:24:43.003Z"
   },
   {
    "duration": 5647,
    "start_time": "2022-09-23T11:24:43.009Z"
   },
   {
    "duration": 11,
    "start_time": "2022-09-23T11:24:48.657Z"
   },
   {
    "duration": 32,
    "start_time": "2022-09-23T11:24:48.670Z"
   },
   {
    "duration": 5666,
    "start_time": "2022-09-23T11:24:48.704Z"
   },
   {
    "duration": 22,
    "start_time": "2022-09-23T11:24:54.372Z"
   },
   {
    "duration": 22,
    "start_time": "2022-09-23T11:24:54.396Z"
   },
   {
    "duration": 5767,
    "start_time": "2022-09-23T11:24:54.420Z"
   },
   {
    "duration": 6,
    "start_time": "2022-09-23T11:25:00.189Z"
   },
   {
    "duration": 13,
    "start_time": "2022-09-23T11:25:00.197Z"
   },
   {
    "duration": 23,
    "start_time": "2022-09-23T11:25:00.213Z"
   },
   {
    "duration": 7,
    "start_time": "2022-09-23T11:25:00.238Z"
   },
   {
    "duration": 23,
    "start_time": "2022-09-23T11:25:00.247Z"
   },
   {
    "duration": 18,
    "start_time": "2022-09-23T11:25:00.272Z"
   },
   {
    "duration": 53,
    "start_time": "2022-09-23T11:25:00.292Z"
   },
   {
    "duration": 51,
    "start_time": "2022-09-23T11:25:00.348Z"
   },
   {
    "duration": 65,
    "start_time": "2022-09-23T11:25:00.402Z"
   },
   {
    "duration": 16,
    "start_time": "2022-09-23T11:25:00.473Z"
   },
   {
    "duration": 24,
    "start_time": "2022-09-23T11:25:00.492Z"
   },
   {
    "duration": 53,
    "start_time": "2022-09-23T11:25:00.519Z"
   },
   {
    "duration": 50,
    "start_time": "2022-09-23T11:25:00.574Z"
   },
   {
    "duration": 42,
    "start_time": "2022-09-23T11:25:00.626Z"
   },
   {
    "duration": 6161,
    "start_time": "2022-09-23T11:25:00.671Z"
   },
   {
    "duration": 5,
    "start_time": "2022-09-23T11:25:06.833Z"
   },
   {
    "duration": 14,
    "start_time": "2022-09-23T11:25:06.839Z"
   },
   {
    "duration": 5765,
    "start_time": "2022-09-23T11:25:06.854Z"
   },
   {
    "duration": 4,
    "start_time": "2022-09-23T11:25:12.621Z"
   },
   {
    "duration": 5559,
    "start_time": "2022-09-23T11:25:12.627Z"
   },
   {
    "duration": 17,
    "start_time": "2022-09-23T11:25:18.188Z"
   },
   {
    "duration": 16,
    "start_time": "2022-09-23T11:25:18.207Z"
   },
   {
    "duration": 29,
    "start_time": "2022-09-23T11:25:18.225Z"
   },
   {
    "duration": 12,
    "start_time": "2022-09-23T11:25:18.255Z"
   },
   {
    "duration": 14,
    "start_time": "2022-09-23T11:25:18.271Z"
   },
   {
    "duration": 12,
    "start_time": "2022-09-23T11:25:18.288Z"
   },
   {
    "duration": 10,
    "start_time": "2022-09-23T11:25:18.303Z"
   },
   {
    "duration": 10,
    "start_time": "2022-09-23T11:25:18.314Z"
   },
   {
    "duration": 16,
    "start_time": "2022-09-23T11:25:18.326Z"
   },
   {
    "duration": 10,
    "start_time": "2022-09-23T11:25:18.344Z"
   },
   {
    "duration": 6,
    "start_time": "2022-09-23T11:25:18.356Z"
   },
   {
    "duration": 6,
    "start_time": "2022-09-23T11:25:18.364Z"
   },
   {
    "duration": 5544,
    "start_time": "2022-09-23T11:25:18.372Z"
   },
   {
    "duration": 4,
    "start_time": "2022-09-23T11:25:23.918Z"
   },
   {
    "duration": 10,
    "start_time": "2022-09-23T11:25:23.923Z"
   },
   {
    "duration": 14,
    "start_time": "2022-09-23T11:25:23.935Z"
   },
   {
    "duration": 19,
    "start_time": "2022-09-23T11:25:23.951Z"
   },
   {
    "duration": 5787,
    "start_time": "2022-09-23T11:25:23.972Z"
   },
   {
    "duration": 17,
    "start_time": "2022-09-23T11:25:29.761Z"
   },
   {
    "duration": 16,
    "start_time": "2022-09-23T11:25:29.780Z"
   },
   {
    "duration": 14,
    "start_time": "2022-09-23T11:25:29.798Z"
   },
   {
    "duration": 1854,
    "start_time": "2022-09-23T11:25:29.813Z"
   },
   {
    "duration": 3,
    "start_time": "2022-09-23T11:25:31.669Z"
   },
   {
    "duration": 39,
    "start_time": "2022-09-23T11:25:31.674Z"
   },
   {
    "duration": 37,
    "start_time": "2022-09-23T11:25:31.715Z"
   },
   {
    "duration": 22,
    "start_time": "2022-09-23T11:25:31.754Z"
   },
   {
    "duration": 8,
    "start_time": "2022-09-23T11:25:31.777Z"
   },
   {
    "duration": 22,
    "start_time": "2022-09-23T11:25:31.786Z"
   },
   {
    "duration": 14,
    "start_time": "2022-09-23T11:25:31.810Z"
   },
   {
    "duration": 58,
    "start_time": "2022-09-23T11:25:31.833Z"
   },
   {
    "duration": 11,
    "start_time": "2022-09-23T11:25:31.893Z"
   },
   {
    "duration": 15,
    "start_time": "2022-09-23T11:25:31.906Z"
   },
   {
    "duration": 66,
    "start_time": "2022-09-23T11:25:31.923Z"
   },
   {
    "duration": 20,
    "start_time": "2022-09-23T11:25:31.992Z"
   },
   {
    "duration": 117,
    "start_time": "2022-09-23T11:25:32.014Z"
   },
   {
    "duration": 23,
    "start_time": "2022-09-23T11:25:32.133Z"
   },
   {
    "duration": 13,
    "start_time": "2022-09-23T11:26:39.773Z"
   },
   {
    "duration": 18,
    "start_time": "2022-09-23T11:26:56.820Z"
   },
   {
    "duration": 28,
    "start_time": "2022-09-23T11:27:56.108Z"
   },
   {
    "duration": 1207,
    "start_time": "2022-09-23T11:28:45.937Z"
   },
   {
    "duration": 480,
    "start_time": "2022-09-23T11:28:47.147Z"
   },
   {
    "duration": 16,
    "start_time": "2022-09-23T11:28:47.629Z"
   },
   {
    "duration": 14,
    "start_time": "2022-09-23T11:28:47.647Z"
   },
   {
    "duration": 15,
    "start_time": "2022-09-23T11:28:47.663Z"
   },
   {
    "duration": 13,
    "start_time": "2022-09-23T11:28:47.680Z"
   },
   {
    "duration": 5,
    "start_time": "2022-09-23T11:28:47.695Z"
   },
   {
    "duration": 6,
    "start_time": "2022-09-23T11:28:47.702Z"
   },
   {
    "duration": 5368,
    "start_time": "2022-09-23T11:28:47.709Z"
   },
   {
    "duration": 12,
    "start_time": "2022-09-23T11:28:53.079Z"
   },
   {
    "duration": 6,
    "start_time": "2022-09-23T11:28:53.093Z"
   },
   {
    "duration": 5271,
    "start_time": "2022-09-23T11:28:53.100Z"
   },
   {
    "duration": 10,
    "start_time": "2022-09-23T11:28:58.372Z"
   },
   {
    "duration": 11,
    "start_time": "2022-09-23T11:28:58.392Z"
   },
   {
    "duration": 5226,
    "start_time": "2022-09-23T11:28:58.404Z"
   },
   {
    "duration": 13,
    "start_time": "2022-09-23T11:29:03.631Z"
   },
   {
    "duration": 51,
    "start_time": "2022-09-23T11:29:03.646Z"
   },
   {
    "duration": 5427,
    "start_time": "2022-09-23T11:29:03.699Z"
   },
   {
    "duration": 4,
    "start_time": "2022-09-23T11:29:09.127Z"
   },
   {
    "duration": 9,
    "start_time": "2022-09-23T11:29:09.133Z"
   },
   {
    "duration": 16,
    "start_time": "2022-09-23T11:29:09.143Z"
   },
   {
    "duration": 6,
    "start_time": "2022-09-23T11:29:09.161Z"
   },
   {
    "duration": 27,
    "start_time": "2022-09-23T11:29:09.169Z"
   },
   {
    "duration": 8,
    "start_time": "2022-09-23T11:29:09.198Z"
   },
   {
    "duration": 31,
    "start_time": "2022-09-23T11:29:09.208Z"
   },
   {
    "duration": 23,
    "start_time": "2022-09-23T11:29:09.241Z"
   },
   {
    "duration": 74,
    "start_time": "2022-09-23T11:29:09.266Z"
   },
   {
    "duration": 18,
    "start_time": "2022-09-23T11:29:09.342Z"
   },
   {
    "duration": 13,
    "start_time": "2022-09-23T11:29:09.362Z"
   },
   {
    "duration": 20,
    "start_time": "2022-09-23T11:29:09.377Z"
   },
   {
    "duration": 9,
    "start_time": "2022-09-23T11:29:09.398Z"
   },
   {
    "duration": 5,
    "start_time": "2022-09-23T11:29:09.409Z"
   },
   {
    "duration": 5587,
    "start_time": "2022-09-23T11:29:09.416Z"
   },
   {
    "duration": 5,
    "start_time": "2022-09-23T11:29:15.005Z"
   },
   {
    "duration": 33,
    "start_time": "2022-09-23T11:29:15.012Z"
   },
   {
    "duration": 5241,
    "start_time": "2022-09-23T11:29:15.047Z"
   },
   {
    "duration": 2,
    "start_time": "2022-09-23T11:29:20.290Z"
   },
   {
    "duration": 5505,
    "start_time": "2022-09-23T11:29:20.294Z"
   },
   {
    "duration": 12,
    "start_time": "2022-09-23T11:29:25.801Z"
   },
   {
    "duration": 7,
    "start_time": "2022-09-23T11:29:25.815Z"
   },
   {
    "duration": 19,
    "start_time": "2022-09-23T11:29:25.827Z"
   },
   {
    "duration": 17,
    "start_time": "2022-09-23T11:29:25.847Z"
   },
   {
    "duration": 10,
    "start_time": "2022-09-23T11:29:25.865Z"
   },
   {
    "duration": 6,
    "start_time": "2022-09-23T11:29:25.890Z"
   },
   {
    "duration": 10,
    "start_time": "2022-09-23T11:29:25.897Z"
   },
   {
    "duration": 9,
    "start_time": "2022-09-23T11:29:25.908Z"
   },
   {
    "duration": 6,
    "start_time": "2022-09-23T11:29:25.919Z"
   },
   {
    "duration": 11,
    "start_time": "2022-09-23T11:29:25.926Z"
   },
   {
    "duration": 3,
    "start_time": "2022-09-23T11:29:25.938Z"
   },
   {
    "duration": 7,
    "start_time": "2022-09-23T11:29:25.942Z"
   },
   {
    "duration": 5308,
    "start_time": "2022-09-23T11:29:25.951Z"
   },
   {
    "duration": 5,
    "start_time": "2022-09-23T11:29:31.260Z"
   },
   {
    "duration": 14,
    "start_time": "2022-09-23T11:29:31.266Z"
   },
   {
    "duration": 29,
    "start_time": "2022-09-23T11:29:31.281Z"
   },
   {
    "duration": 34,
    "start_time": "2022-09-23T11:29:31.312Z"
   },
   {
    "duration": 5689,
    "start_time": "2022-09-23T11:29:31.348Z"
   },
   {
    "duration": 16,
    "start_time": "2022-09-23T11:29:37.039Z"
   },
   {
    "duration": 10,
    "start_time": "2022-09-23T11:29:37.056Z"
   },
   {
    "duration": 14,
    "start_time": "2022-09-23T11:29:37.068Z"
   },
   {
    "duration": 1878,
    "start_time": "2022-09-23T11:29:37.083Z"
   },
   {
    "duration": 3,
    "start_time": "2022-09-23T11:29:38.963Z"
   },
   {
    "duration": 9,
    "start_time": "2022-09-23T11:29:38.968Z"
   },
   {
    "duration": 17,
    "start_time": "2022-09-23T11:29:38.980Z"
   },
   {
    "duration": 8,
    "start_time": "2022-09-23T11:29:38.999Z"
   },
   {
    "duration": 7,
    "start_time": "2022-09-23T11:29:39.009Z"
   },
   {
    "duration": 16,
    "start_time": "2022-09-23T11:29:39.017Z"
   },
   {
    "duration": 4,
    "start_time": "2022-09-23T11:29:39.035Z"
   },
   {
    "duration": 29,
    "start_time": "2022-09-23T11:29:39.041Z"
   },
   {
    "duration": 8,
    "start_time": "2022-09-23T11:29:39.071Z"
   },
   {
    "duration": 27,
    "start_time": "2022-09-23T11:29:39.081Z"
   },
   {
    "duration": 25,
    "start_time": "2022-09-23T11:29:39.110Z"
   },
   {
    "duration": 54,
    "start_time": "2022-09-23T11:29:39.137Z"
   },
   {
    "duration": 19,
    "start_time": "2022-09-23T11:29:39.194Z"
   },
   {
    "duration": 91,
    "start_time": "2022-09-23T11:29:39.215Z"
   },
   {
    "duration": 23,
    "start_time": "2022-09-23T11:29:39.308Z"
   },
   {
    "duration": 1223,
    "start_time": "2022-09-23T11:31:47.122Z"
   },
   {
    "duration": 382,
    "start_time": "2022-09-23T11:31:48.347Z"
   },
   {
    "duration": 14,
    "start_time": "2022-09-23T11:31:48.731Z"
   },
   {
    "duration": 16,
    "start_time": "2022-09-23T11:31:48.746Z"
   },
   {
    "duration": 24,
    "start_time": "2022-09-23T11:31:48.765Z"
   },
   {
    "duration": 14,
    "start_time": "2022-09-23T11:31:48.790Z"
   },
   {
    "duration": 26,
    "start_time": "2022-09-23T11:31:48.806Z"
   },
   {
    "duration": 15,
    "start_time": "2022-09-23T11:31:48.834Z"
   },
   {
    "duration": 5396,
    "start_time": "2022-09-23T11:31:48.850Z"
   },
   {
    "duration": 11,
    "start_time": "2022-09-23T11:31:54.247Z"
   },
   {
    "duration": 8,
    "start_time": "2022-09-23T11:31:54.259Z"
   },
   {
    "duration": 5264,
    "start_time": "2022-09-23T11:31:54.268Z"
   },
   {
    "duration": 10,
    "start_time": "2022-09-23T11:31:59.534Z"
   },
   {
    "duration": 17,
    "start_time": "2022-09-23T11:31:59.547Z"
   },
   {
    "duration": 5643,
    "start_time": "2022-09-23T11:31:59.566Z"
   },
   {
    "duration": 14,
    "start_time": "2022-09-23T11:32:05.211Z"
   },
   {
    "duration": 3,
    "start_time": "2022-09-23T11:32:05.227Z"
   },
   {
    "duration": 5752,
    "start_time": "2022-09-23T11:32:05.232Z"
   },
   {
    "duration": 5,
    "start_time": "2022-09-23T11:32:10.986Z"
   },
   {
    "duration": 8,
    "start_time": "2022-09-23T11:32:10.993Z"
   },
   {
    "duration": 14,
    "start_time": "2022-09-23T11:32:11.003Z"
   },
   {
    "duration": 15,
    "start_time": "2022-09-23T11:32:11.019Z"
   },
   {
    "duration": 27,
    "start_time": "2022-09-23T11:32:11.036Z"
   },
   {
    "duration": 23,
    "start_time": "2022-09-23T11:32:11.066Z"
   },
   {
    "duration": 35,
    "start_time": "2022-09-23T11:32:11.092Z"
   },
   {
    "duration": 28,
    "start_time": "2022-09-23T11:32:11.130Z"
   },
   {
    "duration": 83,
    "start_time": "2022-09-23T11:32:11.161Z"
   },
   {
    "duration": 13,
    "start_time": "2022-09-23T11:32:11.246Z"
   },
   {
    "duration": 14,
    "start_time": "2022-09-23T11:32:11.261Z"
   },
   {
    "duration": 23,
    "start_time": "2022-09-23T11:32:11.277Z"
   },
   {
    "duration": 9,
    "start_time": "2022-09-23T11:32:11.302Z"
   },
   {
    "duration": 7,
    "start_time": "2022-09-23T11:32:11.313Z"
   },
   {
    "duration": 5975,
    "start_time": "2022-09-23T11:32:11.322Z"
   },
   {
    "duration": 6,
    "start_time": "2022-09-23T11:32:17.298Z"
   },
   {
    "duration": 13,
    "start_time": "2022-09-23T11:32:17.305Z"
   },
   {
    "duration": 5578,
    "start_time": "2022-09-23T11:32:17.320Z"
   },
   {
    "duration": 3,
    "start_time": "2022-09-23T11:32:22.899Z"
   },
   {
    "duration": 5678,
    "start_time": "2022-09-23T11:32:22.904Z"
   },
   {
    "duration": 14,
    "start_time": "2022-09-23T11:32:28.583Z"
   },
   {
    "duration": 19,
    "start_time": "2022-09-23T11:32:28.599Z"
   },
   {
    "duration": 59,
    "start_time": "2022-09-23T11:32:28.623Z"
   },
   {
    "duration": 42,
    "start_time": "2022-09-23T11:32:28.684Z"
   },
   {
    "duration": 37,
    "start_time": "2022-09-23T11:32:28.728Z"
   },
   {
    "duration": 31,
    "start_time": "2022-09-23T11:32:28.767Z"
   },
   {
    "duration": 34,
    "start_time": "2022-09-23T11:32:28.800Z"
   },
   {
    "duration": 16,
    "start_time": "2022-09-23T11:32:28.836Z"
   },
   {
    "duration": 25,
    "start_time": "2022-09-23T11:32:28.854Z"
   },
   {
    "duration": 30,
    "start_time": "2022-09-23T11:32:28.881Z"
   },
   {
    "duration": 25,
    "start_time": "2022-09-23T11:32:28.913Z"
   },
   {
    "duration": 16,
    "start_time": "2022-09-23T11:32:28.940Z"
   },
   {
    "duration": 5572,
    "start_time": "2022-09-23T11:32:28.958Z"
   },
   {
    "duration": 6,
    "start_time": "2022-09-23T11:32:34.531Z"
   },
   {
    "duration": 14,
    "start_time": "2022-09-23T11:32:34.538Z"
   },
   {
    "duration": 25,
    "start_time": "2022-09-23T11:32:34.553Z"
   },
   {
    "duration": 29,
    "start_time": "2022-09-23T11:32:34.580Z"
   },
   {
    "duration": 5793,
    "start_time": "2022-09-23T11:32:34.611Z"
   },
   {
    "duration": 17,
    "start_time": "2022-09-23T11:32:40.406Z"
   },
   {
    "duration": 8,
    "start_time": "2022-09-23T11:32:40.424Z"
   },
   {
    "duration": 28,
    "start_time": "2022-09-23T11:32:40.434Z"
   },
   {
    "duration": 1975,
    "start_time": "2022-09-23T11:32:40.463Z"
   },
   {
    "duration": 2,
    "start_time": "2022-09-23T11:32:42.440Z"
   },
   {
    "duration": 25,
    "start_time": "2022-09-23T11:32:42.444Z"
   },
   {
    "duration": 16,
    "start_time": "2022-09-23T11:32:42.471Z"
   },
   {
    "duration": 12,
    "start_time": "2022-09-23T11:32:42.488Z"
   },
   {
    "duration": 9,
    "start_time": "2022-09-23T11:32:42.501Z"
   },
   {
    "duration": 13,
    "start_time": "2022-09-23T11:32:42.512Z"
   },
   {
    "duration": 14,
    "start_time": "2022-09-23T11:32:42.527Z"
   },
   {
    "duration": 37,
    "start_time": "2022-09-23T11:32:42.543Z"
   },
   {
    "duration": 8,
    "start_time": "2022-09-23T11:32:42.582Z"
   },
   {
    "duration": 9,
    "start_time": "2022-09-23T11:32:42.592Z"
   },
   {
    "duration": 16,
    "start_time": "2022-09-23T11:32:42.603Z"
   },
   {
    "duration": 30,
    "start_time": "2022-09-23T11:32:42.620Z"
   },
   {
    "duration": 44,
    "start_time": "2022-09-23T11:32:42.651Z"
   },
   {
    "duration": 85,
    "start_time": "2022-09-23T11:32:42.697Z"
   },
   {
    "duration": 24,
    "start_time": "2022-09-23T11:32:42.783Z"
   },
   {
    "duration": 1305,
    "start_time": "2022-09-23T11:34:02.456Z"
   },
   {
    "duration": 340,
    "start_time": "2022-09-23T11:34:03.763Z"
   },
   {
    "duration": 15,
    "start_time": "2022-09-23T11:34:04.105Z"
   },
   {
    "duration": 43,
    "start_time": "2022-09-23T11:34:04.121Z"
   },
   {
    "duration": 26,
    "start_time": "2022-09-23T11:34:04.166Z"
   },
   {
    "duration": 24,
    "start_time": "2022-09-23T11:34:04.194Z"
   },
   {
    "duration": 27,
    "start_time": "2022-09-23T11:34:04.219Z"
   },
   {
    "duration": 9,
    "start_time": "2022-09-23T11:34:04.248Z"
   },
   {
    "duration": 5573,
    "start_time": "2022-09-23T11:34:04.259Z"
   },
   {
    "duration": 12,
    "start_time": "2022-09-23T11:34:09.833Z"
   },
   {
    "duration": 16,
    "start_time": "2022-09-23T11:34:09.846Z"
   },
   {
    "duration": 5712,
    "start_time": "2022-09-23T11:34:09.864Z"
   },
   {
    "duration": 12,
    "start_time": "2022-09-23T11:34:15.578Z"
   },
   {
    "duration": 35,
    "start_time": "2022-09-23T11:34:15.596Z"
   },
   {
    "duration": 5380,
    "start_time": "2022-09-23T11:34:15.633Z"
   },
   {
    "duration": 14,
    "start_time": "2022-09-23T11:34:21.015Z"
   },
   {
    "duration": 10,
    "start_time": "2022-09-23T11:34:21.031Z"
   },
   {
    "duration": 5400,
    "start_time": "2022-09-23T11:34:21.042Z"
   },
   {
    "duration": 3,
    "start_time": "2022-09-23T11:34:26.444Z"
   },
   {
    "duration": 8,
    "start_time": "2022-09-23T11:34:26.449Z"
   },
   {
    "duration": 13,
    "start_time": "2022-09-23T11:34:26.458Z"
   },
   {
    "duration": 6,
    "start_time": "2022-09-23T11:34:26.472Z"
   },
   {
    "duration": 17,
    "start_time": "2022-09-23T11:34:26.489Z"
   },
   {
    "duration": 8,
    "start_time": "2022-09-23T11:34:26.508Z"
   },
   {
    "duration": 50,
    "start_time": "2022-09-23T11:34:26.517Z"
   },
   {
    "duration": 23,
    "start_time": "2022-09-23T11:34:26.569Z"
   },
   {
    "duration": 89,
    "start_time": "2022-09-23T11:34:26.594Z"
   },
   {
    "duration": 10,
    "start_time": "2022-09-23T11:34:26.685Z"
   },
   {
    "duration": 12,
    "start_time": "2022-09-23T11:34:26.697Z"
   },
   {
    "duration": 34,
    "start_time": "2022-09-23T11:34:26.711Z"
   },
   {
    "duration": 23,
    "start_time": "2022-09-23T11:34:26.747Z"
   },
   {
    "duration": 6,
    "start_time": "2022-09-23T11:34:26.771Z"
   },
   {
    "duration": 5511,
    "start_time": "2022-09-23T11:34:26.779Z"
   },
   {
    "duration": 4,
    "start_time": "2022-09-23T11:34:32.291Z"
   },
   {
    "duration": 9,
    "start_time": "2022-09-23T11:34:32.297Z"
   },
   {
    "duration": 5482,
    "start_time": "2022-09-23T11:34:32.307Z"
   },
   {
    "duration": 3,
    "start_time": "2022-09-23T11:34:37.791Z"
   },
   {
    "duration": 5675,
    "start_time": "2022-09-23T11:34:37.796Z"
   },
   {
    "duration": 12,
    "start_time": "2022-09-23T11:34:43.473Z"
   },
   {
    "duration": 26,
    "start_time": "2022-09-23T11:34:43.486Z"
   },
   {
    "duration": 47,
    "start_time": "2022-09-23T11:34:43.516Z"
   },
   {
    "duration": 35,
    "start_time": "2022-09-23T11:34:43.564Z"
   },
   {
    "duration": 36,
    "start_time": "2022-09-23T11:34:43.601Z"
   },
   {
    "duration": 30,
    "start_time": "2022-09-23T11:34:43.638Z"
   },
   {
    "duration": 24,
    "start_time": "2022-09-23T11:34:43.669Z"
   },
   {
    "duration": 23,
    "start_time": "2022-09-23T11:34:43.695Z"
   },
   {
    "duration": 39,
    "start_time": "2022-09-23T11:34:43.719Z"
   },
   {
    "duration": 37,
    "start_time": "2022-09-23T11:34:43.760Z"
   },
   {
    "duration": 20,
    "start_time": "2022-09-23T11:34:43.799Z"
   },
   {
    "duration": 14,
    "start_time": "2022-09-23T11:34:43.821Z"
   },
   {
    "duration": 5302,
    "start_time": "2022-09-23T11:34:43.837Z"
   },
   {
    "duration": 5,
    "start_time": "2022-09-23T11:34:49.141Z"
   },
   {
    "duration": 6,
    "start_time": "2022-09-23T11:34:49.147Z"
   },
   {
    "duration": 24,
    "start_time": "2022-09-23T11:34:49.154Z"
   },
   {
    "duration": 19,
    "start_time": "2022-09-23T11:34:49.180Z"
   },
   {
    "duration": 5843,
    "start_time": "2022-09-23T11:34:49.200Z"
   },
   {
    "duration": 18,
    "start_time": "2022-09-23T11:34:55.045Z"
   },
   {
    "duration": 24,
    "start_time": "2022-09-23T11:34:55.065Z"
   },
   {
    "duration": 22,
    "start_time": "2022-09-23T11:34:55.091Z"
   },
   {
    "duration": 1888,
    "start_time": "2022-09-23T11:34:55.115Z"
   },
   {
    "duration": 2,
    "start_time": "2022-09-23T11:34:57.005Z"
   },
   {
    "duration": 7,
    "start_time": "2022-09-23T11:34:57.008Z"
   },
   {
    "duration": 10,
    "start_time": "2022-09-23T11:34:57.017Z"
   },
   {
    "duration": 9,
    "start_time": "2022-09-23T11:34:57.029Z"
   },
   {
    "duration": 6,
    "start_time": "2022-09-23T11:34:57.040Z"
   },
   {
    "duration": 7,
    "start_time": "2022-09-23T11:34:57.048Z"
   },
   {
    "duration": 5,
    "start_time": "2022-09-23T11:34:57.057Z"
   },
   {
    "duration": 48,
    "start_time": "2022-09-23T11:34:57.064Z"
   },
   {
    "duration": 25,
    "start_time": "2022-09-23T11:34:57.114Z"
   },
   {
    "duration": 8,
    "start_time": "2022-09-23T11:34:57.141Z"
   },
   {
    "duration": 47,
    "start_time": "2022-09-23T11:34:57.150Z"
   },
   {
    "duration": 29,
    "start_time": "2022-09-23T11:34:57.199Z"
   },
   {
    "duration": 12,
    "start_time": "2022-09-23T11:34:57.230Z"
   },
   {
    "duration": 96,
    "start_time": "2022-09-23T11:34:57.244Z"
   },
   {
    "duration": 25,
    "start_time": "2022-09-23T11:34:57.342Z"
   },
   {
    "duration": 18,
    "start_time": "2022-09-23T11:39:27.627Z"
   },
   {
    "duration": 11,
    "start_time": "2022-09-23T11:40:44.280Z"
   },
   {
    "duration": 1266,
    "start_time": "2022-09-23T11:40:50.189Z"
   },
   {
    "duration": 547,
    "start_time": "2022-09-23T11:40:51.458Z"
   },
   {
    "duration": 21,
    "start_time": "2022-09-23T11:40:52.007Z"
   },
   {
    "duration": 8,
    "start_time": "2022-09-23T11:40:52.031Z"
   },
   {
    "duration": 29,
    "start_time": "2022-09-23T11:40:52.042Z"
   },
   {
    "duration": 25,
    "start_time": "2022-09-23T11:40:52.074Z"
   },
   {
    "duration": 14,
    "start_time": "2022-09-23T11:40:52.100Z"
   },
   {
    "duration": 19,
    "start_time": "2022-09-23T11:40:52.116Z"
   },
   {
    "duration": 5314,
    "start_time": "2022-09-23T11:40:52.136Z"
   },
   {
    "duration": 11,
    "start_time": "2022-09-23T11:40:57.452Z"
   },
   {
    "duration": 5,
    "start_time": "2022-09-23T11:40:57.464Z"
   },
   {
    "duration": 5439,
    "start_time": "2022-09-23T11:40:57.470Z"
   },
   {
    "duration": 9,
    "start_time": "2022-09-23T11:41:02.910Z"
   },
   {
    "duration": 13,
    "start_time": "2022-09-23T11:41:02.922Z"
   },
   {
    "duration": 5265,
    "start_time": "2022-09-23T11:41:02.936Z"
   },
   {
    "duration": 18,
    "start_time": "2022-09-23T11:41:08.203Z"
   },
   {
    "duration": 21,
    "start_time": "2022-09-23T11:41:08.222Z"
   },
   {
    "duration": 5798,
    "start_time": "2022-09-23T11:41:08.245Z"
   },
   {
    "duration": 4,
    "start_time": "2022-09-23T11:41:14.045Z"
   },
   {
    "duration": 17,
    "start_time": "2022-09-23T11:41:14.052Z"
   },
   {
    "duration": 19,
    "start_time": "2022-09-23T11:41:14.071Z"
   },
   {
    "duration": 4,
    "start_time": "2022-09-23T11:41:14.092Z"
   },
   {
    "duration": 46,
    "start_time": "2022-09-23T11:41:14.097Z"
   },
   {
    "duration": 9,
    "start_time": "2022-09-23T11:41:14.145Z"
   },
   {
    "duration": 35,
    "start_time": "2022-09-23T11:41:14.156Z"
   },
   {
    "duration": 28,
    "start_time": "2022-09-23T11:41:14.193Z"
   },
   {
    "duration": 53,
    "start_time": "2022-09-23T11:41:14.223Z"
   },
   {
    "duration": 11,
    "start_time": "2022-09-23T11:41:14.278Z"
   },
   {
    "duration": 8,
    "start_time": "2022-09-23T11:41:14.291Z"
   },
   {
    "duration": 23,
    "start_time": "2022-09-23T11:41:14.301Z"
   },
   {
    "duration": 12,
    "start_time": "2022-09-23T11:41:14.327Z"
   },
   {
    "duration": 7,
    "start_time": "2022-09-23T11:41:14.341Z"
   },
   {
    "duration": 5476,
    "start_time": "2022-09-23T11:41:14.349Z"
   },
   {
    "duration": 5,
    "start_time": "2022-09-23T11:41:19.827Z"
   },
   {
    "duration": 14,
    "start_time": "2022-09-23T11:41:19.834Z"
   },
   {
    "duration": 5454,
    "start_time": "2022-09-23T11:41:19.850Z"
   },
   {
    "duration": 3,
    "start_time": "2022-09-23T11:41:25.306Z"
   },
   {
    "duration": 5295,
    "start_time": "2022-09-23T11:41:25.310Z"
   },
   {
    "duration": 13,
    "start_time": "2022-09-23T11:41:30.607Z"
   },
   {
    "duration": 37,
    "start_time": "2022-09-23T11:41:30.621Z"
   },
   {
    "duration": 44,
    "start_time": "2022-09-23T11:41:30.663Z"
   },
   {
    "duration": 11,
    "start_time": "2022-09-23T11:41:30.709Z"
   },
   {
    "duration": 26,
    "start_time": "2022-09-23T11:41:30.721Z"
   },
   {
    "duration": 13,
    "start_time": "2022-09-23T11:41:30.748Z"
   },
   {
    "duration": 15,
    "start_time": "2022-09-23T11:41:30.763Z"
   },
   {
    "duration": 22,
    "start_time": "2022-09-23T11:41:30.780Z"
   },
   {
    "duration": 54,
    "start_time": "2022-09-23T11:41:30.804Z"
   },
   {
    "duration": 22,
    "start_time": "2022-09-23T11:41:30.860Z"
   },
   {
    "duration": 19,
    "start_time": "2022-09-23T11:41:30.884Z"
   },
   {
    "duration": 11,
    "start_time": "2022-09-23T11:41:30.905Z"
   },
   {
    "duration": 5333,
    "start_time": "2022-09-23T11:41:30.918Z"
   },
   {
    "duration": 6,
    "start_time": "2022-09-23T11:41:36.253Z"
   },
   {
    "duration": 5,
    "start_time": "2022-09-23T11:41:36.261Z"
   },
   {
    "duration": 21,
    "start_time": "2022-09-23T11:41:36.268Z"
   },
   {
    "duration": 26,
    "start_time": "2022-09-23T11:41:36.291Z"
   },
   {
    "duration": 6016,
    "start_time": "2022-09-23T11:41:36.319Z"
   },
   {
    "duration": 17,
    "start_time": "2022-09-23T11:41:42.336Z"
   },
   {
    "duration": 7,
    "start_time": "2022-09-23T11:41:42.355Z"
   },
   {
    "duration": 8,
    "start_time": "2022-09-23T11:41:42.364Z"
   },
   {
    "duration": 1879,
    "start_time": "2022-09-23T11:41:42.373Z"
   },
   {
    "duration": 3,
    "start_time": "2022-09-23T11:41:44.253Z"
   },
   {
    "duration": 5,
    "start_time": "2022-09-23T11:41:44.257Z"
   },
   {
    "duration": 9,
    "start_time": "2022-09-23T11:41:44.264Z"
   },
   {
    "duration": 20,
    "start_time": "2022-09-23T11:41:44.274Z"
   },
   {
    "duration": 4,
    "start_time": "2022-09-23T11:41:44.295Z"
   },
   {
    "duration": 6,
    "start_time": "2022-09-23T11:41:44.301Z"
   },
   {
    "duration": 6,
    "start_time": "2022-09-23T11:41:44.308Z"
   },
   {
    "duration": 31,
    "start_time": "2022-09-23T11:41:44.315Z"
   },
   {
    "duration": 8,
    "start_time": "2022-09-23T11:41:44.347Z"
   },
   {
    "duration": 9,
    "start_time": "2022-09-23T11:41:44.356Z"
   },
   {
    "duration": 34,
    "start_time": "2022-09-23T11:41:44.367Z"
   },
   {
    "duration": 31,
    "start_time": "2022-09-23T11:41:44.403Z"
   },
   {
    "duration": 12,
    "start_time": "2022-09-23T11:41:44.436Z"
   },
   {
    "duration": 98,
    "start_time": "2022-09-23T11:41:44.449Z"
   },
   {
    "duration": 25,
    "start_time": "2022-09-23T11:41:44.549Z"
   },
   {
    "duration": 1213,
    "start_time": "2022-09-23T11:43:58.429Z"
   },
   {
    "duration": 351,
    "start_time": "2022-09-23T11:43:59.644Z"
   },
   {
    "duration": 17,
    "start_time": "2022-09-23T11:43:59.997Z"
   },
   {
    "duration": 7,
    "start_time": "2022-09-23T11:44:00.017Z"
   },
   {
    "duration": 14,
    "start_time": "2022-09-23T11:44:00.027Z"
   },
   {
    "duration": 5,
    "start_time": "2022-09-23T11:44:00.043Z"
   },
   {
    "duration": 9,
    "start_time": "2022-09-23T11:44:00.050Z"
   },
   {
    "duration": 29,
    "start_time": "2022-09-23T11:44:00.061Z"
   },
   {
    "duration": 5414,
    "start_time": "2022-09-23T11:44:00.093Z"
   },
   {
    "duration": 13,
    "start_time": "2022-09-23T11:44:05.509Z"
   },
   {
    "duration": 13,
    "start_time": "2022-09-23T11:44:05.524Z"
   },
   {
    "duration": 5632,
    "start_time": "2022-09-23T11:44:05.538Z"
   },
   {
    "duration": 18,
    "start_time": "2022-09-23T11:44:11.172Z"
   },
   {
    "duration": 15,
    "start_time": "2022-09-23T11:44:11.196Z"
   },
   {
    "duration": 5398,
    "start_time": "2022-09-23T11:44:11.213Z"
   },
   {
    "duration": 14,
    "start_time": "2022-09-23T11:44:16.613Z"
   },
   {
    "duration": 9,
    "start_time": "2022-09-23T11:44:16.628Z"
   },
   {
    "duration": 5363,
    "start_time": "2022-09-23T11:44:16.638Z"
   },
   {
    "duration": 5,
    "start_time": "2022-09-23T11:44:22.003Z"
   },
   {
    "duration": 12,
    "start_time": "2022-09-23T11:44:22.010Z"
   },
   {
    "duration": 21,
    "start_time": "2022-09-23T11:44:22.023Z"
   },
   {
    "duration": 8,
    "start_time": "2022-09-23T11:44:22.046Z"
   },
   {
    "duration": 21,
    "start_time": "2022-09-23T11:44:22.056Z"
   },
   {
    "duration": 5,
    "start_time": "2022-09-23T11:44:22.089Z"
   },
   {
    "duration": 29,
    "start_time": "2022-09-23T11:44:22.096Z"
   },
   {
    "duration": 23,
    "start_time": "2022-09-23T11:44:22.127Z"
   },
   {
    "duration": 73,
    "start_time": "2022-09-23T11:44:22.152Z"
   },
   {
    "duration": 11,
    "start_time": "2022-09-23T11:44:22.227Z"
   },
   {
    "duration": 10,
    "start_time": "2022-09-23T11:44:22.240Z"
   },
   {
    "duration": 17,
    "start_time": "2022-09-23T11:44:22.252Z"
   },
   {
    "duration": 7,
    "start_time": "2022-09-23T11:44:22.271Z"
   },
   {
    "duration": 4,
    "start_time": "2022-09-23T11:44:22.279Z"
   },
   {
    "duration": 5373,
    "start_time": "2022-09-23T11:44:22.285Z"
   },
   {
    "duration": 5,
    "start_time": "2022-09-23T11:44:27.660Z"
   },
   {
    "duration": 22,
    "start_time": "2022-09-23T11:44:27.667Z"
   },
   {
    "duration": 5555,
    "start_time": "2022-09-23T11:44:27.691Z"
   },
   {
    "duration": 2,
    "start_time": "2022-09-23T11:44:33.248Z"
   },
   {
    "duration": 5379,
    "start_time": "2022-09-23T11:44:33.252Z"
   },
   {
    "duration": 12,
    "start_time": "2022-09-23T11:44:38.633Z"
   },
   {
    "duration": 11,
    "start_time": "2022-09-23T11:44:38.647Z"
   },
   {
    "duration": 27,
    "start_time": "2022-09-23T11:44:38.662Z"
   },
   {
    "duration": 8,
    "start_time": "2022-09-23T11:44:38.691Z"
   },
   {
    "duration": 8,
    "start_time": "2022-09-23T11:44:38.701Z"
   },
   {
    "duration": 7,
    "start_time": "2022-09-23T11:44:38.711Z"
   },
   {
    "duration": 7,
    "start_time": "2022-09-23T11:44:38.719Z"
   },
   {
    "duration": 10,
    "start_time": "2022-09-23T11:44:38.727Z"
   },
   {
    "duration": 7,
    "start_time": "2022-09-23T11:44:38.738Z"
   },
   {
    "duration": 10,
    "start_time": "2022-09-23T11:44:38.746Z"
   },
   {
    "duration": 4,
    "start_time": "2022-09-23T11:44:38.758Z"
   },
   {
    "duration": 26,
    "start_time": "2022-09-23T11:44:38.764Z"
   },
   {
    "duration": 5353,
    "start_time": "2022-09-23T11:44:38.792Z"
   },
   {
    "duration": 4,
    "start_time": "2022-09-23T11:44:44.147Z"
   },
   {
    "duration": 18,
    "start_time": "2022-09-23T11:44:44.152Z"
   },
   {
    "duration": 27,
    "start_time": "2022-09-23T11:44:44.171Z"
   },
   {
    "duration": 30,
    "start_time": "2022-09-23T11:44:44.200Z"
   },
   {
    "duration": 5596,
    "start_time": "2022-09-23T11:44:44.231Z"
   },
   {
    "duration": 17,
    "start_time": "2022-09-23T11:44:49.829Z"
   },
   {
    "duration": 10,
    "start_time": "2022-09-23T11:44:49.848Z"
   },
   {
    "duration": 23,
    "start_time": "2022-09-23T11:44:49.860Z"
   },
   {
    "duration": 1832,
    "start_time": "2022-09-23T11:44:49.885Z"
   },
   {
    "duration": 2,
    "start_time": "2022-09-23T11:44:51.719Z"
   },
   {
    "duration": 27,
    "start_time": "2022-09-23T11:44:51.722Z"
   },
   {
    "duration": 25,
    "start_time": "2022-09-23T11:44:51.751Z"
   },
   {
    "duration": 25,
    "start_time": "2022-09-23T11:44:51.779Z"
   },
   {
    "duration": 12,
    "start_time": "2022-09-23T11:44:51.808Z"
   },
   {
    "duration": 28,
    "start_time": "2022-09-23T11:44:51.822Z"
   },
   {
    "duration": 16,
    "start_time": "2022-09-23T11:44:51.853Z"
   },
   {
    "duration": 55,
    "start_time": "2022-09-23T11:44:51.872Z"
   },
   {
    "duration": 34,
    "start_time": "2022-09-23T11:44:51.929Z"
   },
   {
    "duration": 15,
    "start_time": "2022-09-23T11:44:51.966Z"
   },
   {
    "duration": 33,
    "start_time": "2022-09-23T11:44:51.983Z"
   },
   {
    "duration": 49,
    "start_time": "2022-09-23T11:44:52.018Z"
   },
   {
    "duration": 21,
    "start_time": "2022-09-23T11:44:52.069Z"
   },
   {
    "duration": 135,
    "start_time": "2022-09-23T11:44:52.092Z"
   },
   {
    "duration": 25,
    "start_time": "2022-09-23T11:44:52.228Z"
   },
   {
    "duration": 14,
    "start_time": "2022-09-23T11:46:35.454Z"
   },
   {
    "duration": 1236,
    "start_time": "2022-09-23T11:47:25.827Z"
   },
   {
    "duration": 513,
    "start_time": "2022-09-23T11:47:27.066Z"
   },
   {
    "duration": 16,
    "start_time": "2022-09-23T11:47:27.580Z"
   },
   {
    "duration": 14,
    "start_time": "2022-09-23T11:47:27.597Z"
   },
   {
    "duration": 15,
    "start_time": "2022-09-23T11:47:27.613Z"
   },
   {
    "duration": 4,
    "start_time": "2022-09-23T11:47:27.629Z"
   },
   {
    "duration": 8,
    "start_time": "2022-09-23T11:47:27.635Z"
   },
   {
    "duration": 12,
    "start_time": "2022-09-23T11:47:27.645Z"
   },
   {
    "duration": 5581,
    "start_time": "2022-09-23T11:47:27.659Z"
   },
   {
    "duration": 12,
    "start_time": "2022-09-23T11:47:33.242Z"
   },
   {
    "duration": 7,
    "start_time": "2022-09-23T11:47:33.256Z"
   },
   {
    "duration": 5518,
    "start_time": "2022-09-23T11:47:33.265Z"
   },
   {
    "duration": 11,
    "start_time": "2022-09-23T11:47:38.785Z"
   },
   {
    "duration": 13,
    "start_time": "2022-09-23T11:47:38.799Z"
   },
   {
    "duration": 5491,
    "start_time": "2022-09-23T11:47:38.813Z"
   },
   {
    "duration": 14,
    "start_time": "2022-09-23T11:47:44.305Z"
   },
   {
    "duration": 8,
    "start_time": "2022-09-23T11:47:44.320Z"
   },
   {
    "duration": 5380,
    "start_time": "2022-09-23T11:47:44.329Z"
   },
   {
    "duration": 4,
    "start_time": "2022-09-23T11:47:49.711Z"
   },
   {
    "duration": 7,
    "start_time": "2022-09-23T11:47:49.717Z"
   },
   {
    "duration": 14,
    "start_time": "2022-09-23T11:47:49.725Z"
   },
   {
    "duration": 5,
    "start_time": "2022-09-23T11:47:49.741Z"
   },
   {
    "duration": 21,
    "start_time": "2022-09-23T11:47:49.748Z"
   },
   {
    "duration": 21,
    "start_time": "2022-09-23T11:47:49.770Z"
   },
   {
    "duration": 28,
    "start_time": "2022-09-23T11:47:49.793Z"
   },
   {
    "duration": 22,
    "start_time": "2022-09-23T11:47:49.823Z"
   },
   {
    "duration": 62,
    "start_time": "2022-09-23T11:47:49.846Z"
   },
   {
    "duration": 10,
    "start_time": "2022-09-23T11:47:49.910Z"
   },
   {
    "duration": 6,
    "start_time": "2022-09-23T11:47:49.922Z"
   },
   {
    "duration": 18,
    "start_time": "2022-09-23T11:47:49.929Z"
   },
   {
    "duration": 7,
    "start_time": "2022-09-23T11:47:49.948Z"
   },
   {
    "duration": 4,
    "start_time": "2022-09-23T11:47:49.957Z"
   },
   {
    "duration": 5723,
    "start_time": "2022-09-23T11:47:49.962Z"
   },
   {
    "duration": 6,
    "start_time": "2022-09-23T11:47:55.686Z"
   },
   {
    "duration": 4,
    "start_time": "2022-09-23T11:47:55.694Z"
   },
   {
    "duration": 5515,
    "start_time": "2022-09-23T11:47:55.700Z"
   },
   {
    "duration": 4,
    "start_time": "2022-09-23T11:48:01.217Z"
   },
   {
    "duration": 5614,
    "start_time": "2022-09-23T11:48:01.223Z"
   },
   {
    "duration": 13,
    "start_time": "2022-09-23T11:48:06.839Z"
   },
   {
    "duration": 3,
    "start_time": "2022-09-23T11:48:06.854Z"
   },
   {
    "duration": 32,
    "start_time": "2022-09-23T11:48:06.861Z"
   },
   {
    "duration": 10,
    "start_time": "2022-09-23T11:48:06.895Z"
   },
   {
    "duration": 7,
    "start_time": "2022-09-23T11:48:06.906Z"
   },
   {
    "duration": 7,
    "start_time": "2022-09-23T11:48:06.915Z"
   },
   {
    "duration": 5,
    "start_time": "2022-09-23T11:48:06.924Z"
   },
   {
    "duration": 8,
    "start_time": "2022-09-23T11:48:06.931Z"
   },
   {
    "duration": 9,
    "start_time": "2022-09-23T11:48:06.940Z"
   },
   {
    "duration": 11,
    "start_time": "2022-09-23T11:48:06.950Z"
   },
   {
    "duration": 26,
    "start_time": "2022-09-23T11:48:06.963Z"
   },
   {
    "duration": 7,
    "start_time": "2022-09-23T11:48:06.990Z"
   },
   {
    "duration": 5587,
    "start_time": "2022-09-23T11:48:06.998Z"
   },
   {
    "duration": 5,
    "start_time": "2022-09-23T11:48:12.587Z"
   },
   {
    "duration": 23,
    "start_time": "2022-09-23T11:48:12.594Z"
   },
   {
    "duration": 30,
    "start_time": "2022-09-23T11:48:12.619Z"
   },
   {
    "duration": 29,
    "start_time": "2022-09-23T11:48:12.650Z"
   },
   {
    "duration": 5792,
    "start_time": "2022-09-23T11:48:12.680Z"
   },
   {
    "duration": 16,
    "start_time": "2022-09-23T11:48:18.474Z"
   },
   {
    "duration": 16,
    "start_time": "2022-09-23T11:48:18.492Z"
   },
   {
    "duration": 25,
    "start_time": "2022-09-23T11:48:18.510Z"
   },
   {
    "duration": 1802,
    "start_time": "2022-09-23T11:48:18.536Z"
   },
   {
    "duration": 2,
    "start_time": "2022-09-23T11:48:20.340Z"
   },
   {
    "duration": 46,
    "start_time": "2022-09-23T11:48:20.344Z"
   },
   {
    "duration": 39,
    "start_time": "2022-09-23T11:48:20.392Z"
   },
   {
    "duration": 22,
    "start_time": "2022-09-23T11:48:20.433Z"
   },
   {
    "duration": 20,
    "start_time": "2022-09-23T11:48:20.457Z"
   },
   {
    "duration": 31,
    "start_time": "2022-09-23T11:48:20.479Z"
   },
   {
    "duration": 22,
    "start_time": "2022-09-23T11:48:20.512Z"
   },
   {
    "duration": 44,
    "start_time": "2022-09-23T11:48:20.536Z"
   },
   {
    "duration": 5,
    "start_time": "2022-09-23T11:48:20.582Z"
   },
   {
    "duration": 32,
    "start_time": "2022-09-23T11:48:20.589Z"
   },
   {
    "duration": 28,
    "start_time": "2022-09-23T11:48:20.623Z"
   },
   {
    "duration": 13,
    "start_time": "2022-09-23T11:48:20.652Z"
   },
   {
    "duration": 106,
    "start_time": "2022-09-23T11:48:20.666Z"
   },
   {
    "duration": 28,
    "start_time": "2022-09-23T11:48:20.774Z"
   },
   {
    "duration": 1258,
    "start_time": "2022-09-23T11:50:00.001Z"
   },
   {
    "duration": 483,
    "start_time": "2022-09-23T11:50:01.261Z"
   },
   {
    "duration": 15,
    "start_time": "2022-09-23T11:50:01.745Z"
   },
   {
    "duration": 5,
    "start_time": "2022-09-23T11:50:01.762Z"
   },
   {
    "duration": 28,
    "start_time": "2022-09-23T11:50:01.768Z"
   },
   {
    "duration": 4,
    "start_time": "2022-09-23T11:50:01.797Z"
   },
   {
    "duration": 42,
    "start_time": "2022-09-23T11:50:01.802Z"
   },
   {
    "duration": 26,
    "start_time": "2022-09-23T11:50:01.846Z"
   },
   {
    "duration": 5440,
    "start_time": "2022-09-23T11:50:01.874Z"
   },
   {
    "duration": 11,
    "start_time": "2022-09-23T11:50:07.317Z"
   },
   {
    "duration": 7,
    "start_time": "2022-09-23T11:50:07.330Z"
   },
   {
    "duration": 5557,
    "start_time": "2022-09-23T11:50:07.338Z"
   },
   {
    "duration": 10,
    "start_time": "2022-09-23T11:50:12.897Z"
   },
   {
    "duration": 19,
    "start_time": "2022-09-23T11:50:12.908Z"
   },
   {
    "duration": 5263,
    "start_time": "2022-09-23T11:50:12.929Z"
   },
   {
    "duration": 15,
    "start_time": "2022-09-23T11:50:18.193Z"
   },
   {
    "duration": 9,
    "start_time": "2022-09-23T11:50:18.211Z"
   },
   {
    "duration": 5301,
    "start_time": "2022-09-23T11:50:18.222Z"
   },
   {
    "duration": 4,
    "start_time": "2022-09-23T11:50:23.525Z"
   },
   {
    "duration": 8,
    "start_time": "2022-09-23T11:50:23.531Z"
   },
   {
    "duration": 12,
    "start_time": "2022-09-23T11:50:23.541Z"
   },
   {
    "duration": 7,
    "start_time": "2022-09-23T11:50:23.554Z"
   },
   {
    "duration": 34,
    "start_time": "2022-09-23T11:50:23.563Z"
   },
   {
    "duration": 6,
    "start_time": "2022-09-23T11:50:23.599Z"
   },
   {
    "duration": 28,
    "start_time": "2022-09-23T11:50:23.607Z"
   },
   {
    "duration": 23,
    "start_time": "2022-09-23T11:50:23.637Z"
   },
   {
    "duration": 80,
    "start_time": "2022-09-23T11:50:23.662Z"
   },
   {
    "duration": 10,
    "start_time": "2022-09-23T11:50:23.746Z"
   },
   {
    "duration": 8,
    "start_time": "2022-09-23T11:50:23.758Z"
   },
   {
    "duration": 19,
    "start_time": "2022-09-23T11:50:23.767Z"
   },
   {
    "duration": 8,
    "start_time": "2022-09-23T11:50:23.788Z"
   },
   {
    "duration": 8,
    "start_time": "2022-09-23T11:50:23.797Z"
   },
   {
    "duration": 5373,
    "start_time": "2022-09-23T11:50:23.807Z"
   },
   {
    "duration": 19,
    "start_time": "2022-09-23T11:50:29.182Z"
   },
   {
    "duration": 13,
    "start_time": "2022-09-23T11:50:29.204Z"
   },
   {
    "duration": 5484,
    "start_time": "2022-09-23T11:50:29.219Z"
   },
   {
    "duration": 5,
    "start_time": "2022-09-23T11:50:34.705Z"
   },
   {
    "duration": 5445,
    "start_time": "2022-09-23T11:50:34.712Z"
   },
   {
    "duration": 13,
    "start_time": "2022-09-23T11:50:40.158Z"
   },
   {
    "duration": 12,
    "start_time": "2022-09-23T11:50:40.173Z"
   },
   {
    "duration": 18,
    "start_time": "2022-09-23T11:50:40.188Z"
   },
   {
    "duration": 11,
    "start_time": "2022-09-23T11:50:40.208Z"
   },
   {
    "duration": 10,
    "start_time": "2022-09-23T11:50:40.221Z"
   },
   {
    "duration": 7,
    "start_time": "2022-09-23T11:50:40.232Z"
   },
   {
    "duration": 8,
    "start_time": "2022-09-23T11:50:40.241Z"
   },
   {
    "duration": 14,
    "start_time": "2022-09-23T11:50:40.251Z"
   },
   {
    "duration": 29,
    "start_time": "2022-09-23T11:50:40.266Z"
   },
   {
    "duration": 7,
    "start_time": "2022-09-23T11:50:40.297Z"
   },
   {
    "duration": 7,
    "start_time": "2022-09-23T11:50:40.306Z"
   },
   {
    "duration": 15,
    "start_time": "2022-09-23T11:50:40.315Z"
   },
   {
    "duration": 5488,
    "start_time": "2022-09-23T11:50:40.332Z"
   },
   {
    "duration": 5,
    "start_time": "2022-09-23T11:50:45.822Z"
   },
   {
    "duration": 7,
    "start_time": "2022-09-23T11:50:45.829Z"
   },
   {
    "duration": 12,
    "start_time": "2022-09-23T11:50:45.838Z"
   },
   {
    "duration": 30,
    "start_time": "2022-09-23T11:50:45.852Z"
   },
   {
    "duration": 5756,
    "start_time": "2022-09-23T11:50:45.884Z"
   },
   {
    "duration": 16,
    "start_time": "2022-09-23T11:50:51.642Z"
   },
   {
    "duration": 10,
    "start_time": "2022-09-23T11:50:51.660Z"
   },
   {
    "duration": 11,
    "start_time": "2022-09-23T11:50:51.671Z"
   },
   {
    "duration": 1872,
    "start_time": "2022-09-23T11:50:51.683Z"
   },
   {
    "duration": 3,
    "start_time": "2022-09-23T11:50:53.557Z"
   },
   {
    "duration": 12,
    "start_time": "2022-09-23T11:50:53.562Z"
   },
   {
    "duration": 23,
    "start_time": "2022-09-23T11:50:53.576Z"
   },
   {
    "duration": 21,
    "start_time": "2022-09-23T11:50:53.601Z"
   },
   {
    "duration": 10,
    "start_time": "2022-09-23T11:50:53.624Z"
   },
   {
    "duration": 29,
    "start_time": "2022-09-23T11:50:53.635Z"
   },
   {
    "duration": 10,
    "start_time": "2022-09-23T11:50:53.666Z"
   },
   {
    "duration": 32,
    "start_time": "2022-09-23T11:50:53.678Z"
   },
   {
    "duration": 25,
    "start_time": "2022-09-23T11:50:53.711Z"
   },
   {
    "duration": 12,
    "start_time": "2022-09-23T11:50:53.738Z"
   },
   {
    "duration": 38,
    "start_time": "2022-09-23T11:50:53.752Z"
   },
   {
    "duration": 49,
    "start_time": "2022-09-23T11:50:53.792Z"
   },
   {
    "duration": 13,
    "start_time": "2022-09-23T11:50:53.842Z"
   },
   {
    "duration": 119,
    "start_time": "2022-09-23T11:50:53.857Z"
   },
   {
    "duration": 24,
    "start_time": "2022-09-23T11:50:53.978Z"
   },
   {
    "duration": 1437,
    "start_time": "2022-09-23T11:51:41.100Z"
   },
   {
    "duration": 314,
    "start_time": "2022-09-23T11:51:42.539Z"
   },
   {
    "duration": 14,
    "start_time": "2022-09-23T11:51:42.855Z"
   },
   {
    "duration": 5,
    "start_time": "2022-09-23T11:51:42.871Z"
   },
   {
    "duration": 20,
    "start_time": "2022-09-23T11:51:42.888Z"
   },
   {
    "duration": 10,
    "start_time": "2022-09-23T11:51:42.910Z"
   },
   {
    "duration": 9,
    "start_time": "2022-09-23T11:51:42.922Z"
   },
   {
    "duration": 9,
    "start_time": "2022-09-23T11:51:42.933Z"
   },
   {
    "duration": 5274,
    "start_time": "2022-09-23T11:51:42.944Z"
   },
   {
    "duration": 14,
    "start_time": "2022-09-23T11:51:48.221Z"
   },
   {
    "duration": 7,
    "start_time": "2022-09-23T11:51:48.238Z"
   },
   {
    "duration": 5384,
    "start_time": "2022-09-23T11:51:48.247Z"
   },
   {
    "duration": 9,
    "start_time": "2022-09-23T11:51:53.632Z"
   },
   {
    "duration": 22,
    "start_time": "2022-09-23T11:51:53.643Z"
   },
   {
    "duration": 5230,
    "start_time": "2022-09-23T11:51:53.667Z"
   },
   {
    "duration": 14,
    "start_time": "2022-09-23T11:51:58.898Z"
   },
   {
    "duration": 13,
    "start_time": "2022-09-23T11:51:58.913Z"
   },
   {
    "duration": 5385,
    "start_time": "2022-09-23T11:51:58.928Z"
   },
   {
    "duration": 4,
    "start_time": "2022-09-23T11:52:04.314Z"
   },
   {
    "duration": 10,
    "start_time": "2022-09-23T11:52:04.320Z"
   },
   {
    "duration": 29,
    "start_time": "2022-09-23T11:52:04.332Z"
   },
   {
    "duration": 25,
    "start_time": "2022-09-23T11:52:04.363Z"
   },
   {
    "duration": 25,
    "start_time": "2022-09-23T11:52:04.389Z"
   },
   {
    "duration": 23,
    "start_time": "2022-09-23T11:52:04.416Z"
   },
   {
    "duration": 48,
    "start_time": "2022-09-23T11:52:04.441Z"
   },
   {
    "duration": 25,
    "start_time": "2022-09-23T11:52:04.490Z"
   },
   {
    "duration": 72,
    "start_time": "2022-09-23T11:52:04.517Z"
   },
   {
    "duration": 11,
    "start_time": "2022-09-23T11:52:04.593Z"
   },
   {
    "duration": 22,
    "start_time": "2022-09-23T11:52:04.606Z"
   },
   {
    "duration": 27,
    "start_time": "2022-09-23T11:52:04.630Z"
   },
   {
    "duration": 20,
    "start_time": "2022-09-23T11:52:04.659Z"
   },
   {
    "duration": 18,
    "start_time": "2022-09-23T11:52:04.681Z"
   },
   {
    "duration": 5566,
    "start_time": "2022-09-23T11:52:04.701Z"
   },
   {
    "duration": 5,
    "start_time": "2022-09-23T11:52:10.269Z"
   },
   {
    "duration": 14,
    "start_time": "2022-09-23T11:52:10.275Z"
   },
   {
    "duration": 5705,
    "start_time": "2022-09-23T11:52:10.291Z"
   },
   {
    "duration": 3,
    "start_time": "2022-09-23T11:52:15.998Z"
   },
   {
    "duration": 5584,
    "start_time": "2022-09-23T11:52:16.003Z"
   },
   {
    "duration": 14,
    "start_time": "2022-09-23T11:52:21.588Z"
   },
   {
    "duration": 7,
    "start_time": "2022-09-23T11:52:21.603Z"
   },
   {
    "duration": 21,
    "start_time": "2022-09-23T11:52:21.611Z"
   },
   {
    "duration": 9,
    "start_time": "2022-09-23T11:52:21.633Z"
   },
   {
    "duration": 10,
    "start_time": "2022-09-23T11:52:21.644Z"
   },
   {
    "duration": 29,
    "start_time": "2022-09-23T11:52:21.656Z"
   },
   {
    "duration": 15,
    "start_time": "2022-09-23T11:52:21.687Z"
   },
   {
    "duration": 18,
    "start_time": "2022-09-23T11:52:21.704Z"
   },
   {
    "duration": 17,
    "start_time": "2022-09-23T11:52:21.724Z"
   },
   {
    "duration": 15,
    "start_time": "2022-09-23T11:52:21.742Z"
   },
   {
    "duration": 18,
    "start_time": "2022-09-23T11:52:21.759Z"
   },
   {
    "duration": 6,
    "start_time": "2022-09-23T11:52:21.779Z"
   },
   {
    "duration": 5755,
    "start_time": "2022-09-23T11:52:21.787Z"
   },
   {
    "duration": 5,
    "start_time": "2022-09-23T11:52:27.543Z"
   },
   {
    "duration": 6,
    "start_time": "2022-09-23T11:52:27.549Z"
   },
   {
    "duration": 9,
    "start_time": "2022-09-23T11:52:27.557Z"
   },
   {
    "duration": 32,
    "start_time": "2022-09-23T11:52:27.568Z"
   },
   {
    "duration": 6035,
    "start_time": "2022-09-23T11:52:27.601Z"
   },
   {
    "duration": 17,
    "start_time": "2022-09-23T11:52:33.638Z"
   },
   {
    "duration": 9,
    "start_time": "2022-09-23T11:52:33.657Z"
   },
   {
    "duration": 30,
    "start_time": "2022-09-23T11:52:33.668Z"
   },
   {
    "duration": 1918,
    "start_time": "2022-09-23T11:52:33.701Z"
   },
   {
    "duration": 2,
    "start_time": "2022-09-23T11:52:35.621Z"
   },
   {
    "duration": 16,
    "start_time": "2022-09-23T11:52:35.626Z"
   },
   {
    "duration": 26,
    "start_time": "2022-09-23T11:52:35.644Z"
   },
   {
    "duration": 26,
    "start_time": "2022-09-23T11:52:35.672Z"
   },
   {
    "duration": 11,
    "start_time": "2022-09-23T11:52:35.701Z"
   },
   {
    "duration": 13,
    "start_time": "2022-09-23T11:52:35.714Z"
   },
   {
    "duration": 16,
    "start_time": "2022-09-23T11:52:35.730Z"
   },
   {
    "duration": 37,
    "start_time": "2022-09-23T11:52:35.747Z"
   },
   {
    "duration": 7,
    "start_time": "2022-09-23T11:52:35.785Z"
   },
   {
    "duration": 42,
    "start_time": "2022-09-23T11:52:35.794Z"
   },
   {
    "duration": 31,
    "start_time": "2022-09-23T11:52:35.838Z"
   },
   {
    "duration": 59,
    "start_time": "2022-09-23T11:52:35.870Z"
   },
   {
    "duration": 17,
    "start_time": "2022-09-23T11:52:35.932Z"
   },
   {
    "duration": 126,
    "start_time": "2022-09-23T11:52:35.951Z"
   },
   {
    "duration": 31,
    "start_time": "2022-09-23T11:52:36.079Z"
   },
   {
    "duration": 1219,
    "start_time": "2022-09-23T11:53:25.940Z"
   },
   {
    "duration": 378,
    "start_time": "2022-09-23T11:53:27.161Z"
   },
   {
    "duration": 16,
    "start_time": "2022-09-23T11:53:27.541Z"
   },
   {
    "duration": 5,
    "start_time": "2022-09-23T11:53:27.560Z"
   },
   {
    "duration": 26,
    "start_time": "2022-09-23T11:53:27.566Z"
   },
   {
    "duration": 4,
    "start_time": "2022-09-23T11:53:27.594Z"
   },
   {
    "duration": 6,
    "start_time": "2022-09-23T11:53:27.600Z"
   },
   {
    "duration": 5,
    "start_time": "2022-09-23T11:53:27.608Z"
   },
   {
    "duration": 5457,
    "start_time": "2022-09-23T11:53:27.615Z"
   },
   {
    "duration": 15,
    "start_time": "2022-09-23T11:53:33.075Z"
   },
   {
    "duration": 5,
    "start_time": "2022-09-23T11:53:33.092Z"
   },
   {
    "duration": 5337,
    "start_time": "2022-09-23T11:53:33.098Z"
   },
   {
    "duration": 10,
    "start_time": "2022-09-23T11:53:38.437Z"
   },
   {
    "duration": 21,
    "start_time": "2022-09-23T11:53:38.449Z"
   },
   {
    "duration": 5658,
    "start_time": "2022-09-23T11:53:38.472Z"
   },
   {
    "duration": 15,
    "start_time": "2022-09-23T11:53:44.131Z"
   },
   {
    "duration": 18,
    "start_time": "2022-09-23T11:53:44.148Z"
   },
   {
    "duration": 5331,
    "start_time": "2022-09-23T11:53:44.168Z"
   },
   {
    "duration": 3,
    "start_time": "2022-09-23T11:53:49.501Z"
   },
   {
    "duration": 12,
    "start_time": "2022-09-23T11:53:49.506Z"
   },
   {
    "duration": 30,
    "start_time": "2022-09-23T11:53:49.520Z"
   },
   {
    "duration": 16,
    "start_time": "2022-09-23T11:53:49.552Z"
   },
   {
    "duration": 24,
    "start_time": "2022-09-23T11:53:49.570Z"
   },
   {
    "duration": 23,
    "start_time": "2022-09-23T11:53:49.596Z"
   },
   {
    "duration": 37,
    "start_time": "2022-09-23T11:53:49.621Z"
   },
   {
    "duration": 24,
    "start_time": "2022-09-23T11:53:49.661Z"
   },
   {
    "duration": 94,
    "start_time": "2022-09-23T11:53:49.686Z"
   },
   {
    "duration": 10,
    "start_time": "2022-09-23T11:53:49.784Z"
   },
   {
    "duration": 15,
    "start_time": "2022-09-23T11:53:49.795Z"
   },
   {
    "duration": 25,
    "start_time": "2022-09-23T11:53:49.812Z"
   },
   {
    "duration": 21,
    "start_time": "2022-09-23T11:53:49.839Z"
   },
   {
    "duration": 29,
    "start_time": "2022-09-23T11:53:49.861Z"
   },
   {
    "duration": 5480,
    "start_time": "2022-09-23T11:53:49.892Z"
   },
   {
    "duration": 5,
    "start_time": "2022-09-23T11:53:55.373Z"
   },
   {
    "duration": 27,
    "start_time": "2022-09-23T11:53:55.380Z"
   },
   {
    "duration": 5269,
    "start_time": "2022-09-23T11:53:55.409Z"
   },
   {
    "duration": 11,
    "start_time": "2022-09-23T11:54:00.680Z"
   },
   {
    "duration": 5400,
    "start_time": "2022-09-23T11:54:00.693Z"
   },
   {
    "duration": 12,
    "start_time": "2022-09-23T11:54:06.095Z"
   },
   {
    "duration": 5,
    "start_time": "2022-09-23T11:54:06.109Z"
   },
   {
    "duration": 28,
    "start_time": "2022-09-23T11:54:06.116Z"
   },
   {
    "duration": 8,
    "start_time": "2022-09-23T11:54:06.146Z"
   },
   {
    "duration": 7,
    "start_time": "2022-09-23T11:54:06.156Z"
   },
   {
    "duration": 9,
    "start_time": "2022-09-23T11:54:06.165Z"
   },
   {
    "duration": 17,
    "start_time": "2022-09-23T11:54:06.176Z"
   },
   {
    "duration": 20,
    "start_time": "2022-09-23T11:54:06.195Z"
   },
   {
    "duration": 14,
    "start_time": "2022-09-23T11:54:06.217Z"
   },
   {
    "duration": 11,
    "start_time": "2022-09-23T11:54:06.232Z"
   },
   {
    "duration": 6,
    "start_time": "2022-09-23T11:54:06.245Z"
   },
   {
    "duration": 12,
    "start_time": "2022-09-23T11:54:06.253Z"
   },
   {
    "duration": 5430,
    "start_time": "2022-09-23T11:54:06.267Z"
   },
   {
    "duration": 5,
    "start_time": "2022-09-23T11:54:11.699Z"
   },
   {
    "duration": 6,
    "start_time": "2022-09-23T11:54:11.706Z"
   },
   {
    "duration": 12,
    "start_time": "2022-09-23T11:54:11.714Z"
   },
   {
    "duration": 18,
    "start_time": "2022-09-23T11:54:11.728Z"
   },
   {
    "duration": 5626,
    "start_time": "2022-09-23T11:54:11.748Z"
   },
   {
    "duration": 17,
    "start_time": "2022-09-23T11:54:17.376Z"
   },
   {
    "duration": 11,
    "start_time": "2022-09-23T11:54:17.395Z"
   },
   {
    "duration": 10,
    "start_time": "2022-09-23T11:54:17.409Z"
   },
   {
    "duration": 1760,
    "start_time": "2022-09-23T11:54:17.421Z"
   },
   {
    "duration": 6,
    "start_time": "2022-09-23T11:54:19.183Z"
   },
   {
    "duration": 6,
    "start_time": "2022-09-23T11:54:19.190Z"
   },
   {
    "duration": 10,
    "start_time": "2022-09-23T11:54:19.197Z"
   },
   {
    "duration": 9,
    "start_time": "2022-09-23T11:54:19.208Z"
   },
   {
    "duration": 6,
    "start_time": "2022-09-23T11:54:19.219Z"
   },
   {
    "duration": 8,
    "start_time": "2022-09-23T11:54:19.226Z"
   },
   {
    "duration": 10,
    "start_time": "2022-09-23T11:54:19.236Z"
   },
   {
    "duration": 44,
    "start_time": "2022-09-23T11:54:19.248Z"
   },
   {
    "duration": 11,
    "start_time": "2022-09-23T11:54:19.294Z"
   },
   {
    "duration": 12,
    "start_time": "2022-09-23T11:54:19.307Z"
   },
   {
    "duration": 17,
    "start_time": "2022-09-23T11:54:19.321Z"
   },
   {
    "duration": 57,
    "start_time": "2022-09-23T11:54:19.340Z"
   },
   {
    "duration": 16,
    "start_time": "2022-09-23T11:54:19.399Z"
   },
   {
    "duration": 102,
    "start_time": "2022-09-23T11:54:19.417Z"
   },
   {
    "duration": 25,
    "start_time": "2022-09-23T11:54:19.522Z"
   },
   {
    "duration": 1229,
    "start_time": "2022-09-23T11:55:03.527Z"
   },
   {
    "duration": 348,
    "start_time": "2022-09-23T11:55:04.758Z"
   },
   {
    "duration": 15,
    "start_time": "2022-09-23T11:55:05.108Z"
   },
   {
    "duration": 9,
    "start_time": "2022-09-23T11:55:05.125Z"
   },
   {
    "duration": 14,
    "start_time": "2022-09-23T11:55:05.137Z"
   },
   {
    "duration": 5,
    "start_time": "2022-09-23T11:55:05.153Z"
   },
   {
    "duration": 7,
    "start_time": "2022-09-23T11:55:05.160Z"
   },
   {
    "duration": 22,
    "start_time": "2022-09-23T11:55:05.168Z"
   },
   {
    "duration": 5492,
    "start_time": "2022-09-23T11:55:05.191Z"
   },
   {
    "duration": 12,
    "start_time": "2022-09-23T11:55:10.685Z"
   },
   {
    "duration": 6,
    "start_time": "2022-09-23T11:55:10.699Z"
   },
   {
    "duration": 5517,
    "start_time": "2022-09-23T11:55:10.706Z"
   },
   {
    "duration": 10,
    "start_time": "2022-09-23T11:55:16.225Z"
   },
   {
    "duration": 13,
    "start_time": "2022-09-23T11:55:16.238Z"
   },
   {
    "duration": 5241,
    "start_time": "2022-09-23T11:55:16.252Z"
   },
   {
    "duration": 14,
    "start_time": "2022-09-23T11:55:21.494Z"
   },
   {
    "duration": 6,
    "start_time": "2022-09-23T11:55:21.510Z"
   },
   {
    "duration": 5347,
    "start_time": "2022-09-23T11:55:21.517Z"
   },
   {
    "duration": 3,
    "start_time": "2022-09-23T11:55:26.866Z"
   },
   {
    "duration": 14,
    "start_time": "2022-09-23T11:55:26.871Z"
   },
   {
    "duration": 11,
    "start_time": "2022-09-23T11:55:26.889Z"
   },
   {
    "duration": 4,
    "start_time": "2022-09-23T11:55:26.902Z"
   },
   {
    "duration": 18,
    "start_time": "2022-09-23T11:55:26.907Z"
   },
   {
    "duration": 6,
    "start_time": "2022-09-23T11:55:26.927Z"
   },
   {
    "duration": 29,
    "start_time": "2022-09-23T11:55:26.935Z"
   },
   {
    "duration": 46,
    "start_time": "2022-09-23T11:55:26.965Z"
   },
   {
    "duration": 63,
    "start_time": "2022-09-23T11:55:27.014Z"
   },
   {
    "duration": 10,
    "start_time": "2022-09-23T11:55:27.079Z"
   },
   {
    "duration": 12,
    "start_time": "2022-09-23T11:55:27.091Z"
   },
   {
    "duration": 19,
    "start_time": "2022-09-23T11:55:27.104Z"
   },
   {
    "duration": 7,
    "start_time": "2022-09-23T11:55:27.125Z"
   },
   {
    "duration": 5,
    "start_time": "2022-09-23T11:55:27.133Z"
   },
   {
    "duration": 5538,
    "start_time": "2022-09-23T11:55:27.139Z"
   },
   {
    "duration": 10,
    "start_time": "2022-09-23T11:55:32.679Z"
   },
   {
    "duration": 5,
    "start_time": "2022-09-23T11:55:32.690Z"
   },
   {
    "duration": 5260,
    "start_time": "2022-09-23T11:55:32.696Z"
   },
   {
    "duration": 4,
    "start_time": "2022-09-23T11:55:37.957Z"
   },
   {
    "duration": 5665,
    "start_time": "2022-09-23T11:55:37.962Z"
   },
   {
    "duration": 12,
    "start_time": "2022-09-23T11:55:43.629Z"
   },
   {
    "duration": 8,
    "start_time": "2022-09-23T11:55:43.643Z"
   },
   {
    "duration": 15,
    "start_time": "2022-09-23T11:55:43.655Z"
   },
   {
    "duration": 23,
    "start_time": "2022-09-23T11:55:43.671Z"
   },
   {
    "duration": 8,
    "start_time": "2022-09-23T11:55:43.696Z"
   },
   {
    "duration": 9,
    "start_time": "2022-09-23T11:55:43.706Z"
   },
   {
    "duration": 7,
    "start_time": "2022-09-23T11:55:43.716Z"
   },
   {
    "duration": 7,
    "start_time": "2022-09-23T11:55:43.725Z"
   },
   {
    "duration": 6,
    "start_time": "2022-09-23T11:55:43.734Z"
   },
   {
    "duration": 7,
    "start_time": "2022-09-23T11:55:43.742Z"
   },
   {
    "duration": 5,
    "start_time": "2022-09-23T11:55:43.751Z"
   },
   {
    "duration": 32,
    "start_time": "2022-09-23T11:55:43.757Z"
   },
   {
    "duration": 5283,
    "start_time": "2022-09-23T11:55:43.791Z"
   },
   {
    "duration": 4,
    "start_time": "2022-09-23T11:55:49.076Z"
   },
   {
    "duration": 10,
    "start_time": "2022-09-23T11:55:49.081Z"
   },
   {
    "duration": 10,
    "start_time": "2022-09-23T11:55:49.093Z"
   },
   {
    "duration": 17,
    "start_time": "2022-09-23T11:55:49.104Z"
   },
   {
    "duration": 5625,
    "start_time": "2022-09-23T11:55:49.122Z"
   },
   {
    "duration": 16,
    "start_time": "2022-09-23T11:55:54.749Z"
   },
   {
    "duration": 5,
    "start_time": "2022-09-23T11:55:54.767Z"
   },
   {
    "duration": 19,
    "start_time": "2022-09-23T11:55:54.773Z"
   },
   {
    "duration": 1786,
    "start_time": "2022-09-23T11:55:54.794Z"
   },
   {
    "duration": 3,
    "start_time": "2022-09-23T11:55:56.581Z"
   },
   {
    "duration": 7,
    "start_time": "2022-09-23T11:55:56.588Z"
   },
   {
    "duration": 12,
    "start_time": "2022-09-23T11:55:56.597Z"
   },
   {
    "duration": 8,
    "start_time": "2022-09-23T11:55:56.610Z"
   },
   {
    "duration": 5,
    "start_time": "2022-09-23T11:55:56.620Z"
   },
   {
    "duration": 7,
    "start_time": "2022-09-23T11:55:56.626Z"
   },
   {
    "duration": 6,
    "start_time": "2022-09-23T11:55:56.634Z"
   },
   {
    "duration": 29,
    "start_time": "2022-09-23T11:55:56.641Z"
   },
   {
    "duration": 4,
    "start_time": "2022-09-23T11:55:56.689Z"
   },
   {
    "duration": 8,
    "start_time": "2022-09-23T11:55:56.695Z"
   },
   {
    "duration": 30,
    "start_time": "2022-09-23T11:55:56.704Z"
   },
   {
    "duration": 30,
    "start_time": "2022-09-23T11:55:56.735Z"
   },
   {
    "duration": 37,
    "start_time": "2022-09-23T11:55:56.766Z"
   },
   {
    "duration": 92,
    "start_time": "2022-09-23T11:55:56.805Z"
   },
   {
    "duration": 25,
    "start_time": "2022-09-23T11:55:56.899Z"
   },
   {
    "duration": 1247,
    "start_time": "2022-09-23T12:01:35.194Z"
   },
   {
    "duration": 507,
    "start_time": "2022-09-23T12:01:36.443Z"
   },
   {
    "duration": 15,
    "start_time": "2022-09-23T12:01:36.952Z"
   },
   {
    "duration": 6,
    "start_time": "2022-09-23T12:01:36.969Z"
   },
   {
    "duration": 26,
    "start_time": "2022-09-23T12:01:36.976Z"
   },
   {
    "duration": 5,
    "start_time": "2022-09-23T12:01:37.004Z"
   },
   {
    "duration": 7,
    "start_time": "2022-09-23T12:01:37.011Z"
   },
   {
    "duration": 8,
    "start_time": "2022-09-23T12:01:37.019Z"
   },
   {
    "duration": 5662,
    "start_time": "2022-09-23T12:01:37.028Z"
   },
   {
    "duration": 12,
    "start_time": "2022-09-23T12:01:42.691Z"
   },
   {
    "duration": 10,
    "start_time": "2022-09-23T12:01:42.705Z"
   },
   {
    "duration": 5583,
    "start_time": "2022-09-23T12:01:42.717Z"
   },
   {
    "duration": 11,
    "start_time": "2022-09-23T12:01:48.301Z"
   },
   {
    "duration": 11,
    "start_time": "2022-09-23T12:01:48.319Z"
   },
   {
    "duration": 5421,
    "start_time": "2022-09-23T12:01:48.332Z"
   },
   {
    "duration": 14,
    "start_time": "2022-09-23T12:01:53.755Z"
   },
   {
    "duration": 18,
    "start_time": "2022-09-23T12:01:53.771Z"
   },
   {
    "duration": 5372,
    "start_time": "2022-09-23T12:01:53.791Z"
   },
   {
    "duration": 4,
    "start_time": "2022-09-23T12:01:59.164Z"
   },
   {
    "duration": 22,
    "start_time": "2022-09-23T12:01:59.169Z"
   },
   {
    "duration": 23,
    "start_time": "2022-09-23T12:01:59.193Z"
   },
   {
    "duration": 5,
    "start_time": "2022-09-23T12:01:59.218Z"
   },
   {
    "duration": 23,
    "start_time": "2022-09-23T12:01:59.225Z"
   },
   {
    "duration": 11,
    "start_time": "2022-09-23T12:01:59.250Z"
   },
   {
    "duration": 33,
    "start_time": "2022-09-23T12:01:59.262Z"
   },
   {
    "duration": 25,
    "start_time": "2022-09-23T12:01:59.297Z"
   },
   {
    "duration": 90,
    "start_time": "2022-09-23T12:01:59.324Z"
   },
   {
    "duration": 10,
    "start_time": "2022-09-23T12:01:59.416Z"
   },
   {
    "duration": 9,
    "start_time": "2022-09-23T12:01:59.428Z"
   },
   {
    "duration": 20,
    "start_time": "2022-09-23T12:01:59.439Z"
   },
   {
    "duration": 11,
    "start_time": "2022-09-23T12:01:59.461Z"
   },
   {
    "duration": 5,
    "start_time": "2022-09-23T12:01:59.473Z"
   },
   {
    "duration": 5507,
    "start_time": "2022-09-23T12:01:59.479Z"
   },
   {
    "duration": 5,
    "start_time": "2022-09-23T12:02:04.988Z"
   },
   {
    "duration": 7,
    "start_time": "2022-09-23T12:02:04.994Z"
   },
   {
    "duration": 5553,
    "start_time": "2022-09-23T12:02:05.002Z"
   },
   {
    "duration": 3,
    "start_time": "2022-09-23T12:02:10.557Z"
   },
   {
    "duration": 5668,
    "start_time": "2022-09-23T12:02:10.561Z"
   },
   {
    "duration": 14,
    "start_time": "2022-09-23T12:02:16.230Z"
   },
   {
    "duration": 57,
    "start_time": "2022-09-23T12:02:16.246Z"
   },
   {
    "duration": 19,
    "start_time": "2022-09-23T12:02:16.308Z"
   },
   {
    "duration": 22,
    "start_time": "2022-09-23T12:02:16.329Z"
   },
   {
    "duration": 12,
    "start_time": "2022-09-23T12:02:16.353Z"
   },
   {
    "duration": 16,
    "start_time": "2022-09-23T12:02:16.367Z"
   },
   {
    "duration": 27,
    "start_time": "2022-09-23T12:02:16.385Z"
   },
   {
    "duration": 39,
    "start_time": "2022-09-23T12:02:16.414Z"
   },
   {
    "duration": 34,
    "start_time": "2022-09-23T12:02:16.455Z"
   },
   {
    "duration": 75,
    "start_time": "2022-09-23T12:02:16.491Z"
   },
   {
    "duration": 21,
    "start_time": "2022-09-23T12:02:16.568Z"
   },
   {
    "duration": 12,
    "start_time": "2022-09-23T12:02:16.591Z"
   },
   {
    "duration": 5275,
    "start_time": "2022-09-23T12:02:16.605Z"
   },
   {
    "duration": 11,
    "start_time": "2022-09-23T12:02:21.882Z"
   },
   {
    "duration": 37,
    "start_time": "2022-09-23T12:02:21.896Z"
   },
   {
    "duration": 21,
    "start_time": "2022-09-23T12:02:21.935Z"
   },
   {
    "duration": 35,
    "start_time": "2022-09-23T12:02:21.958Z"
   },
   {
    "duration": 5848,
    "start_time": "2022-09-23T12:02:21.995Z"
   },
   {
    "duration": 16,
    "start_time": "2022-09-23T12:02:27.845Z"
   },
   {
    "duration": 12,
    "start_time": "2022-09-23T12:02:27.863Z"
   },
   {
    "duration": 14,
    "start_time": "2022-09-23T12:02:27.877Z"
   },
   {
    "duration": 1880,
    "start_time": "2022-09-23T12:02:27.892Z"
   },
   {
    "duration": 3,
    "start_time": "2022-09-23T12:02:29.774Z"
   },
   {
    "duration": 5,
    "start_time": "2022-09-23T12:02:29.790Z"
   },
   {
    "duration": 32,
    "start_time": "2022-09-23T12:02:29.799Z"
   },
   {
    "duration": 11,
    "start_time": "2022-09-23T12:02:29.833Z"
   },
   {
    "duration": 30,
    "start_time": "2022-09-23T12:02:29.846Z"
   },
   {
    "duration": 22,
    "start_time": "2022-09-23T12:02:29.878Z"
   },
   {
    "duration": 13,
    "start_time": "2022-09-23T12:02:29.902Z"
   },
   {
    "duration": 41,
    "start_time": "2022-09-23T12:02:29.917Z"
   },
   {
    "duration": 35,
    "start_time": "2022-09-23T12:02:29.960Z"
   },
   {
    "duration": 24,
    "start_time": "2022-09-23T12:02:29.998Z"
   },
   {
    "duration": 29,
    "start_time": "2022-09-23T12:02:30.024Z"
   },
   {
    "duration": 54,
    "start_time": "2022-09-23T12:02:30.055Z"
   },
   {
    "duration": 30,
    "start_time": "2022-09-23T12:02:30.111Z"
   },
   {
    "duration": 117,
    "start_time": "2022-09-23T12:02:30.143Z"
   },
   {
    "duration": 25,
    "start_time": "2022-09-23T12:02:30.262Z"
   },
   {
    "duration": 1260,
    "start_time": "2022-09-23T12:06:18.691Z"
   },
   {
    "duration": 344,
    "start_time": "2022-09-23T12:06:19.953Z"
   },
   {
    "duration": 16,
    "start_time": "2022-09-23T12:06:20.299Z"
   },
   {
    "duration": 6,
    "start_time": "2022-09-23T12:06:20.317Z"
   },
   {
    "duration": 13,
    "start_time": "2022-09-23T12:06:20.325Z"
   },
   {
    "duration": 5,
    "start_time": "2022-09-23T12:06:20.339Z"
   },
   {
    "duration": 7,
    "start_time": "2022-09-23T12:06:20.345Z"
   },
   {
    "duration": 8,
    "start_time": "2022-09-23T12:06:20.353Z"
   },
   {
    "duration": 5365,
    "start_time": "2022-09-23T12:06:20.389Z"
   },
   {
    "duration": 12,
    "start_time": "2022-09-23T12:06:25.755Z"
   },
   {
    "duration": 6,
    "start_time": "2022-09-23T12:06:25.769Z"
   },
   {
    "duration": 5344,
    "start_time": "2022-09-23T12:06:25.777Z"
   },
   {
    "duration": 10,
    "start_time": "2022-09-23T12:06:31.123Z"
   },
   {
    "duration": 17,
    "start_time": "2022-09-23T12:06:31.140Z"
   },
   {
    "duration": 5363,
    "start_time": "2022-09-23T12:06:31.159Z"
   },
   {
    "duration": 15,
    "start_time": "2022-09-23T12:06:36.524Z"
   },
   {
    "duration": 4,
    "start_time": "2022-09-23T12:06:36.541Z"
   },
   {
    "duration": 5462,
    "start_time": "2022-09-23T12:06:36.547Z"
   },
   {
    "duration": 5,
    "start_time": "2022-09-23T12:06:42.010Z"
   },
   {
    "duration": 13,
    "start_time": "2022-09-23T12:06:42.017Z"
   },
   {
    "duration": 20,
    "start_time": "2022-09-23T12:06:42.032Z"
   },
   {
    "duration": 8,
    "start_time": "2022-09-23T12:06:42.054Z"
   },
   {
    "duration": 34,
    "start_time": "2022-09-23T12:06:42.064Z"
   },
   {
    "duration": 10,
    "start_time": "2022-09-23T12:06:42.101Z"
   },
   {
    "duration": 33,
    "start_time": "2022-09-23T12:06:42.113Z"
   },
   {
    "duration": 24,
    "start_time": "2022-09-23T12:06:42.147Z"
   },
   {
    "duration": 60,
    "start_time": "2022-09-23T12:06:42.189Z"
   },
   {
    "duration": 10,
    "start_time": "2022-09-23T12:06:42.250Z"
   },
   {
    "duration": 7,
    "start_time": "2022-09-23T12:06:42.261Z"
   },
   {
    "duration": 19,
    "start_time": "2022-09-23T12:06:42.269Z"
   },
   {
    "duration": 14,
    "start_time": "2022-09-23T12:06:42.289Z"
   },
   {
    "duration": 6,
    "start_time": "2022-09-23T12:06:42.304Z"
   },
   {
    "duration": 5282,
    "start_time": "2022-09-23T12:06:42.311Z"
   },
   {
    "duration": 4,
    "start_time": "2022-09-23T12:06:47.595Z"
   },
   {
    "duration": 14,
    "start_time": "2022-09-23T12:06:47.600Z"
   },
   {
    "duration": 5459,
    "start_time": "2022-09-23T12:06:47.616Z"
   },
   {
    "duration": 4,
    "start_time": "2022-09-23T12:06:53.078Z"
   },
   {
    "duration": 5421,
    "start_time": "2022-09-23T12:06:53.089Z"
   },
   {
    "duration": 12,
    "start_time": "2022-09-23T12:06:58.512Z"
   },
   {
    "duration": 5,
    "start_time": "2022-09-23T12:06:58.526Z"
   },
   {
    "duration": 18,
    "start_time": "2022-09-23T12:06:58.535Z"
   },
   {
    "duration": 35,
    "start_time": "2022-09-23T12:06:58.556Z"
   },
   {
    "duration": 9,
    "start_time": "2022-09-23T12:06:58.593Z"
   },
   {
    "duration": 9,
    "start_time": "2022-09-23T12:06:58.603Z"
   },
   {
    "duration": 7,
    "start_time": "2022-09-23T12:06:58.613Z"
   },
   {
    "duration": 7,
    "start_time": "2022-09-23T12:06:58.622Z"
   },
   {
    "duration": 7,
    "start_time": "2022-09-23T12:06:58.631Z"
   },
   {
    "duration": 8,
    "start_time": "2022-09-23T12:06:58.640Z"
   },
   {
    "duration": 5,
    "start_time": "2022-09-23T12:06:58.649Z"
   },
   {
    "duration": 35,
    "start_time": "2022-09-23T12:06:58.655Z"
   },
   {
    "duration": 5459,
    "start_time": "2022-09-23T12:06:58.692Z"
   },
   {
    "duration": 11,
    "start_time": "2022-09-23T12:07:04.153Z"
   },
   {
    "duration": 13,
    "start_time": "2022-09-23T12:07:04.166Z"
   },
   {
    "duration": 17,
    "start_time": "2022-09-23T12:07:04.180Z"
   },
   {
    "duration": 20,
    "start_time": "2022-09-23T12:07:04.199Z"
   },
   {
    "duration": 5905,
    "start_time": "2022-09-23T12:07:04.221Z"
   },
   {
    "duration": 18,
    "start_time": "2022-09-23T12:07:10.128Z"
   },
   {
    "duration": 6,
    "start_time": "2022-09-23T12:07:10.147Z"
   },
   {
    "duration": 10,
    "start_time": "2022-09-23T12:07:10.155Z"
   },
   {
    "duration": 1966,
    "start_time": "2022-09-23T12:07:10.167Z"
   },
   {
    "duration": 2,
    "start_time": "2022-09-23T12:07:12.134Z"
   },
   {
    "duration": 12,
    "start_time": "2022-09-23T12:07:12.138Z"
   },
   {
    "duration": 8,
    "start_time": "2022-09-23T12:07:12.152Z"
   },
   {
    "duration": 9,
    "start_time": "2022-09-23T12:07:12.162Z"
   },
   {
    "duration": 16,
    "start_time": "2022-09-23T12:07:12.173Z"
   },
   {
    "duration": 6,
    "start_time": "2022-09-23T12:07:12.191Z"
   },
   {
    "duration": 32,
    "start_time": "2022-09-23T12:07:12.199Z"
   },
   {
    "duration": 8,
    "start_time": "2022-09-23T12:07:12.232Z"
   },
   {
    "duration": 8,
    "start_time": "2022-09-23T12:07:12.242Z"
   },
   {
    "duration": 49,
    "start_time": "2022-09-23T12:07:12.252Z"
   },
   {
    "duration": 30,
    "start_time": "2022-09-23T12:07:12.302Z"
   },
   {
    "duration": 13,
    "start_time": "2022-09-23T12:07:12.334Z"
   },
   {
    "duration": 94,
    "start_time": "2022-09-23T12:07:12.349Z"
   },
   {
    "duration": 25,
    "start_time": "2022-09-23T12:07:12.444Z"
   },
   {
    "duration": 1313,
    "start_time": "2022-09-23T12:08:17.165Z"
   },
   {
    "duration": 482,
    "start_time": "2022-09-23T12:08:18.481Z"
   },
   {
    "duration": 15,
    "start_time": "2022-09-23T12:08:18.965Z"
   },
   {
    "duration": 6,
    "start_time": "2022-09-23T12:08:18.989Z"
   },
   {
    "duration": 13,
    "start_time": "2022-09-23T12:08:18.997Z"
   },
   {
    "duration": 11,
    "start_time": "2022-09-23T12:08:19.012Z"
   },
   {
    "duration": 21,
    "start_time": "2022-09-23T12:08:19.025Z"
   },
   {
    "duration": 15,
    "start_time": "2022-09-23T12:08:19.048Z"
   },
   {
    "duration": 5485,
    "start_time": "2022-09-23T12:08:19.065Z"
   },
   {
    "duration": 11,
    "start_time": "2022-09-23T12:08:24.551Z"
   },
   {
    "duration": 7,
    "start_time": "2022-09-23T12:08:24.564Z"
   },
   {
    "duration": 5157,
    "start_time": "2022-09-23T12:08:24.573Z"
   },
   {
    "duration": 10,
    "start_time": "2022-09-23T12:08:29.732Z"
   },
   {
    "duration": 15,
    "start_time": "2022-09-23T12:08:29.744Z"
   },
   {
    "duration": 5000,
    "start_time": "2022-09-23T12:08:29.761Z"
   },
   {
    "duration": 12,
    "start_time": "2022-09-23T12:08:34.763Z"
   },
   {
    "duration": 13,
    "start_time": "2022-09-23T12:08:34.777Z"
   },
   {
    "duration": 5166,
    "start_time": "2022-09-23T12:08:34.791Z"
   },
   {
    "duration": 4,
    "start_time": "2022-09-23T12:08:39.959Z"
   },
   {
    "duration": 15,
    "start_time": "2022-09-23T12:08:39.964Z"
   },
   {
    "duration": 14,
    "start_time": "2022-09-23T12:08:39.981Z"
   },
   {
    "duration": 8,
    "start_time": "2022-09-23T12:08:39.996Z"
   },
   {
    "duration": 24,
    "start_time": "2022-09-23T12:08:40.005Z"
   },
   {
    "duration": 7,
    "start_time": "2022-09-23T12:08:40.031Z"
   },
   {
    "duration": 51,
    "start_time": "2022-09-23T12:08:40.040Z"
   },
   {
    "duration": 25,
    "start_time": "2022-09-23T12:08:40.092Z"
   },
   {
    "duration": 61,
    "start_time": "2022-09-23T12:08:40.119Z"
   },
   {
    "duration": 10,
    "start_time": "2022-09-23T12:08:40.182Z"
   },
   {
    "duration": 9,
    "start_time": "2022-09-23T12:08:40.194Z"
   },
   {
    "duration": 20,
    "start_time": "2022-09-23T12:08:40.205Z"
   },
   {
    "duration": 9,
    "start_time": "2022-09-23T12:08:40.227Z"
   },
   {
    "duration": 17,
    "start_time": "2022-09-23T12:08:40.238Z"
   },
   {
    "duration": 5277,
    "start_time": "2022-09-23T12:08:40.257Z"
   },
   {
    "duration": 5,
    "start_time": "2022-09-23T12:08:45.536Z"
   },
   {
    "duration": 7,
    "start_time": "2022-09-23T12:08:45.543Z"
   },
   {
    "duration": 5242,
    "start_time": "2022-09-23T12:08:45.552Z"
   },
   {
    "duration": 3,
    "start_time": "2022-09-23T12:08:50.795Z"
   },
   {
    "duration": 5396,
    "start_time": "2022-09-23T12:08:50.800Z"
   },
   {
    "duration": 12,
    "start_time": "2022-09-23T12:08:56.197Z"
   },
   {
    "duration": 16,
    "start_time": "2022-09-23T12:08:56.211Z"
   },
   {
    "duration": 16,
    "start_time": "2022-09-23T12:08:56.232Z"
   },
   {
    "duration": 14,
    "start_time": "2022-09-23T12:08:56.249Z"
   },
   {
    "duration": 9,
    "start_time": "2022-09-23T12:08:56.265Z"
   },
   {
    "duration": 19,
    "start_time": "2022-09-23T12:08:56.276Z"
   },
   {
    "duration": 14,
    "start_time": "2022-09-23T12:08:56.297Z"
   },
   {
    "duration": 13,
    "start_time": "2022-09-23T12:08:56.312Z"
   },
   {
    "duration": 14,
    "start_time": "2022-09-23T12:08:56.327Z"
   },
   {
    "duration": 8,
    "start_time": "2022-09-23T12:08:56.343Z"
   },
   {
    "duration": 15,
    "start_time": "2022-09-23T12:08:56.353Z"
   },
   {
    "duration": 8,
    "start_time": "2022-09-23T12:08:56.370Z"
   },
   {
    "duration": 5121,
    "start_time": "2022-09-23T12:08:56.379Z"
   },
   {
    "duration": 5,
    "start_time": "2022-09-23T12:09:01.502Z"
   },
   {
    "duration": 40,
    "start_time": "2022-09-23T12:09:01.509Z"
   },
   {
    "duration": 26,
    "start_time": "2022-09-23T12:09:01.550Z"
   },
   {
    "duration": 38,
    "start_time": "2022-09-23T12:09:01.578Z"
   },
   {
    "duration": 5369,
    "start_time": "2022-09-23T12:09:01.617Z"
   },
   {
    "duration": 17,
    "start_time": "2022-09-23T12:09:06.988Z"
   },
   {
    "duration": 6,
    "start_time": "2022-09-23T12:09:07.007Z"
   },
   {
    "duration": 8,
    "start_time": "2022-09-23T12:09:07.015Z"
   },
   {
    "duration": 1955,
    "start_time": "2022-09-23T12:09:07.025Z"
   },
   {
    "duration": 2,
    "start_time": "2022-09-23T12:09:08.982Z"
   },
   {
    "duration": 3,
    "start_time": "2022-09-23T12:09:08.989Z"
   },
   {
    "duration": 9,
    "start_time": "2022-09-23T12:09:08.994Z"
   },
   {
    "duration": 9,
    "start_time": "2022-09-23T12:09:09.005Z"
   },
   {
    "duration": 9,
    "start_time": "2022-09-23T12:09:09.015Z"
   },
   {
    "duration": 8,
    "start_time": "2022-09-23T12:09:09.026Z"
   },
   {
    "duration": 38,
    "start_time": "2022-09-23T12:09:09.036Z"
   },
   {
    "duration": 5,
    "start_time": "2022-09-23T12:09:09.088Z"
   },
   {
    "duration": 18,
    "start_time": "2022-09-23T12:09:09.095Z"
   },
   {
    "duration": 37,
    "start_time": "2022-09-23T12:09:09.114Z"
   },
   {
    "duration": 39,
    "start_time": "2022-09-23T12:09:09.152Z"
   },
   {
    "duration": 13,
    "start_time": "2022-09-23T12:09:09.193Z"
   },
   {
    "duration": 95,
    "start_time": "2022-09-23T12:09:09.207Z"
   },
   {
    "duration": 27,
    "start_time": "2022-09-23T12:09:09.303Z"
   },
   {
    "duration": 1270,
    "start_time": "2022-09-23T12:09:53.986Z"
   },
   {
    "duration": 355,
    "start_time": "2022-09-23T12:09:55.258Z"
   },
   {
    "duration": 13,
    "start_time": "2022-09-23T12:09:55.615Z"
   },
   {
    "duration": 4,
    "start_time": "2022-09-23T12:09:55.630Z"
   },
   {
    "duration": 10,
    "start_time": "2022-09-23T12:09:55.636Z"
   },
   {
    "duration": 4,
    "start_time": "2022-09-23T12:09:55.647Z"
   },
   {
    "duration": 5,
    "start_time": "2022-09-23T12:09:55.653Z"
   },
   {
    "duration": 32,
    "start_time": "2022-09-23T12:09:55.659Z"
   },
   {
    "duration": 5224,
    "start_time": "2022-09-23T12:09:55.692Z"
   },
   {
    "duration": 11,
    "start_time": "2022-09-23T12:10:00.918Z"
   },
   {
    "duration": 27,
    "start_time": "2022-09-23T12:10:00.931Z"
   },
   {
    "duration": 5399,
    "start_time": "2022-09-23T12:10:00.960Z"
   },
   {
    "duration": 11,
    "start_time": "2022-09-23T12:10:06.361Z"
   },
   {
    "duration": 20,
    "start_time": "2022-09-23T12:10:06.375Z"
   },
   {
    "duration": 5280,
    "start_time": "2022-09-23T12:10:06.397Z"
   },
   {
    "duration": 15,
    "start_time": "2022-09-23T12:10:11.680Z"
   },
   {
    "duration": 9,
    "start_time": "2022-09-23T12:10:11.697Z"
   },
   {
    "duration": 5384,
    "start_time": "2022-09-23T12:10:11.708Z"
   },
   {
    "duration": 4,
    "start_time": "2022-09-23T12:10:17.094Z"
   },
   {
    "duration": 8,
    "start_time": "2022-09-23T12:10:17.100Z"
   },
   {
    "duration": 22,
    "start_time": "2022-09-23T12:10:17.110Z"
   },
   {
    "duration": 3,
    "start_time": "2022-09-23T12:10:17.134Z"
   },
   {
    "duration": 20,
    "start_time": "2022-09-23T12:10:17.139Z"
   },
   {
    "duration": 6,
    "start_time": "2022-09-23T12:10:17.160Z"
   },
   {
    "duration": 65,
    "start_time": "2022-09-23T12:10:17.168Z"
   },
   {
    "duration": 26,
    "start_time": "2022-09-23T12:10:17.234Z"
   },
   {
    "duration": 61,
    "start_time": "2022-09-23T12:10:17.261Z"
   },
   {
    "duration": 10,
    "start_time": "2022-09-23T12:10:17.323Z"
   },
   {
    "duration": 7,
    "start_time": "2022-09-23T12:10:17.335Z"
   },
   {
    "duration": 22,
    "start_time": "2022-09-23T12:10:17.343Z"
   },
   {
    "duration": 13,
    "start_time": "2022-09-23T12:10:17.367Z"
   },
   {
    "duration": 10,
    "start_time": "2022-09-23T12:10:17.381Z"
   },
   {
    "duration": 5713,
    "start_time": "2022-09-23T12:10:17.393Z"
   },
   {
    "duration": 5,
    "start_time": "2022-09-23T12:10:23.107Z"
   },
   {
    "duration": 27,
    "start_time": "2022-09-23T12:10:23.113Z"
   },
   {
    "duration": 5287,
    "start_time": "2022-09-23T12:10:23.142Z"
   },
   {
    "duration": 3,
    "start_time": "2022-09-23T12:10:28.431Z"
   },
   {
    "duration": 5390,
    "start_time": "2022-09-23T12:10:28.435Z"
   },
   {
    "duration": 13,
    "start_time": "2022-09-23T12:10:33.827Z"
   },
   {
    "duration": 6,
    "start_time": "2022-09-23T12:10:33.842Z"
   },
   {
    "duration": 15,
    "start_time": "2022-09-23T12:10:33.853Z"
   },
   {
    "duration": 27,
    "start_time": "2022-09-23T12:10:33.870Z"
   },
   {
    "duration": 8,
    "start_time": "2022-09-23T12:10:33.899Z"
   },
   {
    "duration": 8,
    "start_time": "2022-09-23T12:10:33.909Z"
   },
   {
    "duration": 9,
    "start_time": "2022-09-23T12:10:33.918Z"
   },
   {
    "duration": 7,
    "start_time": "2022-09-23T12:10:33.929Z"
   },
   {
    "duration": 7,
    "start_time": "2022-09-23T12:10:33.938Z"
   },
   {
    "duration": 7,
    "start_time": "2022-09-23T12:10:33.947Z"
   },
   {
    "duration": 8,
    "start_time": "2022-09-23T12:10:33.955Z"
   },
   {
    "duration": 8,
    "start_time": "2022-09-23T12:10:33.990Z"
   },
   {
    "duration": 5079,
    "start_time": "2022-09-23T12:10:33.999Z"
   },
   {
    "duration": 9,
    "start_time": "2022-09-23T12:10:39.080Z"
   },
   {
    "duration": 6,
    "start_time": "2022-09-23T12:10:39.090Z"
   },
   {
    "duration": 9,
    "start_time": "2022-09-23T12:10:39.097Z"
   },
   {
    "duration": 18,
    "start_time": "2022-09-23T12:10:39.108Z"
   },
   {
    "duration": 5618,
    "start_time": "2022-09-23T12:10:39.128Z"
   },
   {
    "duration": 15,
    "start_time": "2022-09-23T12:10:44.747Z"
   },
   {
    "duration": 5,
    "start_time": "2022-09-23T12:10:44.764Z"
   },
   {
    "duration": 9,
    "start_time": "2022-09-23T12:10:44.771Z"
   },
   {
    "duration": 1744,
    "start_time": "2022-09-23T12:10:44.789Z"
   },
   {
    "duration": 2,
    "start_time": "2022-09-23T12:10:46.535Z"
   },
   {
    "duration": 8,
    "start_time": "2022-09-23T12:10:46.538Z"
   },
   {
    "duration": 16,
    "start_time": "2022-09-23T12:10:46.547Z"
   },
   {
    "duration": 8,
    "start_time": "2022-09-23T12:10:46.565Z"
   },
   {
    "duration": 14,
    "start_time": "2022-09-23T12:10:46.575Z"
   },
   {
    "duration": 7,
    "start_time": "2022-09-23T12:10:46.591Z"
   },
   {
    "duration": 27,
    "start_time": "2022-09-23T12:10:46.600Z"
   },
   {
    "duration": 25,
    "start_time": "2022-09-23T12:10:46.629Z"
   },
   {
    "duration": 10,
    "start_time": "2022-09-23T12:10:46.657Z"
   },
   {
    "duration": 21,
    "start_time": "2022-09-23T12:10:46.669Z"
   },
   {
    "duration": 27,
    "start_time": "2022-09-23T12:10:46.692Z"
   },
   {
    "duration": 13,
    "start_time": "2022-09-23T12:10:46.720Z"
   },
   {
    "duration": 79,
    "start_time": "2022-09-23T12:10:46.735Z"
   },
   {
    "duration": 24,
    "start_time": "2022-09-23T12:10:46.816Z"
   },
   {
    "duration": 6,
    "start_time": "2022-09-23T12:11:22.231Z"
   },
   {
    "duration": 1199,
    "start_time": "2022-09-23T12:11:33.637Z"
   },
   {
    "duration": 322,
    "start_time": "2022-09-23T12:11:34.838Z"
   },
   {
    "duration": 16,
    "start_time": "2022-09-23T12:11:35.162Z"
   },
   {
    "duration": 10,
    "start_time": "2022-09-23T12:11:35.180Z"
   },
   {
    "duration": 10,
    "start_time": "2022-09-23T12:11:35.192Z"
   },
   {
    "duration": 4,
    "start_time": "2022-09-23T12:11:35.204Z"
   },
   {
    "duration": 9,
    "start_time": "2022-09-23T12:11:35.210Z"
   },
   {
    "duration": 9,
    "start_time": "2022-09-23T12:11:35.220Z"
   },
   {
    "duration": 5709,
    "start_time": "2022-09-23T12:11:35.232Z"
   },
   {
    "duration": 11,
    "start_time": "2022-09-23T12:11:40.943Z"
   },
   {
    "duration": 9,
    "start_time": "2022-09-23T12:11:40.956Z"
   },
   {
    "duration": 5465,
    "start_time": "2022-09-23T12:11:40.966Z"
   },
   {
    "duration": 11,
    "start_time": "2022-09-23T12:11:46.432Z"
   },
   {
    "duration": 14,
    "start_time": "2022-09-23T12:11:46.445Z"
   },
   {
    "duration": 5328,
    "start_time": "2022-09-23T12:11:46.460Z"
   },
   {
    "duration": 16,
    "start_time": "2022-09-23T12:11:51.791Z"
   },
   {
    "duration": 11,
    "start_time": "2022-09-23T12:11:51.809Z"
   },
   {
    "duration": 5500,
    "start_time": "2022-09-23T12:11:51.823Z"
   },
   {
    "duration": 3,
    "start_time": "2022-09-23T12:11:57.325Z"
   },
   {
    "duration": 22,
    "start_time": "2022-09-23T12:11:57.329Z"
   },
   {
    "duration": 32,
    "start_time": "2022-09-23T12:11:57.353Z"
   },
   {
    "duration": 10,
    "start_time": "2022-09-23T12:11:57.386Z"
   },
   {
    "duration": 33,
    "start_time": "2022-09-23T12:11:57.398Z"
   },
   {
    "duration": 29,
    "start_time": "2022-09-23T12:11:57.432Z"
   },
   {
    "duration": 37,
    "start_time": "2022-09-23T12:11:57.463Z"
   },
   {
    "duration": 29,
    "start_time": "2022-09-23T12:11:57.502Z"
   },
   {
    "duration": 72,
    "start_time": "2022-09-23T12:11:57.532Z"
   },
   {
    "duration": 11,
    "start_time": "2022-09-23T12:11:57.605Z"
   },
   {
    "duration": 9,
    "start_time": "2022-09-23T12:11:57.618Z"
   },
   {
    "duration": 21,
    "start_time": "2022-09-23T12:11:57.628Z"
   },
   {
    "duration": 10,
    "start_time": "2022-09-23T12:11:57.651Z"
   },
   {
    "duration": 5,
    "start_time": "2022-09-23T12:11:57.663Z"
   },
   {
    "duration": 5548,
    "start_time": "2022-09-23T12:11:57.670Z"
   },
   {
    "duration": 5,
    "start_time": "2022-09-23T12:12:03.220Z"
   },
   {
    "duration": 6,
    "start_time": "2022-09-23T12:12:03.226Z"
   },
   {
    "duration": 5674,
    "start_time": "2022-09-23T12:12:03.233Z"
   },
   {
    "duration": 4,
    "start_time": "2022-09-23T12:12:08.908Z"
   },
   {
    "duration": 5887,
    "start_time": "2022-09-23T12:12:08.913Z"
   },
   {
    "duration": 14,
    "start_time": "2022-09-23T12:12:14.803Z"
   },
   {
    "duration": 10,
    "start_time": "2022-09-23T12:12:14.819Z"
   },
   {
    "duration": 21,
    "start_time": "2022-09-23T12:12:14.833Z"
   },
   {
    "duration": 15,
    "start_time": "2022-09-23T12:12:14.856Z"
   },
   {
    "duration": 17,
    "start_time": "2022-09-23T12:12:14.889Z"
   },
   {
    "duration": 18,
    "start_time": "2022-09-23T12:12:14.908Z"
   },
   {
    "duration": 14,
    "start_time": "2022-09-23T12:12:14.928Z"
   },
   {
    "duration": 10,
    "start_time": "2022-09-23T12:12:14.944Z"
   },
   {
    "duration": 11,
    "start_time": "2022-09-23T12:12:14.956Z"
   },
   {
    "duration": 18,
    "start_time": "2022-09-23T12:12:14.969Z"
   },
   {
    "duration": 8,
    "start_time": "2022-09-23T12:12:14.989Z"
   },
   {
    "duration": 8,
    "start_time": "2022-09-23T12:12:14.998Z"
   },
   {
    "duration": 5818,
    "start_time": "2022-09-23T12:12:15.007Z"
   },
   {
    "duration": 4,
    "start_time": "2022-09-23T12:12:20.827Z"
   },
   {
    "duration": 7,
    "start_time": "2022-09-23T12:12:20.833Z"
   },
   {
    "duration": 13,
    "start_time": "2022-09-23T12:12:20.841Z"
   },
   {
    "duration": 20,
    "start_time": "2022-09-23T12:12:20.855Z"
   },
   {
    "duration": 6140,
    "start_time": "2022-09-23T12:12:20.889Z"
   },
   {
    "duration": 16,
    "start_time": "2022-09-23T12:12:27.031Z"
   },
   {
    "duration": 22,
    "start_time": "2022-09-23T12:12:27.049Z"
   },
   {
    "duration": 37,
    "start_time": "2022-09-23T12:12:27.073Z"
   },
   {
    "duration": 1856,
    "start_time": "2022-09-23T12:12:27.112Z"
   },
   {
    "duration": 2,
    "start_time": "2022-09-23T12:12:28.970Z"
   },
   {
    "duration": 15,
    "start_time": "2022-09-23T12:12:28.974Z"
   },
   {
    "duration": 8,
    "start_time": "2022-09-23T12:12:28.990Z"
   },
   {
    "duration": 10,
    "start_time": "2022-09-23T12:12:29.000Z"
   },
   {
    "duration": 5,
    "start_time": "2022-09-23T12:12:29.012Z"
   },
   {
    "duration": 11,
    "start_time": "2022-09-23T12:12:29.018Z"
   },
   {
    "duration": 32,
    "start_time": "2022-09-23T12:12:29.031Z"
   },
   {
    "duration": 24,
    "start_time": "2022-09-23T12:12:29.065Z"
   },
   {
    "duration": 7,
    "start_time": "2022-09-23T12:12:29.091Z"
   },
   {
    "duration": 32,
    "start_time": "2022-09-23T12:12:29.100Z"
   },
   {
    "duration": 29,
    "start_time": "2022-09-23T12:12:29.134Z"
   },
   {
    "duration": 35,
    "start_time": "2022-09-23T12:12:29.165Z"
   },
   {
    "duration": 148,
    "start_time": "2022-09-23T12:12:29.202Z"
   },
   {
    "duration": 26,
    "start_time": "2022-09-23T12:12:29.352Z"
   },
   {
    "duration": 1287,
    "start_time": "2022-09-23T12:13:52.181Z"
   },
   {
    "duration": 339,
    "start_time": "2022-09-23T12:13:53.470Z"
   },
   {
    "duration": 15,
    "start_time": "2022-09-23T12:13:53.810Z"
   },
   {
    "duration": 7,
    "start_time": "2022-09-23T12:13:53.827Z"
   },
   {
    "duration": 14,
    "start_time": "2022-09-23T12:13:53.835Z"
   },
   {
    "duration": 7,
    "start_time": "2022-09-23T12:13:53.851Z"
   },
   {
    "duration": 6,
    "start_time": "2022-09-23T12:13:53.859Z"
   },
   {
    "duration": 4,
    "start_time": "2022-09-23T12:13:53.889Z"
   },
   {
    "duration": 5377,
    "start_time": "2022-09-23T12:13:53.894Z"
   },
   {
    "duration": 14,
    "start_time": "2022-09-23T12:13:59.274Z"
   },
   {
    "duration": 3,
    "start_time": "2022-09-23T12:13:59.290Z"
   },
   {
    "duration": 5588,
    "start_time": "2022-09-23T12:13:59.295Z"
   },
   {
    "duration": 11,
    "start_time": "2022-09-23T12:14:04.885Z"
   },
   {
    "duration": 14,
    "start_time": "2022-09-23T12:14:04.898Z"
   },
   {
    "duration": 5550,
    "start_time": "2022-09-23T12:14:04.914Z"
   },
   {
    "duration": 14,
    "start_time": "2022-09-23T12:14:10.466Z"
   },
   {
    "duration": 9,
    "start_time": "2022-09-23T12:14:10.482Z"
   },
   {
    "duration": 5513,
    "start_time": "2022-09-23T12:14:10.493Z"
   },
   {
    "duration": 4,
    "start_time": "2022-09-23T12:14:16.008Z"
   },
   {
    "duration": 25,
    "start_time": "2022-09-23T12:14:16.013Z"
   },
   {
    "duration": 22,
    "start_time": "2022-09-23T12:14:16.040Z"
   },
   {
    "duration": 37,
    "start_time": "2022-09-23T12:14:16.064Z"
   },
   {
    "duration": 48,
    "start_time": "2022-09-23T12:14:16.103Z"
   },
   {
    "duration": 21,
    "start_time": "2022-09-23T12:14:16.153Z"
   },
   {
    "duration": 46,
    "start_time": "2022-09-23T12:14:16.176Z"
   },
   {
    "duration": 30,
    "start_time": "2022-09-23T12:14:16.224Z"
   },
   {
    "duration": 59,
    "start_time": "2022-09-23T12:14:16.256Z"
   },
   {
    "duration": 15,
    "start_time": "2022-09-23T12:14:16.321Z"
   },
   {
    "duration": 12,
    "start_time": "2022-09-23T12:14:16.338Z"
   },
   {
    "duration": 23,
    "start_time": "2022-09-23T12:14:16.352Z"
   },
   {
    "duration": 16,
    "start_time": "2022-09-23T12:14:16.377Z"
   },
   {
    "duration": 8,
    "start_time": "2022-09-23T12:14:16.396Z"
   },
   {
    "duration": 5895,
    "start_time": "2022-09-23T12:14:16.405Z"
   },
   {
    "duration": 4,
    "start_time": "2022-09-23T12:14:22.302Z"
   },
   {
    "duration": 8,
    "start_time": "2022-09-23T12:14:22.308Z"
   },
   {
    "duration": 5844,
    "start_time": "2022-09-23T12:14:22.317Z"
   },
   {
    "duration": 3,
    "start_time": "2022-09-23T12:14:28.164Z"
   },
   {
    "duration": 5629,
    "start_time": "2022-09-23T12:14:28.170Z"
   },
   {
    "duration": 12,
    "start_time": "2022-09-23T12:14:33.800Z"
   },
   {
    "duration": 6,
    "start_time": "2022-09-23T12:14:33.814Z"
   },
   {
    "duration": 20,
    "start_time": "2022-09-23T12:14:33.821Z"
   },
   {
    "duration": 10,
    "start_time": "2022-09-23T12:14:33.843Z"
   },
   {
    "duration": 11,
    "start_time": "2022-09-23T12:14:33.855Z"
   },
   {
    "duration": 25,
    "start_time": "2022-09-23T12:14:33.868Z"
   },
   {
    "duration": 11,
    "start_time": "2022-09-23T12:14:33.895Z"
   },
   {
    "duration": 10,
    "start_time": "2022-09-23T12:14:33.907Z"
   },
   {
    "duration": 8,
    "start_time": "2022-09-23T12:14:33.918Z"
   },
   {
    "duration": 9,
    "start_time": "2022-09-23T12:14:33.928Z"
   },
   {
    "duration": 6,
    "start_time": "2022-09-23T12:14:33.939Z"
   },
   {
    "duration": 10,
    "start_time": "2022-09-23T12:14:33.946Z"
   },
   {
    "duration": 5655,
    "start_time": "2022-09-23T12:14:33.958Z"
   },
   {
    "duration": 5,
    "start_time": "2022-09-23T12:14:39.615Z"
   },
   {
    "duration": 7,
    "start_time": "2022-09-23T12:14:39.621Z"
   },
   {
    "duration": 15,
    "start_time": "2022-09-23T12:14:39.630Z"
   },
   {
    "duration": 21,
    "start_time": "2022-09-23T12:14:39.647Z"
   },
   {
    "duration": 6109,
    "start_time": "2022-09-23T12:14:39.669Z"
   },
   {
    "duration": 19,
    "start_time": "2022-09-23T12:14:45.780Z"
   },
   {
    "duration": 7,
    "start_time": "2022-09-23T12:14:45.800Z"
   },
   {
    "duration": 11,
    "start_time": "2022-09-23T12:14:45.808Z"
   },
   {
    "duration": 1874,
    "start_time": "2022-09-23T12:14:45.820Z"
   },
   {
    "duration": 3,
    "start_time": "2022-09-23T12:14:47.696Z"
   },
   {
    "duration": 13,
    "start_time": "2022-09-23T12:14:47.700Z"
   },
   {
    "duration": 10,
    "start_time": "2022-09-23T12:14:47.715Z"
   },
   {
    "duration": 12,
    "start_time": "2022-09-23T12:14:47.727Z"
   },
   {
    "duration": 5,
    "start_time": "2022-09-23T12:14:47.741Z"
   },
   {
    "duration": 9,
    "start_time": "2022-09-23T12:14:47.748Z"
   },
   {
    "duration": 44,
    "start_time": "2022-09-23T12:14:47.759Z"
   },
   {
    "duration": 12,
    "start_time": "2022-09-23T12:14:47.806Z"
   },
   {
    "duration": 14,
    "start_time": "2022-09-23T12:14:47.820Z"
   },
   {
    "duration": 19,
    "start_time": "2022-09-23T12:14:47.836Z"
   },
   {
    "duration": 45,
    "start_time": "2022-09-23T12:14:47.857Z"
   },
   {
    "duration": 15,
    "start_time": "2022-09-23T12:14:47.904Z"
   },
   {
    "duration": 109,
    "start_time": "2022-09-23T12:14:47.921Z"
   },
   {
    "duration": 27,
    "start_time": "2022-09-23T12:14:48.032Z"
   },
   {
    "duration": 1226,
    "start_time": "2022-09-23T12:17:04.444Z"
   },
   {
    "duration": 568,
    "start_time": "2022-09-23T12:17:05.673Z"
   },
   {
    "duration": 13,
    "start_time": "2022-09-23T12:17:06.243Z"
   },
   {
    "duration": 5,
    "start_time": "2022-09-23T12:17:06.258Z"
   },
   {
    "duration": 24,
    "start_time": "2022-09-23T12:17:06.265Z"
   },
   {
    "duration": 4,
    "start_time": "2022-09-23T12:17:06.291Z"
   },
   {
    "duration": 6,
    "start_time": "2022-09-23T12:17:06.297Z"
   },
   {
    "duration": 6,
    "start_time": "2022-09-23T12:17:06.305Z"
   },
   {
    "duration": 5685,
    "start_time": "2022-09-23T12:17:06.312Z"
   },
   {
    "duration": 14,
    "start_time": "2022-09-23T12:17:11.999Z"
   },
   {
    "duration": 6,
    "start_time": "2022-09-23T12:17:12.016Z"
   },
   {
    "duration": 5578,
    "start_time": "2022-09-23T12:17:12.024Z"
   },
   {
    "duration": 10,
    "start_time": "2022-09-23T12:17:17.604Z"
   },
   {
    "duration": 14,
    "start_time": "2022-09-23T12:17:17.617Z"
   },
   {
    "duration": 5388,
    "start_time": "2022-09-23T12:17:17.632Z"
   },
   {
    "duration": 14,
    "start_time": "2022-09-23T12:17:23.022Z"
   },
   {
    "duration": 12,
    "start_time": "2022-09-23T12:17:23.037Z"
   },
   {
    "duration": 5244,
    "start_time": "2022-09-23T12:17:23.050Z"
   },
   {
    "duration": 4,
    "start_time": "2022-09-23T12:17:28.296Z"
   },
   {
    "duration": 21,
    "start_time": "2022-09-23T12:17:28.302Z"
   },
   {
    "duration": 21,
    "start_time": "2022-09-23T12:17:28.325Z"
   },
   {
    "duration": 6,
    "start_time": "2022-09-23T12:17:28.348Z"
   },
   {
    "duration": 23,
    "start_time": "2022-09-23T12:17:28.356Z"
   },
   {
    "duration": 23,
    "start_time": "2022-09-23T12:17:28.381Z"
   },
   {
    "duration": 32,
    "start_time": "2022-09-23T12:17:28.406Z"
   },
   {
    "duration": 23,
    "start_time": "2022-09-23T12:17:28.439Z"
   },
   {
    "duration": 90,
    "start_time": "2022-09-23T12:17:28.464Z"
   },
   {
    "duration": 10,
    "start_time": "2022-09-23T12:17:28.557Z"
   },
   {
    "duration": 12,
    "start_time": "2022-09-23T12:17:28.569Z"
   },
   {
    "duration": 51,
    "start_time": "2022-09-23T12:17:28.583Z"
   },
   {
    "duration": 35,
    "start_time": "2022-09-23T12:17:28.635Z"
   },
   {
    "duration": 10,
    "start_time": "2022-09-23T12:17:28.671Z"
   },
   {
    "duration": 5577,
    "start_time": "2022-09-23T12:17:28.683Z"
   },
   {
    "duration": 5,
    "start_time": "2022-09-23T12:17:34.261Z"
   },
   {
    "duration": 13,
    "start_time": "2022-09-23T12:17:34.267Z"
   },
   {
    "duration": 5712,
    "start_time": "2022-09-23T12:17:34.281Z"
   },
   {
    "duration": 3,
    "start_time": "2022-09-23T12:17:39.994Z"
   },
   {
    "duration": 5739,
    "start_time": "2022-09-23T12:17:39.999Z"
   },
   {
    "duration": 13,
    "start_time": "2022-09-23T12:17:45.739Z"
   },
   {
    "duration": 5,
    "start_time": "2022-09-23T12:17:45.754Z"
   },
   {
    "duration": 29,
    "start_time": "2022-09-23T12:17:45.764Z"
   },
   {
    "duration": 8,
    "start_time": "2022-09-23T12:17:45.795Z"
   },
   {
    "duration": 12,
    "start_time": "2022-09-23T12:17:45.805Z"
   },
   {
    "duration": 7,
    "start_time": "2022-09-23T12:17:45.819Z"
   },
   {
    "duration": 8,
    "start_time": "2022-09-23T12:17:45.828Z"
   },
   {
    "duration": 10,
    "start_time": "2022-09-23T12:17:45.838Z"
   },
   {
    "duration": 11,
    "start_time": "2022-09-23T12:17:45.850Z"
   },
   {
    "duration": 29,
    "start_time": "2022-09-23T12:17:45.863Z"
   },
   {
    "duration": 5,
    "start_time": "2022-09-23T12:17:45.893Z"
   },
   {
    "duration": 5,
    "start_time": "2022-09-23T12:17:45.899Z"
   },
   {
    "duration": 5758,
    "start_time": "2022-09-23T12:17:45.906Z"
   },
   {
    "duration": 5,
    "start_time": "2022-09-23T12:17:51.666Z"
   },
   {
    "duration": 27,
    "start_time": "2022-09-23T12:17:51.674Z"
   },
   {
    "duration": 27,
    "start_time": "2022-09-23T12:17:51.703Z"
   },
   {
    "duration": 25,
    "start_time": "2022-09-23T12:17:51.732Z"
   },
   {
    "duration": 6063,
    "start_time": "2022-09-23T12:17:51.760Z"
   },
   {
    "duration": 17,
    "start_time": "2022-09-23T12:17:57.825Z"
   },
   {
    "duration": 11,
    "start_time": "2022-09-23T12:17:57.844Z"
   },
   {
    "duration": 11,
    "start_time": "2022-09-23T12:17:57.857Z"
   },
   {
    "duration": 1912,
    "start_time": "2022-09-23T12:17:57.870Z"
   },
   {
    "duration": 3,
    "start_time": "2022-09-23T12:17:59.788Z"
   },
   {
    "duration": 5,
    "start_time": "2022-09-23T12:17:59.793Z"
   },
   {
    "duration": 10,
    "start_time": "2022-09-23T12:17:59.800Z"
   },
   {
    "duration": 9,
    "start_time": "2022-09-23T12:17:59.812Z"
   },
   {
    "duration": 4,
    "start_time": "2022-09-23T12:17:59.823Z"
   },
   {
    "duration": 9,
    "start_time": "2022-09-23T12:17:59.829Z"
   },
   {
    "duration": 50,
    "start_time": "2022-09-23T12:17:59.840Z"
   },
   {
    "duration": 11,
    "start_time": "2022-09-23T12:17:59.892Z"
   },
   {
    "duration": 12,
    "start_time": "2022-09-23T12:17:59.905Z"
   },
   {
    "duration": 45,
    "start_time": "2022-09-23T12:17:59.918Z"
   },
   {
    "duration": 40,
    "start_time": "2022-09-23T12:17:59.964Z"
   },
   {
    "duration": 23,
    "start_time": "2022-09-23T12:18:00.007Z"
   },
   {
    "duration": 143,
    "start_time": "2022-09-23T12:18:00.033Z"
   },
   {
    "duration": 26,
    "start_time": "2022-09-23T12:18:00.178Z"
   },
   {
    "duration": 1266,
    "start_time": "2022-09-23T12:20:58.094Z"
   },
   {
    "duration": 499,
    "start_time": "2022-09-23T12:20:59.362Z"
   },
   {
    "duration": 13,
    "start_time": "2022-09-23T12:20:59.863Z"
   },
   {
    "duration": 14,
    "start_time": "2022-09-23T12:20:59.878Z"
   },
   {
    "duration": 34,
    "start_time": "2022-09-23T12:20:59.893Z"
   },
   {
    "duration": 12,
    "start_time": "2022-09-23T12:20:59.928Z"
   },
   {
    "duration": 14,
    "start_time": "2022-09-23T12:20:59.941Z"
   },
   {
    "duration": 5,
    "start_time": "2022-09-23T12:20:59.957Z"
   },
   {
    "duration": 5457,
    "start_time": "2022-09-23T12:20:59.964Z"
   },
   {
    "duration": 11,
    "start_time": "2022-09-23T12:21:05.424Z"
   },
   {
    "duration": 24,
    "start_time": "2022-09-23T12:21:05.436Z"
   },
   {
    "duration": 5565,
    "start_time": "2022-09-23T12:21:05.462Z"
   },
   {
    "duration": 10,
    "start_time": "2022-09-23T12:21:11.028Z"
   },
   {
    "duration": 15,
    "start_time": "2022-09-23T12:21:11.040Z"
   },
   {
    "duration": 5446,
    "start_time": "2022-09-23T12:21:11.057Z"
   },
   {
    "duration": 13,
    "start_time": "2022-09-23T12:21:16.505Z"
   },
   {
    "duration": 7,
    "start_time": "2022-09-23T12:21:16.520Z"
   },
   {
    "duration": 5369,
    "start_time": "2022-09-23T12:21:16.529Z"
   },
   {
    "duration": 5,
    "start_time": "2022-09-23T12:21:21.899Z"
   },
   {
    "duration": 21,
    "start_time": "2022-09-23T12:21:21.906Z"
   },
   {
    "duration": 21,
    "start_time": "2022-09-23T12:21:21.929Z"
   },
   {
    "duration": 32,
    "start_time": "2022-09-23T12:21:21.952Z"
   },
   {
    "duration": 37,
    "start_time": "2022-09-23T12:21:21.986Z"
   },
   {
    "duration": 22,
    "start_time": "2022-09-23T12:21:22.025Z"
   },
   {
    "duration": 48,
    "start_time": "2022-09-23T12:21:22.049Z"
   },
   {
    "duration": 27,
    "start_time": "2022-09-23T12:21:22.098Z"
   },
   {
    "duration": 79,
    "start_time": "2022-09-23T12:21:22.127Z"
   },
   {
    "duration": 10,
    "start_time": "2022-09-23T12:21:22.211Z"
   },
   {
    "duration": 23,
    "start_time": "2022-09-23T12:21:22.223Z"
   },
   {
    "duration": 26,
    "start_time": "2022-09-23T12:21:22.247Z"
   },
   {
    "duration": 24,
    "start_time": "2022-09-23T12:21:22.274Z"
   },
   {
    "duration": 8,
    "start_time": "2022-09-23T12:21:22.300Z"
   },
   {
    "duration": 5455,
    "start_time": "2022-09-23T12:21:22.309Z"
   },
   {
    "duration": 5,
    "start_time": "2022-09-23T12:21:27.765Z"
   },
   {
    "duration": 4,
    "start_time": "2022-09-23T12:21:27.772Z"
   },
   {
    "duration": 5408,
    "start_time": "2022-09-23T12:21:27.790Z"
   },
   {
    "duration": 4,
    "start_time": "2022-09-23T12:21:33.200Z"
   },
   {
    "duration": 5582,
    "start_time": "2022-09-23T12:21:33.205Z"
   },
   {
    "duration": 12,
    "start_time": "2022-09-23T12:21:38.789Z"
   },
   {
    "duration": 6,
    "start_time": "2022-09-23T12:21:38.802Z"
   },
   {
    "duration": 17,
    "start_time": "2022-09-23T12:21:38.809Z"
   },
   {
    "duration": 9,
    "start_time": "2022-09-23T12:21:38.829Z"
   },
   {
    "duration": 9,
    "start_time": "2022-09-23T12:21:38.839Z"
   },
   {
    "duration": 9,
    "start_time": "2022-09-23T12:21:38.850Z"
   },
   {
    "duration": 9,
    "start_time": "2022-09-23T12:21:38.861Z"
   },
   {
    "duration": 7,
    "start_time": "2022-09-23T12:21:38.889Z"
   },
   {
    "duration": 7,
    "start_time": "2022-09-23T12:21:38.898Z"
   },
   {
    "duration": 8,
    "start_time": "2022-09-23T12:21:38.906Z"
   },
   {
    "duration": 5,
    "start_time": "2022-09-23T12:21:38.916Z"
   },
   {
    "duration": 6,
    "start_time": "2022-09-23T12:21:38.922Z"
   },
   {
    "duration": 5968,
    "start_time": "2022-09-23T12:21:38.929Z"
   },
   {
    "duration": 5,
    "start_time": "2022-09-23T12:21:44.898Z"
   },
   {
    "duration": 20,
    "start_time": "2022-09-23T12:21:44.904Z"
   },
   {
    "duration": 12,
    "start_time": "2022-09-23T12:21:44.926Z"
   },
   {
    "duration": 21,
    "start_time": "2022-09-23T12:21:44.940Z"
   },
   {
    "duration": 5757,
    "start_time": "2022-09-23T12:21:44.963Z"
   },
   {
    "duration": 20,
    "start_time": "2022-09-23T12:21:50.722Z"
   },
   {
    "duration": 41,
    "start_time": "2022-09-23T12:21:50.743Z"
   },
   {
    "duration": 26,
    "start_time": "2022-09-23T12:21:50.786Z"
   },
   {
    "duration": 1910,
    "start_time": "2022-09-23T12:21:50.814Z"
   },
   {
    "duration": 3,
    "start_time": "2022-09-23T12:21:52.725Z"
   },
   {
    "duration": 6,
    "start_time": "2022-09-23T12:21:52.729Z"
   },
   {
    "duration": 9,
    "start_time": "2022-09-23T12:21:52.737Z"
   },
   {
    "duration": 9,
    "start_time": "2022-09-23T12:21:52.747Z"
   },
   {
    "duration": 4,
    "start_time": "2022-09-23T12:21:52.758Z"
   },
   {
    "duration": 25,
    "start_time": "2022-09-23T12:21:52.764Z"
   },
   {
    "duration": 30,
    "start_time": "2022-09-23T12:21:52.791Z"
   },
   {
    "duration": 7,
    "start_time": "2022-09-23T12:21:52.823Z"
   },
   {
    "duration": 8,
    "start_time": "2022-09-23T12:21:52.832Z"
   },
   {
    "duration": 49,
    "start_time": "2022-09-23T12:21:52.842Z"
   },
   {
    "duration": 31,
    "start_time": "2022-09-23T12:21:52.893Z"
   },
   {
    "duration": 13,
    "start_time": "2022-09-23T12:21:52.925Z"
   },
   {
    "duration": 86,
    "start_time": "2022-09-23T12:21:52.940Z"
   },
   {
    "duration": 25,
    "start_time": "2022-09-23T12:21:53.028Z"
   },
   {
    "duration": 1269,
    "start_time": "2022-09-23T12:23:41.026Z"
   },
   {
    "duration": 478,
    "start_time": "2022-09-23T12:23:42.297Z"
   },
   {
    "duration": 17,
    "start_time": "2022-09-23T12:23:42.777Z"
   },
   {
    "duration": 4,
    "start_time": "2022-09-23T12:23:42.797Z"
   },
   {
    "duration": 12,
    "start_time": "2022-09-23T12:23:42.803Z"
   },
   {
    "duration": 4,
    "start_time": "2022-09-23T12:23:42.817Z"
   },
   {
    "duration": 11,
    "start_time": "2022-09-23T12:23:42.822Z"
   },
   {
    "duration": 7,
    "start_time": "2022-09-23T12:23:42.835Z"
   },
   {
    "duration": 5308,
    "start_time": "2022-09-23T12:23:42.843Z"
   },
   {
    "duration": 10,
    "start_time": "2022-09-23T12:23:48.154Z"
   },
   {
    "duration": 8,
    "start_time": "2022-09-23T12:23:48.166Z"
   },
   {
    "duration": 5430,
    "start_time": "2022-09-23T12:23:48.176Z"
   },
   {
    "duration": 10,
    "start_time": "2022-09-23T12:23:53.608Z"
   },
   {
    "duration": 19,
    "start_time": "2022-09-23T12:23:53.619Z"
   },
   {
    "duration": 5232,
    "start_time": "2022-09-23T12:23:53.640Z"
   },
   {
    "duration": 21,
    "start_time": "2022-09-23T12:23:58.874Z"
   },
   {
    "duration": 3,
    "start_time": "2022-09-23T12:23:58.896Z"
   },
   {
    "duration": 5467,
    "start_time": "2022-09-23T12:23:58.901Z"
   },
   {
    "duration": 3,
    "start_time": "2022-09-23T12:24:04.370Z"
   },
   {
    "duration": 14,
    "start_time": "2022-09-23T12:24:04.375Z"
   },
   {
    "duration": 15,
    "start_time": "2022-09-23T12:24:04.391Z"
   },
   {
    "duration": 3,
    "start_time": "2022-09-23T12:24:04.409Z"
   },
   {
    "duration": 21,
    "start_time": "2022-09-23T12:24:04.414Z"
   },
   {
    "duration": 9,
    "start_time": "2022-09-23T12:24:04.437Z"
   },
   {
    "duration": 55,
    "start_time": "2022-09-23T12:24:04.448Z"
   },
   {
    "duration": 26,
    "start_time": "2022-09-23T12:24:04.505Z"
   },
   {
    "duration": 72,
    "start_time": "2022-09-23T12:24:04.533Z"
   },
   {
    "duration": 11,
    "start_time": "2022-09-23T12:24:04.609Z"
   },
   {
    "duration": 9,
    "start_time": "2022-09-23T12:24:04.621Z"
   },
   {
    "duration": 19,
    "start_time": "2022-09-23T12:24:04.631Z"
   },
   {
    "duration": 8,
    "start_time": "2022-09-23T12:24:04.651Z"
   },
   {
    "duration": 7,
    "start_time": "2022-09-23T12:24:04.661Z"
   },
   {
    "duration": 5824,
    "start_time": "2022-09-23T12:24:04.670Z"
   },
   {
    "duration": 5,
    "start_time": "2022-09-23T12:24:10.496Z"
   },
   {
    "duration": 51,
    "start_time": "2022-09-23T12:24:10.503Z"
   },
   {
    "duration": 5592,
    "start_time": "2022-09-23T12:24:10.556Z"
   },
   {
    "duration": 4,
    "start_time": "2022-09-23T12:24:16.150Z"
   },
   {
    "duration": 6036,
    "start_time": "2022-09-23T12:24:16.156Z"
   },
   {
    "duration": 11,
    "start_time": "2022-09-23T12:24:22.194Z"
   },
   {
    "duration": 6,
    "start_time": "2022-09-23T12:24:22.207Z"
   },
   {
    "duration": 17,
    "start_time": "2022-09-23T12:24:22.215Z"
   },
   {
    "duration": 10,
    "start_time": "2022-09-23T12:24:22.233Z"
   },
   {
    "duration": 10,
    "start_time": "2022-09-23T12:24:22.245Z"
   },
   {
    "duration": 8,
    "start_time": "2022-09-23T12:24:22.257Z"
   },
   {
    "duration": 28,
    "start_time": "2022-09-23T12:24:22.266Z"
   },
   {
    "duration": 10,
    "start_time": "2022-09-23T12:24:22.296Z"
   },
   {
    "duration": 8,
    "start_time": "2022-09-23T12:24:22.307Z"
   },
   {
    "duration": 9,
    "start_time": "2022-09-23T12:24:22.317Z"
   },
   {
    "duration": 5,
    "start_time": "2022-09-23T12:24:22.328Z"
   },
   {
    "duration": 7,
    "start_time": "2022-09-23T12:24:22.335Z"
   },
   {
    "duration": 5465,
    "start_time": "2022-09-23T12:24:22.344Z"
   },
   {
    "duration": 4,
    "start_time": "2022-09-23T12:24:27.811Z"
   },
   {
    "duration": 9,
    "start_time": "2022-09-23T12:24:27.817Z"
   },
   {
    "duration": 31,
    "start_time": "2022-09-23T12:24:27.827Z"
   },
   {
    "duration": 28,
    "start_time": "2022-09-23T12:24:27.860Z"
   },
   {
    "duration": 5888,
    "start_time": "2022-09-23T12:24:27.890Z"
   },
   {
    "duration": 17,
    "start_time": "2022-09-23T12:24:33.780Z"
   },
   {
    "duration": 7,
    "start_time": "2022-09-23T12:24:33.798Z"
   },
   {
    "duration": 10,
    "start_time": "2022-09-23T12:24:33.806Z"
   },
   {
    "duration": 1827,
    "start_time": "2022-09-23T12:24:33.817Z"
   },
   {
    "duration": 3,
    "start_time": "2022-09-23T12:24:35.645Z"
   },
   {
    "duration": 10,
    "start_time": "2022-09-23T12:24:35.650Z"
   },
   {
    "duration": 14,
    "start_time": "2022-09-23T12:24:35.662Z"
   },
   {
    "duration": 13,
    "start_time": "2022-09-23T12:24:35.677Z"
   },
   {
    "duration": 5,
    "start_time": "2022-09-23T12:24:35.692Z"
   },
   {
    "duration": 22,
    "start_time": "2022-09-23T12:24:35.699Z"
   },
   {
    "duration": 32,
    "start_time": "2022-09-23T12:24:35.723Z"
   },
   {
    "duration": 8,
    "start_time": "2022-09-23T12:24:35.757Z"
   },
   {
    "duration": 9,
    "start_time": "2022-09-23T12:24:35.767Z"
   },
   {
    "duration": 38,
    "start_time": "2022-09-23T12:24:35.778Z"
   },
   {
    "duration": 31,
    "start_time": "2022-09-23T12:24:35.817Z"
   },
   {
    "duration": 26,
    "start_time": "2022-09-23T12:24:35.849Z"
   },
   {
    "duration": 122,
    "start_time": "2022-09-23T12:24:35.877Z"
   },
   {
    "duration": 26,
    "start_time": "2022-09-23T12:24:36.001Z"
   },
   {
    "duration": 28,
    "start_time": "2022-09-23T12:25:34.656Z"
   },
   {
    "duration": 6,
    "start_time": "2022-09-23T12:28:15.471Z"
   },
   {
    "duration": 24,
    "start_time": "2022-09-23T12:28:38.151Z"
   },
   {
    "duration": 7,
    "start_time": "2022-09-23T12:29:43.811Z"
   },
   {
    "duration": 1473,
    "start_time": "2022-09-23T12:30:01.496Z"
   },
   {
    "duration": 555,
    "start_time": "2022-09-23T12:30:02.971Z"
   },
   {
    "duration": 16,
    "start_time": "2022-09-23T12:30:03.527Z"
   },
   {
    "duration": 5,
    "start_time": "2022-09-23T12:30:03.545Z"
   },
   {
    "duration": 29,
    "start_time": "2022-09-23T12:30:03.552Z"
   },
   {
    "duration": 23,
    "start_time": "2022-09-23T12:30:03.583Z"
   },
   {
    "duration": 26,
    "start_time": "2022-09-23T12:30:03.608Z"
   },
   {
    "duration": 12,
    "start_time": "2022-09-23T12:30:03.636Z"
   },
   {
    "duration": 5498,
    "start_time": "2022-09-23T12:30:03.650Z"
   },
   {
    "duration": 12,
    "start_time": "2022-09-23T12:30:09.150Z"
   },
   {
    "duration": 14,
    "start_time": "2022-09-23T12:30:09.164Z"
   },
   {
    "duration": 5925,
    "start_time": "2022-09-23T12:30:09.180Z"
   },
   {
    "duration": 11,
    "start_time": "2022-09-23T12:30:15.107Z"
   },
   {
    "duration": 17,
    "start_time": "2022-09-23T12:30:15.121Z"
   },
   {
    "duration": 5434,
    "start_time": "2022-09-23T12:30:15.140Z"
   },
   {
    "duration": 20,
    "start_time": "2022-09-23T12:30:20.576Z"
   },
   {
    "duration": 3,
    "start_time": "2022-09-23T12:30:20.598Z"
   },
   {
    "duration": 5487,
    "start_time": "2022-09-23T12:30:20.603Z"
   },
   {
    "duration": 4,
    "start_time": "2022-09-23T12:30:26.092Z"
   },
   {
    "duration": 39,
    "start_time": "2022-09-23T12:30:26.098Z"
   },
   {
    "duration": 43,
    "start_time": "2022-09-23T12:30:26.139Z"
   },
   {
    "duration": 25,
    "start_time": "2022-09-23T12:30:26.184Z"
   },
   {
    "duration": 41,
    "start_time": "2022-09-23T12:30:26.211Z"
   },
   {
    "duration": 34,
    "start_time": "2022-09-23T12:30:26.254Z"
   },
   {
    "duration": 46,
    "start_time": "2022-09-23T12:30:26.289Z"
   },
   {
    "duration": 25,
    "start_time": "2022-09-23T12:30:26.337Z"
   },
   {
    "duration": 112,
    "start_time": "2022-09-23T12:30:26.363Z"
   },
   {
    "duration": 10,
    "start_time": "2022-09-23T12:30:26.477Z"
   },
   {
    "duration": 26,
    "start_time": "2022-09-23T12:30:26.488Z"
   },
   {
    "duration": 51,
    "start_time": "2022-09-23T12:30:26.516Z"
   },
   {
    "duration": 35,
    "start_time": "2022-09-23T12:30:26.569Z"
   },
   {
    "duration": 30,
    "start_time": "2022-09-23T12:30:26.606Z"
   },
   {
    "duration": 5598,
    "start_time": "2022-09-23T12:30:26.638Z"
   },
   {
    "duration": 5,
    "start_time": "2022-09-23T12:30:32.238Z"
   },
   {
    "duration": 23,
    "start_time": "2022-09-23T12:30:32.244Z"
   },
   {
    "duration": 5440,
    "start_time": "2022-09-23T12:30:32.269Z"
   },
   {
    "duration": 3,
    "start_time": "2022-09-23T12:30:37.711Z"
   },
   {
    "duration": 5579,
    "start_time": "2022-09-23T12:30:37.715Z"
   },
   {
    "duration": 12,
    "start_time": "2022-09-23T12:30:43.296Z"
   },
   {
    "duration": 6,
    "start_time": "2022-09-23T12:30:43.310Z"
   },
   {
    "duration": 19,
    "start_time": "2022-09-23T12:30:43.320Z"
   },
   {
    "duration": 15,
    "start_time": "2022-09-23T12:30:43.341Z"
   },
   {
    "duration": 20,
    "start_time": "2022-09-23T12:30:43.358Z"
   },
   {
    "duration": 48,
    "start_time": "2022-09-23T12:30:43.380Z"
   },
   {
    "duration": 29,
    "start_time": "2022-09-23T12:30:43.430Z"
   },
   {
    "duration": 16,
    "start_time": "2022-09-23T12:30:43.461Z"
   },
   {
    "duration": 35,
    "start_time": "2022-09-23T12:30:43.478Z"
   },
   {
    "duration": 28,
    "start_time": "2022-09-23T12:30:43.515Z"
   },
   {
    "duration": 19,
    "start_time": "2022-09-23T12:30:43.545Z"
   },
   {
    "duration": 32,
    "start_time": "2022-09-23T12:30:43.566Z"
   },
   {
    "duration": 5488,
    "start_time": "2022-09-23T12:30:43.600Z"
   },
   {
    "duration": 5,
    "start_time": "2022-09-23T12:30:49.089Z"
   },
   {
    "duration": 7,
    "start_time": "2022-09-23T12:30:49.096Z"
   },
   {
    "duration": 11,
    "start_time": "2022-09-23T12:30:49.105Z"
   },
   {
    "duration": 20,
    "start_time": "2022-09-23T12:30:49.118Z"
   },
   {
    "duration": 5875,
    "start_time": "2022-09-23T12:30:49.139Z"
   },
   {
    "duration": 19,
    "start_time": "2022-09-23T12:30:55.016Z"
   },
   {
    "duration": 8,
    "start_time": "2022-09-23T12:30:55.036Z"
   },
   {
    "duration": 16,
    "start_time": "2022-09-23T12:30:55.046Z"
   },
   {
    "duration": 1938,
    "start_time": "2022-09-23T12:30:55.064Z"
   },
   {
    "duration": 2,
    "start_time": "2022-09-23T12:30:57.004Z"
   },
   {
    "duration": 11,
    "start_time": "2022-09-23T12:30:57.007Z"
   },
   {
    "duration": 21,
    "start_time": "2022-09-23T12:30:57.020Z"
   },
   {
    "duration": 15,
    "start_time": "2022-09-23T12:30:57.043Z"
   },
   {
    "duration": 13,
    "start_time": "2022-09-23T12:30:57.059Z"
   },
   {
    "duration": 12,
    "start_time": "2022-09-23T12:30:57.073Z"
   },
   {
    "duration": 36,
    "start_time": "2022-09-23T12:30:57.087Z"
   },
   {
    "duration": 15,
    "start_time": "2022-09-23T12:30:57.126Z"
   },
   {
    "duration": 18,
    "start_time": "2022-09-23T12:30:57.143Z"
   },
   {
    "duration": 28,
    "start_time": "2022-09-23T12:30:57.163Z"
   },
   {
    "duration": 40,
    "start_time": "2022-09-23T12:30:57.193Z"
   },
   {
    "duration": 14,
    "start_time": "2022-09-23T12:30:57.235Z"
   },
   {
    "duration": 95,
    "start_time": "2022-09-23T12:30:57.250Z"
   },
   {
    "duration": 30,
    "start_time": "2022-09-23T12:30:57.347Z"
   },
   {
    "duration": 1238,
    "start_time": "2022-09-23T12:35:16.924Z"
   },
   {
    "duration": 433,
    "start_time": "2022-09-23T12:35:18.164Z"
   },
   {
    "duration": 14,
    "start_time": "2022-09-23T12:35:18.598Z"
   },
   {
    "duration": 7,
    "start_time": "2022-09-23T12:35:18.614Z"
   },
   {
    "duration": 11,
    "start_time": "2022-09-23T12:35:18.623Z"
   },
   {
    "duration": 4,
    "start_time": "2022-09-23T12:35:18.635Z"
   },
   {
    "duration": 6,
    "start_time": "2022-09-23T12:35:18.641Z"
   },
   {
    "duration": 5,
    "start_time": "2022-09-23T12:35:18.649Z"
   },
   {
    "duration": 5297,
    "start_time": "2022-09-23T12:35:18.655Z"
   },
   {
    "duration": 11,
    "start_time": "2022-09-23T12:35:23.955Z"
   },
   {
    "duration": 8,
    "start_time": "2022-09-23T12:35:23.968Z"
   },
   {
    "duration": 5183,
    "start_time": "2022-09-23T12:35:23.978Z"
   },
   {
    "duration": 10,
    "start_time": "2022-09-23T12:35:29.163Z"
   },
   {
    "duration": 24,
    "start_time": "2022-09-23T12:35:29.175Z"
   },
   {
    "duration": 5285,
    "start_time": "2022-09-23T12:35:29.201Z"
   },
   {
    "duration": 13,
    "start_time": "2022-09-23T12:35:34.488Z"
   },
   {
    "duration": 6,
    "start_time": "2022-09-23T12:35:34.503Z"
   },
   {
    "duration": 5233,
    "start_time": "2022-09-23T12:35:34.510Z"
   },
   {
    "duration": 3,
    "start_time": "2022-09-23T12:35:39.745Z"
   },
   {
    "duration": 8,
    "start_time": "2022-09-23T12:35:39.750Z"
   },
   {
    "duration": 18,
    "start_time": "2022-09-23T12:35:39.759Z"
   },
   {
    "duration": 5,
    "start_time": "2022-09-23T12:35:39.779Z"
   },
   {
    "duration": 20,
    "start_time": "2022-09-23T12:35:39.786Z"
   },
   {
    "duration": 9,
    "start_time": "2022-09-23T12:35:39.807Z"
   },
   {
    "duration": 32,
    "start_time": "2022-09-23T12:35:39.818Z"
   },
   {
    "duration": 28,
    "start_time": "2022-09-23T12:35:39.852Z"
   },
   {
    "duration": 67,
    "start_time": "2022-09-23T12:35:39.882Z"
   },
   {
    "duration": 11,
    "start_time": "2022-09-23T12:35:39.954Z"
   },
   {
    "duration": 6,
    "start_time": "2022-09-23T12:35:39.966Z"
   },
   {
    "duration": 19,
    "start_time": "2022-09-23T12:35:39.990Z"
   },
   {
    "duration": 16,
    "start_time": "2022-09-23T12:35:40.010Z"
   },
   {
    "duration": 8,
    "start_time": "2022-09-23T12:35:40.028Z"
   },
   {
    "duration": 5885,
    "start_time": "2022-09-23T12:35:40.038Z"
   },
   {
    "duration": 5,
    "start_time": "2022-09-23T12:35:45.925Z"
   },
   {
    "duration": 8,
    "start_time": "2022-09-23T12:35:45.931Z"
   },
   {
    "duration": 5568,
    "start_time": "2022-09-23T12:35:45.941Z"
   },
   {
    "duration": 4,
    "start_time": "2022-09-23T12:35:51.510Z"
   },
   {
    "duration": 5473,
    "start_time": "2022-09-23T12:35:51.515Z"
   },
   {
    "duration": 13,
    "start_time": "2022-09-23T12:35:56.989Z"
   },
   {
    "duration": 3,
    "start_time": "2022-09-23T12:35:57.005Z"
   },
   {
    "duration": 18,
    "start_time": "2022-09-23T12:35:57.010Z"
   },
   {
    "duration": 10,
    "start_time": "2022-09-23T12:35:57.030Z"
   },
   {
    "duration": 8,
    "start_time": "2022-09-23T12:35:57.042Z"
   },
   {
    "duration": 7,
    "start_time": "2022-09-23T12:35:57.052Z"
   },
   {
    "duration": 6,
    "start_time": "2022-09-23T12:35:57.088Z"
   },
   {
    "duration": 10,
    "start_time": "2022-09-23T12:35:57.096Z"
   },
   {
    "duration": 8,
    "start_time": "2022-09-23T12:35:57.107Z"
   },
   {
    "duration": 10,
    "start_time": "2022-09-23T12:35:57.116Z"
   },
   {
    "duration": 5,
    "start_time": "2022-09-23T12:35:57.127Z"
   },
   {
    "duration": 5,
    "start_time": "2022-09-23T12:35:57.133Z"
   },
   {
    "duration": 5575,
    "start_time": "2022-09-23T12:35:57.139Z"
   },
   {
    "duration": 6,
    "start_time": "2022-09-23T12:36:02.715Z"
   },
   {
    "duration": 5,
    "start_time": "2022-09-23T12:36:02.722Z"
   },
   {
    "duration": 10,
    "start_time": "2022-09-23T12:36:02.729Z"
   },
   {
    "duration": 18,
    "start_time": "2022-09-23T12:36:02.741Z"
   },
   {
    "duration": 5613,
    "start_time": "2022-09-23T12:36:02.761Z"
   },
   {
    "duration": 22,
    "start_time": "2022-09-23T12:36:08.376Z"
   },
   {
    "duration": 5,
    "start_time": "2022-09-23T12:36:08.400Z"
   },
   {
    "duration": 7,
    "start_time": "2022-09-23T12:36:08.407Z"
   },
   {
    "duration": 1822,
    "start_time": "2022-09-23T12:36:08.416Z"
   },
   {
    "duration": 3,
    "start_time": "2022-09-23T12:36:10.240Z"
   },
   {
    "duration": 26,
    "start_time": "2022-09-23T12:36:10.244Z"
   },
   {
    "duration": 14,
    "start_time": "2022-09-23T12:36:10.272Z"
   },
   {
    "duration": 25,
    "start_time": "2022-09-23T12:36:10.287Z"
   },
   {
    "duration": 9,
    "start_time": "2022-09-23T12:36:10.313Z"
   },
   {
    "duration": 37,
    "start_time": "2022-09-23T12:36:10.324Z"
   },
   {
    "duration": 53,
    "start_time": "2022-09-23T12:36:10.363Z"
   },
   {
    "duration": 17,
    "start_time": "2022-09-23T12:36:10.417Z"
   },
   {
    "duration": 22,
    "start_time": "2022-09-23T12:36:10.436Z"
   },
   {
    "duration": 38,
    "start_time": "2022-09-23T12:36:10.460Z"
   },
   {
    "duration": 31,
    "start_time": "2022-09-23T12:36:10.499Z"
   },
   {
    "duration": 56,
    "start_time": "2022-09-23T12:36:10.531Z"
   },
   {
    "duration": 131,
    "start_time": "2022-09-23T12:36:10.588Z"
   },
   {
    "duration": 28,
    "start_time": "2022-09-23T12:36:10.721Z"
   },
   {
    "duration": 1270,
    "start_time": "2022-09-23T12:37:44.511Z"
   },
   {
    "duration": 607,
    "start_time": "2022-09-23T12:37:45.784Z"
   },
   {
    "duration": 17,
    "start_time": "2022-09-23T12:37:46.393Z"
   },
   {
    "duration": 14,
    "start_time": "2022-09-23T12:37:46.412Z"
   },
   {
    "duration": 27,
    "start_time": "2022-09-23T12:37:46.428Z"
   },
   {
    "duration": 8,
    "start_time": "2022-09-23T12:37:46.457Z"
   },
   {
    "duration": 10,
    "start_time": "2022-09-23T12:37:46.467Z"
   },
   {
    "duration": 13,
    "start_time": "2022-09-23T12:37:46.479Z"
   },
   {
    "duration": 5564,
    "start_time": "2022-09-23T12:37:46.494Z"
   },
   {
    "duration": 14,
    "start_time": "2022-09-23T12:37:52.061Z"
   },
   {
    "duration": 5,
    "start_time": "2022-09-23T12:37:52.088Z"
   },
   {
    "duration": 5430,
    "start_time": "2022-09-23T12:37:52.095Z"
   },
   {
    "duration": 10,
    "start_time": "2022-09-23T12:37:57.527Z"
   },
   {
    "duration": 37,
    "start_time": "2022-09-23T12:37:57.542Z"
   },
   {
    "duration": 5456,
    "start_time": "2022-09-23T12:37:57.581Z"
   },
   {
    "duration": 13,
    "start_time": "2022-09-23T12:38:03.039Z"
   },
   {
    "duration": 7,
    "start_time": "2022-09-23T12:38:03.053Z"
   },
   {
    "duration": 5373,
    "start_time": "2022-09-23T12:38:03.061Z"
   },
   {
    "duration": 3,
    "start_time": "2022-09-23T12:38:08.436Z"
   },
   {
    "duration": 9,
    "start_time": "2022-09-23T12:38:08.441Z"
   },
   {
    "duration": 12,
    "start_time": "2022-09-23T12:38:08.451Z"
   },
   {
    "duration": 7,
    "start_time": "2022-09-23T12:38:08.465Z"
   },
   {
    "duration": 30,
    "start_time": "2022-09-23T12:38:08.474Z"
   },
   {
    "duration": 4,
    "start_time": "2022-09-23T12:38:08.507Z"
   },
   {
    "duration": 32,
    "start_time": "2022-09-23T12:38:08.513Z"
   },
   {
    "duration": 55,
    "start_time": "2022-09-23T12:38:08.546Z"
   },
   {
    "duration": 60,
    "start_time": "2022-09-23T12:38:08.602Z"
   },
   {
    "duration": 11,
    "start_time": "2022-09-23T12:38:08.664Z"
   },
   {
    "duration": 5,
    "start_time": "2022-09-23T12:38:08.677Z"
   },
   {
    "duration": 19,
    "start_time": "2022-09-23T12:38:08.683Z"
   },
   {
    "duration": 7,
    "start_time": "2022-09-23T12:38:08.703Z"
   },
   {
    "duration": 4,
    "start_time": "2022-09-23T12:38:08.712Z"
   },
   {
    "duration": 5817,
    "start_time": "2022-09-23T12:38:08.718Z"
   },
   {
    "duration": 4,
    "start_time": "2022-09-23T12:38:14.537Z"
   },
   {
    "duration": 13,
    "start_time": "2022-09-23T12:38:14.543Z"
   },
   {
    "duration": 5574,
    "start_time": "2022-09-23T12:38:14.558Z"
   },
   {
    "duration": 3,
    "start_time": "2022-09-23T12:38:20.134Z"
   },
   {
    "duration": 5377,
    "start_time": "2022-09-23T12:38:20.139Z"
   },
   {
    "duration": 13,
    "start_time": "2022-09-23T12:38:25.517Z"
   },
   {
    "duration": 20,
    "start_time": "2022-09-23T12:38:25.532Z"
   },
   {
    "duration": 24,
    "start_time": "2022-09-23T12:38:25.556Z"
   },
   {
    "duration": 28,
    "start_time": "2022-09-23T12:38:25.582Z"
   },
   {
    "duration": 16,
    "start_time": "2022-09-23T12:38:25.611Z"
   },
   {
    "duration": 20,
    "start_time": "2022-09-23T12:38:25.629Z"
   },
   {
    "duration": 23,
    "start_time": "2022-09-23T12:38:25.650Z"
   },
   {
    "duration": 18,
    "start_time": "2022-09-23T12:38:25.675Z"
   },
   {
    "duration": 17,
    "start_time": "2022-09-23T12:38:25.695Z"
   },
   {
    "duration": 16,
    "start_time": "2022-09-23T12:38:25.713Z"
   },
   {
    "duration": 13,
    "start_time": "2022-09-23T12:38:25.730Z"
   },
   {
    "duration": 9,
    "start_time": "2022-09-23T12:38:25.745Z"
   },
   {
    "duration": 5271,
    "start_time": "2022-09-23T12:38:25.756Z"
   },
   {
    "duration": 4,
    "start_time": "2022-09-23T12:38:31.029Z"
   },
   {
    "duration": 15,
    "start_time": "2022-09-23T12:38:31.035Z"
   },
   {
    "duration": 28,
    "start_time": "2022-09-23T12:38:31.052Z"
   },
   {
    "duration": 32,
    "start_time": "2022-09-23T12:38:31.081Z"
   },
   {
    "duration": 5546,
    "start_time": "2022-09-23T12:38:31.115Z"
   },
   {
    "duration": 18,
    "start_time": "2022-09-23T12:38:36.663Z"
   },
   {
    "duration": 10,
    "start_time": "2022-09-23T12:38:36.688Z"
   },
   {
    "duration": 9,
    "start_time": "2022-09-23T12:38:36.700Z"
   },
   {
    "duration": 1751,
    "start_time": "2022-09-23T12:38:36.711Z"
   },
   {
    "duration": 3,
    "start_time": "2022-09-23T12:38:38.464Z"
   },
   {
    "duration": 7,
    "start_time": "2022-09-23T12:38:38.469Z"
   },
   {
    "duration": 15,
    "start_time": "2022-09-23T12:38:38.477Z"
   },
   {
    "duration": 7,
    "start_time": "2022-09-23T12:38:38.494Z"
   },
   {
    "duration": 4,
    "start_time": "2022-09-23T12:38:38.502Z"
   },
   {
    "duration": 7,
    "start_time": "2022-09-23T12:38:38.508Z"
   },
   {
    "duration": 28,
    "start_time": "2022-09-23T12:38:38.517Z"
   },
   {
    "duration": 11,
    "start_time": "2022-09-23T12:38:38.548Z"
   },
   {
    "duration": 29,
    "start_time": "2022-09-23T12:38:38.561Z"
   },
   {
    "duration": 30,
    "start_time": "2022-09-23T12:38:38.591Z"
   },
   {
    "duration": 66,
    "start_time": "2022-09-23T12:38:38.623Z"
   },
   {
    "duration": 22,
    "start_time": "2022-09-23T12:38:38.691Z"
   },
   {
    "duration": 128,
    "start_time": "2022-09-23T12:38:38.715Z"
   },
   {
    "duration": 26,
    "start_time": "2022-09-23T12:38:38.845Z"
   },
   {
    "duration": 1284,
    "start_time": "2022-09-23T12:45:42.801Z"
   },
   {
    "duration": 425,
    "start_time": "2022-09-23T12:45:44.088Z"
   },
   {
    "duration": 16,
    "start_time": "2022-09-23T12:45:44.515Z"
   },
   {
    "duration": 16,
    "start_time": "2022-09-23T12:45:44.533Z"
   },
   {
    "duration": 19,
    "start_time": "2022-09-23T12:45:44.551Z"
   },
   {
    "duration": 4,
    "start_time": "2022-09-23T12:45:44.572Z"
   },
   {
    "duration": 13,
    "start_time": "2022-09-23T12:45:44.578Z"
   },
   {
    "duration": 12,
    "start_time": "2022-09-23T12:45:44.593Z"
   },
   {
    "duration": 5575,
    "start_time": "2022-09-23T12:45:44.608Z"
   },
   {
    "duration": 14,
    "start_time": "2022-09-23T12:45:50.185Z"
   },
   {
    "duration": 14,
    "start_time": "2022-09-23T12:45:50.201Z"
   },
   {
    "duration": 5573,
    "start_time": "2022-09-23T12:45:50.217Z"
   },
   {
    "duration": 10,
    "start_time": "2022-09-23T12:45:55.792Z"
   },
   {
    "duration": 12,
    "start_time": "2022-09-23T12:45:55.805Z"
   },
   {
    "duration": 5249,
    "start_time": "2022-09-23T12:45:55.819Z"
   },
   {
    "duration": 21,
    "start_time": "2022-09-23T12:46:01.070Z"
   },
   {
    "duration": 4,
    "start_time": "2022-09-23T12:46:01.092Z"
   },
   {
    "duration": 5623,
    "start_time": "2022-09-23T12:46:01.097Z"
   },
   {
    "duration": 4,
    "start_time": "2022-09-23T12:46:06.722Z"
   },
   {
    "duration": 24,
    "start_time": "2022-09-23T12:46:06.727Z"
   },
   {
    "duration": 19,
    "start_time": "2022-09-23T12:46:06.753Z"
   },
   {
    "duration": 23,
    "start_time": "2022-09-23T12:46:06.773Z"
   },
   {
    "duration": 25,
    "start_time": "2022-09-23T12:46:06.797Z"
   },
   {
    "duration": 19,
    "start_time": "2022-09-23T12:46:06.823Z"
   },
   {
    "duration": 44,
    "start_time": "2022-09-23T12:46:06.843Z"
   },
   {
    "duration": 22,
    "start_time": "2022-09-23T12:46:06.888Z"
   },
   {
    "duration": 55,
    "start_time": "2022-09-23T12:46:06.912Z"
   },
   {
    "duration": 11,
    "start_time": "2022-09-23T12:46:06.969Z"
   },
   {
    "duration": 10,
    "start_time": "2022-09-23T12:46:06.982Z"
   },
   {
    "duration": 24,
    "start_time": "2022-09-23T12:46:06.993Z"
   },
   {
    "duration": 15,
    "start_time": "2022-09-23T12:46:07.018Z"
   },
   {
    "duration": 27,
    "start_time": "2022-09-23T12:46:07.034Z"
   },
   {
    "duration": 5894,
    "start_time": "2022-09-23T12:46:07.062Z"
   },
   {
    "duration": 4,
    "start_time": "2022-09-23T12:46:12.958Z"
   },
   {
    "duration": 23,
    "start_time": "2022-09-23T12:46:12.964Z"
   },
   {
    "duration": 5459,
    "start_time": "2022-09-23T12:46:12.989Z"
   },
   {
    "duration": 3,
    "start_time": "2022-09-23T12:46:18.450Z"
   },
   {
    "duration": 5605,
    "start_time": "2022-09-23T12:46:18.455Z"
   },
   {
    "duration": 13,
    "start_time": "2022-09-23T12:46:24.062Z"
   },
   {
    "duration": 14,
    "start_time": "2022-09-23T12:46:24.076Z"
   },
   {
    "duration": 16,
    "start_time": "2022-09-23T12:46:24.094Z"
   },
   {
    "duration": 9,
    "start_time": "2022-09-23T12:46:24.112Z"
   },
   {
    "duration": 14,
    "start_time": "2022-09-23T12:46:24.123Z"
   },
   {
    "duration": 9,
    "start_time": "2022-09-23T12:46:24.139Z"
   },
   {
    "duration": 22,
    "start_time": "2022-09-23T12:46:24.150Z"
   },
   {
    "duration": 23,
    "start_time": "2022-09-23T12:46:24.174Z"
   },
   {
    "duration": 11,
    "start_time": "2022-09-23T12:46:24.199Z"
   },
   {
    "duration": 12,
    "start_time": "2022-09-23T12:46:24.212Z"
   },
   {
    "duration": 7,
    "start_time": "2022-09-23T12:46:24.226Z"
   },
   {
    "duration": 6,
    "start_time": "2022-09-23T12:46:24.234Z"
   },
   {
    "duration": 5331,
    "start_time": "2022-09-23T12:46:24.241Z"
   },
   {
    "duration": 4,
    "start_time": "2022-09-23T12:46:29.574Z"
   },
   {
    "duration": 16,
    "start_time": "2022-09-23T12:46:29.579Z"
   },
   {
    "duration": 22,
    "start_time": "2022-09-23T12:46:29.596Z"
   },
   {
    "duration": 30,
    "start_time": "2022-09-23T12:46:29.621Z"
   },
   {
    "duration": 5830,
    "start_time": "2022-09-23T12:46:29.653Z"
   },
   {
    "duration": 18,
    "start_time": "2022-09-23T12:46:35.485Z"
   },
   {
    "duration": 11,
    "start_time": "2022-09-23T12:46:35.505Z"
   },
   {
    "duration": 14,
    "start_time": "2022-09-23T12:46:35.518Z"
   },
   {
    "duration": 1719,
    "start_time": "2022-09-23T12:46:35.533Z"
   },
   {
    "duration": 2,
    "start_time": "2022-09-23T12:46:37.254Z"
   },
   {
    "duration": 22,
    "start_time": "2022-09-23T12:46:37.257Z"
   },
   {
    "duration": 12,
    "start_time": "2022-09-23T12:46:37.281Z"
   },
   {
    "duration": 7,
    "start_time": "2022-09-23T12:46:37.295Z"
   },
   {
    "duration": 4,
    "start_time": "2022-09-23T12:46:37.304Z"
   },
   {
    "duration": 8,
    "start_time": "2022-09-23T12:46:37.309Z"
   },
   {
    "duration": 29,
    "start_time": "2022-09-23T12:46:37.319Z"
   },
   {
    "duration": 10,
    "start_time": "2022-09-23T12:46:37.350Z"
   },
   {
    "duration": 30,
    "start_time": "2022-09-23T12:46:37.361Z"
   },
   {
    "duration": 18,
    "start_time": "2022-09-23T12:46:37.393Z"
   },
   {
    "duration": 29,
    "start_time": "2022-09-23T12:46:37.413Z"
   },
   {
    "duration": 13,
    "start_time": "2022-09-23T12:46:37.444Z"
   },
   {
    "duration": 103,
    "start_time": "2022-09-23T12:46:37.459Z"
   },
   {
    "duration": 23,
    "start_time": "2022-09-23T12:46:37.564Z"
   },
   {
    "duration": 1301,
    "start_time": "2022-09-23T12:47:35.061Z"
   },
   {
    "duration": 520,
    "start_time": "2022-09-23T12:47:36.364Z"
   },
   {
    "duration": 14,
    "start_time": "2022-09-23T12:47:36.886Z"
   },
   {
    "duration": 4,
    "start_time": "2022-09-23T12:47:36.902Z"
   },
   {
    "duration": 10,
    "start_time": "2022-09-23T12:47:36.908Z"
   },
   {
    "duration": 3,
    "start_time": "2022-09-23T12:47:36.920Z"
   },
   {
    "duration": 5,
    "start_time": "2022-09-23T12:47:36.925Z"
   },
   {
    "duration": 6,
    "start_time": "2022-09-23T12:47:36.931Z"
   },
   {
    "duration": 5622,
    "start_time": "2022-09-23T12:47:36.938Z"
   },
   {
    "duration": 11,
    "start_time": "2022-09-23T12:47:42.562Z"
   },
   {
    "duration": 8,
    "start_time": "2022-09-23T12:47:42.574Z"
   },
   {
    "duration": 5243,
    "start_time": "2022-09-23T12:47:42.589Z"
   },
   {
    "duration": 10,
    "start_time": "2022-09-23T12:47:47.834Z"
   },
   {
    "duration": 14,
    "start_time": "2022-09-23T12:47:47.847Z"
   },
   {
    "duration": 5295,
    "start_time": "2022-09-23T12:47:47.862Z"
   },
   {
    "duration": 14,
    "start_time": "2022-09-23T12:47:53.159Z"
   },
   {
    "duration": 16,
    "start_time": "2022-09-23T12:47:53.174Z"
   },
   {
    "duration": 5258,
    "start_time": "2022-09-23T12:47:53.192Z"
   },
   {
    "duration": 4,
    "start_time": "2022-09-23T12:47:58.452Z"
   },
   {
    "duration": 15,
    "start_time": "2022-09-23T12:47:58.458Z"
   },
   {
    "duration": 16,
    "start_time": "2022-09-23T12:47:58.475Z"
   },
   {
    "duration": 5,
    "start_time": "2022-09-23T12:47:58.492Z"
   },
   {
    "duration": 20,
    "start_time": "2022-09-23T12:47:58.498Z"
   },
   {
    "duration": 5,
    "start_time": "2022-09-23T12:47:58.520Z"
   },
   {
    "duration": 31,
    "start_time": "2022-09-23T12:47:58.527Z"
   },
   {
    "duration": 48,
    "start_time": "2022-09-23T12:47:58.560Z"
   },
   {
    "duration": 67,
    "start_time": "2022-09-23T12:47:58.610Z"
   },
   {
    "duration": 10,
    "start_time": "2022-09-23T12:47:58.679Z"
   },
   {
    "duration": 7,
    "start_time": "2022-09-23T12:47:58.690Z"
   },
   {
    "duration": 30,
    "start_time": "2022-09-23T12:47:58.698Z"
   },
   {
    "duration": 10,
    "start_time": "2022-09-23T12:47:58.730Z"
   },
   {
    "duration": 13,
    "start_time": "2022-09-23T12:47:58.742Z"
   },
   {
    "duration": 5385,
    "start_time": "2022-09-23T12:47:58.757Z"
   },
   {
    "duration": 4,
    "start_time": "2022-09-23T12:48:04.144Z"
   },
   {
    "duration": 26,
    "start_time": "2022-09-23T12:48:04.149Z"
   },
   {
    "duration": 5428,
    "start_time": "2022-09-23T12:48:04.177Z"
   },
   {
    "duration": 3,
    "start_time": "2022-09-23T12:48:09.607Z"
   },
   {
    "duration": 5525,
    "start_time": "2022-09-23T12:48:09.612Z"
   },
   {
    "duration": 13,
    "start_time": "2022-09-23T12:48:15.138Z"
   },
   {
    "duration": 23,
    "start_time": "2022-09-23T12:48:15.152Z"
   },
   {
    "duration": 16,
    "start_time": "2022-09-23T12:48:15.180Z"
   },
   {
    "duration": 20,
    "start_time": "2022-09-23T12:48:15.198Z"
   },
   {
    "duration": 13,
    "start_time": "2022-09-23T12:48:15.220Z"
   },
   {
    "duration": 13,
    "start_time": "2022-09-23T12:48:15.235Z"
   },
   {
    "duration": 12,
    "start_time": "2022-09-23T12:48:15.250Z"
   },
   {
    "duration": 23,
    "start_time": "2022-09-23T12:48:15.264Z"
   },
   {
    "duration": 24,
    "start_time": "2022-09-23T12:48:15.289Z"
   },
   {
    "duration": 16,
    "start_time": "2022-09-23T12:48:15.314Z"
   },
   {
    "duration": 13,
    "start_time": "2022-09-23T12:48:15.332Z"
   },
   {
    "duration": 12,
    "start_time": "2022-09-23T12:48:15.348Z"
   },
   {
    "duration": 5303,
    "start_time": "2022-09-23T12:48:15.361Z"
   },
   {
    "duration": 6,
    "start_time": "2022-09-23T12:48:20.666Z"
   },
   {
    "duration": 44,
    "start_time": "2022-09-23T12:48:20.674Z"
   },
   {
    "duration": 27,
    "start_time": "2022-09-23T12:48:20.720Z"
   },
   {
    "duration": 35,
    "start_time": "2022-09-23T12:48:20.749Z"
   },
   {
    "duration": 5705,
    "start_time": "2022-09-23T12:48:20.786Z"
   },
   {
    "duration": 19,
    "start_time": "2022-09-23T12:48:26.493Z"
   },
   {
    "duration": 9,
    "start_time": "2022-09-23T12:48:26.513Z"
   },
   {
    "duration": 18,
    "start_time": "2022-09-23T12:48:26.524Z"
   },
   {
    "duration": 1755,
    "start_time": "2022-09-23T12:48:26.544Z"
   },
   {
    "duration": 2,
    "start_time": "2022-09-23T12:48:28.301Z"
   },
   {
    "duration": 7,
    "start_time": "2022-09-23T12:48:28.305Z"
   },
   {
    "duration": 10,
    "start_time": "2022-09-23T12:48:28.314Z"
   },
   {
    "duration": 9,
    "start_time": "2022-09-23T12:48:28.326Z"
   },
   {
    "duration": 6,
    "start_time": "2022-09-23T12:48:28.336Z"
   },
   {
    "duration": 9,
    "start_time": "2022-09-23T12:48:28.344Z"
   },
   {
    "duration": 49,
    "start_time": "2022-09-23T12:48:28.355Z"
   },
   {
    "duration": 11,
    "start_time": "2022-09-23T12:48:28.406Z"
   },
   {
    "duration": 16,
    "start_time": "2022-09-23T12:48:28.419Z"
   },
   {
    "duration": 32,
    "start_time": "2022-09-23T12:48:28.436Z"
   },
   {
    "duration": 38,
    "start_time": "2022-09-23T12:48:28.469Z"
   },
   {
    "duration": 14,
    "start_time": "2022-09-23T12:48:28.508Z"
   },
   {
    "duration": 123,
    "start_time": "2022-09-23T12:48:28.523Z"
   },
   {
    "duration": 24,
    "start_time": "2022-09-23T12:48:28.648Z"
   },
   {
    "duration": 1300,
    "start_time": "2022-09-23T12:49:53.871Z"
   },
   {
    "duration": 349,
    "start_time": "2022-09-23T12:49:55.173Z"
   },
   {
    "duration": 15,
    "start_time": "2022-09-23T12:49:55.524Z"
   },
   {
    "duration": 6,
    "start_time": "2022-09-23T12:49:55.540Z"
   },
   {
    "duration": 10,
    "start_time": "2022-09-23T12:49:55.548Z"
   },
   {
    "duration": 3,
    "start_time": "2022-09-23T12:49:55.560Z"
   },
   {
    "duration": 25,
    "start_time": "2022-09-23T12:49:55.565Z"
   },
   {
    "duration": 4,
    "start_time": "2022-09-23T12:49:55.592Z"
   },
   {
    "duration": 5388,
    "start_time": "2022-09-23T12:49:55.598Z"
   },
   {
    "duration": 12,
    "start_time": "2022-09-23T12:50:00.988Z"
   },
   {
    "duration": 17,
    "start_time": "2022-09-23T12:50:01.002Z"
   },
   {
    "duration": 5468,
    "start_time": "2022-09-23T12:50:01.021Z"
   },
   {
    "duration": 11,
    "start_time": "2022-09-23T12:50:06.491Z"
   },
   {
    "duration": 13,
    "start_time": "2022-09-23T12:50:06.505Z"
   },
   {
    "duration": 5589,
    "start_time": "2022-09-23T12:50:06.520Z"
   },
   {
    "duration": 13,
    "start_time": "2022-09-23T12:50:12.111Z"
   },
   {
    "duration": 8,
    "start_time": "2022-09-23T12:50:12.126Z"
   },
   {
    "duration": 5345,
    "start_time": "2022-09-23T12:50:12.135Z"
   },
   {
    "duration": 7,
    "start_time": "2022-09-23T12:50:17.482Z"
   },
   {
    "duration": 8,
    "start_time": "2022-09-23T12:50:17.491Z"
   },
   {
    "duration": 15,
    "start_time": "2022-09-23T12:50:17.501Z"
   },
   {
    "duration": 6,
    "start_time": "2022-09-23T12:50:17.518Z"
   },
   {
    "duration": 19,
    "start_time": "2022-09-23T12:50:17.525Z"
   },
   {
    "duration": 9,
    "start_time": "2022-09-23T12:50:17.545Z"
   },
   {
    "duration": 48,
    "start_time": "2022-09-23T12:50:17.555Z"
   },
   {
    "duration": 23,
    "start_time": "2022-09-23T12:50:17.605Z"
   },
   {
    "duration": 60,
    "start_time": "2022-09-23T12:50:17.630Z"
   },
   {
    "duration": 10,
    "start_time": "2022-09-23T12:50:17.692Z"
   },
   {
    "duration": 10,
    "start_time": "2022-09-23T12:50:17.703Z"
   },
   {
    "duration": 20,
    "start_time": "2022-09-23T12:50:17.715Z"
   },
   {
    "duration": 6,
    "start_time": "2022-09-23T12:50:17.737Z"
   },
   {
    "duration": 4,
    "start_time": "2022-09-23T12:50:17.744Z"
   },
   {
    "duration": 5441,
    "start_time": "2022-09-23T12:50:17.749Z"
   },
   {
    "duration": 4,
    "start_time": "2022-09-23T12:50:23.192Z"
   },
   {
    "duration": 6,
    "start_time": "2022-09-23T12:50:23.197Z"
   },
   {
    "duration": 5385,
    "start_time": "2022-09-23T12:50:23.205Z"
   },
   {
    "duration": 3,
    "start_time": "2022-09-23T12:50:28.592Z"
   },
   {
    "duration": 5488,
    "start_time": "2022-09-23T12:50:28.597Z"
   },
   {
    "duration": 14,
    "start_time": "2022-09-23T12:50:34.086Z"
   },
   {
    "duration": 6,
    "start_time": "2022-09-23T12:50:34.102Z"
   },
   {
    "duration": 25,
    "start_time": "2022-09-23T12:50:34.113Z"
   },
   {
    "duration": 11,
    "start_time": "2022-09-23T12:50:34.140Z"
   },
   {
    "duration": 10,
    "start_time": "2022-09-23T12:50:34.153Z"
   },
   {
    "duration": 8,
    "start_time": "2022-09-23T12:50:34.165Z"
   },
   {
    "duration": 5,
    "start_time": "2022-09-23T12:50:34.189Z"
   },
   {
    "duration": 9,
    "start_time": "2022-09-23T12:50:34.196Z"
   },
   {
    "duration": 7,
    "start_time": "2022-09-23T12:50:34.207Z"
   },
   {
    "duration": 8,
    "start_time": "2022-09-23T12:50:34.215Z"
   },
   {
    "duration": 5,
    "start_time": "2022-09-23T12:50:34.225Z"
   },
   {
    "duration": 8,
    "start_time": "2022-09-23T12:50:34.231Z"
   },
   {
    "duration": 5413,
    "start_time": "2022-09-23T12:50:34.241Z"
   },
   {
    "duration": 4,
    "start_time": "2022-09-23T12:50:39.656Z"
   },
   {
    "duration": 30,
    "start_time": "2022-09-23T12:50:39.662Z"
   },
   {
    "duration": 23,
    "start_time": "2022-09-23T12:50:39.694Z"
   },
   {
    "duration": 30,
    "start_time": "2022-09-23T12:50:39.719Z"
   },
   {
    "duration": 5704,
    "start_time": "2022-09-23T12:50:39.751Z"
   },
   {
    "duration": 17,
    "start_time": "2022-09-23T12:50:45.457Z"
   },
   {
    "duration": 16,
    "start_time": "2022-09-23T12:50:45.476Z"
   },
   {
    "duration": 9,
    "start_time": "2022-09-23T12:50:45.494Z"
   },
   {
    "duration": 1816,
    "start_time": "2022-09-23T12:50:45.505Z"
   },
   {
    "duration": 2,
    "start_time": "2022-09-23T12:50:47.323Z"
   },
   {
    "duration": 5,
    "start_time": "2022-09-23T12:50:47.327Z"
   },
   {
    "duration": 9,
    "start_time": "2022-09-23T12:50:47.334Z"
   },
   {
    "duration": 8,
    "start_time": "2022-09-23T12:50:47.344Z"
   },
   {
    "duration": 5,
    "start_time": "2022-09-23T12:50:47.354Z"
   },
   {
    "duration": 28,
    "start_time": "2022-09-23T12:50:47.361Z"
   },
   {
    "duration": 28,
    "start_time": "2022-09-23T12:50:47.391Z"
   },
   {
    "duration": 8,
    "start_time": "2022-09-23T12:50:47.421Z"
   },
   {
    "duration": 7,
    "start_time": "2022-09-23T12:50:47.431Z"
   },
   {
    "duration": 16,
    "start_time": "2022-09-23T12:50:47.440Z"
   },
   {
    "duration": 50,
    "start_time": "2022-09-23T12:50:47.457Z"
   },
   {
    "duration": 13,
    "start_time": "2022-09-23T12:50:47.509Z"
   },
   {
    "duration": 99,
    "start_time": "2022-09-23T12:50:47.524Z"
   },
   {
    "duration": 24,
    "start_time": "2022-09-23T12:50:47.625Z"
   },
   {
    "duration": 1338,
    "start_time": "2022-09-23T12:56:05.353Z"
   },
   {
    "duration": 575,
    "start_time": "2022-09-23T12:56:06.698Z"
   },
   {
    "duration": 20,
    "start_time": "2022-09-23T12:56:07.274Z"
   },
   {
    "duration": 6,
    "start_time": "2022-09-23T12:56:07.296Z"
   },
   {
    "duration": 19,
    "start_time": "2022-09-23T12:56:07.304Z"
   },
   {
    "duration": 5,
    "start_time": "2022-09-23T12:56:07.325Z"
   },
   {
    "duration": 12,
    "start_time": "2022-09-23T12:56:07.331Z"
   },
   {
    "duration": 13,
    "start_time": "2022-09-23T12:56:07.345Z"
   },
   {
    "duration": 5572,
    "start_time": "2022-09-23T12:56:07.360Z"
   },
   {
    "duration": 12,
    "start_time": "2022-09-23T12:56:12.934Z"
   },
   {
    "duration": 6,
    "start_time": "2022-09-23T12:56:12.947Z"
   },
   {
    "duration": 5577,
    "start_time": "2022-09-23T12:56:12.955Z"
   },
   {
    "duration": 10,
    "start_time": "2022-09-23T12:56:18.534Z"
   },
   {
    "duration": 23,
    "start_time": "2022-09-23T12:56:18.545Z"
   },
   {
    "duration": 5368,
    "start_time": "2022-09-23T12:56:18.570Z"
   },
   {
    "duration": 14,
    "start_time": "2022-09-23T12:56:23.940Z"
   },
   {
    "duration": 6,
    "start_time": "2022-09-23T12:56:23.955Z"
   },
   {
    "duration": 5252,
    "start_time": "2022-09-23T12:56:23.962Z"
   },
   {
    "duration": 3,
    "start_time": "2022-09-23T12:56:29.216Z"
   },
   {
    "duration": 18,
    "start_time": "2022-09-23T12:56:29.221Z"
   },
   {
    "duration": 33,
    "start_time": "2022-09-23T12:56:29.240Z"
   },
   {
    "duration": 14,
    "start_time": "2022-09-23T12:56:29.274Z"
   },
   {
    "duration": 59,
    "start_time": "2022-09-23T12:56:29.290Z"
   },
   {
    "duration": 21,
    "start_time": "2022-09-23T12:56:29.351Z"
   },
   {
    "duration": 49,
    "start_time": "2022-09-23T12:56:29.374Z"
   },
   {
    "duration": 22,
    "start_time": "2022-09-23T12:56:29.424Z"
   },
   {
    "duration": 69,
    "start_time": "2022-09-23T12:56:29.448Z"
   },
   {
    "duration": 11,
    "start_time": "2022-09-23T12:56:29.522Z"
   },
   {
    "duration": 19,
    "start_time": "2022-09-23T12:56:29.534Z"
   },
   {
    "duration": 33,
    "start_time": "2022-09-23T12:56:29.555Z"
   },
   {
    "duration": 26,
    "start_time": "2022-09-23T12:56:29.590Z"
   },
   {
    "duration": 28,
    "start_time": "2022-09-23T12:56:29.617Z"
   },
   {
    "duration": 5335,
    "start_time": "2022-09-23T12:56:29.647Z"
   },
   {
    "duration": 6,
    "start_time": "2022-09-23T12:56:34.983Z"
   },
   {
    "duration": 3,
    "start_time": "2022-09-23T12:56:34.991Z"
   },
   {
    "duration": 5265,
    "start_time": "2022-09-23T12:56:34.996Z"
   },
   {
    "duration": 3,
    "start_time": "2022-09-23T12:56:40.262Z"
   },
   {
    "duration": 5453,
    "start_time": "2022-09-23T12:56:40.267Z"
   },
   {
    "duration": 13,
    "start_time": "2022-09-23T12:56:45.722Z"
   },
   {
    "duration": 9,
    "start_time": "2022-09-23T12:56:45.736Z"
   },
   {
    "duration": 22,
    "start_time": "2022-09-23T12:56:45.747Z"
   },
   {
    "duration": 19,
    "start_time": "2022-09-23T12:56:45.770Z"
   },
   {
    "duration": 12,
    "start_time": "2022-09-23T12:56:45.791Z"
   },
   {
    "duration": 9,
    "start_time": "2022-09-23T12:56:45.804Z"
   },
   {
    "duration": 7,
    "start_time": "2022-09-23T12:56:45.814Z"
   },
   {
    "duration": 8,
    "start_time": "2022-09-23T12:56:45.823Z"
   },
   {
    "duration": 8,
    "start_time": "2022-09-23T12:56:45.832Z"
   },
   {
    "duration": 7,
    "start_time": "2022-09-23T12:56:45.841Z"
   },
   {
    "duration": 5,
    "start_time": "2022-09-23T12:56:45.850Z"
   },
   {
    "duration": 6,
    "start_time": "2022-09-23T12:56:45.856Z"
   },
   {
    "duration": 5416,
    "start_time": "2022-09-23T12:56:45.888Z"
   },
   {
    "duration": 5,
    "start_time": "2022-09-23T12:56:51.306Z"
   },
   {
    "duration": 11,
    "start_time": "2022-09-23T12:56:51.312Z"
   },
   {
    "duration": 13,
    "start_time": "2022-09-23T12:56:51.324Z"
   },
   {
    "duration": 22,
    "start_time": "2022-09-23T12:56:51.338Z"
   },
   {
    "duration": 5523,
    "start_time": "2022-09-23T12:56:51.362Z"
   },
   {
    "duration": 17,
    "start_time": "2022-09-23T12:56:56.888Z"
   },
   {
    "duration": 5,
    "start_time": "2022-09-23T12:56:56.907Z"
   },
   {
    "duration": 7,
    "start_time": "2022-09-23T12:56:56.914Z"
   },
   {
    "duration": 1875,
    "start_time": "2022-09-23T12:56:56.923Z"
   },
   {
    "duration": 2,
    "start_time": "2022-09-23T12:56:58.800Z"
   },
   {
    "duration": 9,
    "start_time": "2022-09-23T12:56:58.803Z"
   },
   {
    "duration": 9,
    "start_time": "2022-09-23T12:56:58.813Z"
   },
   {
    "duration": 9,
    "start_time": "2022-09-23T12:56:58.823Z"
   },
   {
    "duration": 5,
    "start_time": "2022-09-23T12:56:58.834Z"
   },
   {
    "duration": 9,
    "start_time": "2022-09-23T12:56:58.840Z"
   },
   {
    "duration": 47,
    "start_time": "2022-09-23T12:56:58.850Z"
   },
   {
    "duration": 8,
    "start_time": "2022-09-23T12:56:58.899Z"
   },
   {
    "duration": 7,
    "start_time": "2022-09-23T12:56:58.908Z"
   },
   {
    "duration": 15,
    "start_time": "2022-09-23T12:56:58.917Z"
   },
   {
    "duration": 28,
    "start_time": "2022-09-23T12:56:58.933Z"
   },
   {
    "duration": 39,
    "start_time": "2022-09-23T12:56:58.962Z"
   },
   {
    "duration": 94,
    "start_time": "2022-09-23T12:56:59.003Z"
   },
   {
    "duration": 24,
    "start_time": "2022-09-23T12:56:59.099Z"
   },
   {
    "duration": 19,
    "start_time": "2022-09-23T13:00:17.791Z"
   },
   {
    "duration": 18,
    "start_time": "2022-09-23T13:00:37.815Z"
   },
   {
    "duration": 1216,
    "start_time": "2022-09-23T13:03:55.439Z"
   },
   {
    "duration": 498,
    "start_time": "2022-09-23T13:03:56.658Z"
   },
   {
    "duration": 15,
    "start_time": "2022-09-23T13:03:57.158Z"
   },
   {
    "duration": 16,
    "start_time": "2022-09-23T13:03:57.174Z"
   },
   {
    "duration": 11,
    "start_time": "2022-09-23T13:03:57.192Z"
   },
   {
    "duration": 4,
    "start_time": "2022-09-23T13:03:57.205Z"
   },
   {
    "duration": 7,
    "start_time": "2022-09-23T13:03:57.211Z"
   },
   {
    "duration": 9,
    "start_time": "2022-09-23T13:03:57.220Z"
   },
   {
    "duration": 5626,
    "start_time": "2022-09-23T13:03:57.231Z"
   },
   {
    "duration": 12,
    "start_time": "2022-09-23T13:04:02.859Z"
   },
   {
    "duration": 16,
    "start_time": "2022-09-23T13:04:02.873Z"
   },
   {
    "duration": 5754,
    "start_time": "2022-09-23T13:04:02.891Z"
   },
   {
    "duration": 11,
    "start_time": "2022-09-23T13:04:08.647Z"
   },
   {
    "duration": 27,
    "start_time": "2022-09-23T13:04:08.663Z"
   },
   {
    "duration": 5534,
    "start_time": "2022-09-23T13:04:08.692Z"
   },
   {
    "duration": 16,
    "start_time": "2022-09-23T13:04:14.227Z"
   },
   {
    "duration": 15,
    "start_time": "2022-09-23T13:04:14.245Z"
   },
   {
    "duration": 5448,
    "start_time": "2022-09-23T13:04:14.262Z"
   },
   {
    "duration": 4,
    "start_time": "2022-09-23T13:04:19.712Z"
   },
   {
    "duration": 8,
    "start_time": "2022-09-23T13:04:19.718Z"
   },
   {
    "duration": 12,
    "start_time": "2022-09-23T13:04:19.728Z"
   },
   {
    "duration": 5,
    "start_time": "2022-09-23T13:04:19.742Z"
   },
   {
    "duration": 40,
    "start_time": "2022-09-23T13:04:19.749Z"
   },
   {
    "duration": 5,
    "start_time": "2022-09-23T13:04:19.791Z"
   },
   {
    "duration": 50,
    "start_time": "2022-09-23T13:04:19.798Z"
   },
   {
    "duration": 23,
    "start_time": "2022-09-23T13:04:19.850Z"
   },
   {
    "duration": 68,
    "start_time": "2022-09-23T13:04:19.874Z"
   },
   {
    "duration": 10,
    "start_time": "2022-09-23T13:04:19.944Z"
   },
   {
    "duration": 25,
    "start_time": "2022-09-23T13:04:19.955Z"
   },
   {
    "duration": 19,
    "start_time": "2022-09-23T13:04:19.982Z"
   },
   {
    "duration": 9,
    "start_time": "2022-09-23T13:04:20.003Z"
   },
   {
    "duration": 9,
    "start_time": "2022-09-23T13:04:20.013Z"
   },
   {
    "duration": 5575,
    "start_time": "2022-09-23T13:04:20.024Z"
   },
   {
    "duration": 5,
    "start_time": "2022-09-23T13:04:25.600Z"
   },
   {
    "duration": 5,
    "start_time": "2022-09-23T13:04:25.607Z"
   },
   {
    "duration": 5469,
    "start_time": "2022-09-23T13:04:25.614Z"
   },
   {
    "duration": 3,
    "start_time": "2022-09-23T13:04:31.090Z"
   },
   {
    "duration": 5705,
    "start_time": "2022-09-23T13:04:31.094Z"
   },
   {
    "duration": 14,
    "start_time": "2022-09-23T13:04:36.801Z"
   },
   {
    "duration": 14,
    "start_time": "2022-09-23T13:04:36.816Z"
   },
   {
    "duration": 17,
    "start_time": "2022-09-23T13:04:36.835Z"
   },
   {
    "duration": 15,
    "start_time": "2022-09-23T13:04:36.853Z"
   },
   {
    "duration": 19,
    "start_time": "2022-09-23T13:04:36.870Z"
   },
   {
    "duration": 6,
    "start_time": "2022-09-23T13:04:36.891Z"
   },
   {
    "duration": 10,
    "start_time": "2022-09-23T13:04:36.898Z"
   },
   {
    "duration": 10,
    "start_time": "2022-09-23T13:04:36.910Z"
   },
   {
    "duration": 8,
    "start_time": "2022-09-23T13:04:36.922Z"
   },
   {
    "duration": 10,
    "start_time": "2022-09-23T13:04:36.931Z"
   },
   {
    "duration": 5,
    "start_time": "2022-09-23T13:04:36.943Z"
   },
   {
    "duration": 5,
    "start_time": "2022-09-23T13:04:36.950Z"
   },
   {
    "duration": 5483,
    "start_time": "2022-09-23T13:04:36.957Z"
   },
   {
    "duration": 6,
    "start_time": "2022-09-23T13:04:42.442Z"
   },
   {
    "duration": 6,
    "start_time": "2022-09-23T13:04:42.449Z"
   },
   {
    "duration": 10,
    "start_time": "2022-09-23T13:04:42.457Z"
   },
   {
    "duration": 33,
    "start_time": "2022-09-23T13:04:42.468Z"
   },
   {
    "duration": 5711,
    "start_time": "2022-09-23T13:04:42.503Z"
   },
   {
    "duration": 19,
    "start_time": "2022-09-23T13:04:48.216Z"
   },
   {
    "duration": 15,
    "start_time": "2022-09-23T13:04:48.238Z"
   },
   {
    "duration": 15,
    "start_time": "2022-09-23T13:04:48.255Z"
   },
   {
    "duration": 1814,
    "start_time": "2022-09-23T13:04:48.273Z"
   },
   {
    "duration": 3,
    "start_time": "2022-09-23T13:04:50.089Z"
   },
   {
    "duration": 26,
    "start_time": "2022-09-23T13:04:50.093Z"
   },
   {
    "duration": 23,
    "start_time": "2022-09-23T13:04:50.121Z"
   },
   {
    "duration": 23,
    "start_time": "2022-09-23T13:04:50.146Z"
   },
   {
    "duration": 27,
    "start_time": "2022-09-23T13:04:50.171Z"
   },
   {
    "duration": 33,
    "start_time": "2022-09-23T13:04:50.200Z"
   },
   {
    "duration": 47,
    "start_time": "2022-09-23T13:04:50.236Z"
   },
   {
    "duration": 34,
    "start_time": "2022-09-23T13:04:50.285Z"
   },
   {
    "duration": 22,
    "start_time": "2022-09-23T13:04:50.321Z"
   },
   {
    "duration": 24,
    "start_time": "2022-09-23T13:04:50.345Z"
   },
   {
    "duration": 56,
    "start_time": "2022-09-23T13:04:50.370Z"
   },
   {
    "duration": 24,
    "start_time": "2022-09-23T13:04:50.427Z"
   },
   {
    "duration": 662,
    "start_time": "2022-09-23T13:04:50.453Z"
   },
   {
    "duration": 24,
    "start_time": "2022-09-23T13:04:51.117Z"
   },
   {
    "duration": 1184,
    "start_time": "2022-09-23T13:07:32.046Z"
   },
   {
    "duration": 830,
    "start_time": "2022-09-23T13:07:33.233Z"
   },
   {
    "duration": 14,
    "start_time": "2022-09-23T13:07:34.064Z"
   },
   {
    "duration": 10,
    "start_time": "2022-09-23T13:07:34.080Z"
   },
   {
    "duration": 8,
    "start_time": "2022-09-23T13:07:34.092Z"
   },
   {
    "duration": 3,
    "start_time": "2022-09-23T13:07:34.102Z"
   },
   {
    "duration": 7,
    "start_time": "2022-09-23T13:07:34.106Z"
   },
   {
    "duration": 6,
    "start_time": "2022-09-23T13:07:34.115Z"
   },
   {
    "duration": 5400,
    "start_time": "2022-09-23T13:07:34.122Z"
   },
   {
    "duration": 11,
    "start_time": "2022-09-23T13:07:39.524Z"
   },
   {
    "duration": 4,
    "start_time": "2022-09-23T13:07:39.537Z"
   },
   {
    "duration": 5573,
    "start_time": "2022-09-23T13:07:39.543Z"
   },
   {
    "duration": 10,
    "start_time": "2022-09-23T13:07:45.118Z"
   },
   {
    "duration": 18,
    "start_time": "2022-09-23T13:07:45.131Z"
   },
   {
    "duration": 5227,
    "start_time": "2022-09-23T13:07:45.151Z"
   },
   {
    "duration": 16,
    "start_time": "2022-09-23T13:07:50.380Z"
   },
   {
    "duration": 6,
    "start_time": "2022-09-23T13:07:50.398Z"
   },
   {
    "duration": 5439,
    "start_time": "2022-09-23T13:07:50.406Z"
   },
   {
    "duration": 4,
    "start_time": "2022-09-23T13:07:55.847Z"
   },
   {
    "duration": 9,
    "start_time": "2022-09-23T13:07:55.853Z"
   },
   {
    "duration": 20,
    "start_time": "2022-09-23T13:07:55.864Z"
   },
   {
    "duration": 17,
    "start_time": "2022-09-23T13:07:55.889Z"
   },
   {
    "duration": 23,
    "start_time": "2022-09-23T13:07:55.908Z"
   },
   {
    "duration": 9,
    "start_time": "2022-09-23T13:07:55.932Z"
   },
   {
    "duration": 28,
    "start_time": "2022-09-23T13:07:55.943Z"
   },
   {
    "duration": 26,
    "start_time": "2022-09-23T13:07:55.973Z"
   },
   {
    "duration": 56,
    "start_time": "2022-09-23T13:07:56.001Z"
   },
   {
    "duration": 11,
    "start_time": "2022-09-23T13:07:56.059Z"
   },
   {
    "duration": 6,
    "start_time": "2022-09-23T13:07:56.072Z"
   },
   {
    "duration": 20,
    "start_time": "2022-09-23T13:07:56.079Z"
   },
   {
    "duration": 8,
    "start_time": "2022-09-23T13:07:56.101Z"
   },
   {
    "duration": 7,
    "start_time": "2022-09-23T13:07:56.110Z"
   },
   {
    "duration": 5330,
    "start_time": "2022-09-23T13:07:56.118Z"
   },
   {
    "duration": 12,
    "start_time": "2022-09-23T13:08:01.450Z"
   },
   {
    "duration": 22,
    "start_time": "2022-09-23T13:08:01.464Z"
   },
   {
    "duration": 5402,
    "start_time": "2022-09-23T13:08:01.488Z"
   },
   {
    "duration": 3,
    "start_time": "2022-09-23T13:08:06.892Z"
   },
   {
    "duration": 5663,
    "start_time": "2022-09-23T13:08:06.896Z"
   },
   {
    "duration": 12,
    "start_time": "2022-09-23T13:08:12.561Z"
   },
   {
    "duration": 4,
    "start_time": "2022-09-23T13:08:12.575Z"
   },
   {
    "duration": 15,
    "start_time": "2022-09-23T13:08:12.592Z"
   },
   {
    "duration": 8,
    "start_time": "2022-09-23T13:08:12.609Z"
   },
   {
    "duration": 7,
    "start_time": "2022-09-23T13:08:12.618Z"
   },
   {
    "duration": 11,
    "start_time": "2022-09-23T13:08:12.626Z"
   },
   {
    "duration": 7,
    "start_time": "2022-09-23T13:08:12.638Z"
   },
   {
    "duration": 7,
    "start_time": "2022-09-23T13:08:12.647Z"
   },
   {
    "duration": 6,
    "start_time": "2022-09-23T13:08:12.655Z"
   },
   {
    "duration": 28,
    "start_time": "2022-09-23T13:08:12.662Z"
   },
   {
    "duration": 19,
    "start_time": "2022-09-23T13:08:12.692Z"
   },
   {
    "duration": 5,
    "start_time": "2022-09-23T13:08:12.713Z"
   },
   {
    "duration": 5232,
    "start_time": "2022-09-23T13:08:12.719Z"
   },
   {
    "duration": 5,
    "start_time": "2022-09-23T13:08:17.953Z"
   },
   {
    "duration": 7,
    "start_time": "2022-09-23T13:08:17.960Z"
   },
   {
    "duration": 21,
    "start_time": "2022-09-23T13:08:17.968Z"
   },
   {
    "duration": 16,
    "start_time": "2022-09-23T13:08:17.991Z"
   },
   {
    "duration": 5872,
    "start_time": "2022-09-23T13:08:18.009Z"
   },
   {
    "duration": 21,
    "start_time": "2022-09-23T13:08:23.883Z"
   },
   {
    "duration": 10,
    "start_time": "2022-09-23T13:08:23.906Z"
   },
   {
    "duration": 10,
    "start_time": "2022-09-23T13:08:23.917Z"
   },
   {
    "duration": 1833,
    "start_time": "2022-09-23T13:08:23.929Z"
   },
   {
    "duration": 3,
    "start_time": "2022-09-23T13:08:25.763Z"
   },
   {
    "duration": 7,
    "start_time": "2022-09-23T13:08:25.767Z"
   },
   {
    "duration": 14,
    "start_time": "2022-09-23T13:08:25.776Z"
   },
   {
    "duration": 8,
    "start_time": "2022-09-23T13:08:25.792Z"
   },
   {
    "duration": 6,
    "start_time": "2022-09-23T13:08:25.801Z"
   },
   {
    "duration": 7,
    "start_time": "2022-09-23T13:08:25.809Z"
   },
   {
    "duration": 25,
    "start_time": "2022-09-23T13:08:25.818Z"
   },
   {
    "duration": 8,
    "start_time": "2022-09-23T13:08:25.844Z"
   },
   {
    "duration": 6,
    "start_time": "2022-09-23T13:08:25.854Z"
   },
   {
    "duration": 152,
    "start_time": "2022-09-23T13:08:25.862Z"
   },
   {
    "duration": 0,
    "start_time": "2022-09-23T13:08:26.016Z"
   },
   {
    "duration": 0,
    "start_time": "2022-09-23T13:08:26.018Z"
   },
   {
    "duration": 0,
    "start_time": "2022-09-23T13:08:26.018Z"
   },
   {
    "duration": 0,
    "start_time": "2022-09-23T13:08:26.020Z"
   },
   {
    "duration": 1296,
    "start_time": "2022-09-23T18:54:59.162Z"
   },
   {
    "duration": 407,
    "start_time": "2022-09-23T18:55:00.460Z"
   },
   {
    "duration": 13,
    "start_time": "2022-09-23T18:55:00.869Z"
   },
   {
    "duration": 5,
    "start_time": "2022-09-23T18:55:00.885Z"
   },
   {
    "duration": 19,
    "start_time": "2022-09-23T18:55:00.892Z"
   },
   {
    "duration": 21,
    "start_time": "2022-09-23T18:55:00.913Z"
   },
   {
    "duration": 17,
    "start_time": "2022-09-23T18:55:00.936Z"
   },
   {
    "duration": 10,
    "start_time": "2022-09-23T18:55:00.955Z"
   },
   {
    "duration": 4718,
    "start_time": "2022-09-23T18:55:00.967Z"
   },
   {
    "duration": 11,
    "start_time": "2022-09-23T18:55:05.688Z"
   },
   {
    "duration": 7,
    "start_time": "2022-09-23T18:55:05.700Z"
   },
   {
    "duration": 4697,
    "start_time": "2022-09-23T18:55:05.708Z"
   },
   {
    "duration": 9,
    "start_time": "2022-09-23T18:55:10.406Z"
   },
   {
    "duration": 11,
    "start_time": "2022-09-23T18:55:10.422Z"
   },
   {
    "duration": 4598,
    "start_time": "2022-09-23T18:55:10.434Z"
   },
   {
    "duration": 12,
    "start_time": "2022-09-23T18:55:15.033Z"
   },
   {
    "duration": 18,
    "start_time": "2022-09-23T18:55:15.046Z"
   },
   {
    "duration": 4672,
    "start_time": "2022-09-23T18:55:15.066Z"
   },
   {
    "duration": 3,
    "start_time": "2022-09-23T18:55:19.739Z"
   },
   {
    "duration": 6,
    "start_time": "2022-09-23T18:55:19.744Z"
   },
   {
    "duration": 10,
    "start_time": "2022-09-23T18:55:19.752Z"
   },
   {
    "duration": 4,
    "start_time": "2022-09-23T18:55:19.764Z"
   },
   {
    "duration": 17,
    "start_time": "2022-09-23T18:55:19.769Z"
   },
   {
    "duration": 8,
    "start_time": "2022-09-23T18:55:19.787Z"
   },
   {
    "duration": 50,
    "start_time": "2022-09-23T18:55:19.796Z"
   },
   {
    "duration": 22,
    "start_time": "2022-09-23T18:55:19.848Z"
   },
   {
    "duration": 62,
    "start_time": "2022-09-23T18:55:19.872Z"
   },
   {
    "duration": 10,
    "start_time": "2022-09-23T18:55:19.939Z"
   },
   {
    "duration": 13,
    "start_time": "2022-09-23T18:55:19.951Z"
   },
   {
    "duration": 24,
    "start_time": "2022-09-23T18:55:19.965Z"
   },
   {
    "duration": 17,
    "start_time": "2022-09-23T18:55:19.991Z"
   },
   {
    "duration": 21,
    "start_time": "2022-09-23T18:55:20.010Z"
   },
   {
    "duration": 4657,
    "start_time": "2022-09-23T18:55:20.032Z"
   },
   {
    "duration": 4,
    "start_time": "2022-09-23T18:55:24.691Z"
   },
   {
    "duration": 6,
    "start_time": "2022-09-23T18:55:24.696Z"
   },
   {
    "duration": 4728,
    "start_time": "2022-09-23T18:55:24.704Z"
   },
   {
    "duration": 3,
    "start_time": "2022-09-23T18:55:29.434Z"
   },
   {
    "duration": 4904,
    "start_time": "2022-09-23T18:55:29.438Z"
   },
   {
    "duration": 11,
    "start_time": "2022-09-23T18:55:34.344Z"
   },
   {
    "duration": 5,
    "start_time": "2022-09-23T18:55:34.356Z"
   },
   {
    "duration": 15,
    "start_time": "2022-09-23T18:55:34.363Z"
   },
   {
    "duration": 8,
    "start_time": "2022-09-23T18:55:34.379Z"
   },
   {
    "duration": 8,
    "start_time": "2022-09-23T18:55:34.389Z"
   },
   {
    "duration": 26,
    "start_time": "2022-09-23T18:55:34.398Z"
   },
   {
    "duration": 10,
    "start_time": "2022-09-23T18:55:34.426Z"
   },
   {
    "duration": 9,
    "start_time": "2022-09-23T18:55:34.437Z"
   },
   {
    "duration": 7,
    "start_time": "2022-09-23T18:55:34.447Z"
   },
   {
    "duration": 8,
    "start_time": "2022-09-23T18:55:34.455Z"
   },
   {
    "duration": 5,
    "start_time": "2022-09-23T18:55:34.464Z"
   },
   {
    "duration": 13,
    "start_time": "2022-09-23T18:55:34.470Z"
   },
   {
    "duration": 4649,
    "start_time": "2022-09-23T18:55:34.484Z"
   },
   {
    "duration": 5,
    "start_time": "2022-09-23T18:55:39.134Z"
   },
   {
    "duration": 5,
    "start_time": "2022-09-23T18:55:39.140Z"
   },
   {
    "duration": 8,
    "start_time": "2022-09-23T18:55:39.146Z"
   },
   {
    "duration": 16,
    "start_time": "2022-09-23T18:55:39.155Z"
   },
   {
    "duration": 5112,
    "start_time": "2022-09-23T18:55:39.172Z"
   },
   {
    "duration": 17,
    "start_time": "2022-09-23T18:55:44.287Z"
   },
   {
    "duration": 18,
    "start_time": "2022-09-23T18:55:44.305Z"
   },
   {
    "duration": 10,
    "start_time": "2022-09-23T18:55:44.325Z"
   },
   {
    "duration": 1575,
    "start_time": "2022-09-23T18:55:44.337Z"
   },
   {
    "duration": 8,
    "start_time": "2022-09-23T18:55:45.913Z"
   },
   {
    "duration": 13,
    "start_time": "2022-09-23T18:55:45.923Z"
   },
   {
    "duration": 21,
    "start_time": "2022-09-23T18:55:45.938Z"
   },
   {
    "duration": 12,
    "start_time": "2022-09-23T18:55:45.960Z"
   },
   {
    "duration": 5,
    "start_time": "2022-09-23T18:55:45.974Z"
   },
   {
    "duration": 7,
    "start_time": "2022-09-23T18:55:45.981Z"
   },
   {
    "duration": 29,
    "start_time": "2022-09-23T18:55:45.989Z"
   },
   {
    "duration": 16,
    "start_time": "2022-09-23T18:55:46.020Z"
   },
   {
    "duration": 15,
    "start_time": "2022-09-23T18:55:46.038Z"
   },
   {
    "duration": 40,
    "start_time": "2022-09-23T18:55:46.055Z"
   },
   {
    "duration": 19,
    "start_time": "2022-09-23T18:55:46.097Z"
   },
   {
    "duration": 108,
    "start_time": "2022-09-23T18:55:46.117Z"
   },
   {
    "duration": 29,
    "start_time": "2022-09-23T18:55:46.227Z"
   },
   {
    "duration": 27,
    "start_time": "2022-09-23T19:20:53.051Z"
   },
   {
    "duration": 1103,
    "start_time": "2022-09-23T19:22:23.019Z"
   },
   {
    "duration": 526,
    "start_time": "2022-09-23T19:22:24.124Z"
   },
   {
    "duration": 14,
    "start_time": "2022-09-23T19:22:24.652Z"
   },
   {
    "duration": 25,
    "start_time": "2022-09-23T19:22:24.669Z"
   },
   {
    "duration": 17,
    "start_time": "2022-09-23T19:22:24.696Z"
   },
   {
    "duration": 16,
    "start_time": "2022-09-23T19:22:24.714Z"
   },
   {
    "duration": 9,
    "start_time": "2022-09-23T19:22:24.732Z"
   },
   {
    "duration": 17,
    "start_time": "2022-09-23T19:22:24.743Z"
   },
   {
    "duration": 4736,
    "start_time": "2022-09-23T19:22:24.762Z"
   },
   {
    "duration": 11,
    "start_time": "2022-09-23T19:22:29.501Z"
   },
   {
    "duration": 9,
    "start_time": "2022-09-23T19:22:29.514Z"
   },
   {
    "duration": 4850,
    "start_time": "2022-09-23T19:22:29.525Z"
   },
   {
    "duration": 8,
    "start_time": "2022-09-23T19:22:34.377Z"
   },
   {
    "duration": 13,
    "start_time": "2022-09-23T19:22:34.387Z"
   },
   {
    "duration": 4537,
    "start_time": "2022-09-23T19:22:34.402Z"
   },
   {
    "duration": 12,
    "start_time": "2022-09-23T19:22:38.940Z"
   },
   {
    "duration": 9,
    "start_time": "2022-09-23T19:22:38.953Z"
   },
   {
    "duration": 4736,
    "start_time": "2022-09-23T19:22:38.964Z"
   },
   {
    "duration": 3,
    "start_time": "2022-09-23T19:22:43.702Z"
   },
   {
    "duration": 16,
    "start_time": "2022-09-23T19:22:43.707Z"
   },
   {
    "duration": 14,
    "start_time": "2022-09-23T19:22:43.724Z"
   },
   {
    "duration": 7,
    "start_time": "2022-09-23T19:22:43.740Z"
   },
   {
    "duration": 19,
    "start_time": "2022-09-23T19:22:43.748Z"
   },
   {
    "duration": 8,
    "start_time": "2022-09-23T19:22:43.769Z"
   },
   {
    "duration": 31,
    "start_time": "2022-09-23T19:22:43.779Z"
   },
   {
    "duration": 25,
    "start_time": "2022-09-23T19:22:43.822Z"
   },
   {
    "duration": 61,
    "start_time": "2022-09-23T19:22:43.849Z"
   },
   {
    "duration": 10,
    "start_time": "2022-09-23T19:22:43.913Z"
   },
   {
    "duration": 6,
    "start_time": "2022-09-23T19:22:43.924Z"
   },
   {
    "duration": 17,
    "start_time": "2022-09-23T19:22:43.932Z"
   },
   {
    "duration": 11,
    "start_time": "2022-09-23T19:22:43.951Z"
   },
   {
    "duration": 4,
    "start_time": "2022-09-23T19:22:43.963Z"
   },
   {
    "duration": 4805,
    "start_time": "2022-09-23T19:22:43.969Z"
   },
   {
    "duration": 4,
    "start_time": "2022-09-23T19:22:48.775Z"
   },
   {
    "duration": 11,
    "start_time": "2022-09-23T19:22:48.780Z"
   },
   {
    "duration": 4627,
    "start_time": "2022-09-23T19:22:48.793Z"
   },
   {
    "duration": 3,
    "start_time": "2022-09-23T19:22:53.422Z"
   },
   {
    "duration": 4678,
    "start_time": "2022-09-23T19:22:53.426Z"
   },
   {
    "duration": 11,
    "start_time": "2022-09-23T19:22:58.105Z"
   },
   {
    "duration": 6,
    "start_time": "2022-09-23T19:22:58.122Z"
   },
   {
    "duration": 15,
    "start_time": "2022-09-23T19:22:58.130Z"
   },
   {
    "duration": 6,
    "start_time": "2022-09-23T19:22:58.147Z"
   },
   {
    "duration": 7,
    "start_time": "2022-09-23T19:22:58.155Z"
   },
   {
    "duration": 7,
    "start_time": "2022-09-23T19:22:58.163Z"
   },
   {
    "duration": 7,
    "start_time": "2022-09-23T19:22:58.171Z"
   },
   {
    "duration": 6,
    "start_time": "2022-09-23T19:22:58.179Z"
   },
   {
    "duration": 7,
    "start_time": "2022-09-23T19:22:58.187Z"
   },
   {
    "duration": 27,
    "start_time": "2022-09-23T19:22:58.195Z"
   },
   {
    "duration": 2,
    "start_time": "2022-09-23T19:22:58.224Z"
   },
   {
    "duration": 6,
    "start_time": "2022-09-23T19:22:58.228Z"
   },
   {
    "duration": 4604,
    "start_time": "2022-09-23T19:22:58.235Z"
   },
   {
    "duration": 4,
    "start_time": "2022-09-23T19:23:02.841Z"
   },
   {
    "duration": 6,
    "start_time": "2022-09-23T19:23:02.846Z"
   },
   {
    "duration": 23,
    "start_time": "2022-09-23T19:23:02.854Z"
   },
   {
    "duration": 26,
    "start_time": "2022-09-23T19:23:02.879Z"
   },
   {
    "duration": 4861,
    "start_time": "2022-09-23T19:23:02.906Z"
   },
   {
    "duration": 16,
    "start_time": "2022-09-23T19:23:07.768Z"
   },
   {
    "duration": 36,
    "start_time": "2022-09-23T19:23:07.786Z"
   },
   {
    "duration": 63,
    "start_time": "2022-09-23T19:23:07.823Z"
   },
   {
    "duration": 1513,
    "start_time": "2022-09-23T19:23:07.888Z"
   },
   {
    "duration": 2,
    "start_time": "2022-09-23T19:23:09.403Z"
   },
   {
    "duration": 17,
    "start_time": "2022-09-23T19:23:09.407Z"
   },
   {
    "duration": 15,
    "start_time": "2022-09-23T19:23:09.426Z"
   },
   {
    "duration": 16,
    "start_time": "2022-09-23T19:23:09.443Z"
   },
   {
    "duration": 9,
    "start_time": "2022-09-23T19:23:09.461Z"
   },
   {
    "duration": 26,
    "start_time": "2022-09-23T19:23:09.471Z"
   },
   {
    "duration": 31,
    "start_time": "2022-09-23T19:23:09.499Z"
   },
   {
    "duration": 8,
    "start_time": "2022-09-23T19:23:09.532Z"
   },
   {
    "duration": 12,
    "start_time": "2022-09-23T19:23:09.542Z"
   },
   {
    "duration": 31,
    "start_time": "2022-09-23T19:23:09.556Z"
   },
   {
    "duration": 11,
    "start_time": "2022-09-23T19:23:09.588Z"
   },
   {
    "duration": 103,
    "start_time": "2022-09-23T19:23:09.601Z"
   },
   {
    "duration": 21,
    "start_time": "2022-09-23T19:23:09.706Z"
   },
   {
    "duration": 1124,
    "start_time": "2022-09-23T19:24:02.021Z"
   },
   {
    "duration": 415,
    "start_time": "2022-09-23T19:24:03.147Z"
   },
   {
    "duration": 13,
    "start_time": "2022-09-23T19:24:03.563Z"
   },
   {
    "duration": 7,
    "start_time": "2022-09-23T19:24:03.577Z"
   },
   {
    "duration": 13,
    "start_time": "2022-09-23T19:24:03.585Z"
   },
   {
    "duration": 3,
    "start_time": "2022-09-23T19:24:03.599Z"
   },
   {
    "duration": 3,
    "start_time": "2022-09-23T19:24:03.621Z"
   },
   {
    "duration": 8,
    "start_time": "2022-09-23T19:24:03.626Z"
   },
   {
    "duration": 4619,
    "start_time": "2022-09-23T19:24:03.635Z"
   },
   {
    "duration": 10,
    "start_time": "2022-09-23T19:24:08.257Z"
   },
   {
    "duration": 6,
    "start_time": "2022-09-23T19:24:08.268Z"
   },
   {
    "duration": 4621,
    "start_time": "2022-09-23T19:24:08.275Z"
   },
   {
    "duration": 8,
    "start_time": "2022-09-23T19:24:12.898Z"
   },
   {
    "duration": 25,
    "start_time": "2022-09-23T19:24:12.908Z"
   },
   {
    "duration": 4566,
    "start_time": "2022-09-23T19:24:12.935Z"
   },
   {
    "duration": 12,
    "start_time": "2022-09-23T19:24:17.502Z"
   },
   {
    "duration": 10,
    "start_time": "2022-09-23T19:24:17.515Z"
   },
   {
    "duration": 4530,
    "start_time": "2022-09-23T19:24:17.526Z"
   },
   {
    "duration": 4,
    "start_time": "2022-09-23T19:24:22.057Z"
   },
   {
    "duration": 8,
    "start_time": "2022-09-23T19:24:22.062Z"
   },
   {
    "duration": 12,
    "start_time": "2022-09-23T19:24:22.071Z"
   },
   {
    "duration": 7,
    "start_time": "2022-09-23T19:24:22.084Z"
   },
   {
    "duration": 23,
    "start_time": "2022-09-23T19:24:22.092Z"
   },
   {
    "duration": 4,
    "start_time": "2022-09-23T19:24:22.122Z"
   },
   {
    "duration": 27,
    "start_time": "2022-09-23T19:24:22.127Z"
   },
   {
    "duration": 20,
    "start_time": "2022-09-23T19:24:22.156Z"
   },
   {
    "duration": 140,
    "start_time": "2022-09-23T19:24:22.178Z"
   },
   {
    "duration": 9,
    "start_time": "2022-09-23T19:24:22.322Z"
   },
   {
    "duration": 7,
    "start_time": "2022-09-23T19:24:22.332Z"
   },
   {
    "duration": 18,
    "start_time": "2022-09-23T19:24:22.340Z"
   },
   {
    "duration": 8,
    "start_time": "2022-09-23T19:24:22.359Z"
   },
   {
    "duration": 3,
    "start_time": "2022-09-23T19:24:22.368Z"
   },
   {
    "duration": 4802,
    "start_time": "2022-09-23T19:24:22.373Z"
   },
   {
    "duration": 4,
    "start_time": "2022-09-23T19:24:27.176Z"
   },
   {
    "duration": 6,
    "start_time": "2022-09-23T19:24:27.181Z"
   },
   {
    "duration": 4968,
    "start_time": "2022-09-23T19:24:27.188Z"
   },
   {
    "duration": 3,
    "start_time": "2022-09-23T19:24:32.157Z"
   },
   {
    "duration": 4665,
    "start_time": "2022-09-23T19:24:32.161Z"
   },
   {
    "duration": 11,
    "start_time": "2022-09-23T19:24:36.827Z"
   },
   {
    "duration": 9,
    "start_time": "2022-09-23T19:24:36.839Z"
   },
   {
    "duration": 19,
    "start_time": "2022-09-23T19:24:36.849Z"
   },
   {
    "duration": 13,
    "start_time": "2022-09-23T19:24:36.870Z"
   },
   {
    "duration": 19,
    "start_time": "2022-09-23T19:24:36.884Z"
   },
   {
    "duration": 19,
    "start_time": "2022-09-23T19:24:36.904Z"
   },
   {
    "duration": 13,
    "start_time": "2022-09-23T19:24:36.925Z"
   },
   {
    "duration": 8,
    "start_time": "2022-09-23T19:24:36.940Z"
   },
   {
    "duration": 7,
    "start_time": "2022-09-23T19:24:36.950Z"
   },
   {
    "duration": 8,
    "start_time": "2022-09-23T19:24:36.958Z"
   },
   {
    "duration": 4,
    "start_time": "2022-09-23T19:24:36.968Z"
   },
   {
    "duration": 6,
    "start_time": "2022-09-23T19:24:36.973Z"
   },
   {
    "duration": 4647,
    "start_time": "2022-09-23T19:24:36.980Z"
   },
   {
    "duration": 5,
    "start_time": "2022-09-23T19:24:41.629Z"
   },
   {
    "duration": 8,
    "start_time": "2022-09-23T19:24:41.636Z"
   },
   {
    "duration": 10,
    "start_time": "2022-09-23T19:24:41.646Z"
   },
   {
    "duration": 20,
    "start_time": "2022-09-23T19:24:41.657Z"
   },
   {
    "duration": 5128,
    "start_time": "2022-09-23T19:24:41.678Z"
   },
   {
    "duration": 18,
    "start_time": "2022-09-23T19:24:46.807Z"
   },
   {
    "duration": 5,
    "start_time": "2022-09-23T19:24:46.826Z"
   },
   {
    "duration": 9,
    "start_time": "2022-09-23T19:24:46.832Z"
   },
   {
    "duration": 1535,
    "start_time": "2022-09-23T19:24:46.842Z"
   },
   {
    "duration": 2,
    "start_time": "2022-09-23T19:24:48.379Z"
   },
   {
    "duration": 5,
    "start_time": "2022-09-23T19:24:48.382Z"
   },
   {
    "duration": 9,
    "start_time": "2022-09-23T19:24:48.389Z"
   },
   {
    "duration": 9,
    "start_time": "2022-09-23T19:24:48.399Z"
   },
   {
    "duration": 13,
    "start_time": "2022-09-23T19:24:48.409Z"
   },
   {
    "duration": 7,
    "start_time": "2022-09-23T19:24:48.424Z"
   },
   {
    "duration": 21,
    "start_time": "2022-09-23T19:24:48.432Z"
   },
   {
    "duration": 8,
    "start_time": "2022-09-23T19:24:48.454Z"
   },
   {
    "duration": 6,
    "start_time": "2022-09-23T19:24:48.463Z"
   },
   {
    "duration": 27,
    "start_time": "2022-09-23T19:24:48.471Z"
   },
   {
    "duration": 28,
    "start_time": "2022-09-23T19:24:48.499Z"
   },
   {
    "duration": 111,
    "start_time": "2022-09-23T19:24:48.528Z"
   },
   {
    "duration": 21,
    "start_time": "2022-09-23T19:24:48.641Z"
   },
   {
    "duration": 101,
    "start_time": "2022-09-23T19:33:30.897Z"
   },
   {
    "duration": 1195,
    "start_time": "2022-09-23T19:33:44.932Z"
   },
   {
    "duration": 367,
    "start_time": "2022-09-23T19:33:46.130Z"
   },
   {
    "duration": 13,
    "start_time": "2022-09-23T19:33:46.499Z"
   },
   {
    "duration": 11,
    "start_time": "2022-09-23T19:33:46.513Z"
   },
   {
    "duration": 8,
    "start_time": "2022-09-23T19:33:46.526Z"
   },
   {
    "duration": 3,
    "start_time": "2022-09-23T19:33:46.536Z"
   },
   {
    "duration": 5,
    "start_time": "2022-09-23T19:33:46.540Z"
   },
   {
    "duration": 5,
    "start_time": "2022-09-23T19:33:46.547Z"
   },
   {
    "duration": 4777,
    "start_time": "2022-09-23T19:33:46.553Z"
   },
   {
    "duration": 10,
    "start_time": "2022-09-23T19:33:51.332Z"
   },
   {
    "duration": 14,
    "start_time": "2022-09-23T19:33:51.344Z"
   },
   {
    "duration": 4708,
    "start_time": "2022-09-23T19:33:51.360Z"
   },
   {
    "duration": 13,
    "start_time": "2022-09-23T19:33:56.070Z"
   },
   {
    "duration": 19,
    "start_time": "2022-09-23T19:33:56.087Z"
   },
   {
    "duration": 4564,
    "start_time": "2022-09-23T19:33:56.107Z"
   },
   {
    "duration": 12,
    "start_time": "2022-09-23T19:34:00.672Z"
   },
   {
    "duration": 26,
    "start_time": "2022-09-23T19:34:00.685Z"
   },
   {
    "duration": 4691,
    "start_time": "2022-09-23T19:34:00.712Z"
   },
   {
    "duration": 3,
    "start_time": "2022-09-23T19:34:05.405Z"
   },
   {
    "duration": 17,
    "start_time": "2022-09-23T19:34:05.410Z"
   },
   {
    "duration": 17,
    "start_time": "2022-09-23T19:34:05.428Z"
   },
   {
    "duration": 10,
    "start_time": "2022-09-23T19:34:05.446Z"
   },
   {
    "duration": 22,
    "start_time": "2022-09-23T19:34:05.457Z"
   },
   {
    "duration": 20,
    "start_time": "2022-09-23T19:34:05.481Z"
   },
   {
    "duration": 32,
    "start_time": "2022-09-23T19:34:05.503Z"
   },
   {
    "duration": 22,
    "start_time": "2022-09-23T19:34:05.537Z"
   },
   {
    "duration": 87,
    "start_time": "2022-09-23T19:34:05.561Z"
   },
   {
    "duration": 10,
    "start_time": "2022-09-23T19:34:05.650Z"
   },
   {
    "duration": 9,
    "start_time": "2022-09-23T19:34:05.662Z"
   },
   {
    "duration": 18,
    "start_time": "2022-09-23T19:34:05.672Z"
   },
   {
    "duration": 15,
    "start_time": "2022-09-23T19:34:05.692Z"
   },
   {
    "duration": 7,
    "start_time": "2022-09-23T19:34:05.709Z"
   },
   {
    "duration": 4767,
    "start_time": "2022-09-23T19:34:05.718Z"
   },
   {
    "duration": 4,
    "start_time": "2022-09-23T19:34:10.487Z"
   },
   {
    "duration": 10,
    "start_time": "2022-09-23T19:34:10.492Z"
   },
   {
    "duration": 4690,
    "start_time": "2022-09-23T19:34:10.503Z"
   },
   {
    "duration": 3,
    "start_time": "2022-09-23T19:34:15.194Z"
   },
   {
    "duration": 4733,
    "start_time": "2022-09-23T19:34:15.199Z"
   },
   {
    "duration": 10,
    "start_time": "2022-09-23T19:34:19.933Z"
   },
   {
    "duration": 7,
    "start_time": "2022-09-23T19:34:19.945Z"
   },
   {
    "duration": 15,
    "start_time": "2022-09-23T19:34:19.956Z"
   },
   {
    "duration": 8,
    "start_time": "2022-09-23T19:34:19.972Z"
   },
   {
    "duration": 9,
    "start_time": "2022-09-23T19:34:19.982Z"
   },
   {
    "duration": 11,
    "start_time": "2022-09-23T19:34:19.993Z"
   },
   {
    "duration": 19,
    "start_time": "2022-09-23T19:34:20.006Z"
   },
   {
    "duration": 12,
    "start_time": "2022-09-23T19:34:20.027Z"
   },
   {
    "duration": 9,
    "start_time": "2022-09-23T19:34:20.041Z"
   },
   {
    "duration": 7,
    "start_time": "2022-09-23T19:34:20.051Z"
   },
   {
    "duration": 9,
    "start_time": "2022-09-23T19:34:20.059Z"
   },
   {
    "duration": 5,
    "start_time": "2022-09-23T19:34:20.069Z"
   },
   {
    "duration": 4601,
    "start_time": "2022-09-23T19:34:20.076Z"
   },
   {
    "duration": 5,
    "start_time": "2022-09-23T19:34:24.678Z"
   },
   {
    "duration": 9,
    "start_time": "2022-09-23T19:34:24.684Z"
   },
   {
    "duration": 8,
    "start_time": "2022-09-23T19:34:24.695Z"
   },
   {
    "duration": 22,
    "start_time": "2022-09-23T19:34:24.705Z"
   },
   {
    "duration": 5125,
    "start_time": "2022-09-23T19:34:24.729Z"
   },
   {
    "duration": 15,
    "start_time": "2022-09-23T19:34:29.856Z"
   },
   {
    "duration": 9,
    "start_time": "2022-09-23T19:34:29.873Z"
   },
   {
    "duration": 18,
    "start_time": "2022-09-23T19:34:29.883Z"
   },
   {
    "duration": 1640,
    "start_time": "2022-09-23T19:34:29.902Z"
   },
   {
    "duration": 2,
    "start_time": "2022-09-23T19:34:31.544Z"
   },
   {
    "duration": 7,
    "start_time": "2022-09-23T19:34:31.548Z"
   },
   {
    "duration": 28,
    "start_time": "2022-09-23T19:34:31.557Z"
   },
   {
    "duration": 17,
    "start_time": "2022-09-23T19:34:31.587Z"
   },
   {
    "duration": 34,
    "start_time": "2022-09-23T19:34:31.605Z"
   },
   {
    "duration": 21,
    "start_time": "2022-09-23T19:34:31.640Z"
   },
   {
    "duration": 35,
    "start_time": "2022-09-23T19:34:31.663Z"
   },
   {
    "duration": 11,
    "start_time": "2022-09-23T19:34:31.699Z"
   },
   {
    "duration": 37,
    "start_time": "2022-09-23T19:34:31.712Z"
   },
   {
    "duration": 37,
    "start_time": "2022-09-23T19:34:31.751Z"
   },
   {
    "duration": 109,
    "start_time": "2022-09-23T19:34:31.790Z"
   },
   {
    "duration": 0,
    "start_time": "2022-09-23T19:34:31.901Z"
   },
   {
    "duration": 0,
    "start_time": "2022-09-23T19:34:31.903Z"
   },
   {
    "duration": 0,
    "start_time": "2022-09-23T19:34:31.905Z"
   },
   {
    "duration": 1079,
    "start_time": "2022-09-23T19:37:32.721Z"
   },
   {
    "duration": 312,
    "start_time": "2022-09-23T19:37:33.802Z"
   },
   {
    "duration": 14,
    "start_time": "2022-09-23T19:37:34.115Z"
   },
   {
    "duration": 4,
    "start_time": "2022-09-23T19:37:34.130Z"
   },
   {
    "duration": 11,
    "start_time": "2022-09-23T19:37:34.136Z"
   },
   {
    "duration": 3,
    "start_time": "2022-09-23T19:37:34.149Z"
   },
   {
    "duration": 7,
    "start_time": "2022-09-23T19:37:34.153Z"
   },
   {
    "duration": 4,
    "start_time": "2022-09-23T19:37:34.161Z"
   },
   {
    "duration": 4597,
    "start_time": "2022-09-23T19:37:34.167Z"
   },
   {
    "duration": 7,
    "start_time": "2022-09-23T19:37:38.766Z"
   },
   {
    "duration": 7,
    "start_time": "2022-09-23T19:37:38.775Z"
   },
   {
    "duration": 4756,
    "start_time": "2022-09-23T19:37:38.783Z"
   },
   {
    "duration": 10,
    "start_time": "2022-09-23T19:37:43.540Z"
   },
   {
    "duration": 14,
    "start_time": "2022-09-23T19:37:43.554Z"
   },
   {
    "duration": 4604,
    "start_time": "2022-09-23T19:37:43.569Z"
   },
   {
    "duration": 12,
    "start_time": "2022-09-23T19:37:48.174Z"
   },
   {
    "duration": 8,
    "start_time": "2022-09-23T19:37:48.188Z"
   },
   {
    "duration": 4818,
    "start_time": "2022-09-23T19:37:48.197Z"
   },
   {
    "duration": 6,
    "start_time": "2022-09-23T19:37:53.016Z"
   },
   {
    "duration": 11,
    "start_time": "2022-09-23T19:37:53.023Z"
   },
   {
    "duration": 12,
    "start_time": "2022-09-23T19:37:53.035Z"
   },
   {
    "duration": 9,
    "start_time": "2022-09-23T19:37:53.049Z"
   },
   {
    "duration": 20,
    "start_time": "2022-09-23T19:37:53.059Z"
   },
   {
    "duration": 5,
    "start_time": "2022-09-23T19:37:53.081Z"
   },
   {
    "duration": 25,
    "start_time": "2022-09-23T19:37:53.088Z"
   },
   {
    "duration": 22,
    "start_time": "2022-09-23T19:37:53.121Z"
   },
   {
    "duration": 55,
    "start_time": "2022-09-23T19:37:53.145Z"
   },
   {
    "duration": 9,
    "start_time": "2022-09-23T19:37:53.201Z"
   },
   {
    "duration": 11,
    "start_time": "2022-09-23T19:37:53.211Z"
   },
   {
    "duration": 19,
    "start_time": "2022-09-23T19:37:53.223Z"
   },
   {
    "duration": 11,
    "start_time": "2022-09-23T19:37:53.243Z"
   },
   {
    "duration": 7,
    "start_time": "2022-09-23T19:37:53.255Z"
   },
   {
    "duration": 4749,
    "start_time": "2022-09-23T19:37:53.263Z"
   },
   {
    "duration": 9,
    "start_time": "2022-09-23T19:37:58.014Z"
   },
   {
    "duration": 27,
    "start_time": "2022-09-23T19:37:58.024Z"
   },
   {
    "duration": 4628,
    "start_time": "2022-09-23T19:37:58.052Z"
   },
   {
    "duration": 3,
    "start_time": "2022-09-23T19:38:02.682Z"
   },
   {
    "duration": 4837,
    "start_time": "2022-09-23T19:38:02.686Z"
   },
   {
    "duration": 11,
    "start_time": "2022-09-23T19:38:07.524Z"
   },
   {
    "duration": 7,
    "start_time": "2022-09-23T19:38:07.537Z"
   },
   {
    "duration": 13,
    "start_time": "2022-09-23T19:38:07.547Z"
   },
   {
    "duration": 12,
    "start_time": "2022-09-23T19:38:07.561Z"
   },
   {
    "duration": 7,
    "start_time": "2022-09-23T19:38:07.575Z"
   },
   {
    "duration": 6,
    "start_time": "2022-09-23T19:38:07.583Z"
   },
   {
    "duration": 7,
    "start_time": "2022-09-23T19:38:07.591Z"
   },
   {
    "duration": 23,
    "start_time": "2022-09-23T19:38:07.599Z"
   },
   {
    "duration": 10,
    "start_time": "2022-09-23T19:38:07.623Z"
   },
   {
    "duration": 13,
    "start_time": "2022-09-23T19:38:07.635Z"
   },
   {
    "duration": 22,
    "start_time": "2022-09-23T19:38:07.650Z"
   },
   {
    "duration": 6,
    "start_time": "2022-09-23T19:38:07.674Z"
   },
   {
    "duration": 4662,
    "start_time": "2022-09-23T19:38:07.681Z"
   },
   {
    "duration": 4,
    "start_time": "2022-09-23T19:38:12.345Z"
   },
   {
    "duration": 10,
    "start_time": "2022-09-23T19:38:12.350Z"
   },
   {
    "duration": 13,
    "start_time": "2022-09-23T19:38:12.361Z"
   },
   {
    "duration": 22,
    "start_time": "2022-09-23T19:38:12.375Z"
   },
   {
    "duration": 4888,
    "start_time": "2022-09-23T19:38:12.398Z"
   },
   {
    "duration": 18,
    "start_time": "2022-09-23T19:38:17.288Z"
   },
   {
    "duration": 16,
    "start_time": "2022-09-23T19:38:17.308Z"
   },
   {
    "duration": 18,
    "start_time": "2022-09-23T19:38:17.326Z"
   },
   {
    "duration": 1567,
    "start_time": "2022-09-23T19:38:17.347Z"
   },
   {
    "duration": 7,
    "start_time": "2022-09-23T19:38:18.921Z"
   },
   {
    "duration": 10,
    "start_time": "2022-09-23T19:38:18.929Z"
   },
   {
    "duration": 5,
    "start_time": "2022-09-23T19:38:18.941Z"
   },
   {
    "duration": 9,
    "start_time": "2022-09-23T19:38:18.948Z"
   },
   {
    "duration": 30,
    "start_time": "2022-09-23T19:38:18.958Z"
   },
   {
    "duration": 11,
    "start_time": "2022-09-23T19:38:18.989Z"
   },
   {
    "duration": 21,
    "start_time": "2022-09-23T19:38:19.001Z"
   },
   {
    "duration": 32,
    "start_time": "2022-09-23T19:38:19.025Z"
   },
   {
    "duration": 101,
    "start_time": "2022-09-23T19:38:19.059Z"
   },
   {
    "duration": 0,
    "start_time": "2022-09-23T19:38:19.162Z"
   },
   {
    "duration": 0,
    "start_time": "2022-09-23T19:38:19.163Z"
   },
   {
    "duration": 0,
    "start_time": "2022-09-23T19:38:19.164Z"
   },
   {
    "duration": 14,
    "start_time": "2022-09-23T19:43:45.146Z"
   },
   {
    "duration": 12,
    "start_time": "2022-09-23T19:44:11.932Z"
   },
   {
    "duration": 11,
    "start_time": "2022-09-23T19:44:17.077Z"
   },
   {
    "duration": 8,
    "start_time": "2022-09-23T19:44:32.362Z"
   },
   {
    "duration": 6,
    "start_time": "2022-09-23T19:44:59.407Z"
   },
   {
    "duration": 27,
    "start_time": "2022-09-23T19:45:03.387Z"
   },
   {
    "duration": 9,
    "start_time": "2022-09-23T19:45:13.146Z"
   },
   {
    "duration": 22,
    "start_time": "2022-09-23T19:45:18.672Z"
   },
   {
    "duration": 102,
    "start_time": "2022-09-23T19:46:36.177Z"
   },
   {
    "duration": 22,
    "start_time": "2022-09-23T19:46:38.366Z"
   },
   {
    "duration": 1115,
    "start_time": "2022-09-23T19:52:07.338Z"
   },
   {
    "duration": 406,
    "start_time": "2022-09-23T19:52:08.455Z"
   },
   {
    "duration": 13,
    "start_time": "2022-09-23T19:52:08.862Z"
   },
   {
    "duration": 16,
    "start_time": "2022-09-23T19:52:08.876Z"
   },
   {
    "duration": 9,
    "start_time": "2022-09-23T19:52:08.894Z"
   },
   {
    "duration": 4,
    "start_time": "2022-09-23T19:52:08.904Z"
   },
   {
    "duration": 11,
    "start_time": "2022-09-23T19:52:08.909Z"
   },
   {
    "duration": 7,
    "start_time": "2022-09-23T19:52:08.921Z"
   },
   {
    "duration": 4809,
    "start_time": "2022-09-23T19:52:08.930Z"
   },
   {
    "duration": 8,
    "start_time": "2022-09-23T19:52:13.740Z"
   },
   {
    "duration": 6,
    "start_time": "2022-09-23T19:52:13.750Z"
   },
   {
    "duration": 4825,
    "start_time": "2022-09-23T19:52:13.757Z"
   },
   {
    "duration": 9,
    "start_time": "2022-09-23T19:52:18.584Z"
   },
   {
    "duration": 9,
    "start_time": "2022-09-23T19:52:18.598Z"
   },
   {
    "duration": 20,
    "start_time": "2022-09-23T19:52:18.608Z"
   },
   {
    "duration": 4777,
    "start_time": "2022-09-23T19:52:18.630Z"
   },
   {
    "duration": 13,
    "start_time": "2022-09-23T19:52:23.409Z"
   },
   {
    "duration": 12,
    "start_time": "2022-09-23T19:52:23.424Z"
   },
   {
    "duration": 4780,
    "start_time": "2022-09-23T19:52:23.438Z"
   },
   {
    "duration": 4,
    "start_time": "2022-09-23T19:52:28.220Z"
   },
   {
    "duration": 14,
    "start_time": "2022-09-23T19:52:28.226Z"
   },
   {
    "duration": 15,
    "start_time": "2022-09-23T19:52:28.242Z"
   },
   {
    "duration": 5,
    "start_time": "2022-09-23T19:52:28.259Z"
   },
   {
    "duration": 14,
    "start_time": "2022-09-23T19:52:28.265Z"
   },
   {
    "duration": 9,
    "start_time": "2022-09-23T19:52:28.280Z"
   },
   {
    "duration": 45,
    "start_time": "2022-09-23T19:52:28.290Z"
   },
   {
    "duration": 23,
    "start_time": "2022-09-23T19:52:28.337Z"
   },
   {
    "duration": 72,
    "start_time": "2022-09-23T19:52:28.361Z"
   },
   {
    "duration": 11,
    "start_time": "2022-09-23T19:52:28.435Z"
   },
   {
    "duration": 10,
    "start_time": "2022-09-23T19:52:28.447Z"
   },
   {
    "duration": 17,
    "start_time": "2022-09-23T19:52:28.459Z"
   },
   {
    "duration": 6,
    "start_time": "2022-09-23T19:52:28.478Z"
   },
   {
    "duration": 9,
    "start_time": "2022-09-23T19:52:28.486Z"
   },
   {
    "duration": 5188,
    "start_time": "2022-09-23T19:52:28.496Z"
   },
   {
    "duration": 4,
    "start_time": "2022-09-23T19:52:33.685Z"
   },
   {
    "duration": 6,
    "start_time": "2022-09-23T19:52:33.690Z"
   },
   {
    "duration": 4793,
    "start_time": "2022-09-23T19:52:33.697Z"
   },
   {
    "duration": 4,
    "start_time": "2022-09-23T19:52:38.492Z"
   },
   {
    "duration": 5025,
    "start_time": "2022-09-23T19:52:38.498Z"
   },
   {
    "duration": 11,
    "start_time": "2022-09-23T19:52:43.525Z"
   },
   {
    "duration": 13,
    "start_time": "2022-09-23T19:52:43.542Z"
   },
   {
    "duration": 18,
    "start_time": "2022-09-23T19:52:43.556Z"
   },
   {
    "duration": 11,
    "start_time": "2022-09-23T19:52:43.575Z"
   },
   {
    "duration": 8,
    "start_time": "2022-09-23T19:52:43.588Z"
   },
   {
    "duration": 7,
    "start_time": "2022-09-23T19:52:43.598Z"
   },
   {
    "duration": 29,
    "start_time": "2022-09-23T19:52:43.607Z"
   },
   {
    "duration": 9,
    "start_time": "2022-09-23T19:52:43.639Z"
   },
   {
    "duration": 8,
    "start_time": "2022-09-23T19:52:43.649Z"
   },
   {
    "duration": 12,
    "start_time": "2022-09-23T19:52:43.659Z"
   },
   {
    "duration": 7,
    "start_time": "2022-09-23T19:52:43.672Z"
   },
   {
    "duration": 6,
    "start_time": "2022-09-23T19:52:43.680Z"
   },
   {
    "duration": 4939,
    "start_time": "2022-09-23T19:52:43.687Z"
   },
   {
    "duration": 5,
    "start_time": "2022-09-23T19:52:48.627Z"
   },
   {
    "duration": 9,
    "start_time": "2022-09-23T19:52:48.633Z"
   },
   {
    "duration": 12,
    "start_time": "2022-09-23T19:52:48.643Z"
   },
   {
    "duration": 17,
    "start_time": "2022-09-23T19:52:48.656Z"
   },
   {
    "duration": 4953,
    "start_time": "2022-09-23T19:52:48.674Z"
   },
   {
    "duration": 15,
    "start_time": "2022-09-23T19:52:53.628Z"
   },
   {
    "duration": 17,
    "start_time": "2022-09-23T19:52:53.644Z"
   },
   {
    "duration": 7,
    "start_time": "2022-09-23T19:52:53.663Z"
   },
   {
    "duration": 1585,
    "start_time": "2022-09-23T19:52:53.672Z"
   },
   {
    "duration": 6,
    "start_time": "2022-09-23T19:52:55.258Z"
   },
   {
    "duration": 11,
    "start_time": "2022-09-23T19:52:55.265Z"
   },
   {
    "duration": 4,
    "start_time": "2022-09-23T19:52:55.277Z"
   },
   {
    "duration": 7,
    "start_time": "2022-09-23T19:52:55.282Z"
   },
   {
    "duration": 34,
    "start_time": "2022-09-23T19:52:55.290Z"
   },
   {
    "duration": 19,
    "start_time": "2022-09-23T19:52:55.326Z"
   },
   {
    "duration": 13,
    "start_time": "2022-09-23T19:52:55.346Z"
   },
   {
    "duration": 33,
    "start_time": "2022-09-23T19:52:55.361Z"
   },
   {
    "duration": 30,
    "start_time": "2022-09-23T19:52:55.396Z"
   },
   {
    "duration": 7,
    "start_time": "2022-09-23T19:52:55.428Z"
   },
   {
    "duration": 27,
    "start_time": "2022-09-23T19:52:55.437Z"
   },
   {
    "duration": 82,
    "start_time": "2022-09-23T19:52:55.465Z"
   },
   {
    "duration": 27,
    "start_time": "2022-09-23T19:52:55.549Z"
   },
   {
    "duration": 1122,
    "start_time": "2022-09-23T20:00:20.297Z"
   },
   {
    "duration": 420,
    "start_time": "2022-09-23T20:00:21.421Z"
   },
   {
    "duration": 12,
    "start_time": "2022-09-23T20:00:21.843Z"
   },
   {
    "duration": 4,
    "start_time": "2022-09-23T20:00:21.857Z"
   },
   {
    "duration": 10,
    "start_time": "2022-09-23T20:00:21.862Z"
   },
   {
    "duration": 3,
    "start_time": "2022-09-23T20:00:21.874Z"
   },
   {
    "duration": 11,
    "start_time": "2022-09-23T20:00:21.878Z"
   },
   {
    "duration": 7,
    "start_time": "2022-09-23T20:00:21.891Z"
   },
   {
    "duration": 4657,
    "start_time": "2022-09-23T20:00:21.899Z"
   },
   {
    "duration": 10,
    "start_time": "2022-09-23T20:00:26.559Z"
   },
   {
    "duration": 15,
    "start_time": "2022-09-23T20:00:26.570Z"
   },
   {
    "duration": 4939,
    "start_time": "2022-09-23T20:00:26.586Z"
   },
   {
    "duration": 9,
    "start_time": "2022-09-23T20:00:31.527Z"
   },
   {
    "duration": 19,
    "start_time": "2022-09-23T20:00:31.538Z"
   },
   {
    "duration": 14,
    "start_time": "2022-09-23T20:00:31.559Z"
   },
   {
    "duration": 4585,
    "start_time": "2022-09-23T20:00:31.575Z"
   },
   {
    "duration": 15,
    "start_time": "2022-09-23T20:00:36.162Z"
   },
   {
    "duration": 7,
    "start_time": "2022-09-23T20:00:36.179Z"
   },
   {
    "duration": 4599,
    "start_time": "2022-09-23T20:00:36.188Z"
   },
   {
    "duration": 5,
    "start_time": "2022-09-23T20:00:40.788Z"
   },
   {
    "duration": 13,
    "start_time": "2022-09-23T20:00:40.795Z"
   },
   {
    "duration": 15,
    "start_time": "2022-09-23T20:00:40.810Z"
   },
   {
    "duration": 7,
    "start_time": "2022-09-23T20:00:40.826Z"
   },
   {
    "duration": 18,
    "start_time": "2022-09-23T20:00:40.834Z"
   },
   {
    "duration": 10,
    "start_time": "2022-09-23T20:00:40.854Z"
   },
   {
    "duration": 37,
    "start_time": "2022-09-23T20:00:40.865Z"
   },
   {
    "duration": 25,
    "start_time": "2022-09-23T20:00:40.903Z"
   },
   {
    "duration": 59,
    "start_time": "2022-09-23T20:00:40.931Z"
   },
   {
    "duration": 10,
    "start_time": "2022-09-23T20:00:40.992Z"
   },
   {
    "duration": 11,
    "start_time": "2022-09-23T20:00:41.004Z"
   },
   {
    "duration": 42,
    "start_time": "2022-09-23T20:00:41.016Z"
   },
   {
    "duration": 19,
    "start_time": "2022-09-23T20:00:41.060Z"
   },
   {
    "duration": 8,
    "start_time": "2022-09-23T20:00:41.081Z"
   },
   {
    "duration": 5089,
    "start_time": "2022-09-23T20:00:41.091Z"
   },
   {
    "duration": 5,
    "start_time": "2022-09-23T20:00:46.182Z"
   },
   {
    "duration": 12,
    "start_time": "2022-09-23T20:00:46.188Z"
   },
   {
    "duration": 4720,
    "start_time": "2022-09-23T20:00:46.201Z"
   },
   {
    "duration": 3,
    "start_time": "2022-09-23T20:00:50.923Z"
   },
   {
    "duration": 4675,
    "start_time": "2022-09-23T20:00:50.928Z"
   },
   {
    "duration": 12,
    "start_time": "2022-09-23T20:00:55.605Z"
   },
   {
    "duration": 10,
    "start_time": "2022-09-23T20:00:55.618Z"
   },
   {
    "duration": 20,
    "start_time": "2022-09-23T20:00:55.629Z"
   },
   {
    "duration": 10,
    "start_time": "2022-09-23T20:00:55.651Z"
   },
   {
    "duration": 7,
    "start_time": "2022-09-23T20:00:55.663Z"
   },
   {
    "duration": 8,
    "start_time": "2022-09-23T20:00:55.671Z"
   },
   {
    "duration": 5,
    "start_time": "2022-09-23T20:00:55.681Z"
   },
   {
    "duration": 35,
    "start_time": "2022-09-23T20:00:55.687Z"
   },
   {
    "duration": 4,
    "start_time": "2022-09-23T20:00:55.723Z"
   },
   {
    "duration": 7,
    "start_time": "2022-09-23T20:00:55.729Z"
   },
   {
    "duration": 6,
    "start_time": "2022-09-23T20:00:55.737Z"
   },
   {
    "duration": 4,
    "start_time": "2022-09-23T20:00:55.744Z"
   },
   {
    "duration": 4967,
    "start_time": "2022-09-23T20:00:55.749Z"
   },
   {
    "duration": 5,
    "start_time": "2022-09-23T20:01:00.718Z"
   },
   {
    "duration": 22,
    "start_time": "2022-09-23T20:01:00.724Z"
   },
   {
    "duration": 37,
    "start_time": "2022-09-23T20:01:00.748Z"
   },
   {
    "duration": 49,
    "start_time": "2022-09-23T20:01:00.786Z"
   },
   {
    "duration": 4994,
    "start_time": "2022-09-23T20:01:00.836Z"
   },
   {
    "duration": 21,
    "start_time": "2022-09-23T20:01:05.832Z"
   },
   {
    "duration": 13,
    "start_time": "2022-09-23T20:01:05.855Z"
   },
   {
    "duration": 16,
    "start_time": "2022-09-23T20:01:05.870Z"
   },
   {
    "duration": 1606,
    "start_time": "2022-09-23T20:01:05.887Z"
   },
   {
    "duration": 5,
    "start_time": "2022-09-23T20:01:07.495Z"
   },
   {
    "duration": 11,
    "start_time": "2022-09-23T20:01:07.501Z"
   },
   {
    "duration": 3,
    "start_time": "2022-09-23T20:01:07.522Z"
   },
   {
    "duration": 21,
    "start_time": "2022-09-23T20:01:07.526Z"
   },
   {
    "duration": 30,
    "start_time": "2022-09-23T20:01:07.549Z"
   },
   {
    "duration": 18,
    "start_time": "2022-09-23T20:01:07.581Z"
   },
   {
    "duration": 16,
    "start_time": "2022-09-23T20:01:07.601Z"
   },
   {
    "duration": 32,
    "start_time": "2022-09-23T20:01:07.618Z"
   },
   {
    "duration": 24,
    "start_time": "2022-09-23T20:01:07.651Z"
   },
   {
    "duration": 8,
    "start_time": "2022-09-23T20:01:07.677Z"
   },
   {
    "duration": 36,
    "start_time": "2022-09-23T20:01:07.686Z"
   },
   {
    "duration": 55,
    "start_time": "2022-09-23T20:01:07.723Z"
   },
   {
    "duration": 26,
    "start_time": "2022-09-23T20:01:07.780Z"
   },
   {
    "duration": 1404,
    "start_time": "2022-09-27T08:15:53.359Z"
   },
   {
    "duration": 492,
    "start_time": "2022-09-27T08:15:54.765Z"
   },
   {
    "duration": 13,
    "start_time": "2022-09-27T08:15:55.259Z"
   },
   {
    "duration": 6,
    "start_time": "2022-09-27T08:15:55.274Z"
   },
   {
    "duration": 31,
    "start_time": "2022-09-27T08:15:55.282Z"
   },
   {
    "duration": 9,
    "start_time": "2022-09-27T08:15:55.316Z"
   },
   {
    "duration": 16,
    "start_time": "2022-09-27T08:15:55.327Z"
   },
   {
    "duration": 13,
    "start_time": "2022-09-27T08:15:55.345Z"
   },
   {
    "duration": 5279,
    "start_time": "2022-09-27T08:15:55.359Z"
   },
   {
    "duration": 9,
    "start_time": "2022-09-27T08:16:00.640Z"
   },
   {
    "duration": 39,
    "start_time": "2022-09-27T08:16:00.650Z"
   },
   {
    "duration": 5428,
    "start_time": "2022-09-27T08:16:00.691Z"
   },
   {
    "duration": 14,
    "start_time": "2022-09-27T08:16:06.121Z"
   },
   {
    "duration": 8,
    "start_time": "2022-09-27T08:16:06.136Z"
   },
   {
    "duration": 14,
    "start_time": "2022-09-27T08:16:06.146Z"
   },
   {
    "duration": 5241,
    "start_time": "2022-09-27T08:16:06.162Z"
   },
   {
    "duration": 14,
    "start_time": "2022-09-27T08:16:11.405Z"
   },
   {
    "duration": 22,
    "start_time": "2022-09-27T08:16:11.421Z"
   },
   {
    "duration": 5324,
    "start_time": "2022-09-27T08:16:11.445Z"
   },
   {
    "duration": 4,
    "start_time": "2022-09-27T08:16:16.771Z"
   },
   {
    "duration": 34,
    "start_time": "2022-09-27T08:16:16.776Z"
   },
   {
    "duration": 40,
    "start_time": "2022-09-27T08:16:16.811Z"
   },
   {
    "duration": 28,
    "start_time": "2022-09-27T08:16:16.852Z"
   },
   {
    "duration": 39,
    "start_time": "2022-09-27T08:16:16.882Z"
   },
   {
    "duration": 28,
    "start_time": "2022-09-27T08:16:16.922Z"
   },
   {
    "duration": 45,
    "start_time": "2022-09-27T08:16:16.952Z"
   },
   {
    "duration": 30,
    "start_time": "2022-09-27T08:16:16.999Z"
   },
   {
    "duration": 59,
    "start_time": "2022-09-27T08:16:17.033Z"
   },
   {
    "duration": 12,
    "start_time": "2022-09-27T08:16:17.093Z"
   },
   {
    "duration": 25,
    "start_time": "2022-09-27T08:16:17.115Z"
   },
   {
    "duration": 28,
    "start_time": "2022-09-27T08:16:17.143Z"
   },
   {
    "duration": 58,
    "start_time": "2022-09-27T08:16:17.173Z"
   },
   {
    "duration": 5,
    "start_time": "2022-09-27T08:16:17.232Z"
   },
   {
    "duration": 5385,
    "start_time": "2022-09-27T08:16:17.239Z"
   },
   {
    "duration": 5,
    "start_time": "2022-09-27T08:16:22.631Z"
   },
   {
    "duration": 13,
    "start_time": "2022-09-27T08:16:22.638Z"
   },
   {
    "duration": 5420,
    "start_time": "2022-09-27T08:16:22.653Z"
   },
   {
    "duration": 3,
    "start_time": "2022-09-27T08:16:28.075Z"
   },
   {
    "duration": 5679,
    "start_time": "2022-09-27T08:16:28.079Z"
   },
   {
    "duration": 12,
    "start_time": "2022-09-27T08:16:33.760Z"
   },
   {
    "duration": 10,
    "start_time": "2022-09-27T08:16:33.774Z"
   },
   {
    "duration": 39,
    "start_time": "2022-09-27T08:16:33.786Z"
   },
   {
    "duration": 15,
    "start_time": "2022-09-27T08:16:33.826Z"
   },
   {
    "duration": 8,
    "start_time": "2022-09-27T08:16:33.843Z"
   },
   {
    "duration": 7,
    "start_time": "2022-09-27T08:16:33.853Z"
   },
   {
    "duration": 8,
    "start_time": "2022-09-27T08:16:33.861Z"
   },
   {
    "duration": 20,
    "start_time": "2022-09-27T08:16:33.870Z"
   },
   {
    "duration": 19,
    "start_time": "2022-09-27T08:16:33.891Z"
   },
   {
    "duration": 21,
    "start_time": "2022-09-27T08:16:33.918Z"
   },
   {
    "duration": 5,
    "start_time": "2022-09-27T08:16:33.941Z"
   },
   {
    "duration": 5,
    "start_time": "2022-09-27T08:16:33.948Z"
   },
   {
    "duration": 5742,
    "start_time": "2022-09-27T08:16:33.954Z"
   },
   {
    "duration": 11,
    "start_time": "2022-09-27T08:16:39.698Z"
   },
   {
    "duration": 25,
    "start_time": "2022-09-27T08:16:39.711Z"
   },
   {
    "duration": 10,
    "start_time": "2022-09-27T08:16:39.737Z"
   },
   {
    "duration": 17,
    "start_time": "2022-09-27T08:16:39.748Z"
   },
   {
    "duration": 6243,
    "start_time": "2022-09-27T08:16:39.767Z"
   },
   {
    "duration": 28,
    "start_time": "2022-09-27T08:16:46.011Z"
   },
   {
    "duration": 6,
    "start_time": "2022-09-27T08:16:46.042Z"
   },
   {
    "duration": 17,
    "start_time": "2022-09-27T08:16:46.049Z"
   },
   {
    "duration": 1940,
    "start_time": "2022-09-27T08:16:46.068Z"
   },
   {
    "duration": 17,
    "start_time": "2022-09-27T08:16:48.012Z"
   },
   {
    "duration": 17,
    "start_time": "2022-09-27T08:16:48.031Z"
   },
   {
    "duration": 6,
    "start_time": "2022-09-27T08:16:48.050Z"
   },
   {
    "duration": 11,
    "start_time": "2022-09-27T08:16:48.058Z"
   },
   {
    "duration": 42,
    "start_time": "2022-09-27T08:16:48.070Z"
   },
   {
    "duration": 18,
    "start_time": "2022-09-27T08:16:48.117Z"
   },
   {
    "duration": 21,
    "start_time": "2022-09-27T08:16:48.138Z"
   },
   {
    "duration": 30,
    "start_time": "2022-09-27T08:16:48.161Z"
   },
   {
    "duration": 35,
    "start_time": "2022-09-27T08:16:48.193Z"
   },
   {
    "duration": 19,
    "start_time": "2022-09-27T08:16:48.236Z"
   },
   {
    "duration": 24,
    "start_time": "2022-09-27T08:16:48.257Z"
   },
   {
    "duration": 83,
    "start_time": "2022-09-27T08:16:48.283Z"
   },
   {
    "duration": 1379,
    "start_time": "2022-09-28T12:11:17.252Z"
   },
   {
    "duration": 425,
    "start_time": "2022-09-28T12:11:18.633Z"
   },
   {
    "duration": 16,
    "start_time": "2022-09-28T12:11:19.060Z"
   },
   {
    "duration": 3,
    "start_time": "2022-09-28T12:11:19.078Z"
   },
   {
    "duration": 24,
    "start_time": "2022-09-28T12:11:19.083Z"
   },
   {
    "duration": 3,
    "start_time": "2022-09-28T12:11:19.109Z"
   },
   {
    "duration": 6,
    "start_time": "2022-09-28T12:11:19.114Z"
   },
   {
    "duration": 9,
    "start_time": "2022-09-28T12:11:19.122Z"
   },
   {
    "duration": 4553,
    "start_time": "2022-09-28T12:11:19.132Z"
   },
   {
    "duration": 8,
    "start_time": "2022-09-28T12:11:23.687Z"
   },
   {
    "duration": 10,
    "start_time": "2022-09-28T12:11:23.696Z"
   },
   {
    "duration": 4703,
    "start_time": "2022-09-28T12:11:23.708Z"
   },
   {
    "duration": 9,
    "start_time": "2022-09-28T12:11:28.413Z"
   },
   {
    "duration": 8,
    "start_time": "2022-09-28T12:11:28.424Z"
   },
   {
    "duration": 12,
    "start_time": "2022-09-28T12:11:28.433Z"
   },
   {
    "duration": 4911,
    "start_time": "2022-09-28T12:11:28.447Z"
   },
   {
    "duration": 11,
    "start_time": "2022-09-28T12:11:33.360Z"
   },
   {
    "duration": 5,
    "start_time": "2022-09-28T12:11:33.372Z"
   },
   {
    "duration": 4511,
    "start_time": "2022-09-28T12:11:33.379Z"
   },
   {
    "duration": 4,
    "start_time": "2022-09-28T12:11:37.891Z"
   },
   {
    "duration": 10,
    "start_time": "2022-09-28T12:11:37.896Z"
   },
   {
    "duration": 14,
    "start_time": "2022-09-28T12:11:37.907Z"
   },
   {
    "duration": 5,
    "start_time": "2022-09-28T12:11:37.923Z"
   },
   {
    "duration": 17,
    "start_time": "2022-09-28T12:11:37.930Z"
   },
   {
    "duration": 6,
    "start_time": "2022-09-28T12:11:37.948Z"
   },
   {
    "duration": 50,
    "start_time": "2022-09-28T12:11:37.955Z"
   },
   {
    "duration": 29,
    "start_time": "2022-09-28T12:11:38.007Z"
   },
   {
    "duration": 56,
    "start_time": "2022-09-28T12:11:38.038Z"
   },
   {
    "duration": 9,
    "start_time": "2022-09-28T12:11:38.096Z"
   },
   {
    "duration": 6,
    "start_time": "2022-09-28T12:11:38.107Z"
   },
   {
    "duration": 16,
    "start_time": "2022-09-28T12:11:38.114Z"
   },
   {
    "duration": 7,
    "start_time": "2022-09-28T12:11:38.132Z"
   },
   {
    "duration": 4,
    "start_time": "2022-09-28T12:11:38.141Z"
   },
   {
    "duration": 4702,
    "start_time": "2022-09-28T12:11:38.146Z"
   },
   {
    "duration": 3,
    "start_time": "2022-09-28T12:11:42.850Z"
   },
   {
    "duration": 8,
    "start_time": "2022-09-28T12:11:42.855Z"
   },
   {
    "duration": 4491,
    "start_time": "2022-09-28T12:11:42.864Z"
   },
   {
    "duration": 2,
    "start_time": "2022-09-28T12:11:47.357Z"
   },
   {
    "duration": 4697,
    "start_time": "2022-09-28T12:11:47.361Z"
   },
   {
    "duration": 12,
    "start_time": "2022-09-28T12:11:52.059Z"
   },
   {
    "duration": 17,
    "start_time": "2022-09-28T12:11:52.076Z"
   },
   {
    "duration": 26,
    "start_time": "2022-09-28T12:11:52.095Z"
   },
   {
    "duration": 15,
    "start_time": "2022-09-28T12:11:52.122Z"
   },
   {
    "duration": 24,
    "start_time": "2022-09-28T12:11:52.138Z"
   },
   {
    "duration": 27,
    "start_time": "2022-09-28T12:11:52.164Z"
   },
   {
    "duration": 20,
    "start_time": "2022-09-28T12:11:52.193Z"
   },
   {
    "duration": 23,
    "start_time": "2022-09-28T12:11:52.214Z"
   },
   {
    "duration": 22,
    "start_time": "2022-09-28T12:11:52.239Z"
   },
   {
    "duration": 17,
    "start_time": "2022-09-28T12:11:52.263Z"
   },
   {
    "duration": 20,
    "start_time": "2022-09-28T12:11:52.281Z"
   },
   {
    "duration": 18,
    "start_time": "2022-09-28T12:11:52.303Z"
   },
   {
    "duration": 4636,
    "start_time": "2022-09-28T12:11:52.323Z"
   },
   {
    "duration": 4,
    "start_time": "2022-09-28T12:11:56.960Z"
   },
   {
    "duration": 6,
    "start_time": "2022-09-28T12:11:56.965Z"
   },
   {
    "duration": 10,
    "start_time": "2022-09-28T12:11:56.972Z"
   },
   {
    "duration": 23,
    "start_time": "2022-09-28T12:11:56.983Z"
   },
   {
    "duration": 4865,
    "start_time": "2022-09-28T12:11:57.007Z"
   },
   {
    "duration": 26,
    "start_time": "2022-09-28T12:12:01.874Z"
   },
   {
    "duration": 5,
    "start_time": "2022-09-28T12:12:01.905Z"
   },
   {
    "duration": 10,
    "start_time": "2022-09-28T12:12:01.911Z"
   },
   {
    "duration": 1556,
    "start_time": "2022-09-28T12:12:01.922Z"
   },
   {
    "duration": 5,
    "start_time": "2022-09-28T12:12:03.479Z"
   },
   {
    "duration": 11,
    "start_time": "2022-09-28T12:12:03.485Z"
   },
   {
    "duration": 3,
    "start_time": "2022-09-28T12:12:03.506Z"
   },
   {
    "duration": 8,
    "start_time": "2022-09-28T12:12:03.510Z"
   },
   {
    "duration": 24,
    "start_time": "2022-09-28T12:12:03.520Z"
   },
   {
    "duration": 9,
    "start_time": "2022-09-28T12:12:03.546Z"
   },
   {
    "duration": 9,
    "start_time": "2022-09-28T12:12:03.556Z"
   },
   {
    "duration": 38,
    "start_time": "2022-09-28T12:12:03.567Z"
   },
   {
    "duration": 23,
    "start_time": "2022-09-28T12:12:03.607Z"
   },
   {
    "duration": 10,
    "start_time": "2022-09-28T12:12:03.631Z"
   },
   {
    "duration": 20,
    "start_time": "2022-09-28T12:12:03.643Z"
   },
   {
    "duration": 68,
    "start_time": "2022-09-28T12:12:03.664Z"
   },
   {
    "duration": 1101,
    "start_time": "2022-09-28T12:16:06.715Z"
   },
   {
    "duration": 316,
    "start_time": "2022-09-28T12:16:07.818Z"
   },
   {
    "duration": 13,
    "start_time": "2022-09-28T12:16:08.135Z"
   },
   {
    "duration": 4,
    "start_time": "2022-09-28T12:16:08.150Z"
   },
   {
    "duration": 8,
    "start_time": "2022-09-28T12:16:08.156Z"
   },
   {
    "duration": 3,
    "start_time": "2022-09-28T12:16:08.166Z"
   },
   {
    "duration": 7,
    "start_time": "2022-09-28T12:16:08.170Z"
   },
   {
    "duration": 29,
    "start_time": "2022-09-28T12:16:08.178Z"
   },
   {
    "duration": 4586,
    "start_time": "2022-09-28T12:16:08.209Z"
   },
   {
    "duration": 11,
    "start_time": "2022-09-28T12:16:12.796Z"
   },
   {
    "duration": 10,
    "start_time": "2022-09-28T12:16:12.809Z"
   },
   {
    "duration": 4624,
    "start_time": "2022-09-28T12:16:12.821Z"
   },
   {
    "duration": 9,
    "start_time": "2022-09-28T12:16:17.447Z"
   },
   {
    "duration": 6,
    "start_time": "2022-09-28T12:16:17.459Z"
   },
   {
    "duration": 12,
    "start_time": "2022-09-28T12:16:17.466Z"
   },
   {
    "duration": 4633,
    "start_time": "2022-09-28T12:16:17.480Z"
   },
   {
    "duration": 13,
    "start_time": "2022-09-28T12:16:22.115Z"
   },
   {
    "duration": 2,
    "start_time": "2022-09-28T12:16:22.129Z"
   },
   {
    "duration": 4468,
    "start_time": "2022-09-28T12:16:22.133Z"
   },
   {
    "duration": 4,
    "start_time": "2022-09-28T12:16:26.604Z"
   },
   {
    "duration": 17,
    "start_time": "2022-09-28T12:16:26.609Z"
   },
   {
    "duration": 21,
    "start_time": "2022-09-28T12:16:26.628Z"
   },
   {
    "duration": 13,
    "start_time": "2022-09-28T12:16:26.651Z"
   },
   {
    "duration": 31,
    "start_time": "2022-09-28T12:16:26.665Z"
   },
   {
    "duration": 20,
    "start_time": "2022-09-28T12:16:26.698Z"
   },
   {
    "duration": 38,
    "start_time": "2022-09-28T12:16:26.719Z"
   },
   {
    "duration": 20,
    "start_time": "2022-09-28T12:16:26.758Z"
   },
   {
    "duration": 82,
    "start_time": "2022-09-28T12:16:26.780Z"
   },
   {
    "duration": 10,
    "start_time": "2022-09-28T12:16:26.863Z"
   },
   {
    "duration": 5,
    "start_time": "2022-09-28T12:16:26.874Z"
   },
   {
    "duration": 15,
    "start_time": "2022-09-28T12:16:26.881Z"
   },
   {
    "duration": 5,
    "start_time": "2022-09-28T12:16:26.898Z"
   },
   {
    "duration": 4,
    "start_time": "2022-09-28T12:16:26.905Z"
   },
   {
    "duration": 4838,
    "start_time": "2022-09-28T12:16:26.910Z"
   },
   {
    "duration": 4,
    "start_time": "2022-09-28T12:16:31.749Z"
   },
   {
    "duration": 6,
    "start_time": "2022-09-28T12:16:31.754Z"
   },
   {
    "duration": 4552,
    "start_time": "2022-09-28T12:16:31.761Z"
   },
   {
    "duration": 3,
    "start_time": "2022-09-28T12:16:36.315Z"
   },
   {
    "duration": 4562,
    "start_time": "2022-09-28T12:16:36.319Z"
   },
   {
    "duration": 11,
    "start_time": "2022-09-28T12:16:40.882Z"
   },
   {
    "duration": 8,
    "start_time": "2022-09-28T12:16:40.897Z"
   },
   {
    "duration": 14,
    "start_time": "2022-09-28T12:16:40.907Z"
   },
   {
    "duration": 9,
    "start_time": "2022-09-28T12:16:40.923Z"
   },
   {
    "duration": 11,
    "start_time": "2022-09-28T12:16:40.933Z"
   },
   {
    "duration": 8,
    "start_time": "2022-09-28T12:16:40.945Z"
   },
   {
    "duration": 8,
    "start_time": "2022-09-28T12:16:40.955Z"
   },
   {
    "duration": 7,
    "start_time": "2022-09-28T12:16:40.964Z"
   },
   {
    "duration": 7,
    "start_time": "2022-09-28T12:16:40.972Z"
   },
   {
    "duration": 7,
    "start_time": "2022-09-28T12:16:40.980Z"
   },
   {
    "duration": 16,
    "start_time": "2022-09-28T12:16:40.989Z"
   },
   {
    "duration": 4,
    "start_time": "2022-09-28T12:16:41.007Z"
   },
   {
    "duration": 4492,
    "start_time": "2022-09-28T12:16:41.013Z"
   },
   {
    "duration": 5,
    "start_time": "2022-09-28T12:16:45.506Z"
   },
   {
    "duration": 5,
    "start_time": "2022-09-28T12:16:45.513Z"
   },
   {
    "duration": 8,
    "start_time": "2022-09-28T12:16:45.519Z"
   },
   {
    "duration": 15,
    "start_time": "2022-09-28T12:16:45.528Z"
   },
   {
    "duration": 4896,
    "start_time": "2022-09-28T12:16:45.544Z"
   },
   {
    "duration": 14,
    "start_time": "2022-09-28T12:16:50.441Z"
   },
   {
    "duration": 7,
    "start_time": "2022-09-28T12:16:50.457Z"
   },
   {
    "duration": 9,
    "start_time": "2022-09-28T12:16:50.465Z"
   },
   {
    "duration": 1497,
    "start_time": "2022-09-28T12:16:50.476Z"
   },
   {
    "duration": 5,
    "start_time": "2022-09-28T12:16:51.974Z"
   },
   {
    "duration": 8,
    "start_time": "2022-09-28T12:16:51.981Z"
   },
   {
    "duration": 15,
    "start_time": "2022-09-28T12:16:51.990Z"
   },
   {
    "duration": 11,
    "start_time": "2022-09-28T12:16:52.007Z"
   },
   {
    "duration": 23,
    "start_time": "2022-09-28T12:16:52.020Z"
   },
   {
    "duration": 9,
    "start_time": "2022-09-28T12:16:52.045Z"
   },
   {
    "duration": 11,
    "start_time": "2022-09-28T12:16:52.055Z"
   },
   {
    "duration": 40,
    "start_time": "2022-09-28T12:16:52.067Z"
   },
   {
    "duration": 27,
    "start_time": "2022-09-28T12:16:52.108Z"
   },
   {
    "duration": 7,
    "start_time": "2022-09-28T12:16:52.136Z"
   },
   {
    "duration": 22,
    "start_time": "2022-09-28T12:16:52.145Z"
   },
   {
    "duration": 70,
    "start_time": "2022-09-28T12:16:52.169Z"
   },
   {
    "duration": 1373,
    "start_time": "2022-09-28T12:20:02.212Z"
   },
   {
    "duration": 400,
    "start_time": "2022-09-28T12:20:03.587Z"
   },
   {
    "duration": 17,
    "start_time": "2022-09-28T12:20:03.989Z"
   },
   {
    "duration": 5,
    "start_time": "2022-09-28T12:20:04.007Z"
   },
   {
    "duration": 14,
    "start_time": "2022-09-28T12:20:04.014Z"
   },
   {
    "duration": 4,
    "start_time": "2022-09-28T12:20:04.030Z"
   },
   {
    "duration": 13,
    "start_time": "2022-09-28T12:20:04.035Z"
   },
   {
    "duration": 5,
    "start_time": "2022-09-28T12:20:04.049Z"
   },
   {
    "duration": 4793,
    "start_time": "2022-09-28T12:20:04.056Z"
   },
   {
    "duration": 8,
    "start_time": "2022-09-28T12:20:08.851Z"
   },
   {
    "duration": 6,
    "start_time": "2022-09-28T12:20:08.860Z"
   },
   {
    "duration": 4981,
    "start_time": "2022-09-28T12:20:08.867Z"
   },
   {
    "duration": 10,
    "start_time": "2022-09-28T12:20:13.849Z"
   },
   {
    "duration": 15,
    "start_time": "2022-09-28T12:20:13.861Z"
   },
   {
    "duration": 31,
    "start_time": "2022-09-28T12:20:13.878Z"
   },
   {
    "duration": 4821,
    "start_time": "2022-09-28T12:20:13.910Z"
   },
   {
    "duration": 13,
    "start_time": "2022-09-28T12:20:18.732Z"
   },
   {
    "duration": 10,
    "start_time": "2022-09-28T12:20:18.746Z"
   },
   {
    "duration": 4745,
    "start_time": "2022-09-28T12:20:18.757Z"
   },
   {
    "duration": 3,
    "start_time": "2022-09-28T12:20:23.503Z"
   },
   {
    "duration": 7,
    "start_time": "2022-09-28T12:20:23.507Z"
   },
   {
    "duration": 10,
    "start_time": "2022-09-28T12:20:23.516Z"
   },
   {
    "duration": 3,
    "start_time": "2022-09-28T12:20:23.528Z"
   },
   {
    "duration": 12,
    "start_time": "2022-09-28T12:20:23.533Z"
   },
   {
    "duration": 6,
    "start_time": "2022-09-28T12:20:23.547Z"
   },
   {
    "duration": 27,
    "start_time": "2022-09-28T12:20:23.554Z"
   },
   {
    "duration": 40,
    "start_time": "2022-09-28T12:20:23.583Z"
   },
   {
    "duration": 111,
    "start_time": "2022-09-28T12:20:23.624Z"
   },
   {
    "duration": 8,
    "start_time": "2022-09-28T12:20:23.737Z"
   },
   {
    "duration": 6,
    "start_time": "2022-09-28T12:20:23.747Z"
   },
   {
    "duration": 16,
    "start_time": "2022-09-28T12:20:23.755Z"
   },
   {
    "duration": 10,
    "start_time": "2022-09-28T12:20:23.772Z"
   },
   {
    "duration": 5,
    "start_time": "2022-09-28T12:20:23.783Z"
   },
   {
    "duration": 4896,
    "start_time": "2022-09-28T12:20:23.789Z"
   },
   {
    "duration": 5,
    "start_time": "2022-09-28T12:20:28.686Z"
   },
   {
    "duration": 15,
    "start_time": "2022-09-28T12:20:28.693Z"
   },
   {
    "duration": 4968,
    "start_time": "2022-09-28T12:20:28.709Z"
   },
   {
    "duration": 3,
    "start_time": "2022-09-28T12:20:33.678Z"
   },
   {
    "duration": 4924,
    "start_time": "2022-09-28T12:20:33.683Z"
   },
   {
    "duration": 11,
    "start_time": "2022-09-28T12:20:38.608Z"
   },
   {
    "duration": 4,
    "start_time": "2022-09-28T12:20:38.623Z"
   },
   {
    "duration": 16,
    "start_time": "2022-09-28T12:20:38.628Z"
   },
   {
    "duration": 7,
    "start_time": "2022-09-28T12:20:38.646Z"
   },
   {
    "duration": 6,
    "start_time": "2022-09-28T12:20:38.655Z"
   },
   {
    "duration": 7,
    "start_time": "2022-09-28T12:20:38.662Z"
   },
   {
    "duration": 6,
    "start_time": "2022-09-28T12:20:38.670Z"
   },
   {
    "duration": 29,
    "start_time": "2022-09-28T12:20:38.677Z"
   },
   {
    "duration": 6,
    "start_time": "2022-09-28T12:20:38.707Z"
   },
   {
    "duration": 6,
    "start_time": "2022-09-28T12:20:38.715Z"
   },
   {
    "duration": 4,
    "start_time": "2022-09-28T12:20:38.722Z"
   },
   {
    "duration": 5,
    "start_time": "2022-09-28T12:20:38.728Z"
   },
   {
    "duration": 4932,
    "start_time": "2022-09-28T12:20:38.734Z"
   },
   {
    "duration": 4,
    "start_time": "2022-09-28T12:20:43.667Z"
   },
   {
    "duration": 5,
    "start_time": "2022-09-28T12:20:43.673Z"
   },
   {
    "duration": 14,
    "start_time": "2022-09-28T12:20:43.679Z"
   },
   {
    "duration": 17,
    "start_time": "2022-09-28T12:20:43.695Z"
   },
   {
    "duration": 5078,
    "start_time": "2022-09-28T12:20:43.713Z"
   },
   {
    "duration": 18,
    "start_time": "2022-09-28T12:20:48.792Z"
   },
   {
    "duration": 6,
    "start_time": "2022-09-28T12:20:48.812Z"
   },
   {
    "duration": 6,
    "start_time": "2022-09-28T12:20:48.819Z"
   },
   {
    "duration": 1506,
    "start_time": "2022-09-28T12:20:48.827Z"
   },
   {
    "duration": 6,
    "start_time": "2022-09-28T12:20:50.335Z"
   },
   {
    "duration": 9,
    "start_time": "2022-09-28T12:20:50.342Z"
   },
   {
    "duration": 5,
    "start_time": "2022-09-28T12:20:50.352Z"
   },
   {
    "duration": 7,
    "start_time": "2022-09-28T12:20:50.358Z"
   },
   {
    "duration": 21,
    "start_time": "2022-09-28T12:20:50.367Z"
   },
   {
    "duration": 22,
    "start_time": "2022-09-28T12:20:50.389Z"
   },
   {
    "duration": 7,
    "start_time": "2022-09-28T12:20:50.412Z"
   },
   {
    "duration": 27,
    "start_time": "2022-09-28T12:20:50.420Z"
   },
   {
    "duration": 25,
    "start_time": "2022-09-28T12:20:50.448Z"
   },
   {
    "duration": 35,
    "start_time": "2022-09-28T12:20:50.475Z"
   },
   {
    "duration": 22,
    "start_time": "2022-09-28T12:20:50.512Z"
   },
   {
    "duration": 76,
    "start_time": "2022-09-28T12:20:50.536Z"
   },
   {
    "duration": 87,
    "start_time": "2022-09-28T12:21:03.676Z"
   },
   {
    "duration": 1081,
    "start_time": "2022-09-28T12:23:05.010Z"
   },
   {
    "duration": 272,
    "start_time": "2022-09-28T12:23:06.093Z"
   },
   {
    "duration": 12,
    "start_time": "2022-09-28T12:23:06.367Z"
   },
   {
    "duration": 4,
    "start_time": "2022-09-28T12:23:06.381Z"
   },
   {
    "duration": 20,
    "start_time": "2022-09-28T12:23:06.386Z"
   },
   {
    "duration": 3,
    "start_time": "2022-09-28T12:23:06.408Z"
   },
   {
    "duration": 9,
    "start_time": "2022-09-28T12:23:06.413Z"
   },
   {
    "duration": 9,
    "start_time": "2022-09-28T12:23:06.423Z"
   },
   {
    "duration": 4610,
    "start_time": "2022-09-28T12:23:06.433Z"
   },
   {
    "duration": 8,
    "start_time": "2022-09-28T12:23:11.045Z"
   },
   {
    "duration": 5,
    "start_time": "2022-09-28T12:23:11.055Z"
   },
   {
    "duration": 4629,
    "start_time": "2022-09-28T12:23:11.062Z"
   },
   {
    "duration": 14,
    "start_time": "2022-09-28T12:23:15.692Z"
   },
   {
    "duration": 14,
    "start_time": "2022-09-28T12:23:15.708Z"
   },
   {
    "duration": 19,
    "start_time": "2022-09-28T12:23:15.723Z"
   },
   {
    "duration": 4573,
    "start_time": "2022-09-28T12:23:15.743Z"
   },
   {
    "duration": 13,
    "start_time": "2022-09-28T12:23:20.317Z"
   },
   {
    "duration": 5,
    "start_time": "2022-09-28T12:23:20.331Z"
   },
   {
    "duration": 4525,
    "start_time": "2022-09-28T12:23:20.337Z"
   },
   {
    "duration": 4,
    "start_time": "2022-09-28T12:23:24.864Z"
   },
   {
    "duration": 6,
    "start_time": "2022-09-28T12:23:24.869Z"
   },
   {
    "duration": 10,
    "start_time": "2022-09-28T12:23:24.877Z"
   },
   {
    "duration": 16,
    "start_time": "2022-09-28T12:23:24.889Z"
   },
   {
    "duration": 14,
    "start_time": "2022-09-28T12:23:24.907Z"
   },
   {
    "duration": 8,
    "start_time": "2022-09-28T12:23:24.923Z"
   },
   {
    "duration": 50,
    "start_time": "2022-09-28T12:23:24.932Z"
   },
   {
    "duration": 25,
    "start_time": "2022-09-28T12:23:24.984Z"
   },
   {
    "duration": 59,
    "start_time": "2022-09-28T12:23:25.013Z"
   },
   {
    "duration": 10,
    "start_time": "2022-09-28T12:23:25.073Z"
   },
   {
    "duration": 8,
    "start_time": "2022-09-28T12:23:25.085Z"
   },
   {
    "duration": 19,
    "start_time": "2022-09-28T12:23:25.095Z"
   },
   {
    "duration": 8,
    "start_time": "2022-09-28T12:23:25.115Z"
   },
   {
    "duration": 18,
    "start_time": "2022-09-28T12:23:25.125Z"
   },
   {
    "duration": 5046,
    "start_time": "2022-09-28T12:23:25.145Z"
   },
   {
    "duration": 3,
    "start_time": "2022-09-28T12:23:30.193Z"
   },
   {
    "duration": 10,
    "start_time": "2022-09-28T12:23:30.198Z"
   },
   {
    "duration": 4649,
    "start_time": "2022-09-28T12:23:30.209Z"
   },
   {
    "duration": 3,
    "start_time": "2022-09-28T12:23:34.859Z"
   },
   {
    "duration": 4717,
    "start_time": "2022-09-28T12:23:34.863Z"
   },
   {
    "duration": 11,
    "start_time": "2022-09-28T12:23:39.581Z"
   },
   {
    "duration": 13,
    "start_time": "2022-09-28T12:23:39.593Z"
   },
   {
    "duration": 18,
    "start_time": "2022-09-28T12:23:39.607Z"
   },
   {
    "duration": 12,
    "start_time": "2022-09-28T12:23:39.627Z"
   },
   {
    "duration": 12,
    "start_time": "2022-09-28T12:23:39.640Z"
   },
   {
    "duration": 9,
    "start_time": "2022-09-28T12:23:39.653Z"
   },
   {
    "duration": 6,
    "start_time": "2022-09-28T12:23:39.663Z"
   },
   {
    "duration": 8,
    "start_time": "2022-09-28T12:23:39.670Z"
   },
   {
    "duration": 7,
    "start_time": "2022-09-28T12:23:39.679Z"
   },
   {
    "duration": 7,
    "start_time": "2022-09-28T12:23:39.687Z"
   },
   {
    "duration": 9,
    "start_time": "2022-09-28T12:23:39.696Z"
   },
   {
    "duration": 3,
    "start_time": "2022-09-28T12:23:39.706Z"
   },
   {
    "duration": 4529,
    "start_time": "2022-09-28T12:23:39.710Z"
   },
   {
    "duration": 5,
    "start_time": "2022-09-28T12:23:44.240Z"
   },
   {
    "duration": 10,
    "start_time": "2022-09-28T12:23:44.249Z"
   },
   {
    "duration": 8,
    "start_time": "2022-09-28T12:23:44.262Z"
   },
   {
    "duration": 17,
    "start_time": "2022-09-28T12:23:44.271Z"
   },
   {
    "duration": 4890,
    "start_time": "2022-09-28T12:23:44.290Z"
   },
   {
    "duration": 14,
    "start_time": "2022-09-28T12:23:49.182Z"
   },
   {
    "duration": 9,
    "start_time": "2022-09-28T12:23:49.197Z"
   },
   {
    "duration": 12,
    "start_time": "2022-09-28T12:23:49.207Z"
   },
   {
    "duration": 1513,
    "start_time": "2022-09-28T12:23:49.220Z"
   },
   {
    "duration": 5,
    "start_time": "2022-09-28T12:23:50.734Z"
   },
   {
    "duration": 8,
    "start_time": "2022-09-28T12:23:50.741Z"
   },
   {
    "duration": 13,
    "start_time": "2022-09-28T12:23:50.751Z"
   },
   {
    "duration": 7,
    "start_time": "2022-09-28T12:23:50.765Z"
   },
   {
    "duration": 22,
    "start_time": "2022-09-28T12:23:50.773Z"
   },
   {
    "duration": 14,
    "start_time": "2022-09-28T12:23:50.797Z"
   },
   {
    "duration": 11,
    "start_time": "2022-09-28T12:23:50.812Z"
   },
   {
    "duration": 26,
    "start_time": "2022-09-28T12:23:50.824Z"
   },
   {
    "duration": 22,
    "start_time": "2022-09-28T12:23:50.852Z"
   },
   {
    "duration": 8,
    "start_time": "2022-09-28T12:23:50.876Z"
   },
   {
    "duration": 37,
    "start_time": "2022-09-28T12:23:50.885Z"
   },
   {
    "duration": 74,
    "start_time": "2022-09-28T12:23:50.923Z"
   },
   {
    "duration": 1481,
    "start_time": "2022-09-30T12:42:17.027Z"
   },
   {
    "duration": 495,
    "start_time": "2022-09-30T12:42:18.512Z"
   },
   {
    "duration": 18,
    "start_time": "2022-09-30T12:42:19.011Z"
   },
   {
    "duration": 11,
    "start_time": "2022-09-30T12:42:19.032Z"
   },
   {
    "duration": 21,
    "start_time": "2022-09-30T12:42:19.045Z"
   },
   {
    "duration": 5,
    "start_time": "2022-09-30T12:42:19.069Z"
   },
   {
    "duration": 40,
    "start_time": "2022-09-30T12:42:19.077Z"
   },
   {
    "duration": 15,
    "start_time": "2022-09-30T12:42:19.119Z"
   },
   {
    "duration": 6096,
    "start_time": "2022-09-30T12:42:19.136Z"
   },
   {
    "duration": 10,
    "start_time": "2022-09-30T12:42:25.235Z"
   },
   {
    "duration": 10,
    "start_time": "2022-09-30T12:42:25.247Z"
   },
   {
    "duration": 6021,
    "start_time": "2022-09-30T12:42:25.259Z"
   },
   {
    "duration": 26,
    "start_time": "2022-09-30T12:42:31.282Z"
   },
   {
    "duration": 12,
    "start_time": "2022-09-30T12:42:31.310Z"
   },
   {
    "duration": 18,
    "start_time": "2022-09-30T12:42:31.324Z"
   },
   {
    "duration": 6013,
    "start_time": "2022-09-30T12:42:31.344Z"
   },
   {
    "duration": 14,
    "start_time": "2022-09-30T12:42:37.359Z"
   },
   {
    "duration": 10,
    "start_time": "2022-09-30T12:42:37.375Z"
   },
   {
    "duration": 6131,
    "start_time": "2022-09-30T12:42:37.387Z"
   },
   {
    "duration": 4,
    "start_time": "2022-09-30T12:42:43.520Z"
   },
   {
    "duration": 7,
    "start_time": "2022-09-30T12:42:43.526Z"
   },
   {
    "duration": 13,
    "start_time": "2022-09-30T12:42:43.535Z"
   },
   {
    "duration": 11,
    "start_time": "2022-09-30T12:42:43.549Z"
   },
   {
    "duration": 35,
    "start_time": "2022-09-30T12:42:43.562Z"
   },
   {
    "duration": 23,
    "start_time": "2022-09-30T12:42:43.603Z"
   },
   {
    "duration": 35,
    "start_time": "2022-09-30T12:42:43.629Z"
   },
   {
    "duration": 25,
    "start_time": "2022-09-30T12:42:43.666Z"
   },
   {
    "duration": 129,
    "start_time": "2022-09-30T12:42:43.704Z"
   },
   {
    "duration": 12,
    "start_time": "2022-09-30T12:42:43.835Z"
   },
   {
    "duration": 13,
    "start_time": "2022-09-30T12:42:43.848Z"
   },
   {
    "duration": 36,
    "start_time": "2022-09-30T12:42:43.863Z"
   },
   {
    "duration": 12,
    "start_time": "2022-09-30T12:42:43.909Z"
   },
   {
    "duration": 8,
    "start_time": "2022-09-30T12:42:43.924Z"
   },
   {
    "duration": 6084,
    "start_time": "2022-09-30T12:42:43.935Z"
   },
   {
    "duration": 4,
    "start_time": "2022-09-30T12:42:50.021Z"
   },
   {
    "duration": 11,
    "start_time": "2022-09-30T12:42:50.027Z"
   },
   {
    "duration": 5968,
    "start_time": "2022-09-30T12:42:50.040Z"
   },
   {
    "duration": 5,
    "start_time": "2022-09-30T12:42:56.009Z"
   },
   {
    "duration": 6107,
    "start_time": "2022-09-30T12:42:56.016Z"
   },
   {
    "duration": 14,
    "start_time": "2022-09-30T12:43:02.125Z"
   },
   {
    "duration": 9,
    "start_time": "2022-09-30T12:43:02.141Z"
   },
   {
    "duration": 21,
    "start_time": "2022-09-30T12:43:02.152Z"
   },
   {
    "duration": 36,
    "start_time": "2022-09-30T12:43:02.175Z"
   },
   {
    "duration": 17,
    "start_time": "2022-09-30T12:43:02.212Z"
   },
   {
    "duration": 13,
    "start_time": "2022-09-30T12:43:02.231Z"
   },
   {
    "duration": 8,
    "start_time": "2022-09-30T12:43:02.246Z"
   },
   {
    "duration": 14,
    "start_time": "2022-09-30T12:43:02.257Z"
   },
   {
    "duration": 8,
    "start_time": "2022-09-30T12:43:02.273Z"
   },
   {
    "duration": 15,
    "start_time": "2022-09-30T12:43:02.283Z"
   },
   {
    "duration": 8,
    "start_time": "2022-09-30T12:43:02.300Z"
   },
   {
    "duration": 14,
    "start_time": "2022-09-30T12:43:02.310Z"
   },
   {
    "duration": 6146,
    "start_time": "2022-09-30T12:43:02.326Z"
   },
   {
    "duration": 5,
    "start_time": "2022-09-30T12:43:08.474Z"
   },
   {
    "duration": 24,
    "start_time": "2022-09-30T12:43:08.480Z"
   },
   {
    "duration": 21,
    "start_time": "2022-09-30T12:43:08.505Z"
   },
   {
    "duration": 20,
    "start_time": "2022-09-30T12:43:08.528Z"
   },
   {
    "duration": 6347,
    "start_time": "2022-09-30T12:43:08.549Z"
   },
   {
    "duration": 20,
    "start_time": "2022-09-30T12:43:14.902Z"
   },
   {
    "duration": 7,
    "start_time": "2022-09-30T12:43:14.924Z"
   },
   {
    "duration": 17,
    "start_time": "2022-09-30T12:43:14.933Z"
   },
   {
    "duration": 2058,
    "start_time": "2022-09-30T12:43:14.952Z"
   },
   {
    "duration": 6,
    "start_time": "2022-09-30T12:43:17.013Z"
   },
   {
    "duration": 30,
    "start_time": "2022-09-30T12:43:17.021Z"
   },
   {
    "duration": 14,
    "start_time": "2022-09-30T12:43:17.053Z"
   },
   {
    "duration": 55,
    "start_time": "2022-09-30T12:43:17.069Z"
   },
   {
    "duration": 46,
    "start_time": "2022-09-30T12:43:17.125Z"
   },
   {
    "duration": 28,
    "start_time": "2022-09-30T12:43:17.174Z"
   },
   {
    "duration": 60,
    "start_time": "2022-09-30T12:43:17.204Z"
   },
   {
    "duration": 60,
    "start_time": "2022-09-30T12:43:17.265Z"
   },
   {
    "duration": 58,
    "start_time": "2022-09-30T12:43:17.327Z"
   },
   {
    "duration": 48,
    "start_time": "2022-09-30T12:43:17.387Z"
   },
   {
    "duration": 44,
    "start_time": "2022-09-30T12:43:17.437Z"
   },
   {
    "duration": 164,
    "start_time": "2022-09-30T12:43:17.483Z"
   },
   {
    "duration": 1270,
    "start_time": "2022-09-30T12:45:26.813Z"
   },
   {
    "duration": 319,
    "start_time": "2022-09-30T12:45:28.087Z"
   },
   {
    "duration": 16,
    "start_time": "2022-09-30T12:45:28.410Z"
   },
   {
    "duration": 5,
    "start_time": "2022-09-30T12:45:28.428Z"
   },
   {
    "duration": 15,
    "start_time": "2022-09-30T12:45:28.435Z"
   },
   {
    "duration": 5,
    "start_time": "2022-09-30T12:45:28.452Z"
   },
   {
    "duration": 7,
    "start_time": "2022-09-30T12:45:28.459Z"
   },
   {
    "duration": 34,
    "start_time": "2022-09-30T12:45:28.467Z"
   },
   {
    "duration": 6108,
    "start_time": "2022-09-30T12:45:28.504Z"
   },
   {
    "duration": 11,
    "start_time": "2022-09-30T12:45:34.614Z"
   },
   {
    "duration": 4,
    "start_time": "2022-09-30T12:45:34.627Z"
   },
   {
    "duration": 6640,
    "start_time": "2022-09-30T12:45:34.633Z"
   },
   {
    "duration": 11,
    "start_time": "2022-09-30T12:45:41.275Z"
   },
   {
    "duration": 16,
    "start_time": "2022-09-30T12:45:41.296Z"
   },
   {
    "duration": 19,
    "start_time": "2022-09-30T12:45:41.317Z"
   },
   {
    "duration": 6009,
    "start_time": "2022-09-30T12:45:41.338Z"
   },
   {
    "duration": 15,
    "start_time": "2022-09-30T12:45:47.349Z"
   },
   {
    "duration": 6,
    "start_time": "2022-09-30T12:45:47.366Z"
   },
   {
    "duration": 5870,
    "start_time": "2022-09-30T12:45:47.373Z"
   },
   {
    "duration": 4,
    "start_time": "2022-09-30T12:45:53.246Z"
   },
   {
    "duration": 17,
    "start_time": "2022-09-30T12:45:53.251Z"
   },
   {
    "duration": 20,
    "start_time": "2022-09-30T12:45:53.270Z"
   },
   {
    "duration": 20,
    "start_time": "2022-09-30T12:45:53.292Z"
   },
   {
    "duration": 17,
    "start_time": "2022-09-30T12:45:53.314Z"
   },
   {
    "duration": 12,
    "start_time": "2022-09-30T12:45:53.332Z"
   },
   {
    "duration": 32,
    "start_time": "2022-09-30T12:45:53.347Z"
   },
   {
    "duration": 34,
    "start_time": "2022-09-30T12:45:53.381Z"
   },
   {
    "duration": 66,
    "start_time": "2022-09-30T12:45:53.417Z"
   },
   {
    "duration": 17,
    "start_time": "2022-09-30T12:45:53.486Z"
   },
   {
    "duration": 14,
    "start_time": "2022-09-30T12:45:53.506Z"
   },
   {
    "duration": 22,
    "start_time": "2022-09-30T12:45:53.522Z"
   },
   {
    "duration": 6,
    "start_time": "2022-09-30T12:45:53.546Z"
   },
   {
    "duration": 5,
    "start_time": "2022-09-30T12:45:53.554Z"
   },
   {
    "duration": 6070,
    "start_time": "2022-09-30T12:45:53.561Z"
   },
   {
    "duration": 5,
    "start_time": "2022-09-30T12:45:59.634Z"
   },
   {
    "duration": 6,
    "start_time": "2022-09-30T12:45:59.641Z"
   },
   {
    "duration": 6101,
    "start_time": "2022-09-30T12:45:59.649Z"
   },
   {
    "duration": 4,
    "start_time": "2022-09-30T12:46:05.752Z"
   },
   {
    "duration": 6379,
    "start_time": "2022-09-30T12:46:05.758Z"
   },
   {
    "duration": 13,
    "start_time": "2022-09-30T12:46:12.139Z"
   },
   {
    "duration": 5,
    "start_time": "2022-09-30T12:46:12.157Z"
   },
   {
    "duration": 37,
    "start_time": "2022-09-30T12:46:12.164Z"
   },
   {
    "duration": 20,
    "start_time": "2022-09-30T12:46:12.204Z"
   },
   {
    "duration": 10,
    "start_time": "2022-09-30T12:46:12.225Z"
   },
   {
    "duration": 11,
    "start_time": "2022-09-30T12:46:12.237Z"
   },
   {
    "duration": 8,
    "start_time": "2022-09-30T12:46:12.250Z"
   },
   {
    "duration": 11,
    "start_time": "2022-09-30T12:46:12.260Z"
   },
   {
    "duration": 9,
    "start_time": "2022-09-30T12:46:12.273Z"
   },
   {
    "duration": 28,
    "start_time": "2022-09-30T12:46:12.284Z"
   },
   {
    "duration": 9,
    "start_time": "2022-09-30T12:46:12.314Z"
   },
   {
    "duration": 6,
    "start_time": "2022-09-30T12:46:12.325Z"
   },
   {
    "duration": 6184,
    "start_time": "2022-09-30T12:46:12.333Z"
   },
   {
    "duration": 5,
    "start_time": "2022-09-30T12:46:18.519Z"
   },
   {
    "duration": 6,
    "start_time": "2022-09-30T12:46:18.525Z"
   },
   {
    "duration": 9,
    "start_time": "2022-09-30T12:46:18.533Z"
   },
   {
    "duration": 20,
    "start_time": "2022-09-30T12:46:18.544Z"
   },
   {
    "duration": 6258,
    "start_time": "2022-09-30T12:46:18.566Z"
   },
   {
    "duration": 25,
    "start_time": "2022-09-30T12:46:24.826Z"
   },
   {
    "duration": 6,
    "start_time": "2022-09-30T12:46:24.853Z"
   },
   {
    "duration": 9,
    "start_time": "2022-09-30T12:46:24.860Z"
   },
   {
    "duration": 1986,
    "start_time": "2022-09-30T12:46:24.871Z"
   },
   {
    "duration": 7,
    "start_time": "2022-09-30T12:46:26.859Z"
   },
   {
    "duration": 57,
    "start_time": "2022-09-30T12:46:26.868Z"
   },
   {
    "duration": 26,
    "start_time": "2022-09-30T12:46:26.927Z"
   },
   {
    "duration": 15,
    "start_time": "2022-09-30T12:46:26.955Z"
   },
   {
    "duration": 40,
    "start_time": "2022-09-30T12:46:26.972Z"
   },
   {
    "duration": 17,
    "start_time": "2022-09-30T12:46:27.014Z"
   },
   {
    "duration": 13,
    "start_time": "2022-09-30T12:46:27.033Z"
   },
   {
    "duration": 61,
    "start_time": "2022-09-30T12:46:27.048Z"
   },
   {
    "duration": 30,
    "start_time": "2022-09-30T12:46:27.112Z"
   },
   {
    "duration": 11,
    "start_time": "2022-09-30T12:46:27.144Z"
   },
   {
    "duration": 57,
    "start_time": "2022-09-30T12:46:27.157Z"
   },
   {
    "duration": 3,
    "start_time": "2022-09-30T12:46:27.215Z"
   },
   {
    "duration": 68,
    "start_time": "2022-09-30T12:46:27.220Z"
   },
   {
    "duration": 1302,
    "start_time": "2022-09-30T12:51:15.211Z"
   },
   {
    "duration": 393,
    "start_time": "2022-09-30T12:51:16.516Z"
   },
   {
    "duration": 20,
    "start_time": "2022-09-30T12:51:16.914Z"
   },
   {
    "duration": 8,
    "start_time": "2022-09-30T12:51:16.936Z"
   },
   {
    "duration": 19,
    "start_time": "2022-09-30T12:51:16.947Z"
   },
   {
    "duration": 5,
    "start_time": "2022-09-30T12:51:16.969Z"
   },
   {
    "duration": 35,
    "start_time": "2022-09-30T12:51:16.976Z"
   },
   {
    "duration": 12,
    "start_time": "2022-09-30T12:51:17.014Z"
   },
   {
    "duration": 6226,
    "start_time": "2022-09-30T12:51:17.028Z"
   },
   {
    "duration": 10,
    "start_time": "2022-09-30T12:51:23.256Z"
   },
   {
    "duration": 9,
    "start_time": "2022-09-30T12:51:23.269Z"
   },
   {
    "duration": 6308,
    "start_time": "2022-09-30T12:51:23.280Z"
   },
   {
    "duration": 21,
    "start_time": "2022-09-30T12:51:29.590Z"
   },
   {
    "duration": 10,
    "start_time": "2022-09-30T12:51:29.615Z"
   },
   {
    "duration": 14,
    "start_time": "2022-09-30T12:51:29.627Z"
   },
   {
    "duration": 5944,
    "start_time": "2022-09-30T12:51:29.643Z"
   },
   {
    "duration": 29,
    "start_time": "2022-09-30T12:51:35.588Z"
   },
   {
    "duration": 9,
    "start_time": "2022-09-30T12:51:35.619Z"
   },
   {
    "duration": 5955,
    "start_time": "2022-09-30T12:51:35.631Z"
   },
   {
    "duration": 15,
    "start_time": "2022-09-30T12:51:41.595Z"
   },
   {
    "duration": 10,
    "start_time": "2022-09-30T12:51:41.612Z"
   },
   {
    "duration": 14,
    "start_time": "2022-09-30T12:51:41.624Z"
   },
   {
    "duration": 10,
    "start_time": "2022-09-30T12:51:41.639Z"
   },
   {
    "duration": 27,
    "start_time": "2022-09-30T12:51:41.651Z"
   },
   {
    "duration": 10,
    "start_time": "2022-09-30T12:51:41.680Z"
   },
   {
    "duration": 51,
    "start_time": "2022-09-30T12:51:41.698Z"
   },
   {
    "duration": 24,
    "start_time": "2022-09-30T12:51:41.751Z"
   },
   {
    "duration": 61,
    "start_time": "2022-09-30T12:51:41.778Z"
   },
   {
    "duration": 10,
    "start_time": "2022-09-30T12:51:41.841Z"
   },
   {
    "duration": 10,
    "start_time": "2022-09-30T12:51:41.853Z"
   },
   {
    "duration": 19,
    "start_time": "2022-09-30T12:51:41.865Z"
   },
   {
    "duration": 7,
    "start_time": "2022-09-30T12:51:41.885Z"
   },
   {
    "duration": 20,
    "start_time": "2022-09-30T12:51:41.894Z"
   },
   {
    "duration": 6011,
    "start_time": "2022-09-30T12:51:41.916Z"
   },
   {
    "duration": 5,
    "start_time": "2022-09-30T12:51:47.929Z"
   },
   {
    "duration": 8,
    "start_time": "2022-09-30T12:51:47.936Z"
   },
   {
    "duration": 5922,
    "start_time": "2022-09-30T12:51:47.945Z"
   },
   {
    "duration": 6,
    "start_time": "2022-09-30T12:51:53.869Z"
   },
   {
    "duration": 5841,
    "start_time": "2022-09-30T12:51:53.877Z"
   },
   {
    "duration": 12,
    "start_time": "2022-09-30T12:51:59.720Z"
   },
   {
    "duration": 2,
    "start_time": "2022-09-30T12:51:59.737Z"
   },
   {
    "duration": 25,
    "start_time": "2022-09-30T12:51:59.741Z"
   },
   {
    "duration": 55,
    "start_time": "2022-09-30T12:51:59.768Z"
   },
   {
    "duration": 10,
    "start_time": "2022-09-30T12:51:59.829Z"
   },
   {
    "duration": 10,
    "start_time": "2022-09-30T12:51:59.841Z"
   },
   {
    "duration": 7,
    "start_time": "2022-09-30T12:51:59.853Z"
   },
   {
    "duration": 7,
    "start_time": "2022-09-30T12:51:59.862Z"
   },
   {
    "duration": 7,
    "start_time": "2022-09-30T12:51:59.871Z"
   },
   {
    "duration": 11,
    "start_time": "2022-09-30T12:51:59.880Z"
   },
   {
    "duration": 5,
    "start_time": "2022-09-30T12:51:59.903Z"
   },
   {
    "duration": 8,
    "start_time": "2022-09-30T12:51:59.912Z"
   },
   {
    "duration": 5888,
    "start_time": "2022-09-30T12:51:59.922Z"
   },
   {
    "duration": 6,
    "start_time": "2022-09-30T12:52:05.813Z"
   },
   {
    "duration": 6,
    "start_time": "2022-09-30T12:52:05.820Z"
   },
   {
    "duration": 10,
    "start_time": "2022-09-30T12:52:05.828Z"
   },
   {
    "duration": 21,
    "start_time": "2022-09-30T12:52:05.840Z"
   },
   {
    "duration": 6413,
    "start_time": "2022-09-30T12:52:05.863Z"
   },
   {
    "duration": 25,
    "start_time": "2022-09-30T12:52:12.278Z"
   },
   {
    "duration": 12,
    "start_time": "2022-09-30T12:52:12.305Z"
   },
   {
    "duration": 9,
    "start_time": "2022-09-30T12:52:12.319Z"
   },
   {
    "duration": 1947,
    "start_time": "2022-09-30T12:52:12.330Z"
   },
   {
    "duration": 27,
    "start_time": "2022-09-30T12:52:14.279Z"
   },
   {
    "duration": 18,
    "start_time": "2022-09-30T12:52:14.309Z"
   },
   {
    "duration": 4,
    "start_time": "2022-09-30T12:52:14.329Z"
   },
   {
    "duration": 9,
    "start_time": "2022-09-30T12:52:14.335Z"
   },
   {
    "duration": 25,
    "start_time": "2022-09-30T12:52:14.346Z"
   },
   {
    "duration": 10,
    "start_time": "2022-09-30T12:52:14.373Z"
   },
   {
    "duration": 36,
    "start_time": "2022-09-30T12:52:14.385Z"
   },
   {
    "duration": 35,
    "start_time": "2022-09-30T12:52:14.423Z"
   },
   {
    "duration": 28,
    "start_time": "2022-09-30T12:52:14.460Z"
   },
   {
    "duration": 20,
    "start_time": "2022-09-30T12:52:14.490Z"
   },
   {
    "duration": 28,
    "start_time": "2022-09-30T12:52:14.512Z"
   },
   {
    "duration": 7,
    "start_time": "2022-09-30T12:52:14.542Z"
   },
   {
    "duration": 92,
    "start_time": "2022-09-30T12:52:14.551Z"
   },
   {
    "duration": 1243,
    "start_time": "2022-09-30T13:10:54.016Z"
   },
   {
    "duration": 444,
    "start_time": "2022-09-30T13:10:55.262Z"
   },
   {
    "duration": 16,
    "start_time": "2022-09-30T13:10:55.707Z"
   },
   {
    "duration": 6,
    "start_time": "2022-09-30T13:10:55.724Z"
   },
   {
    "duration": 12,
    "start_time": "2022-09-30T13:10:55.732Z"
   },
   {
    "duration": 10,
    "start_time": "2022-09-30T13:10:55.745Z"
   },
   {
    "duration": 16,
    "start_time": "2022-09-30T13:10:55.757Z"
   },
   {
    "duration": 28,
    "start_time": "2022-09-30T13:10:55.775Z"
   },
   {
    "duration": 5504,
    "start_time": "2022-09-30T13:10:55.805Z"
   },
   {
    "duration": 10,
    "start_time": "2022-09-30T13:11:01.311Z"
   },
   {
    "duration": 20,
    "start_time": "2022-09-30T13:11:01.322Z"
   },
   {
    "duration": 5629,
    "start_time": "2022-09-30T13:11:01.344Z"
   },
   {
    "duration": 11,
    "start_time": "2022-09-30T13:11:06.975Z"
   },
   {
    "duration": 14,
    "start_time": "2022-09-30T13:11:06.989Z"
   },
   {
    "duration": 15,
    "start_time": "2022-09-30T13:11:07.005Z"
   },
   {
    "duration": 5476,
    "start_time": "2022-09-30T13:11:07.022Z"
   },
   {
    "duration": 15,
    "start_time": "2022-09-30T13:11:12.500Z"
   },
   {
    "duration": 4,
    "start_time": "2022-09-30T13:11:12.517Z"
   },
   {
    "duration": 5554,
    "start_time": "2022-09-30T13:11:12.523Z"
   },
   {
    "duration": 5,
    "start_time": "2022-09-30T13:11:18.079Z"
   },
   {
    "duration": 8,
    "start_time": "2022-09-30T13:11:18.094Z"
   },
   {
    "duration": 16,
    "start_time": "2022-09-30T13:11:18.103Z"
   },
   {
    "duration": 6,
    "start_time": "2022-09-30T13:11:18.122Z"
   },
   {
    "duration": 16,
    "start_time": "2022-09-30T13:11:18.130Z"
   },
   {
    "duration": 8,
    "start_time": "2022-09-30T13:11:18.148Z"
   },
   {
    "duration": 62,
    "start_time": "2022-09-30T13:11:18.157Z"
   },
   {
    "duration": 26,
    "start_time": "2022-09-30T13:11:18.221Z"
   },
   {
    "duration": 64,
    "start_time": "2022-09-30T13:11:18.249Z"
   },
   {
    "duration": 11,
    "start_time": "2022-09-30T13:11:18.315Z"
   },
   {
    "duration": 7,
    "start_time": "2022-09-30T13:11:18.328Z"
   },
   {
    "duration": 20,
    "start_time": "2022-09-30T13:11:18.337Z"
   },
   {
    "duration": 9,
    "start_time": "2022-09-30T13:11:18.359Z"
   },
   {
    "duration": 8,
    "start_time": "2022-09-30T13:11:18.370Z"
   },
   {
    "duration": 5502,
    "start_time": "2022-09-30T13:11:18.380Z"
   },
   {
    "duration": 12,
    "start_time": "2022-09-30T13:11:23.884Z"
   },
   {
    "duration": 6,
    "start_time": "2022-09-30T13:11:23.898Z"
   },
   {
    "duration": 5868,
    "start_time": "2022-09-30T13:11:23.905Z"
   },
   {
    "duration": 3,
    "start_time": "2022-09-30T13:11:29.775Z"
   },
   {
    "duration": 5582,
    "start_time": "2022-09-30T13:11:29.780Z"
   },
   {
    "duration": 14,
    "start_time": "2022-09-30T13:11:35.364Z"
   },
   {
    "duration": 13,
    "start_time": "2022-09-30T13:11:35.382Z"
   },
   {
    "duration": 21,
    "start_time": "2022-09-30T13:11:35.397Z"
   },
   {
    "duration": 10,
    "start_time": "2022-09-30T13:11:35.420Z"
   },
   {
    "duration": 10,
    "start_time": "2022-09-30T13:11:35.431Z"
   },
   {
    "duration": 15,
    "start_time": "2022-09-30T13:11:35.442Z"
   },
   {
    "duration": 12,
    "start_time": "2022-09-30T13:11:35.459Z"
   },
   {
    "duration": 24,
    "start_time": "2022-09-30T13:11:35.473Z"
   },
   {
    "duration": 10,
    "start_time": "2022-09-30T13:11:35.499Z"
   },
   {
    "duration": 9,
    "start_time": "2022-09-30T13:11:35.511Z"
   },
   {
    "duration": 4,
    "start_time": "2022-09-30T13:11:35.521Z"
   },
   {
    "duration": 6,
    "start_time": "2022-09-30T13:11:35.527Z"
   },
   {
    "duration": 5655,
    "start_time": "2022-09-30T13:11:35.535Z"
   },
   {
    "duration": 5,
    "start_time": "2022-09-30T13:11:41.192Z"
   },
   {
    "duration": 24,
    "start_time": "2022-09-30T13:11:41.199Z"
   },
   {
    "duration": 16,
    "start_time": "2022-09-30T13:11:41.225Z"
   },
   {
    "duration": 18,
    "start_time": "2022-09-30T13:11:41.243Z"
   },
   {
    "duration": 5962,
    "start_time": "2022-09-30T13:11:41.263Z"
   },
   {
    "duration": 18,
    "start_time": "2022-09-30T13:11:47.227Z"
   },
   {
    "duration": 7,
    "start_time": "2022-09-30T13:11:47.247Z"
   },
   {
    "duration": 41,
    "start_time": "2022-09-30T13:11:47.256Z"
   },
   {
    "duration": 1802,
    "start_time": "2022-09-30T13:11:47.299Z"
   },
   {
    "duration": 7,
    "start_time": "2022-09-30T13:11:49.103Z"
   },
   {
    "duration": 11,
    "start_time": "2022-09-30T13:11:49.112Z"
   },
   {
    "duration": 4,
    "start_time": "2022-09-30T13:11:49.125Z"
   },
   {
    "duration": 7,
    "start_time": "2022-09-30T13:11:49.131Z"
   },
   {
    "duration": 25,
    "start_time": "2022-09-30T13:11:49.140Z"
   },
   {
    "duration": 30,
    "start_time": "2022-09-30T13:11:49.166Z"
   },
   {
    "duration": 10,
    "start_time": "2022-09-30T13:11:49.198Z"
   },
   {
    "duration": 35,
    "start_time": "2022-09-30T13:11:49.210Z"
   },
   {
    "duration": 50,
    "start_time": "2022-09-30T13:11:49.246Z"
   },
   {
    "duration": 10,
    "start_time": "2022-09-30T13:11:49.298Z"
   },
   {
    "duration": 27,
    "start_time": "2022-09-30T13:11:49.310Z"
   },
   {
    "duration": 9,
    "start_time": "2022-09-30T13:11:49.339Z"
   },
   {
    "duration": 135,
    "start_time": "2022-09-30T13:11:49.350Z"
   },
   {
    "duration": 1323,
    "start_time": "2022-09-30T13:23:45.819Z"
   },
   {
    "duration": 316,
    "start_time": "2022-09-30T13:23:47.144Z"
   },
   {
    "duration": 16,
    "start_time": "2022-09-30T13:23:47.461Z"
   },
   {
    "duration": 16,
    "start_time": "2022-09-30T13:23:47.479Z"
   },
   {
    "duration": 10,
    "start_time": "2022-09-30T13:23:47.497Z"
   },
   {
    "duration": 5,
    "start_time": "2022-09-30T13:23:47.509Z"
   },
   {
    "duration": 7,
    "start_time": "2022-09-30T13:23:47.516Z"
   },
   {
    "duration": 9,
    "start_time": "2022-09-30T13:23:47.525Z"
   },
   {
    "duration": 5577,
    "start_time": "2022-09-30T13:23:47.535Z"
   },
   {
    "duration": 9,
    "start_time": "2022-09-30T13:23:53.114Z"
   },
   {
    "duration": 6,
    "start_time": "2022-09-30T13:23:53.125Z"
   },
   {
    "duration": 5712,
    "start_time": "2022-09-30T13:23:53.133Z"
   },
   {
    "duration": 10,
    "start_time": "2022-09-30T13:23:58.847Z"
   },
   {
    "duration": 8,
    "start_time": "2022-09-30T13:23:58.862Z"
   },
   {
    "duration": 27,
    "start_time": "2022-09-30T13:23:58.872Z"
   },
   {
    "duration": 5569,
    "start_time": "2022-09-30T13:23:58.900Z"
   },
   {
    "duration": 14,
    "start_time": "2022-09-30T13:24:04.471Z"
   },
   {
    "duration": 3,
    "start_time": "2022-09-30T13:24:04.496Z"
   },
   {
    "duration": 5532,
    "start_time": "2022-09-30T13:24:04.500Z"
   },
   {
    "duration": 4,
    "start_time": "2022-09-30T13:24:10.033Z"
   },
   {
    "duration": 9,
    "start_time": "2022-09-30T13:24:10.039Z"
   },
   {
    "duration": 16,
    "start_time": "2022-09-30T13:24:10.049Z"
   },
   {
    "duration": 5,
    "start_time": "2022-09-30T13:24:10.067Z"
   },
   {
    "duration": 15,
    "start_time": "2022-09-30T13:24:10.095Z"
   },
   {
    "duration": 8,
    "start_time": "2022-09-30T13:24:10.112Z"
   },
   {
    "duration": 29,
    "start_time": "2022-09-30T13:24:10.122Z"
   },
   {
    "duration": 59,
    "start_time": "2022-09-30T13:24:10.153Z"
   },
   {
    "duration": 77,
    "start_time": "2022-09-30T13:24:10.215Z"
   },
   {
    "duration": 11,
    "start_time": "2022-09-30T13:24:10.294Z"
   },
   {
    "duration": 12,
    "start_time": "2022-09-30T13:24:10.308Z"
   },
   {
    "duration": 28,
    "start_time": "2022-09-30T13:24:10.322Z"
   },
   {
    "duration": 8,
    "start_time": "2022-09-30T13:24:10.353Z"
   },
   {
    "duration": 7,
    "start_time": "2022-09-30T13:24:10.363Z"
   },
   {
    "duration": 5635,
    "start_time": "2022-09-30T13:24:10.372Z"
   },
   {
    "duration": 4,
    "start_time": "2022-09-30T13:24:16.009Z"
   },
   {
    "duration": 6,
    "start_time": "2022-09-30T13:24:16.015Z"
   },
   {
    "duration": 5737,
    "start_time": "2022-09-30T13:24:16.023Z"
   },
   {
    "duration": 3,
    "start_time": "2022-09-30T13:24:21.762Z"
   },
   {
    "duration": 5597,
    "start_time": "2022-09-30T13:24:21.767Z"
   },
   {
    "duration": 13,
    "start_time": "2022-09-30T13:24:27.366Z"
   },
   {
    "duration": 2,
    "start_time": "2022-09-30T13:24:27.397Z"
   },
   {
    "duration": 17,
    "start_time": "2022-09-30T13:24:27.401Z"
   },
   {
    "duration": 10,
    "start_time": "2022-09-30T13:24:27.420Z"
   },
   {
    "duration": 7,
    "start_time": "2022-09-30T13:24:27.432Z"
   },
   {
    "duration": 7,
    "start_time": "2022-09-30T13:24:27.440Z"
   },
   {
    "duration": 5,
    "start_time": "2022-09-30T13:24:27.449Z"
   },
   {
    "duration": 11,
    "start_time": "2022-09-30T13:24:27.456Z"
   },
   {
    "duration": 27,
    "start_time": "2022-09-30T13:24:27.469Z"
   },
   {
    "duration": 10,
    "start_time": "2022-09-30T13:24:27.498Z"
   },
   {
    "duration": 4,
    "start_time": "2022-09-30T13:24:27.510Z"
   },
   {
    "duration": 5,
    "start_time": "2022-09-30T13:24:27.515Z"
   },
   {
    "duration": 5309,
    "start_time": "2022-09-30T13:24:27.522Z"
   },
   {
    "duration": 7,
    "start_time": "2022-09-30T13:24:32.834Z"
   },
   {
    "duration": 11,
    "start_time": "2022-09-30T13:24:32.842Z"
   },
   {
    "duration": 17,
    "start_time": "2022-09-30T13:24:32.855Z"
   },
   {
    "duration": 28,
    "start_time": "2022-09-30T13:24:32.874Z"
   },
   {
    "duration": 6028,
    "start_time": "2022-09-30T13:24:32.905Z"
   },
   {
    "duration": 19,
    "start_time": "2022-09-30T13:24:38.935Z"
   },
   {
    "duration": 12,
    "start_time": "2022-09-30T13:24:38.956Z"
   },
   {
    "duration": 15,
    "start_time": "2022-09-30T13:24:38.970Z"
   },
   {
    "duration": 1794,
    "start_time": "2022-09-30T13:24:38.995Z"
   },
   {
    "duration": 9,
    "start_time": "2022-09-30T13:24:40.790Z"
   },
   {
    "duration": 16,
    "start_time": "2022-09-30T13:24:40.801Z"
   },
   {
    "duration": 8,
    "start_time": "2022-09-30T13:24:40.819Z"
   },
   {
    "duration": 8,
    "start_time": "2022-09-30T13:24:40.829Z"
   },
   {
    "duration": 28,
    "start_time": "2022-09-30T13:24:40.839Z"
   },
   {
    "duration": 35,
    "start_time": "2022-09-30T13:24:40.869Z"
   },
   {
    "duration": 10,
    "start_time": "2022-09-30T13:24:40.906Z"
   },
   {
    "duration": 36,
    "start_time": "2022-09-30T13:24:40.917Z"
   },
   {
    "duration": 49,
    "start_time": "2022-09-30T13:24:40.955Z"
   },
   {
    "duration": 10,
    "start_time": "2022-09-30T13:24:41.006Z"
   },
   {
    "duration": 27,
    "start_time": "2022-09-30T13:24:41.018Z"
   },
   {
    "duration": 5,
    "start_time": "2022-09-30T13:24:41.047Z"
   },
   {
    "duration": 101,
    "start_time": "2022-09-30T13:24:41.054Z"
   },
   {
    "duration": 574,
    "start_time": "2022-10-15T18:19:35.319Z"
   },
   {
    "duration": 512,
    "start_time": "2022-10-15T18:19:35.895Z"
   },
   {
    "duration": 18,
    "start_time": "2022-10-15T18:19:36.409Z"
   },
   {
    "duration": 11,
    "start_time": "2022-10-15T18:19:36.429Z"
   },
   {
    "duration": 13,
    "start_time": "2022-10-15T18:19:36.442Z"
   },
   {
    "duration": 13,
    "start_time": "2022-10-15T18:19:36.457Z"
   },
   {
    "duration": 5,
    "start_time": "2022-10-15T18:19:36.489Z"
   },
   {
    "duration": 17,
    "start_time": "2022-10-15T18:19:36.496Z"
   },
   {
    "duration": 5584,
    "start_time": "2022-10-15T18:19:36.516Z"
   },
   {
    "duration": 12,
    "start_time": "2022-10-15T18:19:42.103Z"
   },
   {
    "duration": 16,
    "start_time": "2022-10-15T18:19:42.119Z"
   },
   {
    "duration": 5867,
    "start_time": "2022-10-15T18:19:42.137Z"
   },
   {
    "duration": 10,
    "start_time": "2022-10-15T18:19:48.006Z"
   },
   {
    "duration": 8,
    "start_time": "2022-10-15T18:19:48.021Z"
   },
   {
    "duration": 16,
    "start_time": "2022-10-15T18:19:48.031Z"
   },
   {
    "duration": 10,
    "start_time": "2022-10-15T18:19:48.049Z"
   },
   {
    "duration": 5529,
    "start_time": "2022-10-15T18:19:48.061Z"
   },
   {
    "duration": 14,
    "start_time": "2022-10-15T18:19:53.592Z"
   },
   {
    "duration": 4,
    "start_time": "2022-10-15T18:19:53.608Z"
   },
   {
    "duration": 5495,
    "start_time": "2022-10-15T18:19:53.614Z"
   },
   {
    "duration": 4,
    "start_time": "2022-10-15T18:19:59.111Z"
   },
   {
    "duration": 9,
    "start_time": "2022-10-15T18:19:59.117Z"
   },
   {
    "duration": 13,
    "start_time": "2022-10-15T18:19:59.128Z"
   },
   {
    "duration": 5,
    "start_time": "2022-10-15T18:19:59.143Z"
   },
   {
    "duration": 16,
    "start_time": "2022-10-15T18:19:59.150Z"
   },
   {
    "duration": 6,
    "start_time": "2022-10-15T18:19:59.188Z"
   },
   {
    "duration": 41,
    "start_time": "2022-10-15T18:19:59.196Z"
   },
   {
    "duration": 27,
    "start_time": "2022-10-15T18:19:59.238Z"
   },
   {
    "duration": 76,
    "start_time": "2022-10-15T18:19:59.267Z"
   },
   {
    "duration": 12,
    "start_time": "2022-10-15T18:19:59.345Z"
   },
   {
    "duration": 12,
    "start_time": "2022-10-15T18:19:59.359Z"
   },
   {
    "duration": 21,
    "start_time": "2022-10-15T18:19:59.373Z"
   },
   {
    "duration": 12,
    "start_time": "2022-10-15T18:19:59.395Z"
   },
   {
    "duration": 7,
    "start_time": "2022-10-15T18:19:59.409Z"
   },
   {
    "duration": 5933,
    "start_time": "2022-10-15T18:19:59.417Z"
   },
   {
    "duration": 5,
    "start_time": "2022-10-15T18:20:05.352Z"
   },
   {
    "duration": 23,
    "start_time": "2022-10-15T18:20:05.366Z"
   },
   {
    "duration": 5668,
    "start_time": "2022-10-15T18:20:05.391Z"
   },
   {
    "duration": 4,
    "start_time": "2022-10-15T18:20:11.060Z"
   },
   {
    "duration": 5623,
    "start_time": "2022-10-15T18:20:11.066Z"
   },
   {
    "duration": 13,
    "start_time": "2022-10-15T18:20:16.693Z"
   },
   {
    "duration": 6,
    "start_time": "2022-10-15T18:20:16.707Z"
   },
   {
    "duration": 19,
    "start_time": "2022-10-15T18:20:16.714Z"
   },
   {
    "duration": 10,
    "start_time": "2022-10-15T18:20:16.734Z"
   },
   {
    "duration": 9,
    "start_time": "2022-10-15T18:20:16.746Z"
   },
   {
    "duration": 35,
    "start_time": "2022-10-15T18:20:16.756Z"
   },
   {
    "duration": 5,
    "start_time": "2022-10-15T18:20:16.793Z"
   },
   {
    "duration": 10,
    "start_time": "2022-10-15T18:20:16.800Z"
   },
   {
    "duration": 7,
    "start_time": "2022-10-15T18:20:16.813Z"
   },
   {
    "duration": 10,
    "start_time": "2022-10-15T18:20:16.822Z"
   },
   {
    "duration": 4,
    "start_time": "2022-10-15T18:20:16.834Z"
   },
   {
    "duration": 4,
    "start_time": "2022-10-15T18:20:16.841Z"
   },
   {
    "duration": 5822,
    "start_time": "2022-10-15T18:20:16.847Z"
   },
   {
    "duration": 5,
    "start_time": "2022-10-15T18:20:22.671Z"
   },
   {
    "duration": 12,
    "start_time": "2022-10-15T18:20:22.677Z"
   },
   {
    "duration": 13,
    "start_time": "2022-10-15T18:20:22.691Z"
   },
   {
    "duration": 20,
    "start_time": "2022-10-15T18:20:22.706Z"
   },
   {
    "duration": 6016,
    "start_time": "2022-10-15T18:20:22.727Z"
   },
   {
    "duration": 17,
    "start_time": "2022-10-15T18:20:28.745Z"
   },
   {
    "duration": 9,
    "start_time": "2022-10-15T18:20:28.764Z"
   },
   {
    "duration": 18,
    "start_time": "2022-10-15T18:20:28.776Z"
   },
   {
    "duration": 1975,
    "start_time": "2022-10-15T18:20:28.795Z"
   },
   {
    "duration": 16,
    "start_time": "2022-10-15T18:20:30.773Z"
   },
   {
    "duration": 9,
    "start_time": "2022-10-15T18:20:30.791Z"
   },
   {
    "duration": 13,
    "start_time": "2022-10-15T18:20:30.803Z"
   },
   {
    "duration": 27,
    "start_time": "2022-10-15T18:20:30.818Z"
   },
   {
    "duration": 36,
    "start_time": "2022-10-15T18:20:30.848Z"
   },
   {
    "duration": 18,
    "start_time": "2022-10-15T18:20:30.887Z"
   },
   {
    "duration": 13,
    "start_time": "2022-10-15T18:20:30.907Z"
   },
   {
    "duration": 58,
    "start_time": "2022-10-15T18:20:30.922Z"
   },
   {
    "duration": 45,
    "start_time": "2022-10-15T18:20:30.982Z"
   },
   {
    "duration": 12,
    "start_time": "2022-10-15T18:20:31.029Z"
   },
   {
    "duration": 92,
    "start_time": "2022-10-15T18:20:31.043Z"
   },
   {
    "duration": 35,
    "start_time": "2022-10-15T18:20:31.137Z"
   },
   {
    "duration": 94,
    "start_time": "2022-10-15T18:20:31.174Z"
   },
   {
    "duration": 518,
    "start_time": "2022-10-15T18:23:35.524Z"
   },
   {
    "duration": 448,
    "start_time": "2022-10-15T18:23:36.044Z"
   },
   {
    "duration": 18,
    "start_time": "2022-10-15T18:23:36.494Z"
   },
   {
    "duration": 7,
    "start_time": "2022-10-15T18:23:36.514Z"
   },
   {
    "duration": 12,
    "start_time": "2022-10-15T18:23:36.524Z"
   },
   {
    "duration": 4,
    "start_time": "2022-10-15T18:23:36.537Z"
   },
   {
    "duration": 13,
    "start_time": "2022-10-15T18:23:36.543Z"
   },
   {
    "duration": 9,
    "start_time": "2022-10-15T18:23:36.557Z"
   },
   {
    "duration": 6032,
    "start_time": "2022-10-15T18:23:36.568Z"
   },
   {
    "duration": 13,
    "start_time": "2022-10-15T18:23:42.602Z"
   },
   {
    "duration": 5,
    "start_time": "2022-10-15T18:23:42.617Z"
   },
   {
    "duration": 6284,
    "start_time": "2022-10-15T18:23:42.624Z"
   },
   {
    "duration": 12,
    "start_time": "2022-10-15T18:23:48.910Z"
   },
   {
    "duration": 17,
    "start_time": "2022-10-15T18:23:48.926Z"
   },
   {
    "duration": 18,
    "start_time": "2022-10-15T18:23:48.945Z"
   },
   {
    "duration": 35,
    "start_time": "2022-10-15T18:23:48.965Z"
   },
   {
    "duration": 5958,
    "start_time": "2022-10-15T18:23:49.002Z"
   },
   {
    "duration": 14,
    "start_time": "2022-10-15T18:23:54.962Z"
   },
   {
    "duration": 12,
    "start_time": "2022-10-15T18:23:54.978Z"
   },
   {
    "duration": 5735,
    "start_time": "2022-10-15T18:23:54.992Z"
   },
   {
    "duration": 5,
    "start_time": "2022-10-15T18:24:00.729Z"
   },
   {
    "duration": 34,
    "start_time": "2022-10-15T18:24:00.736Z"
   },
   {
    "duration": 37,
    "start_time": "2022-10-15T18:24:00.771Z"
   },
   {
    "duration": 45,
    "start_time": "2022-10-15T18:24:00.810Z"
   },
   {
    "duration": 40,
    "start_time": "2022-10-15T18:24:00.857Z"
   },
   {
    "duration": 31,
    "start_time": "2022-10-15T18:24:00.899Z"
   },
   {
    "duration": 74,
    "start_time": "2022-10-15T18:24:00.932Z"
   },
   {
    "duration": 26,
    "start_time": "2022-10-15T18:24:01.008Z"
   },
   {
    "duration": 113,
    "start_time": "2022-10-15T18:24:01.036Z"
   },
   {
    "duration": 13,
    "start_time": "2022-10-15T18:24:01.151Z"
   },
   {
    "duration": 38,
    "start_time": "2022-10-15T18:24:01.165Z"
   },
   {
    "duration": 46,
    "start_time": "2022-10-15T18:24:01.205Z"
   },
   {
    "duration": 32,
    "start_time": "2022-10-15T18:24:01.253Z"
   },
   {
    "duration": 29,
    "start_time": "2022-10-15T18:24:01.287Z"
   },
   {
    "duration": 6031,
    "start_time": "2022-10-15T18:24:01.318Z"
   },
   {
    "duration": 5,
    "start_time": "2022-10-15T18:24:07.350Z"
   },
   {
    "duration": 20,
    "start_time": "2022-10-15T18:24:07.357Z"
   },
   {
    "duration": 5883,
    "start_time": "2022-10-15T18:24:07.379Z"
   },
   {
    "duration": 3,
    "start_time": "2022-10-15T18:24:13.264Z"
   },
   {
    "duration": 5890,
    "start_time": "2022-10-15T18:24:13.269Z"
   },
   {
    "duration": 14,
    "start_time": "2022-10-15T18:24:19.164Z"
   },
   {
    "duration": 2,
    "start_time": "2022-10-15T18:24:19.189Z"
   },
   {
    "duration": 18,
    "start_time": "2022-10-15T18:24:19.193Z"
   },
   {
    "duration": 10,
    "start_time": "2022-10-15T18:24:19.213Z"
   },
   {
    "duration": 8,
    "start_time": "2022-10-15T18:24:19.225Z"
   },
   {
    "duration": 7,
    "start_time": "2022-10-15T18:24:19.235Z"
   },
   {
    "duration": 8,
    "start_time": "2022-10-15T18:24:19.244Z"
   },
   {
    "duration": 45,
    "start_time": "2022-10-15T18:24:19.254Z"
   },
   {
    "duration": 8,
    "start_time": "2022-10-15T18:24:19.301Z"
   },
   {
    "duration": 8,
    "start_time": "2022-10-15T18:24:19.311Z"
   },
   {
    "duration": 4,
    "start_time": "2022-10-15T18:24:19.320Z"
   },
   {
    "duration": 8,
    "start_time": "2022-10-15T18:24:19.326Z"
   },
   {
    "duration": 5950,
    "start_time": "2022-10-15T18:24:19.335Z"
   },
   {
    "duration": 5,
    "start_time": "2022-10-15T18:24:25.287Z"
   },
   {
    "duration": 8,
    "start_time": "2022-10-15T18:24:25.294Z"
   },
   {
    "duration": 10,
    "start_time": "2022-10-15T18:24:25.303Z"
   },
   {
    "duration": 20,
    "start_time": "2022-10-15T18:24:25.314Z"
   },
   {
    "duration": 6241,
    "start_time": "2022-10-15T18:24:25.337Z"
   },
   {
    "duration": 25,
    "start_time": "2022-10-15T18:24:31.581Z"
   },
   {
    "duration": 9,
    "start_time": "2022-10-15T18:24:31.607Z"
   },
   {
    "duration": 20,
    "start_time": "2022-10-15T18:24:31.618Z"
   },
   {
    "duration": 2196,
    "start_time": "2022-10-15T18:24:31.640Z"
   },
   {
    "duration": 10,
    "start_time": "2022-10-15T18:24:33.838Z"
   },
   {
    "duration": 19,
    "start_time": "2022-10-15T18:24:33.850Z"
   },
   {
    "duration": 20,
    "start_time": "2022-10-15T18:24:33.871Z"
   },
   {
    "duration": 11,
    "start_time": "2022-10-15T18:24:33.894Z"
   },
   {
    "duration": 38,
    "start_time": "2022-10-15T18:24:33.907Z"
   },
   {
    "duration": 30,
    "start_time": "2022-10-15T18:24:33.947Z"
   },
   {
    "duration": 14,
    "start_time": "2022-10-15T18:24:33.980Z"
   },
   {
    "duration": 41,
    "start_time": "2022-10-15T18:24:33.996Z"
   },
   {
    "duration": 31,
    "start_time": "2022-10-15T18:24:34.039Z"
   },
   {
    "duration": 28,
    "start_time": "2022-10-15T18:24:34.072Z"
   },
   {
    "duration": 27,
    "start_time": "2022-10-15T18:24:34.102Z"
   },
   {
    "duration": 5,
    "start_time": "2022-10-15T18:24:34.131Z"
   },
   {
    "duration": 81,
    "start_time": "2022-10-15T18:24:34.138Z"
   },
   {
    "duration": 549,
    "start_time": "2022-10-15T18:42:17.013Z"
   },
   {
    "duration": 392,
    "start_time": "2022-10-15T18:42:17.565Z"
   },
   {
    "duration": 20,
    "start_time": "2022-10-15T18:42:17.959Z"
   },
   {
    "duration": 6,
    "start_time": "2022-10-15T18:42:17.990Z"
   },
   {
    "duration": 20,
    "start_time": "2022-10-15T18:42:17.998Z"
   },
   {
    "duration": 5,
    "start_time": "2022-10-15T18:42:18.020Z"
   },
   {
    "duration": 8,
    "start_time": "2022-10-15T18:42:18.028Z"
   },
   {
    "duration": 8,
    "start_time": "2022-10-15T18:42:18.037Z"
   },
   {
    "duration": 5863,
    "start_time": "2022-10-15T18:42:18.047Z"
   },
   {
    "duration": 12,
    "start_time": "2022-10-15T18:42:23.913Z"
   },
   {
    "duration": 14,
    "start_time": "2022-10-15T18:42:23.927Z"
   },
   {
    "duration": 5694,
    "start_time": "2022-10-15T18:42:23.942Z"
   },
   {
    "duration": 12,
    "start_time": "2022-10-15T18:42:29.638Z"
   },
   {
    "duration": 16,
    "start_time": "2022-10-15T18:42:29.652Z"
   },
   {
    "duration": 22,
    "start_time": "2022-10-15T18:42:29.670Z"
   },
   {
    "duration": 17,
    "start_time": "2022-10-15T18:42:29.694Z"
   },
   {
    "duration": 5658,
    "start_time": "2022-10-15T18:42:29.713Z"
   },
   {
    "duration": 22,
    "start_time": "2022-10-15T18:42:35.373Z"
   },
   {
    "duration": 4,
    "start_time": "2022-10-15T18:42:35.398Z"
   },
   {
    "duration": 5668,
    "start_time": "2022-10-15T18:42:35.404Z"
   },
   {
    "duration": 4,
    "start_time": "2022-10-15T18:42:41.073Z"
   },
   {
    "duration": 12,
    "start_time": "2022-10-15T18:42:41.079Z"
   },
   {
    "duration": 15,
    "start_time": "2022-10-15T18:42:41.092Z"
   },
   {
    "duration": 10,
    "start_time": "2022-10-15T18:42:41.109Z"
   },
   {
    "duration": 22,
    "start_time": "2022-10-15T18:42:41.121Z"
   },
   {
    "duration": 6,
    "start_time": "2022-10-15T18:42:41.145Z"
   },
   {
    "duration": 49,
    "start_time": "2022-10-15T18:42:41.153Z"
   },
   {
    "duration": 27,
    "start_time": "2022-10-15T18:42:41.206Z"
   },
   {
    "duration": 52,
    "start_time": "2022-10-15T18:42:41.235Z"
   },
   {
    "duration": 10,
    "start_time": "2022-10-15T18:42:41.289Z"
   },
   {
    "duration": 6,
    "start_time": "2022-10-15T18:42:41.301Z"
   },
   {
    "duration": 20,
    "start_time": "2022-10-15T18:42:41.308Z"
   },
   {
    "duration": 9,
    "start_time": "2022-10-15T18:42:41.330Z"
   },
   {
    "duration": 5,
    "start_time": "2022-10-15T18:42:41.341Z"
   },
   {
    "duration": 5932,
    "start_time": "2022-10-15T18:42:41.348Z"
   },
   {
    "duration": 9,
    "start_time": "2022-10-15T18:42:47.282Z"
   },
   {
    "duration": 6,
    "start_time": "2022-10-15T18:42:47.293Z"
   },
   {
    "duration": 5696,
    "start_time": "2022-10-15T18:42:47.300Z"
   },
   {
    "duration": 4,
    "start_time": "2022-10-15T18:42:52.997Z"
   },
   {
    "duration": 6009,
    "start_time": "2022-10-15T18:42:53.002Z"
   },
   {
    "duration": 14,
    "start_time": "2022-10-15T18:42:59.013Z"
   },
   {
    "duration": 27,
    "start_time": "2022-10-15T18:42:59.029Z"
   },
   {
    "duration": 27,
    "start_time": "2022-10-15T18:42:59.058Z"
   },
   {
    "duration": 15,
    "start_time": "2022-10-15T18:42:59.088Z"
   },
   {
    "duration": 13,
    "start_time": "2022-10-15T18:42:59.106Z"
   },
   {
    "duration": 10,
    "start_time": "2022-10-15T18:42:59.121Z"
   },
   {
    "duration": 11,
    "start_time": "2022-10-15T18:42:59.133Z"
   },
   {
    "duration": 12,
    "start_time": "2022-10-15T18:42:59.146Z"
   },
   {
    "duration": 28,
    "start_time": "2022-10-15T18:42:59.161Z"
   },
   {
    "duration": 6,
    "start_time": "2022-10-15T18:42:59.191Z"
   },
   {
    "duration": 6385,
    "start_time": "2022-10-15T18:42:59.199Z"
   },
   {
    "duration": 6,
    "start_time": "2022-10-15T18:43:05.586Z"
   },
   {
    "duration": 7,
    "start_time": "2022-10-15T18:43:05.594Z"
   },
   {
    "duration": 14,
    "start_time": "2022-10-15T18:43:05.603Z"
   },
   {
    "duration": 18,
    "start_time": "2022-10-15T18:43:05.619Z"
   },
   {
    "duration": 6194,
    "start_time": "2022-10-15T18:43:05.639Z"
   },
   {
    "duration": 24,
    "start_time": "2022-10-15T18:43:11.835Z"
   },
   {
    "duration": 13,
    "start_time": "2022-10-15T18:43:11.862Z"
   },
   {
    "duration": 8,
    "start_time": "2022-10-15T18:43:11.889Z"
   },
   {
    "duration": 1886,
    "start_time": "2022-10-15T18:43:11.901Z"
   },
   {
    "duration": 7,
    "start_time": "2022-10-15T18:43:13.790Z"
   },
   {
    "duration": 27,
    "start_time": "2022-10-15T18:43:13.799Z"
   },
   {
    "duration": 5,
    "start_time": "2022-10-15T18:43:13.827Z"
   },
   {
    "duration": 7,
    "start_time": "2022-10-15T18:43:13.834Z"
   },
   {
    "duration": 28,
    "start_time": "2022-10-15T18:43:13.843Z"
   },
   {
    "duration": 18,
    "start_time": "2022-10-15T18:43:13.873Z"
   },
   {
    "duration": 6,
    "start_time": "2022-10-15T18:43:13.893Z"
   },
   {
    "duration": 38,
    "start_time": "2022-10-15T18:43:13.902Z"
   },
   {
    "duration": 7,
    "start_time": "2022-10-15T18:43:13.942Z"
   },
   {
    "duration": 13,
    "start_time": "2022-10-15T18:43:13.950Z"
   },
   {
    "duration": 46,
    "start_time": "2022-10-15T18:43:13.964Z"
   },
   {
    "duration": 67,
    "start_time": "2022-10-15T18:43:14.012Z"
   },
   {
    "duration": 490,
    "start_time": "2022-10-15T18:55:29.715Z"
   },
   {
    "duration": 487,
    "start_time": "2022-10-15T18:55:30.207Z"
   },
   {
    "duration": 19,
    "start_time": "2022-10-15T18:55:30.696Z"
   },
   {
    "duration": 4,
    "start_time": "2022-10-15T18:55:30.717Z"
   },
   {
    "duration": 20,
    "start_time": "2022-10-15T18:55:30.724Z"
   },
   {
    "duration": 11,
    "start_time": "2022-10-15T18:55:30.746Z"
   },
   {
    "duration": 11,
    "start_time": "2022-10-15T18:55:30.759Z"
   },
   {
    "duration": 6,
    "start_time": "2022-10-15T18:55:30.789Z"
   },
   {
    "duration": 5671,
    "start_time": "2022-10-15T18:55:30.797Z"
   },
   {
    "duration": 10,
    "start_time": "2022-10-15T18:55:36.470Z"
   },
   {
    "duration": 3,
    "start_time": "2022-10-15T18:55:36.489Z"
   },
   {
    "duration": 5598,
    "start_time": "2022-10-15T18:55:36.494Z"
   },
   {
    "duration": 13,
    "start_time": "2022-10-15T18:55:42.097Z"
   },
   {
    "duration": 15,
    "start_time": "2022-10-15T18:55:42.113Z"
   },
   {
    "duration": 12,
    "start_time": "2022-10-15T18:55:42.129Z"
   },
   {
    "duration": 14,
    "start_time": "2022-10-15T18:55:42.143Z"
   },
   {
    "duration": 5791,
    "start_time": "2022-10-15T18:55:42.158Z"
   },
   {
    "duration": 10,
    "start_time": "2022-10-15T18:55:47.950Z"
   },
   {
    "duration": 5,
    "start_time": "2022-10-15T18:55:47.962Z"
   },
   {
    "duration": 5696,
    "start_time": "2022-10-15T18:55:47.969Z"
   },
   {
    "duration": 5,
    "start_time": "2022-10-15T18:55:53.667Z"
   },
   {
    "duration": 18,
    "start_time": "2022-10-15T18:55:53.674Z"
   },
   {
    "duration": 14,
    "start_time": "2022-10-15T18:55:53.694Z"
   },
   {
    "duration": 6,
    "start_time": "2022-10-15T18:55:53.709Z"
   },
   {
    "duration": 16,
    "start_time": "2022-10-15T18:55:53.716Z"
   },
   {
    "duration": 9,
    "start_time": "2022-10-15T18:55:53.734Z"
   },
   {
    "duration": 49,
    "start_time": "2022-10-15T18:55:53.744Z"
   },
   {
    "duration": 27,
    "start_time": "2022-10-15T18:55:53.794Z"
   },
   {
    "duration": 88,
    "start_time": "2022-10-15T18:55:53.822Z"
   },
   {
    "duration": 12,
    "start_time": "2022-10-15T18:55:53.912Z"
   },
   {
    "duration": 6,
    "start_time": "2022-10-15T18:55:53.926Z"
   },
   {
    "duration": 32,
    "start_time": "2022-10-15T18:55:53.934Z"
   },
   {
    "duration": 12,
    "start_time": "2022-10-15T18:55:53.968Z"
   },
   {
    "duration": 5,
    "start_time": "2022-10-15T18:55:53.982Z"
   },
   {
    "duration": 5580,
    "start_time": "2022-10-15T18:55:53.989Z"
   },
   {
    "duration": 5,
    "start_time": "2022-10-15T18:55:59.571Z"
   },
   {
    "duration": 26,
    "start_time": "2022-10-15T18:55:59.578Z"
   },
   {
    "duration": 5746,
    "start_time": "2022-10-15T18:55:59.606Z"
   },
   {
    "duration": 4,
    "start_time": "2022-10-15T18:56:05.354Z"
   },
   {
    "duration": 5672,
    "start_time": "2022-10-15T18:56:05.360Z"
   },
   {
    "duration": 13,
    "start_time": "2022-10-15T18:56:11.036Z"
   },
   {
    "duration": 38,
    "start_time": "2022-10-15T18:56:11.051Z"
   },
   {
    "duration": 14,
    "start_time": "2022-10-15T18:56:11.091Z"
   },
   {
    "duration": 11,
    "start_time": "2022-10-15T18:56:11.107Z"
   },
   {
    "duration": 12,
    "start_time": "2022-10-15T18:56:11.121Z"
   },
   {
    "duration": 10,
    "start_time": "2022-10-15T18:56:11.135Z"
   },
   {
    "duration": 9,
    "start_time": "2022-10-15T18:56:11.146Z"
   },
   {
    "duration": 11,
    "start_time": "2022-10-15T18:56:11.157Z"
   },
   {
    "duration": 6,
    "start_time": "2022-10-15T18:56:11.190Z"
   },
   {
    "duration": 5,
    "start_time": "2022-10-15T18:56:11.197Z"
   },
   {
    "duration": 6023,
    "start_time": "2022-10-15T18:56:11.204Z"
   },
   {
    "duration": 5,
    "start_time": "2022-10-15T18:56:17.229Z"
   },
   {
    "duration": 8,
    "start_time": "2022-10-15T18:56:17.236Z"
   },
   {
    "duration": 16,
    "start_time": "2022-10-15T18:56:17.246Z"
   },
   {
    "duration": 35,
    "start_time": "2022-10-15T18:56:17.264Z"
   },
   {
    "duration": 6607,
    "start_time": "2022-10-15T18:56:17.301Z"
   },
   {
    "duration": 16,
    "start_time": "2022-10-15T18:56:23.910Z"
   },
   {
    "duration": 9,
    "start_time": "2022-10-15T18:56:23.927Z"
   },
   {
    "duration": 10,
    "start_time": "2022-10-15T18:56:23.938Z"
   },
   {
    "duration": 1918,
    "start_time": "2022-10-15T18:56:23.950Z"
   },
   {
    "duration": 6,
    "start_time": "2022-10-15T18:56:25.870Z"
   },
   {
    "duration": 15,
    "start_time": "2022-10-15T18:56:25.878Z"
   },
   {
    "duration": 11,
    "start_time": "2022-10-15T18:56:25.895Z"
   },
   {
    "duration": 21,
    "start_time": "2022-10-15T18:56:25.908Z"
   },
   {
    "duration": 40,
    "start_time": "2022-10-15T18:56:25.931Z"
   },
   {
    "duration": 34,
    "start_time": "2022-10-15T18:56:25.974Z"
   },
   {
    "duration": 43,
    "start_time": "2022-10-15T18:56:26.010Z"
   },
   {
    "duration": 72,
    "start_time": "2022-10-15T18:56:26.055Z"
   },
   {
    "duration": 8,
    "start_time": "2022-10-15T18:56:26.130Z"
   },
   {
    "duration": 29,
    "start_time": "2022-10-15T18:56:26.140Z"
   },
   {
    "duration": 23,
    "start_time": "2022-10-15T18:56:26.171Z"
   },
   {
    "duration": 91,
    "start_time": "2022-10-15T18:56:26.196Z"
   },
   {
    "duration": 491,
    "start_time": "2022-10-15T18:59:04.682Z"
   },
   {
    "duration": 403,
    "start_time": "2022-10-15T18:59:05.175Z"
   },
   {
    "duration": 19,
    "start_time": "2022-10-15T18:59:05.579Z"
   },
   {
    "duration": 5,
    "start_time": "2022-10-15T18:59:05.599Z"
   },
   {
    "duration": 19,
    "start_time": "2022-10-15T18:59:05.607Z"
   },
   {
    "duration": 5,
    "start_time": "2022-10-15T18:59:05.629Z"
   },
   {
    "duration": 8,
    "start_time": "2022-10-15T18:59:05.636Z"
   },
   {
    "duration": 6,
    "start_time": "2022-10-15T18:59:05.646Z"
   },
   {
    "duration": 5573,
    "start_time": "2022-10-15T18:59:05.653Z"
   },
   {
    "duration": 9,
    "start_time": "2022-10-15T18:59:11.228Z"
   },
   {
    "duration": 7,
    "start_time": "2022-10-15T18:59:11.239Z"
   },
   {
    "duration": 5764,
    "start_time": "2022-10-15T18:59:11.247Z"
   },
   {
    "duration": 10,
    "start_time": "2022-10-15T18:59:17.013Z"
   },
   {
    "duration": 9,
    "start_time": "2022-10-15T18:59:17.026Z"
   },
   {
    "duration": 14,
    "start_time": "2022-10-15T18:59:17.037Z"
   },
   {
    "duration": 17,
    "start_time": "2022-10-15T18:59:17.053Z"
   },
   {
    "duration": 5708,
    "start_time": "2022-10-15T18:59:17.071Z"
   },
   {
    "duration": 11,
    "start_time": "2022-10-15T18:59:22.781Z"
   },
   {
    "duration": 5,
    "start_time": "2022-10-15T18:59:22.794Z"
   },
   {
    "duration": 5647,
    "start_time": "2022-10-15T18:59:22.800Z"
   },
   {
    "duration": 4,
    "start_time": "2022-10-15T18:59:28.449Z"
   },
   {
    "duration": 8,
    "start_time": "2022-10-15T18:59:28.454Z"
   },
   {
    "duration": 12,
    "start_time": "2022-10-15T18:59:28.463Z"
   },
   {
    "duration": 16,
    "start_time": "2022-10-15T18:59:28.477Z"
   },
   {
    "duration": 14,
    "start_time": "2022-10-15T18:59:28.495Z"
   },
   {
    "duration": 7,
    "start_time": "2022-10-15T18:59:28.511Z"
   },
   {
    "duration": 32,
    "start_time": "2022-10-15T18:59:28.519Z"
   },
   {
    "duration": 44,
    "start_time": "2022-10-15T18:59:28.557Z"
   },
   {
    "duration": 62,
    "start_time": "2022-10-15T18:59:28.603Z"
   },
   {
    "duration": 11,
    "start_time": "2022-10-15T18:59:28.667Z"
   },
   {
    "duration": 8,
    "start_time": "2022-10-15T18:59:28.680Z"
   },
   {
    "duration": 20,
    "start_time": "2022-10-15T18:59:28.690Z"
   },
   {
    "duration": 7,
    "start_time": "2022-10-15T18:59:28.711Z"
   },
   {
    "duration": 6,
    "start_time": "2022-10-15T18:59:28.719Z"
   },
   {
    "duration": 5711,
    "start_time": "2022-10-15T18:59:28.726Z"
   },
   {
    "duration": 5,
    "start_time": "2022-10-15T18:59:34.438Z"
   },
   {
    "duration": 9,
    "start_time": "2022-10-15T18:59:34.445Z"
   },
   {
    "duration": 5516,
    "start_time": "2022-10-15T18:59:34.455Z"
   },
   {
    "duration": 4,
    "start_time": "2022-10-15T18:59:39.973Z"
   },
   {
    "duration": 6008,
    "start_time": "2022-10-15T18:59:39.979Z"
   },
   {
    "duration": 12,
    "start_time": "2022-10-15T18:59:45.991Z"
   },
   {
    "duration": 23,
    "start_time": "2022-10-15T18:59:46.004Z"
   },
   {
    "duration": 10,
    "start_time": "2022-10-15T18:59:46.029Z"
   },
   {
    "duration": 12,
    "start_time": "2022-10-15T18:59:46.041Z"
   },
   {
    "duration": 11,
    "start_time": "2022-10-15T18:59:46.055Z"
   },
   {
    "duration": 7,
    "start_time": "2022-10-15T18:59:46.089Z"
   },
   {
    "duration": 14,
    "start_time": "2022-10-15T18:59:46.099Z"
   },
   {
    "duration": 8,
    "start_time": "2022-10-15T18:59:46.115Z"
   },
   {
    "duration": 15,
    "start_time": "2022-10-15T18:59:46.124Z"
   },
   {
    "duration": 8,
    "start_time": "2022-10-15T18:59:46.141Z"
   },
   {
    "duration": 5601,
    "start_time": "2022-10-15T18:59:46.152Z"
   },
   {
    "duration": 5,
    "start_time": "2022-10-15T18:59:51.756Z"
   },
   {
    "duration": 15,
    "start_time": "2022-10-15T18:59:51.762Z"
   },
   {
    "duration": 13,
    "start_time": "2022-10-15T18:59:51.778Z"
   },
   {
    "duration": 32,
    "start_time": "2022-10-15T18:59:51.793Z"
   },
   {
    "duration": 6118,
    "start_time": "2022-10-15T18:59:51.827Z"
   },
   {
    "duration": 19,
    "start_time": "2022-10-15T18:59:57.946Z"
   },
   {
    "duration": 8,
    "start_time": "2022-10-15T18:59:57.967Z"
   },
   {
    "duration": 4,
    "start_time": "2022-10-15T18:59:57.989Z"
   },
   {
    "duration": 1938,
    "start_time": "2022-10-15T18:59:57.995Z"
   },
   {
    "duration": 7,
    "start_time": "2022-10-15T18:59:59.935Z"
   },
   {
    "duration": 14,
    "start_time": "2022-10-15T18:59:59.945Z"
   },
   {
    "duration": 24,
    "start_time": "2022-10-15T18:59:59.963Z"
   },
   {
    "duration": 48,
    "start_time": "2022-10-15T18:59:59.990Z"
   },
   {
    "duration": 45,
    "start_time": "2022-10-15T19:00:00.041Z"
   },
   {
    "duration": 47,
    "start_time": "2022-10-15T19:00:00.088Z"
   },
   {
    "duration": 34,
    "start_time": "2022-10-15T19:00:00.138Z"
   },
   {
    "duration": 56,
    "start_time": "2022-10-15T19:00:00.174Z"
   },
   {
    "duration": 8,
    "start_time": "2022-10-15T19:00:00.232Z"
   },
   {
    "duration": 16,
    "start_time": "2022-10-15T19:00:00.242Z"
   },
   {
    "duration": 30,
    "start_time": "2022-10-15T19:00:00.260Z"
   },
   {
    "duration": 105,
    "start_time": "2022-10-15T19:00:00.293Z"
   }
  ],
  "kernelspec": {
   "display_name": "Python 3 (ipykernel)",
   "language": "python",
   "name": "python3"
  },
  "language_info": {
   "codemirror_mode": {
    "name": "ipython",
    "version": 3
   },
   "file_extension": ".py",
   "mimetype": "text/x-python",
   "name": "python",
   "nbconvert_exporter": "python",
   "pygments_lexer": "ipython3",
   "version": "3.9.5"
  },
  "toc": {
   "base_numbering": 1,
   "nav_menu": {},
   "number_sections": true,
   "sideBar": true,
   "skip_h1_title": true,
   "title_cell": "Table of Contents",
   "title_sidebar": "Contents",
   "toc_cell": false,
   "toc_position": {
    "height": "calc(100% - 180px)",
    "left": "10px",
    "top": "150px",
    "width": "240.013px"
   },
   "toc_section_display": true,
   "toc_window_display": true
  }
 },
 "nbformat": 4,
 "nbformat_minor": 5
}

