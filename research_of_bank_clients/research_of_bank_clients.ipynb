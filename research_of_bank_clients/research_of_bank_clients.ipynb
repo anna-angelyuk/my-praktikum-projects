{
 "cells": [
  {
   "cell_type": "markdown",
   "id": "0ccf3da9",
   "metadata": {},
   "source": [
    "# Исследование надежности заемщиков"
   ]
  },
  {
   "cell_type": "markdown",
   "id": "bbe1e77e",
   "metadata": {},
   "source": [
    "Входные данные от банка — статистика о платёжеспособности клиентов.\n",
    "\n",
    "Задача определить влияет ли семейное положение, количество детей, уровень дохода и цель кредита на факт погашения кредита в срок."
   ]
  },
  {
   "cell_type": "markdown",
   "id": "292795b5",
   "metadata": {},
   "source": [
    "## Обзор данных"
   ]
  },
  {
   "cell_type": "code",
   "execution_count": 1,
   "id": "1a2f2cb2",
   "metadata": {},
   "outputs": [],
   "source": [
    "import pandas as pd"
   ]
  },
  {
   "cell_type": "code",
   "execution_count": 2,
   "id": "8e33b9d3",
   "metadata": {},
   "outputs": [
    {
     "data": {
      "text/html": [
       "<div>\n",
       "<style scoped>\n",
       "    .dataframe tbody tr th:only-of-type {\n",
       "        vertical-align: middle;\n",
       "    }\n",
       "\n",
       "    .dataframe tbody tr th {\n",
       "        vertical-align: top;\n",
       "    }\n",
       "\n",
       "    .dataframe thead th {\n",
       "        text-align: right;\n",
       "    }\n",
       "</style>\n",
       "<table border=\"1\" class=\"dataframe\">\n",
       "  <thead>\n",
       "    <tr style=\"text-align: right;\">\n",
       "      <th></th>\n",
       "      <th>children</th>\n",
       "      <th>days_employed</th>\n",
       "      <th>dob_years</th>\n",
       "      <th>education</th>\n",
       "      <th>education_id</th>\n",
       "      <th>family_status</th>\n",
       "      <th>family_status_id</th>\n",
       "      <th>gender</th>\n",
       "      <th>income_type</th>\n",
       "      <th>debt</th>\n",
       "      <th>total_income</th>\n",
       "      <th>purpose</th>\n",
       "    </tr>\n",
       "  </thead>\n",
       "  <tbody>\n",
       "    <tr>\n",
       "      <th>0</th>\n",
       "      <td>1</td>\n",
       "      <td>-8437.673028</td>\n",
       "      <td>42</td>\n",
       "      <td>высшее</td>\n",
       "      <td>0</td>\n",
       "      <td>женат / замужем</td>\n",
       "      <td>0</td>\n",
       "      <td>F</td>\n",
       "      <td>сотрудник</td>\n",
       "      <td>0</td>\n",
       "      <td>253875.639453</td>\n",
       "      <td>покупка жилья</td>\n",
       "    </tr>\n",
       "    <tr>\n",
       "      <th>1</th>\n",
       "      <td>1</td>\n",
       "      <td>-4024.803754</td>\n",
       "      <td>36</td>\n",
       "      <td>среднее</td>\n",
       "      <td>1</td>\n",
       "      <td>женат / замужем</td>\n",
       "      <td>0</td>\n",
       "      <td>F</td>\n",
       "      <td>сотрудник</td>\n",
       "      <td>0</td>\n",
       "      <td>112080.014102</td>\n",
       "      <td>приобретение автомобиля</td>\n",
       "    </tr>\n",
       "    <tr>\n",
       "      <th>2</th>\n",
       "      <td>0</td>\n",
       "      <td>-5623.422610</td>\n",
       "      <td>33</td>\n",
       "      <td>Среднее</td>\n",
       "      <td>1</td>\n",
       "      <td>женат / замужем</td>\n",
       "      <td>0</td>\n",
       "      <td>M</td>\n",
       "      <td>сотрудник</td>\n",
       "      <td>0</td>\n",
       "      <td>145885.952297</td>\n",
       "      <td>покупка жилья</td>\n",
       "    </tr>\n",
       "    <tr>\n",
       "      <th>3</th>\n",
       "      <td>3</td>\n",
       "      <td>-4124.747207</td>\n",
       "      <td>32</td>\n",
       "      <td>среднее</td>\n",
       "      <td>1</td>\n",
       "      <td>женат / замужем</td>\n",
       "      <td>0</td>\n",
       "      <td>M</td>\n",
       "      <td>сотрудник</td>\n",
       "      <td>0</td>\n",
       "      <td>267628.550329</td>\n",
       "      <td>дополнительное образование</td>\n",
       "    </tr>\n",
       "    <tr>\n",
       "      <th>4</th>\n",
       "      <td>0</td>\n",
       "      <td>340266.072047</td>\n",
       "      <td>53</td>\n",
       "      <td>среднее</td>\n",
       "      <td>1</td>\n",
       "      <td>гражданский брак</td>\n",
       "      <td>1</td>\n",
       "      <td>F</td>\n",
       "      <td>пенсионер</td>\n",
       "      <td>0</td>\n",
       "      <td>158616.077870</td>\n",
       "      <td>сыграть свадьбу</td>\n",
       "    </tr>\n",
       "    <tr>\n",
       "      <th>5</th>\n",
       "      <td>0</td>\n",
       "      <td>-926.185831</td>\n",
       "      <td>27</td>\n",
       "      <td>высшее</td>\n",
       "      <td>0</td>\n",
       "      <td>гражданский брак</td>\n",
       "      <td>1</td>\n",
       "      <td>M</td>\n",
       "      <td>компаньон</td>\n",
       "      <td>0</td>\n",
       "      <td>255763.565419</td>\n",
       "      <td>покупка жилья</td>\n",
       "    </tr>\n",
       "    <tr>\n",
       "      <th>6</th>\n",
       "      <td>0</td>\n",
       "      <td>-2879.202052</td>\n",
       "      <td>43</td>\n",
       "      <td>высшее</td>\n",
       "      <td>0</td>\n",
       "      <td>женат / замужем</td>\n",
       "      <td>0</td>\n",
       "      <td>F</td>\n",
       "      <td>компаньон</td>\n",
       "      <td>0</td>\n",
       "      <td>240525.971920</td>\n",
       "      <td>операции с жильем</td>\n",
       "    </tr>\n",
       "    <tr>\n",
       "      <th>7</th>\n",
       "      <td>0</td>\n",
       "      <td>-152.779569</td>\n",
       "      <td>50</td>\n",
       "      <td>СРЕДНЕЕ</td>\n",
       "      <td>1</td>\n",
       "      <td>женат / замужем</td>\n",
       "      <td>0</td>\n",
       "      <td>M</td>\n",
       "      <td>сотрудник</td>\n",
       "      <td>0</td>\n",
       "      <td>135823.934197</td>\n",
       "      <td>образование</td>\n",
       "    </tr>\n",
       "    <tr>\n",
       "      <th>8</th>\n",
       "      <td>2</td>\n",
       "      <td>-6929.865299</td>\n",
       "      <td>35</td>\n",
       "      <td>ВЫСШЕЕ</td>\n",
       "      <td>0</td>\n",
       "      <td>гражданский брак</td>\n",
       "      <td>1</td>\n",
       "      <td>F</td>\n",
       "      <td>сотрудник</td>\n",
       "      <td>0</td>\n",
       "      <td>95856.832424</td>\n",
       "      <td>на проведение свадьбы</td>\n",
       "    </tr>\n",
       "    <tr>\n",
       "      <th>9</th>\n",
       "      <td>0</td>\n",
       "      <td>-2188.756445</td>\n",
       "      <td>41</td>\n",
       "      <td>среднее</td>\n",
       "      <td>1</td>\n",
       "      <td>женат / замужем</td>\n",
       "      <td>0</td>\n",
       "      <td>M</td>\n",
       "      <td>сотрудник</td>\n",
       "      <td>0</td>\n",
       "      <td>144425.938277</td>\n",
       "      <td>покупка жилья для семьи</td>\n",
       "    </tr>\n",
       "  </tbody>\n",
       "</table>\n",
       "</div>"
      ],
      "text/plain": [
       "   children  days_employed  dob_years education  education_id  \\\n",
       "0         1   -8437.673028         42    высшее             0   \n",
       "1         1   -4024.803754         36   среднее             1   \n",
       "2         0   -5623.422610         33   Среднее             1   \n",
       "3         3   -4124.747207         32   среднее             1   \n",
       "4         0  340266.072047         53   среднее             1   \n",
       "5         0    -926.185831         27    высшее             0   \n",
       "6         0   -2879.202052         43    высшее             0   \n",
       "7         0    -152.779569         50   СРЕДНЕЕ             1   \n",
       "8         2   -6929.865299         35    ВЫСШЕЕ             0   \n",
       "9         0   -2188.756445         41   среднее             1   \n",
       "\n",
       "      family_status  family_status_id gender income_type  debt   total_income  \\\n",
       "0   женат / замужем                 0      F   сотрудник     0  253875.639453   \n",
       "1   женат / замужем                 0      F   сотрудник     0  112080.014102   \n",
       "2   женат / замужем                 0      M   сотрудник     0  145885.952297   \n",
       "3   женат / замужем                 0      M   сотрудник     0  267628.550329   \n",
       "4  гражданский брак                 1      F   пенсионер     0  158616.077870   \n",
       "5  гражданский брак                 1      M   компаньон     0  255763.565419   \n",
       "6   женат / замужем                 0      F   компаньон     0  240525.971920   \n",
       "7   женат / замужем                 0      M   сотрудник     0  135823.934197   \n",
       "8  гражданский брак                 1      F   сотрудник     0   95856.832424   \n",
       "9   женат / замужем                 0      M   сотрудник     0  144425.938277   \n",
       "\n",
       "                      purpose  \n",
       "0               покупка жилья  \n",
       "1     приобретение автомобиля  \n",
       "2               покупка жилья  \n",
       "3  дополнительное образование  \n",
       "4             сыграть свадьбу  \n",
       "5               покупка жилья  \n",
       "6           операции с жильем  \n",
       "7                 образование  \n",
       "8       на проведение свадьбы  \n",
       "9     покупка жилья для семьи  "
      ]
     },
     "execution_count": 2,
     "metadata": {},
     "output_type": "execute_result"
    }
   ],
   "source": [
    "df = pd.read_csv('/datasets/data.csv')\n",
    "df.head(10)"
   ]
  },
  {
   "cell_type": "code",
   "execution_count": 3,
   "id": "fcd5585b",
   "metadata": {},
   "outputs": [
    {
     "name": "stdout",
     "output_type": "stream",
     "text": [
      "<class 'pandas.core.frame.DataFrame'>\n",
      "RangeIndex: 21525 entries, 0 to 21524\n",
      "Data columns (total 12 columns):\n",
      " #   Column            Non-Null Count  Dtype  \n",
      "---  ------            --------------  -----  \n",
      " 0   children          21525 non-null  int64  \n",
      " 1   days_employed     19351 non-null  float64\n",
      " 2   dob_years         21525 non-null  int64  \n",
      " 3   education         21525 non-null  object \n",
      " 4   education_id      21525 non-null  int64  \n",
      " 5   family_status     21525 non-null  object \n",
      " 6   family_status_id  21525 non-null  int64  \n",
      " 7   gender            21525 non-null  object \n",
      " 8   income_type       21525 non-null  object \n",
      " 9   debt              21525 non-null  int64  \n",
      " 10  total_income      19351 non-null  float64\n",
      " 11  purpose           21525 non-null  object \n",
      "dtypes: float64(2), int64(5), object(5)\n",
      "memory usage: 2.0+ MB\n"
     ]
    }
   ],
   "source": [
    "df.info()"
   ]
  },
  {
   "cell_type": "markdown",
   "id": "d9cc17d2",
   "metadata": {},
   "source": [
    "В таблице 12 столбцов. Названия колонок без нарушения стиля.\n",
    "Имеем описание данных:\n",
    "- children — количество детей в семье\n",
    "- days_employed — общий трудовой стаж в днях\n",
    "- dob_years — возраст клиента в годах\n",
    "- education — уровень образования клиента\n",
    "- education_id — идентификатор уровня образования\n",
    "- family_status — семейное положение\n",
    "- family_status_id — идентификатор семейного положения\n",
    "- gender — пол клиента\n",
    "- income_type — тип занятости\n",
    "- debt — имел ли задолженность по возврату кредитов\n",
    "- total_income — ежемесячный доход\n",
    "- purpose — цель получения кредита\n",
    "   \n",
    "   Что не так:\n",
    "1. Количество значений в 'days_employed' (19351) и 'total_income' (19351) отличается от остальных (21525):\n",
    "10% - пропущенные значения (разница между 21525 и 19351, в %). Количество одинаковое (по 19351). Гипотеза: возможно пропуски в одних и тех же строках. \n",
    "2. Значения в колонке общий трудовой стаж в днях (days_employed) присутствуют отрицательные. Это артефакты, человеческий фактор. Гипотеза: это могло быть желание поставить тире при внесении данных.\n",
    "3. Типы данных различны в столбцах: float64(2), int64(5), object(5). Имеет смысл перевести в колонках days_employed и total_income тип данных из float в int.\n",
    "4. В колонке education присутствуют значения, записанные с использованием заглавных и строчных букв.\n",
    "5. Проверить остальные столбцы на дубликаты и артефакты. "
   ]
  },
  {
   "cell_type": "markdown",
   "id": "ba29595f",
   "metadata": {},
   "source": [
    "## Заполнение пропусков"
   ]
  },
  {
   "cell_type": "code",
   "execution_count": 4,
   "id": "533d09a1",
   "metadata": {},
   "outputs": [
    {
     "data": {
      "text/html": [
       "<div>\n",
       "<style scoped>\n",
       "    .dataframe tbody tr th:only-of-type {\n",
       "        vertical-align: middle;\n",
       "    }\n",
       "\n",
       "    .dataframe tbody tr th {\n",
       "        vertical-align: top;\n",
       "    }\n",
       "\n",
       "    .dataframe thead th {\n",
       "        text-align: right;\n",
       "    }\n",
       "</style>\n",
       "<table border=\"1\" class=\"dataframe\">\n",
       "  <thead>\n",
       "    <tr style=\"text-align: right;\">\n",
       "      <th></th>\n",
       "      <th>children</th>\n",
       "      <th>days_employed</th>\n",
       "      <th>dob_years</th>\n",
       "      <th>education</th>\n",
       "      <th>education_id</th>\n",
       "      <th>family_status</th>\n",
       "      <th>family_status_id</th>\n",
       "      <th>gender</th>\n",
       "      <th>income_type</th>\n",
       "      <th>debt</th>\n",
       "      <th>total_income</th>\n",
       "      <th>purpose</th>\n",
       "    </tr>\n",
       "  </thead>\n",
       "  <tbody>\n",
       "    <tr>\n",
       "      <th>12</th>\n",
       "      <td>0</td>\n",
       "      <td>NaN</td>\n",
       "      <td>65</td>\n",
       "      <td>среднее</td>\n",
       "      <td>1</td>\n",
       "      <td>гражданский брак</td>\n",
       "      <td>1</td>\n",
       "      <td>M</td>\n",
       "      <td>пенсионер</td>\n",
       "      <td>0</td>\n",
       "      <td>NaN</td>\n",
       "      <td>сыграть свадьбу</td>\n",
       "    </tr>\n",
       "    <tr>\n",
       "      <th>26</th>\n",
       "      <td>0</td>\n",
       "      <td>NaN</td>\n",
       "      <td>41</td>\n",
       "      <td>среднее</td>\n",
       "      <td>1</td>\n",
       "      <td>женат / замужем</td>\n",
       "      <td>0</td>\n",
       "      <td>M</td>\n",
       "      <td>госслужащий</td>\n",
       "      <td>0</td>\n",
       "      <td>NaN</td>\n",
       "      <td>образование</td>\n",
       "    </tr>\n",
       "    <tr>\n",
       "      <th>29</th>\n",
       "      <td>0</td>\n",
       "      <td>NaN</td>\n",
       "      <td>63</td>\n",
       "      <td>среднее</td>\n",
       "      <td>1</td>\n",
       "      <td>Не женат / не замужем</td>\n",
       "      <td>4</td>\n",
       "      <td>F</td>\n",
       "      <td>пенсионер</td>\n",
       "      <td>0</td>\n",
       "      <td>NaN</td>\n",
       "      <td>строительство жилой недвижимости</td>\n",
       "    </tr>\n",
       "    <tr>\n",
       "      <th>41</th>\n",
       "      <td>0</td>\n",
       "      <td>NaN</td>\n",
       "      <td>50</td>\n",
       "      <td>среднее</td>\n",
       "      <td>1</td>\n",
       "      <td>женат / замужем</td>\n",
       "      <td>0</td>\n",
       "      <td>F</td>\n",
       "      <td>госслужащий</td>\n",
       "      <td>0</td>\n",
       "      <td>NaN</td>\n",
       "      <td>сделка с подержанным автомобилем</td>\n",
       "    </tr>\n",
       "    <tr>\n",
       "      <th>55</th>\n",
       "      <td>0</td>\n",
       "      <td>NaN</td>\n",
       "      <td>54</td>\n",
       "      <td>среднее</td>\n",
       "      <td>1</td>\n",
       "      <td>гражданский брак</td>\n",
       "      <td>1</td>\n",
       "      <td>F</td>\n",
       "      <td>пенсионер</td>\n",
       "      <td>1</td>\n",
       "      <td>NaN</td>\n",
       "      <td>сыграть свадьбу</td>\n",
       "    </tr>\n",
       "    <tr>\n",
       "      <th>65</th>\n",
       "      <td>0</td>\n",
       "      <td>NaN</td>\n",
       "      <td>21</td>\n",
       "      <td>среднее</td>\n",
       "      <td>1</td>\n",
       "      <td>Не женат / не замужем</td>\n",
       "      <td>4</td>\n",
       "      <td>M</td>\n",
       "      <td>компаньон</td>\n",
       "      <td>0</td>\n",
       "      <td>NaN</td>\n",
       "      <td>операции с коммерческой недвижимостью</td>\n",
       "    </tr>\n",
       "    <tr>\n",
       "      <th>67</th>\n",
       "      <td>0</td>\n",
       "      <td>NaN</td>\n",
       "      <td>52</td>\n",
       "      <td>высшее</td>\n",
       "      <td>0</td>\n",
       "      <td>женат / замужем</td>\n",
       "      <td>0</td>\n",
       "      <td>F</td>\n",
       "      <td>пенсионер</td>\n",
       "      <td>0</td>\n",
       "      <td>NaN</td>\n",
       "      <td>покупка жилья для семьи</td>\n",
       "    </tr>\n",
       "    <tr>\n",
       "      <th>72</th>\n",
       "      <td>1</td>\n",
       "      <td>NaN</td>\n",
       "      <td>32</td>\n",
       "      <td>высшее</td>\n",
       "      <td>0</td>\n",
       "      <td>женат / замужем</td>\n",
       "      <td>0</td>\n",
       "      <td>M</td>\n",
       "      <td>госслужащий</td>\n",
       "      <td>0</td>\n",
       "      <td>NaN</td>\n",
       "      <td>операции с коммерческой недвижимостью</td>\n",
       "    </tr>\n",
       "    <tr>\n",
       "      <th>82</th>\n",
       "      <td>2</td>\n",
       "      <td>NaN</td>\n",
       "      <td>50</td>\n",
       "      <td>высшее</td>\n",
       "      <td>0</td>\n",
       "      <td>женат / замужем</td>\n",
       "      <td>0</td>\n",
       "      <td>F</td>\n",
       "      <td>сотрудник</td>\n",
       "      <td>0</td>\n",
       "      <td>NaN</td>\n",
       "      <td>жилье</td>\n",
       "    </tr>\n",
       "    <tr>\n",
       "      <th>83</th>\n",
       "      <td>0</td>\n",
       "      <td>NaN</td>\n",
       "      <td>52</td>\n",
       "      <td>среднее</td>\n",
       "      <td>1</td>\n",
       "      <td>женат / замужем</td>\n",
       "      <td>0</td>\n",
       "      <td>M</td>\n",
       "      <td>сотрудник</td>\n",
       "      <td>0</td>\n",
       "      <td>NaN</td>\n",
       "      <td>жилье</td>\n",
       "    </tr>\n",
       "  </tbody>\n",
       "</table>\n",
       "</div>"
      ],
      "text/plain": [
       "    children  days_employed  dob_years education  education_id  \\\n",
       "12         0            NaN         65   среднее             1   \n",
       "26         0            NaN         41   среднее             1   \n",
       "29         0            NaN         63   среднее             1   \n",
       "41         0            NaN         50   среднее             1   \n",
       "55         0            NaN         54   среднее             1   \n",
       "65         0            NaN         21   среднее             1   \n",
       "67         0            NaN         52    высшее             0   \n",
       "72         1            NaN         32    высшее             0   \n",
       "82         2            NaN         50    высшее             0   \n",
       "83         0            NaN         52   среднее             1   \n",
       "\n",
       "            family_status  family_status_id gender  income_type  debt  \\\n",
       "12       гражданский брак                 1      M    пенсионер     0   \n",
       "26        женат / замужем                 0      M  госслужащий     0   \n",
       "29  Не женат / не замужем                 4      F    пенсионер     0   \n",
       "41        женат / замужем                 0      F  госслужащий     0   \n",
       "55       гражданский брак                 1      F    пенсионер     1   \n",
       "65  Не женат / не замужем                 4      M    компаньон     0   \n",
       "67        женат / замужем                 0      F    пенсионер     0   \n",
       "72        женат / замужем                 0      M  госслужащий     0   \n",
       "82        женат / замужем                 0      F    сотрудник     0   \n",
       "83        женат / замужем                 0      M    сотрудник     0   \n",
       "\n",
       "    total_income                                purpose  \n",
       "12           NaN                        сыграть свадьбу  \n",
       "26           NaN                            образование  \n",
       "29           NaN       строительство жилой недвижимости  \n",
       "41           NaN       сделка с подержанным автомобилем  \n",
       "55           NaN                        сыграть свадьбу  \n",
       "65           NaN  операции с коммерческой недвижимостью  \n",
       "67           NaN                покупка жилья для семьи  \n",
       "72           NaN  операции с коммерческой недвижимостью  \n",
       "82           NaN                                  жилье  \n",
       "83           NaN                                  жилье  "
      ]
     },
     "execution_count": 4,
     "metadata": {},
     "output_type": "execute_result"
    }
   ],
   "source": [
    "df[df['days_employed'].isna()].head(10) # проверка на пропуски"
   ]
  },
  {
   "cell_type": "markdown",
   "id": "72261e58",
   "metadata": {},
   "source": [
    "    Гипотеза подтверждается - пропуски в колонках days_employed и total_income на одних и тех же строчках. \n",
    "    Значит ошибка техническая, ошибка записи данных или ошибка выгрузки данных. \n",
    "    Можно сказать разработчикам, т.к. 10 % пропусков это много.\n",
    "    Попробуем своими силами заполнить пропуски. Но сначала избавимся от отрицательных значений в days_employed."
   ]
  },
  {
   "cell_type": "code",
   "execution_count": 5,
   "id": "8503bf7e",
   "metadata": {},
   "outputs": [],
   "source": [
    "df['days_employed'] = df['days_employed'].abs()  # применим функцию abs(), возвращает абсолютную величину. "
   ]
  },
  {
   "cell_type": "code",
   "execution_count": 6,
   "id": "a736a77a",
   "metadata": {},
   "outputs": [
    {
     "data": {
      "text/html": [
       "<div>\n",
       "<style scoped>\n",
       "    .dataframe tbody tr th:only-of-type {\n",
       "        vertical-align: middle;\n",
       "    }\n",
       "\n",
       "    .dataframe tbody tr th {\n",
       "        vertical-align: top;\n",
       "    }\n",
       "\n",
       "    .dataframe thead th {\n",
       "        text-align: right;\n",
       "    }\n",
       "</style>\n",
       "<table border=\"1\" class=\"dataframe\">\n",
       "  <thead>\n",
       "    <tr style=\"text-align: right;\">\n",
       "      <th></th>\n",
       "      <th>children</th>\n",
       "      <th>days_employed</th>\n",
       "      <th>dob_years</th>\n",
       "      <th>education</th>\n",
       "      <th>education_id</th>\n",
       "      <th>family_status</th>\n",
       "      <th>family_status_id</th>\n",
       "      <th>gender</th>\n",
       "      <th>income_type</th>\n",
       "      <th>debt</th>\n",
       "      <th>total_income</th>\n",
       "      <th>purpose</th>\n",
       "    </tr>\n",
       "  </thead>\n",
       "  <tbody>\n",
       "    <tr>\n",
       "      <th>0</th>\n",
       "      <td>1</td>\n",
       "      <td>8437.673028</td>\n",
       "      <td>42</td>\n",
       "      <td>высшее</td>\n",
       "      <td>0</td>\n",
       "      <td>женат / замужем</td>\n",
       "      <td>0</td>\n",
       "      <td>F</td>\n",
       "      <td>сотрудник</td>\n",
       "      <td>0</td>\n",
       "      <td>253875.639453</td>\n",
       "      <td>покупка жилья</td>\n",
       "    </tr>\n",
       "    <tr>\n",
       "      <th>1</th>\n",
       "      <td>1</td>\n",
       "      <td>4024.803754</td>\n",
       "      <td>36</td>\n",
       "      <td>среднее</td>\n",
       "      <td>1</td>\n",
       "      <td>женат / замужем</td>\n",
       "      <td>0</td>\n",
       "      <td>F</td>\n",
       "      <td>сотрудник</td>\n",
       "      <td>0</td>\n",
       "      <td>112080.014102</td>\n",
       "      <td>приобретение автомобиля</td>\n",
       "    </tr>\n",
       "    <tr>\n",
       "      <th>2</th>\n",
       "      <td>0</td>\n",
       "      <td>5623.422610</td>\n",
       "      <td>33</td>\n",
       "      <td>Среднее</td>\n",
       "      <td>1</td>\n",
       "      <td>женат / замужем</td>\n",
       "      <td>0</td>\n",
       "      <td>M</td>\n",
       "      <td>сотрудник</td>\n",
       "      <td>0</td>\n",
       "      <td>145885.952297</td>\n",
       "      <td>покупка жилья</td>\n",
       "    </tr>\n",
       "    <tr>\n",
       "      <th>3</th>\n",
       "      <td>3</td>\n",
       "      <td>4124.747207</td>\n",
       "      <td>32</td>\n",
       "      <td>среднее</td>\n",
       "      <td>1</td>\n",
       "      <td>женат / замужем</td>\n",
       "      <td>0</td>\n",
       "      <td>M</td>\n",
       "      <td>сотрудник</td>\n",
       "      <td>0</td>\n",
       "      <td>267628.550329</td>\n",
       "      <td>дополнительное образование</td>\n",
       "    </tr>\n",
       "    <tr>\n",
       "      <th>4</th>\n",
       "      <td>0</td>\n",
       "      <td>340266.072047</td>\n",
       "      <td>53</td>\n",
       "      <td>среднее</td>\n",
       "      <td>1</td>\n",
       "      <td>гражданский брак</td>\n",
       "      <td>1</td>\n",
       "      <td>F</td>\n",
       "      <td>пенсионер</td>\n",
       "      <td>0</td>\n",
       "      <td>158616.077870</td>\n",
       "      <td>сыграть свадьбу</td>\n",
       "    </tr>\n",
       "  </tbody>\n",
       "</table>\n",
       "</div>"
      ],
      "text/plain": [
       "   children  days_employed  dob_years education  education_id  \\\n",
       "0         1    8437.673028         42    высшее             0   \n",
       "1         1    4024.803754         36   среднее             1   \n",
       "2         0    5623.422610         33   Среднее             1   \n",
       "3         3    4124.747207         32   среднее             1   \n",
       "4         0  340266.072047         53   среднее             1   \n",
       "\n",
       "      family_status  family_status_id gender income_type  debt   total_income  \\\n",
       "0   женат / замужем                 0      F   сотрудник     0  253875.639453   \n",
       "1   женат / замужем                 0      F   сотрудник     0  112080.014102   \n",
       "2   женат / замужем                 0      M   сотрудник     0  145885.952297   \n",
       "3   женат / замужем                 0      M   сотрудник     0  267628.550329   \n",
       "4  гражданский брак                 1      F   пенсионер     0  158616.077870   \n",
       "\n",
       "                      purpose  \n",
       "0               покупка жилья  \n",
       "1     приобретение автомобиля  \n",
       "2               покупка жилья  \n",
       "3  дополнительное образование  \n",
       "4             сыграть свадьбу  "
      ]
     },
     "execution_count": 6,
     "metadata": {},
     "output_type": "execute_result"
    }
   ],
   "source": [
    "df.head() # отрицательные значения стали положительными"
   ]
  },
  {
   "cell_type": "code",
   "execution_count": 7,
   "id": "fafe9ccb",
   "metadata": {},
   "outputs": [
    {
     "name": "stdout",
     "output_type": "stream",
     "text": [
      "Медиана \"days_employed\": 2194.220566878695  В годах: 6.0115631969279315\n",
      "Среднее значение \"days_employed\": 66914.72890682236  В годах: 183.32802440225305\n",
      "Минимум \"days_employed\": 24.14163324048118  В годах: 0.06614146093282515\n",
      "Максимум \"days_employed\": 401755.40047533  В годах: 1100.6997273296713\n"
     ]
    }
   ],
   "source": [
    "print('Медиана \"days_employed\":', df['days_employed'].median(), ' В годах:', df['days_employed'].median() / 365)\n",
    "print('Среднее значение \"days_employed\":', df['days_employed'].mean(), ' В годах:', df['days_employed'].mean() / 365)\n",
    "print('Минимум \"days_employed\":', df['days_employed'].min(), ' В годах:', df['days_employed'].min() / 365)\n",
    "print('Максимум \"days_employed\":', df['days_employed'].max(), ' В годах:', df['days_employed'].max() / 365)\n",
    "# проверим значения колонки \"трудовой стаж в днях\", определим описательные метрики"
   ]
  },
  {
   "cell_type": "markdown",
   "id": "bea2caac",
   "metadata": {},
   "source": [
    "    1. В колонке \"days_employed\" - ошибка, не ясна единица измерения.\n",
    "    2. Аномально высокие значения в столбце days_employed можно разделить на 24 (есть гипотеза, что эти значения получились из-за того, что стаж указан в часах) и тогда получится вполне себе адекватный стаж (но имеет смысл уточнить могла ли быть такая ошибка при выгрузке/заполнении данных)\n",
    "    3. Гораздо важнее сообщить об ошибке разработчикам, для выяснения на каком этапе происходит сбой и устранения ошибки выдачи некорректной информации."
   ]
  },
  {
   "cell_type": "markdown",
   "id": "e3326da9",
   "metadata": {},
   "source": [
    "Заполним пропуски NAN в столбце 'total_income' медианным значением, в зависимости от типа занятости.\n",
    "\n",
    "    Медиана является более объективной информацией при определении дохода, чем среднее значение.\n",
    "    Ровно половина выборки имеет доход меньше медианного значение и ровно половина больше."
   ]
  },
  {
   "cell_type": "code",
   "execution_count": 8,
   "id": "f7fbe04e",
   "metadata": {},
   "outputs": [],
   "source": [
    "df['total_income'] = df['total_income'].fillna(df.groupby('income_type')['total_income'].transform('median'))\n",
    "   # заменим пропуски медианой, в зависимости от типа занятости (этот параметр сильнее всего влияет на уровень зарплаты)\n",
    "   # с помощью функции transform"
   ]
  },
  {
   "cell_type": "code",
   "execution_count": 9,
   "id": "dc8b44a4",
   "metadata": {},
   "outputs": [
    {
     "data": {
      "text/html": [
       "<div>\n",
       "<style scoped>\n",
       "    .dataframe tbody tr th:only-of-type {\n",
       "        vertical-align: middle;\n",
       "    }\n",
       "\n",
       "    .dataframe tbody tr th {\n",
       "        vertical-align: top;\n",
       "    }\n",
       "\n",
       "    .dataframe thead th {\n",
       "        text-align: right;\n",
       "    }\n",
       "</style>\n",
       "<table border=\"1\" class=\"dataframe\">\n",
       "  <thead>\n",
       "    <tr style=\"text-align: right;\">\n",
       "      <th></th>\n",
       "      <th>children</th>\n",
       "      <th>days_employed</th>\n",
       "      <th>dob_years</th>\n",
       "      <th>education</th>\n",
       "      <th>education_id</th>\n",
       "      <th>family_status</th>\n",
       "      <th>family_status_id</th>\n",
       "      <th>gender</th>\n",
       "      <th>income_type</th>\n",
       "      <th>debt</th>\n",
       "      <th>total_income</th>\n",
       "      <th>purpose</th>\n",
       "    </tr>\n",
       "  </thead>\n",
       "  <tbody>\n",
       "  </tbody>\n",
       "</table>\n",
       "</div>"
      ],
      "text/plain": [
       "Empty DataFrame\n",
       "Columns: [children, days_employed, dob_years, education, education_id, family_status, family_status_id, gender, income_type, debt, total_income, purpose]\n",
       "Index: []"
      ]
     },
     "execution_count": 9,
     "metadata": {},
     "output_type": "execute_result"
    }
   ],
   "source": [
    "df[df['total_income'].isna()].head(10)  # проверим еще раз на пропуски, результат - пропусков нет"
   ]
  },
  {
   "cell_type": "markdown",
   "id": "3350f640",
   "metadata": {},
   "source": [
    "## Проверка данных на аномалии и исправления"
   ]
  },
  {
   "cell_type": "markdown",
   "id": "0c73ea77",
   "metadata": {},
   "source": [
    "Проверим на аномалии колонку Количество детей"
   ]
  },
  {
   "cell_type": "code",
   "execution_count": 10,
   "id": "25f5139f",
   "metadata": {},
   "outputs": [
    {
     "data": {
      "text/plain": [
       " 0     14149\n",
       " 1      4818\n",
       " 2      2055\n",
       " 3       330\n",
       " 20       76\n",
       "-1        47\n",
       " 4        41\n",
       " 5         9\n",
       "Name: children, dtype: int64"
      ]
     },
     "execution_count": 10,
     "metadata": {},
     "output_type": "execute_result"
    }
   ],
   "source": [
    "df['children'].value_counts() # определим количество уникальных значений колонки 'children' "
   ]
  },
  {
   "cell_type": "markdown",
   "id": "efe9e606",
   "metadata": {},
   "source": [
    "    Есть аномалии.\n",
    "    Значение -1, опечатка, заменим на 1.\n",
    "    Значение 20 детей, это маловероятно, 0 приписали ошибочно, заменим на 2.\n",
    "    Количество опечаток не велико, значит ошибка ввода данных (человеческий фактор)."
   ]
  },
  {
   "cell_type": "code",
   "execution_count": 11,
   "id": "dda805d4",
   "metadata": {},
   "outputs": [],
   "source": [
    "df['children'] = df['children'].abs() # функция abs вернет значения по модулю "
   ]
  },
  {
   "cell_type": "code",
   "execution_count": 12,
   "id": "76e14998",
   "metadata": {},
   "outputs": [],
   "source": [
    "df['children'] = df['children'].replace(20, 2) # и метод replace для замены 20 на 2"
   ]
  },
  {
   "cell_type": "code",
   "execution_count": 13,
   "id": "e5032095",
   "metadata": {},
   "outputs": [
    {
     "data": {
      "text/plain": [
       "0    14149\n",
       "1     4865\n",
       "2     2131\n",
       "3      330\n",
       "4       41\n",
       "5        9\n",
       "Name: children, dtype: int64"
      ]
     },
     "execution_count": 13,
     "metadata": {},
     "output_type": "execute_result"
    }
   ],
   "source": [
    "df['children'].value_counts() # проверим еще раз уникальные значение, все ок"
   ]
  },
  {
   "cell_type": "code",
   "execution_count": 14,
   "id": "57e9eabc",
   "metadata": {},
   "outputs": [
    {
     "data": {
      "text/plain": [
       "35    617\n",
       "40    609\n",
       "41    607\n",
       "34    603\n",
       "38    598\n",
       "42    597\n",
       "33    581\n",
       "39    573\n",
       "31    560\n",
       "36    555\n",
       "44    547\n",
       "29    545\n",
       "30    540\n",
       "48    538\n",
       "37    537\n",
       "50    514\n",
       "43    513\n",
       "32    510\n",
       "49    508\n",
       "28    503\n",
       "45    497\n",
       "27    493\n",
       "56    487\n",
       "52    484\n",
       "47    480\n",
       "54    479\n",
       "46    475\n",
       "58    461\n",
       "57    460\n",
       "53    459\n",
       "51    448\n",
       "59    444\n",
       "55    443\n",
       "26    408\n",
       "60    377\n",
       "25    357\n",
       "61    355\n",
       "62    352\n",
       "63    269\n",
       "64    265\n",
       "24    264\n",
       "23    254\n",
       "65    194\n",
       "66    183\n",
       "22    183\n",
       "67    167\n",
       "21    111\n",
       "0     101\n",
       "68     99\n",
       "69     85\n",
       "70     65\n",
       "71     58\n",
       "20     51\n",
       "72     33\n",
       "19     14\n",
       "73      8\n",
       "74      6\n",
       "75      1\n",
       "Name: dob_years, dtype: int64"
      ]
     },
     "execution_count": 14,
     "metadata": {},
     "output_type": "execute_result"
    }
   ],
   "source": [
    "df['dob_years'].sort_values().value_counts() # проверим колонку возраст заемщика "
   ]
  },
  {
   "cell_type": "markdown",
   "id": "56c422cf",
   "metadata": {},
   "source": [
    "    Все значения возраста в рамках корректности, кроме нулевых значений. Заменять средним не будем, нулевых значений меньше 1 %, это не критично.\n",
    "    Просто посмотрим на среднее значение возраста."
   ]
  },
  {
   "cell_type": "code",
   "execution_count": 15,
   "id": "ddae339b",
   "metadata": {},
   "outputs": [
    {
     "name": "stdout",
     "output_type": "stream",
     "text": [
      "Медианное значение возраста: 42.0\n",
      "Средний возраст заемщика: 43.29337979094077\n"
     ]
    }
   ],
   "source": [
    "dob_years_mean = df['dob_years'].mean()\n",
    "print('Медианное значение возраста:', df['dob_years'].median())\n",
    "print('Средний возраст заемщика:', df['dob_years'].mean())"
   ]
  },
  {
   "cell_type": "markdown",
   "id": "9638002f",
   "metadata": {},
   "source": [
    "## Изменение типов данных"
   ]
  },
  {
   "cell_type": "markdown",
   "id": "67fcea6f",
   "metadata": {},
   "source": [
    "После заполнения пропусков на медианное значение в колонке 'total_income' изменим тип данных"
   ]
  },
  {
   "cell_type": "code",
   "execution_count": 16,
   "id": "b48805d5",
   "metadata": {},
   "outputs": [],
   "source": [
    "df['total_income'] = df['total_income'].astype('int')\n",
    "# применим метод astype, для перевода значений из вещественного в целочисленный тип данных"
   ]
  },
  {
   "cell_type": "code",
   "execution_count": 17,
   "id": "e25e9499",
   "metadata": {},
   "outputs": [
    {
     "name": "stdout",
     "output_type": "stream",
     "text": [
      "<class 'pandas.core.frame.DataFrame'>\n",
      "RangeIndex: 21525 entries, 0 to 21524\n",
      "Data columns (total 12 columns):\n",
      " #   Column            Non-Null Count  Dtype  \n",
      "---  ------            --------------  -----  \n",
      " 0   children          21525 non-null  int64  \n",
      " 1   days_employed     19351 non-null  float64\n",
      " 2   dob_years         21525 non-null  int64  \n",
      " 3   education         21525 non-null  object \n",
      " 4   education_id      21525 non-null  int64  \n",
      " 5   family_status     21525 non-null  object \n",
      " 6   family_status_id  21525 non-null  int64  \n",
      " 7   gender            21525 non-null  object \n",
      " 8   income_type       21525 non-null  object \n",
      " 9   debt              21525 non-null  int64  \n",
      " 10  total_income      21525 non-null  int64  \n",
      " 11  purpose           21525 non-null  object \n",
      "dtypes: float64(1), int64(6), object(5)\n",
      "memory usage: 2.0+ MB\n"
     ]
    }
   ],
   "source": [
    "df.info() # проверим результат изменений, total_income стал int64"
   ]
  },
  {
   "cell_type": "markdown",
   "id": "b03ddeb9",
   "metadata": {},
   "source": [
    "## Удаление дубликатов"
   ]
  },
  {
   "cell_type": "code",
   "execution_count": 18,
   "id": "0c4adc6d",
   "metadata": {},
   "outputs": [
    {
     "data": {
      "text/plain": [
       "array(['ВЫСШЕЕ', 'Высшее', 'НАЧАЛЬНОЕ', 'НЕОКОНЧЕННОЕ ВЫСШЕЕ',\n",
       "       'Начальное', 'Неоконченное высшее', 'СРЕДНЕЕ', 'Среднее',\n",
       "       'УЧЕНАЯ СТЕПЕНЬ', 'Ученая степень', 'высшее', 'начальное',\n",
       "       'неоконченное высшее', 'среднее', 'ученая степень'], dtype=object)"
      ]
     },
     "execution_count": 18,
     "metadata": {},
     "output_type": "execute_result"
    }
   ],
   "source": [
    "df['education'].sort_values().unique() # посмотрим уникальные значения колонки образование"
   ]
  },
  {
   "cell_type": "code",
   "execution_count": 19,
   "id": "12742be2",
   "metadata": {},
   "outputs": [],
   "source": [
    "df['education'] = df['education'].str.lower() # приведем значения к одному регистру и перезапишем"
   ]
  },
  {
   "cell_type": "code",
   "execution_count": 20,
   "id": "cec8cec6",
   "metadata": {},
   "outputs": [
    {
     "data": {
      "text/plain": [
       "array(['высшее', 'начальное', 'неоконченное высшее', 'среднее',\n",
       "       'ученая степень'], dtype=object)"
      ]
     },
     "execution_count": 20,
     "metadata": {},
     "output_type": "execute_result"
    }
   ],
   "source": [
    "df['education'].sort_values().unique() # проверим еще раз на уникальные значения"
   ]
  },
  {
   "cell_type": "markdown",
   "id": "14da8b98",
   "metadata": {},
   "source": [
    "    Также проверим остальные столбцы."
   ]
  },
  {
   "cell_type": "code",
   "execution_count": 21,
   "id": "0583e145",
   "metadata": {},
   "outputs": [
    {
     "data": {
      "text/plain": [
       "array(['Не женат / не замужем', 'в разводе', 'вдовец / вдова',\n",
       "       'гражданский брак', 'женат / замужем'], dtype=object)"
      ]
     },
     "execution_count": 21,
     "metadata": {},
     "output_type": "execute_result"
    }
   ],
   "source": [
    "df['family_status'].sort_values().unique()"
   ]
  },
  {
   "cell_type": "code",
   "execution_count": 22,
   "id": "b63989ac",
   "metadata": {},
   "outputs": [],
   "source": [
    "df['family_status'] = df['family_status'].str.lower()"
   ]
  },
  {
   "cell_type": "code",
   "execution_count": 23,
   "id": "0a914a0f",
   "metadata": {},
   "outputs": [
    {
     "data": {
      "text/plain": [
       "array(['F', 'M', 'XNA'], dtype=object)"
      ]
     },
     "execution_count": 23,
     "metadata": {},
     "output_type": "execute_result"
    }
   ],
   "source": [
    "df['gender'].sort_values().unique()"
   ]
  },
  {
   "cell_type": "code",
   "execution_count": 24,
   "id": "734f87da",
   "metadata": {},
   "outputs": [
    {
     "data": {
      "text/html": [
       "<div>\n",
       "<style scoped>\n",
       "    .dataframe tbody tr th:only-of-type {\n",
       "        vertical-align: middle;\n",
       "    }\n",
       "\n",
       "    .dataframe tbody tr th {\n",
       "        vertical-align: top;\n",
       "    }\n",
       "\n",
       "    .dataframe thead th {\n",
       "        text-align: right;\n",
       "    }\n",
       "</style>\n",
       "<table border=\"1\" class=\"dataframe\">\n",
       "  <thead>\n",
       "    <tr style=\"text-align: right;\">\n",
       "      <th></th>\n",
       "      <th>children</th>\n",
       "      <th>days_employed</th>\n",
       "      <th>dob_years</th>\n",
       "      <th>education</th>\n",
       "      <th>education_id</th>\n",
       "      <th>family_status</th>\n",
       "      <th>family_status_id</th>\n",
       "      <th>gender</th>\n",
       "      <th>income_type</th>\n",
       "      <th>debt</th>\n",
       "      <th>total_income</th>\n",
       "      <th>purpose</th>\n",
       "    </tr>\n",
       "  </thead>\n",
       "  <tbody>\n",
       "    <tr>\n",
       "      <th>10701</th>\n",
       "      <td>0</td>\n",
       "      <td>2358.600502</td>\n",
       "      <td>24</td>\n",
       "      <td>неоконченное высшее</td>\n",
       "      <td>2</td>\n",
       "      <td>гражданский брак</td>\n",
       "      <td>1</td>\n",
       "      <td>XNA</td>\n",
       "      <td>компаньон</td>\n",
       "      <td>0</td>\n",
       "      <td>203905</td>\n",
       "      <td>покупка недвижимости</td>\n",
       "    </tr>\n",
       "  </tbody>\n",
       "</table>\n",
       "</div>"
      ],
      "text/plain": [
       "       children  days_employed  dob_years            education  education_id  \\\n",
       "10701         0    2358.600502         24  неоконченное высшее             2   \n",
       "\n",
       "          family_status  family_status_id gender income_type  debt  \\\n",
       "10701  гражданский брак                 1    XNA   компаньон     0   \n",
       "\n",
       "       total_income               purpose  \n",
       "10701        203905  покупка недвижимости  "
      ]
     },
     "execution_count": 24,
     "metadata": {},
     "output_type": "execute_result"
    }
   ],
   "source": [
    "df[df['gender'] ==  'XNA']  # проверим что это XNA"
   ]
  },
  {
   "cell_type": "markdown",
   "id": "f0583078",
   "metadata": {},
   "source": [
    "    Одна строчка со значением XNA. Это не критично, просто заменим ее например, на M - мужской пол."
   ]
  },
  {
   "cell_type": "code",
   "execution_count": 25,
   "id": "bf744dcc",
   "metadata": {},
   "outputs": [],
   "source": [
    "df['gender'] = df['gender'].replace('XNA','M') # применим метод replace"
   ]
  },
  {
   "cell_type": "code",
   "execution_count": 26,
   "id": "953daec6",
   "metadata": {},
   "outputs": [
    {
     "data": {
      "text/plain": [
       "array(['F', 'M'], dtype=object)"
      ]
     },
     "execution_count": 26,
     "metadata": {},
     "output_type": "execute_result"
    }
   ],
   "source": [
    "df['gender'].sort_values().unique()  # пол XNA больше нет в данных "
   ]
  },
  {
   "cell_type": "code",
   "execution_count": 27,
   "id": "f64d6f8e",
   "metadata": {},
   "outputs": [
    {
     "data": {
      "text/plain": [
       "array(['безработный', 'в декрете', 'госслужащий', 'компаньон',\n",
       "       'пенсионер', 'предприниматель', 'сотрудник', 'студент'],\n",
       "      dtype=object)"
      ]
     },
     "execution_count": 27,
     "metadata": {},
     "output_type": "execute_result"
    }
   ],
   "source": [
    "df['income_type'].sort_values().unique()  # проверим тип занятости"
   ]
  },
  {
   "cell_type": "markdown",
   "id": "0acb450b",
   "metadata": {},
   "source": [
    "В колонке Тип занятости все в порядке со значениями."
   ]
  },
  {
   "cell_type": "code",
   "execution_count": 28,
   "id": "b8beae4e",
   "metadata": {},
   "outputs": [
    {
     "data": {
      "text/html": [
       "<div>\n",
       "<style scoped>\n",
       "    .dataframe tbody tr th:only-of-type {\n",
       "        vertical-align: middle;\n",
       "    }\n",
       "\n",
       "    .dataframe tbody tr th {\n",
       "        vertical-align: top;\n",
       "    }\n",
       "\n",
       "    .dataframe thead th {\n",
       "        text-align: right;\n",
       "    }\n",
       "</style>\n",
       "<table border=\"1\" class=\"dataframe\">\n",
       "  <thead>\n",
       "    <tr style=\"text-align: right;\">\n",
       "      <th></th>\n",
       "      <th>children</th>\n",
       "      <th>days_employed</th>\n",
       "      <th>dob_years</th>\n",
       "      <th>education</th>\n",
       "      <th>education_id</th>\n",
       "      <th>family_status</th>\n",
       "      <th>family_status_id</th>\n",
       "      <th>gender</th>\n",
       "      <th>income_type</th>\n",
       "      <th>debt</th>\n",
       "      <th>total_income</th>\n",
       "      <th>purpose</th>\n",
       "    </tr>\n",
       "  </thead>\n",
       "  <tbody>\n",
       "    <tr>\n",
       "      <th>2849</th>\n",
       "      <td>0</td>\n",
       "      <td>NaN</td>\n",
       "      <td>41</td>\n",
       "      <td>среднее</td>\n",
       "      <td>1</td>\n",
       "      <td>женат / замужем</td>\n",
       "      <td>0</td>\n",
       "      <td>F</td>\n",
       "      <td>сотрудник</td>\n",
       "      <td>0</td>\n",
       "      <td>142594</td>\n",
       "      <td>покупка жилья для семьи</td>\n",
       "    </tr>\n",
       "    <tr>\n",
       "      <th>3290</th>\n",
       "      <td>0</td>\n",
       "      <td>NaN</td>\n",
       "      <td>58</td>\n",
       "      <td>среднее</td>\n",
       "      <td>1</td>\n",
       "      <td>гражданский брак</td>\n",
       "      <td>1</td>\n",
       "      <td>F</td>\n",
       "      <td>пенсионер</td>\n",
       "      <td>0</td>\n",
       "      <td>118514</td>\n",
       "      <td>сыграть свадьбу</td>\n",
       "    </tr>\n",
       "    <tr>\n",
       "      <th>4182</th>\n",
       "      <td>1</td>\n",
       "      <td>NaN</td>\n",
       "      <td>34</td>\n",
       "      <td>высшее</td>\n",
       "      <td>0</td>\n",
       "      <td>гражданский брак</td>\n",
       "      <td>1</td>\n",
       "      <td>F</td>\n",
       "      <td>сотрудник</td>\n",
       "      <td>0</td>\n",
       "      <td>142594</td>\n",
       "      <td>свадьба</td>\n",
       "    </tr>\n",
       "    <tr>\n",
       "      <th>4851</th>\n",
       "      <td>0</td>\n",
       "      <td>NaN</td>\n",
       "      <td>60</td>\n",
       "      <td>среднее</td>\n",
       "      <td>1</td>\n",
       "      <td>гражданский брак</td>\n",
       "      <td>1</td>\n",
       "      <td>F</td>\n",
       "      <td>пенсионер</td>\n",
       "      <td>0</td>\n",
       "      <td>118514</td>\n",
       "      <td>свадьба</td>\n",
       "    </tr>\n",
       "    <tr>\n",
       "      <th>5557</th>\n",
       "      <td>0</td>\n",
       "      <td>NaN</td>\n",
       "      <td>58</td>\n",
       "      <td>среднее</td>\n",
       "      <td>1</td>\n",
       "      <td>гражданский брак</td>\n",
       "      <td>1</td>\n",
       "      <td>F</td>\n",
       "      <td>пенсионер</td>\n",
       "      <td>0</td>\n",
       "      <td>118514</td>\n",
       "      <td>сыграть свадьбу</td>\n",
       "    </tr>\n",
       "    <tr>\n",
       "      <th>6312</th>\n",
       "      <td>0</td>\n",
       "      <td>NaN</td>\n",
       "      <td>30</td>\n",
       "      <td>среднее</td>\n",
       "      <td>1</td>\n",
       "      <td>женат / замужем</td>\n",
       "      <td>0</td>\n",
       "      <td>M</td>\n",
       "      <td>сотрудник</td>\n",
       "      <td>0</td>\n",
       "      <td>142594</td>\n",
       "      <td>строительство жилой недвижимости</td>\n",
       "    </tr>\n",
       "    <tr>\n",
       "      <th>7808</th>\n",
       "      <td>0</td>\n",
       "      <td>NaN</td>\n",
       "      <td>57</td>\n",
       "      <td>среднее</td>\n",
       "      <td>1</td>\n",
       "      <td>гражданский брак</td>\n",
       "      <td>1</td>\n",
       "      <td>F</td>\n",
       "      <td>пенсионер</td>\n",
       "      <td>0</td>\n",
       "      <td>118514</td>\n",
       "      <td>на проведение свадьбы</td>\n",
       "    </tr>\n",
       "    <tr>\n",
       "      <th>7921</th>\n",
       "      <td>0</td>\n",
       "      <td>NaN</td>\n",
       "      <td>64</td>\n",
       "      <td>высшее</td>\n",
       "      <td>0</td>\n",
       "      <td>гражданский брак</td>\n",
       "      <td>1</td>\n",
       "      <td>F</td>\n",
       "      <td>пенсионер</td>\n",
       "      <td>0</td>\n",
       "      <td>118514</td>\n",
       "      <td>на проведение свадьбы</td>\n",
       "    </tr>\n",
       "    <tr>\n",
       "      <th>7938</th>\n",
       "      <td>0</td>\n",
       "      <td>NaN</td>\n",
       "      <td>71</td>\n",
       "      <td>среднее</td>\n",
       "      <td>1</td>\n",
       "      <td>гражданский брак</td>\n",
       "      <td>1</td>\n",
       "      <td>F</td>\n",
       "      <td>пенсионер</td>\n",
       "      <td>0</td>\n",
       "      <td>118514</td>\n",
       "      <td>на проведение свадьбы</td>\n",
       "    </tr>\n",
       "    <tr>\n",
       "      <th>8583</th>\n",
       "      <td>0</td>\n",
       "      <td>NaN</td>\n",
       "      <td>58</td>\n",
       "      <td>высшее</td>\n",
       "      <td>0</td>\n",
       "      <td>не женат / не замужем</td>\n",
       "      <td>4</td>\n",
       "      <td>F</td>\n",
       "      <td>пенсионер</td>\n",
       "      <td>0</td>\n",
       "      <td>118514</td>\n",
       "      <td>дополнительное образование</td>\n",
       "    </tr>\n",
       "  </tbody>\n",
       "</table>\n",
       "</div>"
      ],
      "text/plain": [
       "      children  days_employed  dob_years education  education_id  \\\n",
       "2849         0            NaN         41   среднее             1   \n",
       "3290         0            NaN         58   среднее             1   \n",
       "4182         1            NaN         34    высшее             0   \n",
       "4851         0            NaN         60   среднее             1   \n",
       "5557         0            NaN         58   среднее             1   \n",
       "6312         0            NaN         30   среднее             1   \n",
       "7808         0            NaN         57   среднее             1   \n",
       "7921         0            NaN         64    высшее             0   \n",
       "7938         0            NaN         71   среднее             1   \n",
       "8583         0            NaN         58    высшее             0   \n",
       "\n",
       "              family_status  family_status_id gender income_type  debt  \\\n",
       "2849        женат / замужем                 0      F   сотрудник     0   \n",
       "3290       гражданский брак                 1      F   пенсионер     0   \n",
       "4182       гражданский брак                 1      F   сотрудник     0   \n",
       "4851       гражданский брак                 1      F   пенсионер     0   \n",
       "5557       гражданский брак                 1      F   пенсионер     0   \n",
       "6312        женат / замужем                 0      M   сотрудник     0   \n",
       "7808       гражданский брак                 1      F   пенсионер     0   \n",
       "7921       гражданский брак                 1      F   пенсионер     0   \n",
       "7938       гражданский брак                 1      F   пенсионер     0   \n",
       "8583  не женат / не замужем                 4      F   пенсионер     0   \n",
       "\n",
       "      total_income                           purpose  \n",
       "2849        142594           покупка жилья для семьи  \n",
       "3290        118514                   сыграть свадьбу  \n",
       "4182        142594                           свадьба  \n",
       "4851        118514                           свадьба  \n",
       "5557        118514                   сыграть свадьбу  \n",
       "6312        142594  строительство жилой недвижимости  \n",
       "7808        118514             на проведение свадьбы  \n",
       "7921        118514             на проведение свадьбы  \n",
       "7938        118514             на проведение свадьбы  \n",
       "8583        118514        дополнительное образование  "
      ]
     },
     "execution_count": 28,
     "metadata": {},
     "output_type": "execute_result"
    }
   ],
   "source": [
    "df.duplicated().sum() # теперь проверим датафрейм на явные дубликаты \n",
    "df[df.duplicated()].head(10)"
   ]
  },
  {
   "cell_type": "markdown",
   "id": "702e4bd8",
   "metadata": {},
   "source": [
    "В датафрейме есть строки-дубликаты (количество 71), у которых полностью совпадают значения в ячейках.\n",
    "\n",
    "Применим метод drop_duplicates() и метод reset_index(), которые удалят явные дубликаты и проставят новую индексацию. "
   ]
  },
  {
   "cell_type": "code",
   "execution_count": 29,
   "id": "b096d59a",
   "metadata": {},
   "outputs": [],
   "source": [
    "df = df.drop_duplicates().reset_index(drop=True)"
   ]
  },
  {
   "cell_type": "code",
   "execution_count": 30,
   "id": "330d136c",
   "metadata": {},
   "outputs": [
    {
     "name": "stdout",
     "output_type": "stream",
     "text": [
      "<class 'pandas.core.frame.DataFrame'>\n",
      "RangeIndex: 21454 entries, 0 to 21453\n",
      "Data columns (total 12 columns):\n",
      " #   Column            Non-Null Count  Dtype  \n",
      "---  ------            --------------  -----  \n",
      " 0   children          21454 non-null  int64  \n",
      " 1   days_employed     19351 non-null  float64\n",
      " 2   dob_years         21454 non-null  int64  \n",
      " 3   education         21454 non-null  object \n",
      " 4   education_id      21454 non-null  int64  \n",
      " 5   family_status     21454 non-null  object \n",
      " 6   family_status_id  21454 non-null  int64  \n",
      " 7   gender            21454 non-null  object \n",
      " 8   income_type       21454 non-null  object \n",
      " 9   debt              21454 non-null  int64  \n",
      " 10  total_income      21454 non-null  int64  \n",
      " 11  purpose           21454 non-null  object \n",
      "dtypes: float64(1), int64(6), object(5)\n",
      "memory usage: 2.0+ MB\n"
     ]
    }
   ],
   "source": [
    "df.info()  # проверим как изменился датафрейм "
   ]
  },
  {
   "cell_type": "markdown",
   "id": "ce1a177b",
   "metadata": {},
   "source": [
    "    Провела проверку и очистку датафрейма на явные и не явные дубликаты, артефакты и аномалии.\n",
    "    Количество строк уменьшилось, 21454.\n",
    "    "
   ]
  },
  {
   "cell_type": "markdown",
   "id": "768d0b60",
   "metadata": {},
   "source": [
    "## Формирование дополнительных датафреймов словарей, декомпозиция исходного датафрейма."
   ]
  },
  {
   "cell_type": "markdown",
   "id": "e0dad335",
   "metadata": {},
   "source": [
    "Создадим два новых датафрейма, что облегчит работу с таблицей:\n",
    "\n",
    "    - для уровней образование и семейных статусов"
   ]
  },
  {
   "cell_type": "code",
   "execution_count": 31,
   "id": "e7e3c231",
   "metadata": {},
   "outputs": [],
   "source": [
    "education_dict = df[['education','education_id']] # создадим новый датафрейм для уровней образования"
   ]
  },
  {
   "cell_type": "code",
   "execution_count": 32,
   "id": "5ac179bf",
   "metadata": {},
   "outputs": [
    {
     "data": {
      "text/html": [
       "<div>\n",
       "<style scoped>\n",
       "    .dataframe tbody tr th:only-of-type {\n",
       "        vertical-align: middle;\n",
       "    }\n",
       "\n",
       "    .dataframe tbody tr th {\n",
       "        vertical-align: top;\n",
       "    }\n",
       "\n",
       "    .dataframe thead th {\n",
       "        text-align: right;\n",
       "    }\n",
       "</style>\n",
       "<table border=\"1\" class=\"dataframe\">\n",
       "  <thead>\n",
       "    <tr style=\"text-align: right;\">\n",
       "      <th></th>\n",
       "      <th>education</th>\n",
       "      <th>education_id</th>\n",
       "    </tr>\n",
       "  </thead>\n",
       "  <tbody>\n",
       "    <tr>\n",
       "      <th>0</th>\n",
       "      <td>высшее</td>\n",
       "      <td>0</td>\n",
       "    </tr>\n",
       "    <tr>\n",
       "      <th>1</th>\n",
       "      <td>среднее</td>\n",
       "      <td>1</td>\n",
       "    </tr>\n",
       "    <tr>\n",
       "      <th>2</th>\n",
       "      <td>неоконченное высшее</td>\n",
       "      <td>2</td>\n",
       "    </tr>\n",
       "    <tr>\n",
       "      <th>3</th>\n",
       "      <td>начальное</td>\n",
       "      <td>3</td>\n",
       "    </tr>\n",
       "    <tr>\n",
       "      <th>4</th>\n",
       "      <td>ученая степень</td>\n",
       "      <td>4</td>\n",
       "    </tr>\n",
       "  </tbody>\n",
       "</table>\n",
       "</div>"
      ],
      "text/plain": [
       "             education  education_id\n",
       "0               высшее             0\n",
       "1              среднее             1\n",
       "2  неоконченное высшее             2\n",
       "3            начальное             3\n",
       "4       ученая степень             4"
      ]
     },
     "execution_count": 32,
     "metadata": {},
     "output_type": "execute_result"
    }
   ],
   "source": [
    "education_dict = education_dict.drop_duplicates().reset_index(drop=True) # удалим дубликаты и новый \"словарь\" готов\n",
    "education_dict.head()"
   ]
  },
  {
   "cell_type": "code",
   "execution_count": 33,
   "id": "4285b4a6",
   "metadata": {},
   "outputs": [],
   "source": [
    "family_status_dict = df[['family_status','family_status_id']] # сделаем тоже самое для семейного статуса"
   ]
  },
  {
   "cell_type": "code",
   "execution_count": 34,
   "id": "cb392104",
   "metadata": {},
   "outputs": [
    {
     "data": {
      "text/html": [
       "<div>\n",
       "<style scoped>\n",
       "    .dataframe tbody tr th:only-of-type {\n",
       "        vertical-align: middle;\n",
       "    }\n",
       "\n",
       "    .dataframe tbody tr th {\n",
       "        vertical-align: top;\n",
       "    }\n",
       "\n",
       "    .dataframe thead th {\n",
       "        text-align: right;\n",
       "    }\n",
       "</style>\n",
       "<table border=\"1\" class=\"dataframe\">\n",
       "  <thead>\n",
       "    <tr style=\"text-align: right;\">\n",
       "      <th></th>\n",
       "      <th>family_status</th>\n",
       "      <th>family_status_id</th>\n",
       "    </tr>\n",
       "  </thead>\n",
       "  <tbody>\n",
       "    <tr>\n",
       "      <th>0</th>\n",
       "      <td>женат / замужем</td>\n",
       "      <td>0</td>\n",
       "    </tr>\n",
       "    <tr>\n",
       "      <th>1</th>\n",
       "      <td>гражданский брак</td>\n",
       "      <td>1</td>\n",
       "    </tr>\n",
       "    <tr>\n",
       "      <th>2</th>\n",
       "      <td>вдовец / вдова</td>\n",
       "      <td>2</td>\n",
       "    </tr>\n",
       "    <tr>\n",
       "      <th>3</th>\n",
       "      <td>в разводе</td>\n",
       "      <td>3</td>\n",
       "    </tr>\n",
       "    <tr>\n",
       "      <th>4</th>\n",
       "      <td>не женат / не замужем</td>\n",
       "      <td>4</td>\n",
       "    </tr>\n",
       "  </tbody>\n",
       "</table>\n",
       "</div>"
      ],
      "text/plain": [
       "           family_status  family_status_id\n",
       "0        женат / замужем                 0\n",
       "1       гражданский брак                 1\n",
       "2         вдовец / вдова                 2\n",
       "3              в разводе                 3\n",
       "4  не женат / не замужем                 4"
      ]
     },
     "execution_count": 34,
     "metadata": {},
     "output_type": "execute_result"
    }
   ],
   "source": [
    "family_status_dict = family_status_dict.drop_duplicates().reset_index(drop=True) # удалим дубликаты\n",
    "family_status_dict.head()  # и проверим результат"
   ]
  },
  {
   "cell_type": "markdown",
   "id": "a3c80b18",
   "metadata": {},
   "source": [
    "    Теперь можно удалить столбцы 'education' и 'family_status' из основного датафрейма"
   ]
  },
  {
   "cell_type": "code",
   "execution_count": 35,
   "id": "92515cb7",
   "metadata": {},
   "outputs": [],
   "source": [
    "df = df.drop(['education', 'family_status'], axis=1)\n"
   ]
  },
  {
   "cell_type": "markdown",
   "id": "b2f371a4",
   "metadata": {},
   "source": [
    "## Категоризация дохода"
   ]
  },
  {
   "cell_type": "markdown",
   "id": "a762d3f1",
   "metadata": {},
   "source": [
    "Классифицируем заемщиков по доходу, созданим колонку total_income_category, где присвоим буквенную категорию.\n",
    "\n",
    "    Категории такие:\n",
    "    0–30000 — 'E';\n",
    "    30001–50000 — 'D';\n",
    "    50001–200000 — 'C';\n",
    "    200001–1000000 — 'B';\n",
    "    1000001 и выше — 'A'."
   ]
  },
  {
   "cell_type": "code",
   "execution_count": 36,
   "id": "c5c5bdef",
   "metadata": {},
   "outputs": [
    {
     "data": {
      "text/html": [
       "<div>\n",
       "<style scoped>\n",
       "    .dataframe tbody tr th:only-of-type {\n",
       "        vertical-align: middle;\n",
       "    }\n",
       "\n",
       "    .dataframe tbody tr th {\n",
       "        vertical-align: top;\n",
       "    }\n",
       "\n",
       "    .dataframe thead th {\n",
       "        text-align: right;\n",
       "    }\n",
       "</style>\n",
       "<table border=\"1\" class=\"dataframe\">\n",
       "  <thead>\n",
       "    <tr style=\"text-align: right;\">\n",
       "      <th></th>\n",
       "      <th>children</th>\n",
       "      <th>days_employed</th>\n",
       "      <th>dob_years</th>\n",
       "      <th>education_id</th>\n",
       "      <th>family_status_id</th>\n",
       "      <th>gender</th>\n",
       "      <th>income_type</th>\n",
       "      <th>debt</th>\n",
       "      <th>total_income</th>\n",
       "      <th>purpose</th>\n",
       "      <th>total_income_category</th>\n",
       "    </tr>\n",
       "  </thead>\n",
       "  <tbody>\n",
       "    <tr>\n",
       "      <th>0</th>\n",
       "      <td>1</td>\n",
       "      <td>8437.673028</td>\n",
       "      <td>42</td>\n",
       "      <td>0</td>\n",
       "      <td>0</td>\n",
       "      <td>F</td>\n",
       "      <td>сотрудник</td>\n",
       "      <td>0</td>\n",
       "      <td>253875</td>\n",
       "      <td>покупка жилья</td>\n",
       "      <td>B</td>\n",
       "    </tr>\n",
       "    <tr>\n",
       "      <th>1</th>\n",
       "      <td>1</td>\n",
       "      <td>4024.803754</td>\n",
       "      <td>36</td>\n",
       "      <td>1</td>\n",
       "      <td>0</td>\n",
       "      <td>F</td>\n",
       "      <td>сотрудник</td>\n",
       "      <td>0</td>\n",
       "      <td>112080</td>\n",
       "      <td>приобретение автомобиля</td>\n",
       "      <td>C</td>\n",
       "    </tr>\n",
       "    <tr>\n",
       "      <th>2</th>\n",
       "      <td>0</td>\n",
       "      <td>5623.422610</td>\n",
       "      <td>33</td>\n",
       "      <td>1</td>\n",
       "      <td>0</td>\n",
       "      <td>M</td>\n",
       "      <td>сотрудник</td>\n",
       "      <td>0</td>\n",
       "      <td>145885</td>\n",
       "      <td>покупка жилья</td>\n",
       "      <td>C</td>\n",
       "    </tr>\n",
       "    <tr>\n",
       "      <th>3</th>\n",
       "      <td>3</td>\n",
       "      <td>4124.747207</td>\n",
       "      <td>32</td>\n",
       "      <td>1</td>\n",
       "      <td>0</td>\n",
       "      <td>M</td>\n",
       "      <td>сотрудник</td>\n",
       "      <td>0</td>\n",
       "      <td>267628</td>\n",
       "      <td>дополнительное образование</td>\n",
       "      <td>B</td>\n",
       "    </tr>\n",
       "    <tr>\n",
       "      <th>4</th>\n",
       "      <td>0</td>\n",
       "      <td>340266.072047</td>\n",
       "      <td>53</td>\n",
       "      <td>1</td>\n",
       "      <td>1</td>\n",
       "      <td>F</td>\n",
       "      <td>пенсионер</td>\n",
       "      <td>0</td>\n",
       "      <td>158616</td>\n",
       "      <td>сыграть свадьбу</td>\n",
       "      <td>C</td>\n",
       "    </tr>\n",
       "  </tbody>\n",
       "</table>\n",
       "</div>"
      ],
      "text/plain": [
       "   children  days_employed  dob_years  education_id  family_status_id gender  \\\n",
       "0         1    8437.673028         42             0                 0      F   \n",
       "1         1    4024.803754         36             1                 0      F   \n",
       "2         0    5623.422610         33             1                 0      M   \n",
       "3         3    4124.747207         32             1                 0      M   \n",
       "4         0  340266.072047         53             1                 1      F   \n",
       "\n",
       "  income_type  debt  total_income                     purpose  \\\n",
       "0   сотрудник     0        253875               покупка жилья   \n",
       "1   сотрудник     0        112080     приобретение автомобиля   \n",
       "2   сотрудник     0        145885               покупка жилья   \n",
       "3   сотрудник     0        267628  дополнительное образование   \n",
       "4   пенсионер     0        158616             сыграть свадьбу   \n",
       "\n",
       "  total_income_category  \n",
       "0                     B  \n",
       "1                     C  \n",
       "2                     C  \n",
       "3                     B  \n",
       "4                     C  "
      ]
     },
     "execution_count": 36,
     "metadata": {},
     "output_type": "execute_result"
    }
   ],
   "source": [
    "def total_income_group(income): # применим функцию для создания категорий\n",
    "    if income <= 30000:\n",
    "        return 'E'\n",
    "    elif 30001<=income<=50000:\n",
    "        return 'D'\n",
    "    elif 50001<=income<= 200000:\n",
    "        return 'C'\n",
    "    elif 200001<=income<= 1000000:\n",
    "        return 'B'\n",
    "    return 'A'\n",
    "\n",
    "df['total_income_category'] = df['total_income'].apply(total_income_group)\n",
    "df.head()"
   ]
  },
  {
   "cell_type": "markdown",
   "id": "171f9f96",
   "metadata": {},
   "source": [
    "## Категоризация целей кредита"
   ]
  },
  {
   "cell_type": "markdown",
   "id": "4b4ec53a",
   "metadata": {},
   "source": [
    "Создадим следующие категории по целям кредита:\n",
    "\n",
    "    - операции с автомобилем\n",
    "    - операции с недвижимостью\n",
    "    - проведение свадьбы\n",
    "    - получение образования"
   ]
  },
  {
   "cell_type": "code",
   "execution_count": 37,
   "id": "dff2afcf",
   "metadata": {},
   "outputs": [
    {
     "data": {
      "text/plain": [
       "свадьба                                   791\n",
       "на проведение свадьбы                     768\n",
       "сыграть свадьбу                           765\n",
       "операции с недвижимостью                  675\n",
       "покупка коммерческой недвижимости         661\n",
       "операции с жильем                         652\n",
       "покупка жилья для сдачи                   651\n",
       "операции с коммерческой недвижимостью     650\n",
       "жилье                                     646\n",
       "покупка жилья                             646\n",
       "покупка жилья для семьи                   638\n",
       "строительство собственной недвижимости    635\n",
       "недвижимость                              633\n",
       "операции со своей недвижимостью           627\n",
       "строительство жилой недвижимости          624\n",
       "покупка недвижимости                      621\n",
       "покупка своего жилья                      620\n",
       "строительство недвижимости                619\n",
       "ремонт жилью                              607\n",
       "покупка жилой недвижимости                606\n",
       "на покупку своего автомобиля              505\n",
       "заняться высшим образованием              496\n",
       "автомобиль                                494\n",
       "сделка с подержанным автомобилем          486\n",
       "на покупку подержанного автомобиля        478\n",
       "автомобили                                478\n",
       "свой автомобиль                           478\n",
       "на покупку автомобиля                     471\n",
       "приобретение автомобиля                   461\n",
       "дополнительное образование                460\n",
       "сделка с автомобилем                      455\n",
       "высшее образование                        452\n",
       "образование                               447\n",
       "получение дополнительного образования     446\n",
       "получение образования                     442\n",
       "профильное образование                    436\n",
       "получение высшего образования             426\n",
       "заняться образованием                     408\n",
       "Name: purpose, dtype: int64"
      ]
     },
     "execution_count": 37,
     "metadata": {},
     "output_type": "execute_result"
    }
   ],
   "source": [
    "df['purpose'].sort_values().value_counts() # сначала определим весь набор уникальных целей"
   ]
  },
  {
   "cell_type": "code",
   "execution_count": 38,
   "id": "e269053b",
   "metadata": {},
   "outputs": [
    {
     "data": {
      "text/html": [
       "<div>\n",
       "<style scoped>\n",
       "    .dataframe tbody tr th:only-of-type {\n",
       "        vertical-align: middle;\n",
       "    }\n",
       "\n",
       "    .dataframe tbody tr th {\n",
       "        vertical-align: top;\n",
       "    }\n",
       "\n",
       "    .dataframe thead th {\n",
       "        text-align: right;\n",
       "    }\n",
       "</style>\n",
       "<table border=\"1\" class=\"dataframe\">\n",
       "  <thead>\n",
       "    <tr style=\"text-align: right;\">\n",
       "      <th></th>\n",
       "      <th>children</th>\n",
       "      <th>days_employed</th>\n",
       "      <th>dob_years</th>\n",
       "      <th>education_id</th>\n",
       "      <th>family_status_id</th>\n",
       "      <th>gender</th>\n",
       "      <th>income_type</th>\n",
       "      <th>debt</th>\n",
       "      <th>total_income</th>\n",
       "      <th>purpose</th>\n",
       "      <th>total_income_category</th>\n",
       "      <th>purpose_category</th>\n",
       "    </tr>\n",
       "  </thead>\n",
       "  <tbody>\n",
       "    <tr>\n",
       "      <th>0</th>\n",
       "      <td>1</td>\n",
       "      <td>8437.673028</td>\n",
       "      <td>42</td>\n",
       "      <td>0</td>\n",
       "      <td>0</td>\n",
       "      <td>F</td>\n",
       "      <td>сотрудник</td>\n",
       "      <td>0</td>\n",
       "      <td>253875</td>\n",
       "      <td>покупка жилья</td>\n",
       "      <td>B</td>\n",
       "      <td>операции с недвижимостью</td>\n",
       "    </tr>\n",
       "    <tr>\n",
       "      <th>1</th>\n",
       "      <td>1</td>\n",
       "      <td>4024.803754</td>\n",
       "      <td>36</td>\n",
       "      <td>1</td>\n",
       "      <td>0</td>\n",
       "      <td>F</td>\n",
       "      <td>сотрудник</td>\n",
       "      <td>0</td>\n",
       "      <td>112080</td>\n",
       "      <td>приобретение автомобиля</td>\n",
       "      <td>C</td>\n",
       "      <td>операции с автомобилем</td>\n",
       "    </tr>\n",
       "    <tr>\n",
       "      <th>2</th>\n",
       "      <td>0</td>\n",
       "      <td>5623.422610</td>\n",
       "      <td>33</td>\n",
       "      <td>1</td>\n",
       "      <td>0</td>\n",
       "      <td>M</td>\n",
       "      <td>сотрудник</td>\n",
       "      <td>0</td>\n",
       "      <td>145885</td>\n",
       "      <td>покупка жилья</td>\n",
       "      <td>C</td>\n",
       "      <td>операции с недвижимостью</td>\n",
       "    </tr>\n",
       "    <tr>\n",
       "      <th>3</th>\n",
       "      <td>3</td>\n",
       "      <td>4124.747207</td>\n",
       "      <td>32</td>\n",
       "      <td>1</td>\n",
       "      <td>0</td>\n",
       "      <td>M</td>\n",
       "      <td>сотрудник</td>\n",
       "      <td>0</td>\n",
       "      <td>267628</td>\n",
       "      <td>дополнительное образование</td>\n",
       "      <td>B</td>\n",
       "      <td>получение образования</td>\n",
       "    </tr>\n",
       "    <tr>\n",
       "      <th>4</th>\n",
       "      <td>0</td>\n",
       "      <td>340266.072047</td>\n",
       "      <td>53</td>\n",
       "      <td>1</td>\n",
       "      <td>1</td>\n",
       "      <td>F</td>\n",
       "      <td>пенсионер</td>\n",
       "      <td>0</td>\n",
       "      <td>158616</td>\n",
       "      <td>сыграть свадьбу</td>\n",
       "      <td>C</td>\n",
       "      <td>проведение свадьбы</td>\n",
       "    </tr>\n",
       "  </tbody>\n",
       "</table>\n",
       "</div>"
      ],
      "text/plain": [
       "   children  days_employed  dob_years  education_id  family_status_id gender  \\\n",
       "0         1    8437.673028         42             0                 0      F   \n",
       "1         1    4024.803754         36             1                 0      F   \n",
       "2         0    5623.422610         33             1                 0      M   \n",
       "3         3    4124.747207         32             1                 0      M   \n",
       "4         0  340266.072047         53             1                 1      F   \n",
       "\n",
       "  income_type  debt  total_income                     purpose  \\\n",
       "0   сотрудник     0        253875               покупка жилья   \n",
       "1   сотрудник     0        112080     приобретение автомобиля   \n",
       "2   сотрудник     0        145885               покупка жилья   \n",
       "3   сотрудник     0        267628  дополнительное образование   \n",
       "4   пенсионер     0        158616             сыграть свадьбу   \n",
       "\n",
       "  total_income_category          purpose_category  \n",
       "0                     B  операции с недвижимостью  \n",
       "1                     C    операции с автомобилем  \n",
       "2                     C  операции с недвижимостью  \n",
       "3                     B     получение образования  \n",
       "4                     C        проведение свадьбы  "
      ]
     },
     "execution_count": 38,
     "metadata": {},
     "output_type": "execute_result"
    }
   ],
   "source": [
    "def purpose_group(target):   # применим функцию для укрупнения целей кредита \n",
    "    if 'образован' in target:   # переберем все встречающиеcя слова и запишем их в условие без падежа и окончания\n",
    "        return 'получение образования'\n",
    "    elif 'автомобил' in target:\n",
    "        return 'операции с автомобилем'\n",
    "    elif 'свадьб' in target:\n",
    "        return 'проведение свадьбы'  \n",
    "    return 'операции с недвижимостью'\n",
    "\n",
    "df['purpose_category'] = df['purpose'].apply(purpose_group)\n",
    "df.head()"
   ]
  },
  {
   "cell_type": "code",
   "execution_count": 39,
   "id": "0d9a1072",
   "metadata": {},
   "outputs": [
    {
     "name": "stdout",
     "output_type": "stream",
     "text": [
      "<class 'pandas.core.frame.DataFrame'>\n",
      "RangeIndex: 21454 entries, 0 to 21453\n",
      "Data columns (total 12 columns):\n",
      " #   Column                 Non-Null Count  Dtype  \n",
      "---  ------                 --------------  -----  \n",
      " 0   children               21454 non-null  int64  \n",
      " 1   days_employed          19351 non-null  float64\n",
      " 2   dob_years              21454 non-null  int64  \n",
      " 3   education_id           21454 non-null  int64  \n",
      " 4   family_status_id       21454 non-null  int64  \n",
      " 5   gender                 21454 non-null  object \n",
      " 6   income_type            21454 non-null  object \n",
      " 7   debt                   21454 non-null  int64  \n",
      " 8   total_income           21454 non-null  int64  \n",
      " 9   purpose                21454 non-null  object \n",
      " 10  total_income_category  21454 non-null  object \n",
      " 11  purpose_category       21454 non-null  object \n",
      "dtypes: float64(1), int64(6), object(5)\n",
      "memory usage: 2.0+ MB\n"
     ]
    }
   ],
   "source": [
    "df.info() # контрольная проверка перед выводами"
   ]
  },
  {
   "cell_type": "markdown",
   "id": "46d08719",
   "metadata": {},
   "source": [
    "## Ответы на вопросы."
   ]
  },
  {
   "cell_type": "markdown",
   "id": "9f9ac871",
   "metadata": {},
   "source": [
    "### Есть ли зависимость между количеством детей и возвратом кредита в срок?\n",
    "    \n",
    "    Для этого построим сводную таблицу, с группировками по детям и по возвратам кредита. "
   ]
  },
  {
   "cell_type": "code",
   "execution_count": 40,
   "id": "cfe93e2e",
   "metadata": {},
   "outputs": [
    {
     "data": {
      "text/html": [
       "<div>\n",
       "<style scoped>\n",
       "    .dataframe tbody tr th:only-of-type {\n",
       "        vertical-align: middle;\n",
       "    }\n",
       "\n",
       "    .dataframe tbody tr th {\n",
       "        vertical-align: top;\n",
       "    }\n",
       "\n",
       "    .dataframe thead th {\n",
       "        text-align: right;\n",
       "    }\n",
       "</style>\n",
       "<table border=\"1\" class=\"dataframe\">\n",
       "  <thead>\n",
       "    <tr style=\"text-align: right;\">\n",
       "      <th>debt</th>\n",
       "      <th>0</th>\n",
       "      <th>1</th>\n",
       "      <th>All</th>\n",
       "      <th>ratio_%</th>\n",
       "    </tr>\n",
       "    <tr>\n",
       "      <th>children</th>\n",
       "      <th></th>\n",
       "      <th></th>\n",
       "      <th></th>\n",
       "      <th></th>\n",
       "    </tr>\n",
       "  </thead>\n",
       "  <tbody>\n",
       "    <tr>\n",
       "      <th>0</th>\n",
       "      <td>13028</td>\n",
       "      <td>1063</td>\n",
       "      <td>14091</td>\n",
       "      <td>7.5</td>\n",
       "    </tr>\n",
       "    <tr>\n",
       "      <th>1</th>\n",
       "      <td>4410</td>\n",
       "      <td>445</td>\n",
       "      <td>4855</td>\n",
       "      <td>9.2</td>\n",
       "    </tr>\n",
       "    <tr>\n",
       "      <th>2</th>\n",
       "      <td>1926</td>\n",
       "      <td>202</td>\n",
       "      <td>2128</td>\n",
       "      <td>9.5</td>\n",
       "    </tr>\n",
       "    <tr>\n",
       "      <th>3</th>\n",
       "      <td>303</td>\n",
       "      <td>27</td>\n",
       "      <td>330</td>\n",
       "      <td>8.2</td>\n",
       "    </tr>\n",
       "    <tr>\n",
       "      <th>4</th>\n",
       "      <td>37</td>\n",
       "      <td>4</td>\n",
       "      <td>41</td>\n",
       "      <td>9.8</td>\n",
       "    </tr>\n",
       "    <tr>\n",
       "      <th>5</th>\n",
       "      <td>9</td>\n",
       "      <td>0</td>\n",
       "      <td>9</td>\n",
       "      <td>0.0</td>\n",
       "    </tr>\n",
       "    <tr>\n",
       "      <th>All</th>\n",
       "      <td>19713</td>\n",
       "      <td>1741</td>\n",
       "      <td>21454</td>\n",
       "      <td>8.1</td>\n",
       "    </tr>\n",
       "  </tbody>\n",
       "</table>\n",
       "</div>"
      ],
      "text/plain": [
       "debt          0     1    All  ratio_%\n",
       "children                             \n",
       "0         13028  1063  14091      7.5\n",
       "1          4410   445   4855      9.2\n",
       "2          1926   202   2128      9.5\n",
       "3           303    27    330      8.2\n",
       "4            37     4     41      9.8\n",
       "5             9     0      9      0.0\n",
       "All       19713  1741  21454      8.1"
      ]
     },
     "execution_count": 40,
     "metadata": {},
     "output_type": "execute_result"
    }
   ],
   "source": [
    "df_pivot_kids = df.pivot_table(index=['children'], \n",
    "                               columns='debt', values='gender', aggfunc='count', fill_value=0, margins=True)\n",
    "df_pivot_kids['ratio_%'] = (df_pivot_kids[1] / df_pivot_kids['All'] * 100).round(1) \n",
    "# Определили процент не погасивших кредит в срок по каждой группировке, и методом round округлили\n",
    "df_pivot_kids.head(10)"
   ]
  },
  {
   "cell_type": "markdown",
   "id": "427d4cc6",
   "metadata": {},
   "source": [
    "#### Вывод 1:\n",
    "* Средний процент по выборке, не вернувших кредит в срок, cоставил 8.1 %.\n",
    "* Разброс отклонений от среднего в группировках по количеству детей максимально составляет - 1.7%.\n",
    "* Семьи с 5 детьми яляются самыми ответственными в погашении кредитов (100% погашение кредита в срок).\n",
    "    Конечно, в количестве 9 семей с 5 детьми - это не так много, но стоит задуматься об этой гипотезе \"ответственности\".\n",
    "* Процент не погашения кредита в срок у заемщиков без детей самый низкий - 7.5 %.\n",
    "* Сказать, что есть сильная зависимость погашения кредита в срок от наличия детей и увеличения их количества нельзя. \n",
    "    Тем не менее, вероятность погашения кредита в срок, заемщиками без детей выше, но далеко не близка к 100%.\n",
    "       "
   ]
  },
  {
   "cell_type": "markdown",
   "id": "ba9ace56",
   "metadata": {},
   "source": [
    "### Есть ли зависимость между семейным положением и возвратом кредита в срок?\n",
    "    \n",
    "    Построим сводную таблицу, с группировками по семейному статусу и по возвратам кредита. "
   ]
  },
  {
   "cell_type": "code",
   "execution_count": 41,
   "id": "0ae13b0f",
   "metadata": {},
   "outputs": [
    {
     "data": {
      "text/html": [
       "<div>\n",
       "<style scoped>\n",
       "    .dataframe tbody tr th:only-of-type {\n",
       "        vertical-align: middle;\n",
       "    }\n",
       "\n",
       "    .dataframe tbody tr th {\n",
       "        vertical-align: top;\n",
       "    }\n",
       "\n",
       "    .dataframe thead th {\n",
       "        text-align: right;\n",
       "    }\n",
       "</style>\n",
       "<table border=\"1\" class=\"dataframe\">\n",
       "  <thead>\n",
       "    <tr style=\"text-align: right;\">\n",
       "      <th></th>\n",
       "      <th>family_status</th>\n",
       "      <th>family_status_id</th>\n",
       "      <th>0</th>\n",
       "      <th>1</th>\n",
       "      <th>All</th>\n",
       "      <th>ratio_%</th>\n",
       "    </tr>\n",
       "  </thead>\n",
       "  <tbody>\n",
       "    <tr>\n",
       "      <th>0</th>\n",
       "      <td>женат / замужем</td>\n",
       "      <td>0</td>\n",
       "      <td>11408</td>\n",
       "      <td>931</td>\n",
       "      <td>12339</td>\n",
       "      <td>7.5</td>\n",
       "    </tr>\n",
       "    <tr>\n",
       "      <th>1</th>\n",
       "      <td>гражданский брак</td>\n",
       "      <td>1</td>\n",
       "      <td>3763</td>\n",
       "      <td>388</td>\n",
       "      <td>4151</td>\n",
       "      <td>9.3</td>\n",
       "    </tr>\n",
       "    <tr>\n",
       "      <th>2</th>\n",
       "      <td>вдовец / вдова</td>\n",
       "      <td>2</td>\n",
       "      <td>896</td>\n",
       "      <td>63</td>\n",
       "      <td>959</td>\n",
       "      <td>6.6</td>\n",
       "    </tr>\n",
       "    <tr>\n",
       "      <th>3</th>\n",
       "      <td>в разводе</td>\n",
       "      <td>3</td>\n",
       "      <td>1110</td>\n",
       "      <td>85</td>\n",
       "      <td>1195</td>\n",
       "      <td>7.1</td>\n",
       "    </tr>\n",
       "    <tr>\n",
       "      <th>4</th>\n",
       "      <td>не женат / не замужем</td>\n",
       "      <td>4</td>\n",
       "      <td>2536</td>\n",
       "      <td>274</td>\n",
       "      <td>2810</td>\n",
       "      <td>9.8</td>\n",
       "    </tr>\n",
       "  </tbody>\n",
       "</table>\n",
       "</div>"
      ],
      "text/plain": [
       "           family_status family_status_id      0    1    All  ratio_%\n",
       "0        женат / замужем                0  11408  931  12339      7.5\n",
       "1       гражданский брак                1   3763  388   4151      9.3\n",
       "2         вдовец / вдова                2    896   63    959      6.6\n",
       "3              в разводе                3   1110   85   1195      7.1\n",
       "4  не женат / не замужем                4   2536  274   2810      9.8"
      ]
     },
     "execution_count": 41,
     "metadata": {},
     "output_type": "execute_result"
    }
   ],
   "source": [
    "df_pivot_status = df.pivot_table(index=['family_status_id'], \n",
    "                                columns='debt', values='gender', aggfunc='count', margins=True)\n",
    "df_pivot_status['ratio_%'] = (df_pivot_status[1] / df_pivot_status['All'] * 100).round(1) \n",
    "# Определили процент не погасивших кредит в срок по каждой группировке, и методом round округлили %\n",
    "\n",
    "df_status = family_status_dict.merge(df_pivot_status, on='family_status_id', how='left') \n",
    "# соединим таблицы для наглядности семейного статуса\n",
    "df_status.head(10)"
   ]
  },
  {
   "cell_type": "markdown",
   "id": "b00d3a13",
   "metadata": {},
   "source": [
    "#### Вывод 2:\n",
    "\n",
    "Здесь можно сделать определенные выводы о зависимости семейного статуса и факта погашения кредита в срок.\n",
    "- Люди, состоящие в отношениях, в законном браке (7.5%) более ответственны и кредитонадежны, чем люди в отношениях, \n",
    "    но находящиеся в гражданском браке (9.3%).\n",
    "- Люди, не находящиеся в браке, но ранее были в нем, самые надежные заемщики (6.6% и 7.1%).\n",
    "- Самая высокая доля, не погасивших кредит в срок (9.8%), у людей не обременных семейными обязательствами."
   ]
  },
  {
   "cell_type": "markdown",
   "id": "28c03a00",
   "metadata": {},
   "source": [
    "### Есть ли зависимость между уровнем дохода и возвратом кредита в срок?    "
   ]
  },
  {
   "cell_type": "code",
   "execution_count": 42,
   "id": "1d3fc7cc",
   "metadata": {},
   "outputs": [
    {
     "data": {
      "text/html": [
       "<div>\n",
       "<style scoped>\n",
       "    .dataframe tbody tr th:only-of-type {\n",
       "        vertical-align: middle;\n",
       "    }\n",
       "\n",
       "    .dataframe tbody tr th {\n",
       "        vertical-align: top;\n",
       "    }\n",
       "\n",
       "    .dataframe thead th {\n",
       "        text-align: right;\n",
       "    }\n",
       "</style>\n",
       "<table border=\"1\" class=\"dataframe\">\n",
       "  <thead>\n",
       "    <tr style=\"text-align: right;\">\n",
       "      <th>debt</th>\n",
       "      <th>0</th>\n",
       "      <th>1</th>\n",
       "      <th>All</th>\n",
       "      <th>ratio_%</th>\n",
       "    </tr>\n",
       "    <tr>\n",
       "      <th>total_income_category</th>\n",
       "      <th></th>\n",
       "      <th></th>\n",
       "      <th></th>\n",
       "      <th></th>\n",
       "    </tr>\n",
       "  </thead>\n",
       "  <tbody>\n",
       "    <tr>\n",
       "      <th>A</th>\n",
       "      <td>23</td>\n",
       "      <td>2</td>\n",
       "      <td>25</td>\n",
       "      <td>8.0</td>\n",
       "    </tr>\n",
       "    <tr>\n",
       "      <th>B</th>\n",
       "      <td>4686</td>\n",
       "      <td>356</td>\n",
       "      <td>5042</td>\n",
       "      <td>7.1</td>\n",
       "    </tr>\n",
       "    <tr>\n",
       "      <th>C</th>\n",
       "      <td>14655</td>\n",
       "      <td>1360</td>\n",
       "      <td>16015</td>\n",
       "      <td>8.5</td>\n",
       "    </tr>\n",
       "    <tr>\n",
       "      <th>D</th>\n",
       "      <td>329</td>\n",
       "      <td>21</td>\n",
       "      <td>350</td>\n",
       "      <td>6.0</td>\n",
       "    </tr>\n",
       "    <tr>\n",
       "      <th>E</th>\n",
       "      <td>20</td>\n",
       "      <td>2</td>\n",
       "      <td>22</td>\n",
       "      <td>9.1</td>\n",
       "    </tr>\n",
       "    <tr>\n",
       "      <th>All</th>\n",
       "      <td>19713</td>\n",
       "      <td>1741</td>\n",
       "      <td>21454</td>\n",
       "      <td>8.1</td>\n",
       "    </tr>\n",
       "  </tbody>\n",
       "</table>\n",
       "</div>"
      ],
      "text/plain": [
       "debt                       0     1    All  ratio_%\n",
       "total_income_category                             \n",
       "A                         23     2     25      8.0\n",
       "B                       4686   356   5042      7.1\n",
       "C                      14655  1360  16015      8.5\n",
       "D                        329    21    350      6.0\n",
       "E                         20     2     22      9.1\n",
       "All                    19713  1741  21454      8.1"
      ]
     },
     "execution_count": 42,
     "metadata": {},
     "output_type": "execute_result"
    }
   ],
   "source": [
    "df_pivot_income = df.pivot_table(index=['total_income_category'], \n",
    "                                columns='debt', values='gender', aggfunc='count', margins=True)\n",
    "df_pivot_income['ratio_%'] = (df_pivot_income[1] / df_pivot_income['All'] * 100).round(1) \n",
    "# Определили процент не погасивших кредит в срок\n",
    "df_pivot_income.head(10)"
   ]
  },
  {
   "cell_type": "markdown",
   "id": "8b2ce62c",
   "metadata": {},
   "source": [
    "#### Вывод 3:\n",
    "\n",
    "Напомню категории:\n",
    "* выше 1 млн — 'A'\n",
    "* 200001–1000000 — 'B'\n",
    "* 50001–200000 — 'C'\n",
    "* 30001–50000 — 'D'\n",
    "* 0–30000 — 'E'\n",
    "  \n",
    "  \n",
    "- Категории заемщиков D и E по уровню дохода самые низкодоходные (до 50000 в месяц). \n",
    "  Доля этих двух групп незначительна и составляет менее 2 %, т.е. выводы сделать сложно, \n",
    "  хотя они и показали самый максимальный (9.1%) и самый минимальный процент (6.0%) в группах из всей выборки.\n",
    "- Категория 'С' самая многочисленная (16013 из 21454), доля имевших задолженности по кредиту составляет 8.5%, и близка к среднему значению (8,1%).\n",
    "- Категория 'B' самая ответственная из более доходных заемщиков. % не погасивших, ниже среднего.\n",
    "- Кредитонадежность заемщика от уровня дохода зависит не сильно.\n",
    "    "
   ]
  },
  {
   "cell_type": "markdown",
   "id": "a109359d",
   "metadata": {},
   "source": [
    "### Как разные цели кредита влияют на его возврат в срок?"
   ]
  },
  {
   "cell_type": "code",
   "execution_count": 43,
   "id": "f8911152",
   "metadata": {},
   "outputs": [
    {
     "data": {
      "text/html": [
       "<div>\n",
       "<style scoped>\n",
       "    .dataframe tbody tr th:only-of-type {\n",
       "        vertical-align: middle;\n",
       "    }\n",
       "\n",
       "    .dataframe tbody tr th {\n",
       "        vertical-align: top;\n",
       "    }\n",
       "\n",
       "    .dataframe thead th {\n",
       "        text-align: right;\n",
       "    }\n",
       "</style>\n",
       "<table border=\"1\" class=\"dataframe\">\n",
       "  <thead>\n",
       "    <tr style=\"text-align: right;\">\n",
       "      <th>debt</th>\n",
       "      <th>0</th>\n",
       "      <th>1</th>\n",
       "      <th>All</th>\n",
       "      <th>ratio_%</th>\n",
       "    </tr>\n",
       "    <tr>\n",
       "      <th>purpose_category</th>\n",
       "      <th></th>\n",
       "      <th></th>\n",
       "      <th></th>\n",
       "      <th></th>\n",
       "    </tr>\n",
       "  </thead>\n",
       "  <tbody>\n",
       "    <tr>\n",
       "      <th>операции с автомобилем</th>\n",
       "      <td>3903</td>\n",
       "      <td>403</td>\n",
       "      <td>4306</td>\n",
       "      <td>9.4</td>\n",
       "    </tr>\n",
       "    <tr>\n",
       "      <th>операции с недвижимостью</th>\n",
       "      <td>10029</td>\n",
       "      <td>782</td>\n",
       "      <td>10811</td>\n",
       "      <td>7.2</td>\n",
       "    </tr>\n",
       "    <tr>\n",
       "      <th>получение образования</th>\n",
       "      <td>3643</td>\n",
       "      <td>370</td>\n",
       "      <td>4013</td>\n",
       "      <td>9.2</td>\n",
       "    </tr>\n",
       "    <tr>\n",
       "      <th>проведение свадьбы</th>\n",
       "      <td>2138</td>\n",
       "      <td>186</td>\n",
       "      <td>2324</td>\n",
       "      <td>8.0</td>\n",
       "    </tr>\n",
       "    <tr>\n",
       "      <th>All</th>\n",
       "      <td>19713</td>\n",
       "      <td>1741</td>\n",
       "      <td>21454</td>\n",
       "      <td>8.1</td>\n",
       "    </tr>\n",
       "  </tbody>\n",
       "</table>\n",
       "</div>"
      ],
      "text/plain": [
       "debt                          0     1    All  ratio_%\n",
       "purpose_category                                     \n",
       "операции с автомобилем     3903   403   4306      9.4\n",
       "операции с недвижимостью  10029   782  10811      7.2\n",
       "получение образования      3643   370   4013      9.2\n",
       "проведение свадьбы         2138   186   2324      8.0\n",
       "All                       19713  1741  21454      8.1"
      ]
     },
     "execution_count": 43,
     "metadata": {},
     "output_type": "execute_result"
    }
   ],
   "source": [
    "df_pivot_purpose = df.pivot_table(index=['purpose_category'], \n",
    "                                columns='debt', values='gender', aggfunc='count', margins=True)\n",
    "df_pivot_purpose['ratio_%'] = ((df_pivot_purpose[1] / df_pivot_purpose['All']) * 100).round(1) \n",
    "# Определили процент не погасивших кредит в срок, и методом round округлили\n",
    "df_pivot_purpose.head(10)"
   ]
  },
  {
   "cell_type": "markdown",
   "id": "c704cdfe",
   "metadata": {},
   "source": [
    "#### Вывод 4:\n",
    "    Удивительно, но автокредит является чаще задерживаемым кредитом.\n",
    "    Получение образования на втором месте с конца по возврату кредита в срок.\n",
    "    А покупка недвижимости делает людей более кредитонадежными и является самой желанной целью получения кредита (50%).\n",
    "    Цель кредита может заставить людей делать выбор за что платить в срок.   \n"
   ]
  },
  {
   "cell_type": "markdown",
   "id": "ae27e20f",
   "metadata": {},
   "source": [
    "## Общий вывод:"
   ]
  },
  {
   "cell_type": "markdown",
   "id": "8d8a8981",
   "metadata": {},
   "source": [
    "**Выводы:**\n",
    "\n",
    "Среднее значение выборки не возвративших кредит в срок - 8,1%.\n",
    "\n",
    "Самые интересные социальные результаты по надежности заемщиков получены из группировок по семейному положению и по целям кредитования:\n",
    "  - Семейный статус сильно влияет на кредитонадежность заемщика. \"Еще\" не обременные семейными обязательствами являются самыми ненадежными заемщиками - 9.8%. А \"уже\" не обременные самыми надежными - 6.6%. Статус отношений тоже влияет на кредитонадежность (в законном браке люди более \"кредитопослушны\", чем в гражданском).  \n",
    "  - Цель кредита может сделать людей более кредитонадежными заемщиками, так покупка недвижимости из всех целей самая популярная и самая погашаемая в срок. Автокредит может сделать того же заемщика менее кредитонадежным.\n",
    "  - Количество детей не дает выявить закономерностей, но их отсутствие позволяет сказать, что заемщик самый кредитонадежный и никто не будет отвлекать его от выплаты кредита.\n",
    "  - Размер дохода не является определяющим критерием для определения надежности заемщика, но похоже может быть самым фактороопределяющим при решении о размере кредита. \n",
    "  \n",
    "Итоговый вывод:\n",
    "- Клиентом с наибольшей вероятностью просрочки будет человек, который не женат/не замужем, имеющий одного  или несколько детей, который хочет взять кредит на покупку автомобиля, с доходом до 50000 рублей в месяц.\n",
    "- Портрет самого желанного заемщика будет такой - вдовец или разведенный человек без детей, который берет кредит на покупку недвижимости с доходом от 50 000 до 200 000 рублей в месяц."
   ]
  }
 ],
 "metadata": {
  "ExecuteTimeLog": [
   {
    "duration": 2837,
    "start_time": "2022-02-07T17:49:19.271Z"
   },
   {
    "duration": 2644,
    "start_time": "2022-02-07T17:49:41.094Z"
   },
   {
    "duration": 2299,
    "start_time": "2022-02-07T17:50:39.408Z"
   },
   {
    "duration": 2380,
    "start_time": "2022-02-07T17:51:05.487Z"
   },
   {
    "duration": 2074,
    "start_time": "2022-02-07T17:53:04.541Z"
   },
   {
    "duration": 1989,
    "start_time": "2022-02-07T17:53:26.319Z"
   },
   {
    "duration": 1806,
    "start_time": "2022-02-07T17:54:19.937Z"
   },
   {
    "duration": 1846,
    "start_time": "2022-02-07T17:54:40.188Z"
   },
   {
    "duration": 1805,
    "start_time": "2022-02-07T17:54:53.690Z"
   },
   {
    "duration": 1997,
    "start_time": "2022-02-07T17:57:09.180Z"
   },
   {
    "duration": 1855,
    "start_time": "2022-02-07T17:58:20.276Z"
   },
   {
    "duration": 1887,
    "start_time": "2022-02-07T18:00:15.334Z"
   },
   {
    "duration": 1902,
    "start_time": "2022-02-07T18:00:22.637Z"
   },
   {
    "duration": 1834,
    "start_time": "2022-02-07T18:00:41.520Z"
   },
   {
    "duration": 72,
    "start_time": "2022-02-07T18:01:14.414Z"
   },
   {
    "duration": 78,
    "start_time": "2022-02-07T18:01:35.121Z"
   },
   {
    "duration": 78,
    "start_time": "2022-02-07T18:28:10.834Z"
   },
   {
    "duration": 60,
    "start_time": "2022-02-07T18:30:09.835Z"
   },
   {
    "duration": 71,
    "start_time": "2022-02-07T18:30:13.873Z"
   },
   {
    "duration": 52,
    "start_time": "2022-02-07T18:30:31.588Z"
   },
   {
    "duration": 70,
    "start_time": "2022-02-07T18:30:40.939Z"
   },
   {
    "duration": 131,
    "start_time": "2022-02-07T19:57:16.519Z"
   },
   {
    "duration": 250,
    "start_time": "2022-02-07T19:57:29.021Z"
   },
   {
    "duration": 14,
    "start_time": "2022-02-07T19:58:07.542Z"
   },
   {
    "duration": 8,
    "start_time": "2022-02-07T19:58:30.051Z"
   },
   {
    "duration": 13,
    "start_time": "2022-02-07T19:59:46.191Z"
   },
   {
    "duration": 18,
    "start_time": "2022-02-07T20:08:08.953Z"
   },
   {
    "duration": 18,
    "start_time": "2022-02-07T20:08:22.245Z"
   },
   {
    "duration": 21,
    "start_time": "2022-02-07T20:08:24.898Z"
   },
   {
    "duration": 9,
    "start_time": "2022-02-07T20:08:55.110Z"
   },
   {
    "duration": 14,
    "start_time": "2022-02-07T20:10:26.534Z"
   },
   {
    "duration": 13,
    "start_time": "2022-02-07T20:11:21.112Z"
   },
   {
    "duration": 13,
    "start_time": "2022-02-07T20:11:27.994Z"
   },
   {
    "duration": 262,
    "start_time": "2022-02-07T20:19:53.552Z"
   },
   {
    "duration": 6,
    "start_time": "2022-02-07T20:22:01.655Z"
   },
   {
    "duration": 89,
    "start_time": "2022-02-07T21:09:20.160Z"
   },
   {
    "duration": 260,
    "start_time": "2022-02-07T21:09:30.337Z"
   },
   {
    "duration": 264,
    "start_time": "2022-02-07T21:26:37.805Z"
   },
   {
    "duration": 262,
    "start_time": "2022-02-07T21:26:44.797Z"
   },
   {
    "duration": 243,
    "start_time": "2022-02-07T21:28:48.366Z"
   },
   {
    "duration": 260,
    "start_time": "2022-02-07T21:29:05.677Z"
   },
   {
    "duration": 347,
    "start_time": "2022-02-08T06:39:08.317Z"
   },
   {
    "duration": 290,
    "start_time": "2022-02-08T06:39:35.118Z"
   },
   {
    "duration": 276,
    "start_time": "2022-02-08T06:40:00.860Z"
   },
   {
    "duration": 355,
    "start_time": "2022-02-08T06:40:12.424Z"
   },
   {
    "duration": 264,
    "start_time": "2022-02-08T08:14:38.850Z"
   },
   {
    "duration": 865,
    "start_time": "2022-02-08T08:14:51.294Z"
   },
   {
    "duration": 23,
    "start_time": "2022-02-08T08:14:52.167Z"
   },
   {
    "duration": 39,
    "start_time": "2022-02-08T08:14:52.193Z"
   },
   {
    "duration": 21,
    "start_time": "2022-02-08T08:14:52.235Z"
   },
   {
    "duration": 23,
    "start_time": "2022-02-08T08:14:52.259Z"
   },
   {
    "duration": 24,
    "start_time": "2022-02-08T08:14:52.285Z"
   },
   {
    "duration": 19,
    "start_time": "2022-02-08T08:14:52.313Z"
   },
   {
    "duration": 18,
    "start_time": "2022-02-08T08:16:27.184Z"
   },
   {
    "duration": 32,
    "start_time": "2022-02-08T08:16:30.214Z"
   },
   {
    "duration": 367,
    "start_time": "2022-02-08T08:18:54.789Z"
   },
   {
    "duration": 288,
    "start_time": "2022-02-08T08:19:08.470Z"
   },
   {
    "duration": 38,
    "start_time": "2022-02-08T08:19:24.525Z"
   },
   {
    "duration": 792,
    "start_time": "2022-02-08T08:19:45.176Z"
   },
   {
    "duration": 22,
    "start_time": "2022-02-08T08:19:45.971Z"
   },
   {
    "duration": 422,
    "start_time": "2022-02-08T08:19:45.996Z"
   },
   {
    "duration": 1601,
    "start_time": "2022-02-08T08:19:44.820Z"
   },
   {
    "duration": 1600,
    "start_time": "2022-02-08T08:19:44.823Z"
   },
   {
    "duration": 1599,
    "start_time": "2022-02-08T08:19:44.825Z"
   },
   {
    "duration": 1599,
    "start_time": "2022-02-08T08:19:44.826Z"
   },
   {
    "duration": 23,
    "start_time": "2022-02-08T08:19:53.643Z"
   },
   {
    "duration": 17,
    "start_time": "2022-02-08T08:20:02.708Z"
   },
   {
    "duration": 32,
    "start_time": "2022-02-08T08:20:05.329Z"
   },
   {
    "duration": 50,
    "start_time": "2022-02-08T08:24:27.186Z"
   },
   {
    "duration": 54,
    "start_time": "2022-02-08T08:24:45.293Z"
   },
   {
    "duration": 51,
    "start_time": "2022-02-08T08:24:53.607Z"
   },
   {
    "duration": 52,
    "start_time": "2022-02-08T08:24:56.351Z"
   },
   {
    "duration": 23,
    "start_time": "2022-02-08T08:25:11.564Z"
   },
   {
    "duration": 21,
    "start_time": "2022-02-08T08:25:31.709Z"
   },
   {
    "duration": 24,
    "start_time": "2022-02-08T08:25:42.813Z"
   },
   {
    "duration": 18,
    "start_time": "2022-02-08T08:28:10.886Z"
   },
   {
    "duration": 23,
    "start_time": "2022-02-08T08:29:03.287Z"
   },
   {
    "duration": 105,
    "start_time": "2022-02-08T08:35:10.756Z"
   },
   {
    "duration": 19,
    "start_time": "2022-02-08T08:35:21.038Z"
   },
   {
    "duration": 296,
    "start_time": "2022-02-08T08:41:57.297Z"
   },
   {
    "duration": 288,
    "start_time": "2022-02-08T08:43:13.956Z"
   },
   {
    "duration": 104,
    "start_time": "2022-02-08T09:04:51.296Z"
   },
   {
    "duration": 6,
    "start_time": "2022-02-08T09:04:57.487Z"
   },
   {
    "duration": 21,
    "start_time": "2022-02-08T09:05:15.976Z"
   },
   {
    "duration": 268,
    "start_time": "2022-02-08T14:04:52.899Z"
   },
   {
    "duration": 291,
    "start_time": "2022-02-08T14:05:16.768Z"
   },
   {
    "duration": 218,
    "start_time": "2022-02-08T14:05:41.411Z"
   },
   {
    "duration": 692,
    "start_time": "2022-02-08T14:05:55.128Z"
   },
   {
    "duration": 15,
    "start_time": "2022-02-08T14:05:55.822Z"
   },
   {
    "duration": 120,
    "start_time": "2022-02-08T14:05:55.839Z"
   },
   {
    "duration": 147,
    "start_time": "2022-02-08T14:05:55.814Z"
   },
   {
    "duration": 146,
    "start_time": "2022-02-08T14:05:55.816Z"
   },
   {
    "duration": 146,
    "start_time": "2022-02-08T14:05:55.817Z"
   },
   {
    "duration": 145,
    "start_time": "2022-02-08T14:05:55.819Z"
   },
   {
    "duration": 144,
    "start_time": "2022-02-08T14:05:55.821Z"
   },
   {
    "duration": 142,
    "start_time": "2022-02-08T14:05:55.823Z"
   },
   {
    "duration": 142,
    "start_time": "2022-02-08T14:05:55.824Z"
   },
   {
    "duration": 140,
    "start_time": "2022-02-08T14:05:55.827Z"
   },
   {
    "duration": 139,
    "start_time": "2022-02-08T14:05:55.829Z"
   },
   {
    "duration": 137,
    "start_time": "2022-02-08T14:05:55.832Z"
   },
   {
    "duration": 136,
    "start_time": "2022-02-08T14:05:55.834Z"
   },
   {
    "duration": 136,
    "start_time": "2022-02-08T14:05:55.835Z"
   },
   {
    "duration": 284,
    "start_time": "2022-02-08T14:06:16.146Z"
   },
   {
    "duration": 70,
    "start_time": "2022-02-08T14:06:40.913Z"
   },
   {
    "duration": 22,
    "start_time": "2022-02-08T14:06:49.258Z"
   },
   {
    "duration": 8,
    "start_time": "2022-02-08T14:07:13.673Z"
   },
   {
    "duration": 222,
    "start_time": "2022-02-08T14:07:18.074Z"
   },
   {
    "duration": 17,
    "start_time": "2022-02-08T14:07:32.281Z"
   },
   {
    "duration": 12,
    "start_time": "2022-02-08T14:07:35.122Z"
   },
   {
    "duration": 27,
    "start_time": "2022-02-08T14:07:38.890Z"
   },
   {
    "duration": 17,
    "start_time": "2022-02-08T14:07:43.481Z"
   },
   {
    "duration": 14,
    "start_time": "2022-02-08T14:07:46.953Z"
   },
   {
    "duration": 17,
    "start_time": "2022-02-08T14:07:50.345Z"
   },
   {
    "duration": 13,
    "start_time": "2022-02-08T14:07:52.913Z"
   },
   {
    "duration": 4,
    "start_time": "2022-02-08T14:08:00.858Z"
   },
   {
    "duration": 17,
    "start_time": "2022-02-08T14:08:05.452Z"
   },
   {
    "duration": 17,
    "start_time": "2022-02-08T14:08:07.881Z"
   },
   {
    "duration": 215,
    "start_time": "2022-02-08T14:09:54.379Z"
   },
   {
    "duration": 6,
    "start_time": "2022-02-08T14:21:25.433Z"
   },
   {
    "duration": 8,
    "start_time": "2022-02-08T14:23:32.221Z"
   },
   {
    "duration": 261,
    "start_time": "2022-02-08T14:30:26.674Z"
   },
   {
    "duration": 5,
    "start_time": "2022-02-08T14:31:08.778Z"
   },
   {
    "duration": 5,
    "start_time": "2022-02-08T14:31:48.666Z"
   },
   {
    "duration": 222,
    "start_time": "2022-02-08T14:31:52.437Z"
   },
   {
    "duration": 4,
    "start_time": "2022-02-08T14:32:04.917Z"
   },
   {
    "duration": 10,
    "start_time": "2022-02-08T14:33:35.350Z"
   },
   {
    "duration": 10,
    "start_time": "2022-02-08T14:34:08.830Z"
   },
   {
    "duration": 10,
    "start_time": "2022-02-08T14:34:22.639Z"
   },
   {
    "duration": 9,
    "start_time": "2022-02-08T14:35:22.318Z"
   },
   {
    "duration": 4,
    "start_time": "2022-02-08T14:35:43.214Z"
   },
   {
    "duration": 14,
    "start_time": "2022-02-08T14:36:03.397Z"
   },
   {
    "duration": 3,
    "start_time": "2022-02-08T15:22:37.206Z"
   },
   {
    "duration": 59,
    "start_time": "2022-02-08T15:24:43.597Z"
   },
   {
    "duration": 81,
    "start_time": "2022-02-08T15:25:18.559Z"
   },
   {
    "duration": 20,
    "start_time": "2022-02-08T15:25:32.809Z"
   },
   {
    "duration": 3,
    "start_time": "2022-02-08T15:25:38.071Z"
   },
   {
    "duration": 13,
    "start_time": "2022-02-08T15:25:41.474Z"
   },
   {
    "duration": 36,
    "start_time": "2022-02-08T15:59:39.447Z"
   },
   {
    "duration": 38,
    "start_time": "2022-02-08T16:04:03.167Z"
   },
   {
    "duration": 6,
    "start_time": "2022-02-08T16:04:14.061Z"
   },
   {
    "duration": 6,
    "start_time": "2022-02-08T16:05:08.526Z"
   },
   {
    "duration": 10,
    "start_time": "2022-02-08T16:06:30.620Z"
   },
   {
    "duration": 8,
    "start_time": "2022-02-08T16:07:39.109Z"
   },
   {
    "duration": 9,
    "start_time": "2022-02-08T16:09:20.622Z"
   },
   {
    "duration": 8,
    "start_time": "2022-02-08T16:09:34.334Z"
   },
   {
    "duration": 88,
    "start_time": "2022-02-08T16:10:00.806Z"
   },
   {
    "duration": 9,
    "start_time": "2022-02-08T16:10:08.903Z"
   },
   {
    "duration": 44,
    "start_time": "2022-02-08T16:10:26.408Z"
   },
   {
    "duration": 41,
    "start_time": "2022-02-08T16:11:41.054Z"
   },
   {
    "duration": 246,
    "start_time": "2022-02-08T16:15:23.325Z"
   },
   {
    "duration": 3,
    "start_time": "2022-02-08T16:15:43.059Z"
   },
   {
    "duration": 9,
    "start_time": "2022-02-08T16:18:10.567Z"
   },
   {
    "duration": 10,
    "start_time": "2022-02-08T16:18:40.621Z"
   },
   {
    "duration": 724,
    "start_time": "2022-02-08T19:52:44.696Z"
   },
   {
    "duration": 16,
    "start_time": "2022-02-08T19:52:45.423Z"
   },
   {
    "duration": 4,
    "start_time": "2022-02-08T19:52:45.441Z"
   },
   {
    "duration": 17,
    "start_time": "2022-02-08T19:52:45.447Z"
   },
   {
    "duration": 4,
    "start_time": "2022-02-08T19:52:45.466Z"
   },
   {
    "duration": 37,
    "start_time": "2022-02-08T19:52:45.472Z"
   },
   {
    "duration": 5,
    "start_time": "2022-02-08T19:52:45.511Z"
   },
   {
    "duration": 5,
    "start_time": "2022-02-08T19:52:45.519Z"
   },
   {
    "duration": 12,
    "start_time": "2022-02-08T19:52:45.527Z"
   },
   {
    "duration": 5,
    "start_time": "2022-02-08T19:52:45.541Z"
   },
   {
    "duration": 15,
    "start_time": "2022-02-08T19:52:45.548Z"
   },
   {
    "duration": 49,
    "start_time": "2022-02-08T19:52:45.565Z"
   },
   {
    "duration": 15,
    "start_time": "2022-02-08T19:52:45.617Z"
   },
   {
    "duration": 34,
    "start_time": "2022-02-08T19:52:45.634Z"
   },
   {
    "duration": 37,
    "start_time": "2022-02-08T19:52:45.670Z"
   },
   {
    "duration": 15,
    "start_time": "2022-02-08T19:52:45.709Z"
   },
   {
    "duration": 29,
    "start_time": "2022-02-08T19:52:45.726Z"
   },
   {
    "duration": 15,
    "start_time": "2022-02-08T19:52:45.757Z"
   },
   {
    "duration": 9,
    "start_time": "2022-02-08T19:52:45.774Z"
   },
   {
    "duration": 32,
    "start_time": "2022-02-08T19:52:45.785Z"
   },
   {
    "duration": 21,
    "start_time": "2022-02-08T19:52:45.819Z"
   },
   {
    "duration": 708,
    "start_time": "2022-02-09T08:15:53.375Z"
   },
   {
    "duration": 14,
    "start_time": "2022-02-09T08:15:54.085Z"
   },
   {
    "duration": 4,
    "start_time": "2022-02-09T08:15:54.103Z"
   },
   {
    "duration": 17,
    "start_time": "2022-02-09T08:15:54.119Z"
   },
   {
    "duration": 8,
    "start_time": "2022-02-09T08:15:54.139Z"
   },
   {
    "duration": 13,
    "start_time": "2022-02-09T08:15:54.149Z"
   },
   {
    "duration": 6,
    "start_time": "2022-02-09T08:15:54.164Z"
   },
   {
    "duration": 5,
    "start_time": "2022-02-09T08:15:54.174Z"
   },
   {
    "duration": 44,
    "start_time": "2022-02-09T08:15:54.181Z"
   },
   {
    "duration": 9,
    "start_time": "2022-02-09T08:15:54.227Z"
   },
   {
    "duration": 17,
    "start_time": "2022-02-09T08:15:54.238Z"
   },
   {
    "duration": 16,
    "start_time": "2022-02-09T08:15:54.257Z"
   },
   {
    "duration": 14,
    "start_time": "2022-02-09T08:15:54.274Z"
   },
   {
    "duration": 45,
    "start_time": "2022-02-09T08:15:54.290Z"
   },
   {
    "duration": 16,
    "start_time": "2022-02-09T08:15:54.337Z"
   },
   {
    "duration": 13,
    "start_time": "2022-02-09T08:15:54.355Z"
   },
   {
    "duration": 19,
    "start_time": "2022-02-09T08:15:54.370Z"
   },
   {
    "duration": 33,
    "start_time": "2022-02-09T08:15:54.390Z"
   },
   {
    "duration": 6,
    "start_time": "2022-02-09T08:15:54.425Z"
   },
   {
    "duration": 18,
    "start_time": "2022-02-09T08:15:54.433Z"
   },
   {
    "duration": 17,
    "start_time": "2022-02-09T08:15:54.453Z"
   },
   {
    "duration": 34,
    "start_time": "2022-02-09T08:23:41.600Z"
   },
   {
    "duration": 3,
    "start_time": "2022-02-09T08:34:00.411Z"
   },
   {
    "duration": 10,
    "start_time": "2022-02-09T08:41:16.700Z"
   },
   {
    "duration": 6,
    "start_time": "2022-02-09T08:41:59.303Z"
   },
   {
    "duration": 6,
    "start_time": "2022-02-09T08:44:07.912Z"
   },
   {
    "duration": 5,
    "start_time": "2022-02-09T08:44:18.248Z"
   },
   {
    "duration": 6,
    "start_time": "2022-02-09T08:45:16.618Z"
   },
   {
    "duration": 7,
    "start_time": "2022-02-09T08:50:17.420Z"
   },
   {
    "duration": 5,
    "start_time": "2022-02-09T08:58:33.484Z"
   },
   {
    "duration": 8,
    "start_time": "2022-02-09T08:58:45.369Z"
   },
   {
    "duration": 9,
    "start_time": "2022-02-09T09:00:31.792Z"
   },
   {
    "duration": 6,
    "start_time": "2022-02-09T09:00:46.348Z"
   },
   {
    "duration": 8,
    "start_time": "2022-02-09T09:01:09.428Z"
   },
   {
    "duration": 6,
    "start_time": "2022-02-09T09:01:11.948Z"
   },
   {
    "duration": 5,
    "start_time": "2022-02-09T09:02:18.948Z"
   },
   {
    "duration": 7,
    "start_time": "2022-02-09T09:02:20.972Z"
   },
   {
    "duration": 7,
    "start_time": "2022-02-09T09:59:52.141Z"
   },
   {
    "duration": 6,
    "start_time": "2022-02-09T10:01:45.998Z"
   },
   {
    "duration": 8,
    "start_time": "2022-02-09T10:01:56.190Z"
   },
   {
    "duration": 9,
    "start_time": "2022-02-09T10:02:35.439Z"
   },
   {
    "duration": 439,
    "start_time": "2022-02-09T10:02:56.354Z"
   },
   {
    "duration": 7,
    "start_time": "2022-02-09T10:03:00.853Z"
   },
   {
    "duration": 9,
    "start_time": "2022-02-09T10:03:23.647Z"
   },
   {
    "duration": 7,
    "start_time": "2022-02-09T10:03:49.027Z"
   },
   {
    "duration": 9,
    "start_time": "2022-02-09T10:04:10.894Z"
   },
   {
    "duration": 4,
    "start_time": "2022-02-09T10:11:48.574Z"
   },
   {
    "duration": 4,
    "start_time": "2022-02-09T10:11:51.188Z"
   },
   {
    "duration": 4,
    "start_time": "2022-02-09T10:11:59.077Z"
   },
   {
    "duration": 636,
    "start_time": "2022-02-09T10:12:11.453Z"
   },
   {
    "duration": 15,
    "start_time": "2022-02-09T10:12:12.091Z"
   },
   {
    "duration": 11,
    "start_time": "2022-02-09T10:12:12.111Z"
   },
   {
    "duration": 40,
    "start_time": "2022-02-09T10:12:12.124Z"
   },
   {
    "duration": 5,
    "start_time": "2022-02-09T10:12:12.166Z"
   },
   {
    "duration": 29,
    "start_time": "2022-02-09T10:12:12.173Z"
   },
   {
    "duration": 2,
    "start_time": "2022-02-09T10:12:12.204Z"
   },
   {
    "duration": 19,
    "start_time": "2022-02-09T10:12:12.209Z"
   },
   {
    "duration": 16,
    "start_time": "2022-02-09T10:12:12.230Z"
   },
   {
    "duration": 13,
    "start_time": "2022-02-09T10:12:12.248Z"
   },
   {
    "duration": 8,
    "start_time": "2022-02-09T10:12:12.263Z"
   },
   {
    "duration": 7,
    "start_time": "2022-02-09T10:12:12.273Z"
   },
   {
    "duration": 6,
    "start_time": "2022-02-09T10:12:12.281Z"
   },
   {
    "duration": 10,
    "start_time": "2022-02-09T10:12:12.288Z"
   },
   {
    "duration": 10,
    "start_time": "2022-02-09T10:12:12.300Z"
   },
   {
    "duration": 8,
    "start_time": "2022-02-09T10:12:12.312Z"
   },
   {
    "duration": 6,
    "start_time": "2022-02-09T10:12:12.321Z"
   },
   {
    "duration": 14,
    "start_time": "2022-02-09T10:12:12.329Z"
   },
   {
    "duration": 15,
    "start_time": "2022-02-09T10:12:12.345Z"
   },
   {
    "duration": 12,
    "start_time": "2022-02-09T10:12:12.362Z"
   },
   {
    "duration": 43,
    "start_time": "2022-02-09T10:12:12.376Z"
   },
   {
    "duration": 16,
    "start_time": "2022-02-09T10:12:12.421Z"
   },
   {
    "duration": 39,
    "start_time": "2022-02-09T10:12:12.440Z"
   },
   {
    "duration": 25,
    "start_time": "2022-02-09T10:12:12.481Z"
   },
   {
    "duration": 16,
    "start_time": "2022-02-09T10:12:12.508Z"
   },
   {
    "duration": 12,
    "start_time": "2022-02-09T10:12:12.525Z"
   },
   {
    "duration": 31,
    "start_time": "2022-02-09T10:12:12.539Z"
   },
   {
    "duration": 18,
    "start_time": "2022-02-09T10:12:12.572Z"
   },
   {
    "duration": 5,
    "start_time": "2022-02-09T10:12:21.022Z"
   },
   {
    "duration": 4,
    "start_time": "2022-02-09T10:13:06.657Z"
   },
   {
    "duration": 6,
    "start_time": "2022-02-09T10:13:21.448Z"
   },
   {
    "duration": 6,
    "start_time": "2022-02-09T10:13:32.056Z"
   },
   {
    "duration": 6,
    "start_time": "2022-02-09T10:13:52.352Z"
   },
   {
    "duration": 6,
    "start_time": "2022-02-09T10:15:35.809Z"
   },
   {
    "duration": 7,
    "start_time": "2022-02-09T10:17:31.554Z"
   },
   {
    "duration": 98,
    "start_time": "2022-02-09T10:19:27.710Z"
   },
   {
    "duration": 6,
    "start_time": "2022-02-09T10:19:35.109Z"
   },
   {
    "duration": 4,
    "start_time": "2022-02-09T10:19:43.066Z"
   },
   {
    "duration": 3,
    "start_time": "2022-02-09T10:20:55.477Z"
   },
   {
    "duration": 12,
    "start_time": "2022-02-09T10:21:12.317Z"
   },
   {
    "duration": 4,
    "start_time": "2022-02-09T10:21:23.486Z"
   },
   {
    "duration": 13,
    "start_time": "2022-02-09T10:21:26.438Z"
   },
   {
    "duration": 8,
    "start_time": "2022-02-09T10:21:49.062Z"
   },
   {
    "duration": 4,
    "start_time": "2022-02-09T10:22:04.861Z"
   },
   {
    "duration": 283,
    "start_time": "2022-02-09T10:22:42.502Z"
   },
   {
    "duration": 4,
    "start_time": "2022-02-09T10:23:00.760Z"
   },
   {
    "duration": 8,
    "start_time": "2022-02-09T10:23:08.494Z"
   },
   {
    "duration": 245,
    "start_time": "2022-02-09T10:50:09.636Z"
   },
   {
    "duration": 218,
    "start_time": "2022-02-09T10:50:34.554Z"
   },
   {
    "duration": 316,
    "start_time": "2022-02-09T10:50:44.578Z"
   },
   {
    "duration": 677,
    "start_time": "2022-02-09T10:50:58.302Z"
   },
   {
    "duration": 13,
    "start_time": "2022-02-09T10:50:58.982Z"
   },
   {
    "duration": 3,
    "start_time": "2022-02-09T10:50:58.997Z"
   },
   {
    "duration": 26,
    "start_time": "2022-02-09T10:50:59.002Z"
   },
   {
    "duration": 5,
    "start_time": "2022-02-09T10:50:59.030Z"
   },
   {
    "duration": 12,
    "start_time": "2022-02-09T10:50:59.037Z"
   },
   {
    "duration": 2,
    "start_time": "2022-02-09T10:50:59.051Z"
   },
   {
    "duration": 7,
    "start_time": "2022-02-09T10:50:59.056Z"
   },
   {
    "duration": 5,
    "start_time": "2022-02-09T10:50:59.065Z"
   },
   {
    "duration": 47,
    "start_time": "2022-02-09T10:50:59.072Z"
   },
   {
    "duration": 5,
    "start_time": "2022-02-09T10:50:59.122Z"
   },
   {
    "duration": 7,
    "start_time": "2022-02-09T10:50:59.129Z"
   },
   {
    "duration": 7,
    "start_time": "2022-02-09T10:50:59.137Z"
   },
   {
    "duration": 10,
    "start_time": "2022-02-09T10:50:59.145Z"
   },
   {
    "duration": 8,
    "start_time": "2022-02-09T10:50:59.156Z"
   },
   {
    "duration": 12,
    "start_time": "2022-02-09T10:50:59.166Z"
   },
   {
    "duration": 6,
    "start_time": "2022-02-09T10:50:59.181Z"
   },
   {
    "duration": 33,
    "start_time": "2022-02-09T10:50:59.189Z"
   },
   {
    "duration": 4,
    "start_time": "2022-02-09T10:50:59.225Z"
   },
   {
    "duration": 15,
    "start_time": "2022-02-09T10:50:59.231Z"
   },
   {
    "duration": 17,
    "start_time": "2022-02-09T10:50:59.248Z"
   },
   {
    "duration": 13,
    "start_time": "2022-02-09T10:50:59.267Z"
   },
   {
    "duration": 59,
    "start_time": "2022-02-09T10:50:59.284Z"
   },
   {
    "duration": 16,
    "start_time": "2022-02-09T10:50:59.345Z"
   },
   {
    "duration": 12,
    "start_time": "2022-02-09T10:50:59.363Z"
   },
   {
    "duration": 41,
    "start_time": "2022-02-09T10:50:59.377Z"
   },
   {
    "duration": 11,
    "start_time": "2022-02-09T10:50:59.420Z"
   },
   {
    "duration": 5,
    "start_time": "2022-02-09T10:50:59.433Z"
   },
   {
    "duration": 19,
    "start_time": "2022-02-09T10:50:59.440Z"
   },
   {
    "duration": 16,
    "start_time": "2022-02-09T10:50:59.461Z"
   },
   {
    "duration": 317,
    "start_time": "2022-02-09T10:50:59.479Z"
   },
   {
    "duration": 234,
    "start_time": "2022-02-09T11:14:07.072Z"
   },
   {
    "duration": 19,
    "start_time": "2022-02-09T11:14:17.623Z"
   },
   {
    "duration": 17,
    "start_time": "2022-02-09T11:14:23.400Z"
   },
   {
    "duration": 16,
    "start_time": "2022-02-09T11:14:54.568Z"
   },
   {
    "duration": 18,
    "start_time": "2022-02-09T11:15:43.011Z"
   },
   {
    "duration": 17,
    "start_time": "2022-02-09T11:19:08.211Z"
   },
   {
    "duration": 4,
    "start_time": "2022-02-09T11:20:02.316Z"
   },
   {
    "duration": 9,
    "start_time": "2022-02-09T11:20:10.446Z"
   },
   {
    "duration": 4,
    "start_time": "2022-02-09T11:21:05.374Z"
   },
   {
    "duration": 8,
    "start_time": "2022-02-09T11:21:09.493Z"
   },
   {
    "duration": 5,
    "start_time": "2022-02-09T11:23:18.542Z"
   },
   {
    "duration": 8,
    "start_time": "2022-02-09T11:23:21.630Z"
   },
   {
    "duration": 9,
    "start_time": "2022-02-09T11:25:11.768Z"
   },
   {
    "duration": 19,
    "start_time": "2022-02-09T12:09:29.013Z"
   },
   {
    "duration": 257,
    "start_time": "2022-02-09T12:09:51.860Z"
   },
   {
    "duration": 18,
    "start_time": "2022-02-09T12:10:30.525Z"
   },
   {
    "duration": 17,
    "start_time": "2022-02-09T12:21:37.172Z"
   },
   {
    "duration": 213,
    "start_time": "2022-02-09T12:22:01.028Z"
   },
   {
    "duration": 4,
    "start_time": "2022-02-09T12:22:18.069Z"
   },
   {
    "duration": 17,
    "start_time": "2022-02-09T12:23:29.538Z"
   },
   {
    "duration": 317,
    "start_time": "2022-02-09T12:24:56.829Z"
   },
   {
    "duration": 18,
    "start_time": "2022-02-09T12:25:04.062Z"
   },
   {
    "duration": 67,
    "start_time": "2022-02-09T12:27:31.354Z"
   },
   {
    "duration": 21,
    "start_time": "2022-02-09T12:27:35.124Z"
   },
   {
    "duration": 42,
    "start_time": "2022-02-09T12:29:40.051Z"
   },
   {
    "duration": 41,
    "start_time": "2022-02-09T12:32:56.260Z"
   },
   {
    "duration": 36,
    "start_time": "2022-02-09T12:33:02.477Z"
   },
   {
    "duration": 36,
    "start_time": "2022-02-09T13:03:29.204Z"
   },
   {
    "duration": 268,
    "start_time": "2022-02-09T13:04:50.234Z"
   },
   {
    "duration": 589,
    "start_time": "2022-02-09T13:04:50.559Z"
   },
   {
    "duration": 14,
    "start_time": "2022-02-09T13:04:51.151Z"
   },
   {
    "duration": 2,
    "start_time": "2022-02-09T13:04:51.167Z"
   },
   {
    "duration": 20,
    "start_time": "2022-02-09T13:04:51.171Z"
   },
   {
    "duration": 5,
    "start_time": "2022-02-09T13:04:51.193Z"
   },
   {
    "duration": 24,
    "start_time": "2022-02-09T13:04:51.199Z"
   },
   {
    "duration": 2,
    "start_time": "2022-02-09T13:04:51.225Z"
   },
   {
    "duration": 8,
    "start_time": "2022-02-09T13:04:51.229Z"
   },
   {
    "duration": 4,
    "start_time": "2022-02-09T13:04:51.239Z"
   },
   {
    "duration": 17,
    "start_time": "2022-02-09T13:04:51.245Z"
   },
   {
    "duration": 15,
    "start_time": "2022-02-09T13:04:51.263Z"
   },
   {
    "duration": 6,
    "start_time": "2022-02-09T13:04:51.279Z"
   },
   {
    "duration": 12,
    "start_time": "2022-02-09T13:04:51.287Z"
   },
   {
    "duration": 23,
    "start_time": "2022-02-09T13:04:51.300Z"
   },
   {
    "duration": 11,
    "start_time": "2022-02-09T13:04:51.325Z"
   },
   {
    "duration": 4,
    "start_time": "2022-02-09T13:04:51.337Z"
   },
   {
    "duration": 7,
    "start_time": "2022-02-09T13:04:51.343Z"
   },
   {
    "duration": 15,
    "start_time": "2022-02-09T13:04:51.351Z"
   },
   {
    "duration": 7,
    "start_time": "2022-02-09T13:04:51.367Z"
   },
   {
    "duration": 15,
    "start_time": "2022-02-09T13:04:51.375Z"
   },
   {
    "duration": 27,
    "start_time": "2022-02-09T13:04:51.392Z"
   },
   {
    "duration": 11,
    "start_time": "2022-02-09T13:04:51.421Z"
   },
   {
    "duration": 28,
    "start_time": "2022-02-09T13:04:51.436Z"
   },
   {
    "duration": 17,
    "start_time": "2022-02-09T13:04:51.466Z"
   },
   {
    "duration": 35,
    "start_time": "2022-02-09T13:04:51.484Z"
   },
   {
    "duration": 19,
    "start_time": "2022-02-09T13:04:51.521Z"
   },
   {
    "duration": 20,
    "start_time": "2022-02-09T13:04:51.541Z"
   },
   {
    "duration": 13,
    "start_time": "2022-02-09T13:04:51.563Z"
   },
   {
    "duration": 20,
    "start_time": "2022-02-09T13:04:51.578Z"
   },
   {
    "duration": 19,
    "start_time": "2022-02-09T13:04:51.600Z"
   },
   {
    "duration": 41,
    "start_time": "2022-02-09T13:04:51.620Z"
   },
   {
    "duration": 4,
    "start_time": "2022-02-09T13:04:51.663Z"
   },
   {
    "duration": 21,
    "start_time": "2022-02-09T13:11:35.695Z"
   },
   {
    "duration": 11,
    "start_time": "2022-02-09T13:12:34.780Z"
   },
   {
    "duration": 31,
    "start_time": "2022-02-09T13:25:44.223Z"
   },
   {
    "duration": 636,
    "start_time": "2022-02-09T13:26:03.070Z"
   },
   {
    "duration": 20,
    "start_time": "2022-02-09T13:26:03.708Z"
   },
   {
    "duration": 3,
    "start_time": "2022-02-09T13:26:03.730Z"
   },
   {
    "duration": 22,
    "start_time": "2022-02-09T13:26:03.735Z"
   },
   {
    "duration": 6,
    "start_time": "2022-02-09T13:26:03.759Z"
   },
   {
    "duration": 15,
    "start_time": "2022-02-09T13:26:03.767Z"
   },
   {
    "duration": 6,
    "start_time": "2022-02-09T13:26:03.784Z"
   },
   {
    "duration": 13,
    "start_time": "2022-02-09T13:26:03.793Z"
   },
   {
    "duration": 22,
    "start_time": "2022-02-09T13:26:03.808Z"
   },
   {
    "duration": 25,
    "start_time": "2022-02-09T13:26:03.832Z"
   },
   {
    "duration": 17,
    "start_time": "2022-02-09T13:26:03.859Z"
   },
   {
    "duration": 14,
    "start_time": "2022-02-09T13:26:03.878Z"
   },
   {
    "duration": 9,
    "start_time": "2022-02-09T13:26:03.893Z"
   },
   {
    "duration": 13,
    "start_time": "2022-02-09T13:26:03.904Z"
   },
   {
    "duration": 14,
    "start_time": "2022-02-09T13:26:03.919Z"
   },
   {
    "duration": 5,
    "start_time": "2022-02-09T13:26:03.935Z"
   },
   {
    "duration": 18,
    "start_time": "2022-02-09T13:26:03.942Z"
   },
   {
    "duration": 12,
    "start_time": "2022-02-09T13:26:03.962Z"
   },
   {
    "duration": 5,
    "start_time": "2022-02-09T13:26:03.976Z"
   },
   {
    "duration": 13,
    "start_time": "2022-02-09T13:26:03.983Z"
   },
   {
    "duration": 21,
    "start_time": "2022-02-09T13:26:03.998Z"
   },
   {
    "duration": 10,
    "start_time": "2022-02-09T13:26:04.021Z"
   },
   {
    "duration": 28,
    "start_time": "2022-02-09T13:26:04.034Z"
   },
   {
    "duration": 18,
    "start_time": "2022-02-09T13:26:04.064Z"
   },
   {
    "duration": 39,
    "start_time": "2022-02-09T13:26:04.083Z"
   },
   {
    "duration": 22,
    "start_time": "2022-02-09T13:26:04.125Z"
   },
   {
    "duration": 16,
    "start_time": "2022-02-09T13:26:04.149Z"
   },
   {
    "duration": 9,
    "start_time": "2022-02-09T13:26:04.167Z"
   },
   {
    "duration": 20,
    "start_time": "2022-02-09T13:26:04.177Z"
   },
   {
    "duration": 16,
    "start_time": "2022-02-09T13:26:04.219Z"
   },
   {
    "duration": 42,
    "start_time": "2022-02-09T13:26:04.237Z"
   },
   {
    "duration": 42,
    "start_time": "2022-02-09T13:26:04.280Z"
   },
   {
    "duration": 12,
    "start_time": "2022-02-09T13:26:04.323Z"
   },
   {
    "duration": 33,
    "start_time": "2022-02-09T13:26:40.007Z"
   },
   {
    "duration": 720,
    "start_time": "2022-02-09T13:27:01.260Z"
   },
   {
    "duration": 14,
    "start_time": "2022-02-09T13:27:01.982Z"
   },
   {
    "duration": 4,
    "start_time": "2022-02-09T13:27:01.999Z"
   },
   {
    "duration": 27,
    "start_time": "2022-02-09T13:27:02.019Z"
   },
   {
    "duration": 9,
    "start_time": "2022-02-09T13:27:02.048Z"
   },
   {
    "duration": 32,
    "start_time": "2022-02-09T13:27:02.058Z"
   },
   {
    "duration": 6,
    "start_time": "2022-02-09T13:27:02.092Z"
   },
   {
    "duration": 14,
    "start_time": "2022-02-09T13:27:02.101Z"
   },
   {
    "duration": 11,
    "start_time": "2022-02-09T13:27:02.117Z"
   },
   {
    "duration": 16,
    "start_time": "2022-02-09T13:27:02.130Z"
   },
   {
    "duration": 14,
    "start_time": "2022-02-09T13:27:02.148Z"
   },
   {
    "duration": 5,
    "start_time": "2022-02-09T13:27:02.164Z"
   },
   {
    "duration": 11,
    "start_time": "2022-02-09T13:27:02.171Z"
   },
   {
    "duration": 9,
    "start_time": "2022-02-09T13:27:02.183Z"
   },
   {
    "duration": 10,
    "start_time": "2022-02-09T13:27:02.193Z"
   },
   {
    "duration": 4,
    "start_time": "2022-02-09T13:27:02.205Z"
   },
   {
    "duration": 4,
    "start_time": "2022-02-09T13:27:02.219Z"
   },
   {
    "duration": 15,
    "start_time": "2022-02-09T13:27:02.225Z"
   },
   {
    "duration": 4,
    "start_time": "2022-02-09T13:27:02.242Z"
   },
   {
    "duration": 18,
    "start_time": "2022-02-09T13:27:02.247Z"
   },
   {
    "duration": 28,
    "start_time": "2022-02-09T13:27:02.266Z"
   },
   {
    "duration": 22,
    "start_time": "2022-02-09T13:27:02.296Z"
   },
   {
    "duration": 28,
    "start_time": "2022-02-09T13:27:02.322Z"
   },
   {
    "duration": 18,
    "start_time": "2022-02-09T13:27:02.352Z"
   },
   {
    "duration": 17,
    "start_time": "2022-02-09T13:27:02.372Z"
   },
   {
    "duration": 34,
    "start_time": "2022-02-09T13:27:02.391Z"
   },
   {
    "duration": 16,
    "start_time": "2022-02-09T13:27:02.427Z"
   },
   {
    "duration": 12,
    "start_time": "2022-02-09T13:27:02.445Z"
   },
   {
    "duration": 23,
    "start_time": "2022-02-09T13:27:02.458Z"
   },
   {
    "duration": 16,
    "start_time": "2022-02-09T13:27:02.483Z"
   },
   {
    "duration": 53,
    "start_time": "2022-02-09T13:27:02.501Z"
   },
   {
    "duration": 20,
    "start_time": "2022-02-09T13:27:02.556Z"
   },
   {
    "duration": 19,
    "start_time": "2022-02-09T13:27:02.578Z"
   },
   {
    "duration": 5,
    "start_time": "2022-02-09T16:03:20.002Z"
   },
   {
    "duration": 11,
    "start_time": "2022-02-09T16:03:37.674Z"
   },
   {
    "duration": 9,
    "start_time": "2022-02-09T16:03:56.376Z"
   },
   {
    "duration": 11,
    "start_time": "2022-02-09T16:06:00.570Z"
   },
   {
    "duration": 5,
    "start_time": "2022-02-09T16:07:32.282Z"
   },
   {
    "duration": 11,
    "start_time": "2022-02-09T16:07:36.580Z"
   },
   {
    "duration": 306,
    "start_time": "2022-02-09T16:11:49.143Z"
   },
   {
    "duration": 228,
    "start_time": "2022-02-09T16:12:16.109Z"
   },
   {
    "duration": 5,
    "start_time": "2022-02-09T16:12:31.646Z"
   },
   {
    "duration": 13,
    "start_time": "2022-02-09T16:12:34.646Z"
   },
   {
    "duration": 18,
    "start_time": "2022-02-09T17:19:21.411Z"
   },
   {
    "duration": 21,
    "start_time": "2022-02-09T17:25:56.632Z"
   },
   {
    "duration": 27,
    "start_time": "2022-02-09T17:26:18.052Z"
   },
   {
    "duration": 161,
    "start_time": "2022-02-09T20:41:53.118Z"
   },
   {
    "duration": 593,
    "start_time": "2022-02-09T20:42:02.223Z"
   },
   {
    "duration": 13,
    "start_time": "2022-02-09T20:42:02.818Z"
   },
   {
    "duration": 13,
    "start_time": "2022-02-09T20:42:02.833Z"
   },
   {
    "duration": 47,
    "start_time": "2022-02-09T20:42:02.848Z"
   },
   {
    "duration": 29,
    "start_time": "2022-02-09T20:42:02.896Z"
   },
   {
    "duration": 38,
    "start_time": "2022-02-09T20:42:02.927Z"
   },
   {
    "duration": 18,
    "start_time": "2022-02-09T20:42:02.967Z"
   },
   {
    "duration": 24,
    "start_time": "2022-02-09T20:42:02.988Z"
   },
   {
    "duration": 25,
    "start_time": "2022-02-09T20:42:03.014Z"
   },
   {
    "duration": 28,
    "start_time": "2022-02-09T20:42:03.040Z"
   },
   {
    "duration": 24,
    "start_time": "2022-02-09T20:42:03.070Z"
   },
   {
    "duration": 7,
    "start_time": "2022-02-09T20:42:03.096Z"
   },
   {
    "duration": 6,
    "start_time": "2022-02-09T20:42:03.104Z"
   },
   {
    "duration": 7,
    "start_time": "2022-02-09T20:42:03.112Z"
   },
   {
    "duration": 9,
    "start_time": "2022-02-09T20:42:03.121Z"
   },
   {
    "duration": 4,
    "start_time": "2022-02-09T20:42:03.131Z"
   },
   {
    "duration": 6,
    "start_time": "2022-02-09T20:42:03.137Z"
   },
   {
    "duration": 18,
    "start_time": "2022-02-09T20:42:03.145Z"
   },
   {
    "duration": 3,
    "start_time": "2022-02-09T20:42:03.165Z"
   },
   {
    "duration": 17,
    "start_time": "2022-02-09T20:42:03.169Z"
   },
   {
    "duration": 15,
    "start_time": "2022-02-09T20:42:03.188Z"
   },
   {
    "duration": 11,
    "start_time": "2022-02-09T20:42:03.205Z"
   },
   {
    "duration": 55,
    "start_time": "2022-02-09T20:42:03.219Z"
   },
   {
    "duration": 16,
    "start_time": "2022-02-09T20:42:03.276Z"
   },
   {
    "duration": 14,
    "start_time": "2022-02-09T20:42:03.294Z"
   },
   {
    "duration": 28,
    "start_time": "2022-02-09T20:42:03.310Z"
   },
   {
    "duration": 24,
    "start_time": "2022-02-09T20:42:03.340Z"
   },
   {
    "duration": 15,
    "start_time": "2022-02-09T20:42:03.366Z"
   },
   {
    "duration": 18,
    "start_time": "2022-02-09T20:42:03.383Z"
   },
   {
    "duration": 15,
    "start_time": "2022-02-09T20:42:03.403Z"
   },
   {
    "duration": 51,
    "start_time": "2022-02-09T20:42:03.420Z"
   },
   {
    "duration": 21,
    "start_time": "2022-02-09T20:42:03.473Z"
   },
   {
    "duration": 10,
    "start_time": "2022-02-09T20:42:03.495Z"
   },
   {
    "duration": 9,
    "start_time": "2022-02-09T20:42:03.507Z"
   },
   {
    "duration": 14,
    "start_time": "2022-02-09T20:42:03.517Z"
   },
   {
    "duration": 29,
    "start_time": "2022-02-09T20:42:03.533Z"
   },
   {
    "duration": 18,
    "start_time": "2022-02-09T20:42:03.564Z"
   },
   {
    "duration": 17,
    "start_time": "2022-02-09T20:42:03.584Z"
   },
   {
    "duration": 3,
    "start_time": "2022-02-09T20:42:03.603Z"
   },
   {
    "duration": 12,
    "start_time": "2022-02-09T20:42:20.851Z"
   },
   {
    "duration": 10,
    "start_time": "2022-02-09T20:42:25.211Z"
   },
   {
    "duration": 3274,
    "start_time": "2022-02-09T21:10:39.400Z"
   },
   {
    "duration": 22,
    "start_time": "2022-02-09T21:11:28.727Z"
   },
   {
    "duration": 20,
    "start_time": "2022-02-09T21:16:17.302Z"
   },
   {
    "duration": 7,
    "start_time": "2022-02-09T21:16:36.572Z"
   },
   {
    "duration": 164,
    "start_time": "2022-02-09T21:16:41.117Z"
   },
   {
    "duration": 152,
    "start_time": "2022-02-09T21:16:53.333Z"
   },
   {
    "duration": 610,
    "start_time": "2022-02-09T21:17:24.024Z"
   },
   {
    "duration": 14,
    "start_time": "2022-02-09T21:17:24.636Z"
   },
   {
    "duration": 7,
    "start_time": "2022-02-09T21:17:24.652Z"
   },
   {
    "duration": 14,
    "start_time": "2022-02-09T21:17:24.661Z"
   },
   {
    "duration": 12,
    "start_time": "2022-02-09T21:17:24.676Z"
   },
   {
    "duration": 18,
    "start_time": "2022-02-09T21:17:24.690Z"
   },
   {
    "duration": 7,
    "start_time": "2022-02-09T21:17:24.709Z"
   },
   {
    "duration": 8,
    "start_time": "2022-02-09T21:17:24.718Z"
   },
   {
    "duration": 4,
    "start_time": "2022-02-09T21:17:24.729Z"
   },
   {
    "duration": 29,
    "start_time": "2022-02-09T21:17:24.735Z"
   },
   {
    "duration": 8,
    "start_time": "2022-02-09T21:17:24.766Z"
   },
   {
    "duration": 5,
    "start_time": "2022-02-09T21:17:24.776Z"
   },
   {
    "duration": 6,
    "start_time": "2022-02-09T21:17:24.782Z"
   },
   {
    "duration": 7,
    "start_time": "2022-02-09T21:17:24.790Z"
   },
   {
    "duration": 12,
    "start_time": "2022-02-09T21:17:24.799Z"
   },
   {
    "duration": 4,
    "start_time": "2022-02-09T21:17:24.812Z"
   },
   {
    "duration": 8,
    "start_time": "2022-02-09T21:17:24.818Z"
   },
   {
    "duration": 35,
    "start_time": "2022-02-09T21:17:24.827Z"
   },
   {
    "duration": 4,
    "start_time": "2022-02-09T21:17:24.863Z"
   },
   {
    "duration": 15,
    "start_time": "2022-02-09T21:17:24.869Z"
   },
   {
    "duration": 15,
    "start_time": "2022-02-09T21:17:24.885Z"
   },
   {
    "duration": 12,
    "start_time": "2022-02-09T21:17:24.902Z"
   },
   {
    "duration": 51,
    "start_time": "2022-02-09T21:17:24.916Z"
   },
   {
    "duration": 15,
    "start_time": "2022-02-09T21:17:24.968Z"
   },
   {
    "duration": 12,
    "start_time": "2022-02-09T21:17:24.985Z"
   },
   {
    "duration": 19,
    "start_time": "2022-02-09T21:17:24.999Z"
   },
   {
    "duration": 21,
    "start_time": "2022-02-09T21:17:25.021Z"
   },
   {
    "duration": 25,
    "start_time": "2022-02-09T21:17:25.044Z"
   },
   {
    "duration": 25,
    "start_time": "2022-02-09T21:17:25.071Z"
   },
   {
    "duration": 15,
    "start_time": "2022-02-09T21:17:25.098Z"
   },
   {
    "duration": 48,
    "start_time": "2022-02-09T21:17:25.115Z"
   },
   {
    "duration": 19,
    "start_time": "2022-02-09T21:17:25.165Z"
   },
   {
    "duration": 11,
    "start_time": "2022-02-09T21:17:25.186Z"
   },
   {
    "duration": 7,
    "start_time": "2022-02-09T21:17:25.198Z"
   },
   {
    "duration": 12,
    "start_time": "2022-02-09T21:17:25.207Z"
   },
   {
    "duration": 6,
    "start_time": "2022-02-09T21:17:25.221Z"
   },
   {
    "duration": 37,
    "start_time": "2022-02-09T21:17:25.229Z"
   },
   {
    "duration": 16,
    "start_time": "2022-02-09T21:17:25.268Z"
   },
   {
    "duration": 20,
    "start_time": "2022-02-09T21:17:25.285Z"
   },
   {
    "duration": 9,
    "start_time": "2022-02-09T21:18:18.342Z"
   },
   {
    "duration": 348,
    "start_time": "2022-02-09T21:18:21.426Z"
   },
   {
    "duration": 151,
    "start_time": "2022-02-09T21:19:32.592Z"
   },
   {
    "duration": 167,
    "start_time": "2022-02-09T21:19:42.864Z"
   },
   {
    "duration": 148,
    "start_time": "2022-02-09T21:21:12.604Z"
   },
   {
    "duration": 136,
    "start_time": "2022-02-09T21:21:22.351Z"
   },
   {
    "duration": 641,
    "start_time": "2022-02-09T21:21:41.065Z"
   },
   {
    "duration": 14,
    "start_time": "2022-02-09T21:21:41.708Z"
   },
   {
    "duration": 6,
    "start_time": "2022-02-09T21:21:41.724Z"
   },
   {
    "duration": 30,
    "start_time": "2022-02-09T21:21:41.732Z"
   },
   {
    "duration": 8,
    "start_time": "2022-02-09T21:21:41.764Z"
   },
   {
    "duration": 15,
    "start_time": "2022-02-09T21:21:41.773Z"
   },
   {
    "duration": 2,
    "start_time": "2022-02-09T21:21:41.790Z"
   },
   {
    "duration": 5,
    "start_time": "2022-02-09T21:21:41.795Z"
   },
   {
    "duration": 5,
    "start_time": "2022-02-09T21:21:41.802Z"
   },
   {
    "duration": 11,
    "start_time": "2022-02-09T21:21:41.808Z"
   },
   {
    "duration": 8,
    "start_time": "2022-02-09T21:21:41.821Z"
   },
   {
    "duration": 4,
    "start_time": "2022-02-09T21:21:41.859Z"
   },
   {
    "duration": 8,
    "start_time": "2022-02-09T21:21:41.865Z"
   },
   {
    "duration": 13,
    "start_time": "2022-02-09T21:21:41.875Z"
   },
   {
    "duration": 12,
    "start_time": "2022-02-09T21:21:41.890Z"
   },
   {
    "duration": 5,
    "start_time": "2022-02-09T21:21:41.904Z"
   },
   {
    "duration": 8,
    "start_time": "2022-02-09T21:21:41.910Z"
   },
   {
    "duration": 13,
    "start_time": "2022-02-09T21:21:41.920Z"
   },
   {
    "duration": 24,
    "start_time": "2022-02-09T21:21:41.935Z"
   },
   {
    "duration": 12,
    "start_time": "2022-02-09T21:21:41.961Z"
   },
   {
    "duration": 15,
    "start_time": "2022-02-09T21:21:41.975Z"
   },
   {
    "duration": 16,
    "start_time": "2022-02-09T21:21:41.992Z"
   },
   {
    "duration": 51,
    "start_time": "2022-02-09T21:21:42.011Z"
   },
   {
    "duration": 16,
    "start_time": "2022-02-09T21:21:42.064Z"
   },
   {
    "duration": 18,
    "start_time": "2022-02-09T21:21:42.082Z"
   },
   {
    "duration": 18,
    "start_time": "2022-02-09T21:21:42.102Z"
   },
   {
    "duration": 36,
    "start_time": "2022-02-09T21:21:42.123Z"
   },
   {
    "duration": 6,
    "start_time": "2022-02-09T21:21:42.161Z"
   },
   {
    "duration": 18,
    "start_time": "2022-02-09T21:21:42.169Z"
   },
   {
    "duration": 17,
    "start_time": "2022-02-09T21:21:42.189Z"
   },
   {
    "duration": 70,
    "start_time": "2022-02-09T21:21:42.208Z"
   },
   {
    "duration": 21,
    "start_time": "2022-02-09T21:21:42.280Z"
   },
   {
    "duration": 12,
    "start_time": "2022-02-09T21:21:42.303Z"
   },
   {
    "duration": 4,
    "start_time": "2022-02-09T21:21:42.317Z"
   },
   {
    "duration": 37,
    "start_time": "2022-02-09T21:21:42.323Z"
   },
   {
    "duration": 4,
    "start_time": "2022-02-09T21:21:42.362Z"
   },
   {
    "duration": 27,
    "start_time": "2022-02-09T21:21:42.368Z"
   },
   {
    "duration": 18,
    "start_time": "2022-02-09T21:21:42.396Z"
   },
   {
    "duration": 21,
    "start_time": "2022-02-09T21:21:42.415Z"
   },
   {
    "duration": 312,
    "start_time": "2022-02-09T21:25:18.124Z"
   },
   {
    "duration": 194,
    "start_time": "2022-02-09T21:25:44.178Z"
   },
   {
    "duration": 134,
    "start_time": "2022-02-09T21:26:14.587Z"
   },
   {
    "duration": 46,
    "start_time": "2022-02-09T21:37:24.157Z"
   },
   {
    "duration": 8,
    "start_time": "2022-02-09T21:37:34.200Z"
   },
   {
    "duration": 18,
    "start_time": "2022-02-09T21:37:44.837Z"
   },
   {
    "duration": 22,
    "start_time": "2022-02-09T21:38:36.261Z"
   },
   {
    "duration": 19,
    "start_time": "2022-02-09T21:39:00.853Z"
   },
   {
    "duration": 9,
    "start_time": "2022-02-09T21:40:30.036Z"
   },
   {
    "duration": 19,
    "start_time": "2022-02-09T21:40:52.078Z"
   },
   {
    "duration": 600,
    "start_time": "2022-02-10T11:32:40.576Z"
   },
   {
    "duration": 14,
    "start_time": "2022-02-10T11:32:41.177Z"
   },
   {
    "duration": 4,
    "start_time": "2022-02-10T11:32:41.195Z"
   },
   {
    "duration": 22,
    "start_time": "2022-02-10T11:32:41.200Z"
   },
   {
    "duration": 10,
    "start_time": "2022-02-10T11:32:41.224Z"
   },
   {
    "duration": 25,
    "start_time": "2022-02-10T11:32:41.235Z"
   },
   {
    "duration": 2,
    "start_time": "2022-02-10T11:32:41.263Z"
   },
   {
    "duration": 8,
    "start_time": "2022-02-10T11:32:41.267Z"
   },
   {
    "duration": 6,
    "start_time": "2022-02-10T11:32:41.276Z"
   },
   {
    "duration": 10,
    "start_time": "2022-02-10T11:32:41.283Z"
   },
   {
    "duration": 7,
    "start_time": "2022-02-10T11:32:41.294Z"
   },
   {
    "duration": 4,
    "start_time": "2022-02-10T11:32:41.302Z"
   },
   {
    "duration": 7,
    "start_time": "2022-02-10T11:32:41.308Z"
   },
   {
    "duration": 8,
    "start_time": "2022-02-10T11:32:41.316Z"
   },
   {
    "duration": 34,
    "start_time": "2022-02-10T11:32:41.326Z"
   },
   {
    "duration": 4,
    "start_time": "2022-02-10T11:32:41.362Z"
   },
   {
    "duration": 8,
    "start_time": "2022-02-10T11:32:41.368Z"
   },
   {
    "duration": 11,
    "start_time": "2022-02-10T11:32:41.378Z"
   },
   {
    "duration": 4,
    "start_time": "2022-02-10T11:32:41.390Z"
   },
   {
    "duration": 14,
    "start_time": "2022-02-10T11:32:41.395Z"
   },
   {
    "duration": 14,
    "start_time": "2022-02-10T11:32:41.410Z"
   },
   {
    "duration": 42,
    "start_time": "2022-02-10T11:32:41.427Z"
   },
   {
    "duration": 25,
    "start_time": "2022-02-10T11:32:41.471Z"
   },
   {
    "duration": 15,
    "start_time": "2022-02-10T11:32:41.497Z"
   },
   {
    "duration": 12,
    "start_time": "2022-02-10T11:32:41.513Z"
   },
   {
    "duration": 36,
    "start_time": "2022-02-10T11:32:41.527Z"
   },
   {
    "duration": 11,
    "start_time": "2022-02-10T11:32:41.564Z"
   },
   {
    "duration": 6,
    "start_time": "2022-02-10T11:32:41.577Z"
   },
   {
    "duration": 26,
    "start_time": "2022-02-10T11:32:41.584Z"
   },
   {
    "duration": 16,
    "start_time": "2022-02-10T11:32:41.611Z"
   },
   {
    "duration": 45,
    "start_time": "2022-02-10T11:32:41.629Z"
   },
   {
    "duration": 19,
    "start_time": "2022-02-10T11:32:41.675Z"
   },
   {
    "duration": 10,
    "start_time": "2022-02-10T11:32:41.696Z"
   },
   {
    "duration": 4,
    "start_time": "2022-02-10T11:32:41.707Z"
   },
   {
    "duration": 13,
    "start_time": "2022-02-10T11:32:41.713Z"
   },
   {
    "duration": 4,
    "start_time": "2022-02-10T11:32:41.727Z"
   },
   {
    "duration": 10,
    "start_time": "2022-02-10T11:32:41.759Z"
   },
   {
    "duration": 5,
    "start_time": "2022-02-10T11:32:41.771Z"
   },
   {
    "duration": 22,
    "start_time": "2022-02-10T11:32:41.778Z"
   },
   {
    "duration": 20,
    "start_time": "2022-02-10T11:32:41.801Z"
   },
   {
    "duration": 353,
    "start_time": "2022-02-10T20:20:29.888Z"
   },
   {
    "duration": 597,
    "start_time": "2022-02-10T20:20:37.766Z"
   },
   {
    "duration": 12,
    "start_time": "2022-02-10T20:20:38.365Z"
   },
   {
    "duration": 4,
    "start_time": "2022-02-10T20:20:38.379Z"
   },
   {
    "duration": 14,
    "start_time": "2022-02-10T20:20:38.384Z"
   },
   {
    "duration": 28,
    "start_time": "2022-02-10T20:20:38.399Z"
   },
   {
    "duration": 8,
    "start_time": "2022-02-10T20:20:38.428Z"
   },
   {
    "duration": 2,
    "start_time": "2022-02-10T20:20:38.437Z"
   },
   {
    "duration": 5,
    "start_time": "2022-02-10T20:20:38.441Z"
   },
   {
    "duration": 3,
    "start_time": "2022-02-10T20:20:38.448Z"
   },
   {
    "duration": 10,
    "start_time": "2022-02-10T20:20:38.452Z"
   },
   {
    "duration": 7,
    "start_time": "2022-02-10T20:20:38.463Z"
   },
   {
    "duration": 5,
    "start_time": "2022-02-10T20:20:38.471Z"
   },
   {
    "duration": 6,
    "start_time": "2022-02-10T20:20:38.477Z"
   },
   {
    "duration": 7,
    "start_time": "2022-02-10T20:20:38.484Z"
   },
   {
    "duration": 8,
    "start_time": "2022-02-10T20:20:38.527Z"
   },
   {
    "duration": 4,
    "start_time": "2022-02-10T20:20:38.536Z"
   },
   {
    "duration": 7,
    "start_time": "2022-02-10T20:20:38.542Z"
   },
   {
    "duration": 8,
    "start_time": "2022-02-10T20:20:38.550Z"
   },
   {
    "duration": 5,
    "start_time": "2022-02-10T20:20:38.560Z"
   },
   {
    "duration": 16,
    "start_time": "2022-02-10T20:20:38.566Z"
   },
   {
    "duration": 50,
    "start_time": "2022-02-10T20:20:38.583Z"
   },
   {
    "duration": 16,
    "start_time": "2022-02-10T20:20:38.634Z"
   },
   {
    "duration": 35,
    "start_time": "2022-02-10T20:20:38.654Z"
   },
   {
    "duration": 37,
    "start_time": "2022-02-10T20:20:38.691Z"
   },
   {
    "duration": 17,
    "start_time": "2022-02-10T20:20:38.730Z"
   },
   {
    "duration": 23,
    "start_time": "2022-02-10T20:20:38.749Z"
   },
   {
    "duration": 15,
    "start_time": "2022-02-10T20:20:38.774Z"
   },
   {
    "duration": 5,
    "start_time": "2022-02-10T20:20:38.791Z"
   },
   {
    "duration": 42,
    "start_time": "2022-02-10T20:20:38.798Z"
   },
   {
    "duration": 21,
    "start_time": "2022-02-10T20:20:38.842Z"
   },
   {
    "duration": 65,
    "start_time": "2022-02-10T20:20:38.865Z"
   },
   {
    "duration": 24,
    "start_time": "2022-02-10T20:20:38.932Z"
   },
   {
    "duration": 14,
    "start_time": "2022-02-10T20:20:38.958Z"
   },
   {
    "duration": 4,
    "start_time": "2022-02-10T20:20:38.974Z"
   },
   {
    "duration": 14,
    "start_time": "2022-02-10T20:20:38.979Z"
   },
   {
    "duration": 35,
    "start_time": "2022-02-10T20:20:38.994Z"
   },
   {
    "duration": 11,
    "start_time": "2022-02-10T20:20:39.031Z"
   },
   {
    "duration": 5,
    "start_time": "2022-02-10T20:20:39.044Z"
   },
   {
    "duration": 19,
    "start_time": "2022-02-10T20:20:39.050Z"
   },
   {
    "duration": 18,
    "start_time": "2022-02-10T20:20:39.070Z"
   },
   {
    "duration": 53,
    "start_time": "2022-02-10T20:20:39.090Z"
   },
   {
    "duration": 21,
    "start_time": "2022-02-10T20:22:16.887Z"
   },
   {
    "duration": 18,
    "start_time": "2022-02-10T20:22:44.743Z"
   },
   {
    "duration": 351,
    "start_time": "2022-02-11T12:49:55.983Z"
   },
   {
    "duration": 624,
    "start_time": "2022-02-11T12:50:31.440Z"
   },
   {
    "duration": 12,
    "start_time": "2022-02-11T12:50:32.068Z"
   },
   {
    "duration": 6,
    "start_time": "2022-02-11T12:50:32.081Z"
   },
   {
    "duration": 17,
    "start_time": "2022-02-11T12:50:32.088Z"
   },
   {
    "duration": 12,
    "start_time": "2022-02-11T12:50:32.107Z"
   },
   {
    "duration": 14,
    "start_time": "2022-02-11T12:50:32.121Z"
   },
   {
    "duration": 4,
    "start_time": "2022-02-11T12:50:32.138Z"
   },
   {
    "duration": 26,
    "start_time": "2022-02-11T12:50:32.144Z"
   },
   {
    "duration": 8,
    "start_time": "2022-02-11T12:50:32.172Z"
   },
   {
    "duration": 11,
    "start_time": "2022-02-11T12:50:32.181Z"
   },
   {
    "duration": 9,
    "start_time": "2022-02-11T12:50:32.194Z"
   },
   {
    "duration": 7,
    "start_time": "2022-02-11T12:50:32.204Z"
   },
   {
    "duration": 15,
    "start_time": "2022-02-11T12:50:32.212Z"
   },
   {
    "duration": 24,
    "start_time": "2022-02-11T12:50:32.229Z"
   },
   {
    "duration": 22,
    "start_time": "2022-02-11T12:50:32.255Z"
   },
   {
    "duration": 8,
    "start_time": "2022-02-11T12:50:32.279Z"
   },
   {
    "duration": 8,
    "start_time": "2022-02-11T12:50:32.289Z"
   },
   {
    "duration": 17,
    "start_time": "2022-02-11T12:50:32.298Z"
   },
   {
    "duration": 19,
    "start_time": "2022-02-11T12:50:32.317Z"
   },
   {
    "duration": 22,
    "start_time": "2022-02-11T12:50:32.338Z"
   },
   {
    "duration": 15,
    "start_time": "2022-02-11T12:50:32.362Z"
   },
   {
    "duration": 12,
    "start_time": "2022-02-11T12:50:32.380Z"
   },
   {
    "duration": 36,
    "start_time": "2022-02-11T12:50:32.394Z"
   },
   {
    "duration": 17,
    "start_time": "2022-02-11T12:50:32.432Z"
   },
   {
    "duration": 14,
    "start_time": "2022-02-11T12:50:32.451Z"
   },
   {
    "duration": 13,
    "start_time": "2022-02-11T12:50:32.466Z"
   },
   {
    "duration": 11,
    "start_time": "2022-02-11T12:50:32.481Z"
   },
   {
    "duration": 9,
    "start_time": "2022-02-11T12:50:32.493Z"
   },
   {
    "duration": 44,
    "start_time": "2022-02-11T12:50:32.503Z"
   },
   {
    "duration": 14,
    "start_time": "2022-02-11T12:50:32.549Z"
   },
   {
    "duration": 34,
    "start_time": "2022-02-11T12:50:32.565Z"
   },
   {
    "duration": 39,
    "start_time": "2022-02-11T12:50:32.600Z"
   },
   {
    "duration": 12,
    "start_time": "2022-02-11T12:50:32.641Z"
   },
   {
    "duration": 4,
    "start_time": "2022-02-11T12:50:32.654Z"
   },
   {
    "duration": 11,
    "start_time": "2022-02-11T12:50:32.659Z"
   },
   {
    "duration": 3,
    "start_time": "2022-02-11T12:50:32.671Z"
   },
   {
    "duration": 12,
    "start_time": "2022-02-11T12:50:32.675Z"
   },
   {
    "duration": 4,
    "start_time": "2022-02-11T12:50:32.688Z"
   },
   {
    "duration": 44,
    "start_time": "2022-02-11T12:50:32.693Z"
   },
   {
    "duration": 18,
    "start_time": "2022-02-11T12:50:32.740Z"
   },
   {
    "duration": 16,
    "start_time": "2022-02-11T12:50:32.760Z"
   },
   {
    "duration": 325,
    "start_time": "2022-02-11T12:50:32.778Z"
   },
   {
    "duration": 413,
    "start_time": "2022-02-11T12:50:48.555Z"
   },
   {
    "duration": 27,
    "start_time": "2022-02-11T12:51:10.819Z"
   },
   {
    "duration": 286,
    "start_time": "2022-02-11T12:52:56.682Z"
   },
   {
    "duration": 332,
    "start_time": "2022-02-11T12:53:09.072Z"
   },
   {
    "duration": 90,
    "start_time": "2022-02-11T12:59:21.282Z"
   },
   {
    "duration": 17,
    "start_time": "2022-02-11T12:59:26.182Z"
   },
   {
    "duration": 14,
    "start_time": "2022-02-11T13:00:02.667Z"
   },
   {
    "duration": 24,
    "start_time": "2022-02-11T13:00:23.841Z"
   },
   {
    "duration": 24,
    "start_time": "2022-02-11T13:01:37.493Z"
   },
   {
    "duration": 324,
    "start_time": "2022-02-11T13:02:05.484Z"
   },
   {
    "duration": 352,
    "start_time": "2022-02-11T13:02:44.147Z"
   },
   {
    "duration": 294,
    "start_time": "2022-02-11T13:03:08.251Z"
   },
   {
    "duration": 40,
    "start_time": "2022-02-11T13:03:22.629Z"
   },
   {
    "duration": 26,
    "start_time": "2022-02-11T13:05:07.581Z"
   },
   {
    "duration": 25,
    "start_time": "2022-02-11T13:06:07.905Z"
   },
   {
    "duration": 29,
    "start_time": "2022-02-11T13:07:27.544Z"
   },
   {
    "duration": 27,
    "start_time": "2022-02-11T13:07:51.406Z"
   },
   {
    "duration": 15,
    "start_time": "2022-02-11T13:09:14.530Z"
   },
   {
    "duration": 14,
    "start_time": "2022-02-11T13:11:10.205Z"
   },
   {
    "duration": 5807,
    "start_time": "2022-02-11T13:12:51.429Z"
   },
   {
    "duration": 106,
    "start_time": "2022-02-11T13:14:01.641Z"
   },
   {
    "duration": 5299,
    "start_time": "2022-02-11T13:14:06.812Z"
   },
   {
    "duration": 14,
    "start_time": "2022-02-11T13:14:15.475Z"
   },
   {
    "duration": 5657,
    "start_time": "2022-02-11T13:15:09.164Z"
   },
   {
    "duration": 18,
    "start_time": "2022-02-11T13:18:11.814Z"
   },
   {
    "duration": 14,
    "start_time": "2022-02-11T13:18:28.351Z"
   },
   {
    "duration": 14,
    "start_time": "2022-02-11T13:29:04.342Z"
   },
   {
    "duration": 14,
    "start_time": "2022-02-11T13:30:55.802Z"
   },
   {
    "duration": 10,
    "start_time": "2022-02-11T13:33:10.703Z"
   },
   {
    "duration": 17,
    "start_time": "2022-02-11T13:38:00.597Z"
   },
   {
    "duration": 15,
    "start_time": "2022-02-11T13:38:38.597Z"
   },
   {
    "duration": 6,
    "start_time": "2022-02-11T13:41:06.679Z"
   },
   {
    "duration": 21,
    "start_time": "2022-02-11T13:41:24.438Z"
   },
   {
    "duration": 8,
    "start_time": "2022-02-11T13:41:45.737Z"
   },
   {
    "duration": 8,
    "start_time": "2022-02-11T13:44:33.805Z"
   },
   {
    "duration": 9,
    "start_time": "2022-02-11T13:46:19.210Z"
   },
   {
    "duration": 348,
    "start_time": "2022-02-11T13:50:30.430Z"
   },
   {
    "duration": 298,
    "start_time": "2022-02-11T13:50:40.216Z"
   },
   {
    "duration": 262,
    "start_time": "2022-02-11T13:51:02.505Z"
   },
   {
    "duration": 306,
    "start_time": "2022-02-11T13:51:14.456Z"
   },
   {
    "duration": 6,
    "start_time": "2022-02-11T13:51:49.000Z"
   },
   {
    "duration": 7,
    "start_time": "2022-02-11T13:52:56.075Z"
   },
   {
    "duration": 7,
    "start_time": "2022-02-11T13:53:18.385Z"
   },
   {
    "duration": 7,
    "start_time": "2022-02-11T13:53:24.438Z"
   },
   {
    "duration": 5,
    "start_time": "2022-02-11T13:54:24.130Z"
   },
   {
    "duration": 6,
    "start_time": "2022-02-11T13:54:37.536Z"
   },
   {
    "duration": 6,
    "start_time": "2022-02-11T13:54:43.313Z"
   },
   {
    "duration": 292,
    "start_time": "2022-02-11T13:56:04.609Z"
   },
   {
    "duration": 16,
    "start_time": "2022-02-11T13:56:16.990Z"
   },
   {
    "duration": 94,
    "start_time": "2022-02-11T13:57:35.321Z"
   },
   {
    "duration": 344,
    "start_time": "2022-02-11T13:57:41.431Z"
   },
   {
    "duration": 307,
    "start_time": "2022-02-11T13:58:06.659Z"
   },
   {
    "duration": 298,
    "start_time": "2022-02-11T13:58:26.707Z"
   },
   {
    "duration": 286,
    "start_time": "2022-02-11T13:58:57.900Z"
   },
   {
    "duration": 9,
    "start_time": "2022-02-11T13:59:07.311Z"
   },
   {
    "duration": 8,
    "start_time": "2022-02-11T14:00:01.624Z"
   },
   {
    "duration": 9,
    "start_time": "2022-02-11T14:01:02.244Z"
   },
   {
    "duration": 9,
    "start_time": "2022-02-11T14:01:23.855Z"
   },
   {
    "duration": 12,
    "start_time": "2022-02-11T14:01:47.648Z"
   },
   {
    "duration": 1085,
    "start_time": "2022-02-11T14:04:35.263Z"
   },
   {
    "duration": 10,
    "start_time": "2022-02-11T14:04:43.479Z"
   },
   {
    "duration": 13,
    "start_time": "2022-02-11T14:05:31.609Z"
   },
   {
    "duration": 11,
    "start_time": "2022-02-11T14:10:09.316Z"
   },
   {
    "duration": 128,
    "start_time": "2022-02-11T14:15:45.082Z"
   },
   {
    "duration": 6,
    "start_time": "2022-02-11T14:15:49.782Z"
   },
   {
    "duration": 316,
    "start_time": "2022-02-11T14:19:28.593Z"
   },
   {
    "duration": 6,
    "start_time": "2022-02-11T14:21:45.259Z"
   },
   {
    "duration": 311,
    "start_time": "2022-02-11T14:27:04.782Z"
   },
   {
    "duration": 6,
    "start_time": "2022-02-11T14:27:11.761Z"
   },
   {
    "duration": 279,
    "start_time": "2022-02-11T14:28:22.312Z"
   },
   {
    "duration": 268,
    "start_time": "2022-02-11T15:13:37.276Z"
   },
   {
    "duration": 270,
    "start_time": "2022-02-11T15:13:45.897Z"
   },
   {
    "duration": 293,
    "start_time": "2022-02-11T15:14:07.209Z"
   },
   {
    "duration": 294,
    "start_time": "2022-02-11T15:14:57.722Z"
   },
   {
    "duration": 266,
    "start_time": "2022-02-11T15:15:08.745Z"
   },
   {
    "duration": 23,
    "start_time": "2022-02-11T15:15:32.977Z"
   },
   {
    "duration": 23,
    "start_time": "2022-02-11T15:16:04.090Z"
   },
   {
    "duration": 31,
    "start_time": "2022-02-11T15:16:56.267Z"
   },
   {
    "duration": 31,
    "start_time": "2022-02-11T15:17:57.260Z"
   },
   {
    "duration": 34,
    "start_time": "2022-02-11T15:19:15.853Z"
   },
   {
    "duration": 34,
    "start_time": "2022-02-11T15:19:21.725Z"
   },
   {
    "duration": 311,
    "start_time": "2022-02-11T15:22:10.037Z"
   },
   {
    "duration": 32,
    "start_time": "2022-02-11T15:22:22.520Z"
   },
   {
    "duration": 10,
    "start_time": "2022-02-11T15:24:24.824Z"
   },
   {
    "duration": 292,
    "start_time": "2022-02-11T15:25:14.216Z"
   },
   {
    "duration": 946,
    "start_time": "2022-02-11T15:25:22.048Z"
   },
   {
    "duration": 713,
    "start_time": "2022-02-11T15:25:48.167Z"
   },
   {
    "duration": 272,
    "start_time": "2022-02-11T15:25:57.089Z"
   },
   {
    "duration": 272,
    "start_time": "2022-02-11T15:26:02.842Z"
   },
   {
    "duration": 317,
    "start_time": "2022-02-11T15:27:33.417Z"
   },
   {
    "duration": 300,
    "start_time": "2022-02-11T15:27:40.634Z"
   },
   {
    "duration": 37,
    "start_time": "2022-02-11T15:27:46.794Z"
   },
   {
    "duration": 34,
    "start_time": "2022-02-11T15:28:07.851Z"
   },
   {
    "duration": 33,
    "start_time": "2022-02-11T15:28:42.547Z"
   },
   {
    "duration": 7,
    "start_time": "2022-02-11T15:34:27.664Z"
   },
   {
    "duration": 9,
    "start_time": "2022-02-11T15:34:53.183Z"
   },
   {
    "duration": 8,
    "start_time": "2022-02-11T15:35:22.151Z"
   },
   {
    "duration": 7,
    "start_time": "2022-02-11T15:36:33.009Z"
   },
   {
    "duration": 8,
    "start_time": "2022-02-11T15:36:50.121Z"
   },
   {
    "duration": 11,
    "start_time": "2022-02-11T15:36:59.891Z"
   },
   {
    "duration": 9,
    "start_time": "2022-02-11T15:37:12.075Z"
   },
   {
    "duration": 8,
    "start_time": "2022-02-11T15:37:42.409Z"
   },
   {
    "duration": 35,
    "start_time": "2022-02-11T15:49:27.282Z"
   },
   {
    "duration": 275,
    "start_time": "2022-02-11T15:49:45.732Z"
   },
   {
    "duration": 10,
    "start_time": "2022-02-11T15:57:21.231Z"
   },
   {
    "duration": 273,
    "start_time": "2022-02-11T15:57:49.556Z"
   },
   {
    "duration": 282,
    "start_time": "2022-02-11T15:58:20.703Z"
   },
   {
    "duration": 284,
    "start_time": "2022-02-11T15:58:26.121Z"
   },
   {
    "duration": 289,
    "start_time": "2022-02-11T15:58:40.526Z"
   },
   {
    "duration": 38,
    "start_time": "2022-02-11T15:58:53.383Z"
   },
   {
    "duration": 39,
    "start_time": "2022-02-11T15:59:29.484Z"
   },
   {
    "duration": 15,
    "start_time": "2022-02-11T16:06:09.394Z"
   },
   {
    "duration": 11,
    "start_time": "2022-02-11T16:06:23.812Z"
   },
   {
    "duration": 295,
    "start_time": "2022-02-11T16:07:30.388Z"
   },
   {
    "duration": 10,
    "start_time": "2022-02-11T16:07:46.286Z"
   },
   {
    "duration": 279,
    "start_time": "2022-02-11T16:08:01.958Z"
   },
   {
    "duration": 10,
    "start_time": "2022-02-11T16:08:17.447Z"
   },
   {
    "duration": 353,
    "start_time": "2022-02-11T16:16:56.689Z"
   },
   {
    "duration": 459,
    "start_time": "2022-02-11T16:17:59.026Z"
   },
   {
    "duration": 14,
    "start_time": "2022-02-11T16:19:13.335Z"
   },
   {
    "duration": 11,
    "start_time": "2022-02-11T16:32:13.966Z"
   },
   {
    "duration": 7,
    "start_time": "2022-02-11T16:37:00.113Z"
   },
   {
    "duration": 10,
    "start_time": "2022-02-11T16:37:13.884Z"
   },
   {
    "duration": 287,
    "start_time": "2022-02-11T16:37:22.673Z"
   },
   {
    "duration": 294,
    "start_time": "2022-02-11T16:37:32.635Z"
   },
   {
    "duration": 286,
    "start_time": "2022-02-11T16:39:50.883Z"
   },
   {
    "duration": 600,
    "start_time": "2022-02-11T16:40:46.805Z"
   },
   {
    "duration": 286,
    "start_time": "2022-02-11T16:42:36.997Z"
   },
   {
    "duration": 288,
    "start_time": "2022-02-11T16:43:32.983Z"
   },
   {
    "duration": 615,
    "start_time": "2022-02-11T16:43:45.143Z"
   },
   {
    "duration": 322,
    "start_time": "2022-02-11T16:43:55.127Z"
   },
   {
    "duration": 6,
    "start_time": "2022-02-11T16:45:04.439Z"
   },
   {
    "duration": 6,
    "start_time": "2022-02-11T16:45:16.426Z"
   },
   {
    "duration": 273,
    "start_time": "2022-02-11T16:45:23.967Z"
   },
   {
    "duration": 591,
    "start_time": "2022-02-11T16:45:44.950Z"
   },
   {
    "duration": 12,
    "start_time": "2022-02-11T16:45:45.543Z"
   },
   {
    "duration": 5,
    "start_time": "2022-02-11T16:45:45.556Z"
   },
   {
    "duration": 13,
    "start_time": "2022-02-11T16:45:45.562Z"
   },
   {
    "duration": 4,
    "start_time": "2022-02-11T16:45:45.577Z"
   },
   {
    "duration": 10,
    "start_time": "2022-02-11T16:45:45.582Z"
   },
   {
    "duration": 1,
    "start_time": "2022-02-11T16:45:45.594Z"
   },
   {
    "duration": 5,
    "start_time": "2022-02-11T16:45:45.598Z"
   },
   {
    "duration": 3,
    "start_time": "2022-02-11T16:45:45.627Z"
   },
   {
    "duration": 8,
    "start_time": "2022-02-11T16:45:45.631Z"
   },
   {
    "duration": 6,
    "start_time": "2022-02-11T16:45:45.640Z"
   },
   {
    "duration": 3,
    "start_time": "2022-02-11T16:45:45.647Z"
   },
   {
    "duration": 4,
    "start_time": "2022-02-11T16:45:45.651Z"
   },
   {
    "duration": 6,
    "start_time": "2022-02-11T16:45:45.656Z"
   },
   {
    "duration": 7,
    "start_time": "2022-02-11T16:45:45.663Z"
   },
   {
    "duration": 3,
    "start_time": "2022-02-11T16:45:45.672Z"
   },
   {
    "duration": 4,
    "start_time": "2022-02-11T16:45:45.676Z"
   },
   {
    "duration": 46,
    "start_time": "2022-02-11T16:45:45.681Z"
   },
   {
    "duration": 3,
    "start_time": "2022-02-11T16:45:45.729Z"
   },
   {
    "duration": 11,
    "start_time": "2022-02-11T16:45:45.733Z"
   },
   {
    "duration": 13,
    "start_time": "2022-02-11T16:45:45.746Z"
   },
   {
    "duration": 9,
    "start_time": "2022-02-11T16:45:45.760Z"
   },
   {
    "duration": 21,
    "start_time": "2022-02-11T16:45:45.772Z"
   },
   {
    "duration": 37,
    "start_time": "2022-02-11T16:45:45.795Z"
   },
   {
    "duration": 10,
    "start_time": "2022-02-11T16:45:45.833Z"
   },
   {
    "duration": 17,
    "start_time": "2022-02-11T16:45:45.845Z"
   },
   {
    "duration": 9,
    "start_time": "2022-02-11T16:45:45.864Z"
   },
   {
    "duration": 4,
    "start_time": "2022-02-11T16:45:45.875Z"
   },
   {
    "duration": 13,
    "start_time": "2022-02-11T16:45:45.881Z"
   },
   {
    "duration": 33,
    "start_time": "2022-02-11T16:45:45.895Z"
   },
   {
    "duration": 32,
    "start_time": "2022-02-11T16:45:45.929Z"
   },
   {
    "duration": 15,
    "start_time": "2022-02-11T16:45:45.962Z"
   },
   {
    "duration": 9,
    "start_time": "2022-02-11T16:45:45.979Z"
   },
   {
    "duration": 9,
    "start_time": "2022-02-11T16:45:45.989Z"
   },
   {
    "duration": 32,
    "start_time": "2022-02-11T16:45:45.999Z"
   },
   {
    "duration": 7,
    "start_time": "2022-02-11T16:45:46.033Z"
   },
   {
    "duration": 10,
    "start_time": "2022-02-11T16:45:46.041Z"
   },
   {
    "duration": 5,
    "start_time": "2022-02-11T16:45:46.053Z"
   },
   {
    "duration": 17,
    "start_time": "2022-02-11T16:45:46.059Z"
   },
   {
    "duration": 17,
    "start_time": "2022-02-11T16:45:46.077Z"
   },
   {
    "duration": 37,
    "start_time": "2022-02-11T16:45:46.095Z"
   },
   {
    "duration": 12,
    "start_time": "2022-02-11T16:45:46.133Z"
   },
   {
    "duration": 17,
    "start_time": "2022-02-11T16:45:46.146Z"
   },
   {
    "duration": 8,
    "start_time": "2022-02-11T16:45:46.165Z"
   },
   {
    "duration": 9,
    "start_time": "2022-02-11T16:45:46.175Z"
   },
   {
    "duration": 362,
    "start_time": "2022-02-11T16:45:46.185Z"
   },
   {
    "duration": 83,
    "start_time": "2022-02-11T16:45:46.466Z"
   },
   {
    "duration": 8,
    "start_time": "2022-02-11T16:45:52.911Z"
   },
   {
    "duration": 279,
    "start_time": "2022-02-11T16:48:32.677Z"
   },
   {
    "duration": 16,
    "start_time": "2022-02-11T16:57:13.280Z"
   },
   {
    "duration": 98,
    "start_time": "2022-02-11T16:58:42.529Z"
   },
   {
    "duration": 4961,
    "start_time": "2022-02-11T16:58:50.120Z"
   },
   {
    "duration": 32,
    "start_time": "2022-02-11T16:59:12.625Z"
   },
   {
    "duration": 15,
    "start_time": "2022-02-11T16:59:29.681Z"
   },
   {
    "duration": 16,
    "start_time": "2022-02-11T16:59:41.329Z"
   },
   {
    "duration": 28,
    "start_time": "2022-02-11T17:01:47.992Z"
   },
   {
    "duration": 16,
    "start_time": "2022-02-11T17:04:47.092Z"
   },
   {
    "duration": 15,
    "start_time": "2022-02-11T17:05:23.887Z"
   },
   {
    "duration": 15,
    "start_time": "2022-02-11T17:07:11.402Z"
   },
   {
    "duration": 16,
    "start_time": "2022-02-11T17:07:38.310Z"
   },
   {
    "duration": 292,
    "start_time": "2022-02-11T17:17:19.006Z"
   },
   {
    "duration": 18,
    "start_time": "2022-02-11T17:17:36.039Z"
   },
   {
    "duration": 20,
    "start_time": "2022-02-11T17:18:01.934Z"
   },
   {
    "duration": 85,
    "start_time": "2022-02-11T17:32:41.795Z"
   },
   {
    "duration": 18,
    "start_time": "2022-02-11T17:33:10.218Z"
   },
   {
    "duration": 16,
    "start_time": "2022-02-11T17:33:59.401Z"
   },
   {
    "duration": 96,
    "start_time": "2022-02-11T17:36:06.503Z"
   },
   {
    "duration": 98,
    "start_time": "2022-02-11T17:36:31.746Z"
   },
   {
    "duration": 300,
    "start_time": "2022-02-11T17:37:59.995Z"
   },
   {
    "duration": 17,
    "start_time": "2022-02-11T17:38:09.060Z"
   },
   {
    "duration": 98,
    "start_time": "2022-02-11T17:38:21.420Z"
   },
   {
    "duration": 313,
    "start_time": "2022-02-11T17:41:51.238Z"
   },
   {
    "duration": 17,
    "start_time": "2022-02-11T17:41:57.252Z"
   },
   {
    "duration": 17,
    "start_time": "2022-02-11T17:42:36.921Z"
   },
   {
    "duration": 15,
    "start_time": "2022-02-11T17:43:16.781Z"
   },
   {
    "duration": 15,
    "start_time": "2022-02-11T17:43:21.304Z"
   },
   {
    "duration": 21,
    "start_time": "2022-02-11T17:43:44.640Z"
   },
   {
    "duration": 22,
    "start_time": "2022-02-11T17:45:34.715Z"
   },
   {
    "duration": 21,
    "start_time": "2022-02-11T17:46:56.442Z"
   },
   {
    "duration": 83,
    "start_time": "2022-02-11T17:47:51.291Z"
   },
   {
    "duration": 107,
    "start_time": "2022-02-11T17:47:58.037Z"
   },
   {
    "duration": 88,
    "start_time": "2022-02-11T17:48:51.211Z"
   },
   {
    "duration": 277,
    "start_time": "2022-02-11T17:49:00.707Z"
   },
   {
    "duration": 17,
    "start_time": "2022-02-11T17:59:29.799Z"
   },
   {
    "duration": 17,
    "start_time": "2022-02-11T17:59:39.788Z"
   },
   {
    "duration": 17,
    "start_time": "2022-02-11T18:01:12.773Z"
   },
   {
    "duration": 17,
    "start_time": "2022-02-11T18:01:16.520Z"
   },
   {
    "duration": 19,
    "start_time": "2022-02-11T18:01:45.102Z"
   },
   {
    "duration": 29,
    "start_time": "2022-02-11T18:07:16.657Z"
   },
   {
    "duration": 29,
    "start_time": "2022-02-11T18:07:36.984Z"
   },
   {
    "duration": 24,
    "start_time": "2022-02-11T18:07:50.833Z"
   },
   {
    "duration": 99,
    "start_time": "2022-02-11T18:07:58.922Z"
   },
   {
    "duration": 271,
    "start_time": "2022-02-11T18:09:37.931Z"
   },
   {
    "duration": 325,
    "start_time": "2022-02-11T18:09:46.971Z"
   },
   {
    "duration": 272,
    "start_time": "2022-02-11T18:09:59.557Z"
   },
   {
    "duration": 380,
    "start_time": "2022-02-11T18:10:12.435Z"
   },
   {
    "duration": 46,
    "start_time": "2022-02-11T18:12:50.631Z"
   },
   {
    "duration": 47,
    "start_time": "2022-02-11T18:13:01.374Z"
   },
   {
    "duration": 43,
    "start_time": "2022-02-11T18:14:14.567Z"
   },
   {
    "duration": 20,
    "start_time": "2022-02-11T18:14:21.824Z"
   },
   {
    "duration": 618,
    "start_time": "2022-02-11T18:15:39.158Z"
   },
   {
    "duration": 13,
    "start_time": "2022-02-11T18:15:39.778Z"
   },
   {
    "duration": 3,
    "start_time": "2022-02-11T18:15:39.792Z"
   },
   {
    "duration": 13,
    "start_time": "2022-02-11T18:15:39.796Z"
   },
   {
    "duration": 17,
    "start_time": "2022-02-11T18:15:39.810Z"
   },
   {
    "duration": 9,
    "start_time": "2022-02-11T18:15:39.829Z"
   },
   {
    "duration": 2,
    "start_time": "2022-02-11T18:15:39.839Z"
   },
   {
    "duration": 7,
    "start_time": "2022-02-11T18:15:39.843Z"
   },
   {
    "duration": 3,
    "start_time": "2022-02-11T18:15:39.852Z"
   },
   {
    "duration": 8,
    "start_time": "2022-02-11T18:15:39.856Z"
   },
   {
    "duration": 6,
    "start_time": "2022-02-11T18:15:39.865Z"
   },
   {
    "duration": 2,
    "start_time": "2022-02-11T18:15:39.873Z"
   },
   {
    "duration": 4,
    "start_time": "2022-02-11T18:15:39.877Z"
   },
   {
    "duration": 5,
    "start_time": "2022-02-11T18:15:39.883Z"
   },
   {
    "duration": 41,
    "start_time": "2022-02-11T18:15:39.890Z"
   },
   {
    "duration": 4,
    "start_time": "2022-02-11T18:15:39.932Z"
   },
   {
    "duration": 9,
    "start_time": "2022-02-11T18:15:39.937Z"
   },
   {
    "duration": 8,
    "start_time": "2022-02-11T18:15:39.948Z"
   },
   {
    "duration": 2,
    "start_time": "2022-02-11T18:15:39.958Z"
   },
   {
    "duration": 11,
    "start_time": "2022-02-11T18:15:39.962Z"
   },
   {
    "duration": 13,
    "start_time": "2022-02-11T18:15:39.974Z"
   },
   {
    "duration": 10,
    "start_time": "2022-02-11T18:15:39.988Z"
   },
   {
    "duration": 47,
    "start_time": "2022-02-11T18:15:40.001Z"
   },
   {
    "duration": 13,
    "start_time": "2022-02-11T18:15:40.050Z"
   },
   {
    "duration": 10,
    "start_time": "2022-02-11T18:15:40.065Z"
   },
   {
    "duration": 14,
    "start_time": "2022-02-11T18:15:40.076Z"
   },
   {
    "duration": 11,
    "start_time": "2022-02-11T18:15:40.092Z"
   },
   {
    "duration": 4,
    "start_time": "2022-02-11T18:15:40.127Z"
   },
   {
    "duration": 13,
    "start_time": "2022-02-11T18:15:40.132Z"
   },
   {
    "duration": 13,
    "start_time": "2022-02-11T18:15:40.147Z"
   },
   {
    "duration": 33,
    "start_time": "2022-02-11T18:15:40.161Z"
   },
   {
    "duration": 44,
    "start_time": "2022-02-11T18:15:40.195Z"
   },
   {
    "duration": 9,
    "start_time": "2022-02-11T18:15:40.240Z"
   },
   {
    "duration": 3,
    "start_time": "2022-02-11T18:15:40.250Z"
   },
   {
    "duration": 9,
    "start_time": "2022-02-11T18:15:40.255Z"
   },
   {
    "duration": 4,
    "start_time": "2022-02-11T18:15:40.265Z"
   },
   {
    "duration": 10,
    "start_time": "2022-02-11T18:15:40.270Z"
   },
   {
    "duration": 5,
    "start_time": "2022-02-11T18:15:40.282Z"
   },
   {
    "duration": 41,
    "start_time": "2022-02-11T18:15:40.288Z"
   },
   {
    "duration": 33,
    "start_time": "2022-02-11T18:15:40.330Z"
   },
   {
    "duration": 17,
    "start_time": "2022-02-11T18:15:40.364Z"
   },
   {
    "duration": 10,
    "start_time": "2022-02-11T18:15:40.382Z"
   },
   {
    "duration": 22,
    "start_time": "2022-02-11T18:15:40.394Z"
   },
   {
    "duration": 14,
    "start_time": "2022-02-11T18:15:40.417Z"
   },
   {
    "duration": 320,
    "start_time": "2022-02-11T18:15:40.432Z"
   },
   {
    "duration": 39,
    "start_time": "2022-02-11T18:16:06.422Z"
   },
   {
    "duration": 38,
    "start_time": "2022-02-11T18:16:31.613Z"
   },
   {
    "duration": 37,
    "start_time": "2022-02-11T18:16:40.765Z"
   },
   {
    "duration": 37,
    "start_time": "2022-02-11T18:17:23.093Z"
   },
   {
    "duration": 37,
    "start_time": "2022-02-11T18:31:48.252Z"
   },
   {
    "duration": 37,
    "start_time": "2022-02-11T18:51:48.339Z"
   },
   {
    "duration": 43,
    "start_time": "2022-02-11T18:53:49.764Z"
   },
   {
    "duration": 37,
    "start_time": "2022-02-11T18:54:19.995Z"
   },
   {
    "duration": 37,
    "start_time": "2022-02-11T18:55:39.154Z"
   },
   {
    "duration": 2,
    "start_time": "2022-02-11T18:58:23.860Z"
   },
   {
    "duration": 102,
    "start_time": "2022-02-11T19:00:27.943Z"
   },
   {
    "duration": 40,
    "start_time": "2022-02-11T19:00:31.526Z"
   },
   {
    "duration": 57,
    "start_time": "2022-02-11T19:00:48.781Z"
   },
   {
    "duration": 58,
    "start_time": "2022-02-11T19:01:11.943Z"
   },
   {
    "duration": 40,
    "start_time": "2022-02-11T19:01:27.655Z"
   },
   {
    "duration": 38,
    "start_time": "2022-02-11T19:01:41.115Z"
   },
   {
    "duration": 41,
    "start_time": "2022-02-11T19:02:31.463Z"
   },
   {
    "duration": 40,
    "start_time": "2022-02-11T19:04:58.349Z"
   },
   {
    "duration": 40,
    "start_time": "2022-02-11T19:08:13.194Z"
   },
   {
    "duration": 39,
    "start_time": "2022-02-11T19:09:05.853Z"
   },
   {
    "duration": 37,
    "start_time": "2022-02-11T19:17:40.325Z"
   },
   {
    "duration": 37,
    "start_time": "2022-02-11T19:24:31.383Z"
   },
   {
    "duration": 41,
    "start_time": "2022-02-11T19:31:07.435Z"
   },
   {
    "duration": 46,
    "start_time": "2022-02-11T19:32:25.590Z"
   },
   {
    "duration": 51,
    "start_time": "2022-02-11T19:33:00.941Z"
   },
   {
    "duration": 51,
    "start_time": "2022-02-11T19:33:16.087Z"
   },
   {
    "duration": 41,
    "start_time": "2022-02-11T19:33:44.204Z"
   },
   {
    "duration": 38,
    "start_time": "2022-02-11T19:43:29.252Z"
   },
   {
    "duration": 37,
    "start_time": "2022-02-11T19:59:02.704Z"
   },
   {
    "duration": 39,
    "start_time": "2022-02-11T20:00:05.967Z"
   },
   {
    "duration": 41,
    "start_time": "2022-02-11T20:00:17.796Z"
   },
   {
    "duration": 36,
    "start_time": "2022-02-11T20:00:27.841Z"
   },
   {
    "duration": 40,
    "start_time": "2022-02-11T20:14:26.388Z"
   },
   {
    "duration": 38,
    "start_time": "2022-02-11T20:20:40.151Z"
   },
   {
    "duration": 18,
    "start_time": "2022-02-11T21:28:23.570Z"
   },
   {
    "duration": 17,
    "start_time": "2022-02-11T21:29:41.511Z"
   },
   {
    "duration": 385,
    "start_time": "2022-02-11T21:31:15.201Z"
   },
   {
    "duration": 10,
    "start_time": "2022-02-11T21:31:22.965Z"
   },
   {
    "duration": 9,
    "start_time": "2022-02-11T21:31:59.694Z"
   },
   {
    "duration": 5,
    "start_time": "2022-02-11T21:43:20.517Z"
   },
   {
    "duration": 5,
    "start_time": "2022-02-11T21:43:32.644Z"
   },
   {
    "duration": 5,
    "start_time": "2022-02-11T21:44:12.094Z"
   },
   {
    "duration": 6,
    "start_time": "2022-02-11T21:44:21.030Z"
   },
   {
    "duration": 632,
    "start_time": "2022-02-11T22:02:28.597Z"
   },
   {
    "duration": 12,
    "start_time": "2022-02-11T22:02:29.231Z"
   },
   {
    "duration": 6,
    "start_time": "2022-02-11T22:02:29.245Z"
   },
   {
    "duration": 14,
    "start_time": "2022-02-11T22:02:29.253Z"
   },
   {
    "duration": 11,
    "start_time": "2022-02-11T22:02:29.268Z"
   },
   {
    "duration": 3,
    "start_time": "2022-02-11T22:02:29.281Z"
   },
   {
    "duration": 5,
    "start_time": "2022-02-11T22:02:29.285Z"
   },
   {
    "duration": 9,
    "start_time": "2022-02-11T22:02:29.292Z"
   },
   {
    "duration": 29,
    "start_time": "2022-02-11T22:02:29.302Z"
   },
   {
    "duration": 4,
    "start_time": "2022-02-11T22:02:29.332Z"
   },
   {
    "duration": 5,
    "start_time": "2022-02-11T22:02:29.337Z"
   },
   {
    "duration": 6,
    "start_time": "2022-02-11T22:02:29.343Z"
   },
   {
    "duration": 6,
    "start_time": "2022-02-11T22:02:29.351Z"
   },
   {
    "duration": 4,
    "start_time": "2022-02-11T22:02:29.359Z"
   },
   {
    "duration": 4,
    "start_time": "2022-02-11T22:02:29.364Z"
   },
   {
    "duration": 11,
    "start_time": "2022-02-11T22:02:29.369Z"
   },
   {
    "duration": 3,
    "start_time": "2022-02-11T22:02:29.381Z"
   },
   {
    "duration": 13,
    "start_time": "2022-02-11T22:02:29.385Z"
   },
   {
    "duration": 39,
    "start_time": "2022-02-11T22:02:29.399Z"
   },
   {
    "duration": 10,
    "start_time": "2022-02-11T22:02:29.439Z"
   },
   {
    "duration": 24,
    "start_time": "2022-02-11T22:02:29.450Z"
   },
   {
    "duration": 14,
    "start_time": "2022-02-11T22:02:29.475Z"
   },
   {
    "duration": 10,
    "start_time": "2022-02-11T22:02:29.492Z"
   },
   {
    "duration": 32,
    "start_time": "2022-02-11T22:02:29.504Z"
   },
   {
    "duration": 10,
    "start_time": "2022-02-11T22:02:29.537Z"
   },
   {
    "duration": 5,
    "start_time": "2022-02-11T22:02:29.548Z"
   },
   {
    "duration": 14,
    "start_time": "2022-02-11T22:02:29.554Z"
   },
   {
    "duration": 12,
    "start_time": "2022-02-11T22:02:29.570Z"
   },
   {
    "duration": 57,
    "start_time": "2022-02-11T22:02:29.584Z"
   },
   {
    "duration": 16,
    "start_time": "2022-02-11T22:02:29.642Z"
   },
   {
    "duration": 8,
    "start_time": "2022-02-11T22:02:29.659Z"
   },
   {
    "duration": 3,
    "start_time": "2022-02-11T22:02:29.669Z"
   },
   {
    "duration": 10,
    "start_time": "2022-02-11T22:02:29.674Z"
   },
   {
    "duration": 3,
    "start_time": "2022-02-11T22:02:29.685Z"
   },
   {
    "duration": 10,
    "start_time": "2022-02-11T22:02:29.689Z"
   },
   {
    "duration": 5,
    "start_time": "2022-02-11T22:02:29.727Z"
   },
   {
    "duration": 18,
    "start_time": "2022-02-11T22:02:29.733Z"
   },
   {
    "duration": 17,
    "start_time": "2022-02-11T22:02:29.752Z"
   },
   {
    "duration": 20,
    "start_time": "2022-02-11T22:02:29.770Z"
   },
   {
    "duration": 11,
    "start_time": "2022-02-11T22:02:29.792Z"
   },
   {
    "duration": 41,
    "start_time": "2022-02-11T22:02:29.827Z"
   },
   {
    "duration": 38,
    "start_time": "2022-02-11T22:02:29.870Z"
   },
   {
    "duration": 50,
    "start_time": "2022-02-11T22:02:29.910Z"
   },
   {
    "duration": 42,
    "start_time": "2022-02-11T22:02:29.962Z"
   },
   {
    "duration": 28,
    "start_time": "2022-02-11T22:04:49.203Z"
   },
   {
    "duration": 641,
    "start_time": "2022-02-11T22:05:05.118Z"
   },
   {
    "duration": 12,
    "start_time": "2022-02-11T22:05:05.761Z"
   },
   {
    "duration": 4,
    "start_time": "2022-02-11T22:05:05.775Z"
   },
   {
    "duration": 14,
    "start_time": "2022-02-11T22:05:05.780Z"
   },
   {
    "duration": 10,
    "start_time": "2022-02-11T22:05:05.795Z"
   },
   {
    "duration": 21,
    "start_time": "2022-02-11T22:05:05.806Z"
   },
   {
    "duration": 4,
    "start_time": "2022-02-11T22:05:05.828Z"
   },
   {
    "duration": 8,
    "start_time": "2022-02-11T22:05:05.834Z"
   },
   {
    "duration": 4,
    "start_time": "2022-02-11T22:05:05.844Z"
   },
   {
    "duration": 5,
    "start_time": "2022-02-11T22:05:05.849Z"
   },
   {
    "duration": 6,
    "start_time": "2022-02-11T22:05:05.856Z"
   },
   {
    "duration": 11,
    "start_time": "2022-02-11T22:05:05.863Z"
   },
   {
    "duration": 8,
    "start_time": "2022-02-11T22:05:05.875Z"
   },
   {
    "duration": 5,
    "start_time": "2022-02-11T22:05:05.884Z"
   },
   {
    "duration": 37,
    "start_time": "2022-02-11T22:05:05.891Z"
   },
   {
    "duration": 10,
    "start_time": "2022-02-11T22:05:05.929Z"
   },
   {
    "duration": 3,
    "start_time": "2022-02-11T22:05:05.941Z"
   },
   {
    "duration": 13,
    "start_time": "2022-02-11T22:05:05.945Z"
   },
   {
    "duration": 12,
    "start_time": "2022-02-11T22:05:05.960Z"
   },
   {
    "duration": 11,
    "start_time": "2022-02-11T22:05:05.974Z"
   },
   {
    "duration": 42,
    "start_time": "2022-02-11T22:05:05.986Z"
   },
   {
    "duration": 14,
    "start_time": "2022-02-11T22:05:06.029Z"
   },
   {
    "duration": 11,
    "start_time": "2022-02-11T22:05:06.046Z"
   },
   {
    "duration": 14,
    "start_time": "2022-02-11T22:05:06.058Z"
   },
   {
    "duration": 10,
    "start_time": "2022-02-11T22:05:06.073Z"
   },
   {
    "duration": 6,
    "start_time": "2022-02-11T22:05:06.084Z"
   },
   {
    "duration": 39,
    "start_time": "2022-02-11T22:05:06.091Z"
   },
   {
    "duration": 12,
    "start_time": "2022-02-11T22:05:06.132Z"
   },
   {
    "duration": 38,
    "start_time": "2022-02-11T22:05:06.146Z"
   },
   {
    "duration": 16,
    "start_time": "2022-02-11T22:05:06.185Z"
   },
   {
    "duration": 25,
    "start_time": "2022-02-11T22:05:06.203Z"
   },
   {
    "duration": 3,
    "start_time": "2022-02-11T22:05:06.229Z"
   },
   {
    "duration": 10,
    "start_time": "2022-02-11T22:05:06.234Z"
   },
   {
    "duration": 3,
    "start_time": "2022-02-11T22:05:06.246Z"
   },
   {
    "duration": 10,
    "start_time": "2022-02-11T22:05:06.250Z"
   },
   {
    "duration": 5,
    "start_time": "2022-02-11T22:05:06.261Z"
   },
   {
    "duration": 19,
    "start_time": "2022-02-11T22:05:06.267Z"
   },
   {
    "duration": 50,
    "start_time": "2022-02-11T22:05:06.287Z"
   },
   {
    "duration": 17,
    "start_time": "2022-02-11T22:05:06.338Z"
   },
   {
    "duration": 10,
    "start_time": "2022-02-11T22:05:06.356Z"
   },
   {
    "duration": 40,
    "start_time": "2022-02-11T22:05:06.367Z"
   },
   {
    "duration": 55,
    "start_time": "2022-02-11T22:05:06.408Z"
   },
   {
    "duration": 36,
    "start_time": "2022-02-11T22:05:06.464Z"
   },
   {
    "duration": 50,
    "start_time": "2022-02-11T22:05:06.502Z"
   },
   {
    "duration": 29,
    "start_time": "2022-02-11T22:08:49.203Z"
   },
   {
    "duration": 17,
    "start_time": "2022-02-11T22:10:57.824Z"
   },
   {
    "duration": 709,
    "start_time": "2022-02-12T19:35:35.466Z"
   },
   {
    "duration": 17,
    "start_time": "2022-02-12T19:35:36.177Z"
   },
   {
    "duration": 5,
    "start_time": "2022-02-12T19:35:36.209Z"
   },
   {
    "duration": 16,
    "start_time": "2022-02-12T19:35:36.216Z"
   },
   {
    "duration": 13,
    "start_time": "2022-02-12T19:35:36.234Z"
   },
   {
    "duration": 7,
    "start_time": "2022-02-12T19:35:36.249Z"
   },
   {
    "duration": 14,
    "start_time": "2022-02-12T19:35:36.258Z"
   },
   {
    "duration": 33,
    "start_time": "2022-02-12T19:35:36.274Z"
   },
   {
    "duration": 5,
    "start_time": "2022-02-12T19:35:36.310Z"
   },
   {
    "duration": 8,
    "start_time": "2022-02-12T19:35:36.317Z"
   },
   {
    "duration": 8,
    "start_time": "2022-02-12T19:35:36.327Z"
   },
   {
    "duration": 10,
    "start_time": "2022-02-12T19:35:36.337Z"
   },
   {
    "duration": 16,
    "start_time": "2022-02-12T19:35:36.348Z"
   },
   {
    "duration": 11,
    "start_time": "2022-02-12T19:35:36.366Z"
   },
   {
    "duration": 14,
    "start_time": "2022-02-12T19:35:36.379Z"
   },
   {
    "duration": 17,
    "start_time": "2022-02-12T19:35:36.395Z"
   },
   {
    "duration": 8,
    "start_time": "2022-02-12T19:35:36.414Z"
   },
   {
    "duration": 20,
    "start_time": "2022-02-12T19:35:36.424Z"
   },
   {
    "duration": 17,
    "start_time": "2022-02-12T19:35:36.446Z"
   },
   {
    "duration": 18,
    "start_time": "2022-02-12T19:35:36.466Z"
   },
   {
    "duration": 44,
    "start_time": "2022-02-12T19:35:36.486Z"
   },
   {
    "duration": 19,
    "start_time": "2022-02-12T19:35:36.532Z"
   },
   {
    "duration": 21,
    "start_time": "2022-02-12T19:35:36.555Z"
   },
   {
    "duration": 37,
    "start_time": "2022-02-12T19:35:36.579Z"
   },
   {
    "duration": 15,
    "start_time": "2022-02-12T19:35:36.618Z"
   },
   {
    "duration": 7,
    "start_time": "2022-02-12T19:35:36.635Z"
   },
   {
    "duration": 17,
    "start_time": "2022-02-12T19:35:36.644Z"
   },
   {
    "duration": 18,
    "start_time": "2022-02-12T19:35:36.663Z"
   },
   {
    "duration": 46,
    "start_time": "2022-02-12T19:35:36.708Z"
   },
   {
    "duration": 21,
    "start_time": "2022-02-12T19:35:36.756Z"
   },
   {
    "duration": 34,
    "start_time": "2022-02-12T19:35:36.779Z"
   },
   {
    "duration": 6,
    "start_time": "2022-02-12T19:35:36.816Z"
   },
   {
    "duration": 16,
    "start_time": "2022-02-12T19:35:36.823Z"
   },
   {
    "duration": 5,
    "start_time": "2022-02-12T19:35:36.842Z"
   },
   {
    "duration": 14,
    "start_time": "2022-02-12T19:35:36.849Z"
   },
   {
    "duration": 47,
    "start_time": "2022-02-12T19:35:36.865Z"
   },
   {
    "duration": 25,
    "start_time": "2022-02-12T19:35:36.914Z"
   },
   {
    "duration": 20,
    "start_time": "2022-02-12T19:35:36.941Z"
   },
   {
    "duration": 20,
    "start_time": "2022-02-12T19:35:36.963Z"
   },
   {
    "duration": 34,
    "start_time": "2022-02-12T19:35:36.985Z"
   },
   {
    "duration": 51,
    "start_time": "2022-02-12T19:35:37.021Z"
   },
   {
    "duration": 72,
    "start_time": "2022-02-12T19:35:37.073Z"
   },
   {
    "duration": 46,
    "start_time": "2022-02-12T19:35:37.147Z"
   },
   {
    "duration": 58,
    "start_time": "2022-02-12T19:35:37.195Z"
   },
   {
    "duration": 684,
    "start_time": "2022-02-12T22:57:23.510Z"
   },
   {
    "duration": 20,
    "start_time": "2022-02-12T22:57:24.196Z"
   },
   {
    "duration": 4,
    "start_time": "2022-02-12T22:57:24.218Z"
   },
   {
    "duration": 21,
    "start_time": "2022-02-12T22:57:24.224Z"
   },
   {
    "duration": 26,
    "start_time": "2022-02-12T22:57:24.246Z"
   },
   {
    "duration": 18,
    "start_time": "2022-02-12T22:57:24.274Z"
   },
   {
    "duration": 22,
    "start_time": "2022-02-12T22:57:24.294Z"
   },
   {
    "duration": 15,
    "start_time": "2022-02-12T22:57:24.319Z"
   },
   {
    "duration": 15,
    "start_time": "2022-02-12T22:57:24.337Z"
   },
   {
    "duration": 26,
    "start_time": "2022-02-12T22:57:24.354Z"
   },
   {
    "duration": 14,
    "start_time": "2022-02-12T22:57:24.382Z"
   },
   {
    "duration": 22,
    "start_time": "2022-02-12T22:57:24.398Z"
   },
   {
    "duration": 20,
    "start_time": "2022-02-12T22:57:24.421Z"
   },
   {
    "duration": 21,
    "start_time": "2022-02-12T22:57:24.443Z"
   },
   {
    "duration": 14,
    "start_time": "2022-02-12T22:57:24.466Z"
   },
   {
    "duration": 18,
    "start_time": "2022-02-12T22:57:24.483Z"
   },
   {
    "duration": 11,
    "start_time": "2022-02-12T22:57:24.503Z"
   },
   {
    "duration": 29,
    "start_time": "2022-02-12T22:57:24.517Z"
   },
   {
    "duration": 18,
    "start_time": "2022-02-12T22:57:24.549Z"
   },
   {
    "duration": 28,
    "start_time": "2022-02-12T22:57:24.569Z"
   },
   {
    "duration": 36,
    "start_time": "2022-02-12T22:57:24.599Z"
   },
   {
    "duration": 19,
    "start_time": "2022-02-12T22:57:24.637Z"
   },
   {
    "duration": 24,
    "start_time": "2022-02-12T22:57:24.661Z"
   },
   {
    "duration": 29,
    "start_time": "2022-02-12T22:57:24.687Z"
   },
   {
    "duration": 22,
    "start_time": "2022-02-12T22:57:24.718Z"
   },
   {
    "duration": 25,
    "start_time": "2022-02-12T22:57:24.742Z"
   },
   {
    "duration": 29,
    "start_time": "2022-02-12T22:57:24.769Z"
   },
   {
    "duration": 22,
    "start_time": "2022-02-12T22:57:24.800Z"
   },
   {
    "duration": 43,
    "start_time": "2022-02-12T22:57:24.824Z"
   },
   {
    "duration": 20,
    "start_time": "2022-02-12T22:57:24.869Z"
   },
   {
    "duration": 25,
    "start_time": "2022-02-12T22:57:24.891Z"
   },
   {
    "duration": 4,
    "start_time": "2022-02-12T22:57:24.918Z"
   },
   {
    "duration": 16,
    "start_time": "2022-02-12T22:57:24.924Z"
   },
   {
    "duration": 5,
    "start_time": "2022-02-12T22:57:24.942Z"
   },
   {
    "duration": 18,
    "start_time": "2022-02-12T22:57:24.949Z"
   },
   {
    "duration": 7,
    "start_time": "2022-02-12T22:57:24.969Z"
   },
   {
    "duration": 45,
    "start_time": "2022-02-12T22:57:24.978Z"
   },
   {
    "duration": 41,
    "start_time": "2022-02-12T22:57:25.026Z"
   },
   {
    "duration": 44,
    "start_time": "2022-02-12T22:57:25.069Z"
   },
   {
    "duration": 13,
    "start_time": "2022-02-12T22:57:25.115Z"
   },
   {
    "duration": 52,
    "start_time": "2022-02-12T22:57:25.130Z"
   },
   {
    "duration": 70,
    "start_time": "2022-02-12T22:57:25.184Z"
   },
   {
    "duration": 62,
    "start_time": "2022-02-12T22:57:25.256Z"
   },
   {
    "duration": 50,
    "start_time": "2022-02-12T22:57:25.320Z"
   },
   {
    "duration": 633,
    "start_time": "2022-02-19T07:50:01.226Z"
   },
   {
    "duration": 17,
    "start_time": "2022-02-19T07:50:01.861Z"
   },
   {
    "duration": 25,
    "start_time": "2022-02-19T07:50:01.885Z"
   },
   {
    "duration": 20,
    "start_time": "2022-02-19T07:50:01.913Z"
   },
   {
    "duration": 18,
    "start_time": "2022-02-19T07:50:01.936Z"
   },
   {
    "duration": 20,
    "start_time": "2022-02-19T07:50:01.956Z"
   },
   {
    "duration": 4,
    "start_time": "2022-02-19T07:50:01.979Z"
   },
   {
    "duration": 27,
    "start_time": "2022-02-19T07:50:01.986Z"
   },
   {
    "duration": 10,
    "start_time": "2022-02-19T07:50:02.015Z"
   },
   {
    "duration": 25,
    "start_time": "2022-02-19T07:50:02.027Z"
   },
   {
    "duration": 20,
    "start_time": "2022-02-19T07:50:02.054Z"
   },
   {
    "duration": 9,
    "start_time": "2022-02-19T07:50:02.076Z"
   },
   {
    "duration": 31,
    "start_time": "2022-02-19T07:50:02.087Z"
   },
   {
    "duration": 40,
    "start_time": "2022-02-19T07:50:02.120Z"
   },
   {
    "duration": 10,
    "start_time": "2022-02-19T07:50:02.162Z"
   },
   {
    "duration": 18,
    "start_time": "2022-02-19T07:50:02.174Z"
   },
   {
    "duration": 57,
    "start_time": "2022-02-19T07:50:02.195Z"
   },
   {
    "duration": 28,
    "start_time": "2022-02-19T07:50:02.254Z"
   },
   {
    "duration": 28,
    "start_time": "2022-02-19T07:50:02.284Z"
   },
   {
    "duration": 39,
    "start_time": "2022-02-19T07:50:02.313Z"
   },
   {
    "duration": 52,
    "start_time": "2022-02-19T07:50:02.355Z"
   },
   {
    "duration": 17,
    "start_time": "2022-02-19T07:50:02.411Z"
   },
   {
    "duration": 68,
    "start_time": "2022-02-19T07:50:02.430Z"
   },
   {
    "duration": 52,
    "start_time": "2022-02-19T07:50:02.501Z"
   },
   {
    "duration": 28,
    "start_time": "2022-02-19T07:50:02.555Z"
   },
   {
    "duration": 26,
    "start_time": "2022-02-19T07:50:02.585Z"
   },
   {
    "duration": 40,
    "start_time": "2022-02-19T07:50:02.613Z"
   },
   {
    "duration": 39,
    "start_time": "2022-02-19T07:50:02.655Z"
   },
   {
    "duration": 63,
    "start_time": "2022-02-19T07:50:02.696Z"
   },
   {
    "duration": 27,
    "start_time": "2022-02-19T07:50:02.761Z"
   },
   {
    "duration": 32,
    "start_time": "2022-02-19T07:50:02.790Z"
   },
   {
    "duration": 16,
    "start_time": "2022-02-19T07:50:02.825Z"
   },
   {
    "duration": 44,
    "start_time": "2022-02-19T07:50:02.843Z"
   },
   {
    "duration": 25,
    "start_time": "2022-02-19T07:50:02.889Z"
   },
   {
    "duration": 30,
    "start_time": "2022-02-19T07:50:02.917Z"
   },
   {
    "duration": 34,
    "start_time": "2022-02-19T07:50:02.949Z"
   },
   {
    "duration": 30,
    "start_time": "2022-02-19T07:50:02.986Z"
   },
   {
    "duration": 21,
    "start_time": "2022-02-19T07:50:03.018Z"
   },
   {
    "duration": 22,
    "start_time": "2022-02-19T07:50:03.040Z"
   },
   {
    "duration": 16,
    "start_time": "2022-02-19T07:50:03.064Z"
   },
   {
    "duration": 44,
    "start_time": "2022-02-19T07:50:03.108Z"
   },
   {
    "duration": 67,
    "start_time": "2022-02-19T07:50:03.154Z"
   },
   {
    "duration": 49,
    "start_time": "2022-02-19T07:50:03.223Z"
   },
   {
    "duration": 70,
    "start_time": "2022-02-19T07:50:03.274Z"
   },
   {
    "duration": 7,
    "start_time": "2022-02-19T07:54:52.832Z"
   },
   {
    "duration": 7,
    "start_time": "2022-02-19T07:55:07.834Z"
   },
   {
    "duration": 61,
    "start_time": "2022-10-24T16:17:12.497Z"
   },
   {
    "duration": 450,
    "start_time": "2022-10-24T16:17:20.719Z"
   },
   {
    "duration": 679,
    "start_time": "2022-10-24T16:17:21.173Z"
   },
   {
    "duration": 27,
    "start_time": "2022-10-24T16:17:21.855Z"
   },
   {
    "duration": 49,
    "start_time": "2022-10-24T16:17:21.884Z"
   },
   {
    "duration": 23,
    "start_time": "2022-10-24T16:17:21.934Z"
   },
   {
    "duration": 35,
    "start_time": "2022-10-24T16:17:21.958Z"
   },
   {
    "duration": 24,
    "start_time": "2022-10-24T16:17:21.995Z"
   },
   {
    "duration": 24,
    "start_time": "2022-10-24T16:17:22.021Z"
   },
   {
    "duration": 30,
    "start_time": "2022-10-24T16:17:22.048Z"
   },
   {
    "duration": 27,
    "start_time": "2022-10-24T16:17:22.080Z"
   },
   {
    "duration": 36,
    "start_time": "2022-10-24T16:17:22.108Z"
   },
   {
    "duration": 23,
    "start_time": "2022-10-24T16:17:22.145Z"
   },
   {
    "duration": 31,
    "start_time": "2022-10-24T16:17:22.170Z"
   },
   {
    "duration": 28,
    "start_time": "2022-10-24T16:17:22.202Z"
   },
   {
    "duration": 17,
    "start_time": "2022-10-24T16:17:22.231Z"
   },
   {
    "duration": 23,
    "start_time": "2022-10-24T16:17:22.249Z"
   },
   {
    "duration": 33,
    "start_time": "2022-10-24T16:17:22.274Z"
   },
   {
    "duration": 15,
    "start_time": "2022-10-24T16:17:22.309Z"
   },
   {
    "duration": 31,
    "start_time": "2022-10-24T16:17:22.325Z"
   },
   {
    "duration": 36,
    "start_time": "2022-10-24T16:17:22.357Z"
   },
   {
    "duration": 45,
    "start_time": "2022-10-24T16:17:22.395Z"
   },
   {
    "duration": 42,
    "start_time": "2022-10-24T16:17:22.441Z"
   },
   {
    "duration": 28,
    "start_time": "2022-10-24T16:17:22.485Z"
   },
   {
    "duration": 41,
    "start_time": "2022-10-24T16:17:22.515Z"
   },
   {
    "duration": 55,
    "start_time": "2022-10-24T16:17:22.557Z"
   },
   {
    "duration": 34,
    "start_time": "2022-10-24T16:17:22.613Z"
   },
   {
    "duration": 16,
    "start_time": "2022-10-24T16:17:22.650Z"
   },
   {
    "duration": 55,
    "start_time": "2022-10-24T16:17:22.668Z"
   },
   {
    "duration": 67,
    "start_time": "2022-10-24T16:17:22.724Z"
   },
   {
    "duration": 68,
    "start_time": "2022-10-24T16:17:22.793Z"
   },
   {
    "duration": 20,
    "start_time": "2022-10-24T16:17:22.863Z"
   },
   {
    "duration": 27,
    "start_time": "2022-10-24T16:17:22.884Z"
   },
   {
    "duration": 36,
    "start_time": "2022-10-24T16:17:22.921Z"
   },
   {
    "duration": 16,
    "start_time": "2022-10-24T16:17:22.958Z"
   },
   {
    "duration": 6,
    "start_time": "2022-10-24T16:17:22.976Z"
   },
   {
    "duration": 17,
    "start_time": "2022-10-24T16:17:22.984Z"
   },
   {
    "duration": 6,
    "start_time": "2022-10-24T16:17:23.002Z"
   },
   {
    "duration": 26,
    "start_time": "2022-10-24T16:17:23.010Z"
   },
   {
    "duration": 21,
    "start_time": "2022-10-24T16:17:23.038Z"
   },
   {
    "duration": 20,
    "start_time": "2022-10-24T16:17:23.061Z"
   },
   {
    "duration": 38,
    "start_time": "2022-10-24T16:17:23.083Z"
   },
   {
    "duration": 73,
    "start_time": "2022-10-24T16:17:23.123Z"
   },
   {
    "duration": 44,
    "start_time": "2022-10-24T16:17:23.198Z"
   },
   {
    "duration": 43,
    "start_time": "2022-10-24T16:17:23.244Z"
   },
   {
    "duration": 77,
    "start_time": "2022-10-24T16:17:23.289Z"
   },
   {
    "duration": 3,
    "start_time": "2022-10-24T17:49:27.664Z"
   },
   {
    "duration": 3,
    "start_time": "2022-10-24T17:49:29.363Z"
   },
   {
    "duration": 393,
    "start_time": "2022-10-24T17:49:53.539Z"
   },
   {
    "duration": 84,
    "start_time": "2022-10-24T17:49:53.935Z"
   },
   {
    "duration": 22,
    "start_time": "2022-10-24T17:49:54.022Z"
   },
   {
    "duration": 23,
    "start_time": "2022-10-24T17:49:54.046Z"
   },
   {
    "duration": 19,
    "start_time": "2022-10-24T17:49:54.071Z"
   },
   {
    "duration": 19,
    "start_time": "2022-10-24T17:49:54.092Z"
   },
   {
    "duration": 39,
    "start_time": "2022-10-24T17:49:54.113Z"
   },
   {
    "duration": 11,
    "start_time": "2022-10-24T17:49:54.154Z"
   },
   {
    "duration": 15,
    "start_time": "2022-10-24T17:49:54.167Z"
   },
   {
    "duration": 16,
    "start_time": "2022-10-24T17:49:54.186Z"
   },
   {
    "duration": 33,
    "start_time": "2022-10-24T17:49:54.204Z"
   },
   {
    "duration": 15,
    "start_time": "2022-10-24T17:49:54.239Z"
   },
   {
    "duration": 15,
    "start_time": "2022-10-24T17:49:54.256Z"
   },
   {
    "duration": 10,
    "start_time": "2022-10-24T17:49:54.273Z"
   },
   {
    "duration": 61,
    "start_time": "2022-10-24T17:49:54.284Z"
   },
   {
    "duration": 13,
    "start_time": "2022-10-24T17:49:54.347Z"
   },
   {
    "duration": 13,
    "start_time": "2022-10-24T17:49:54.362Z"
   },
   {
    "duration": 9,
    "start_time": "2022-10-24T17:49:54.376Z"
   },
   {
    "duration": 3,
    "start_time": "2022-10-24T17:49:54.387Z"
   },
   {
    "duration": 22,
    "start_time": "2022-10-24T17:49:54.392Z"
   },
   {
    "duration": 27,
    "start_time": "2022-10-24T17:49:54.416Z"
   },
   {
    "duration": 27,
    "start_time": "2022-10-24T17:49:54.445Z"
   },
   {
    "duration": 33,
    "start_time": "2022-10-24T17:49:54.474Z"
   },
   {
    "duration": 25,
    "start_time": "2022-10-24T17:49:54.508Z"
   },
   {
    "duration": 17,
    "start_time": "2022-10-24T17:49:54.542Z"
   },
   {
    "duration": 21,
    "start_time": "2022-10-24T17:49:54.561Z"
   },
   {
    "duration": 14,
    "start_time": "2022-10-24T17:49:54.584Z"
   },
   {
    "duration": 12,
    "start_time": "2022-10-24T17:49:54.601Z"
   },
   {
    "duration": 42,
    "start_time": "2022-10-24T17:49:54.615Z"
   },
   {
    "duration": 18,
    "start_time": "2022-10-24T17:49:54.658Z"
   },
   {
    "duration": 42,
    "start_time": "2022-10-24T17:49:54.677Z"
   },
   {
    "duration": 25,
    "start_time": "2022-10-24T17:49:54.722Z"
   },
   {
    "duration": 21,
    "start_time": "2022-10-24T17:49:54.749Z"
   },
   {
    "duration": 18,
    "start_time": "2022-10-24T17:49:54.772Z"
   },
   {
    "duration": 55,
    "start_time": "2022-10-24T17:49:54.792Z"
   },
   {
    "duration": 5,
    "start_time": "2022-10-24T17:49:54.849Z"
   },
   {
    "duration": 21,
    "start_time": "2022-10-24T17:49:54.855Z"
   },
   {
    "duration": 5,
    "start_time": "2022-10-24T17:49:54.878Z"
   },
   {
    "duration": 39,
    "start_time": "2022-10-24T17:49:54.884Z"
   },
   {
    "duration": 44,
    "start_time": "2022-10-24T17:49:54.925Z"
   },
   {
    "duration": 27,
    "start_time": "2022-10-24T17:49:54.971Z"
   },
   {
    "duration": 31,
    "start_time": "2022-10-24T17:49:55.000Z"
   },
   {
    "duration": 66,
    "start_time": "2022-10-24T17:49:55.034Z"
   },
   {
    "duration": 57,
    "start_time": "2022-10-24T17:49:55.102Z"
   },
   {
    "duration": 42,
    "start_time": "2022-10-24T17:49:55.161Z"
   },
   {
    "duration": 61,
    "start_time": "2022-10-24T17:49:55.205Z"
   },
   {
    "duration": 43,
    "start_time": "2022-10-25T10:23:03.475Z"
   },
   {
    "duration": 370,
    "start_time": "2022-10-25T10:24:27.000Z"
   },
   {
    "duration": 133,
    "start_time": "2022-10-25T10:24:27.372Z"
   },
   {
    "duration": 13,
    "start_time": "2022-10-25T10:24:27.507Z"
   },
   {
    "duration": 13,
    "start_time": "2022-10-25T10:24:27.522Z"
   },
   {
    "duration": 4,
    "start_time": "2022-10-25T10:24:27.536Z"
   },
   {
    "duration": 14,
    "start_time": "2022-10-25T10:24:27.542Z"
   },
   {
    "duration": 21,
    "start_time": "2022-10-25T10:24:27.558Z"
   },
   {
    "duration": 5,
    "start_time": "2022-10-25T10:24:27.580Z"
   },
   {
    "duration": 6,
    "start_time": "2022-10-25T10:24:27.586Z"
   },
   {
    "duration": 8,
    "start_time": "2022-10-25T10:24:27.595Z"
   },
   {
    "duration": 6,
    "start_time": "2022-10-25T10:24:27.605Z"
   },
   {
    "duration": 6,
    "start_time": "2022-10-25T10:24:27.612Z"
   },
   {
    "duration": 6,
    "start_time": "2022-10-25T10:24:27.619Z"
   },
   {
    "duration": 10,
    "start_time": "2022-10-25T10:24:27.626Z"
   },
   {
    "duration": 16,
    "start_time": "2022-10-25T10:24:27.637Z"
   },
   {
    "duration": 8,
    "start_time": "2022-10-25T10:24:27.677Z"
   },
   {
    "duration": 13,
    "start_time": "2022-10-25T10:24:27.687Z"
   },
   {
    "duration": 9,
    "start_time": "2022-10-25T10:24:27.702Z"
   },
   {
    "duration": 11,
    "start_time": "2022-10-25T10:24:27.713Z"
   },
   {
    "duration": 24,
    "start_time": "2022-10-25T10:24:27.726Z"
   },
   {
    "duration": 29,
    "start_time": "2022-10-25T10:24:27.752Z"
   },
   {
    "duration": 10,
    "start_time": "2022-10-25T10:24:27.783Z"
   },
   {
    "duration": 20,
    "start_time": "2022-10-25T10:24:27.795Z"
   },
   {
    "duration": 14,
    "start_time": "2022-10-25T10:24:27.816Z"
   },
   {
    "duration": 15,
    "start_time": "2022-10-25T10:24:27.831Z"
   },
   {
    "duration": 35,
    "start_time": "2022-10-25T10:24:27.847Z"
   },
   {
    "duration": 13,
    "start_time": "2022-10-25T10:24:27.883Z"
   },
   {
    "duration": 3,
    "start_time": "2022-10-25T10:24:27.899Z"
   },
   {
    "duration": 13,
    "start_time": "2022-10-25T10:24:27.904Z"
   },
   {
    "duration": 14,
    "start_time": "2022-10-25T10:24:27.919Z"
   },
   {
    "duration": 62,
    "start_time": "2022-10-25T10:24:27.934Z"
   },
   {
    "duration": 20,
    "start_time": "2022-10-25T10:24:27.998Z"
   },
   {
    "duration": 13,
    "start_time": "2022-10-25T10:24:28.020Z"
   },
   {
    "duration": 4,
    "start_time": "2022-10-25T10:24:28.035Z"
   },
   {
    "duration": 37,
    "start_time": "2022-10-25T10:24:28.041Z"
   },
   {
    "duration": 4,
    "start_time": "2022-10-25T10:24:28.080Z"
   },
   {
    "duration": 20,
    "start_time": "2022-10-25T10:24:28.086Z"
   },
   {
    "duration": 5,
    "start_time": "2022-10-25T10:24:28.108Z"
   },
   {
    "duration": 21,
    "start_time": "2022-10-25T10:24:28.114Z"
   },
   {
    "duration": 16,
    "start_time": "2022-10-25T10:24:28.136Z"
   },
   {
    "duration": 35,
    "start_time": "2022-10-25T10:24:28.153Z"
   },
   {
    "duration": 26,
    "start_time": "2022-10-25T10:24:28.189Z"
   },
   {
    "duration": 39,
    "start_time": "2022-10-25T10:24:28.217Z"
   },
   {
    "duration": 38,
    "start_time": "2022-10-25T10:24:28.258Z"
   },
   {
    "duration": 37,
    "start_time": "2022-10-25T10:24:28.298Z"
   },
   {
    "duration": 41,
    "start_time": "2022-10-25T10:24:28.336Z"
   },
   {
    "duration": 11,
    "start_time": "2022-10-25T10:38:47.088Z"
   },
   {
    "duration": 377,
    "start_time": "2022-10-25T12:51:41.203Z"
   },
   {
    "duration": 91,
    "start_time": "2022-10-25T12:51:41.582Z"
   },
   {
    "duration": 14,
    "start_time": "2022-10-25T12:51:41.675Z"
   },
   {
    "duration": 13,
    "start_time": "2022-10-25T12:51:41.691Z"
   },
   {
    "duration": 6,
    "start_time": "2022-10-25T12:51:41.705Z"
   },
   {
    "duration": 13,
    "start_time": "2022-10-25T12:51:41.712Z"
   },
   {
    "duration": 9,
    "start_time": "2022-10-25T12:51:41.727Z"
   },
   {
    "duration": 5,
    "start_time": "2022-10-25T12:51:41.737Z"
   },
   {
    "duration": 37,
    "start_time": "2022-10-25T12:51:41.743Z"
   },
   {
    "duration": 10,
    "start_time": "2022-10-25T12:51:41.783Z"
   },
   {
    "duration": 8,
    "start_time": "2022-10-25T12:51:41.794Z"
   },
   {
    "duration": 5,
    "start_time": "2022-10-25T12:51:41.804Z"
   },
   {
    "duration": 4,
    "start_time": "2022-10-25T12:51:41.810Z"
   },
   {
    "duration": 6,
    "start_time": "2022-10-25T12:51:41.816Z"
   },
   {
    "duration": 9,
    "start_time": "2022-10-25T12:51:41.824Z"
   },
   {
    "duration": 6,
    "start_time": "2022-10-25T12:51:41.835Z"
   },
   {
    "duration": 40,
    "start_time": "2022-10-25T12:51:41.843Z"
   },
   {
    "duration": 7,
    "start_time": "2022-10-25T12:51:41.884Z"
   },
   {
    "duration": 4,
    "start_time": "2022-10-25T12:51:41.892Z"
   },
   {
    "duration": 15,
    "start_time": "2022-10-25T12:51:41.897Z"
   },
   {
    "duration": 12,
    "start_time": "2022-10-25T12:51:41.913Z"
   },
   {
    "duration": 13,
    "start_time": "2022-10-25T12:51:41.926Z"
   },
   {
    "duration": 43,
    "start_time": "2022-10-25T12:51:41.940Z"
   },
   {
    "duration": 12,
    "start_time": "2022-10-25T12:51:41.985Z"
   },
   {
    "duration": 11,
    "start_time": "2022-10-25T12:51:41.999Z"
   },
   {
    "duration": 15,
    "start_time": "2022-10-25T12:51:42.012Z"
   },
   {
    "duration": 12,
    "start_time": "2022-10-25T12:51:42.028Z"
   },
   {
    "duration": 4,
    "start_time": "2022-10-25T12:51:42.043Z"
   },
   {
    "duration": 39,
    "start_time": "2022-10-25T12:51:42.049Z"
   },
   {
    "duration": 12,
    "start_time": "2022-10-25T12:51:42.090Z"
   },
   {
    "duration": 38,
    "start_time": "2022-10-25T12:51:42.103Z"
   },
   {
    "duration": 37,
    "start_time": "2022-10-25T12:51:42.142Z"
   },
   {
    "duration": 15,
    "start_time": "2022-10-25T12:51:42.180Z"
   },
   {
    "duration": 4,
    "start_time": "2022-10-25T12:51:42.196Z"
   },
   {
    "duration": 11,
    "start_time": "2022-10-25T12:51:42.202Z"
   },
   {
    "duration": 3,
    "start_time": "2022-10-25T12:51:42.215Z"
   },
   {
    "duration": 12,
    "start_time": "2022-10-25T12:51:42.219Z"
   },
   {
    "duration": 4,
    "start_time": "2022-10-25T12:51:42.232Z"
   },
   {
    "duration": 50,
    "start_time": "2022-10-25T12:51:42.237Z"
   },
   {
    "duration": 14,
    "start_time": "2022-10-25T12:51:42.288Z"
   },
   {
    "duration": 17,
    "start_time": "2022-10-25T12:51:42.303Z"
   },
   {
    "duration": 15,
    "start_time": "2022-10-25T12:51:42.321Z"
   },
   {
    "duration": 61,
    "start_time": "2022-10-25T12:51:42.337Z"
   },
   {
    "duration": 38,
    "start_time": "2022-10-25T12:51:42.400Z"
   },
   {
    "duration": 52,
    "start_time": "2022-10-25T12:51:42.440Z"
   },
   {
    "duration": 41,
    "start_time": "2022-10-25T12:51:42.494Z"
   },
   {
    "duration": 360,
    "start_time": "2022-10-25T13:11:50.011Z"
   },
   {
    "duration": 88,
    "start_time": "2022-10-25T13:11:50.376Z"
   },
   {
    "duration": 13,
    "start_time": "2022-10-25T13:11:50.466Z"
   },
   {
    "duration": 13,
    "start_time": "2022-10-25T13:11:50.481Z"
   },
   {
    "duration": 4,
    "start_time": "2022-10-25T13:11:50.495Z"
   },
   {
    "duration": 13,
    "start_time": "2022-10-25T13:11:50.500Z"
   },
   {
    "duration": 25,
    "start_time": "2022-10-25T13:11:50.514Z"
   },
   {
    "duration": 6,
    "start_time": "2022-10-25T13:11:50.541Z"
   },
   {
    "duration": 8,
    "start_time": "2022-10-25T13:11:50.549Z"
   },
   {
    "duration": 8,
    "start_time": "2022-10-25T13:11:50.560Z"
   },
   {
    "duration": 4,
    "start_time": "2022-10-25T13:11:50.577Z"
   },
   {
    "duration": 4,
    "start_time": "2022-10-25T13:11:50.582Z"
   },
   {
    "duration": 6,
    "start_time": "2022-10-25T13:11:50.588Z"
   },
   {
    "duration": 9,
    "start_time": "2022-10-25T13:11:50.595Z"
   },
   {
    "duration": 10,
    "start_time": "2022-10-25T13:11:50.605Z"
   },
   {
    "duration": 5,
    "start_time": "2022-10-25T13:11:50.616Z"
   },
   {
    "duration": 10,
    "start_time": "2022-10-25T13:11:50.622Z"
   },
   {
    "duration": 7,
    "start_time": "2022-10-25T13:11:50.634Z"
   },
   {
    "duration": 7,
    "start_time": "2022-10-25T13:11:50.642Z"
   },
   {
    "duration": 38,
    "start_time": "2022-10-25T13:11:50.650Z"
   },
   {
    "duration": 12,
    "start_time": "2022-10-25T13:11:50.690Z"
   },
   {
    "duration": 10,
    "start_time": "2022-10-25T13:11:50.703Z"
   },
   {
    "duration": 17,
    "start_time": "2022-10-25T13:11:50.714Z"
   },
   {
    "duration": 12,
    "start_time": "2022-10-25T13:11:50.732Z"
   },
   {
    "duration": 34,
    "start_time": "2022-10-25T13:11:50.746Z"
   },
   {
    "duration": 18,
    "start_time": "2022-10-25T13:11:50.781Z"
   },
   {
    "duration": 12,
    "start_time": "2022-10-25T13:11:50.801Z"
   },
   {
    "duration": 4,
    "start_time": "2022-10-25T13:11:50.816Z"
   },
   {
    "duration": 15,
    "start_time": "2022-10-25T13:11:50.822Z"
   },
   {
    "duration": 12,
    "start_time": "2022-10-25T13:11:50.839Z"
   },
   {
    "duration": 39,
    "start_time": "2022-10-25T13:11:50.877Z"
   },
   {
    "duration": 18,
    "start_time": "2022-10-25T13:11:50.918Z"
   },
   {
    "duration": 14,
    "start_time": "2022-10-25T13:11:50.938Z"
   },
   {
    "duration": 4,
    "start_time": "2022-10-25T13:11:50.978Z"
   },
   {
    "duration": 12,
    "start_time": "2022-10-25T13:11:50.984Z"
   },
   {
    "duration": 6,
    "start_time": "2022-10-25T13:11:50.998Z"
   },
   {
    "duration": 15,
    "start_time": "2022-10-25T13:11:51.006Z"
   },
   {
    "duration": 5,
    "start_time": "2022-10-25T13:11:51.023Z"
   },
   {
    "duration": 25,
    "start_time": "2022-10-25T13:11:51.029Z"
   },
   {
    "duration": 36,
    "start_time": "2022-10-25T13:11:51.055Z"
   },
   {
    "duration": 18,
    "start_time": "2022-10-25T13:11:51.093Z"
   },
   {
    "duration": 22,
    "start_time": "2022-10-25T13:11:51.112Z"
   },
   {
    "duration": 47,
    "start_time": "2022-10-25T13:11:51.135Z"
   },
   {
    "duration": 37,
    "start_time": "2022-10-25T13:11:51.184Z"
   },
   {
    "duration": 37,
    "start_time": "2022-10-25T13:11:51.222Z"
   },
   {
    "duration": 52,
    "start_time": "2022-10-25T13:11:51.260Z"
   },
   {
    "duration": 381,
    "start_time": "2022-10-25T13:49:46.072Z"
   },
   {
    "duration": 82,
    "start_time": "2022-10-25T13:49:46.454Z"
   },
   {
    "duration": 13,
    "start_time": "2022-10-25T13:49:46.537Z"
   },
   {
    "duration": 13,
    "start_time": "2022-10-25T13:49:46.552Z"
   },
   {
    "duration": 12,
    "start_time": "2022-10-25T13:49:46.566Z"
   },
   {
    "duration": 18,
    "start_time": "2022-10-25T13:49:46.580Z"
   },
   {
    "duration": 10,
    "start_time": "2022-10-25T13:49:46.599Z"
   },
   {
    "duration": 6,
    "start_time": "2022-10-25T13:49:46.610Z"
   },
   {
    "duration": 16,
    "start_time": "2022-10-25T13:49:46.617Z"
   },
   {
    "duration": 6,
    "start_time": "2022-10-25T13:49:46.637Z"
   },
   {
    "duration": 4,
    "start_time": "2022-10-25T13:49:46.644Z"
   },
   {
    "duration": 6,
    "start_time": "2022-10-25T13:49:46.650Z"
   },
   {
    "duration": 23,
    "start_time": "2022-10-25T13:49:46.657Z"
   },
   {
    "duration": 9,
    "start_time": "2022-10-25T13:49:46.681Z"
   },
   {
    "duration": 4,
    "start_time": "2022-10-25T13:49:46.692Z"
   },
   {
    "duration": 6,
    "start_time": "2022-10-25T13:49:46.698Z"
   },
   {
    "duration": 14,
    "start_time": "2022-10-25T13:49:46.706Z"
   },
   {
    "duration": 11,
    "start_time": "2022-10-25T13:49:46.721Z"
   },
   {
    "duration": 9,
    "start_time": "2022-10-25T13:49:46.734Z"
   },
   {
    "duration": 43,
    "start_time": "2022-10-25T13:49:46.744Z"
   },
   {
    "duration": 12,
    "start_time": "2022-10-25T13:49:46.789Z"
   },
   {
    "duration": 16,
    "start_time": "2022-10-25T13:49:46.803Z"
   },
   {
    "duration": 14,
    "start_time": "2022-10-25T13:49:46.820Z"
   },
   {
    "duration": 12,
    "start_time": "2022-10-25T13:49:46.836Z"
   },
   {
    "duration": 4,
    "start_time": "2022-10-25T13:49:46.849Z"
   },
   {
    "duration": 33,
    "start_time": "2022-10-25T13:49:46.855Z"
   },
   {
    "duration": 13,
    "start_time": "2022-10-25T13:49:46.889Z"
   },
   {
    "duration": 39,
    "start_time": "2022-10-25T13:49:46.905Z"
   },
   {
    "duration": 46,
    "start_time": "2022-10-25T13:49:46.945Z"
   },
   {
    "duration": 14,
    "start_time": "2022-10-25T13:49:46.993Z"
   },
   {
    "duration": 4,
    "start_time": "2022-10-25T13:49:47.008Z"
   },
   {
    "duration": 23,
    "start_time": "2022-10-25T13:49:47.013Z"
   },
   {
    "duration": 5,
    "start_time": "2022-10-25T13:49:47.038Z"
   },
   {
    "duration": 13,
    "start_time": "2022-10-25T13:49:47.044Z"
   },
   {
    "duration": 4,
    "start_time": "2022-10-25T13:49:47.058Z"
   },
   {
    "duration": 28,
    "start_time": "2022-10-25T13:49:47.064Z"
   },
   {
    "duration": 14,
    "start_time": "2022-10-25T13:49:47.094Z"
   },
   {
    "duration": 16,
    "start_time": "2022-10-25T13:49:47.110Z"
   },
   {
    "duration": 17,
    "start_time": "2022-10-25T13:49:47.127Z"
   },
   {
    "duration": 62,
    "start_time": "2022-10-25T13:49:47.145Z"
   },
   {
    "duration": 36,
    "start_time": "2022-10-25T13:49:47.208Z"
   },
   {
    "duration": 52,
    "start_time": "2022-10-25T13:49:47.245Z"
   },
   {
    "duration": 38,
    "start_time": "2022-10-25T13:49:47.298Z"
   },
   {
    "duration": 30,
    "start_time": "2022-10-25T14:18:28.815Z"
   },
   {
    "duration": 368,
    "start_time": "2022-10-25T14:18:36.099Z"
   },
   {
    "duration": 83,
    "start_time": "2022-10-25T14:18:36.468Z"
   },
   {
    "duration": 15,
    "start_time": "2022-10-25T14:18:36.553Z"
   },
   {
    "duration": 13,
    "start_time": "2022-10-25T14:18:36.570Z"
   },
   {
    "duration": 3,
    "start_time": "2022-10-25T14:18:36.584Z"
   },
   {
    "duration": 13,
    "start_time": "2022-10-25T14:18:36.589Z"
   },
   {
    "duration": 12,
    "start_time": "2022-10-25T14:18:36.604Z"
   },
   {
    "duration": 9,
    "start_time": "2022-10-25T14:18:36.617Z"
   },
   {
    "duration": 9,
    "start_time": "2022-10-25T14:18:36.627Z"
   },
   {
    "duration": 7,
    "start_time": "2022-10-25T14:18:36.638Z"
   },
   {
    "duration": 8,
    "start_time": "2022-10-25T14:18:36.647Z"
   },
   {
    "duration": 21,
    "start_time": "2022-10-25T14:18:36.656Z"
   },
   {
    "duration": 5,
    "start_time": "2022-10-25T14:18:36.678Z"
   },
   {
    "duration": 9,
    "start_time": "2022-10-25T14:18:36.684Z"
   },
   {
    "duration": 5,
    "start_time": "2022-10-25T14:18:36.695Z"
   },
   {
    "duration": 4,
    "start_time": "2022-10-25T14:18:36.701Z"
   },
   {
    "duration": 16,
    "start_time": "2022-10-25T14:18:36.707Z"
   },
   {
    "duration": 12,
    "start_time": "2022-10-25T14:18:36.724Z"
   },
   {
    "duration": 12,
    "start_time": "2022-10-25T14:18:36.737Z"
   },
   {
    "duration": 44,
    "start_time": "2022-10-25T14:18:36.750Z"
   },
   {
    "duration": 14,
    "start_time": "2022-10-25T14:18:36.795Z"
   },
   {
    "duration": 13,
    "start_time": "2022-10-25T14:18:36.810Z"
   },
   {
    "duration": 17,
    "start_time": "2022-10-25T14:18:36.824Z"
   },
   {
    "duration": 40,
    "start_time": "2022-10-25T14:18:36.842Z"
   },
   {
    "duration": 4,
    "start_time": "2022-10-25T14:18:36.883Z"
   },
   {
    "duration": 16,
    "start_time": "2022-10-25T14:18:36.888Z"
   },
   {
    "duration": 13,
    "start_time": "2022-10-25T14:18:36.906Z"
   },
   {
    "duration": 66,
    "start_time": "2022-10-25T14:18:36.924Z"
   },
   {
    "duration": 21,
    "start_time": "2022-10-25T14:18:36.992Z"
   },
   {
    "duration": 16,
    "start_time": "2022-10-25T14:18:37.015Z"
   },
   {
    "duration": 4,
    "start_time": "2022-10-25T14:18:37.033Z"
   },
   {
    "duration": 41,
    "start_time": "2022-10-25T14:18:37.038Z"
   },
   {
    "duration": 4,
    "start_time": "2022-10-25T14:18:37.081Z"
   },
   {
    "duration": 14,
    "start_time": "2022-10-25T14:18:37.087Z"
   },
   {
    "duration": 5,
    "start_time": "2022-10-25T14:18:37.103Z"
   },
   {
    "duration": 21,
    "start_time": "2022-10-25T14:18:37.109Z"
   },
   {
    "duration": 17,
    "start_time": "2022-10-25T14:18:37.132Z"
   },
   {
    "duration": 46,
    "start_time": "2022-10-25T14:18:37.150Z"
   },
   {
    "duration": 19,
    "start_time": "2022-10-25T14:18:37.197Z"
   },
   {
    "duration": 61,
    "start_time": "2022-10-25T14:18:37.217Z"
   },
   {
    "duration": 42,
    "start_time": "2022-10-25T14:18:37.280Z"
   },
   {
    "duration": 60,
    "start_time": "2022-10-25T14:18:37.323Z"
   },
   {
    "duration": 42,
    "start_time": "2022-10-25T14:18:37.385Z"
   },
   {
    "duration": 8,
    "start_time": "2022-10-25T14:22:10.014Z"
   },
   {
    "duration": 375,
    "start_time": "2022-10-25T14:22:44.645Z"
   },
   {
    "duration": 82,
    "start_time": "2022-10-25T14:22:45.022Z"
   },
   {
    "duration": 13,
    "start_time": "2022-10-25T14:22:45.105Z"
   },
   {
    "duration": 27,
    "start_time": "2022-10-25T14:22:45.120Z"
   },
   {
    "duration": 18,
    "start_time": "2022-10-25T14:22:45.149Z"
   },
   {
    "duration": 34,
    "start_time": "2022-10-25T14:22:45.169Z"
   },
   {
    "duration": 14,
    "start_time": "2022-10-25T14:22:45.204Z"
   },
   {
    "duration": 13,
    "start_time": "2022-10-25T14:22:45.220Z"
   },
   {
    "duration": 15,
    "start_time": "2022-10-25T14:22:45.234Z"
   },
   {
    "duration": 14,
    "start_time": "2022-10-25T14:22:45.250Z"
   },
   {
    "duration": 17,
    "start_time": "2022-10-25T14:22:45.265Z"
   },
   {
    "duration": 16,
    "start_time": "2022-10-25T14:22:45.285Z"
   },
   {
    "duration": 8,
    "start_time": "2022-10-25T14:22:45.302Z"
   },
   {
    "duration": 9,
    "start_time": "2022-10-25T14:22:45.312Z"
   },
   {
    "duration": 7,
    "start_time": "2022-10-25T14:22:45.322Z"
   },
   {
    "duration": 5,
    "start_time": "2022-10-25T14:22:45.331Z"
   },
   {
    "duration": 22,
    "start_time": "2022-10-25T14:22:45.337Z"
   },
   {
    "duration": 12,
    "start_time": "2022-10-25T14:22:45.360Z"
   },
   {
    "duration": 23,
    "start_time": "2022-10-25T14:22:45.373Z"
   },
   {
    "duration": 22,
    "start_time": "2022-10-25T14:22:45.397Z"
   },
   {
    "duration": 12,
    "start_time": "2022-10-25T14:22:45.420Z"
   },
   {
    "duration": 12,
    "start_time": "2022-10-25T14:22:45.433Z"
   },
   {
    "duration": 21,
    "start_time": "2022-10-25T14:22:45.446Z"
   },
   {
    "duration": 16,
    "start_time": "2022-10-25T14:22:45.468Z"
   },
   {
    "duration": 12,
    "start_time": "2022-10-25T14:22:45.486Z"
   },
   {
    "duration": 27,
    "start_time": "2022-10-25T14:22:45.500Z"
   },
   {
    "duration": 13,
    "start_time": "2022-10-25T14:22:45.529Z"
   },
   {
    "duration": 46,
    "start_time": "2022-10-25T14:22:45.543Z"
   },
   {
    "duration": 18,
    "start_time": "2022-10-25T14:22:45.591Z"
   },
   {
    "duration": 12,
    "start_time": "2022-10-25T14:22:45.610Z"
   },
   {
    "duration": 3,
    "start_time": "2022-10-25T14:22:45.624Z"
   },
   {
    "duration": 15,
    "start_time": "2022-10-25T14:22:45.628Z"
   },
   {
    "duration": 6,
    "start_time": "2022-10-25T14:22:45.644Z"
   },
   {
    "duration": 26,
    "start_time": "2022-10-25T14:22:45.651Z"
   },
   {
    "duration": 5,
    "start_time": "2022-10-25T14:22:45.678Z"
   },
   {
    "duration": 21,
    "start_time": "2022-10-25T14:22:45.684Z"
   },
   {
    "duration": 19,
    "start_time": "2022-10-25T14:22:45.706Z"
   },
   {
    "duration": 16,
    "start_time": "2022-10-25T14:22:45.726Z"
   },
   {
    "duration": 19,
    "start_time": "2022-10-25T14:22:45.744Z"
   },
   {
    "duration": 37,
    "start_time": "2022-10-25T14:22:45.777Z"
   },
   {
    "duration": 44,
    "start_time": "2022-10-25T14:22:45.817Z"
   },
   {
    "duration": 52,
    "start_time": "2022-10-25T14:22:45.862Z"
   },
   {
    "duration": 36,
    "start_time": "2022-10-25T14:22:45.916Z"
   },
   {
    "duration": 61,
    "start_time": "2022-10-25T14:32:42.415Z"
   },
   {
    "duration": 414,
    "start_time": "2022-10-25T14:32:50.184Z"
   },
   {
    "duration": 84,
    "start_time": "2022-10-25T14:32:50.601Z"
   },
   {
    "duration": 18,
    "start_time": "2022-10-25T14:32:50.687Z"
   },
   {
    "duration": 17,
    "start_time": "2022-10-25T14:32:50.708Z"
   },
   {
    "duration": 4,
    "start_time": "2022-10-25T14:32:50.726Z"
   },
   {
    "duration": 20,
    "start_time": "2022-10-25T14:32:50.731Z"
   },
   {
    "duration": 35,
    "start_time": "2022-10-25T14:32:50.753Z"
   },
   {
    "duration": 7,
    "start_time": "2022-10-25T14:32:50.790Z"
   },
   {
    "duration": 18,
    "start_time": "2022-10-25T14:32:50.799Z"
   },
   {
    "duration": 10,
    "start_time": "2022-10-25T14:32:50.820Z"
   },
   {
    "duration": 7,
    "start_time": "2022-10-25T14:32:50.831Z"
   },
   {
    "duration": 8,
    "start_time": "2022-10-25T14:32:50.839Z"
   },
   {
    "duration": 12,
    "start_time": "2022-10-25T14:32:50.848Z"
   },
   {
    "duration": 10,
    "start_time": "2022-10-25T14:32:50.877Z"
   },
   {
    "duration": 6,
    "start_time": "2022-10-25T14:32:50.888Z"
   },
   {
    "duration": 7,
    "start_time": "2022-10-25T14:32:50.895Z"
   },
   {
    "duration": 32,
    "start_time": "2022-10-25T14:32:50.903Z"
   },
   {
    "duration": 13,
    "start_time": "2022-10-25T14:32:50.937Z"
   },
   {
    "duration": 26,
    "start_time": "2022-10-25T14:32:50.952Z"
   },
   {
    "duration": 23,
    "start_time": "2022-10-25T14:32:50.980Z"
   },
   {
    "duration": 21,
    "start_time": "2022-10-25T14:32:51.005Z"
   },
   {
    "duration": 19,
    "start_time": "2022-10-25T14:32:51.028Z"
   },
   {
    "duration": 38,
    "start_time": "2022-10-25T14:32:51.049Z"
   },
   {
    "duration": 12,
    "start_time": "2022-10-25T14:32:51.088Z"
   },
   {
    "duration": 4,
    "start_time": "2022-10-25T14:32:51.102Z"
   },
   {
    "duration": 15,
    "start_time": "2022-10-25T14:32:51.107Z"
   },
   {
    "duration": 14,
    "start_time": "2022-10-25T14:32:51.124Z"
   },
   {
    "duration": 67,
    "start_time": "2022-10-25T14:32:51.141Z"
   },
   {
    "duration": 18,
    "start_time": "2022-10-25T14:32:51.209Z"
   },
   {
    "duration": 12,
    "start_time": "2022-10-25T14:32:51.229Z"
   },
   {
    "duration": 3,
    "start_time": "2022-10-25T14:32:51.243Z"
   },
   {
    "duration": 34,
    "start_time": "2022-10-25T14:32:51.247Z"
   },
   {
    "duration": 4,
    "start_time": "2022-10-25T14:32:51.282Z"
   },
   {
    "duration": 13,
    "start_time": "2022-10-25T14:32:51.287Z"
   },
   {
    "duration": 5,
    "start_time": "2022-10-25T14:32:51.301Z"
   },
   {
    "duration": 19,
    "start_time": "2022-10-25T14:32:51.307Z"
   },
   {
    "duration": 15,
    "start_time": "2022-10-25T14:32:51.328Z"
   },
   {
    "duration": 47,
    "start_time": "2022-10-25T14:32:51.344Z"
   },
   {
    "duration": 18,
    "start_time": "2022-10-25T14:32:51.393Z"
   },
   {
    "duration": 41,
    "start_time": "2022-10-25T14:32:51.412Z"
   },
   {
    "duration": 58,
    "start_time": "2022-10-25T14:32:51.455Z"
   },
   {
    "duration": 38,
    "start_time": "2022-10-25T14:32:51.514Z"
   },
   {
    "duration": 57,
    "start_time": "2022-10-25T14:32:51.553Z"
   },
   {
    "duration": 85,
    "start_time": "2022-10-25T18:15:05.208Z"
   },
   {
    "duration": 387,
    "start_time": "2022-10-25T18:15:09.980Z"
   },
   {
    "duration": 411,
    "start_time": "2022-10-25T18:15:10.369Z"
   },
   {
    "duration": 15,
    "start_time": "2022-10-25T18:15:10.782Z"
   },
   {
    "duration": 23,
    "start_time": "2022-10-25T18:15:10.799Z"
   },
   {
    "duration": 9,
    "start_time": "2022-10-25T18:15:10.825Z"
   },
   {
    "duration": 14,
    "start_time": "2022-10-25T18:15:10.835Z"
   },
   {
    "duration": 11,
    "start_time": "2022-10-25T18:15:10.851Z"
   },
   {
    "duration": 6,
    "start_time": "2022-10-25T18:15:10.864Z"
   },
   {
    "duration": 12,
    "start_time": "2022-10-25T18:15:10.871Z"
   },
   {
    "duration": 8,
    "start_time": "2022-10-25T18:15:10.884Z"
   },
   {
    "duration": 13,
    "start_time": "2022-10-25T18:15:10.912Z"
   },
   {
    "duration": 11,
    "start_time": "2022-10-25T18:15:10.927Z"
   },
   {
    "duration": 6,
    "start_time": "2022-10-25T18:15:10.940Z"
   },
   {
    "duration": 8,
    "start_time": "2022-10-25T18:15:10.949Z"
   },
   {
    "duration": 5,
    "start_time": "2022-10-25T18:15:10.958Z"
   },
   {
    "duration": 4,
    "start_time": "2022-10-25T18:15:10.964Z"
   },
   {
    "duration": 17,
    "start_time": "2022-10-25T18:15:10.969Z"
   },
   {
    "duration": 39,
    "start_time": "2022-10-25T18:15:10.987Z"
   },
   {
    "duration": 12,
    "start_time": "2022-10-25T18:15:11.029Z"
   },
   {
    "duration": 23,
    "start_time": "2022-10-25T18:15:11.043Z"
   },
   {
    "duration": 14,
    "start_time": "2022-10-25T18:15:11.067Z"
   },
   {
    "duration": 33,
    "start_time": "2022-10-25T18:15:11.082Z"
   },
   {
    "duration": 14,
    "start_time": "2022-10-25T18:15:11.117Z"
   },
   {
    "duration": 12,
    "start_time": "2022-10-25T18:15:11.132Z"
   },
   {
    "duration": 3,
    "start_time": "2022-10-25T18:15:11.146Z"
   },
   {
    "duration": 16,
    "start_time": "2022-10-25T18:15:11.151Z"
   },
   {
    "duration": 14,
    "start_time": "2022-10-25T18:15:11.168Z"
   },
   {
    "duration": 69,
    "start_time": "2022-10-25T18:15:11.183Z"
   },
   {
    "duration": 19,
    "start_time": "2022-10-25T18:15:11.253Z"
   },
   {
    "duration": 13,
    "start_time": "2022-10-25T18:15:11.274Z"
   },
   {
    "duration": 24,
    "start_time": "2022-10-25T18:15:11.288Z"
   },
   {
    "duration": 12,
    "start_time": "2022-10-25T18:15:11.321Z"
   },
   {
    "duration": 27,
    "start_time": "2022-10-25T18:15:11.335Z"
   },
   {
    "duration": 14,
    "start_time": "2022-10-25T18:15:11.364Z"
   },
   {
    "duration": 4,
    "start_time": "2022-10-25T18:15:11.380Z"
   },
   {
    "duration": 35,
    "start_time": "2022-10-25T18:15:11.386Z"
   },
   {
    "duration": 18,
    "start_time": "2022-10-25T18:15:11.422Z"
   },
   {
    "duration": 17,
    "start_time": "2022-10-25T18:15:11.442Z"
   },
   {
    "duration": 23,
    "start_time": "2022-10-25T18:15:11.461Z"
   },
   {
    "duration": 61,
    "start_time": "2022-10-25T18:15:11.486Z"
   },
   {
    "duration": 43,
    "start_time": "2022-10-25T18:15:11.550Z"
   },
   {
    "duration": 79,
    "start_time": "2022-10-25T18:15:11.595Z"
   },
   {
    "duration": 52,
    "start_time": "2022-10-25T18:15:11.677Z"
   },
   {
    "duration": 415,
    "start_time": "2022-10-25T18:20:47.284Z"
   },
   {
    "duration": 93,
    "start_time": "2022-10-25T18:20:47.702Z"
   },
   {
    "duration": 23,
    "start_time": "2022-10-25T18:20:47.797Z"
   },
   {
    "duration": 15,
    "start_time": "2022-10-25T18:20:47.822Z"
   },
   {
    "duration": 4,
    "start_time": "2022-10-25T18:20:47.838Z"
   },
   {
    "duration": 15,
    "start_time": "2022-10-25T18:20:47.843Z"
   },
   {
    "duration": 10,
    "start_time": "2022-10-25T18:20:47.860Z"
   },
   {
    "duration": 6,
    "start_time": "2022-10-25T18:20:47.871Z"
   },
   {
    "duration": 10,
    "start_time": "2022-10-25T18:20:47.879Z"
   },
   {
    "duration": 12,
    "start_time": "2022-10-25T18:20:47.912Z"
   },
   {
    "duration": 7,
    "start_time": "2022-10-25T18:20:47.926Z"
   },
   {
    "duration": 9,
    "start_time": "2022-10-25T18:20:47.935Z"
   },
   {
    "duration": 11,
    "start_time": "2022-10-25T18:20:47.945Z"
   },
   {
    "duration": 11,
    "start_time": "2022-10-25T18:20:47.958Z"
   },
   {
    "duration": 8,
    "start_time": "2022-10-25T18:20:47.970Z"
   },
   {
    "duration": 7,
    "start_time": "2022-10-25T18:20:47.979Z"
   },
   {
    "duration": 35,
    "start_time": "2022-10-25T18:20:47.987Z"
   },
   {
    "duration": 16,
    "start_time": "2022-10-25T18:20:48.024Z"
   },
   {
    "duration": 11,
    "start_time": "2022-10-25T18:20:48.041Z"
   },
   {
    "duration": 22,
    "start_time": "2022-10-25T18:20:48.053Z"
   },
   {
    "duration": 14,
    "start_time": "2022-10-25T18:20:48.077Z"
   },
   {
    "duration": 31,
    "start_time": "2022-10-25T18:20:48.093Z"
   },
   {
    "duration": 15,
    "start_time": "2022-10-25T18:20:48.126Z"
   },
   {
    "duration": 14,
    "start_time": "2022-10-25T18:20:48.142Z"
   },
   {
    "duration": 4,
    "start_time": "2022-10-25T18:20:48.158Z"
   },
   {
    "duration": 16,
    "start_time": "2022-10-25T18:20:48.163Z"
   },
   {
    "duration": 46,
    "start_time": "2022-10-25T18:20:48.181Z"
   },
   {
    "duration": 39,
    "start_time": "2022-10-25T18:20:48.230Z"
   },
   {
    "duration": 19,
    "start_time": "2022-10-25T18:20:48.271Z"
   },
   {
    "duration": 37,
    "start_time": "2022-10-25T18:20:48.292Z"
   },
   {
    "duration": 4,
    "start_time": "2022-10-25T18:20:48.331Z"
   },
   {
    "duration": 13,
    "start_time": "2022-10-25T18:20:48.336Z"
   },
   {
    "duration": 3,
    "start_time": "2022-10-25T18:20:48.351Z"
   },
   {
    "duration": 13,
    "start_time": "2022-10-25T18:20:48.356Z"
   },
   {
    "duration": 4,
    "start_time": "2022-10-25T18:20:48.371Z"
   },
   {
    "duration": 49,
    "start_time": "2022-10-25T18:20:48.376Z"
   },
   {
    "duration": 17,
    "start_time": "2022-10-25T18:20:48.427Z"
   },
   {
    "duration": 17,
    "start_time": "2022-10-25T18:20:48.445Z"
   },
   {
    "duration": 17,
    "start_time": "2022-10-25T18:20:48.463Z"
   },
   {
    "duration": 60,
    "start_time": "2022-10-25T18:20:48.482Z"
   },
   {
    "duration": 39,
    "start_time": "2022-10-25T18:20:48.543Z"
   },
   {
    "duration": 54,
    "start_time": "2022-10-25T18:20:48.584Z"
   },
   {
    "duration": 44,
    "start_time": "2022-10-25T18:20:48.640Z"
   },
   {
    "duration": 397,
    "start_time": "2022-10-25T18:28:13.585Z"
   },
   {
    "duration": 92,
    "start_time": "2022-10-25T18:28:13.983Z"
   },
   {
    "duration": 16,
    "start_time": "2022-10-25T18:28:14.077Z"
   },
   {
    "duration": 27,
    "start_time": "2022-10-25T18:28:14.095Z"
   },
   {
    "duration": 21,
    "start_time": "2022-10-25T18:28:14.123Z"
   },
   {
    "duration": 31,
    "start_time": "2022-10-25T18:28:14.145Z"
   },
   {
    "duration": 39,
    "start_time": "2022-10-25T18:28:14.177Z"
   },
   {
    "duration": 19,
    "start_time": "2022-10-25T18:28:14.218Z"
   },
   {
    "duration": 25,
    "start_time": "2022-10-25T18:28:14.239Z"
   },
   {
    "duration": 17,
    "start_time": "2022-10-25T18:28:14.266Z"
   },
   {
    "duration": 17,
    "start_time": "2022-10-25T18:28:14.284Z"
   },
   {
    "duration": 39,
    "start_time": "2022-10-25T18:28:14.303Z"
   },
   {
    "duration": 16,
    "start_time": "2022-10-25T18:28:14.343Z"
   },
   {
    "duration": 40,
    "start_time": "2022-10-25T18:28:14.360Z"
   },
   {
    "duration": 45,
    "start_time": "2022-10-25T18:28:14.403Z"
   },
   {
    "duration": 25,
    "start_time": "2022-10-25T18:28:14.450Z"
   },
   {
    "duration": 44,
    "start_time": "2022-10-25T18:28:14.477Z"
   },
   {
    "duration": 24,
    "start_time": "2022-10-25T18:28:14.522Z"
   },
   {
    "duration": 13,
    "start_time": "2022-10-25T18:28:14.548Z"
   },
   {
    "duration": 21,
    "start_time": "2022-10-25T18:28:14.563Z"
   },
   {
    "duration": 20,
    "start_time": "2022-10-25T18:28:14.585Z"
   },
   {
    "duration": 29,
    "start_time": "2022-10-25T18:28:14.606Z"
   },
   {
    "duration": 15,
    "start_time": "2022-10-25T18:28:14.636Z"
   },
   {
    "duration": 16,
    "start_time": "2022-10-25T18:28:14.652Z"
   },
   {
    "duration": 12,
    "start_time": "2022-10-25T18:28:14.669Z"
   },
   {
    "duration": 18,
    "start_time": "2022-10-25T18:28:14.683Z"
   },
   {
    "duration": 22,
    "start_time": "2022-10-25T18:28:14.702Z"
   },
   {
    "duration": 42,
    "start_time": "2022-10-25T18:28:14.728Z"
   },
   {
    "duration": 19,
    "start_time": "2022-10-25T18:28:14.772Z"
   },
   {
    "duration": 39,
    "start_time": "2022-10-25T18:28:14.793Z"
   },
   {
    "duration": 14,
    "start_time": "2022-10-25T18:28:14.834Z"
   },
   {
    "duration": 41,
    "start_time": "2022-10-25T18:28:14.849Z"
   },
   {
    "duration": 14,
    "start_time": "2022-10-25T18:28:14.892Z"
   },
   {
    "duration": 40,
    "start_time": "2022-10-25T18:28:14.908Z"
   },
   {
    "duration": 36,
    "start_time": "2022-10-25T18:28:14.950Z"
   },
   {
    "duration": 40,
    "start_time": "2022-10-25T18:28:14.988Z"
   },
   {
    "duration": 55,
    "start_time": "2022-10-25T18:28:15.030Z"
   },
   {
    "duration": 72,
    "start_time": "2022-10-25T18:28:15.087Z"
   },
   {
    "duration": 51,
    "start_time": "2022-10-25T18:28:15.160Z"
   },
   {
    "duration": 65,
    "start_time": "2022-10-25T18:28:15.213Z"
   },
   {
    "duration": 41,
    "start_time": "2022-10-25T18:28:15.280Z"
   },
   {
    "duration": 38,
    "start_time": "2022-10-25T18:28:15.323Z"
   },
   {
    "duration": 59,
    "start_time": "2022-10-25T18:28:15.362Z"
   },
   {
    "duration": 389,
    "start_time": "2022-10-26T08:19:57.046Z"
   },
   {
    "duration": 662,
    "start_time": "2022-10-26T08:19:57.437Z"
   },
   {
    "duration": 15,
    "start_time": "2022-10-26T08:19:58.100Z"
   },
   {
    "duration": 21,
    "start_time": "2022-10-26T08:19:58.116Z"
   },
   {
    "duration": 19,
    "start_time": "2022-10-26T08:19:58.139Z"
   },
   {
    "duration": 30,
    "start_time": "2022-10-26T08:19:58.159Z"
   },
   {
    "duration": 25,
    "start_time": "2022-10-26T08:19:58.191Z"
   },
   {
    "duration": 9,
    "start_time": "2022-10-26T08:19:58.217Z"
   },
   {
    "duration": 17,
    "start_time": "2022-10-26T08:19:58.227Z"
   },
   {
    "duration": 23,
    "start_time": "2022-10-26T08:19:58.246Z"
   },
   {
    "duration": 14,
    "start_time": "2022-10-26T08:19:58.271Z"
   },
   {
    "duration": 11,
    "start_time": "2022-10-26T08:19:58.286Z"
   },
   {
    "duration": 13,
    "start_time": "2022-10-26T08:19:58.298Z"
   },
   {
    "duration": 32,
    "start_time": "2022-10-26T08:19:58.314Z"
   },
   {
    "duration": 13,
    "start_time": "2022-10-26T08:19:58.347Z"
   },
   {
    "duration": 15,
    "start_time": "2022-10-26T08:19:58.361Z"
   },
   {
    "duration": 24,
    "start_time": "2022-10-26T08:19:58.377Z"
   },
   {
    "duration": 24,
    "start_time": "2022-10-26T08:19:58.403Z"
   },
   {
    "duration": 13,
    "start_time": "2022-10-26T08:19:58.429Z"
   },
   {
    "duration": 38,
    "start_time": "2022-10-26T08:19:58.444Z"
   },
   {
    "duration": 19,
    "start_time": "2022-10-26T08:19:58.483Z"
   },
   {
    "duration": 28,
    "start_time": "2022-10-26T08:19:58.503Z"
   },
   {
    "duration": 16,
    "start_time": "2022-10-26T08:19:58.533Z"
   },
   {
    "duration": 36,
    "start_time": "2022-10-26T08:19:58.550Z"
   },
   {
    "duration": 4,
    "start_time": "2022-10-26T08:19:58.587Z"
   },
   {
    "duration": 18,
    "start_time": "2022-10-26T08:19:58.593Z"
   },
   {
    "duration": 17,
    "start_time": "2022-10-26T08:19:58.613Z"
   },
   {
    "duration": 41,
    "start_time": "2022-10-26T08:19:58.631Z"
   },
   {
    "duration": 19,
    "start_time": "2022-10-26T08:19:58.673Z"
   },
   {
    "duration": 35,
    "start_time": "2022-10-26T08:19:58.694Z"
   },
   {
    "duration": 32,
    "start_time": "2022-10-26T08:19:58.731Z"
   },
   {
    "duration": 41,
    "start_time": "2022-10-26T08:19:58.765Z"
   },
   {
    "duration": 16,
    "start_time": "2022-10-26T08:19:58.808Z"
   },
   {
    "duration": 26,
    "start_time": "2022-10-26T08:19:58.825Z"
   },
   {
    "duration": 17,
    "start_time": "2022-10-26T08:19:58.852Z"
   },
   {
    "duration": 43,
    "start_time": "2022-10-26T08:19:58.871Z"
   },
   {
    "duration": 34,
    "start_time": "2022-10-26T08:19:58.916Z"
   },
   {
    "duration": 22,
    "start_time": "2022-10-26T08:19:58.952Z"
   },
   {
    "duration": 25,
    "start_time": "2022-10-26T08:19:58.976Z"
   },
   {
    "duration": 66,
    "start_time": "2022-10-26T08:19:59.004Z"
   },
   {
    "duration": 77,
    "start_time": "2022-10-26T08:19:59.073Z"
   },
   {
    "duration": 45,
    "start_time": "2022-10-26T08:19:59.152Z"
   },
   {
    "duration": 56,
    "start_time": "2022-10-26T08:19:59.199Z"
   }
  ],
  "celltoolbar": "Редактировать метаданные",
  "kernelspec": {
   "display_name": "Python 3 (ipykernel)",
   "language": "python",
   "name": "python3"
  },
  "language_info": {
   "codemirror_mode": {
    "name": "ipython",
    "version": 3
   },
   "file_extension": ".py",
   "mimetype": "text/x-python",
   "name": "python",
   "nbconvert_exporter": "python",
   "pygments_lexer": "ipython3",
   "version": "3.9.5"
  },
  "toc": {
   "base_numbering": 1,
   "nav_menu": {},
   "number_sections": true,
   "sideBar": true,
   "skip_h1_title": true,
   "title_cell": "Table of Contents",
   "title_sidebar": "Contents",
   "toc_cell": false,
   "toc_position": {
    "height": "calc(100% - 180px)",
    "left": "10px",
    "top": "150px",
    "width": "326.693px"
   },
   "toc_section_display": true,
   "toc_window_display": true
  }
 },
 "nbformat": 4,
 "nbformat_minor": 5
}
